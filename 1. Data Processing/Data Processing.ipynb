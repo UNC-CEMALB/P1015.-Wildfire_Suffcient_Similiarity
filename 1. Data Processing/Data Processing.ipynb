{
 "cells": [
  {
   "cell_type": "code",
   "execution_count": 1,
   "id": "dbfb736a-bc97-4a2f-96f6-553aa3c90c5b",
   "metadata": {},
   "outputs": [
    {
     "name": "stderr",
     "output_type": "stream",
     "text": [
      "── \u001b[1mAttaching core tidyverse packages\u001b[22m ──────────────────────── tidyverse 2.0.0 ──\n",
      "\u001b[32m✔\u001b[39m \u001b[34mdplyr    \u001b[39m 1.1.3     \u001b[32m✔\u001b[39m \u001b[34mreadr    \u001b[39m 2.1.4\n",
      "\u001b[32m✔\u001b[39m \u001b[34mforcats  \u001b[39m 1.0.0     \u001b[32m✔\u001b[39m \u001b[34mstringr  \u001b[39m 1.5.0\n",
      "\u001b[32m✔\u001b[39m \u001b[34mggplot2  \u001b[39m 3.4.3     \u001b[32m✔\u001b[39m \u001b[34mtibble   \u001b[39m 3.2.1\n",
      "\u001b[32m✔\u001b[39m \u001b[34mlubridate\u001b[39m 1.9.2     \u001b[32m✔\u001b[39m \u001b[34mtidyr    \u001b[39m 1.3.0\n",
      "\u001b[32m✔\u001b[39m \u001b[34mpurrr    \u001b[39m 1.0.2     \n",
      "── \u001b[1mConflicts\u001b[22m ────────────────────────────────────────── tidyverse_conflicts() ──\n",
      "\u001b[31m✖\u001b[39m \u001b[34mdplyr\u001b[39m::\u001b[32mfilter()\u001b[39m masks \u001b[34mstats\u001b[39m::filter()\n",
      "\u001b[31m✖\u001b[39m \u001b[34mdplyr\u001b[39m::\u001b[32mlag()\u001b[39m    masks \u001b[34mstats\u001b[39m::lag()\n",
      "\u001b[36mℹ\u001b[39m Use the conflicted package (\u001b[3m\u001b[34m<http://conflicted.r-lib.org/>\u001b[39m\u001b[23m) to force all conflicts to become errors\n",
      "Loading required package: tmvtnorm\n",
      "\n",
      "Loading required package: mvtnorm\n",
      "\n",
      "Loading required package: Matrix\n",
      "\n",
      "\n",
      "Attaching package: ‘Matrix’\n",
      "\n",
      "\n",
      "The following objects are masked from ‘package:tidyr’:\n",
      "\n",
      "    expand, pack, unpack\n",
      "\n",
      "\n",
      "Loading required package: stats4\n",
      "\n",
      "Loading required package: gmm\n",
      "\n",
      "Loading required package: sandwich\n",
      "\n",
      "Loading required package: norm\n",
      "\n",
      "This package has some major limitations\n",
      "(for example, it does not work reliably when\n",
      "the number of variables exceeds 30),\n",
      "and has been superseded by the norm2 package.\n",
      "\n",
      "Loading required package: pcaMethods\n",
      "\n",
      "Loading required package: Biobase\n",
      "\n",
      "Loading required package: BiocGenerics\n",
      "\n",
      "\n",
      "Attaching package: ‘BiocGenerics’\n",
      "\n",
      "\n",
      "The following objects are masked from ‘package:lubridate’:\n",
      "\n",
      "    intersect, setdiff, union\n",
      "\n",
      "\n",
      "The following objects are masked from ‘package:dplyr’:\n",
      "\n",
      "    combine, intersect, setdiff, union\n",
      "\n",
      "\n",
      "The following objects are masked from ‘package:stats’:\n",
      "\n",
      "    IQR, mad, sd, var, xtabs\n",
      "\n",
      "\n",
      "The following objects are masked from ‘package:base’:\n",
      "\n",
      "    anyDuplicated, aperm, append, as.data.frame, basename, cbind,\n",
      "    colnames, dirname, do.call, duplicated, eval, evalq, Filter, Find,\n",
      "    get, grep, grepl, intersect, is.unsorted, lapply, Map, mapply,\n",
      "    match, mget, order, paste, pmax, pmax.int, pmin, pmin.int,\n",
      "    Position, rank, rbind, Reduce, rownames, sapply, setdiff, sort,\n",
      "    table, tapply, union, unique, unsplit, which.max, which.min\n",
      "\n",
      "\n",
      "Welcome to Bioconductor\n",
      "\n",
      "    Vignettes contain introductory material; view with\n",
      "    'browseVignettes()'. To cite Bioconductor, see\n",
      "    'citation(\"Biobase\")', and for packages 'citation(\"pkgname\")'.\n",
      "\n",
      "\n",
      "\n",
      "Attaching package: ‘pcaMethods’\n",
      "\n",
      "\n",
      "The following object is masked from ‘package:stats’:\n",
      "\n",
      "    loadings\n",
      "\n",
      "\n",
      "Loading required package: impute\n",
      "\n",
      "Welcome! Want to learn more? See two factoextra-related books at https://goo.gl/ve3WBa\n",
      "\n"
     ]
    }
   ],
   "source": [
    "Output = '/Users/alexis/Library/CloudStorage/OneDrive-UniversityofNorthCarolinaatChapelHill/CEMALB_DataAnalysisPM/Projects/P1015. Fire Sufficient Similarity/P1015.3. Analyses/P1015.3.2. Data Processing/Output'\n",
    "cur_date = '040925'\n",
    "\n",
    "library(missForest)\n",
    "library(readxl)\n",
    "library(openxlsx)\n",
    "library(tidyverse)\n",
    "library(imputeLCMD)\n",
    "library(factoextra)\n",
    "\n",
    "# reading in files\n",
    "ws_df = data.frame(Data = 'WS', read_excel(\"Input/Woodsmoke_Data_012825.xlsx\", sheet = 2)) %>%\n",
    "    select(-Sample_Number)\n",
    "wf_df = data.frame(Data = 'WF', read_excel(\"Input/Wildfire_Data_012825.xlsx\", sheet = 2)) %>%\n",
    "    select(-Sample_Number)\n",
    "control_df = data.frame(read_excel(\"Input/Control_Data_032825.xlsx\", sheet = 2))  %>%\n",
    "    select(-Sample_Number)"
   ]
  },
  {
   "cell_type": "code",
   "execution_count": 2,
   "id": "73a7d5c4-8e2a-4ab5-b13b-046bc35d412e",
   "metadata": {},
   "outputs": [
    {
     "data": {
      "text/html": [
       "<table class=\"dataframe\">\n",
       "<caption>A data.frame: 6 × 9</caption>\n",
       "<thead>\n",
       "\t<tr><th></th><th scope=col>Data</th><th scope=col>HAWC_ID</th><th scope=col>Study</th><th scope=col>Replicate</th><th scope=col>Class</th><th scope=col>Metric</th><th scope=col>DTXSID</th><th scope=col>Name</th><th scope=col>Value</th></tr>\n",
       "\t<tr><th></th><th scope=col>&lt;chr&gt;</th><th scope=col>&lt;dbl&gt;</th><th scope=col>&lt;chr&gt;</th><th scope=col>&lt;dbl&gt;</th><th scope=col>&lt;chr&gt;</th><th scope=col>&lt;chr&gt;</th><th scope=col>&lt;chr&gt;</th><th scope=col>&lt;chr&gt;</th><th scope=col>&lt;chr&gt;</th></tr>\n",
       "</thead>\n",
       "<tbody>\n",
       "\t<tr><th scope=row>1</th><td>WS</td><td> 821855</td><td>Erlandsson et al. 2020  </td><td> 1</td><td>PAH</td><td>Weight</td><td>DTXSID3074787</td><td>1-Methylanthracene</td><td>11.3              </td></tr>\n",
       "\t<tr><th scope=row>2</th><td>WS</td><td> 821855</td><td>Erlandsson et al. 2020  </td><td> 1</td><td>PAH</td><td>Weight</td><td>DTXSID3074787</td><td>1-Methylanthracene</td><td>2.2999999999999998</td></tr>\n",
       "\t<tr><th scope=row>3</th><td>WS</td><td>1257056</td><td>McCarrick et al. 2024   </td><td> 1</td><td>PAH</td><td>Weight</td><td>DTXSID3074787</td><td>1-Methylanthracene</td><td>1.66              </td></tr>\n",
       "\t<tr><th scope=row>4</th><td>WS</td><td> 267140</td><td>Alfheim and Ramdahl 1984</td><td> 1</td><td>PAH</td><td>Volume</td><td>DTXSID3074787</td><td>1-Methylanthracene</td><td>NA                </td></tr>\n",
       "\t<tr><th scope=row>5</th><td>WS</td><td>1263480</td><td>Burnet et al. 1990      </td><td> 1</td><td>PAH</td><td>Volume</td><td>DTXSID3074787</td><td>1-Methylanthracene</td><td>NA                </td></tr>\n",
       "\t<tr><th scope=row>6</th><td>WS</td><td>1263480</td><td>Burnet et al. 1990      </td><td>NA</td><td>PAH</td><td>Volume</td><td>DTXSID3074787</td><td>1-Methylanthracene</td><td>NA                </td></tr>\n",
       "</tbody>\n",
       "</table>\n"
      ],
      "text/latex": [
       "A data.frame: 6 × 9\n",
       "\\begin{tabular}{r|lllllllll}\n",
       "  & Data & HAWC\\_ID & Study & Replicate & Class & Metric & DTXSID & Name & Value\\\\\n",
       "  & <chr> & <dbl> & <chr> & <dbl> & <chr> & <chr> & <chr> & <chr> & <chr>\\\\\n",
       "\\hline\n",
       "\t1 & WS &  821855 & Erlandsson et al. 2020   &  1 & PAH & Weight & DTXSID3074787 & 1-Methylanthracene & 11.3              \\\\\n",
       "\t2 & WS &  821855 & Erlandsson et al. 2020   &  1 & PAH & Weight & DTXSID3074787 & 1-Methylanthracene & 2.2999999999999998\\\\\n",
       "\t3 & WS & 1257056 & McCarrick et al. 2024    &  1 & PAH & Weight & DTXSID3074787 & 1-Methylanthracene & 1.66              \\\\\n",
       "\t4 & WS &  267140 & Alfheim and Ramdahl 1984 &  1 & PAH & Volume & DTXSID3074787 & 1-Methylanthracene & NA                \\\\\n",
       "\t5 & WS & 1263480 & Burnet et al. 1990       &  1 & PAH & Volume & DTXSID3074787 & 1-Methylanthracene & NA                \\\\\n",
       "\t6 & WS & 1263480 & Burnet et al. 1990       & NA & PAH & Volume & DTXSID3074787 & 1-Methylanthracene & NA                \\\\\n",
       "\\end{tabular}\n"
      ],
      "text/markdown": [
       "\n",
       "A data.frame: 6 × 9\n",
       "\n",
       "| <!--/--> | Data &lt;chr&gt; | HAWC_ID &lt;dbl&gt; | Study &lt;chr&gt; | Replicate &lt;dbl&gt; | Class &lt;chr&gt; | Metric &lt;chr&gt; | DTXSID &lt;chr&gt; | Name &lt;chr&gt; | Value &lt;chr&gt; |\n",
       "|---|---|---|---|---|---|---|---|---|---|\n",
       "| 1 | WS |  821855 | Erlandsson et al. 2020   |  1 | PAH | Weight | DTXSID3074787 | 1-Methylanthracene | 11.3               |\n",
       "| 2 | WS |  821855 | Erlandsson et al. 2020   |  1 | PAH | Weight | DTXSID3074787 | 1-Methylanthracene | 2.2999999999999998 |\n",
       "| 3 | WS | 1257056 | McCarrick et al. 2024    |  1 | PAH | Weight | DTXSID3074787 | 1-Methylanthracene | 1.66               |\n",
       "| 4 | WS |  267140 | Alfheim and Ramdahl 1984 |  1 | PAH | Volume | DTXSID3074787 | 1-Methylanthracene | NA                 |\n",
       "| 5 | WS | 1263480 | Burnet et al. 1990       |  1 | PAH | Volume | DTXSID3074787 | 1-Methylanthracene | NA                 |\n",
       "| 6 | WS | 1263480 | Burnet et al. 1990       | NA | PAH | Volume | DTXSID3074787 | 1-Methylanthracene | NA                 |\n",
       "\n"
      ],
      "text/plain": [
       "  Data HAWC_ID Study                    Replicate Class Metric DTXSID       \n",
       "1 WS    821855 Erlandsson et al. 2020    1        PAH   Weight DTXSID3074787\n",
       "2 WS    821855 Erlandsson et al. 2020    1        PAH   Weight DTXSID3074787\n",
       "3 WS   1257056 McCarrick et al. 2024     1        PAH   Weight DTXSID3074787\n",
       "4 WS    267140 Alfheim and Ramdahl 1984  1        PAH   Volume DTXSID3074787\n",
       "5 WS   1263480 Burnet et al. 1990        1        PAH   Volume DTXSID3074787\n",
       "6 WS   1263480 Burnet et al. 1990       NA        PAH   Volume DTXSID3074787\n",
       "  Name               Value             \n",
       "1 1-Methylanthracene 11.3              \n",
       "2 1-Methylanthracene 2.2999999999999998\n",
       "3 1-Methylanthracene 1.66              \n",
       "4 1-Methylanthracene NA                \n",
       "5 1-Methylanthracene NA                \n",
       "6 1-Methylanthracene NA                "
      ]
     },
     "metadata": {},
     "output_type": "display_data"
    },
    {
     "data": {
      "text/html": [
       "<table class=\"dataframe\">\n",
       "<caption>A data.frame: 6 × 9</caption>\n",
       "<thead>\n",
       "\t<tr><th></th><th scope=col>Data</th><th scope=col>HAWC_ID</th><th scope=col>Study</th><th scope=col>Replicate</th><th scope=col>Class</th><th scope=col>Metric</th><th scope=col>DTXSID</th><th scope=col>Name</th><th scope=col>Value</th></tr>\n",
       "\t<tr><th></th><th scope=col>&lt;chr&gt;</th><th scope=col>&lt;dbl&gt;</th><th scope=col>&lt;chr&gt;</th><th scope=col>&lt;dbl&gt;</th><th scope=col>&lt;chr&gt;</th><th scope=col>&lt;chr&gt;</th><th scope=col>&lt;chr&gt;</th><th scope=col>&lt;chr&gt;</th><th scope=col>&lt;chr&gt;</th></tr>\n",
       "</thead>\n",
       "<tbody>\n",
       "\t<tr><th scope=row>1</th><td>WF</td><td>1289821</td><td>Liang et al. 2021   </td><td> 1</td><td>PAH</td><td>Volume</td><td>NA            </td><td>1-(10-methylanthracen-9-yl)ethanone</td><td>5 </td></tr>\n",
       "\t<tr><th scope=row>2</th><td>WF</td><td>1289821</td><td>Liang et al. 2021   </td><td> 1</td><td>PAH</td><td>Volume</td><td>DTXSID50176885</td><td>1-Acenaphthenone                   </td><td>1 </td></tr>\n",
       "\t<tr><th scope=row>3</th><td>WF</td><td>1289737</td><td>Campbell et al. 2024</td><td> 1</td><td>PAH</td><td>Weight</td><td>DTXSID1074759 </td><td>1-Methylchrysene                   </td><td>NA</td></tr>\n",
       "\t<tr><th scope=row>4</th><td>WF</td><td>1289739</td><td>Campos et al. 2019  </td><td> 1</td><td>PAH</td><td>Weight</td><td>DTXSID1074759 </td><td>1-Methylchrysene                   </td><td>NA</td></tr>\n",
       "\t<tr><th scope=row>5</th><td>WF</td><td>1289739</td><td>Campos et al. 2019  </td><td>NA</td><td>PAH</td><td>Weight</td><td>DTXSID1074759 </td><td>1-Methylchrysene                   </td><td>NA</td></tr>\n",
       "\t<tr><th scope=row>6</th><td>WF</td><td>1289739</td><td>Campos et al. 2019  </td><td>NA</td><td>PAH</td><td>Weight</td><td>DTXSID1074759 </td><td>1-Methylchrysene                   </td><td>NA</td></tr>\n",
       "</tbody>\n",
       "</table>\n"
      ],
      "text/latex": [
       "A data.frame: 6 × 9\n",
       "\\begin{tabular}{r|lllllllll}\n",
       "  & Data & HAWC\\_ID & Study & Replicate & Class & Metric & DTXSID & Name & Value\\\\\n",
       "  & <chr> & <dbl> & <chr> & <dbl> & <chr> & <chr> & <chr> & <chr> & <chr>\\\\\n",
       "\\hline\n",
       "\t1 & WF & 1289821 & Liang et al. 2021    &  1 & PAH & Volume & NA             & 1-(10-methylanthracen-9-yl)ethanone & 5 \\\\\n",
       "\t2 & WF & 1289821 & Liang et al. 2021    &  1 & PAH & Volume & DTXSID50176885 & 1-Acenaphthenone                    & 1 \\\\\n",
       "\t3 & WF & 1289737 & Campbell et al. 2024 &  1 & PAH & Weight & DTXSID1074759  & 1-Methylchrysene                    & NA\\\\\n",
       "\t4 & WF & 1289739 & Campos et al. 2019   &  1 & PAH & Weight & DTXSID1074759  & 1-Methylchrysene                    & NA\\\\\n",
       "\t5 & WF & 1289739 & Campos et al. 2019   & NA & PAH & Weight & DTXSID1074759  & 1-Methylchrysene                    & NA\\\\\n",
       "\t6 & WF & 1289739 & Campos et al. 2019   & NA & PAH & Weight & DTXSID1074759  & 1-Methylchrysene                    & NA\\\\\n",
       "\\end{tabular}\n"
      ],
      "text/markdown": [
       "\n",
       "A data.frame: 6 × 9\n",
       "\n",
       "| <!--/--> | Data &lt;chr&gt; | HAWC_ID &lt;dbl&gt; | Study &lt;chr&gt; | Replicate &lt;dbl&gt; | Class &lt;chr&gt; | Metric &lt;chr&gt; | DTXSID &lt;chr&gt; | Name &lt;chr&gt; | Value &lt;chr&gt; |\n",
       "|---|---|---|---|---|---|---|---|---|---|\n",
       "| 1 | WF | 1289821 | Liang et al. 2021    |  1 | PAH | Volume | NA             | 1-(10-methylanthracen-9-yl)ethanone | 5  |\n",
       "| 2 | WF | 1289821 | Liang et al. 2021    |  1 | PAH | Volume | DTXSID50176885 | 1-Acenaphthenone                    | 1  |\n",
       "| 3 | WF | 1289737 | Campbell et al. 2024 |  1 | PAH | Weight | DTXSID1074759  | 1-Methylchrysene                    | NA |\n",
       "| 4 | WF | 1289739 | Campos et al. 2019   |  1 | PAH | Weight | DTXSID1074759  | 1-Methylchrysene                    | NA |\n",
       "| 5 | WF | 1289739 | Campos et al. 2019   | NA | PAH | Weight | DTXSID1074759  | 1-Methylchrysene                    | NA |\n",
       "| 6 | WF | 1289739 | Campos et al. 2019   | NA | PAH | Weight | DTXSID1074759  | 1-Methylchrysene                    | NA |\n",
       "\n"
      ],
      "text/plain": [
       "  Data HAWC_ID Study                Replicate Class Metric DTXSID        \n",
       "1 WF   1289821 Liang et al. 2021     1        PAH   Volume NA            \n",
       "2 WF   1289821 Liang et al. 2021     1        PAH   Volume DTXSID50176885\n",
       "3 WF   1289737 Campbell et al. 2024  1        PAH   Weight DTXSID1074759 \n",
       "4 WF   1289739 Campos et al. 2019    1        PAH   Weight DTXSID1074759 \n",
       "5 WF   1289739 Campos et al. 2019   NA        PAH   Weight DTXSID1074759 \n",
       "6 WF   1289739 Campos et al. 2019   NA        PAH   Weight DTXSID1074759 \n",
       "  Name                                Value\n",
       "1 1-(10-methylanthracen-9-yl)ethanone 5    \n",
       "2 1-Acenaphthenone                    1    \n",
       "3 1-Methylchrysene                    NA   \n",
       "4 1-Methylchrysene                    NA   \n",
       "5 1-Methylchrysene                    NA   \n",
       "6 1-Methylchrysene                    NA   "
      ]
     },
     "metadata": {},
     "output_type": "display_data"
    },
    {
     "data": {
      "text/html": [
       "<table class=\"dataframe\">\n",
       "<caption>A data.frame: 6 × 9</caption>\n",
       "<thead>\n",
       "\t<tr><th></th><th scope=col>Data</th><th scope=col>HAWC_ID</th><th scope=col>Study</th><th scope=col>Replicate</th><th scope=col>Class</th><th scope=col>Metric</th><th scope=col>DTXSID</th><th scope=col>Name</th><th scope=col>Value</th></tr>\n",
       "\t<tr><th></th><th scope=col>&lt;chr&gt;</th><th scope=col>&lt;chr&gt;</th><th scope=col>&lt;chr&gt;</th><th scope=col>&lt;dbl&gt;</th><th scope=col>&lt;chr&gt;</th><th scope=col>&lt;chr&gt;</th><th scope=col>&lt;chr&gt;</th><th scope=col>&lt;chr&gt;</th><th scope=col>&lt;chr&gt;</th></tr>\n",
       "</thead>\n",
       "<tbody>\n",
       "\t<tr><th scope=row>1</th><td>TRAP</td><td>1298357</td><td>Lee at al. 1995</td><td>1</td><td>PAH</td><td>Weight</td><td>DTXSID3021774 </td><td>Acenaphthene        </td><td>71.17  </td></tr>\n",
       "\t<tr><th scope=row>2</th><td>TRAP</td><td>1298357</td><td>Lee at al. 1995</td><td>1</td><td>PAH</td><td>Weight</td><td>DTXSID3023845 </td><td>Acenaphthylene      </td><td>19.63  </td></tr>\n",
       "\t<tr><th scope=row>3</th><td>TRAP</td><td>1298357</td><td>Lee at al. 1995</td><td>1</td><td>PAH</td><td>Weight</td><td>DTXSID5023902 </td><td>Benzo(a)anthracene  </td><td>333.74 </td></tr>\n",
       "\t<tr><th scope=row>4</th><td>TRAP</td><td>1298357</td><td>Lee at al. 1995</td><td>1</td><td>PAH</td><td>Weight</td><td>DTXSID2020139 </td><td>Benzo(a)pyrene      </td><td>1526.38</td></tr>\n",
       "\t<tr><th scope=row>5</th><td>TRAP</td><td>1298357</td><td>Lee at al. 1995</td><td>1</td><td>PAH</td><td>Weight</td><td>DTXSID80175664</td><td>Benzo[b]chrysene    </td><td>988.96 </td></tr>\n",
       "\t<tr><th scope=row>6</th><td>TRAP</td><td>1298357</td><td>Lee at al. 1995</td><td>1</td><td>PAH</td><td>Weight</td><td>DTXSID0023907 </td><td>Benzo(b)fluoranthene</td><td>1334.97</td></tr>\n",
       "</tbody>\n",
       "</table>\n"
      ],
      "text/latex": [
       "A data.frame: 6 × 9\n",
       "\\begin{tabular}{r|lllllllll}\n",
       "  & Data & HAWC\\_ID & Study & Replicate & Class & Metric & DTXSID & Name & Value\\\\\n",
       "  & <chr> & <chr> & <chr> & <dbl> & <chr> & <chr> & <chr> & <chr> & <chr>\\\\\n",
       "\\hline\n",
       "\t1 & TRAP & 1298357 & Lee at al. 1995 & 1 & PAH & Weight & DTXSID3021774  & Acenaphthene         & 71.17  \\\\\n",
       "\t2 & TRAP & 1298357 & Lee at al. 1995 & 1 & PAH & Weight & DTXSID3023845  & Acenaphthylene       & 19.63  \\\\\n",
       "\t3 & TRAP & 1298357 & Lee at al. 1995 & 1 & PAH & Weight & DTXSID5023902  & Benzo(a)anthracene   & 333.74 \\\\\n",
       "\t4 & TRAP & 1298357 & Lee at al. 1995 & 1 & PAH & Weight & DTXSID2020139  & Benzo(a)pyrene       & 1526.38\\\\\n",
       "\t5 & TRAP & 1298357 & Lee at al. 1995 & 1 & PAH & Weight & DTXSID80175664 & Benzo{[}b{]}chrysene     & 988.96 \\\\\n",
       "\t6 & TRAP & 1298357 & Lee at al. 1995 & 1 & PAH & Weight & DTXSID0023907  & Benzo(b)fluoranthene & 1334.97\\\\\n",
       "\\end{tabular}\n"
      ],
      "text/markdown": [
       "\n",
       "A data.frame: 6 × 9\n",
       "\n",
       "| <!--/--> | Data &lt;chr&gt; | HAWC_ID &lt;chr&gt; | Study &lt;chr&gt; | Replicate &lt;dbl&gt; | Class &lt;chr&gt; | Metric &lt;chr&gt; | DTXSID &lt;chr&gt; | Name &lt;chr&gt; | Value &lt;chr&gt; |\n",
       "|---|---|---|---|---|---|---|---|---|---|\n",
       "| 1 | TRAP | 1298357 | Lee at al. 1995 | 1 | PAH | Weight | DTXSID3021774  | Acenaphthene         | 71.17   |\n",
       "| 2 | TRAP | 1298357 | Lee at al. 1995 | 1 | PAH | Weight | DTXSID3023845  | Acenaphthylene       | 19.63   |\n",
       "| 3 | TRAP | 1298357 | Lee at al. 1995 | 1 | PAH | Weight | DTXSID5023902  | Benzo(a)anthracene   | 333.74  |\n",
       "| 4 | TRAP | 1298357 | Lee at al. 1995 | 1 | PAH | Weight | DTXSID2020139  | Benzo(a)pyrene       | 1526.38 |\n",
       "| 5 | TRAP | 1298357 | Lee at al. 1995 | 1 | PAH | Weight | DTXSID80175664 | Benzo[b]chrysene     | 988.96  |\n",
       "| 6 | TRAP | 1298357 | Lee at al. 1995 | 1 | PAH | Weight | DTXSID0023907  | Benzo(b)fluoranthene | 1334.97 |\n",
       "\n"
      ],
      "text/plain": [
       "  Data HAWC_ID Study           Replicate Class Metric DTXSID        \n",
       "1 TRAP 1298357 Lee at al. 1995 1         PAH   Weight DTXSID3021774 \n",
       "2 TRAP 1298357 Lee at al. 1995 1         PAH   Weight DTXSID3023845 \n",
       "3 TRAP 1298357 Lee at al. 1995 1         PAH   Weight DTXSID5023902 \n",
       "4 TRAP 1298357 Lee at al. 1995 1         PAH   Weight DTXSID2020139 \n",
       "5 TRAP 1298357 Lee at al. 1995 1         PAH   Weight DTXSID80175664\n",
       "6 TRAP 1298357 Lee at al. 1995 1         PAH   Weight DTXSID0023907 \n",
       "  Name                 Value  \n",
       "1 Acenaphthene         71.17  \n",
       "2 Acenaphthylene       19.63  \n",
       "3 Benzo(a)anthracene   333.74 \n",
       "4 Benzo(a)pyrene       1526.38\n",
       "5 Benzo[b]chrysene     988.96 \n",
       "6 Benzo(b)fluoranthene 1334.97"
      ]
     },
     "metadata": {},
     "output_type": "display_data"
    }
   ],
   "source": [
    "head(ws_df)\n",
    "head(wf_df)\n",
    "head(control_df)"
   ]
  },
  {
   "cell_type": "code",
   "execution_count": 3,
   "id": "3d546e8e-5cdf-4386-b29b-2ac2938366f9",
   "metadata": {},
   "outputs": [
    {
     "data": {
      "text/html": [
       "<style>\n",
       ".list-inline {list-style: none; margin:0; padding: 0}\n",
       ".list-inline>li {display: inline-block}\n",
       ".list-inline>li:not(:last-child)::after {content: \"\\00b7\"; padding: 0 .5ex}\n",
       "</style>\n",
       "<ol class=list-inline><li>6607</li><li>9</li></ol>\n"
      ],
      "text/latex": [
       "\\begin{enumerate*}\n",
       "\\item 6607\n",
       "\\item 9\n",
       "\\end{enumerate*}\n"
      ],
      "text/markdown": [
       "1. 6607\n",
       "2. 9\n",
       "\n",
       "\n"
      ],
      "text/plain": [
       "[1] 6607    9"
      ]
     },
     "metadata": {},
     "output_type": "display_data"
    },
    {
     "data": {
      "text/html": [
       "<style>\n",
       ".list-inline {list-style: none; margin:0; padding: 0}\n",
       ".list-inline>li {display: inline-block}\n",
       ".list-inline>li:not(:last-child)::after {content: \"\\00b7\"; padding: 0 .5ex}\n",
       "</style>\n",
       "<ol class=list-inline><li>4340</li><li>9</li></ol>\n"
      ],
      "text/latex": [
       "\\begin{enumerate*}\n",
       "\\item 4340\n",
       "\\item 9\n",
       "\\end{enumerate*}\n"
      ],
      "text/markdown": [
       "1. 4340\n",
       "2. 9\n",
       "\n",
       "\n"
      ],
      "text/plain": [
       "[1] 4340    9"
      ]
     },
     "metadata": {},
     "output_type": "display_data"
    },
    {
     "data": {
      "text/html": [
       "<style>\n",
       ".list-inline {list-style: none; margin:0; padding: 0}\n",
       ".list-inline>li {display: inline-block}\n",
       ".list-inline>li:not(:last-child)::after {content: \"\\00b7\"; padding: 0 .5ex}\n",
       "</style>\n",
       "<ol class=list-inline><li>1244</li><li>9</li></ol>\n"
      ],
      "text/latex": [
       "\\begin{enumerate*}\n",
       "\\item 1244\n",
       "\\item 9\n",
       "\\end{enumerate*}\n"
      ],
      "text/markdown": [
       "1. 1244\n",
       "2. 9\n",
       "\n",
       "\n"
      ],
      "text/plain": [
       "[1] 1244    9"
      ]
     },
     "metadata": {},
     "output_type": "display_data"
    }
   ],
   "source": [
    "dim(ws_df)\n",
    "dim(wf_df)\n",
    "dim(control_df)"
   ]
  },
  {
   "cell_type": "markdown",
   "id": "417a92fb-0524-4038-a5ea-08a56f02a955",
   "metadata": {},
   "source": [
    "# Filter #1\n",
    "\n",
    "Removing duplicate records for instances that weren't measured at all (MAR). "
   ]
  },
  {
   "cell_type": "code",
   "execution_count": 4,
   "id": "9eefd1e4-96f4-48a6-933c-9486ab447115",
   "metadata": {
    "scrolled": true
   },
   "outputs": [],
   "source": [
    "`%notin%` <- Negate(`%in%`)\n",
    "\n",
    "ws_df = ws_df %>%\n",
    "    filter(Replicate %notin% NA)\n",
    "wf_df = wf_df %>%\n",
    "    filter(Replicate %notin% NA)\n",
    "control_df = control_df %>%\n",
    "    filter(Replicate %notin% NA)"
   ]
  },
  {
   "cell_type": "code",
   "execution_count": 5,
   "id": "1425c2d3-c1cd-4626-974d-492e320d724e",
   "metadata": {
    "scrolled": true
   },
   "outputs": [
    {
     "data": {
      "text/html": [
       "<style>\n",
       ".list-inline {list-style: none; margin:0; padding: 0}\n",
       ".list-inline>li {display: inline-block}\n",
       ".list-inline>li:not(:last-child)::after {content: \"\\00b7\"; padding: 0 .5ex}\n",
       "</style>\n",
       "<ol class=list-inline><li>4203</li><li>9</li></ol>\n"
      ],
      "text/latex": [
       "\\begin{enumerate*}\n",
       "\\item 4203\n",
       "\\item 9\n",
       "\\end{enumerate*}\n"
      ],
      "text/markdown": [
       "1. 4203\n",
       "2. 9\n",
       "\n",
       "\n"
      ],
      "text/plain": [
       "[1] 4203    9"
      ]
     },
     "metadata": {},
     "output_type": "display_data"
    },
    {
     "data": {
      "text/html": [
       "<style>\n",
       ".list-inline {list-style: none; margin:0; padding: 0}\n",
       ".list-inline>li {display: inline-block}\n",
       ".list-inline>li:not(:last-child)::after {content: \"\\00b7\"; padding: 0 .5ex}\n",
       "</style>\n",
       "<ol class=list-inline><li>2378</li><li>9</li></ol>\n"
      ],
      "text/latex": [
       "\\begin{enumerate*}\n",
       "\\item 2378\n",
       "\\item 9\n",
       "\\end{enumerate*}\n"
      ],
      "text/markdown": [
       "1. 2378\n",
       "2. 9\n",
       "\n",
       "\n"
      ],
      "text/plain": [
       "[1] 2378    9"
      ]
     },
     "metadata": {},
     "output_type": "display_data"
    },
    {
     "data": {
      "text/html": [
       "<style>\n",
       ".list-inline {list-style: none; margin:0; padding: 0}\n",
       ".list-inline>li {display: inline-block}\n",
       ".list-inline>li:not(:last-child)::after {content: \"\\00b7\"; padding: 0 .5ex}\n",
       "</style>\n",
       "<ol class=list-inline><li>1215</li><li>9</li></ol>\n"
      ],
      "text/latex": [
       "\\begin{enumerate*}\n",
       "\\item 1215\n",
       "\\item 9\n",
       "\\end{enumerate*}\n"
      ],
      "text/markdown": [
       "1. 1215\n",
       "2. 9\n",
       "\n",
       "\n"
      ],
      "text/plain": [
       "[1] 1215    9"
      ]
     },
     "metadata": {},
     "output_type": "display_data"
    }
   ],
   "source": [
    "dim(ws_df)\n",
    "dim(wf_df)\n",
    "dim(control_df)"
   ]
  },
  {
   "cell_type": "code",
   "execution_count": 6,
   "id": "d9ba0841-95c0-4dfc-a8de-480550341718",
   "metadata": {},
   "outputs": [
    {
     "data": {
      "text/html": [
       "<table class=\"dataframe\">\n",
       "<caption>A data.frame: 6 × 9</caption>\n",
       "<thead>\n",
       "\t<tr><th></th><th scope=col>Data</th><th scope=col>HAWC_ID</th><th scope=col>Study</th><th scope=col>Replicate</th><th scope=col>Class</th><th scope=col>Metric</th><th scope=col>DTXSID</th><th scope=col>Name</th><th scope=col>Value</th></tr>\n",
       "\t<tr><th></th><th scope=col>&lt;chr&gt;</th><th scope=col>&lt;chr&gt;</th><th scope=col>&lt;chr&gt;</th><th scope=col>&lt;dbl&gt;</th><th scope=col>&lt;chr&gt;</th><th scope=col>&lt;chr&gt;</th><th scope=col>&lt;chr&gt;</th><th scope=col>&lt;chr&gt;</th><th scope=col>&lt;chr&gt;</th></tr>\n",
       "</thead>\n",
       "<tbody>\n",
       "\t<tr><th scope=row>1</th><td>WS</td><td>821855 </td><td>Erlandsson et al. 2020  </td><td>1</td><td>PAH</td><td>Weight</td><td>DTXSID3074787</td><td>1-Methylanthracene</td><td>11.3              </td></tr>\n",
       "\t<tr><th scope=row>2</th><td>WS</td><td>821855 </td><td>Erlandsson et al. 2020  </td><td>1</td><td>PAH</td><td>Weight</td><td>DTXSID3074787</td><td>1-Methylanthracene</td><td>2.2999999999999998</td></tr>\n",
       "\t<tr><th scope=row>3</th><td>WS</td><td>1257056</td><td>McCarrick et al. 2024   </td><td>1</td><td>PAH</td><td>Weight</td><td>DTXSID3074787</td><td>1-Methylanthracene</td><td>1.66              </td></tr>\n",
       "\t<tr><th scope=row>4</th><td>WS</td><td>267140 </td><td>Alfheim and Ramdahl 1984</td><td>1</td><td>PAH</td><td>Volume</td><td>DTXSID3074787</td><td>1-Methylanthracene</td><td>NA                </td></tr>\n",
       "\t<tr><th scope=row>5</th><td>WS</td><td>1263480</td><td>Burnet et al. 1990      </td><td>1</td><td>PAH</td><td>Volume</td><td>DTXSID3074787</td><td>1-Methylanthracene</td><td>NA                </td></tr>\n",
       "\t<tr><th scope=row>6</th><td>WS</td><td>267091 </td><td>Forchhammer et al. 2012 </td><td>1</td><td>PAH</td><td>Volume</td><td>DTXSID3074787</td><td>1-Methylanthracene</td><td>NA                </td></tr>\n",
       "</tbody>\n",
       "</table>\n"
      ],
      "text/latex": [
       "A data.frame: 6 × 9\n",
       "\\begin{tabular}{r|lllllllll}\n",
       "  & Data & HAWC\\_ID & Study & Replicate & Class & Metric & DTXSID & Name & Value\\\\\n",
       "  & <chr> & <chr> & <chr> & <dbl> & <chr> & <chr> & <chr> & <chr> & <chr>\\\\\n",
       "\\hline\n",
       "\t1 & WS & 821855  & Erlandsson et al. 2020   & 1 & PAH & Weight & DTXSID3074787 & 1-Methylanthracene & 11.3              \\\\\n",
       "\t2 & WS & 821855  & Erlandsson et al. 2020   & 1 & PAH & Weight & DTXSID3074787 & 1-Methylanthracene & 2.2999999999999998\\\\\n",
       "\t3 & WS & 1257056 & McCarrick et al. 2024    & 1 & PAH & Weight & DTXSID3074787 & 1-Methylanthracene & 1.66              \\\\\n",
       "\t4 & WS & 267140  & Alfheim and Ramdahl 1984 & 1 & PAH & Volume & DTXSID3074787 & 1-Methylanthracene & NA                \\\\\n",
       "\t5 & WS & 1263480 & Burnet et al. 1990       & 1 & PAH & Volume & DTXSID3074787 & 1-Methylanthracene & NA                \\\\\n",
       "\t6 & WS & 267091  & Forchhammer et al. 2012  & 1 & PAH & Volume & DTXSID3074787 & 1-Methylanthracene & NA                \\\\\n",
       "\\end{tabular}\n"
      ],
      "text/markdown": [
       "\n",
       "A data.frame: 6 × 9\n",
       "\n",
       "| <!--/--> | Data &lt;chr&gt; | HAWC_ID &lt;chr&gt; | Study &lt;chr&gt; | Replicate &lt;dbl&gt; | Class &lt;chr&gt; | Metric &lt;chr&gt; | DTXSID &lt;chr&gt; | Name &lt;chr&gt; | Value &lt;chr&gt; |\n",
       "|---|---|---|---|---|---|---|---|---|---|\n",
       "| 1 | WS | 821855  | Erlandsson et al. 2020   | 1 | PAH | Weight | DTXSID3074787 | 1-Methylanthracene | 11.3               |\n",
       "| 2 | WS | 821855  | Erlandsson et al. 2020   | 1 | PAH | Weight | DTXSID3074787 | 1-Methylanthracene | 2.2999999999999998 |\n",
       "| 3 | WS | 1257056 | McCarrick et al. 2024    | 1 | PAH | Weight | DTXSID3074787 | 1-Methylanthracene | 1.66               |\n",
       "| 4 | WS | 267140  | Alfheim and Ramdahl 1984 | 1 | PAH | Volume | DTXSID3074787 | 1-Methylanthracene | NA                 |\n",
       "| 5 | WS | 1263480 | Burnet et al. 1990       | 1 | PAH | Volume | DTXSID3074787 | 1-Methylanthracene | NA                 |\n",
       "| 6 | WS | 267091  | Forchhammer et al. 2012  | 1 | PAH | Volume | DTXSID3074787 | 1-Methylanthracene | NA                 |\n",
       "\n"
      ],
      "text/plain": [
       "  Data HAWC_ID Study                    Replicate Class Metric DTXSID       \n",
       "1 WS   821855  Erlandsson et al. 2020   1         PAH   Weight DTXSID3074787\n",
       "2 WS   821855  Erlandsson et al. 2020   1         PAH   Weight DTXSID3074787\n",
       "3 WS   1257056 McCarrick et al. 2024    1         PAH   Weight DTXSID3074787\n",
       "4 WS   267140  Alfheim and Ramdahl 1984 1         PAH   Volume DTXSID3074787\n",
       "5 WS   1263480 Burnet et al. 1990       1         PAH   Volume DTXSID3074787\n",
       "6 WS   267091  Forchhammer et al. 2012  1         PAH   Volume DTXSID3074787\n",
       "  Name               Value             \n",
       "1 1-Methylanthracene 11.3              \n",
       "2 1-Methylanthracene 2.2999999999999998\n",
       "3 1-Methylanthracene 1.66              \n",
       "4 1-Methylanthracene NA                \n",
       "5 1-Methylanthracene NA                \n",
       "6 1-Methylanthracene NA                "
      ]
     },
     "metadata": {},
     "output_type": "display_data"
    }
   ],
   "source": [
    "# combining dfs\n",
    "combined_df = rbind(ws_df, wf_df, control_df)\n",
    "head(combined_df)"
   ]
  },
  {
   "cell_type": "code",
   "execution_count": 7,
   "id": "6bcf9a9c-639c-46ca-9806-dcb9246095f1",
   "metadata": {},
   "outputs": [
    {
     "data": {
      "text/html": [
       "228"
      ],
      "text/latex": [
       "228"
      ],
      "text/markdown": [
       "228"
      ],
      "text/plain": [
       "[1] 228"
      ]
     },
     "metadata": {},
     "output_type": "display_data"
    },
    {
     "data": {
      "text/html": [
       "137"
      ],
      "text/latex": [
       "137"
      ],
      "text/markdown": [
       "137"
      ],
      "text/plain": [
       "[1] 137"
      ]
     },
     "metadata": {},
     "output_type": "display_data"
    },
    {
     "data": {
      "text/html": [
       "138"
      ],
      "text/latex": [
       "138"
      ],
      "text/markdown": [
       "138"
      ],
      "text/plain": [
       "[1] 138"
      ]
     },
     "metadata": {},
     "output_type": "display_data"
    },
    {
     "data": {
      "text/html": [
       "127"
      ],
      "text/latex": [
       "127"
      ],
      "text/markdown": [
       "127"
      ],
      "text/plain": [
       "[1] 127"
      ]
     },
     "metadata": {},
     "output_type": "display_data"
    }
   ],
   "source": [
    "length(unique(combined_df$Name))\n",
    "length(unique(ws_df$Name))\n",
    "length(unique(wf_df$Name))\n",
    "length(unique(control_df$Name))"
   ]
  },
  {
   "attachments": {},
   "cell_type": "markdown",
   "id": "d12ab21b-9ebd-4e1f-8bb3-f9c23e764ea5",
   "metadata": {},
   "source": [
    "228 unique metals/chemicals total.\n",
    "\n",
    "# Filter #2: Chemical/Metal Background Filters\n",
    "\n",
    "Determining what variables have missing data for all variables delineated based on the dfs the data will be split into and analyzed. \n",
    "\n",
    "A variable (ie. `Name` which represents a chemical or metal) will be retained if >= 50% of its experimental data points were measurable values. In other words, chemicals were excluded if they were NAs (not evaluated) or had non-detect values across < 50% of the samples."
   ]
  },
  {
   "cell_type": "code",
   "execution_count": 8,
   "id": "59c471fe-1657-4356-8ed6-35a8b6244188",
   "metadata": {},
   "outputs": [
    {
     "data": {
      "text/html": [
       "<table class=\"dataframe\">\n",
       "<caption>A tibble: 6 × 5</caption>\n",
       "<thead>\n",
       "\t<tr><th scope=col>Metric</th><th scope=col>Class</th><th scope=col>Data</th><th scope=col>Name</th><th scope=col>Variable_Presence_Percentage</th></tr>\n",
       "\t<tr><th scope=col>&lt;chr&gt;</th><th scope=col>&lt;chr&gt;</th><th scope=col>&lt;chr&gt;</th><th scope=col>&lt;chr&gt;</th><th scope=col>&lt;dbl&gt;</th></tr>\n",
       "</thead>\n",
       "<tbody>\n",
       "\t<tr><td>Volume</td><td>Metal</td><td>Diesel</td><td>Al</td><td>100</td></tr>\n",
       "\t<tr><td>Volume</td><td>Metal</td><td>Diesel</td><td>As</td><td>100</td></tr>\n",
       "\t<tr><td>Volume</td><td>Metal</td><td>Diesel</td><td>Ca</td><td>100</td></tr>\n",
       "\t<tr><td>Volume</td><td>Metal</td><td>Diesel</td><td>Cd</td><td>100</td></tr>\n",
       "\t<tr><td>Volume</td><td>Metal</td><td>Diesel</td><td>Cr</td><td>100</td></tr>\n",
       "\t<tr><td>Volume</td><td>Metal</td><td>Diesel</td><td>Cu</td><td>100</td></tr>\n",
       "</tbody>\n",
       "</table>\n"
      ],
      "text/latex": [
       "A tibble: 6 × 5\n",
       "\\begin{tabular}{lllll}\n",
       " Metric & Class & Data & Name & Variable\\_Presence\\_Percentage\\\\\n",
       " <chr> & <chr> & <chr> & <chr> & <dbl>\\\\\n",
       "\\hline\n",
       "\t Volume & Metal & Diesel & Al & 100\\\\\n",
       "\t Volume & Metal & Diesel & As & 100\\\\\n",
       "\t Volume & Metal & Diesel & Ca & 100\\\\\n",
       "\t Volume & Metal & Diesel & Cd & 100\\\\\n",
       "\t Volume & Metal & Diesel & Cr & 100\\\\\n",
       "\t Volume & Metal & Diesel & Cu & 100\\\\\n",
       "\\end{tabular}\n"
      ],
      "text/markdown": [
       "\n",
       "A tibble: 6 × 5\n",
       "\n",
       "| Metric &lt;chr&gt; | Class &lt;chr&gt; | Data &lt;chr&gt; | Name &lt;chr&gt; | Variable_Presence_Percentage &lt;dbl&gt; |\n",
       "|---|---|---|---|---|\n",
       "| Volume | Metal | Diesel | Al | 100 |\n",
       "| Volume | Metal | Diesel | As | 100 |\n",
       "| Volume | Metal | Diesel | Ca | 100 |\n",
       "| Volume | Metal | Diesel | Cd | 100 |\n",
       "| Volume | Metal | Diesel | Cr | 100 |\n",
       "| Volume | Metal | Diesel | Cu | 100 |\n",
       "\n"
      ],
      "text/plain": [
       "  Metric Class Data   Name Variable_Presence_Percentage\n",
       "1 Volume Metal Diesel Al   100                         \n",
       "2 Volume Metal Diesel As   100                         \n",
       "3 Volume Metal Diesel Ca   100                         \n",
       "4 Volume Metal Diesel Cd   100                         \n",
       "5 Volume Metal Diesel Cr   100                         \n",
       "6 Volume Metal Diesel Cu   100                         "
      ]
     },
     "metadata": {},
     "output_type": "display_data"
    }
   ],
   "source": [
    "sample_type_presence_df = combined_df %>%\n",
    "    # if an experimental value is there count it as being \"present\"\n",
    "    mutate(count = ifelse(Value %notin% c('NA', 'ND'), 1, 0)) %>%\n",
    "    # determining which have at least 50% experimental values for each chemical/metal\n",
    "    group_by(Metric, Class, Data, Name) %>%\n",
    "    # calculating the percentage of experimental data points\n",
    "    reframe(Variable_Presence_Percentage = (sum(count)/n()) * 100) %>%\n",
    "    filter(Variable_Presence_Percentage >= 50) \n",
    "\n",
    "head(sample_type_presence_df)"
   ]
  },
  {
   "cell_type": "code",
   "execution_count": 9,
   "id": "e9e0b6d6-d46b-4f37-81e9-f71cbf5eaefd",
   "metadata": {},
   "outputs": [
    {
     "name": "stderr",
     "output_type": "stream",
     "text": [
      "\u001b[1m\u001b[22mJoining with `by = join_by(Metric, Class, Data, Name)`\n"
     ]
    },
    {
     "data": {
      "text/html": [
       "<table class=\"dataframe\">\n",
       "<caption>A tibble: 6 × 9</caption>\n",
       "<thead>\n",
       "\t<tr><th scope=col>Metric</th><th scope=col>Class</th><th scope=col>Data</th><th scope=col>Name</th><th scope=col>HAWC_ID</th><th scope=col>Study</th><th scope=col>Replicate</th><th scope=col>DTXSID</th><th scope=col>Value</th></tr>\n",
       "\t<tr><th scope=col>&lt;chr&gt;</th><th scope=col>&lt;chr&gt;</th><th scope=col>&lt;chr&gt;</th><th scope=col>&lt;chr&gt;</th><th scope=col>&lt;chr&gt;</th><th scope=col>&lt;chr&gt;</th><th scope=col>&lt;dbl&gt;</th><th scope=col>&lt;chr&gt;</th><th scope=col>&lt;chr&gt;</th></tr>\n",
       "</thead>\n",
       "<tbody>\n",
       "\t<tr><td>Volume</td><td>Metal</td><td>Diesel</td><td>Al</td><td>1298361</td><td>Loyola et al. 2009         </td><td>1</td><td>Al</td><td>4811                 </td></tr>\n",
       "\t<tr><td>Volume</td><td>Metal</td><td>Diesel</td><td>Al</td><td>1298361</td><td>Loyola et al. 2009         </td><td>2</td><td>Al</td><td>4160                 </td></tr>\n",
       "\t<tr><td>Volume</td><td>Metal</td><td>Diesel</td><td>As</td><td>1298371</td><td>Sanchez Jimenez et al. 2012</td><td>1</td><td>As</td><td>7.0000000000000007E-2</td></tr>\n",
       "\t<tr><td>Volume</td><td>Metal</td><td>Diesel</td><td>As</td><td>1298371</td><td>Sanchez Jimenez et al. 2012</td><td>2</td><td>As</td><td>0.04                 </td></tr>\n",
       "\t<tr><td>Volume</td><td>Metal</td><td>Diesel</td><td>As</td><td>1298371</td><td>Sanchez Jimenez et al. 2012</td><td>4</td><td>As</td><td>0.44                 </td></tr>\n",
       "\t<tr><td>Volume</td><td>Metal</td><td>Diesel</td><td>As</td><td>1298371</td><td>Sanchez Jimenez et al. 2012</td><td>5</td><td>As</td><td>0.52400000000000002  </td></tr>\n",
       "</tbody>\n",
       "</table>\n"
      ],
      "text/latex": [
       "A tibble: 6 × 9\n",
       "\\begin{tabular}{lllllllll}\n",
       " Metric & Class & Data & Name & HAWC\\_ID & Study & Replicate & DTXSID & Value\\\\\n",
       " <chr> & <chr> & <chr> & <chr> & <chr> & <chr> & <dbl> & <chr> & <chr>\\\\\n",
       "\\hline\n",
       "\t Volume & Metal & Diesel & Al & 1298361 & Loyola et al. 2009          & 1 & Al & 4811                 \\\\\n",
       "\t Volume & Metal & Diesel & Al & 1298361 & Loyola et al. 2009          & 2 & Al & 4160                 \\\\\n",
       "\t Volume & Metal & Diesel & As & 1298371 & Sanchez Jimenez et al. 2012 & 1 & As & 7.0000000000000007E-2\\\\\n",
       "\t Volume & Metal & Diesel & As & 1298371 & Sanchez Jimenez et al. 2012 & 2 & As & 0.04                 \\\\\n",
       "\t Volume & Metal & Diesel & As & 1298371 & Sanchez Jimenez et al. 2012 & 4 & As & 0.44                 \\\\\n",
       "\t Volume & Metal & Diesel & As & 1298371 & Sanchez Jimenez et al. 2012 & 5 & As & 0.52400000000000002  \\\\\n",
       "\\end{tabular}\n"
      ],
      "text/markdown": [
       "\n",
       "A tibble: 6 × 9\n",
       "\n",
       "| Metric &lt;chr&gt; | Class &lt;chr&gt; | Data &lt;chr&gt; | Name &lt;chr&gt; | HAWC_ID &lt;chr&gt; | Study &lt;chr&gt; | Replicate &lt;dbl&gt; | DTXSID &lt;chr&gt; | Value &lt;chr&gt; |\n",
       "|---|---|---|---|---|---|---|---|---|\n",
       "| Volume | Metal | Diesel | Al | 1298361 | Loyola et al. 2009          | 1 | Al | 4811                  |\n",
       "| Volume | Metal | Diesel | Al | 1298361 | Loyola et al. 2009          | 2 | Al | 4160                  |\n",
       "| Volume | Metal | Diesel | As | 1298371 | Sanchez Jimenez et al. 2012 | 1 | As | 7.0000000000000007E-2 |\n",
       "| Volume | Metal | Diesel | As | 1298371 | Sanchez Jimenez et al. 2012 | 2 | As | 0.04                  |\n",
       "| Volume | Metal | Diesel | As | 1298371 | Sanchez Jimenez et al. 2012 | 4 | As | 0.44                  |\n",
       "| Volume | Metal | Diesel | As | 1298371 | Sanchez Jimenez et al. 2012 | 5 | As | 0.52400000000000002   |\n",
       "\n"
      ],
      "text/plain": [
       "  Metric Class Data   Name HAWC_ID Study                       Replicate DTXSID\n",
       "1 Volume Metal Diesel Al   1298361 Loyola et al. 2009          1         Al    \n",
       "2 Volume Metal Diesel Al   1298361 Loyola et al. 2009          2         Al    \n",
       "3 Volume Metal Diesel As   1298371 Sanchez Jimenez et al. 2012 1         As    \n",
       "4 Volume Metal Diesel As   1298371 Sanchez Jimenez et al. 2012 2         As    \n",
       "5 Volume Metal Diesel As   1298371 Sanchez Jimenez et al. 2012 4         As    \n",
       "6 Volume Metal Diesel As   1298371 Sanchez Jimenez et al. 2012 5         As    \n",
       "  Value                \n",
       "1 4811                 \n",
       "2 4160                 \n",
       "3 7.0000000000000007E-2\n",
       "4 0.04                 \n",
       "5 0.44                 \n",
       "6 0.52400000000000002  "
      ]
     },
     "metadata": {},
     "output_type": "display_data"
    }
   ],
   "source": [
    "# filtering the original df\n",
    "filter1_df = inner_join(sample_type_presence_df[,1:4], combined_df) %>%\n",
    "    # metals don't have a DTXSID, so making that col their name\n",
    "    mutate(DTXSID = ifelse(DTXSID != 'NA', DTXSID, Name)) \n",
    "\n",
    "head(filter1_df)"
   ]
  },
  {
   "cell_type": "code",
   "execution_count": 10,
   "id": "326df55e-15f1-4704-969d-2e19d7cf54fd",
   "metadata": {},
   "outputs": [
    {
     "data": {
      "text/html": [
       "<style>\n",
       ".list-inline {list-style: none; margin:0; padding: 0}\n",
       ".list-inline>li {display: inline-block}\n",
       ".list-inline>li:not(:last-child)::after {content: \"\\00b7\"; padding: 0 .5ex}\n",
       "</style>\n",
       "<ol class=list-inline><li>7796</li><li>9</li></ol>\n"
      ],
      "text/latex": [
       "\\begin{enumerate*}\n",
       "\\item 7796\n",
       "\\item 9\n",
       "\\end{enumerate*}\n"
      ],
      "text/markdown": [
       "1. 7796\n",
       "2. 9\n",
       "\n",
       "\n"
      ],
      "text/plain": [
       "[1] 7796    9"
      ]
     },
     "metadata": {},
     "output_type": "display_data"
    },
    {
     "data": {
      "text/html": [
       "<style>\n",
       ".list-inline {list-style: none; margin:0; padding: 0}\n",
       ".list-inline>li {display: inline-block}\n",
       ".list-inline>li:not(:last-child)::after {content: \"\\00b7\"; padding: 0 .5ex}\n",
       "</style>\n",
       "<ol class=list-inline><li>5335</li><li>9</li></ol>\n"
      ],
      "text/latex": [
       "\\begin{enumerate*}\n",
       "\\item 5335\n",
       "\\item 9\n",
       "\\end{enumerate*}\n"
      ],
      "text/markdown": [
       "1. 5335\n",
       "2. 9\n",
       "\n",
       "\n"
      ],
      "text/plain": [
       "[1] 5335    9"
      ]
     },
     "metadata": {},
     "output_type": "display_data"
    }
   ],
   "source": [
    "dim(combined_df)\n",
    "dim(filter1_df)"
   ]
  },
  {
   "cell_type": "markdown",
   "id": "744bb359-5b56-4821-8613-66bfaf0a2271",
   "metadata": {},
   "source": [
    "Started with 7796 records, 2461 were removed, leaving 5335. \n",
    "\n",
    "# Filter 3: Study Background Filter\n",
    "\n",
    "A study will be retained if >= 50% of its experimental data points were measurable values. In other words, chemicals were excluded if they were NAs (not evaluated) or had non-detect values across < 50% of the samples."
   ]
  },
  {
   "cell_type": "code",
   "execution_count": 11,
   "id": "24e392b1-550e-4cb4-a5a7-012731dc5b3f",
   "metadata": {},
   "outputs": [
    {
     "data": {
      "text/html": [
       "<table class=\"dataframe\">\n",
       "<caption>A tibble: 6 × 4</caption>\n",
       "<thead>\n",
       "\t<tr><th scope=col>Metric</th><th scope=col>Class</th><th scope=col>HAWC_ID</th><th scope=col>Study_Presence_Percentage</th></tr>\n",
       "\t<tr><th scope=col>&lt;chr&gt;</th><th scope=col>&lt;chr&gt;</th><th scope=col>&lt;chr&gt;</th><th scope=col>&lt;dbl&gt;</th></tr>\n",
       "</thead>\n",
       "<tbody>\n",
       "\t<tr><td>Volume</td><td>Metal</td><td>1070627</td><td>100</td></tr>\n",
       "\t<tr><td>Volume</td><td>Metal</td><td>1263480</td><td>100</td></tr>\n",
       "\t<tr><td>Volume</td><td>Metal</td><td>1263484</td><td>100</td></tr>\n",
       "\t<tr><td>Volume</td><td>Metal</td><td>1289878</td><td>100</td></tr>\n",
       "\t<tr><td>Volume</td><td>Metal</td><td>1289884</td><td>100</td></tr>\n",
       "\t<tr><td>Volume</td><td>Metal</td><td>1289885</td><td>100</td></tr>\n",
       "</tbody>\n",
       "</table>\n"
      ],
      "text/latex": [
       "A tibble: 6 × 4\n",
       "\\begin{tabular}{llll}\n",
       " Metric & Class & HAWC\\_ID & Study\\_Presence\\_Percentage\\\\\n",
       " <chr> & <chr> & <chr> & <dbl>\\\\\n",
       "\\hline\n",
       "\t Volume & Metal & 1070627 & 100\\\\\n",
       "\t Volume & Metal & 1263480 & 100\\\\\n",
       "\t Volume & Metal & 1263484 & 100\\\\\n",
       "\t Volume & Metal & 1289878 & 100\\\\\n",
       "\t Volume & Metal & 1289884 & 100\\\\\n",
       "\t Volume & Metal & 1289885 & 100\\\\\n",
       "\\end{tabular}\n"
      ],
      "text/markdown": [
       "\n",
       "A tibble: 6 × 4\n",
       "\n",
       "| Metric &lt;chr&gt; | Class &lt;chr&gt; | HAWC_ID &lt;chr&gt; | Study_Presence_Percentage &lt;dbl&gt; |\n",
       "|---|---|---|---|\n",
       "| Volume | Metal | 1070627 | 100 |\n",
       "| Volume | Metal | 1263480 | 100 |\n",
       "| Volume | Metal | 1263484 | 100 |\n",
       "| Volume | Metal | 1289878 | 100 |\n",
       "| Volume | Metal | 1289884 | 100 |\n",
       "| Volume | Metal | 1289885 | 100 |\n",
       "\n"
      ],
      "text/plain": [
       "  Metric Class HAWC_ID Study_Presence_Percentage\n",
       "1 Volume Metal 1070627 100                      \n",
       "2 Volume Metal 1263480 100                      \n",
       "3 Volume Metal 1263484 100                      \n",
       "4 Volume Metal 1289878 100                      \n",
       "5 Volume Metal 1289884 100                      \n",
       "6 Volume Metal 1289885 100                      "
      ]
     },
     "metadata": {},
     "output_type": "display_data"
    }
   ],
   "source": [
    "study_type_presence_df = filter1_df %>%\n",
    "    # if an experimental value is there count it as being \"present\"\n",
    "    mutate(count = ifelse(Value %notin% c('NA', 'ND'), 1, 0)) %>%\n",
    "    # determining which have at least 50% experimental values for each chemical/metal\n",
    "    group_by(Metric, Class, HAWC_ID) %>%\n",
    "    # calculating the percentage of experimental data points\n",
    "    reframe(Study_Presence_Percentage = (sum(count)/n()) * 100) %>%\n",
    "    filter(Study_Presence_Percentage >= 20) \n",
    "\n",
    "head(study_type_presence_df)"
   ]
  },
  {
   "cell_type": "code",
   "execution_count": 12,
   "id": "f0593ecb-fe86-49e3-ad96-51ef9d47d27c",
   "metadata": {},
   "outputs": [
    {
     "name": "stderr",
     "output_type": "stream",
     "text": [
      "\u001b[1m\u001b[22mJoining with `by = join_by(Metric, Class, HAWC_ID)`\n"
     ]
    },
    {
     "data": {
      "text/html": [
       "<table class=\"dataframe\">\n",
       "<caption>A tibble: 6 × 9</caption>\n",
       "<thead>\n",
       "\t<tr><th scope=col>Metric</th><th scope=col>Class</th><th scope=col>HAWC_ID</th><th scope=col>Data</th><th scope=col>Name</th><th scope=col>Study</th><th scope=col>Replicate</th><th scope=col>DTXSID</th><th scope=col>Value</th></tr>\n",
       "\t<tr><th scope=col>&lt;chr&gt;</th><th scope=col>&lt;chr&gt;</th><th scope=col>&lt;chr&gt;</th><th scope=col>&lt;chr&gt;</th><th scope=col>&lt;chr&gt;</th><th scope=col>&lt;chr&gt;</th><th scope=col>&lt;dbl&gt;</th><th scope=col>&lt;chr&gt;</th><th scope=col>&lt;chr&gt;</th></tr>\n",
       "</thead>\n",
       "<tbody>\n",
       "\t<tr><td>Volume</td><td>Metal</td><td>1070627</td><td>WF</td><td>As</td><td>Siregar et al. 2022</td><td>1</td><td>As</td><td>2.2999999999999998</td></tr>\n",
       "\t<tr><td>Volume</td><td>Metal</td><td>1070627</td><td>WF</td><td>As</td><td>Siregar et al. 2022</td><td>2</td><td>As</td><td>0.8               </td></tr>\n",
       "\t<tr><td>Volume</td><td>Metal</td><td>1070627</td><td>WF</td><td>Ca</td><td>Siregar et al. 2022</td><td>1</td><td>Ca</td><td>1370.1            </td></tr>\n",
       "\t<tr><td>Volume</td><td>Metal</td><td>1070627</td><td>WF</td><td>Ca</td><td>Siregar et al. 2022</td><td>2</td><td>Ca</td><td>595.20000000000005</td></tr>\n",
       "\t<tr><td>Volume</td><td>Metal</td><td>1070627</td><td>WF</td><td>Cd</td><td>Siregar et al. 2022</td><td>1</td><td>Cd</td><td>8.8000000000000007</td></tr>\n",
       "\t<tr><td>Volume</td><td>Metal</td><td>1070627</td><td>WF</td><td>Cd</td><td>Siregar et al. 2022</td><td>2</td><td>Cd</td><td>2.1               </td></tr>\n",
       "</tbody>\n",
       "</table>\n"
      ],
      "text/latex": [
       "A tibble: 6 × 9\n",
       "\\begin{tabular}{lllllllll}\n",
       " Metric & Class & HAWC\\_ID & Data & Name & Study & Replicate & DTXSID & Value\\\\\n",
       " <chr> & <chr> & <chr> & <chr> & <chr> & <chr> & <dbl> & <chr> & <chr>\\\\\n",
       "\\hline\n",
       "\t Volume & Metal & 1070627 & WF & As & Siregar et al. 2022 & 1 & As & 2.2999999999999998\\\\\n",
       "\t Volume & Metal & 1070627 & WF & As & Siregar et al. 2022 & 2 & As & 0.8               \\\\\n",
       "\t Volume & Metal & 1070627 & WF & Ca & Siregar et al. 2022 & 1 & Ca & 1370.1            \\\\\n",
       "\t Volume & Metal & 1070627 & WF & Ca & Siregar et al. 2022 & 2 & Ca & 595.20000000000005\\\\\n",
       "\t Volume & Metal & 1070627 & WF & Cd & Siregar et al. 2022 & 1 & Cd & 8.8000000000000007\\\\\n",
       "\t Volume & Metal & 1070627 & WF & Cd & Siregar et al. 2022 & 2 & Cd & 2.1               \\\\\n",
       "\\end{tabular}\n"
      ],
      "text/markdown": [
       "\n",
       "A tibble: 6 × 9\n",
       "\n",
       "| Metric &lt;chr&gt; | Class &lt;chr&gt; | HAWC_ID &lt;chr&gt; | Data &lt;chr&gt; | Name &lt;chr&gt; | Study &lt;chr&gt; | Replicate &lt;dbl&gt; | DTXSID &lt;chr&gt; | Value &lt;chr&gt; |\n",
       "|---|---|---|---|---|---|---|---|---|\n",
       "| Volume | Metal | 1070627 | WF | As | Siregar et al. 2022 | 1 | As | 2.2999999999999998 |\n",
       "| Volume | Metal | 1070627 | WF | As | Siregar et al. 2022 | 2 | As | 0.8                |\n",
       "| Volume | Metal | 1070627 | WF | Ca | Siregar et al. 2022 | 1 | Ca | 1370.1             |\n",
       "| Volume | Metal | 1070627 | WF | Ca | Siregar et al. 2022 | 2 | Ca | 595.20000000000005 |\n",
       "| Volume | Metal | 1070627 | WF | Cd | Siregar et al. 2022 | 1 | Cd | 8.8000000000000007 |\n",
       "| Volume | Metal | 1070627 | WF | Cd | Siregar et al. 2022 | 2 | Cd | 2.1                |\n",
       "\n"
      ],
      "text/plain": [
       "  Metric Class HAWC_ID Data Name Study               Replicate DTXSID\n",
       "1 Volume Metal 1070627 WF   As   Siregar et al. 2022 1         As    \n",
       "2 Volume Metal 1070627 WF   As   Siregar et al. 2022 2         As    \n",
       "3 Volume Metal 1070627 WF   Ca   Siregar et al. 2022 1         Ca    \n",
       "4 Volume Metal 1070627 WF   Ca   Siregar et al. 2022 2         Ca    \n",
       "5 Volume Metal 1070627 WF   Cd   Siregar et al. 2022 1         Cd    \n",
       "6 Volume Metal 1070627 WF   Cd   Siregar et al. 2022 2         Cd    \n",
       "  Value             \n",
       "1 2.2999999999999998\n",
       "2 0.8               \n",
       "3 1370.1            \n",
       "4 595.20000000000005\n",
       "5 8.8000000000000007\n",
       "6 2.1               "
      ]
     },
     "metadata": {},
     "output_type": "display_data"
    }
   ],
   "source": [
    "filter2_df = inner_join(study_type_presence_df[,1:3], filter1_df)\n",
    "\n",
    "head(filter2_df)"
   ]
  },
  {
   "cell_type": "code",
   "execution_count": 13,
   "id": "b5090a5d-09e8-4f61-a732-6d338c340e90",
   "metadata": {},
   "outputs": [
    {
     "data": {
      "text/html": [
       "<style>\n",
       ".list-inline {list-style: none; margin:0; padding: 0}\n",
       ".list-inline>li {display: inline-block}\n",
       ".list-inline>li:not(:last-child)::after {content: \"\\00b7\"; padding: 0 .5ex}\n",
       "</style>\n",
       "<ol class=list-inline><li>5335</li><li>9</li></ol>\n"
      ],
      "text/latex": [
       "\\begin{enumerate*}\n",
       "\\item 5335\n",
       "\\item 9\n",
       "\\end{enumerate*}\n"
      ],
      "text/markdown": [
       "1. 5335\n",
       "2. 9\n",
       "\n",
       "\n"
      ],
      "text/plain": [
       "[1] 5335    9"
      ]
     },
     "metadata": {},
     "output_type": "display_data"
    },
    {
     "data": {
      "text/html": [
       "<style>\n",
       ".list-inline {list-style: none; margin:0; padding: 0}\n",
       ".list-inline>li {display: inline-block}\n",
       ".list-inline>li:not(:last-child)::after {content: \"\\00b7\"; padding: 0 .5ex}\n",
       "</style>\n",
       "<ol class=list-inline><li>5305</li><li>9</li></ol>\n"
      ],
      "text/latex": [
       "\\begin{enumerate*}\n",
       "\\item 5305\n",
       "\\item 9\n",
       "\\end{enumerate*}\n"
      ],
      "text/markdown": [
       "1. 5305\n",
       "2. 9\n",
       "\n",
       "\n"
      ],
      "text/plain": [
       "[1] 5305    9"
      ]
     },
     "metadata": {},
     "output_type": "display_data"
    }
   ],
   "source": [
    "dim(filter1_df)\n",
    "dim(filter2_df)"
   ]
  },
  {
   "cell_type": "markdown",
   "id": "f1a9197d-f07d-4082-97d0-4c15b3649530",
   "metadata": {},
   "source": [
    "299 more records were removed."
   ]
  },
  {
   "cell_type": "code",
   "execution_count": 14,
   "id": "0d22def2-eb27-4093-8bbe-8a7c8082b9ce",
   "metadata": {},
   "outputs": [
    {
     "data": {
      "text/html": [
       "<table class=\"dataframe\">\n",
       "<caption>A tibble: 6 × 9</caption>\n",
       "<thead>\n",
       "\t<tr><th scope=col>Metric</th><th scope=col>Class</th><th scope=col>HAWC_ID</th><th scope=col>Data</th><th scope=col>Name</th><th scope=col>Study</th><th scope=col>Replicate</th><th scope=col>DTXSID</th><th scope=col>Value</th></tr>\n",
       "\t<tr><th scope=col>&lt;chr&gt;</th><th scope=col>&lt;chr&gt;</th><th scope=col>&lt;chr&gt;</th><th scope=col>&lt;chr&gt;</th><th scope=col>&lt;chr&gt;</th><th scope=col>&lt;chr&gt;</th><th scope=col>&lt;dbl&gt;</th><th scope=col>&lt;chr&gt;</th><th scope=col>&lt;chr&gt;</th></tr>\n",
       "</thead>\n",
       "<tbody>\n",
       "\t<tr><td>Volume</td><td>Metal</td><td>1070627</td><td>WF</td><td>As</td><td>Siregar et al. 2022</td><td>1</td><td>As</td><td>2.2999999999999998</td></tr>\n",
       "\t<tr><td>Volume</td><td>Metal</td><td>1070627</td><td>WF</td><td>As</td><td>Siregar et al. 2022</td><td>2</td><td>As</td><td>0.8               </td></tr>\n",
       "\t<tr><td>Volume</td><td>Metal</td><td>1070627</td><td>WF</td><td>Ca</td><td>Siregar et al. 2022</td><td>1</td><td>Ca</td><td>1370.1            </td></tr>\n",
       "\t<tr><td>Volume</td><td>Metal</td><td>1070627</td><td>WF</td><td>Ca</td><td>Siregar et al. 2022</td><td>2</td><td>Ca</td><td>595.20000000000005</td></tr>\n",
       "\t<tr><td>Volume</td><td>Metal</td><td>1070627</td><td>WF</td><td>Cd</td><td>Siregar et al. 2022</td><td>1</td><td>Cd</td><td>8.8000000000000007</td></tr>\n",
       "\t<tr><td>Volume</td><td>Metal</td><td>1070627</td><td>WF</td><td>Cd</td><td>Siregar et al. 2022</td><td>2</td><td>Cd</td><td>2.1               </td></tr>\n",
       "</tbody>\n",
       "</table>\n"
      ],
      "text/latex": [
       "A tibble: 6 × 9\n",
       "\\begin{tabular}{lllllllll}\n",
       " Metric & Class & HAWC\\_ID & Data & Name & Study & Replicate & DTXSID & Value\\\\\n",
       " <chr> & <chr> & <chr> & <chr> & <chr> & <chr> & <dbl> & <chr> & <chr>\\\\\n",
       "\\hline\n",
       "\t Volume & Metal & 1070627 & WF & As & Siregar et al. 2022 & 1 & As & 2.2999999999999998\\\\\n",
       "\t Volume & Metal & 1070627 & WF & As & Siregar et al. 2022 & 2 & As & 0.8               \\\\\n",
       "\t Volume & Metal & 1070627 & WF & Ca & Siregar et al. 2022 & 1 & Ca & 1370.1            \\\\\n",
       "\t Volume & Metal & 1070627 & WF & Ca & Siregar et al. 2022 & 2 & Ca & 595.20000000000005\\\\\n",
       "\t Volume & Metal & 1070627 & WF & Cd & Siregar et al. 2022 & 1 & Cd & 8.8000000000000007\\\\\n",
       "\t Volume & Metal & 1070627 & WF & Cd & Siregar et al. 2022 & 2 & Cd & 2.1               \\\\\n",
       "\\end{tabular}\n"
      ],
      "text/markdown": [
       "\n",
       "A tibble: 6 × 9\n",
       "\n",
       "| Metric &lt;chr&gt; | Class &lt;chr&gt; | HAWC_ID &lt;chr&gt; | Data &lt;chr&gt; | Name &lt;chr&gt; | Study &lt;chr&gt; | Replicate &lt;dbl&gt; | DTXSID &lt;chr&gt; | Value &lt;chr&gt; |\n",
       "|---|---|---|---|---|---|---|---|---|\n",
       "| Volume | Metal | 1070627 | WF | As | Siregar et al. 2022 | 1 | As | 2.2999999999999998 |\n",
       "| Volume | Metal | 1070627 | WF | As | Siregar et al. 2022 | 2 | As | 0.8                |\n",
       "| Volume | Metal | 1070627 | WF | Ca | Siregar et al. 2022 | 1 | Ca | 1370.1             |\n",
       "| Volume | Metal | 1070627 | WF | Ca | Siregar et al. 2022 | 2 | Ca | 595.20000000000005 |\n",
       "| Volume | Metal | 1070627 | WF | Cd | Siregar et al. 2022 | 1 | Cd | 8.8000000000000007 |\n",
       "| Volume | Metal | 1070627 | WF | Cd | Siregar et al. 2022 | 2 | Cd | 2.1                |\n",
       "\n"
      ],
      "text/plain": [
       "  Metric Class HAWC_ID Data Name Study               Replicate DTXSID\n",
       "1 Volume Metal 1070627 WF   As   Siregar et al. 2022 1         As    \n",
       "2 Volume Metal 1070627 WF   As   Siregar et al. 2022 2         As    \n",
       "3 Volume Metal 1070627 WF   Ca   Siregar et al. 2022 1         Ca    \n",
       "4 Volume Metal 1070627 WF   Ca   Siregar et al. 2022 2         Ca    \n",
       "5 Volume Metal 1070627 WF   Cd   Siregar et al. 2022 1         Cd    \n",
       "6 Volume Metal 1070627 WF   Cd   Siregar et al. 2022 2         Cd    \n",
       "  Value             \n",
       "1 2.2999999999999998\n",
       "2 0.8               \n",
       "3 1370.1            \n",
       "4 595.20000000000005\n",
       "5 8.8000000000000007\n",
       "6 2.1               "
      ]
     },
     "metadata": {},
     "output_type": "display_data"
    }
   ],
   "source": [
    "# recombining data\n",
    "filter2_split_df = filter2_df %>%\n",
    "    group_by(Metric) %>%\n",
    "    group_split()\n",
    "\n",
    "vol_df = filter2_split_df[[1]]\n",
    "weight_df = filter2_split_df[[2]]\n",
    "\n",
    "head(vol_df)"
   ]
  },
  {
   "cell_type": "markdown",
   "id": "12249f65-761e-4dbc-8231-8c455e6d3120",
   "metadata": {},
   "source": [
    "# Square Root Imputation\n",
    "\n",
    "Taking the square root of the min value to impute MNAR data."
   ]
  },
  {
   "cell_type": "code",
   "execution_count": 15,
   "id": "c4f84ca8-8863-4741-9959-12962607f18f",
   "metadata": {
    "scrolled": true
   },
   "outputs": [
    {
     "data": {
      "text/html": [
       "<table class=\"dataframe\">\n",
       "<caption>A tibble: 2 × 2</caption>\n",
       "<thead>\n",
       "\t<tr><th scope=col>Value</th><th scope=col>n()</th></tr>\n",
       "\t<tr><th scope=col>&lt;chr&gt;</th><th scope=col>&lt;int&gt;</th></tr>\n",
       "</thead>\n",
       "<tbody>\n",
       "\t<tr><td>NA</td><td>18</td></tr>\n",
       "\t<tr><td>ND</td><td>27</td></tr>\n",
       "</tbody>\n",
       "</table>\n"
      ],
      "text/latex": [
       "A tibble: 2 × 2\n",
       "\\begin{tabular}{ll}\n",
       " Value & n()\\\\\n",
       " <chr> & <int>\\\\\n",
       "\\hline\n",
       "\t NA & 18\\\\\n",
       "\t ND & 27\\\\\n",
       "\\end{tabular}\n"
      ],
      "text/markdown": [
       "\n",
       "A tibble: 2 × 2\n",
       "\n",
       "| Value &lt;chr&gt; | n() &lt;int&gt; |\n",
       "|---|---|\n",
       "| NA | 18 |\n",
       "| ND | 27 |\n",
       "\n"
      ],
      "text/plain": [
       "  Value n()\n",
       "1 NA    18 \n",
       "2 ND    27 "
      ]
     },
     "metadata": {},
     "output_type": "display_data"
    },
    {
     "data": {
      "text/html": [
       "<table class=\"dataframe\">\n",
       "<caption>A tibble: 2 × 2</caption>\n",
       "<thead>\n",
       "\t<tr><th scope=col>Value</th><th scope=col>n()</th></tr>\n",
       "\t<tr><th scope=col>&lt;chr&gt;</th><th scope=col>&lt;int&gt;</th></tr>\n",
       "</thead>\n",
       "<tbody>\n",
       "\t<tr><td>NA</td><td>238</td></tr>\n",
       "\t<tr><td>ND</td><td>140</td></tr>\n",
       "</tbody>\n",
       "</table>\n"
      ],
      "text/latex": [
       "A tibble: 2 × 2\n",
       "\\begin{tabular}{ll}\n",
       " Value & n()\\\\\n",
       " <chr> & <int>\\\\\n",
       "\\hline\n",
       "\t NA & 238\\\\\n",
       "\t ND & 140\\\\\n",
       "\\end{tabular}\n"
      ],
      "text/markdown": [
       "\n",
       "A tibble: 2 × 2\n",
       "\n",
       "| Value &lt;chr&gt; | n() &lt;int&gt; |\n",
       "|---|---|\n",
       "| NA | 238 |\n",
       "| ND | 140 |\n",
       "\n"
      ],
      "text/plain": [
       "  Value n()\n",
       "1 NA    238\n",
       "2 ND    140"
      ]
     },
     "metadata": {},
     "output_type": "display_data"
    }
   ],
   "source": [
    "# first determining number of ND and NA values in each df\n",
    "vol_df %>%\n",
    "    filter(Value %in% c('NA', 'ND')) %>%\n",
    "    group_by(Value) %>%\n",
    "    summarize(n())\n",
    "\n",
    "weight_df %>%\n",
    "    filter(Value %in% c('NA', 'ND')) %>%\n",
    "    group_by(Value) %>%\n",
    "    summarize(n())"
   ]
  },
  {
   "cell_type": "code",
   "execution_count": 16,
   "id": "25feeaaa-7ace-4a97-8dc5-4d3b6f23af2c",
   "metadata": {},
   "outputs": [
    {
     "data": {
      "text/html": [
       "<style>\n",
       ".list-inline {list-style: none; margin:0; padding: 0}\n",
       ".list-inline>li {display: inline-block}\n",
       ".list-inline>li:not(:last-child)::after {content: \"\\00b7\"; padding: 0 .5ex}\n",
       "</style>\n",
       "<ol class=list-inline><li>1918</li><li>9</li></ol>\n"
      ],
      "text/latex": [
       "\\begin{enumerate*}\n",
       "\\item 1918\n",
       "\\item 9\n",
       "\\end{enumerate*}\n"
      ],
      "text/markdown": [
       "1. 1918\n",
       "2. 9\n",
       "\n",
       "\n"
      ],
      "text/plain": [
       "[1] 1918    9"
      ]
     },
     "metadata": {},
     "output_type": "display_data"
    },
    {
     "data": {
      "text/html": [
       "<style>\n",
       ".list-inline {list-style: none; margin:0; padding: 0}\n",
       ".list-inline>li {display: inline-block}\n",
       ".list-inline>li:not(:last-child)::after {content: \"\\00b7\"; padding: 0 .5ex}\n",
       "</style>\n",
       "<ol class=list-inline><li>3387</li><li>9</li></ol>\n"
      ],
      "text/latex": [
       "\\begin{enumerate*}\n",
       "\\item 3387\n",
       "\\item 9\n",
       "\\end{enumerate*}\n"
      ],
      "text/markdown": [
       "1. 3387\n",
       "2. 9\n",
       "\n",
       "\n"
      ],
      "text/plain": [
       "[1] 3387    9"
      ]
     },
     "metadata": {},
     "output_type": "display_data"
    }
   ],
   "source": [
    "dim(vol_df)\n",
    "dim(weight_df)"
   ]
  },
  {
   "cell_type": "code",
   "execution_count": 17,
   "id": "21e2dbe6-cac4-49c8-bd4f-d33282fad336",
   "metadata": {},
   "outputs": [
    {
     "name": "stderr",
     "output_type": "stream",
     "text": [
      "\u001b[1m\u001b[22mJoining with `by = join_by(Metric, Class, HAWC_ID, Data, Name, Study,\n",
      "Replicate, DTXSID, Value)`\n",
      "\u001b[1m\u001b[22mJoining with `by = join_by(Metric, Class, HAWC_ID, Data, Name, Study,\n",
      "Replicate, DTXSID, Value)`\n",
      "Warning message:\n",
      "“NAs introduced by coercion”\n",
      "Warning message:\n",
      "“NAs introduced by coercion”\n",
      "Warning message:\n",
      "“NAs introduced by coercion”\n",
      "Warning message:\n",
      "“NAs introduced by coercion”\n"
     ]
    },
    {
     "data": {
      "text/html": [
       "<table class=\"dataframe\">\n",
       "<caption>A tibble: 6 × 9</caption>\n",
       "<thead>\n",
       "\t<tr><th scope=col>HAWC_ID</th><th scope=col>Metric</th><th scope=col>Data</th><th scope=col>Study</th><th scope=col>Replicate</th><th scope=col>Class</th><th scope=col>DTXSID</th><th scope=col>Name</th><th scope=col>Value</th></tr>\n",
       "\t<tr><th scope=col>&lt;chr&gt;</th><th scope=col>&lt;chr&gt;</th><th scope=col>&lt;chr&gt;</th><th scope=col>&lt;chr&gt;</th><th scope=col>&lt;dbl&gt;</th><th scope=col>&lt;chr&gt;</th><th scope=col>&lt;chr&gt;</th><th scope=col>&lt;chr&gt;</th><th scope=col>&lt;dbl&gt;</th></tr>\n",
       "</thead>\n",
       "<tbody>\n",
       "\t<tr><td>1040882</td><td>Weight</td><td>WS</td><td>Nordin et al. 2015</td><td>1</td><td>Metal</td><td>Al</td><td>Al</td><td>1078</td></tr>\n",
       "\t<tr><td>1040882</td><td>Weight</td><td>WS</td><td>Nordin et al. 2015</td><td>2</td><td>Metal</td><td>Al</td><td>Al</td><td> 198</td></tr>\n",
       "\t<tr><td>1040882</td><td>Weight</td><td>WS</td><td>Nordin et al. 2015</td><td>1</td><td>Metal</td><td>B </td><td>B </td><td> 308</td></tr>\n",
       "\t<tr><td>1040882</td><td>Weight</td><td>WS</td><td>Nordin et al. 2015</td><td>2</td><td>Metal</td><td>B </td><td>B </td><td> 268</td></tr>\n",
       "\t<tr><td>1040882</td><td>Weight</td><td>WS</td><td>Nordin et al. 2015</td><td>1</td><td>Metal</td><td>Ca</td><td>Ca</td><td>7120</td></tr>\n",
       "\t<tr><td>1040882</td><td>Weight</td><td>WS</td><td>Nordin et al. 2015</td><td>2</td><td>Metal</td><td>Ca</td><td>Ca</td><td>  NA</td></tr>\n",
       "</tbody>\n",
       "</table>\n"
      ],
      "text/latex": [
       "A tibble: 6 × 9\n",
       "\\begin{tabular}{lllllllll}\n",
       " HAWC\\_ID & Metric & Data & Study & Replicate & Class & DTXSID & Name & Value\\\\\n",
       " <chr> & <chr> & <chr> & <chr> & <dbl> & <chr> & <chr> & <chr> & <dbl>\\\\\n",
       "\\hline\n",
       "\t 1040882 & Weight & WS & Nordin et al. 2015 & 1 & Metal & Al & Al & 1078\\\\\n",
       "\t 1040882 & Weight & WS & Nordin et al. 2015 & 2 & Metal & Al & Al &  198\\\\\n",
       "\t 1040882 & Weight & WS & Nordin et al. 2015 & 1 & Metal & B  & B  &  308\\\\\n",
       "\t 1040882 & Weight & WS & Nordin et al. 2015 & 2 & Metal & B  & B  &  268\\\\\n",
       "\t 1040882 & Weight & WS & Nordin et al. 2015 & 1 & Metal & Ca & Ca & 7120\\\\\n",
       "\t 1040882 & Weight & WS & Nordin et al. 2015 & 2 & Metal & Ca & Ca &   NA\\\\\n",
       "\\end{tabular}\n"
      ],
      "text/markdown": [
       "\n",
       "A tibble: 6 × 9\n",
       "\n",
       "| HAWC_ID &lt;chr&gt; | Metric &lt;chr&gt; | Data &lt;chr&gt; | Study &lt;chr&gt; | Replicate &lt;dbl&gt; | Class &lt;chr&gt; | DTXSID &lt;chr&gt; | Name &lt;chr&gt; | Value &lt;dbl&gt; |\n",
       "|---|---|---|---|---|---|---|---|---|\n",
       "| 1040882 | Weight | WS | Nordin et al. 2015 | 1 | Metal | Al | Al | 1078 |\n",
       "| 1040882 | Weight | WS | Nordin et al. 2015 | 2 | Metal | Al | Al |  198 |\n",
       "| 1040882 | Weight | WS | Nordin et al. 2015 | 1 | Metal | B  | B  |  308 |\n",
       "| 1040882 | Weight | WS | Nordin et al. 2015 | 2 | Metal | B  | B  |  268 |\n",
       "| 1040882 | Weight | WS | Nordin et al. 2015 | 1 | Metal | Ca | Ca | 7120 |\n",
       "| 1040882 | Weight | WS | Nordin et al. 2015 | 2 | Metal | Ca | Ca |   NA |\n",
       "\n"
      ],
      "text/plain": [
       "  HAWC_ID Metric Data Study              Replicate Class DTXSID Name Value\n",
       "1 1040882 Weight WS   Nordin et al. 2015 1         Metal Al     Al   1078 \n",
       "2 1040882 Weight WS   Nordin et al. 2015 2         Metal Al     Al    198 \n",
       "3 1040882 Weight WS   Nordin et al. 2015 1         Metal B      B     308 \n",
       "4 1040882 Weight WS   Nordin et al. 2015 2         Metal B      B     268 \n",
       "5 1040882 Weight WS   Nordin et al. 2015 1         Metal Ca     Ca   7120 \n",
       "6 1040882 Weight WS   Nordin et al. 2015 2         Metal Ca     Ca     NA "
      ]
     },
     "metadata": {},
     "output_type": "display_data"
    }
   ],
   "source": [
    "# creating a df for MAR data\n",
    "mar_weight_df = weight_df %>%\n",
    "    filter(Value == 'NA')\n",
    "mar_vol_df = vol_df %>%\n",
    "    filter(Value == 'NA')\n",
    "\n",
    "preimputed_weight_df = anti_join(weight_df, mar_weight_df) \n",
    "preimputed_vol_df = anti_join(vol_df, mar_vol_df) \n",
    "\n",
    "preimputed_weight_df$Value = as.numeric(preimputed_weight_df$Value)\n",
    "preimputed_vol_df$Value = as.numeric(preimputed_vol_df$Value)\n",
    "mar_weight_df$Value = as.numeric(mar_weight_df$Value)\n",
    "mar_vol_df$Value = as.numeric(mar_vol_df$Value)\n",
    "\n",
    "# reordering cols\n",
    "preimputed_weight_df = preimputed_weight_df[,c(3,1,4,6,7,2,8,5,9)]\n",
    "preimputed_vol_df = preimputed_vol_df[,c(3,1,4,6,7,2,8,5,9)]\n",
    "\n",
    "head(preimputed_weight_df)"
   ]
  },
  {
   "cell_type": "code",
   "execution_count": 18,
   "id": "d661b972-2072-4dea-a918-94209634c3be",
   "metadata": {},
   "outputs": [
    {
     "data": {
      "text/html": [
       "<table class=\"dataframe\">\n",
       "<caption>A tibble: 6 × 9</caption>\n",
       "<thead>\n",
       "\t<tr><th scope=col>HAWC_ID</th><th scope=col>Metric</th><th scope=col>Data</th><th scope=col>Study</th><th scope=col>Replicate</th><th scope=col>Class</th><th scope=col>DTXSID</th><th scope=col>Name</th><th scope=col>Value</th></tr>\n",
       "\t<tr><th scope=col>&lt;chr&gt;</th><th scope=col>&lt;chr&gt;</th><th scope=col>&lt;chr&gt;</th><th scope=col>&lt;chr&gt;</th><th scope=col>&lt;dbl&gt;</th><th scope=col>&lt;chr&gt;</th><th scope=col>&lt;chr&gt;</th><th scope=col>&lt;chr&gt;</th><th scope=col>&lt;dbl&gt;</th></tr>\n",
       "</thead>\n",
       "<tbody>\n",
       "\t<tr><td>1040882</td><td>Weight</td><td>WS</td><td>Nordin et al. 2015</td><td>2</td><td>Metal</td><td>Ca</td><td>Ca</td><td>NA</td></tr>\n",
       "\t<tr><td>1040882</td><td>Weight</td><td>WS</td><td>Nordin et al. 2015</td><td>2</td><td>Metal</td><td>Fe</td><td>Fe</td><td>NA</td></tr>\n",
       "\t<tr><td>1040882</td><td>Weight</td><td>WS</td><td>Nordin et al. 2015</td><td>1</td><td>Metal</td><td>Mn</td><td>Mn</td><td>NA</td></tr>\n",
       "\t<tr><td>1040882</td><td>Weight</td><td>WS</td><td>Nordin et al. 2015</td><td>2</td><td>Metal</td><td>Mn</td><td>Mn</td><td>NA</td></tr>\n",
       "\t<tr><td>1040882</td><td>Weight</td><td>WS</td><td>Nordin et al. 2015</td><td>1</td><td>Metal</td><td>Ni</td><td>Ni</td><td>NA</td></tr>\n",
       "\t<tr><td>1040882</td><td>Weight</td><td>WS</td><td>Nordin et al. 2015</td><td>2</td><td>Metal</td><td>Ni</td><td>Ni</td><td>NA</td></tr>\n",
       "</tbody>\n",
       "</table>\n"
      ],
      "text/latex": [
       "A tibble: 6 × 9\n",
       "\\begin{tabular}{lllllllll}\n",
       " HAWC\\_ID & Metric & Data & Study & Replicate & Class & DTXSID & Name & Value\\\\\n",
       " <chr> & <chr> & <chr> & <chr> & <dbl> & <chr> & <chr> & <chr> & <dbl>\\\\\n",
       "\\hline\n",
       "\t 1040882 & Weight & WS & Nordin et al. 2015 & 2 & Metal & Ca & Ca & NA\\\\\n",
       "\t 1040882 & Weight & WS & Nordin et al. 2015 & 2 & Metal & Fe & Fe & NA\\\\\n",
       "\t 1040882 & Weight & WS & Nordin et al. 2015 & 1 & Metal & Mn & Mn & NA\\\\\n",
       "\t 1040882 & Weight & WS & Nordin et al. 2015 & 2 & Metal & Mn & Mn & NA\\\\\n",
       "\t 1040882 & Weight & WS & Nordin et al. 2015 & 1 & Metal & Ni & Ni & NA\\\\\n",
       "\t 1040882 & Weight & WS & Nordin et al. 2015 & 2 & Metal & Ni & Ni & NA\\\\\n",
       "\\end{tabular}\n"
      ],
      "text/markdown": [
       "\n",
       "A tibble: 6 × 9\n",
       "\n",
       "| HAWC_ID &lt;chr&gt; | Metric &lt;chr&gt; | Data &lt;chr&gt; | Study &lt;chr&gt; | Replicate &lt;dbl&gt; | Class &lt;chr&gt; | DTXSID &lt;chr&gt; | Name &lt;chr&gt; | Value &lt;dbl&gt; |\n",
       "|---|---|---|---|---|---|---|---|---|\n",
       "| 1040882 | Weight | WS | Nordin et al. 2015 | 2 | Metal | Ca | Ca | NA |\n",
       "| 1040882 | Weight | WS | Nordin et al. 2015 | 2 | Metal | Fe | Fe | NA |\n",
       "| 1040882 | Weight | WS | Nordin et al. 2015 | 1 | Metal | Mn | Mn | NA |\n",
       "| 1040882 | Weight | WS | Nordin et al. 2015 | 2 | Metal | Mn | Mn | NA |\n",
       "| 1040882 | Weight | WS | Nordin et al. 2015 | 1 | Metal | Ni | Ni | NA |\n",
       "| 1040882 | Weight | WS | Nordin et al. 2015 | 2 | Metal | Ni | Ni | NA |\n",
       "\n"
      ],
      "text/plain": [
       "  HAWC_ID Metric Data Study              Replicate Class DTXSID Name Value\n",
       "1 1040882 Weight WS   Nordin et al. 2015 2         Metal Ca     Ca   NA   \n",
       "2 1040882 Weight WS   Nordin et al. 2015 2         Metal Fe     Fe   NA   \n",
       "3 1040882 Weight WS   Nordin et al. 2015 1         Metal Mn     Mn   NA   \n",
       "4 1040882 Weight WS   Nordin et al. 2015 2         Metal Mn     Mn   NA   \n",
       "5 1040882 Weight WS   Nordin et al. 2015 1         Metal Ni     Ni   NA   \n",
       "6 1040882 Weight WS   Nordin et al. 2015 2         Metal Ni     Ni   NA   "
      ]
     },
     "metadata": {},
     "output_type": "display_data"
    }
   ],
   "source": [
    "# creating a df for MNAR data\n",
    "mnar_weight_df = preimputed_weight_df %>%\n",
    "    filter(is.na(Value))\n",
    "mnar_vol_df = preimputed_vol_df %>%\n",
    "    filter(is.na(Value))\n",
    "\n",
    "head(mnar_weight_df)"
   ]
  },
  {
   "cell_type": "code",
   "execution_count": 19,
   "id": "067dc934-b139-443d-82f5-5100ec735bc4",
   "metadata": {},
   "outputs": [
    {
     "name": "stderr",
     "output_type": "stream",
     "text": [
      "Warning message:\n",
      "“\u001b[1m\u001b[22mThere was 1 warning in `mutate()`.\n",
      "\u001b[1m\u001b[22m\u001b[36mℹ\u001b[39m In argument: `Value = sqrt(min(filtered_df$Value, na.rm = TRUE))`.\n",
      "Caused by warning in `min()`:\n",
      "\u001b[33m!\u001b[39m no non-missing arguments to min; returning Inf”\n",
      "Warning message:\n",
      "“\u001b[1m\u001b[22mThere was 1 warning in `mutate()`.\n",
      "\u001b[1m\u001b[22m\u001b[36mℹ\u001b[39m In argument: `Value = sqrt(min(filtered_df$Value, na.rm = TRUE))`.\n",
      "Caused by warning in `min()`:\n",
      "\u001b[33m!\u001b[39m no non-missing arguments to min; returning Inf”\n",
      "Warning message:\n",
      "“\u001b[1m\u001b[22mThere was 1 warning in `mutate()`.\n",
      "\u001b[1m\u001b[22m\u001b[36mℹ\u001b[39m In argument: `Value = sqrt(min(filtered_df$Value, na.rm = TRUE))`.\n",
      "Caused by warning in `min()`:\n",
      "\u001b[33m!\u001b[39m no non-missing arguments to min; returning Inf”\n",
      "Warning message:\n",
      "“\u001b[1m\u001b[22mThere was 1 warning in `mutate()`.\n",
      "\u001b[1m\u001b[22m\u001b[36mℹ\u001b[39m In argument: `Value = sqrt(min(filtered_df$Value, na.rm = TRUE))`.\n",
      "Caused by warning in `min()`:\n",
      "\u001b[33m!\u001b[39m no non-missing arguments to min; returning Inf”\n",
      "Warning message:\n",
      "“\u001b[1m\u001b[22mThere was 1 warning in `mutate()`.\n",
      "\u001b[1m\u001b[22m\u001b[36mℹ\u001b[39m In argument: `Value = sqrt(min(filtered_df$Value, na.rm = TRUE))`.\n",
      "Caused by warning in `min()`:\n",
      "\u001b[33m!\u001b[39m no non-missing arguments to min; returning Inf”\n",
      "Warning message:\n",
      "“\u001b[1m\u001b[22mThere was 1 warning in `mutate()`.\n",
      "\u001b[1m\u001b[22m\u001b[36mℹ\u001b[39m In argument: `Value = sqrt(min(filtered_df$Value, na.rm = TRUE))`.\n",
      "Caused by warning in `min()`:\n",
      "\u001b[33m!\u001b[39m no non-missing arguments to min; returning Inf”\n",
      "Warning message:\n",
      "“\u001b[1m\u001b[22mThere was 1 warning in `mutate()`.\n",
      "\u001b[1m\u001b[22m\u001b[36mℹ\u001b[39m In argument: `Value = sqrt(min(filtered_df$Value, na.rm = TRUE))`.\n",
      "Caused by warning in `min()`:\n",
      "\u001b[33m!\u001b[39m no non-missing arguments to min; returning Inf”\n",
      "Warning message:\n",
      "“\u001b[1m\u001b[22mThere was 1 warning in `mutate()`.\n",
      "\u001b[1m\u001b[22m\u001b[36mℹ\u001b[39m In argument: `Value = sqrt(min(filtered_df$Value, na.rm = TRUE))`.\n",
      "Caused by warning in `min()`:\n",
      "\u001b[33m!\u001b[39m no non-missing arguments to min; returning Inf”\n",
      "Warning message:\n",
      "“\u001b[1m\u001b[22mThere was 1 warning in `mutate()`.\n",
      "\u001b[1m\u001b[22m\u001b[36mℹ\u001b[39m In argument: `Value = sqrt(min(filtered_df$Value, na.rm = TRUE))`.\n",
      "Caused by warning in `min()`:\n",
      "\u001b[33m!\u001b[39m no non-missing arguments to min; returning Inf”\n",
      "Warning message:\n",
      "“\u001b[1m\u001b[22mThere was 1 warning in `mutate()`.\n",
      "\u001b[1m\u001b[22m\u001b[36mℹ\u001b[39m In argument: `Value = sqrt(min(filtered_df$Value, na.rm = TRUE))`.\n",
      "Caused by warning in `min()`:\n",
      "\u001b[33m!\u001b[39m no non-missing arguments to min; returning Inf”\n",
      "Warning message:\n",
      "“\u001b[1m\u001b[22mThere was 1 warning in `mutate()`.\n",
      "\u001b[1m\u001b[22m\u001b[36mℹ\u001b[39m In argument: `Value = sqrt(min(filtered_df$Value, na.rm = TRUE))`.\n",
      "Caused by warning in `min()`:\n",
      "\u001b[33m!\u001b[39m no non-missing arguments to min; returning Inf”\n",
      "Warning message:\n",
      "“\u001b[1m\u001b[22mThere was 1 warning in `mutate()`.\n",
      "\u001b[1m\u001b[22m\u001b[36mℹ\u001b[39m In argument: `Value = sqrt(min(filtered_df$Value, na.rm = TRUE))`.\n",
      "Caused by warning in `min()`:\n",
      "\u001b[33m!\u001b[39m no non-missing arguments to min; returning Inf”\n",
      "Warning message:\n",
      "“\u001b[1m\u001b[22mThere was 1 warning in `mutate()`.\n",
      "\u001b[1m\u001b[22m\u001b[36mℹ\u001b[39m In argument: `Value = sqrt(min(filtered_df$Value, na.rm = TRUE))`.\n",
      "Caused by warning in `min()`:\n",
      "\u001b[33m!\u001b[39m no non-missing arguments to min; returning Inf”\n",
      "Warning message:\n",
      "“\u001b[1m\u001b[22mThere was 1 warning in `mutate()`.\n",
      "\u001b[1m\u001b[22m\u001b[36mℹ\u001b[39m In argument: `Value = sqrt(min(filtered_df$Value, na.rm = TRUE))`.\n",
      "Caused by warning in `min()`:\n",
      "\u001b[33m!\u001b[39m no non-missing arguments to min; returning Inf”\n",
      "Warning message:\n",
      "“\u001b[1m\u001b[22mThere was 1 warning in `mutate()`.\n",
      "\u001b[1m\u001b[22m\u001b[36mℹ\u001b[39m In argument: `Value = sqrt(min(filtered_df$Value, na.rm = TRUE))`.\n",
      "Caused by warning in `min()`:\n",
      "\u001b[33m!\u001b[39m no non-missing arguments to min; returning Inf”\n",
      "Warning message:\n",
      "“\u001b[1m\u001b[22mThere was 1 warning in `mutate()`.\n",
      "\u001b[1m\u001b[22m\u001b[36mℹ\u001b[39m In argument: `Value = sqrt(min(filtered_df$Value, na.rm = TRUE))`.\n",
      "Caused by warning in `min()`:\n",
      "\u001b[33m!\u001b[39m no non-missing arguments to min; returning Inf”\n",
      "Warning message:\n",
      "“\u001b[1m\u001b[22mThere was 1 warning in `mutate()`.\n",
      "\u001b[1m\u001b[22m\u001b[36mℹ\u001b[39m In argument: `Value = sqrt(min(filtered_df$Value, na.rm = TRUE))`.\n",
      "Caused by warning in `min()`:\n",
      "\u001b[33m!\u001b[39m no non-missing arguments to min; returning Inf”\n",
      "Warning message:\n",
      "“\u001b[1m\u001b[22mThere was 1 warning in `mutate()`.\n",
      "\u001b[1m\u001b[22m\u001b[36mℹ\u001b[39m In argument: `Value = sqrt(min(filtered_df$Value, na.rm = TRUE))`.\n",
      "Caused by warning in `min()`:\n",
      "\u001b[33m!\u001b[39m no non-missing arguments to min; returning Inf”\n",
      "Warning message:\n",
      "“\u001b[1m\u001b[22mThere was 1 warning in `mutate()`.\n",
      "\u001b[1m\u001b[22m\u001b[36mℹ\u001b[39m In argument: `Value = sqrt(min(filtered_df$Value, na.rm = TRUE))`.\n",
      "Caused by warning in `min()`:\n",
      "\u001b[33m!\u001b[39m no non-missing arguments to min; returning Inf”\n",
      "Warning message:\n",
      "“\u001b[1m\u001b[22mThere was 1 warning in `mutate()`.\n",
      "\u001b[1m\u001b[22m\u001b[36mℹ\u001b[39m In argument: `Value = sqrt(min(filtered_df$Value, na.rm = TRUE))`.\n",
      "Caused by warning in `min()`:\n",
      "\u001b[33m!\u001b[39m no non-missing arguments to min; returning Inf”\n",
      "Warning message:\n",
      "“\u001b[1m\u001b[22mThere was 1 warning in `mutate()`.\n",
      "\u001b[1m\u001b[22m\u001b[36mℹ\u001b[39m In argument: `Value = sqrt(min(filtered_df$Value, na.rm = TRUE))`.\n",
      "Caused by warning in `min()`:\n",
      "\u001b[33m!\u001b[39m no non-missing arguments to min; returning Inf”\n",
      "Warning message:\n",
      "“\u001b[1m\u001b[22mThere was 1 warning in `mutate()`.\n",
      "\u001b[1m\u001b[22m\u001b[36mℹ\u001b[39m In argument: `Value = sqrt(min(filtered_df$Value, na.rm = TRUE))`.\n",
      "Caused by warning in `min()`:\n",
      "\u001b[33m!\u001b[39m no non-missing arguments to min; returning Inf”\n",
      "Warning message:\n",
      "“\u001b[1m\u001b[22mThere was 1 warning in `mutate()`.\n",
      "\u001b[1m\u001b[22m\u001b[36mℹ\u001b[39m In argument: `Value = sqrt(min(filtered_df$Value, na.rm = TRUE))`.\n",
      "Caused by warning in `min()`:\n",
      "\u001b[33m!\u001b[39m no non-missing arguments to min; returning Inf”\n",
      "Warning message:\n",
      "“\u001b[1m\u001b[22mThere was 1 warning in `mutate()`.\n",
      "\u001b[1m\u001b[22m\u001b[36mℹ\u001b[39m In argument: `Value = sqrt(min(filtered_df$Value, na.rm = TRUE))`.\n",
      "Caused by warning in `min()`:\n",
      "\u001b[33m!\u001b[39m no non-missing arguments to min; returning Inf”\n",
      "Warning message:\n",
      "“\u001b[1m\u001b[22mThere was 1 warning in `mutate()`.\n",
      "\u001b[1m\u001b[22m\u001b[36mℹ\u001b[39m In argument: `Value = sqrt(min(filtered_df$Value, na.rm = TRUE))`.\n",
      "Caused by warning in `min()`:\n",
      "\u001b[33m!\u001b[39m no non-missing arguments to min; returning Inf”\n",
      "Warning message:\n",
      "“\u001b[1m\u001b[22mThere was 1 warning in `mutate()`.\n",
      "\u001b[1m\u001b[22m\u001b[36mℹ\u001b[39m In argument: `Value = sqrt(min(filtered_df$Value, na.rm = TRUE))`.\n",
      "Caused by warning in `min()`:\n",
      "\u001b[33m!\u001b[39m no non-missing arguments to min; returning Inf”\n",
      "Warning message:\n",
      "“\u001b[1m\u001b[22mThere was 1 warning in `mutate()`.\n",
      "\u001b[1m\u001b[22m\u001b[36mℹ\u001b[39m In argument: `Value = sqrt(min(filtered_df$Value, na.rm = TRUE))`.\n",
      "Caused by warning in `min()`:\n",
      "\u001b[33m!\u001b[39m no non-missing arguments to min; returning Inf”\n",
      "Warning message:\n",
      "“\u001b[1m\u001b[22mThere was 1 warning in `mutate()`.\n",
      "\u001b[1m\u001b[22m\u001b[36mℹ\u001b[39m In argument: `Value = sqrt(min(filtered_df$Value, na.rm = TRUE))`.\n",
      "Caused by warning in `min()`:\n",
      "\u001b[33m!\u001b[39m no non-missing arguments to min; returning Inf”\n",
      "Warning message:\n",
      "“\u001b[1m\u001b[22mThere was 1 warning in `mutate()`.\n",
      "\u001b[1m\u001b[22m\u001b[36mℹ\u001b[39m In argument: `Value = sqrt(min(filtered_df$Value, na.rm = TRUE))`.\n",
      "Caused by warning in `min()`:\n",
      "\u001b[33m!\u001b[39m no non-missing arguments to min; returning Inf”\n",
      "Warning message:\n",
      "“\u001b[1m\u001b[22mThere was 1 warning in `mutate()`.\n",
      "\u001b[1m\u001b[22m\u001b[36mℹ\u001b[39m In argument: `Value = sqrt(min(filtered_df$Value, na.rm = TRUE))`.\n",
      "Caused by warning in `min()`:\n",
      "\u001b[33m!\u001b[39m no non-missing arguments to min; returning Inf”\n",
      "Warning message:\n",
      "“\u001b[1m\u001b[22mThere was 1 warning in `mutate()`.\n",
      "\u001b[1m\u001b[22m\u001b[36mℹ\u001b[39m In argument: `Value = sqrt(min(filtered_df$Value, na.rm = TRUE))`.\n",
      "Caused by warning in `min()`:\n",
      "\u001b[33m!\u001b[39m no non-missing arguments to min; returning Inf”\n",
      "Warning message:\n",
      "“\u001b[1m\u001b[22mThere was 1 warning in `mutate()`.\n",
      "\u001b[1m\u001b[22m\u001b[36mℹ\u001b[39m In argument: `Value = sqrt(min(filtered_df$Value, na.rm = TRUE))`.\n",
      "Caused by warning in `min()`:\n",
      "\u001b[33m!\u001b[39m no non-missing arguments to min; returning Inf”\n",
      "Warning message:\n",
      "“\u001b[1m\u001b[22mThere was 1 warning in `mutate()`.\n",
      "\u001b[1m\u001b[22m\u001b[36mℹ\u001b[39m In argument: `Value = sqrt(min(filtered_df$Value, na.rm = TRUE))`.\n",
      "Caused by warning in `min()`:\n",
      "\u001b[33m!\u001b[39m no non-missing arguments to min; returning Inf”\n",
      "Warning message:\n",
      "“\u001b[1m\u001b[22mThere was 1 warning in `mutate()`.\n",
      "\u001b[1m\u001b[22m\u001b[36mℹ\u001b[39m In argument: `Value = sqrt(min(filtered_df$Value, na.rm = TRUE))`.\n",
      "Caused by warning in `min()`:\n",
      "\u001b[33m!\u001b[39m no non-missing arguments to min; returning Inf”\n",
      "Warning message:\n",
      "“\u001b[1m\u001b[22mThere was 1 warning in `mutate()`.\n",
      "\u001b[1m\u001b[22m\u001b[36mℹ\u001b[39m In argument: `Value = sqrt(min(filtered_df$Value, na.rm = TRUE))`.\n",
      "Caused by warning in `min()`:\n",
      "\u001b[33m!\u001b[39m no non-missing arguments to min; returning Inf”\n",
      "Warning message:\n",
      "“\u001b[1m\u001b[22mThere was 1 warning in `mutate()`.\n",
      "\u001b[1m\u001b[22m\u001b[36mℹ\u001b[39m In argument: `Value = sqrt(min(filtered_df$Value, na.rm = TRUE))`.\n",
      "Caused by warning in `min()`:\n",
      "\u001b[33m!\u001b[39m no non-missing arguments to min; returning Inf”\n",
      "Warning message:\n",
      "“\u001b[1m\u001b[22mThere was 1 warning in `mutate()`.\n",
      "\u001b[1m\u001b[22m\u001b[36mℹ\u001b[39m In argument: `Value = sqrt(min(filtered_df$Value, na.rm = TRUE))`.\n",
      "Caused by warning in `min()`:\n",
      "\u001b[33m!\u001b[39m no non-missing arguments to min; returning Inf”\n",
      "Warning message:\n",
      "“\u001b[1m\u001b[22mThere was 1 warning in `mutate()`.\n",
      "\u001b[1m\u001b[22m\u001b[36mℹ\u001b[39m In argument: `Value = sqrt(min(filtered_df$Value, na.rm = TRUE))`.\n",
      "Caused by warning in `min()`:\n",
      "\u001b[33m!\u001b[39m no non-missing arguments to min; returning Inf”\n"
     ]
    },
    {
     "data": {
      "text/html": [
       "<table class=\"dataframe\">\n",
       "<caption>A tibble: 6 × 9</caption>\n",
       "<thead>\n",
       "\t<tr><th scope=col>HAWC_ID</th><th scope=col>Metric</th><th scope=col>Data</th><th scope=col>Study</th><th scope=col>Replicate</th><th scope=col>Class</th><th scope=col>DTXSID</th><th scope=col>Name</th><th scope=col>Value</th></tr>\n",
       "\t<tr><th scope=col>&lt;chr&gt;</th><th scope=col>&lt;chr&gt;</th><th scope=col>&lt;chr&gt;</th><th scope=col>&lt;chr&gt;</th><th scope=col>&lt;dbl&gt;</th><th scope=col>&lt;chr&gt;</th><th scope=col>&lt;chr&gt;</th><th scope=col>&lt;chr&gt;</th><th scope=col>&lt;dbl&gt;</th></tr>\n",
       "</thead>\n",
       "<tbody>\n",
       "\t<tr><td>1040882</td><td>Weight</td><td>WS</td><td>Nordin et al. 2015</td><td>1</td><td>Metal</td><td>Ca</td><td>Ca</td><td>7120.00000</td></tr>\n",
       "\t<tr><td>1040882</td><td>Weight</td><td>WS</td><td>Nordin et al. 2015</td><td>2</td><td>Metal</td><td>Ca</td><td>Ca</td><td>  84.38009</td></tr>\n",
       "\t<tr><td>1040882</td><td>Weight</td><td>WS</td><td>Nordin et al. 2015</td><td>1</td><td>Metal</td><td>Fe</td><td>Fe</td><td>1172.00000</td></tr>\n",
       "\t<tr><td>1040882</td><td>Weight</td><td>WS</td><td>Nordin et al. 2015</td><td>2</td><td>Metal</td><td>Fe</td><td>Fe</td><td>  34.23449</td></tr>\n",
       "\t<tr><td>1040882</td><td>Weight</td><td>WS</td><td>Nordin et al. 2015</td><td>1</td><td>Metal</td><td>Mn</td><td>Mn</td><td>        NA</td></tr>\n",
       "\t<tr><td>1040882</td><td>Weight</td><td>WS</td><td>Nordin et al. 2015</td><td>2</td><td>Metal</td><td>Mn</td><td>Mn</td><td>        NA</td></tr>\n",
       "</tbody>\n",
       "</table>\n"
      ],
      "text/latex": [
       "A tibble: 6 × 9\n",
       "\\begin{tabular}{lllllllll}\n",
       " HAWC\\_ID & Metric & Data & Study & Replicate & Class & DTXSID & Name & Value\\\\\n",
       " <chr> & <chr> & <chr> & <chr> & <dbl> & <chr> & <chr> & <chr> & <dbl>\\\\\n",
       "\\hline\n",
       "\t 1040882 & Weight & WS & Nordin et al. 2015 & 1 & Metal & Ca & Ca & 7120.00000\\\\\n",
       "\t 1040882 & Weight & WS & Nordin et al. 2015 & 2 & Metal & Ca & Ca &   84.38009\\\\\n",
       "\t 1040882 & Weight & WS & Nordin et al. 2015 & 1 & Metal & Fe & Fe & 1172.00000\\\\\n",
       "\t 1040882 & Weight & WS & Nordin et al. 2015 & 2 & Metal & Fe & Fe &   34.23449\\\\\n",
       "\t 1040882 & Weight & WS & Nordin et al. 2015 & 1 & Metal & Mn & Mn &         NA\\\\\n",
       "\t 1040882 & Weight & WS & Nordin et al. 2015 & 2 & Metal & Mn & Mn &         NA\\\\\n",
       "\\end{tabular}\n"
      ],
      "text/markdown": [
       "\n",
       "A tibble: 6 × 9\n",
       "\n",
       "| HAWC_ID &lt;chr&gt; | Metric &lt;chr&gt; | Data &lt;chr&gt; | Study &lt;chr&gt; | Replicate &lt;dbl&gt; | Class &lt;chr&gt; | DTXSID &lt;chr&gt; | Name &lt;chr&gt; | Value &lt;dbl&gt; |\n",
       "|---|---|---|---|---|---|---|---|---|\n",
       "| 1040882 | Weight | WS | Nordin et al. 2015 | 1 | Metal | Ca | Ca | 7120.00000 |\n",
       "| 1040882 | Weight | WS | Nordin et al. 2015 | 2 | Metal | Ca | Ca |   84.38009 |\n",
       "| 1040882 | Weight | WS | Nordin et al. 2015 | 1 | Metal | Fe | Fe | 1172.00000 |\n",
       "| 1040882 | Weight | WS | Nordin et al. 2015 | 2 | Metal | Fe | Fe |   34.23449 |\n",
       "| 1040882 | Weight | WS | Nordin et al. 2015 | 1 | Metal | Mn | Mn |         NA |\n",
       "| 1040882 | Weight | WS | Nordin et al. 2015 | 2 | Metal | Mn | Mn |         NA |\n",
       "\n"
      ],
      "text/plain": [
       "  HAWC_ID Metric Data Study              Replicate Class DTXSID Name Value     \n",
       "1 1040882 Weight WS   Nordin et al. 2015 1         Metal Ca     Ca   7120.00000\n",
       "2 1040882 Weight WS   Nordin et al. 2015 2         Metal Ca     Ca     84.38009\n",
       "3 1040882 Weight WS   Nordin et al. 2015 1         Metal Fe     Fe   1172.00000\n",
       "4 1040882 Weight WS   Nordin et al. 2015 2         Metal Fe     Fe     34.23449\n",
       "5 1040882 Weight WS   Nordin et al. 2015 1         Metal Mn     Mn           NA\n",
       "6 1040882 Weight WS   Nordin et al. 2015 2         Metal Mn     Mn           NA"
      ]
     },
     "metadata": {},
     "output_type": "display_data"
    }
   ],
   "source": [
    "square_root_imputation = function(mnar_df, preimputed_df){\n",
    "    # ADD WORDS\n",
    "\n",
    "    id_df = mnar_df[is.na(mnar_df$Value),]\n",
    "    study_ids = unique(id_df$HAWC_ID)\n",
    "    \n",
    "    imputed_df = data.frame()\n",
    "    for (i in 1:length(id_df$HAWC_ID)){\n",
    "    \n",
    "        filtered_df = preimputed_df %>%\n",
    "            filter(HAWC_ID == id_df$HAWC_ID[i], DTXSID == id_df$DTXSID[i])\n",
    "    \n",
    "        na_df = filtered_df %>%\n",
    "            filter(is.na(Value)) %>%\n",
    "            mutate(Value = sqrt(min(filtered_df$Value, na.rm = TRUE)))\n",
    "    \n",
    "        # combining rows of data\n",
    "        combined_df = rbind(filtered_df %>%\n",
    "            filter(!is.na(Value)), na_df)\n",
    "    \n",
    "        imputed_df = rbind(imputed_df, combined_df) %>%\n",
    "                        unique()\n",
    "    }\n",
    "    return(imputed_df)    \n",
    "    \n",
    "}\n",
    "\n",
    "# calling fn\n",
    "imputed_vol_df = square_root_imputation(mnar_vol_df, preimputed_vol_df) %>%\n",
    "    mutate(Value = ifelse(Value == Inf, NA, Value))\n",
    "imputed_weight_df = square_root_imputation(mnar_weight_df, preimputed_weight_df) %>%\n",
    "    mutate(Value = ifelse(Value == Inf, NA, Value))\n",
    "    \n",
    "head(imputed_weight_df)"
   ]
  },
  {
   "cell_type": "code",
   "execution_count": 20,
   "id": "07854f04-04e7-47e4-8bf0-d5a235651018",
   "metadata": {
    "scrolled": true
   },
   "outputs": [
    {
     "name": "stderr",
     "output_type": "stream",
     "text": [
      "\u001b[1m\u001b[22mJoining with `by = join_by(Metric, Data, Class, DTXSID)`\n",
      "\u001b[1m\u001b[22mJoining with `by = join_by(Metric, Data, Class, DTXSID)`\n"
     ]
    },
    {
     "data": {
      "text/html": [
       "<table class=\"dataframe\">\n",
       "<caption>A tibble: 3 × 2</caption>\n",
       "<thead>\n",
       "\t<tr><th scope=col>DTXSID</th><th scope=col>Value</th></tr>\n",
       "\t<tr><th scope=col>&lt;chr&gt;</th><th scope=col>&lt;dbl&gt;</th></tr>\n",
       "</thead>\n",
       "<tbody>\n",
       "\t<tr><td>DTXSID2020139</td><td>0.6633250</td></tr>\n",
       "\t<tr><td>DTXSID3021774</td><td>0.2828427</td></tr>\n",
       "\t<tr><td>DTXSID5023908</td><td>1.1916375</td></tr>\n",
       "</tbody>\n",
       "</table>\n"
      ],
      "text/latex": [
       "A tibble: 3 × 2\n",
       "\\begin{tabular}{ll}\n",
       " DTXSID & Value\\\\\n",
       " <chr> & <dbl>\\\\\n",
       "\\hline\n",
       "\t DTXSID2020139 & 0.6633250\\\\\n",
       "\t DTXSID3021774 & 0.2828427\\\\\n",
       "\t DTXSID5023908 & 1.1916375\\\\\n",
       "\\end{tabular}\n"
      ],
      "text/markdown": [
       "\n",
       "A tibble: 3 × 2\n",
       "\n",
       "| DTXSID &lt;chr&gt; | Value &lt;dbl&gt; |\n",
       "|---|---|\n",
       "| DTXSID2020139 | 0.6633250 |\n",
       "| DTXSID3021774 | 0.2828427 |\n",
       "| DTXSID5023908 | 1.1916375 |\n",
       "\n"
      ],
      "text/plain": [
       "  DTXSID        Value    \n",
       "1 DTXSID2020139 0.6633250\n",
       "2 DTXSID3021774 0.2828427\n",
       "3 DTXSID5023908 1.1916375"
      ]
     },
     "metadata": {},
     "output_type": "display_data"
    },
    {
     "data": {
      "text/html": [
       "<table class=\"dataframe\">\n",
       "<caption>A tibble: 6 × 2</caption>\n",
       "<thead>\n",
       "\t<tr><th scope=col>DTXSID</th><th scope=col>Value</th></tr>\n",
       "\t<tr><th scope=col>&lt;chr&gt;</th><th scope=col>&lt;dbl&gt;</th></tr>\n",
       "</thead>\n",
       "<tbody>\n",
       "\t<tr><td>Al           </td><td>1.31148770</td></tr>\n",
       "\t<tr><td>Cr           </td><td>0.31622777</td></tr>\n",
       "\t<tr><td>DTXSID0023909</td><td>0.05234501</td></tr>\n",
       "\t<tr><td>DTXSID3023845</td><td>0.11584472</td></tr>\n",
       "\t<tr><td>DTXSID4047753</td><td>0.02701851</td></tr>\n",
       "\t<tr><td>DTXSID8020913</td><td>0.15023315</td></tr>\n",
       "</tbody>\n",
       "</table>\n"
      ],
      "text/latex": [
       "A tibble: 6 × 2\n",
       "\\begin{tabular}{ll}\n",
       " DTXSID & Value\\\\\n",
       " <chr> & <dbl>\\\\\n",
       "\\hline\n",
       "\t Al            & 1.31148770\\\\\n",
       "\t Cr            & 0.31622777\\\\\n",
       "\t DTXSID0023909 & 0.05234501\\\\\n",
       "\t DTXSID3023845 & 0.11584472\\\\\n",
       "\t DTXSID4047753 & 0.02701851\\\\\n",
       "\t DTXSID8020913 & 0.15023315\\\\\n",
       "\\end{tabular}\n"
      ],
      "text/markdown": [
       "\n",
       "A tibble: 6 × 2\n",
       "\n",
       "| DTXSID &lt;chr&gt; | Value &lt;dbl&gt; |\n",
       "|---|---|\n",
       "| Al            | 1.31148770 |\n",
       "| Cr            | 0.31622777 |\n",
       "| DTXSID0023909 | 0.05234501 |\n",
       "| DTXSID3023845 | 0.11584472 |\n",
       "| DTXSID4047753 | 0.02701851 |\n",
       "| DTXSID8020913 | 0.15023315 |\n",
       "\n"
      ],
      "text/plain": [
       "  DTXSID        Value     \n",
       "1 Al            1.31148770\n",
       "2 Cr            0.31622777\n",
       "3 DTXSID0023909 0.05234501\n",
       "4 DTXSID3023845 0.11584472\n",
       "5 DTXSID4047753 0.02701851\n",
       "6 DTXSID8020913 0.15023315"
      ]
     },
     "metadata": {},
     "output_type": "display_data"
    }
   ],
   "source": [
    "# there are still a few variables that didn't have any values to do the square root imputation\n",
    "# their imputed values will be based off of distributions from other studies\n",
    "other_studies_vol_df = semi_join(preimputed_vol_df %>%\n",
    "                filter(!is.na(Value)), imputed_vol_df %>%\n",
    "                               filter(is.na(Value)) %>%\n",
    "    select(2,3,6,7)) %>%\n",
    "    group_by(DTXSID) %>%\n",
    "    summarize(Value = sqrt(min(Value)))\n",
    "\n",
    "other_studies_weight_df = semi_join(preimputed_weight_df %>%\n",
    "                filter(!is.na(Value)), imputed_weight_df %>%\n",
    "                               filter(is.na(Value)) %>%\n",
    "    select(2,3,6,7)) %>%\n",
    "    group_by(DTXSID) %>%\n",
    "    summarize(Value = sqrt(min(Value)))\n",
    "\n",
    "head(other_studies_vol_df)\n",
    "head(other_studies_weight_df)"
   ]
  },
  {
   "cell_type": "code",
   "execution_count": 21,
   "id": "5ccba263-d734-4cdd-a705-b1ae9d6b156f",
   "metadata": {},
   "outputs": [
    {
     "data": {
      "text/html": [
       "<table class=\"dataframe\">\n",
       "<caption>A tibble: 6 × 9</caption>\n",
       "<thead>\n",
       "\t<tr><th scope=col>HAWC_ID</th><th scope=col>Metric</th><th scope=col>Data</th><th scope=col>Study</th><th scope=col>Replicate</th><th scope=col>Class</th><th scope=col>DTXSID</th><th scope=col>Name</th><th scope=col>Value</th></tr>\n",
       "\t<tr><th scope=col>&lt;chr&gt;</th><th scope=col>&lt;chr&gt;</th><th scope=col>&lt;chr&gt;</th><th scope=col>&lt;chr&gt;</th><th scope=col>&lt;dbl&gt;</th><th scope=col>&lt;chr&gt;</th><th scope=col>&lt;chr&gt;</th><th scope=col>&lt;chr&gt;</th><th scope=col>&lt;dbl&gt;</th></tr>\n",
       "</thead>\n",
       "<tbody>\n",
       "\t<tr><td>1040882</td><td>Weight</td><td>WS</td><td>Nordin et al. 2015 </td><td>1</td><td>Metal</td><td>Ca</td><td>Ca</td><td>7120.000000</td></tr>\n",
       "\t<tr><td>1040882</td><td>Weight</td><td>WS</td><td>Nordin et al. 2015 </td><td>2</td><td>Metal</td><td>Ca</td><td>Ca</td><td>  84.380092</td></tr>\n",
       "\t<tr><td>1040882</td><td>Weight</td><td>WS</td><td>Nordin et al. 2015 </td><td>1</td><td>Metal</td><td>Fe</td><td>Fe</td><td>1172.000000</td></tr>\n",
       "\t<tr><td>1040882</td><td>Weight</td><td>WS</td><td>Nordin et al. 2015 </td><td>2</td><td>Metal</td><td>Fe</td><td>Fe</td><td>  34.234486</td></tr>\n",
       "\t<tr><td>1063054</td><td>Weight</td><td>WS</td><td>Corsini et al. 2013</td><td>1</td><td>Metal</td><td>Cr</td><td>Cr</td><td>  40.000000</td></tr>\n",
       "\t<tr><td>1063054</td><td>Weight</td><td>WS</td><td>Corsini et al. 2013</td><td>2</td><td>Metal</td><td>Cr</td><td>Cr</td><td>   6.324555</td></tr>\n",
       "</tbody>\n",
       "</table>\n"
      ],
      "text/latex": [
       "A tibble: 6 × 9\n",
       "\\begin{tabular}{lllllllll}\n",
       " HAWC\\_ID & Metric & Data & Study & Replicate & Class & DTXSID & Name & Value\\\\\n",
       " <chr> & <chr> & <chr> & <chr> & <dbl> & <chr> & <chr> & <chr> & <dbl>\\\\\n",
       "\\hline\n",
       "\t 1040882 & Weight & WS & Nordin et al. 2015  & 1 & Metal & Ca & Ca & 7120.000000\\\\\n",
       "\t 1040882 & Weight & WS & Nordin et al. 2015  & 2 & Metal & Ca & Ca &   84.380092\\\\\n",
       "\t 1040882 & Weight & WS & Nordin et al. 2015  & 1 & Metal & Fe & Fe & 1172.000000\\\\\n",
       "\t 1040882 & Weight & WS & Nordin et al. 2015  & 2 & Metal & Fe & Fe &   34.234486\\\\\n",
       "\t 1063054 & Weight & WS & Corsini et al. 2013 & 1 & Metal & Cr & Cr &   40.000000\\\\\n",
       "\t 1063054 & Weight & WS & Corsini et al. 2013 & 2 & Metal & Cr & Cr &    6.324555\\\\\n",
       "\\end{tabular}\n"
      ],
      "text/markdown": [
       "\n",
       "A tibble: 6 × 9\n",
       "\n",
       "| HAWC_ID &lt;chr&gt; | Metric &lt;chr&gt; | Data &lt;chr&gt; | Study &lt;chr&gt; | Replicate &lt;dbl&gt; | Class &lt;chr&gt; | DTXSID &lt;chr&gt; | Name &lt;chr&gt; | Value &lt;dbl&gt; |\n",
       "|---|---|---|---|---|---|---|---|---|\n",
       "| 1040882 | Weight | WS | Nordin et al. 2015  | 1 | Metal | Ca | Ca | 7120.000000 |\n",
       "| 1040882 | Weight | WS | Nordin et al. 2015  | 2 | Metal | Ca | Ca |   84.380092 |\n",
       "| 1040882 | Weight | WS | Nordin et al. 2015  | 1 | Metal | Fe | Fe | 1172.000000 |\n",
       "| 1040882 | Weight | WS | Nordin et al. 2015  | 2 | Metal | Fe | Fe |   34.234486 |\n",
       "| 1063054 | Weight | WS | Corsini et al. 2013 | 1 | Metal | Cr | Cr |   40.000000 |\n",
       "| 1063054 | Weight | WS | Corsini et al. 2013 | 2 | Metal | Cr | Cr |    6.324555 |\n",
       "\n"
      ],
      "text/plain": [
       "  HAWC_ID Metric Data Study               Replicate Class DTXSID Name\n",
       "1 1040882 Weight WS   Nordin et al. 2015  1         Metal Ca     Ca  \n",
       "2 1040882 Weight WS   Nordin et al. 2015  2         Metal Ca     Ca  \n",
       "3 1040882 Weight WS   Nordin et al. 2015  1         Metal Fe     Fe  \n",
       "4 1040882 Weight WS   Nordin et al. 2015  2         Metal Fe     Fe  \n",
       "5 1063054 Weight WS   Corsini et al. 2013 1         Metal Cr     Cr  \n",
       "6 1063054 Weight WS   Corsini et al. 2013 2         Metal Cr     Cr  \n",
       "  Value      \n",
       "1 7120.000000\n",
       "2   84.380092\n",
       "3 1172.000000\n",
       "4   34.234486\n",
       "5   40.000000\n",
       "6    6.324555"
      ]
     },
     "metadata": {},
     "output_type": "display_data"
    }
   ],
   "source": [
    "# removing NAs from the imputed df \n",
    "removed_imputed_vol_df = imputed_vol_df %>%\n",
    "    filter(!is.na(Value))\n",
    "removed_imputed_weight_df = imputed_weight_df %>%\n",
    "    filter(!is.na(Value))\n",
    "\n",
    "# adding in the newly imputed values back in \n",
    "all_imputed_vol_df = cbind(imputed_vol_df %>%\n",
    "    filter(is.na(Value)) %>%\n",
    "    select(-Value), Value = c(rep(other_studies_vol_df$Value[3],2), rep(other_studies_vol_df$Value[1],2),\n",
    "                     rep(other_studies_vol_df$Value[2],2)))\n",
    "all_imputed_vol_df = rbind(removed_imputed_vol_df, all_imputed_vol_df)\n",
    "\n",
    "all_imputed_weight_df = cbind(imputed_weight_df %>%\n",
    "    filter(is.na(Value)) %>%\n",
    "    select(-Value), Value = c(rep(other_studies_weight_df$Value[10],2), rep(other_studies_weight_df$Value[11],2),\n",
    "                     rep(other_studies_weight_df$Value[10],2), rep(other_studies_weight_df$Value[12],2), rep(NA,5),\n",
    "                     other_studies_weight_df$Value[c(1:2,9,11,12,8)], rep(other_studies_weight_df$Value[4],3),\n",
    "                     rep(other_studies_weight_df$Value[6],3), other_studies_weight_df$Value[8], \n",
    "                     rep(other_studies_weight_df$Value[7],3), rep(other_studies_weight_df$Value[5],3)))\n",
    "\n",
    "all_imputed_weight_df = rbind(removed_imputed_weight_df, all_imputed_weight_df)\n",
    "# left_join(imputed_df %>%\n",
    "#         filter(is.na(Value)) %>%\n",
    "#         select(-Value), other_studies_df)\n",
    "\n",
    "head(all_imputed_weight_df)"
   ]
  },
  {
   "cell_type": "code",
   "execution_count": 22,
   "id": "1e23e74f-00fc-48d5-a263-3df792097fdd",
   "metadata": {},
   "outputs": [
    {
     "name": "stderr",
     "output_type": "stream",
     "text": [
      "\u001b[1m\u001b[22mJoining with `by = join_by(HAWC_ID, Metric, Data, Study, Replicate, Class,\n",
      "DTXSID, Name)`\n",
      "\u001b[1m\u001b[22mJoining with `by = join_by(HAWC_ID, Metric, Data, Study, Replicate, Class,\n",
      "DTXSID, Name)`\n"
     ]
    },
    {
     "data": {
      "text/html": [
       "<table class=\"dataframe\">\n",
       "<caption>A tibble: 6 × 9</caption>\n",
       "<thead>\n",
       "\t<tr><th scope=col>HAWC_ID</th><th scope=col>Metric</th><th scope=col>Data</th><th scope=col>Study</th><th scope=col>Replicate</th><th scope=col>Class</th><th scope=col>DTXSID</th><th scope=col>Name</th><th scope=col>Value</th></tr>\n",
       "\t<tr><th scope=col>&lt;chr&gt;</th><th scope=col>&lt;chr&gt;</th><th scope=col>&lt;chr&gt;</th><th scope=col>&lt;chr&gt;</th><th scope=col>&lt;dbl&gt;</th><th scope=col>&lt;chr&gt;</th><th scope=col>&lt;chr&gt;</th><th scope=col>&lt;chr&gt;</th><th scope=col>&lt;dbl&gt;</th></tr>\n",
       "</thead>\n",
       "<tbody>\n",
       "\t<tr><td>1040882</td><td>Weight</td><td>WS</td><td>Nordin et al. 2015 </td><td>1</td><td>Metal</td><td>Ca</td><td>Ca</td><td>7120.000000</td></tr>\n",
       "\t<tr><td>1040882</td><td>Weight</td><td>WS</td><td>Nordin et al. 2015 </td><td>2</td><td>Metal</td><td>Ca</td><td>Ca</td><td>  84.380092</td></tr>\n",
       "\t<tr><td>1040882</td><td>Weight</td><td>WS</td><td>Nordin et al. 2015 </td><td>1</td><td>Metal</td><td>Fe</td><td>Fe</td><td>1172.000000</td></tr>\n",
       "\t<tr><td>1040882</td><td>Weight</td><td>WS</td><td>Nordin et al. 2015 </td><td>2</td><td>Metal</td><td>Fe</td><td>Fe</td><td>  34.234486</td></tr>\n",
       "\t<tr><td>1063054</td><td>Weight</td><td>WS</td><td>Corsini et al. 2013</td><td>1</td><td>Metal</td><td>Cr</td><td>Cr</td><td>  40.000000</td></tr>\n",
       "\t<tr><td>1063054</td><td>Weight</td><td>WS</td><td>Corsini et al. 2013</td><td>2</td><td>Metal</td><td>Cr</td><td>Cr</td><td>   6.324555</td></tr>\n",
       "</tbody>\n",
       "</table>\n"
      ],
      "text/latex": [
       "A tibble: 6 × 9\n",
       "\\begin{tabular}{lllllllll}\n",
       " HAWC\\_ID & Metric & Data & Study & Replicate & Class & DTXSID & Name & Value\\\\\n",
       " <chr> & <chr> & <chr> & <chr> & <dbl> & <chr> & <chr> & <chr> & <dbl>\\\\\n",
       "\\hline\n",
       "\t 1040882 & Weight & WS & Nordin et al. 2015  & 1 & Metal & Ca & Ca & 7120.000000\\\\\n",
       "\t 1040882 & Weight & WS & Nordin et al. 2015  & 2 & Metal & Ca & Ca &   84.380092\\\\\n",
       "\t 1040882 & Weight & WS & Nordin et al. 2015  & 1 & Metal & Fe & Fe & 1172.000000\\\\\n",
       "\t 1040882 & Weight & WS & Nordin et al. 2015  & 2 & Metal & Fe & Fe &   34.234486\\\\\n",
       "\t 1063054 & Weight & WS & Corsini et al. 2013 & 1 & Metal & Cr & Cr &   40.000000\\\\\n",
       "\t 1063054 & Weight & WS & Corsini et al. 2013 & 2 & Metal & Cr & Cr &    6.324555\\\\\n",
       "\\end{tabular}\n"
      ],
      "text/markdown": [
       "\n",
       "A tibble: 6 × 9\n",
       "\n",
       "| HAWC_ID &lt;chr&gt; | Metric &lt;chr&gt; | Data &lt;chr&gt; | Study &lt;chr&gt; | Replicate &lt;dbl&gt; | Class &lt;chr&gt; | DTXSID &lt;chr&gt; | Name &lt;chr&gt; | Value &lt;dbl&gt; |\n",
       "|---|---|---|---|---|---|---|---|---|\n",
       "| 1040882 | Weight | WS | Nordin et al. 2015  | 1 | Metal | Ca | Ca | 7120.000000 |\n",
       "| 1040882 | Weight | WS | Nordin et al. 2015  | 2 | Metal | Ca | Ca |   84.380092 |\n",
       "| 1040882 | Weight | WS | Nordin et al. 2015  | 1 | Metal | Fe | Fe | 1172.000000 |\n",
       "| 1040882 | Weight | WS | Nordin et al. 2015  | 2 | Metal | Fe | Fe |   34.234486 |\n",
       "| 1063054 | Weight | WS | Corsini et al. 2013 | 1 | Metal | Cr | Cr |   40.000000 |\n",
       "| 1063054 | Weight | WS | Corsini et al. 2013 | 2 | Metal | Cr | Cr |    6.324555 |\n",
       "\n"
      ],
      "text/plain": [
       "  HAWC_ID Metric Data Study               Replicate Class DTXSID Name\n",
       "1 1040882 Weight WS   Nordin et al. 2015  1         Metal Ca     Ca  \n",
       "2 1040882 Weight WS   Nordin et al. 2015  2         Metal Ca     Ca  \n",
       "3 1040882 Weight WS   Nordin et al. 2015  1         Metal Fe     Fe  \n",
       "4 1040882 Weight WS   Nordin et al. 2015  2         Metal Fe     Fe  \n",
       "5 1063054 Weight WS   Corsini et al. 2013 1         Metal Cr     Cr  \n",
       "6 1063054 Weight WS   Corsini et al. 2013 2         Metal Cr     Cr  \n",
       "  Value      \n",
       "1 7120.000000\n",
       "2   84.380092\n",
       "3 1172.000000\n",
       "4   34.234486\n",
       "5   40.000000\n",
       "6    6.324555"
      ]
     },
     "metadata": {},
     "output_type": "display_data"
    },
    {
     "data": {
      "text/html": [
       "<style>\n",
       ".list-inline {list-style: none; margin:0; padding: 0}\n",
       ".list-inline>li {display: inline-block}\n",
       ".list-inline>li:not(:last-child)::after {content: \"\\00b7\"; padding: 0 .5ex}\n",
       "</style>\n",
       "<ol class=list-inline><li>1912</li><li>9</li></ol>\n"
      ],
      "text/latex": [
       "\\begin{enumerate*}\n",
       "\\item 1912\n",
       "\\item 9\n",
       "\\end{enumerate*}\n"
      ],
      "text/markdown": [
       "1. 1912\n",
       "2. 9\n",
       "\n",
       "\n"
      ],
      "text/plain": [
       "[1] 1912    9"
      ]
     },
     "metadata": {},
     "output_type": "display_data"
    },
    {
     "data": {
      "text/html": [
       "<style>\n",
       ".list-inline {list-style: none; margin:0; padding: 0}\n",
       ".list-inline>li {display: inline-block}\n",
       ".list-inline>li:not(:last-child)::after {content: \"\\00b7\"; padding: 0 .5ex}\n",
       "</style>\n",
       "<ol class=list-inline><li>3387</li><li>9</li></ol>\n"
      ],
      "text/latex": [
       "\\begin{enumerate*}\n",
       "\\item 3387\n",
       "\\item 9\n",
       "\\end{enumerate*}\n"
      ],
      "text/markdown": [
       "1. 3387\n",
       "2. 9\n",
       "\n",
       "\n"
      ],
      "text/plain": [
       "[1] 3387    9"
      ]
     },
     "metadata": {},
     "output_type": "display_data"
    }
   ],
   "source": [
    "# creating 1 df\n",
    "mnar_imputed_vol_df = rbind(#imputed data\n",
    "                               all_imputed_vol_df,\n",
    "                               # adding in MAR data\n",
    "                               mar_vol_df,\n",
    "                               # adding back in non-imputed data\n",
    "                               anti_join(preimputed_vol_df, all_imputed_vol_df[,1:8]))\n",
    "mnar_imputed_weight_df = rbind(# imputed data\n",
    "                               all_imputed_weight_df,\n",
    "                               # adding in MAR data\n",
    "                               mar_weight_df,\n",
    "                               # adding back in non-imputed data\n",
    "                               anti_join(preimputed_weight_df, all_imputed_weight_df[,1:8]))\n",
    "\n",
    "head(mnar_imputed_weight_df)\n",
    "dim(mnar_imputed_vol_df)\n",
    "dim(mnar_imputed_weight_df)"
   ]
  },
  {
   "cell_type": "code",
   "execution_count": 23,
   "id": "8ab637a8-f3e3-4b57-aa11-facaa31d27ee",
   "metadata": {},
   "outputs": [],
   "source": [
    "# dim(vol_df)\n",
    "# dim(mar_vol_df)\n",
    "# dim(mnar_vol_df)\n",
    "# # number of records of studies that have MNAR and will be imputed\n",
    "# #dim(vol_df %>% filter(HAWC_ID %in% unique(mnar_vol_df$HAWC_ID)))\n",
    "\n",
    "# # number of records I should have after square root imputation\n",
    "# dim(vol_df)[1] - dim(mar_vol_df)[1]\n",
    "# dim(all_imputed_vol_df) # YES!!\n",
    "#dim(anti_join(preimputed_vol_df, mnar_vol_df)) \n",
    "\n",
    "# dim(all_imputed_vol_df) # yes!\n",
    "# dim(imputed_vol_df)\n",
    "# dim(preimputed_vol_df %>%\n",
    "#                   filter(HAWC_ID %notin% all_imputed_vol_df$HAWC_ID))\n",
    "# 1095 + 63 "
   ]
  },
  {
   "cell_type": "markdown",
   "id": "4a7e96ae-45f5-4800-8ca1-e46bf264ce17",
   "metadata": {},
   "source": [
    "# Filter #4: Double Checking MAR Records\n",
    "\n",
    "Making sure that when the data is split based on `Class` and transformed into a wide format, we have at least 50% of the records with numeric values for each metal or chemical."
   ]
  },
  {
   "cell_type": "code",
   "execution_count": 24,
   "id": "4c1a1bb0-1a58-4d0d-bd7d-31c8a1ba194f",
   "metadata": {},
   "outputs": [
    {
     "data": {
      "text/html": [
       "<table class=\"dataframe\">\n",
       "<caption>A tibble: 6 × 7</caption>\n",
       "<thead>\n",
       "\t<tr><th scope=col>HAWC_ID</th><th scope=col>Metric</th><th scope=col>Data</th><th scope=col>Study</th><th scope=col>Class</th><th scope=col>DTXSID</th><th scope=col>Avg_Value</th></tr>\n",
       "\t<tr><th scope=col>&lt;chr&gt;</th><th scope=col>&lt;chr&gt;</th><th scope=col>&lt;chr&gt;</th><th scope=col>&lt;chr&gt;</th><th scope=col>&lt;chr&gt;</th><th scope=col>&lt;chr&gt;</th><th scope=col>&lt;dbl&gt;</th></tr>\n",
       "</thead>\n",
       "<tbody>\n",
       "\t<tr><td>1298351</td><td>Volume</td><td>TRAP</td><td>Gunawardena et al. 2012</td><td>Metal</td><td>Cr</td><td> 28.78885</td></tr>\n",
       "\t<tr><td>1298351</td><td>Volume</td><td>TRAP</td><td>Gunawardena et al. 2012</td><td>Metal</td><td>Cu</td><td> 13.30890</td></tr>\n",
       "\t<tr><td>USEPA  </td><td>Volume</td><td>TRAP</td><td>USEPA                  </td><td>Metal</td><td>Cu</td><td>      NaN</td></tr>\n",
       "\t<tr><td>1070627</td><td>Volume</td><td>WF  </td><td>Siregar et al. 2022    </td><td>Metal</td><td>As</td><td>  1.55000</td></tr>\n",
       "\t<tr><td>1070627</td><td>Volume</td><td>WF  </td><td>Siregar et al. 2022    </td><td>Metal</td><td>Ca</td><td>982.65000</td></tr>\n",
       "\t<tr><td>1070627</td><td>Volume</td><td>WF  </td><td>Siregar et al. 2022    </td><td>Metal</td><td>Cd</td><td>  5.45000</td></tr>\n",
       "</tbody>\n",
       "</table>\n"
      ],
      "text/latex": [
       "A tibble: 6 × 7\n",
       "\\begin{tabular}{lllllll}\n",
       " HAWC\\_ID & Metric & Data & Study & Class & DTXSID & Avg\\_Value\\\\\n",
       " <chr> & <chr> & <chr> & <chr> & <chr> & <chr> & <dbl>\\\\\n",
       "\\hline\n",
       "\t 1298351 & Volume & TRAP & Gunawardena et al. 2012 & Metal & Cr &  28.78885\\\\\n",
       "\t 1298351 & Volume & TRAP & Gunawardena et al. 2012 & Metal & Cu &  13.30890\\\\\n",
       "\t USEPA   & Volume & TRAP & USEPA                   & Metal & Cu &       NaN\\\\\n",
       "\t 1070627 & Volume & WF   & Siregar et al. 2022     & Metal & As &   1.55000\\\\\n",
       "\t 1070627 & Volume & WF   & Siregar et al. 2022     & Metal & Ca & 982.65000\\\\\n",
       "\t 1070627 & Volume & WF   & Siregar et al. 2022     & Metal & Cd &   5.45000\\\\\n",
       "\\end{tabular}\n"
      ],
      "text/markdown": [
       "\n",
       "A tibble: 6 × 7\n",
       "\n",
       "| HAWC_ID &lt;chr&gt; | Metric &lt;chr&gt; | Data &lt;chr&gt; | Study &lt;chr&gt; | Class &lt;chr&gt; | DTXSID &lt;chr&gt; | Avg_Value &lt;dbl&gt; |\n",
       "|---|---|---|---|---|---|---|\n",
       "| 1298351 | Volume | TRAP | Gunawardena et al. 2012 | Metal | Cr |  28.78885 |\n",
       "| 1298351 | Volume | TRAP | Gunawardena et al. 2012 | Metal | Cu |  13.30890 |\n",
       "| USEPA   | Volume | TRAP | USEPA                   | Metal | Cu |       NaN |\n",
       "| 1070627 | Volume | WF   | Siregar et al. 2022     | Metal | As |   1.55000 |\n",
       "| 1070627 | Volume | WF   | Siregar et al. 2022     | Metal | Ca | 982.65000 |\n",
       "| 1070627 | Volume | WF   | Siregar et al. 2022     | Metal | Cd |   5.45000 |\n",
       "\n"
      ],
      "text/plain": [
       "  HAWC_ID Metric Data Study                   Class DTXSID Avg_Value\n",
       "1 1298351 Volume TRAP Gunawardena et al. 2012 Metal Cr      28.78885\n",
       "2 1298351 Volume TRAP Gunawardena et al. 2012 Metal Cu      13.30890\n",
       "3 USEPA   Volume TRAP USEPA                   Metal Cu           NaN\n",
       "4 1070627 Volume WF   Siregar et al. 2022     Metal As       1.55000\n",
       "5 1070627 Volume WF   Siregar et al. 2022     Metal Ca     982.65000\n",
       "6 1070627 Volume WF   Siregar et al. 2022     Metal Cd       5.45000"
      ]
     },
     "metadata": {},
     "output_type": "display_data"
    }
   ],
   "source": [
    "split_vol_df = mnar_imputed_vol_df %>%\n",
    "    # averaging to get rid of replicates\n",
    "    group_by(HAWC_ID, DTXSID) %>%\n",
    "    mutate(Avg_Value = mean(Value, na.rm = TRUE)) %>%\n",
    "    ungroup() %>%\n",
    "    select(-c(\"Replicate\", \"Value\", \"Name\")) %>%\n",
    "    unique() %>%\n",
    "    group_by(Class) %>%\n",
    "    group_split\n",
    "\n",
    "metal_vol_df = split_vol_df[[1]]\n",
    "pah_vol_df = split_vol_df[[2]]\n",
    "voc_vol_df = split_vol_df[[3]]\n",
    "\n",
    "head(metal_vol_df)"
   ]
  },
  {
   "cell_type": "code",
   "execution_count": 25,
   "id": "02847d8a-2e2b-4360-9511-8f34e5febb0b",
   "metadata": {},
   "outputs": [
    {
     "data": {
      "text/html": [
       "<table class=\"dataframe\">\n",
       "<caption>A tibble: 6 × 7</caption>\n",
       "<thead>\n",
       "\t<tr><th scope=col>HAWC_ID</th><th scope=col>Metric</th><th scope=col>Data</th><th scope=col>Study</th><th scope=col>Class</th><th scope=col>DTXSID</th><th scope=col>Avg_Value</th></tr>\n",
       "\t<tr><th scope=col>&lt;chr&gt;</th><th scope=col>&lt;chr&gt;</th><th scope=col>&lt;chr&gt;</th><th scope=col>&lt;chr&gt;</th><th scope=col>&lt;chr&gt;</th><th scope=col>&lt;chr&gt;</th><th scope=col>&lt;dbl&gt;</th></tr>\n",
       "</thead>\n",
       "<tbody>\n",
       "\t<tr><td>1040882</td><td>Weight</td><td>WS    </td><td>Nordin et al. 2015   </td><td>Metal</td><td>Ca</td><td>3602.190046</td></tr>\n",
       "\t<tr><td>1040882</td><td>Weight</td><td>WS    </td><td>Nordin et al. 2015   </td><td>Metal</td><td>Fe</td><td> 603.117243</td></tr>\n",
       "\t<tr><td>1063054</td><td>Weight</td><td>WS    </td><td>Corsini et al. 2013  </td><td>Metal</td><td>Cr</td><td>  23.162278</td></tr>\n",
       "\t<tr><td>1298342</td><td>Weight</td><td>Diesel</td><td>Bendtsen et al. 2020 </td><td>Metal</td><td>Ba</td><td>   9.387426</td></tr>\n",
       "\t<tr><td>1298342</td><td>Weight</td><td>Diesel</td><td>Bendtsen et al. 2020 </td><td>Metal</td><td>Mn</td><td>  50.760037</td></tr>\n",
       "\t<tr><td>1298343</td><td>Weight</td><td>Diesel</td><td>Bhavaraju et al. 2014</td><td>Metal</td><td>Ba</td><td>   4.822876</td></tr>\n",
       "</tbody>\n",
       "</table>\n"
      ],
      "text/latex": [
       "A tibble: 6 × 7\n",
       "\\begin{tabular}{lllllll}\n",
       " HAWC\\_ID & Metric & Data & Study & Class & DTXSID & Avg\\_Value\\\\\n",
       " <chr> & <chr> & <chr> & <chr> & <chr> & <chr> & <dbl>\\\\\n",
       "\\hline\n",
       "\t 1040882 & Weight & WS     & Nordin et al. 2015    & Metal & Ca & 3602.190046\\\\\n",
       "\t 1040882 & Weight & WS     & Nordin et al. 2015    & Metal & Fe &  603.117243\\\\\n",
       "\t 1063054 & Weight & WS     & Corsini et al. 2013   & Metal & Cr &   23.162278\\\\\n",
       "\t 1298342 & Weight & Diesel & Bendtsen et al. 2020  & Metal & Ba &    9.387426\\\\\n",
       "\t 1298342 & Weight & Diesel & Bendtsen et al. 2020  & Metal & Mn &   50.760037\\\\\n",
       "\t 1298343 & Weight & Diesel & Bhavaraju et al. 2014 & Metal & Ba &    4.822876\\\\\n",
       "\\end{tabular}\n"
      ],
      "text/markdown": [
       "\n",
       "A tibble: 6 × 7\n",
       "\n",
       "| HAWC_ID &lt;chr&gt; | Metric &lt;chr&gt; | Data &lt;chr&gt; | Study &lt;chr&gt; | Class &lt;chr&gt; | DTXSID &lt;chr&gt; | Avg_Value &lt;dbl&gt; |\n",
       "|---|---|---|---|---|---|---|\n",
       "| 1040882 | Weight | WS     | Nordin et al. 2015    | Metal | Ca | 3602.190046 |\n",
       "| 1040882 | Weight | WS     | Nordin et al. 2015    | Metal | Fe |  603.117243 |\n",
       "| 1063054 | Weight | WS     | Corsini et al. 2013   | Metal | Cr |   23.162278 |\n",
       "| 1298342 | Weight | Diesel | Bendtsen et al. 2020  | Metal | Ba |    9.387426 |\n",
       "| 1298342 | Weight | Diesel | Bendtsen et al. 2020  | Metal | Mn |   50.760037 |\n",
       "| 1298343 | Weight | Diesel | Bhavaraju et al. 2014 | Metal | Ba |    4.822876 |\n",
       "\n"
      ],
      "text/plain": [
       "  HAWC_ID Metric Data   Study                 Class DTXSID Avg_Value  \n",
       "1 1040882 Weight WS     Nordin et al. 2015    Metal Ca     3602.190046\n",
       "2 1040882 Weight WS     Nordin et al. 2015    Metal Fe      603.117243\n",
       "3 1063054 Weight WS     Corsini et al. 2013   Metal Cr       23.162278\n",
       "4 1298342 Weight Diesel Bendtsen et al. 2020  Metal Ba        9.387426\n",
       "5 1298342 Weight Diesel Bendtsen et al. 2020  Metal Mn       50.760037\n",
       "6 1298343 Weight Diesel Bhavaraju et al. 2014 Metal Ba        4.822876"
      ]
     },
     "metadata": {},
     "output_type": "display_data"
    }
   ],
   "source": [
    "split_weight_df = mnar_imputed_weight_df %>%\n",
    "    # averaging to get rid of replicates\n",
    "    group_by(HAWC_ID, DTXSID) %>%\n",
    "    mutate(Avg_Value = mean(Value, na.rm = TRUE)) %>%\n",
    "    ungroup() %>%\n",
    "    select(-c(\"Replicate\", \"Value\", \"Name\")) %>%\n",
    "    unique() %>%\n",
    "    group_by(Class) %>%\n",
    "    group_split\n",
    "\n",
    "metal_weight_df = split_weight_df[[1]]\n",
    "pah_weight_df = split_weight_df[[2]]\n",
    "\n",
    "head(metal_weight_df)"
   ]
  },
  {
   "cell_type": "code",
   "execution_count": 26,
   "id": "6dc3a3c7-594a-4146-97d0-50669dea19c4",
   "metadata": {},
   "outputs": [],
   "source": [
    "# final_df = rbind(mnar_imputed_vol_df %>%\n",
    "#     # averaging to get rid of replicates\n",
    "#     group_by(HAWC_ID, DTXSID) %>%\n",
    "#     mutate(Avg_Value = mean(Value, na.rm = TRUE)) %>%\n",
    "#     ungroup() %>%\n",
    "#     select(-c(\"Replicate\", \"Value\")) %>%\n",
    "#     unique(),\n",
    "#     mnar_imputed_weight_df %>%\n",
    "#     # averaging to get rid of replicates\n",
    "#     group_by(HAWC_ID, DTXSID) %>%\n",
    "#     mutate(Avg_Value = mean(Value, na.rm = TRUE)) %>%\n",
    "#     ungroup() %>%\n",
    "#     select(-c(\"Replicate\", \"Value\")) %>%\n",
    "#     unique()) %>% unique()"
   ]
  },
  {
   "cell_type": "code",
   "execution_count": 27,
   "id": "8c8d0b2a-446e-4b33-8c8f-84c7a03ea4eb",
   "metadata": {},
   "outputs": [],
   "source": [
    "# # exporting\n",
    "# write.xlsx(final_df, paste0(Output,\"/\", \"Processed_Data_\", cur_date, \".xlsx\"), \n",
    "#            rowNames = FALSE)"
   ]
  },
  {
   "cell_type": "markdown",
   "id": "aedde76b-a5a7-4954-b473-2bd395b65e6a",
   "metadata": {},
   "source": [
    "Converting values to 0s and 1s to count number of experimental and NDs previously imputed. Chemicals/metals that don't have at least 50% of values present will be removed."
   ]
  },
  {
   "cell_type": "code",
   "execution_count": 28,
   "id": "5f1d9f14-5cc4-4415-a8a4-5126bc5151d2",
   "metadata": {},
   "outputs": [
    {
     "data": {
      "text/html": [
       "<table class=\"dataframe\">\n",
       "<caption>A tibble: 6 × 60</caption>\n",
       "<thead>\n",
       "\t<tr><th scope=col>SampleID</th><th scope=col>HAWC_ID</th><th scope=col>Metric</th><th scope=col>Data</th><th scope=col>Study</th><th scope=col>Class</th><th scope=col>Ca</th><th scope=col>Fe</th><th scope=col>Cr</th><th scope=col>Ba</th><th scope=col>⋯</th><th scope=col>Ta</th><th scope=col>Tb</th><th scope=col>Tm</th><th scope=col>Yb</th><th scope=col>Mo</th><th scope=col>Sn</th><th scope=col>As</th><th scope=col>Sb</th><th scope=col>V</th><th scope=col>Zr</th></tr>\n",
       "\t<tr><th scope=col>&lt;chr&gt;</th><th scope=col>&lt;chr&gt;</th><th scope=col>&lt;chr&gt;</th><th scope=col>&lt;chr&gt;</th><th scope=col>&lt;chr&gt;</th><th scope=col>&lt;chr&gt;</th><th scope=col>&lt;dbl&gt;</th><th scope=col>&lt;dbl&gt;</th><th scope=col>&lt;dbl&gt;</th><th scope=col>&lt;dbl&gt;</th><th scope=col>⋯</th><th scope=col>&lt;dbl&gt;</th><th scope=col>&lt;dbl&gt;</th><th scope=col>&lt;dbl&gt;</th><th scope=col>&lt;dbl&gt;</th><th scope=col>&lt;dbl&gt;</th><th scope=col>&lt;dbl&gt;</th><th scope=col>&lt;dbl&gt;</th><th scope=col>&lt;dbl&gt;</th><th scope=col>&lt;dbl&gt;</th><th scope=col>&lt;dbl&gt;</th></tr>\n",
       "</thead>\n",
       "<tbody>\n",
       "\t<tr><td>1040882_WS_Metal    </td><td>1040882</td><td>Weight</td><td>WS    </td><td>Nordin et al. 2015   </td><td>Metal</td><td> 3602.1900</td><td> 603.11724</td><td>129.000000</td><td>      NA</td><td>⋯</td><td>NA</td><td>NA</td><td>NA</td><td>NA</td><td> NA</td><td>NA</td><td>NA</td><td>NA</td><td>NA</td><td>NA</td></tr>\n",
       "\t<tr><td>1063054_WS_Metal    </td><td>1063054</td><td>Weight</td><td>WS    </td><td>Corsini et al. 2013  </td><td>Metal</td><td> 4385.0000</td><td> 355.00000</td><td> 23.162278</td><td>      NA</td><td>⋯</td><td>NA</td><td>NA</td><td>NA</td><td>NA</td><td> NA</td><td>NA</td><td>NA</td><td>NA</td><td>NA</td><td>NA</td></tr>\n",
       "\t<tr><td>1298342_Diesel_Metal</td><td>1298342</td><td>Weight</td><td>Diesel</td><td>Bendtsen et al. 2020 </td><td>Metal</td><td>       NaN</td><td> 824.00000</td><td> 22.333333</td><td>9.387426</td><td>⋯</td><td>NA</td><td>NA</td><td>NA</td><td>NA</td><td> NA</td><td>NA</td><td>NA</td><td>NA</td><td>NA</td><td>NA</td></tr>\n",
       "\t<tr><td>1298343_Diesel_Metal</td><td>1298343</td><td>Weight</td><td>Diesel</td><td>Bhavaraju et al. 2014</td><td>Metal</td><td>  193.0786</td><td>  49.74342</td><td>  1.707107</td><td>4.822876</td><td>⋯</td><td>NA</td><td>NA</td><td>NA</td><td>NA</td><td>3.5</td><td>NA</td><td>NA</td><td>NA</td><td>NA</td><td>NA</td></tr>\n",
       "\t<tr><td>267105_WS_Metal     </td><td>267105 </td><td>Weight</td><td>WS    </td><td>Danielsen et al. 2011</td><td>Metal</td><td>       NaN</td><td>1548.00000</td><td> 21.350000</td><td>      NA</td><td>⋯</td><td>NA</td><td>NA</td><td>NA</td><td>NA</td><td> NA</td><td>NA</td><td>NA</td><td>NA</td><td>NA</td><td>NA</td></tr>\n",
       "\t<tr><td>299223_WS_Metal     </td><td>299223 </td><td>Weight</td><td>WS    </td><td>Kasurinen et al. 2015</td><td>Metal</td><td>17284.4771</td><td>       NaN</td><td>       NaN</td><td>      NA</td><td>⋯</td><td>NA</td><td>NA</td><td>NA</td><td>NA</td><td> NA</td><td>NA</td><td>NA</td><td>NA</td><td>NA</td><td>NA</td></tr>\n",
       "</tbody>\n",
       "</table>\n"
      ],
      "text/latex": [
       "A tibble: 6 × 60\n",
       "\\begin{tabular}{lllllllllllllllllllll}\n",
       " SampleID & HAWC\\_ID & Metric & Data & Study & Class & Ca & Fe & Cr & Ba & ⋯ & Ta & Tb & Tm & Yb & Mo & Sn & As & Sb & V & Zr\\\\\n",
       " <chr> & <chr> & <chr> & <chr> & <chr> & <chr> & <dbl> & <dbl> & <dbl> & <dbl> & ⋯ & <dbl> & <dbl> & <dbl> & <dbl> & <dbl> & <dbl> & <dbl> & <dbl> & <dbl> & <dbl>\\\\\n",
       "\\hline\n",
       "\t 1040882\\_WS\\_Metal     & 1040882 & Weight & WS     & Nordin et al. 2015    & Metal &  3602.1900 &  603.11724 & 129.000000 &       NA & ⋯ & NA & NA & NA & NA &  NA & NA & NA & NA & NA & NA\\\\\n",
       "\t 1063054\\_WS\\_Metal     & 1063054 & Weight & WS     & Corsini et al. 2013   & Metal &  4385.0000 &  355.00000 &  23.162278 &       NA & ⋯ & NA & NA & NA & NA &  NA & NA & NA & NA & NA & NA\\\\\n",
       "\t 1298342\\_Diesel\\_Metal & 1298342 & Weight & Diesel & Bendtsen et al. 2020  & Metal &        NaN &  824.00000 &  22.333333 & 9.387426 & ⋯ & NA & NA & NA & NA &  NA & NA & NA & NA & NA & NA\\\\\n",
       "\t 1298343\\_Diesel\\_Metal & 1298343 & Weight & Diesel & Bhavaraju et al. 2014 & Metal &   193.0786 &   49.74342 &   1.707107 & 4.822876 & ⋯ & NA & NA & NA & NA & 3.5 & NA & NA & NA & NA & NA\\\\\n",
       "\t 267105\\_WS\\_Metal      & 267105  & Weight & WS     & Danielsen et al. 2011 & Metal &        NaN & 1548.00000 &  21.350000 &       NA & ⋯ & NA & NA & NA & NA &  NA & NA & NA & NA & NA & NA\\\\\n",
       "\t 299223\\_WS\\_Metal      & 299223  & Weight & WS     & Kasurinen et al. 2015 & Metal & 17284.4771 &        NaN &        NaN &       NA & ⋯ & NA & NA & NA & NA &  NA & NA & NA & NA & NA & NA\\\\\n",
       "\\end{tabular}\n"
      ],
      "text/markdown": [
       "\n",
       "A tibble: 6 × 60\n",
       "\n",
       "| SampleID &lt;chr&gt; | HAWC_ID &lt;chr&gt; | Metric &lt;chr&gt; | Data &lt;chr&gt; | Study &lt;chr&gt; | Class &lt;chr&gt; | Ca &lt;dbl&gt; | Fe &lt;dbl&gt; | Cr &lt;dbl&gt; | Ba &lt;dbl&gt; | ⋯ ⋯ | Ta &lt;dbl&gt; | Tb &lt;dbl&gt; | Tm &lt;dbl&gt; | Yb &lt;dbl&gt; | Mo &lt;dbl&gt; | Sn &lt;dbl&gt; | As &lt;dbl&gt; | Sb &lt;dbl&gt; | V &lt;dbl&gt; | Zr &lt;dbl&gt; |\n",
       "|---|---|---|---|---|---|---|---|---|---|---|---|---|---|---|---|---|---|---|---|---|\n",
       "| 1040882_WS_Metal     | 1040882 | Weight | WS     | Nordin et al. 2015    | Metal |  3602.1900 |  603.11724 | 129.000000 |       NA | ⋯ | NA | NA | NA | NA |  NA | NA | NA | NA | NA | NA |\n",
       "| 1063054_WS_Metal     | 1063054 | Weight | WS     | Corsini et al. 2013   | Metal |  4385.0000 |  355.00000 |  23.162278 |       NA | ⋯ | NA | NA | NA | NA |  NA | NA | NA | NA | NA | NA |\n",
       "| 1298342_Diesel_Metal | 1298342 | Weight | Diesel | Bendtsen et al. 2020  | Metal |        NaN |  824.00000 |  22.333333 | 9.387426 | ⋯ | NA | NA | NA | NA |  NA | NA | NA | NA | NA | NA |\n",
       "| 1298343_Diesel_Metal | 1298343 | Weight | Diesel | Bhavaraju et al. 2014 | Metal |   193.0786 |   49.74342 |   1.707107 | 4.822876 | ⋯ | NA | NA | NA | NA | 3.5 | NA | NA | NA | NA | NA |\n",
       "| 267105_WS_Metal      | 267105  | Weight | WS     | Danielsen et al. 2011 | Metal |        NaN | 1548.00000 |  21.350000 |       NA | ⋯ | NA | NA | NA | NA |  NA | NA | NA | NA | NA | NA |\n",
       "| 299223_WS_Metal      | 299223  | Weight | WS     | Kasurinen et al. 2015 | Metal | 17284.4771 |        NaN |        NaN |       NA | ⋯ | NA | NA | NA | NA |  NA | NA | NA | NA | NA | NA |\n",
       "\n"
      ],
      "text/plain": [
       "  SampleID             HAWC_ID Metric Data   Study                 Class\n",
       "1 1040882_WS_Metal     1040882 Weight WS     Nordin et al. 2015    Metal\n",
       "2 1063054_WS_Metal     1063054 Weight WS     Corsini et al. 2013   Metal\n",
       "3 1298342_Diesel_Metal 1298342 Weight Diesel Bendtsen et al. 2020  Metal\n",
       "4 1298343_Diesel_Metal 1298343 Weight Diesel Bhavaraju et al. 2014 Metal\n",
       "5 267105_WS_Metal      267105  Weight WS     Danielsen et al. 2011 Metal\n",
       "6 299223_WS_Metal      299223  Weight WS     Kasurinen et al. 2015 Metal\n",
       "  Ca         Fe         Cr         Ba       ⋯ Ta Tb Tm Yb Mo  Sn As Sb V  Zr\n",
       "1  3602.1900  603.11724 129.000000       NA ⋯ NA NA NA NA  NA NA NA NA NA NA\n",
       "2  4385.0000  355.00000  23.162278       NA ⋯ NA NA NA NA  NA NA NA NA NA NA\n",
       "3        NaN  824.00000  22.333333 9.387426 ⋯ NA NA NA NA  NA NA NA NA NA NA\n",
       "4   193.0786   49.74342   1.707107 4.822876 ⋯ NA NA NA NA 3.5 NA NA NA NA NA\n",
       "5        NaN 1548.00000  21.350000       NA ⋯ NA NA NA NA  NA NA NA NA NA NA\n",
       "6 17284.4771        NaN        NaN       NA ⋯ NA NA NA NA  NA NA NA NA NA NA"
      ]
     },
     "metadata": {},
     "output_type": "display_data"
    }
   ],
   "source": [
    "wider_metal_vol_df = metal_vol_df %>%\n",
    "    # creating sample ids\n",
    "    unite(\"SampleID\", c(colnames(metal_vol_df)[c(1,3,5)]), remove = FALSE) %>%\n",
    "    pivot_wider(names_from = \"DTXSID\", values_from = \"Avg_Value\") \n",
    "wider_pah_vol_df = pah_vol_df %>%\n",
    "    # creating sample ids\n",
    "    unite(\"SampleID\", c(colnames(pah_vol_df)[c(1,3,5)]), remove = FALSE) %>%\n",
    "    pivot_wider(names_from = \"DTXSID\", values_from = \"Avg_Value\")\n",
    "wider_voc_vol_df = voc_vol_df %>%\n",
    "    # creating sample ids\n",
    "    unite(\"SampleID\", c(colnames(pah_vol_df)[c(1,3,5)]), remove = FALSE) %>%\n",
    "    pivot_wider(names_from = \"DTXSID\", values_from = \"Avg_Value\")\n",
    "\n",
    "wider_metal_weight_df = metal_weight_df %>%\n",
    "    unite(\"SampleID\", c(colnames(metal_weight_df)[c(1,3,5)]), remove = FALSE) %>%\n",
    "    pivot_wider(names_from = \"DTXSID\", values_from = \"Avg_Value\") \n",
    "wider_pah_weight_df = pah_weight_df %>%\n",
    "    unite(\"SampleID\", c(colnames(pah_weight_df)[c(1,3,5)]), remove = FALSE) %>%\n",
    "    pivot_wider(names_from = \"DTXSID\", values_from = \"Avg_Value\")  \n",
    "\n",
    "head(wider_metal_weight_df)"
   ]
  },
  {
   "cell_type": "code",
   "execution_count": 29,
   "id": "10baac7b-db6e-458a-8e5c-295a4a66772d",
   "metadata": {},
   "outputs": [
    {
     "data": {
      "text/html": [
       "<table class=\"dataframe\">\n",
       "<caption>A data.frame: 6 × 1</caption>\n",
       "<thead>\n",
       "\t<tr><th></th><th scope=col>Percent</th></tr>\n",
       "\t<tr><th></th><th scope=col>&lt;dbl&gt;</th></tr>\n",
       "</thead>\n",
       "<tbody>\n",
       "\t<tr><th scope=row>B</th><td>10.416667</td></tr>\n",
       "\t<tr><th scope=row>Na</th><td>18.750000</td></tr>\n",
       "\t<tr><th scope=row>La</th><td> 8.333333</td></tr>\n",
       "\t<tr><th scope=row>Sc</th><td> 8.333333</td></tr>\n",
       "\t<tr><th scope=row>Sr</th><td>18.750000</td></tr>\n",
       "\t<tr><th scope=row>Ti</th><td>18.750000</td></tr>\n",
       "</tbody>\n",
       "</table>\n"
      ],
      "text/latex": [
       "A data.frame: 6 × 1\n",
       "\\begin{tabular}{r|l}\n",
       "  & Percent\\\\\n",
       "  & <dbl>\\\\\n",
       "\\hline\n",
       "\tB & 10.416667\\\\\n",
       "\tNa & 18.750000\\\\\n",
       "\tLa &  8.333333\\\\\n",
       "\tSc &  8.333333\\\\\n",
       "\tSr & 18.750000\\\\\n",
       "\tTi & 18.750000\\\\\n",
       "\\end{tabular}\n"
      ],
      "text/markdown": [
       "\n",
       "A data.frame: 6 × 1\n",
       "\n",
       "| <!--/--> | Percent &lt;dbl&gt; |\n",
       "|---|---|\n",
       "| B | 10.416667 |\n",
       "| Na | 18.750000 |\n",
       "| La |  8.333333 |\n",
       "| Sc |  8.333333 |\n",
       "| Sr | 18.750000 |\n",
       "| Ti | 18.750000 |\n",
       "\n"
      ],
      "text/plain": [
       "   Percent  \n",
       "B  10.416667\n",
       "Na 18.750000\n",
       "La  8.333333\n",
       "Sc  8.333333\n",
       "Sr 18.750000\n",
       "Ti 18.750000"
      ]
     },
     "metadata": {},
     "output_type": "display_data"
    }
   ],
   "source": [
    "data_percentage = function(wider_dataset){\n",
    "    # ADD WORDS!!\n",
    "    \n",
    "    # converting values to 0s and 1s\n",
    "    summed_df = wider_dataset %>%\n",
    "        mutate(across(7:ncol(wider_dataset), ~ifelse(is.na(.x), 0, 1)))\n",
    "\n",
    "    # identifying metals/chemicals w/ =< 20% of experimental data\n",
    "    var_percentage_df = data.frame(Percent = colSums(summed_df[,7:ncol(summed_df)])/nrow(summed_df) * 100) %>%\n",
    "        filter(Percent <= 20)\n",
    "    # identifying studies w/ =< 20% of experimental data\n",
    "    study_percentage_df = data.frame(HAWC_ID = wider_dataset$HAWC_ID,\n",
    "                                     Percent = rowSums(summed_df[,7:ncol(summed_df)])/ncol(summed_df) * 100) %>%\n",
    "        filter(Percent <= 20)\n",
    "\n",
    "    return(list(var_percentage_df, study_percentage_df))\n",
    "}\n",
    "\n",
    "# calling fn\n",
    "percentage_metal_vol_df = data_percentage(wider_metal_vol_df)\n",
    "percentage_pah_vol_df = data_percentage(wider_pah_vol_df) \n",
    "percentage_voc_vol_df = data_percentage(wider_voc_vol_df) \n",
    "percentage_metal_weight_df = data_percentage(wider_metal_weight_df) \n",
    "percentage_pah_weight_df = data_percentage(wider_pah_weight_df)\n",
    "\n",
    "head(percentage_metal_weight_df[[1]])"
   ]
  },
  {
   "cell_type": "code",
   "execution_count": 30,
   "id": "00132275-7af1-4352-8645-e62b034373c9",
   "metadata": {},
   "outputs": [
    {
     "data": {
      "text/html": [
       "<table class=\"dataframe\">\n",
       "<caption>A tibble: 6 × 19</caption>\n",
       "<thead>\n",
       "\t<tr><th scope=col>SampleID</th><th scope=col>HAWC_ID</th><th scope=col>Metric</th><th scope=col>Data</th><th scope=col>Study</th><th scope=col>Class</th><th scope=col>Ca</th><th scope=col>Fe</th><th scope=col>Cr</th><th scope=col>Ba</th><th scope=col>Mn</th><th scope=col>Co</th><th scope=col>Cu</th><th scope=col>Mg</th><th scope=col>Ni</th><th scope=col>Cd</th><th scope=col>Al</th><th scope=col>K</th><th scope=col>Zn</th></tr>\n",
       "\t<tr><th scope=col>&lt;chr&gt;</th><th scope=col>&lt;chr&gt;</th><th scope=col>&lt;chr&gt;</th><th scope=col>&lt;chr&gt;</th><th scope=col>&lt;chr&gt;</th><th scope=col>&lt;chr&gt;</th><th scope=col>&lt;dbl&gt;</th><th scope=col>&lt;dbl&gt;</th><th scope=col>&lt;dbl&gt;</th><th scope=col>&lt;dbl&gt;</th><th scope=col>&lt;dbl&gt;</th><th scope=col>&lt;dbl&gt;</th><th scope=col>&lt;dbl&gt;</th><th scope=col>&lt;dbl&gt;</th><th scope=col>&lt;dbl&gt;</th><th scope=col>&lt;dbl&gt;</th><th scope=col>&lt;dbl&gt;</th><th scope=col>&lt;dbl&gt;</th><th scope=col>&lt;dbl&gt;</th></tr>\n",
       "</thead>\n",
       "<tbody>\n",
       "\t<tr><td>1040882_WS_Metal    </td><td>1040882</td><td>Weight</td><td>WS    </td><td>Nordin et al. 2015   </td><td>Metal</td><td>  3602.1900</td><td>  603.11724</td><td>129.000000</td><td>        NA</td><td>   0.4582576</td><td>       NA</td><td> 266.00000</td><td> 1791</td><td>  0.1732051</td><td>42</td><td>  638</td><td>22500.0</td><td> 4660.00</td></tr>\n",
       "\t<tr><td>1298343_Diesel_Metal</td><td>1298343</td><td>Weight</td><td>Diesel</td><td>Bhavaraju et al. 2014</td><td>Metal</td><td>   193.0786</td><td>   49.74342</td><td>  1.707107</td><td>  4.822876</td><td>   4.0000000</td><td> 1.707107</td><td>  19.37228</td><td>   28</td><td>  2.3660254</td><td>NA</td><td>  107</td><td>    6.5</td><td>   92.50</td></tr>\n",
       "\t<tr><td>1104106_WF_Metal    </td><td>1104106</td><td>Weight</td><td>WF    </td><td>Alexakis 2020        </td><td>Metal</td><td>158250.0000</td><td>19200.00000</td><td> 61.500000</td><td>117.500000</td><td> 532.5000000</td><td>10.500000</td><td>  31.25000</td><td>33050</td><td>125.0000000</td><td>NA</td><td>14500</td><td> 4450.0</td><td>  206.75</td></tr>\n",
       "\t<tr><td>1257076_WF_Metal    </td><td>1257076</td><td>Weight</td><td>WF    </td><td>Villaruel et al. 2024</td><td>Metal</td><td> 85559.0000</td><td> 7526.00000</td><td>  9.000000</td><td>        NA</td><td> 214.0000000</td><td> 8.000000</td><td> 693.00000</td><td> 4263</td><td> 33.0000000</td><td>NA</td><td> 8792</td><td> 2087.0</td><td> 1276.00</td></tr>\n",
       "\t<tr><td>1285775_WF_Metal    </td><td>1285775</td><td>Weight</td><td>WF    </td><td>Plumlee et al. 2007  </td><td>Metal</td><td>160500.0000</td><td>37400.00000</td><td>222.550000</td><td>699.500000</td><td> 585.0000000</td><td>19.750000</td><td>1245.00000</td><td> 9320</td><td> 39.1000000</td><td>NA</td><td>58400</td><td>13850.0</td><td> 2510.00</td></tr>\n",
       "\t<tr><td>1285933_WF_Metal    </td><td>1285933</td><td>Weight</td><td>WF    </td><td>Alshehri et al. 2023 </td><td>Metal</td><td> 34396.6667</td><td>         NA</td><td>243.333333</td><td>954.796667</td><td>7080.0000000</td><td>17.346667</td><td>6574.67500</td><td>   NA</td><td>167.3166667</td><td>NA</td><td>   NA</td><td>     NA</td><td>20554.15</td></tr>\n",
       "</tbody>\n",
       "</table>\n"
      ],
      "text/latex": [
       "A tibble: 6 × 19\n",
       "\\begin{tabular}{lllllllllllllllllll}\n",
       " SampleID & HAWC\\_ID & Metric & Data & Study & Class & Ca & Fe & Cr & Ba & Mn & Co & Cu & Mg & Ni & Cd & Al & K & Zn\\\\\n",
       " <chr> & <chr> & <chr> & <chr> & <chr> & <chr> & <dbl> & <dbl> & <dbl> & <dbl> & <dbl> & <dbl> & <dbl> & <dbl> & <dbl> & <dbl> & <dbl> & <dbl> & <dbl>\\\\\n",
       "\\hline\n",
       "\t 1040882\\_WS\\_Metal     & 1040882 & Weight & WS     & Nordin et al. 2015    & Metal &   3602.1900 &   603.11724 & 129.000000 &         NA &    0.4582576 &        NA &  266.00000 &  1791 &   0.1732051 & 42 &   638 & 22500.0 &  4660.00\\\\\n",
       "\t 1298343\\_Diesel\\_Metal & 1298343 & Weight & Diesel & Bhavaraju et al. 2014 & Metal &    193.0786 &    49.74342 &   1.707107 &   4.822876 &    4.0000000 &  1.707107 &   19.37228 &    28 &   2.3660254 & NA &   107 &     6.5 &    92.50\\\\\n",
       "\t 1104106\\_WF\\_Metal     & 1104106 & Weight & WF     & Alexakis 2020         & Metal & 158250.0000 & 19200.00000 &  61.500000 & 117.500000 &  532.5000000 & 10.500000 &   31.25000 & 33050 & 125.0000000 & NA & 14500 &  4450.0 &   206.75\\\\\n",
       "\t 1257076\\_WF\\_Metal     & 1257076 & Weight & WF     & Villaruel et al. 2024 & Metal &  85559.0000 &  7526.00000 &   9.000000 &         NA &  214.0000000 &  8.000000 &  693.00000 &  4263 &  33.0000000 & NA &  8792 &  2087.0 &  1276.00\\\\\n",
       "\t 1285775\\_WF\\_Metal     & 1285775 & Weight & WF     & Plumlee et al. 2007   & Metal & 160500.0000 & 37400.00000 & 222.550000 & 699.500000 &  585.0000000 & 19.750000 & 1245.00000 &  9320 &  39.1000000 & NA & 58400 & 13850.0 &  2510.00\\\\\n",
       "\t 1285933\\_WF\\_Metal     & 1285933 & Weight & WF     & Alshehri et al. 2023  & Metal &  34396.6667 &          NA & 243.333333 & 954.796667 & 7080.0000000 & 17.346667 & 6574.67500 &    NA & 167.3166667 & NA &    NA &      NA & 20554.15\\\\\n",
       "\\end{tabular}\n"
      ],
      "text/markdown": [
       "\n",
       "A tibble: 6 × 19\n",
       "\n",
       "| SampleID &lt;chr&gt; | HAWC_ID &lt;chr&gt; | Metric &lt;chr&gt; | Data &lt;chr&gt; | Study &lt;chr&gt; | Class &lt;chr&gt; | Ca &lt;dbl&gt; | Fe &lt;dbl&gt; | Cr &lt;dbl&gt; | Ba &lt;dbl&gt; | Mn &lt;dbl&gt; | Co &lt;dbl&gt; | Cu &lt;dbl&gt; | Mg &lt;dbl&gt; | Ni &lt;dbl&gt; | Cd &lt;dbl&gt; | Al &lt;dbl&gt; | K &lt;dbl&gt; | Zn &lt;dbl&gt; |\n",
       "|---|---|---|---|---|---|---|---|---|---|---|---|---|---|---|---|---|---|---|\n",
       "| 1040882_WS_Metal     | 1040882 | Weight | WS     | Nordin et al. 2015    | Metal |   3602.1900 |   603.11724 | 129.000000 |         NA |    0.4582576 |        NA |  266.00000 |  1791 |   0.1732051 | 42 |   638 | 22500.0 |  4660.00 |\n",
       "| 1298343_Diesel_Metal | 1298343 | Weight | Diesel | Bhavaraju et al. 2014 | Metal |    193.0786 |    49.74342 |   1.707107 |   4.822876 |    4.0000000 |  1.707107 |   19.37228 |    28 |   2.3660254 | NA |   107 |     6.5 |    92.50 |\n",
       "| 1104106_WF_Metal     | 1104106 | Weight | WF     | Alexakis 2020         | Metal | 158250.0000 | 19200.00000 |  61.500000 | 117.500000 |  532.5000000 | 10.500000 |   31.25000 | 33050 | 125.0000000 | NA | 14500 |  4450.0 |   206.75 |\n",
       "| 1257076_WF_Metal     | 1257076 | Weight | WF     | Villaruel et al. 2024 | Metal |  85559.0000 |  7526.00000 |   9.000000 |         NA |  214.0000000 |  8.000000 |  693.00000 |  4263 |  33.0000000 | NA |  8792 |  2087.0 |  1276.00 |\n",
       "| 1285775_WF_Metal     | 1285775 | Weight | WF     | Plumlee et al. 2007   | Metal | 160500.0000 | 37400.00000 | 222.550000 | 699.500000 |  585.0000000 | 19.750000 | 1245.00000 |  9320 |  39.1000000 | NA | 58400 | 13850.0 |  2510.00 |\n",
       "| 1285933_WF_Metal     | 1285933 | Weight | WF     | Alshehri et al. 2023  | Metal |  34396.6667 |          NA | 243.333333 | 954.796667 | 7080.0000000 | 17.346667 | 6574.67500 |    NA | 167.3166667 | NA |    NA |      NA | 20554.15 |\n",
       "\n"
      ],
      "text/plain": [
       "  SampleID             HAWC_ID Metric Data   Study                 Class\n",
       "1 1040882_WS_Metal     1040882 Weight WS     Nordin et al. 2015    Metal\n",
       "2 1298343_Diesel_Metal 1298343 Weight Diesel Bhavaraju et al. 2014 Metal\n",
       "3 1104106_WF_Metal     1104106 Weight WF     Alexakis 2020         Metal\n",
       "4 1257076_WF_Metal     1257076 Weight WF     Villaruel et al. 2024 Metal\n",
       "5 1285775_WF_Metal     1285775 Weight WF     Plumlee et al. 2007   Metal\n",
       "6 1285933_WF_Metal     1285933 Weight WF     Alshehri et al. 2023  Metal\n",
       "  Ca          Fe          Cr         Ba         Mn           Co       \n",
       "1   3602.1900   603.11724 129.000000         NA    0.4582576        NA\n",
       "2    193.0786    49.74342   1.707107   4.822876    4.0000000  1.707107\n",
       "3 158250.0000 19200.00000  61.500000 117.500000  532.5000000 10.500000\n",
       "4  85559.0000  7526.00000   9.000000         NA  214.0000000  8.000000\n",
       "5 160500.0000 37400.00000 222.550000 699.500000  585.0000000 19.750000\n",
       "6  34396.6667          NA 243.333333 954.796667 7080.0000000 17.346667\n",
       "  Cu         Mg    Ni          Cd Al    K       Zn      \n",
       "1  266.00000  1791   0.1732051 42   638 22500.0  4660.00\n",
       "2   19.37228    28   2.3660254 NA   107     6.5    92.50\n",
       "3   31.25000 33050 125.0000000 NA 14500  4450.0   206.75\n",
       "4  693.00000  4263  33.0000000 NA  8792  2087.0  1276.00\n",
       "5 1245.00000  9320  39.1000000 NA 58400 13850.0  2510.00\n",
       "6 6574.67500    NA 167.3166667 NA    NA      NA 20554.15"
      ]
     },
     "metadata": {},
     "output_type": "display_data"
    }
   ],
   "source": [
    "# removing those metals/chemicals & studies from the OG df\n",
    "preimputed_metal_vol_df = wider_metal_vol_df[,colnames(wider_metal_vol_df) %notin% rownames(percentage_metal_vol_df[[1]])]\n",
    "preimputed_pah_vol_df = wider_pah_vol_df[,colnames(wider_pah_vol_df) %notin% rownames(percentage_pah_vol_df[[1]])]\n",
    "preimputed_voc_vol_df = wider_voc_vol_df[,colnames(wider_voc_vol_df) %notin% rownames(percentage_voc_vol_df[[1]])]\n",
    "preimputed_metal_weight_df = wider_metal_weight_df[,colnames(wider_metal_weight_df) %notin% rownames(percentage_metal_weight_df[[1]])]\n",
    "preimputed_pah_weight_df = wider_pah_weight_df[,colnames(wider_pah_weight_df) %notin% rownames(percentage_pah_weight_df[[1]])]\n",
    "\n",
    "preimputed_metal_vol_df = preimputed_metal_vol_df %>% filter(HAWC_ID %notin% percentage_metal_vol_df[[2]]$HAWC_ID) %>%\n",
    "    filter(HAWC_ID %notin% c('1298353', '1298372'))\n",
    "preimputed_pah_vol_df = preimputed_pah_vol_df %>% filter(HAWC_ID %notin% percentage_pah_vol_df[[2]]$HAWC_ID)\n",
    "#preimputed_voc_vol_df = preimputed_voc_vol_df %>% filter(HAWC_ID %notin% percentage_voc_vol_df[[2]]$HAWC_ID) \n",
    "preimputed_metal_weight_df = preimputed_metal_weight_df %>% filter(HAWC_ID %notin% percentage_metal_weight_df[[2]]$HAWC_ID) %>%\n",
    "    # removing certain variables and studies that were missed\n",
    "    select(-Pb) %>%\n",
    "    filter(HAWC_ID != '1289920')\n",
    "preimputed_pah_weight_df = preimputed_pah_weight_df %>% filter(HAWC_ID %notin% percentage_pah_weight_df[[2]]$HAWC_ID)\n",
    "\n",
    "head(preimputed_metal_weight_df)"
   ]
  },
  {
   "cell_type": "code",
   "execution_count": 31,
   "id": "f70ba746-a76c-43ee-a02f-2887f28886b9",
   "metadata": {},
   "outputs": [
    {
     "data": {
      "text/html": [
       "19"
      ],
      "text/latex": [
       "19"
      ],
      "text/markdown": [
       "19"
      ],
      "text/plain": [
       "[1] 19"
      ]
     },
     "metadata": {},
     "output_type": "display_data"
    },
    {
     "data": {
      "text/html": [
       "20"
      ],
      "text/latex": [
       "20"
      ],
      "text/markdown": [
       "20"
      ],
      "text/plain": [
       "[1] 20"
      ]
     },
     "metadata": {},
     "output_type": "display_data"
    },
    {
     "data": {
      "text/html": [
       "12"
      ],
      "text/latex": [
       "12"
      ],
      "text/markdown": [
       "12"
      ],
      "text/plain": [
       "[1] 12"
      ]
     },
     "metadata": {},
     "output_type": "display_data"
    },
    {
     "data": {
      "text/html": [
       "13"
      ],
      "text/latex": [
       "13"
      ],
      "text/markdown": [
       "13"
      ],
      "text/plain": [
       "[1] 13"
      ]
     },
     "metadata": {},
     "output_type": "display_data"
    },
    {
     "data": {
      "text/html": [
       "22"
      ],
      "text/latex": [
       "22"
      ],
      "text/markdown": [
       "22"
      ],
      "text/plain": [
       "[1] 22"
      ]
     },
     "metadata": {},
     "output_type": "display_data"
    }
   ],
   "source": [
    "# How many metals/chemicals are now left in the dataset?\n",
    "ncol(preimputed_metal_vol_df) - 6\n",
    "ncol(preimputed_pah_vol_df) - 6\n",
    "ncol(preimputed_voc_vol_df) - 6\n",
    "ncol(preimputed_metal_weight_df) - 6\n",
    "ncol(preimputed_pah_weight_df) - 6"
   ]
  },
  {
   "cell_type": "code",
   "execution_count": 32,
   "id": "de6f788a-5785-4a56-b8f2-40097a3516b1",
   "metadata": {},
   "outputs": [
    {
     "data": {
      "text/html": [
       "15"
      ],
      "text/latex": [
       "15"
      ],
      "text/markdown": [
       "15"
      ],
      "text/plain": [
       "[1] 15"
      ]
     },
     "metadata": {},
     "output_type": "display_data"
    },
    {
     "data": {
      "text/html": [
       "12"
      ],
      "text/latex": [
       "12"
      ],
      "text/markdown": [
       "12"
      ],
      "text/plain": [
       "[1] 12"
      ]
     },
     "metadata": {},
     "output_type": "display_data"
    },
    {
     "data": {
      "text/html": [
       "17"
      ],
      "text/latex": [
       "17"
      ],
      "text/markdown": [
       "17"
      ],
      "text/plain": [
       "[1] 17"
      ]
     },
     "metadata": {},
     "output_type": "display_data"
    },
    {
     "data": {
      "text/html": [
       "12"
      ],
      "text/latex": [
       "12"
      ],
      "text/markdown": [
       "12"
      ],
      "text/plain": [
       "[1] 12"
      ]
     },
     "metadata": {},
     "output_type": "display_data"
    },
    {
     "data": {
      "text/html": [
       "16"
      ],
      "text/latex": [
       "16"
      ],
      "text/markdown": [
       "16"
      ],
      "text/plain": [
       "[1] 16"
      ]
     },
     "metadata": {},
     "output_type": "display_data"
    }
   ],
   "source": [
    "# How many studies are left?\n",
    "nrow(preimputed_metal_vol_df) \n",
    "nrow(preimputed_pah_vol_df) \n",
    "nrow(preimputed_voc_vol_df) \n",
    "nrow(preimputed_metal_weight_df) \n",
    "nrow(preimputed_pah_weight_df) "
   ]
  },
  {
   "cell_type": "markdown",
   "id": "5f4d134a-b801-4a28-bc8a-086319521b88",
   "metadata": {},
   "source": [
    "ADD WORDS. \n",
    "\n",
    "# RF Imputation"
   ]
  },
  {
   "cell_type": "code",
   "execution_count": 33,
   "id": "f585ce82-69ed-4c15-9764-099830f74e75",
   "metadata": {
    "scrolled": true
   },
   "outputs": [
    {
     "name": "stderr",
     "output_type": "stream",
     "text": [
      "Warning message in randomForest.default(x = obsX, y = obsY, ntree = ntree, mtry = mtry, :\n",
      "“The response has five or fewer unique values.  Are you sure you want to do regression?”\n",
      "Warning message in randomForest.default(x = obsX, y = obsY, ntree = ntree, mtry = mtry, :\n",
      "“The response has five or fewer unique values.  Are you sure you want to do regression?”\n",
      "Warning message in randomForest.default(x = obsX, y = obsY, ntree = ntree, mtry = mtry, :\n",
      "“The response has five or fewer unique values.  Are you sure you want to do regression?”\n",
      "Warning message in randomForest.default(x = obsX, y = obsY, ntree = ntree, mtry = mtry, :\n",
      "“The response has five or fewer unique values.  Are you sure you want to do regression?”\n",
      "Warning message in randomForest.default(x = obsX, y = obsY, ntree = ntree, mtry = mtry, :\n",
      "“The response has five or fewer unique values.  Are you sure you want to do regression?”\n",
      "Warning message in randomForest.default(x = obsX, y = obsY, ntree = ntree, mtry = mtry, :\n",
      "“The response has five or fewer unique values.  Are you sure you want to do regression?”\n",
      "Warning message in randomForest.default(x = obsX, y = obsY, ntree = ntree, mtry = mtry, :\n",
      "“The response has five or fewer unique values.  Are you sure you want to do regression?”\n",
      "Warning message in randomForest.default(x = obsX, y = obsY, ntree = ntree, mtry = mtry, :\n",
      "“The response has five or fewer unique values.  Are you sure you want to do regression?”\n",
      "Warning message in randomForest.default(x = obsX, y = obsY, ntree = ntree, mtry = mtry, :\n",
      "“The response has five or fewer unique values.  Are you sure you want to do regression?”\n",
      "Warning message in randomForest.default(x = obsX, y = obsY, ntree = ntree, mtry = mtry, :\n",
      "“The response has five or fewer unique values.  Are you sure you want to do regression?”\n",
      "Warning message in randomForest.default(x = obsX, y = obsY, ntree = ntree, mtry = mtry, :\n",
      "“The response has five or fewer unique values.  Are you sure you want to do regression?”\n",
      "Warning message in randomForest.default(x = obsX, y = obsY, ntree = ntree, mtry = mtry, :\n",
      "“The response has five or fewer unique values.  Are you sure you want to do regression?”\n",
      "Warning message in randomForest.default(x = obsX, y = obsY, ntree = ntree, mtry = mtry, :\n",
      "“The response has five or fewer unique values.  Are you sure you want to do regression?”\n",
      "Warning message in randomForest.default(x = obsX, y = obsY, ntree = ntree, mtry = mtry, :\n",
      "“The response has five or fewer unique values.  Are you sure you want to do regression?”\n",
      "Warning message in randomForest.default(x = obsX, y = obsY, ntree = ntree, mtry = mtry, :\n",
      "“The response has five or fewer unique values.  Are you sure you want to do regression?”\n",
      "Warning message in randomForest.default(x = obsX, y = obsY, ntree = ntree, mtry = mtry, :\n",
      "“The response has five or fewer unique values.  Are you sure you want to do regression?”\n",
      "Warning message in randomForest.default(x = obsX, y = obsY, ntree = ntree, mtry = mtry, :\n",
      "“The response has five or fewer unique values.  Are you sure you want to do regression?”\n",
      "Warning message in randomForest.default(x = obsX, y = obsY, ntree = ntree, mtry = mtry, :\n",
      "“The response has five or fewer unique values.  Are you sure you want to do regression?”\n",
      "Warning message in randomForest.default(x = obsX, y = obsY, ntree = ntree, mtry = mtry, :\n",
      "“The response has five or fewer unique values.  Are you sure you want to do regression?”\n",
      "Warning message in randomForest.default(x = obsX, y = obsY, ntree = ntree, mtry = mtry, :\n",
      "“The response has five or fewer unique values.  Are you sure you want to do regression?”\n",
      "Warning message in randomForest.default(x = obsX, y = obsY, ntree = ntree, mtry = mtry, :\n",
      "“The response has five or fewer unique values.  Are you sure you want to do regression?”\n",
      "Warning message in randomForest.default(x = obsX, y = obsY, ntree = ntree, mtry = mtry, :\n",
      "“The response has five or fewer unique values.  Are you sure you want to do regression?”\n",
      "Warning message in randomForest.default(x = obsX, y = obsY, ntree = ntree, mtry = mtry, :\n",
      "“The response has five or fewer unique values.  Are you sure you want to do regression?”\n",
      "Warning message in randomForest.default(x = obsX, y = obsY, ntree = ntree, mtry = mtry, :\n",
      "“The response has five or fewer unique values.  Are you sure you want to do regression?”\n",
      "Warning message in randomForest.default(x = obsX, y = obsY, ntree = ntree, mtry = mtry, :\n",
      "“The response has five or fewer unique values.  Are you sure you want to do regression?”\n",
      "Warning message in randomForest.default(x = obsX, y = obsY, ntree = ntree, mtry = mtry, :\n",
      "“The response has five or fewer unique values.  Are you sure you want to do regression?”\n",
      "Warning message in randomForest.default(x = obsX, y = obsY, ntree = ntree, mtry = mtry, :\n",
      "“The response has five or fewer unique values.  Are you sure you want to do regression?”\n",
      "Warning message in randomForest.default(x = obsX, y = obsY, ntree = ntree, mtry = mtry, :\n",
      "“The response has five or fewer unique values.  Are you sure you want to do regression?”\n",
      "Warning message in randomForest.default(x = obsX, y = obsY, ntree = ntree, mtry = mtry, :\n",
      "“The response has five or fewer unique values.  Are you sure you want to do regression?”\n",
      "Warning message in randomForest.default(x = obsX, y = obsY, ntree = ntree, mtry = mtry, :\n",
      "“The response has five or fewer unique values.  Are you sure you want to do regression?”\n"
     ]
    },
    {
     "data": {
      "text/html": [
       "<table class=\"dataframe\">\n",
       "<caption>A tibble: 6 × 8</caption>\n",
       "<thead>\n",
       "\t<tr><th scope=col>SampleID</th><th scope=col>HAWC_ID</th><th scope=col>Metric</th><th scope=col>Data</th><th scope=col>Study</th><th scope=col>Class</th><th scope=col>DTXSID</th><th scope=col>Value</th></tr>\n",
       "\t<tr><th scope=col>&lt;chr&gt;</th><th scope=col>&lt;chr&gt;</th><th scope=col>&lt;chr&gt;</th><th scope=col>&lt;chr&gt;</th><th scope=col>&lt;chr&gt;</th><th scope=col>&lt;chr&gt;</th><th scope=col>&lt;chr&gt;</th><th scope=col>&lt;dbl&gt;</th></tr>\n",
       "</thead>\n",
       "<tbody>\n",
       "\t<tr><td>USEPA_TRAP_Metal</td><td>USEPA</td><td>Volume</td><td>TRAP</td><td>USEPA</td><td>Metal</td><td>Cr</td><td>  3.91325</td></tr>\n",
       "\t<tr><td>USEPA_TRAP_Metal</td><td>USEPA</td><td>Volume</td><td>TRAP</td><td>USEPA</td><td>Metal</td><td>Cu</td><td> 47.89390</td></tr>\n",
       "\t<tr><td>USEPA_TRAP_Metal</td><td>USEPA</td><td>Volume</td><td>TRAP</td><td>USEPA</td><td>Metal</td><td>As</td><td>  0.18050</td></tr>\n",
       "\t<tr><td>USEPA_TRAP_Metal</td><td>USEPA</td><td>Volume</td><td>TRAP</td><td>USEPA</td><td>Metal</td><td>Ca</td><td>593.60917</td></tr>\n",
       "\t<tr><td>USEPA_TRAP_Metal</td><td>USEPA</td><td>Volume</td><td>TRAP</td><td>USEPA</td><td>Metal</td><td>Cd</td><td>  0.09450</td></tr>\n",
       "\t<tr><td>USEPA_TRAP_Metal</td><td>USEPA</td><td>Volume</td><td>TRAP</td><td>USEPA</td><td>Metal</td><td>Co</td><td>  1.32495</td></tr>\n",
       "</tbody>\n",
       "</table>\n"
      ],
      "text/latex": [
       "A tibble: 6 × 8\n",
       "\\begin{tabular}{llllllll}\n",
       " SampleID & HAWC\\_ID & Metric & Data & Study & Class & DTXSID & Value\\\\\n",
       " <chr> & <chr> & <chr> & <chr> & <chr> & <chr> & <chr> & <dbl>\\\\\n",
       "\\hline\n",
       "\t USEPA\\_TRAP\\_Metal & USEPA & Volume & TRAP & USEPA & Metal & Cr &   3.91325\\\\\n",
       "\t USEPA\\_TRAP\\_Metal & USEPA & Volume & TRAP & USEPA & Metal & Cu &  47.89390\\\\\n",
       "\t USEPA\\_TRAP\\_Metal & USEPA & Volume & TRAP & USEPA & Metal & As &   0.18050\\\\\n",
       "\t USEPA\\_TRAP\\_Metal & USEPA & Volume & TRAP & USEPA & Metal & Ca & 593.60917\\\\\n",
       "\t USEPA\\_TRAP\\_Metal & USEPA & Volume & TRAP & USEPA & Metal & Cd &   0.09450\\\\\n",
       "\t USEPA\\_TRAP\\_Metal & USEPA & Volume & TRAP & USEPA & Metal & Co &   1.32495\\\\\n",
       "\\end{tabular}\n"
      ],
      "text/markdown": [
       "\n",
       "A tibble: 6 × 8\n",
       "\n",
       "| SampleID &lt;chr&gt; | HAWC_ID &lt;chr&gt; | Metric &lt;chr&gt; | Data &lt;chr&gt; | Study &lt;chr&gt; | Class &lt;chr&gt; | DTXSID &lt;chr&gt; | Value &lt;dbl&gt; |\n",
       "|---|---|---|---|---|---|---|---|\n",
       "| USEPA_TRAP_Metal | USEPA | Volume | TRAP | USEPA | Metal | Cr |   3.91325 |\n",
       "| USEPA_TRAP_Metal | USEPA | Volume | TRAP | USEPA | Metal | Cu |  47.89390 |\n",
       "| USEPA_TRAP_Metal | USEPA | Volume | TRAP | USEPA | Metal | As |   0.18050 |\n",
       "| USEPA_TRAP_Metal | USEPA | Volume | TRAP | USEPA | Metal | Ca | 593.60917 |\n",
       "| USEPA_TRAP_Metal | USEPA | Volume | TRAP | USEPA | Metal | Cd |   0.09450 |\n",
       "| USEPA_TRAP_Metal | USEPA | Volume | TRAP | USEPA | Metal | Co |   1.32495 |\n",
       "\n"
      ],
      "text/plain": [
       "  SampleID         HAWC_ID Metric Data Study Class DTXSID Value    \n",
       "1 USEPA_TRAP_Metal USEPA   Volume TRAP USEPA Metal Cr       3.91325\n",
       "2 USEPA_TRAP_Metal USEPA   Volume TRAP USEPA Metal Cu      47.89390\n",
       "3 USEPA_TRAP_Metal USEPA   Volume TRAP USEPA Metal As       0.18050\n",
       "4 USEPA_TRAP_Metal USEPA   Volume TRAP USEPA Metal Ca     593.60917\n",
       "5 USEPA_TRAP_Metal USEPA   Volume TRAP USEPA Metal Cd       0.09450\n",
       "6 USEPA_TRAP_Metal USEPA   Volume TRAP USEPA Metal Co       1.32495"
      ]
     },
     "metadata": {},
     "output_type": "display_data"
    },
    {
     "data": {
      "text/html": [
       "<style>\n",
       ".list-inline {list-style: none; margin:0; padding: 0}\n",
       ".list-inline>li {display: inline-block}\n",
       ".list-inline>li:not(:last-child)::after {content: \"\\00b7\"; padding: 0 .5ex}\n",
       "</style>\n",
       "<ol class=list-inline><li>1237</li><li>8</li></ol>\n"
      ],
      "text/latex": [
       "\\begin{enumerate*}\n",
       "\\item 1237\n",
       "\\item 8\n",
       "\\end{enumerate*}\n"
      ],
      "text/markdown": [
       "1. 1237\n",
       "2. 8\n",
       "\n",
       "\n"
      ],
      "text/plain": [
       "[1] 1237    8"
      ]
     },
     "metadata": {},
     "output_type": "display_data"
    }
   ],
   "source": [
    "random_forest_imputation = function(dataset){\n",
    "    # ADD WORDS\n",
    "    \n",
    "    preimputed_df = dataset[,7:ncol(dataset)]\n",
    "    \n",
    "    imputed_RF_object = missForest(as.matrix(preimputed_df))\n",
    "    imputed_RF_df = imputed_RF_object$ximp\n",
    "    imputed_final_df = data.frame(cbind(dataset[,1:6], imputed_RF_df)) %>%\n",
    "        pivot_longer(cols = 7:ncol(dataset), names_to = \"DTXSID\", values_to = \"Value\")\n",
    "    \n",
    "    return(imputed_final_df)\n",
    "}\n",
    "\n",
    "# calling fn\n",
    "rf_metal_vol_imputed_df = random_forest_imputation(preimputed_metal_vol_df) \n",
    "rf_pah_vol_imputed_df = random_forest_imputation(preimputed_pah_vol_df)\n",
    "rf_voc_vol_imputed_df = random_forest_imputation(preimputed_voc_vol_df)\n",
    "rf_metal_weight_imputed_df = random_forest_imputation(preimputed_metal_weight_df) \n",
    "rf_pah_weight_imputed_df = random_forest_imputation(preimputed_pah_weight_df)\n",
    "\n",
    "rf_imputed_df = rbind(rf_metal_vol_imputed_df, rf_pah_vol_imputed_df, \n",
    "                      rf_voc_vol_imputed_df, rf_metal_weight_imputed_df,\n",
    "                      rf_pah_weight_imputed_df\n",
    "                     ) \n",
    "\n",
    "head(rf_imputed_df)\n",
    "dim(rf_imputed_df)"
   ]
  },
  {
   "cell_type": "code",
   "execution_count": 34,
   "id": "7db6faee-27f7-4daa-8c24-d447c9ec8e55",
   "metadata": {},
   "outputs": [
    {
     "name": "stderr",
     "output_type": "stream",
     "text": [
      "\u001b[1m\u001b[22mJoining with `by = join_by(DTXSID)`\n"
     ]
    },
    {
     "data": {
      "text/html": [
       "<table class=\"dataframe\">\n",
       "<caption>A tibble: 6 × 8</caption>\n",
       "<thead>\n",
       "\t<tr><th scope=col>HAWC_ID</th><th scope=col>Metric</th><th scope=col>Data</th><th scope=col>Study</th><th scope=col>Class</th><th scope=col>DTXSID</th><th scope=col>Name</th><th scope=col>Value</th></tr>\n",
       "\t<tr><th scope=col>&lt;chr&gt;</th><th scope=col>&lt;chr&gt;</th><th scope=col>&lt;chr&gt;</th><th scope=col>&lt;chr&gt;</th><th scope=col>&lt;chr&gt;</th><th scope=col>&lt;chr&gt;</th><th scope=col>&lt;chr&gt;</th><th scope=col>&lt;dbl&gt;</th></tr>\n",
       "</thead>\n",
       "<tbody>\n",
       "\t<tr><td>USEPA</td><td>Volume</td><td>TRAP</td><td>USEPA</td><td>Metal</td><td>Cr</td><td>Cr</td><td>  3.91325</td></tr>\n",
       "\t<tr><td>USEPA</td><td>Volume</td><td>TRAP</td><td>USEPA</td><td>Metal</td><td>Cu</td><td>Cu</td><td> 47.89390</td></tr>\n",
       "\t<tr><td>USEPA</td><td>Volume</td><td>TRAP</td><td>USEPA</td><td>Metal</td><td>As</td><td>As</td><td>  0.18050</td></tr>\n",
       "\t<tr><td>USEPA</td><td>Volume</td><td>TRAP</td><td>USEPA</td><td>Metal</td><td>Ca</td><td>Ca</td><td>593.60917</td></tr>\n",
       "\t<tr><td>USEPA</td><td>Volume</td><td>TRAP</td><td>USEPA</td><td>Metal</td><td>Cd</td><td>Cd</td><td>  0.09450</td></tr>\n",
       "\t<tr><td>USEPA</td><td>Volume</td><td>TRAP</td><td>USEPA</td><td>Metal</td><td>Co</td><td>Co</td><td>  1.32495</td></tr>\n",
       "</tbody>\n",
       "</table>\n"
      ],
      "text/latex": [
       "A tibble: 6 × 8\n",
       "\\begin{tabular}{llllllll}\n",
       " HAWC\\_ID & Metric & Data & Study & Class & DTXSID & Name & Value\\\\\n",
       " <chr> & <chr> & <chr> & <chr> & <chr> & <chr> & <chr> & <dbl>\\\\\n",
       "\\hline\n",
       "\t USEPA & Volume & TRAP & USEPA & Metal & Cr & Cr &   3.91325\\\\\n",
       "\t USEPA & Volume & TRAP & USEPA & Metal & Cu & Cu &  47.89390\\\\\n",
       "\t USEPA & Volume & TRAP & USEPA & Metal & As & As &   0.18050\\\\\n",
       "\t USEPA & Volume & TRAP & USEPA & Metal & Ca & Ca & 593.60917\\\\\n",
       "\t USEPA & Volume & TRAP & USEPA & Metal & Cd & Cd &   0.09450\\\\\n",
       "\t USEPA & Volume & TRAP & USEPA & Metal & Co & Co &   1.32495\\\\\n",
       "\\end{tabular}\n"
      ],
      "text/markdown": [
       "\n",
       "A tibble: 6 × 8\n",
       "\n",
       "| HAWC_ID &lt;chr&gt; | Metric &lt;chr&gt; | Data &lt;chr&gt; | Study &lt;chr&gt; | Class &lt;chr&gt; | DTXSID &lt;chr&gt; | Name &lt;chr&gt; | Value &lt;dbl&gt; |\n",
       "|---|---|---|---|---|---|---|---|\n",
       "| USEPA | Volume | TRAP | USEPA | Metal | Cr | Cr |   3.91325 |\n",
       "| USEPA | Volume | TRAP | USEPA | Metal | Cu | Cu |  47.89390 |\n",
       "| USEPA | Volume | TRAP | USEPA | Metal | As | As |   0.18050 |\n",
       "| USEPA | Volume | TRAP | USEPA | Metal | Ca | Ca | 593.60917 |\n",
       "| USEPA | Volume | TRAP | USEPA | Metal | Cd | Cd |   0.09450 |\n",
       "| USEPA | Volume | TRAP | USEPA | Metal | Co | Co |   1.32495 |\n",
       "\n"
      ],
      "text/plain": [
       "  HAWC_ID Metric Data Study Class DTXSID Name Value    \n",
       "1 USEPA   Volume TRAP USEPA Metal Cr     Cr     3.91325\n",
       "2 USEPA   Volume TRAP USEPA Metal Cu     Cu    47.89390\n",
       "3 USEPA   Volume TRAP USEPA Metal As     As     0.18050\n",
       "4 USEPA   Volume TRAP USEPA Metal Ca     Ca   593.60917\n",
       "5 USEPA   Volume TRAP USEPA Metal Cd     Cd     0.09450\n",
       "6 USEPA   Volume TRAP USEPA Metal Co     Co     1.32495"
      ]
     },
     "metadata": {},
     "output_type": "display_data"
    },
    {
     "data": {
      "text/html": [
       "<style>\n",
       ".list-inline {list-style: none; margin:0; padding: 0}\n",
       ".list-inline>li {display: inline-block}\n",
       ".list-inline>li:not(:last-child)::after {content: \"\\00b7\"; padding: 0 .5ex}\n",
       "</style>\n",
       "<ol class=list-inline><li>1237</li><li>8</li></ol>\n"
      ],
      "text/latex": [
       "\\begin{enumerate*}\n",
       "\\item 1237\n",
       "\\item 8\n",
       "\\end{enumerate*}\n"
      ],
      "text/markdown": [
       "1. 1237\n",
       "2. 8\n",
       "\n",
       "\n"
      ],
      "text/plain": [
       "[1] 1237    8"
      ]
     },
     "metadata": {},
     "output_type": "display_data"
    }
   ],
   "source": [
    "# adding back in name col\n",
    "final_df = left_join(rf_imputed_df, \n",
    "                      combined_df[,c(7:8)] %>%\n",
    "    # metals don't have a DTXSID, so making that col their name\n",
    "    mutate(DTXSID = ifelse(grepl(\"NA\", DTXSID), Name, DTXSID)) %>%\n",
    "    mutate(Name = ifelse(Name == 'Dibenz(ah)anthracene', 'Dibenzo(ah)anthracene', \n",
    "                    ifelse(Name == 'Benz(a)anthracene', 'Benzo(a)anthracene', \n",
    "                        ifelse(Name == 'o-Xylene', 'O-xylene', \n",
    "                            ifelse(Name == 'Propylbenzene (Benzene, propyl)', 'Propylbenzene', \n",
    "                                ifelse(Name == 'n-Hexane', 'Hexane', \n",
    "                                    ifelse(Name == 'Carbon tetrachloride (tetrachloromethane)', 'Carbon tetrachloride',\n",
    "                                        ifelse(Name == 'Trichloromethane (Chloroform)', 'Chloroform', Name)))))))) %>%\n",
    "    unique()) \n",
    "\n",
    "final_df = final_df[,c(2:7,9,8)]\n",
    "\n",
    "head(final_df)\n",
    "dim(final_df)"
   ]
  },
  {
   "cell_type": "code",
   "execution_count": 35,
   "id": "71aabfcd-d6a1-4a68-a845-1e890ab2bab7",
   "metadata": {},
   "outputs": [],
   "source": [
    "# exporting\n",
    "write.xlsx(final_df, paste0(Output,\"/\", \"Processed_Data_\", cur_date, \".xlsx\"), \n",
    "           rowNames = FALSE)"
   ]
  },
  {
   "cell_type": "code",
   "execution_count": null,
   "id": "b003cc96-3d86-4728-be5f-7420fdf4e0e6",
   "metadata": {},
   "outputs": [],
   "source": []
  }
 ],
 "metadata": {
  "kernelspec": {
   "display_name": "R",
   "language": "R",
   "name": "ir"
  },
  "language_info": {
   "codemirror_mode": "r",
   "file_extension": ".r",
   "mimetype": "text/x-r-source",
   "name": "R",
   "pygments_lexer": "r",
   "version": "4.3.1"
  }
 },
 "nbformat": 4,
 "nbformat_minor": 5
}
