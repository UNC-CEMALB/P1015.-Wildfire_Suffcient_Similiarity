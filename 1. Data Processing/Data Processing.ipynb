{
 "cells": [
  {
   "cell_type": "code",
   "execution_count": 1,
   "id": "dbfb736a-bc97-4a2f-96f6-553aa3c90c5b",
   "metadata": {},
   "outputs": [
    {
     "name": "stderr",
     "output_type": "stream",
     "text": [
      "── \u001b[1mAttaching core tidyverse packages\u001b[22m ──────────────────────── tidyverse 2.0.0 ──\n",
      "\u001b[32m✔\u001b[39m \u001b[34mdplyr    \u001b[39m 1.1.3     \u001b[32m✔\u001b[39m \u001b[34mreadr    \u001b[39m 2.1.4\n",
      "\u001b[32m✔\u001b[39m \u001b[34mforcats  \u001b[39m 1.0.0     \u001b[32m✔\u001b[39m \u001b[34mstringr  \u001b[39m 1.5.0\n",
      "\u001b[32m✔\u001b[39m \u001b[34mggplot2  \u001b[39m 3.4.3     \u001b[32m✔\u001b[39m \u001b[34mtibble   \u001b[39m 3.2.1\n",
      "\u001b[32m✔\u001b[39m \u001b[34mlubridate\u001b[39m 1.9.2     \u001b[32m✔\u001b[39m \u001b[34mtidyr    \u001b[39m 1.3.0\n",
      "\u001b[32m✔\u001b[39m \u001b[34mpurrr    \u001b[39m 1.0.2     \n",
      "── \u001b[1mConflicts\u001b[22m ────────────────────────────────────────── tidyverse_conflicts() ──\n",
      "\u001b[31m✖\u001b[39m \u001b[34mdplyr\u001b[39m::\u001b[32mfilter()\u001b[39m masks \u001b[34mstats\u001b[39m::filter()\n",
      "\u001b[31m✖\u001b[39m \u001b[34mdplyr\u001b[39m::\u001b[32mlag()\u001b[39m    masks \u001b[34mstats\u001b[39m::lag()\n",
      "\u001b[36mℹ\u001b[39m Use the conflicted package (\u001b[3m\u001b[34m<http://conflicted.r-lib.org/>\u001b[39m\u001b[23m) to force all conflicts to become errors\n",
      "Loading required package: tmvtnorm\n",
      "\n",
      "Loading required package: mvtnorm\n",
      "\n",
      "Loading required package: Matrix\n",
      "\n",
      "\n",
      "Attaching package: ‘Matrix’\n",
      "\n",
      "\n",
      "The following objects are masked from ‘package:tidyr’:\n",
      "\n",
      "    expand, pack, unpack\n",
      "\n",
      "\n",
      "Loading required package: stats4\n",
      "\n",
      "Loading required package: gmm\n",
      "\n",
      "Loading required package: sandwich\n",
      "\n",
      "Loading required package: norm\n",
      "\n",
      "This package has some major limitations\n",
      "(for example, it does not work reliably when\n",
      "the number of variables exceeds 30),\n",
      "and has been superseded by the norm2 package.\n",
      "\n",
      "Loading required package: pcaMethods\n",
      "\n",
      "Loading required package: Biobase\n",
      "\n",
      "Loading required package: BiocGenerics\n",
      "\n",
      "\n",
      "Attaching package: ‘BiocGenerics’\n",
      "\n",
      "\n",
      "The following objects are masked from ‘package:lubridate’:\n",
      "\n",
      "    intersect, setdiff, union\n",
      "\n",
      "\n",
      "The following objects are masked from ‘package:dplyr’:\n",
      "\n",
      "    combine, intersect, setdiff, union\n",
      "\n",
      "\n",
      "The following objects are masked from ‘package:stats’:\n",
      "\n",
      "    IQR, mad, sd, var, xtabs\n",
      "\n",
      "\n",
      "The following objects are masked from ‘package:base’:\n",
      "\n",
      "    anyDuplicated, aperm, append, as.data.frame, basename, cbind,\n",
      "    colnames, dirname, do.call, duplicated, eval, evalq, Filter, Find,\n",
      "    get, grep, grepl, intersect, is.unsorted, lapply, Map, mapply,\n",
      "    match, mget, order, paste, pmax, pmax.int, pmin, pmin.int,\n",
      "    Position, rank, rbind, Reduce, rownames, sapply, setdiff, sort,\n",
      "    table, tapply, union, unique, unsplit, which.max, which.min\n",
      "\n",
      "\n",
      "Welcome to Bioconductor\n",
      "\n",
      "    Vignettes contain introductory material; view with\n",
      "    'browseVignettes()'. To cite Bioconductor, see\n",
      "    'citation(\"Biobase\")', and for packages 'citation(\"pkgname\")'.\n",
      "\n",
      "\n",
      "\n",
      "Attaching package: ‘pcaMethods’\n",
      "\n",
      "\n",
      "The following object is masked from ‘package:stats’:\n",
      "\n",
      "    loadings\n",
      "\n",
      "\n",
      "Loading required package: impute\n",
      "\n",
      "Welcome! Want to learn more? See two factoextra-related books at https://goo.gl/ve3WBa\n",
      "\n"
     ]
    }
   ],
   "source": [
    "Output = '/Users/alexis/Library/CloudStorage/OneDrive-UniversityofNorthCarolinaatChapelHill/CEMALB_DataAnalysisPM/Projects/P1015. Fire Sufficient Similarity/P1015.3. Analyses/P1015.3.2. Data Processing/Output'\n",
    "cur_date = '032225'\n",
    "\n",
    "library(missForest)\n",
    "library(readxl)\n",
    "library(openxlsx)\n",
    "library(tidyverse)\n",
    "library(imputeLCMD)\n",
    "library(factoextra)\n",
    "\n",
    "# reading in files\n",
    "ws_df = data.frame(Data = 'WS', read_excel(\"Input/Woodsmoke_Data_012825.xlsx\", sheet = 2)) %>%\n",
    "    select(-Sample_Number)\n",
    "wf_df = data.frame(Data = 'WF', read_excel(\"Input/Wildfire_Data_012825.xlsx\", sheet = 2)) %>%\n",
    "    select(-Sample_Number)"
   ]
  },
  {
   "cell_type": "markdown",
   "id": "a6904813-4b86-4407-a5ec-4efed3e83041",
   "metadata": {},
   "source": [
    "NOTES TO SELF:\n",
    "- change 'replicate' to 'instance' and 'chemical class' to 'class'"
   ]
  },
  {
   "cell_type": "code",
   "execution_count": 2,
   "id": "73a7d5c4-8e2a-4ab5-b13b-046bc35d412e",
   "metadata": {},
   "outputs": [
    {
     "data": {
      "text/html": [
       "<table class=\"dataframe\">\n",
       "<caption>A data.frame: 6 × 9</caption>\n",
       "<thead>\n",
       "\t<tr><th></th><th scope=col>Data</th><th scope=col>HAWC_ID</th><th scope=col>Study</th><th scope=col>Replicate</th><th scope=col>Chemical_Class</th><th scope=col>Metric</th><th scope=col>DTXSID</th><th scope=col>Name</th><th scope=col>Value</th></tr>\n",
       "\t<tr><th></th><th scope=col>&lt;chr&gt;</th><th scope=col>&lt;dbl&gt;</th><th scope=col>&lt;chr&gt;</th><th scope=col>&lt;dbl&gt;</th><th scope=col>&lt;chr&gt;</th><th scope=col>&lt;chr&gt;</th><th scope=col>&lt;chr&gt;</th><th scope=col>&lt;chr&gt;</th><th scope=col>&lt;chr&gt;</th></tr>\n",
       "</thead>\n",
       "<tbody>\n",
       "\t<tr><th scope=row>1</th><td>WS</td><td> 821855</td><td>Erlandsson et al. 2020  </td><td> 1</td><td>PAH</td><td>Weight</td><td>DTXSID3074787</td><td>1-Methylanthracene</td><td>11.3              </td></tr>\n",
       "\t<tr><th scope=row>2</th><td>WS</td><td> 821855</td><td>Erlandsson et al. 2020  </td><td> 1</td><td>PAH</td><td>Weight</td><td>DTXSID3074787</td><td>1-Methylanthracene</td><td>2.2999999999999998</td></tr>\n",
       "\t<tr><th scope=row>3</th><td>WS</td><td>1257056</td><td>McCarrick et al. 2024   </td><td> 1</td><td>PAH</td><td>Weight</td><td>DTXSID3074787</td><td>1-Methylanthracene</td><td>1.66              </td></tr>\n",
       "\t<tr><th scope=row>4</th><td>WS</td><td> 267140</td><td>Alfheim and Ramdahl 1984</td><td> 1</td><td>PAH</td><td>Volume</td><td>DTXSID3074787</td><td>1-Methylanthracene</td><td>NA                </td></tr>\n",
       "\t<tr><th scope=row>5</th><td>WS</td><td>1263480</td><td>Burnet et al. 1990      </td><td> 1</td><td>PAH</td><td>Volume</td><td>DTXSID3074787</td><td>1-Methylanthracene</td><td>NA                </td></tr>\n",
       "\t<tr><th scope=row>6</th><td>WS</td><td>1263480</td><td>Burnet et al. 1990      </td><td>NA</td><td>PAH</td><td>Volume</td><td>DTXSID3074787</td><td>1-Methylanthracene</td><td>NA                </td></tr>\n",
       "</tbody>\n",
       "</table>\n"
      ],
      "text/latex": [
       "A data.frame: 6 × 9\n",
       "\\begin{tabular}{r|lllllllll}\n",
       "  & Data & HAWC\\_ID & Study & Replicate & Chemical\\_Class & Metric & DTXSID & Name & Value\\\\\n",
       "  & <chr> & <dbl> & <chr> & <dbl> & <chr> & <chr> & <chr> & <chr> & <chr>\\\\\n",
       "\\hline\n",
       "\t1 & WS &  821855 & Erlandsson et al. 2020   &  1 & PAH & Weight & DTXSID3074787 & 1-Methylanthracene & 11.3              \\\\\n",
       "\t2 & WS &  821855 & Erlandsson et al. 2020   &  1 & PAH & Weight & DTXSID3074787 & 1-Methylanthracene & 2.2999999999999998\\\\\n",
       "\t3 & WS & 1257056 & McCarrick et al. 2024    &  1 & PAH & Weight & DTXSID3074787 & 1-Methylanthracene & 1.66              \\\\\n",
       "\t4 & WS &  267140 & Alfheim and Ramdahl 1984 &  1 & PAH & Volume & DTXSID3074787 & 1-Methylanthracene & NA                \\\\\n",
       "\t5 & WS & 1263480 & Burnet et al. 1990       &  1 & PAH & Volume & DTXSID3074787 & 1-Methylanthracene & NA                \\\\\n",
       "\t6 & WS & 1263480 & Burnet et al. 1990       & NA & PAH & Volume & DTXSID3074787 & 1-Methylanthracene & NA                \\\\\n",
       "\\end{tabular}\n"
      ],
      "text/markdown": [
       "\n",
       "A data.frame: 6 × 9\n",
       "\n",
       "| <!--/--> | Data &lt;chr&gt; | HAWC_ID &lt;dbl&gt; | Study &lt;chr&gt; | Replicate &lt;dbl&gt; | Chemical_Class &lt;chr&gt; | Metric &lt;chr&gt; | DTXSID &lt;chr&gt; | Name &lt;chr&gt; | Value &lt;chr&gt; |\n",
       "|---|---|---|---|---|---|---|---|---|---|\n",
       "| 1 | WS |  821855 | Erlandsson et al. 2020   |  1 | PAH | Weight | DTXSID3074787 | 1-Methylanthracene | 11.3               |\n",
       "| 2 | WS |  821855 | Erlandsson et al. 2020   |  1 | PAH | Weight | DTXSID3074787 | 1-Methylanthracene | 2.2999999999999998 |\n",
       "| 3 | WS | 1257056 | McCarrick et al. 2024    |  1 | PAH | Weight | DTXSID3074787 | 1-Methylanthracene | 1.66               |\n",
       "| 4 | WS |  267140 | Alfheim and Ramdahl 1984 |  1 | PAH | Volume | DTXSID3074787 | 1-Methylanthracene | NA                 |\n",
       "| 5 | WS | 1263480 | Burnet et al. 1990       |  1 | PAH | Volume | DTXSID3074787 | 1-Methylanthracene | NA                 |\n",
       "| 6 | WS | 1263480 | Burnet et al. 1990       | NA | PAH | Volume | DTXSID3074787 | 1-Methylanthracene | NA                 |\n",
       "\n"
      ],
      "text/plain": [
       "  Data HAWC_ID Study                    Replicate Chemical_Class Metric\n",
       "1 WS    821855 Erlandsson et al. 2020    1        PAH            Weight\n",
       "2 WS    821855 Erlandsson et al. 2020    1        PAH            Weight\n",
       "3 WS   1257056 McCarrick et al. 2024     1        PAH            Weight\n",
       "4 WS    267140 Alfheim and Ramdahl 1984  1        PAH            Volume\n",
       "5 WS   1263480 Burnet et al. 1990        1        PAH            Volume\n",
       "6 WS   1263480 Burnet et al. 1990       NA        PAH            Volume\n",
       "  DTXSID        Name               Value             \n",
       "1 DTXSID3074787 1-Methylanthracene 11.3              \n",
       "2 DTXSID3074787 1-Methylanthracene 2.2999999999999998\n",
       "3 DTXSID3074787 1-Methylanthracene 1.66              \n",
       "4 DTXSID3074787 1-Methylanthracene NA                \n",
       "5 DTXSID3074787 1-Methylanthracene NA                \n",
       "6 DTXSID3074787 1-Methylanthracene NA                "
      ]
     },
     "metadata": {},
     "output_type": "display_data"
    },
    {
     "data": {
      "text/html": [
       "<table class=\"dataframe\">\n",
       "<caption>A data.frame: 6 × 9</caption>\n",
       "<thead>\n",
       "\t<tr><th></th><th scope=col>Data</th><th scope=col>HAWC_ID</th><th scope=col>Study</th><th scope=col>Replicate</th><th scope=col>Chemical_Class</th><th scope=col>Metric</th><th scope=col>DTXSID</th><th scope=col>Name</th><th scope=col>Value</th></tr>\n",
       "\t<tr><th></th><th scope=col>&lt;chr&gt;</th><th scope=col>&lt;dbl&gt;</th><th scope=col>&lt;chr&gt;</th><th scope=col>&lt;dbl&gt;</th><th scope=col>&lt;chr&gt;</th><th scope=col>&lt;chr&gt;</th><th scope=col>&lt;chr&gt;</th><th scope=col>&lt;chr&gt;</th><th scope=col>&lt;chr&gt;</th></tr>\n",
       "</thead>\n",
       "<tbody>\n",
       "\t<tr><th scope=row>1</th><td>WF</td><td>1289821</td><td>Liang et al. 2021   </td><td> 1</td><td>PAH</td><td>Volume</td><td>NA            </td><td>1-(10-methylanthracen-9-yl)ethanone</td><td>5 </td></tr>\n",
       "\t<tr><th scope=row>2</th><td>WF</td><td>1289821</td><td>Liang et al. 2021   </td><td> 1</td><td>PAH</td><td>Volume</td><td>DTXSID50176885</td><td>1-Acenaphthenone                   </td><td>1 </td></tr>\n",
       "\t<tr><th scope=row>3</th><td>WF</td><td>1289737</td><td>Campbell et al. 2024</td><td> 1</td><td>PAH</td><td>Weight</td><td>DTXSID1074759 </td><td>1-Methylchrysene                   </td><td>NA</td></tr>\n",
       "\t<tr><th scope=row>4</th><td>WF</td><td>1289739</td><td>Campos et al. 2019  </td><td> 1</td><td>PAH</td><td>Weight</td><td>DTXSID1074759 </td><td>1-Methylchrysene                   </td><td>NA</td></tr>\n",
       "\t<tr><th scope=row>5</th><td>WF</td><td>1289739</td><td>Campos et al. 2019  </td><td>NA</td><td>PAH</td><td>Weight</td><td>DTXSID1074759 </td><td>1-Methylchrysene                   </td><td>NA</td></tr>\n",
       "\t<tr><th scope=row>6</th><td>WF</td><td>1289739</td><td>Campos et al. 2019  </td><td>NA</td><td>PAH</td><td>Weight</td><td>DTXSID1074759 </td><td>1-Methylchrysene                   </td><td>NA</td></tr>\n",
       "</tbody>\n",
       "</table>\n"
      ],
      "text/latex": [
       "A data.frame: 6 × 9\n",
       "\\begin{tabular}{r|lllllllll}\n",
       "  & Data & HAWC\\_ID & Study & Replicate & Chemical\\_Class & Metric & DTXSID & Name & Value\\\\\n",
       "  & <chr> & <dbl> & <chr> & <dbl> & <chr> & <chr> & <chr> & <chr> & <chr>\\\\\n",
       "\\hline\n",
       "\t1 & WF & 1289821 & Liang et al. 2021    &  1 & PAH & Volume & NA             & 1-(10-methylanthracen-9-yl)ethanone & 5 \\\\\n",
       "\t2 & WF & 1289821 & Liang et al. 2021    &  1 & PAH & Volume & DTXSID50176885 & 1-Acenaphthenone                    & 1 \\\\\n",
       "\t3 & WF & 1289737 & Campbell et al. 2024 &  1 & PAH & Weight & DTXSID1074759  & 1-Methylchrysene                    & NA\\\\\n",
       "\t4 & WF & 1289739 & Campos et al. 2019   &  1 & PAH & Weight & DTXSID1074759  & 1-Methylchrysene                    & NA\\\\\n",
       "\t5 & WF & 1289739 & Campos et al. 2019   & NA & PAH & Weight & DTXSID1074759  & 1-Methylchrysene                    & NA\\\\\n",
       "\t6 & WF & 1289739 & Campos et al. 2019   & NA & PAH & Weight & DTXSID1074759  & 1-Methylchrysene                    & NA\\\\\n",
       "\\end{tabular}\n"
      ],
      "text/markdown": [
       "\n",
       "A data.frame: 6 × 9\n",
       "\n",
       "| <!--/--> | Data &lt;chr&gt; | HAWC_ID &lt;dbl&gt; | Study &lt;chr&gt; | Replicate &lt;dbl&gt; | Chemical_Class &lt;chr&gt; | Metric &lt;chr&gt; | DTXSID &lt;chr&gt; | Name &lt;chr&gt; | Value &lt;chr&gt; |\n",
       "|---|---|---|---|---|---|---|---|---|---|\n",
       "| 1 | WF | 1289821 | Liang et al. 2021    |  1 | PAH | Volume | NA             | 1-(10-methylanthracen-9-yl)ethanone | 5  |\n",
       "| 2 | WF | 1289821 | Liang et al. 2021    |  1 | PAH | Volume | DTXSID50176885 | 1-Acenaphthenone                    | 1  |\n",
       "| 3 | WF | 1289737 | Campbell et al. 2024 |  1 | PAH | Weight | DTXSID1074759  | 1-Methylchrysene                    | NA |\n",
       "| 4 | WF | 1289739 | Campos et al. 2019   |  1 | PAH | Weight | DTXSID1074759  | 1-Methylchrysene                    | NA |\n",
       "| 5 | WF | 1289739 | Campos et al. 2019   | NA | PAH | Weight | DTXSID1074759  | 1-Methylchrysene                    | NA |\n",
       "| 6 | WF | 1289739 | Campos et al. 2019   | NA | PAH | Weight | DTXSID1074759  | 1-Methylchrysene                    | NA |\n",
       "\n"
      ],
      "text/plain": [
       "  Data HAWC_ID Study                Replicate Chemical_Class Metric\n",
       "1 WF   1289821 Liang et al. 2021     1        PAH            Volume\n",
       "2 WF   1289821 Liang et al. 2021     1        PAH            Volume\n",
       "3 WF   1289737 Campbell et al. 2024  1        PAH            Weight\n",
       "4 WF   1289739 Campos et al. 2019    1        PAH            Weight\n",
       "5 WF   1289739 Campos et al. 2019   NA        PAH            Weight\n",
       "6 WF   1289739 Campos et al. 2019   NA        PAH            Weight\n",
       "  DTXSID         Name                                Value\n",
       "1 NA             1-(10-methylanthracen-9-yl)ethanone 5    \n",
       "2 DTXSID50176885 1-Acenaphthenone                    1    \n",
       "3 DTXSID1074759  1-Methylchrysene                    NA   \n",
       "4 DTXSID1074759  1-Methylchrysene                    NA   \n",
       "5 DTXSID1074759  1-Methylchrysene                    NA   \n",
       "6 DTXSID1074759  1-Methylchrysene                    NA   "
      ]
     },
     "metadata": {},
     "output_type": "display_data"
    }
   ],
   "source": [
    "head(ws_df)\n",
    "head(wf_df)"
   ]
  },
  {
   "cell_type": "code",
   "execution_count": 3,
   "id": "3d546e8e-5cdf-4386-b29b-2ac2938366f9",
   "metadata": {},
   "outputs": [
    {
     "data": {
      "text/html": [
       "<style>\n",
       ".list-inline {list-style: none; margin:0; padding: 0}\n",
       ".list-inline>li {display: inline-block}\n",
       ".list-inline>li:not(:last-child)::after {content: \"\\00b7\"; padding: 0 .5ex}\n",
       "</style>\n",
       "<ol class=list-inline><li>6607</li><li>9</li></ol>\n"
      ],
      "text/latex": [
       "\\begin{enumerate*}\n",
       "\\item 6607\n",
       "\\item 9\n",
       "\\end{enumerate*}\n"
      ],
      "text/markdown": [
       "1. 6607\n",
       "2. 9\n",
       "\n",
       "\n"
      ],
      "text/plain": [
       "[1] 6607    9"
      ]
     },
     "metadata": {},
     "output_type": "display_data"
    },
    {
     "data": {
      "text/html": [
       "<style>\n",
       ".list-inline {list-style: none; margin:0; padding: 0}\n",
       ".list-inline>li {display: inline-block}\n",
       ".list-inline>li:not(:last-child)::after {content: \"\\00b7\"; padding: 0 .5ex}\n",
       "</style>\n",
       "<ol class=list-inline><li>4340</li><li>9</li></ol>\n"
      ],
      "text/latex": [
       "\\begin{enumerate*}\n",
       "\\item 4340\n",
       "\\item 9\n",
       "\\end{enumerate*}\n"
      ],
      "text/markdown": [
       "1. 4340\n",
       "2. 9\n",
       "\n",
       "\n"
      ],
      "text/plain": [
       "[1] 4340    9"
      ]
     },
     "metadata": {},
     "output_type": "display_data"
    }
   ],
   "source": [
    "dim(ws_df)\n",
    "dim(wf_df)"
   ]
  },
  {
   "cell_type": "markdown",
   "id": "417a92fb-0524-4038-a5ea-08a56f02a955",
   "metadata": {},
   "source": [
    "# Filter #1\n",
    "\n",
    "Removing duplicate records for instances that weren't measured at all (MAR). "
   ]
  },
  {
   "cell_type": "code",
   "execution_count": 4,
   "id": "9eefd1e4-96f4-48a6-933c-9486ab447115",
   "metadata": {
    "scrolled": true
   },
   "outputs": [],
   "source": [
    "`%notin%` <- Negate(`%in%`)\n",
    "\n",
    "ws_df = ws_df %>%\n",
    "    filter(Replicate %notin% NA)\n",
    "\n",
    "wf_df = wf_df %>%\n",
    "    filter(Replicate %notin% NA)"
   ]
  },
  {
   "cell_type": "code",
   "execution_count": 5,
   "id": "1425c2d3-c1cd-4626-974d-492e320d724e",
   "metadata": {
    "scrolled": true
   },
   "outputs": [
    {
     "data": {
      "text/html": [
       "<style>\n",
       ".list-inline {list-style: none; margin:0; padding: 0}\n",
       ".list-inline>li {display: inline-block}\n",
       ".list-inline>li:not(:last-child)::after {content: \"\\00b7\"; padding: 0 .5ex}\n",
       "</style>\n",
       "<ol class=list-inline><li>4203</li><li>9</li></ol>\n"
      ],
      "text/latex": [
       "\\begin{enumerate*}\n",
       "\\item 4203\n",
       "\\item 9\n",
       "\\end{enumerate*}\n"
      ],
      "text/markdown": [
       "1. 4203\n",
       "2. 9\n",
       "\n",
       "\n"
      ],
      "text/plain": [
       "[1] 4203    9"
      ]
     },
     "metadata": {},
     "output_type": "display_data"
    },
    {
     "data": {
      "text/html": [
       "<style>\n",
       ".list-inline {list-style: none; margin:0; padding: 0}\n",
       ".list-inline>li {display: inline-block}\n",
       ".list-inline>li:not(:last-child)::after {content: \"\\00b7\"; padding: 0 .5ex}\n",
       "</style>\n",
       "<ol class=list-inline><li>2378</li><li>9</li></ol>\n"
      ],
      "text/latex": [
       "\\begin{enumerate*}\n",
       "\\item 2378\n",
       "\\item 9\n",
       "\\end{enumerate*}\n"
      ],
      "text/markdown": [
       "1. 2378\n",
       "2. 9\n",
       "\n",
       "\n"
      ],
      "text/plain": [
       "[1] 2378    9"
      ]
     },
     "metadata": {},
     "output_type": "display_data"
    }
   ],
   "source": [
    "dim(ws_df)\n",
    "dim(wf_df)"
   ]
  },
  {
   "cell_type": "code",
   "execution_count": 6,
   "id": "d9ba0841-95c0-4dfc-a8de-480550341718",
   "metadata": {},
   "outputs": [
    {
     "data": {
      "text/html": [
       "<table class=\"dataframe\">\n",
       "<caption>A data.frame: 6 × 9</caption>\n",
       "<thead>\n",
       "\t<tr><th></th><th scope=col>Data</th><th scope=col>HAWC_ID</th><th scope=col>Study</th><th scope=col>Replicate</th><th scope=col>Chemical_Class</th><th scope=col>Metric</th><th scope=col>DTXSID</th><th scope=col>Name</th><th scope=col>Value</th></tr>\n",
       "\t<tr><th></th><th scope=col>&lt;chr&gt;</th><th scope=col>&lt;dbl&gt;</th><th scope=col>&lt;chr&gt;</th><th scope=col>&lt;dbl&gt;</th><th scope=col>&lt;chr&gt;</th><th scope=col>&lt;chr&gt;</th><th scope=col>&lt;chr&gt;</th><th scope=col>&lt;chr&gt;</th><th scope=col>&lt;chr&gt;</th></tr>\n",
       "</thead>\n",
       "<tbody>\n",
       "\t<tr><th scope=row>1</th><td>WS</td><td> 821855</td><td>Erlandsson et al. 2020  </td><td>1</td><td>PAH</td><td>Weight</td><td>DTXSID3074787</td><td>1-Methylanthracene</td><td>11.3              </td></tr>\n",
       "\t<tr><th scope=row>2</th><td>WS</td><td> 821855</td><td>Erlandsson et al. 2020  </td><td>1</td><td>PAH</td><td>Weight</td><td>DTXSID3074787</td><td>1-Methylanthracene</td><td>2.2999999999999998</td></tr>\n",
       "\t<tr><th scope=row>3</th><td>WS</td><td>1257056</td><td>McCarrick et al. 2024   </td><td>1</td><td>PAH</td><td>Weight</td><td>DTXSID3074787</td><td>1-Methylanthracene</td><td>1.66              </td></tr>\n",
       "\t<tr><th scope=row>4</th><td>WS</td><td> 267140</td><td>Alfheim and Ramdahl 1984</td><td>1</td><td>PAH</td><td>Volume</td><td>DTXSID3074787</td><td>1-Methylanthracene</td><td>NA                </td></tr>\n",
       "\t<tr><th scope=row>5</th><td>WS</td><td>1263480</td><td>Burnet et al. 1990      </td><td>1</td><td>PAH</td><td>Volume</td><td>DTXSID3074787</td><td>1-Methylanthracene</td><td>NA                </td></tr>\n",
       "\t<tr><th scope=row>6</th><td>WS</td><td> 267091</td><td>Forchhammer et al. 2012 </td><td>1</td><td>PAH</td><td>Volume</td><td>DTXSID3074787</td><td>1-Methylanthracene</td><td>NA                </td></tr>\n",
       "</tbody>\n",
       "</table>\n"
      ],
      "text/latex": [
       "A data.frame: 6 × 9\n",
       "\\begin{tabular}{r|lllllllll}\n",
       "  & Data & HAWC\\_ID & Study & Replicate & Chemical\\_Class & Metric & DTXSID & Name & Value\\\\\n",
       "  & <chr> & <dbl> & <chr> & <dbl> & <chr> & <chr> & <chr> & <chr> & <chr>\\\\\n",
       "\\hline\n",
       "\t1 & WS &  821855 & Erlandsson et al. 2020   & 1 & PAH & Weight & DTXSID3074787 & 1-Methylanthracene & 11.3              \\\\\n",
       "\t2 & WS &  821855 & Erlandsson et al. 2020   & 1 & PAH & Weight & DTXSID3074787 & 1-Methylanthracene & 2.2999999999999998\\\\\n",
       "\t3 & WS & 1257056 & McCarrick et al. 2024    & 1 & PAH & Weight & DTXSID3074787 & 1-Methylanthracene & 1.66              \\\\\n",
       "\t4 & WS &  267140 & Alfheim and Ramdahl 1984 & 1 & PAH & Volume & DTXSID3074787 & 1-Methylanthracene & NA                \\\\\n",
       "\t5 & WS & 1263480 & Burnet et al. 1990       & 1 & PAH & Volume & DTXSID3074787 & 1-Methylanthracene & NA                \\\\\n",
       "\t6 & WS &  267091 & Forchhammer et al. 2012  & 1 & PAH & Volume & DTXSID3074787 & 1-Methylanthracene & NA                \\\\\n",
       "\\end{tabular}\n"
      ],
      "text/markdown": [
       "\n",
       "A data.frame: 6 × 9\n",
       "\n",
       "| <!--/--> | Data &lt;chr&gt; | HAWC_ID &lt;dbl&gt; | Study &lt;chr&gt; | Replicate &lt;dbl&gt; | Chemical_Class &lt;chr&gt; | Metric &lt;chr&gt; | DTXSID &lt;chr&gt; | Name &lt;chr&gt; | Value &lt;chr&gt; |\n",
       "|---|---|---|---|---|---|---|---|---|---|\n",
       "| 1 | WS |  821855 | Erlandsson et al. 2020   | 1 | PAH | Weight | DTXSID3074787 | 1-Methylanthracene | 11.3               |\n",
       "| 2 | WS |  821855 | Erlandsson et al. 2020   | 1 | PAH | Weight | DTXSID3074787 | 1-Methylanthracene | 2.2999999999999998 |\n",
       "| 3 | WS | 1257056 | McCarrick et al. 2024    | 1 | PAH | Weight | DTXSID3074787 | 1-Methylanthracene | 1.66               |\n",
       "| 4 | WS |  267140 | Alfheim and Ramdahl 1984 | 1 | PAH | Volume | DTXSID3074787 | 1-Methylanthracene | NA                 |\n",
       "| 5 | WS | 1263480 | Burnet et al. 1990       | 1 | PAH | Volume | DTXSID3074787 | 1-Methylanthracene | NA                 |\n",
       "| 6 | WS |  267091 | Forchhammer et al. 2012  | 1 | PAH | Volume | DTXSID3074787 | 1-Methylanthracene | NA                 |\n",
       "\n"
      ],
      "text/plain": [
       "  Data HAWC_ID Study                    Replicate Chemical_Class Metric\n",
       "1 WS    821855 Erlandsson et al. 2020   1         PAH            Weight\n",
       "2 WS    821855 Erlandsson et al. 2020   1         PAH            Weight\n",
       "3 WS   1257056 McCarrick et al. 2024    1         PAH            Weight\n",
       "4 WS    267140 Alfheim and Ramdahl 1984 1         PAH            Volume\n",
       "5 WS   1263480 Burnet et al. 1990       1         PAH            Volume\n",
       "6 WS    267091 Forchhammer et al. 2012  1         PAH            Volume\n",
       "  DTXSID        Name               Value             \n",
       "1 DTXSID3074787 1-Methylanthracene 11.3              \n",
       "2 DTXSID3074787 1-Methylanthracene 2.2999999999999998\n",
       "3 DTXSID3074787 1-Methylanthracene 1.66              \n",
       "4 DTXSID3074787 1-Methylanthracene NA                \n",
       "5 DTXSID3074787 1-Methylanthracene NA                \n",
       "6 DTXSID3074787 1-Methylanthracene NA                "
      ]
     },
     "metadata": {},
     "output_type": "display_data"
    }
   ],
   "source": [
    "# combining dfs\n",
    "combined_df = rbind(ws_df, wf_df)\n",
    "head(combined_df)"
   ]
  },
  {
   "cell_type": "code",
   "execution_count": 7,
   "id": "6bcf9a9c-639c-46ca-9806-dcb9246095f1",
   "metadata": {},
   "outputs": [
    {
     "data": {
      "text/html": [
       "192"
      ],
      "text/latex": [
       "192"
      ],
      "text/markdown": [
       "192"
      ],
      "text/plain": [
       "[1] 192"
      ]
     },
     "metadata": {},
     "output_type": "display_data"
    }
   ],
   "source": [
    "length(unique(combined_df$Name))"
   ]
  },
  {
   "attachments": {},
   "cell_type": "markdown",
   "id": "d12ab21b-9ebd-4e1f-8bb3-f9c23e764ea5",
   "metadata": {},
   "source": [
    "192 unique metals/chemicals.\n",
    "\n",
    "# Filter #2: Chemical/Metal Background Filters\n",
    "\n",
    "Determining what variables have missing data for all variables delineated based on the dfs the data will be split into and analyzed. \n",
    "\n",
    "A variable (ie. `Name` which represents a chemical or metal) will be retained if >= 50% of its experimental data points were measurable values. In other words, chemicals were excluded if they were NAs (not evaluated) or had non-detect values across > 50% of the samples."
   ]
  },
  {
   "cell_type": "code",
   "execution_count": 8,
   "id": "59c471fe-1657-4356-8ed6-35a8b6244188",
   "metadata": {},
   "outputs": [
    {
     "data": {
      "text/html": [
       "<table class=\"dataframe\">\n",
       "<caption>A tibble: 6 × 5</caption>\n",
       "<thead>\n",
       "\t<tr><th scope=col>Metric</th><th scope=col>Chemical_Class</th><th scope=col>Data</th><th scope=col>Name</th><th scope=col>Variable_Presence_Percentage</th></tr>\n",
       "\t<tr><th scope=col>&lt;chr&gt;</th><th scope=col>&lt;chr&gt;</th><th scope=col>&lt;chr&gt;</th><th scope=col>&lt;chr&gt;</th><th scope=col>&lt;dbl&gt;</th></tr>\n",
       "</thead>\n",
       "<tbody>\n",
       "\t<tr><td>Volume</td><td>Metal</td><td>WF</td><td>As</td><td>100</td></tr>\n",
       "\t<tr><td>Volume</td><td>Metal</td><td>WF</td><td>Ca</td><td>100</td></tr>\n",
       "\t<tr><td>Volume</td><td>Metal</td><td>WF</td><td>Cd</td><td>100</td></tr>\n",
       "\t<tr><td>Volume</td><td>Metal</td><td>WF</td><td>Co</td><td>100</td></tr>\n",
       "\t<tr><td>Volume</td><td>Metal</td><td>WF</td><td>Fe</td><td>100</td></tr>\n",
       "\t<tr><td>Volume</td><td>Metal</td><td>WF</td><td>Ga</td><td>100</td></tr>\n",
       "</tbody>\n",
       "</table>\n"
      ],
      "text/latex": [
       "A tibble: 6 × 5\n",
       "\\begin{tabular}{lllll}\n",
       " Metric & Chemical\\_Class & Data & Name & Variable\\_Presence\\_Percentage\\\\\n",
       " <chr> & <chr> & <chr> & <chr> & <dbl>\\\\\n",
       "\\hline\n",
       "\t Volume & Metal & WF & As & 100\\\\\n",
       "\t Volume & Metal & WF & Ca & 100\\\\\n",
       "\t Volume & Metal & WF & Cd & 100\\\\\n",
       "\t Volume & Metal & WF & Co & 100\\\\\n",
       "\t Volume & Metal & WF & Fe & 100\\\\\n",
       "\t Volume & Metal & WF & Ga & 100\\\\\n",
       "\\end{tabular}\n"
      ],
      "text/markdown": [
       "\n",
       "A tibble: 6 × 5\n",
       "\n",
       "| Metric &lt;chr&gt; | Chemical_Class &lt;chr&gt; | Data &lt;chr&gt; | Name &lt;chr&gt; | Variable_Presence_Percentage &lt;dbl&gt; |\n",
       "|---|---|---|---|---|\n",
       "| Volume | Metal | WF | As | 100 |\n",
       "| Volume | Metal | WF | Ca | 100 |\n",
       "| Volume | Metal | WF | Cd | 100 |\n",
       "| Volume | Metal | WF | Co | 100 |\n",
       "| Volume | Metal | WF | Fe | 100 |\n",
       "| Volume | Metal | WF | Ga | 100 |\n",
       "\n"
      ],
      "text/plain": [
       "  Metric Chemical_Class Data Name Variable_Presence_Percentage\n",
       "1 Volume Metal          WF   As   100                         \n",
       "2 Volume Metal          WF   Ca   100                         \n",
       "3 Volume Metal          WF   Cd   100                         \n",
       "4 Volume Metal          WF   Co   100                         \n",
       "5 Volume Metal          WF   Fe   100                         \n",
       "6 Volume Metal          WF   Ga   100                         "
      ]
     },
     "metadata": {},
     "output_type": "display_data"
    }
   ],
   "source": [
    "sample_type_presence_df = combined_df %>%\n",
    "    # # basing counts off of the mean values\n",
    "    # mutate(Avg_Value = mean(as.numiValue)) %>%\n",
    "    # if an experimental value is there count it as being \"present\"\n",
    "    mutate(count = ifelse(Value %notin% c('NA', 'ND'), 1, 0)) %>%\n",
    "    # determining which have at least 50% experimental values for each chemical/metal\n",
    "    group_by(Metric, Chemical_Class, Data, Name) %>%\n",
    "    # calculating the percentage of experimental data points\n",
    "    reframe(Variable_Presence_Percentage = (sum(count)/n()) * 100) %>%\n",
    "    filter(Variable_Presence_Percentage >= 50) \n",
    "\n",
    "head(sample_type_presence_df)"
   ]
  },
  {
   "cell_type": "code",
   "execution_count": 9,
   "id": "e9e0b6d6-d46b-4f37-81e9-f71cbf5eaefd",
   "metadata": {},
   "outputs": [
    {
     "name": "stderr",
     "output_type": "stream",
     "text": [
      "\u001b[1m\u001b[22mJoining with `by = join_by(Metric, Chemical_Class, Data, Name)`\n"
     ]
    },
    {
     "data": {
      "text/html": [
       "<table class=\"dataframe\">\n",
       "<caption>A tibble: 6 × 9</caption>\n",
       "<thead>\n",
       "\t<tr><th scope=col>Metric</th><th scope=col>Chemical_Class</th><th scope=col>Data</th><th scope=col>Name</th><th scope=col>HAWC_ID</th><th scope=col>Study</th><th scope=col>Replicate</th><th scope=col>DTXSID</th><th scope=col>Value</th></tr>\n",
       "\t<tr><th scope=col>&lt;chr&gt;</th><th scope=col>&lt;chr&gt;</th><th scope=col>&lt;chr&gt;</th><th scope=col>&lt;chr&gt;</th><th scope=col>&lt;dbl&gt;</th><th scope=col>&lt;chr&gt;</th><th scope=col>&lt;dbl&gt;</th><th scope=col>&lt;chr&gt;</th><th scope=col>&lt;chr&gt;</th></tr>\n",
       "</thead>\n",
       "<tbody>\n",
       "\t<tr><td>Volume</td><td>Metal</td><td>WF</td><td>As</td><td>1070627</td><td>Siregar et al. 2022  </td><td>1</td><td>As</td><td>2.2999999999999998</td></tr>\n",
       "\t<tr><td>Volume</td><td>Metal</td><td>WF</td><td>As</td><td>1070627</td><td>Siregar et al. 2022  </td><td>2</td><td>As</td><td>0.8               </td></tr>\n",
       "\t<tr><td>Volume</td><td>Metal</td><td>WF</td><td>As</td><td>1289884</td><td>Samsonova et al. 2012</td><td>1</td><td>As</td><td>67                </td></tr>\n",
       "\t<tr><td>Volume</td><td>Metal</td><td>WF</td><td>As</td><td>1289884</td><td>Samsonova et al. 2012</td><td>2</td><td>As</td><td>117               </td></tr>\n",
       "\t<tr><td>Volume</td><td>Metal</td><td>WF</td><td>As</td><td>1289884</td><td>Samsonova et al. 2012</td><td>3</td><td>As</td><td>183               </td></tr>\n",
       "\t<tr><td>Volume</td><td>Metal</td><td>WF</td><td>As</td><td>1289884</td><td>Samsonova et al. 2012</td><td>4</td><td>As</td><td>50                </td></tr>\n",
       "</tbody>\n",
       "</table>\n"
      ],
      "text/latex": [
       "A tibble: 6 × 9\n",
       "\\begin{tabular}{lllllllll}\n",
       " Metric & Chemical\\_Class & Data & Name & HAWC\\_ID & Study & Replicate & DTXSID & Value\\\\\n",
       " <chr> & <chr> & <chr> & <chr> & <dbl> & <chr> & <dbl> & <chr> & <chr>\\\\\n",
       "\\hline\n",
       "\t Volume & Metal & WF & As & 1070627 & Siregar et al. 2022   & 1 & As & 2.2999999999999998\\\\\n",
       "\t Volume & Metal & WF & As & 1070627 & Siregar et al. 2022   & 2 & As & 0.8               \\\\\n",
       "\t Volume & Metal & WF & As & 1289884 & Samsonova et al. 2012 & 1 & As & 67                \\\\\n",
       "\t Volume & Metal & WF & As & 1289884 & Samsonova et al. 2012 & 2 & As & 117               \\\\\n",
       "\t Volume & Metal & WF & As & 1289884 & Samsonova et al. 2012 & 3 & As & 183               \\\\\n",
       "\t Volume & Metal & WF & As & 1289884 & Samsonova et al. 2012 & 4 & As & 50                \\\\\n",
       "\\end{tabular}\n"
      ],
      "text/markdown": [
       "\n",
       "A tibble: 6 × 9\n",
       "\n",
       "| Metric &lt;chr&gt; | Chemical_Class &lt;chr&gt; | Data &lt;chr&gt; | Name &lt;chr&gt; | HAWC_ID &lt;dbl&gt; | Study &lt;chr&gt; | Replicate &lt;dbl&gt; | DTXSID &lt;chr&gt; | Value &lt;chr&gt; |\n",
       "|---|---|---|---|---|---|---|---|---|\n",
       "| Volume | Metal | WF | As | 1070627 | Siregar et al. 2022   | 1 | As | 2.2999999999999998 |\n",
       "| Volume | Metal | WF | As | 1070627 | Siregar et al. 2022   | 2 | As | 0.8                |\n",
       "| Volume | Metal | WF | As | 1289884 | Samsonova et al. 2012 | 1 | As | 67                 |\n",
       "| Volume | Metal | WF | As | 1289884 | Samsonova et al. 2012 | 2 | As | 117                |\n",
       "| Volume | Metal | WF | As | 1289884 | Samsonova et al. 2012 | 3 | As | 183                |\n",
       "| Volume | Metal | WF | As | 1289884 | Samsonova et al. 2012 | 4 | As | 50                 |\n",
       "\n"
      ],
      "text/plain": [
       "  Metric Chemical_Class Data Name HAWC_ID Study                 Replicate\n",
       "1 Volume Metal          WF   As   1070627 Siregar et al. 2022   1        \n",
       "2 Volume Metal          WF   As   1070627 Siregar et al. 2022   2        \n",
       "3 Volume Metal          WF   As   1289884 Samsonova et al. 2012 1        \n",
       "4 Volume Metal          WF   As   1289884 Samsonova et al. 2012 2        \n",
       "5 Volume Metal          WF   As   1289884 Samsonova et al. 2012 3        \n",
       "6 Volume Metal          WF   As   1289884 Samsonova et al. 2012 4        \n",
       "  DTXSID Value             \n",
       "1 As     2.2999999999999998\n",
       "2 As     0.8               \n",
       "3 As     67                \n",
       "4 As     117               \n",
       "5 As     183               \n",
       "6 As     50                "
      ]
     },
     "metadata": {},
     "output_type": "display_data"
    }
   ],
   "source": [
    "# filtering the original df\n",
    "filter1_df = inner_join(sample_type_presence_df[,1:4], combined_df) %>%\n",
    "    # metals don't have a DTXSID, so making that col their name\n",
    "    mutate(DTXSID = ifelse(DTXSID != 'NA', DTXSID, Name)) \n",
    "\n",
    "head(filter1_df)"
   ]
  },
  {
   "cell_type": "code",
   "execution_count": 10,
   "id": "326df55e-15f1-4704-969d-2e19d7cf54fd",
   "metadata": {},
   "outputs": [
    {
     "data": {
      "text/html": [
       "<style>\n",
       ".list-inline {list-style: none; margin:0; padding: 0}\n",
       ".list-inline>li {display: inline-block}\n",
       ".list-inline>li:not(:last-child)::after {content: \"\\00b7\"; padding: 0 .5ex}\n",
       "</style>\n",
       "<ol class=list-inline><li>6581</li><li>9</li></ol>\n"
      ],
      "text/latex": [
       "\\begin{enumerate*}\n",
       "\\item 6581\n",
       "\\item 9\n",
       "\\end{enumerate*}\n"
      ],
      "text/markdown": [
       "1. 6581\n",
       "2. 9\n",
       "\n",
       "\n"
      ],
      "text/plain": [
       "[1] 6581    9"
      ]
     },
     "metadata": {},
     "output_type": "display_data"
    },
    {
     "data": {
      "text/html": [
       "<style>\n",
       ".list-inline {list-style: none; margin:0; padding: 0}\n",
       ".list-inline>li {display: inline-block}\n",
       ".list-inline>li:not(:last-child)::after {content: \"\\00b7\"; padding: 0 .5ex}\n",
       "</style>\n",
       "<ol class=list-inline><li>4225</li><li>9</li></ol>\n"
      ],
      "text/latex": [
       "\\begin{enumerate*}\n",
       "\\item 4225\n",
       "\\item 9\n",
       "\\end{enumerate*}\n"
      ],
      "text/markdown": [
       "1. 4225\n",
       "2. 9\n",
       "\n",
       "\n"
      ],
      "text/plain": [
       "[1] 4225    9"
      ]
     },
     "metadata": {},
     "output_type": "display_data"
    }
   ],
   "source": [
    "dim(combined_df)\n",
    "dim(filter1_df)"
   ]
  },
  {
   "cell_type": "markdown",
   "id": "744bb359-5b56-4821-8613-66bfaf0a2271",
   "metadata": {},
   "source": [
    "Started with 6581 records, 2392 were removed, leaving 4189. \n",
    "\n",
    "# Filter 3: Study Background Filter\n",
    "WORDS"
   ]
  },
  {
   "cell_type": "code",
   "execution_count": 11,
   "id": "24e392b1-550e-4cb4-a5a7-012731dc5b3f",
   "metadata": {},
   "outputs": [
    {
     "data": {
      "text/html": [
       "<table class=\"dataframe\">\n",
       "<caption>A tibble: 6 × 4</caption>\n",
       "<thead>\n",
       "\t<tr><th scope=col>Metric</th><th scope=col>Chemical_Class</th><th scope=col>HAWC_ID</th><th scope=col>Study_Presence_Percentage</th></tr>\n",
       "\t<tr><th scope=col>&lt;chr&gt;</th><th scope=col>&lt;chr&gt;</th><th scope=col>&lt;dbl&gt;</th><th scope=col>&lt;dbl&gt;</th></tr>\n",
       "</thead>\n",
       "<tbody>\n",
       "\t<tr><td>Volume</td><td>Metal</td><td> 266980</td><td>100</td></tr>\n",
       "\t<tr><td>Volume</td><td>Metal</td><td> 266987</td><td>100</td></tr>\n",
       "\t<tr><td>Volume</td><td>Metal</td><td> 452289</td><td>100</td></tr>\n",
       "\t<tr><td>Volume</td><td>Metal</td><td> 885041</td><td>100</td></tr>\n",
       "\t<tr><td>Volume</td><td>Metal</td><td> 993956</td><td>100</td></tr>\n",
       "\t<tr><td>Volume</td><td>Metal</td><td>1070627</td><td>100</td></tr>\n",
       "</tbody>\n",
       "</table>\n"
      ],
      "text/latex": [
       "A tibble: 6 × 4\n",
       "\\begin{tabular}{llll}\n",
       " Metric & Chemical\\_Class & HAWC\\_ID & Study\\_Presence\\_Percentage\\\\\n",
       " <chr> & <chr> & <dbl> & <dbl>\\\\\n",
       "\\hline\n",
       "\t Volume & Metal &  266980 & 100\\\\\n",
       "\t Volume & Metal &  266987 & 100\\\\\n",
       "\t Volume & Metal &  452289 & 100\\\\\n",
       "\t Volume & Metal &  885041 & 100\\\\\n",
       "\t Volume & Metal &  993956 & 100\\\\\n",
       "\t Volume & Metal & 1070627 & 100\\\\\n",
       "\\end{tabular}\n"
      ],
      "text/markdown": [
       "\n",
       "A tibble: 6 × 4\n",
       "\n",
       "| Metric &lt;chr&gt; | Chemical_Class &lt;chr&gt; | HAWC_ID &lt;dbl&gt; | Study_Presence_Percentage &lt;dbl&gt; |\n",
       "|---|---|---|---|\n",
       "| Volume | Metal |  266980 | 100 |\n",
       "| Volume | Metal |  266987 | 100 |\n",
       "| Volume | Metal |  452289 | 100 |\n",
       "| Volume | Metal |  885041 | 100 |\n",
       "| Volume | Metal |  993956 | 100 |\n",
       "| Volume | Metal | 1070627 | 100 |\n",
       "\n"
      ],
      "text/plain": [
       "  Metric Chemical_Class HAWC_ID Study_Presence_Percentage\n",
       "1 Volume Metal           266980 100                      \n",
       "2 Volume Metal           266987 100                      \n",
       "3 Volume Metal           452289 100                      \n",
       "4 Volume Metal           885041 100                      \n",
       "5 Volume Metal           993956 100                      \n",
       "6 Volume Metal          1070627 100                      "
      ]
     },
     "metadata": {},
     "output_type": "display_data"
    }
   ],
   "source": [
    "study_type_presence_df = filter1_df %>%\n",
    "    # # basing counts off of the mean values\n",
    "    # mutate(Avg_Value = mean(Value)) %>%\n",
    "    # if an experimental value is there count it as being \"present\"\n",
    "    mutate(count = ifelse(Value %notin% c('NA', 'ND'), 1, 0)) %>%\n",
    "    # determining which have at least 50% experimental values for each chemical/metal\n",
    "    group_by(Metric, Chemical_Class,  HAWC_ID) %>%\n",
    "    # calculating the percentage of experimental data points\n",
    "    reframe(Study_Presence_Percentage = (sum(count)/n()) * 100) %>%\n",
    "    filter(Study_Presence_Percentage >= 50) \n",
    "\n",
    "head(study_type_presence_df)"
   ]
  },
  {
   "cell_type": "code",
   "execution_count": 12,
   "id": "f0593ecb-fe86-49e3-ad96-51ef9d47d27c",
   "metadata": {},
   "outputs": [
    {
     "name": "stderr",
     "output_type": "stream",
     "text": [
      "\u001b[1m\u001b[22mJoining with `by = join_by(Metric, Chemical_Class, HAWC_ID)`\n"
     ]
    },
    {
     "data": {
      "text/html": [
       "<table class=\"dataframe\">\n",
       "<caption>A tibble: 6 × 9</caption>\n",
       "<thead>\n",
       "\t<tr><th scope=col>Metric</th><th scope=col>Chemical_Class</th><th scope=col>HAWC_ID</th><th scope=col>Data</th><th scope=col>Name</th><th scope=col>Study</th><th scope=col>Replicate</th><th scope=col>DTXSID</th><th scope=col>Value</th></tr>\n",
       "\t<tr><th scope=col>&lt;chr&gt;</th><th scope=col>&lt;chr&gt;</th><th scope=col>&lt;dbl&gt;</th><th scope=col>&lt;chr&gt;</th><th scope=col>&lt;chr&gt;</th><th scope=col>&lt;chr&gt;</th><th scope=col>&lt;dbl&gt;</th><th scope=col>&lt;chr&gt;</th><th scope=col>&lt;chr&gt;</th></tr>\n",
       "</thead>\n",
       "<tbody>\n",
       "\t<tr><td>Volume</td><td>Metal</td><td>266980</td><td>WS</td><td>K </td><td>Stockfelt et al. 2012</td><td>1</td><td>K </td><td>9700</td></tr>\n",
       "\t<tr><td>Volume</td><td>Metal</td><td>266980</td><td>WS</td><td>K </td><td>Stockfelt et al. 2012</td><td>2</td><td>K </td><td>8800</td></tr>\n",
       "\t<tr><td>Volume</td><td>Metal</td><td>266980</td><td>WS</td><td>Pb</td><td>Stockfelt et al. 2012</td><td>1</td><td>Pb</td><td>170 </td></tr>\n",
       "\t<tr><td>Volume</td><td>Metal</td><td>266980</td><td>WS</td><td>Pb</td><td>Stockfelt et al. 2012</td><td>2</td><td>Pb</td><td>400 </td></tr>\n",
       "\t<tr><td>Volume</td><td>Metal</td><td>266980</td><td>WS</td><td>Rb</td><td>Stockfelt et al. 2012</td><td>1</td><td>Rb</td><td>73  </td></tr>\n",
       "\t<tr><td>Volume</td><td>Metal</td><td>266980</td><td>WS</td><td>Rb</td><td>Stockfelt et al. 2012</td><td>2</td><td>Rb</td><td>105 </td></tr>\n",
       "</tbody>\n",
       "</table>\n"
      ],
      "text/latex": [
       "A tibble: 6 × 9\n",
       "\\begin{tabular}{lllllllll}\n",
       " Metric & Chemical\\_Class & HAWC\\_ID & Data & Name & Study & Replicate & DTXSID & Value\\\\\n",
       " <chr> & <chr> & <dbl> & <chr> & <chr> & <chr> & <dbl> & <chr> & <chr>\\\\\n",
       "\\hline\n",
       "\t Volume & Metal & 266980 & WS & K  & Stockfelt et al. 2012 & 1 & K  & 9700\\\\\n",
       "\t Volume & Metal & 266980 & WS & K  & Stockfelt et al. 2012 & 2 & K  & 8800\\\\\n",
       "\t Volume & Metal & 266980 & WS & Pb & Stockfelt et al. 2012 & 1 & Pb & 170 \\\\\n",
       "\t Volume & Metal & 266980 & WS & Pb & Stockfelt et al. 2012 & 2 & Pb & 400 \\\\\n",
       "\t Volume & Metal & 266980 & WS & Rb & Stockfelt et al. 2012 & 1 & Rb & 73  \\\\\n",
       "\t Volume & Metal & 266980 & WS & Rb & Stockfelt et al. 2012 & 2 & Rb & 105 \\\\\n",
       "\\end{tabular}\n"
      ],
      "text/markdown": [
       "\n",
       "A tibble: 6 × 9\n",
       "\n",
       "| Metric &lt;chr&gt; | Chemical_Class &lt;chr&gt; | HAWC_ID &lt;dbl&gt; | Data &lt;chr&gt; | Name &lt;chr&gt; | Study &lt;chr&gt; | Replicate &lt;dbl&gt; | DTXSID &lt;chr&gt; | Value &lt;chr&gt; |\n",
       "|---|---|---|---|---|---|---|---|---|\n",
       "| Volume | Metal | 266980 | WS | K  | Stockfelt et al. 2012 | 1 | K  | 9700 |\n",
       "| Volume | Metal | 266980 | WS | K  | Stockfelt et al. 2012 | 2 | K  | 8800 |\n",
       "| Volume | Metal | 266980 | WS | Pb | Stockfelt et al. 2012 | 1 | Pb | 170  |\n",
       "| Volume | Metal | 266980 | WS | Pb | Stockfelt et al. 2012 | 2 | Pb | 400  |\n",
       "| Volume | Metal | 266980 | WS | Rb | Stockfelt et al. 2012 | 1 | Rb | 73   |\n",
       "| Volume | Metal | 266980 | WS | Rb | Stockfelt et al. 2012 | 2 | Rb | 105  |\n",
       "\n"
      ],
      "text/plain": [
       "  Metric Chemical_Class HAWC_ID Data Name Study                 Replicate\n",
       "1 Volume Metal          266980  WS   K    Stockfelt et al. 2012 1        \n",
       "2 Volume Metal          266980  WS   K    Stockfelt et al. 2012 2        \n",
       "3 Volume Metal          266980  WS   Pb   Stockfelt et al. 2012 1        \n",
       "4 Volume Metal          266980  WS   Pb   Stockfelt et al. 2012 2        \n",
       "5 Volume Metal          266980  WS   Rb   Stockfelt et al. 2012 1        \n",
       "6 Volume Metal          266980  WS   Rb   Stockfelt et al. 2012 2        \n",
       "  DTXSID Value\n",
       "1 K      9700 \n",
       "2 K      8800 \n",
       "3 Pb     170  \n",
       "4 Pb     400  \n",
       "5 Rb     73   \n",
       "6 Rb     105  "
      ]
     },
     "metadata": {},
     "output_type": "display_data"
    }
   ],
   "source": [
    "filter2_df = inner_join(study_type_presence_df[,1:3], filter1_df)\n",
    "\n",
    "head(filter2_df)"
   ]
  },
  {
   "cell_type": "code",
   "execution_count": 13,
   "id": "b5090a5d-09e8-4f61-a732-6d338c340e90",
   "metadata": {},
   "outputs": [
    {
     "data": {
      "text/html": [
       "<style>\n",
       ".list-inline {list-style: none; margin:0; padding: 0}\n",
       ".list-inline>li {display: inline-block}\n",
       ".list-inline>li:not(:last-child)::after {content: \"\\00b7\"; padding: 0 .5ex}\n",
       "</style>\n",
       "<ol class=list-inline><li>4225</li><li>9</li></ol>\n"
      ],
      "text/latex": [
       "\\begin{enumerate*}\n",
       "\\item 4225\n",
       "\\item 9\n",
       "\\end{enumerate*}\n"
      ],
      "text/markdown": [
       "1. 4225\n",
       "2. 9\n",
       "\n",
       "\n"
      ],
      "text/plain": [
       "[1] 4225    9"
      ]
     },
     "metadata": {},
     "output_type": "display_data"
    },
    {
     "data": {
      "text/html": [
       "<style>\n",
       ".list-inline {list-style: none; margin:0; padding: 0}\n",
       ".list-inline>li {display: inline-block}\n",
       ".list-inline>li:not(:last-child)::after {content: \"\\00b7\"; padding: 0 .5ex}\n",
       "</style>\n",
       "<ol class=list-inline><li>4145</li><li>9</li></ol>\n"
      ],
      "text/latex": [
       "\\begin{enumerate*}\n",
       "\\item 4145\n",
       "\\item 9\n",
       "\\end{enumerate*}\n"
      ],
      "text/markdown": [
       "1. 4145\n",
       "2. 9\n",
       "\n",
       "\n"
      ],
      "text/plain": [
       "[1] 4145    9"
      ]
     },
     "metadata": {},
     "output_type": "display_data"
    }
   ],
   "source": [
    "dim(filter1_df)\n",
    "dim(filter2_df)"
   ]
  },
  {
   "cell_type": "markdown",
   "id": "f1a9197d-f07d-4082-97d0-4c15b3649530",
   "metadata": {},
   "source": [
    "MORE WORDS!!\n",
    "\n",
    "# Filter #3: Retaining Metals/or Chemicals that are Present in Both WS/WF Samples\n",
    "\n",
    "In the intial filter, WS and WF samples were combined. However, this time variables (ie. metal or chemical) will be split based on their `Metric` (ie. volume or weight) and then retained if that variable is found in both woodsmoke and wildfire samples within volume or weight samples."
   ]
  },
  {
   "cell_type": "code",
   "execution_count": 14,
   "id": "00ed4b32-8851-48f9-a680-c4277545ea8d",
   "metadata": {},
   "outputs": [],
   "source": [
    "split_filtered_df = filter2_df %>%\n",
    "    group_by(Data, Metric) %>%\n",
    "    group_split\n",
    "\n",
    "split_ws_vol_df = split_filtered_df[[3]]\n",
    "split_ws_weight_df = split_filtered_df[[4]]\n",
    "split_wf_vol_df = split_filtered_df[[1]]\n",
    "split_wf_weight_df = split_filtered_df[[2]]"
   ]
  },
  {
   "cell_type": "code",
   "execution_count": 15,
   "id": "c52b40df-d2c5-4604-8fa8-a5f31ad46df7",
   "metadata": {},
   "outputs": [
    {
     "data": {
      "text/html": [
       "95"
      ],
      "text/latex": [
       "95"
      ],
      "text/markdown": [
       "95"
      ],
      "text/plain": [
       "[1] 95"
      ]
     },
     "metadata": {},
     "output_type": "display_data"
    },
    {
     "data": {
      "text/html": [
       "68"
      ],
      "text/latex": [
       "68"
      ],
      "text/markdown": [
       "68"
      ],
      "text/plain": [
       "[1] 68"
      ]
     },
     "metadata": {},
     "output_type": "display_data"
    },
    {
     "data": {
      "text/html": [
       "66"
      ],
      "text/latex": [
       "66"
      ],
      "text/markdown": [
       "66"
      ],
      "text/plain": [
       "[1] 66"
      ]
     },
     "metadata": {},
     "output_type": "display_data"
    },
    {
     "data": {
      "text/html": [
       "70"
      ],
      "text/latex": [
       "70"
      ],
      "text/markdown": [
       "70"
      ],
      "text/plain": [
       "[1] 70"
      ]
     },
     "metadata": {},
     "output_type": "display_data"
    }
   ],
   "source": [
    "# seeing how many unique variables are in each df and if they're consistent in each file\n",
    "length(unique(split_ws_vol_df$Name))\n",
    "length(unique(split_wf_vol_df$Name))\n",
    "length(unique(split_ws_weight_df$Name))\n",
    "length(unique(split_wf_weight_df$Name))"
   ]
  },
  {
   "cell_type": "code",
   "execution_count": 16,
   "id": "97f266f6-d8ee-44ce-a9ab-cc96acfcbf2f",
   "metadata": {},
   "outputs": [
    {
     "data": {
      "text/html": [
       "32"
      ],
      "text/latex": [
       "32"
      ],
      "text/markdown": [
       "32"
      ],
      "text/plain": [
       "[1] 32"
      ]
     },
     "metadata": {},
     "output_type": "display_data"
    },
    {
     "data": {
      "text/html": [
       "32"
      ],
      "text/latex": [
       "32"
      ],
      "text/markdown": [
       "32"
      ],
      "text/plain": [
       "[1] 32"
      ]
     },
     "metadata": {},
     "output_type": "display_data"
    },
    {
     "data": {
      "text/html": [
       "23"
      ],
      "text/latex": [
       "23"
      ],
      "text/markdown": [
       "23"
      ],
      "text/plain": [
       "[1] 23"
      ]
     },
     "metadata": {},
     "output_type": "display_data"
    },
    {
     "data": {
      "text/html": [
       "23"
      ],
      "text/latex": [
       "23"
      ],
      "text/markdown": [
       "23"
      ],
      "text/plain": [
       "[1] 23"
      ]
     },
     "metadata": {},
     "output_type": "display_data"
    }
   ],
   "source": [
    "# they're not so first getting variables that are in weight or volume samples\n",
    "consistent_wf_vol_df = split_wf_vol_df %>%\n",
    "    filter(Value != 'NA', Name %in% unique(split_ws_vol_df$Name))\n",
    "consistent_ws_vol_df = split_ws_vol_df %>%\n",
    "    filter(Value != 'NA', Name %in% consistent_wf_vol_df$Name)\n",
    "consistent_wf_weight_df = split_wf_weight_df %>%\n",
    "    filter(Value != 'NA', Name %in% unique(split_ws_weight_df$Name))\n",
    "consistent_ws_weight_df = split_ws_weight_df %>%\n",
    "    filter(Value != 'NA', Name %in% consistent_wf_weight_df$Name)\n",
    "\n",
    "length(unique(consistent_wf_vol_df$Name))\n",
    "length(unique(consistent_ws_vol_df$Name))\n",
    "length(unique(consistent_wf_weight_df$Name))\n",
    "length(unique(consistent_ws_weight_df$Name))"
   ]
  },
  {
   "cell_type": "markdown",
   "id": "4b604def-71e1-482c-ab06-ed64e9e7d830",
   "metadata": {},
   "source": [
    "There were 98, 68, 94 and 70 woodsmoke weight, woodsmoke volume, wildfire weight, and wildfire volume samples, respectively. 33 variables were common between volume samples and 34 were common between weight records and will be retained."
   ]
  },
  {
   "cell_type": "code",
   "execution_count": 17,
   "id": "0d22def2-eb27-4093-8bbe-8a7c8082b9ce",
   "metadata": {},
   "outputs": [
    {
     "data": {
      "text/html": [
       "<table class=\"dataframe\">\n",
       "<caption>A tibble: 6 × 9</caption>\n",
       "<thead>\n",
       "\t<tr><th scope=col>Metric</th><th scope=col>Chemical_Class</th><th scope=col>HAWC_ID</th><th scope=col>Data</th><th scope=col>Name</th><th scope=col>Study</th><th scope=col>Replicate</th><th scope=col>DTXSID</th><th scope=col>Value</th></tr>\n",
       "\t<tr><th scope=col>&lt;chr&gt;</th><th scope=col>&lt;chr&gt;</th><th scope=col>&lt;dbl&gt;</th><th scope=col>&lt;chr&gt;</th><th scope=col>&lt;chr&gt;</th><th scope=col>&lt;chr&gt;</th><th scope=col>&lt;dbl&gt;</th><th scope=col>&lt;chr&gt;</th><th scope=col>&lt;chr&gt;</th></tr>\n",
       "</thead>\n",
       "<tbody>\n",
       "\t<tr><td>Volume</td><td>Metal</td><td>266980</td><td>WS</td><td>K </td><td>Stockfelt et al. 2012</td><td>1</td><td>K </td><td>9700 </td></tr>\n",
       "\t<tr><td>Volume</td><td>Metal</td><td>266980</td><td>WS</td><td>K </td><td>Stockfelt et al. 2012</td><td>2</td><td>K </td><td>8800 </td></tr>\n",
       "\t<tr><td>Volume</td><td>Metal</td><td>266980</td><td>WS</td><td>Rb</td><td>Stockfelt et al. 2012</td><td>1</td><td>Rb</td><td>73   </td></tr>\n",
       "\t<tr><td>Volume</td><td>Metal</td><td>266980</td><td>WS</td><td>Rb</td><td>Stockfelt et al. 2012</td><td>2</td><td>Rb</td><td>105  </td></tr>\n",
       "\t<tr><td>Volume</td><td>Metal</td><td>266987</td><td>WS</td><td>Ca</td><td>Seagrave 2005        </td><td>1</td><td>Ca</td><td>49200</td></tr>\n",
       "\t<tr><td>Volume</td><td>Metal</td><td>266987</td><td>WS</td><td>Cd</td><td>Seagrave 2005        </td><td>1</td><td>Cd</td><td>3500 </td></tr>\n",
       "</tbody>\n",
       "</table>\n"
      ],
      "text/latex": [
       "A tibble: 6 × 9\n",
       "\\begin{tabular}{lllllllll}\n",
       " Metric & Chemical\\_Class & HAWC\\_ID & Data & Name & Study & Replicate & DTXSID & Value\\\\\n",
       " <chr> & <chr> & <dbl> & <chr> & <chr> & <chr> & <dbl> & <chr> & <chr>\\\\\n",
       "\\hline\n",
       "\t Volume & Metal & 266980 & WS & K  & Stockfelt et al. 2012 & 1 & K  & 9700 \\\\\n",
       "\t Volume & Metal & 266980 & WS & K  & Stockfelt et al. 2012 & 2 & K  & 8800 \\\\\n",
       "\t Volume & Metal & 266980 & WS & Rb & Stockfelt et al. 2012 & 1 & Rb & 73   \\\\\n",
       "\t Volume & Metal & 266980 & WS & Rb & Stockfelt et al. 2012 & 2 & Rb & 105  \\\\\n",
       "\t Volume & Metal & 266987 & WS & Ca & Seagrave 2005         & 1 & Ca & 49200\\\\\n",
       "\t Volume & Metal & 266987 & WS & Cd & Seagrave 2005         & 1 & Cd & 3500 \\\\\n",
       "\\end{tabular}\n"
      ],
      "text/markdown": [
       "\n",
       "A tibble: 6 × 9\n",
       "\n",
       "| Metric &lt;chr&gt; | Chemical_Class &lt;chr&gt; | HAWC_ID &lt;dbl&gt; | Data &lt;chr&gt; | Name &lt;chr&gt; | Study &lt;chr&gt; | Replicate &lt;dbl&gt; | DTXSID &lt;chr&gt; | Value &lt;chr&gt; |\n",
       "|---|---|---|---|---|---|---|---|---|\n",
       "| Volume | Metal | 266980 | WS | K  | Stockfelt et al. 2012 | 1 | K  | 9700  |\n",
       "| Volume | Metal | 266980 | WS | K  | Stockfelt et al. 2012 | 2 | K  | 8800  |\n",
       "| Volume | Metal | 266980 | WS | Rb | Stockfelt et al. 2012 | 1 | Rb | 73    |\n",
       "| Volume | Metal | 266980 | WS | Rb | Stockfelt et al. 2012 | 2 | Rb | 105   |\n",
       "| Volume | Metal | 266987 | WS | Ca | Seagrave 2005         | 1 | Ca | 49200 |\n",
       "| Volume | Metal | 266987 | WS | Cd | Seagrave 2005         | 1 | Cd | 3500  |\n",
       "\n"
      ],
      "text/plain": [
       "  Metric Chemical_Class HAWC_ID Data Name Study                 Replicate\n",
       "1 Volume Metal          266980  WS   K    Stockfelt et al. 2012 1        \n",
       "2 Volume Metal          266980  WS   K    Stockfelt et al. 2012 2        \n",
       "3 Volume Metal          266980  WS   Rb   Stockfelt et al. 2012 1        \n",
       "4 Volume Metal          266980  WS   Rb   Stockfelt et al. 2012 2        \n",
       "5 Volume Metal          266987  WS   Ca   Seagrave 2005         1        \n",
       "6 Volume Metal          266987  WS   Cd   Seagrave 2005         1        \n",
       "  DTXSID Value\n",
       "1 K      9700 \n",
       "2 K      8800 \n",
       "3 Rb     73   \n",
       "4 Rb     105  \n",
       "5 Ca     49200\n",
       "6 Cd     3500 "
      ]
     },
     "metadata": {},
     "output_type": "display_data"
    }
   ],
   "source": [
    "# recombining data\n",
    "vol_df = rbind(consistent_ws_vol_df, consistent_wf_vol_df)\n",
    "weight_df = rbind(consistent_ws_weight_df, consistent_wf_weight_df)\n",
    "\n",
    "head(vol_df)"
   ]
  },
  {
   "cell_type": "markdown",
   "id": "12249f65-761e-4dbc-8231-8c455e6d3120",
   "metadata": {},
   "source": [
    "# QRILC Imputation"
   ]
  },
  {
   "cell_type": "code",
   "execution_count": 18,
   "id": "c4f84ca8-8863-4741-9959-12962607f18f",
   "metadata": {
    "scrolled": true
   },
   "outputs": [
    {
     "data": {
      "text/html": [
       "<table class=\"dataframe\">\n",
       "<caption>A tibble: 0 × 2</caption>\n",
       "<thead>\n",
       "\t<tr><th scope=col>Value</th><th scope=col>n()</th></tr>\n",
       "\t<tr><th scope=col>&lt;chr&gt;</th><th scope=col>&lt;int&gt;</th></tr>\n",
       "</thead>\n",
       "<tbody>\n",
       "</tbody>\n",
       "</table>\n"
      ],
      "text/latex": [
       "A tibble: 0 × 2\n",
       "\\begin{tabular}{ll}\n",
       " Value & n()\\\\\n",
       " <chr> & <int>\\\\\n",
       "\\hline\n",
       "\\end{tabular}\n"
      ],
      "text/markdown": [
       "\n",
       "A tibble: 0 × 2\n",
       "\n",
       "| Value &lt;chr&gt; | n() &lt;int&gt; |\n",
       "|---|---|\n",
       "\n"
      ],
      "text/plain": [
       "     Value n()"
      ]
     },
     "metadata": {},
     "output_type": "display_data"
    },
    {
     "data": {
      "text/html": [
       "<table class=\"dataframe\">\n",
       "<caption>A tibble: 1 × 2</caption>\n",
       "<thead>\n",
       "\t<tr><th scope=col>Value</th><th scope=col>n()</th></tr>\n",
       "\t<tr><th scope=col>&lt;chr&gt;</th><th scope=col>&lt;int&gt;</th></tr>\n",
       "</thead>\n",
       "<tbody>\n",
       "\t<tr><td>ND</td><td>18</td></tr>\n",
       "</tbody>\n",
       "</table>\n"
      ],
      "text/latex": [
       "A tibble: 1 × 2\n",
       "\\begin{tabular}{ll}\n",
       " Value & n()\\\\\n",
       " <chr> & <int>\\\\\n",
       "\\hline\n",
       "\t ND & 18\\\\\n",
       "\\end{tabular}\n"
      ],
      "text/markdown": [
       "\n",
       "A tibble: 1 × 2\n",
       "\n",
       "| Value &lt;chr&gt; | n() &lt;int&gt; |\n",
       "|---|---|\n",
       "| ND | 18 |\n",
       "\n"
      ],
      "text/plain": [
       "  Value n()\n",
       "1 ND    18 "
      ]
     },
     "metadata": {},
     "output_type": "display_data"
    }
   ],
   "source": [
    "# first determining number of ND and NA values in each df\n",
    "vol_df %>%\n",
    "    filter(Value %in% c('NA', 'ND')) %>%\n",
    "    group_by(Value) %>%\n",
    "    summarize(n())\n",
    "\n",
    "weight_df %>%\n",
    "    filter(Value %in% c('NA', 'ND')) %>%\n",
    "    group_by(Value) %>%\n",
    "    summarize(n())"
   ]
  },
  {
   "cell_type": "code",
   "execution_count": 19,
   "id": "25feeaaa-7ace-4a97-8dc5-4d3b6f23af2c",
   "metadata": {},
   "outputs": [
    {
     "data": {
      "text/html": [
       "<style>\n",
       ".list-inline {list-style: none; margin:0; padding: 0}\n",
       ".list-inline>li {display: inline-block}\n",
       ".list-inline>li:not(:last-child)::after {content: \"\\00b7\"; padding: 0 .5ex}\n",
       "</style>\n",
       "<ol class=list-inline><li>741</li><li>9</li></ol>\n"
      ],
      "text/latex": [
       "\\begin{enumerate*}\n",
       "\\item 741\n",
       "\\item 9\n",
       "\\end{enumerate*}\n"
      ],
      "text/markdown": [
       "1. 741\n",
       "2. 9\n",
       "\n",
       "\n"
      ],
      "text/plain": [
       "[1] 741   9"
      ]
     },
     "metadata": {},
     "output_type": "display_data"
    },
    {
     "data": {
      "text/html": [
       "<style>\n",
       ".list-inline {list-style: none; margin:0; padding: 0}\n",
       ".list-inline>li {display: inline-block}\n",
       ".list-inline>li:not(:last-child)::after {content: \"\\00b7\"; padding: 0 .5ex}\n",
       "</style>\n",
       "<ol class=list-inline><li>1053</li><li>9</li></ol>\n"
      ],
      "text/latex": [
       "\\begin{enumerate*}\n",
       "\\item 1053\n",
       "\\item 9\n",
       "\\end{enumerate*}\n"
      ],
      "text/markdown": [
       "1. 1053\n",
       "2. 9\n",
       "\n",
       "\n"
      ],
      "text/plain": [
       "[1] 1053    9"
      ]
     },
     "metadata": {},
     "output_type": "display_data"
    }
   ],
   "source": [
    "dim(vol_df)\n",
    "dim(weight_df)"
   ]
  },
  {
   "cell_type": "markdown",
   "id": "172b8ad6-4504-434a-85f2-c1b460503fc6",
   "metadata": {},
   "source": [
    "Only the weight dataframe had non-detect values representing MNAR data. The remaining MAR data from the weight df will be imputed using random forest (RF)."
   ]
  },
  {
   "cell_type": "code",
   "execution_count": 20,
   "id": "21e2dbe6-cac4-49c8-bd4f-d33282fad336",
   "metadata": {},
   "outputs": [
    {
     "name": "stderr",
     "output_type": "stream",
     "text": [
      "\u001b[1m\u001b[22mJoining with `by = join_by(Metric, Chemical_Class, HAWC_ID, Data, Name, Study,\n",
      "Replicate, DTXSID, Value)`\n",
      "Warning message:\n",
      "“NAs introduced by coercion”\n"
     ]
    },
    {
     "data": {
      "text/html": [
       "<table class=\"dataframe\">\n",
       "<caption>A tibble: 6 × 9</caption>\n",
       "<thead>\n",
       "\t<tr><th scope=col>HAWC_ID</th><th scope=col>Metric</th><th scope=col>Data</th><th scope=col>Study</th><th scope=col>Replicate</th><th scope=col>Chemical_Class</th><th scope=col>DTXSID</th><th scope=col>Name</th><th scope=col>Value</th></tr>\n",
       "\t<tr><th scope=col>&lt;dbl&gt;</th><th scope=col>&lt;chr&gt;</th><th scope=col>&lt;chr&gt;</th><th scope=col>&lt;chr&gt;</th><th scope=col>&lt;dbl&gt;</th><th scope=col>&lt;chr&gt;</th><th scope=col>&lt;chr&gt;</th><th scope=col>&lt;chr&gt;</th><th scope=col>&lt;dbl&gt;</th></tr>\n",
       "</thead>\n",
       "<tbody>\n",
       "\t<tr><td>267105</td><td>Weight</td><td>WS</td><td>Danielsen et al. 2011</td><td>1</td><td>Metal</td><td>Cr</td><td>Cr</td><td>  21.4</td></tr>\n",
       "\t<tr><td>267105</td><td>Weight</td><td>WS</td><td>Danielsen et al. 2011</td><td>2</td><td>Metal</td><td>Cr</td><td>Cr</td><td>  21.3</td></tr>\n",
       "\t<tr><td>267105</td><td>Weight</td><td>WS</td><td>Danielsen et al. 2011</td><td>1</td><td>Metal</td><td>Cu</td><td>Cu</td><td>  65.6</td></tr>\n",
       "\t<tr><td>267105</td><td>Weight</td><td>WS</td><td>Danielsen et al. 2011</td><td>2</td><td>Metal</td><td>Cu</td><td>Cu</td><td>  34.4</td></tr>\n",
       "\t<tr><td>267105</td><td>Weight</td><td>WS</td><td>Danielsen et al. 2011</td><td>1</td><td>Metal</td><td>Fe</td><td>Fe</td><td>1323.0</td></tr>\n",
       "\t<tr><td>267105</td><td>Weight</td><td>WS</td><td>Danielsen et al. 2011</td><td>2</td><td>Metal</td><td>Fe</td><td>Fe</td><td>1773.0</td></tr>\n",
       "</tbody>\n",
       "</table>\n"
      ],
      "text/latex": [
       "A tibble: 6 × 9\n",
       "\\begin{tabular}{lllllllll}\n",
       " HAWC\\_ID & Metric & Data & Study & Replicate & Chemical\\_Class & DTXSID & Name & Value\\\\\n",
       " <dbl> & <chr> & <chr> & <chr> & <dbl> & <chr> & <chr> & <chr> & <dbl>\\\\\n",
       "\\hline\n",
       "\t 267105 & Weight & WS & Danielsen et al. 2011 & 1 & Metal & Cr & Cr &   21.4\\\\\n",
       "\t 267105 & Weight & WS & Danielsen et al. 2011 & 2 & Metal & Cr & Cr &   21.3\\\\\n",
       "\t 267105 & Weight & WS & Danielsen et al. 2011 & 1 & Metal & Cu & Cu &   65.6\\\\\n",
       "\t 267105 & Weight & WS & Danielsen et al. 2011 & 2 & Metal & Cu & Cu &   34.4\\\\\n",
       "\t 267105 & Weight & WS & Danielsen et al. 2011 & 1 & Metal & Fe & Fe & 1323.0\\\\\n",
       "\t 267105 & Weight & WS & Danielsen et al. 2011 & 2 & Metal & Fe & Fe & 1773.0\\\\\n",
       "\\end{tabular}\n"
      ],
      "text/markdown": [
       "\n",
       "A tibble: 6 × 9\n",
       "\n",
       "| HAWC_ID &lt;dbl&gt; | Metric &lt;chr&gt; | Data &lt;chr&gt; | Study &lt;chr&gt; | Replicate &lt;dbl&gt; | Chemical_Class &lt;chr&gt; | DTXSID &lt;chr&gt; | Name &lt;chr&gt; | Value &lt;dbl&gt; |\n",
       "|---|---|---|---|---|---|---|---|---|\n",
       "| 267105 | Weight | WS | Danielsen et al. 2011 | 1 | Metal | Cr | Cr |   21.4 |\n",
       "| 267105 | Weight | WS | Danielsen et al. 2011 | 2 | Metal | Cr | Cr |   21.3 |\n",
       "| 267105 | Weight | WS | Danielsen et al. 2011 | 1 | Metal | Cu | Cu |   65.6 |\n",
       "| 267105 | Weight | WS | Danielsen et al. 2011 | 2 | Metal | Cu | Cu |   34.4 |\n",
       "| 267105 | Weight | WS | Danielsen et al. 2011 | 1 | Metal | Fe | Fe | 1323.0 |\n",
       "| 267105 | Weight | WS | Danielsen et al. 2011 | 2 | Metal | Fe | Fe | 1773.0 |\n",
       "\n"
      ],
      "text/plain": [
       "  HAWC_ID Metric Data Study                 Replicate Chemical_Class DTXSID\n",
       "1 267105  Weight WS   Danielsen et al. 2011 1         Metal          Cr    \n",
       "2 267105  Weight WS   Danielsen et al. 2011 2         Metal          Cr    \n",
       "3 267105  Weight WS   Danielsen et al. 2011 1         Metal          Cu    \n",
       "4 267105  Weight WS   Danielsen et al. 2011 2         Metal          Cu    \n",
       "5 267105  Weight WS   Danielsen et al. 2011 1         Metal          Fe    \n",
       "6 267105  Weight WS   Danielsen et al. 2011 2         Metal          Fe    \n",
       "  Name Value \n",
       "1 Cr     21.4\n",
       "2 Cr     21.3\n",
       "3 Cu     65.6\n",
       "4 Cu     34.4\n",
       "5 Fe   1323.0\n",
       "6 Fe   1773.0"
      ]
     },
     "metadata": {},
     "output_type": "display_data"
    }
   ],
   "source": [
    "mar_weight_df = weight_df %>%\n",
    "    filter(Value == 'NA')\n",
    "\n",
    "preimputed_df = anti_join(weight_df, mar_weight_df) \n",
    "preimputed_df$Value = as.numeric(preimputed_df$Value)\n",
    "mar_weight_df$Value = as.numeric(mar_weight_df$Value)\n",
    "\n",
    "# reordering cols\n",
    "preimputed_df = preimputed_df[,c(3,1,4,6,7,2,8,5,9)]\n",
    "\n",
    "head(preimputed_df)"
   ]
  },
  {
   "cell_type": "markdown",
   "id": "f5028e06-a501-4014-ba39-9de90161bfdb",
   "metadata": {},
   "source": [
    "Gave up on QRILC imputation for all MNAR data, since I didn't have enough instances to impute within each study. I also couldn't impute across the entire dataset given that the number of data instances for each study wasn't the same. Therefore, sample groups were assigned a value of 0 if they had two or fewer experimental instances."
   ]
  },
  {
   "cell_type": "code",
   "execution_count": 21,
   "id": "d661b972-2072-4dea-a918-94209634c3be",
   "metadata": {},
   "outputs": [
    {
     "data": {
      "text/html": [
       "<table class=\"dataframe\">\n",
       "<caption>A tibble: 6 × 9</caption>\n",
       "<thead>\n",
       "\t<tr><th scope=col>HAWC_ID</th><th scope=col>Metric</th><th scope=col>Data</th><th scope=col>Study</th><th scope=col>Replicate</th><th scope=col>Chemical_Class</th><th scope=col>DTXSID</th><th scope=col>Name</th><th scope=col>Value</th></tr>\n",
       "\t<tr><th scope=col>&lt;dbl&gt;</th><th scope=col>&lt;chr&gt;</th><th scope=col>&lt;chr&gt;</th><th scope=col>&lt;chr&gt;</th><th scope=col>&lt;dbl&gt;</th><th scope=col>&lt;chr&gt;</th><th scope=col>&lt;chr&gt;</th><th scope=col>&lt;chr&gt;</th><th scope=col>&lt;dbl&gt;</th></tr>\n",
       "</thead>\n",
       "<tbody>\n",
       "\t<tr><td> 267105</td><td>Weight</td><td>WS</td><td>Danielsen et al. 2011</td><td>1</td><td>Metal</td><td>Mn</td><td>Mn</td><td>0</td></tr>\n",
       "\t<tr><td> 267105</td><td>Weight</td><td>WS</td><td>Danielsen et al. 2011</td><td>2</td><td>Metal</td><td>Mn</td><td>Mn</td><td>0</td></tr>\n",
       "\t<tr><td>1040882</td><td>Weight</td><td>WS</td><td>Nordin et al. 2015   </td><td>2</td><td>Metal</td><td>Ca</td><td>Ca</td><td>0</td></tr>\n",
       "\t<tr><td>1040882</td><td>Weight</td><td>WS</td><td>Nordin et al. 2015   </td><td>2</td><td>Metal</td><td>Fe</td><td>Fe</td><td>0</td></tr>\n",
       "\t<tr><td>1040882</td><td>Weight</td><td>WS</td><td>Nordin et al. 2015   </td><td>1</td><td>Metal</td><td>Mn</td><td>Mn</td><td>0</td></tr>\n",
       "\t<tr><td>1040882</td><td>Weight</td><td>WS</td><td>Nordin et al. 2015   </td><td>2</td><td>Metal</td><td>Mn</td><td>Mn</td><td>0</td></tr>\n",
       "</tbody>\n",
       "</table>\n"
      ],
      "text/latex": [
       "A tibble: 6 × 9\n",
       "\\begin{tabular}{lllllllll}\n",
       " HAWC\\_ID & Metric & Data & Study & Replicate & Chemical\\_Class & DTXSID & Name & Value\\\\\n",
       " <dbl> & <chr> & <chr> & <chr> & <dbl> & <chr> & <chr> & <chr> & <dbl>\\\\\n",
       "\\hline\n",
       "\t  267105 & Weight & WS & Danielsen et al. 2011 & 1 & Metal & Mn & Mn & 0\\\\\n",
       "\t  267105 & Weight & WS & Danielsen et al. 2011 & 2 & Metal & Mn & Mn & 0\\\\\n",
       "\t 1040882 & Weight & WS & Nordin et al. 2015    & 2 & Metal & Ca & Ca & 0\\\\\n",
       "\t 1040882 & Weight & WS & Nordin et al. 2015    & 2 & Metal & Fe & Fe & 0\\\\\n",
       "\t 1040882 & Weight & WS & Nordin et al. 2015    & 1 & Metal & Mn & Mn & 0\\\\\n",
       "\t 1040882 & Weight & WS & Nordin et al. 2015    & 2 & Metal & Mn & Mn & 0\\\\\n",
       "\\end{tabular}\n"
      ],
      "text/markdown": [
       "\n",
       "A tibble: 6 × 9\n",
       "\n",
       "| HAWC_ID &lt;dbl&gt; | Metric &lt;chr&gt; | Data &lt;chr&gt; | Study &lt;chr&gt; | Replicate &lt;dbl&gt; | Chemical_Class &lt;chr&gt; | DTXSID &lt;chr&gt; | Name &lt;chr&gt; | Value &lt;dbl&gt; |\n",
       "|---|---|---|---|---|---|---|---|---|\n",
       "|  267105 | Weight | WS | Danielsen et al. 2011 | 1 | Metal | Mn | Mn | 0 |\n",
       "|  267105 | Weight | WS | Danielsen et al. 2011 | 2 | Metal | Mn | Mn | 0 |\n",
       "| 1040882 | Weight | WS | Nordin et al. 2015    | 2 | Metal | Ca | Ca | 0 |\n",
       "| 1040882 | Weight | WS | Nordin et al. 2015    | 2 | Metal | Fe | Fe | 0 |\n",
       "| 1040882 | Weight | WS | Nordin et al. 2015    | 1 | Metal | Mn | Mn | 0 |\n",
       "| 1040882 | Weight | WS | Nordin et al. 2015    | 2 | Metal | Mn | Mn | 0 |\n",
       "\n"
      ],
      "text/plain": [
       "  HAWC_ID Metric Data Study                 Replicate Chemical_Class DTXSID\n",
       "1  267105 Weight WS   Danielsen et al. 2011 1         Metal          Mn    \n",
       "2  267105 Weight WS   Danielsen et al. 2011 2         Metal          Mn    \n",
       "3 1040882 Weight WS   Nordin et al. 2015    2         Metal          Ca    \n",
       "4 1040882 Weight WS   Nordin et al. 2015    2         Metal          Fe    \n",
       "5 1040882 Weight WS   Nordin et al. 2015    1         Metal          Mn    \n",
       "6 1040882 Weight WS   Nordin et al. 2015    2         Metal          Mn    \n",
       "  Name Value\n",
       "1 Mn   0    \n",
       "2 Mn   0    \n",
       "3 Ca   0    \n",
       "4 Fe   0    \n",
       "5 Mn   0    \n",
       "6 Mn   0    "
      ]
     },
     "metadata": {},
     "output_type": "display_data"
    },
    {
     "name": "stderr",
     "output_type": "stream",
     "text": [
      "\u001b[1m\u001b[22mJoining with `by = join_by(HAWC_ID, Metric, Data, Study, Replicate,\n",
      "Chemical_Class, DTXSID, Name)`\n"
     ]
    }
   ],
   "source": [
    "# creating a df for mnar data\n",
    "mnar_df = preimputed_df %>%\n",
    "    filter(is.na(Value)) \n",
    "\n",
    "mnar_df[c(1:13,18),9] = 0\n",
    "head(mnar_df)\n",
    "\n",
    "# adding these changed values into the preimputed df\n",
    "preimputed_df = rbind(anti_join(preimputed_df, mnar_df[,1:8]),\n",
    "      mnar_df)"
   ]
  },
  {
   "cell_type": "code",
   "execution_count": 22,
   "id": "21633c0a-a9ed-4067-99f6-75312cc877f1",
   "metadata": {},
   "outputs": [],
   "source": [
    "QRILC_imputation = function(dataset){\n",
    "    # \"\"\"\n",
    "    # Creating a quantile normalization function to normalize each sample.\n",
    "    # :param (input): exposed and unexposed (vehicle) dfs\n",
    "    # :output: 1 quantile normalized df\n",
    "    # \"\"\"\n",
    "    #ADD WORDS\n",
    "    set.seed(12)\n",
    "    \n",
    "    wider_dataset = dataset %>% \n",
    "        # removing these cols temporarily \n",
    "        select(-c(\"Chemical_Class\", \"Name\")) %>%\n",
    "        pivot_wider(names_from = DTXSID, values_from = Value)\n",
    "   \n",
    "    # normalizing data since that what the QRILC function wants\n",
    "    # had to pseudo log transform to prevent Inf values\n",
    "    QRILC_prep = wider_dataset[,6:ncol(wider_dataset)] %>%\n",
    "         mutate_all(., function(x) log10(x + 1)) %>%\n",
    "         as.matrix()\n",
    "                        \n",
    "    imputed_QRILC_object = impute.QRILC(QRILC_prep, tune.sigma = 0.1)\n",
    "    QRILC_log10_df = data.frame(imputed_QRILC_object[1]) \n",
    "    \n",
    "    # converting back the original scale\n",
    "    QRILC_df = QRILC_log10_df %>%\n",
    "        mutate_all(., function(x) 10^x - 1)\n",
    "    \n",
    "    imputed_dataset = data.frame(cbind(unique(dataset[,1:5]), QRILC_df)) %>%\n",
    "         pivot_longer(cols = 6:ncol(wider_dataset), names_to = \"DTXSID\", values_to = \"Value\")         \n",
    "\n",
    "    return(imputed_dataset)\n",
    "\n",
    "}"
   ]
  },
  {
   "cell_type": "code",
   "execution_count": 23,
   "id": "067dc934-b139-443d-82f5-5100ec735bc4",
   "metadata": {},
   "outputs": [
    {
     "name": "stderr",
     "output_type": "stream",
     "text": [
      "\u001b[1m\u001b[22mJoining with `by = join_by(HAWC_ID, Metric, Data, Study, Replicate, DTXSID)`\n"
     ]
    },
    {
     "data": {
      "text/html": [
       "<table class=\"dataframe\">\n",
       "<caption>A tibble: 6 × 9</caption>\n",
       "<thead>\n",
       "\t<tr><th scope=col>HAWC_ID</th><th scope=col>Metric</th><th scope=col>Data</th><th scope=col>Study</th><th scope=col>Replicate</th><th scope=col>Chemical_Class</th><th scope=col>DTXSID</th><th scope=col>Name</th><th scope=col>Value</th></tr>\n",
       "\t<tr><th scope=col>&lt;dbl&gt;</th><th scope=col>&lt;chr&gt;</th><th scope=col>&lt;chr&gt;</th><th scope=col>&lt;chr&gt;</th><th scope=col>&lt;dbl&gt;</th><th scope=col>&lt;chr&gt;</th><th scope=col>&lt;chr&gt;</th><th scope=col>&lt;chr&gt;</th><th scope=col>&lt;dbl&gt;</th></tr>\n",
       "</thead>\n",
       "<tbody>\n",
       "\t<tr><td>914540</td><td>Weight</td><td>WS</td><td>Verma et al. 2021</td><td>1</td><td>PAH</td><td>DTXSID3024104</td><td>Fluoranthene</td><td>2.77</td></tr>\n",
       "\t<tr><td>914540</td><td>Weight</td><td>WS</td><td>Verma et al. 2021</td><td>1</td><td>PAH</td><td>DTXSID6024254</td><td>Phenanthrene</td><td>3.72</td></tr>\n",
       "\t<tr><td>914540</td><td>Weight</td><td>WS</td><td>Verma et al. 2021</td><td>2</td><td>PAH</td><td>DTXSID3024104</td><td>Fluoranthene</td><td>3.56</td></tr>\n",
       "\t<tr><td>914540</td><td>Weight</td><td>WS</td><td>Verma et al. 2021</td><td>2</td><td>PAH</td><td>DTXSID6024254</td><td>Phenanthrene</td><td>2.14</td></tr>\n",
       "\t<tr><td>914540</td><td>Weight</td><td>WS</td><td>Verma et al. 2021</td><td>3</td><td>PAH</td><td>DTXSID3024104</td><td>Fluoranthene</td><td>2.00</td></tr>\n",
       "\t<tr><td>914540</td><td>Weight</td><td>WS</td><td>Verma et al. 2021</td><td>3</td><td>PAH</td><td>DTXSID6024254</td><td>Phenanthrene</td><td>0.91</td></tr>\n",
       "</tbody>\n",
       "</table>\n"
      ],
      "text/latex": [
       "A tibble: 6 × 9\n",
       "\\begin{tabular}{lllllllll}\n",
       " HAWC\\_ID & Metric & Data & Study & Replicate & Chemical\\_Class & DTXSID & Name & Value\\\\\n",
       " <dbl> & <chr> & <chr> & <chr> & <dbl> & <chr> & <chr> & <chr> & <dbl>\\\\\n",
       "\\hline\n",
       "\t 914540 & Weight & WS & Verma et al. 2021 & 1 & PAH & DTXSID3024104 & Fluoranthene & 2.77\\\\\n",
       "\t 914540 & Weight & WS & Verma et al. 2021 & 1 & PAH & DTXSID6024254 & Phenanthrene & 3.72\\\\\n",
       "\t 914540 & Weight & WS & Verma et al. 2021 & 2 & PAH & DTXSID3024104 & Fluoranthene & 3.56\\\\\n",
       "\t 914540 & Weight & WS & Verma et al. 2021 & 2 & PAH & DTXSID6024254 & Phenanthrene & 2.14\\\\\n",
       "\t 914540 & Weight & WS & Verma et al. 2021 & 3 & PAH & DTXSID3024104 & Fluoranthene & 2.00\\\\\n",
       "\t 914540 & Weight & WS & Verma et al. 2021 & 3 & PAH & DTXSID6024254 & Phenanthrene & 0.91\\\\\n",
       "\\end{tabular}\n"
      ],
      "text/markdown": [
       "\n",
       "A tibble: 6 × 9\n",
       "\n",
       "| HAWC_ID &lt;dbl&gt; | Metric &lt;chr&gt; | Data &lt;chr&gt; | Study &lt;chr&gt; | Replicate &lt;dbl&gt; | Chemical_Class &lt;chr&gt; | DTXSID &lt;chr&gt; | Name &lt;chr&gt; | Value &lt;dbl&gt; |\n",
       "|---|---|---|---|---|---|---|---|---|\n",
       "| 914540 | Weight | WS | Verma et al. 2021 | 1 | PAH | DTXSID3024104 | Fluoranthene | 2.77 |\n",
       "| 914540 | Weight | WS | Verma et al. 2021 | 1 | PAH | DTXSID6024254 | Phenanthrene | 3.72 |\n",
       "| 914540 | Weight | WS | Verma et al. 2021 | 2 | PAH | DTXSID3024104 | Fluoranthene | 3.56 |\n",
       "| 914540 | Weight | WS | Verma et al. 2021 | 2 | PAH | DTXSID6024254 | Phenanthrene | 2.14 |\n",
       "| 914540 | Weight | WS | Verma et al. 2021 | 3 | PAH | DTXSID3024104 | Fluoranthene | 2.00 |\n",
       "| 914540 | Weight | WS | Verma et al. 2021 | 3 | PAH | DTXSID6024254 | Phenanthrene | 0.91 |\n",
       "\n"
      ],
      "text/plain": [
       "  HAWC_ID Metric Data Study             Replicate Chemical_Class DTXSID       \n",
       "1 914540  Weight WS   Verma et al. 2021 1         PAH            DTXSID3024104\n",
       "2 914540  Weight WS   Verma et al. 2021 1         PAH            DTXSID6024254\n",
       "3 914540  Weight WS   Verma et al. 2021 2         PAH            DTXSID3024104\n",
       "4 914540  Weight WS   Verma et al. 2021 2         PAH            DTXSID6024254\n",
       "5 914540  Weight WS   Verma et al. 2021 3         PAH            DTXSID3024104\n",
       "6 914540  Weight WS   Verma et al. 2021 3         PAH            DTXSID6024254\n",
       "  Name         Value\n",
       "1 Fluoranthene 2.77 \n",
       "2 Phenanthrene 3.72 \n",
       "3 Fluoranthene 3.56 \n",
       "4 Phenanthrene 2.14 \n",
       "5 Fluoranthene 2.00 \n",
       "6 Phenanthrene 0.91 "
      ]
     },
     "metadata": {},
     "output_type": "display_data"
    }
   ],
   "source": [
    "# will impute within each study that contains missing data\n",
    "df_for_ids = mnar_df[is.na(mnar_df$Value),]\n",
    "study_ids = unique(df_for_ids$HAWC_ID)\n",
    "\n",
    "imputed_df = data.frame()\n",
    "for (i in 1:length(study_ids)){\n",
    "\n",
    "    filtered_df = preimputed_df %>%\n",
    "        filter(HAWC_ID == study_ids[i])\n",
    "\n",
    "    # calling fn\n",
    "    imp_df = QRILC_imputation(filtered_df)\n",
    "    imputed_df = rbind(imputed_df, imp_df)\n",
    "    \n",
    "}\n",
    "# adding back in additional cols\n",
    "joined_imputed_df = inner_join(unique(imputed_df), unique(weight_df[,1:8]))\n",
    "joined_imputed_df = joined_imputed_df[,c(1:5,8,6,9,7)]\n",
    "\n",
    "head(joined_imputed_df)"
   ]
  },
  {
   "cell_type": "code",
   "execution_count": 24,
   "id": "1e23e74f-00fc-48d5-a263-3df792097fdd",
   "metadata": {},
   "outputs": [
    {
     "data": {
      "text/html": [
       "<table class=\"dataframe\">\n",
       "<caption>A tibble: 6 × 9</caption>\n",
       "<thead>\n",
       "\t<tr><th scope=col>HAWC_ID</th><th scope=col>Metric</th><th scope=col>Data</th><th scope=col>Study</th><th scope=col>Replicate</th><th scope=col>Chemical_Class</th><th scope=col>DTXSID</th><th scope=col>Name</th><th scope=col>Value</th></tr>\n",
       "\t<tr><th scope=col>&lt;dbl&gt;</th><th scope=col>&lt;chr&gt;</th><th scope=col>&lt;chr&gt;</th><th scope=col>&lt;chr&gt;</th><th scope=col>&lt;dbl&gt;</th><th scope=col>&lt;chr&gt;</th><th scope=col>&lt;chr&gt;</th><th scope=col>&lt;chr&gt;</th><th scope=col>&lt;dbl&gt;</th></tr>\n",
       "</thead>\n",
       "<tbody>\n",
       "\t<tr><td>914540</td><td>Weight</td><td>WS</td><td>Verma et al. 2021</td><td>1</td><td>PAH</td><td>DTXSID3024104</td><td>Fluoranthene</td><td>2.77</td></tr>\n",
       "\t<tr><td>914540</td><td>Weight</td><td>WS</td><td>Verma et al. 2021</td><td>1</td><td>PAH</td><td>DTXSID6024254</td><td>Phenanthrene</td><td>3.72</td></tr>\n",
       "\t<tr><td>914540</td><td>Weight</td><td>WS</td><td>Verma et al. 2021</td><td>2</td><td>PAH</td><td>DTXSID3024104</td><td>Fluoranthene</td><td>3.56</td></tr>\n",
       "\t<tr><td>914540</td><td>Weight</td><td>WS</td><td>Verma et al. 2021</td><td>2</td><td>PAH</td><td>DTXSID6024254</td><td>Phenanthrene</td><td>2.14</td></tr>\n",
       "\t<tr><td>914540</td><td>Weight</td><td>WS</td><td>Verma et al. 2021</td><td>3</td><td>PAH</td><td>DTXSID3024104</td><td>Fluoranthene</td><td>2.00</td></tr>\n",
       "\t<tr><td>914540</td><td>Weight</td><td>WS</td><td>Verma et al. 2021</td><td>3</td><td>PAH</td><td>DTXSID6024254</td><td>Phenanthrene</td><td>0.91</td></tr>\n",
       "</tbody>\n",
       "</table>\n"
      ],
      "text/latex": [
       "A tibble: 6 × 9\n",
       "\\begin{tabular}{lllllllll}\n",
       " HAWC\\_ID & Metric & Data & Study & Replicate & Chemical\\_Class & DTXSID & Name & Value\\\\\n",
       " <dbl> & <chr> & <chr> & <chr> & <dbl> & <chr> & <chr> & <chr> & <dbl>\\\\\n",
       "\\hline\n",
       "\t 914540 & Weight & WS & Verma et al. 2021 & 1 & PAH & DTXSID3024104 & Fluoranthene & 2.77\\\\\n",
       "\t 914540 & Weight & WS & Verma et al. 2021 & 1 & PAH & DTXSID6024254 & Phenanthrene & 3.72\\\\\n",
       "\t 914540 & Weight & WS & Verma et al. 2021 & 2 & PAH & DTXSID3024104 & Fluoranthene & 3.56\\\\\n",
       "\t 914540 & Weight & WS & Verma et al. 2021 & 2 & PAH & DTXSID6024254 & Phenanthrene & 2.14\\\\\n",
       "\t 914540 & Weight & WS & Verma et al. 2021 & 3 & PAH & DTXSID3024104 & Fluoranthene & 2.00\\\\\n",
       "\t 914540 & Weight & WS & Verma et al. 2021 & 3 & PAH & DTXSID6024254 & Phenanthrene & 0.91\\\\\n",
       "\\end{tabular}\n"
      ],
      "text/markdown": [
       "\n",
       "A tibble: 6 × 9\n",
       "\n",
       "| HAWC_ID &lt;dbl&gt; | Metric &lt;chr&gt; | Data &lt;chr&gt; | Study &lt;chr&gt; | Replicate &lt;dbl&gt; | Chemical_Class &lt;chr&gt; | DTXSID &lt;chr&gt; | Name &lt;chr&gt; | Value &lt;dbl&gt; |\n",
       "|---|---|---|---|---|---|---|---|---|\n",
       "| 914540 | Weight | WS | Verma et al. 2021 | 1 | PAH | DTXSID3024104 | Fluoranthene | 2.77 |\n",
       "| 914540 | Weight | WS | Verma et al. 2021 | 1 | PAH | DTXSID6024254 | Phenanthrene | 3.72 |\n",
       "| 914540 | Weight | WS | Verma et al. 2021 | 2 | PAH | DTXSID3024104 | Fluoranthene | 3.56 |\n",
       "| 914540 | Weight | WS | Verma et al. 2021 | 2 | PAH | DTXSID6024254 | Phenanthrene | 2.14 |\n",
       "| 914540 | Weight | WS | Verma et al. 2021 | 3 | PAH | DTXSID3024104 | Fluoranthene | 2.00 |\n",
       "| 914540 | Weight | WS | Verma et al. 2021 | 3 | PAH | DTXSID6024254 | Phenanthrene | 0.91 |\n",
       "\n"
      ],
      "text/plain": [
       "  HAWC_ID Metric Data Study             Replicate Chemical_Class DTXSID       \n",
       "1 914540  Weight WS   Verma et al. 2021 1         PAH            DTXSID3024104\n",
       "2 914540  Weight WS   Verma et al. 2021 1         PAH            DTXSID6024254\n",
       "3 914540  Weight WS   Verma et al. 2021 2         PAH            DTXSID3024104\n",
       "4 914540  Weight WS   Verma et al. 2021 2         PAH            DTXSID6024254\n",
       "5 914540  Weight WS   Verma et al. 2021 3         PAH            DTXSID3024104\n",
       "6 914540  Weight WS   Verma et al. 2021 3         PAH            DTXSID6024254\n",
       "  Name         Value\n",
       "1 Fluoranthene 2.77 \n",
       "2 Phenanthrene 3.72 \n",
       "3 Fluoranthene 3.56 \n",
       "4 Phenanthrene 2.14 \n",
       "5 Fluoranthene 2.00 \n",
       "6 Phenanthrene 0.91 "
      ]
     },
     "metadata": {},
     "output_type": "display_data"
    },
    {
     "data": {
      "text/html": [
       "<style>\n",
       ".list-inline {list-style: none; margin:0; padding: 0}\n",
       ".list-inline>li {display: inline-block}\n",
       ".list-inline>li:not(:last-child)::after {content: \"\\00b7\"; padding: 0 .5ex}\n",
       "</style>\n",
       "<ol class=list-inline><li>1053</li><li>9</li></ol>\n"
      ],
      "text/latex": [
       "\\begin{enumerate*}\n",
       "\\item 1053\n",
       "\\item 9\n",
       "\\end{enumerate*}\n"
      ],
      "text/markdown": [
       "1. 1053\n",
       "2. 9\n",
       "\n",
       "\n"
      ],
      "text/plain": [
       "[1] 1053    9"
      ]
     },
     "metadata": {},
     "output_type": "display_data"
    },
    {
     "data": {
      "text/html": [
       "<style>\n",
       ".list-inline {list-style: none; margin:0; padding: 0}\n",
       ".list-inline>li {display: inline-block}\n",
       ".list-inline>li:not(:last-child)::after {content: \"\\00b7\"; padding: 0 .5ex}\n",
       "</style>\n",
       "<ol class=list-inline><li>1053</li><li>9</li></ol>\n"
      ],
      "text/latex": [
       "\\begin{enumerate*}\n",
       "\\item 1053\n",
       "\\item 9\n",
       "\\end{enumerate*}\n"
      ],
      "text/markdown": [
       "1. 1053\n",
       "2. 9\n",
       "\n",
       "\n"
      ],
      "text/plain": [
       "[1] 1053    9"
      ]
     },
     "metadata": {},
     "output_type": "display_data"
    }
   ],
   "source": [
    "imputed_weight_df = rbind(joined_imputed_df, \n",
    "                          # adding back in non-imputed data\n",
    "                          preimputed_df %>%\n",
    "                              filter(HAWC_ID %notin% study_ids),\n",
    "                          # adding back in mar data\n",
    "                          mar_weight_df)\n",
    "\n",
    "head(imputed_weight_df)\n",
    "dim(weight_df)\n",
    "dim(imputed_weight_df)"
   ]
  },
  {
   "cell_type": "markdown",
   "id": "4a7e96ae-45f5-4800-8ca1-e46bf264ce17",
   "metadata": {},
   "source": [
    "# Filter #4: Double Checking MAR Records\n",
    "\n",
    "Making sure that when the data is split based on `Class` and transformed into a wide format, we have at least 50% of the records with numeric values for each metal or chemical."
   ]
  },
  {
   "cell_type": "code",
   "execution_count": 25,
   "id": "4c1a1bb0-1a58-4d0d-bd7d-31c8a1ba194f",
   "metadata": {},
   "outputs": [
    {
     "data": {
      "text/html": [
       "<table class=\"dataframe\">\n",
       "<caption>A tibble: 6 × 7</caption>\n",
       "<thead>\n",
       "\t<tr><th scope=col>HAWC_ID</th><th scope=col>Metric</th><th scope=col>Data</th><th scope=col>Study</th><th scope=col>Chemical_Class</th><th scope=col>DTXSID</th><th scope=col>Avg_Value</th></tr>\n",
       "\t<tr><th scope=col>&lt;dbl&gt;</th><th scope=col>&lt;chr&gt;</th><th scope=col>&lt;chr&gt;</th><th scope=col>&lt;chr&gt;</th><th scope=col>&lt;chr&gt;</th><th scope=col>&lt;chr&gt;</th><th scope=col>&lt;dbl&gt;</th></tr>\n",
       "</thead>\n",
       "<tbody>\n",
       "\t<tr><td>266980</td><td>Volume</td><td>WS</td><td>Stockfelt et al. 2012</td><td>Metal</td><td>K </td><td>  9250</td></tr>\n",
       "\t<tr><td>266980</td><td>Volume</td><td>WS</td><td>Stockfelt et al. 2012</td><td>Metal</td><td>Rb</td><td>    89</td></tr>\n",
       "\t<tr><td>266987</td><td>Volume</td><td>WS</td><td>Seagrave 2005        </td><td>Metal</td><td>Ca</td><td> 49200</td></tr>\n",
       "\t<tr><td>266987</td><td>Volume</td><td>WS</td><td>Seagrave 2005        </td><td>Metal</td><td>Cd</td><td>  3500</td></tr>\n",
       "\t<tr><td>266987</td><td>Volume</td><td>WS</td><td>Seagrave 2005        </td><td>Metal</td><td>Fe</td><td> 52600</td></tr>\n",
       "\t<tr><td>266987</td><td>Volume</td><td>WS</td><td>Seagrave 2005        </td><td>Metal</td><td>K </td><td>763600</td></tr>\n",
       "</tbody>\n",
       "</table>\n"
      ],
      "text/latex": [
       "A tibble: 6 × 7\n",
       "\\begin{tabular}{lllllll}\n",
       " HAWC\\_ID & Metric & Data & Study & Chemical\\_Class & DTXSID & Avg\\_Value\\\\\n",
       " <dbl> & <chr> & <chr> & <chr> & <chr> & <chr> & <dbl>\\\\\n",
       "\\hline\n",
       "\t 266980 & Volume & WS & Stockfelt et al. 2012 & Metal & K  &   9250\\\\\n",
       "\t 266980 & Volume & WS & Stockfelt et al. 2012 & Metal & Rb &     89\\\\\n",
       "\t 266987 & Volume & WS & Seagrave 2005         & Metal & Ca &  49200\\\\\n",
       "\t 266987 & Volume & WS & Seagrave 2005         & Metal & Cd &   3500\\\\\n",
       "\t 266987 & Volume & WS & Seagrave 2005         & Metal & Fe &  52600\\\\\n",
       "\t 266987 & Volume & WS & Seagrave 2005         & Metal & K  & 763600\\\\\n",
       "\\end{tabular}\n"
      ],
      "text/markdown": [
       "\n",
       "A tibble: 6 × 7\n",
       "\n",
       "| HAWC_ID &lt;dbl&gt; | Metric &lt;chr&gt; | Data &lt;chr&gt; | Study &lt;chr&gt; | Chemical_Class &lt;chr&gt; | DTXSID &lt;chr&gt; | Avg_Value &lt;dbl&gt; |\n",
       "|---|---|---|---|---|---|---|\n",
       "| 266980 | Volume | WS | Stockfelt et al. 2012 | Metal | K  |   9250 |\n",
       "| 266980 | Volume | WS | Stockfelt et al. 2012 | Metal | Rb |     89 |\n",
       "| 266987 | Volume | WS | Seagrave 2005         | Metal | Ca |  49200 |\n",
       "| 266987 | Volume | WS | Seagrave 2005         | Metal | Cd |   3500 |\n",
       "| 266987 | Volume | WS | Seagrave 2005         | Metal | Fe |  52600 |\n",
       "| 266987 | Volume | WS | Seagrave 2005         | Metal | K  | 763600 |\n",
       "\n"
      ],
      "text/plain": [
       "  HAWC_ID Metric Data Study                 Chemical_Class DTXSID Avg_Value\n",
       "1 266980  Volume WS   Stockfelt et al. 2012 Metal          K        9250   \n",
       "2 266980  Volume WS   Stockfelt et al. 2012 Metal          Rb         89   \n",
       "3 266987  Volume WS   Seagrave 2005         Metal          Ca      49200   \n",
       "4 266987  Volume WS   Seagrave 2005         Metal          Cd       3500   \n",
       "5 266987  Volume WS   Seagrave 2005         Metal          Fe      52600   \n",
       "6 266987  Volume WS   Seagrave 2005         Metal          K      763600   "
      ]
     },
     "metadata": {},
     "output_type": "display_data"
    }
   ],
   "source": [
    "# reformatting the volume df\n",
    "vol_df$Value = as.numeric(vol_df$Value)\n",
    "\n",
    "split_vol_df = vol_df[,c(3,1,4,6,7,2,8,5,9)] %>%\n",
    "    # averaging to get rid of replicates\n",
    "    group_by(HAWC_ID, Name) %>%\n",
    "    mutate(Avg_Value = mean(Value)) %>%\n",
    "    ungroup() %>%\n",
    "    select(-c(\"Replicate\", \"Value\", \"Name\")) %>%\n",
    "    unique() %>%\n",
    "    group_by(Chemical_Class) %>%\n",
    "    group_split\n",
    "\n",
    "metal_vol_df = split_vol_df[[1]]\n",
    "pah_vol_df = split_vol_df[[2]]\n",
    "voc_vol_df = split_vol_df[[3]]\n",
    "\n",
    "head(metal_vol_df)"
   ]
  },
  {
   "cell_type": "code",
   "execution_count": 26,
   "id": "02847d8a-2e2b-4360-9511-8f34e5febb0b",
   "metadata": {},
   "outputs": [
    {
     "data": {
      "text/html": [
       "<table class=\"dataframe\">\n",
       "<caption>A tibble: 6 × 7</caption>\n",
       "<thead>\n",
       "\t<tr><th scope=col>HAWC_ID</th><th scope=col>Metric</th><th scope=col>Data</th><th scope=col>Study</th><th scope=col>Chemical_Class</th><th scope=col>DTXSID</th><th scope=col>Avg_Value</th></tr>\n",
       "\t<tr><th scope=col>&lt;dbl&gt;</th><th scope=col>&lt;chr&gt;</th><th scope=col>&lt;chr&gt;</th><th scope=col>&lt;chr&gt;</th><th scope=col>&lt;chr&gt;</th><th scope=col>&lt;chr&gt;</th><th scope=col>&lt;dbl&gt;</th></tr>\n",
       "</thead>\n",
       "<tbody>\n",
       "\t<tr><td>1098462</td><td>Weight</td><td>WS</td><td>Niu et al. 2023</td><td>Metal</td><td>Al</td><td>  2.6100000</td></tr>\n",
       "\t<tr><td>1098462</td><td>Weight</td><td>WS</td><td>Niu et al. 2023</td><td>Metal</td><td>Ca</td><td>  1.0100000</td></tr>\n",
       "\t<tr><td>1098462</td><td>Weight</td><td>WS</td><td>Niu et al. 2023</td><td>Metal</td><td>Cr</td><td>  0.1466667</td></tr>\n",
       "\t<tr><td>1098462</td><td>Weight</td><td>WS</td><td>Niu et al. 2023</td><td>Metal</td><td>Cu</td><td>  0.3500000</td></tr>\n",
       "\t<tr><td>1098462</td><td>Weight</td><td>WS</td><td>Niu et al. 2023</td><td>Metal</td><td>Fe</td><td>  0.9933333</td></tr>\n",
       "\t<tr><td>1098462</td><td>Weight</td><td>WS</td><td>Niu et al. 2023</td><td>Metal</td><td>K </td><td>168.3033333</td></tr>\n",
       "</tbody>\n",
       "</table>\n"
      ],
      "text/latex": [
       "A tibble: 6 × 7\n",
       "\\begin{tabular}{lllllll}\n",
       " HAWC\\_ID & Metric & Data & Study & Chemical\\_Class & DTXSID & Avg\\_Value\\\\\n",
       " <dbl> & <chr> & <chr> & <chr> & <chr> & <chr> & <dbl>\\\\\n",
       "\\hline\n",
       "\t 1098462 & Weight & WS & Niu et al. 2023 & Metal & Al &   2.6100000\\\\\n",
       "\t 1098462 & Weight & WS & Niu et al. 2023 & Metal & Ca &   1.0100000\\\\\n",
       "\t 1098462 & Weight & WS & Niu et al. 2023 & Metal & Cr &   0.1466667\\\\\n",
       "\t 1098462 & Weight & WS & Niu et al. 2023 & Metal & Cu &   0.3500000\\\\\n",
       "\t 1098462 & Weight & WS & Niu et al. 2023 & Metal & Fe &   0.9933333\\\\\n",
       "\t 1098462 & Weight & WS & Niu et al. 2023 & Metal & K  & 168.3033333\\\\\n",
       "\\end{tabular}\n"
      ],
      "text/markdown": [
       "\n",
       "A tibble: 6 × 7\n",
       "\n",
       "| HAWC_ID &lt;dbl&gt; | Metric &lt;chr&gt; | Data &lt;chr&gt; | Study &lt;chr&gt; | Chemical_Class &lt;chr&gt; | DTXSID &lt;chr&gt; | Avg_Value &lt;dbl&gt; |\n",
       "|---|---|---|---|---|---|---|\n",
       "| 1098462 | Weight | WS | Niu et al. 2023 | Metal | Al |   2.6100000 |\n",
       "| 1098462 | Weight | WS | Niu et al. 2023 | Metal | Ca |   1.0100000 |\n",
       "| 1098462 | Weight | WS | Niu et al. 2023 | Metal | Cr |   0.1466667 |\n",
       "| 1098462 | Weight | WS | Niu et al. 2023 | Metal | Cu |   0.3500000 |\n",
       "| 1098462 | Weight | WS | Niu et al. 2023 | Metal | Fe |   0.9933333 |\n",
       "| 1098462 | Weight | WS | Niu et al. 2023 | Metal | K  | 168.3033333 |\n",
       "\n"
      ],
      "text/plain": [
       "  HAWC_ID Metric Data Study           Chemical_Class DTXSID Avg_Value  \n",
       "1 1098462 Weight WS   Niu et al. 2023 Metal          Al       2.6100000\n",
       "2 1098462 Weight WS   Niu et al. 2023 Metal          Ca       1.0100000\n",
       "3 1098462 Weight WS   Niu et al. 2023 Metal          Cr       0.1466667\n",
       "4 1098462 Weight WS   Niu et al. 2023 Metal          Cu       0.3500000\n",
       "5 1098462 Weight WS   Niu et al. 2023 Metal          Fe       0.9933333\n",
       "6 1098462 Weight WS   Niu et al. 2023 Metal          K      168.3033333"
      ]
     },
     "metadata": {},
     "output_type": "display_data"
    }
   ],
   "source": [
    "split_weight_df = imputed_weight_df %>%\n",
    "    # averaging to get rid of replicates\n",
    "    group_by(HAWC_ID, Name) %>%\n",
    "    mutate(Avg_Value = mean(Value)) %>%\n",
    "    ungroup() %>%\n",
    "    select(-c(\"Replicate\", \"Value\", \"Name\")) %>%\n",
    "    unique() %>%\n",
    "    group_by(Chemical_Class) %>%\n",
    "    group_split\n",
    "\n",
    "metal_weight_df = split_weight_df[[1]]\n",
    "pah_weight_df = split_weight_df[[2]]\n",
    "\n",
    "head(metal_weight_df)"
   ]
  },
  {
   "cell_type": "markdown",
   "id": "aedde76b-a5a7-4954-b473-2bd395b65e6a",
   "metadata": {},
   "source": [
    "Converting values to 0s and 1s to count number of experimental and NDs previously imputed. Chemicals/metals that don't have at least 50% of values present will be removed."
   ]
  },
  {
   "cell_type": "code",
   "execution_count": 27,
   "id": "5f1d9f14-5cc4-4415-a8a4-5126bc5151d2",
   "metadata": {},
   "outputs": [
    {
     "data": {
      "text/html": [
       "<table class=\"dataframe\">\n",
       "<caption>A tibble: 6 × 17</caption>\n",
       "<thead>\n",
       "\t<tr><th scope=col>SampleID</th><th scope=col>HAWC_ID</th><th scope=col>Metric</th><th scope=col>Data</th><th scope=col>Study</th><th scope=col>Chemical_Class</th><th scope=col>Al</th><th scope=col>Ca</th><th scope=col>Cr</th><th scope=col>Cu</th><th scope=col>Fe</th><th scope=col>K</th><th scope=col>Mg</th><th scope=col>Mn</th><th scope=col>Ni</th><th scope=col>Zn</th><th scope=col>B</th></tr>\n",
       "\t<tr><th scope=col>&lt;chr&gt;</th><th scope=col>&lt;dbl&gt;</th><th scope=col>&lt;chr&gt;</th><th scope=col>&lt;chr&gt;</th><th scope=col>&lt;chr&gt;</th><th scope=col>&lt;chr&gt;</th><th scope=col>&lt;dbl&gt;</th><th scope=col>&lt;dbl&gt;</th><th scope=col>&lt;dbl&gt;</th><th scope=col>&lt;dbl&gt;</th><th scope=col>&lt;dbl&gt;</th><th scope=col>&lt;dbl&gt;</th><th scope=col>&lt;dbl&gt;</th><th scope=col>&lt;dbl&gt;</th><th scope=col>&lt;dbl&gt;</th><th scope=col>&lt;dbl&gt;</th><th scope=col>&lt;dbl&gt;</th></tr>\n",
       "</thead>\n",
       "<tbody>\n",
       "\t<tr><td>1098462_WS_Metal</td><td>1098462</td><td>Weight</td><td>WS</td><td>Niu et al. 2023      </td><td>Metal</td><td>2.61</td><td>   1.010</td><td>  0.1466667</td><td>  0.35</td><td>9.933333e-01</td><td>   168.3033</td><td>  0.9533333</td><td>   0.2700</td><td>  0.04</td><td>   2.076667</td><td>NA</td></tr>\n",
       "\t<tr><td>267105_WS_Metal </td><td> 267105</td><td>Weight</td><td>WS</td><td>Danielsen et al. 2011</td><td>Metal</td><td>  NA</td><td>      NA</td><td> 21.3500000</td><td> 50.00</td><td>1.548000e+03</td><td>         NA</td><td>         NA</td><td>   0.0000</td><td> 12.50</td><td> 890.000000</td><td>NA</td></tr>\n",
       "\t<tr><td>271571_WS_Metal </td><td> 271571</td><td>Weight</td><td>WS</td><td>Dilger et al. 2016   </td><td>Metal</td><td>  NA</td><td>      NA</td><td>  3.4000000</td><td>  4.10</td><td>1.149174e+05</td><td> 69363.5000</td><td>         NA</td><td>2138.0000</td><td>  0.50</td><td>4178.800000</td><td>NA</td></tr>\n",
       "\t<tr><td>271638_WS_Metal </td><td> 271638</td><td>Weight</td><td>WS</td><td>Jalava et al. 2012   </td><td>Metal</td><td>  NA</td><td>2102.000</td><td>         NA</td><td>    NA</td><td>          NA</td><td>141557.1429</td><td>341.4285714</td><td> 422.2857</td><td>    NA</td><td>5202.857143</td><td>NA</td></tr>\n",
       "\t<tr><td>271769_WS_Metal </td><td> 271769</td><td>Weight</td><td>WS</td><td>Uski et al. 2012     </td><td>Metal</td><td>  NA</td><td>2130.571</td><td>         NA</td><td>    NA</td><td>          NA</td><td>141557.1429</td><td>341.4285714</td><td> 422.2857</td><td>    NA</td><td>5203.142857</td><td>NA</td></tr>\n",
       "\t<tr><td>279220_WS_Metal </td><td> 279220</td><td>Weight</td><td>WS</td><td>Kasurinen et al. 2017</td><td>Metal</td><td>  NA</td><td>1930.000</td><td>105.0000000</td><td>278.50</td><td>9.466667e+02</td><td> 89500.0000</td><td>         NA</td><td> 276.6667</td><td>148.50</td><td>4375.000000</td><td>NA</td></tr>\n",
       "</tbody>\n",
       "</table>\n"
      ],
      "text/latex": [
       "A tibble: 6 × 17\n",
       "\\begin{tabular}{lllllllllllllllll}\n",
       " SampleID & HAWC\\_ID & Metric & Data & Study & Chemical\\_Class & Al & Ca & Cr & Cu & Fe & K & Mg & Mn & Ni & Zn & B\\\\\n",
       " <chr> & <dbl> & <chr> & <chr> & <chr> & <chr> & <dbl> & <dbl> & <dbl> & <dbl> & <dbl> & <dbl> & <dbl> & <dbl> & <dbl> & <dbl> & <dbl>\\\\\n",
       "\\hline\n",
       "\t 1098462\\_WS\\_Metal & 1098462 & Weight & WS & Niu et al. 2023       & Metal & 2.61 &    1.010 &   0.1466667 &   0.35 & 9.933333e-01 &    168.3033 &   0.9533333 &    0.2700 &   0.04 &    2.076667 & NA\\\\\n",
       "\t 267105\\_WS\\_Metal  &  267105 & Weight & WS & Danielsen et al. 2011 & Metal &   NA &       NA &  21.3500000 &  50.00 & 1.548000e+03 &          NA &          NA &    0.0000 &  12.50 &  890.000000 & NA\\\\\n",
       "\t 271571\\_WS\\_Metal  &  271571 & Weight & WS & Dilger et al. 2016    & Metal &   NA &       NA &   3.4000000 &   4.10 & 1.149174e+05 &  69363.5000 &          NA & 2138.0000 &   0.50 & 4178.800000 & NA\\\\\n",
       "\t 271638\\_WS\\_Metal  &  271638 & Weight & WS & Jalava et al. 2012    & Metal &   NA & 2102.000 &          NA &     NA &           NA & 141557.1429 & 341.4285714 &  422.2857 &     NA & 5202.857143 & NA\\\\\n",
       "\t 271769\\_WS\\_Metal  &  271769 & Weight & WS & Uski et al. 2012      & Metal &   NA & 2130.571 &          NA &     NA &           NA & 141557.1429 & 341.4285714 &  422.2857 &     NA & 5203.142857 & NA\\\\\n",
       "\t 279220\\_WS\\_Metal  &  279220 & Weight & WS & Kasurinen et al. 2017 & Metal &   NA & 1930.000 & 105.0000000 & 278.50 & 9.466667e+02 &  89500.0000 &          NA &  276.6667 & 148.50 & 4375.000000 & NA\\\\\n",
       "\\end{tabular}\n"
      ],
      "text/markdown": [
       "\n",
       "A tibble: 6 × 17\n",
       "\n",
       "| SampleID &lt;chr&gt; | HAWC_ID &lt;dbl&gt; | Metric &lt;chr&gt; | Data &lt;chr&gt; | Study &lt;chr&gt; | Chemical_Class &lt;chr&gt; | Al &lt;dbl&gt; | Ca &lt;dbl&gt; | Cr &lt;dbl&gt; | Cu &lt;dbl&gt; | Fe &lt;dbl&gt; | K &lt;dbl&gt; | Mg &lt;dbl&gt; | Mn &lt;dbl&gt; | Ni &lt;dbl&gt; | Zn &lt;dbl&gt; | B &lt;dbl&gt; |\n",
       "|---|---|---|---|---|---|---|---|---|---|---|---|---|---|---|---|---|\n",
       "| 1098462_WS_Metal | 1098462 | Weight | WS | Niu et al. 2023       | Metal | 2.61 |    1.010 |   0.1466667 |   0.35 | 9.933333e-01 |    168.3033 |   0.9533333 |    0.2700 |   0.04 |    2.076667 | NA |\n",
       "| 267105_WS_Metal  |  267105 | Weight | WS | Danielsen et al. 2011 | Metal |   NA |       NA |  21.3500000 |  50.00 | 1.548000e+03 |          NA |          NA |    0.0000 |  12.50 |  890.000000 | NA |\n",
       "| 271571_WS_Metal  |  271571 | Weight | WS | Dilger et al. 2016    | Metal |   NA |       NA |   3.4000000 |   4.10 | 1.149174e+05 |  69363.5000 |          NA | 2138.0000 |   0.50 | 4178.800000 | NA |\n",
       "| 271638_WS_Metal  |  271638 | Weight | WS | Jalava et al. 2012    | Metal |   NA | 2102.000 |          NA |     NA |           NA | 141557.1429 | 341.4285714 |  422.2857 |     NA | 5202.857143 | NA |\n",
       "| 271769_WS_Metal  |  271769 | Weight | WS | Uski et al. 2012      | Metal |   NA | 2130.571 |          NA |     NA |           NA | 141557.1429 | 341.4285714 |  422.2857 |     NA | 5203.142857 | NA |\n",
       "| 279220_WS_Metal  |  279220 | Weight | WS | Kasurinen et al. 2017 | Metal |   NA | 1930.000 | 105.0000000 | 278.50 | 9.466667e+02 |  89500.0000 |          NA |  276.6667 | 148.50 | 4375.000000 | NA |\n",
       "\n"
      ],
      "text/plain": [
       "  SampleID         HAWC_ID Metric Data Study                 Chemical_Class\n",
       "1 1098462_WS_Metal 1098462 Weight WS   Niu et al. 2023       Metal         \n",
       "2 267105_WS_Metal   267105 Weight WS   Danielsen et al. 2011 Metal         \n",
       "3 271571_WS_Metal   271571 Weight WS   Dilger et al. 2016    Metal         \n",
       "4 271638_WS_Metal   271638 Weight WS   Jalava et al. 2012    Metal         \n",
       "5 271769_WS_Metal   271769 Weight WS   Uski et al. 2012      Metal         \n",
       "6 279220_WS_Metal   279220 Weight WS   Kasurinen et al. 2017 Metal         \n",
       "  Al   Ca       Cr          Cu     Fe           K           Mg         \n",
       "1 2.61    1.010   0.1466667   0.35 9.933333e-01    168.3033   0.9533333\n",
       "2   NA       NA  21.3500000  50.00 1.548000e+03          NA          NA\n",
       "3   NA       NA   3.4000000   4.10 1.149174e+05  69363.5000          NA\n",
       "4   NA 2102.000          NA     NA           NA 141557.1429 341.4285714\n",
       "5   NA 2130.571          NA     NA           NA 141557.1429 341.4285714\n",
       "6   NA 1930.000 105.0000000 278.50 9.466667e+02  89500.0000          NA\n",
       "  Mn        Ni     Zn          B \n",
       "1    0.2700   0.04    2.076667 NA\n",
       "2    0.0000  12.50  890.000000 NA\n",
       "3 2138.0000   0.50 4178.800000 NA\n",
       "4  422.2857     NA 5202.857143 NA\n",
       "5  422.2857     NA 5203.142857 NA\n",
       "6  276.6667 148.50 4375.000000 NA"
      ]
     },
     "metadata": {},
     "output_type": "display_data"
    }
   ],
   "source": [
    "wider_metal_vol_df = metal_vol_df %>%\n",
    "    # creating sample ids\n",
    "    unite(\"SampleID\", c(colnames(metal_vol_df)[c(2,1,4)]), remove = FALSE) %>%\n",
    "    pivot_wider(names_from = \"DTXSID\", values_from = \"Avg_Value\") \n",
    "wider_pah_vol_df = pah_vol_df %>%\n",
    "    # creating sample ids\n",
    "    unite(\"SampleID\", c(colnames(pah_vol_df)[c(2,1,4)]), remove = FALSE) %>%\n",
    "    pivot_wider(names_from = \"DTXSID\", values_from = \"Avg_Value\")\n",
    "wider_voc_vol_df = voc_vol_df %>%\n",
    "    # creating sample ids\n",
    "    unite(\"SampleID\", c(colnames(pah_vol_df)[c(2,1,4)]), remove = FALSE) %>%\n",
    "    pivot_wider(names_from = \"DTXSID\", values_from = \"Avg_Value\")\n",
    "\n",
    "wider_metal_weight_df = metal_weight_df %>%\n",
    "    unite(\"SampleID\", c(colnames(metal_weight_df)[c(1,3,5)]), remove = FALSE) %>%\n",
    "    pivot_wider(names_from = \"DTXSID\", values_from = \"Avg_Value\") \n",
    "wider_pah_weight_df = pah_weight_df %>%\n",
    "    unite(\"SampleID\", c(colnames(pah_weight_df)[c(1,3,5)]), remove = FALSE) %>%\n",
    "    pivot_wider(names_from = \"DTXSID\", values_from = \"Avg_Value\")  \n",
    "\n",
    "head(wider_metal_weight_df)"
   ]
  },
  {
   "cell_type": "code",
   "execution_count": 28,
   "id": "10baac7b-db6e-458a-8e5c-295a4a66772d",
   "metadata": {},
   "outputs": [
    {
     "data": {
      "text/html": [
       "<table class=\"dataframe\">\n",
       "<caption>A data.frame: 3 × 1</caption>\n",
       "<thead>\n",
       "\t<tr><th></th><th scope=col>Percent</th></tr>\n",
       "\t<tr><th></th><th scope=col>&lt;dbl&gt;</th></tr>\n",
       "</thead>\n",
       "<tbody>\n",
       "\t<tr><th scope=row>K</th><td>45.94595</td></tr>\n",
       "\t<tr><th scope=row>Mg</th><td>45.94595</td></tr>\n",
       "\t<tr><th scope=row>B</th><td>10.81081</td></tr>\n",
       "</tbody>\n",
       "</table>\n"
      ],
      "text/latex": [
       "A data.frame: 3 × 1\n",
       "\\begin{tabular}{r|l}\n",
       "  & Percent\\\\\n",
       "  & <dbl>\\\\\n",
       "\\hline\n",
       "\tK & 45.94595\\\\\n",
       "\tMg & 45.94595\\\\\n",
       "\tB & 10.81081\\\\\n",
       "\\end{tabular}\n"
      ],
      "text/markdown": [
       "\n",
       "A data.frame: 3 × 1\n",
       "\n",
       "| <!--/--> | Percent &lt;dbl&gt; |\n",
       "|---|---|\n",
       "| K | 45.94595 |\n",
       "| Mg | 45.94595 |\n",
       "| B | 10.81081 |\n",
       "\n"
      ],
      "text/plain": [
       "   Percent \n",
       "K  45.94595\n",
       "Mg 45.94595\n",
       "B  10.81081"
      ]
     },
     "metadata": {},
     "output_type": "display_data"
    }
   ],
   "source": [
    "data_percentage = function(wider_dataset){\n",
    "    # ADD WORDS!!\n",
    "    \n",
    "    # converting values to 0s and 1s\n",
    "    summed_df = wider_dataset %>%\n",
    "        mutate(across(7:ncol(wider_dataset), ~ifelse(is.na(.x), 0, 1)))\n",
    "\n",
    "    # identifying metals/chemicals w/ < 50% of experimental data\n",
    "    percentage_df = data.frame(Percent = colSums(summed_df[,7:ncol(summed_df)])/nrow(summed_df) * 100) %>%\n",
    "    filter(Percent <= 50)\n",
    "\n",
    "    return(percentage_df)\n",
    "}\n",
    "\n",
    "# calling fn\n",
    "percentage_metal_vol_df = data_percentage(wider_metal_vol_df)\n",
    "percentage_pah_vol_df = data_percentage(wider_pah_vol_df) \n",
    "percentage_voc_vol_df = data_percentage(wider_voc_vol_df) \n",
    "percentage_metal_weight_df = data_percentage(wider_metal_weight_df) \n",
    "percentage_pah_weight_df = data_percentage(wider_pah_weight_df)\n",
    "\n",
    "head(percentage_metal_weight_df)"
   ]
  },
  {
   "cell_type": "code",
   "execution_count": 29,
   "id": "00132275-7af1-4352-8645-e62b034373c9",
   "metadata": {},
   "outputs": [
    {
     "data": {
      "text/html": [
       "<table class=\"dataframe\">\n",
       "<caption>A tibble: 6 × 14</caption>\n",
       "<thead>\n",
       "\t<tr><th scope=col>SampleID</th><th scope=col>HAWC_ID</th><th scope=col>Metric</th><th scope=col>Data</th><th scope=col>Study</th><th scope=col>Chemical_Class</th><th scope=col>Al</th><th scope=col>Ca</th><th scope=col>Cr</th><th scope=col>Cu</th><th scope=col>Fe</th><th scope=col>Mn</th><th scope=col>Ni</th><th scope=col>Zn</th></tr>\n",
       "\t<tr><th scope=col>&lt;chr&gt;</th><th scope=col>&lt;dbl&gt;</th><th scope=col>&lt;chr&gt;</th><th scope=col>&lt;chr&gt;</th><th scope=col>&lt;chr&gt;</th><th scope=col>&lt;chr&gt;</th><th scope=col>&lt;dbl&gt;</th><th scope=col>&lt;dbl&gt;</th><th scope=col>&lt;dbl&gt;</th><th scope=col>&lt;dbl&gt;</th><th scope=col>&lt;dbl&gt;</th><th scope=col>&lt;dbl&gt;</th><th scope=col>&lt;dbl&gt;</th><th scope=col>&lt;dbl&gt;</th></tr>\n",
       "</thead>\n",
       "<tbody>\n",
       "\t<tr><td>1098462_WS_Metal</td><td>1098462</td><td>Weight</td><td>WS</td><td>Niu et al. 2023      </td><td>Metal</td><td>2.61</td><td>   1.010</td><td>  0.1466667</td><td>  0.35</td><td>9.933333e-01</td><td>   0.2700</td><td>  0.04</td><td>   2.076667</td></tr>\n",
       "\t<tr><td>267105_WS_Metal </td><td> 267105</td><td>Weight</td><td>WS</td><td>Danielsen et al. 2011</td><td>Metal</td><td>  NA</td><td>      NA</td><td> 21.3500000</td><td> 50.00</td><td>1.548000e+03</td><td>   0.0000</td><td> 12.50</td><td> 890.000000</td></tr>\n",
       "\t<tr><td>271571_WS_Metal </td><td> 271571</td><td>Weight</td><td>WS</td><td>Dilger et al. 2016   </td><td>Metal</td><td>  NA</td><td>      NA</td><td>  3.4000000</td><td>  4.10</td><td>1.149174e+05</td><td>2138.0000</td><td>  0.50</td><td>4178.800000</td></tr>\n",
       "\t<tr><td>271638_WS_Metal </td><td> 271638</td><td>Weight</td><td>WS</td><td>Jalava et al. 2012   </td><td>Metal</td><td>  NA</td><td>2102.000</td><td>         NA</td><td>    NA</td><td>          NA</td><td> 422.2857</td><td>    NA</td><td>5202.857143</td></tr>\n",
       "\t<tr><td>271769_WS_Metal </td><td> 271769</td><td>Weight</td><td>WS</td><td>Uski et al. 2012     </td><td>Metal</td><td>  NA</td><td>2130.571</td><td>         NA</td><td>    NA</td><td>          NA</td><td> 422.2857</td><td>    NA</td><td>5203.142857</td></tr>\n",
       "\t<tr><td>279220_WS_Metal </td><td> 279220</td><td>Weight</td><td>WS</td><td>Kasurinen et al. 2017</td><td>Metal</td><td>  NA</td><td>1930.000</td><td>105.0000000</td><td>278.50</td><td>9.466667e+02</td><td> 276.6667</td><td>148.50</td><td>4375.000000</td></tr>\n",
       "</tbody>\n",
       "</table>\n"
      ],
      "text/latex": [
       "A tibble: 6 × 14\n",
       "\\begin{tabular}{llllllllllllll}\n",
       " SampleID & HAWC\\_ID & Metric & Data & Study & Chemical\\_Class & Al & Ca & Cr & Cu & Fe & Mn & Ni & Zn\\\\\n",
       " <chr> & <dbl> & <chr> & <chr> & <chr> & <chr> & <dbl> & <dbl> & <dbl> & <dbl> & <dbl> & <dbl> & <dbl> & <dbl>\\\\\n",
       "\\hline\n",
       "\t 1098462\\_WS\\_Metal & 1098462 & Weight & WS & Niu et al. 2023       & Metal & 2.61 &    1.010 &   0.1466667 &   0.35 & 9.933333e-01 &    0.2700 &   0.04 &    2.076667\\\\\n",
       "\t 267105\\_WS\\_Metal  &  267105 & Weight & WS & Danielsen et al. 2011 & Metal &   NA &       NA &  21.3500000 &  50.00 & 1.548000e+03 &    0.0000 &  12.50 &  890.000000\\\\\n",
       "\t 271571\\_WS\\_Metal  &  271571 & Weight & WS & Dilger et al. 2016    & Metal &   NA &       NA &   3.4000000 &   4.10 & 1.149174e+05 & 2138.0000 &   0.50 & 4178.800000\\\\\n",
       "\t 271638\\_WS\\_Metal  &  271638 & Weight & WS & Jalava et al. 2012    & Metal &   NA & 2102.000 &          NA &     NA &           NA &  422.2857 &     NA & 5202.857143\\\\\n",
       "\t 271769\\_WS\\_Metal  &  271769 & Weight & WS & Uski et al. 2012      & Metal &   NA & 2130.571 &          NA &     NA &           NA &  422.2857 &     NA & 5203.142857\\\\\n",
       "\t 279220\\_WS\\_Metal  &  279220 & Weight & WS & Kasurinen et al. 2017 & Metal &   NA & 1930.000 & 105.0000000 & 278.50 & 9.466667e+02 &  276.6667 & 148.50 & 4375.000000\\\\\n",
       "\\end{tabular}\n"
      ],
      "text/markdown": [
       "\n",
       "A tibble: 6 × 14\n",
       "\n",
       "| SampleID &lt;chr&gt; | HAWC_ID &lt;dbl&gt; | Metric &lt;chr&gt; | Data &lt;chr&gt; | Study &lt;chr&gt; | Chemical_Class &lt;chr&gt; | Al &lt;dbl&gt; | Ca &lt;dbl&gt; | Cr &lt;dbl&gt; | Cu &lt;dbl&gt; | Fe &lt;dbl&gt; | Mn &lt;dbl&gt; | Ni &lt;dbl&gt; | Zn &lt;dbl&gt; |\n",
       "|---|---|---|---|---|---|---|---|---|---|---|---|---|---|\n",
       "| 1098462_WS_Metal | 1098462 | Weight | WS | Niu et al. 2023       | Metal | 2.61 |    1.010 |   0.1466667 |   0.35 | 9.933333e-01 |    0.2700 |   0.04 |    2.076667 |\n",
       "| 267105_WS_Metal  |  267105 | Weight | WS | Danielsen et al. 2011 | Metal |   NA |       NA |  21.3500000 |  50.00 | 1.548000e+03 |    0.0000 |  12.50 |  890.000000 |\n",
       "| 271571_WS_Metal  |  271571 | Weight | WS | Dilger et al. 2016    | Metal |   NA |       NA |   3.4000000 |   4.10 | 1.149174e+05 | 2138.0000 |   0.50 | 4178.800000 |\n",
       "| 271638_WS_Metal  |  271638 | Weight | WS | Jalava et al. 2012    | Metal |   NA | 2102.000 |          NA |     NA |           NA |  422.2857 |     NA | 5202.857143 |\n",
       "| 271769_WS_Metal  |  271769 | Weight | WS | Uski et al. 2012      | Metal |   NA | 2130.571 |          NA |     NA |           NA |  422.2857 |     NA | 5203.142857 |\n",
       "| 279220_WS_Metal  |  279220 | Weight | WS | Kasurinen et al. 2017 | Metal |   NA | 1930.000 | 105.0000000 | 278.50 | 9.466667e+02 |  276.6667 | 148.50 | 4375.000000 |\n",
       "\n"
      ],
      "text/plain": [
       "  SampleID         HAWC_ID Metric Data Study                 Chemical_Class\n",
       "1 1098462_WS_Metal 1098462 Weight WS   Niu et al. 2023       Metal         \n",
       "2 267105_WS_Metal   267105 Weight WS   Danielsen et al. 2011 Metal         \n",
       "3 271571_WS_Metal   271571 Weight WS   Dilger et al. 2016    Metal         \n",
       "4 271638_WS_Metal   271638 Weight WS   Jalava et al. 2012    Metal         \n",
       "5 271769_WS_Metal   271769 Weight WS   Uski et al. 2012      Metal         \n",
       "6 279220_WS_Metal   279220 Weight WS   Kasurinen et al. 2017 Metal         \n",
       "  Al   Ca       Cr          Cu     Fe           Mn        Ni     Zn         \n",
       "1 2.61    1.010   0.1466667   0.35 9.933333e-01    0.2700   0.04    2.076667\n",
       "2   NA       NA  21.3500000  50.00 1.548000e+03    0.0000  12.50  890.000000\n",
       "3   NA       NA   3.4000000   4.10 1.149174e+05 2138.0000   0.50 4178.800000\n",
       "4   NA 2102.000          NA     NA           NA  422.2857     NA 5202.857143\n",
       "5   NA 2130.571          NA     NA           NA  422.2857     NA 5203.142857\n",
       "6   NA 1930.000 105.0000000 278.50 9.466667e+02  276.6667 148.50 4375.000000"
      ]
     },
     "metadata": {},
     "output_type": "display_data"
    }
   ],
   "source": [
    "# removing those metals/chemicals from the OG df\n",
    "preimputed_metal_vol_df = wider_metal_vol_df[,colnames(wider_metal_vol_df) %notin% rownames(percentage_metal_vol_df)]\n",
    "preimputed_pah_vol_df = wider_pah_vol_df[,colnames(wider_pah_vol_df) %notin% rownames(percentage_pah_vol_df)]\n",
    "preimputed_voc_vol_df = wider_voc_vol_df[,colnames(wider_voc_vol_df) %notin% rownames(percentage_voc_vol_df)]\n",
    "preimputed_metal_weight_df = wider_metal_weight_df[,colnames(wider_metal_weight_df) %notin% rownames(percentage_metal_weight_df)]\n",
    "# too few records\n",
    "preimputed_pah_weight_df = wider_pah_weight_df[,colnames(wider_pah_weight_df) %notin% rownames(percentage_pah_weight_df)]\n",
    "\n",
    "head(preimputed_metal_weight_df)"
   ]
  },
  {
   "cell_type": "code",
   "execution_count": 30,
   "id": "f70ba746-a76c-43ee-a02f-2887f28886b9",
   "metadata": {},
   "outputs": [
    {
     "data": {
      "text/html": [
       "8"
      ],
      "text/latex": [
       "8"
      ],
      "text/markdown": [
       "8"
      ],
      "text/plain": [
       "[1] 8"
      ]
     },
     "metadata": {},
     "output_type": "display_data"
    },
    {
     "data": {
      "text/html": [
       "4"
      ],
      "text/latex": [
       "4"
      ],
      "text/markdown": [
       "4"
      ],
      "text/plain": [
       "[1] 4"
      ]
     },
     "metadata": {},
     "output_type": "display_data"
    },
    {
     "data": {
      "text/html": [
       "3"
      ],
      "text/latex": [
       "3"
      ],
      "text/markdown": [
       "3"
      ],
      "text/plain": [
       "[1] 3"
      ]
     },
     "metadata": {},
     "output_type": "display_data"
    },
    {
     "data": {
      "text/html": [
       "8"
      ],
      "text/latex": [
       "8"
      ],
      "text/markdown": [
       "8"
      ],
      "text/plain": [
       "[1] 8"
      ]
     },
     "metadata": {},
     "output_type": "display_data"
    },
    {
     "data": {
      "text/html": [
       "2"
      ],
      "text/latex": [
       "2"
      ],
      "text/markdown": [
       "2"
      ],
      "text/plain": [
       "[1] 2"
      ]
     },
     "metadata": {},
     "output_type": "display_data"
    }
   ],
   "source": [
    "# How many metals/chemicals are now left in the dataset?\n",
    "ncol(preimputed_metal_vol_df) - 6\n",
    "ncol(preimputed_pah_vol_df) - 6\n",
    "ncol(preimputed_voc_vol_df) - 6\n",
    "ncol(preimputed_metal_weight_df) - 6\n",
    "ncol(preimputed_pah_weight_df) - 6"
   ]
  },
  {
   "cell_type": "markdown",
   "id": "5f4d134a-b801-4a28-bc8a-086319521b88",
   "metadata": {},
   "source": [
    "ADD WORDS. \n",
    "\n",
    "# RF Imputation"
   ]
  },
  {
   "cell_type": "code",
   "execution_count": 31,
   "id": "f585ce82-69ed-4c15-9764-099830f74e75",
   "metadata": {
    "scrolled": true
   },
   "outputs": [
    {
     "name": "stderr",
     "output_type": "stream",
     "text": [
      "Warning message in randomForest.default(x = obsX, y = obsY, ntree = ntree, mtry = mtry, :\n",
      "“The response has five or fewer unique values.  Are you sure you want to do regression?”\n",
      "Warning message in randomForest.default(x = obsX, y = obsY, ntree = ntree, mtry = mtry, :\n",
      "“The response has five or fewer unique values.  Are you sure you want to do regression?”\n"
     ]
    },
    {
     "data": {
      "text/html": [
       "<table class=\"dataframe\">\n",
       "<caption>A tibble: 6 × 7</caption>\n",
       "<thead>\n",
       "\t<tr><th scope=col>Metric</th><th scope=col>Chemical_Class</th><th scope=col>HAWC_ID</th><th scope=col>Data</th><th scope=col>DTXSID</th><th scope=col>Name</th><th scope=col>Value</th></tr>\n",
       "\t<tr><th scope=col>&lt;chr&gt;</th><th scope=col>&lt;chr&gt;</th><th scope=col>&lt;dbl&gt;</th><th scope=col>&lt;chr&gt;</th><th scope=col>&lt;chr&gt;</th><th scope=col>&lt;chr&gt;</th><th scope=col>&lt;dbl&gt;</th></tr>\n",
       "</thead>\n",
       "<tbody>\n",
       "\t<tr><td>Volume</td><td>Metal</td><td>266980</td><td>WS</td><td>K </td><td>K </td><td>  9250.0000</td></tr>\n",
       "\t<tr><td>Volume</td><td>Metal</td><td>266980</td><td>WS</td><td>Ca</td><td>Ca</td><td>186558.2941</td></tr>\n",
       "\t<tr><td>Volume</td><td>Metal</td><td>266980</td><td>WS</td><td>Cd</td><td>Cd</td><td>  2318.1878</td></tr>\n",
       "\t<tr><td>Volume</td><td>Metal</td><td>266980</td><td>WS</td><td>Fe</td><td>Fe</td><td> 21443.6190</td></tr>\n",
       "\t<tr><td>Volume</td><td>Metal</td><td>266980</td><td>WS</td><td>Mn</td><td>Mn</td><td> 10704.7944</td></tr>\n",
       "\t<tr><td>Volume</td><td>Metal</td><td>266980</td><td>WS</td><td>Co</td><td>Co</td><td>   203.2304</td></tr>\n",
       "</tbody>\n",
       "</table>\n"
      ],
      "text/latex": [
       "A tibble: 6 × 7\n",
       "\\begin{tabular}{lllllll}\n",
       " Metric & Chemical\\_Class & HAWC\\_ID & Data & DTXSID & Name & Value\\\\\n",
       " <chr> & <chr> & <dbl> & <chr> & <chr> & <chr> & <dbl>\\\\\n",
       "\\hline\n",
       "\t Volume & Metal & 266980 & WS & K  & K  &   9250.0000\\\\\n",
       "\t Volume & Metal & 266980 & WS & Ca & Ca & 186558.2941\\\\\n",
       "\t Volume & Metal & 266980 & WS & Cd & Cd &   2318.1878\\\\\n",
       "\t Volume & Metal & 266980 & WS & Fe & Fe &  21443.6190\\\\\n",
       "\t Volume & Metal & 266980 & WS & Mn & Mn &  10704.7944\\\\\n",
       "\t Volume & Metal & 266980 & WS & Co & Co &    203.2304\\\\\n",
       "\\end{tabular}\n"
      ],
      "text/markdown": [
       "\n",
       "A tibble: 6 × 7\n",
       "\n",
       "| Metric &lt;chr&gt; | Chemical_Class &lt;chr&gt; | HAWC_ID &lt;dbl&gt; | Data &lt;chr&gt; | DTXSID &lt;chr&gt; | Name &lt;chr&gt; | Value &lt;dbl&gt; |\n",
       "|---|---|---|---|---|---|---|\n",
       "| Volume | Metal | 266980 | WS | K  | K  |   9250.0000 |\n",
       "| Volume | Metal | 266980 | WS | Ca | Ca | 186558.2941 |\n",
       "| Volume | Metal | 266980 | WS | Cd | Cd |   2318.1878 |\n",
       "| Volume | Metal | 266980 | WS | Fe | Fe |  21443.6190 |\n",
       "| Volume | Metal | 266980 | WS | Mn | Mn |  10704.7944 |\n",
       "| Volume | Metal | 266980 | WS | Co | Co |    203.2304 |\n",
       "\n"
      ],
      "text/plain": [
       "  Metric Chemical_Class HAWC_ID Data DTXSID Name Value      \n",
       "1 Volume Metal          266980  WS   K      K      9250.0000\n",
       "2 Volume Metal          266980  WS   Ca     Ca   186558.2941\n",
       "3 Volume Metal          266980  WS   Cd     Cd     2318.1878\n",
       "4 Volume Metal          266980  WS   Fe     Fe    21443.6190\n",
       "5 Volume Metal          266980  WS   Mn     Mn    10704.7944\n",
       "6 Volume Metal          266980  WS   Co     Co      203.2304"
      ]
     },
     "metadata": {},
     "output_type": "display_data"
    }
   ],
   "source": [
    "random_forest_imputation = function(dataset){\n",
    "    # ADD WORDS\n",
    "    \n",
    "    preimputed_df = dataset[,7:ncol(dataset)]\n",
    "    \n",
    "    imputed_RF_object = missForest(as.matrix(preimputed_df))\n",
    "    imputed_RF_df = imputed_RF_object$ximp\n",
    "    imputed_final_df = data.frame(cbind(dataset[,1:6], imputed_RF_df)) %>%\n",
    "        pivot_longer(cols = 7:ncol(dataset), names_to = \"DTXSID\", values_to = \"Value\")\n",
    "    \n",
    "    return(imputed_final_df)\n",
    "}\n",
    "\n",
    "# calling fn\n",
    "rf_metal_vol_imputed_df = random_forest_imputation(preimputed_metal_vol_df) \n",
    "rf_pah_vol_imputed_df = random_forest_imputation(preimputed_pah_vol_df)\n",
    "rf_voc_vol_imputed_df = random_forest_imputation(preimputed_voc_vol_df)\n",
    "rf_metal_weight_imputed_df = random_forest_imputation(preimputed_metal_weight_df) \n",
    "#rf_pah_weight_imputed_df = random_forest_imputation(preimputed_pah_weight_df)\n",
    "\n",
    "rf_imputed_df = rbind(rf_metal_vol_imputed_df, rf_pah_vol_imputed_df, \n",
    "                      rf_voc_vol_imputed_df, rf_metal_weight_imputed_df#,\n",
    "                      #rf_pah_weight_imputed_df\n",
    "                     ) %>%\n",
    "    mutate(Name = DTXSID) \n",
    "\n",
    "rf_imputed_df = rf_imputed_df[,c(3,6,2,4,7,9,8)]\n",
    "\n",
    "head(rf_imputed_df)"
   ]
  },
  {
   "cell_type": "code",
   "execution_count": 32,
   "id": "7db6faee-27f7-4daa-8c24-d447c9ec8e55",
   "metadata": {},
   "outputs": [
    {
     "data": {
      "text/html": [
       "<table class=\"dataframe\">\n",
       "<caption>A tibble: 6 × 8</caption>\n",
       "<thead>\n",
       "\t<tr><th scope=col>HAWC_ID</th><th scope=col>Metric</th><th scope=col>Data</th><th scope=col>Study</th><th scope=col>Chemical_Class</th><th scope=col>DTXSID</th><th scope=col>Name</th><th scope=col>Value</th></tr>\n",
       "\t<tr><th scope=col>&lt;dbl&gt;</th><th scope=col>&lt;chr&gt;</th><th scope=col>&lt;chr&gt;</th><th scope=col>&lt;chr&gt;</th><th scope=col>&lt;chr&gt;</th><th scope=col>&lt;chr&gt;</th><th scope=col>&lt;chr&gt;</th><th scope=col>&lt;dbl&gt;</th></tr>\n",
       "</thead>\n",
       "<tbody>\n",
       "\t<tr><td>266980</td><td>Volume</td><td>WS</td><td>Stockfelt et al. 2012</td><td>Metal</td><td>K </td><td>K </td><td>  9250.0000</td></tr>\n",
       "\t<tr><td>266980</td><td>Volume</td><td>WS</td><td>Stockfelt et al. 2012</td><td>Metal</td><td>Ca</td><td>Ca</td><td>186558.2941</td></tr>\n",
       "\t<tr><td>266980</td><td>Volume</td><td>WS</td><td>Stockfelt et al. 2012</td><td>Metal</td><td>Cd</td><td>Cd</td><td>  2318.1878</td></tr>\n",
       "\t<tr><td>266980</td><td>Volume</td><td>WS</td><td>Stockfelt et al. 2012</td><td>Metal</td><td>Fe</td><td>Fe</td><td> 21443.6190</td></tr>\n",
       "\t<tr><td>266980</td><td>Volume</td><td>WS</td><td>Stockfelt et al. 2012</td><td>Metal</td><td>Mn</td><td>Mn</td><td> 10704.7944</td></tr>\n",
       "\t<tr><td>266980</td><td>Volume</td><td>WS</td><td>Stockfelt et al. 2012</td><td>Metal</td><td>Co</td><td>Co</td><td>   203.2304</td></tr>\n",
       "</tbody>\n",
       "</table>\n"
      ],
      "text/latex": [
       "A tibble: 6 × 8\n",
       "\\begin{tabular}{llllllll}\n",
       " HAWC\\_ID & Metric & Data & Study & Chemical\\_Class & DTXSID & Name & Value\\\\\n",
       " <dbl> & <chr> & <chr> & <chr> & <chr> & <chr> & <chr> & <dbl>\\\\\n",
       "\\hline\n",
       "\t 266980 & Volume & WS & Stockfelt et al. 2012 & Metal & K  & K  &   9250.0000\\\\\n",
       "\t 266980 & Volume & WS & Stockfelt et al. 2012 & Metal & Ca & Ca & 186558.2941\\\\\n",
       "\t 266980 & Volume & WS & Stockfelt et al. 2012 & Metal & Cd & Cd &   2318.1878\\\\\n",
       "\t 266980 & Volume & WS & Stockfelt et al. 2012 & Metal & Fe & Fe &  21443.6190\\\\\n",
       "\t 266980 & Volume & WS & Stockfelt et al. 2012 & Metal & Mn & Mn &  10704.7944\\\\\n",
       "\t 266980 & Volume & WS & Stockfelt et al. 2012 & Metal & Co & Co &    203.2304\\\\\n",
       "\\end{tabular}\n"
      ],
      "text/markdown": [
       "\n",
       "A tibble: 6 × 8\n",
       "\n",
       "| HAWC_ID &lt;dbl&gt; | Metric &lt;chr&gt; | Data &lt;chr&gt; | Study &lt;chr&gt; | Chemical_Class &lt;chr&gt; | DTXSID &lt;chr&gt; | Name &lt;chr&gt; | Value &lt;dbl&gt; |\n",
       "|---|---|---|---|---|---|---|---|\n",
       "| 266980 | Volume | WS | Stockfelt et al. 2012 | Metal | K  | K  |   9250.0000 |\n",
       "| 266980 | Volume | WS | Stockfelt et al. 2012 | Metal | Ca | Ca | 186558.2941 |\n",
       "| 266980 | Volume | WS | Stockfelt et al. 2012 | Metal | Cd | Cd |   2318.1878 |\n",
       "| 266980 | Volume | WS | Stockfelt et al. 2012 | Metal | Fe | Fe |  21443.6190 |\n",
       "| 266980 | Volume | WS | Stockfelt et al. 2012 | Metal | Mn | Mn |  10704.7944 |\n",
       "| 266980 | Volume | WS | Stockfelt et al. 2012 | Metal | Co | Co |    203.2304 |\n",
       "\n"
      ],
      "text/plain": [
       "  HAWC_ID Metric Data Study                 Chemical_Class DTXSID Name\n",
       "1 266980  Volume WS   Stockfelt et al. 2012 Metal          K      K   \n",
       "2 266980  Volume WS   Stockfelt et al. 2012 Metal          Ca     Ca  \n",
       "3 266980  Volume WS   Stockfelt et al. 2012 Metal          Cd     Cd  \n",
       "4 266980  Volume WS   Stockfelt et al. 2012 Metal          Fe     Fe  \n",
       "5 266980  Volume WS   Stockfelt et al. 2012 Metal          Mn     Mn  \n",
       "6 266980  Volume WS   Stockfelt et al. 2012 Metal          Co     Co  \n",
       "  Value      \n",
       "1   9250.0000\n",
       "2 186558.2941\n",
       "3   2318.1878\n",
       "4  21443.6190\n",
       "5  10704.7944\n",
       "6    203.2304"
      ]
     },
     "metadata": {},
     "output_type": "display_data"
    },
    {
     "data": {
      "text/html": [
       "<style>\n",
       ".list-inline {list-style: none; margin:0; padding: 0}\n",
       ".list-inline>li {display: inline-block}\n",
       ".list-inline>li:not(:last-child)::after {content: \"\\00b7\"; padding: 0 .5ex}\n",
       "</style>\n",
       "<ol class=list-inline><li>496</li><li>8</li></ol>\n"
      ],
      "text/latex": [
       "\\begin{enumerate*}\n",
       "\\item 496\n",
       "\\item 8\n",
       "\\end{enumerate*}\n"
      ],
      "text/markdown": [
       "1. 496\n",
       "2. 8\n",
       "\n",
       "\n"
      ],
      "text/plain": [
       "[1] 496   8"
      ]
     },
     "metadata": {},
     "output_type": "display_data"
    }
   ],
   "source": [
    "# combining data\n",
    "final_df = rbind(rf_metal_vol_imputed_df, rf_pah_vol_imputed_df, \n",
    "                      rf_voc_vol_imputed_df, rf_metal_weight_imputed_df#,\n",
    "                      #rf_pah_weight_imputed_df\n",
    "                     ) %>%\n",
    "    mutate(Name = DTXSID) \n",
    "\n",
    "final_df = final_df[,c(2:7,9,8)]\n",
    "\n",
    "head(final_df)\n",
    "dim(final_df)"
   ]
  },
  {
   "cell_type": "code",
   "execution_count": 33,
   "id": "71aabfcd-d6a1-4a68-a845-1e890ab2bab7",
   "metadata": {},
   "outputs": [],
   "source": [
    "# exporting\n",
    "write.xlsx(final_df, paste0(Output,\"/\", \"Processed_Data_\", cur_date, \".xlsx\"), \n",
    "           rowNames = FALSE)"
   ]
  },
  {
   "cell_type": "code",
   "execution_count": null,
   "id": "b003cc96-3d86-4728-be5f-7420fdf4e0e6",
   "metadata": {},
   "outputs": [],
   "source": []
  }
 ],
 "metadata": {
  "kernelspec": {
   "display_name": "R",
   "language": "R",
   "name": "ir"
  },
  "language_info": {
   "codemirror_mode": "r",
   "file_extension": ".r",
   "mimetype": "text/x-r-source",
   "name": "R",
   "pygments_lexer": "r",
   "version": "4.3.1"
  }
 },
 "nbformat": 4,
 "nbformat_minor": 5
}
