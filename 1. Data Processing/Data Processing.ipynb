{
 "cells": [
  {
   "cell_type": "code",
   "execution_count": 1,
   "id": "dbfb736a-bc97-4a2f-96f6-553aa3c90c5b",
   "metadata": {},
   "outputs": [
    {
     "name": "stderr",
     "output_type": "stream",
     "text": [
      "── \u001b[1mAttaching core tidyverse packages\u001b[22m ──────────────────────── tidyverse 2.0.0 ──\n",
      "\u001b[32m✔\u001b[39m \u001b[34mdplyr    \u001b[39m 1.1.3     \u001b[32m✔\u001b[39m \u001b[34mreadr    \u001b[39m 2.1.4\n",
      "\u001b[32m✔\u001b[39m \u001b[34mforcats  \u001b[39m 1.0.0     \u001b[32m✔\u001b[39m \u001b[34mstringr  \u001b[39m 1.5.0\n",
      "\u001b[32m✔\u001b[39m \u001b[34mggplot2  \u001b[39m 3.4.3     \u001b[32m✔\u001b[39m \u001b[34mtibble   \u001b[39m 3.2.1\n",
      "\u001b[32m✔\u001b[39m \u001b[34mlubridate\u001b[39m 1.9.2     \u001b[32m✔\u001b[39m \u001b[34mtidyr    \u001b[39m 1.3.0\n",
      "\u001b[32m✔\u001b[39m \u001b[34mpurrr    \u001b[39m 1.0.2     \n",
      "── \u001b[1mConflicts\u001b[22m ────────────────────────────────────────── tidyverse_conflicts() ──\n",
      "\u001b[31m✖\u001b[39m \u001b[34mdplyr\u001b[39m::\u001b[32mfilter()\u001b[39m masks \u001b[34mstats\u001b[39m::filter()\n",
      "\u001b[31m✖\u001b[39m \u001b[34mdplyr\u001b[39m::\u001b[32mlag()\u001b[39m    masks \u001b[34mstats\u001b[39m::lag()\n",
      "\u001b[36mℹ\u001b[39m Use the conflicted package (\u001b[3m\u001b[34m<http://conflicted.r-lib.org/>\u001b[39m\u001b[23m) to force all conflicts to become errors\n",
      "Loading required package: tmvtnorm\n",
      "\n",
      "Loading required package: mvtnorm\n",
      "\n",
      "Loading required package: Matrix\n",
      "\n",
      "\n",
      "Attaching package: ‘Matrix’\n",
      "\n",
      "\n",
      "The following objects are masked from ‘package:tidyr’:\n",
      "\n",
      "    expand, pack, unpack\n",
      "\n",
      "\n",
      "Loading required package: stats4\n",
      "\n",
      "Loading required package: gmm\n",
      "\n",
      "Loading required package: sandwich\n",
      "\n",
      "Loading required package: norm\n",
      "\n",
      "This package has some major limitations\n",
      "(for example, it does not work reliably when\n",
      "the number of variables exceeds 30),\n",
      "and has been superseded by the norm2 package.\n",
      "\n",
      "Loading required package: pcaMethods\n",
      "\n",
      "Loading required package: Biobase\n",
      "\n",
      "Loading required package: BiocGenerics\n",
      "\n",
      "\n",
      "Attaching package: ‘BiocGenerics’\n",
      "\n",
      "\n",
      "The following objects are masked from ‘package:lubridate’:\n",
      "\n",
      "    intersect, setdiff, union\n",
      "\n",
      "\n",
      "The following objects are masked from ‘package:dplyr’:\n",
      "\n",
      "    combine, intersect, setdiff, union\n",
      "\n",
      "\n",
      "The following objects are masked from ‘package:stats’:\n",
      "\n",
      "    IQR, mad, sd, var, xtabs\n",
      "\n",
      "\n",
      "The following objects are masked from ‘package:base’:\n",
      "\n",
      "    anyDuplicated, aperm, append, as.data.frame, basename, cbind,\n",
      "    colnames, dirname, do.call, duplicated, eval, evalq, Filter, Find,\n",
      "    get, grep, grepl, intersect, is.unsorted, lapply, Map, mapply,\n",
      "    match, mget, order, paste, pmax, pmax.int, pmin, pmin.int,\n",
      "    Position, rank, rbind, Reduce, rownames, sapply, setdiff, sort,\n",
      "    table, tapply, union, unique, unsplit, which.max, which.min\n",
      "\n",
      "\n",
      "Welcome to Bioconductor\n",
      "\n",
      "    Vignettes contain introductory material; view with\n",
      "    'browseVignettes()'. To cite Bioconductor, see\n",
      "    'citation(\"Biobase\")', and for packages 'citation(\"pkgname\")'.\n",
      "\n",
      "\n",
      "\n",
      "Attaching package: ‘pcaMethods’\n",
      "\n",
      "\n",
      "The following object is masked from ‘package:stats’:\n",
      "\n",
      "    loadings\n",
      "\n",
      "\n",
      "Loading required package: impute\n",
      "\n",
      "Welcome! Want to learn more? See two factoextra-related books at https://goo.gl/ve3WBa\n",
      "\n"
     ]
    }
   ],
   "source": [
    "Output = '/Users/alexis/Library/CloudStorage/OneDrive-UniversityofNorthCarolinaatChapelHill/CEMALB_DataAnalysisPM/Projects/P1015. Fire Sufficient Similarity/P1015.3. Analyses/P1015.3.2. Data Processing/Output'\n",
    "cur_date = '040425'\n",
    "\n",
    "library(missForest)\n",
    "library(readxl)\n",
    "library(openxlsx)\n",
    "library(tidyverse)\n",
    "library(imputeLCMD)\n",
    "library(factoextra)\n",
    "\n",
    "# reading in files\n",
    "ws_df = data.frame(Data = 'WS', read_excel(\"Input/Woodsmoke_Data_012825.xlsx\", sheet = 2)) %>%\n",
    "    select(-Sample_Number)\n",
    "wf_df = data.frame(Data = 'WF', read_excel(\"Input/Wildfire_Data_012825.xlsx\", sheet = 2)) %>%\n",
    "    select(-Sample_Number)\n",
    "control_df = data.frame(read_excel(\"Input/Control_Data_032825.xlsx\", sheet = 2))  %>%\n",
    "    select(-Sample_Number)"
   ]
  },
  {
   "cell_type": "code",
   "execution_count": 2,
   "id": "73a7d5c4-8e2a-4ab5-b13b-046bc35d412e",
   "metadata": {},
   "outputs": [
    {
     "data": {
      "text/html": [
       "<table class=\"dataframe\">\n",
       "<caption>A data.frame: 6 × 9</caption>\n",
       "<thead>\n",
       "\t<tr><th></th><th scope=col>Data</th><th scope=col>HAWC_ID</th><th scope=col>Study</th><th scope=col>Replicate</th><th scope=col>Class</th><th scope=col>Metric</th><th scope=col>DTXSID</th><th scope=col>Name</th><th scope=col>Value</th></tr>\n",
       "\t<tr><th></th><th scope=col>&lt;chr&gt;</th><th scope=col>&lt;dbl&gt;</th><th scope=col>&lt;chr&gt;</th><th scope=col>&lt;dbl&gt;</th><th scope=col>&lt;chr&gt;</th><th scope=col>&lt;chr&gt;</th><th scope=col>&lt;chr&gt;</th><th scope=col>&lt;chr&gt;</th><th scope=col>&lt;chr&gt;</th></tr>\n",
       "</thead>\n",
       "<tbody>\n",
       "\t<tr><th scope=row>1</th><td>WS</td><td> 821855</td><td>Erlandsson et al. 2020  </td><td> 1</td><td>PAH</td><td>Weight</td><td>DTXSID3074787</td><td>1-Methylanthracene</td><td>11.3              </td></tr>\n",
       "\t<tr><th scope=row>2</th><td>WS</td><td> 821855</td><td>Erlandsson et al. 2020  </td><td> 1</td><td>PAH</td><td>Weight</td><td>DTXSID3074787</td><td>1-Methylanthracene</td><td>2.2999999999999998</td></tr>\n",
       "\t<tr><th scope=row>3</th><td>WS</td><td>1257056</td><td>McCarrick et al. 2024   </td><td> 1</td><td>PAH</td><td>Weight</td><td>DTXSID3074787</td><td>1-Methylanthracene</td><td>1.66              </td></tr>\n",
       "\t<tr><th scope=row>4</th><td>WS</td><td> 267140</td><td>Alfheim and Ramdahl 1984</td><td> 1</td><td>PAH</td><td>Volume</td><td>DTXSID3074787</td><td>1-Methylanthracene</td><td>NA                </td></tr>\n",
       "\t<tr><th scope=row>5</th><td>WS</td><td>1263480</td><td>Burnet et al. 1990      </td><td> 1</td><td>PAH</td><td>Volume</td><td>DTXSID3074787</td><td>1-Methylanthracene</td><td>NA                </td></tr>\n",
       "\t<tr><th scope=row>6</th><td>WS</td><td>1263480</td><td>Burnet et al. 1990      </td><td>NA</td><td>PAH</td><td>Volume</td><td>DTXSID3074787</td><td>1-Methylanthracene</td><td>NA                </td></tr>\n",
       "</tbody>\n",
       "</table>\n"
      ],
      "text/latex": [
       "A data.frame: 6 × 9\n",
       "\\begin{tabular}{r|lllllllll}\n",
       "  & Data & HAWC\\_ID & Study & Replicate & Class & Metric & DTXSID & Name & Value\\\\\n",
       "  & <chr> & <dbl> & <chr> & <dbl> & <chr> & <chr> & <chr> & <chr> & <chr>\\\\\n",
       "\\hline\n",
       "\t1 & WS &  821855 & Erlandsson et al. 2020   &  1 & PAH & Weight & DTXSID3074787 & 1-Methylanthracene & 11.3              \\\\\n",
       "\t2 & WS &  821855 & Erlandsson et al. 2020   &  1 & PAH & Weight & DTXSID3074787 & 1-Methylanthracene & 2.2999999999999998\\\\\n",
       "\t3 & WS & 1257056 & McCarrick et al. 2024    &  1 & PAH & Weight & DTXSID3074787 & 1-Methylanthracene & 1.66              \\\\\n",
       "\t4 & WS &  267140 & Alfheim and Ramdahl 1984 &  1 & PAH & Volume & DTXSID3074787 & 1-Methylanthracene & NA                \\\\\n",
       "\t5 & WS & 1263480 & Burnet et al. 1990       &  1 & PAH & Volume & DTXSID3074787 & 1-Methylanthracene & NA                \\\\\n",
       "\t6 & WS & 1263480 & Burnet et al. 1990       & NA & PAH & Volume & DTXSID3074787 & 1-Methylanthracene & NA                \\\\\n",
       "\\end{tabular}\n"
      ],
      "text/markdown": [
       "\n",
       "A data.frame: 6 × 9\n",
       "\n",
       "| <!--/--> | Data &lt;chr&gt; | HAWC_ID &lt;dbl&gt; | Study &lt;chr&gt; | Replicate &lt;dbl&gt; | Class &lt;chr&gt; | Metric &lt;chr&gt; | DTXSID &lt;chr&gt; | Name &lt;chr&gt; | Value &lt;chr&gt; |\n",
       "|---|---|---|---|---|---|---|---|---|---|\n",
       "| 1 | WS |  821855 | Erlandsson et al. 2020   |  1 | PAH | Weight | DTXSID3074787 | 1-Methylanthracene | 11.3               |\n",
       "| 2 | WS |  821855 | Erlandsson et al. 2020   |  1 | PAH | Weight | DTXSID3074787 | 1-Methylanthracene | 2.2999999999999998 |\n",
       "| 3 | WS | 1257056 | McCarrick et al. 2024    |  1 | PAH | Weight | DTXSID3074787 | 1-Methylanthracene | 1.66               |\n",
       "| 4 | WS |  267140 | Alfheim and Ramdahl 1984 |  1 | PAH | Volume | DTXSID3074787 | 1-Methylanthracene | NA                 |\n",
       "| 5 | WS | 1263480 | Burnet et al. 1990       |  1 | PAH | Volume | DTXSID3074787 | 1-Methylanthracene | NA                 |\n",
       "| 6 | WS | 1263480 | Burnet et al. 1990       | NA | PAH | Volume | DTXSID3074787 | 1-Methylanthracene | NA                 |\n",
       "\n"
      ],
      "text/plain": [
       "  Data HAWC_ID Study                    Replicate Class Metric DTXSID       \n",
       "1 WS    821855 Erlandsson et al. 2020    1        PAH   Weight DTXSID3074787\n",
       "2 WS    821855 Erlandsson et al. 2020    1        PAH   Weight DTXSID3074787\n",
       "3 WS   1257056 McCarrick et al. 2024     1        PAH   Weight DTXSID3074787\n",
       "4 WS    267140 Alfheim and Ramdahl 1984  1        PAH   Volume DTXSID3074787\n",
       "5 WS   1263480 Burnet et al. 1990        1        PAH   Volume DTXSID3074787\n",
       "6 WS   1263480 Burnet et al. 1990       NA        PAH   Volume DTXSID3074787\n",
       "  Name               Value             \n",
       "1 1-Methylanthracene 11.3              \n",
       "2 1-Methylanthracene 2.2999999999999998\n",
       "3 1-Methylanthracene 1.66              \n",
       "4 1-Methylanthracene NA                \n",
       "5 1-Methylanthracene NA                \n",
       "6 1-Methylanthracene NA                "
      ]
     },
     "metadata": {},
     "output_type": "display_data"
    },
    {
     "data": {
      "text/html": [
       "<table class=\"dataframe\">\n",
       "<caption>A data.frame: 6 × 9</caption>\n",
       "<thead>\n",
       "\t<tr><th></th><th scope=col>Data</th><th scope=col>HAWC_ID</th><th scope=col>Study</th><th scope=col>Replicate</th><th scope=col>Class</th><th scope=col>Metric</th><th scope=col>DTXSID</th><th scope=col>Name</th><th scope=col>Value</th></tr>\n",
       "\t<tr><th></th><th scope=col>&lt;chr&gt;</th><th scope=col>&lt;dbl&gt;</th><th scope=col>&lt;chr&gt;</th><th scope=col>&lt;dbl&gt;</th><th scope=col>&lt;chr&gt;</th><th scope=col>&lt;chr&gt;</th><th scope=col>&lt;chr&gt;</th><th scope=col>&lt;chr&gt;</th><th scope=col>&lt;chr&gt;</th></tr>\n",
       "</thead>\n",
       "<tbody>\n",
       "\t<tr><th scope=row>1</th><td>WF</td><td>1289821</td><td>Liang et al. 2021   </td><td> 1</td><td>PAH</td><td>Volume</td><td>NA            </td><td>1-(10-methylanthracen-9-yl)ethanone</td><td>5 </td></tr>\n",
       "\t<tr><th scope=row>2</th><td>WF</td><td>1289821</td><td>Liang et al. 2021   </td><td> 1</td><td>PAH</td><td>Volume</td><td>DTXSID50176885</td><td>1-Acenaphthenone                   </td><td>1 </td></tr>\n",
       "\t<tr><th scope=row>3</th><td>WF</td><td>1289737</td><td>Campbell et al. 2024</td><td> 1</td><td>PAH</td><td>Weight</td><td>DTXSID1074759 </td><td>1-Methylchrysene                   </td><td>NA</td></tr>\n",
       "\t<tr><th scope=row>4</th><td>WF</td><td>1289739</td><td>Campos et al. 2019  </td><td> 1</td><td>PAH</td><td>Weight</td><td>DTXSID1074759 </td><td>1-Methylchrysene                   </td><td>NA</td></tr>\n",
       "\t<tr><th scope=row>5</th><td>WF</td><td>1289739</td><td>Campos et al. 2019  </td><td>NA</td><td>PAH</td><td>Weight</td><td>DTXSID1074759 </td><td>1-Methylchrysene                   </td><td>NA</td></tr>\n",
       "\t<tr><th scope=row>6</th><td>WF</td><td>1289739</td><td>Campos et al. 2019  </td><td>NA</td><td>PAH</td><td>Weight</td><td>DTXSID1074759 </td><td>1-Methylchrysene                   </td><td>NA</td></tr>\n",
       "</tbody>\n",
       "</table>\n"
      ],
      "text/latex": [
       "A data.frame: 6 × 9\n",
       "\\begin{tabular}{r|lllllllll}\n",
       "  & Data & HAWC\\_ID & Study & Replicate & Class & Metric & DTXSID & Name & Value\\\\\n",
       "  & <chr> & <dbl> & <chr> & <dbl> & <chr> & <chr> & <chr> & <chr> & <chr>\\\\\n",
       "\\hline\n",
       "\t1 & WF & 1289821 & Liang et al. 2021    &  1 & PAH & Volume & NA             & 1-(10-methylanthracen-9-yl)ethanone & 5 \\\\\n",
       "\t2 & WF & 1289821 & Liang et al. 2021    &  1 & PAH & Volume & DTXSID50176885 & 1-Acenaphthenone                    & 1 \\\\\n",
       "\t3 & WF & 1289737 & Campbell et al. 2024 &  1 & PAH & Weight & DTXSID1074759  & 1-Methylchrysene                    & NA\\\\\n",
       "\t4 & WF & 1289739 & Campos et al. 2019   &  1 & PAH & Weight & DTXSID1074759  & 1-Methylchrysene                    & NA\\\\\n",
       "\t5 & WF & 1289739 & Campos et al. 2019   & NA & PAH & Weight & DTXSID1074759  & 1-Methylchrysene                    & NA\\\\\n",
       "\t6 & WF & 1289739 & Campos et al. 2019   & NA & PAH & Weight & DTXSID1074759  & 1-Methylchrysene                    & NA\\\\\n",
       "\\end{tabular}\n"
      ],
      "text/markdown": [
       "\n",
       "A data.frame: 6 × 9\n",
       "\n",
       "| <!--/--> | Data &lt;chr&gt; | HAWC_ID &lt;dbl&gt; | Study &lt;chr&gt; | Replicate &lt;dbl&gt; | Class &lt;chr&gt; | Metric &lt;chr&gt; | DTXSID &lt;chr&gt; | Name &lt;chr&gt; | Value &lt;chr&gt; |\n",
       "|---|---|---|---|---|---|---|---|---|---|\n",
       "| 1 | WF | 1289821 | Liang et al. 2021    |  1 | PAH | Volume | NA             | 1-(10-methylanthracen-9-yl)ethanone | 5  |\n",
       "| 2 | WF | 1289821 | Liang et al. 2021    |  1 | PAH | Volume | DTXSID50176885 | 1-Acenaphthenone                    | 1  |\n",
       "| 3 | WF | 1289737 | Campbell et al. 2024 |  1 | PAH | Weight | DTXSID1074759  | 1-Methylchrysene                    | NA |\n",
       "| 4 | WF | 1289739 | Campos et al. 2019   |  1 | PAH | Weight | DTXSID1074759  | 1-Methylchrysene                    | NA |\n",
       "| 5 | WF | 1289739 | Campos et al. 2019   | NA | PAH | Weight | DTXSID1074759  | 1-Methylchrysene                    | NA |\n",
       "| 6 | WF | 1289739 | Campos et al. 2019   | NA | PAH | Weight | DTXSID1074759  | 1-Methylchrysene                    | NA |\n",
       "\n"
      ],
      "text/plain": [
       "  Data HAWC_ID Study                Replicate Class Metric DTXSID        \n",
       "1 WF   1289821 Liang et al. 2021     1        PAH   Volume NA            \n",
       "2 WF   1289821 Liang et al. 2021     1        PAH   Volume DTXSID50176885\n",
       "3 WF   1289737 Campbell et al. 2024  1        PAH   Weight DTXSID1074759 \n",
       "4 WF   1289739 Campos et al. 2019    1        PAH   Weight DTXSID1074759 \n",
       "5 WF   1289739 Campos et al. 2019   NA        PAH   Weight DTXSID1074759 \n",
       "6 WF   1289739 Campos et al. 2019   NA        PAH   Weight DTXSID1074759 \n",
       "  Name                                Value\n",
       "1 1-(10-methylanthracen-9-yl)ethanone 5    \n",
       "2 1-Acenaphthenone                    1    \n",
       "3 1-Methylchrysene                    NA   \n",
       "4 1-Methylchrysene                    NA   \n",
       "5 1-Methylchrysene                    NA   \n",
       "6 1-Methylchrysene                    NA   "
      ]
     },
     "metadata": {},
     "output_type": "display_data"
    },
    {
     "data": {
      "text/html": [
       "<table class=\"dataframe\">\n",
       "<caption>A data.frame: 6 × 9</caption>\n",
       "<thead>\n",
       "\t<tr><th></th><th scope=col>Data</th><th scope=col>HAWC_ID</th><th scope=col>Study</th><th scope=col>Replicate</th><th scope=col>Class</th><th scope=col>Metric</th><th scope=col>DTXSID</th><th scope=col>Name</th><th scope=col>Value</th></tr>\n",
       "\t<tr><th></th><th scope=col>&lt;chr&gt;</th><th scope=col>&lt;chr&gt;</th><th scope=col>&lt;chr&gt;</th><th scope=col>&lt;dbl&gt;</th><th scope=col>&lt;chr&gt;</th><th scope=col>&lt;chr&gt;</th><th scope=col>&lt;chr&gt;</th><th scope=col>&lt;chr&gt;</th><th scope=col>&lt;chr&gt;</th></tr>\n",
       "</thead>\n",
       "<tbody>\n",
       "\t<tr><th scope=row>1</th><td>TRAP</td><td>1298357</td><td>Lee at al. 1995</td><td>1</td><td>PAH</td><td>Weight</td><td>DTXSID3021774 </td><td>Acenaphthene        </td><td>71.17  </td></tr>\n",
       "\t<tr><th scope=row>2</th><td>TRAP</td><td>1298357</td><td>Lee at al. 1995</td><td>1</td><td>PAH</td><td>Weight</td><td>DTXSID3023845 </td><td>Acenaphthylene      </td><td>19.63  </td></tr>\n",
       "\t<tr><th scope=row>3</th><td>TRAP</td><td>1298357</td><td>Lee at al. 1995</td><td>1</td><td>PAH</td><td>Weight</td><td>DTXSID5023902 </td><td>Benzo(a)anthracene  </td><td>333.74 </td></tr>\n",
       "\t<tr><th scope=row>4</th><td>TRAP</td><td>1298357</td><td>Lee at al. 1995</td><td>1</td><td>PAH</td><td>Weight</td><td>DTXSID2020139 </td><td>Benzo(a)pyrene      </td><td>1526.38</td></tr>\n",
       "\t<tr><th scope=row>5</th><td>TRAP</td><td>1298357</td><td>Lee at al. 1995</td><td>1</td><td>PAH</td><td>Weight</td><td>DTXSID80175664</td><td>Benzo[b]chrysene    </td><td>988.96 </td></tr>\n",
       "\t<tr><th scope=row>6</th><td>TRAP</td><td>1298357</td><td>Lee at al. 1995</td><td>1</td><td>PAH</td><td>Weight</td><td>DTXSID0023907 </td><td>Benzo(b)fluoranthene</td><td>1334.97</td></tr>\n",
       "</tbody>\n",
       "</table>\n"
      ],
      "text/latex": [
       "A data.frame: 6 × 9\n",
       "\\begin{tabular}{r|lllllllll}\n",
       "  & Data & HAWC\\_ID & Study & Replicate & Class & Metric & DTXSID & Name & Value\\\\\n",
       "  & <chr> & <chr> & <chr> & <dbl> & <chr> & <chr> & <chr> & <chr> & <chr>\\\\\n",
       "\\hline\n",
       "\t1 & TRAP & 1298357 & Lee at al. 1995 & 1 & PAH & Weight & DTXSID3021774  & Acenaphthene         & 71.17  \\\\\n",
       "\t2 & TRAP & 1298357 & Lee at al. 1995 & 1 & PAH & Weight & DTXSID3023845  & Acenaphthylene       & 19.63  \\\\\n",
       "\t3 & TRAP & 1298357 & Lee at al. 1995 & 1 & PAH & Weight & DTXSID5023902  & Benzo(a)anthracene   & 333.74 \\\\\n",
       "\t4 & TRAP & 1298357 & Lee at al. 1995 & 1 & PAH & Weight & DTXSID2020139  & Benzo(a)pyrene       & 1526.38\\\\\n",
       "\t5 & TRAP & 1298357 & Lee at al. 1995 & 1 & PAH & Weight & DTXSID80175664 & Benzo{[}b{]}chrysene     & 988.96 \\\\\n",
       "\t6 & TRAP & 1298357 & Lee at al. 1995 & 1 & PAH & Weight & DTXSID0023907  & Benzo(b)fluoranthene & 1334.97\\\\\n",
       "\\end{tabular}\n"
      ],
      "text/markdown": [
       "\n",
       "A data.frame: 6 × 9\n",
       "\n",
       "| <!--/--> | Data &lt;chr&gt; | HAWC_ID &lt;chr&gt; | Study &lt;chr&gt; | Replicate &lt;dbl&gt; | Class &lt;chr&gt; | Metric &lt;chr&gt; | DTXSID &lt;chr&gt; | Name &lt;chr&gt; | Value &lt;chr&gt; |\n",
       "|---|---|---|---|---|---|---|---|---|---|\n",
       "| 1 | TRAP | 1298357 | Lee at al. 1995 | 1 | PAH | Weight | DTXSID3021774  | Acenaphthene         | 71.17   |\n",
       "| 2 | TRAP | 1298357 | Lee at al. 1995 | 1 | PAH | Weight | DTXSID3023845  | Acenaphthylene       | 19.63   |\n",
       "| 3 | TRAP | 1298357 | Lee at al. 1995 | 1 | PAH | Weight | DTXSID5023902  | Benzo(a)anthracene   | 333.74  |\n",
       "| 4 | TRAP | 1298357 | Lee at al. 1995 | 1 | PAH | Weight | DTXSID2020139  | Benzo(a)pyrene       | 1526.38 |\n",
       "| 5 | TRAP | 1298357 | Lee at al. 1995 | 1 | PAH | Weight | DTXSID80175664 | Benzo[b]chrysene     | 988.96  |\n",
       "| 6 | TRAP | 1298357 | Lee at al. 1995 | 1 | PAH | Weight | DTXSID0023907  | Benzo(b)fluoranthene | 1334.97 |\n",
       "\n"
      ],
      "text/plain": [
       "  Data HAWC_ID Study           Replicate Class Metric DTXSID        \n",
       "1 TRAP 1298357 Lee at al. 1995 1         PAH   Weight DTXSID3021774 \n",
       "2 TRAP 1298357 Lee at al. 1995 1         PAH   Weight DTXSID3023845 \n",
       "3 TRAP 1298357 Lee at al. 1995 1         PAH   Weight DTXSID5023902 \n",
       "4 TRAP 1298357 Lee at al. 1995 1         PAH   Weight DTXSID2020139 \n",
       "5 TRAP 1298357 Lee at al. 1995 1         PAH   Weight DTXSID80175664\n",
       "6 TRAP 1298357 Lee at al. 1995 1         PAH   Weight DTXSID0023907 \n",
       "  Name                 Value  \n",
       "1 Acenaphthene         71.17  \n",
       "2 Acenaphthylene       19.63  \n",
       "3 Benzo(a)anthracene   333.74 \n",
       "4 Benzo(a)pyrene       1526.38\n",
       "5 Benzo[b]chrysene     988.96 \n",
       "6 Benzo(b)fluoranthene 1334.97"
      ]
     },
     "metadata": {},
     "output_type": "display_data"
    }
   ],
   "source": [
    "head(ws_df)\n",
    "head(wf_df)\n",
    "head(control_df)"
   ]
  },
  {
   "cell_type": "code",
   "execution_count": 3,
   "id": "3d546e8e-5cdf-4386-b29b-2ac2938366f9",
   "metadata": {},
   "outputs": [
    {
     "data": {
      "text/html": [
       "<style>\n",
       ".list-inline {list-style: none; margin:0; padding: 0}\n",
       ".list-inline>li {display: inline-block}\n",
       ".list-inline>li:not(:last-child)::after {content: \"\\00b7\"; padding: 0 .5ex}\n",
       "</style>\n",
       "<ol class=list-inline><li>6607</li><li>9</li></ol>\n"
      ],
      "text/latex": [
       "\\begin{enumerate*}\n",
       "\\item 6607\n",
       "\\item 9\n",
       "\\end{enumerate*}\n"
      ],
      "text/markdown": [
       "1. 6607\n",
       "2. 9\n",
       "\n",
       "\n"
      ],
      "text/plain": [
       "[1] 6607    9"
      ]
     },
     "metadata": {},
     "output_type": "display_data"
    },
    {
     "data": {
      "text/html": [
       "<style>\n",
       ".list-inline {list-style: none; margin:0; padding: 0}\n",
       ".list-inline>li {display: inline-block}\n",
       ".list-inline>li:not(:last-child)::after {content: \"\\00b7\"; padding: 0 .5ex}\n",
       "</style>\n",
       "<ol class=list-inline><li>4340</li><li>9</li></ol>\n"
      ],
      "text/latex": [
       "\\begin{enumerate*}\n",
       "\\item 4340\n",
       "\\item 9\n",
       "\\end{enumerate*}\n"
      ],
      "text/markdown": [
       "1. 4340\n",
       "2. 9\n",
       "\n",
       "\n"
      ],
      "text/plain": [
       "[1] 4340    9"
      ]
     },
     "metadata": {},
     "output_type": "display_data"
    },
    {
     "data": {
      "text/html": [
       "<style>\n",
       ".list-inline {list-style: none; margin:0; padding: 0}\n",
       ".list-inline>li {display: inline-block}\n",
       ".list-inline>li:not(:last-child)::after {content: \"\\00b7\"; padding: 0 .5ex}\n",
       "</style>\n",
       "<ol class=list-inline><li>1244</li><li>9</li></ol>\n"
      ],
      "text/latex": [
       "\\begin{enumerate*}\n",
       "\\item 1244\n",
       "\\item 9\n",
       "\\end{enumerate*}\n"
      ],
      "text/markdown": [
       "1. 1244\n",
       "2. 9\n",
       "\n",
       "\n"
      ],
      "text/plain": [
       "[1] 1244    9"
      ]
     },
     "metadata": {},
     "output_type": "display_data"
    }
   ],
   "source": [
    "dim(ws_df)\n",
    "dim(wf_df)\n",
    "dim(control_df)"
   ]
  },
  {
   "cell_type": "markdown",
   "id": "417a92fb-0524-4038-a5ea-08a56f02a955",
   "metadata": {},
   "source": [
    "# Filter #1\n",
    "\n",
    "Removing duplicate records for instances that weren't measured at all (MAR). "
   ]
  },
  {
   "cell_type": "code",
   "execution_count": 4,
   "id": "9eefd1e4-96f4-48a6-933c-9486ab447115",
   "metadata": {
    "scrolled": true
   },
   "outputs": [],
   "source": [
    "`%notin%` <- Negate(`%in%`)\n",
    "\n",
    "ws_df = ws_df %>%\n",
    "    filter(Replicate %notin% NA)\n",
    "wf_df = wf_df %>%\n",
    "    filter(Replicate %notin% NA)\n",
    "control_df = control_df %>%\n",
    "    filter(Replicate %notin% NA)"
   ]
  },
  {
   "cell_type": "code",
   "execution_count": 5,
   "id": "1425c2d3-c1cd-4626-974d-492e320d724e",
   "metadata": {
    "scrolled": true
   },
   "outputs": [
    {
     "data": {
      "text/html": [
       "<style>\n",
       ".list-inline {list-style: none; margin:0; padding: 0}\n",
       ".list-inline>li {display: inline-block}\n",
       ".list-inline>li:not(:last-child)::after {content: \"\\00b7\"; padding: 0 .5ex}\n",
       "</style>\n",
       "<ol class=list-inline><li>4203</li><li>9</li></ol>\n"
      ],
      "text/latex": [
       "\\begin{enumerate*}\n",
       "\\item 4203\n",
       "\\item 9\n",
       "\\end{enumerate*}\n"
      ],
      "text/markdown": [
       "1. 4203\n",
       "2. 9\n",
       "\n",
       "\n"
      ],
      "text/plain": [
       "[1] 4203    9"
      ]
     },
     "metadata": {},
     "output_type": "display_data"
    },
    {
     "data": {
      "text/html": [
       "<style>\n",
       ".list-inline {list-style: none; margin:0; padding: 0}\n",
       ".list-inline>li {display: inline-block}\n",
       ".list-inline>li:not(:last-child)::after {content: \"\\00b7\"; padding: 0 .5ex}\n",
       "</style>\n",
       "<ol class=list-inline><li>2378</li><li>9</li></ol>\n"
      ],
      "text/latex": [
       "\\begin{enumerate*}\n",
       "\\item 2378\n",
       "\\item 9\n",
       "\\end{enumerate*}\n"
      ],
      "text/markdown": [
       "1. 2378\n",
       "2. 9\n",
       "\n",
       "\n"
      ],
      "text/plain": [
       "[1] 2378    9"
      ]
     },
     "metadata": {},
     "output_type": "display_data"
    },
    {
     "data": {
      "text/html": [
       "<style>\n",
       ".list-inline {list-style: none; margin:0; padding: 0}\n",
       ".list-inline>li {display: inline-block}\n",
       ".list-inline>li:not(:last-child)::after {content: \"\\00b7\"; padding: 0 .5ex}\n",
       "</style>\n",
       "<ol class=list-inline><li>1215</li><li>9</li></ol>\n"
      ],
      "text/latex": [
       "\\begin{enumerate*}\n",
       "\\item 1215\n",
       "\\item 9\n",
       "\\end{enumerate*}\n"
      ],
      "text/markdown": [
       "1. 1215\n",
       "2. 9\n",
       "\n",
       "\n"
      ],
      "text/plain": [
       "[1] 1215    9"
      ]
     },
     "metadata": {},
     "output_type": "display_data"
    }
   ],
   "source": [
    "dim(ws_df)\n",
    "dim(wf_df)\n",
    "dim(control_df)"
   ]
  },
  {
   "cell_type": "code",
   "execution_count": 6,
   "id": "d9ba0841-95c0-4dfc-a8de-480550341718",
   "metadata": {},
   "outputs": [
    {
     "data": {
      "text/html": [
       "<table class=\"dataframe\">\n",
       "<caption>A data.frame: 6 × 9</caption>\n",
       "<thead>\n",
       "\t<tr><th></th><th scope=col>Data</th><th scope=col>HAWC_ID</th><th scope=col>Study</th><th scope=col>Replicate</th><th scope=col>Class</th><th scope=col>Metric</th><th scope=col>DTXSID</th><th scope=col>Name</th><th scope=col>Value</th></tr>\n",
       "\t<tr><th></th><th scope=col>&lt;chr&gt;</th><th scope=col>&lt;chr&gt;</th><th scope=col>&lt;chr&gt;</th><th scope=col>&lt;dbl&gt;</th><th scope=col>&lt;chr&gt;</th><th scope=col>&lt;chr&gt;</th><th scope=col>&lt;chr&gt;</th><th scope=col>&lt;chr&gt;</th><th scope=col>&lt;chr&gt;</th></tr>\n",
       "</thead>\n",
       "<tbody>\n",
       "\t<tr><th scope=row>1</th><td>WS</td><td>821855 </td><td>Erlandsson et al. 2020  </td><td>1</td><td>PAH</td><td>Weight</td><td>DTXSID3074787</td><td>1-Methylanthracene</td><td>11.3              </td></tr>\n",
       "\t<tr><th scope=row>2</th><td>WS</td><td>821855 </td><td>Erlandsson et al. 2020  </td><td>1</td><td>PAH</td><td>Weight</td><td>DTXSID3074787</td><td>1-Methylanthracene</td><td>2.2999999999999998</td></tr>\n",
       "\t<tr><th scope=row>3</th><td>WS</td><td>1257056</td><td>McCarrick et al. 2024   </td><td>1</td><td>PAH</td><td>Weight</td><td>DTXSID3074787</td><td>1-Methylanthracene</td><td>1.66              </td></tr>\n",
       "\t<tr><th scope=row>4</th><td>WS</td><td>267140 </td><td>Alfheim and Ramdahl 1984</td><td>1</td><td>PAH</td><td>Volume</td><td>DTXSID3074787</td><td>1-Methylanthracene</td><td>NA                </td></tr>\n",
       "\t<tr><th scope=row>5</th><td>WS</td><td>1263480</td><td>Burnet et al. 1990      </td><td>1</td><td>PAH</td><td>Volume</td><td>DTXSID3074787</td><td>1-Methylanthracene</td><td>NA                </td></tr>\n",
       "\t<tr><th scope=row>6</th><td>WS</td><td>267091 </td><td>Forchhammer et al. 2012 </td><td>1</td><td>PAH</td><td>Volume</td><td>DTXSID3074787</td><td>1-Methylanthracene</td><td>NA                </td></tr>\n",
       "</tbody>\n",
       "</table>\n"
      ],
      "text/latex": [
       "A data.frame: 6 × 9\n",
       "\\begin{tabular}{r|lllllllll}\n",
       "  & Data & HAWC\\_ID & Study & Replicate & Class & Metric & DTXSID & Name & Value\\\\\n",
       "  & <chr> & <chr> & <chr> & <dbl> & <chr> & <chr> & <chr> & <chr> & <chr>\\\\\n",
       "\\hline\n",
       "\t1 & WS & 821855  & Erlandsson et al. 2020   & 1 & PAH & Weight & DTXSID3074787 & 1-Methylanthracene & 11.3              \\\\\n",
       "\t2 & WS & 821855  & Erlandsson et al. 2020   & 1 & PAH & Weight & DTXSID3074787 & 1-Methylanthracene & 2.2999999999999998\\\\\n",
       "\t3 & WS & 1257056 & McCarrick et al. 2024    & 1 & PAH & Weight & DTXSID3074787 & 1-Methylanthracene & 1.66              \\\\\n",
       "\t4 & WS & 267140  & Alfheim and Ramdahl 1984 & 1 & PAH & Volume & DTXSID3074787 & 1-Methylanthracene & NA                \\\\\n",
       "\t5 & WS & 1263480 & Burnet et al. 1990       & 1 & PAH & Volume & DTXSID3074787 & 1-Methylanthracene & NA                \\\\\n",
       "\t6 & WS & 267091  & Forchhammer et al. 2012  & 1 & PAH & Volume & DTXSID3074787 & 1-Methylanthracene & NA                \\\\\n",
       "\\end{tabular}\n"
      ],
      "text/markdown": [
       "\n",
       "A data.frame: 6 × 9\n",
       "\n",
       "| <!--/--> | Data &lt;chr&gt; | HAWC_ID &lt;chr&gt; | Study &lt;chr&gt; | Replicate &lt;dbl&gt; | Class &lt;chr&gt; | Metric &lt;chr&gt; | DTXSID &lt;chr&gt; | Name &lt;chr&gt; | Value &lt;chr&gt; |\n",
       "|---|---|---|---|---|---|---|---|---|---|\n",
       "| 1 | WS | 821855  | Erlandsson et al. 2020   | 1 | PAH | Weight | DTXSID3074787 | 1-Methylanthracene | 11.3               |\n",
       "| 2 | WS | 821855  | Erlandsson et al. 2020   | 1 | PAH | Weight | DTXSID3074787 | 1-Methylanthracene | 2.2999999999999998 |\n",
       "| 3 | WS | 1257056 | McCarrick et al. 2024    | 1 | PAH | Weight | DTXSID3074787 | 1-Methylanthracene | 1.66               |\n",
       "| 4 | WS | 267140  | Alfheim and Ramdahl 1984 | 1 | PAH | Volume | DTXSID3074787 | 1-Methylanthracene | NA                 |\n",
       "| 5 | WS | 1263480 | Burnet et al. 1990       | 1 | PAH | Volume | DTXSID3074787 | 1-Methylanthracene | NA                 |\n",
       "| 6 | WS | 267091  | Forchhammer et al. 2012  | 1 | PAH | Volume | DTXSID3074787 | 1-Methylanthracene | NA                 |\n",
       "\n"
      ],
      "text/plain": [
       "  Data HAWC_ID Study                    Replicate Class Metric DTXSID       \n",
       "1 WS   821855  Erlandsson et al. 2020   1         PAH   Weight DTXSID3074787\n",
       "2 WS   821855  Erlandsson et al. 2020   1         PAH   Weight DTXSID3074787\n",
       "3 WS   1257056 McCarrick et al. 2024    1         PAH   Weight DTXSID3074787\n",
       "4 WS   267140  Alfheim and Ramdahl 1984 1         PAH   Volume DTXSID3074787\n",
       "5 WS   1263480 Burnet et al. 1990       1         PAH   Volume DTXSID3074787\n",
       "6 WS   267091  Forchhammer et al. 2012  1         PAH   Volume DTXSID3074787\n",
       "  Name               Value             \n",
       "1 1-Methylanthracene 11.3              \n",
       "2 1-Methylanthracene 2.2999999999999998\n",
       "3 1-Methylanthracene 1.66              \n",
       "4 1-Methylanthracene NA                \n",
       "5 1-Methylanthracene NA                \n",
       "6 1-Methylanthracene NA                "
      ]
     },
     "metadata": {},
     "output_type": "display_data"
    }
   ],
   "source": [
    "# combining dfs\n",
    "combined_df = rbind(ws_df, wf_df, control_df)\n",
    "head(combined_df)"
   ]
  },
  {
   "cell_type": "code",
   "execution_count": 7,
   "id": "6bcf9a9c-639c-46ca-9806-dcb9246095f1",
   "metadata": {},
   "outputs": [
    {
     "data": {
      "text/html": [
       "228"
      ],
      "text/latex": [
       "228"
      ],
      "text/markdown": [
       "228"
      ],
      "text/plain": [
       "[1] 228"
      ]
     },
     "metadata": {},
     "output_type": "display_data"
    },
    {
     "data": {
      "text/html": [
       "137"
      ],
      "text/latex": [
       "137"
      ],
      "text/markdown": [
       "137"
      ],
      "text/plain": [
       "[1] 137"
      ]
     },
     "metadata": {},
     "output_type": "display_data"
    },
    {
     "data": {
      "text/html": [
       "138"
      ],
      "text/latex": [
       "138"
      ],
      "text/markdown": [
       "138"
      ],
      "text/plain": [
       "[1] 138"
      ]
     },
     "metadata": {},
     "output_type": "display_data"
    },
    {
     "data": {
      "text/html": [
       "127"
      ],
      "text/latex": [
       "127"
      ],
      "text/markdown": [
       "127"
      ],
      "text/plain": [
       "[1] 127"
      ]
     },
     "metadata": {},
     "output_type": "display_data"
    }
   ],
   "source": [
    "length(unique(combined_df$Name))\n",
    "length(unique(ws_df$Name))\n",
    "length(unique(wf_df$Name))\n",
    "length(unique(control_df$Name))"
   ]
  },
  {
   "attachments": {},
   "cell_type": "markdown",
   "id": "d12ab21b-9ebd-4e1f-8bb3-f9c23e764ea5",
   "metadata": {},
   "source": [
    "228 unique metals/chemicals total.\n",
    "\n",
    "# Filter #2: Chemical/Metal Background Filters\n",
    "\n",
    "Determining what variables have missing data for all variables delineated based on the dfs the data will be split into and analyzed. \n",
    "\n",
    "A variable (ie. `Name` which represents a chemical or metal) will be retained if >= 50% of its experimental data points were measurable values. In other words, chemicals were excluded if they were NAs (not evaluated) or had non-detect values across < 50% of the samples."
   ]
  },
  {
   "cell_type": "code",
   "execution_count": 8,
   "id": "59c471fe-1657-4356-8ed6-35a8b6244188",
   "metadata": {},
   "outputs": [
    {
     "data": {
      "text/html": [
       "<table class=\"dataframe\">\n",
       "<caption>A tibble: 6 × 5</caption>\n",
       "<thead>\n",
       "\t<tr><th scope=col>Metric</th><th scope=col>Class</th><th scope=col>Data</th><th scope=col>Name</th><th scope=col>Variable_Presence_Percentage</th></tr>\n",
       "\t<tr><th scope=col>&lt;chr&gt;</th><th scope=col>&lt;chr&gt;</th><th scope=col>&lt;chr&gt;</th><th scope=col>&lt;chr&gt;</th><th scope=col>&lt;dbl&gt;</th></tr>\n",
       "</thead>\n",
       "<tbody>\n",
       "\t<tr><td>Volume</td><td>Metal</td><td>Diesel</td><td>1,2,4-Trimethylbenzene</td><td>100</td></tr>\n",
       "\t<tr><td>Volume</td><td>Metal</td><td>Diesel</td><td>1-Hexene              </td><td>100</td></tr>\n",
       "\t<tr><td>Volume</td><td>Metal</td><td>Diesel</td><td>2-Butanone            </td><td>100</td></tr>\n",
       "\t<tr><td>Volume</td><td>Metal</td><td>Diesel</td><td>Al                    </td><td>100</td></tr>\n",
       "\t<tr><td>Volume</td><td>Metal</td><td>Diesel</td><td>As                    </td><td>100</td></tr>\n",
       "\t<tr><td>Volume</td><td>Metal</td><td>Diesel</td><td>Benzene               </td><td>100</td></tr>\n",
       "</tbody>\n",
       "</table>\n"
      ],
      "text/latex": [
       "A tibble: 6 × 5\n",
       "\\begin{tabular}{lllll}\n",
       " Metric & Class & Data & Name & Variable\\_Presence\\_Percentage\\\\\n",
       " <chr> & <chr> & <chr> & <chr> & <dbl>\\\\\n",
       "\\hline\n",
       "\t Volume & Metal & Diesel & 1,2,4-Trimethylbenzene & 100\\\\\n",
       "\t Volume & Metal & Diesel & 1-Hexene               & 100\\\\\n",
       "\t Volume & Metal & Diesel & 2-Butanone             & 100\\\\\n",
       "\t Volume & Metal & Diesel & Al                     & 100\\\\\n",
       "\t Volume & Metal & Diesel & As                     & 100\\\\\n",
       "\t Volume & Metal & Diesel & Benzene                & 100\\\\\n",
       "\\end{tabular}\n"
      ],
      "text/markdown": [
       "\n",
       "A tibble: 6 × 5\n",
       "\n",
       "| Metric &lt;chr&gt; | Class &lt;chr&gt; | Data &lt;chr&gt; | Name &lt;chr&gt; | Variable_Presence_Percentage &lt;dbl&gt; |\n",
       "|---|---|---|---|---|\n",
       "| Volume | Metal | Diesel | 1,2,4-Trimethylbenzene | 100 |\n",
       "| Volume | Metal | Diesel | 1-Hexene               | 100 |\n",
       "| Volume | Metal | Diesel | 2-Butanone             | 100 |\n",
       "| Volume | Metal | Diesel | Al                     | 100 |\n",
       "| Volume | Metal | Diesel | As                     | 100 |\n",
       "| Volume | Metal | Diesel | Benzene                | 100 |\n",
       "\n"
      ],
      "text/plain": [
       "  Metric Class Data   Name                   Variable_Presence_Percentage\n",
       "1 Volume Metal Diesel 1,2,4-Trimethylbenzene 100                         \n",
       "2 Volume Metal Diesel 1-Hexene               100                         \n",
       "3 Volume Metal Diesel 2-Butanone             100                         \n",
       "4 Volume Metal Diesel Al                     100                         \n",
       "5 Volume Metal Diesel As                     100                         \n",
       "6 Volume Metal Diesel Benzene                100                         "
      ]
     },
     "metadata": {},
     "output_type": "display_data"
    }
   ],
   "source": [
    "sample_type_presence_df = combined_df %>%\n",
    "    # if an experimental value is there count it as being \"present\"\n",
    "    mutate(count = ifelse(Value %notin% c('NA', 'ND'), 1, 0)) %>%\n",
    "    # determining which have at least 50% experimental values for each chemical/metal\n",
    "    group_by(Metric, Class, Data, Name) %>%\n",
    "    # calculating the percentage of experimental data points\n",
    "    reframe(Variable_Presence_Percentage = (sum(count)/n()) * 100) %>%\n",
    "    filter(Variable_Presence_Percentage >= 50) \n",
    "\n",
    "head(sample_type_presence_df)"
   ]
  },
  {
   "cell_type": "code",
   "execution_count": 9,
   "id": "e9e0b6d6-d46b-4f37-81e9-f71cbf5eaefd",
   "metadata": {},
   "outputs": [
    {
     "name": "stderr",
     "output_type": "stream",
     "text": [
      "\u001b[1m\u001b[22mJoining with `by = join_by(Metric, Class, Data, Name)`\n"
     ]
    },
    {
     "data": {
      "text/html": [
       "<table class=\"dataframe\">\n",
       "<caption>A tibble: 6 × 9</caption>\n",
       "<thead>\n",
       "\t<tr><th scope=col>Metric</th><th scope=col>Class</th><th scope=col>Data</th><th scope=col>Name</th><th scope=col>HAWC_ID</th><th scope=col>Study</th><th scope=col>Replicate</th><th scope=col>DTXSID</th><th scope=col>Value</th></tr>\n",
       "\t<tr><th scope=col>&lt;chr&gt;</th><th scope=col>&lt;chr&gt;</th><th scope=col>&lt;chr&gt;</th><th scope=col>&lt;chr&gt;</th><th scope=col>&lt;chr&gt;</th><th scope=col>&lt;chr&gt;</th><th scope=col>&lt;dbl&gt;</th><th scope=col>&lt;chr&gt;</th><th scope=col>&lt;chr&gt;</th></tr>\n",
       "</thead>\n",
       "<tbody>\n",
       "\t<tr><td>Volume</td><td>Metal</td><td>Diesel</td><td>1,2,4-Trimethylbenzene</td><td>1298372</td><td>Smits et al. 2012</td><td>1</td><td>DTXSID6021402</td><td>2269000</td></tr>\n",
       "\t<tr><td>Volume</td><td>Metal</td><td>Diesel</td><td>1,2,4-Trimethylbenzene</td><td>1298353</td><td>Huang et al. 2020</td><td>1</td><td>DTXSID6021402</td><td>70000  </td></tr>\n",
       "\t<tr><td>Volume</td><td>Metal</td><td>Diesel</td><td>1-Hexene              </td><td>1298372</td><td>Smits et al. 2012</td><td>1</td><td>DTXSID4025402</td><td>3904000</td></tr>\n",
       "\t<tr><td>Volume</td><td>Metal</td><td>Diesel</td><td>1-Hexene              </td><td>1298353</td><td>Huang et al. 2020</td><td>1</td><td>DTXSID4025402</td><td>74000  </td></tr>\n",
       "\t<tr><td>Volume</td><td>Metal</td><td>Diesel</td><td>2-Butanone            </td><td>1298372</td><td>Smits et al. 2012</td><td>1</td><td>DTXSID3021516</td><td>1676000</td></tr>\n",
       "\t<tr><td>Volume</td><td>Metal</td><td>Diesel</td><td>2-Butanone            </td><td>1298353</td><td>Huang et al. 2020</td><td>1</td><td>DTXSID3021516</td><td>208000 </td></tr>\n",
       "</tbody>\n",
       "</table>\n"
      ],
      "text/latex": [
       "A tibble: 6 × 9\n",
       "\\begin{tabular}{lllllllll}\n",
       " Metric & Class & Data & Name & HAWC\\_ID & Study & Replicate & DTXSID & Value\\\\\n",
       " <chr> & <chr> & <chr> & <chr> & <chr> & <chr> & <dbl> & <chr> & <chr>\\\\\n",
       "\\hline\n",
       "\t Volume & Metal & Diesel & 1,2,4-Trimethylbenzene & 1298372 & Smits et al. 2012 & 1 & DTXSID6021402 & 2269000\\\\\n",
       "\t Volume & Metal & Diesel & 1,2,4-Trimethylbenzene & 1298353 & Huang et al. 2020 & 1 & DTXSID6021402 & 70000  \\\\\n",
       "\t Volume & Metal & Diesel & 1-Hexene               & 1298372 & Smits et al. 2012 & 1 & DTXSID4025402 & 3904000\\\\\n",
       "\t Volume & Metal & Diesel & 1-Hexene               & 1298353 & Huang et al. 2020 & 1 & DTXSID4025402 & 74000  \\\\\n",
       "\t Volume & Metal & Diesel & 2-Butanone             & 1298372 & Smits et al. 2012 & 1 & DTXSID3021516 & 1676000\\\\\n",
       "\t Volume & Metal & Diesel & 2-Butanone             & 1298353 & Huang et al. 2020 & 1 & DTXSID3021516 & 208000 \\\\\n",
       "\\end{tabular}\n"
      ],
      "text/markdown": [
       "\n",
       "A tibble: 6 × 9\n",
       "\n",
       "| Metric &lt;chr&gt; | Class &lt;chr&gt; | Data &lt;chr&gt; | Name &lt;chr&gt; | HAWC_ID &lt;chr&gt; | Study &lt;chr&gt; | Replicate &lt;dbl&gt; | DTXSID &lt;chr&gt; | Value &lt;chr&gt; |\n",
       "|---|---|---|---|---|---|---|---|---|\n",
       "| Volume | Metal | Diesel | 1,2,4-Trimethylbenzene | 1298372 | Smits et al. 2012 | 1 | DTXSID6021402 | 2269000 |\n",
       "| Volume | Metal | Diesel | 1,2,4-Trimethylbenzene | 1298353 | Huang et al. 2020 | 1 | DTXSID6021402 | 70000   |\n",
       "| Volume | Metal | Diesel | 1-Hexene               | 1298372 | Smits et al. 2012 | 1 | DTXSID4025402 | 3904000 |\n",
       "| Volume | Metal | Diesel | 1-Hexene               | 1298353 | Huang et al. 2020 | 1 | DTXSID4025402 | 74000   |\n",
       "| Volume | Metal | Diesel | 2-Butanone             | 1298372 | Smits et al. 2012 | 1 | DTXSID3021516 | 1676000 |\n",
       "| Volume | Metal | Diesel | 2-Butanone             | 1298353 | Huang et al. 2020 | 1 | DTXSID3021516 | 208000  |\n",
       "\n"
      ],
      "text/plain": [
       "  Metric Class Data   Name                   HAWC_ID Study            \n",
       "1 Volume Metal Diesel 1,2,4-Trimethylbenzene 1298372 Smits et al. 2012\n",
       "2 Volume Metal Diesel 1,2,4-Trimethylbenzene 1298353 Huang et al. 2020\n",
       "3 Volume Metal Diesel 1-Hexene               1298372 Smits et al. 2012\n",
       "4 Volume Metal Diesel 1-Hexene               1298353 Huang et al. 2020\n",
       "5 Volume Metal Diesel 2-Butanone             1298372 Smits et al. 2012\n",
       "6 Volume Metal Diesel 2-Butanone             1298353 Huang et al. 2020\n",
       "  Replicate DTXSID        Value  \n",
       "1 1         DTXSID6021402 2269000\n",
       "2 1         DTXSID6021402 70000  \n",
       "3 1         DTXSID4025402 3904000\n",
       "4 1         DTXSID4025402 74000  \n",
       "5 1         DTXSID3021516 1676000\n",
       "6 1         DTXSID3021516 208000 "
      ]
     },
     "metadata": {},
     "output_type": "display_data"
    }
   ],
   "source": [
    "# filtering the original df\n",
    "filter1_df = inner_join(sample_type_presence_df[,1:4], combined_df) %>%\n",
    "    # metals don't have a DTXSID, so making that col their name\n",
    "    mutate(DTXSID = ifelse(DTXSID != 'NA', DTXSID, Name)) \n",
    "\n",
    "head(filter1_df)"
   ]
  },
  {
   "cell_type": "code",
   "execution_count": 10,
   "id": "326df55e-15f1-4704-969d-2e19d7cf54fd",
   "metadata": {},
   "outputs": [
    {
     "data": {
      "text/html": [
       "<style>\n",
       ".list-inline {list-style: none; margin:0; padding: 0}\n",
       ".list-inline>li {display: inline-block}\n",
       ".list-inline>li:not(:last-child)::after {content: \"\\00b7\"; padding: 0 .5ex}\n",
       "</style>\n",
       "<ol class=list-inline><li>7796</li><li>9</li></ol>\n"
      ],
      "text/latex": [
       "\\begin{enumerate*}\n",
       "\\item 7796\n",
       "\\item 9\n",
       "\\end{enumerate*}\n"
      ],
      "text/markdown": [
       "1. 7796\n",
       "2. 9\n",
       "\n",
       "\n"
      ],
      "text/plain": [
       "[1] 7796    9"
      ]
     },
     "metadata": {},
     "output_type": "display_data"
    },
    {
     "data": {
      "text/html": [
       "<style>\n",
       ".list-inline {list-style: none; margin:0; padding: 0}\n",
       ".list-inline>li {display: inline-block}\n",
       ".list-inline>li:not(:last-child)::after {content: \"\\00b7\"; padding: 0 .5ex}\n",
       "</style>\n",
       "<ol class=list-inline><li>5335</li><li>9</li></ol>\n"
      ],
      "text/latex": [
       "\\begin{enumerate*}\n",
       "\\item 5335\n",
       "\\item 9\n",
       "\\end{enumerate*}\n"
      ],
      "text/markdown": [
       "1. 5335\n",
       "2. 9\n",
       "\n",
       "\n"
      ],
      "text/plain": [
       "[1] 5335    9"
      ]
     },
     "metadata": {},
     "output_type": "display_data"
    }
   ],
   "source": [
    "dim(combined_df)\n",
    "dim(filter1_df)"
   ]
  },
  {
   "cell_type": "markdown",
   "id": "744bb359-5b56-4821-8613-66bfaf0a2271",
   "metadata": {},
   "source": [
    "Started with 7796 records, 2461 were removed, leaving 5335. \n",
    "\n",
    "# Filter 3: Study Background Filter\n",
    "\n",
    "A study will be retained if >= 50% of its experimental data points were measurable values. In other words, chemicals were excluded if they were NAs (not evaluated) or had non-detect values across < 50% of the samples."
   ]
  },
  {
   "cell_type": "code",
   "execution_count": 11,
   "id": "24e392b1-550e-4cb4-a5a7-012731dc5b3f",
   "metadata": {},
   "outputs": [
    {
     "data": {
      "text/html": [
       "<table class=\"dataframe\">\n",
       "<caption>A tibble: 6 × 4</caption>\n",
       "<thead>\n",
       "\t<tr><th scope=col>Metric</th><th scope=col>Class</th><th scope=col>HAWC_ID</th><th scope=col>Study_Presence_Percentage</th></tr>\n",
       "\t<tr><th scope=col>&lt;chr&gt;</th><th scope=col>&lt;chr&gt;</th><th scope=col>&lt;chr&gt;</th><th scope=col>&lt;dbl&gt;</th></tr>\n",
       "</thead>\n",
       "<tbody>\n",
       "\t<tr><td>Volume</td><td>Metal</td><td>1070627</td><td>100</td></tr>\n",
       "\t<tr><td>Volume</td><td>Metal</td><td>1263480</td><td>100</td></tr>\n",
       "\t<tr><td>Volume</td><td>Metal</td><td>1263484</td><td>100</td></tr>\n",
       "\t<tr><td>Volume</td><td>Metal</td><td>1289878</td><td>100</td></tr>\n",
       "\t<tr><td>Volume</td><td>Metal</td><td>1289884</td><td>100</td></tr>\n",
       "\t<tr><td>Volume</td><td>Metal</td><td>1289885</td><td>100</td></tr>\n",
       "</tbody>\n",
       "</table>\n"
      ],
      "text/latex": [
       "A tibble: 6 × 4\n",
       "\\begin{tabular}{llll}\n",
       " Metric & Class & HAWC\\_ID & Study\\_Presence\\_Percentage\\\\\n",
       " <chr> & <chr> & <chr> & <dbl>\\\\\n",
       "\\hline\n",
       "\t Volume & Metal & 1070627 & 100\\\\\n",
       "\t Volume & Metal & 1263480 & 100\\\\\n",
       "\t Volume & Metal & 1263484 & 100\\\\\n",
       "\t Volume & Metal & 1289878 & 100\\\\\n",
       "\t Volume & Metal & 1289884 & 100\\\\\n",
       "\t Volume & Metal & 1289885 & 100\\\\\n",
       "\\end{tabular}\n"
      ],
      "text/markdown": [
       "\n",
       "A tibble: 6 × 4\n",
       "\n",
       "| Metric &lt;chr&gt; | Class &lt;chr&gt; | HAWC_ID &lt;chr&gt; | Study_Presence_Percentage &lt;dbl&gt; |\n",
       "|---|---|---|---|\n",
       "| Volume | Metal | 1070627 | 100 |\n",
       "| Volume | Metal | 1263480 | 100 |\n",
       "| Volume | Metal | 1263484 | 100 |\n",
       "| Volume | Metal | 1289878 | 100 |\n",
       "| Volume | Metal | 1289884 | 100 |\n",
       "| Volume | Metal | 1289885 | 100 |\n",
       "\n"
      ],
      "text/plain": [
       "  Metric Class HAWC_ID Study_Presence_Percentage\n",
       "1 Volume Metal 1070627 100                      \n",
       "2 Volume Metal 1263480 100                      \n",
       "3 Volume Metal 1263484 100                      \n",
       "4 Volume Metal 1289878 100                      \n",
       "5 Volume Metal 1289884 100                      \n",
       "6 Volume Metal 1289885 100                      "
      ]
     },
     "metadata": {},
     "output_type": "display_data"
    }
   ],
   "source": [
    "study_type_presence_df = filter1_df %>%\n",
    "    # if an experimental value is there count it as being \"present\"\n",
    "    mutate(count = ifelse(Value %notin% c('NA', 'ND'), 1, 0)) %>%\n",
    "    # determining which have at least 50% experimental values for each chemical/metal\n",
    "    group_by(Metric, Class, HAWC_ID) %>%\n",
    "    # calculating the percentage of experimental data points\n",
    "    reframe(Study_Presence_Percentage = (sum(count)/n()) * 100) %>%\n",
    "    filter(Study_Presence_Percentage >= 50) \n",
    "\n",
    "head(study_type_presence_df)"
   ]
  },
  {
   "cell_type": "code",
   "execution_count": 12,
   "id": "f0593ecb-fe86-49e3-ad96-51ef9d47d27c",
   "metadata": {},
   "outputs": [
    {
     "name": "stderr",
     "output_type": "stream",
     "text": [
      "\u001b[1m\u001b[22mJoining with `by = join_by(Metric, Class, HAWC_ID)`\n"
     ]
    },
    {
     "data": {
      "text/html": [
       "<table class=\"dataframe\">\n",
       "<caption>A tibble: 6 × 9</caption>\n",
       "<thead>\n",
       "\t<tr><th scope=col>Metric</th><th scope=col>Class</th><th scope=col>HAWC_ID</th><th scope=col>Data</th><th scope=col>Name</th><th scope=col>Study</th><th scope=col>Replicate</th><th scope=col>DTXSID</th><th scope=col>Value</th></tr>\n",
       "\t<tr><th scope=col>&lt;chr&gt;</th><th scope=col>&lt;chr&gt;</th><th scope=col>&lt;chr&gt;</th><th scope=col>&lt;chr&gt;</th><th scope=col>&lt;chr&gt;</th><th scope=col>&lt;chr&gt;</th><th scope=col>&lt;dbl&gt;</th><th scope=col>&lt;chr&gt;</th><th scope=col>&lt;chr&gt;</th></tr>\n",
       "</thead>\n",
       "<tbody>\n",
       "\t<tr><td>Volume</td><td>Metal</td><td>1070627</td><td>WF</td><td>As</td><td>Siregar et al. 2022</td><td>1</td><td>As</td><td>2.2999999999999998</td></tr>\n",
       "\t<tr><td>Volume</td><td>Metal</td><td>1070627</td><td>WF</td><td>As</td><td>Siregar et al. 2022</td><td>2</td><td>As</td><td>0.8               </td></tr>\n",
       "\t<tr><td>Volume</td><td>Metal</td><td>1070627</td><td>WF</td><td>Ca</td><td>Siregar et al. 2022</td><td>1</td><td>Ca</td><td>1370.1            </td></tr>\n",
       "\t<tr><td>Volume</td><td>Metal</td><td>1070627</td><td>WF</td><td>Ca</td><td>Siregar et al. 2022</td><td>2</td><td>Ca</td><td>595.20000000000005</td></tr>\n",
       "\t<tr><td>Volume</td><td>Metal</td><td>1070627</td><td>WF</td><td>Cd</td><td>Siregar et al. 2022</td><td>1</td><td>Cd</td><td>8.8000000000000007</td></tr>\n",
       "\t<tr><td>Volume</td><td>Metal</td><td>1070627</td><td>WF</td><td>Cd</td><td>Siregar et al. 2022</td><td>2</td><td>Cd</td><td>2.1               </td></tr>\n",
       "</tbody>\n",
       "</table>\n"
      ],
      "text/latex": [
       "A tibble: 6 × 9\n",
       "\\begin{tabular}{lllllllll}\n",
       " Metric & Class & HAWC\\_ID & Data & Name & Study & Replicate & DTXSID & Value\\\\\n",
       " <chr> & <chr> & <chr> & <chr> & <chr> & <chr> & <dbl> & <chr> & <chr>\\\\\n",
       "\\hline\n",
       "\t Volume & Metal & 1070627 & WF & As & Siregar et al. 2022 & 1 & As & 2.2999999999999998\\\\\n",
       "\t Volume & Metal & 1070627 & WF & As & Siregar et al. 2022 & 2 & As & 0.8               \\\\\n",
       "\t Volume & Metal & 1070627 & WF & Ca & Siregar et al. 2022 & 1 & Ca & 1370.1            \\\\\n",
       "\t Volume & Metal & 1070627 & WF & Ca & Siregar et al. 2022 & 2 & Ca & 595.20000000000005\\\\\n",
       "\t Volume & Metal & 1070627 & WF & Cd & Siregar et al. 2022 & 1 & Cd & 8.8000000000000007\\\\\n",
       "\t Volume & Metal & 1070627 & WF & Cd & Siregar et al. 2022 & 2 & Cd & 2.1               \\\\\n",
       "\\end{tabular}\n"
      ],
      "text/markdown": [
       "\n",
       "A tibble: 6 × 9\n",
       "\n",
       "| Metric &lt;chr&gt; | Class &lt;chr&gt; | HAWC_ID &lt;chr&gt; | Data &lt;chr&gt; | Name &lt;chr&gt; | Study &lt;chr&gt; | Replicate &lt;dbl&gt; | DTXSID &lt;chr&gt; | Value &lt;chr&gt; |\n",
       "|---|---|---|---|---|---|---|---|---|\n",
       "| Volume | Metal | 1070627 | WF | As | Siregar et al. 2022 | 1 | As | 2.2999999999999998 |\n",
       "| Volume | Metal | 1070627 | WF | As | Siregar et al. 2022 | 2 | As | 0.8                |\n",
       "| Volume | Metal | 1070627 | WF | Ca | Siregar et al. 2022 | 1 | Ca | 1370.1             |\n",
       "| Volume | Metal | 1070627 | WF | Ca | Siregar et al. 2022 | 2 | Ca | 595.20000000000005 |\n",
       "| Volume | Metal | 1070627 | WF | Cd | Siregar et al. 2022 | 1 | Cd | 8.8000000000000007 |\n",
       "| Volume | Metal | 1070627 | WF | Cd | Siregar et al. 2022 | 2 | Cd | 2.1                |\n",
       "\n"
      ],
      "text/plain": [
       "  Metric Class HAWC_ID Data Name Study               Replicate DTXSID\n",
       "1 Volume Metal 1070627 WF   As   Siregar et al. 2022 1         As    \n",
       "2 Volume Metal 1070627 WF   As   Siregar et al. 2022 2         As    \n",
       "3 Volume Metal 1070627 WF   Ca   Siregar et al. 2022 1         Ca    \n",
       "4 Volume Metal 1070627 WF   Ca   Siregar et al. 2022 2         Ca    \n",
       "5 Volume Metal 1070627 WF   Cd   Siregar et al. 2022 1         Cd    \n",
       "6 Volume Metal 1070627 WF   Cd   Siregar et al. 2022 2         Cd    \n",
       "  Value             \n",
       "1 2.2999999999999998\n",
       "2 0.8               \n",
       "3 1370.1            \n",
       "4 595.20000000000005\n",
       "5 8.8000000000000007\n",
       "6 2.1               "
      ]
     },
     "metadata": {},
     "output_type": "display_data"
    }
   ],
   "source": [
    "filter2_df = inner_join(study_type_presence_df[,1:3], filter1_df)\n",
    "\n",
    "head(filter2_df)"
   ]
  },
  {
   "cell_type": "code",
   "execution_count": 13,
   "id": "b5090a5d-09e8-4f61-a732-6d338c340e90",
   "metadata": {},
   "outputs": [
    {
     "data": {
      "text/html": [
       "<style>\n",
       ".list-inline {list-style: none; margin:0; padding: 0}\n",
       ".list-inline>li {display: inline-block}\n",
       ".list-inline>li:not(:last-child)::after {content: \"\\00b7\"; padding: 0 .5ex}\n",
       "</style>\n",
       "<ol class=list-inline><li>5335</li><li>9</li></ol>\n"
      ],
      "text/latex": [
       "\\begin{enumerate*}\n",
       "\\item 5335\n",
       "\\item 9\n",
       "\\end{enumerate*}\n"
      ],
      "text/markdown": [
       "1. 5335\n",
       "2. 9\n",
       "\n",
       "\n"
      ],
      "text/plain": [
       "[1] 5335    9"
      ]
     },
     "metadata": {},
     "output_type": "display_data"
    },
    {
     "data": {
      "text/html": [
       "<style>\n",
       ".list-inline {list-style: none; margin:0; padding: 0}\n",
       ".list-inline>li {display: inline-block}\n",
       ".list-inline>li:not(:last-child)::after {content: \"\\00b7\"; padding: 0 .5ex}\n",
       "</style>\n",
       "<ol class=list-inline><li>5236</li><li>9</li></ol>\n"
      ],
      "text/latex": [
       "\\begin{enumerate*}\n",
       "\\item 5236\n",
       "\\item 9\n",
       "\\end{enumerate*}\n"
      ],
      "text/markdown": [
       "1. 5236\n",
       "2. 9\n",
       "\n",
       "\n"
      ],
      "text/plain": [
       "[1] 5236    9"
      ]
     },
     "metadata": {},
     "output_type": "display_data"
    }
   ],
   "source": [
    "dim(filter1_df)\n",
    "dim(filter2_df)"
   ]
  },
  {
   "cell_type": "markdown",
   "id": "f1a9197d-f07d-4082-97d0-4c15b3649530",
   "metadata": {},
   "source": [
    "299 more records were removed.\n",
    "\n",
    "# Filter #3: Retaining Metals/or Chemicals that are Present in all Samples\n",
    "\n",
    "Variables (ie. metal or chemical) will be split based on their `Metric` (ie. volume or weight) and then retained if that variable is found in both woodsmoke, wildfire, and control samples within volume or weight samples.REWORD!!"
   ]
  },
  {
   "cell_type": "code",
   "execution_count": 14,
   "id": "00ed4b32-8851-48f9-a680-c4277545ea8d",
   "metadata": {},
   "outputs": [],
   "source": [
    "split_filtered_df = filter2_df %>%\n",
    "    filter(Data %in% c('WS', 'WF')) %>%\n",
    "    group_by(Data, Metric) %>%\n",
    "    group_split\n",
    "\n",
    "split_ws_vol_df = split_filtered_df[[3]]\n",
    "split_ws_weight_df = split_filtered_df[[4]]\n",
    "split_wf_vol_df = split_filtered_df[[1]]\n",
    "split_wf_weight_df = split_filtered_df[[2]]\n",
    "\n",
    "control_vol_df = filter2_df %>%\n",
    "    filter(Data %notin% c('WS', 'WF'), Metric == 'Volume')\n",
    "control_weight_df = filter2_df %>%\n",
    "    filter(Data %notin% c('WS', 'WF'), Metric == 'Weight')"
   ]
  },
  {
   "cell_type": "code",
   "execution_count": 15,
   "id": "c52b40df-d2c5-4604-8fa8-a5f31ad46df7",
   "metadata": {},
   "outputs": [
    {
     "data": {
      "text/html": [
       "95"
      ],
      "text/latex": [
       "95"
      ],
      "text/markdown": [
       "95"
      ],
      "text/plain": [
       "[1] 95"
      ]
     },
     "metadata": {},
     "output_type": "display_data"
    },
    {
     "data": {
      "text/html": [
       "68"
      ],
      "text/latex": [
       "68"
      ],
      "text/markdown": [
       "68"
      ],
      "text/plain": [
       "[1] 68"
      ]
     },
     "metadata": {},
     "output_type": "display_data"
    },
    {
     "data": {
      "text/html": [
       "66"
      ],
      "text/latex": [
       "66"
      ],
      "text/markdown": [
       "66"
      ],
      "text/plain": [
       "[1] 66"
      ]
     },
     "metadata": {},
     "output_type": "display_data"
    },
    {
     "data": {
      "text/html": [
       "70"
      ],
      "text/latex": [
       "70"
      ],
      "text/markdown": [
       "70"
      ],
      "text/plain": [
       "[1] 70"
      ]
     },
     "metadata": {},
     "output_type": "display_data"
    },
    {
     "data": {
      "text/html": [
       "83"
      ],
      "text/latex": [
       "83"
      ],
      "text/markdown": [
       "83"
      ],
      "text/plain": [
       "[1] 83"
      ]
     },
     "metadata": {},
     "output_type": "display_data"
    },
    {
     "data": {
      "text/html": [
       "79"
      ],
      "text/latex": [
       "79"
      ],
      "text/markdown": [
       "79"
      ],
      "text/plain": [
       "[1] 79"
      ]
     },
     "metadata": {},
     "output_type": "display_data"
    }
   ],
   "source": [
    "# seeing how many unique variables are in each df and if they're consistent in each file\n",
    "length(unique(split_ws_vol_df$Name))\n",
    "length(unique(split_wf_vol_df$Name))\n",
    "length(unique(split_ws_weight_df$Name))\n",
    "length(unique(split_wf_weight_df$Name))\n",
    "length(unique(control_vol_df$Name))\n",
    "length(unique(control_weight_df$Name))"
   ]
  },
  {
   "cell_type": "code",
   "execution_count": 16,
   "id": "97f266f6-d8ee-44ce-a9ab-cc96acfcbf2f",
   "metadata": {},
   "outputs": [
    {
     "data": {
      "text/html": [
       "32"
      ],
      "text/latex": [
       "32"
      ],
      "text/markdown": [
       "32"
      ],
      "text/plain": [
       "[1] 32"
      ]
     },
     "metadata": {},
     "output_type": "display_data"
    },
    {
     "data": {
      "text/html": [
       "32"
      ],
      "text/latex": [
       "32"
      ],
      "text/markdown": [
       "32"
      ],
      "text/plain": [
       "[1] 32"
      ]
     },
     "metadata": {},
     "output_type": "display_data"
    },
    {
     "data": {
      "text/html": [
       "83"
      ],
      "text/latex": [
       "83"
      ],
      "text/markdown": [
       "83"
      ],
      "text/plain": [
       "[1] 83"
      ]
     },
     "metadata": {},
     "output_type": "display_data"
    },
    {
     "data": {
      "text/html": [
       "23"
      ],
      "text/latex": [
       "23"
      ],
      "text/markdown": [
       "23"
      ],
      "text/plain": [
       "[1] 23"
      ]
     },
     "metadata": {},
     "output_type": "display_data"
    },
    {
     "data": {
      "text/html": [
       "23"
      ],
      "text/latex": [
       "23"
      ],
      "text/markdown": [
       "23"
      ],
      "text/plain": [
       "[1] 23"
      ]
     },
     "metadata": {},
     "output_type": "display_data"
    },
    {
     "data": {
      "text/html": [
       "79"
      ],
      "text/latex": [
       "79"
      ],
      "text/markdown": [
       "79"
      ],
      "text/plain": [
       "[1] 79"
      ]
     },
     "metadata": {},
     "output_type": "display_data"
    }
   ],
   "source": [
    "# they're not so first getting variables that are in weight or volume samples\n",
    "consistent_wf_vol_df = split_wf_vol_df %>%\n",
    "    filter(Value != 'NA', Name %in% unique(split_ws_vol_df$Name))\n",
    "consistent_ws_vol_df = split_ws_vol_df %>%\n",
    "    filter(Value != 'NA', Name %in% consistent_wf_vol_df$Name)\n",
    "consistent_wf_weight_df = split_wf_weight_df %>%\n",
    "    filter(Value != 'NA', Name %in% unique(split_ws_weight_df$Name))\n",
    "consistent_ws_weight_df = split_ws_weight_df %>%\n",
    "    filter(Value != 'NA', Name %in% consistent_wf_weight_df$Name)\n",
    "\n",
    "# double checking\n",
    "length(unique(consistent_wf_vol_df$Name))\n",
    "length(unique(consistent_ws_vol_df$Name))\n",
    "length(unique(control_vol_df$Name))\n",
    "#length(unique(consistent_control_vol_df$Name))\n",
    "length(unique(consistent_wf_weight_df$Name))\n",
    "length(unique(consistent_ws_weight_df$Name))\n",
    "length(unique(control_weight_df$Name))\n",
    "#length(unique(consistent_control_weight_df$Name))"
   ]
  },
  {
   "cell_type": "markdown",
   "id": "4b604def-71e1-482c-ab06-ed64e9e7d830",
   "metadata": {},
   "source": [
    "There were 98, 68, 94 and 70 woodsmoke weight, woodsmoke volume, wildfire weight, and wildfire volume samples, respectively. 33 variables were common between volume samples and 34 were common between weight records and will be retained. REWORD!!"
   ]
  },
  {
   "cell_type": "code",
   "execution_count": 17,
   "id": "0d22def2-eb27-4093-8bbe-8a7c8082b9ce",
   "metadata": {},
   "outputs": [
    {
     "data": {
      "text/html": [
       "<table class=\"dataframe\">\n",
       "<caption>A tibble: 6 × 9</caption>\n",
       "<thead>\n",
       "\t<tr><th scope=col>Metric</th><th scope=col>Class</th><th scope=col>HAWC_ID</th><th scope=col>Data</th><th scope=col>Name</th><th scope=col>Study</th><th scope=col>Replicate</th><th scope=col>DTXSID</th><th scope=col>Value</th></tr>\n",
       "\t<tr><th scope=col>&lt;chr&gt;</th><th scope=col>&lt;chr&gt;</th><th scope=col>&lt;chr&gt;</th><th scope=col>&lt;chr&gt;</th><th scope=col>&lt;chr&gt;</th><th scope=col>&lt;chr&gt;</th><th scope=col>&lt;dbl&gt;</th><th scope=col>&lt;chr&gt;</th><th scope=col>&lt;chr&gt;</th></tr>\n",
       "</thead>\n",
       "<tbody>\n",
       "\t<tr><td>Volume</td><td>Metal</td><td>1263480</td><td>WS</td><td>Ca</td><td>Burnet et al. 1990</td><td>1</td><td>Ca</td><td>486500</td></tr>\n",
       "\t<tr><td>Volume</td><td>Metal</td><td>1263480</td><td>WS</td><td>Ca</td><td>Burnet et al. 1990</td><td>2</td><td>Ca</td><td>424250</td></tr>\n",
       "\t<tr><td>Volume</td><td>Metal</td><td>1263480</td><td>WS</td><td>Ca</td><td>Burnet et al. 1990</td><td>3</td><td>Ca</td><td>212000</td></tr>\n",
       "\t<tr><td>Volume</td><td>Metal</td><td>1263480</td><td>WS</td><td>Cd</td><td>Burnet et al. 1990</td><td>1</td><td>Cd</td><td>750   </td></tr>\n",
       "\t<tr><td>Volume</td><td>Metal</td><td>1263480</td><td>WS</td><td>Cd</td><td>Burnet et al. 1990</td><td>2</td><td>Cd</td><td>1750  </td></tr>\n",
       "\t<tr><td>Volume</td><td>Metal</td><td>1263480</td><td>WS</td><td>Cd</td><td>Burnet et al. 1990</td><td>3</td><td>Cd</td><td>3000  </td></tr>\n",
       "</tbody>\n",
       "</table>\n"
      ],
      "text/latex": [
       "A tibble: 6 × 9\n",
       "\\begin{tabular}{lllllllll}\n",
       " Metric & Class & HAWC\\_ID & Data & Name & Study & Replicate & DTXSID & Value\\\\\n",
       " <chr> & <chr> & <chr> & <chr> & <chr> & <chr> & <dbl> & <chr> & <chr>\\\\\n",
       "\\hline\n",
       "\t Volume & Metal & 1263480 & WS & Ca & Burnet et al. 1990 & 1 & Ca & 486500\\\\\n",
       "\t Volume & Metal & 1263480 & WS & Ca & Burnet et al. 1990 & 2 & Ca & 424250\\\\\n",
       "\t Volume & Metal & 1263480 & WS & Ca & Burnet et al. 1990 & 3 & Ca & 212000\\\\\n",
       "\t Volume & Metal & 1263480 & WS & Cd & Burnet et al. 1990 & 1 & Cd & 750   \\\\\n",
       "\t Volume & Metal & 1263480 & WS & Cd & Burnet et al. 1990 & 2 & Cd & 1750  \\\\\n",
       "\t Volume & Metal & 1263480 & WS & Cd & Burnet et al. 1990 & 3 & Cd & 3000  \\\\\n",
       "\\end{tabular}\n"
      ],
      "text/markdown": [
       "\n",
       "A tibble: 6 × 9\n",
       "\n",
       "| Metric &lt;chr&gt; | Class &lt;chr&gt; | HAWC_ID &lt;chr&gt; | Data &lt;chr&gt; | Name &lt;chr&gt; | Study &lt;chr&gt; | Replicate &lt;dbl&gt; | DTXSID &lt;chr&gt; | Value &lt;chr&gt; |\n",
       "|---|---|---|---|---|---|---|---|---|\n",
       "| Volume | Metal | 1263480 | WS | Ca | Burnet et al. 1990 | 1 | Ca | 486500 |\n",
       "| Volume | Metal | 1263480 | WS | Ca | Burnet et al. 1990 | 2 | Ca | 424250 |\n",
       "| Volume | Metal | 1263480 | WS | Ca | Burnet et al. 1990 | 3 | Ca | 212000 |\n",
       "| Volume | Metal | 1263480 | WS | Cd | Burnet et al. 1990 | 1 | Cd | 750    |\n",
       "| Volume | Metal | 1263480 | WS | Cd | Burnet et al. 1990 | 2 | Cd | 1750   |\n",
       "| Volume | Metal | 1263480 | WS | Cd | Burnet et al. 1990 | 3 | Cd | 3000   |\n",
       "\n"
      ],
      "text/plain": [
       "  Metric Class HAWC_ID Data Name Study              Replicate DTXSID Value \n",
       "1 Volume Metal 1263480 WS   Ca   Burnet et al. 1990 1         Ca     486500\n",
       "2 Volume Metal 1263480 WS   Ca   Burnet et al. 1990 2         Ca     424250\n",
       "3 Volume Metal 1263480 WS   Ca   Burnet et al. 1990 3         Ca     212000\n",
       "4 Volume Metal 1263480 WS   Cd   Burnet et al. 1990 1         Cd     750   \n",
       "5 Volume Metal 1263480 WS   Cd   Burnet et al. 1990 2         Cd     1750  \n",
       "6 Volume Metal 1263480 WS   Cd   Burnet et al. 1990 3         Cd     3000  "
      ]
     },
     "metadata": {},
     "output_type": "display_data"
    }
   ],
   "source": [
    "# recombining data\n",
    "vol_df = rbind(consistent_ws_vol_df, consistent_wf_vol_df, control_vol_df)\n",
    "weight_df = rbind(consistent_ws_weight_df, consistent_wf_weight_df, control_weight_df)\n",
    "\n",
    "head(vol_df)"
   ]
  },
  {
   "cell_type": "markdown",
   "id": "12249f65-761e-4dbc-8231-8c455e6d3120",
   "metadata": {},
   "source": [
    "# Square Root Imputation\n",
    "\n",
    "Taking the square root of the min value to impute MNAR data."
   ]
  },
  {
   "cell_type": "code",
   "execution_count": 18,
   "id": "c4f84ca8-8863-4741-9959-12962607f18f",
   "metadata": {
    "scrolled": true
   },
   "outputs": [
    {
     "data": {
      "text/html": [
       "<table class=\"dataframe\">\n",
       "<caption>A tibble: 2 × 2</caption>\n",
       "<thead>\n",
       "\t<tr><th scope=col>Value</th><th scope=col>n()</th></tr>\n",
       "\t<tr><th scope=col>&lt;chr&gt;</th><th scope=col>&lt;int&gt;</th></tr>\n",
       "</thead>\n",
       "<tbody>\n",
       "\t<tr><td>NA</td><td> 8</td></tr>\n",
       "\t<tr><td>ND</td><td>25</td></tr>\n",
       "</tbody>\n",
       "</table>\n"
      ],
      "text/latex": [
       "A tibble: 2 × 2\n",
       "\\begin{tabular}{ll}\n",
       " Value & n()\\\\\n",
       " <chr> & <int>\\\\\n",
       "\\hline\n",
       "\t NA &  8\\\\\n",
       "\t ND & 25\\\\\n",
       "\\end{tabular}\n"
      ],
      "text/markdown": [
       "\n",
       "A tibble: 2 × 2\n",
       "\n",
       "| Value &lt;chr&gt; | n() &lt;int&gt; |\n",
       "|---|---|\n",
       "| NA |  8 |\n",
       "| ND | 25 |\n",
       "\n"
      ],
      "text/plain": [
       "  Value n()\n",
       "1 NA     8 \n",
       "2 ND    25 "
      ]
     },
     "metadata": {},
     "output_type": "display_data"
    },
    {
     "data": {
      "text/html": [
       "<table class=\"dataframe\">\n",
       "<caption>A tibble: 2 × 2</caption>\n",
       "<thead>\n",
       "\t<tr><th scope=col>Value</th><th scope=col>n()</th></tr>\n",
       "\t<tr><th scope=col>&lt;chr&gt;</th><th scope=col>&lt;int&gt;</th></tr>\n",
       "</thead>\n",
       "<tbody>\n",
       "\t<tr><td>NA</td><td>15</td></tr>\n",
       "\t<tr><td>ND</td><td>28</td></tr>\n",
       "</tbody>\n",
       "</table>\n"
      ],
      "text/latex": [
       "A tibble: 2 × 2\n",
       "\\begin{tabular}{ll}\n",
       " Value & n()\\\\\n",
       " <chr> & <int>\\\\\n",
       "\\hline\n",
       "\t NA & 15\\\\\n",
       "\t ND & 28\\\\\n",
       "\\end{tabular}\n"
      ],
      "text/markdown": [
       "\n",
       "A tibble: 2 × 2\n",
       "\n",
       "| Value &lt;chr&gt; | n() &lt;int&gt; |\n",
       "|---|---|\n",
       "| NA | 15 |\n",
       "| ND | 28 |\n",
       "\n"
      ],
      "text/plain": [
       "  Value n()\n",
       "1 NA    15 \n",
       "2 ND    28 "
      ]
     },
     "metadata": {},
     "output_type": "display_data"
    }
   ],
   "source": [
    "# first determining number of ND and NA values in each df\n",
    "vol_df %>%\n",
    "    filter(Value %in% c('NA', 'ND')) %>%\n",
    "    group_by(Value) %>%\n",
    "    summarize(n())\n",
    "\n",
    "weight_df %>%\n",
    "    filter(Value %in% c('NA', 'ND')) %>%\n",
    "    group_by(Value) %>%\n",
    "    summarize(n())"
   ]
  },
  {
   "cell_type": "code",
   "execution_count": 19,
   "id": "25feeaaa-7ace-4a97-8dc5-4d3b6f23af2c",
   "metadata": {},
   "outputs": [
    {
     "data": {
      "text/html": [
       "<style>\n",
       ".list-inline {list-style: none; margin:0; padding: 0}\n",
       ".list-inline>li {display: inline-block}\n",
       ".list-inline>li:not(:last-child)::after {content: \"\\00b7\"; padding: 0 .5ex}\n",
       "</style>\n",
       "<ol class=list-inline><li>1411</li><li>9</li></ol>\n"
      ],
      "text/latex": [
       "\\begin{enumerate*}\n",
       "\\item 1411\n",
       "\\item 9\n",
       "\\end{enumerate*}\n"
      ],
      "text/markdown": [
       "1. 1411\n",
       "2. 9\n",
       "\n",
       "\n"
      ],
      "text/plain": [
       "[1] 1411    9"
      ]
     },
     "metadata": {},
     "output_type": "display_data"
    },
    {
     "data": {
      "text/html": [
       "<style>\n",
       ".list-inline {list-style: none; margin:0; padding: 0}\n",
       ".list-inline>li {display: inline-block}\n",
       ".list-inline>li:not(:last-child)::after {content: \"\\00b7\"; padding: 0 .5ex}\n",
       "</style>\n",
       "<ol class=list-inline><li>1474</li><li>9</li></ol>\n"
      ],
      "text/latex": [
       "\\begin{enumerate*}\n",
       "\\item 1474\n",
       "\\item 9\n",
       "\\end{enumerate*}\n"
      ],
      "text/markdown": [
       "1. 1474\n",
       "2. 9\n",
       "\n",
       "\n"
      ],
      "text/plain": [
       "[1] 1474    9"
      ]
     },
     "metadata": {},
     "output_type": "display_data"
    }
   ],
   "source": [
    "dim(vol_df)\n",
    "dim(weight_df)"
   ]
  },
  {
   "cell_type": "code",
   "execution_count": 20,
   "id": "21e2dbe6-cac4-49c8-bd4f-d33282fad336",
   "metadata": {},
   "outputs": [
    {
     "name": "stderr",
     "output_type": "stream",
     "text": [
      "\u001b[1m\u001b[22mJoining with `by = join_by(Metric, Class, HAWC_ID, Data, Name, Study,\n",
      "Replicate, DTXSID, Value)`\n",
      "\u001b[1m\u001b[22mJoining with `by = join_by(Metric, Class, HAWC_ID, Data, Name, Study,\n",
      "Replicate, DTXSID, Value)`\n",
      "Warning message:\n",
      "“NAs introduced by coercion”\n",
      "Warning message:\n",
      "“NAs introduced by coercion”\n",
      "Warning message:\n",
      "“NAs introduced by coercion”\n",
      "Warning message:\n",
      "“NAs introduced by coercion”\n"
     ]
    },
    {
     "data": {
      "text/html": [
       "<table class=\"dataframe\">\n",
       "<caption>A tibble: 6 × 9</caption>\n",
       "<thead>\n",
       "\t<tr><th scope=col>HAWC_ID</th><th scope=col>Metric</th><th scope=col>Data</th><th scope=col>Study</th><th scope=col>Replicate</th><th scope=col>Class</th><th scope=col>DTXSID</th><th scope=col>Name</th><th scope=col>Value</th></tr>\n",
       "\t<tr><th scope=col>&lt;chr&gt;</th><th scope=col>&lt;chr&gt;</th><th scope=col>&lt;chr&gt;</th><th scope=col>&lt;chr&gt;</th><th scope=col>&lt;dbl&gt;</th><th scope=col>&lt;chr&gt;</th><th scope=col>&lt;chr&gt;</th><th scope=col>&lt;chr&gt;</th><th scope=col>&lt;dbl&gt;</th></tr>\n",
       "</thead>\n",
       "<tbody>\n",
       "\t<tr><td>1040882</td><td>Weight</td><td>WS</td><td>Nordin et al. 2015</td><td>1</td><td>Metal</td><td>Al</td><td>Al</td><td>1078</td></tr>\n",
       "\t<tr><td>1040882</td><td>Weight</td><td>WS</td><td>Nordin et al. 2015</td><td>2</td><td>Metal</td><td>Al</td><td>Al</td><td> 198</td></tr>\n",
       "\t<tr><td>1040882</td><td>Weight</td><td>WS</td><td>Nordin et al. 2015</td><td>1</td><td>Metal</td><td>B </td><td>B </td><td> 308</td></tr>\n",
       "\t<tr><td>1040882</td><td>Weight</td><td>WS</td><td>Nordin et al. 2015</td><td>2</td><td>Metal</td><td>B </td><td>B </td><td> 268</td></tr>\n",
       "\t<tr><td>1040882</td><td>Weight</td><td>WS</td><td>Nordin et al. 2015</td><td>1</td><td>Metal</td><td>Ca</td><td>Ca</td><td>7120</td></tr>\n",
       "\t<tr><td>1040882</td><td>Weight</td><td>WS</td><td>Nordin et al. 2015</td><td>2</td><td>Metal</td><td>Ca</td><td>Ca</td><td>  NA</td></tr>\n",
       "</tbody>\n",
       "</table>\n"
      ],
      "text/latex": [
       "A tibble: 6 × 9\n",
       "\\begin{tabular}{lllllllll}\n",
       " HAWC\\_ID & Metric & Data & Study & Replicate & Class & DTXSID & Name & Value\\\\\n",
       " <chr> & <chr> & <chr> & <chr> & <dbl> & <chr> & <chr> & <chr> & <dbl>\\\\\n",
       "\\hline\n",
       "\t 1040882 & Weight & WS & Nordin et al. 2015 & 1 & Metal & Al & Al & 1078\\\\\n",
       "\t 1040882 & Weight & WS & Nordin et al. 2015 & 2 & Metal & Al & Al &  198\\\\\n",
       "\t 1040882 & Weight & WS & Nordin et al. 2015 & 1 & Metal & B  & B  &  308\\\\\n",
       "\t 1040882 & Weight & WS & Nordin et al. 2015 & 2 & Metal & B  & B  &  268\\\\\n",
       "\t 1040882 & Weight & WS & Nordin et al. 2015 & 1 & Metal & Ca & Ca & 7120\\\\\n",
       "\t 1040882 & Weight & WS & Nordin et al. 2015 & 2 & Metal & Ca & Ca &   NA\\\\\n",
       "\\end{tabular}\n"
      ],
      "text/markdown": [
       "\n",
       "A tibble: 6 × 9\n",
       "\n",
       "| HAWC_ID &lt;chr&gt; | Metric &lt;chr&gt; | Data &lt;chr&gt; | Study &lt;chr&gt; | Replicate &lt;dbl&gt; | Class &lt;chr&gt; | DTXSID &lt;chr&gt; | Name &lt;chr&gt; | Value &lt;dbl&gt; |\n",
       "|---|---|---|---|---|---|---|---|---|\n",
       "| 1040882 | Weight | WS | Nordin et al. 2015 | 1 | Metal | Al | Al | 1078 |\n",
       "| 1040882 | Weight | WS | Nordin et al. 2015 | 2 | Metal | Al | Al |  198 |\n",
       "| 1040882 | Weight | WS | Nordin et al. 2015 | 1 | Metal | B  | B  |  308 |\n",
       "| 1040882 | Weight | WS | Nordin et al. 2015 | 2 | Metal | B  | B  |  268 |\n",
       "| 1040882 | Weight | WS | Nordin et al. 2015 | 1 | Metal | Ca | Ca | 7120 |\n",
       "| 1040882 | Weight | WS | Nordin et al. 2015 | 2 | Metal | Ca | Ca |   NA |\n",
       "\n"
      ],
      "text/plain": [
       "  HAWC_ID Metric Data Study              Replicate Class DTXSID Name Value\n",
       "1 1040882 Weight WS   Nordin et al. 2015 1         Metal Al     Al   1078 \n",
       "2 1040882 Weight WS   Nordin et al. 2015 2         Metal Al     Al    198 \n",
       "3 1040882 Weight WS   Nordin et al. 2015 1         Metal B      B     308 \n",
       "4 1040882 Weight WS   Nordin et al. 2015 2         Metal B      B     268 \n",
       "5 1040882 Weight WS   Nordin et al. 2015 1         Metal Ca     Ca   7120 \n",
       "6 1040882 Weight WS   Nordin et al. 2015 2         Metal Ca     Ca     NA "
      ]
     },
     "metadata": {},
     "output_type": "display_data"
    }
   ],
   "source": [
    "# creating a df for MAR data\n",
    "mar_weight_df = weight_df %>%\n",
    "    filter(Value == 'NA')\n",
    "mar_vol_df = vol_df %>%\n",
    "    filter(Value == 'NA')\n",
    "\n",
    "preimputed_weight_df = anti_join(weight_df, mar_weight_df) \n",
    "preimputed_vol_df = anti_join(vol_df, mar_vol_df) \n",
    "\n",
    "preimputed_weight_df$Value = as.numeric(preimputed_weight_df$Value)\n",
    "preimputed_vol_df$Value = as.numeric(preimputed_vol_df$Value)\n",
    "mar_weight_df$Value = as.numeric(mar_weight_df$Value)\n",
    "mar_vol_df$Value = as.numeric(mar_vol_df$Value)\n",
    "\n",
    "# reordering cols\n",
    "preimputed_weight_df = preimputed_weight_df[,c(3,1,4,6,7,2,8,5,9)]\n",
    "preimputed_vol_df = preimputed_vol_df[,c(3,1,4,6,7,2,8,5,9)]\n",
    "\n",
    "head(preimputed_weight_df)"
   ]
  },
  {
   "cell_type": "code",
   "execution_count": 21,
   "id": "d661b972-2072-4dea-a918-94209634c3be",
   "metadata": {},
   "outputs": [
    {
     "data": {
      "text/html": [
       "<table class=\"dataframe\">\n",
       "<caption>A tibble: 6 × 9</caption>\n",
       "<thead>\n",
       "\t<tr><th scope=col>HAWC_ID</th><th scope=col>Metric</th><th scope=col>Data</th><th scope=col>Study</th><th scope=col>Replicate</th><th scope=col>Class</th><th scope=col>DTXSID</th><th scope=col>Name</th><th scope=col>Value</th></tr>\n",
       "\t<tr><th scope=col>&lt;chr&gt;</th><th scope=col>&lt;chr&gt;</th><th scope=col>&lt;chr&gt;</th><th scope=col>&lt;chr&gt;</th><th scope=col>&lt;dbl&gt;</th><th scope=col>&lt;chr&gt;</th><th scope=col>&lt;chr&gt;</th><th scope=col>&lt;chr&gt;</th><th scope=col>&lt;dbl&gt;</th></tr>\n",
       "</thead>\n",
       "<tbody>\n",
       "\t<tr><td>1040882</td><td>Weight</td><td>WS</td><td>Nordin et al. 2015</td><td>2</td><td>Metal</td><td>Ca</td><td>Ca</td><td>NA</td></tr>\n",
       "\t<tr><td>1040882</td><td>Weight</td><td>WS</td><td>Nordin et al. 2015</td><td>2</td><td>Metal</td><td>Fe</td><td>Fe</td><td>NA</td></tr>\n",
       "\t<tr><td>1040882</td><td>Weight</td><td>WS</td><td>Nordin et al. 2015</td><td>1</td><td>Metal</td><td>Mn</td><td>Mn</td><td>NA</td></tr>\n",
       "\t<tr><td>1040882</td><td>Weight</td><td>WS</td><td>Nordin et al. 2015</td><td>2</td><td>Metal</td><td>Mn</td><td>Mn</td><td>NA</td></tr>\n",
       "\t<tr><td>1040882</td><td>Weight</td><td>WS</td><td>Nordin et al. 2015</td><td>1</td><td>Metal</td><td>Ni</td><td>Ni</td><td>NA</td></tr>\n",
       "\t<tr><td>1040882</td><td>Weight</td><td>WS</td><td>Nordin et al. 2015</td><td>2</td><td>Metal</td><td>Ni</td><td>Ni</td><td>NA</td></tr>\n",
       "</tbody>\n",
       "</table>\n"
      ],
      "text/latex": [
       "A tibble: 6 × 9\n",
       "\\begin{tabular}{lllllllll}\n",
       " HAWC\\_ID & Metric & Data & Study & Replicate & Class & DTXSID & Name & Value\\\\\n",
       " <chr> & <chr> & <chr> & <chr> & <dbl> & <chr> & <chr> & <chr> & <dbl>\\\\\n",
       "\\hline\n",
       "\t 1040882 & Weight & WS & Nordin et al. 2015 & 2 & Metal & Ca & Ca & NA\\\\\n",
       "\t 1040882 & Weight & WS & Nordin et al. 2015 & 2 & Metal & Fe & Fe & NA\\\\\n",
       "\t 1040882 & Weight & WS & Nordin et al. 2015 & 1 & Metal & Mn & Mn & NA\\\\\n",
       "\t 1040882 & Weight & WS & Nordin et al. 2015 & 2 & Metal & Mn & Mn & NA\\\\\n",
       "\t 1040882 & Weight & WS & Nordin et al. 2015 & 1 & Metal & Ni & Ni & NA\\\\\n",
       "\t 1040882 & Weight & WS & Nordin et al. 2015 & 2 & Metal & Ni & Ni & NA\\\\\n",
       "\\end{tabular}\n"
      ],
      "text/markdown": [
       "\n",
       "A tibble: 6 × 9\n",
       "\n",
       "| HAWC_ID &lt;chr&gt; | Metric &lt;chr&gt; | Data &lt;chr&gt; | Study &lt;chr&gt; | Replicate &lt;dbl&gt; | Class &lt;chr&gt; | DTXSID &lt;chr&gt; | Name &lt;chr&gt; | Value &lt;dbl&gt; |\n",
       "|---|---|---|---|---|---|---|---|---|\n",
       "| 1040882 | Weight | WS | Nordin et al. 2015 | 2 | Metal | Ca | Ca | NA |\n",
       "| 1040882 | Weight | WS | Nordin et al. 2015 | 2 | Metal | Fe | Fe | NA |\n",
       "| 1040882 | Weight | WS | Nordin et al. 2015 | 1 | Metal | Mn | Mn | NA |\n",
       "| 1040882 | Weight | WS | Nordin et al. 2015 | 2 | Metal | Mn | Mn | NA |\n",
       "| 1040882 | Weight | WS | Nordin et al. 2015 | 1 | Metal | Ni | Ni | NA |\n",
       "| 1040882 | Weight | WS | Nordin et al. 2015 | 2 | Metal | Ni | Ni | NA |\n",
       "\n"
      ],
      "text/plain": [
       "  HAWC_ID Metric Data Study              Replicate Class DTXSID Name Value\n",
       "1 1040882 Weight WS   Nordin et al. 2015 2         Metal Ca     Ca   NA   \n",
       "2 1040882 Weight WS   Nordin et al. 2015 2         Metal Fe     Fe   NA   \n",
       "3 1040882 Weight WS   Nordin et al. 2015 1         Metal Mn     Mn   NA   \n",
       "4 1040882 Weight WS   Nordin et al. 2015 2         Metal Mn     Mn   NA   \n",
       "5 1040882 Weight WS   Nordin et al. 2015 1         Metal Ni     Ni   NA   \n",
       "6 1040882 Weight WS   Nordin et al. 2015 2         Metal Ni     Ni   NA   "
      ]
     },
     "metadata": {},
     "output_type": "display_data"
    }
   ],
   "source": [
    "# creating a df for MNAR data\n",
    "mnar_weight_df = preimputed_weight_df %>%\n",
    "    filter(is.na(Value))\n",
    "mnar_vol_df = preimputed_vol_df %>%\n",
    "    filter(is.na(Value))\n",
    "\n",
    "head(mnar_weight_df)"
   ]
  },
  {
   "cell_type": "code",
   "execution_count": 32,
   "id": "067dc934-b139-443d-82f5-5100ec735bc4",
   "metadata": {},
   "outputs": [
    {
     "name": "stderr",
     "output_type": "stream",
     "text": [
      "Warning message:\n",
      "“\u001b[1m\u001b[22mThere was 1 warning in `mutate()`.\n",
      "\u001b[1m\u001b[22m\u001b[36mℹ\u001b[39m In argument: `Value = sqrt(min(filtered_df$Value, na.rm = TRUE))`.\n",
      "Caused by warning in `min()`:\n",
      "\u001b[33m!\u001b[39m no non-missing arguments to min; returning Inf”\n",
      "Warning message:\n",
      "“\u001b[1m\u001b[22mThere was 1 warning in `mutate()`.\n",
      "\u001b[1m\u001b[22m\u001b[36mℹ\u001b[39m In argument: `Value = sqrt(min(filtered_df$Value, na.rm = TRUE))`.\n",
      "Caused by warning in `min()`:\n",
      "\u001b[33m!\u001b[39m no non-missing arguments to min; returning Inf”\n",
      "Warning message:\n",
      "“\u001b[1m\u001b[22mThere was 1 warning in `mutate()`.\n",
      "\u001b[1m\u001b[22m\u001b[36mℹ\u001b[39m In argument: `Value = sqrt(min(filtered_df$Value, na.rm = TRUE))`.\n",
      "Caused by warning in `min()`:\n",
      "\u001b[33m!\u001b[39m no non-missing arguments to min; returning Inf”\n",
      "Warning message:\n",
      "“\u001b[1m\u001b[22mThere was 1 warning in `mutate()`.\n",
      "\u001b[1m\u001b[22m\u001b[36mℹ\u001b[39m In argument: `Value = sqrt(min(filtered_df$Value, na.rm = TRUE))`.\n",
      "Caused by warning in `min()`:\n",
      "\u001b[33m!\u001b[39m no non-missing arguments to min; returning Inf”\n",
      "Warning message:\n",
      "“\u001b[1m\u001b[22mThere was 1 warning in `mutate()`.\n",
      "\u001b[1m\u001b[22m\u001b[36mℹ\u001b[39m In argument: `Value = sqrt(min(filtered_df$Value, na.rm = TRUE))`.\n",
      "Caused by warning in `min()`:\n",
      "\u001b[33m!\u001b[39m no non-missing arguments to min; returning Inf”\n",
      "Warning message:\n",
      "“\u001b[1m\u001b[22mThere was 1 warning in `mutate()`.\n",
      "\u001b[1m\u001b[22m\u001b[36mℹ\u001b[39m In argument: `Value = sqrt(min(filtered_df$Value, na.rm = TRUE))`.\n",
      "Caused by warning in `min()`:\n",
      "\u001b[33m!\u001b[39m no non-missing arguments to min; returning Inf”\n",
      "Warning message:\n",
      "“\u001b[1m\u001b[22mThere was 1 warning in `mutate()`.\n",
      "\u001b[1m\u001b[22m\u001b[36mℹ\u001b[39m In argument: `Value = sqrt(min(filtered_df$Value, na.rm = TRUE))`.\n",
      "Caused by warning in `min()`:\n",
      "\u001b[33m!\u001b[39m no non-missing arguments to min; returning Inf”\n",
      "Warning message:\n",
      "“\u001b[1m\u001b[22mThere was 1 warning in `mutate()`.\n",
      "\u001b[1m\u001b[22m\u001b[36mℹ\u001b[39m In argument: `Value = sqrt(min(filtered_df$Value, na.rm = TRUE))`.\n",
      "Caused by warning in `min()`:\n",
      "\u001b[33m!\u001b[39m no non-missing arguments to min; returning Inf”\n",
      "Warning message:\n",
      "“\u001b[1m\u001b[22mThere was 1 warning in `mutate()`.\n",
      "\u001b[1m\u001b[22m\u001b[36mℹ\u001b[39m In argument: `Value = sqrt(min(filtered_df$Value, na.rm = TRUE))`.\n",
      "Caused by warning in `min()`:\n",
      "\u001b[33m!\u001b[39m no non-missing arguments to min; returning Inf”\n",
      "Warning message:\n",
      "“\u001b[1m\u001b[22mThere was 1 warning in `mutate()`.\n",
      "\u001b[1m\u001b[22m\u001b[36mℹ\u001b[39m In argument: `Value = sqrt(min(filtered_df$Value, na.rm = TRUE))`.\n",
      "Caused by warning in `min()`:\n",
      "\u001b[33m!\u001b[39m no non-missing arguments to min; returning Inf”\n",
      "Warning message:\n",
      "“\u001b[1m\u001b[22mThere was 1 warning in `mutate()`.\n",
      "\u001b[1m\u001b[22m\u001b[36mℹ\u001b[39m In argument: `Value = sqrt(min(filtered_df$Value, na.rm = TRUE))`.\n",
      "Caused by warning in `min()`:\n",
      "\u001b[33m!\u001b[39m no non-missing arguments to min; returning Inf”\n",
      "Warning message:\n",
      "“\u001b[1m\u001b[22mThere was 1 warning in `mutate()`.\n",
      "\u001b[1m\u001b[22m\u001b[36mℹ\u001b[39m In argument: `Value = sqrt(min(filtered_df$Value, na.rm = TRUE))`.\n",
      "Caused by warning in `min()`:\n",
      "\u001b[33m!\u001b[39m no non-missing arguments to min; returning Inf”\n"
     ]
    },
    {
     "data": {
      "text/html": [
       "<table class=\"dataframe\">\n",
       "<caption>A tibble: 6 × 9</caption>\n",
       "<thead>\n",
       "\t<tr><th scope=col>HAWC_ID</th><th scope=col>Metric</th><th scope=col>Data</th><th scope=col>Study</th><th scope=col>Replicate</th><th scope=col>Class</th><th scope=col>DTXSID</th><th scope=col>Name</th><th scope=col>Value</th></tr>\n",
       "\t<tr><th scope=col>&lt;chr&gt;</th><th scope=col>&lt;chr&gt;</th><th scope=col>&lt;chr&gt;</th><th scope=col>&lt;chr&gt;</th><th scope=col>&lt;dbl&gt;</th><th scope=col>&lt;chr&gt;</th><th scope=col>&lt;chr&gt;</th><th scope=col>&lt;chr&gt;</th><th scope=col>&lt;dbl&gt;</th></tr>\n",
       "</thead>\n",
       "<tbody>\n",
       "\t<tr><td>1040882</td><td>Weight</td><td>WS</td><td>Nordin et al. 2015</td><td>1</td><td>Metal</td><td>Ca</td><td>Ca</td><td>7120.00000</td></tr>\n",
       "\t<tr><td>1040882</td><td>Weight</td><td>WS</td><td>Nordin et al. 2015</td><td>2</td><td>Metal</td><td>Ca</td><td>Ca</td><td>  84.38009</td></tr>\n",
       "\t<tr><td>1040882</td><td>Weight</td><td>WS</td><td>Nordin et al. 2015</td><td>1</td><td>Metal</td><td>Fe</td><td>Fe</td><td>1172.00000</td></tr>\n",
       "\t<tr><td>1040882</td><td>Weight</td><td>WS</td><td>Nordin et al. 2015</td><td>2</td><td>Metal</td><td>Fe</td><td>Fe</td><td>  34.23449</td></tr>\n",
       "\t<tr><td>1040882</td><td>Weight</td><td>WS</td><td>Nordin et al. 2015</td><td>1</td><td>Metal</td><td>Mn</td><td>Mn</td><td>        NA</td></tr>\n",
       "\t<tr><td>1040882</td><td>Weight</td><td>WS</td><td>Nordin et al. 2015</td><td>2</td><td>Metal</td><td>Mn</td><td>Mn</td><td>        NA</td></tr>\n",
       "</tbody>\n",
       "</table>\n"
      ],
      "text/latex": [
       "A tibble: 6 × 9\n",
       "\\begin{tabular}{lllllllll}\n",
       " HAWC\\_ID & Metric & Data & Study & Replicate & Class & DTXSID & Name & Value\\\\\n",
       " <chr> & <chr> & <chr> & <chr> & <dbl> & <chr> & <chr> & <chr> & <dbl>\\\\\n",
       "\\hline\n",
       "\t 1040882 & Weight & WS & Nordin et al. 2015 & 1 & Metal & Ca & Ca & 7120.00000\\\\\n",
       "\t 1040882 & Weight & WS & Nordin et al. 2015 & 2 & Metal & Ca & Ca &   84.38009\\\\\n",
       "\t 1040882 & Weight & WS & Nordin et al. 2015 & 1 & Metal & Fe & Fe & 1172.00000\\\\\n",
       "\t 1040882 & Weight & WS & Nordin et al. 2015 & 2 & Metal & Fe & Fe &   34.23449\\\\\n",
       "\t 1040882 & Weight & WS & Nordin et al. 2015 & 1 & Metal & Mn & Mn &         NA\\\\\n",
       "\t 1040882 & Weight & WS & Nordin et al. 2015 & 2 & Metal & Mn & Mn &         NA\\\\\n",
       "\\end{tabular}\n"
      ],
      "text/markdown": [
       "\n",
       "A tibble: 6 × 9\n",
       "\n",
       "| HAWC_ID &lt;chr&gt; | Metric &lt;chr&gt; | Data &lt;chr&gt; | Study &lt;chr&gt; | Replicate &lt;dbl&gt; | Class &lt;chr&gt; | DTXSID &lt;chr&gt; | Name &lt;chr&gt; | Value &lt;dbl&gt; |\n",
       "|---|---|---|---|---|---|---|---|---|\n",
       "| 1040882 | Weight | WS | Nordin et al. 2015 | 1 | Metal | Ca | Ca | 7120.00000 |\n",
       "| 1040882 | Weight | WS | Nordin et al. 2015 | 2 | Metal | Ca | Ca |   84.38009 |\n",
       "| 1040882 | Weight | WS | Nordin et al. 2015 | 1 | Metal | Fe | Fe | 1172.00000 |\n",
       "| 1040882 | Weight | WS | Nordin et al. 2015 | 2 | Metal | Fe | Fe |   34.23449 |\n",
       "| 1040882 | Weight | WS | Nordin et al. 2015 | 1 | Metal | Mn | Mn |         NA |\n",
       "| 1040882 | Weight | WS | Nordin et al. 2015 | 2 | Metal | Mn | Mn |         NA |\n",
       "\n"
      ],
      "text/plain": [
       "  HAWC_ID Metric Data Study              Replicate Class DTXSID Name Value     \n",
       "1 1040882 Weight WS   Nordin et al. 2015 1         Metal Ca     Ca   7120.00000\n",
       "2 1040882 Weight WS   Nordin et al. 2015 2         Metal Ca     Ca     84.38009\n",
       "3 1040882 Weight WS   Nordin et al. 2015 1         Metal Fe     Fe   1172.00000\n",
       "4 1040882 Weight WS   Nordin et al. 2015 2         Metal Fe     Fe     34.23449\n",
       "5 1040882 Weight WS   Nordin et al. 2015 1         Metal Mn     Mn           NA\n",
       "6 1040882 Weight WS   Nordin et al. 2015 2         Metal Mn     Mn           NA"
      ]
     },
     "metadata": {},
     "output_type": "display_data"
    }
   ],
   "source": [
    "square_root_imputation = function(mnar_df, preimputed_df){\n",
    "    # ADD WORDS\n",
    "\n",
    "    id_df = mnar_df[is.na(mnar_df$Value),]\n",
    "    study_ids = unique(id_df$HAWC_ID)\n",
    "    \n",
    "    imputed_df = data.frame()\n",
    "    for (i in 1:length(id_df$HAWC_ID)){\n",
    "    \n",
    "        filtered_df = preimputed_df %>%\n",
    "            filter(HAWC_ID == id_df$HAWC_ID[i], DTXSID == id_df$DTXSID[i])\n",
    "    \n",
    "        na_df = filtered_df %>%\n",
    "            filter(is.na(Value)) %>%\n",
    "            mutate(Value = sqrt(min(filtered_df$Value, na.rm = TRUE)))\n",
    "    \n",
    "        # combining rows of data\n",
    "        combined_df = rbind(filtered_df %>%\n",
    "            filter(!is.na(Value)), na_df)\n",
    "    \n",
    "        imputed_df = rbind(imputed_df, combined_df) %>%\n",
    "                        unique()\n",
    "    }\n",
    "    return(imputed_df)    \n",
    "    \n",
    "}\n",
    "\n",
    "# calling fn\n",
    "imputed_vol_df = square_root_imputation(mnar_vol_df, preimputed_vol_df) %>%\n",
    "    mutate(Value = ifelse(Value == Inf, NA, Value))\n",
    "imputed_weight_df = square_root_imputation(mnar_weight_df, preimputed_weight_df) %>%\n",
    "    mutate(Value = ifelse(Value == Inf, NA, Value))\n",
    "    \n",
    "head(imputed_weight_df)"
   ]
  },
  {
   "cell_type": "code",
   "execution_count": 33,
   "id": "07854f04-04e7-47e4-8bf0-d5a235651018",
   "metadata": {
    "scrolled": true
   },
   "outputs": [
    {
     "name": "stderr",
     "output_type": "stream",
     "text": [
      "\u001b[1m\u001b[22mJoining with `by = join_by(Metric, Data, Class, DTXSID)`\n",
      "\u001b[1m\u001b[22mJoining with `by = join_by(Metric, Data, Class, DTXSID)`\n"
     ]
    },
    {
     "data": {
      "text/html": [
       "<table class=\"dataframe\">\n",
       "<caption>A tibble: 3 × 2</caption>\n",
       "<thead>\n",
       "\t<tr><th scope=col>DTXSID</th><th scope=col>Value</th></tr>\n",
       "\t<tr><th scope=col>&lt;chr&gt;</th><th scope=col>&lt;dbl&gt;</th></tr>\n",
       "</thead>\n",
       "<tbody>\n",
       "\t<tr><td>DTXSID2020139</td><td>0.6633250</td></tr>\n",
       "\t<tr><td>DTXSID3021774</td><td>0.2828427</td></tr>\n",
       "\t<tr><td>DTXSID5023908</td><td>1.1916375</td></tr>\n",
       "</tbody>\n",
       "</table>\n"
      ],
      "text/latex": [
       "A tibble: 3 × 2\n",
       "\\begin{tabular}{ll}\n",
       " DTXSID & Value\\\\\n",
       " <chr> & <dbl>\\\\\n",
       "\\hline\n",
       "\t DTXSID2020139 & 0.6633250\\\\\n",
       "\t DTXSID3021774 & 0.2828427\\\\\n",
       "\t DTXSID5023908 & 1.1916375\\\\\n",
       "\\end{tabular}\n"
      ],
      "text/markdown": [
       "\n",
       "A tibble: 3 × 2\n",
       "\n",
       "| DTXSID &lt;chr&gt; | Value &lt;dbl&gt; |\n",
       "|---|---|\n",
       "| DTXSID2020139 | 0.6633250 |\n",
       "| DTXSID3021774 | 0.2828427 |\n",
       "| DTXSID5023908 | 1.1916375 |\n",
       "\n"
      ],
      "text/plain": [
       "  DTXSID        Value    \n",
       "1 DTXSID2020139 0.6633250\n",
       "2 DTXSID3021774 0.2828427\n",
       "3 DTXSID5023908 1.1916375"
      ]
     },
     "metadata": {},
     "output_type": "display_data"
    },
    {
     "data": {
      "text/html": [
       "<table class=\"dataframe\">\n",
       "<caption>A tibble: 2 × 2</caption>\n",
       "<thead>\n",
       "\t<tr><th scope=col>DTXSID</th><th scope=col>Value</th></tr>\n",
       "\t<tr><th scope=col>&lt;chr&gt;</th><th scope=col>&lt;dbl&gt;</th></tr>\n",
       "</thead>\n",
       "<tbody>\n",
       "\t<tr><td>Mn</td><td>23.15913</td></tr>\n",
       "\t<tr><td>Ni</td><td>19.22008</td></tr>\n",
       "</tbody>\n",
       "</table>\n"
      ],
      "text/latex": [
       "A tibble: 2 × 2\n",
       "\\begin{tabular}{ll}\n",
       " DTXSID & Value\\\\\n",
       " <chr> & <dbl>\\\\\n",
       "\\hline\n",
       "\t Mn & 23.15913\\\\\n",
       "\t Ni & 19.22008\\\\\n",
       "\\end{tabular}\n"
      ],
      "text/markdown": [
       "\n",
       "A tibble: 2 × 2\n",
       "\n",
       "| DTXSID &lt;chr&gt; | Value &lt;dbl&gt; |\n",
       "|---|---|\n",
       "| Mn | 23.15913 |\n",
       "| Ni | 19.22008 |\n",
       "\n"
      ],
      "text/plain": [
       "  DTXSID Value   \n",
       "1 Mn     23.15913\n",
       "2 Ni     19.22008"
      ]
     },
     "metadata": {},
     "output_type": "display_data"
    }
   ],
   "source": [
    "# there are still a few variables that didn't have any values to do the square root imputation\n",
    "# their imputed values will be based off of distributions from other studies\n",
    "other_studies_vol_df = semi_join(preimputed_vol_df %>%\n",
    "                filter(!is.na(Value)), imputed_vol_df %>%\n",
    "                               filter(is.na(Value)) %>%\n",
    "    select(2,3,6,7)) %>%\n",
    "    group_by(DTXSID) %>%\n",
    "    summarize(Value = sqrt(min(Value)))\n",
    "\n",
    "other_studies_weight_df = semi_join(preimputed_weight_df %>%\n",
    "                filter(!is.na(Value)), imputed_weight_df %>%\n",
    "                               filter(is.na(Value)) %>%\n",
    "    select(2,3,6,7)) %>%\n",
    "    group_by(DTXSID) %>%\n",
    "    summarize(Value = sqrt(mean(Value)))\n",
    "\n",
    "head(other_studies_vol_df)\n",
    "head(other_studies_weight_df)"
   ]
  },
  {
   "cell_type": "code",
   "execution_count": 34,
   "id": "5ccba263-d734-4cdd-a705-b1ae9d6b156f",
   "metadata": {},
   "outputs": [
    {
     "data": {
      "text/html": [
       "<table class=\"dataframe\">\n",
       "<caption>A tibble: 6 × 9</caption>\n",
       "<thead>\n",
       "\t<tr><th scope=col>HAWC_ID</th><th scope=col>Metric</th><th scope=col>Data</th><th scope=col>Study</th><th scope=col>Replicate</th><th scope=col>Class</th><th scope=col>DTXSID</th><th scope=col>Name</th><th scope=col>Value</th></tr>\n",
       "\t<tr><th scope=col>&lt;chr&gt;</th><th scope=col>&lt;chr&gt;</th><th scope=col>&lt;chr&gt;</th><th scope=col>&lt;chr&gt;</th><th scope=col>&lt;dbl&gt;</th><th scope=col>&lt;chr&gt;</th><th scope=col>&lt;chr&gt;</th><th scope=col>&lt;chr&gt;</th><th scope=col>&lt;dbl&gt;</th></tr>\n",
       "</thead>\n",
       "<tbody>\n",
       "\t<tr><td>1298351</td><td>Volume</td><td>TRAP</td><td>Gunawardena et al. 2012</td><td> 3</td><td>Metal</td><td>Cr</td><td>Cr</td><td>20</td></tr>\n",
       "\t<tr><td>1298351</td><td>Volume</td><td>TRAP</td><td>Gunawardena et al. 2012</td><td> 4</td><td>Metal</td><td>Cr</td><td>Cr</td><td>30</td></tr>\n",
       "\t<tr><td>1298351</td><td>Volume</td><td>TRAP</td><td>Gunawardena et al. 2012</td><td> 6</td><td>Metal</td><td>Cr</td><td>Cr</td><td>30</td></tr>\n",
       "\t<tr><td>1298351</td><td>Volume</td><td>TRAP</td><td>Gunawardena et al. 2012</td><td> 7</td><td>Metal</td><td>Cr</td><td>Cr</td><td>90</td></tr>\n",
       "\t<tr><td>1298351</td><td>Volume</td><td>TRAP</td><td>Gunawardena et al. 2012</td><td>10</td><td>Metal</td><td>Cr</td><td>Cr</td><td>80</td></tr>\n",
       "\t<tr><td>1298351</td><td>Volume</td><td>TRAP</td><td>Gunawardena et al. 2012</td><td>11</td><td>Metal</td><td>Cr</td><td>Cr</td><td>20</td></tr>\n",
       "</tbody>\n",
       "</table>\n"
      ],
      "text/latex": [
       "A tibble: 6 × 9\n",
       "\\begin{tabular}{lllllllll}\n",
       " HAWC\\_ID & Metric & Data & Study & Replicate & Class & DTXSID & Name & Value\\\\\n",
       " <chr> & <chr> & <chr> & <chr> & <dbl> & <chr> & <chr> & <chr> & <dbl>\\\\\n",
       "\\hline\n",
       "\t 1298351 & Volume & TRAP & Gunawardena et al. 2012 &  3 & Metal & Cr & Cr & 20\\\\\n",
       "\t 1298351 & Volume & TRAP & Gunawardena et al. 2012 &  4 & Metal & Cr & Cr & 30\\\\\n",
       "\t 1298351 & Volume & TRAP & Gunawardena et al. 2012 &  6 & Metal & Cr & Cr & 30\\\\\n",
       "\t 1298351 & Volume & TRAP & Gunawardena et al. 2012 &  7 & Metal & Cr & Cr & 90\\\\\n",
       "\t 1298351 & Volume & TRAP & Gunawardena et al. 2012 & 10 & Metal & Cr & Cr & 80\\\\\n",
       "\t 1298351 & Volume & TRAP & Gunawardena et al. 2012 & 11 & Metal & Cr & Cr & 20\\\\\n",
       "\\end{tabular}\n"
      ],
      "text/markdown": [
       "\n",
       "A tibble: 6 × 9\n",
       "\n",
       "| HAWC_ID &lt;chr&gt; | Metric &lt;chr&gt; | Data &lt;chr&gt; | Study &lt;chr&gt; | Replicate &lt;dbl&gt; | Class &lt;chr&gt; | DTXSID &lt;chr&gt; | Name &lt;chr&gt; | Value &lt;dbl&gt; |\n",
       "|---|---|---|---|---|---|---|---|---|\n",
       "| 1298351 | Volume | TRAP | Gunawardena et al. 2012 |  3 | Metal | Cr | Cr | 20 |\n",
       "| 1298351 | Volume | TRAP | Gunawardena et al. 2012 |  4 | Metal | Cr | Cr | 30 |\n",
       "| 1298351 | Volume | TRAP | Gunawardena et al. 2012 |  6 | Metal | Cr | Cr | 30 |\n",
       "| 1298351 | Volume | TRAP | Gunawardena et al. 2012 |  7 | Metal | Cr | Cr | 90 |\n",
       "| 1298351 | Volume | TRAP | Gunawardena et al. 2012 | 10 | Metal | Cr | Cr | 80 |\n",
       "| 1298351 | Volume | TRAP | Gunawardena et al. 2012 | 11 | Metal | Cr | Cr | 20 |\n",
       "\n"
      ],
      "text/plain": [
       "  HAWC_ID Metric Data Study                   Replicate Class DTXSID Name Value\n",
       "1 1298351 Volume TRAP Gunawardena et al. 2012  3        Metal Cr     Cr   20   \n",
       "2 1298351 Volume TRAP Gunawardena et al. 2012  4        Metal Cr     Cr   30   \n",
       "3 1298351 Volume TRAP Gunawardena et al. 2012  6        Metal Cr     Cr   30   \n",
       "4 1298351 Volume TRAP Gunawardena et al. 2012  7        Metal Cr     Cr   90   \n",
       "5 1298351 Volume TRAP Gunawardena et al. 2012 10        Metal Cr     Cr   80   \n",
       "6 1298351 Volume TRAP Gunawardena et al. 2012 11        Metal Cr     Cr   20   "
      ]
     },
     "metadata": {},
     "output_type": "display_data"
    }
   ],
   "source": [
    "# removing NAs from the imputed df \n",
    "removed_imputed_vol_df = imputed_vol_df %>%\n",
    "    filter(!is.na(Value))\n",
    "removed_imputed_weight_df = imputed_weight_df %>%\n",
    "    filter(!is.na(Value))\n",
    "\n",
    "# adding in the newly imputed values back in \n",
    "all_imputed_vol_df = cbind(imputed_vol_df %>%\n",
    "    filter(is.na(Value)) %>%\n",
    "    select(-Value), Value = c(rep(other_studies_vol_df$Value[3],2), rep(other_studies_vol_df$Value[1],2),\n",
    "                     rep(other_studies_vol_df$Value[2],2)))\n",
    "all_imputed_vol_df = rbind(removed_imputed_vol_df, all_imputed_vol_df)\n",
    "\n",
    "all_imputed_weight_df = cbind(imputed_weight_df %>%\n",
    "    filter(is.na(Value)) %>%\n",
    "    select(-Value), Value = c(rep(other_studies_weight_df$Value[1],2), rep(other_studies_weight_df$Value[2],2),\n",
    "                     rep(other_studies_weight_df$Value[1],2)))\n",
    "all_imputed_weight_df = rbind(removed_imputed_vol_df, all_imputed_weight_df)\n",
    "# left_join(imputed_df %>%\n",
    "#         filter(is.na(Value)) %>%\n",
    "#         select(-Value), other_studies_df)\n",
    "\n",
    "head(all_imputed_weight_df)"
   ]
  },
  {
   "cell_type": "code",
   "execution_count": 35,
   "id": "1e23e74f-00fc-48d5-a263-3df792097fdd",
   "metadata": {},
   "outputs": [
    {
     "name": "stderr",
     "output_type": "stream",
     "text": [
      "\u001b[1m\u001b[22mJoining with `by = join_by(HAWC_ID, Metric, Data, Study, Replicate, Class,\n",
      "DTXSID, Name, Value)`\n",
      "\u001b[1m\u001b[22mJoining with `by = join_by(HAWC_ID, Metric, Data, Study, Replicate, Class,\n",
      "DTXSID, Name, Value)`\n"
     ]
    },
    {
     "data": {
      "text/html": [
       "<table class=\"dataframe\">\n",
       "<caption>A tibble: 6 × 9</caption>\n",
       "<thead>\n",
       "\t<tr><th scope=col>HAWC_ID</th><th scope=col>Metric</th><th scope=col>Data</th><th scope=col>Study</th><th scope=col>Replicate</th><th scope=col>Class</th><th scope=col>DTXSID</th><th scope=col>Name</th><th scope=col>Value</th></tr>\n",
       "\t<tr><th scope=col>&lt;chr&gt;</th><th scope=col>&lt;chr&gt;</th><th scope=col>&lt;chr&gt;</th><th scope=col>&lt;chr&gt;</th><th scope=col>&lt;dbl&gt;</th><th scope=col>&lt;chr&gt;</th><th scope=col>&lt;chr&gt;</th><th scope=col>&lt;chr&gt;</th><th scope=col>&lt;dbl&gt;</th></tr>\n",
       "</thead>\n",
       "<tbody>\n",
       "\t<tr><td>1298351</td><td>Volume</td><td>TRAP</td><td>Gunawardena et al. 2012</td><td> 3</td><td>Metal</td><td>Cr</td><td>Cr</td><td>20</td></tr>\n",
       "\t<tr><td>1298351</td><td>Volume</td><td>TRAP</td><td>Gunawardena et al. 2012</td><td> 4</td><td>Metal</td><td>Cr</td><td>Cr</td><td>30</td></tr>\n",
       "\t<tr><td>1298351</td><td>Volume</td><td>TRAP</td><td>Gunawardena et al. 2012</td><td> 6</td><td>Metal</td><td>Cr</td><td>Cr</td><td>30</td></tr>\n",
       "\t<tr><td>1298351</td><td>Volume</td><td>TRAP</td><td>Gunawardena et al. 2012</td><td> 7</td><td>Metal</td><td>Cr</td><td>Cr</td><td>90</td></tr>\n",
       "\t<tr><td>1298351</td><td>Volume</td><td>TRAP</td><td>Gunawardena et al. 2012</td><td>10</td><td>Metal</td><td>Cr</td><td>Cr</td><td>80</td></tr>\n",
       "\t<tr><td>1298351</td><td>Volume</td><td>TRAP</td><td>Gunawardena et al. 2012</td><td>11</td><td>Metal</td><td>Cr</td><td>Cr</td><td>20</td></tr>\n",
       "</tbody>\n",
       "</table>\n"
      ],
      "text/latex": [
       "A tibble: 6 × 9\n",
       "\\begin{tabular}{lllllllll}\n",
       " HAWC\\_ID & Metric & Data & Study & Replicate & Class & DTXSID & Name & Value\\\\\n",
       " <chr> & <chr> & <chr> & <chr> & <dbl> & <chr> & <chr> & <chr> & <dbl>\\\\\n",
       "\\hline\n",
       "\t 1298351 & Volume & TRAP & Gunawardena et al. 2012 &  3 & Metal & Cr & Cr & 20\\\\\n",
       "\t 1298351 & Volume & TRAP & Gunawardena et al. 2012 &  4 & Metal & Cr & Cr & 30\\\\\n",
       "\t 1298351 & Volume & TRAP & Gunawardena et al. 2012 &  6 & Metal & Cr & Cr & 30\\\\\n",
       "\t 1298351 & Volume & TRAP & Gunawardena et al. 2012 &  7 & Metal & Cr & Cr & 90\\\\\n",
       "\t 1298351 & Volume & TRAP & Gunawardena et al. 2012 & 10 & Metal & Cr & Cr & 80\\\\\n",
       "\t 1298351 & Volume & TRAP & Gunawardena et al. 2012 & 11 & Metal & Cr & Cr & 20\\\\\n",
       "\\end{tabular}\n"
      ],
      "text/markdown": [
       "\n",
       "A tibble: 6 × 9\n",
       "\n",
       "| HAWC_ID &lt;chr&gt; | Metric &lt;chr&gt; | Data &lt;chr&gt; | Study &lt;chr&gt; | Replicate &lt;dbl&gt; | Class &lt;chr&gt; | DTXSID &lt;chr&gt; | Name &lt;chr&gt; | Value &lt;dbl&gt; |\n",
       "|---|---|---|---|---|---|---|---|---|\n",
       "| 1298351 | Volume | TRAP | Gunawardena et al. 2012 |  3 | Metal | Cr | Cr | 20 |\n",
       "| 1298351 | Volume | TRAP | Gunawardena et al. 2012 |  4 | Metal | Cr | Cr | 30 |\n",
       "| 1298351 | Volume | TRAP | Gunawardena et al. 2012 |  6 | Metal | Cr | Cr | 30 |\n",
       "| 1298351 | Volume | TRAP | Gunawardena et al. 2012 |  7 | Metal | Cr | Cr | 90 |\n",
       "| 1298351 | Volume | TRAP | Gunawardena et al. 2012 | 10 | Metal | Cr | Cr | 80 |\n",
       "| 1298351 | Volume | TRAP | Gunawardena et al. 2012 | 11 | Metal | Cr | Cr | 20 |\n",
       "\n"
      ],
      "text/plain": [
       "  HAWC_ID Metric Data Study                   Replicate Class DTXSID Name Value\n",
       "1 1298351 Volume TRAP Gunawardena et al. 2012  3        Metal Cr     Cr   20   \n",
       "2 1298351 Volume TRAP Gunawardena et al. 2012  4        Metal Cr     Cr   30   \n",
       "3 1298351 Volume TRAP Gunawardena et al. 2012  6        Metal Cr     Cr   30   \n",
       "4 1298351 Volume TRAP Gunawardena et al. 2012  7        Metal Cr     Cr   90   \n",
       "5 1298351 Volume TRAP Gunawardena et al. 2012 10        Metal Cr     Cr   80   \n",
       "6 1298351 Volume TRAP Gunawardena et al. 2012 11        Metal Cr     Cr   20   "
      ]
     },
     "metadata": {},
     "output_type": "display_data"
    },
    {
     "data": {
      "text/html": [
       "<style>\n",
       ".list-inline {list-style: none; margin:0; padding: 0}\n",
       ".list-inline>li {display: inline-block}\n",
       ".list-inline>li:not(:last-child)::after {content: \"\\00b7\"; padding: 0 .5ex}\n",
       "</style>\n",
       "<ol class=list-inline><li>1199</li><li>9</li></ol>\n"
      ],
      "text/latex": [
       "\\begin{enumerate*}\n",
       "\\item 1199\n",
       "\\item 9\n",
       "\\end{enumerate*}\n"
      ],
      "text/markdown": [
       "1. 1199\n",
       "2. 9\n",
       "\n",
       "\n"
      ],
      "text/plain": [
       "[1] 1199    9"
      ]
     },
     "metadata": {},
     "output_type": "display_data"
    },
    {
     "data": {
      "text/html": [
       "<style>\n",
       ".list-inline {list-style: none; margin:0; padding: 0}\n",
       ".list-inline>li {display: inline-block}\n",
       ".list-inline>li:not(:last-child)::after {content: \"\\00b7\"; padding: 0 .5ex}\n",
       "</style>\n",
       "<ol class=list-inline><li>1475</li><li>9</li></ol>\n"
      ],
      "text/latex": [
       "\\begin{enumerate*}\n",
       "\\item 1475\n",
       "\\item 9\n",
       "\\end{enumerate*}\n"
      ],
      "text/markdown": [
       "1. 1475\n",
       "2. 9\n",
       "\n",
       "\n"
      ],
      "text/plain": [
       "[1] 1475    9"
      ]
     },
     "metadata": {},
     "output_type": "display_data"
    }
   ],
   "source": [
    "# creating 1 df\n",
    "mnar_imputed_vol_df = rbind(#imputed data\n",
    "                               all_imputed_vol_df,\n",
    "                               # adding in MAR data\n",
    "                               mar_vol_df,\n",
    "                               # adding back in non-imputed data\n",
    "                               anti_join(preimputed_vol_df %>%\n",
    "                                         filter(HAWC_ID %notin% all_imputed_vol_df$HAWC_ID), mnar_vol_df))\n",
    "mnar_imputed_weight_df = rbind(# imputed data\n",
    "                               all_imputed_weight_df,\n",
    "                               # adding in MAR data\n",
    "                               mar_weight_df,\n",
    "                               # adding back in non-imputed data\n",
    "                               anti_join(preimputed_weight_df %>%\n",
    "                                         filter(HAWC_ID %notin% all_imputed_weight_df$HAWC_ID), mnar_weight_df))\n",
    "\n",
    "head(mnar_imputed_weight_df)\n",
    "dim(mnar_imputed_vol_df)\n",
    "dim(mnar_imputed_weight_df)"
   ]
  },
  {
   "cell_type": "code",
   "execution_count": 26,
   "id": "8ab637a8-f3e3-4b57-aa11-facaa31d27ee",
   "metadata": {},
   "outputs": [],
   "source": [
    "# dim(vol_df)\n",
    "# dim(mar_vol_df)\n",
    "# dim(mnar_vol_df)\n",
    "# 1378 - 8 - 25\n",
    "# dim(anti_join(preimputed_vol_df, mnar_vol_df)) \n",
    "\n",
    "# dim(all_imputed_vol_df) # yes!\n",
    "# dim(imputed_vol_df)\n",
    "# dim(preimputed_vol_df %>%\n",
    "#                   filter(HAWC_ID %notin% all_imputed_vol_df$HAWC_ID))\n",
    "# 1095 + 63 "
   ]
  },
  {
   "cell_type": "markdown",
   "id": "4a7e96ae-45f5-4800-8ca1-e46bf264ce17",
   "metadata": {},
   "source": [
    "# Filter #4: Double Checking MAR Records\n",
    "\n",
    "Making sure that when the data is split based on `Class` and transformed into a wide format, we have at least 50% of the records with numeric values for each metal or chemical."
   ]
  },
  {
   "cell_type": "code",
   "execution_count": 36,
   "id": "4c1a1bb0-1a58-4d0d-bd7d-31c8a1ba194f",
   "metadata": {},
   "outputs": [
    {
     "data": {
      "text/html": [
       "<table class=\"dataframe\">\n",
       "<caption>A tibble: 6 × 7</caption>\n",
       "<thead>\n",
       "\t<tr><th scope=col>HAWC_ID</th><th scope=col>Metric</th><th scope=col>Data</th><th scope=col>Study</th><th scope=col>Class</th><th scope=col>DTXSID</th><th scope=col>Avg_Value</th></tr>\n",
       "\t<tr><th scope=col>&lt;chr&gt;</th><th scope=col>&lt;chr&gt;</th><th scope=col>&lt;chr&gt;</th><th scope=col>&lt;chr&gt;</th><th scope=col>&lt;chr&gt;</th><th scope=col>&lt;chr&gt;</th><th scope=col>&lt;dbl&gt;</th></tr>\n",
       "</thead>\n",
       "<tbody>\n",
       "\t<tr><td>1298351</td><td>Volume</td><td>TRAP</td><td>Gunawardena et al. 2012</td><td>Metal</td><td>Cr</td><td>        NA</td></tr>\n",
       "\t<tr><td>1298351</td><td>Volume</td><td>TRAP</td><td>Gunawardena et al. 2012</td><td>Metal</td><td>Cu</td><td>        NA</td></tr>\n",
       "\t<tr><td>USEPA  </td><td>Volume</td><td>TRAP</td><td>USEPA                  </td><td>Metal</td><td>Cu</td><td>        NA</td></tr>\n",
       "\t<tr><td>1263480</td><td>Volume</td><td>WS  </td><td>Burnet et al. 1990     </td><td>Metal</td><td>Ca</td><td>374250.000</td></tr>\n",
       "\t<tr><td>1263480</td><td>Volume</td><td>WS  </td><td>Burnet et al. 1990     </td><td>Metal</td><td>Cd</td><td>  1833.333</td></tr>\n",
       "\t<tr><td>1263480</td><td>Volume</td><td>WS  </td><td>Burnet et al. 1990     </td><td>Metal</td><td>Fe</td><td> 25791.667</td></tr>\n",
       "</tbody>\n",
       "</table>\n"
      ],
      "text/latex": [
       "A tibble: 6 × 7\n",
       "\\begin{tabular}{lllllll}\n",
       " HAWC\\_ID & Metric & Data & Study & Class & DTXSID & Avg\\_Value\\\\\n",
       " <chr> & <chr> & <chr> & <chr> & <chr> & <chr> & <dbl>\\\\\n",
       "\\hline\n",
       "\t 1298351 & Volume & TRAP & Gunawardena et al. 2012 & Metal & Cr &         NA\\\\\n",
       "\t 1298351 & Volume & TRAP & Gunawardena et al. 2012 & Metal & Cu &         NA\\\\\n",
       "\t USEPA   & Volume & TRAP & USEPA                   & Metal & Cu &         NA\\\\\n",
       "\t 1263480 & Volume & WS   & Burnet et al. 1990      & Metal & Ca & 374250.000\\\\\n",
       "\t 1263480 & Volume & WS   & Burnet et al. 1990      & Metal & Cd &   1833.333\\\\\n",
       "\t 1263480 & Volume & WS   & Burnet et al. 1990      & Metal & Fe &  25791.667\\\\\n",
       "\\end{tabular}\n"
      ],
      "text/markdown": [
       "\n",
       "A tibble: 6 × 7\n",
       "\n",
       "| HAWC_ID &lt;chr&gt; | Metric &lt;chr&gt; | Data &lt;chr&gt; | Study &lt;chr&gt; | Class &lt;chr&gt; | DTXSID &lt;chr&gt; | Avg_Value &lt;dbl&gt; |\n",
       "|---|---|---|---|---|---|---|\n",
       "| 1298351 | Volume | TRAP | Gunawardena et al. 2012 | Metal | Cr |         NA |\n",
       "| 1298351 | Volume | TRAP | Gunawardena et al. 2012 | Metal | Cu |         NA |\n",
       "| USEPA   | Volume | TRAP | USEPA                   | Metal | Cu |         NA |\n",
       "| 1263480 | Volume | WS   | Burnet et al. 1990      | Metal | Ca | 374250.000 |\n",
       "| 1263480 | Volume | WS   | Burnet et al. 1990      | Metal | Cd |   1833.333 |\n",
       "| 1263480 | Volume | WS   | Burnet et al. 1990      | Metal | Fe |  25791.667 |\n",
       "\n"
      ],
      "text/plain": [
       "  HAWC_ID Metric Data Study                   Class DTXSID Avg_Value \n",
       "1 1298351 Volume TRAP Gunawardena et al. 2012 Metal Cr             NA\n",
       "2 1298351 Volume TRAP Gunawardena et al. 2012 Metal Cu             NA\n",
       "3 USEPA   Volume TRAP USEPA                   Metal Cu             NA\n",
       "4 1263480 Volume WS   Burnet et al. 1990      Metal Ca     374250.000\n",
       "5 1263480 Volume WS   Burnet et al. 1990      Metal Cd       1833.333\n",
       "6 1263480 Volume WS   Burnet et al. 1990      Metal Fe      25791.667"
      ]
     },
     "metadata": {},
     "output_type": "display_data"
    }
   ],
   "source": [
    "split_vol_df = mnar_imputed_vol_df %>%\n",
    "    # averaging to get rid of replicates\n",
    "    group_by(HAWC_ID, Name) %>%\n",
    "    mutate(Avg_Value = mean(Value)) %>%\n",
    "    ungroup() %>%\n",
    "    select(-c(\"Replicate\", \"Value\", \"Name\")) %>%\n",
    "    unique() %>%\n",
    "    group_by(Class) %>%\n",
    "    group_split\n",
    "\n",
    "metal_vol_df = split_vol_df[[1]]\n",
    "pah_vol_df = split_vol_df[[2]]\n",
    "voc_vol_df = split_vol_df[[3]]\n",
    "\n",
    "head(metal_vol_df)"
   ]
  },
  {
   "cell_type": "code",
   "execution_count": 37,
   "id": "02847d8a-2e2b-4360-9511-8f34e5febb0b",
   "metadata": {},
   "outputs": [
    {
     "data": {
      "text/html": [
       "<table class=\"dataframe\">\n",
       "<caption>A tibble: 6 × 7</caption>\n",
       "<thead>\n",
       "\t<tr><th scope=col>HAWC_ID</th><th scope=col>Metric</th><th scope=col>Data</th><th scope=col>Study</th><th scope=col>Class</th><th scope=col>DTXSID</th><th scope=col>Avg_Value</th></tr>\n",
       "\t<tr><th scope=col>&lt;chr&gt;</th><th scope=col>&lt;chr&gt;</th><th scope=col>&lt;chr&gt;</th><th scope=col>&lt;chr&gt;</th><th scope=col>&lt;chr&gt;</th><th scope=col>&lt;chr&gt;</th><th scope=col>&lt;dbl&gt;</th></tr>\n",
       "</thead>\n",
       "<tbody>\n",
       "\t<tr><td>1298351</td><td>Volume</td><td>TRAP  </td><td>Gunawardena et al. 2012</td><td>Metal</td><td>Cr</td><td>28.78885</td></tr>\n",
       "\t<tr><td>1298351</td><td>Volume</td><td>TRAP  </td><td>Gunawardena et al. 2012</td><td>Metal</td><td>Cu</td><td>13.30890</td></tr>\n",
       "\t<tr><td>1040882</td><td>Weight</td><td>WS    </td><td>Nordin et al. 2015     </td><td>Metal</td><td>Mn</td><td>23.15913</td></tr>\n",
       "\t<tr><td>1040882</td><td>Weight</td><td>WS    </td><td>Nordin et al. 2015     </td><td>Metal</td><td>Ni</td><td>19.22008</td></tr>\n",
       "\t<tr><td>267105 </td><td>Weight</td><td>WS    </td><td>Danielsen et al. 2011  </td><td>Metal</td><td>Mn</td><td>23.15913</td></tr>\n",
       "\t<tr><td>1298342</td><td>Weight</td><td>Diesel</td><td>Bendtsen et al. 2020   </td><td>Metal</td><td>Ca</td><td>      NA</td></tr>\n",
       "</tbody>\n",
       "</table>\n"
      ],
      "text/latex": [
       "A tibble: 6 × 7\n",
       "\\begin{tabular}{lllllll}\n",
       " HAWC\\_ID & Metric & Data & Study & Class & DTXSID & Avg\\_Value\\\\\n",
       " <chr> & <chr> & <chr> & <chr> & <chr> & <chr> & <dbl>\\\\\n",
       "\\hline\n",
       "\t 1298351 & Volume & TRAP   & Gunawardena et al. 2012 & Metal & Cr & 28.78885\\\\\n",
       "\t 1298351 & Volume & TRAP   & Gunawardena et al. 2012 & Metal & Cu & 13.30890\\\\\n",
       "\t 1040882 & Weight & WS     & Nordin et al. 2015      & Metal & Mn & 23.15913\\\\\n",
       "\t 1040882 & Weight & WS     & Nordin et al. 2015      & Metal & Ni & 19.22008\\\\\n",
       "\t 267105  & Weight & WS     & Danielsen et al. 2011   & Metal & Mn & 23.15913\\\\\n",
       "\t 1298342 & Weight & Diesel & Bendtsen et al. 2020    & Metal & Ca &       NA\\\\\n",
       "\\end{tabular}\n"
      ],
      "text/markdown": [
       "\n",
       "A tibble: 6 × 7\n",
       "\n",
       "| HAWC_ID &lt;chr&gt; | Metric &lt;chr&gt; | Data &lt;chr&gt; | Study &lt;chr&gt; | Class &lt;chr&gt; | DTXSID &lt;chr&gt; | Avg_Value &lt;dbl&gt; |\n",
       "|---|---|---|---|---|---|---|\n",
       "| 1298351 | Volume | TRAP   | Gunawardena et al. 2012 | Metal | Cr | 28.78885 |\n",
       "| 1298351 | Volume | TRAP   | Gunawardena et al. 2012 | Metal | Cu | 13.30890 |\n",
       "| 1040882 | Weight | WS     | Nordin et al. 2015      | Metal | Mn | 23.15913 |\n",
       "| 1040882 | Weight | WS     | Nordin et al. 2015      | Metal | Ni | 19.22008 |\n",
       "| 267105  | Weight | WS     | Danielsen et al. 2011   | Metal | Mn | 23.15913 |\n",
       "| 1298342 | Weight | Diesel | Bendtsen et al. 2020    | Metal | Ca |       NA |\n",
       "\n"
      ],
      "text/plain": [
       "  HAWC_ID Metric Data   Study                   Class DTXSID Avg_Value\n",
       "1 1298351 Volume TRAP   Gunawardena et al. 2012 Metal Cr     28.78885 \n",
       "2 1298351 Volume TRAP   Gunawardena et al. 2012 Metal Cu     13.30890 \n",
       "3 1040882 Weight WS     Nordin et al. 2015      Metal Mn     23.15913 \n",
       "4 1040882 Weight WS     Nordin et al. 2015      Metal Ni     19.22008 \n",
       "5 267105  Weight WS     Danielsen et al. 2011   Metal Mn     23.15913 \n",
       "6 1298342 Weight Diesel Bendtsen et al. 2020    Metal Ca           NA "
      ]
     },
     "metadata": {},
     "output_type": "display_data"
    }
   ],
   "source": [
    "split_weight_df = mnar_imputed_weight_df %>%\n",
    "    # averaging to get rid of replicates\n",
    "    group_by(HAWC_ID, Name) %>%\n",
    "    mutate(Avg_Value = mean(Value)) %>%\n",
    "    ungroup() %>%\n",
    "    select(-c(\"Replicate\", \"Value\", \"Name\")) %>%\n",
    "    unique() %>%\n",
    "    group_by(Class) %>%\n",
    "    group_split\n",
    "\n",
    "metal_weight_df = split_weight_df[[1]]\n",
    "pah_weight_df = split_weight_df[[2]]\n",
    "\n",
    "head(metal_weight_df)"
   ]
  },
  {
   "cell_type": "markdown",
   "id": "aedde76b-a5a7-4954-b473-2bd395b65e6a",
   "metadata": {},
   "source": [
    "Converting values to 0s and 1s to count number of experimental and NDs previously imputed. Chemicals/metals that don't have at least 50% of values present will be removed."
   ]
  },
  {
   "cell_type": "code",
   "execution_count": 38,
   "id": "5f1d9f14-5cc4-4415-a8a4-5126bc5151d2",
   "metadata": {},
   "outputs": [
    {
     "data": {
      "text/html": [
       "<table class=\"dataframe\">\n",
       "<caption>A tibble: 6 × 28</caption>\n",
       "<thead>\n",
       "\t<tr><th scope=col>SampleID</th><th scope=col>HAWC_ID</th><th scope=col>Metric</th><th scope=col>Data</th><th scope=col>Study</th><th scope=col>Class</th><th scope=col>Cr</th><th scope=col>Cu</th><th scope=col>Mn</th><th scope=col>Ni</th><th scope=col>⋯</th><th scope=col>B</th><th scope=col>Ga</th><th scope=col>Rb</th><th scope=col>Mo</th><th scope=col>Sn</th><th scope=col>As</th><th scope=col>Pb</th><th scope=col>Sb</th><th scope=col>Sr</th><th scope=col>V</th></tr>\n",
       "\t<tr><th scope=col>&lt;chr&gt;</th><th scope=col>&lt;chr&gt;</th><th scope=col>&lt;chr&gt;</th><th scope=col>&lt;chr&gt;</th><th scope=col>&lt;chr&gt;</th><th scope=col>&lt;chr&gt;</th><th scope=col>&lt;dbl&gt;</th><th scope=col>&lt;dbl&gt;</th><th scope=col>&lt;dbl&gt;</th><th scope=col>&lt;dbl&gt;</th><th scope=col>⋯</th><th scope=col>&lt;dbl&gt;</th><th scope=col>&lt;dbl&gt;</th><th scope=col>&lt;dbl&gt;</th><th scope=col>&lt;dbl&gt;</th><th scope=col>&lt;dbl&gt;</th><th scope=col>&lt;dbl&gt;</th><th scope=col>&lt;dbl&gt;</th><th scope=col>&lt;dbl&gt;</th><th scope=col>&lt;dbl&gt;</th><th scope=col>&lt;dbl&gt;</th></tr>\n",
       "</thead>\n",
       "<tbody>\n",
       "\t<tr><td>1298351_TRAP_Metal  </td><td>1298351</td><td>Volume</td><td>TRAP  </td><td>Gunawardena et al. 2012</td><td>Metal</td><td>28.78885</td><td>  13.3089</td><td>      NA</td><td>      NA</td><td>⋯</td><td> NA</td><td>NA</td><td>      NA</td><td> NA</td><td>NA</td><td>NA</td><td>NA</td><td>NA</td><td>NA</td><td>NA</td></tr>\n",
       "\t<tr><td>1040882_WS_Metal    </td><td>1040882</td><td>Weight</td><td>WS    </td><td>Nordin et al. 2015     </td><td>Metal</td><td>      NA</td><td>       NA</td><td>23.15913</td><td>19.22008</td><td>⋯</td><td> NA</td><td>NA</td><td>      NA</td><td> NA</td><td>NA</td><td>NA</td><td>NA</td><td>NA</td><td>NA</td><td>NA</td></tr>\n",
       "\t<tr><td>267105_WS_Metal     </td><td>267105 </td><td>Weight</td><td>WS    </td><td>Danielsen et al. 2011  </td><td>Metal</td><td>      NA</td><td>       NA</td><td>23.15913</td><td>      NA</td><td>⋯</td><td> NA</td><td>NA</td><td>      NA</td><td> NA</td><td>NA</td><td>NA</td><td>NA</td><td>NA</td><td>NA</td><td>NA</td></tr>\n",
       "\t<tr><td>1298342_Diesel_Metal</td><td>1298342</td><td>Weight</td><td>Diesel</td><td>Bendtsen et al. 2020   </td><td>Metal</td><td>22.33333</td><td>4597.1163</td><td>72.50000</td><td>46.33333</td><td>⋯</td><td> NA</td><td> 1</td><td>1.333333</td><td> NA</td><td>NA</td><td>NA</td><td>NA</td><td>NA</td><td>NA</td><td>NA</td></tr>\n",
       "\t<tr><td>1298343_Diesel_Metal</td><td>1298343</td><td>Weight</td><td>Diesel</td><td>Bhavaraju et al. 2014  </td><td>Metal</td><td> 2.00000</td><td>  33.0000</td><td>      NA</td><td> 3.00000</td><td>⋯</td><td>3.5</td><td>NA</td><td>      NA</td><td>3.5</td><td>NA</td><td>NA</td><td>NA</td><td>NA</td><td>NA</td><td>NA</td></tr>\n",
       "\t<tr><td>1298344_Diesel_Metal</td><td>1298344</td><td>Weight</td><td>Diesel</td><td>Coufalik et al. 2019   </td><td>Metal</td><td> 0.01070</td><td>   0.3000</td><td> 0.01960</td><td> 0.01390</td><td>⋯</td><td> NA</td><td>NA</td><td>      NA</td><td> NA</td><td>NA</td><td>NA</td><td>NA</td><td>NA</td><td>NA</td><td>NA</td></tr>\n",
       "</tbody>\n",
       "</table>\n"
      ],
      "text/latex": [
       "A tibble: 6 × 28\n",
       "\\begin{tabular}{lllllllllllllllllllll}\n",
       " SampleID & HAWC\\_ID & Metric & Data & Study & Class & Cr & Cu & Mn & Ni & ⋯ & B & Ga & Rb & Mo & Sn & As & Pb & Sb & Sr & V\\\\\n",
       " <chr> & <chr> & <chr> & <chr> & <chr> & <chr> & <dbl> & <dbl> & <dbl> & <dbl> & ⋯ & <dbl> & <dbl> & <dbl> & <dbl> & <dbl> & <dbl> & <dbl> & <dbl> & <dbl> & <dbl>\\\\\n",
       "\\hline\n",
       "\t 1298351\\_TRAP\\_Metal   & 1298351 & Volume & TRAP   & Gunawardena et al. 2012 & Metal & 28.78885 &   13.3089 &       NA &       NA & ⋯ &  NA & NA &       NA &  NA & NA & NA & NA & NA & NA & NA\\\\\n",
       "\t 1040882\\_WS\\_Metal     & 1040882 & Weight & WS     & Nordin et al. 2015      & Metal &       NA &        NA & 23.15913 & 19.22008 & ⋯ &  NA & NA &       NA &  NA & NA & NA & NA & NA & NA & NA\\\\\n",
       "\t 267105\\_WS\\_Metal      & 267105  & Weight & WS     & Danielsen et al. 2011   & Metal &       NA &        NA & 23.15913 &       NA & ⋯ &  NA & NA &       NA &  NA & NA & NA & NA & NA & NA & NA\\\\\n",
       "\t 1298342\\_Diesel\\_Metal & 1298342 & Weight & Diesel & Bendtsen et al. 2020    & Metal & 22.33333 & 4597.1163 & 72.50000 & 46.33333 & ⋯ &  NA &  1 & 1.333333 &  NA & NA & NA & NA & NA & NA & NA\\\\\n",
       "\t 1298343\\_Diesel\\_Metal & 1298343 & Weight & Diesel & Bhavaraju et al. 2014   & Metal &  2.00000 &   33.0000 &       NA &  3.00000 & ⋯ & 3.5 & NA &       NA & 3.5 & NA & NA & NA & NA & NA & NA\\\\\n",
       "\t 1298344\\_Diesel\\_Metal & 1298344 & Weight & Diesel & Coufalik et al. 2019    & Metal &  0.01070 &    0.3000 &  0.01960 &  0.01390 & ⋯ &  NA & NA &       NA &  NA & NA & NA & NA & NA & NA & NA\\\\\n",
       "\\end{tabular}\n"
      ],
      "text/markdown": [
       "\n",
       "A tibble: 6 × 28\n",
       "\n",
       "| SampleID &lt;chr&gt; | HAWC_ID &lt;chr&gt; | Metric &lt;chr&gt; | Data &lt;chr&gt; | Study &lt;chr&gt; | Class &lt;chr&gt; | Cr &lt;dbl&gt; | Cu &lt;dbl&gt; | Mn &lt;dbl&gt; | Ni &lt;dbl&gt; | ⋯ ⋯ | B &lt;dbl&gt; | Ga &lt;dbl&gt; | Rb &lt;dbl&gt; | Mo &lt;dbl&gt; | Sn &lt;dbl&gt; | As &lt;dbl&gt; | Pb &lt;dbl&gt; | Sb &lt;dbl&gt; | Sr &lt;dbl&gt; | V &lt;dbl&gt; |\n",
       "|---|---|---|---|---|---|---|---|---|---|---|---|---|---|---|---|---|---|---|---|---|\n",
       "| 1298351_TRAP_Metal   | 1298351 | Volume | TRAP   | Gunawardena et al. 2012 | Metal | 28.78885 |   13.3089 |       NA |       NA | ⋯ |  NA | NA |       NA |  NA | NA | NA | NA | NA | NA | NA |\n",
       "| 1040882_WS_Metal     | 1040882 | Weight | WS     | Nordin et al. 2015      | Metal |       NA |        NA | 23.15913 | 19.22008 | ⋯ |  NA | NA |       NA |  NA | NA | NA | NA | NA | NA | NA |\n",
       "| 267105_WS_Metal      | 267105  | Weight | WS     | Danielsen et al. 2011   | Metal |       NA |        NA | 23.15913 |       NA | ⋯ |  NA | NA |       NA |  NA | NA | NA | NA | NA | NA | NA |\n",
       "| 1298342_Diesel_Metal | 1298342 | Weight | Diesel | Bendtsen et al. 2020    | Metal | 22.33333 | 4597.1163 | 72.50000 | 46.33333 | ⋯ |  NA |  1 | 1.333333 |  NA | NA | NA | NA | NA | NA | NA |\n",
       "| 1298343_Diesel_Metal | 1298343 | Weight | Diesel | Bhavaraju et al. 2014   | Metal |  2.00000 |   33.0000 |       NA |  3.00000 | ⋯ | 3.5 | NA |       NA | 3.5 | NA | NA | NA | NA | NA | NA |\n",
       "| 1298344_Diesel_Metal | 1298344 | Weight | Diesel | Coufalik et al. 2019    | Metal |  0.01070 |    0.3000 |  0.01960 |  0.01390 | ⋯ |  NA | NA |       NA |  NA | NA | NA | NA | NA | NA | NA |\n",
       "\n"
      ],
      "text/plain": [
       "  SampleID             HAWC_ID Metric Data   Study                   Class\n",
       "1 1298351_TRAP_Metal   1298351 Volume TRAP   Gunawardena et al. 2012 Metal\n",
       "2 1040882_WS_Metal     1040882 Weight WS     Nordin et al. 2015      Metal\n",
       "3 267105_WS_Metal      267105  Weight WS     Danielsen et al. 2011   Metal\n",
       "4 1298342_Diesel_Metal 1298342 Weight Diesel Bendtsen et al. 2020    Metal\n",
       "5 1298343_Diesel_Metal 1298343 Weight Diesel Bhavaraju et al. 2014   Metal\n",
       "6 1298344_Diesel_Metal 1298344 Weight Diesel Coufalik et al. 2019    Metal\n",
       "  Cr       Cu        Mn       Ni       ⋯ B   Ga Rb       Mo  Sn As Pb Sb Sr V \n",
       "1 28.78885   13.3089       NA       NA ⋯  NA NA       NA  NA NA NA NA NA NA NA\n",
       "2       NA        NA 23.15913 19.22008 ⋯  NA NA       NA  NA NA NA NA NA NA NA\n",
       "3       NA        NA 23.15913       NA ⋯  NA NA       NA  NA NA NA NA NA NA NA\n",
       "4 22.33333 4597.1163 72.50000 46.33333 ⋯  NA  1 1.333333  NA NA NA NA NA NA NA\n",
       "5  2.00000   33.0000       NA  3.00000 ⋯ 3.5 NA       NA 3.5 NA NA NA NA NA NA\n",
       "6  0.01070    0.3000  0.01960  0.01390 ⋯  NA NA       NA  NA NA NA NA NA NA NA"
      ]
     },
     "metadata": {},
     "output_type": "display_data"
    }
   ],
   "source": [
    "wider_metal_vol_df = metal_vol_df %>%\n",
    "    # creating sample ids\n",
    "    unite(\"SampleID\", c(colnames(metal_vol_df)[c(1,3,5)]), remove = FALSE) %>%\n",
    "    pivot_wider(names_from = \"DTXSID\", values_from = \"Avg_Value\") \n",
    "wider_pah_vol_df = pah_vol_df %>%\n",
    "    # creating sample ids\n",
    "    unite(\"SampleID\", c(colnames(pah_vol_df)[c(1,3,5)]), remove = FALSE) %>%\n",
    "    pivot_wider(names_from = \"DTXSID\", values_from = \"Avg_Value\")\n",
    "wider_voc_vol_df = voc_vol_df %>%\n",
    "    # creating sample ids\n",
    "    unite(\"SampleID\", c(colnames(pah_vol_df)[c(1,3,5)]), remove = FALSE) %>%\n",
    "    pivot_wider(names_from = \"DTXSID\", values_from = \"Avg_Value\")\n",
    "\n",
    "wider_metal_weight_df = metal_weight_df %>%\n",
    "    unite(\"SampleID\", c(colnames(metal_weight_df)[c(1,3,5)]), remove = FALSE) %>%\n",
    "    pivot_wider(names_from = \"DTXSID\", values_from = \"Avg_Value\") \n",
    "wider_pah_weight_df = pah_weight_df %>%\n",
    "    unite(\"SampleID\", c(colnames(pah_weight_df)[c(1,3,5)]), remove = FALSE) %>%\n",
    "    pivot_wider(names_from = \"DTXSID\", values_from = \"Avg_Value\")  \n",
    "\n",
    "head(wider_metal_weight_df)"
   ]
  },
  {
   "cell_type": "code",
   "execution_count": 43,
   "id": "10baac7b-db6e-458a-8e5c-295a4a66772d",
   "metadata": {},
   "outputs": [
    {
     "data": {
      "text/html": [
       "<table class=\"dataframe\">\n",
       "<caption>A data.frame: 6 × 1</caption>\n",
       "<thead>\n",
       "\t<tr><th></th><th scope=col>Percent</th></tr>\n",
       "\t<tr><th></th><th scope=col>&lt;dbl&gt;</th></tr>\n",
       "</thead>\n",
       "<tbody>\n",
       "\t<tr><th scope=row>Co</th><td> 8.888889</td></tr>\n",
       "\t<tr><th scope=row>Ba</th><td>11.111111</td></tr>\n",
       "\t<tr><th scope=row>B</th><td> 8.888889</td></tr>\n",
       "\t<tr><th scope=row>Ga</th><td> 2.222222</td></tr>\n",
       "\t<tr><th scope=row>Rb</th><td> 2.222222</td></tr>\n",
       "\t<tr><th scope=row>Mo</th><td> 2.222222</td></tr>\n",
       "</tbody>\n",
       "</table>\n"
      ],
      "text/latex": [
       "A data.frame: 6 × 1\n",
       "\\begin{tabular}{r|l}\n",
       "  & Percent\\\\\n",
       "  & <dbl>\\\\\n",
       "\\hline\n",
       "\tCo &  8.888889\\\\\n",
       "\tBa & 11.111111\\\\\n",
       "\tB &  8.888889\\\\\n",
       "\tGa &  2.222222\\\\\n",
       "\tRb &  2.222222\\\\\n",
       "\tMo &  2.222222\\\\\n",
       "\\end{tabular}\n"
      ],
      "text/markdown": [
       "\n",
       "A data.frame: 6 × 1\n",
       "\n",
       "| <!--/--> | Percent &lt;dbl&gt; |\n",
       "|---|---|\n",
       "| Co |  8.888889 |\n",
       "| Ba | 11.111111 |\n",
       "| B |  8.888889 |\n",
       "| Ga |  2.222222 |\n",
       "| Rb |  2.222222 |\n",
       "| Mo |  2.222222 |\n",
       "\n"
      ],
      "text/plain": [
       "   Percent  \n",
       "Co  8.888889\n",
       "Ba 11.111111\n",
       "B   8.888889\n",
       "Ga  2.222222\n",
       "Rb  2.222222\n",
       "Mo  2.222222"
      ]
     },
     "metadata": {},
     "output_type": "display_data"
    }
   ],
   "source": [
    "data_percentage = function(wider_dataset){\n",
    "    # ADD WORDS!!\n",
    "    \n",
    "    # converting values to 0s and 1s\n",
    "    summed_df = wider_dataset %>%\n",
    "        mutate(across(7:ncol(wider_dataset), ~ifelse(is.na(.x), 0, 1)))\n",
    "\n",
    "    # identifying metals/chemicals w/ =< 50% of experimental data\n",
    "    var_percentage_df = data.frame(Percent = colSums(summed_df[,7:ncol(summed_df)])/nrow(summed_df) * 100) %>%\n",
    "        filter(Percent <= 20)\n",
    "    # identifying studies w/ =< 10% of experimental data\n",
    "    study_percentage_df = data.frame(HAWC_ID = wider_dataset$HAWC_ID,\n",
    "                                     Percent = rowSums(summed_df[,7:ncol(summed_df)])/ncol(summed_df) * 100) %>%\n",
    "        filter(Percent <= 10)\n",
    "\n",
    "    return(list(var_percentage_df, study_percentage_df))\n",
    "}\n",
    "\n",
    "# calling fn\n",
    "percentage_metal_vol_df = data_percentage(wider_metal_vol_df)\n",
    "percentage_pah_vol_df = data_percentage(wider_pah_vol_df) \n",
    "percentage_voc_vol_df = data_percentage(wider_voc_vol_df) \n",
    "percentage_metal_weight_df = data_percentage(wider_metal_weight_df) \n",
    "percentage_pah_weight_df = data_percentage(wider_pah_weight_df)\n",
    "\n",
    "head(percentage_metal_weight_df[[1]])"
   ]
  },
  {
   "cell_type": "code",
   "execution_count": 44,
   "id": "00132275-7af1-4352-8645-e62b034373c9",
   "metadata": {},
   "outputs": [
    {
     "data": {
      "text/html": [
       "<table class=\"dataframe\">\n",
       "<caption>A tibble: 6 × 16</caption>\n",
       "<thead>\n",
       "\t<tr><th scope=col>SampleID</th><th scope=col>HAWC_ID</th><th scope=col>Metric</th><th scope=col>Data</th><th scope=col>Study</th><th scope=col>Class</th><th scope=col>Cr</th><th scope=col>Cu</th><th scope=col>Mn</th><th scope=col>Ni</th><th scope=col>Ca</th><th scope=col>Mg</th><th scope=col>Al</th><th scope=col>Fe</th><th scope=col>Zn</th><th scope=col>K</th></tr>\n",
       "\t<tr><th scope=col>&lt;chr&gt;</th><th scope=col>&lt;chr&gt;</th><th scope=col>&lt;chr&gt;</th><th scope=col>&lt;chr&gt;</th><th scope=col>&lt;chr&gt;</th><th scope=col>&lt;chr&gt;</th><th scope=col>&lt;dbl&gt;</th><th scope=col>&lt;dbl&gt;</th><th scope=col>&lt;dbl&gt;</th><th scope=col>&lt;dbl&gt;</th><th scope=col>&lt;dbl&gt;</th><th scope=col>&lt;dbl&gt;</th><th scope=col>&lt;dbl&gt;</th><th scope=col>&lt;dbl&gt;</th><th scope=col>&lt;dbl&gt;</th><th scope=col>&lt;dbl&gt;</th></tr>\n",
       "</thead>\n",
       "<tbody>\n",
       "\t<tr><td>1298342_Diesel_Metal</td><td>1298342</td><td>Weight</td><td>Diesel</td><td>Bendtsen et al. 2020 </td><td>Metal</td><td>22.33333</td><td>4597.116</td><td> 72.5000</td><td>46.33333</td><td>  NA</td><td> NA</td><td> NA</td><td>824.00</td><td>      NA</td><td>  NA</td></tr>\n",
       "\t<tr><td>1298343_Diesel_Metal</td><td>1298343</td><td>Weight</td><td>Diesel</td><td>Bhavaraju et al. 2014</td><td>Metal</td><td> 2.00000</td><td>  33.000</td><td>      NA</td><td> 3.00000</td><td> 367</td><td> 49</td><td>107</td><td> 90.00</td><td>   92.50</td><td> 6.5</td></tr>\n",
       "\t<tr><td>1298344_Diesel_Metal</td><td>1298344</td><td>Weight</td><td>Diesel</td><td>Coufalik et al. 2019 </td><td>Metal</td><td> 0.01070</td><td>   0.300</td><td>  0.0196</td><td> 0.01390</td><td>  NA</td><td> NA</td><td> NA</td><td>  0.55</td><td>    0.32</td><td>  NA</td></tr>\n",
       "\t<tr><td>1298349_Diesel_Metal</td><td>1298349</td><td>Weight</td><td>Diesel</td><td>Fox et al. 2015      </td><td>Metal</td><td>      NA</td><td>1155.000</td><td>      NA</td><td>      NA</td><td> 475</td><td>480</td><td> NA</td><td>250.00</td><td>  780.00</td><td>  NA</td></tr>\n",
       "\t<tr><td>1298372_Diesel_Metal</td><td>1298372</td><td>Weight</td><td>Diesel</td><td>Smits et al. 2012    </td><td>Metal</td><td>20.00000</td><td> 210.000</td><td> 73.0000</td><td>      NA</td><td> 311</td><td> NA</td><td> NA</td><td>161.00</td><td>  659.00</td><td>24.0</td></tr>\n",
       "\t<tr><td>1063054_WS_Metal    </td><td>1063054</td><td>Weight</td><td>WS    </td><td>Corsini et al. 2013  </td><td>Metal</td><td>40.00000</td><td> 375.000</td><td>945.0000</td><td>30.00000</td><td>4385</td><td> NA</td><td>685</td><td>355.00</td><td>10380.00</td><td>  NA</td></tr>\n",
       "</tbody>\n",
       "</table>\n"
      ],
      "text/latex": [
       "A tibble: 6 × 16\n",
       "\\begin{tabular}{llllllllllllllll}\n",
       " SampleID & HAWC\\_ID & Metric & Data & Study & Class & Cr & Cu & Mn & Ni & Ca & Mg & Al & Fe & Zn & K\\\\\n",
       " <chr> & <chr> & <chr> & <chr> & <chr> & <chr> & <dbl> & <dbl> & <dbl> & <dbl> & <dbl> & <dbl> & <dbl> & <dbl> & <dbl> & <dbl>\\\\\n",
       "\\hline\n",
       "\t 1298342\\_Diesel\\_Metal & 1298342 & Weight & Diesel & Bendtsen et al. 2020  & Metal & 22.33333 & 4597.116 &  72.5000 & 46.33333 &   NA &  NA &  NA & 824.00 &       NA &   NA\\\\\n",
       "\t 1298343\\_Diesel\\_Metal & 1298343 & Weight & Diesel & Bhavaraju et al. 2014 & Metal &  2.00000 &   33.000 &       NA &  3.00000 &  367 &  49 & 107 &  90.00 &    92.50 &  6.5\\\\\n",
       "\t 1298344\\_Diesel\\_Metal & 1298344 & Weight & Diesel & Coufalik et al. 2019  & Metal &  0.01070 &    0.300 &   0.0196 &  0.01390 &   NA &  NA &  NA &   0.55 &     0.32 &   NA\\\\\n",
       "\t 1298349\\_Diesel\\_Metal & 1298349 & Weight & Diesel & Fox et al. 2015       & Metal &       NA & 1155.000 &       NA &       NA &  475 & 480 &  NA & 250.00 &   780.00 &   NA\\\\\n",
       "\t 1298372\\_Diesel\\_Metal & 1298372 & Weight & Diesel & Smits et al. 2012     & Metal & 20.00000 &  210.000 &  73.0000 &       NA &  311 &  NA &  NA & 161.00 &   659.00 & 24.0\\\\\n",
       "\t 1063054\\_WS\\_Metal     & 1063054 & Weight & WS     & Corsini et al. 2013   & Metal & 40.00000 &  375.000 & 945.0000 & 30.00000 & 4385 &  NA & 685 & 355.00 & 10380.00 &   NA\\\\\n",
       "\\end{tabular}\n"
      ],
      "text/markdown": [
       "\n",
       "A tibble: 6 × 16\n",
       "\n",
       "| SampleID &lt;chr&gt; | HAWC_ID &lt;chr&gt; | Metric &lt;chr&gt; | Data &lt;chr&gt; | Study &lt;chr&gt; | Class &lt;chr&gt; | Cr &lt;dbl&gt; | Cu &lt;dbl&gt; | Mn &lt;dbl&gt; | Ni &lt;dbl&gt; | Ca &lt;dbl&gt; | Mg &lt;dbl&gt; | Al &lt;dbl&gt; | Fe &lt;dbl&gt; | Zn &lt;dbl&gt; | K &lt;dbl&gt; |\n",
       "|---|---|---|---|---|---|---|---|---|---|---|---|---|---|---|---|\n",
       "| 1298342_Diesel_Metal | 1298342 | Weight | Diesel | Bendtsen et al. 2020  | Metal | 22.33333 | 4597.116 |  72.5000 | 46.33333 |   NA |  NA |  NA | 824.00 |       NA |   NA |\n",
       "| 1298343_Diesel_Metal | 1298343 | Weight | Diesel | Bhavaraju et al. 2014 | Metal |  2.00000 |   33.000 |       NA |  3.00000 |  367 |  49 | 107 |  90.00 |    92.50 |  6.5 |\n",
       "| 1298344_Diesel_Metal | 1298344 | Weight | Diesel | Coufalik et al. 2019  | Metal |  0.01070 |    0.300 |   0.0196 |  0.01390 |   NA |  NA |  NA |   0.55 |     0.32 |   NA |\n",
       "| 1298349_Diesel_Metal | 1298349 | Weight | Diesel | Fox et al. 2015       | Metal |       NA | 1155.000 |       NA |       NA |  475 | 480 |  NA | 250.00 |   780.00 |   NA |\n",
       "| 1298372_Diesel_Metal | 1298372 | Weight | Diesel | Smits et al. 2012     | Metal | 20.00000 |  210.000 |  73.0000 |       NA |  311 |  NA |  NA | 161.00 |   659.00 | 24.0 |\n",
       "| 1063054_WS_Metal     | 1063054 | Weight | WS     | Corsini et al. 2013   | Metal | 40.00000 |  375.000 | 945.0000 | 30.00000 | 4385 |  NA | 685 | 355.00 | 10380.00 |   NA |\n",
       "\n"
      ],
      "text/plain": [
       "  SampleID             HAWC_ID Metric Data   Study                 Class\n",
       "1 1298342_Diesel_Metal 1298342 Weight Diesel Bendtsen et al. 2020  Metal\n",
       "2 1298343_Diesel_Metal 1298343 Weight Diesel Bhavaraju et al. 2014 Metal\n",
       "3 1298344_Diesel_Metal 1298344 Weight Diesel Coufalik et al. 2019  Metal\n",
       "4 1298349_Diesel_Metal 1298349 Weight Diesel Fox et al. 2015       Metal\n",
       "5 1298372_Diesel_Metal 1298372 Weight Diesel Smits et al. 2012     Metal\n",
       "6 1063054_WS_Metal     1063054 Weight WS     Corsini et al. 2013   Metal\n",
       "  Cr       Cu       Mn       Ni       Ca   Mg  Al  Fe     Zn       K   \n",
       "1 22.33333 4597.116  72.5000 46.33333   NA  NA  NA 824.00       NA   NA\n",
       "2  2.00000   33.000       NA  3.00000  367  49 107  90.00    92.50  6.5\n",
       "3  0.01070    0.300   0.0196  0.01390   NA  NA  NA   0.55     0.32   NA\n",
       "4       NA 1155.000       NA       NA  475 480  NA 250.00   780.00   NA\n",
       "5 20.00000  210.000  73.0000       NA  311  NA  NA 161.00   659.00 24.0\n",
       "6 40.00000  375.000 945.0000 30.00000 4385  NA 685 355.00 10380.00   NA"
      ]
     },
     "metadata": {},
     "output_type": "display_data"
    }
   ],
   "source": [
    "# removing those metals/chemicals & studies from the OG df\n",
    "preimputed_metal_vol_df = wider_metal_vol_df[,colnames(wider_metal_vol_df) %notin% rownames(percentage_metal_vol_df[[1]])]\n",
    "preimputed_pah_vol_df = wider_pah_vol_df[,colnames(wider_pah_vol_df) %notin% rownames(percentage_pah_vol_df[[1]])]\n",
    "preimputed_voc_vol_df = wider_voc_vol_df[,colnames(wider_voc_vol_df) %notin% rownames(percentage_voc_vol_df[[1]])]\n",
    "preimputed_metal_weight_df = wider_metal_weight_df[,colnames(wider_metal_weight_df) %notin% rownames(percentage_metal_weight_df[[1]])]\n",
    "preimputed_pah_weight_df = wider_pah_weight_df[,colnames(wider_pah_weight_df) %notin% rownames(percentage_pah_weight_df[[1]])]\n",
    "\n",
    "preimputed_metal_vol_df = preimputed_metal_vol_df %>% filter(HAWC_ID %notin% percentage_metal_vol_df[[2]]$HAWC_ID)\n",
    "preimputed_pah_vol_df = preimputed_pah_vol_df %>% filter(HAWC_ID %notin% percentage_pah_vol_df[[2]]$HAWC_ID)\n",
    "preimputed_metal_vol_df = preimputed_metal_vol_df %>% filter(HAWC_ID %notin% percentage_metal_vol_df[[2]]$HAWC_ID)\n",
    "preimputed_metal_weight_df = preimputed_metal_weight_df %>% filter(HAWC_ID %notin% percentage_metal_weight_df[[2]]$HAWC_ID)\n",
    "preimputed_pah_weight_df = preimputed_pah_weight_df %>% filter(HAWC_ID %notin% percentage_pah_weight_df[[2]]$HAWC_ID)\n",
    "\n",
    "head(preimputed_metal_weight_df)"
   ]
  },
  {
   "cell_type": "code",
   "execution_count": 45,
   "id": "f70ba746-a76c-43ee-a02f-2887f28886b9",
   "metadata": {},
   "outputs": [
    {
     "data": {
      "text/html": [
       "15"
      ],
      "text/latex": [
       "15"
      ],
      "text/markdown": [
       "15"
      ],
      "text/plain": [
       "[1] 15"
      ]
     },
     "metadata": {},
     "output_type": "display_data"
    },
    {
     "data": {
      "text/html": [
       "11"
      ],
      "text/latex": [
       "11"
      ],
      "text/markdown": [
       "11"
      ],
      "text/plain": [
       "[1] 11"
      ]
     },
     "metadata": {},
     "output_type": "display_data"
    },
    {
     "data": {
      "text/html": [
       "11"
      ],
      "text/latex": [
       "11"
      ],
      "text/markdown": [
       "11"
      ],
      "text/plain": [
       "[1] 11"
      ]
     },
     "metadata": {},
     "output_type": "display_data"
    },
    {
     "data": {
      "text/html": [
       "10"
      ],
      "text/latex": [
       "10"
      ],
      "text/markdown": [
       "10"
      ],
      "text/plain": [
       "[1] 10"
      ]
     },
     "metadata": {},
     "output_type": "display_data"
    },
    {
     "data": {
      "text/html": [
       "9"
      ],
      "text/latex": [
       "9"
      ],
      "text/markdown": [
       "9"
      ],
      "text/plain": [
       "[1] 9"
      ]
     },
     "metadata": {},
     "output_type": "display_data"
    }
   ],
   "source": [
    "# How many metals/chemicals are now left in the dataset?\n",
    "ncol(preimputed_metal_vol_df) - 6\n",
    "ncol(preimputed_pah_vol_df) - 6\n",
    "ncol(preimputed_voc_vol_df) - 6\n",
    "ncol(preimputed_metal_weight_df) - 6\n",
    "ncol(preimputed_pah_weight_df) - 6"
   ]
  },
  {
   "cell_type": "markdown",
   "id": "5f4d134a-b801-4a28-bc8a-086319521b88",
   "metadata": {},
   "source": [
    "ADD WORDS. \n",
    "\n",
    "# RF Imputation"
   ]
  },
  {
   "cell_type": "code",
   "execution_count": 33,
   "id": "f585ce82-69ed-4c15-9764-099830f74e75",
   "metadata": {
    "scrolled": true
   },
   "outputs": [
    {
     "data": {
      "text/html": [
       "<table class=\"dataframe\">\n",
       "<caption>A tibble: 6 × 8</caption>\n",
       "<thead>\n",
       "\t<tr><th scope=col>SampleID</th><th scope=col>HAWC_ID</th><th scope=col>Metric</th><th scope=col>Data</th><th scope=col>Study</th><th scope=col>Class</th><th scope=col>DTXSID</th><th scope=col>Value</th></tr>\n",
       "\t<tr><th scope=col>&lt;chr&gt;</th><th scope=col>&lt;dbl&gt;</th><th scope=col>&lt;chr&gt;</th><th scope=col>&lt;chr&gt;</th><th scope=col>&lt;chr&gt;</th><th scope=col>&lt;chr&gt;</th><th scope=col>&lt;chr&gt;</th><th scope=col>&lt;dbl&gt;</th></tr>\n",
       "</thead>\n",
       "<tbody>\n",
       "\t<tr><td>2_TRAP_Metal</td><td>2</td><td>Volume</td><td>TRAP</td><td>USEPA</td><td>Metal</td><td>K </td><td>34642.92963</td></tr>\n",
       "\t<tr><td>2_TRAP_Metal</td><td>2</td><td>Volume</td><td>TRAP</td><td>USEPA</td><td>Metal</td><td>Ca</td><td>  512.54300</td></tr>\n",
       "\t<tr><td>2_TRAP_Metal</td><td>2</td><td>Volume</td><td>TRAP</td><td>USEPA</td><td>Metal</td><td>Cd</td><td>    0.09450</td></tr>\n",
       "\t<tr><td>2_TRAP_Metal</td><td>2</td><td>Volume</td><td>TRAP</td><td>USEPA</td><td>Metal</td><td>Fe</td><td>  161.62958</td></tr>\n",
       "\t<tr><td>2_TRAP_Metal</td><td>2</td><td>Volume</td><td>TRAP</td><td>USEPA</td><td>Metal</td><td>Mn</td><td>    2.17625</td></tr>\n",
       "\t<tr><td>2_TRAP_Metal</td><td>2</td><td>Volume</td><td>TRAP</td><td>USEPA</td><td>Metal</td><td>Ni</td><td>    0.73025</td></tr>\n",
       "</tbody>\n",
       "</table>\n"
      ],
      "text/latex": [
       "A tibble: 6 × 8\n",
       "\\begin{tabular}{llllllll}\n",
       " SampleID & HAWC\\_ID & Metric & Data & Study & Class & DTXSID & Value\\\\\n",
       " <chr> & <dbl> & <chr> & <chr> & <chr> & <chr> & <chr> & <dbl>\\\\\n",
       "\\hline\n",
       "\t 2\\_TRAP\\_Metal & 2 & Volume & TRAP & USEPA & Metal & K  & 34642.92963\\\\\n",
       "\t 2\\_TRAP\\_Metal & 2 & Volume & TRAP & USEPA & Metal & Ca &   512.54300\\\\\n",
       "\t 2\\_TRAP\\_Metal & 2 & Volume & TRAP & USEPA & Metal & Cd &     0.09450\\\\\n",
       "\t 2\\_TRAP\\_Metal & 2 & Volume & TRAP & USEPA & Metal & Fe &   161.62958\\\\\n",
       "\t 2\\_TRAP\\_Metal & 2 & Volume & TRAP & USEPA & Metal & Mn &     2.17625\\\\\n",
       "\t 2\\_TRAP\\_Metal & 2 & Volume & TRAP & USEPA & Metal & Ni &     0.73025\\\\\n",
       "\\end{tabular}\n"
      ],
      "text/markdown": [
       "\n",
       "A tibble: 6 × 8\n",
       "\n",
       "| SampleID &lt;chr&gt; | HAWC_ID &lt;dbl&gt; | Metric &lt;chr&gt; | Data &lt;chr&gt; | Study &lt;chr&gt; | Class &lt;chr&gt; | DTXSID &lt;chr&gt; | Value &lt;dbl&gt; |\n",
       "|---|---|---|---|---|---|---|---|\n",
       "| 2_TRAP_Metal | 2 | Volume | TRAP | USEPA | Metal | K  | 34642.92963 |\n",
       "| 2_TRAP_Metal | 2 | Volume | TRAP | USEPA | Metal | Ca |   512.54300 |\n",
       "| 2_TRAP_Metal | 2 | Volume | TRAP | USEPA | Metal | Cd |     0.09450 |\n",
       "| 2_TRAP_Metal | 2 | Volume | TRAP | USEPA | Metal | Fe |   161.62958 |\n",
       "| 2_TRAP_Metal | 2 | Volume | TRAP | USEPA | Metal | Mn |     2.17625 |\n",
       "| 2_TRAP_Metal | 2 | Volume | TRAP | USEPA | Metal | Ni |     0.73025 |\n",
       "\n"
      ],
      "text/plain": [
       "  SampleID     HAWC_ID Metric Data Study Class DTXSID Value      \n",
       "1 2_TRAP_Metal 2       Volume TRAP USEPA Metal K      34642.92963\n",
       "2 2_TRAP_Metal 2       Volume TRAP USEPA Metal Ca       512.54300\n",
       "3 2_TRAP_Metal 2       Volume TRAP USEPA Metal Cd         0.09450\n",
       "4 2_TRAP_Metal 2       Volume TRAP USEPA Metal Fe       161.62958\n",
       "5 2_TRAP_Metal 2       Volume TRAP USEPA Metal Mn         2.17625\n",
       "6 2_TRAP_Metal 2       Volume TRAP USEPA Metal Ni         0.73025"
      ]
     },
     "metadata": {},
     "output_type": "display_data"
    },
    {
     "data": {
      "text/html": [
       "<style>\n",
       ".list-inline {list-style: none; margin:0; padding: 0}\n",
       ".list-inline>li {display: inline-block}\n",
       ".list-inline>li:not(:last-child)::after {content: \"\\00b7\"; padding: 0 .5ex}\n",
       "</style>\n",
       "<ol class=list-inline><li>511</li><li>8</li></ol>\n"
      ],
      "text/latex": [
       "\\begin{enumerate*}\n",
       "\\item 511\n",
       "\\item 8\n",
       "\\end{enumerate*}\n"
      ],
      "text/markdown": [
       "1. 511\n",
       "2. 8\n",
       "\n",
       "\n"
      ],
      "text/plain": [
       "[1] 511   8"
      ]
     },
     "metadata": {},
     "output_type": "display_data"
    }
   ],
   "source": [
    "random_forest_imputation = function(dataset){\n",
    "    # ADD WORDS\n",
    "    \n",
    "    preimputed_df = dataset[,7:ncol(dataset)]\n",
    "    \n",
    "    imputed_RF_object = missForest(as.matrix(preimputed_df))\n",
    "    imputed_RF_df = imputed_RF_object$ximp\n",
    "    imputed_final_df = data.frame(cbind(dataset[,1:6], imputed_RF_df)) %>%\n",
    "        pivot_longer(cols = 7:ncol(dataset), names_to = \"DTXSID\", values_to = \"Value\")\n",
    "    \n",
    "    return(imputed_final_df)\n",
    "}\n",
    "\n",
    "# calling fn\n",
    "rf_metal_vol_imputed_df = random_forest_imputation(preimputed_metal_vol_df) \n",
    "rf_pah_vol_imputed_df = random_forest_imputation(preimputed_pah_vol_df)\n",
    "rf_voc_vol_imputed_df = random_forest_imputation(preimputed_voc_vol_df)\n",
    "rf_metal_weight_imputed_df = random_forest_imputation(preimputed_metal_weight_df) \n",
    "#rf_pah_weight_imputed_df = random_forest_imputation(preimputed_pah_weight_df)\n",
    "\n",
    "rf_imputed_df = rbind(rf_metal_vol_imputed_df, rf_pah_vol_imputed_df, \n",
    "                      rf_voc_vol_imputed_df, rf_metal_weight_imputed_df#,\n",
    "                      #rf_pah_weight_imputed_df\n",
    "                     ) \n",
    "\n",
    "head(rf_imputed_df)\n",
    "dim(rf_imputed_df)"
   ]
  },
  {
   "cell_type": "code",
   "execution_count": 34,
   "id": "7db6faee-27f7-4daa-8c24-d447c9ec8e55",
   "metadata": {},
   "outputs": [
    {
     "name": "stderr",
     "output_type": "stream",
     "text": [
      "\u001b[1m\u001b[22mJoining with `by = join_by(DTXSID)`\n"
     ]
    },
    {
     "data": {
      "text/html": [
       "<table class=\"dataframe\">\n",
       "<caption>A tibble: 6 × 8</caption>\n",
       "<thead>\n",
       "\t<tr><th scope=col>HAWC_ID</th><th scope=col>Metric</th><th scope=col>Data</th><th scope=col>Study</th><th scope=col>Class</th><th scope=col>DTXSID</th><th scope=col>Name</th><th scope=col>Value</th></tr>\n",
       "\t<tr><th scope=col>&lt;dbl&gt;</th><th scope=col>&lt;chr&gt;</th><th scope=col>&lt;chr&gt;</th><th scope=col>&lt;chr&gt;</th><th scope=col>&lt;chr&gt;</th><th scope=col>&lt;chr&gt;</th><th scope=col>&lt;chr&gt;</th><th scope=col>&lt;dbl&gt;</th></tr>\n",
       "</thead>\n",
       "<tbody>\n",
       "\t<tr><td>2</td><td>Volume</td><td>TRAP</td><td>USEPA</td><td>Metal</td><td>K </td><td>K </td><td>34642.92963</td></tr>\n",
       "\t<tr><td>2</td><td>Volume</td><td>TRAP</td><td>USEPA</td><td>Metal</td><td>Ca</td><td>Ca</td><td>  512.54300</td></tr>\n",
       "\t<tr><td>2</td><td>Volume</td><td>TRAP</td><td>USEPA</td><td>Metal</td><td>Cd</td><td>Cd</td><td>    0.09450</td></tr>\n",
       "\t<tr><td>2</td><td>Volume</td><td>TRAP</td><td>USEPA</td><td>Metal</td><td>Fe</td><td>Fe</td><td>  161.62958</td></tr>\n",
       "\t<tr><td>2</td><td>Volume</td><td>TRAP</td><td>USEPA</td><td>Metal</td><td>Mn</td><td>Mn</td><td>    2.17625</td></tr>\n",
       "\t<tr><td>2</td><td>Volume</td><td>TRAP</td><td>USEPA</td><td>Metal</td><td>Ni</td><td>Ni</td><td>    0.73025</td></tr>\n",
       "</tbody>\n",
       "</table>\n"
      ],
      "text/latex": [
       "A tibble: 6 × 8\n",
       "\\begin{tabular}{llllllll}\n",
       " HAWC\\_ID & Metric & Data & Study & Class & DTXSID & Name & Value\\\\\n",
       " <dbl> & <chr> & <chr> & <chr> & <chr> & <chr> & <chr> & <dbl>\\\\\n",
       "\\hline\n",
       "\t 2 & Volume & TRAP & USEPA & Metal & K  & K  & 34642.92963\\\\\n",
       "\t 2 & Volume & TRAP & USEPA & Metal & Ca & Ca &   512.54300\\\\\n",
       "\t 2 & Volume & TRAP & USEPA & Metal & Cd & Cd &     0.09450\\\\\n",
       "\t 2 & Volume & TRAP & USEPA & Metal & Fe & Fe &   161.62958\\\\\n",
       "\t 2 & Volume & TRAP & USEPA & Metal & Mn & Mn &     2.17625\\\\\n",
       "\t 2 & Volume & TRAP & USEPA & Metal & Ni & Ni &     0.73025\\\\\n",
       "\\end{tabular}\n"
      ],
      "text/markdown": [
       "\n",
       "A tibble: 6 × 8\n",
       "\n",
       "| HAWC_ID &lt;dbl&gt; | Metric &lt;chr&gt; | Data &lt;chr&gt; | Study &lt;chr&gt; | Class &lt;chr&gt; | DTXSID &lt;chr&gt; | Name &lt;chr&gt; | Value &lt;dbl&gt; |\n",
       "|---|---|---|---|---|---|---|---|\n",
       "| 2 | Volume | TRAP | USEPA | Metal | K  | K  | 34642.92963 |\n",
       "| 2 | Volume | TRAP | USEPA | Metal | Ca | Ca |   512.54300 |\n",
       "| 2 | Volume | TRAP | USEPA | Metal | Cd | Cd |     0.09450 |\n",
       "| 2 | Volume | TRAP | USEPA | Metal | Fe | Fe |   161.62958 |\n",
       "| 2 | Volume | TRAP | USEPA | Metal | Mn | Mn |     2.17625 |\n",
       "| 2 | Volume | TRAP | USEPA | Metal | Ni | Ni |     0.73025 |\n",
       "\n"
      ],
      "text/plain": [
       "  HAWC_ID Metric Data Study Class DTXSID Name Value      \n",
       "1 2       Volume TRAP USEPA Metal K      K    34642.92963\n",
       "2 2       Volume TRAP USEPA Metal Ca     Ca     512.54300\n",
       "3 2       Volume TRAP USEPA Metal Cd     Cd       0.09450\n",
       "4 2       Volume TRAP USEPA Metal Fe     Fe     161.62958\n",
       "5 2       Volume TRAP USEPA Metal Mn     Mn       2.17625\n",
       "6 2       Volume TRAP USEPA Metal Ni     Ni       0.73025"
      ]
     },
     "metadata": {},
     "output_type": "display_data"
    },
    {
     "data": {
      "text/html": [
       "<style>\n",
       ".list-inline {list-style: none; margin:0; padding: 0}\n",
       ".list-inline>li {display: inline-block}\n",
       ".list-inline>li:not(:last-child)::after {content: \"\\00b7\"; padding: 0 .5ex}\n",
       "</style>\n",
       "<ol class=list-inline><li>511</li><li>8</li></ol>\n"
      ],
      "text/latex": [
       "\\begin{enumerate*}\n",
       "\\item 511\n",
       "\\item 8\n",
       "\\end{enumerate*}\n"
      ],
      "text/markdown": [
       "1. 511\n",
       "2. 8\n",
       "\n",
       "\n"
      ],
      "text/plain": [
       "[1] 511   8"
      ]
     },
     "metadata": {},
     "output_type": "display_data"
    }
   ],
   "source": [
    "# adding back in name col\n",
    "final_df = left_join(rf_imputed_df, \n",
    "                      rbind(mnar_imputed_weight_df, mnar_imputed_vol_df)[,c(7,8)] %>% unique())\n",
    "\n",
    "final_df = final_df[,c(2:7,9,8)]\n",
    "\n",
    "head(final_df)\n",
    "dim(final_df)"
   ]
  },
  {
   "cell_type": "code",
   "execution_count": 35,
   "id": "71aabfcd-d6a1-4a68-a845-1e890ab2bab7",
   "metadata": {},
   "outputs": [],
   "source": [
    "# exporting\n",
    "write.xlsx(final_df, paste0(Output,\"/\", \"Processed_Data_\", cur_date, \".xlsx\"), \n",
    "           rowNames = FALSE)"
   ]
  },
  {
   "cell_type": "code",
   "execution_count": null,
   "id": "b003cc96-3d86-4728-be5f-7420fdf4e0e6",
   "metadata": {},
   "outputs": [],
   "source": []
  }
 ],
 "metadata": {
  "kernelspec": {
   "display_name": "R",
   "language": "R",
   "name": "ir"
  },
  "language_info": {
   "codemirror_mode": "r",
   "file_extension": ".r",
   "mimetype": "text/x-r-source",
   "name": "R",
   "pygments_lexer": "r",
   "version": "4.3.1"
  }
 },
 "nbformat": 4,
 "nbformat_minor": 5
}
