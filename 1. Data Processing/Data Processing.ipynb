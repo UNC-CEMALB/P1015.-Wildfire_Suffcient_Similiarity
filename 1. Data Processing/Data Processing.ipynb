{
 "cells": [
  {
   "cell_type": "code",
   "execution_count": 1,
   "id": "dbfb736a-bc97-4a2f-96f6-553aa3c90c5b",
   "metadata": {},
   "outputs": [
    {
     "name": "stderr",
     "output_type": "stream",
     "text": [
      "── \u001b[1mAttaching core tidyverse packages\u001b[22m ──────────────────────── tidyverse 2.0.0 ──\n",
      "\u001b[32m✔\u001b[39m \u001b[34mdplyr    \u001b[39m 1.1.3     \u001b[32m✔\u001b[39m \u001b[34mreadr    \u001b[39m 2.1.4\n",
      "\u001b[32m✔\u001b[39m \u001b[34mforcats  \u001b[39m 1.0.0     \u001b[32m✔\u001b[39m \u001b[34mstringr  \u001b[39m 1.5.0\n",
      "\u001b[32m✔\u001b[39m \u001b[34mggplot2  \u001b[39m 3.4.3     \u001b[32m✔\u001b[39m \u001b[34mtibble   \u001b[39m 3.2.1\n",
      "\u001b[32m✔\u001b[39m \u001b[34mlubridate\u001b[39m 1.9.2     \u001b[32m✔\u001b[39m \u001b[34mtidyr    \u001b[39m 1.3.0\n",
      "\u001b[32m✔\u001b[39m \u001b[34mpurrr    \u001b[39m 1.0.2     \n",
      "── \u001b[1mConflicts\u001b[22m ────────────────────────────────────────── tidyverse_conflicts() ──\n",
      "\u001b[31m✖\u001b[39m \u001b[34mdplyr\u001b[39m::\u001b[32mfilter()\u001b[39m masks \u001b[34mstats\u001b[39m::filter()\n",
      "\u001b[31m✖\u001b[39m \u001b[34mdplyr\u001b[39m::\u001b[32mlag()\u001b[39m    masks \u001b[34mstats\u001b[39m::lag()\n",
      "\u001b[36mℹ\u001b[39m Use the conflicted package (\u001b[3m\u001b[34m<http://conflicted.r-lib.org/>\u001b[39m\u001b[23m) to force all conflicts to become errors\n",
      "Loading required package: tmvtnorm\n",
      "\n",
      "Loading required package: mvtnorm\n",
      "\n",
      "Loading required package: Matrix\n",
      "\n",
      "\n",
      "Attaching package: ‘Matrix’\n",
      "\n",
      "\n",
      "The following objects are masked from ‘package:tidyr’:\n",
      "\n",
      "    expand, pack, unpack\n",
      "\n",
      "\n",
      "Loading required package: stats4\n",
      "\n",
      "Loading required package: gmm\n",
      "\n",
      "Loading required package: sandwich\n",
      "\n",
      "Loading required package: norm\n",
      "\n",
      "This package has some major limitations\n",
      "(for example, it does not work reliably when\n",
      "the number of variables exceeds 30),\n",
      "and has been superseded by the norm2 package.\n",
      "\n",
      "Loading required package: pcaMethods\n",
      "\n",
      "Loading required package: Biobase\n",
      "\n",
      "Loading required package: BiocGenerics\n",
      "\n",
      "\n",
      "Attaching package: ‘BiocGenerics’\n",
      "\n",
      "\n",
      "The following objects are masked from ‘package:lubridate’:\n",
      "\n",
      "    intersect, setdiff, union\n",
      "\n",
      "\n",
      "The following objects are masked from ‘package:dplyr’:\n",
      "\n",
      "    combine, intersect, setdiff, union\n",
      "\n",
      "\n",
      "The following objects are masked from ‘package:stats’:\n",
      "\n",
      "    IQR, mad, sd, var, xtabs\n",
      "\n",
      "\n",
      "The following objects are masked from ‘package:base’:\n",
      "\n",
      "    anyDuplicated, aperm, append, as.data.frame, basename, cbind,\n",
      "    colnames, dirname, do.call, duplicated, eval, evalq, Filter, Find,\n",
      "    get, grep, grepl, intersect, is.unsorted, lapply, Map, mapply,\n",
      "    match, mget, order, paste, pmax, pmax.int, pmin, pmin.int,\n",
      "    Position, rank, rbind, Reduce, rownames, sapply, setdiff, sort,\n",
      "    table, tapply, union, unique, unsplit, which.max, which.min\n",
      "\n",
      "\n",
      "Welcome to Bioconductor\n",
      "\n",
      "    Vignettes contain introductory material; view with\n",
      "    'browseVignettes()'. To cite Bioconductor, see\n",
      "    'citation(\"Biobase\")', and for packages 'citation(\"pkgname\")'.\n",
      "\n",
      "\n",
      "\n",
      "Attaching package: ‘pcaMethods’\n",
      "\n",
      "\n",
      "The following object is masked from ‘package:stats’:\n",
      "\n",
      "    loadings\n",
      "\n",
      "\n",
      "Loading required package: impute\n",
      "\n",
      "Welcome! Want to learn more? See two factoextra-related books at https://goo.gl/ve3WBa\n",
      "\n"
     ]
    }
   ],
   "source": [
    "Output = '/Users/alexis/Library/CloudStorage/OneDrive-UniversityofNorthCarolinaatChapelHill/CEMALB_DataAnalysisPM/Projects/P1015. Fire Sufficient Similarity/3. Analyses/2. Data Processing/Output'\n",
    "cur_date = '030125'\n",
    "\n",
    "library(missForest)\n",
    "library(readxl)\n",
    "library(openxlsx)\n",
    "library(tidyverse)\n",
    "library(imputeLCMD)\n",
    "library(factoextra)\n",
    "\n",
    "# reading in files\n",
    "ws_df = data.frame(Data = 'WS', read_excel(\"Input/Woodsmoke_Data_012825.xlsx\", sheet = 2)) %>%\n",
    "    select(-Sample_Number)\n",
    "wf_df = data.frame(Data = 'WF', read_excel(\"Input/Wildfire_Data_012825.xlsx\", sheet = 2)) %>%\n",
    "    select(-Sample_Number)"
   ]
  },
  {
   "cell_type": "markdown",
   "id": "a6904813-4b86-4407-a5ec-4efed3e83041",
   "metadata": {},
   "source": [
    "NOTES TO SELF:\n",
    "- change 'replicate' to 'instance' and 'chemical class' to 'class'"
   ]
  },
  {
   "cell_type": "code",
   "execution_count": 2,
   "id": "73a7d5c4-8e2a-4ab5-b13b-046bc35d412e",
   "metadata": {},
   "outputs": [
    {
     "data": {
      "text/html": [
       "<table class=\"dataframe\">\n",
       "<caption>A data.frame: 6 × 9</caption>\n",
       "<thead>\n",
       "\t<tr><th></th><th scope=col>Data</th><th scope=col>HAWC_ID</th><th scope=col>Study</th><th scope=col>Replicate</th><th scope=col>Chemical_Class</th><th scope=col>Metric</th><th scope=col>DTXSID</th><th scope=col>Name</th><th scope=col>Value</th></tr>\n",
       "\t<tr><th></th><th scope=col>&lt;chr&gt;</th><th scope=col>&lt;dbl&gt;</th><th scope=col>&lt;chr&gt;</th><th scope=col>&lt;dbl&gt;</th><th scope=col>&lt;chr&gt;</th><th scope=col>&lt;chr&gt;</th><th scope=col>&lt;chr&gt;</th><th scope=col>&lt;chr&gt;</th><th scope=col>&lt;chr&gt;</th></tr>\n",
       "</thead>\n",
       "<tbody>\n",
       "\t<tr><th scope=row>1</th><td>WS</td><td> 821855</td><td>Erlandsson et al. 2020  </td><td> 1</td><td>PAH</td><td>Weight</td><td>DTXSID3074787</td><td>1-Methylanthracene</td><td>11.3              </td></tr>\n",
       "\t<tr><th scope=row>2</th><td>WS</td><td> 821855</td><td>Erlandsson et al. 2020  </td><td> 1</td><td>PAH</td><td>Weight</td><td>DTXSID3074787</td><td>1-Methylanthracene</td><td>2.2999999999999998</td></tr>\n",
       "\t<tr><th scope=row>3</th><td>WS</td><td>1257056</td><td>McCarrick et al. 2024   </td><td> 1</td><td>PAH</td><td>Weight</td><td>DTXSID3074787</td><td>1-Methylanthracene</td><td>1.66              </td></tr>\n",
       "\t<tr><th scope=row>4</th><td>WS</td><td> 267140</td><td>Alfheim and Ramdahl 1984</td><td> 1</td><td>PAH</td><td>Volume</td><td>DTXSID3074787</td><td>1-Methylanthracene</td><td>NA                </td></tr>\n",
       "\t<tr><th scope=row>5</th><td>WS</td><td>1263480</td><td>Burnet et al. 1990      </td><td> 1</td><td>PAH</td><td>Volume</td><td>DTXSID3074787</td><td>1-Methylanthracene</td><td>NA                </td></tr>\n",
       "\t<tr><th scope=row>6</th><td>WS</td><td>1263480</td><td>Burnet et al. 1990      </td><td>NA</td><td>PAH</td><td>Volume</td><td>DTXSID3074787</td><td>1-Methylanthracene</td><td>NA                </td></tr>\n",
       "</tbody>\n",
       "</table>\n"
      ],
      "text/latex": [
       "A data.frame: 6 × 9\n",
       "\\begin{tabular}{r|lllllllll}\n",
       "  & Data & HAWC\\_ID & Study & Replicate & Chemical\\_Class & Metric & DTXSID & Name & Value\\\\\n",
       "  & <chr> & <dbl> & <chr> & <dbl> & <chr> & <chr> & <chr> & <chr> & <chr>\\\\\n",
       "\\hline\n",
       "\t1 & WS &  821855 & Erlandsson et al. 2020   &  1 & PAH & Weight & DTXSID3074787 & 1-Methylanthracene & 11.3              \\\\\n",
       "\t2 & WS &  821855 & Erlandsson et al. 2020   &  1 & PAH & Weight & DTXSID3074787 & 1-Methylanthracene & 2.2999999999999998\\\\\n",
       "\t3 & WS & 1257056 & McCarrick et al. 2024    &  1 & PAH & Weight & DTXSID3074787 & 1-Methylanthracene & 1.66              \\\\\n",
       "\t4 & WS &  267140 & Alfheim and Ramdahl 1984 &  1 & PAH & Volume & DTXSID3074787 & 1-Methylanthracene & NA                \\\\\n",
       "\t5 & WS & 1263480 & Burnet et al. 1990       &  1 & PAH & Volume & DTXSID3074787 & 1-Methylanthracene & NA                \\\\\n",
       "\t6 & WS & 1263480 & Burnet et al. 1990       & NA & PAH & Volume & DTXSID3074787 & 1-Methylanthracene & NA                \\\\\n",
       "\\end{tabular}\n"
      ],
      "text/markdown": [
       "\n",
       "A data.frame: 6 × 9\n",
       "\n",
       "| <!--/--> | Data &lt;chr&gt; | HAWC_ID &lt;dbl&gt; | Study &lt;chr&gt; | Replicate &lt;dbl&gt; | Chemical_Class &lt;chr&gt; | Metric &lt;chr&gt; | DTXSID &lt;chr&gt; | Name &lt;chr&gt; | Value &lt;chr&gt; |\n",
       "|---|---|---|---|---|---|---|---|---|---|\n",
       "| 1 | WS |  821855 | Erlandsson et al. 2020   |  1 | PAH | Weight | DTXSID3074787 | 1-Methylanthracene | 11.3               |\n",
       "| 2 | WS |  821855 | Erlandsson et al. 2020   |  1 | PAH | Weight | DTXSID3074787 | 1-Methylanthracene | 2.2999999999999998 |\n",
       "| 3 | WS | 1257056 | McCarrick et al. 2024    |  1 | PAH | Weight | DTXSID3074787 | 1-Methylanthracene | 1.66               |\n",
       "| 4 | WS |  267140 | Alfheim and Ramdahl 1984 |  1 | PAH | Volume | DTXSID3074787 | 1-Methylanthracene | NA                 |\n",
       "| 5 | WS | 1263480 | Burnet et al. 1990       |  1 | PAH | Volume | DTXSID3074787 | 1-Methylanthracene | NA                 |\n",
       "| 6 | WS | 1263480 | Burnet et al. 1990       | NA | PAH | Volume | DTXSID3074787 | 1-Methylanthracene | NA                 |\n",
       "\n"
      ],
      "text/plain": [
       "  Data HAWC_ID Study                    Replicate Chemical_Class Metric\n",
       "1 WS    821855 Erlandsson et al. 2020    1        PAH            Weight\n",
       "2 WS    821855 Erlandsson et al. 2020    1        PAH            Weight\n",
       "3 WS   1257056 McCarrick et al. 2024     1        PAH            Weight\n",
       "4 WS    267140 Alfheim and Ramdahl 1984  1        PAH            Volume\n",
       "5 WS   1263480 Burnet et al. 1990        1        PAH            Volume\n",
       "6 WS   1263480 Burnet et al. 1990       NA        PAH            Volume\n",
       "  DTXSID        Name               Value             \n",
       "1 DTXSID3074787 1-Methylanthracene 11.3              \n",
       "2 DTXSID3074787 1-Methylanthracene 2.2999999999999998\n",
       "3 DTXSID3074787 1-Methylanthracene 1.66              \n",
       "4 DTXSID3074787 1-Methylanthracene NA                \n",
       "5 DTXSID3074787 1-Methylanthracene NA                \n",
       "6 DTXSID3074787 1-Methylanthracene NA                "
      ]
     },
     "metadata": {},
     "output_type": "display_data"
    },
    {
     "data": {
      "text/html": [
       "<table class=\"dataframe\">\n",
       "<caption>A data.frame: 6 × 9</caption>\n",
       "<thead>\n",
       "\t<tr><th></th><th scope=col>Data</th><th scope=col>HAWC_ID</th><th scope=col>Study</th><th scope=col>Replicate</th><th scope=col>Chemical_Class</th><th scope=col>Metric</th><th scope=col>DTXSID</th><th scope=col>Name</th><th scope=col>Value</th></tr>\n",
       "\t<tr><th></th><th scope=col>&lt;chr&gt;</th><th scope=col>&lt;dbl&gt;</th><th scope=col>&lt;chr&gt;</th><th scope=col>&lt;dbl&gt;</th><th scope=col>&lt;chr&gt;</th><th scope=col>&lt;chr&gt;</th><th scope=col>&lt;chr&gt;</th><th scope=col>&lt;chr&gt;</th><th scope=col>&lt;chr&gt;</th></tr>\n",
       "</thead>\n",
       "<tbody>\n",
       "\t<tr><th scope=row>1</th><td>WF</td><td>1289821</td><td>Liang et al. 2021   </td><td> 1</td><td>PAH</td><td>Volume</td><td>NA            </td><td>1-(10-methylanthracen-9-yl)ethanone</td><td>5 </td></tr>\n",
       "\t<tr><th scope=row>2</th><td>WF</td><td>1289821</td><td>Liang et al. 2021   </td><td> 1</td><td>PAH</td><td>Volume</td><td>DTXSID50176885</td><td>1-Acenaphthenone                   </td><td>1 </td></tr>\n",
       "\t<tr><th scope=row>3</th><td>WF</td><td>1289737</td><td>Campbell et al. 2024</td><td> 1</td><td>PAH</td><td>Weight</td><td>DTXSID1074759 </td><td>1-Methylchrysene                   </td><td>NA</td></tr>\n",
       "\t<tr><th scope=row>4</th><td>WF</td><td>1289739</td><td>Campos et al. 2019  </td><td> 1</td><td>PAH</td><td>Weight</td><td>DTXSID1074759 </td><td>1-Methylchrysene                   </td><td>NA</td></tr>\n",
       "\t<tr><th scope=row>5</th><td>WF</td><td>1289739</td><td>Campos et al. 2019  </td><td>NA</td><td>PAH</td><td>Weight</td><td>DTXSID1074759 </td><td>1-Methylchrysene                   </td><td>NA</td></tr>\n",
       "\t<tr><th scope=row>6</th><td>WF</td><td>1289739</td><td>Campos et al. 2019  </td><td>NA</td><td>PAH</td><td>Weight</td><td>DTXSID1074759 </td><td>1-Methylchrysene                   </td><td>NA</td></tr>\n",
       "</tbody>\n",
       "</table>\n"
      ],
      "text/latex": [
       "A data.frame: 6 × 9\n",
       "\\begin{tabular}{r|lllllllll}\n",
       "  & Data & HAWC\\_ID & Study & Replicate & Chemical\\_Class & Metric & DTXSID & Name & Value\\\\\n",
       "  & <chr> & <dbl> & <chr> & <dbl> & <chr> & <chr> & <chr> & <chr> & <chr>\\\\\n",
       "\\hline\n",
       "\t1 & WF & 1289821 & Liang et al. 2021    &  1 & PAH & Volume & NA             & 1-(10-methylanthracen-9-yl)ethanone & 5 \\\\\n",
       "\t2 & WF & 1289821 & Liang et al. 2021    &  1 & PAH & Volume & DTXSID50176885 & 1-Acenaphthenone                    & 1 \\\\\n",
       "\t3 & WF & 1289737 & Campbell et al. 2024 &  1 & PAH & Weight & DTXSID1074759  & 1-Methylchrysene                    & NA\\\\\n",
       "\t4 & WF & 1289739 & Campos et al. 2019   &  1 & PAH & Weight & DTXSID1074759  & 1-Methylchrysene                    & NA\\\\\n",
       "\t5 & WF & 1289739 & Campos et al. 2019   & NA & PAH & Weight & DTXSID1074759  & 1-Methylchrysene                    & NA\\\\\n",
       "\t6 & WF & 1289739 & Campos et al. 2019   & NA & PAH & Weight & DTXSID1074759  & 1-Methylchrysene                    & NA\\\\\n",
       "\\end{tabular}\n"
      ],
      "text/markdown": [
       "\n",
       "A data.frame: 6 × 9\n",
       "\n",
       "| <!--/--> | Data &lt;chr&gt; | HAWC_ID &lt;dbl&gt; | Study &lt;chr&gt; | Replicate &lt;dbl&gt; | Chemical_Class &lt;chr&gt; | Metric &lt;chr&gt; | DTXSID &lt;chr&gt; | Name &lt;chr&gt; | Value &lt;chr&gt; |\n",
       "|---|---|---|---|---|---|---|---|---|---|\n",
       "| 1 | WF | 1289821 | Liang et al. 2021    |  1 | PAH | Volume | NA             | 1-(10-methylanthracen-9-yl)ethanone | 5  |\n",
       "| 2 | WF | 1289821 | Liang et al. 2021    |  1 | PAH | Volume | DTXSID50176885 | 1-Acenaphthenone                    | 1  |\n",
       "| 3 | WF | 1289737 | Campbell et al. 2024 |  1 | PAH | Weight | DTXSID1074759  | 1-Methylchrysene                    | NA |\n",
       "| 4 | WF | 1289739 | Campos et al. 2019   |  1 | PAH | Weight | DTXSID1074759  | 1-Methylchrysene                    | NA |\n",
       "| 5 | WF | 1289739 | Campos et al. 2019   | NA | PAH | Weight | DTXSID1074759  | 1-Methylchrysene                    | NA |\n",
       "| 6 | WF | 1289739 | Campos et al. 2019   | NA | PAH | Weight | DTXSID1074759  | 1-Methylchrysene                    | NA |\n",
       "\n"
      ],
      "text/plain": [
       "  Data HAWC_ID Study                Replicate Chemical_Class Metric\n",
       "1 WF   1289821 Liang et al. 2021     1        PAH            Volume\n",
       "2 WF   1289821 Liang et al. 2021     1        PAH            Volume\n",
       "3 WF   1289737 Campbell et al. 2024  1        PAH            Weight\n",
       "4 WF   1289739 Campos et al. 2019    1        PAH            Weight\n",
       "5 WF   1289739 Campos et al. 2019   NA        PAH            Weight\n",
       "6 WF   1289739 Campos et al. 2019   NA        PAH            Weight\n",
       "  DTXSID         Name                                Value\n",
       "1 NA             1-(10-methylanthracen-9-yl)ethanone 5    \n",
       "2 DTXSID50176885 1-Acenaphthenone                    1    \n",
       "3 DTXSID1074759  1-Methylchrysene                    NA   \n",
       "4 DTXSID1074759  1-Methylchrysene                    NA   \n",
       "5 DTXSID1074759  1-Methylchrysene                    NA   \n",
       "6 DTXSID1074759  1-Methylchrysene                    NA   "
      ]
     },
     "metadata": {},
     "output_type": "display_data"
    }
   ],
   "source": [
    "head(ws_df)\n",
    "head(wf_df)"
   ]
  },
  {
   "cell_type": "code",
   "execution_count": 3,
   "id": "3d546e8e-5cdf-4386-b29b-2ac2938366f9",
   "metadata": {},
   "outputs": [
    {
     "data": {
      "text/html": [
       "<style>\n",
       ".list-inline {list-style: none; margin:0; padding: 0}\n",
       ".list-inline>li {display: inline-block}\n",
       ".list-inline>li:not(:last-child)::after {content: \"\\00b7\"; padding: 0 .5ex}\n",
       "</style>\n",
       "<ol class=list-inline><li>6607</li><li>9</li></ol>\n"
      ],
      "text/latex": [
       "\\begin{enumerate*}\n",
       "\\item 6607\n",
       "\\item 9\n",
       "\\end{enumerate*}\n"
      ],
      "text/markdown": [
       "1. 6607\n",
       "2. 9\n",
       "\n",
       "\n"
      ],
      "text/plain": [
       "[1] 6607    9"
      ]
     },
     "metadata": {},
     "output_type": "display_data"
    },
    {
     "data": {
      "text/html": [
       "<style>\n",
       ".list-inline {list-style: none; margin:0; padding: 0}\n",
       ".list-inline>li {display: inline-block}\n",
       ".list-inline>li:not(:last-child)::after {content: \"\\00b7\"; padding: 0 .5ex}\n",
       "</style>\n",
       "<ol class=list-inline><li>4340</li><li>9</li></ol>\n"
      ],
      "text/latex": [
       "\\begin{enumerate*}\n",
       "\\item 4340\n",
       "\\item 9\n",
       "\\end{enumerate*}\n"
      ],
      "text/markdown": [
       "1. 4340\n",
       "2. 9\n",
       "\n",
       "\n"
      ],
      "text/plain": [
       "[1] 4340    9"
      ]
     },
     "metadata": {},
     "output_type": "display_data"
    }
   ],
   "source": [
    "dim(ws_df)\n",
    "dim(wf_df)"
   ]
  },
  {
   "cell_type": "markdown",
   "id": "417a92fb-0524-4038-a5ea-08a56f02a955",
   "metadata": {},
   "source": [
    "# Filter 1\n",
    "\n",
    "Removing duplicate records for instances that weren't measured at all (MAR). "
   ]
  },
  {
   "cell_type": "code",
   "execution_count": 4,
   "id": "9eefd1e4-96f4-48a6-933c-9486ab447115",
   "metadata": {
    "scrolled": true
   },
   "outputs": [],
   "source": [
    "`%notin%` <- Negate(`%in%`)\n",
    "\n",
    "ws_df = ws_df %>%\n",
    "    filter(Replicate %notin% NA)\n",
    "\n",
    "wf_df = wf_df %>%\n",
    "    filter(Replicate %notin% NA)"
   ]
  },
  {
   "cell_type": "code",
   "execution_count": 5,
   "id": "1425c2d3-c1cd-4626-974d-492e320d724e",
   "metadata": {
    "scrolled": true
   },
   "outputs": [
    {
     "data": {
      "text/html": [
       "<style>\n",
       ".list-inline {list-style: none; margin:0; padding: 0}\n",
       ".list-inline>li {display: inline-block}\n",
       ".list-inline>li:not(:last-child)::after {content: \"\\00b7\"; padding: 0 .5ex}\n",
       "</style>\n",
       "<ol class=list-inline><li>4203</li><li>9</li></ol>\n"
      ],
      "text/latex": [
       "\\begin{enumerate*}\n",
       "\\item 4203\n",
       "\\item 9\n",
       "\\end{enumerate*}\n"
      ],
      "text/markdown": [
       "1. 4203\n",
       "2. 9\n",
       "\n",
       "\n"
      ],
      "text/plain": [
       "[1] 4203    9"
      ]
     },
     "metadata": {},
     "output_type": "display_data"
    },
    {
     "data": {
      "text/html": [
       "<style>\n",
       ".list-inline {list-style: none; margin:0; padding: 0}\n",
       ".list-inline>li {display: inline-block}\n",
       ".list-inline>li:not(:last-child)::after {content: \"\\00b7\"; padding: 0 .5ex}\n",
       "</style>\n",
       "<ol class=list-inline><li>2378</li><li>9</li></ol>\n"
      ],
      "text/latex": [
       "\\begin{enumerate*}\n",
       "\\item 2378\n",
       "\\item 9\n",
       "\\end{enumerate*}\n"
      ],
      "text/markdown": [
       "1. 2378\n",
       "2. 9\n",
       "\n",
       "\n"
      ],
      "text/plain": [
       "[1] 2378    9"
      ]
     },
     "metadata": {},
     "output_type": "display_data"
    }
   ],
   "source": [
    "dim(ws_df)\n",
    "dim(wf_df)"
   ]
  },
  {
   "cell_type": "code",
   "execution_count": 6,
   "id": "d9ba0841-95c0-4dfc-a8de-480550341718",
   "metadata": {},
   "outputs": [
    {
     "data": {
      "text/html": [
       "<table class=\"dataframe\">\n",
       "<caption>A data.frame: 6 × 9</caption>\n",
       "<thead>\n",
       "\t<tr><th></th><th scope=col>Data</th><th scope=col>HAWC_ID</th><th scope=col>Study</th><th scope=col>Replicate</th><th scope=col>Chemical_Class</th><th scope=col>Metric</th><th scope=col>DTXSID</th><th scope=col>Name</th><th scope=col>Value</th></tr>\n",
       "\t<tr><th></th><th scope=col>&lt;chr&gt;</th><th scope=col>&lt;dbl&gt;</th><th scope=col>&lt;chr&gt;</th><th scope=col>&lt;dbl&gt;</th><th scope=col>&lt;chr&gt;</th><th scope=col>&lt;chr&gt;</th><th scope=col>&lt;chr&gt;</th><th scope=col>&lt;chr&gt;</th><th scope=col>&lt;chr&gt;</th></tr>\n",
       "</thead>\n",
       "<tbody>\n",
       "\t<tr><th scope=row>1</th><td>WS</td><td> 821855</td><td>Erlandsson et al. 2020  </td><td>1</td><td>PAH</td><td>Weight</td><td>DTXSID3074787</td><td>1-Methylanthracene</td><td>11.3              </td></tr>\n",
       "\t<tr><th scope=row>2</th><td>WS</td><td> 821855</td><td>Erlandsson et al. 2020  </td><td>1</td><td>PAH</td><td>Weight</td><td>DTXSID3074787</td><td>1-Methylanthracene</td><td>2.2999999999999998</td></tr>\n",
       "\t<tr><th scope=row>3</th><td>WS</td><td>1257056</td><td>McCarrick et al. 2024   </td><td>1</td><td>PAH</td><td>Weight</td><td>DTXSID3074787</td><td>1-Methylanthracene</td><td>1.66              </td></tr>\n",
       "\t<tr><th scope=row>4</th><td>WS</td><td> 267140</td><td>Alfheim and Ramdahl 1984</td><td>1</td><td>PAH</td><td>Volume</td><td>DTXSID3074787</td><td>1-Methylanthracene</td><td>NA                </td></tr>\n",
       "\t<tr><th scope=row>5</th><td>WS</td><td>1263480</td><td>Burnet et al. 1990      </td><td>1</td><td>PAH</td><td>Volume</td><td>DTXSID3074787</td><td>1-Methylanthracene</td><td>NA                </td></tr>\n",
       "\t<tr><th scope=row>6</th><td>WS</td><td> 267091</td><td>Forchhammer et al. 2012 </td><td>1</td><td>PAH</td><td>Volume</td><td>DTXSID3074787</td><td>1-Methylanthracene</td><td>NA                </td></tr>\n",
       "</tbody>\n",
       "</table>\n"
      ],
      "text/latex": [
       "A data.frame: 6 × 9\n",
       "\\begin{tabular}{r|lllllllll}\n",
       "  & Data & HAWC\\_ID & Study & Replicate & Chemical\\_Class & Metric & DTXSID & Name & Value\\\\\n",
       "  & <chr> & <dbl> & <chr> & <dbl> & <chr> & <chr> & <chr> & <chr> & <chr>\\\\\n",
       "\\hline\n",
       "\t1 & WS &  821855 & Erlandsson et al. 2020   & 1 & PAH & Weight & DTXSID3074787 & 1-Methylanthracene & 11.3              \\\\\n",
       "\t2 & WS &  821855 & Erlandsson et al. 2020   & 1 & PAH & Weight & DTXSID3074787 & 1-Methylanthracene & 2.2999999999999998\\\\\n",
       "\t3 & WS & 1257056 & McCarrick et al. 2024    & 1 & PAH & Weight & DTXSID3074787 & 1-Methylanthracene & 1.66              \\\\\n",
       "\t4 & WS &  267140 & Alfheim and Ramdahl 1984 & 1 & PAH & Volume & DTXSID3074787 & 1-Methylanthracene & NA                \\\\\n",
       "\t5 & WS & 1263480 & Burnet et al. 1990       & 1 & PAH & Volume & DTXSID3074787 & 1-Methylanthracene & NA                \\\\\n",
       "\t6 & WS &  267091 & Forchhammer et al. 2012  & 1 & PAH & Volume & DTXSID3074787 & 1-Methylanthracene & NA                \\\\\n",
       "\\end{tabular}\n"
      ],
      "text/markdown": [
       "\n",
       "A data.frame: 6 × 9\n",
       "\n",
       "| <!--/--> | Data &lt;chr&gt; | HAWC_ID &lt;dbl&gt; | Study &lt;chr&gt; | Replicate &lt;dbl&gt; | Chemical_Class &lt;chr&gt; | Metric &lt;chr&gt; | DTXSID &lt;chr&gt; | Name &lt;chr&gt; | Value &lt;chr&gt; |\n",
       "|---|---|---|---|---|---|---|---|---|---|\n",
       "| 1 | WS |  821855 | Erlandsson et al. 2020   | 1 | PAH | Weight | DTXSID3074787 | 1-Methylanthracene | 11.3               |\n",
       "| 2 | WS |  821855 | Erlandsson et al. 2020   | 1 | PAH | Weight | DTXSID3074787 | 1-Methylanthracene | 2.2999999999999998 |\n",
       "| 3 | WS | 1257056 | McCarrick et al. 2024    | 1 | PAH | Weight | DTXSID3074787 | 1-Methylanthracene | 1.66               |\n",
       "| 4 | WS |  267140 | Alfheim and Ramdahl 1984 | 1 | PAH | Volume | DTXSID3074787 | 1-Methylanthracene | NA                 |\n",
       "| 5 | WS | 1263480 | Burnet et al. 1990       | 1 | PAH | Volume | DTXSID3074787 | 1-Methylanthracene | NA                 |\n",
       "| 6 | WS |  267091 | Forchhammer et al. 2012  | 1 | PAH | Volume | DTXSID3074787 | 1-Methylanthracene | NA                 |\n",
       "\n"
      ],
      "text/plain": [
       "  Data HAWC_ID Study                    Replicate Chemical_Class Metric\n",
       "1 WS    821855 Erlandsson et al. 2020   1         PAH            Weight\n",
       "2 WS    821855 Erlandsson et al. 2020   1         PAH            Weight\n",
       "3 WS   1257056 McCarrick et al. 2024    1         PAH            Weight\n",
       "4 WS    267140 Alfheim and Ramdahl 1984 1         PAH            Volume\n",
       "5 WS   1263480 Burnet et al. 1990       1         PAH            Volume\n",
       "6 WS    267091 Forchhammer et al. 2012  1         PAH            Volume\n",
       "  DTXSID        Name               Value             \n",
       "1 DTXSID3074787 1-Methylanthracene 11.3              \n",
       "2 DTXSID3074787 1-Methylanthracene 2.2999999999999998\n",
       "3 DTXSID3074787 1-Methylanthracene 1.66              \n",
       "4 DTXSID3074787 1-Methylanthracene NA                \n",
       "5 DTXSID3074787 1-Methylanthracene NA                \n",
       "6 DTXSID3074787 1-Methylanthracene NA                "
      ]
     },
     "metadata": {},
     "output_type": "display_data"
    }
   ],
   "source": [
    "# combining dfs\n",
    "combined_df = rbind(ws_df, wf_df)\n",
    "head(combined_df)"
   ]
  },
  {
   "cell_type": "code",
   "execution_count": 7,
   "id": "6bcf9a9c-639c-46ca-9806-dcb9246095f1",
   "metadata": {},
   "outputs": [
    {
     "data": {
      "text/html": [
       "192"
      ],
      "text/latex": [
       "192"
      ],
      "text/markdown": [
       "192"
      ],
      "text/plain": [
       "[1] 192"
      ]
     },
     "metadata": {},
     "output_type": "display_data"
    }
   ],
   "source": [
    "length(unique(combined_df$Name))"
   ]
  },
  {
   "cell_type": "markdown",
   "id": "adaf5cec-fc80-4902-935a-523fc2d9a106",
   "metadata": {},
   "source": [
    "192 unique variables."
   ]
  },
  {
   "cell_type": "markdown",
   "id": "38fa1e02-9f71-4378-a78f-90f5591ab77b",
   "metadata": {},
   "source": [
    "# Variable Background Filters\n",
    "\n",
    "Determining what variables have missing data for all variables delineated based on the dfs the data will be split into and analyzed. \n",
    "\n",
    "1. The data needs to have at least two experimental (ie. measured or ND) value in both WS and WF data within each metric (ie. weight or volume) and study.\n",
    "2. A variable (ie. `Name` which represents a chemical or metal) will be removed if < 50% of its experimental data points were either measurable values and/or specified as non-detects. In other words, chemicals were excluded if they were NAs (not evaluated) across <= 50% of the samples."
   ]
  },
  {
   "cell_type": "code",
   "execution_count": 8,
   "id": "59c471fe-1657-4356-8ed6-35a8b6244188",
   "metadata": {},
   "outputs": [
    {
     "data": {
      "text/html": [
       "<table class=\"dataframe\">\n",
       "<caption>A tibble: 6 × 4</caption>\n",
       "<thead>\n",
       "\t<tr><th scope=col>HAWC_ID</th><th scope=col>Metric</th><th scope=col>Name</th><th scope=col>Variable_Presence_Percentage</th></tr>\n",
       "\t<tr><th scope=col>&lt;dbl&gt;</th><th scope=col>&lt;chr&gt;</th><th scope=col>&lt;chr&gt;</th><th scope=col>&lt;dbl&gt;</th></tr>\n",
       "</thead>\n",
       "<tbody>\n",
       "\t<tr><td>266980</td><td>Volume</td><td>Acetaldehyde        </td><td>100</td></tr>\n",
       "\t<tr><td>266980</td><td>Volume</td><td>Benzene             </td><td>100</td></tr>\n",
       "\t<tr><td>266980</td><td>Volume</td><td>Benzo(GHI)perylene  </td><td>100</td></tr>\n",
       "\t<tr><td>266980</td><td>Volume</td><td>Benzo(a)pyrene      </td><td>100</td></tr>\n",
       "\t<tr><td>266980</td><td>Volume</td><td>Benzo(b)fluoranthene</td><td>100</td></tr>\n",
       "\t<tr><td>266980</td><td>Volume</td><td>Benzo(k)fluoranthene</td><td>100</td></tr>\n",
       "</tbody>\n",
       "</table>\n"
      ],
      "text/latex": [
       "A tibble: 6 × 4\n",
       "\\begin{tabular}{llll}\n",
       " HAWC\\_ID & Metric & Name & Variable\\_Presence\\_Percentage\\\\\n",
       " <dbl> & <chr> & <chr> & <dbl>\\\\\n",
       "\\hline\n",
       "\t 266980 & Volume & Acetaldehyde         & 100\\\\\n",
       "\t 266980 & Volume & Benzene              & 100\\\\\n",
       "\t 266980 & Volume & Benzo(GHI)perylene   & 100\\\\\n",
       "\t 266980 & Volume & Benzo(a)pyrene       & 100\\\\\n",
       "\t 266980 & Volume & Benzo(b)fluoranthene & 100\\\\\n",
       "\t 266980 & Volume & Benzo(k)fluoranthene & 100\\\\\n",
       "\\end{tabular}\n"
      ],
      "text/markdown": [
       "\n",
       "A tibble: 6 × 4\n",
       "\n",
       "| HAWC_ID &lt;dbl&gt; | Metric &lt;chr&gt; | Name &lt;chr&gt; | Variable_Presence_Percentage &lt;dbl&gt; |\n",
       "|---|---|---|---|\n",
       "| 266980 | Volume | Acetaldehyde         | 100 |\n",
       "| 266980 | Volume | Benzene              | 100 |\n",
       "| 266980 | Volume | Benzo(GHI)perylene   | 100 |\n",
       "| 266980 | Volume | Benzo(a)pyrene       | 100 |\n",
       "| 266980 | Volume | Benzo(b)fluoranthene | 100 |\n",
       "| 266980 | Volume | Benzo(k)fluoranthene | 100 |\n",
       "\n"
      ],
      "text/plain": [
       "  HAWC_ID Metric Name                 Variable_Presence_Percentage\n",
       "1 266980  Volume Acetaldehyde         100                         \n",
       "2 266980  Volume Benzene              100                         \n",
       "3 266980  Volume Benzo(GHI)perylene   100                         \n",
       "4 266980  Volume Benzo(a)pyrene       100                         \n",
       "5 266980  Volume Benzo(b)fluoranthene 100                         \n",
       "6 266980  Volume Benzo(k)fluoranthene 100                         "
      ]
     },
     "metadata": {},
     "output_type": "display_data"
    }
   ],
   "source": [
    "sample_type_presence_df = combined_df %>%\n",
    "    # if an experimental value is there count it as being \"present\"\n",
    "    mutate(count = ifelse(Value %notin% c('NA', 'ND'), 1, 0)) %>%\n",
    "    # determining which have at least one experimental value within each sample type\n",
    "    group_by(HAWC_ID, Metric, Name) %>%\n",
    "    # summing the number of experimental records for each variable?????????\n",
    "    reframe(Variable_Presence_Percentage = (sum(count)/n()) * 100) %>%\n",
    "    filter(Variable_Presence_Percentage >= 50)\n",
    "\n",
    "head(sample_type_presence_df)"
   ]
  },
  {
   "cell_type": "markdown",
   "id": "3962faa1-e44f-4ab0-bfba-7ca846b425fc",
   "metadata": {},
   "source": [
    "278 data records had at least two experimental values and were retained. "
   ]
  },
  {
   "cell_type": "code",
   "execution_count": 9,
   "id": "e9e0b6d6-d46b-4f37-81e9-f71cbf5eaefd",
   "metadata": {},
   "outputs": [
    {
     "name": "stderr",
     "output_type": "stream",
     "text": [
      "\u001b[1m\u001b[22mJoining with `by = join_by(HAWC_ID, Metric, Name)`\n"
     ]
    },
    {
     "data": {
      "text/html": [
       "<table class=\"dataframe\">\n",
       "<caption>A tibble: 6 × 9</caption>\n",
       "<thead>\n",
       "\t<tr><th scope=col>HAWC_ID</th><th scope=col>Metric</th><th scope=col>Name</th><th scope=col>Data</th><th scope=col>Study</th><th scope=col>Replicate</th><th scope=col>Chemical_Class</th><th scope=col>DTXSID</th><th scope=col>Value</th></tr>\n",
       "\t<tr><th scope=col>&lt;dbl&gt;</th><th scope=col>&lt;chr&gt;</th><th scope=col>&lt;chr&gt;</th><th scope=col>&lt;chr&gt;</th><th scope=col>&lt;chr&gt;</th><th scope=col>&lt;dbl&gt;</th><th scope=col>&lt;chr&gt;</th><th scope=col>&lt;chr&gt;</th><th scope=col>&lt;chr&gt;</th></tr>\n",
       "</thead>\n",
       "<tbody>\n",
       "\t<tr><td>266980</td><td>Volume</td><td>Acetaldehyde      </td><td>WS</td><td>Stockfelt et al. 2012</td><td>1</td><td>VOC</td><td>DTXSID5039224</td><td>71000</td></tr>\n",
       "\t<tr><td>266980</td><td>Volume</td><td>Acetaldehyde      </td><td>WS</td><td>Stockfelt et al. 2012</td><td>2</td><td>VOC</td><td>DTXSID5039224</td><td>37000</td></tr>\n",
       "\t<tr><td>266980</td><td>Volume</td><td>Benzene           </td><td>WS</td><td>Stockfelt et al. 2012</td><td>1</td><td>VOC</td><td>DTXSID3039242</td><td>33000</td></tr>\n",
       "\t<tr><td>266980</td><td>Volume</td><td>Benzene           </td><td>WS</td><td>Stockfelt et al. 2012</td><td>2</td><td>VOC</td><td>DTXSID3039242</td><td>21000</td></tr>\n",
       "\t<tr><td>266980</td><td>Volume</td><td>Benzo(GHI)perylene</td><td>WS</td><td>Stockfelt et al. 2012</td><td>1</td><td>PAH</td><td>DTXSID5023908</td><td>41   </td></tr>\n",
       "\t<tr><td>266980</td><td>Volume</td><td>Benzo(GHI)perylene</td><td>WS</td><td>Stockfelt et al. 2012</td><td>2</td><td>PAH</td><td>DTXSID5023908</td><td>11   </td></tr>\n",
       "</tbody>\n",
       "</table>\n"
      ],
      "text/latex": [
       "A tibble: 6 × 9\n",
       "\\begin{tabular}{lllllllll}\n",
       " HAWC\\_ID & Metric & Name & Data & Study & Replicate & Chemical\\_Class & DTXSID & Value\\\\\n",
       " <dbl> & <chr> & <chr> & <chr> & <chr> & <dbl> & <chr> & <chr> & <chr>\\\\\n",
       "\\hline\n",
       "\t 266980 & Volume & Acetaldehyde       & WS & Stockfelt et al. 2012 & 1 & VOC & DTXSID5039224 & 71000\\\\\n",
       "\t 266980 & Volume & Acetaldehyde       & WS & Stockfelt et al. 2012 & 2 & VOC & DTXSID5039224 & 37000\\\\\n",
       "\t 266980 & Volume & Benzene            & WS & Stockfelt et al. 2012 & 1 & VOC & DTXSID3039242 & 33000\\\\\n",
       "\t 266980 & Volume & Benzene            & WS & Stockfelt et al. 2012 & 2 & VOC & DTXSID3039242 & 21000\\\\\n",
       "\t 266980 & Volume & Benzo(GHI)perylene & WS & Stockfelt et al. 2012 & 1 & PAH & DTXSID5023908 & 41   \\\\\n",
       "\t 266980 & Volume & Benzo(GHI)perylene & WS & Stockfelt et al. 2012 & 2 & PAH & DTXSID5023908 & 11   \\\\\n",
       "\\end{tabular}\n"
      ],
      "text/markdown": [
       "\n",
       "A tibble: 6 × 9\n",
       "\n",
       "| HAWC_ID &lt;dbl&gt; | Metric &lt;chr&gt; | Name &lt;chr&gt; | Data &lt;chr&gt; | Study &lt;chr&gt; | Replicate &lt;dbl&gt; | Chemical_Class &lt;chr&gt; | DTXSID &lt;chr&gt; | Value &lt;chr&gt; |\n",
       "|---|---|---|---|---|---|---|---|---|\n",
       "| 266980 | Volume | Acetaldehyde       | WS | Stockfelt et al. 2012 | 1 | VOC | DTXSID5039224 | 71000 |\n",
       "| 266980 | Volume | Acetaldehyde       | WS | Stockfelt et al. 2012 | 2 | VOC | DTXSID5039224 | 37000 |\n",
       "| 266980 | Volume | Benzene            | WS | Stockfelt et al. 2012 | 1 | VOC | DTXSID3039242 | 33000 |\n",
       "| 266980 | Volume | Benzene            | WS | Stockfelt et al. 2012 | 2 | VOC | DTXSID3039242 | 21000 |\n",
       "| 266980 | Volume | Benzo(GHI)perylene | WS | Stockfelt et al. 2012 | 1 | PAH | DTXSID5023908 | 41    |\n",
       "| 266980 | Volume | Benzo(GHI)perylene | WS | Stockfelt et al. 2012 | 2 | PAH | DTXSID5023908 | 11    |\n",
       "\n"
      ],
      "text/plain": [
       "  HAWC_ID Metric Name               Data Study                 Replicate\n",
       "1 266980  Volume Acetaldehyde       WS   Stockfelt et al. 2012 1        \n",
       "2 266980  Volume Acetaldehyde       WS   Stockfelt et al. 2012 2        \n",
       "3 266980  Volume Benzene            WS   Stockfelt et al. 2012 1        \n",
       "4 266980  Volume Benzene            WS   Stockfelt et al. 2012 2        \n",
       "5 266980  Volume Benzo(GHI)perylene WS   Stockfelt et al. 2012 1        \n",
       "6 266980  Volume Benzo(GHI)perylene WS   Stockfelt et al. 2012 2        \n",
       "  Chemical_Class DTXSID        Value\n",
       "1 VOC            DTXSID5039224 71000\n",
       "2 VOC            DTXSID5039224 37000\n",
       "3 VOC            DTXSID3039242 33000\n",
       "4 VOC            DTXSID3039242 21000\n",
       "5 PAH            DTXSID5023908 41   \n",
       "6 PAH            DTXSID5023908 11   "
      ]
     },
     "metadata": {},
     "output_type": "display_data"
    }
   ],
   "source": [
    "# filtering the original df\n",
    "filter1_df = inner_join(sample_type_presence_df[,1:3], combined_df)\n",
    "head(filter1_df)"
   ]
  },
  {
   "cell_type": "code",
   "execution_count": 10,
   "id": "326df55e-15f1-4704-969d-2e19d7cf54fd",
   "metadata": {},
   "outputs": [
    {
     "data": {
      "text/html": [
       "<style>\n",
       ".list-inline {list-style: none; margin:0; padding: 0}\n",
       ".list-inline>li {display: inline-block}\n",
       ".list-inline>li:not(:last-child)::after {content: \"\\00b7\"; padding: 0 .5ex}\n",
       "</style>\n",
       "<ol class=list-inline><li>6581</li><li>9</li></ol>\n"
      ],
      "text/latex": [
       "\\begin{enumerate*}\n",
       "\\item 6581\n",
       "\\item 9\n",
       "\\end{enumerate*}\n"
      ],
      "text/markdown": [
       "1. 6581\n",
       "2. 9\n",
       "\n",
       "\n"
      ],
      "text/plain": [
       "[1] 6581    9"
      ]
     },
     "metadata": {},
     "output_type": "display_data"
    },
    {
     "data": {
      "text/html": [
       "<style>\n",
       ".list-inline {list-style: none; margin:0; padding: 0}\n",
       ".list-inline>li {display: inline-block}\n",
       ".list-inline>li:not(:last-child)::after {content: \"\\00b7\"; padding: 0 .5ex}\n",
       "</style>\n",
       "<ol class=list-inline><li>4189</li><li>9</li></ol>\n"
      ],
      "text/latex": [
       "\\begin{enumerate*}\n",
       "\\item 4189\n",
       "\\item 9\n",
       "\\end{enumerate*}\n"
      ],
      "text/markdown": [
       "1. 4189\n",
       "2. 9\n",
       "\n",
       "\n"
      ],
      "text/plain": [
       "[1] 4189    9"
      ]
     },
     "metadata": {},
     "output_type": "display_data"
    }
   ],
   "source": [
    "dim(combined_df)\n",
    "dim(filter1_df)"
   ]
  },
  {
   "cell_type": "markdown",
   "id": "5f340a20-8ef3-419d-92a5-9140887821d7",
   "metadata": {},
   "source": [
    "Started with 6581 records, 1363 were removed, leaving 5145. \n",
    "\n",
    "Now that each sample type (WS of WF) has at least one experimental value, we'll see if there are at least 50% of data between the sample types."
   ]
  },
  {
   "cell_type": "code",
   "execution_count": 11,
   "id": "d7cb46a6-4543-4dfa-949a-58c261307882",
   "metadata": {},
   "outputs": [
    {
     "data": {
      "text/html": [
       "<table class=\"dataframe\">\n",
       "<caption>A tibble: 6 × 3</caption>\n",
       "<thead>\n",
       "\t<tr><th scope=col>Metric</th><th scope=col>Name</th><th scope=col>Variable_Presence_Percentage</th></tr>\n",
       "\t<tr><th scope=col>&lt;chr&gt;</th><th scope=col>&lt;chr&gt;</th><th scope=col>&lt;dbl&gt;</th></tr>\n",
       "</thead>\n",
       "<tbody>\n",
       "\t<tr><td>Volume</td><td>1,2,4-Trimethylbenzene    </td><td>100</td></tr>\n",
       "\t<tr><td>Volume</td><td>1,3,5-Trimethylbenzene    </td><td>100</td></tr>\n",
       "\t<tr><td>Volume</td><td>1,3-Dihydroxynaphthalene  </td><td>100</td></tr>\n",
       "\t<tr><td>Volume</td><td>1,4-Dichloro-2-butene, cis</td><td>100</td></tr>\n",
       "\t<tr><td>Volume</td><td>1,4-Dichlorobenzene       </td><td>100</td></tr>\n",
       "\t<tr><td>Volume</td><td>1,8-Dihydroxynaphthalene  </td><td>100</td></tr>\n",
       "</tbody>\n",
       "</table>\n"
      ],
      "text/latex": [
       "A tibble: 6 × 3\n",
       "\\begin{tabular}{lll}\n",
       " Metric & Name & Variable\\_Presence\\_Percentage\\\\\n",
       " <chr> & <chr> & <dbl>\\\\\n",
       "\\hline\n",
       "\t Volume & 1,2,4-Trimethylbenzene     & 100\\\\\n",
       "\t Volume & 1,3,5-Trimethylbenzene     & 100\\\\\n",
       "\t Volume & 1,3-Dihydroxynaphthalene   & 100\\\\\n",
       "\t Volume & 1,4-Dichloro-2-butene, cis & 100\\\\\n",
       "\t Volume & 1,4-Dichlorobenzene        & 100\\\\\n",
       "\t Volume & 1,8-Dihydroxynaphthalene   & 100\\\\\n",
       "\\end{tabular}\n"
      ],
      "text/markdown": [
       "\n",
       "A tibble: 6 × 3\n",
       "\n",
       "| Metric &lt;chr&gt; | Name &lt;chr&gt; | Variable_Presence_Percentage &lt;dbl&gt; |\n",
       "|---|---|---|\n",
       "| Volume | 1,2,4-Trimethylbenzene     | 100 |\n",
       "| Volume | 1,3,5-Trimethylbenzene     | 100 |\n",
       "| Volume | 1,3-Dihydroxynaphthalene   | 100 |\n",
       "| Volume | 1,4-Dichloro-2-butene, cis | 100 |\n",
       "| Volume | 1,4-Dichlorobenzene        | 100 |\n",
       "| Volume | 1,8-Dihydroxynaphthalene   | 100 |\n",
       "\n"
      ],
      "text/plain": [
       "  Metric Name                       Variable_Presence_Percentage\n",
       "1 Volume 1,2,4-Trimethylbenzene     100                         \n",
       "2 Volume 1,3,5-Trimethylbenzene     100                         \n",
       "3 Volume 1,3-Dihydroxynaphthalene   100                         \n",
       "4 Volume 1,4-Dichloro-2-butene, cis 100                         \n",
       "5 Volume 1,4-Dichlorobenzene        100                         \n",
       "6 Volume 1,8-Dihydroxynaphthalene   100                         "
      ]
     },
     "metadata": {},
     "output_type": "display_data"
    }
   ],
   "source": [
    "variable_presence_df = filter1_df %>%\n",
    "    # if the value isn't MAR count it as being present\n",
    "    mutate(count = ifelse(Value != 'NA', 1, 0)) %>%\n",
    "    group_by(Metric, Name) %>%\n",
    "    # calculating the percentage of variables with data overall\n",
    "    reframe(Variable_Presence_Percentage = (sum(count)/n()) * 100) %>%\n",
    "    arrange(-Variable_Presence_Percentage)\n",
    "\n",
    "# viewing data that passed the filter\n",
    "keep_variables_df = variable_presence_df %>%\n",
    "     filter(Variable_Presence_Percentage >= 50) %>%\n",
    "     unique()\n",
    "\n",
    "head(keep_variables_df)"
   ]
  },
  {
   "cell_type": "code",
   "execution_count": 13,
   "id": "86b71768-8adf-45d6-8d3d-581c3a7d1c80",
   "metadata": {},
   "outputs": [
    {
     "name": "stderr",
     "output_type": "stream",
     "text": [
      "\u001b[1m\u001b[22mJoining with `by = join_by(Metric, Name)`\n"
     ]
    },
    {
     "data": {
      "text/html": [
       "<table class=\"dataframe\">\n",
       "<caption>A tibble: 6 × 9</caption>\n",
       "<thead>\n",
       "\t<tr><th scope=col>Metric</th><th scope=col>Name</th><th scope=col>HAWC_ID</th><th scope=col>Data</th><th scope=col>Study</th><th scope=col>Replicate</th><th scope=col>Chemical_Class</th><th scope=col>DTXSID</th><th scope=col>Value</th></tr>\n",
       "\t<tr><th scope=col>&lt;chr&gt;</th><th scope=col>&lt;chr&gt;</th><th scope=col>&lt;dbl&gt;</th><th scope=col>&lt;chr&gt;</th><th scope=col>&lt;chr&gt;</th><th scope=col>&lt;dbl&gt;</th><th scope=col>&lt;chr&gt;</th><th scope=col>&lt;chr&gt;</th><th scope=col>&lt;chr&gt;</th></tr>\n",
       "</thead>\n",
       "<tbody>\n",
       "\t<tr><td>Volume</td><td>1,2,4-Trimethylbenzene    </td><td>1289926</td><td>WF</td><td>Wang et al. 2024       </td><td>1</td><td>VOC</td><td>DTXSID6021402 </td><td>730</td></tr>\n",
       "\t<tr><td>Volume</td><td>1,2,4-Trimethylbenzene    </td><td>1306371</td><td>WF</td><td>Ketcherside et al. 2024</td><td>1</td><td>VOC</td><td>DTXSID6021402 </td><td>130</td></tr>\n",
       "\t<tr><td>Volume</td><td>1,3,5-Trimethylbenzene    </td><td>1289926</td><td>WF</td><td>Wang et al. 2024       </td><td>1</td><td>VOC</td><td>DTXSID6026797 </td><td>330</td></tr>\n",
       "\t<tr><td>Volume</td><td>1,3,5-Trimethylbenzene    </td><td>1306371</td><td>WF</td><td>Ketcherside et al. 2024</td><td>1</td><td>VOC</td><td>DTXSID6026797 </td><td>110</td></tr>\n",
       "\t<tr><td>Volume</td><td>1,3-Dihydroxynaphthalene  </td><td>1289821</td><td>WF</td><td>Liang et al. 2021      </td><td>1</td><td>PAH</td><td>DTXSID40456587</td><td>6  </td></tr>\n",
       "\t<tr><td>Volume</td><td>1,4-Dichloro-2-butene, cis</td><td>1289926</td><td>WF</td><td>Wang et al. 2024       </td><td>1</td><td>VOC</td><td>DTXSID3027405 </td><td>230</td></tr>\n",
       "</tbody>\n",
       "</table>\n"
      ],
      "text/latex": [
       "A tibble: 6 × 9\n",
       "\\begin{tabular}{lllllllll}\n",
       " Metric & Name & HAWC\\_ID & Data & Study & Replicate & Chemical\\_Class & DTXSID & Value\\\\\n",
       " <chr> & <chr> & <dbl> & <chr> & <chr> & <dbl> & <chr> & <chr> & <chr>\\\\\n",
       "\\hline\n",
       "\t Volume & 1,2,4-Trimethylbenzene     & 1289926 & WF & Wang et al. 2024        & 1 & VOC & DTXSID6021402  & 730\\\\\n",
       "\t Volume & 1,2,4-Trimethylbenzene     & 1306371 & WF & Ketcherside et al. 2024 & 1 & VOC & DTXSID6021402  & 130\\\\\n",
       "\t Volume & 1,3,5-Trimethylbenzene     & 1289926 & WF & Wang et al. 2024        & 1 & VOC & DTXSID6026797  & 330\\\\\n",
       "\t Volume & 1,3,5-Trimethylbenzene     & 1306371 & WF & Ketcherside et al. 2024 & 1 & VOC & DTXSID6026797  & 110\\\\\n",
       "\t Volume & 1,3-Dihydroxynaphthalene   & 1289821 & WF & Liang et al. 2021       & 1 & PAH & DTXSID40456587 & 6  \\\\\n",
       "\t Volume & 1,4-Dichloro-2-butene, cis & 1289926 & WF & Wang et al. 2024        & 1 & VOC & DTXSID3027405  & 230\\\\\n",
       "\\end{tabular}\n"
      ],
      "text/markdown": [
       "\n",
       "A tibble: 6 × 9\n",
       "\n",
       "| Metric &lt;chr&gt; | Name &lt;chr&gt; | HAWC_ID &lt;dbl&gt; | Data &lt;chr&gt; | Study &lt;chr&gt; | Replicate &lt;dbl&gt; | Chemical_Class &lt;chr&gt; | DTXSID &lt;chr&gt; | Value &lt;chr&gt; |\n",
       "|---|---|---|---|---|---|---|---|---|\n",
       "| Volume | 1,2,4-Trimethylbenzene     | 1289926 | WF | Wang et al. 2024        | 1 | VOC | DTXSID6021402  | 730 |\n",
       "| Volume | 1,2,4-Trimethylbenzene     | 1306371 | WF | Ketcherside et al. 2024 | 1 | VOC | DTXSID6021402  | 130 |\n",
       "| Volume | 1,3,5-Trimethylbenzene     | 1289926 | WF | Wang et al. 2024        | 1 | VOC | DTXSID6026797  | 330 |\n",
       "| Volume | 1,3,5-Trimethylbenzene     | 1306371 | WF | Ketcherside et al. 2024 | 1 | VOC | DTXSID6026797  | 110 |\n",
       "| Volume | 1,3-Dihydroxynaphthalene   | 1289821 | WF | Liang et al. 2021       | 1 | PAH | DTXSID40456587 | 6   |\n",
       "| Volume | 1,4-Dichloro-2-butene, cis | 1289926 | WF | Wang et al. 2024        | 1 | VOC | DTXSID3027405  | 230 |\n",
       "\n"
      ],
      "text/plain": [
       "  Metric Name                       HAWC_ID Data Study                  \n",
       "1 Volume 1,2,4-Trimethylbenzene     1289926 WF   Wang et al. 2024       \n",
       "2 Volume 1,2,4-Trimethylbenzene     1306371 WF   Ketcherside et al. 2024\n",
       "3 Volume 1,3,5-Trimethylbenzene     1289926 WF   Wang et al. 2024       \n",
       "4 Volume 1,3,5-Trimethylbenzene     1306371 WF   Ketcherside et al. 2024\n",
       "5 Volume 1,3-Dihydroxynaphthalene   1289821 WF   Liang et al. 2021      \n",
       "6 Volume 1,4-Dichloro-2-butene, cis 1289926 WF   Wang et al. 2024       \n",
       "  Replicate Chemical_Class DTXSID         Value\n",
       "1 1         VOC            DTXSID6021402  730  \n",
       "2 1         VOC            DTXSID6021402  130  \n",
       "3 1         VOC            DTXSID6026797  330  \n",
       "4 1         VOC            DTXSID6026797  110  \n",
       "5 1         PAH            DTXSID40456587 6    \n",
       "6 1         VOC            DTXSID3027405  230  "
      ]
     },
     "metadata": {},
     "output_type": "display_data"
    }
   ],
   "source": [
    "# only keeping records that passed the background filter\n",
    "filter2_df = inner_join(keep_variables_df[,1:2], filter1_df) %>%\n",
    "    # metals don't have a DTXSID, so making that col their name\n",
    "    mutate(DTXSID = ifelse(DTXSID != 'NA', DTXSID, Name)) \n",
    "    \n",
    "\n",
    "head(filter2_df)"
   ]
  },
  {
   "cell_type": "code",
   "execution_count": 14,
   "id": "606a93db-e66a-4d74-9b15-7b6f6d34b28c",
   "metadata": {},
   "outputs": [
    {
     "data": {
      "text/html": [
       "<style>\n",
       ".list-inline {list-style: none; margin:0; padding: 0}\n",
       ".list-inline>li {display: inline-block}\n",
       ".list-inline>li:not(:last-child)::after {content: \"\\00b7\"; padding: 0 .5ex}\n",
       "</style>\n",
       "<ol class=list-inline><li>4189</li><li>9</li></ol>\n"
      ],
      "text/latex": [
       "\\begin{enumerate*}\n",
       "\\item 4189\n",
       "\\item 9\n",
       "\\end{enumerate*}\n"
      ],
      "text/markdown": [
       "1. 4189\n",
       "2. 9\n",
       "\n",
       "\n"
      ],
      "text/plain": [
       "[1] 4189    9"
      ]
     },
     "metadata": {},
     "output_type": "display_data"
    }
   ],
   "source": [
    "dim(filter2_df)"
   ]
  },
  {
   "cell_type": "markdown",
   "id": "6fd63281-87c6-4702-9834-4ff5be768edd",
   "metadata": {},
   "source": [
    "An additional 408 records were removed, leaving 4882.\n",
    "\n",
    "# Second Variable Background Filter\n",
    "\n",
    "In the intial filter, samples were combined. However, this time variables (ie. metal or chemical) will be split based on their `Metric` (ie. volume or weight) and then retained if that variable in found in both woodsmoke and wildfire samples within volume or weight samples."
   ]
  },
  {
   "cell_type": "code",
   "execution_count": 15,
   "id": "00ed4b32-8851-48f9-a680-c4277545ea8d",
   "metadata": {},
   "outputs": [],
   "source": [
    "split_filtered_df = filter2_df %>%\n",
    "    group_by(Data, Metric) %>%\n",
    "    group_split\n",
    "\n",
    "split_ws_vol_df = split_filtered_df[[3]]\n",
    "split_ws_weight_df = split_filtered_df[[4]]\n",
    "split_wf_vol_df = split_filtered_df[[1]]\n",
    "split_wf_weight_df = split_filtered_df[[2]]"
   ]
  },
  {
   "cell_type": "code",
   "execution_count": 16,
   "id": "c52b40df-d2c5-4604-8fa8-a5f31ad46df7",
   "metadata": {},
   "outputs": [
    {
     "data": {
      "text/html": [
       "98"
      ],
      "text/latex": [
       "98"
      ],
      "text/markdown": [
       "98"
      ],
      "text/plain": [
       "[1] 98"
      ]
     },
     "metadata": {},
     "output_type": "display_data"
    },
    {
     "data": {
      "text/html": [
       "68"
      ],
      "text/latex": [
       "68"
      ],
      "text/markdown": [
       "68"
      ],
      "text/plain": [
       "[1] 68"
      ]
     },
     "metadata": {},
     "output_type": "display_data"
    },
    {
     "data": {
      "text/html": [
       "94"
      ],
      "text/latex": [
       "94"
      ],
      "text/markdown": [
       "94"
      ],
      "text/plain": [
       "[1] 94"
      ]
     },
     "metadata": {},
     "output_type": "display_data"
    },
    {
     "data": {
      "text/html": [
       "70"
      ],
      "text/latex": [
       "70"
      ],
      "text/markdown": [
       "70"
      ],
      "text/plain": [
       "[1] 70"
      ]
     },
     "metadata": {},
     "output_type": "display_data"
    }
   ],
   "source": [
    "# seeing how many unique variables are in each df and if they're consistent in each file\n",
    "length(unique(split_ws_vol_df$Name))\n",
    "length(unique(split_wf_vol_df$Name))\n",
    "length(unique(split_ws_weight_df$Name))\n",
    "length(unique(split_wf_weight_df$Name))"
   ]
  },
  {
   "cell_type": "code",
   "execution_count": 17,
   "id": "97f266f6-d8ee-44ce-a9ab-cc96acfcbf2f",
   "metadata": {},
   "outputs": [
    {
     "data": {
      "text/html": [
       "33"
      ],
      "text/latex": [
       "33"
      ],
      "text/markdown": [
       "33"
      ],
      "text/plain": [
       "[1] 33"
      ]
     },
     "metadata": {},
     "output_type": "display_data"
    },
    {
     "data": {
      "text/html": [
       "33"
      ],
      "text/latex": [
       "33"
      ],
      "text/markdown": [
       "33"
      ],
      "text/plain": [
       "[1] 33"
      ]
     },
     "metadata": {},
     "output_type": "display_data"
    },
    {
     "data": {
      "text/html": [
       "34"
      ],
      "text/latex": [
       "34"
      ],
      "text/markdown": [
       "34"
      ],
      "text/plain": [
       "[1] 34"
      ]
     },
     "metadata": {},
     "output_type": "display_data"
    },
    {
     "data": {
      "text/html": [
       "34"
      ],
      "text/latex": [
       "34"
      ],
      "text/markdown": [
       "34"
      ],
      "text/plain": [
       "[1] 34"
      ]
     },
     "metadata": {},
     "output_type": "display_data"
    }
   ],
   "source": [
    "# they're not so first getting variables that are in weight or volume samples\n",
    "consistent_wf_vol_df = split_wf_vol_df %>%\n",
    "    filter(Name %in% unique(split_ws_vol_df$Name))\n",
    "consistent_ws_vol_df = split_ws_vol_df %>%\n",
    "    filter(Name %in% consistent_wf_vol_df$Name)\n",
    "consistent_wf_weight_df = split_wf_weight_df %>%\n",
    "    filter(Name %in% unique(split_ws_weight_df$Name))\n",
    "consistent_ws_weight_df = split_ws_weight_df %>%\n",
    "    filter(Name %in% consistent_wf_weight_df$Name)\n",
    "\n",
    "length(unique(consistent_wf_vol_df$Name))\n",
    "length(unique(consistent_ws_vol_df$Name))\n",
    "length(unique(consistent_wf_weight_df$Name))\n",
    "length(unique(consistent_ws_weight_df$Name))"
   ]
  },
  {
   "cell_type": "markdown",
   "id": "4b604def-71e1-482c-ab06-ed64e9e7d830",
   "metadata": {},
   "source": [
    "There were 80, 47, 73 and 61 woodsmoke weight, woodsmoke volume, wildfire weight, and wildfire volume samples, respectively. 26 variables were common between volume samples and 30 were common between weight records and will be retained."
   ]
  },
  {
   "cell_type": "code",
   "execution_count": 18,
   "id": "0d22def2-eb27-4093-8bbe-8a7c8082b9ce",
   "metadata": {},
   "outputs": [
    {
     "data": {
      "text/html": [
       "<table class=\"dataframe\">\n",
       "<caption>A tibble: 6 × 9</caption>\n",
       "<thead>\n",
       "\t<tr><th scope=col>Metric</th><th scope=col>Name</th><th scope=col>HAWC_ID</th><th scope=col>Data</th><th scope=col>Study</th><th scope=col>Replicate</th><th scope=col>Chemical_Class</th><th scope=col>DTXSID</th><th scope=col>Value</th></tr>\n",
       "\t<tr><th scope=col>&lt;chr&gt;</th><th scope=col>&lt;chr&gt;</th><th scope=col>&lt;dbl&gt;</th><th scope=col>&lt;chr&gt;</th><th scope=col>&lt;chr&gt;</th><th scope=col>&lt;dbl&gt;</th><th scope=col>&lt;chr&gt;</th><th scope=col>&lt;chr&gt;</th><th scope=col>&lt;chr&gt;</th></tr>\n",
       "</thead>\n",
       "<tbody>\n",
       "\t<tr><td>Volume</td><td>Acenaphthylene</td><td> 429445</td><td>WS</td><td>Rajput 2010       </td><td>1</td><td>PAH</td><td>DTXSID3023845</td><td>53500   </td></tr>\n",
       "\t<tr><td>Volume</td><td>Acenaphthylene</td><td>1263480</td><td>WS</td><td>Burnet et al. 1990</td><td>1</td><td>PAH</td><td>DTXSID3023845</td><td>6187000 </td></tr>\n",
       "\t<tr><td>Volume</td><td>Acenaphthylene</td><td>1263480</td><td>WS</td><td>Burnet et al. 1990</td><td>2</td><td>PAH</td><td>DTXSID3023845</td><td>18890500</td></tr>\n",
       "\t<tr><td>Volume</td><td>Acenaphthylene</td><td>1263480</td><td>WS</td><td>Burnet et al. 1990</td><td>3</td><td>PAH</td><td>DTXSID3023845</td><td>7806000 </td></tr>\n",
       "\t<tr><td>Volume</td><td>Acenaphthylene</td><td>1263484</td><td>WS</td><td>Leese et al. 1989 </td><td>1</td><td>PAH</td><td>DTXSID3023845</td><td>1100000 </td></tr>\n",
       "\t<tr><td>Volume</td><td>Acenaphthylene</td><td>1263484</td><td>WS</td><td>Leese et al. 1989 </td><td>2</td><td>PAH</td><td>DTXSID3023845</td><td>2800000 </td></tr>\n",
       "</tbody>\n",
       "</table>\n"
      ],
      "text/latex": [
       "A tibble: 6 × 9\n",
       "\\begin{tabular}{lllllllll}\n",
       " Metric & Name & HAWC\\_ID & Data & Study & Replicate & Chemical\\_Class & DTXSID & Value\\\\\n",
       " <chr> & <chr> & <dbl> & <chr> & <chr> & <dbl> & <chr> & <chr> & <chr>\\\\\n",
       "\\hline\n",
       "\t Volume & Acenaphthylene &  429445 & WS & Rajput 2010        & 1 & PAH & DTXSID3023845 & 53500   \\\\\n",
       "\t Volume & Acenaphthylene & 1263480 & WS & Burnet et al. 1990 & 1 & PAH & DTXSID3023845 & 6187000 \\\\\n",
       "\t Volume & Acenaphthylene & 1263480 & WS & Burnet et al. 1990 & 2 & PAH & DTXSID3023845 & 18890500\\\\\n",
       "\t Volume & Acenaphthylene & 1263480 & WS & Burnet et al. 1990 & 3 & PAH & DTXSID3023845 & 7806000 \\\\\n",
       "\t Volume & Acenaphthylene & 1263484 & WS & Leese et al. 1989  & 1 & PAH & DTXSID3023845 & 1100000 \\\\\n",
       "\t Volume & Acenaphthylene & 1263484 & WS & Leese et al. 1989  & 2 & PAH & DTXSID3023845 & 2800000 \\\\\n",
       "\\end{tabular}\n"
      ],
      "text/markdown": [
       "\n",
       "A tibble: 6 × 9\n",
       "\n",
       "| Metric &lt;chr&gt; | Name &lt;chr&gt; | HAWC_ID &lt;dbl&gt; | Data &lt;chr&gt; | Study &lt;chr&gt; | Replicate &lt;dbl&gt; | Chemical_Class &lt;chr&gt; | DTXSID &lt;chr&gt; | Value &lt;chr&gt; |\n",
       "|---|---|---|---|---|---|---|---|---|\n",
       "| Volume | Acenaphthylene |  429445 | WS | Rajput 2010        | 1 | PAH | DTXSID3023845 | 53500    |\n",
       "| Volume | Acenaphthylene | 1263480 | WS | Burnet et al. 1990 | 1 | PAH | DTXSID3023845 | 6187000  |\n",
       "| Volume | Acenaphthylene | 1263480 | WS | Burnet et al. 1990 | 2 | PAH | DTXSID3023845 | 18890500 |\n",
       "| Volume | Acenaphthylene | 1263480 | WS | Burnet et al. 1990 | 3 | PAH | DTXSID3023845 | 7806000  |\n",
       "| Volume | Acenaphthylene | 1263484 | WS | Leese et al. 1989  | 1 | PAH | DTXSID3023845 | 1100000  |\n",
       "| Volume | Acenaphthylene | 1263484 | WS | Leese et al. 1989  | 2 | PAH | DTXSID3023845 | 2800000  |\n",
       "\n"
      ],
      "text/plain": [
       "  Metric Name           HAWC_ID Data Study              Replicate\n",
       "1 Volume Acenaphthylene  429445 WS   Rajput 2010        1        \n",
       "2 Volume Acenaphthylene 1263480 WS   Burnet et al. 1990 1        \n",
       "3 Volume Acenaphthylene 1263480 WS   Burnet et al. 1990 2        \n",
       "4 Volume Acenaphthylene 1263480 WS   Burnet et al. 1990 3        \n",
       "5 Volume Acenaphthylene 1263484 WS   Leese et al. 1989  1        \n",
       "6 Volume Acenaphthylene 1263484 WS   Leese et al. 1989  2        \n",
       "  Chemical_Class DTXSID        Value   \n",
       "1 PAH            DTXSID3023845 53500   \n",
       "2 PAH            DTXSID3023845 6187000 \n",
       "3 PAH            DTXSID3023845 18890500\n",
       "4 PAH            DTXSID3023845 7806000 \n",
       "5 PAH            DTXSID3023845 1100000 \n",
       "6 PAH            DTXSID3023845 2800000 "
      ]
     },
     "metadata": {},
     "output_type": "display_data"
    }
   ],
   "source": [
    "# recombining data\n",
    "vol_df = rbind(consistent_ws_vol_df, consistent_wf_vol_df)\n",
    "weight_df = rbind(consistent_ws_weight_df, consistent_wf_weight_df)\n",
    "\n",
    "head(vol_df)"
   ]
  },
  {
   "cell_type": "markdown",
   "id": "12249f65-761e-4dbc-8231-8c455e6d3120",
   "metadata": {},
   "source": [
    "# QRILC Imputation\n",
    "\n",
    "Imputing non-detect data using QRILC didn't work, so I'm just replacing the non-detect data with zeros."
   ]
  },
  {
   "cell_type": "code",
   "execution_count": 21,
   "id": "f2daf4ed-f7ff-41f7-8e9a-e38067235cd5",
   "metadata": {},
   "outputs": [
    {
     "data": {
      "text/html": [
       "<table class=\"dataframe\">\n",
       "<caption>A tibble: 6 × 9</caption>\n",
       "<thead>\n",
       "\t<tr><th scope=col>Metric</th><th scope=col>Name</th><th scope=col>Data</th><th scope=col>HAWC_ID</th><th scope=col>Study</th><th scope=col>Replicate</th><th scope=col>Chemical_Class</th><th scope=col>DTXSID</th><th scope=col>Value</th></tr>\n",
       "\t<tr><th scope=col>&lt;chr&gt;</th><th scope=col>&lt;chr&gt;</th><th scope=col>&lt;chr&gt;</th><th scope=col>&lt;dbl&gt;</th><th scope=col>&lt;chr&gt;</th><th scope=col>&lt;dbl&gt;</th><th scope=col>&lt;chr&gt;</th><th scope=col>&lt;chr&gt;</th><th scope=col>&lt;chr&gt;</th></tr>\n",
       "</thead>\n",
       "<tbody>\n",
       "\t<tr><td>Weight</td><td>Fluoranthene</td><td>WS</td><td>1098462</td><td>Niu et al. 2023      </td><td>3</td><td>PAH  </td><td>DTXSID3024104</td><td>ND</td></tr>\n",
       "\t<tr><td>Weight</td><td>Phenanthrene</td><td>WS</td><td>1098462</td><td>Niu et al. 2023      </td><td>3</td><td>PAH  </td><td>DTXSID6024254</td><td>ND</td></tr>\n",
       "\t<tr><td>Weight</td><td>Phenanthrene</td><td>WS</td><td> 914540</td><td>Verma et al. 2021    </td><td>7</td><td>PAH  </td><td>DTXSID6024254</td><td>ND</td></tr>\n",
       "\t<tr><td>Weight</td><td>Phenanthrene</td><td>WS</td><td> 914540</td><td>Verma et al. 2021    </td><td>8</td><td>PAH  </td><td>DTXSID6024254</td><td>ND</td></tr>\n",
       "\t<tr><td>Weight</td><td>Ni          </td><td>WS</td><td> 822010</td><td>Farina et al. 2019   </td><td>1</td><td>Metal</td><td>Ni           </td><td>ND</td></tr>\n",
       "\t<tr><td>Weight</td><td>Ni          </td><td>WS</td><td> 299223</td><td>Kasurinen et al. 2015</td><td>2</td><td>Metal</td><td>Ni           </td><td>ND</td></tr>\n",
       "</tbody>\n",
       "</table>\n"
      ],
      "text/latex": [
       "A tibble: 6 × 9\n",
       "\\begin{tabular}{lllllllll}\n",
       " Metric & Name & Data & HAWC\\_ID & Study & Replicate & Chemical\\_Class & DTXSID & Value\\\\\n",
       " <chr> & <chr> & <chr> & <dbl> & <chr> & <dbl> & <chr> & <chr> & <chr>\\\\\n",
       "\\hline\n",
       "\t Weight & Fluoranthene & WS & 1098462 & Niu et al. 2023       & 3 & PAH   & DTXSID3024104 & ND\\\\\n",
       "\t Weight & Phenanthrene & WS & 1098462 & Niu et al. 2023       & 3 & PAH   & DTXSID6024254 & ND\\\\\n",
       "\t Weight & Phenanthrene & WS &  914540 & Verma et al. 2021     & 7 & PAH   & DTXSID6024254 & ND\\\\\n",
       "\t Weight & Phenanthrene & WS &  914540 & Verma et al. 2021     & 8 & PAH   & DTXSID6024254 & ND\\\\\n",
       "\t Weight & Ni           & WS &  822010 & Farina et al. 2019    & 1 & Metal & Ni            & ND\\\\\n",
       "\t Weight & Ni           & WS &  299223 & Kasurinen et al. 2015 & 2 & Metal & Ni            & ND\\\\\n",
       "\\end{tabular}\n"
      ],
      "text/markdown": [
       "\n",
       "A tibble: 6 × 9\n",
       "\n",
       "| Metric &lt;chr&gt; | Name &lt;chr&gt; | Data &lt;chr&gt; | HAWC_ID &lt;dbl&gt; | Study &lt;chr&gt; | Replicate &lt;dbl&gt; | Chemical_Class &lt;chr&gt; | DTXSID &lt;chr&gt; | Value &lt;chr&gt; |\n",
       "|---|---|---|---|---|---|---|---|---|\n",
       "| Weight | Fluoranthene | WS | 1098462 | Niu et al. 2023       | 3 | PAH   | DTXSID3024104 | ND |\n",
       "| Weight | Phenanthrene | WS | 1098462 | Niu et al. 2023       | 3 | PAH   | DTXSID6024254 | ND |\n",
       "| Weight | Phenanthrene | WS |  914540 | Verma et al. 2021     | 7 | PAH   | DTXSID6024254 | ND |\n",
       "| Weight | Phenanthrene | WS |  914540 | Verma et al. 2021     | 8 | PAH   | DTXSID6024254 | ND |\n",
       "| Weight | Ni           | WS |  822010 | Farina et al. 2019    | 1 | Metal | Ni            | ND |\n",
       "| Weight | Ni           | WS |  299223 | Kasurinen et al. 2015 | 2 | Metal | Ni            | ND |\n",
       "\n"
      ],
      "text/plain": [
       "  Metric Name         Data HAWC_ID Study                 Replicate\n",
       "1 Weight Fluoranthene WS   1098462 Niu et al. 2023       3        \n",
       "2 Weight Phenanthrene WS   1098462 Niu et al. 2023       3        \n",
       "3 Weight Phenanthrene WS    914540 Verma et al. 2021     7        \n",
       "4 Weight Phenanthrene WS    914540 Verma et al. 2021     8        \n",
       "5 Weight Ni           WS    822010 Farina et al. 2019    1        \n",
       "6 Weight Ni           WS    299223 Kasurinen et al. 2015 2        \n",
       "  Chemical_Class DTXSID        Value\n",
       "1 PAH            DTXSID3024104 ND   \n",
       "2 PAH            DTXSID6024254 ND   \n",
       "3 PAH            DTXSID6024254 ND   \n",
       "4 PAH            DTXSID6024254 ND   \n",
       "5 Metal          Ni            ND   \n",
       "6 Metal          Ni            ND   "
      ]
     },
     "metadata": {},
     "output_type": "display_data"
    }
   ],
   "source": [
    "# head(weight_df %>%\n",
    "#     filter(Value == 'ND'))"
   ]
  },
  {
   "cell_type": "markdown",
   "id": "172b8ad6-4504-434a-85f2-c1b460503fc6",
   "metadata": {},
   "source": [
    "Only the weight dataframe had non-detect values representing MNAR data. All MAR data will be imputed using random forest (RF)."
   ]
  },
  {
   "cell_type": "code",
   "execution_count": 54,
   "id": "21e2dbe6-cac4-49c8-bd4f-d33282fad336",
   "metadata": {},
   "outputs": [
    {
     "name": "stderr",
     "output_type": "stream",
     "text": [
      "\u001b[1m\u001b[22mJoining with `by = join_by(Metric, Name, HAWC_ID, Data, Study, Replicate,\n",
      "Chemical_Class, DTXSID, Value)`\n",
      "Warning message:\n",
      "“NAs introduced by coercion”\n"
     ]
    },
    {
     "data": {
      "text/html": [
       "<table class=\"dataframe\">\n",
       "<caption>A tibble: 6 × 9</caption>\n",
       "<thead>\n",
       "\t<tr><th scope=col>HAWC_ID</th><th scope=col>Metric</th><th scope=col>Data</th><th scope=col>Study</th><th scope=col>Replicate</th><th scope=col>Chemical_Class</th><th scope=col>DTXSID</th><th scope=col>Name</th><th scope=col>Value</th></tr>\n",
       "\t<tr><th scope=col>&lt;dbl&gt;</th><th scope=col>&lt;chr&gt;</th><th scope=col>&lt;chr&gt;</th><th scope=col>&lt;chr&gt;</th><th scope=col>&lt;dbl&gt;</th><th scope=col>&lt;chr&gt;</th><th scope=col>&lt;chr&gt;</th><th scope=col>&lt;chr&gt;</th><th scope=col>&lt;dbl&gt;</th></tr>\n",
       "</thead>\n",
       "<tbody>\n",
       "\t<tr><td> 821855</td><td>Weight</td><td>WS</td><td>Erlandsson et al. 2020</td><td>1</td><td>PAH</td><td>DTXSID2060383</td><td>2,3-Dimethylnaphthalene</td><td> 0.05</td></tr>\n",
       "\t<tr><td> 821855</td><td>Weight</td><td>WS</td><td>Erlandsson et al. 2020</td><td>2</td><td>PAH</td><td>DTXSID2060383</td><td>2,3-Dimethylnaphthalene</td><td> 0.05</td></tr>\n",
       "\t<tr><td>1257056</td><td>Weight</td><td>WS</td><td>McCarrick et al. 2024 </td><td>1</td><td>PAH</td><td>DTXSID2060383</td><td>2,3-Dimethylnaphthalene</td><td> 0.04</td></tr>\n",
       "\t<tr><td> 821855</td><td>Weight</td><td>WS</td><td>Erlandsson et al. 2020</td><td>1</td><td>PAH</td><td>DTXSID8074819</td><td>2-Methylchrysene       </td><td> 7.40</td></tr>\n",
       "\t<tr><td> 821855</td><td>Weight</td><td>WS</td><td>Erlandsson et al. 2020</td><td>2</td><td>PAH</td><td>DTXSID8074819</td><td>2-Methylchrysene       </td><td>12.10</td></tr>\n",
       "\t<tr><td>1257056</td><td>Weight</td><td>WS</td><td>McCarrick et al. 2024 </td><td>1</td><td>PAH</td><td>DTXSID8074819</td><td>2-Methylchrysene       </td><td>15.45</td></tr>\n",
       "</tbody>\n",
       "</table>\n"
      ],
      "text/latex": [
       "A tibble: 6 × 9\n",
       "\\begin{tabular}{lllllllll}\n",
       " HAWC\\_ID & Metric & Data & Study & Replicate & Chemical\\_Class & DTXSID & Name & Value\\\\\n",
       " <dbl> & <chr> & <chr> & <chr> & <dbl> & <chr> & <chr> & <chr> & <dbl>\\\\\n",
       "\\hline\n",
       "\t  821855 & Weight & WS & Erlandsson et al. 2020 & 1 & PAH & DTXSID2060383 & 2,3-Dimethylnaphthalene &  0.05\\\\\n",
       "\t  821855 & Weight & WS & Erlandsson et al. 2020 & 2 & PAH & DTXSID2060383 & 2,3-Dimethylnaphthalene &  0.05\\\\\n",
       "\t 1257056 & Weight & WS & McCarrick et al. 2024  & 1 & PAH & DTXSID2060383 & 2,3-Dimethylnaphthalene &  0.04\\\\\n",
       "\t  821855 & Weight & WS & Erlandsson et al. 2020 & 1 & PAH & DTXSID8074819 & 2-Methylchrysene        &  7.40\\\\\n",
       "\t  821855 & Weight & WS & Erlandsson et al. 2020 & 2 & PAH & DTXSID8074819 & 2-Methylchrysene        & 12.10\\\\\n",
       "\t 1257056 & Weight & WS & McCarrick et al. 2024  & 1 & PAH & DTXSID8074819 & 2-Methylchrysene        & 15.45\\\\\n",
       "\\end{tabular}\n"
      ],
      "text/markdown": [
       "\n",
       "A tibble: 6 × 9\n",
       "\n",
       "| HAWC_ID &lt;dbl&gt; | Metric &lt;chr&gt; | Data &lt;chr&gt; | Study &lt;chr&gt; | Replicate &lt;dbl&gt; | Chemical_Class &lt;chr&gt; | DTXSID &lt;chr&gt; | Name &lt;chr&gt; | Value &lt;dbl&gt; |\n",
       "|---|---|---|---|---|---|---|---|---|\n",
       "|  821855 | Weight | WS | Erlandsson et al. 2020 | 1 | PAH | DTXSID2060383 | 2,3-Dimethylnaphthalene |  0.05 |\n",
       "|  821855 | Weight | WS | Erlandsson et al. 2020 | 2 | PAH | DTXSID2060383 | 2,3-Dimethylnaphthalene |  0.05 |\n",
       "| 1257056 | Weight | WS | McCarrick et al. 2024  | 1 | PAH | DTXSID2060383 | 2,3-Dimethylnaphthalene |  0.04 |\n",
       "|  821855 | Weight | WS | Erlandsson et al. 2020 | 1 | PAH | DTXSID8074819 | 2-Methylchrysene        |  7.40 |\n",
       "|  821855 | Weight | WS | Erlandsson et al. 2020 | 2 | PAH | DTXSID8074819 | 2-Methylchrysene        | 12.10 |\n",
       "| 1257056 | Weight | WS | McCarrick et al. 2024  | 1 | PAH | DTXSID8074819 | 2-Methylchrysene        | 15.45 |\n",
       "\n"
      ],
      "text/plain": [
       "  HAWC_ID Metric Data Study                  Replicate Chemical_Class\n",
       "1  821855 Weight WS   Erlandsson et al. 2020 1         PAH           \n",
       "2  821855 Weight WS   Erlandsson et al. 2020 2         PAH           \n",
       "3 1257056 Weight WS   McCarrick et al. 2024  1         PAH           \n",
       "4  821855 Weight WS   Erlandsson et al. 2020 1         PAH           \n",
       "5  821855 Weight WS   Erlandsson et al. 2020 2         PAH           \n",
       "6 1257056 Weight WS   McCarrick et al. 2024  1         PAH           \n",
       "  DTXSID        Name                    Value\n",
       "1 DTXSID2060383 2,3-Dimethylnaphthalene  0.05\n",
       "2 DTXSID2060383 2,3-Dimethylnaphthalene  0.05\n",
       "3 DTXSID2060383 2,3-Dimethylnaphthalene  0.04\n",
       "4 DTXSID8074819 2-Methylchrysene         7.40\n",
       "5 DTXSID8074819 2-Methylchrysene        12.10\n",
       "6 DTXSID8074819 2-Methylchrysene        15.45"
      ]
     },
     "metadata": {},
     "output_type": "display_data"
    }
   ],
   "source": [
    "mar_weight_df = weight_df %>%\n",
    "    filter(Value == 'NA')\n",
    "\n",
    "preimputed_df = anti_join(weight_df, mar_weight_df) \n",
    "preimputed_df$Value = as.numeric(preimputed_df$Value)\n",
    "\n",
    "# reordering\n",
    "preimputed_df = preimputed_df[,c(3,1,4:8,2,9)]\n",
    "\n",
    "head(preimputed_df)"
   ]
  },
  {
   "cell_type": "markdown",
   "id": "3608bc16-890c-47e5-8817-8e0491876032",
   "metadata": {},
   "source": [
    "WORDS ABOUT CHANGING VALUES MANUALLY!!"
   ]
  },
  {
   "cell_type": "code",
   "execution_count": 55,
   "id": "9cedb1ef-cbd4-464d-9081-7ee76f1d4990",
   "metadata": {},
   "outputs": [],
   "source": [
    "# will impute within each study\n",
    "study_id = unique(preimputed_df$HAWC_ID)\n",
    "\n",
    "preimputed_df = preimputed_df %>%\n",
    "    mutate(Value = ifelse(HAWC_ID %in% c(821855) & is.na(Value) & Name == 'Acenaphthene', 0.1, Value))"
   ]
  },
  {
   "cell_type": "code",
   "execution_count": 56,
   "id": "162eae0c-57aa-4f62-89e3-386e87475514",
   "metadata": {},
   "outputs": [],
   "source": [
    "QRILC_imputation = function(dataset){\n",
    "      # \"\"\"\n",
    "    # Creating a quantile normalization function to normalize each sample.\n",
    "    # :param (input): exposed and unexposed (vehicle) dfs\n",
    "    # :output: 1 quantile normalized df\n",
    "    # \"\"\"\n",
    "    #ADD WORDS\n",
    "    wider_dataset = dataset%>%#[,c(1:2,7,9)] %>%\n",
    "        # removing these cols temporarily \n",
    "        select(-c(\"Study\", \"HAWC_ID\", \"Chemical_Class\", \"Name\")) %>%\n",
    "        pivot_wider(names_from = DTXSID, values_from = Value)\n",
    "    \n",
    "    index_of_last_variable = length(colnames(wider_dataset))\n",
    "\n",
    "    # normalizing data since that what the QRILC function wants\n",
    "    # had to pseudo log transform to prevent Inf values\n",
    "    QRILC_prep = wider_dataset[,6:dim(wider_dataset)[2]] %>%\n",
    "         mutate_all(., function(x) log10(x + 1)) %>%\n",
    "         as.matrix()\n",
    "                    \n",
    "    imputed_QRILC_object = impute.QRILC(QRILC_prep, tune.sigma = 0.1)\n",
    "    QRILC_log10_df = data.frame(imputed_QRILC_object[1]) \n",
    "    \n",
    "    # converting back the original scale\n",
    "    QRILC_df = QRILC_log10_df %>%\n",
    "        mutate_all(., function(x) 10^x - 1)\n",
    "     \n",
    "    imputed_dataset = data.frame(cbind(unique(dataset[,1:5]), QRILC_df)) %>%\n",
    "         pivot_longer(cols = 6:dim(wider_dataset)[2], names_to = \"Variable\", values_to = \"Value\")\n",
    "    \n",
    "    return(imputed_dataset)\n",
    "\n",
    "}\n",
    "     "
   ]
  },
  {
   "cell_type": "code",
   "execution_count": 59,
   "id": "f1f5cffd-35fd-4f3b-9666-3831a2c798f0",
   "metadata": {},
   "outputs": [
    {
     "name": "stdout",
     "output_type": "stream",
     "text": [
      "\u001b[90m# A tibble: 6 × 9\u001b[39m\n",
      "  HAWC_ID Metric Data  Study        Replicate Chemical_Class DTXSID Name   Value\n",
      "    \u001b[3m\u001b[90m<dbl>\u001b[39m\u001b[23m \u001b[3m\u001b[90m<chr>\u001b[39m\u001b[23m  \u001b[3m\u001b[90m<chr>\u001b[39m\u001b[23m \u001b[3m\u001b[90m<chr>\u001b[39m\u001b[23m            \u001b[3m\u001b[90m<dbl>\u001b[39m\u001b[23m \u001b[3m\u001b[90m<chr>\u001b[39m\u001b[23m          \u001b[3m\u001b[90m<chr>\u001b[39m\u001b[23m  \u001b[3m\u001b[90m<chr>\u001b[39m\u001b[23m  \u001b[3m\u001b[90m<dbl>\u001b[39m\u001b[23m\n",
      "\u001b[90m1\u001b[39m 1\u001b[4m2\u001b[24m\u001b[4m5\u001b[24m\u001b[4m7\u001b[24m056 Weight WS    McCarrick e…         1 PAH            DTXSI… 2,3-…   0.04\n",
      "\u001b[90m2\u001b[39m 1\u001b[4m2\u001b[24m\u001b[4m5\u001b[24m\u001b[4m7\u001b[24m056 Weight WS    McCarrick e…         1 PAH            DTXSI… 2-Me…  15.4 \n",
      "\u001b[90m3\u001b[39m 1\u001b[4m2\u001b[24m\u001b[4m5\u001b[24m\u001b[4m7\u001b[24m056 Weight WS    McCarrick e…         1 PAH            DTXSI… Biph…   0.08\n",
      "\u001b[90m4\u001b[39m 1\u001b[4m2\u001b[24m\u001b[4m5\u001b[24m\u001b[4m7\u001b[24m056 Weight WS    McCarrick e…         1 PAH            DTXSI… Fluo… 215.  \n",
      "\u001b[90m5\u001b[39m 1\u001b[4m2\u001b[24m\u001b[4m5\u001b[24m\u001b[4m7\u001b[24m056 Weight WS    McCarrick e…         1 PAH            DTXSI… Phen…  62.4 \n",
      "\u001b[90m6\u001b[39m 1\u001b[4m2\u001b[24m\u001b[4m5\u001b[24m\u001b[4m7\u001b[24m056 Weight WS    McCarrick e…         1 PAH            DTXSI… 1-Me…  41.9 \n"
     ]
    },
    {
     "name": "stderr",
     "output_type": "stream",
     "text": [
      "Warning message in qnorm((pNAs + 0.001), mean = mean.CDD, sd = sd.CDD):\n",
      "“NaNs produced”\n"
     ]
    },
    {
     "ename": "ERROR",
     "evalue": "Error in checkTmvArgs(mean, sigma, lower, upper): ‘upper’ not specified or contains NA\n",
     "output_type": "error",
     "traceback": [
      "Error in checkTmvArgs(mean, sigma, lower, upper): ‘upper’ not specified or contains NA\nTraceback:\n",
      "1. impute.QRILC(QRILC_prep, tune.sigma = 0.1)",
      "2. rtmvnorm(n = nFeatures, mean = mean.CDD, sigma = sd.CDD * tune.sigma, \n .     upper = qnorm((pNAs + 0.001), mean = mean.CDD, sd = sd.CDD), \n .     algorithm = c(\"gibbs\"))",
      "3. checkTmvArgs(mean, sigma, lower, upper)",
      "4. stop(sQuote(\"upper\"), \" not specified or contains NA\")",
      "5. .handleSimpleError(function (cnd) \n . {\n .     watcher$capture_plot_and_output()\n .     cnd <- sanitize_call(cnd)\n .     watcher$push(cnd)\n .     switch(on_error, continue = invokeRestart(\"eval_continue\"), \n .         stop = invokeRestart(\"eval_stop\"), error = NULL)\n . }, \"‘upper’ not specified or contains NA\", base::quote(checkTmvArgs(mean, \n .     sigma, lower, upper)))"
     ]
    }
   ],
   "source": [
    "for (i in 1:length(study_id)){\n",
    "\n",
    "    filtered_df = preimputed_df %>%\n",
    "        filter(HAWC_ID == study_id[i])\n",
    "\n",
    "    print(head(filtered_df))\n",
    "    # calling fn\n",
    "    imp_df = QRILC_imputation(filtered_df)\n",
    "    \n",
    "}"
   ]
  },
  {
   "cell_type": "code",
   "execution_count": 70,
   "id": "68f4cb6e-6936-474b-9d6c-9370e70b27b9",
   "metadata": {},
   "outputs": [
    {
     "data": {
      "text/html": [
       "<table class=\"dataframe\">\n",
       "<caption>A tibble: 14 × 9</caption>\n",
       "<thead>\n",
       "\t<tr><th scope=col>HAWC_ID</th><th scope=col>Metric</th><th scope=col>Data</th><th scope=col>Study</th><th scope=col>Replicate</th><th scope=col>Chemical_Class</th><th scope=col>DTXSID</th><th scope=col>Name</th><th scope=col>Value</th></tr>\n",
       "\t<tr><th scope=col>&lt;dbl&gt;</th><th scope=col>&lt;chr&gt;</th><th scope=col>&lt;chr&gt;</th><th scope=col>&lt;chr&gt;</th><th scope=col>&lt;dbl&gt;</th><th scope=col>&lt;chr&gt;</th><th scope=col>&lt;chr&gt;</th><th scope=col>&lt;chr&gt;</th><th scope=col>&lt;dbl&gt;</th></tr>\n",
       "</thead>\n",
       "<tbody>\n",
       "\t<tr><td>267127</td><td>Weight</td><td>WS</td><td>Bølling et al. 2012</td><td>1</td><td>PAH</td><td>DTXSID4075455</td><td>Benzo(GHI)fluoranthene</td><td>168</td></tr>\n",
       "\t<tr><td>267127</td><td>Weight</td><td>WS</td><td>Bølling et al. 2012</td><td>2</td><td>PAH</td><td>DTXSID4075455</td><td>Benzo(GHI)fluoranthene</td><td>336</td></tr>\n",
       "\t<tr><td>267127</td><td>Weight</td><td>WS</td><td>Bølling et al. 2012</td><td>3</td><td>PAH</td><td>DTXSID4075455</td><td>Benzo(GHI)fluoranthene</td><td> 90</td></tr>\n",
       "\t<tr><td>267127</td><td>Weight</td><td>WS</td><td>Bølling et al. 2012</td><td>1</td><td>PAH</td><td>DTXSID4075459</td><td>Benzo(c)phenanthrene  </td><td> 10</td></tr>\n",
       "\t<tr><td>267127</td><td>Weight</td><td>WS</td><td>Bølling et al. 2012</td><td>2</td><td>PAH</td><td>DTXSID4075459</td><td>Benzo(c)phenanthrene  </td><td> 32</td></tr>\n",
       "\t<tr><td>267127</td><td>Weight</td><td>WS</td><td>Bølling et al. 2012</td><td>1</td><td>PAH</td><td>DTXSID3024104</td><td>Fluoranthene          </td><td> 73</td></tr>\n",
       "\t<tr><td>267127</td><td>Weight</td><td>WS</td><td>Bølling et al. 2012</td><td>2</td><td>PAH</td><td>DTXSID3024104</td><td>Fluoranthene          </td><td>105</td></tr>\n",
       "\t<tr><td>267127</td><td>Weight</td><td>WS</td><td>Bølling et al. 2012</td><td>3</td><td>PAH</td><td>DTXSID3024104</td><td>Fluoranthene          </td><td> 59</td></tr>\n",
       "\t<tr><td>267127</td><td>Weight</td><td>WS</td><td>Bølling et al. 2012</td><td>1</td><td>PAH</td><td>DTXSID6024254</td><td>Phenanthrene          </td><td> 16</td></tr>\n",
       "\t<tr><td>267127</td><td>Weight</td><td>WS</td><td>Bølling et al. 2012</td><td>2</td><td>PAH</td><td>DTXSID6024254</td><td>Phenanthrene          </td><td> 21</td></tr>\n",
       "\t<tr><td>267127</td><td>Weight</td><td>WS</td><td>Bølling et al. 2012</td><td>3</td><td>PAH</td><td>DTXSID6024254</td><td>Phenanthrene          </td><td> 22</td></tr>\n",
       "\t<tr><td>267127</td><td>Weight</td><td>WS</td><td>Bølling et al. 2012</td><td>1</td><td>PAH</td><td>DTXSID6062591</td><td>Cyclopenta(cd)pyrene  </td><td>123</td></tr>\n",
       "\t<tr><td>267127</td><td>Weight</td><td>WS</td><td>Bølling et al. 2012</td><td>2</td><td>PAH</td><td>DTXSID6062591</td><td>Cyclopenta(cd)pyrene  </td><td>216</td></tr>\n",
       "\t<tr><td>267127</td><td>Weight</td><td>WS</td><td>Bølling et al. 2012</td><td>3</td><td>PAH</td><td>DTXSID6062591</td><td>Cyclopenta(cd)pyrene  </td><td> 19</td></tr>\n",
       "</tbody>\n",
       "</table>\n"
      ],
      "text/latex": [
       "A tibble: 14 × 9\n",
       "\\begin{tabular}{lllllllll}\n",
       " HAWC\\_ID & Metric & Data & Study & Replicate & Chemical\\_Class & DTXSID & Name & Value\\\\\n",
       " <dbl> & <chr> & <chr> & <chr> & <dbl> & <chr> & <chr> & <chr> & <dbl>\\\\\n",
       "\\hline\n",
       "\t 267127 & Weight & WS & Bølling et al. 2012 & 1 & PAH & DTXSID4075455 & Benzo(GHI)fluoranthene & 168\\\\\n",
       "\t 267127 & Weight & WS & Bølling et al. 2012 & 2 & PAH & DTXSID4075455 & Benzo(GHI)fluoranthene & 336\\\\\n",
       "\t 267127 & Weight & WS & Bølling et al. 2012 & 3 & PAH & DTXSID4075455 & Benzo(GHI)fluoranthene &  90\\\\\n",
       "\t 267127 & Weight & WS & Bølling et al. 2012 & 1 & PAH & DTXSID4075459 & Benzo(c)phenanthrene   &  10\\\\\n",
       "\t 267127 & Weight & WS & Bølling et al. 2012 & 2 & PAH & DTXSID4075459 & Benzo(c)phenanthrene   &  32\\\\\n",
       "\t 267127 & Weight & WS & Bølling et al. 2012 & 1 & PAH & DTXSID3024104 & Fluoranthene           &  73\\\\\n",
       "\t 267127 & Weight & WS & Bølling et al. 2012 & 2 & PAH & DTXSID3024104 & Fluoranthene           & 105\\\\\n",
       "\t 267127 & Weight & WS & Bølling et al. 2012 & 3 & PAH & DTXSID3024104 & Fluoranthene           &  59\\\\\n",
       "\t 267127 & Weight & WS & Bølling et al. 2012 & 1 & PAH & DTXSID6024254 & Phenanthrene           &  16\\\\\n",
       "\t 267127 & Weight & WS & Bølling et al. 2012 & 2 & PAH & DTXSID6024254 & Phenanthrene           &  21\\\\\n",
       "\t 267127 & Weight & WS & Bølling et al. 2012 & 3 & PAH & DTXSID6024254 & Phenanthrene           &  22\\\\\n",
       "\t 267127 & Weight & WS & Bølling et al. 2012 & 1 & PAH & DTXSID6062591 & Cyclopenta(cd)pyrene   & 123\\\\\n",
       "\t 267127 & Weight & WS & Bølling et al. 2012 & 2 & PAH & DTXSID6062591 & Cyclopenta(cd)pyrene   & 216\\\\\n",
       "\t 267127 & Weight & WS & Bølling et al. 2012 & 3 & PAH & DTXSID6062591 & Cyclopenta(cd)pyrene   &  19\\\\\n",
       "\\end{tabular}\n"
      ],
      "text/markdown": [
       "\n",
       "A tibble: 14 × 9\n",
       "\n",
       "| HAWC_ID &lt;dbl&gt; | Metric &lt;chr&gt; | Data &lt;chr&gt; | Study &lt;chr&gt; | Replicate &lt;dbl&gt; | Chemical_Class &lt;chr&gt; | DTXSID &lt;chr&gt; | Name &lt;chr&gt; | Value &lt;dbl&gt; |\n",
       "|---|---|---|---|---|---|---|---|---|\n",
       "| 267127 | Weight | WS | Bølling et al. 2012 | 1 | PAH | DTXSID4075455 | Benzo(GHI)fluoranthene | 168 |\n",
       "| 267127 | Weight | WS | Bølling et al. 2012 | 2 | PAH | DTXSID4075455 | Benzo(GHI)fluoranthene | 336 |\n",
       "| 267127 | Weight | WS | Bølling et al. 2012 | 3 | PAH | DTXSID4075455 | Benzo(GHI)fluoranthene |  90 |\n",
       "| 267127 | Weight | WS | Bølling et al. 2012 | 1 | PAH | DTXSID4075459 | Benzo(c)phenanthrene   |  10 |\n",
       "| 267127 | Weight | WS | Bølling et al. 2012 | 2 | PAH | DTXSID4075459 | Benzo(c)phenanthrene   |  32 |\n",
       "| 267127 | Weight | WS | Bølling et al. 2012 | 1 | PAH | DTXSID3024104 | Fluoranthene           |  73 |\n",
       "| 267127 | Weight | WS | Bølling et al. 2012 | 2 | PAH | DTXSID3024104 | Fluoranthene           | 105 |\n",
       "| 267127 | Weight | WS | Bølling et al. 2012 | 3 | PAH | DTXSID3024104 | Fluoranthene           |  59 |\n",
       "| 267127 | Weight | WS | Bølling et al. 2012 | 1 | PAH | DTXSID6024254 | Phenanthrene           |  16 |\n",
       "| 267127 | Weight | WS | Bølling et al. 2012 | 2 | PAH | DTXSID6024254 | Phenanthrene           |  21 |\n",
       "| 267127 | Weight | WS | Bølling et al. 2012 | 3 | PAH | DTXSID6024254 | Phenanthrene           |  22 |\n",
       "| 267127 | Weight | WS | Bølling et al. 2012 | 1 | PAH | DTXSID6062591 | Cyclopenta(cd)pyrene   | 123 |\n",
       "| 267127 | Weight | WS | Bølling et al. 2012 | 2 | PAH | DTXSID6062591 | Cyclopenta(cd)pyrene   | 216 |\n",
       "| 267127 | Weight | WS | Bølling et al. 2012 | 3 | PAH | DTXSID6062591 | Cyclopenta(cd)pyrene   |  19 |\n",
       "\n"
      ],
      "text/plain": [
       "   HAWC_ID Metric Data Study               Replicate Chemical_Class\n",
       "1  267127  Weight WS   Bølling et al. 2012 1         PAH           \n",
       "2  267127  Weight WS   Bølling et al. 2012 2         PAH           \n",
       "3  267127  Weight WS   Bølling et al. 2012 3         PAH           \n",
       "4  267127  Weight WS   Bølling et al. 2012 1         PAH           \n",
       "5  267127  Weight WS   Bølling et al. 2012 2         PAH           \n",
       "6  267127  Weight WS   Bølling et al. 2012 1         PAH           \n",
       "7  267127  Weight WS   Bølling et al. 2012 2         PAH           \n",
       "8  267127  Weight WS   Bølling et al. 2012 3         PAH           \n",
       "9  267127  Weight WS   Bølling et al. 2012 1         PAH           \n",
       "10 267127  Weight WS   Bølling et al. 2012 2         PAH           \n",
       "11 267127  Weight WS   Bølling et al. 2012 3         PAH           \n",
       "12 267127  Weight WS   Bølling et al. 2012 1         PAH           \n",
       "13 267127  Weight WS   Bølling et al. 2012 2         PAH           \n",
       "14 267127  Weight WS   Bølling et al. 2012 3         PAH           \n",
       "   DTXSID        Name                   Value\n",
       "1  DTXSID4075455 Benzo(GHI)fluoranthene 168  \n",
       "2  DTXSID4075455 Benzo(GHI)fluoranthene 336  \n",
       "3  DTXSID4075455 Benzo(GHI)fluoranthene  90  \n",
       "4  DTXSID4075459 Benzo(c)phenanthrene    10  \n",
       "5  DTXSID4075459 Benzo(c)phenanthrene    32  \n",
       "6  DTXSID3024104 Fluoranthene            73  \n",
       "7  DTXSID3024104 Fluoranthene           105  \n",
       "8  DTXSID3024104 Fluoranthene            59  \n",
       "9  DTXSID6024254 Phenanthrene            16  \n",
       "10 DTXSID6024254 Phenanthrene            21  \n",
       "11 DTXSID6024254 Phenanthrene            22  \n",
       "12 DTXSID6062591 Cyclopenta(cd)pyrene   123  \n",
       "13 DTXSID6062591 Cyclopenta(cd)pyrene   216  \n",
       "14 DTXSID6062591 Cyclopenta(cd)pyrene    19  "
      ]
     },
     "metadata": {},
     "output_type": "display_data"
    }
   ],
   "source": [
    "preimputed_df %>%\n",
    "        filter(HAWC_ID == study_id[10]) "
   ]
  },
  {
   "cell_type": "code",
   "execution_count": 21,
   "id": "049d722f-377a-4f07-9af2-a8bdbbb1d4d5",
   "metadata": {
    "scrolled": true
   },
   "outputs": [
    {
     "data": {
      "text/html": [
       "<table class=\"dataframe\">\n",
       "<caption>A tibble: 3 × 9</caption>\n",
       "<thead>\n",
       "\t<tr><th scope=col>HAWC_ID</th><th scope=col>Metric</th><th scope=col>Data</th><th scope=col>Study</th><th scope=col>Replicate</th><th scope=col>Chemical_Class</th><th scope=col>DTXSID</th><th scope=col>Name</th><th scope=col>Value</th></tr>\n",
       "\t<tr><th scope=col>&lt;dbl&gt;</th><th scope=col>&lt;chr&gt;</th><th scope=col>&lt;chr&gt;</th><th scope=col>&lt;chr&gt;</th><th scope=col>&lt;dbl&gt;</th><th scope=col>&lt;chr&gt;</th><th scope=col>&lt;chr&gt;</th><th scope=col>&lt;chr&gt;</th><th scope=col>&lt;dbl&gt;</th></tr>\n",
       "</thead>\n",
       "<tbody>\n",
       "\t<tr><td>1098462</td><td>Weight</td><td>WS</td><td>Niu et al. 2023</td><td>1</td><td>PAH</td><td>DTXSID3024104</td><td>Fluoranthene</td><td>0.21</td></tr>\n",
       "\t<tr><td>1098462</td><td>Weight</td><td>WS</td><td>Niu et al. 2023</td><td>2</td><td>PAH</td><td>DTXSID3024104</td><td>Fluoranthene</td><td>0.18</td></tr>\n",
       "\t<tr><td>1098462</td><td>Weight</td><td>WS</td><td>Niu et al. 2023</td><td>3</td><td>PAH</td><td>DTXSID3024104</td><td>Fluoranthene</td><td>  NA</td></tr>\n",
       "</tbody>\n",
       "</table>\n"
      ],
      "text/latex": [
       "A tibble: 3 × 9\n",
       "\\begin{tabular}{lllllllll}\n",
       " HAWC\\_ID & Metric & Data & Study & Replicate & Chemical\\_Class & DTXSID & Name & Value\\\\\n",
       " <dbl> & <chr> & <chr> & <chr> & <dbl> & <chr> & <chr> & <chr> & <dbl>\\\\\n",
       "\\hline\n",
       "\t 1098462 & Weight & WS & Niu et al. 2023 & 1 & PAH & DTXSID3024104 & Fluoranthene & 0.21\\\\\n",
       "\t 1098462 & Weight & WS & Niu et al. 2023 & 2 & PAH & DTXSID3024104 & Fluoranthene & 0.18\\\\\n",
       "\t 1098462 & Weight & WS & Niu et al. 2023 & 3 & PAH & DTXSID3024104 & Fluoranthene &   NA\\\\\n",
       "\\end{tabular}\n"
      ],
      "text/markdown": [
       "\n",
       "A tibble: 3 × 9\n",
       "\n",
       "| HAWC_ID &lt;dbl&gt; | Metric &lt;chr&gt; | Data &lt;chr&gt; | Study &lt;chr&gt; | Replicate &lt;dbl&gt; | Chemical_Class &lt;chr&gt; | DTXSID &lt;chr&gt; | Name &lt;chr&gt; | Value &lt;dbl&gt; |\n",
       "|---|---|---|---|---|---|---|---|---|\n",
       "| 1098462 | Weight | WS | Niu et al. 2023 | 1 | PAH | DTXSID3024104 | Fluoranthene | 0.21 |\n",
       "| 1098462 | Weight | WS | Niu et al. 2023 | 2 | PAH | DTXSID3024104 | Fluoranthene | 0.18 |\n",
       "| 1098462 | Weight | WS | Niu et al. 2023 | 3 | PAH | DTXSID3024104 | Fluoranthene |   NA |\n",
       "\n"
      ],
      "text/plain": [
       "  HAWC_ID Metric Data Study           Replicate Chemical_Class DTXSID       \n",
       "1 1098462 Weight WS   Niu et al. 2023 1         PAH            DTXSID3024104\n",
       "2 1098462 Weight WS   Niu et al. 2023 2         PAH            DTXSID3024104\n",
       "3 1098462 Weight WS   Niu et al. 2023 3         PAH            DTXSID3024104\n",
       "  Name         Value\n",
       "1 Fluoranthene 0.21 \n",
       "2 Fluoranthene 0.18 \n",
       "3 Fluoranthene   NA "
      ]
     },
     "metadata": {},
     "output_type": "display_data"
    },
    {
     "data": {
      "text/html": [
       "<table class=\"dataframe\">\n",
       "<caption>A tibble: 6 × 9</caption>\n",
       "<thead>\n",
       "\t<tr><th scope=col>HAWC_ID</th><th scope=col>Metric</th><th scope=col>Data</th><th scope=col>Study</th><th scope=col>Replicate</th><th scope=col>Chemical_Class</th><th scope=col>DTXSID</th><th scope=col>Name</th><th scope=col>Value</th></tr>\n",
       "\t<tr><th scope=col>&lt;dbl&gt;</th><th scope=col>&lt;chr&gt;</th><th scope=col>&lt;chr&gt;</th><th scope=col>&lt;chr&gt;</th><th scope=col>&lt;dbl&gt;</th><th scope=col>&lt;chr&gt;</th><th scope=col>&lt;chr&gt;</th><th scope=col>&lt;chr&gt;</th><th scope=col>&lt;dbl&gt;</th></tr>\n",
       "</thead>\n",
       "<tbody>\n",
       "\t<tr><td>1098462</td><td>Weight</td><td>WS</td><td>Niu et al. 2023</td><td>1</td><td>Metal</td><td>Al</td><td>Al</td><td>1.72</td></tr>\n",
       "\t<tr><td>1098462</td><td>Weight</td><td>WS</td><td>Niu et al. 2023</td><td>2</td><td>Metal</td><td>Al</td><td>Al</td><td>3.02</td></tr>\n",
       "\t<tr><td>1098462</td><td>Weight</td><td>WS</td><td>Niu et al. 2023</td><td>3</td><td>Metal</td><td>Al</td><td>Al</td><td>3.09</td></tr>\n",
       "\t<tr><td>1098462</td><td>Weight</td><td>WS</td><td>Niu et al. 2023</td><td>1</td><td>Metal</td><td>Ba</td><td>Ba</td><td>2.40</td></tr>\n",
       "\t<tr><td>1098462</td><td>Weight</td><td>WS</td><td>Niu et al. 2023</td><td>2</td><td>Metal</td><td>Ba</td><td>Ba</td><td>1.65</td></tr>\n",
       "\t<tr><td>1098462</td><td>Weight</td><td>WS</td><td>Niu et al. 2023</td><td>3</td><td>Metal</td><td>Ba</td><td>Ba</td><td>1.55</td></tr>\n",
       "</tbody>\n",
       "</table>\n"
      ],
      "text/latex": [
       "A tibble: 6 × 9\n",
       "\\begin{tabular}{lllllllll}\n",
       " HAWC\\_ID & Metric & Data & Study & Replicate & Chemical\\_Class & DTXSID & Name & Value\\\\\n",
       " <dbl> & <chr> & <chr> & <chr> & <dbl> & <chr> & <chr> & <chr> & <dbl>\\\\\n",
       "\\hline\n",
       "\t 1098462 & Weight & WS & Niu et al. 2023 & 1 & Metal & Al & Al & 1.72\\\\\n",
       "\t 1098462 & Weight & WS & Niu et al. 2023 & 2 & Metal & Al & Al & 3.02\\\\\n",
       "\t 1098462 & Weight & WS & Niu et al. 2023 & 3 & Metal & Al & Al & 3.09\\\\\n",
       "\t 1098462 & Weight & WS & Niu et al. 2023 & 1 & Metal & Ba & Ba & 2.40\\\\\n",
       "\t 1098462 & Weight & WS & Niu et al. 2023 & 2 & Metal & Ba & Ba & 1.65\\\\\n",
       "\t 1098462 & Weight & WS & Niu et al. 2023 & 3 & Metal & Ba & Ba & 1.55\\\\\n",
       "\\end{tabular}\n"
      ],
      "text/markdown": [
       "\n",
       "A tibble: 6 × 9\n",
       "\n",
       "| HAWC_ID &lt;dbl&gt; | Metric &lt;chr&gt; | Data &lt;chr&gt; | Study &lt;chr&gt; | Replicate &lt;dbl&gt; | Chemical_Class &lt;chr&gt; | DTXSID &lt;chr&gt; | Name &lt;chr&gt; | Value &lt;dbl&gt; |\n",
       "|---|---|---|---|---|---|---|---|---|\n",
       "| 1098462 | Weight | WS | Niu et al. 2023 | 1 | Metal | Al | Al | 1.72 |\n",
       "| 1098462 | Weight | WS | Niu et al. 2023 | 2 | Metal | Al | Al | 3.02 |\n",
       "| 1098462 | Weight | WS | Niu et al. 2023 | 3 | Metal | Al | Al | 3.09 |\n",
       "| 1098462 | Weight | WS | Niu et al. 2023 | 1 | Metal | Ba | Ba | 2.40 |\n",
       "| 1098462 | Weight | WS | Niu et al. 2023 | 2 | Metal | Ba | Ba | 1.65 |\n",
       "| 1098462 | Weight | WS | Niu et al. 2023 | 3 | Metal | Ba | Ba | 1.55 |\n",
       "\n"
      ],
      "text/plain": [
       "  HAWC_ID Metric Data Study           Replicate Chemical_Class DTXSID Name\n",
       "1 1098462 Weight WS   Niu et al. 2023 1         Metal          Al     Al  \n",
       "2 1098462 Weight WS   Niu et al. 2023 2         Metal          Al     Al  \n",
       "3 1098462 Weight WS   Niu et al. 2023 3         Metal          Al     Al  \n",
       "4 1098462 Weight WS   Niu et al. 2023 1         Metal          Ba     Ba  \n",
       "5 1098462 Weight WS   Niu et al. 2023 2         Metal          Ba     Ba  \n",
       "6 1098462 Weight WS   Niu et al. 2023 3         Metal          Ba     Ba  \n",
       "  Value\n",
       "1 1.72 \n",
       "2 3.02 \n",
       "3 3.09 \n",
       "4 2.40 \n",
       "5 1.65 \n",
       "6 1.55 "
      ]
     },
     "metadata": {},
     "output_type": "display_data"
    }
   ],
   "source": [
    "test = preimputed_df %>%\n",
    "    filter(Name == 'Fluoranthene', HAWC_ID == '1098462')\n",
    "test\n",
    "\n",
    "test1 = preimputed_df %>%\n",
    "    filter(Chemical_Class == 'Metal')\n",
    "\n",
    "# imputing within each study\n",
    "study_id = unique(preimputed_df$HAWC_ID)\n",
    "test2 = preimputed_df %>%\n",
    "    filter(HAWC_ID == study_id[8])\n",
    "head(test2)"
   ]
  },
  {
   "cell_type": "code",
   "execution_count": 22,
   "id": "f91f0774-916a-492f-9dbf-2209c7388e36",
   "metadata": {
    "scrolled": true
   },
   "outputs": [
    {
     "data": {
      "text/html": [
       "<table class=\"dataframe\">\n",
       "<caption>A tibble: 3 × 21</caption>\n",
       "<thead>\n",
       "\t<tr><th scope=col>Metric</th><th scope=col>Data</th><th scope=col>Replicate</th><th scope=col>Al</th><th scope=col>Ba</th><th scope=col>Co</th><th scope=col>Cu</th><th scope=col>K</th><th scope=col>Mg</th><th scope=col>Si</th><th scope=col>⋯</th><th scope=col>Zn</th><th scope=col>DTXSID3024104</th><th scope=col>Ni</th><th scope=col>Mn</th><th scope=col>Cr</th><th scope=col>Ca</th><th scope=col>Fe</th><th scope=col>Rb</th><th scope=col>DTXSID6024254</th><th scope=col>DTXSID3021774</th></tr>\n",
       "\t<tr><th scope=col>&lt;chr&gt;</th><th scope=col>&lt;chr&gt;</th><th scope=col>&lt;dbl&gt;</th><th scope=col>&lt;dbl&gt;</th><th scope=col>&lt;dbl&gt;</th><th scope=col>&lt;dbl&gt;</th><th scope=col>&lt;dbl&gt;</th><th scope=col>&lt;dbl&gt;</th><th scope=col>&lt;dbl&gt;</th><th scope=col>&lt;dbl&gt;</th><th scope=col>⋯</th><th scope=col>&lt;dbl&gt;</th><th scope=col>&lt;dbl&gt;</th><th scope=col>&lt;dbl&gt;</th><th scope=col>&lt;dbl&gt;</th><th scope=col>&lt;dbl&gt;</th><th scope=col>&lt;dbl&gt;</th><th scope=col>&lt;dbl&gt;</th><th scope=col>&lt;dbl&gt;</th><th scope=col>&lt;dbl&gt;</th><th scope=col>&lt;dbl&gt;</th></tr>\n",
       "</thead>\n",
       "<tbody>\n",
       "\t<tr><td>Weight</td><td>WS</td><td>1</td><td>1.72</td><td>2.40</td><td>0.01</td><td>0.43</td><td>174.21</td><td>1.75</td><td>4.21</td><td>⋯</td><td>3.12</td><td>0.21</td><td>0.03</td><td>0.24</td><td>0.19</td><td>1.65</td><td>1.32</td><td>0.15</td><td>0.09</td><td>  NA</td></tr>\n",
       "\t<tr><td>Weight</td><td>WS</td><td>2</td><td>3.02</td><td>1.65</td><td>0.02</td><td>0.35</td><td> 45.67</td><td>0.68</td><td>3.89</td><td>⋯</td><td>1.32</td><td>0.18</td><td>0.04</td><td>0.36</td><td>0.15</td><td>0.40</td><td>1.13</td><td>  NA</td><td>0.01</td><td>0.09</td></tr>\n",
       "\t<tr><td>Weight</td><td>WS</td><td>3</td><td>3.09</td><td>1.55</td><td>  NA</td><td>0.27</td><td>285.03</td><td>0.43</td><td>1.58</td><td>⋯</td><td>1.79</td><td>  NA</td><td>0.05</td><td>0.21</td><td>0.10</td><td>0.98</td><td>0.53</td><td>0.10</td><td>  NA</td><td>0.05</td></tr>\n",
       "</tbody>\n",
       "</table>\n"
      ],
      "text/latex": [
       "A tibble: 3 × 21\n",
       "\\begin{tabular}{lllllllllllllllllllll}\n",
       " Metric & Data & Replicate & Al & Ba & Co & Cu & K & Mg & Si & ⋯ & Zn & DTXSID3024104 & Ni & Mn & Cr & Ca & Fe & Rb & DTXSID6024254 & DTXSID3021774\\\\\n",
       " <chr> & <chr> & <dbl> & <dbl> & <dbl> & <dbl> & <dbl> & <dbl> & <dbl> & <dbl> & ⋯ & <dbl> & <dbl> & <dbl> & <dbl> & <dbl> & <dbl> & <dbl> & <dbl> & <dbl> & <dbl>\\\\\n",
       "\\hline\n",
       "\t Weight & WS & 1 & 1.72 & 2.40 & 0.01 & 0.43 & 174.21 & 1.75 & 4.21 & ⋯ & 3.12 & 0.21 & 0.03 & 0.24 & 0.19 & 1.65 & 1.32 & 0.15 & 0.09 &   NA\\\\\n",
       "\t Weight & WS & 2 & 3.02 & 1.65 & 0.02 & 0.35 &  45.67 & 0.68 & 3.89 & ⋯ & 1.32 & 0.18 & 0.04 & 0.36 & 0.15 & 0.40 & 1.13 &   NA & 0.01 & 0.09\\\\\n",
       "\t Weight & WS & 3 & 3.09 & 1.55 &   NA & 0.27 & 285.03 & 0.43 & 1.58 & ⋯ & 1.79 &   NA & 0.05 & 0.21 & 0.10 & 0.98 & 0.53 & 0.10 &   NA & 0.05\\\\\n",
       "\\end{tabular}\n"
      ],
      "text/markdown": [
       "\n",
       "A tibble: 3 × 21\n",
       "\n",
       "| Metric &lt;chr&gt; | Data &lt;chr&gt; | Replicate &lt;dbl&gt; | Al &lt;dbl&gt; | Ba &lt;dbl&gt; | Co &lt;dbl&gt; | Cu &lt;dbl&gt; | K &lt;dbl&gt; | Mg &lt;dbl&gt; | Si &lt;dbl&gt; | ⋯ ⋯ | Zn &lt;dbl&gt; | DTXSID3024104 &lt;dbl&gt; | Ni &lt;dbl&gt; | Mn &lt;dbl&gt; | Cr &lt;dbl&gt; | Ca &lt;dbl&gt; | Fe &lt;dbl&gt; | Rb &lt;dbl&gt; | DTXSID6024254 &lt;dbl&gt; | DTXSID3021774 &lt;dbl&gt; |\n",
       "|---|---|---|---|---|---|---|---|---|---|---|---|---|---|---|---|---|---|---|---|---|\n",
       "| Weight | WS | 1 | 1.72 | 2.40 | 0.01 | 0.43 | 174.21 | 1.75 | 4.21 | ⋯ | 3.12 | 0.21 | 0.03 | 0.24 | 0.19 | 1.65 | 1.32 | 0.15 | 0.09 |   NA |\n",
       "| Weight | WS | 2 | 3.02 | 1.65 | 0.02 | 0.35 |  45.67 | 0.68 | 3.89 | ⋯ | 1.32 | 0.18 | 0.04 | 0.36 | 0.15 | 0.40 | 1.13 |   NA | 0.01 | 0.09 |\n",
       "| Weight | WS | 3 | 3.09 | 1.55 |   NA | 0.27 | 285.03 | 0.43 | 1.58 | ⋯ | 1.79 |   NA | 0.05 | 0.21 | 0.10 | 0.98 | 0.53 | 0.10 |   NA | 0.05 |\n",
       "\n"
      ],
      "text/plain": [
       "  Metric Data Replicate Al   Ba   Co   Cu   K      Mg   Si   ⋯ Zn  \n",
       "1 Weight WS   1         1.72 2.40 0.01 0.43 174.21 1.75 4.21 ⋯ 3.12\n",
       "2 Weight WS   2         3.02 1.65 0.02 0.35  45.67 0.68 3.89 ⋯ 1.32\n",
       "3 Weight WS   3         3.09 1.55   NA 0.27 285.03 0.43 1.58 ⋯ 1.79\n",
       "  DTXSID3024104 Ni   Mn   Cr   Ca   Fe   Rb   DTXSID6024254 DTXSID3021774\n",
       "1 0.21          0.03 0.24 0.19 1.65 1.32 0.15 0.09            NA         \n",
       "2 0.18          0.04 0.36 0.15 0.40 1.13   NA 0.01          0.09         \n",
       "3   NA          0.05 0.21 0.10 0.98 0.53 0.10   NA          0.05         "
      ]
     },
     "metadata": {},
     "output_type": "display_data"
    },
    {
     "data": {
      "text/html": [
       "<table class=\"dataframe\">\n",
       "<caption>A matrix: 3 × 8 of type dbl</caption>\n",
       "<thead>\n",
       "\t<tr><th scope=col>Al</th><th scope=col>Ba</th><th scope=col>Co</th><th scope=col>Cu</th><th scope=col>K</th><th scope=col>Mg</th><th scope=col>Si</th><th scope=col>Ti</th></tr>\n",
       "</thead>\n",
       "<tbody>\n",
       "\t<tr><td>0.4345689</td><td>0.5314789</td><td>0.004321374</td><td>0.1553360</td><td>2.243559</td><td>0.4393327</td><td>0.7168377</td><td>0.02118930</td></tr>\n",
       "\t<tr><td>0.6042261</td><td>0.4232459</td><td>0.008600172</td><td>0.1303338</td><td>1.669038</td><td>0.2253093</td><td>0.6893089</td><td>0.01283722</td></tr>\n",
       "\t<tr><td>0.6117233</td><td>0.4065402</td><td>         NA</td><td>0.1038037</td><td>2.456412</td><td>0.1553360</td><td>0.4116197</td><td>0.01283722</td></tr>\n",
       "</tbody>\n",
       "</table>\n"
      ],
      "text/latex": [
       "A matrix: 3 × 8 of type dbl\n",
       "\\begin{tabular}{llllllll}\n",
       " Al & Ba & Co & Cu & K & Mg & Si & Ti\\\\\n",
       "\\hline\n",
       "\t 0.4345689 & 0.5314789 & 0.004321374 & 0.1553360 & 2.243559 & 0.4393327 & 0.7168377 & 0.02118930\\\\\n",
       "\t 0.6042261 & 0.4232459 & 0.008600172 & 0.1303338 & 1.669038 & 0.2253093 & 0.6893089 & 0.01283722\\\\\n",
       "\t 0.6117233 & 0.4065402 &          NA & 0.1038037 & 2.456412 & 0.1553360 & 0.4116197 & 0.01283722\\\\\n",
       "\\end{tabular}\n"
      ],
      "text/markdown": [
       "\n",
       "A matrix: 3 × 8 of type dbl\n",
       "\n",
       "| Al | Ba | Co | Cu | K | Mg | Si | Ti |\n",
       "|---|---|---|---|---|---|---|---|\n",
       "| 0.4345689 | 0.5314789 | 0.004321374 | 0.1553360 | 2.243559 | 0.4393327 | 0.7168377 | 0.02118930 |\n",
       "| 0.6042261 | 0.4232459 | 0.008600172 | 0.1303338 | 1.669038 | 0.2253093 | 0.6893089 | 0.01283722 |\n",
       "| 0.6117233 | 0.4065402 |          NA | 0.1038037 | 2.456412 | 0.1553360 | 0.4116197 | 0.01283722 |\n",
       "\n"
      ],
      "text/plain": [
       "     Al        Ba        Co          Cu        K        Mg        Si       \n",
       "[1,] 0.4345689 0.5314789 0.004321374 0.1553360 2.243559 0.4393327 0.7168377\n",
       "[2,] 0.6042261 0.4232459 0.008600172 0.1303338 1.669038 0.2253093 0.6893089\n",
       "[3,] 0.6117233 0.4065402          NA 0.1038037 2.456412 0.1553360 0.4116197\n",
       "     Ti        \n",
       "[1,] 0.02118930\n",
       "[2,] 0.01283722\n",
       "[3,] 0.01283722"
      ]
     },
     "metadata": {},
     "output_type": "display_data"
    },
    {
     "data": {
      "text/plain": [
       "[[1]]\n",
       "            Al        Ba          Co        Cu        K        Mg         Ti\n",
       "[1,] 0.4345689 0.5314789 0.004321374 0.1553360 2.243559 0.4393327 0.02118930\n",
       "[2,] 0.6042261 0.4232459 0.008600172 0.1303338 1.669038 0.2253093 0.01283722\n",
       "[3,] 0.6117233 0.4065402 0.004640072 0.1038037 2.456412 0.1553360 0.01283722\n",
       "\n",
       "[[2]]\n",
       "[[2]][[1]]\n",
       "\n",
       "Call:\n",
       "lm(formula = q.curr.sample ~ q.normal)\n",
       "\n",
       "Coefficients:\n",
       "(Intercept)     q.normal  \n",
       "    0.56429      0.05073  \n",
       "\n",
       "\n",
       "[[2]][[2]]\n",
       "\n",
       "Call:\n",
       "lm(formula = q.curr.sample ~ q.normal)\n",
       "\n",
       "Coefficients:\n",
       "(Intercept)     q.normal  \n",
       "    0.44652      0.03446  \n",
       "\n",
       "\n",
       "[[2]][[3]]\n",
       "\n",
       "Call:\n",
       "lm(formula = q.curr.sample ~ q.normal)\n",
       "\n",
       "Coefficients:\n",
       "(Intercept)     q.normal  \n",
       "   0.005481     0.001843  \n",
       "\n",
       "\n",
       "[[2]][[4]]\n",
       "\n",
       "Call:\n",
       "lm(formula = q.curr.sample ~ q.normal)\n",
       "\n",
       "Coefficients:\n",
       "(Intercept)     q.normal  \n",
       "    0.13012      0.01447  \n",
       "\n",
       "\n",
       "[[2]][[5]]\n",
       "\n",
       "Call:\n",
       "lm(formula = q.curr.sample ~ q.normal)\n",
       "\n",
       "Coefficients:\n",
       "(Intercept)     q.normal  \n",
       "     2.1558       0.2232  \n",
       "\n",
       "\n",
       "[[2]][[6]]\n",
       "\n",
       "Call:\n",
       "lm(formula = q.curr.sample ~ q.normal)\n",
       "\n",
       "Coefficients:\n",
       "(Intercept)     q.normal  \n",
       "    0.26222      0.07874  \n",
       "\n",
       "\n",
       "[[2]][[7]]\n",
       "\n",
       "Call:\n",
       "lm(formula = q.curr.sample ~ q.normal)\n",
       "\n",
       "Coefficients:\n",
       "(Intercept)     q.normal  \n",
       "   0.014951     0.002289  \n",
       "\n",
       "\n"
      ]
     },
     "metadata": {},
     "output_type": "display_data"
    }
   ],
   "source": [
    "idk = test2 %>%\n",
    "    select(-c(\"Study\", \"HAWC_ID\", \"Chemical_Class\", \"Name\")) %>%\n",
    "    pivot_wider(names_from = DTXSID, values_from = Value) \n",
    "head(idk)\n",
    "idk2 = idk[,4:11] %>%\n",
    "    mutate_all(., function(x) log10(x + 1)) %>% as.matrix()\n",
    "\n",
    "idk2\n",
    "\n",
    "impute.QRILC(idk2[,c(1:6,8)], tune.sigma = 0.1)"
   ]
  },
  {
   "cell_type": "code",
   "execution_count": 52,
   "id": "bc6c3e0b-d4f0-490f-8aaf-3637861564c8",
   "metadata": {
    "scrolled": true
   },
   "outputs": [
    {
     "data": {
      "text/html": [
       "<table class=\"dataframe\">\n",
       "<caption>A tibble: 58 × 9</caption>\n",
       "<thead>\n",
       "\t<tr><th scope=col>Metric</th><th scope=col>Name</th><th scope=col>HAWC_ID</th><th scope=col>Data</th><th scope=col>Study</th><th scope=col>Replicate</th><th scope=col>Chemical_Class</th><th scope=col>DTXSID</th><th scope=col>Value</th></tr>\n",
       "\t<tr><th scope=col>&lt;chr&gt;</th><th scope=col>&lt;chr&gt;</th><th scope=col>&lt;dbl&gt;</th><th scope=col>&lt;chr&gt;</th><th scope=col>&lt;chr&gt;</th><th scope=col>&lt;dbl&gt;</th><th scope=col>&lt;chr&gt;</th><th scope=col>&lt;chr&gt;</th><th scope=col>&lt;chr&gt;</th></tr>\n",
       "</thead>\n",
       "<tbody>\n",
       "\t<tr><td>Weight</td><td>Acenaphthene</td><td> 271638</td><td>WS</td><td>Jalava et al. 2012    </td><td> 1</td><td>PAH</td><td>DTXSID3021774</td><td>132.7                </td></tr>\n",
       "\t<tr><td>Weight</td><td>Acenaphthene</td><td> 271638</td><td>WS</td><td>Jalava et al. 2012    </td><td> 2</td><td>PAH</td><td>DTXSID3021774</td><td>2.9                  </td></tr>\n",
       "\t<tr><td>Weight</td><td>Acenaphthene</td><td> 271638</td><td>WS</td><td>Jalava et al. 2012    </td><td> 3</td><td>PAH</td><td>DTXSID3021774</td><td>51.3                 </td></tr>\n",
       "\t<tr><td>Weight</td><td>Acenaphthene</td><td> 271638</td><td>WS</td><td>Jalava et al. 2012    </td><td> 4</td><td>PAH</td><td>DTXSID3021774</td><td>ND                   </td></tr>\n",
       "\t<tr><td>Weight</td><td>Acenaphthene</td><td> 271638</td><td>WS</td><td>Jalava et al. 2012    </td><td> 5</td><td>PAH</td><td>DTXSID3021774</td><td>0.8                  </td></tr>\n",
       "\t<tr><td>Weight</td><td>Acenaphthene</td><td> 271638</td><td>WS</td><td>Jalava et al. 2012    </td><td> 6</td><td>PAH</td><td>DTXSID3021774</td><td>ND                   </td></tr>\n",
       "\t<tr><td>Weight</td><td>Acenaphthene</td><td> 271638</td><td>WS</td><td>Jalava et al. 2012    </td><td> 7</td><td>PAH</td><td>DTXSID3021774</td><td>ND                   </td></tr>\n",
       "\t<tr><td>Weight</td><td>Acenaphthene</td><td> 271769</td><td>WS</td><td>Uski et al. 2012      </td><td> 1</td><td>PAH</td><td>DTXSID3021774</td><td>130                  </td></tr>\n",
       "\t<tr><td>Weight</td><td>Acenaphthene</td><td> 271769</td><td>WS</td><td>Uski et al. 2012      </td><td> 2</td><td>PAH</td><td>DTXSID3021774</td><td>2.9                  </td></tr>\n",
       "\t<tr><td>Weight</td><td>Acenaphthene</td><td> 271769</td><td>WS</td><td>Uski et al. 2012      </td><td> 3</td><td>PAH</td><td>DTXSID3021774</td><td>51                   </td></tr>\n",
       "\t<tr><td>Weight</td><td>Acenaphthene</td><td> 271769</td><td>WS</td><td>Uski et al. 2012      </td><td> 4</td><td>PAH</td><td>DTXSID3021774</td><td>ND                   </td></tr>\n",
       "\t<tr><td>Weight</td><td>Acenaphthene</td><td> 271769</td><td>WS</td><td>Uski et al. 2012      </td><td> 5</td><td>PAH</td><td>DTXSID3021774</td><td>0.8                  </td></tr>\n",
       "\t<tr><td>Weight</td><td>Acenaphthene</td><td> 271769</td><td>WS</td><td>Uski et al. 2012      </td><td> 6</td><td>PAH</td><td>DTXSID3021774</td><td>ND                   </td></tr>\n",
       "\t<tr><td>Weight</td><td>Acenaphthene</td><td> 271769</td><td>WS</td><td>Uski et al. 2012      </td><td> 7</td><td>PAH</td><td>DTXSID3021774</td><td>ND                   </td></tr>\n",
       "\t<tr><td>Weight</td><td>Acenaphthene</td><td> 279236</td><td>WS</td><td>Kim et al. 2002       </td><td> 1</td><td>PAH</td><td>DTXSID3021774</td><td>2650                 </td></tr>\n",
       "\t<tr><td>Weight</td><td>Acenaphthene</td><td> 279652</td><td>WS</td><td>Sussan et al. 2014    </td><td> 1</td><td>PAH</td><td>DTXSID3021774</td><td>0.175                </td></tr>\n",
       "\t<tr><td>Weight</td><td>Acenaphthene</td><td> 298728</td><td>WS</td><td>Tapanainen et al. 2011</td><td> 1</td><td>PAH</td><td>DTXSID3021774</td><td>ND                   </td></tr>\n",
       "\t<tr><td>Weight</td><td>Acenaphthene</td><td> 298728</td><td>WS</td><td>Tapanainen et al. 2011</td><td> 2</td><td>PAH</td><td>DTXSID3021774</td><td>1.65                 </td></tr>\n",
       "\t<tr><td>Weight</td><td>Acenaphthene</td><td> 821855</td><td>WS</td><td>Erlandsson et al. 2020</td><td> 1</td><td>PAH</td><td>DTXSID3021774</td><td>ND                   </td></tr>\n",
       "\t<tr><td>Weight</td><td>Acenaphthene</td><td> 821855</td><td>WS</td><td>Erlandsson et al. 2020</td><td> 2</td><td>PAH</td><td>DTXSID3021774</td><td>0.1                  </td></tr>\n",
       "\t<tr><td>Weight</td><td>Acenaphthene</td><td> 914540</td><td>WS</td><td>Verma et al. 2021     </td><td> 1</td><td>PAH</td><td>DTXSID3021774</td><td>1.03                 </td></tr>\n",
       "\t<tr><td>Weight</td><td>Acenaphthene</td><td> 914540</td><td>WS</td><td>Verma et al. 2021     </td><td> 2</td><td>PAH</td><td>DTXSID3021774</td><td>0.68                 </td></tr>\n",
       "\t<tr><td>Weight</td><td>Acenaphthene</td><td> 914540</td><td>WS</td><td>Verma et al. 2021     </td><td> 3</td><td>PAH</td><td>DTXSID3021774</td><td>1.57                 </td></tr>\n",
       "\t<tr><td>Weight</td><td>Acenaphthene</td><td> 914540</td><td>WS</td><td>Verma et al. 2021     </td><td> 4</td><td>PAH</td><td>DTXSID3021774</td><td>1.64                 </td></tr>\n",
       "\t<tr><td>Weight</td><td>Acenaphthene</td><td> 914540</td><td>WS</td><td>Verma et al. 2021     </td><td> 5</td><td>PAH</td><td>DTXSID3021774</td><td>ND                   </td></tr>\n",
       "\t<tr><td>Weight</td><td>Acenaphthene</td><td> 914540</td><td>WS</td><td>Verma et al. 2021     </td><td> 6</td><td>PAH</td><td>DTXSID3021774</td><td>ND                   </td></tr>\n",
       "\t<tr><td>Weight</td><td>Acenaphthene</td><td> 914540</td><td>WS</td><td>Verma et al. 2021     </td><td> 7</td><td>PAH</td><td>DTXSID3021774</td><td>ND                   </td></tr>\n",
       "\t<tr><td>Weight</td><td>Acenaphthene</td><td> 914540</td><td>WS</td><td>Verma et al. 2021     </td><td> 8</td><td>PAH</td><td>DTXSID3021774</td><td>ND                   </td></tr>\n",
       "\t<tr><td>Weight</td><td>Acenaphthene</td><td>1045457</td><td>WS</td><td>Popadic 2018          </td><td> 1</td><td>PAH</td><td>DTXSID3021774</td><td>0.00364              </td></tr>\n",
       "\t<tr><td>Weight</td><td>Acenaphthene</td><td>1098462</td><td>WS</td><td>Niu et al. 2023       </td><td> 1</td><td>PAH</td><td>DTXSID3021774</td><td>ND                   </td></tr>\n",
       "\t<tr><td>Weight</td><td>Acenaphthene</td><td>1098462</td><td>WS</td><td>Niu et al. 2023       </td><td> 2</td><td>PAH</td><td>DTXSID3021774</td><td>0.09                 </td></tr>\n",
       "\t<tr><td>Weight</td><td>Acenaphthene</td><td>1098462</td><td>WS</td><td>Niu et al. 2023       </td><td> 3</td><td>PAH</td><td>DTXSID3021774</td><td>0.05                 </td></tr>\n",
       "\t<tr><td>Weight</td><td>Acenaphthene</td><td>1257056</td><td>WS</td><td>McCarrick et al. 2024 </td><td> 1</td><td>PAH</td><td>DTXSID3021774</td><td>0.03                 </td></tr>\n",
       "\t<tr><td>Weight</td><td>Acenaphthene</td><td>1289807</td><td>WS</td><td>Lamberg et al. 2011   </td><td> 1</td><td>PAH</td><td>DTXSID3021774</td><td>ND                   </td></tr>\n",
       "\t<tr><td>Weight</td><td>Acenaphthene</td><td>1289807</td><td>WS</td><td>Lamberg et al. 2011   </td><td> 2</td><td>PAH</td><td>DTXSID3021774</td><td>ND                   </td></tr>\n",
       "\t<tr><td>Weight</td><td>Acenaphthene</td><td>1289807</td><td>WS</td><td>Lamberg et al. 2011   </td><td> 3</td><td>PAH</td><td>DTXSID3021774</td><td>1.6                  </td></tr>\n",
       "\t<tr><td>Weight</td><td>Acenaphthene</td><td>1289807</td><td>WS</td><td>Lamberg et al. 2011   </td><td> 4</td><td>PAH</td><td>DTXSID3021774</td><td>3.5                  </td></tr>\n",
       "\t<tr><td>Weight</td><td>Acenaphthene</td><td>1289807</td><td>WS</td><td>Lamberg et al. 2011   </td><td> 5</td><td>PAH</td><td>DTXSID3021774</td><td>1.4                  </td></tr>\n",
       "\t<tr><td>Weight</td><td>Acenaphthene</td><td>1289807</td><td>WS</td><td>Lamberg et al. 2011   </td><td> 6</td><td>PAH</td><td>DTXSID3021774</td><td>64.5                 </td></tr>\n",
       "\t<tr><td>Weight</td><td>Acenaphthene</td><td> 298629</td><td>WF</td><td>Wegesser et al. 2010  </td><td> 1</td><td>PAH</td><td>DTXSID3021774</td><td>8.5999999999999993E-2</td></tr>\n",
       "\t<tr><td>Weight</td><td>Acenaphthene</td><td> 298629</td><td>WF</td><td>Wegesser et al. 2010  </td><td> 2</td><td>PAH</td><td>DTXSID3021774</td><td>0.60899999999999999  </td></tr>\n",
       "\t<tr><td>Weight</td><td>Acenaphthene</td><td> 914581</td><td>WF</td><td>Young et al. 2021     </td><td> 1</td><td>PAH</td><td>DTXSID3021774</td><td>0.02                 </td></tr>\n",
       "\t<tr><td>Weight</td><td>Acenaphthene</td><td> 914581</td><td>WF</td><td>Young et al. 2021     </td><td> 2</td><td>PAH</td><td>DTXSID3021774</td><td>8.0000000000000002E-3</td></tr>\n",
       "\t<tr><td>Weight</td><td>Acenaphthene</td><td>1289739</td><td>WF</td><td>Campos et al. 2019    </td><td> 1</td><td>PAH</td><td>DTXSID3021774</td><td>1.06E-2              </td></tr>\n",
       "\t<tr><td>Weight</td><td>Acenaphthene</td><td>1289739</td><td>WF</td><td>Campos et al. 2019    </td><td> 2</td><td>PAH</td><td>DTXSID3021774</td><td>4.4000000000000003E-3</td></tr>\n",
       "\t<tr><td>Weight</td><td>Acenaphthene</td><td>1289739</td><td>WF</td><td>Campos et al. 2019    </td><td> 3</td><td>PAH</td><td>DTXSID3021774</td><td>2.3999999999999998E-3</td></tr>\n",
       "\t<tr><td>Weight</td><td>Acenaphthene</td><td>1289739</td><td>WF</td><td>Campos et al. 2019    </td><td> 4</td><td>PAH</td><td>DTXSID3021774</td><td>6.4000000000000003E-3</td></tr>\n",
       "\t<tr><td>Weight</td><td>Acenaphthene</td><td>1289739</td><td>WF</td><td>Campos et al. 2019    </td><td> 5</td><td>PAH</td><td>DTXSID3021774</td><td>8.6E-3               </td></tr>\n",
       "\t<tr><td>Weight</td><td>Acenaphthene</td><td>1289739</td><td>WF</td><td>Campos et al. 2019    </td><td> 6</td><td>PAH</td><td>DTXSID3021774</td><td>1.5299999999999999E-2</td></tr>\n",
       "\t<tr><td>Weight</td><td>Acenaphthene</td><td>1289739</td><td>WF</td><td>Campos et al. 2019    </td><td> 7</td><td>PAH</td><td>DTXSID3021774</td><td>3.0000000000000001E-3</td></tr>\n",
       "\t<tr><td>Weight</td><td>Acenaphthene</td><td>1289739</td><td>WF</td><td>Campos et al. 2019    </td><td> 8</td><td>PAH</td><td>DTXSID3021774</td><td>1.0800000000000001E-2</td></tr>\n",
       "\t<tr><td>Weight</td><td>Acenaphthene</td><td>1289739</td><td>WF</td><td>Campos et al. 2019    </td><td> 9</td><td>PAH</td><td>DTXSID3021774</td><td>1.8E-3               </td></tr>\n",
       "\t<tr><td>Weight</td><td>Acenaphthene</td><td>1289739</td><td>WF</td><td>Campos et al. 2019    </td><td>10</td><td>PAH</td><td>DTXSID3021774</td><td>4.8999999999999998E-3</td></tr>\n",
       "\t<tr><td>Weight</td><td>Acenaphthene</td><td>1289777</td><td>WF</td><td>Harper et al. 2019    </td><td> 1</td><td>PAH</td><td>DTXSID3021774</td><td>1.32E-2              </td></tr>\n",
       "\t<tr><td>Weight</td><td>Acenaphthene</td><td>1289777</td><td>WF</td><td>Harper et al. 2019    </td><td> 2</td><td>PAH</td><td>DTXSID3021774</td><td>1.9E-3               </td></tr>\n",
       "\t<tr><td>Weight</td><td>Acenaphthene</td><td>1289777</td><td>WF</td><td>Harper et al. 2019    </td><td> 3</td><td>PAH</td><td>DTXSID3021774</td><td>8.4500000000000006E-2</td></tr>\n",
       "\t<tr><td>Weight</td><td>Acenaphthene</td><td>1289777</td><td>WF</td><td>Harper et al. 2019    </td><td> 4</td><td>PAH</td><td>DTXSID3021774</td><td>9.5999999999999992E-3</td></tr>\n",
       "\t<tr><td>Weight</td><td>Acenaphthene</td><td>1289922</td><td>WF</td><td>Wan et al. 2021       </td><td> 1</td><td>PAH</td><td>DTXSID3021774</td><td>7.0000000000000007E-2</td></tr>\n",
       "</tbody>\n",
       "</table>\n"
      ],
      "text/latex": [
       "A tibble: 58 × 9\n",
       "\\begin{tabular}{lllllllll}\n",
       " Metric & Name & HAWC\\_ID & Data & Study & Replicate & Chemical\\_Class & DTXSID & Value\\\\\n",
       " <chr> & <chr> & <dbl> & <chr> & <chr> & <dbl> & <chr> & <chr> & <chr>\\\\\n",
       "\\hline\n",
       "\t Weight & Acenaphthene &  271638 & WS & Jalava et al. 2012     &  1 & PAH & DTXSID3021774 & 132.7                \\\\\n",
       "\t Weight & Acenaphthene &  271638 & WS & Jalava et al. 2012     &  2 & PAH & DTXSID3021774 & 2.9                  \\\\\n",
       "\t Weight & Acenaphthene &  271638 & WS & Jalava et al. 2012     &  3 & PAH & DTXSID3021774 & 51.3                 \\\\\n",
       "\t Weight & Acenaphthene &  271638 & WS & Jalava et al. 2012     &  4 & PAH & DTXSID3021774 & ND                   \\\\\n",
       "\t Weight & Acenaphthene &  271638 & WS & Jalava et al. 2012     &  5 & PAH & DTXSID3021774 & 0.8                  \\\\\n",
       "\t Weight & Acenaphthene &  271638 & WS & Jalava et al. 2012     &  6 & PAH & DTXSID3021774 & ND                   \\\\\n",
       "\t Weight & Acenaphthene &  271638 & WS & Jalava et al. 2012     &  7 & PAH & DTXSID3021774 & ND                   \\\\\n",
       "\t Weight & Acenaphthene &  271769 & WS & Uski et al. 2012       &  1 & PAH & DTXSID3021774 & 130                  \\\\\n",
       "\t Weight & Acenaphthene &  271769 & WS & Uski et al. 2012       &  2 & PAH & DTXSID3021774 & 2.9                  \\\\\n",
       "\t Weight & Acenaphthene &  271769 & WS & Uski et al. 2012       &  3 & PAH & DTXSID3021774 & 51                   \\\\\n",
       "\t Weight & Acenaphthene &  271769 & WS & Uski et al. 2012       &  4 & PAH & DTXSID3021774 & ND                   \\\\\n",
       "\t Weight & Acenaphthene &  271769 & WS & Uski et al. 2012       &  5 & PAH & DTXSID3021774 & 0.8                  \\\\\n",
       "\t Weight & Acenaphthene &  271769 & WS & Uski et al. 2012       &  6 & PAH & DTXSID3021774 & ND                   \\\\\n",
       "\t Weight & Acenaphthene &  271769 & WS & Uski et al. 2012       &  7 & PAH & DTXSID3021774 & ND                   \\\\\n",
       "\t Weight & Acenaphthene &  279236 & WS & Kim et al. 2002        &  1 & PAH & DTXSID3021774 & 2650                 \\\\\n",
       "\t Weight & Acenaphthene &  279652 & WS & Sussan et al. 2014     &  1 & PAH & DTXSID3021774 & 0.175                \\\\\n",
       "\t Weight & Acenaphthene &  298728 & WS & Tapanainen et al. 2011 &  1 & PAH & DTXSID3021774 & ND                   \\\\\n",
       "\t Weight & Acenaphthene &  298728 & WS & Tapanainen et al. 2011 &  2 & PAH & DTXSID3021774 & 1.65                 \\\\\n",
       "\t Weight & Acenaphthene &  821855 & WS & Erlandsson et al. 2020 &  1 & PAH & DTXSID3021774 & ND                   \\\\\n",
       "\t Weight & Acenaphthene &  821855 & WS & Erlandsson et al. 2020 &  2 & PAH & DTXSID3021774 & 0.1                  \\\\\n",
       "\t Weight & Acenaphthene &  914540 & WS & Verma et al. 2021      &  1 & PAH & DTXSID3021774 & 1.03                 \\\\\n",
       "\t Weight & Acenaphthene &  914540 & WS & Verma et al. 2021      &  2 & PAH & DTXSID3021774 & 0.68                 \\\\\n",
       "\t Weight & Acenaphthene &  914540 & WS & Verma et al. 2021      &  3 & PAH & DTXSID3021774 & 1.57                 \\\\\n",
       "\t Weight & Acenaphthene &  914540 & WS & Verma et al. 2021      &  4 & PAH & DTXSID3021774 & 1.64                 \\\\\n",
       "\t Weight & Acenaphthene &  914540 & WS & Verma et al. 2021      &  5 & PAH & DTXSID3021774 & ND                   \\\\\n",
       "\t Weight & Acenaphthene &  914540 & WS & Verma et al. 2021      &  6 & PAH & DTXSID3021774 & ND                   \\\\\n",
       "\t Weight & Acenaphthene &  914540 & WS & Verma et al. 2021      &  7 & PAH & DTXSID3021774 & ND                   \\\\\n",
       "\t Weight & Acenaphthene &  914540 & WS & Verma et al. 2021      &  8 & PAH & DTXSID3021774 & ND                   \\\\\n",
       "\t Weight & Acenaphthene & 1045457 & WS & Popadic 2018           &  1 & PAH & DTXSID3021774 & 0.00364              \\\\\n",
       "\t Weight & Acenaphthene & 1098462 & WS & Niu et al. 2023        &  1 & PAH & DTXSID3021774 & ND                   \\\\\n",
       "\t Weight & Acenaphthene & 1098462 & WS & Niu et al. 2023        &  2 & PAH & DTXSID3021774 & 0.09                 \\\\\n",
       "\t Weight & Acenaphthene & 1098462 & WS & Niu et al. 2023        &  3 & PAH & DTXSID3021774 & 0.05                 \\\\\n",
       "\t Weight & Acenaphthene & 1257056 & WS & McCarrick et al. 2024  &  1 & PAH & DTXSID3021774 & 0.03                 \\\\\n",
       "\t Weight & Acenaphthene & 1289807 & WS & Lamberg et al. 2011    &  1 & PAH & DTXSID3021774 & ND                   \\\\\n",
       "\t Weight & Acenaphthene & 1289807 & WS & Lamberg et al. 2011    &  2 & PAH & DTXSID3021774 & ND                   \\\\\n",
       "\t Weight & Acenaphthene & 1289807 & WS & Lamberg et al. 2011    &  3 & PAH & DTXSID3021774 & 1.6                  \\\\\n",
       "\t Weight & Acenaphthene & 1289807 & WS & Lamberg et al. 2011    &  4 & PAH & DTXSID3021774 & 3.5                  \\\\\n",
       "\t Weight & Acenaphthene & 1289807 & WS & Lamberg et al. 2011    &  5 & PAH & DTXSID3021774 & 1.4                  \\\\\n",
       "\t Weight & Acenaphthene & 1289807 & WS & Lamberg et al. 2011    &  6 & PAH & DTXSID3021774 & 64.5                 \\\\\n",
       "\t Weight & Acenaphthene &  298629 & WF & Wegesser et al. 2010   &  1 & PAH & DTXSID3021774 & 8.5999999999999993E-2\\\\\n",
       "\t Weight & Acenaphthene &  298629 & WF & Wegesser et al. 2010   &  2 & PAH & DTXSID3021774 & 0.60899999999999999  \\\\\n",
       "\t Weight & Acenaphthene &  914581 & WF & Young et al. 2021      &  1 & PAH & DTXSID3021774 & 0.02                 \\\\\n",
       "\t Weight & Acenaphthene &  914581 & WF & Young et al. 2021      &  2 & PAH & DTXSID3021774 & 8.0000000000000002E-3\\\\\n",
       "\t Weight & Acenaphthene & 1289739 & WF & Campos et al. 2019     &  1 & PAH & DTXSID3021774 & 1.06E-2              \\\\\n",
       "\t Weight & Acenaphthene & 1289739 & WF & Campos et al. 2019     &  2 & PAH & DTXSID3021774 & 4.4000000000000003E-3\\\\\n",
       "\t Weight & Acenaphthene & 1289739 & WF & Campos et al. 2019     &  3 & PAH & DTXSID3021774 & 2.3999999999999998E-3\\\\\n",
       "\t Weight & Acenaphthene & 1289739 & WF & Campos et al. 2019     &  4 & PAH & DTXSID3021774 & 6.4000000000000003E-3\\\\\n",
       "\t Weight & Acenaphthene & 1289739 & WF & Campos et al. 2019     &  5 & PAH & DTXSID3021774 & 8.6E-3               \\\\\n",
       "\t Weight & Acenaphthene & 1289739 & WF & Campos et al. 2019     &  6 & PAH & DTXSID3021774 & 1.5299999999999999E-2\\\\\n",
       "\t Weight & Acenaphthene & 1289739 & WF & Campos et al. 2019     &  7 & PAH & DTXSID3021774 & 3.0000000000000001E-3\\\\\n",
       "\t Weight & Acenaphthene & 1289739 & WF & Campos et al. 2019     &  8 & PAH & DTXSID3021774 & 1.0800000000000001E-2\\\\\n",
       "\t Weight & Acenaphthene & 1289739 & WF & Campos et al. 2019     &  9 & PAH & DTXSID3021774 & 1.8E-3               \\\\\n",
       "\t Weight & Acenaphthene & 1289739 & WF & Campos et al. 2019     & 10 & PAH & DTXSID3021774 & 4.8999999999999998E-3\\\\\n",
       "\t Weight & Acenaphthene & 1289777 & WF & Harper et al. 2019     &  1 & PAH & DTXSID3021774 & 1.32E-2              \\\\\n",
       "\t Weight & Acenaphthene & 1289777 & WF & Harper et al. 2019     &  2 & PAH & DTXSID3021774 & 1.9E-3               \\\\\n",
       "\t Weight & Acenaphthene & 1289777 & WF & Harper et al. 2019     &  3 & PAH & DTXSID3021774 & 8.4500000000000006E-2\\\\\n",
       "\t Weight & Acenaphthene & 1289777 & WF & Harper et al. 2019     &  4 & PAH & DTXSID3021774 & 9.5999999999999992E-3\\\\\n",
       "\t Weight & Acenaphthene & 1289922 & WF & Wan et al. 2021        &  1 & PAH & DTXSID3021774 & 7.0000000000000007E-2\\\\\n",
       "\\end{tabular}\n"
      ],
      "text/markdown": [
       "\n",
       "A tibble: 58 × 9\n",
       "\n",
       "| Metric &lt;chr&gt; | Name &lt;chr&gt; | HAWC_ID &lt;dbl&gt; | Data &lt;chr&gt; | Study &lt;chr&gt; | Replicate &lt;dbl&gt; | Chemical_Class &lt;chr&gt; | DTXSID &lt;chr&gt; | Value &lt;chr&gt; |\n",
       "|---|---|---|---|---|---|---|---|---|\n",
       "| Weight | Acenaphthene |  271638 | WS | Jalava et al. 2012     |  1 | PAH | DTXSID3021774 | 132.7                 |\n",
       "| Weight | Acenaphthene |  271638 | WS | Jalava et al. 2012     |  2 | PAH | DTXSID3021774 | 2.9                   |\n",
       "| Weight | Acenaphthene |  271638 | WS | Jalava et al. 2012     |  3 | PAH | DTXSID3021774 | 51.3                  |\n",
       "| Weight | Acenaphthene |  271638 | WS | Jalava et al. 2012     |  4 | PAH | DTXSID3021774 | ND                    |\n",
       "| Weight | Acenaphthene |  271638 | WS | Jalava et al. 2012     |  5 | PAH | DTXSID3021774 | 0.8                   |\n",
       "| Weight | Acenaphthene |  271638 | WS | Jalava et al. 2012     |  6 | PAH | DTXSID3021774 | ND                    |\n",
       "| Weight | Acenaphthene |  271638 | WS | Jalava et al. 2012     |  7 | PAH | DTXSID3021774 | ND                    |\n",
       "| Weight | Acenaphthene |  271769 | WS | Uski et al. 2012       |  1 | PAH | DTXSID3021774 | 130                   |\n",
       "| Weight | Acenaphthene |  271769 | WS | Uski et al. 2012       |  2 | PAH | DTXSID3021774 | 2.9                   |\n",
       "| Weight | Acenaphthene |  271769 | WS | Uski et al. 2012       |  3 | PAH | DTXSID3021774 | 51                    |\n",
       "| Weight | Acenaphthene |  271769 | WS | Uski et al. 2012       |  4 | PAH | DTXSID3021774 | ND                    |\n",
       "| Weight | Acenaphthene |  271769 | WS | Uski et al. 2012       |  5 | PAH | DTXSID3021774 | 0.8                   |\n",
       "| Weight | Acenaphthene |  271769 | WS | Uski et al. 2012       |  6 | PAH | DTXSID3021774 | ND                    |\n",
       "| Weight | Acenaphthene |  271769 | WS | Uski et al. 2012       |  7 | PAH | DTXSID3021774 | ND                    |\n",
       "| Weight | Acenaphthene |  279236 | WS | Kim et al. 2002        |  1 | PAH | DTXSID3021774 | 2650                  |\n",
       "| Weight | Acenaphthene |  279652 | WS | Sussan et al. 2014     |  1 | PAH | DTXSID3021774 | 0.175                 |\n",
       "| Weight | Acenaphthene |  298728 | WS | Tapanainen et al. 2011 |  1 | PAH | DTXSID3021774 | ND                    |\n",
       "| Weight | Acenaphthene |  298728 | WS | Tapanainen et al. 2011 |  2 | PAH | DTXSID3021774 | 1.65                  |\n",
       "| Weight | Acenaphthene |  821855 | WS | Erlandsson et al. 2020 |  1 | PAH | DTXSID3021774 | ND                    |\n",
       "| Weight | Acenaphthene |  821855 | WS | Erlandsson et al. 2020 |  2 | PAH | DTXSID3021774 | 0.1                   |\n",
       "| Weight | Acenaphthene |  914540 | WS | Verma et al. 2021      |  1 | PAH | DTXSID3021774 | 1.03                  |\n",
       "| Weight | Acenaphthene |  914540 | WS | Verma et al. 2021      |  2 | PAH | DTXSID3021774 | 0.68                  |\n",
       "| Weight | Acenaphthene |  914540 | WS | Verma et al. 2021      |  3 | PAH | DTXSID3021774 | 1.57                  |\n",
       "| Weight | Acenaphthene |  914540 | WS | Verma et al. 2021      |  4 | PAH | DTXSID3021774 | 1.64                  |\n",
       "| Weight | Acenaphthene |  914540 | WS | Verma et al. 2021      |  5 | PAH | DTXSID3021774 | ND                    |\n",
       "| Weight | Acenaphthene |  914540 | WS | Verma et al. 2021      |  6 | PAH | DTXSID3021774 | ND                    |\n",
       "| Weight | Acenaphthene |  914540 | WS | Verma et al. 2021      |  7 | PAH | DTXSID3021774 | ND                    |\n",
       "| Weight | Acenaphthene |  914540 | WS | Verma et al. 2021      |  8 | PAH | DTXSID3021774 | ND                    |\n",
       "| Weight | Acenaphthene | 1045457 | WS | Popadic 2018           |  1 | PAH | DTXSID3021774 | 0.00364               |\n",
       "| Weight | Acenaphthene | 1098462 | WS | Niu et al. 2023        |  1 | PAH | DTXSID3021774 | ND                    |\n",
       "| Weight | Acenaphthene | 1098462 | WS | Niu et al. 2023        |  2 | PAH | DTXSID3021774 | 0.09                  |\n",
       "| Weight | Acenaphthene | 1098462 | WS | Niu et al. 2023        |  3 | PAH | DTXSID3021774 | 0.05                  |\n",
       "| Weight | Acenaphthene | 1257056 | WS | McCarrick et al. 2024  |  1 | PAH | DTXSID3021774 | 0.03                  |\n",
       "| Weight | Acenaphthene | 1289807 | WS | Lamberg et al. 2011    |  1 | PAH | DTXSID3021774 | ND                    |\n",
       "| Weight | Acenaphthene | 1289807 | WS | Lamberg et al. 2011    |  2 | PAH | DTXSID3021774 | ND                    |\n",
       "| Weight | Acenaphthene | 1289807 | WS | Lamberg et al. 2011    |  3 | PAH | DTXSID3021774 | 1.6                   |\n",
       "| Weight | Acenaphthene | 1289807 | WS | Lamberg et al. 2011    |  4 | PAH | DTXSID3021774 | 3.5                   |\n",
       "| Weight | Acenaphthene | 1289807 | WS | Lamberg et al. 2011    |  5 | PAH | DTXSID3021774 | 1.4                   |\n",
       "| Weight | Acenaphthene | 1289807 | WS | Lamberg et al. 2011    |  6 | PAH | DTXSID3021774 | 64.5                  |\n",
       "| Weight | Acenaphthene |  298629 | WF | Wegesser et al. 2010   |  1 | PAH | DTXSID3021774 | 8.5999999999999993E-2 |\n",
       "| Weight | Acenaphthene |  298629 | WF | Wegesser et al. 2010   |  2 | PAH | DTXSID3021774 | 0.60899999999999999   |\n",
       "| Weight | Acenaphthene |  914581 | WF | Young et al. 2021      |  1 | PAH | DTXSID3021774 | 0.02                  |\n",
       "| Weight | Acenaphthene |  914581 | WF | Young et al. 2021      |  2 | PAH | DTXSID3021774 | 8.0000000000000002E-3 |\n",
       "| Weight | Acenaphthene | 1289739 | WF | Campos et al. 2019     |  1 | PAH | DTXSID3021774 | 1.06E-2               |\n",
       "| Weight | Acenaphthene | 1289739 | WF | Campos et al. 2019     |  2 | PAH | DTXSID3021774 | 4.4000000000000003E-3 |\n",
       "| Weight | Acenaphthene | 1289739 | WF | Campos et al. 2019     |  3 | PAH | DTXSID3021774 | 2.3999999999999998E-3 |\n",
       "| Weight | Acenaphthene | 1289739 | WF | Campos et al. 2019     |  4 | PAH | DTXSID3021774 | 6.4000000000000003E-3 |\n",
       "| Weight | Acenaphthene | 1289739 | WF | Campos et al. 2019     |  5 | PAH | DTXSID3021774 | 8.6E-3                |\n",
       "| Weight | Acenaphthene | 1289739 | WF | Campos et al. 2019     |  6 | PAH | DTXSID3021774 | 1.5299999999999999E-2 |\n",
       "| Weight | Acenaphthene | 1289739 | WF | Campos et al. 2019     |  7 | PAH | DTXSID3021774 | 3.0000000000000001E-3 |\n",
       "| Weight | Acenaphthene | 1289739 | WF | Campos et al. 2019     |  8 | PAH | DTXSID3021774 | 1.0800000000000001E-2 |\n",
       "| Weight | Acenaphthene | 1289739 | WF | Campos et al. 2019     |  9 | PAH | DTXSID3021774 | 1.8E-3                |\n",
       "| Weight | Acenaphthene | 1289739 | WF | Campos et al. 2019     | 10 | PAH | DTXSID3021774 | 4.8999999999999998E-3 |\n",
       "| Weight | Acenaphthene | 1289777 | WF | Harper et al. 2019     |  1 | PAH | DTXSID3021774 | 1.32E-2               |\n",
       "| Weight | Acenaphthene | 1289777 | WF | Harper et al. 2019     |  2 | PAH | DTXSID3021774 | 1.9E-3                |\n",
       "| Weight | Acenaphthene | 1289777 | WF | Harper et al. 2019     |  3 | PAH | DTXSID3021774 | 8.4500000000000006E-2 |\n",
       "| Weight | Acenaphthene | 1289777 | WF | Harper et al. 2019     |  4 | PAH | DTXSID3021774 | 9.5999999999999992E-3 |\n",
       "| Weight | Acenaphthene | 1289922 | WF | Wan et al. 2021        |  1 | PAH | DTXSID3021774 | 7.0000000000000007E-2 |\n",
       "\n"
      ],
      "text/plain": [
       "   Metric Name         HAWC_ID Data Study                  Replicate\n",
       "1  Weight Acenaphthene  271638 WS   Jalava et al. 2012      1       \n",
       "2  Weight Acenaphthene  271638 WS   Jalava et al. 2012      2       \n",
       "3  Weight Acenaphthene  271638 WS   Jalava et al. 2012      3       \n",
       "4  Weight Acenaphthene  271638 WS   Jalava et al. 2012      4       \n",
       "5  Weight Acenaphthene  271638 WS   Jalava et al. 2012      5       \n",
       "6  Weight Acenaphthene  271638 WS   Jalava et al. 2012      6       \n",
       "7  Weight Acenaphthene  271638 WS   Jalava et al. 2012      7       \n",
       "8  Weight Acenaphthene  271769 WS   Uski et al. 2012        1       \n",
       "9  Weight Acenaphthene  271769 WS   Uski et al. 2012        2       \n",
       "10 Weight Acenaphthene  271769 WS   Uski et al. 2012        3       \n",
       "11 Weight Acenaphthene  271769 WS   Uski et al. 2012        4       \n",
       "12 Weight Acenaphthene  271769 WS   Uski et al. 2012        5       \n",
       "13 Weight Acenaphthene  271769 WS   Uski et al. 2012        6       \n",
       "14 Weight Acenaphthene  271769 WS   Uski et al. 2012        7       \n",
       "15 Weight Acenaphthene  279236 WS   Kim et al. 2002         1       \n",
       "16 Weight Acenaphthene  279652 WS   Sussan et al. 2014      1       \n",
       "17 Weight Acenaphthene  298728 WS   Tapanainen et al. 2011  1       \n",
       "18 Weight Acenaphthene  298728 WS   Tapanainen et al. 2011  2       \n",
       "19 Weight Acenaphthene  821855 WS   Erlandsson et al. 2020  1       \n",
       "20 Weight Acenaphthene  821855 WS   Erlandsson et al. 2020  2       \n",
       "21 Weight Acenaphthene  914540 WS   Verma et al. 2021       1       \n",
       "22 Weight Acenaphthene  914540 WS   Verma et al. 2021       2       \n",
       "23 Weight Acenaphthene  914540 WS   Verma et al. 2021       3       \n",
       "24 Weight Acenaphthene  914540 WS   Verma et al. 2021       4       \n",
       "25 Weight Acenaphthene  914540 WS   Verma et al. 2021       5       \n",
       "26 Weight Acenaphthene  914540 WS   Verma et al. 2021       6       \n",
       "27 Weight Acenaphthene  914540 WS   Verma et al. 2021       7       \n",
       "28 Weight Acenaphthene  914540 WS   Verma et al. 2021       8       \n",
       "29 Weight Acenaphthene 1045457 WS   Popadic 2018            1       \n",
       "30 Weight Acenaphthene 1098462 WS   Niu et al. 2023         1       \n",
       "31 Weight Acenaphthene 1098462 WS   Niu et al. 2023         2       \n",
       "32 Weight Acenaphthene 1098462 WS   Niu et al. 2023         3       \n",
       "33 Weight Acenaphthene 1257056 WS   McCarrick et al. 2024   1       \n",
       "34 Weight Acenaphthene 1289807 WS   Lamberg et al. 2011     1       \n",
       "35 Weight Acenaphthene 1289807 WS   Lamberg et al. 2011     2       \n",
       "36 Weight Acenaphthene 1289807 WS   Lamberg et al. 2011     3       \n",
       "37 Weight Acenaphthene 1289807 WS   Lamberg et al. 2011     4       \n",
       "38 Weight Acenaphthene 1289807 WS   Lamberg et al. 2011     5       \n",
       "39 Weight Acenaphthene 1289807 WS   Lamberg et al. 2011     6       \n",
       "40 Weight Acenaphthene  298629 WF   Wegesser et al. 2010    1       \n",
       "41 Weight Acenaphthene  298629 WF   Wegesser et al. 2010    2       \n",
       "42 Weight Acenaphthene  914581 WF   Young et al. 2021       1       \n",
       "43 Weight Acenaphthene  914581 WF   Young et al. 2021       2       \n",
       "44 Weight Acenaphthene 1289739 WF   Campos et al. 2019      1       \n",
       "45 Weight Acenaphthene 1289739 WF   Campos et al. 2019      2       \n",
       "46 Weight Acenaphthene 1289739 WF   Campos et al. 2019      3       \n",
       "47 Weight Acenaphthene 1289739 WF   Campos et al. 2019      4       \n",
       "48 Weight Acenaphthene 1289739 WF   Campos et al. 2019      5       \n",
       "49 Weight Acenaphthene 1289739 WF   Campos et al. 2019      6       \n",
       "50 Weight Acenaphthene 1289739 WF   Campos et al. 2019      7       \n",
       "51 Weight Acenaphthene 1289739 WF   Campos et al. 2019      8       \n",
       "52 Weight Acenaphthene 1289739 WF   Campos et al. 2019      9       \n",
       "53 Weight Acenaphthene 1289739 WF   Campos et al. 2019     10       \n",
       "54 Weight Acenaphthene 1289777 WF   Harper et al. 2019      1       \n",
       "55 Weight Acenaphthene 1289777 WF   Harper et al. 2019      2       \n",
       "56 Weight Acenaphthene 1289777 WF   Harper et al. 2019      3       \n",
       "57 Weight Acenaphthene 1289777 WF   Harper et al. 2019      4       \n",
       "58 Weight Acenaphthene 1289922 WF   Wan et al. 2021         1       \n",
       "   Chemical_Class DTXSID        Value                \n",
       "1  PAH            DTXSID3021774 132.7                \n",
       "2  PAH            DTXSID3021774 2.9                  \n",
       "3  PAH            DTXSID3021774 51.3                 \n",
       "4  PAH            DTXSID3021774 ND                   \n",
       "5  PAH            DTXSID3021774 0.8                  \n",
       "6  PAH            DTXSID3021774 ND                   \n",
       "7  PAH            DTXSID3021774 ND                   \n",
       "8  PAH            DTXSID3021774 130                  \n",
       "9  PAH            DTXSID3021774 2.9                  \n",
       "10 PAH            DTXSID3021774 51                   \n",
       "11 PAH            DTXSID3021774 ND                   \n",
       "12 PAH            DTXSID3021774 0.8                  \n",
       "13 PAH            DTXSID3021774 ND                   \n",
       "14 PAH            DTXSID3021774 ND                   \n",
       "15 PAH            DTXSID3021774 2650                 \n",
       "16 PAH            DTXSID3021774 0.175                \n",
       "17 PAH            DTXSID3021774 ND                   \n",
       "18 PAH            DTXSID3021774 1.65                 \n",
       "19 PAH            DTXSID3021774 ND                   \n",
       "20 PAH            DTXSID3021774 0.1                  \n",
       "21 PAH            DTXSID3021774 1.03                 \n",
       "22 PAH            DTXSID3021774 0.68                 \n",
       "23 PAH            DTXSID3021774 1.57                 \n",
       "24 PAH            DTXSID3021774 1.64                 \n",
       "25 PAH            DTXSID3021774 ND                   \n",
       "26 PAH            DTXSID3021774 ND                   \n",
       "27 PAH            DTXSID3021774 ND                   \n",
       "28 PAH            DTXSID3021774 ND                   \n",
       "29 PAH            DTXSID3021774 0.00364              \n",
       "30 PAH            DTXSID3021774 ND                   \n",
       "31 PAH            DTXSID3021774 0.09                 \n",
       "32 PAH            DTXSID3021774 0.05                 \n",
       "33 PAH            DTXSID3021774 0.03                 \n",
       "34 PAH            DTXSID3021774 ND                   \n",
       "35 PAH            DTXSID3021774 ND                   \n",
       "36 PAH            DTXSID3021774 1.6                  \n",
       "37 PAH            DTXSID3021774 3.5                  \n",
       "38 PAH            DTXSID3021774 1.4                  \n",
       "39 PAH            DTXSID3021774 64.5                 \n",
       "40 PAH            DTXSID3021774 8.5999999999999993E-2\n",
       "41 PAH            DTXSID3021774 0.60899999999999999  \n",
       "42 PAH            DTXSID3021774 0.02                 \n",
       "43 PAH            DTXSID3021774 8.0000000000000002E-3\n",
       "44 PAH            DTXSID3021774 1.06E-2              \n",
       "45 PAH            DTXSID3021774 4.4000000000000003E-3\n",
       "46 PAH            DTXSID3021774 2.3999999999999998E-3\n",
       "47 PAH            DTXSID3021774 6.4000000000000003E-3\n",
       "48 PAH            DTXSID3021774 8.6E-3               \n",
       "49 PAH            DTXSID3021774 1.5299999999999999E-2\n",
       "50 PAH            DTXSID3021774 3.0000000000000001E-3\n",
       "51 PAH            DTXSID3021774 1.0800000000000001E-2\n",
       "52 PAH            DTXSID3021774 1.8E-3               \n",
       "53 PAH            DTXSID3021774 4.8999999999999998E-3\n",
       "54 PAH            DTXSID3021774 1.32E-2              \n",
       "55 PAH            DTXSID3021774 1.9E-3               \n",
       "56 PAH            DTXSID3021774 8.4500000000000006E-2\n",
       "57 PAH            DTXSID3021774 9.5999999999999992E-3\n",
       "58 PAH            DTXSID3021774 7.0000000000000007E-2"
      ]
     },
     "metadata": {},
     "output_type": "display_data"
    }
   ],
   "source": [
    "weight_df %>%\n",
    "    filter(Name == 'Acenaphthene')\n",
    "    # group_by(Name) %>%\n",
    "    # summarize(n())"
   ]
  },
  {
   "cell_type": "markdown",
   "id": "5f4d134a-b801-4a28-bc8a-086319521b88",
   "metadata": {},
   "source": [
    "# RF Imputation"
   ]
  },
  {
   "cell_type": "code",
   "execution_count": 23,
   "id": "d435523e-a9be-47de-a079-3bd74d8f1b27",
   "metadata": {
    "scrolled": true
   },
   "outputs": [
    {
     "name": "stderr",
     "output_type": "stream",
     "text": [
      "Warning message:\n",
      "“\u001b[1m\u001b[22mThere were 220 warnings in `mutate()`.\n",
      "The first warning was:\n",
      "\u001b[1m\u001b[22m\u001b[36mℹ\u001b[39m In argument: `Avg_Value = mean(as.numeric(Value, na.rm = TRUE))`.\n",
      "\u001b[36mℹ\u001b[39m In group 244: `Data = \"WS\"`, `HAWC_ID = 267105`, `Name = \"Acenaphthene\"`.\n",
      "Caused by warning in `mean()`:\n",
      "\u001b[33m!\u001b[39m NAs introduced by coercion\n",
      "\u001b[1m\u001b[22m\u001b[36mℹ\u001b[39m Run `dplyr::last_dplyr_warnings()` to see the 219 remaining warnings.”\n"
     ]
    },
    {
     "data": {
      "text/html": [
       "<table class=\"dataframe\">\n",
       "<caption>A grouped_df: 6 × 8</caption>\n",
       "<thead>\n",
       "\t<tr><th scope=col>Metric</th><th scope=col>Name</th><th scope=col>Data</th><th scope=col>HAWC_ID</th><th scope=col>Study</th><th scope=col>Chemical_Class</th><th scope=col>DTXSID</th><th scope=col>Avg_Value</th></tr>\n",
       "\t<tr><th scope=col>&lt;chr&gt;</th><th scope=col>&lt;chr&gt;</th><th scope=col>&lt;chr&gt;</th><th scope=col>&lt;dbl&gt;</th><th scope=col>&lt;chr&gt;</th><th scope=col>&lt;chr&gt;</th><th scope=col>&lt;chr&gt;</th><th scope=col>&lt;dbl&gt;</th></tr>\n",
       "</thead>\n",
       "<tbody>\n",
       "\t<tr><td>Weight</td><td>2,3-Dimethylnaphthalene</td><td>WS</td><td> 821855</td><td>Erlandsson et al. 2020</td><td>PAH</td><td>DTXSID2060383</td><td> 0.05</td></tr>\n",
       "\t<tr><td>Weight</td><td>2,3-Dimethylnaphthalene</td><td>WS</td><td>1257056</td><td>McCarrick et al. 2024 </td><td>PAH</td><td>DTXSID2060383</td><td> 0.04</td></tr>\n",
       "\t<tr><td>Weight</td><td>2-Methylchrysene       </td><td>WS</td><td> 821855</td><td>Erlandsson et al. 2020</td><td>PAH</td><td>DTXSID8074819</td><td> 9.75</td></tr>\n",
       "\t<tr><td>Weight</td><td>2-Methylchrysene       </td><td>WS</td><td>1257056</td><td>McCarrick et al. 2024 </td><td>PAH</td><td>DTXSID8074819</td><td>15.45</td></tr>\n",
       "\t<tr><td>Weight</td><td>2-Methylphenanthrene   </td><td>WS</td><td> 267105</td><td>Danielsen et al. 2011 </td><td>PAH</td><td>DTXSID4020878</td><td>23.50</td></tr>\n",
       "\t<tr><td>Weight</td><td>2-Methylphenanthrene   </td><td>WS</td><td> 821855</td><td>Erlandsson et al. 2020</td><td>PAH</td><td>DTXSID4020878</td><td> 3.50</td></tr>\n",
       "</tbody>\n",
       "</table>\n"
      ],
      "text/latex": [
       "A grouped\\_df: 6 × 8\n",
       "\\begin{tabular}{llllllll}\n",
       " Metric & Name & Data & HAWC\\_ID & Study & Chemical\\_Class & DTXSID & Avg\\_Value\\\\\n",
       " <chr> & <chr> & <chr> & <dbl> & <chr> & <chr> & <chr> & <dbl>\\\\\n",
       "\\hline\n",
       "\t Weight & 2,3-Dimethylnaphthalene & WS &  821855 & Erlandsson et al. 2020 & PAH & DTXSID2060383 &  0.05\\\\\n",
       "\t Weight & 2,3-Dimethylnaphthalene & WS & 1257056 & McCarrick et al. 2024  & PAH & DTXSID2060383 &  0.04\\\\\n",
       "\t Weight & 2-Methylchrysene        & WS &  821855 & Erlandsson et al. 2020 & PAH & DTXSID8074819 &  9.75\\\\\n",
       "\t Weight & 2-Methylchrysene        & WS & 1257056 & McCarrick et al. 2024  & PAH & DTXSID8074819 & 15.45\\\\\n",
       "\t Weight & 2-Methylphenanthrene    & WS &  267105 & Danielsen et al. 2011  & PAH & DTXSID4020878 & 23.50\\\\\n",
       "\t Weight & 2-Methylphenanthrene    & WS &  821855 & Erlandsson et al. 2020 & PAH & DTXSID4020878 &  3.50\\\\\n",
       "\\end{tabular}\n"
      ],
      "text/markdown": [
       "\n",
       "A grouped_df: 6 × 8\n",
       "\n",
       "| Metric &lt;chr&gt; | Name &lt;chr&gt; | Data &lt;chr&gt; | HAWC_ID &lt;dbl&gt; | Study &lt;chr&gt; | Chemical_Class &lt;chr&gt; | DTXSID &lt;chr&gt; | Avg_Value &lt;dbl&gt; |\n",
       "|---|---|---|---|---|---|---|---|\n",
       "| Weight | 2,3-Dimethylnaphthalene | WS |  821855 | Erlandsson et al. 2020 | PAH | DTXSID2060383 |  0.05 |\n",
       "| Weight | 2,3-Dimethylnaphthalene | WS | 1257056 | McCarrick et al. 2024  | PAH | DTXSID2060383 |  0.04 |\n",
       "| Weight | 2-Methylchrysene        | WS |  821855 | Erlandsson et al. 2020 | PAH | DTXSID8074819 |  9.75 |\n",
       "| Weight | 2-Methylchrysene        | WS | 1257056 | McCarrick et al. 2024  | PAH | DTXSID8074819 | 15.45 |\n",
       "| Weight | 2-Methylphenanthrene    | WS |  267105 | Danielsen et al. 2011  | PAH | DTXSID4020878 | 23.50 |\n",
       "| Weight | 2-Methylphenanthrene    | WS |  821855 | Erlandsson et al. 2020 | PAH | DTXSID4020878 |  3.50 |\n",
       "\n"
      ],
      "text/plain": [
       "  Metric Name                    Data HAWC_ID Study                 \n",
       "1 Weight 2,3-Dimethylnaphthalene WS    821855 Erlandsson et al. 2020\n",
       "2 Weight 2,3-Dimethylnaphthalene WS   1257056 McCarrick et al. 2024 \n",
       "3 Weight 2-Methylchrysene        WS    821855 Erlandsson et al. 2020\n",
       "4 Weight 2-Methylchrysene        WS   1257056 McCarrick et al. 2024 \n",
       "5 Weight 2-Methylphenanthrene    WS    267105 Danielsen et al. 2011 \n",
       "6 Weight 2-Methylphenanthrene    WS    821855 Erlandsson et al. 2020\n",
       "  Chemical_Class DTXSID        Avg_Value\n",
       "1 PAH            DTXSID2060383  0.05    \n",
       "2 PAH            DTXSID2060383  0.04    \n",
       "3 PAH            DTXSID8074819  9.75    \n",
       "4 PAH            DTXSID8074819 15.45    \n",
       "5 PAH            DTXSID4020878 23.50    \n",
       "6 PAH            DTXSID4020878  3.50    "
      ]
     },
     "metadata": {},
     "output_type": "display_data"
    }
   ],
   "source": [
    "preimputed_weight_df = weight_df %>%\n",
    "    mutate(Value = ifelse(Value == 'ND', '0', Value)) %>%\n",
    "    group_by(Data, HAWC_ID, Name) %>%\n",
    "    mutate(Avg_Value = mean(as.numeric(Value, na.rm = TRUE))) %>%\n",
    "    select(-c(\"Replicate\", \"Value\")) %>%\n",
    "    unique()\n",
    "    # creating sample ids\n",
    "    #unite(\"SampleID\", c(colnames(weight_df)[c(3,4,6)]), sep = \"_\")\n",
    "\n",
    "#preimputed_weight_df$Value = as.numeric(preimputed_weight_df$Value)\n",
    "\n",
    "head(preimputed_weight_df)"
   ]
  },
  {
   "cell_type": "code",
   "execution_count": 31,
   "id": "a4cba8cb-1ead-4414-aa4f-c2a7dce47349",
   "metadata": {},
   "outputs": [
    {
     "data": {
      "text/html": [
       "8"
      ],
      "text/latex": [
       "8"
      ],
      "text/markdown": [
       "8"
      ],
      "text/plain": [
       "[1] 8"
      ]
     },
     "metadata": {},
     "output_type": "display_data"
    }
   ],
   "source": [
    "ncol(preimputed_weight_df)"
   ]
  },
  {
   "cell_type": "code",
   "execution_count": 58,
   "id": "f585ce82-69ed-4c15-9764-099830f74e75",
   "metadata": {
    "scrolled": true
   },
   "outputs": [
    {
     "name": "stderr",
     "output_type": "stream",
     "text": [
      "Warning message in randomForest.default(x = obsX, y = obsY, ntree = ntree, mtry = mtry, :\n",
      "“The response has five or fewer unique values.  Are you sure you want to do regression?”\n",
      "Warning message in randomForest.default(x = obsX, y = obsY, ntree = ntree, mtry = mtry, :\n",
      "“The response has five or fewer unique values.  Are you sure you want to do regression?”\n",
      "Warning message in randomForest.default(x = obsX, y = obsY, ntree = ntree, mtry = mtry, :\n",
      "“The response has five or fewer unique values.  Are you sure you want to do regression?”\n",
      "Warning message in randomForest.default(x = obsX, y = obsY, ntree = ntree, mtry = mtry, :\n",
      "“The response has five or fewer unique values.  Are you sure you want to do regression?”\n",
      "Warning message in randomForest.default(x = obsX, y = obsY, ntree = ntree, mtry = mtry, :\n",
      "“The response has five or fewer unique values.  Are you sure you want to do regression?”\n",
      "Warning message in randomForest.default(x = obsX, y = obsY, ntree = ntree, mtry = mtry, :\n",
      "“The response has five or fewer unique values.  Are you sure you want to do regression?”\n",
      "Warning message in randomForest.default(x = obsX, y = obsY, ntree = ntree, mtry = mtry, :\n",
      "“The response has five or fewer unique values.  Are you sure you want to do regression?”\n",
      "Warning message in randomForest.default(x = obsX, y = obsY, ntree = ntree, mtry = mtry, :\n",
      "“The response has five or fewer unique values.  Are you sure you want to do regression?”\n",
      "Warning message in randomForest.default(x = obsX, y = obsY, ntree = ntree, mtry = mtry, :\n",
      "“The response has five or fewer unique values.  Are you sure you want to do regression?”\n",
      "Warning message in randomForest.default(x = obsX, y = obsY, ntree = ntree, mtry = mtry, :\n",
      "“The response has five or fewer unique values.  Are you sure you want to do regression?”\n"
     ]
    },
    {
     "ename": "ERROR",
     "evalue": "Error in if (n == 0) stop(\"data (x) has 0 rows\"): argument is of length zero\n",
     "output_type": "error",
     "traceback": [
      "Error in if (n == 0) stop(\"data (x) has 0 rows\"): argument is of length zero\nTraceback:\n",
      "1. missForest(as.matrix(df))",
      "2. randomForest(x = obsX, y = obsY, ntree = ntree, mtry = mtry, \n .     replace = replace, sampsize = if (!is.null(sampsize)) sampsize[[varInd]] else if (replace) nrow(obsX) else ceiling(0.632 * \n .         nrow(obsX)), nodesize = if (!is.null(nodesize)) nodesize[1] else 1, \n .     maxnodes = if (!is.null(maxnodes)) maxnodes else NULL)",
      "3. randomForest.default(x = obsX, y = obsY, ntree = ntree, mtry = mtry, \n .     replace = replace, sampsize = if (!is.null(sampsize)) sampsize[[varInd]] else if (replace) nrow(obsX) else ceiling(0.632 * \n .         nrow(obsX)), nodesize = if (!is.null(nodesize)) nodesize[1] else 1, \n .     maxnodes = if (!is.null(maxnodes)) maxnodes else NULL)",
      "4. .handleSimpleError(function (cnd) \n . {\n .     watcher$capture_plot_and_output()\n .     cnd <- sanitize_call(cnd)\n .     watcher$push(cnd)\n .     switch(on_error, continue = invokeRestart(\"eval_continue\"), \n .         stop = invokeRestart(\"eval_stop\"), error = NULL)\n . }, \"argument is of length zero\", base::quote(if (n == 0) stop(\"data (x) has 0 rows\")))"
     ]
    }
   ],
   "source": [
    "random_forest_imputation = function(dataset){\n",
    "    # ADD WORDS\n",
    "    wider_dataset = dataset %>%\n",
    "        pivot_wider(names_from = DTXSID, values_from = Avg_Value)\n",
    "    preimputed_df = wider_dataset[,8:ncol(wider_dataset)]\n",
    "    # had to drop rows (studies) that only had missing data\n",
    "    df = preimputed_df[rowSums(is.na(preimputed_df)) != ncol(preimputed_df), ]\n",
    "    \n",
    "    imputed_RF_object = missForest(as.matrix(df))\n",
    "    imputed_RF_df = imputed_RF_object$ximp\n",
    "    imputed_final_df = data.frame(cbind(wider_dataset[,1:7], imputed_RF_df)) %>%\n",
    "        pivot_longer(cols = 8:ncol(wider_dataset), names_to = \"DTXSID\", values_to = \"Value\")\n",
    "    \n",
    "    return(imputed_final_df)\n",
    "}\n",
    "\n",
    "\n",
    "# calling fn\n",
    "a = random_forest_imputation(preimputed_weight_df %>% filter(Data == 'WS'))"
   ]
  },
  {
   "cell_type": "code",
   "execution_count": 48,
   "id": "352d4f00-ece3-472a-a02f-badd87e78b4e",
   "metadata": {},
   "outputs": [
    {
     "data": {
      "text/html": [
       "<style>\n",
       ".list-inline {list-style: none; margin:0; padding: 0}\n",
       ".list-inline>li {display: inline-block}\n",
       ".list-inline>li:not(:last-child)::after {content: \"\\00b7\"; padding: 0 .5ex}\n",
       "</style>\n",
       "<ol class=list-inline><li>698</li><li>30</li></ol>\n"
      ],
      "text/latex": [
       "\\begin{enumerate*}\n",
       "\\item 698\n",
       "\\item 30\n",
       "\\end{enumerate*}\n"
      ],
      "text/markdown": [
       "1. 698\n",
       "2. 30\n",
       "\n",
       "\n"
      ],
      "text/plain": [
       "[1] 698  30"
      ]
     },
     "metadata": {},
     "output_type": "display_data"
    }
   ],
   "source": [
    "l = data.frame(a[,8:37])\n",
    "dim(l)"
   ]
  },
  {
   "cell_type": "code",
   "execution_count": 49,
   "id": "ac037228-6942-4b0a-99ad-c776b83f5732",
   "metadata": {
    "scrolled": true
   },
   "outputs": [
    {
     "data": {
      "text/html": [
       "<table class=\"dataframe\">\n",
       "<caption>A data.frame: 475 × 30</caption>\n",
       "<thead>\n",
       "\t<tr><th></th><th scope=col>DTXSID8074819</th><th scope=col>DTXSID4020878</th><th scope=col>B</th><th scope=col>DTXSID4075459</th><th scope=col>DTXSID4020161</th><th scope=col>Cu</th><th scope=col>DTXSID0047741</th><th scope=col>K</th><th scope=col>Mg</th><th scope=col>Zn</th><th scope=col>⋯</th><th scope=col>Si</th><th scope=col>Sr</th><th scope=col>Ti</th><th scope=col>Ba</th><th scope=col>Rb</th><th scope=col>DTXSID9059757</th><th scope=col>Li</th><th scope=col>Bi</th><th scope=col>Th</th><th scope=col>DTXSID1025649</th></tr>\n",
       "\t<tr><th></th><th scope=col>&lt;dbl&gt;</th><th scope=col>&lt;dbl&gt;</th><th scope=col>&lt;dbl&gt;</th><th scope=col>&lt;dbl&gt;</th><th scope=col>&lt;dbl&gt;</th><th scope=col>&lt;dbl&gt;</th><th scope=col>&lt;dbl&gt;</th><th scope=col>&lt;dbl&gt;</th><th scope=col>&lt;dbl&gt;</th><th scope=col>&lt;dbl&gt;</th><th scope=col>⋯</th><th scope=col>&lt;dbl&gt;</th><th scope=col>&lt;dbl&gt;</th><th scope=col>&lt;dbl&gt;</th><th scope=col>&lt;dbl&gt;</th><th scope=col>&lt;dbl&gt;</th><th scope=col>&lt;dbl&gt;</th><th scope=col>&lt;dbl&gt;</th><th scope=col>&lt;dbl&gt;</th><th scope=col>&lt;dbl&gt;</th><th scope=col>&lt;dbl&gt;</th></tr>\n",
       "</thead>\n",
       "<tbody>\n",
       "\t<tr><th scope=row>3</th><td> 9.75</td><td>    NA</td><td> NA</td><td>       NA</td><td>   NA</td><td>       NA</td><td>NA</td><td>NA</td><td>NA</td><td>NA</td><td>⋯</td><td>NA</td><td>NA</td><td>NA</td><td>NA</td><td>NA</td><td>NA</td><td>NA</td><td>NA</td><td>NA</td><td>NA</td></tr>\n",
       "\t<tr><th scope=row>4</th><td>15.45</td><td>    NA</td><td> NA</td><td>       NA</td><td>   NA</td><td>       NA</td><td>NA</td><td>NA</td><td>NA</td><td>NA</td><td>⋯</td><td>NA</td><td>NA</td><td>NA</td><td>NA</td><td>NA</td><td>NA</td><td>NA</td><td>NA</td><td>NA</td><td>NA</td></tr>\n",
       "\t<tr><th scope=row>5</th><td>   NA</td><td>23.500</td><td> NA</td><td>       NA</td><td>   NA</td><td>       NA</td><td>NA</td><td>NA</td><td>NA</td><td>NA</td><td>⋯</td><td>NA</td><td>NA</td><td>NA</td><td>NA</td><td>NA</td><td>NA</td><td>NA</td><td>NA</td><td>NA</td><td>NA</td></tr>\n",
       "\t<tr><th scope=row>6</th><td>   NA</td><td> 3.500</td><td> NA</td><td>       NA</td><td>   NA</td><td>       NA</td><td>NA</td><td>NA</td><td>NA</td><td>NA</td><td>⋯</td><td>NA</td><td>NA</td><td>NA</td><td>NA</td><td>NA</td><td>NA</td><td>NA</td><td>NA</td><td>NA</td><td>NA</td></tr>\n",
       "\t<tr><th scope=row>7</th><td>   NA</td><td> 5.661</td><td> NA</td><td>       NA</td><td>   NA</td><td>       NA</td><td>NA</td><td>NA</td><td>NA</td><td>NA</td><td>⋯</td><td>NA</td><td>NA</td><td>NA</td><td>NA</td><td>NA</td><td>NA</td><td>NA</td><td>NA</td><td>NA</td><td>NA</td></tr>\n",
       "\t<tr><th scope=row>8</th><td>   NA</td><td>    NA</td><td>288</td><td>       NA</td><td>   NA</td><td>       NA</td><td>NA</td><td>NA</td><td>NA</td><td>NA</td><td>⋯</td><td>NA</td><td>NA</td><td>NA</td><td>NA</td><td>NA</td><td>NA</td><td>NA</td><td>NA</td><td>NA</td><td>NA</td></tr>\n",
       "\t<tr><th scope=row>9</th><td>   NA</td><td>    NA</td><td> NA</td><td> 21.00000</td><td>   NA</td><td>       NA</td><td>NA</td><td>NA</td><td>NA</td><td>NA</td><td>⋯</td><td>NA</td><td>NA</td><td>NA</td><td>NA</td><td>NA</td><td>NA</td><td>NA</td><td>NA</td><td>NA</td><td>NA</td></tr>\n",
       "\t<tr><th scope=row>10</th><td>   NA</td><td>    NA</td><td> NA</td><td>235.42857</td><td>   NA</td><td>       NA</td><td>NA</td><td>NA</td><td>NA</td><td>NA</td><td>⋯</td><td>NA</td><td>NA</td><td>NA</td><td>NA</td><td>NA</td><td>NA</td><td>NA</td><td>NA</td><td>NA</td><td>NA</td></tr>\n",
       "\t<tr><th scope=row>11</th><td>   NA</td><td>    NA</td><td> NA</td><td>  0.45000</td><td>   NA</td><td>       NA</td><td>NA</td><td>NA</td><td>NA</td><td>NA</td><td>⋯</td><td>NA</td><td>NA</td><td>NA</td><td>NA</td><td>NA</td><td>NA</td><td>NA</td><td>NA</td><td>NA</td><td>NA</td></tr>\n",
       "\t<tr><th scope=row>12</th><td>   NA</td><td>    NA</td><td> NA</td><td> 13.10000</td><td>   NA</td><td>       NA</td><td>NA</td><td>NA</td><td>NA</td><td>NA</td><td>⋯</td><td>NA</td><td>NA</td><td>NA</td><td>NA</td><td>NA</td><td>NA</td><td>NA</td><td>NA</td><td>NA</td><td>NA</td></tr>\n",
       "\t<tr><th scope=row>13</th><td>   NA</td><td>    NA</td><td> NA</td><td>257.95000</td><td>   NA</td><td>       NA</td><td>NA</td><td>NA</td><td>NA</td><td>NA</td><td>⋯</td><td>NA</td><td>NA</td><td>NA</td><td>NA</td><td>NA</td><td>NA</td><td>NA</td><td>NA</td><td>NA</td><td>NA</td></tr>\n",
       "\t<tr><th scope=row>14</th><td>   NA</td><td>    NA</td><td> NA</td><td>  0.00193</td><td>   NA</td><td>       NA</td><td>NA</td><td>NA</td><td>NA</td><td>NA</td><td>⋯</td><td>NA</td><td>NA</td><td>NA</td><td>NA</td><td>NA</td><td>NA</td><td>NA</td><td>NA</td><td>NA</td><td>NA</td></tr>\n",
       "\t<tr><th scope=row>15</th><td>   NA</td><td>    NA</td><td> NA</td><td> 14.98500</td><td>   NA</td><td>       NA</td><td>NA</td><td>NA</td><td>NA</td><td>NA</td><td>⋯</td><td>NA</td><td>NA</td><td>NA</td><td>NA</td><td>NA</td><td>NA</td><td>NA</td><td>NA</td><td>NA</td><td>NA</td></tr>\n",
       "\t<tr><th scope=row>16</th><td>   NA</td><td>    NA</td><td> NA</td><td>234.48571</td><td>   NA</td><td>       NA</td><td>NA</td><td>NA</td><td>NA</td><td>NA</td><td>⋯</td><td>NA</td><td>NA</td><td>NA</td><td>NA</td><td>NA</td><td>NA</td><td>NA</td><td>NA</td><td>NA</td><td>NA</td></tr>\n",
       "\t<tr><th scope=row>17</th><td>   NA</td><td>    NA</td><td> NA</td><td>       NA</td><td>0.045</td><td>       NA</td><td>NA</td><td>NA</td><td>NA</td><td>NA</td><td>⋯</td><td>NA</td><td>NA</td><td>NA</td><td>NA</td><td>NA</td><td>NA</td><td>NA</td><td>NA</td><td>NA</td><td>NA</td></tr>\n",
       "\t<tr><th scope=row>18</th><td>   NA</td><td>    NA</td><td> NA</td><td>       NA</td><td>0.080</td><td>       NA</td><td>NA</td><td>NA</td><td>NA</td><td>NA</td><td>⋯</td><td>NA</td><td>NA</td><td>NA</td><td>NA</td><td>NA</td><td>NA</td><td>NA</td><td>NA</td><td>NA</td><td>NA</td></tr>\n",
       "\t<tr><th scope=row>19</th><td>   NA</td><td>    NA</td><td> NA</td><td>       NA</td><td>   NA</td><td> 187.0000</td><td>NA</td><td>NA</td><td>NA</td><td>NA</td><td>⋯</td><td>NA</td><td>NA</td><td>NA</td><td>NA</td><td>NA</td><td>NA</td><td>NA</td><td>NA</td><td>NA</td><td>NA</td></tr>\n",
       "\t<tr><th scope=row>20</th><td>   NA</td><td>    NA</td><td> NA</td><td>       NA</td><td>   NA</td><td> 375.0000</td><td>NA</td><td>NA</td><td>NA</td><td>NA</td><td>⋯</td><td>NA</td><td>NA</td><td>NA</td><td>NA</td><td>NA</td><td>NA</td><td>NA</td><td>NA</td><td>NA</td><td>NA</td></tr>\n",
       "\t<tr><th scope=row>21</th><td>   NA</td><td>    NA</td><td> NA</td><td>       NA</td><td>   NA</td><td>  50.0000</td><td>NA</td><td>NA</td><td>NA</td><td>NA</td><td>⋯</td><td>NA</td><td>NA</td><td>NA</td><td>NA</td><td>NA</td><td>NA</td><td>NA</td><td>NA</td><td>NA</td><td>NA</td></tr>\n",
       "\t<tr><th scope=row>22</th><td>   NA</td><td>    NA</td><td> NA</td><td>       NA</td><td>   NA</td><td>   4.1000</td><td>NA</td><td>NA</td><td>NA</td><td>NA</td><td>⋯</td><td>NA</td><td>NA</td><td>NA</td><td>NA</td><td>NA</td><td>NA</td><td>NA</td><td>NA</td><td>NA</td><td>NA</td></tr>\n",
       "\t<tr><th scope=row>23</th><td>   NA</td><td>    NA</td><td> NA</td><td>       NA</td><td>   NA</td><td>  28.8000</td><td>NA</td><td>NA</td><td>NA</td><td>NA</td><td>⋯</td><td>NA</td><td>NA</td><td>NA</td><td>NA</td><td>NA</td><td>NA</td><td>NA</td><td>NA</td><td>NA</td><td>NA</td></tr>\n",
       "\t<tr><th scope=row>24</th><td>   NA</td><td>    NA</td><td> NA</td><td>       NA</td><td>   NA</td><td>  28.7275</td><td>NA</td><td>NA</td><td>NA</td><td>NA</td><td>⋯</td><td>NA</td><td>NA</td><td>NA</td><td>NA</td><td>NA</td><td>NA</td><td>NA</td><td>NA</td><td>NA</td><td>NA</td></tr>\n",
       "\t<tr><th scope=row>25</th><td>   NA</td><td>    NA</td><td> NA</td><td>       NA</td><td>   NA</td><td> 278.5000</td><td>NA</td><td>NA</td><td>NA</td><td>NA</td><td>⋯</td><td>NA</td><td>NA</td><td>NA</td><td>NA</td><td>NA</td><td>NA</td><td>NA</td><td>NA</td><td>NA</td><td>NA</td></tr>\n",
       "\t<tr><th scope=row>26</th><td>   NA</td><td>    NA</td><td> NA</td><td>       NA</td><td>   NA</td><td> 151.3333</td><td>NA</td><td>NA</td><td>NA</td><td>NA</td><td>⋯</td><td>NA</td><td>NA</td><td>NA</td><td>NA</td><td>NA</td><td>NA</td><td>NA</td><td>NA</td><td>NA</td><td>NA</td></tr>\n",
       "\t<tr><th scope=row>27</th><td>   NA</td><td>    NA</td><td> NA</td><td>       NA</td><td>   NA</td><td>4100.0000</td><td>NA</td><td>NA</td><td>NA</td><td>NA</td><td>⋯</td><td>NA</td><td>NA</td><td>NA</td><td>NA</td><td>NA</td><td>NA</td><td>NA</td><td>NA</td><td>NA</td><td>NA</td></tr>\n",
       "\t<tr><th scope=row>28</th><td>   NA</td><td>    NA</td><td> NA</td><td>       NA</td><td>   NA</td><td>   4.1000</td><td>NA</td><td>NA</td><td>NA</td><td>NA</td><td>⋯</td><td>NA</td><td>NA</td><td>NA</td><td>NA</td><td>NA</td><td>NA</td><td>NA</td><td>NA</td><td>NA</td><td>NA</td></tr>\n",
       "\t<tr><th scope=row>29</th><td>   NA</td><td>    NA</td><td> NA</td><td>       NA</td><td>   NA</td><td>   0.3500</td><td>NA</td><td>NA</td><td>NA</td><td>NA</td><td>⋯</td><td>NA</td><td>NA</td><td>NA</td><td>NA</td><td>NA</td><td>NA</td><td>NA</td><td>NA</td><td>NA</td><td>NA</td></tr>\n",
       "\t<tr><th scope=row>30</th><td>   NA</td><td>    NA</td><td> NA</td><td>       NA</td><td>   NA</td><td> 266.0000</td><td>NA</td><td>NA</td><td>NA</td><td>NA</td><td>⋯</td><td>NA</td><td>NA</td><td>NA</td><td>NA</td><td>NA</td><td>NA</td><td>NA</td><td>NA</td><td>NA</td><td>NA</td></tr>\n",
       "\t<tr><th scope=row>31</th><td>   NA</td><td>    NA</td><td> NA</td><td>       NA</td><td>   NA</td><td> 233.0000</td><td>NA</td><td>NA</td><td>NA</td><td>NA</td><td>⋯</td><td>NA</td><td>NA</td><td>NA</td><td>NA</td><td>NA</td><td>NA</td><td>NA</td><td>NA</td><td>NA</td><td>NA</td></tr>\n",
       "\t<tr><th scope=row>32</th><td>   NA</td><td>    NA</td><td> NA</td><td>       NA</td><td>   NA</td><td>  70.0000</td><td>NA</td><td>NA</td><td>NA</td><td>NA</td><td>⋯</td><td>NA</td><td>NA</td><td>NA</td><td>NA</td><td>NA</td><td>NA</td><td>NA</td><td>NA</td><td>NA</td><td>NA</td></tr>\n",
       "\t<tr><th scope=row>⋮</th><td>⋮</td><td>⋮</td><td>⋮</td><td>⋮</td><td>⋮</td><td>⋮</td><td>⋮</td><td>⋮</td><td>⋮</td><td>⋮</td><td>⋱</td><td>⋮</td><td>⋮</td><td>⋮</td><td>⋮</td><td>⋮</td><td>⋮</td><td>⋮</td><td>⋮</td><td>⋮</td><td>⋮</td></tr>\n",
       "\t<tr><th scope=row>669</th><td>NA</td><td>NA</td><td>NA</td><td>NA</td><td>NA</td><td>NA</td><td>NA</td><td>NA</td><td>NA</td><td>NA</td><td>⋯</td><td>NA</td><td>185.0059</td><td>        NA</td><td>       NA</td><td>       NA</td><td>      NA</td><td>      NA</td><td>      NA</td><td>       NA</td><td>NA</td></tr>\n",
       "\t<tr><th scope=row>670</th><td>NA</td><td>NA</td><td>NA</td><td>NA</td><td>NA</td><td>NA</td><td>NA</td><td>NA</td><td>NA</td><td>NA</td><td>⋯</td><td>NA</td><td>      NA</td><td>  250.0000</td><td>       NA</td><td>       NA</td><td>      NA</td><td>      NA</td><td>      NA</td><td>       NA</td><td>NA</td></tr>\n",
       "\t<tr><th scope=row>671</th><td>NA</td><td>NA</td><td>NA</td><td>NA</td><td>NA</td><td>NA</td><td>NA</td><td>NA</td><td>NA</td><td>NA</td><td>⋯</td><td>NA</td><td>      NA</td><td>  227.0667</td><td>       NA</td><td>       NA</td><td>      NA</td><td>      NA</td><td>      NA</td><td>       NA</td><td>NA</td></tr>\n",
       "\t<tr><th scope=row>672</th><td>NA</td><td>NA</td><td>NA</td><td>NA</td><td>NA</td><td>NA</td><td>NA</td><td>NA</td><td>NA</td><td>NA</td><td>⋯</td><td>NA</td><td>      NA</td><td>   24.7500</td><td>       NA</td><td>       NA</td><td>      NA</td><td>      NA</td><td>      NA</td><td>       NA</td><td>NA</td></tr>\n",
       "\t<tr><th scope=row>673</th><td>NA</td><td>NA</td><td>NA</td><td>NA</td><td>NA</td><td>NA</td><td>NA</td><td>NA</td><td>NA</td><td>NA</td><td>⋯</td><td>NA</td><td>      NA</td><td>14700.0000</td><td>       NA</td><td>       NA</td><td>      NA</td><td>      NA</td><td>      NA</td><td>       NA</td><td>NA</td></tr>\n",
       "\t<tr><th scope=row>674</th><td>NA</td><td>NA</td><td>NA</td><td>NA</td><td>NA</td><td>NA</td><td>NA</td><td>NA</td><td>NA</td><td>NA</td><td>⋯</td><td>NA</td><td>      NA</td><td>    7.1100</td><td>       NA</td><td>       NA</td><td>      NA</td><td>      NA</td><td>      NA</td><td>       NA</td><td>NA</td></tr>\n",
       "\t<tr><th scope=row>675</th><td>NA</td><td>NA</td><td>NA</td><td>NA</td><td>NA</td><td>NA</td><td>NA</td><td>NA</td><td>NA</td><td>NA</td><td>⋯</td><td>NA</td><td>      NA</td><td>  424.0000</td><td>       NA</td><td>       NA</td><td>      NA</td><td>      NA</td><td>      NA</td><td>       NA</td><td>NA</td></tr>\n",
       "\t<tr><th scope=row>676</th><td>NA</td><td>NA</td><td>NA</td><td>NA</td><td>NA</td><td>NA</td><td>NA</td><td>NA</td><td>NA</td><td>NA</td><td>⋯</td><td>NA</td><td>      NA</td><td>    0.0320</td><td>       NA</td><td>       NA</td><td>      NA</td><td>      NA</td><td>      NA</td><td>       NA</td><td>NA</td></tr>\n",
       "\t<tr><th scope=row>677</th><td>NA</td><td>NA</td><td>NA</td><td>NA</td><td>NA</td><td>NA</td><td>NA</td><td>NA</td><td>NA</td><td>NA</td><td>⋯</td><td>NA</td><td>      NA</td><td>15443.3333</td><td>       NA</td><td>       NA</td><td>      NA</td><td>      NA</td><td>      NA</td><td>       NA</td><td>NA</td></tr>\n",
       "\t<tr><th scope=row>678</th><td>NA</td><td>NA</td><td>NA</td><td>NA</td><td>NA</td><td>NA</td><td>NA</td><td>NA</td><td>NA</td><td>NA</td><td>⋯</td><td>NA</td><td>      NA</td><td> 2000.0000</td><td>       NA</td><td>       NA</td><td>      NA</td><td>      NA</td><td>      NA</td><td>       NA</td><td>NA</td></tr>\n",
       "\t<tr><th scope=row>679</th><td>NA</td><td>NA</td><td>NA</td><td>NA</td><td>NA</td><td>NA</td><td>NA</td><td>NA</td><td>NA</td><td>NA</td><td>⋯</td><td>NA</td><td>      NA</td><td>        NA</td><td> 117.5000</td><td>       NA</td><td>      NA</td><td>      NA</td><td>      NA</td><td>       NA</td><td>NA</td></tr>\n",
       "\t<tr><th scope=row>680</th><td>NA</td><td>NA</td><td>NA</td><td>NA</td><td>NA</td><td>NA</td><td>NA</td><td>NA</td><td>NA</td><td>NA</td><td>⋯</td><td>NA</td><td>      NA</td><td>        NA</td><td>1385.3333</td><td>       NA</td><td>      NA</td><td>      NA</td><td>      NA</td><td>       NA</td><td>NA</td></tr>\n",
       "\t<tr><th scope=row>681</th><td>NA</td><td>NA</td><td>NA</td><td>NA</td><td>NA</td><td>NA</td><td>NA</td><td>NA</td><td>NA</td><td>NA</td><td>⋯</td><td>NA</td><td>      NA</td><td>        NA</td><td> 100.5000</td><td>       NA</td><td>      NA</td><td>      NA</td><td>      NA</td><td>       NA</td><td>NA</td></tr>\n",
       "\t<tr><th scope=row>682</th><td>NA</td><td>NA</td><td>NA</td><td>NA</td><td>NA</td><td>NA</td><td>NA</td><td>NA</td><td>NA</td><td>NA</td><td>⋯</td><td>NA</td><td>      NA</td><td>        NA</td><td> 699.5000</td><td>       NA</td><td>      NA</td><td>      NA</td><td>      NA</td><td>       NA</td><td>NA</td></tr>\n",
       "\t<tr><th scope=row>683</th><td>NA</td><td>NA</td><td>NA</td><td>NA</td><td>NA</td><td>NA</td><td>NA</td><td>NA</td><td>NA</td><td>NA</td><td>⋯</td><td>NA</td><td>      NA</td><td>        NA</td><td> 968.6400</td><td>       NA</td><td>      NA</td><td>      NA</td><td>      NA</td><td>       NA</td><td>NA</td></tr>\n",
       "\t<tr><th scope=row>684</th><td>NA</td><td>NA</td><td>NA</td><td>NA</td><td>NA</td><td>NA</td><td>NA</td><td>NA</td><td>NA</td><td>NA</td><td>⋯</td><td>NA</td><td>      NA</td><td>        NA</td><td> 954.7967</td><td>       NA</td><td>      NA</td><td>      NA</td><td>      NA</td><td>       NA</td><td>NA</td></tr>\n",
       "\t<tr><th scope=row>685</th><td>NA</td><td>NA</td><td>NA</td><td>NA</td><td>NA</td><td>NA</td><td>NA</td><td>NA</td><td>NA</td><td>NA</td><td>⋯</td><td>NA</td><td>      NA</td><td>        NA</td><td>       NA</td><td> 52.75000</td><td>      NA</td><td>      NA</td><td>      NA</td><td>       NA</td><td>NA</td></tr>\n",
       "\t<tr><th scope=row>686</th><td>NA</td><td>NA</td><td>NA</td><td>NA</td><td>NA</td><td>NA</td><td>NA</td><td>NA</td><td>NA</td><td>NA</td><td>⋯</td><td>NA</td><td>      NA</td><td>        NA</td><td>       NA</td><td> 23.92667</td><td>      NA</td><td>      NA</td><td>      NA</td><td>       NA</td><td>NA</td></tr>\n",
       "\t<tr><th scope=row>687</th><td>NA</td><td>NA</td><td>NA</td><td>NA</td><td>NA</td><td>NA</td><td>NA</td><td>NA</td><td>NA</td><td>NA</td><td>⋯</td><td>NA</td><td>      NA</td><td>        NA</td><td>       NA</td><td>143.41647</td><td>      NA</td><td>      NA</td><td>      NA</td><td>       NA</td><td>NA</td></tr>\n",
       "\t<tr><th scope=row>688</th><td>NA</td><td>NA</td><td>NA</td><td>NA</td><td>NA</td><td>NA</td><td>NA</td><td>NA</td><td>NA</td><td>NA</td><td>⋯</td><td>NA</td><td>      NA</td><td>        NA</td><td>       NA</td><td>       NA</td><td>0.028275</td><td>      NA</td><td>      NA</td><td>       NA</td><td>NA</td></tr>\n",
       "\t<tr><th scope=row>689</th><td>NA</td><td>NA</td><td>NA</td><td>NA</td><td>NA</td><td>NA</td><td>NA</td><td>NA</td><td>NA</td><td>NA</td><td>⋯</td><td>NA</td><td>      NA</td><td>        NA</td><td>       NA</td><td>       NA</td><td>      NA</td><td>11.83333</td><td>      NA</td><td>       NA</td><td>NA</td></tr>\n",
       "\t<tr><th scope=row>690</th><td>NA</td><td>NA</td><td>NA</td><td>NA</td><td>NA</td><td>NA</td><td>NA</td><td>NA</td><td>NA</td><td>NA</td><td>⋯</td><td>NA</td><td>      NA</td><td>        NA</td><td>       NA</td><td>       NA</td><td>      NA</td><td>16.60000</td><td>      NA</td><td>       NA</td><td>NA</td></tr>\n",
       "\t<tr><th scope=row>691</th><td>NA</td><td>NA</td><td>NA</td><td>NA</td><td>NA</td><td>NA</td><td>NA</td><td>NA</td><td>NA</td><td>NA</td><td>⋯</td><td>NA</td><td>      NA</td><td>        NA</td><td>       NA</td><td>       NA</td><td>      NA</td><td> 6.00000</td><td>      NA</td><td>       NA</td><td>NA</td></tr>\n",
       "\t<tr><th scope=row>692</th><td>NA</td><td>NA</td><td>NA</td><td>NA</td><td>NA</td><td>NA</td><td>NA</td><td>NA</td><td>NA</td><td>NA</td><td>⋯</td><td>NA</td><td>      NA</td><td>        NA</td><td>       NA</td><td>       NA</td><td>      NA</td><td>64.39667</td><td>      NA</td><td>       NA</td><td>NA</td></tr>\n",
       "\t<tr><th scope=row>693</th><td>NA</td><td>NA</td><td>NA</td><td>NA</td><td>NA</td><td>NA</td><td>NA</td><td>NA</td><td>NA</td><td>NA</td><td>⋯</td><td>NA</td><td>      NA</td><td>        NA</td><td>       NA</td><td>       NA</td><td>      NA</td><td>      NA</td><td>0.405000</td><td>       NA</td><td>NA</td></tr>\n",
       "\t<tr><th scope=row>694</th><td>NA</td><td>NA</td><td>NA</td><td>NA</td><td>NA</td><td>NA</td><td>NA</td><td>NA</td><td>NA</td><td>NA</td><td>⋯</td><td>NA</td><td>      NA</td><td>        NA</td><td>       NA</td><td>       NA</td><td>      NA</td><td>      NA</td><td>2.176667</td><td>       NA</td><td>NA</td></tr>\n",
       "\t<tr><th scope=row>695</th><td>NA</td><td>NA</td><td>NA</td><td>NA</td><td>NA</td><td>NA</td><td>NA</td><td>NA</td><td>NA</td><td>NA</td><td>⋯</td><td>NA</td><td>      NA</td><td>        NA</td><td>       NA</td><td>       NA</td><td>      NA</td><td>      NA</td><td>4.231765</td><td>       NA</td><td>NA</td></tr>\n",
       "\t<tr><th scope=row>696</th><td>NA</td><td>NA</td><td>NA</td><td>NA</td><td>NA</td><td>NA</td><td>NA</td><td>NA</td><td>NA</td><td>NA</td><td>⋯</td><td>NA</td><td>      NA</td><td>        NA</td><td>       NA</td><td>       NA</td><td>      NA</td><td>      NA</td><td>      NA</td><td>  5.45500</td><td>NA</td></tr>\n",
       "\t<tr><th scope=row>697</th><td>NA</td><td>NA</td><td>NA</td><td>NA</td><td>NA</td><td>NA</td><td>NA</td><td>NA</td><td>NA</td><td>NA</td><td>⋯</td><td>NA</td><td>      NA</td><td>        NA</td><td>       NA</td><td>       NA</td><td>      NA</td><td>      NA</td><td>      NA</td><td>500.00000</td><td>NA</td></tr>\n",
       "\t<tr><th scope=row>698</th><td>NA</td><td>NA</td><td>NA</td><td>NA</td><td>NA</td><td>NA</td><td>NA</td><td>NA</td><td>NA</td><td>NA</td><td>⋯</td><td>NA</td><td>      NA</td><td>        NA</td><td>       NA</td><td>       NA</td><td>      NA</td><td>      NA</td><td>      NA</td><td> 16.55846</td><td>NA</td></tr>\n",
       "</tbody>\n",
       "</table>\n"
      ],
      "text/latex": [
       "A data.frame: 475 × 30\n",
       "\\begin{tabular}{r|lllllllllllllllllllll}\n",
       "  & DTXSID8074819 & DTXSID4020878 & B & DTXSID4075459 & DTXSID4020161 & Cu & DTXSID0047741 & K & Mg & Zn & ⋯ & Si & Sr & Ti & Ba & Rb & DTXSID9059757 & Li & Bi & Th & DTXSID1025649\\\\\n",
       "  & <dbl> & <dbl> & <dbl> & <dbl> & <dbl> & <dbl> & <dbl> & <dbl> & <dbl> & <dbl> & ⋯ & <dbl> & <dbl> & <dbl> & <dbl> & <dbl> & <dbl> & <dbl> & <dbl> & <dbl> & <dbl>\\\\\n",
       "\\hline\n",
       "\t3 &  9.75 &     NA &  NA &        NA &    NA &        NA & NA & NA & NA & NA & ⋯ & NA & NA & NA & NA & NA & NA & NA & NA & NA & NA\\\\\n",
       "\t4 & 15.45 &     NA &  NA &        NA &    NA &        NA & NA & NA & NA & NA & ⋯ & NA & NA & NA & NA & NA & NA & NA & NA & NA & NA\\\\\n",
       "\t5 &    NA & 23.500 &  NA &        NA &    NA &        NA & NA & NA & NA & NA & ⋯ & NA & NA & NA & NA & NA & NA & NA & NA & NA & NA\\\\\n",
       "\t6 &    NA &  3.500 &  NA &        NA &    NA &        NA & NA & NA & NA & NA & ⋯ & NA & NA & NA & NA & NA & NA & NA & NA & NA & NA\\\\\n",
       "\t7 &    NA &  5.661 &  NA &        NA &    NA &        NA & NA & NA & NA & NA & ⋯ & NA & NA & NA & NA & NA & NA & NA & NA & NA & NA\\\\\n",
       "\t8 &    NA &     NA & 288 &        NA &    NA &        NA & NA & NA & NA & NA & ⋯ & NA & NA & NA & NA & NA & NA & NA & NA & NA & NA\\\\\n",
       "\t9 &    NA &     NA &  NA &  21.00000 &    NA &        NA & NA & NA & NA & NA & ⋯ & NA & NA & NA & NA & NA & NA & NA & NA & NA & NA\\\\\n",
       "\t10 &    NA &     NA &  NA & 235.42857 &    NA &        NA & NA & NA & NA & NA & ⋯ & NA & NA & NA & NA & NA & NA & NA & NA & NA & NA\\\\\n",
       "\t11 &    NA &     NA &  NA &   0.45000 &    NA &        NA & NA & NA & NA & NA & ⋯ & NA & NA & NA & NA & NA & NA & NA & NA & NA & NA\\\\\n",
       "\t12 &    NA &     NA &  NA &  13.10000 &    NA &        NA & NA & NA & NA & NA & ⋯ & NA & NA & NA & NA & NA & NA & NA & NA & NA & NA\\\\\n",
       "\t13 &    NA &     NA &  NA & 257.95000 &    NA &        NA & NA & NA & NA & NA & ⋯ & NA & NA & NA & NA & NA & NA & NA & NA & NA & NA\\\\\n",
       "\t14 &    NA &     NA &  NA &   0.00193 &    NA &        NA & NA & NA & NA & NA & ⋯ & NA & NA & NA & NA & NA & NA & NA & NA & NA & NA\\\\\n",
       "\t15 &    NA &     NA &  NA &  14.98500 &    NA &        NA & NA & NA & NA & NA & ⋯ & NA & NA & NA & NA & NA & NA & NA & NA & NA & NA\\\\\n",
       "\t16 &    NA &     NA &  NA & 234.48571 &    NA &        NA & NA & NA & NA & NA & ⋯ & NA & NA & NA & NA & NA & NA & NA & NA & NA & NA\\\\\n",
       "\t17 &    NA &     NA &  NA &        NA & 0.045 &        NA & NA & NA & NA & NA & ⋯ & NA & NA & NA & NA & NA & NA & NA & NA & NA & NA\\\\\n",
       "\t18 &    NA &     NA &  NA &        NA & 0.080 &        NA & NA & NA & NA & NA & ⋯ & NA & NA & NA & NA & NA & NA & NA & NA & NA & NA\\\\\n",
       "\t19 &    NA &     NA &  NA &        NA &    NA &  187.0000 & NA & NA & NA & NA & ⋯ & NA & NA & NA & NA & NA & NA & NA & NA & NA & NA\\\\\n",
       "\t20 &    NA &     NA &  NA &        NA &    NA &  375.0000 & NA & NA & NA & NA & ⋯ & NA & NA & NA & NA & NA & NA & NA & NA & NA & NA\\\\\n",
       "\t21 &    NA &     NA &  NA &        NA &    NA &   50.0000 & NA & NA & NA & NA & ⋯ & NA & NA & NA & NA & NA & NA & NA & NA & NA & NA\\\\\n",
       "\t22 &    NA &     NA &  NA &        NA &    NA &    4.1000 & NA & NA & NA & NA & ⋯ & NA & NA & NA & NA & NA & NA & NA & NA & NA & NA\\\\\n",
       "\t23 &    NA &     NA &  NA &        NA &    NA &   28.8000 & NA & NA & NA & NA & ⋯ & NA & NA & NA & NA & NA & NA & NA & NA & NA & NA\\\\\n",
       "\t24 &    NA &     NA &  NA &        NA &    NA &   28.7275 & NA & NA & NA & NA & ⋯ & NA & NA & NA & NA & NA & NA & NA & NA & NA & NA\\\\\n",
       "\t25 &    NA &     NA &  NA &        NA &    NA &  278.5000 & NA & NA & NA & NA & ⋯ & NA & NA & NA & NA & NA & NA & NA & NA & NA & NA\\\\\n",
       "\t26 &    NA &     NA &  NA &        NA &    NA &  151.3333 & NA & NA & NA & NA & ⋯ & NA & NA & NA & NA & NA & NA & NA & NA & NA & NA\\\\\n",
       "\t27 &    NA &     NA &  NA &        NA &    NA & 4100.0000 & NA & NA & NA & NA & ⋯ & NA & NA & NA & NA & NA & NA & NA & NA & NA & NA\\\\\n",
       "\t28 &    NA &     NA &  NA &        NA &    NA &    4.1000 & NA & NA & NA & NA & ⋯ & NA & NA & NA & NA & NA & NA & NA & NA & NA & NA\\\\\n",
       "\t29 &    NA &     NA &  NA &        NA &    NA &    0.3500 & NA & NA & NA & NA & ⋯ & NA & NA & NA & NA & NA & NA & NA & NA & NA & NA\\\\\n",
       "\t30 &    NA &     NA &  NA &        NA &    NA &  266.0000 & NA & NA & NA & NA & ⋯ & NA & NA & NA & NA & NA & NA & NA & NA & NA & NA\\\\\n",
       "\t31 &    NA &     NA &  NA &        NA &    NA &  233.0000 & NA & NA & NA & NA & ⋯ & NA & NA & NA & NA & NA & NA & NA & NA & NA & NA\\\\\n",
       "\t32 &    NA &     NA &  NA &        NA &    NA &   70.0000 & NA & NA & NA & NA & ⋯ & NA & NA & NA & NA & NA & NA & NA & NA & NA & NA\\\\\n",
       "\t⋮ & ⋮ & ⋮ & ⋮ & ⋮ & ⋮ & ⋮ & ⋮ & ⋮ & ⋮ & ⋮ & ⋱ & ⋮ & ⋮ & ⋮ & ⋮ & ⋮ & ⋮ & ⋮ & ⋮ & ⋮ & ⋮\\\\\n",
       "\t669 & NA & NA & NA & NA & NA & NA & NA & NA & NA & NA & ⋯ & NA & 185.0059 &         NA &        NA &        NA &       NA &       NA &       NA &        NA & NA\\\\\n",
       "\t670 & NA & NA & NA & NA & NA & NA & NA & NA & NA & NA & ⋯ & NA &       NA &   250.0000 &        NA &        NA &       NA &       NA &       NA &        NA & NA\\\\\n",
       "\t671 & NA & NA & NA & NA & NA & NA & NA & NA & NA & NA & ⋯ & NA &       NA &   227.0667 &        NA &        NA &       NA &       NA &       NA &        NA & NA\\\\\n",
       "\t672 & NA & NA & NA & NA & NA & NA & NA & NA & NA & NA & ⋯ & NA &       NA &    24.7500 &        NA &        NA &       NA &       NA &       NA &        NA & NA\\\\\n",
       "\t673 & NA & NA & NA & NA & NA & NA & NA & NA & NA & NA & ⋯ & NA &       NA & 14700.0000 &        NA &        NA &       NA &       NA &       NA &        NA & NA\\\\\n",
       "\t674 & NA & NA & NA & NA & NA & NA & NA & NA & NA & NA & ⋯ & NA &       NA &     7.1100 &        NA &        NA &       NA &       NA &       NA &        NA & NA\\\\\n",
       "\t675 & NA & NA & NA & NA & NA & NA & NA & NA & NA & NA & ⋯ & NA &       NA &   424.0000 &        NA &        NA &       NA &       NA &       NA &        NA & NA\\\\\n",
       "\t676 & NA & NA & NA & NA & NA & NA & NA & NA & NA & NA & ⋯ & NA &       NA &     0.0320 &        NA &        NA &       NA &       NA &       NA &        NA & NA\\\\\n",
       "\t677 & NA & NA & NA & NA & NA & NA & NA & NA & NA & NA & ⋯ & NA &       NA & 15443.3333 &        NA &        NA &       NA &       NA &       NA &        NA & NA\\\\\n",
       "\t678 & NA & NA & NA & NA & NA & NA & NA & NA & NA & NA & ⋯ & NA &       NA &  2000.0000 &        NA &        NA &       NA &       NA &       NA &        NA & NA\\\\\n",
       "\t679 & NA & NA & NA & NA & NA & NA & NA & NA & NA & NA & ⋯ & NA &       NA &         NA &  117.5000 &        NA &       NA &       NA &       NA &        NA & NA\\\\\n",
       "\t680 & NA & NA & NA & NA & NA & NA & NA & NA & NA & NA & ⋯ & NA &       NA &         NA & 1385.3333 &        NA &       NA &       NA &       NA &        NA & NA\\\\\n",
       "\t681 & NA & NA & NA & NA & NA & NA & NA & NA & NA & NA & ⋯ & NA &       NA &         NA &  100.5000 &        NA &       NA &       NA &       NA &        NA & NA\\\\\n",
       "\t682 & NA & NA & NA & NA & NA & NA & NA & NA & NA & NA & ⋯ & NA &       NA &         NA &  699.5000 &        NA &       NA &       NA &       NA &        NA & NA\\\\\n",
       "\t683 & NA & NA & NA & NA & NA & NA & NA & NA & NA & NA & ⋯ & NA &       NA &         NA &  968.6400 &        NA &       NA &       NA &       NA &        NA & NA\\\\\n",
       "\t684 & NA & NA & NA & NA & NA & NA & NA & NA & NA & NA & ⋯ & NA &       NA &         NA &  954.7967 &        NA &       NA &       NA &       NA &        NA & NA\\\\\n",
       "\t685 & NA & NA & NA & NA & NA & NA & NA & NA & NA & NA & ⋯ & NA &       NA &         NA &        NA &  52.75000 &       NA &       NA &       NA &        NA & NA\\\\\n",
       "\t686 & NA & NA & NA & NA & NA & NA & NA & NA & NA & NA & ⋯ & NA &       NA &         NA &        NA &  23.92667 &       NA &       NA &       NA &        NA & NA\\\\\n",
       "\t687 & NA & NA & NA & NA & NA & NA & NA & NA & NA & NA & ⋯ & NA &       NA &         NA &        NA & 143.41647 &       NA &       NA &       NA &        NA & NA\\\\\n",
       "\t688 & NA & NA & NA & NA & NA & NA & NA & NA & NA & NA & ⋯ & NA &       NA &         NA &        NA &        NA & 0.028275 &       NA &       NA &        NA & NA\\\\\n",
       "\t689 & NA & NA & NA & NA & NA & NA & NA & NA & NA & NA & ⋯ & NA &       NA &         NA &        NA &        NA &       NA & 11.83333 &       NA &        NA & NA\\\\\n",
       "\t690 & NA & NA & NA & NA & NA & NA & NA & NA & NA & NA & ⋯ & NA &       NA &         NA &        NA &        NA &       NA & 16.60000 &       NA &        NA & NA\\\\\n",
       "\t691 & NA & NA & NA & NA & NA & NA & NA & NA & NA & NA & ⋯ & NA &       NA &         NA &        NA &        NA &       NA &  6.00000 &       NA &        NA & NA\\\\\n",
       "\t692 & NA & NA & NA & NA & NA & NA & NA & NA & NA & NA & ⋯ & NA &       NA &         NA &        NA &        NA &       NA & 64.39667 &       NA &        NA & NA\\\\\n",
       "\t693 & NA & NA & NA & NA & NA & NA & NA & NA & NA & NA & ⋯ & NA &       NA &         NA &        NA &        NA &       NA &       NA & 0.405000 &        NA & NA\\\\\n",
       "\t694 & NA & NA & NA & NA & NA & NA & NA & NA & NA & NA & ⋯ & NA &       NA &         NA &        NA &        NA &       NA &       NA & 2.176667 &        NA & NA\\\\\n",
       "\t695 & NA & NA & NA & NA & NA & NA & NA & NA & NA & NA & ⋯ & NA &       NA &         NA &        NA &        NA &       NA &       NA & 4.231765 &        NA & NA\\\\\n",
       "\t696 & NA & NA & NA & NA & NA & NA & NA & NA & NA & NA & ⋯ & NA &       NA &         NA &        NA &        NA &       NA &       NA &       NA &   5.45500 & NA\\\\\n",
       "\t697 & NA & NA & NA & NA & NA & NA & NA & NA & NA & NA & ⋯ & NA &       NA &         NA &        NA &        NA &       NA &       NA &       NA & 500.00000 & NA\\\\\n",
       "\t698 & NA & NA & NA & NA & NA & NA & NA & NA & NA & NA & ⋯ & NA &       NA &         NA &        NA &        NA &       NA &       NA &       NA &  16.55846 & NA\\\\\n",
       "\\end{tabular}\n"
      ],
      "text/markdown": [
       "\n",
       "A data.frame: 475 × 30\n",
       "\n",
       "| <!--/--> | DTXSID8074819 &lt;dbl&gt; | DTXSID4020878 &lt;dbl&gt; | B &lt;dbl&gt; | DTXSID4075459 &lt;dbl&gt; | DTXSID4020161 &lt;dbl&gt; | Cu &lt;dbl&gt; | DTXSID0047741 &lt;dbl&gt; | K &lt;dbl&gt; | Mg &lt;dbl&gt; | Zn &lt;dbl&gt; | ⋯ ⋯ | Si &lt;dbl&gt; | Sr &lt;dbl&gt; | Ti &lt;dbl&gt; | Ba &lt;dbl&gt; | Rb &lt;dbl&gt; | DTXSID9059757 &lt;dbl&gt; | Li &lt;dbl&gt; | Bi &lt;dbl&gt; | Th &lt;dbl&gt; | DTXSID1025649 &lt;dbl&gt; |\n",
       "|---|---|---|---|---|---|---|---|---|---|---|---|---|---|---|---|---|---|---|---|---|---|\n",
       "| 3 |  9.75 |     NA |  NA |        NA |    NA |        NA | NA | NA | NA | NA | ⋯ | NA | NA | NA | NA | NA | NA | NA | NA | NA | NA |\n",
       "| 4 | 15.45 |     NA |  NA |        NA |    NA |        NA | NA | NA | NA | NA | ⋯ | NA | NA | NA | NA | NA | NA | NA | NA | NA | NA |\n",
       "| 5 |    NA | 23.500 |  NA |        NA |    NA |        NA | NA | NA | NA | NA | ⋯ | NA | NA | NA | NA | NA | NA | NA | NA | NA | NA |\n",
       "| 6 |    NA |  3.500 |  NA |        NA |    NA |        NA | NA | NA | NA | NA | ⋯ | NA | NA | NA | NA | NA | NA | NA | NA | NA | NA |\n",
       "| 7 |    NA |  5.661 |  NA |        NA |    NA |        NA | NA | NA | NA | NA | ⋯ | NA | NA | NA | NA | NA | NA | NA | NA | NA | NA |\n",
       "| 8 |    NA |     NA | 288 |        NA |    NA |        NA | NA | NA | NA | NA | ⋯ | NA | NA | NA | NA | NA | NA | NA | NA | NA | NA |\n",
       "| 9 |    NA |     NA |  NA |  21.00000 |    NA |        NA | NA | NA | NA | NA | ⋯ | NA | NA | NA | NA | NA | NA | NA | NA | NA | NA |\n",
       "| 10 |    NA |     NA |  NA | 235.42857 |    NA |        NA | NA | NA | NA | NA | ⋯ | NA | NA | NA | NA | NA | NA | NA | NA | NA | NA |\n",
       "| 11 |    NA |     NA |  NA |   0.45000 |    NA |        NA | NA | NA | NA | NA | ⋯ | NA | NA | NA | NA | NA | NA | NA | NA | NA | NA |\n",
       "| 12 |    NA |     NA |  NA |  13.10000 |    NA |        NA | NA | NA | NA | NA | ⋯ | NA | NA | NA | NA | NA | NA | NA | NA | NA | NA |\n",
       "| 13 |    NA |     NA |  NA | 257.95000 |    NA |        NA | NA | NA | NA | NA | ⋯ | NA | NA | NA | NA | NA | NA | NA | NA | NA | NA |\n",
       "| 14 |    NA |     NA |  NA |   0.00193 |    NA |        NA | NA | NA | NA | NA | ⋯ | NA | NA | NA | NA | NA | NA | NA | NA | NA | NA |\n",
       "| 15 |    NA |     NA |  NA |  14.98500 |    NA |        NA | NA | NA | NA | NA | ⋯ | NA | NA | NA | NA | NA | NA | NA | NA | NA | NA |\n",
       "| 16 |    NA |     NA |  NA | 234.48571 |    NA |        NA | NA | NA | NA | NA | ⋯ | NA | NA | NA | NA | NA | NA | NA | NA | NA | NA |\n",
       "| 17 |    NA |     NA |  NA |        NA | 0.045 |        NA | NA | NA | NA | NA | ⋯ | NA | NA | NA | NA | NA | NA | NA | NA | NA | NA |\n",
       "| 18 |    NA |     NA |  NA |        NA | 0.080 |        NA | NA | NA | NA | NA | ⋯ | NA | NA | NA | NA | NA | NA | NA | NA | NA | NA |\n",
       "| 19 |    NA |     NA |  NA |        NA |    NA |  187.0000 | NA | NA | NA | NA | ⋯ | NA | NA | NA | NA | NA | NA | NA | NA | NA | NA |\n",
       "| 20 |    NA |     NA |  NA |        NA |    NA |  375.0000 | NA | NA | NA | NA | ⋯ | NA | NA | NA | NA | NA | NA | NA | NA | NA | NA |\n",
       "| 21 |    NA |     NA |  NA |        NA |    NA |   50.0000 | NA | NA | NA | NA | ⋯ | NA | NA | NA | NA | NA | NA | NA | NA | NA | NA |\n",
       "| 22 |    NA |     NA |  NA |        NA |    NA |    4.1000 | NA | NA | NA | NA | ⋯ | NA | NA | NA | NA | NA | NA | NA | NA | NA | NA |\n",
       "| 23 |    NA |     NA |  NA |        NA |    NA |   28.8000 | NA | NA | NA | NA | ⋯ | NA | NA | NA | NA | NA | NA | NA | NA | NA | NA |\n",
       "| 24 |    NA |     NA |  NA |        NA |    NA |   28.7275 | NA | NA | NA | NA | ⋯ | NA | NA | NA | NA | NA | NA | NA | NA | NA | NA |\n",
       "| 25 |    NA |     NA |  NA |        NA |    NA |  278.5000 | NA | NA | NA | NA | ⋯ | NA | NA | NA | NA | NA | NA | NA | NA | NA | NA |\n",
       "| 26 |    NA |     NA |  NA |        NA |    NA |  151.3333 | NA | NA | NA | NA | ⋯ | NA | NA | NA | NA | NA | NA | NA | NA | NA | NA |\n",
       "| 27 |    NA |     NA |  NA |        NA |    NA | 4100.0000 | NA | NA | NA | NA | ⋯ | NA | NA | NA | NA | NA | NA | NA | NA | NA | NA |\n",
       "| 28 |    NA |     NA |  NA |        NA |    NA |    4.1000 | NA | NA | NA | NA | ⋯ | NA | NA | NA | NA | NA | NA | NA | NA | NA | NA |\n",
       "| 29 |    NA |     NA |  NA |        NA |    NA |    0.3500 | NA | NA | NA | NA | ⋯ | NA | NA | NA | NA | NA | NA | NA | NA | NA | NA |\n",
       "| 30 |    NA |     NA |  NA |        NA |    NA |  266.0000 | NA | NA | NA | NA | ⋯ | NA | NA | NA | NA | NA | NA | NA | NA | NA | NA |\n",
       "| 31 |    NA |     NA |  NA |        NA |    NA |  233.0000 | NA | NA | NA | NA | ⋯ | NA | NA | NA | NA | NA | NA | NA | NA | NA | NA |\n",
       "| 32 |    NA |     NA |  NA |        NA |    NA |   70.0000 | NA | NA | NA | NA | ⋯ | NA | NA | NA | NA | NA | NA | NA | NA | NA | NA |\n",
       "| ⋮ | ⋮ | ⋮ | ⋮ | ⋮ | ⋮ | ⋮ | ⋮ | ⋮ | ⋮ | ⋮ | ⋱ | ⋮ | ⋮ | ⋮ | ⋮ | ⋮ | ⋮ | ⋮ | ⋮ | ⋮ | ⋮ |\n",
       "| 669 | NA | NA | NA | NA | NA | NA | NA | NA | NA | NA | ⋯ | NA | 185.0059 |         NA |        NA |        NA |       NA |       NA |       NA |        NA | NA |\n",
       "| 670 | NA | NA | NA | NA | NA | NA | NA | NA | NA | NA | ⋯ | NA |       NA |   250.0000 |        NA |        NA |       NA |       NA |       NA |        NA | NA |\n",
       "| 671 | NA | NA | NA | NA | NA | NA | NA | NA | NA | NA | ⋯ | NA |       NA |   227.0667 |        NA |        NA |       NA |       NA |       NA |        NA | NA |\n",
       "| 672 | NA | NA | NA | NA | NA | NA | NA | NA | NA | NA | ⋯ | NA |       NA |    24.7500 |        NA |        NA |       NA |       NA |       NA |        NA | NA |\n",
       "| 673 | NA | NA | NA | NA | NA | NA | NA | NA | NA | NA | ⋯ | NA |       NA | 14700.0000 |        NA |        NA |       NA |       NA |       NA |        NA | NA |\n",
       "| 674 | NA | NA | NA | NA | NA | NA | NA | NA | NA | NA | ⋯ | NA |       NA |     7.1100 |        NA |        NA |       NA |       NA |       NA |        NA | NA |\n",
       "| 675 | NA | NA | NA | NA | NA | NA | NA | NA | NA | NA | ⋯ | NA |       NA |   424.0000 |        NA |        NA |       NA |       NA |       NA |        NA | NA |\n",
       "| 676 | NA | NA | NA | NA | NA | NA | NA | NA | NA | NA | ⋯ | NA |       NA |     0.0320 |        NA |        NA |       NA |       NA |       NA |        NA | NA |\n",
       "| 677 | NA | NA | NA | NA | NA | NA | NA | NA | NA | NA | ⋯ | NA |       NA | 15443.3333 |        NA |        NA |       NA |       NA |       NA |        NA | NA |\n",
       "| 678 | NA | NA | NA | NA | NA | NA | NA | NA | NA | NA | ⋯ | NA |       NA |  2000.0000 |        NA |        NA |       NA |       NA |       NA |        NA | NA |\n",
       "| 679 | NA | NA | NA | NA | NA | NA | NA | NA | NA | NA | ⋯ | NA |       NA |         NA |  117.5000 |        NA |       NA |       NA |       NA |        NA | NA |\n",
       "| 680 | NA | NA | NA | NA | NA | NA | NA | NA | NA | NA | ⋯ | NA |       NA |         NA | 1385.3333 |        NA |       NA |       NA |       NA |        NA | NA |\n",
       "| 681 | NA | NA | NA | NA | NA | NA | NA | NA | NA | NA | ⋯ | NA |       NA |         NA |  100.5000 |        NA |       NA |       NA |       NA |        NA | NA |\n",
       "| 682 | NA | NA | NA | NA | NA | NA | NA | NA | NA | NA | ⋯ | NA |       NA |         NA |  699.5000 |        NA |       NA |       NA |       NA |        NA | NA |\n",
       "| 683 | NA | NA | NA | NA | NA | NA | NA | NA | NA | NA | ⋯ | NA |       NA |         NA |  968.6400 |        NA |       NA |       NA |       NA |        NA | NA |\n",
       "| 684 | NA | NA | NA | NA | NA | NA | NA | NA | NA | NA | ⋯ | NA |       NA |         NA |  954.7967 |        NA |       NA |       NA |       NA |        NA | NA |\n",
       "| 685 | NA | NA | NA | NA | NA | NA | NA | NA | NA | NA | ⋯ | NA |       NA |         NA |        NA |  52.75000 |       NA |       NA |       NA |        NA | NA |\n",
       "| 686 | NA | NA | NA | NA | NA | NA | NA | NA | NA | NA | ⋯ | NA |       NA |         NA |        NA |  23.92667 |       NA |       NA |       NA |        NA | NA |\n",
       "| 687 | NA | NA | NA | NA | NA | NA | NA | NA | NA | NA | ⋯ | NA |       NA |         NA |        NA | 143.41647 |       NA |       NA |       NA |        NA | NA |\n",
       "| 688 | NA | NA | NA | NA | NA | NA | NA | NA | NA | NA | ⋯ | NA |       NA |         NA |        NA |        NA | 0.028275 |       NA |       NA |        NA | NA |\n",
       "| 689 | NA | NA | NA | NA | NA | NA | NA | NA | NA | NA | ⋯ | NA |       NA |         NA |        NA |        NA |       NA | 11.83333 |       NA |        NA | NA |\n",
       "| 690 | NA | NA | NA | NA | NA | NA | NA | NA | NA | NA | ⋯ | NA |       NA |         NA |        NA |        NA |       NA | 16.60000 |       NA |        NA | NA |\n",
       "| 691 | NA | NA | NA | NA | NA | NA | NA | NA | NA | NA | ⋯ | NA |       NA |         NA |        NA |        NA |       NA |  6.00000 |       NA |        NA | NA |\n",
       "| 692 | NA | NA | NA | NA | NA | NA | NA | NA | NA | NA | ⋯ | NA |       NA |         NA |        NA |        NA |       NA | 64.39667 |       NA |        NA | NA |\n",
       "| 693 | NA | NA | NA | NA | NA | NA | NA | NA | NA | NA | ⋯ | NA |       NA |         NA |        NA |        NA |       NA |       NA | 0.405000 |        NA | NA |\n",
       "| 694 | NA | NA | NA | NA | NA | NA | NA | NA | NA | NA | ⋯ | NA |       NA |         NA |        NA |        NA |       NA |       NA | 2.176667 |        NA | NA |\n",
       "| 695 | NA | NA | NA | NA | NA | NA | NA | NA | NA | NA | ⋯ | NA |       NA |         NA |        NA |        NA |       NA |       NA | 4.231765 |        NA | NA |\n",
       "| 696 | NA | NA | NA | NA | NA | NA | NA | NA | NA | NA | ⋯ | NA |       NA |         NA |        NA |        NA |       NA |       NA |       NA |   5.45500 | NA |\n",
       "| 697 | NA | NA | NA | NA | NA | NA | NA | NA | NA | NA | ⋯ | NA |       NA |         NA |        NA |        NA |       NA |       NA |       NA | 500.00000 | NA |\n",
       "| 698 | NA | NA | NA | NA | NA | NA | NA | NA | NA | NA | ⋯ | NA |       NA |         NA |        NA |        NA |       NA |       NA |       NA |  16.55846 | NA |\n",
       "\n"
      ],
      "text/plain": [
       "    DTXSID8074819 DTXSID4020878 B   DTXSID4075459 DTXSID4020161 Cu       \n",
       "3    9.75             NA         NA        NA        NA                NA\n",
       "4   15.45             NA         NA        NA        NA                NA\n",
       "5      NA         23.500         NA        NA        NA                NA\n",
       "6      NA          3.500         NA        NA        NA                NA\n",
       "7      NA          5.661         NA        NA        NA                NA\n",
       "8      NA             NA        288        NA        NA                NA\n",
       "9      NA             NA         NA  21.00000        NA                NA\n",
       "10     NA             NA         NA 235.42857        NA                NA\n",
       "11     NA             NA         NA   0.45000        NA                NA\n",
       "12     NA             NA         NA  13.10000        NA                NA\n",
       "13     NA             NA         NA 257.95000        NA                NA\n",
       "14     NA             NA         NA   0.00193        NA                NA\n",
       "15     NA             NA         NA  14.98500        NA                NA\n",
       "16     NA             NA         NA 234.48571        NA                NA\n",
       "17     NA             NA         NA        NA     0.045                NA\n",
       "18     NA             NA         NA        NA     0.080                NA\n",
       "19     NA             NA         NA        NA        NA          187.0000\n",
       "20     NA             NA         NA        NA        NA          375.0000\n",
       "21     NA             NA         NA        NA        NA           50.0000\n",
       "22     NA             NA         NA        NA        NA            4.1000\n",
       "23     NA             NA         NA        NA        NA           28.8000\n",
       "24     NA             NA         NA        NA        NA           28.7275\n",
       "25     NA             NA         NA        NA        NA          278.5000\n",
       "26     NA             NA         NA        NA        NA          151.3333\n",
       "27     NA             NA         NA        NA        NA         4100.0000\n",
       "28     NA             NA         NA        NA        NA            4.1000\n",
       "29     NA             NA         NA        NA        NA            0.3500\n",
       "30     NA             NA         NA        NA        NA          266.0000\n",
       "31     NA             NA         NA        NA        NA          233.0000\n",
       "32     NA             NA         NA        NA        NA           70.0000\n",
       "⋮   ⋮             ⋮             ⋮   ⋮             ⋮             ⋮        \n",
       "669 NA            NA            NA  NA            NA            NA       \n",
       "670 NA            NA            NA  NA            NA            NA       \n",
       "671 NA            NA            NA  NA            NA            NA       \n",
       "672 NA            NA            NA  NA            NA            NA       \n",
       "673 NA            NA            NA  NA            NA            NA       \n",
       "674 NA            NA            NA  NA            NA            NA       \n",
       "675 NA            NA            NA  NA            NA            NA       \n",
       "676 NA            NA            NA  NA            NA            NA       \n",
       "677 NA            NA            NA  NA            NA            NA       \n",
       "678 NA            NA            NA  NA            NA            NA       \n",
       "679 NA            NA            NA  NA            NA            NA       \n",
       "680 NA            NA            NA  NA            NA            NA       \n",
       "681 NA            NA            NA  NA            NA            NA       \n",
       "682 NA            NA            NA  NA            NA            NA       \n",
       "683 NA            NA            NA  NA            NA            NA       \n",
       "684 NA            NA            NA  NA            NA            NA       \n",
       "685 NA            NA            NA  NA            NA            NA       \n",
       "686 NA            NA            NA  NA            NA            NA       \n",
       "687 NA            NA            NA  NA            NA            NA       \n",
       "688 NA            NA            NA  NA            NA            NA       \n",
       "689 NA            NA            NA  NA            NA            NA       \n",
       "690 NA            NA            NA  NA            NA            NA       \n",
       "691 NA            NA            NA  NA            NA            NA       \n",
       "692 NA            NA            NA  NA            NA            NA       \n",
       "693 NA            NA            NA  NA            NA            NA       \n",
       "694 NA            NA            NA  NA            NA            NA       \n",
       "695 NA            NA            NA  NA            NA            NA       \n",
       "696 NA            NA            NA  NA            NA            NA       \n",
       "697 NA            NA            NA  NA            NA            NA       \n",
       "698 NA            NA            NA  NA            NA            NA       \n",
       "    DTXSID0047741 K  Mg Zn ⋯ Si Sr       Ti         Ba        Rb       \n",
       "3   NA            NA NA NA ⋯ NA NA       NA         NA        NA       \n",
       "4   NA            NA NA NA ⋯ NA NA       NA         NA        NA       \n",
       "5   NA            NA NA NA ⋯ NA NA       NA         NA        NA       \n",
       "6   NA            NA NA NA ⋯ NA NA       NA         NA        NA       \n",
       "7   NA            NA NA NA ⋯ NA NA       NA         NA        NA       \n",
       "8   NA            NA NA NA ⋯ NA NA       NA         NA        NA       \n",
       "9   NA            NA NA NA ⋯ NA NA       NA         NA        NA       \n",
       "10  NA            NA NA NA ⋯ NA NA       NA         NA        NA       \n",
       "11  NA            NA NA NA ⋯ NA NA       NA         NA        NA       \n",
       "12  NA            NA NA NA ⋯ NA NA       NA         NA        NA       \n",
       "13  NA            NA NA NA ⋯ NA NA       NA         NA        NA       \n",
       "14  NA            NA NA NA ⋯ NA NA       NA         NA        NA       \n",
       "15  NA            NA NA NA ⋯ NA NA       NA         NA        NA       \n",
       "16  NA            NA NA NA ⋯ NA NA       NA         NA        NA       \n",
       "17  NA            NA NA NA ⋯ NA NA       NA         NA        NA       \n",
       "18  NA            NA NA NA ⋯ NA NA       NA         NA        NA       \n",
       "19  NA            NA NA NA ⋯ NA NA       NA         NA        NA       \n",
       "20  NA            NA NA NA ⋯ NA NA       NA         NA        NA       \n",
       "21  NA            NA NA NA ⋯ NA NA       NA         NA        NA       \n",
       "22  NA            NA NA NA ⋯ NA NA       NA         NA        NA       \n",
       "23  NA            NA NA NA ⋯ NA NA       NA         NA        NA       \n",
       "24  NA            NA NA NA ⋯ NA NA       NA         NA        NA       \n",
       "25  NA            NA NA NA ⋯ NA NA       NA         NA        NA       \n",
       "26  NA            NA NA NA ⋯ NA NA       NA         NA        NA       \n",
       "27  NA            NA NA NA ⋯ NA NA       NA         NA        NA       \n",
       "28  NA            NA NA NA ⋯ NA NA       NA         NA        NA       \n",
       "29  NA            NA NA NA ⋯ NA NA       NA         NA        NA       \n",
       "30  NA            NA NA NA ⋯ NA NA       NA         NA        NA       \n",
       "31  NA            NA NA NA ⋯ NA NA       NA         NA        NA       \n",
       "32  NA            NA NA NA ⋯ NA NA       NA         NA        NA       \n",
       "⋮   ⋮             ⋮  ⋮  ⋮  ⋱ ⋮  ⋮        ⋮          ⋮         ⋮        \n",
       "669 NA            NA NA NA ⋯ NA 185.0059         NA        NA        NA\n",
       "670 NA            NA NA NA ⋯ NA       NA   250.0000        NA        NA\n",
       "671 NA            NA NA NA ⋯ NA       NA   227.0667        NA        NA\n",
       "672 NA            NA NA NA ⋯ NA       NA    24.7500        NA        NA\n",
       "673 NA            NA NA NA ⋯ NA       NA 14700.0000        NA        NA\n",
       "674 NA            NA NA NA ⋯ NA       NA     7.1100        NA        NA\n",
       "675 NA            NA NA NA ⋯ NA       NA   424.0000        NA        NA\n",
       "676 NA            NA NA NA ⋯ NA       NA     0.0320        NA        NA\n",
       "677 NA            NA NA NA ⋯ NA       NA 15443.3333        NA        NA\n",
       "678 NA            NA NA NA ⋯ NA       NA  2000.0000        NA        NA\n",
       "679 NA            NA NA NA ⋯ NA       NA         NA  117.5000        NA\n",
       "680 NA            NA NA NA ⋯ NA       NA         NA 1385.3333        NA\n",
       "681 NA            NA NA NA ⋯ NA       NA         NA  100.5000        NA\n",
       "682 NA            NA NA NA ⋯ NA       NA         NA  699.5000        NA\n",
       "683 NA            NA NA NA ⋯ NA       NA         NA  968.6400        NA\n",
       "684 NA            NA NA NA ⋯ NA       NA         NA  954.7967        NA\n",
       "685 NA            NA NA NA ⋯ NA       NA         NA        NA  52.75000\n",
       "686 NA            NA NA NA ⋯ NA       NA         NA        NA  23.92667\n",
       "687 NA            NA NA NA ⋯ NA       NA         NA        NA 143.41647\n",
       "688 NA            NA NA NA ⋯ NA       NA         NA        NA        NA\n",
       "689 NA            NA NA NA ⋯ NA       NA         NA        NA        NA\n",
       "690 NA            NA NA NA ⋯ NA       NA         NA        NA        NA\n",
       "691 NA            NA NA NA ⋯ NA       NA         NA        NA        NA\n",
       "692 NA            NA NA NA ⋯ NA       NA         NA        NA        NA\n",
       "693 NA            NA NA NA ⋯ NA       NA         NA        NA        NA\n",
       "694 NA            NA NA NA ⋯ NA       NA         NA        NA        NA\n",
       "695 NA            NA NA NA ⋯ NA       NA         NA        NA        NA\n",
       "696 NA            NA NA NA ⋯ NA       NA         NA        NA        NA\n",
       "697 NA            NA NA NA ⋯ NA       NA         NA        NA        NA\n",
       "698 NA            NA NA NA ⋯ NA       NA         NA        NA        NA\n",
       "    DTXSID9059757 Li       Bi       Th        DTXSID1025649\n",
       "3   NA            NA       NA       NA        NA           \n",
       "4   NA            NA       NA       NA        NA           \n",
       "5   NA            NA       NA       NA        NA           \n",
       "6   NA            NA       NA       NA        NA           \n",
       "7   NA            NA       NA       NA        NA           \n",
       "8   NA            NA       NA       NA        NA           \n",
       "9   NA            NA       NA       NA        NA           \n",
       "10  NA            NA       NA       NA        NA           \n",
       "11  NA            NA       NA       NA        NA           \n",
       "12  NA            NA       NA       NA        NA           \n",
       "13  NA            NA       NA       NA        NA           \n",
       "14  NA            NA       NA       NA        NA           \n",
       "15  NA            NA       NA       NA        NA           \n",
       "16  NA            NA       NA       NA        NA           \n",
       "17  NA            NA       NA       NA        NA           \n",
       "18  NA            NA       NA       NA        NA           \n",
       "19  NA            NA       NA       NA        NA           \n",
       "20  NA            NA       NA       NA        NA           \n",
       "21  NA            NA       NA       NA        NA           \n",
       "22  NA            NA       NA       NA        NA           \n",
       "23  NA            NA       NA       NA        NA           \n",
       "24  NA            NA       NA       NA        NA           \n",
       "25  NA            NA       NA       NA        NA           \n",
       "26  NA            NA       NA       NA        NA           \n",
       "27  NA            NA       NA       NA        NA           \n",
       "28  NA            NA       NA       NA        NA           \n",
       "29  NA            NA       NA       NA        NA           \n",
       "30  NA            NA       NA       NA        NA           \n",
       "31  NA            NA       NA       NA        NA           \n",
       "32  NA            NA       NA       NA        NA           \n",
       "⋮   ⋮             ⋮        ⋮        ⋮         ⋮            \n",
       "669       NA            NA       NA        NA NA           \n",
       "670       NA            NA       NA        NA NA           \n",
       "671       NA            NA       NA        NA NA           \n",
       "672       NA            NA       NA        NA NA           \n",
       "673       NA            NA       NA        NA NA           \n",
       "674       NA            NA       NA        NA NA           \n",
       "675       NA            NA       NA        NA NA           \n",
       "676       NA            NA       NA        NA NA           \n",
       "677       NA            NA       NA        NA NA           \n",
       "678       NA            NA       NA        NA NA           \n",
       "679       NA            NA       NA        NA NA           \n",
       "680       NA            NA       NA        NA NA           \n",
       "681       NA            NA       NA        NA NA           \n",
       "682       NA            NA       NA        NA NA           \n",
       "683       NA            NA       NA        NA NA           \n",
       "684       NA            NA       NA        NA NA           \n",
       "685       NA            NA       NA        NA NA           \n",
       "686       NA            NA       NA        NA NA           \n",
       "687       NA            NA       NA        NA NA           \n",
       "688 0.028275            NA       NA        NA NA           \n",
       "689       NA      11.83333       NA        NA NA           \n",
       "690       NA      16.60000       NA        NA NA           \n",
       "691       NA       6.00000       NA        NA NA           \n",
       "692       NA      64.39667       NA        NA NA           \n",
       "693       NA            NA 0.405000        NA NA           \n",
       "694       NA            NA 2.176667        NA NA           \n",
       "695       NA            NA 4.231765        NA NA           \n",
       "696       NA            NA       NA   5.45500 NA           \n",
       "697       NA            NA       NA 500.00000 NA           \n",
       "698       NA            NA       NA  16.55846 NA           "
      ]
     },
     "metadata": {},
     "output_type": "display_data"
    }
   ],
   "source": [
    "l[rowSums(is.na(l)) != ncol(l), ]"
   ]
  },
  {
   "cell_type": "code",
   "execution_count": 55,
   "id": "fc2d7e49-2e89-48d6-9573-0a1301bb409d",
   "metadata": {
    "scrolled": true
   },
   "outputs": [
    {
     "data": {
      "text/html": [
       "<table class=\"dataframe\">\n",
       "<caption>A data.frame: 698 × 30</caption>\n",
       "<thead>\n",
       "\t<tr><th scope=col>DTXSID8074819</th><th scope=col>DTXSID4020878</th><th scope=col>B</th><th scope=col>DTXSID4075459</th><th scope=col>DTXSID4020161</th><th scope=col>Cu</th><th scope=col>DTXSID0047741</th><th scope=col>K</th><th scope=col>Mg</th><th scope=col>Zn</th><th scope=col>⋯</th><th scope=col>Si</th><th scope=col>Sr</th><th scope=col>Ti</th><th scope=col>Ba</th><th scope=col>Rb</th><th scope=col>DTXSID9059757</th><th scope=col>Li</th><th scope=col>Bi</th><th scope=col>Th</th><th scope=col>DTXSID1025649</th></tr>\n",
       "\t<tr><th scope=col>&lt;dbl&gt;</th><th scope=col>&lt;dbl&gt;</th><th scope=col>&lt;dbl&gt;</th><th scope=col>&lt;dbl&gt;</th><th scope=col>&lt;dbl&gt;</th><th scope=col>&lt;dbl&gt;</th><th scope=col>&lt;dbl&gt;</th><th scope=col>&lt;dbl&gt;</th><th scope=col>&lt;dbl&gt;</th><th scope=col>&lt;dbl&gt;</th><th scope=col>⋯</th><th scope=col>&lt;dbl&gt;</th><th scope=col>&lt;dbl&gt;</th><th scope=col>&lt;dbl&gt;</th><th scope=col>&lt;dbl&gt;</th><th scope=col>&lt;dbl&gt;</th><th scope=col>&lt;dbl&gt;</th><th scope=col>&lt;dbl&gt;</th><th scope=col>&lt;dbl&gt;</th><th scope=col>&lt;dbl&gt;</th><th scope=col>&lt;dbl&gt;</th></tr>\n",
       "</thead>\n",
       "<tbody>\n",
       "\t<tr><td>   NA</td><td>    NA</td><td> NA</td><td>       NA</td><td>   NA</td><td>       NA</td><td>NA</td><td>NA</td><td>NA</td><td>NA</td><td>⋯</td><td>NA</td><td>NA</td><td>NA</td><td>NA</td><td>NA</td><td>NA</td><td>NA</td><td>NA</td><td>NA</td><td>NA</td></tr>\n",
       "\t<tr><td>   NA</td><td>    NA</td><td> NA</td><td>       NA</td><td>   NA</td><td>       NA</td><td>NA</td><td>NA</td><td>NA</td><td>NA</td><td>⋯</td><td>NA</td><td>NA</td><td>NA</td><td>NA</td><td>NA</td><td>NA</td><td>NA</td><td>NA</td><td>NA</td><td>NA</td></tr>\n",
       "\t<tr><td> 9.75</td><td>    NA</td><td> NA</td><td>       NA</td><td>   NA</td><td>       NA</td><td>NA</td><td>NA</td><td>NA</td><td>NA</td><td>⋯</td><td>NA</td><td>NA</td><td>NA</td><td>NA</td><td>NA</td><td>NA</td><td>NA</td><td>NA</td><td>NA</td><td>NA</td></tr>\n",
       "\t<tr><td>15.45</td><td>    NA</td><td> NA</td><td>       NA</td><td>   NA</td><td>       NA</td><td>NA</td><td>NA</td><td>NA</td><td>NA</td><td>⋯</td><td>NA</td><td>NA</td><td>NA</td><td>NA</td><td>NA</td><td>NA</td><td>NA</td><td>NA</td><td>NA</td><td>NA</td></tr>\n",
       "\t<tr><td>   NA</td><td>23.500</td><td> NA</td><td>       NA</td><td>   NA</td><td>       NA</td><td>NA</td><td>NA</td><td>NA</td><td>NA</td><td>⋯</td><td>NA</td><td>NA</td><td>NA</td><td>NA</td><td>NA</td><td>NA</td><td>NA</td><td>NA</td><td>NA</td><td>NA</td></tr>\n",
       "\t<tr><td>   NA</td><td> 3.500</td><td> NA</td><td>       NA</td><td>   NA</td><td>       NA</td><td>NA</td><td>NA</td><td>NA</td><td>NA</td><td>⋯</td><td>NA</td><td>NA</td><td>NA</td><td>NA</td><td>NA</td><td>NA</td><td>NA</td><td>NA</td><td>NA</td><td>NA</td></tr>\n",
       "\t<tr><td>   NA</td><td> 5.661</td><td> NA</td><td>       NA</td><td>   NA</td><td>       NA</td><td>NA</td><td>NA</td><td>NA</td><td>NA</td><td>⋯</td><td>NA</td><td>NA</td><td>NA</td><td>NA</td><td>NA</td><td>NA</td><td>NA</td><td>NA</td><td>NA</td><td>NA</td></tr>\n",
       "\t<tr><td>   NA</td><td>    NA</td><td>288</td><td>       NA</td><td>   NA</td><td>       NA</td><td>NA</td><td>NA</td><td>NA</td><td>NA</td><td>⋯</td><td>NA</td><td>NA</td><td>NA</td><td>NA</td><td>NA</td><td>NA</td><td>NA</td><td>NA</td><td>NA</td><td>NA</td></tr>\n",
       "\t<tr><td>   NA</td><td>    NA</td><td> NA</td><td> 21.00000</td><td>   NA</td><td>       NA</td><td>NA</td><td>NA</td><td>NA</td><td>NA</td><td>⋯</td><td>NA</td><td>NA</td><td>NA</td><td>NA</td><td>NA</td><td>NA</td><td>NA</td><td>NA</td><td>NA</td><td>NA</td></tr>\n",
       "\t<tr><td>   NA</td><td>    NA</td><td> NA</td><td>235.42857</td><td>   NA</td><td>       NA</td><td>NA</td><td>NA</td><td>NA</td><td>NA</td><td>⋯</td><td>NA</td><td>NA</td><td>NA</td><td>NA</td><td>NA</td><td>NA</td><td>NA</td><td>NA</td><td>NA</td><td>NA</td></tr>\n",
       "\t<tr><td>   NA</td><td>    NA</td><td> NA</td><td>  0.45000</td><td>   NA</td><td>       NA</td><td>NA</td><td>NA</td><td>NA</td><td>NA</td><td>⋯</td><td>NA</td><td>NA</td><td>NA</td><td>NA</td><td>NA</td><td>NA</td><td>NA</td><td>NA</td><td>NA</td><td>NA</td></tr>\n",
       "\t<tr><td>   NA</td><td>    NA</td><td> NA</td><td> 13.10000</td><td>   NA</td><td>       NA</td><td>NA</td><td>NA</td><td>NA</td><td>NA</td><td>⋯</td><td>NA</td><td>NA</td><td>NA</td><td>NA</td><td>NA</td><td>NA</td><td>NA</td><td>NA</td><td>NA</td><td>NA</td></tr>\n",
       "\t<tr><td>   NA</td><td>    NA</td><td> NA</td><td>257.95000</td><td>   NA</td><td>       NA</td><td>NA</td><td>NA</td><td>NA</td><td>NA</td><td>⋯</td><td>NA</td><td>NA</td><td>NA</td><td>NA</td><td>NA</td><td>NA</td><td>NA</td><td>NA</td><td>NA</td><td>NA</td></tr>\n",
       "\t<tr><td>   NA</td><td>    NA</td><td> NA</td><td>  0.00193</td><td>   NA</td><td>       NA</td><td>NA</td><td>NA</td><td>NA</td><td>NA</td><td>⋯</td><td>NA</td><td>NA</td><td>NA</td><td>NA</td><td>NA</td><td>NA</td><td>NA</td><td>NA</td><td>NA</td><td>NA</td></tr>\n",
       "\t<tr><td>   NA</td><td>    NA</td><td> NA</td><td> 14.98500</td><td>   NA</td><td>       NA</td><td>NA</td><td>NA</td><td>NA</td><td>NA</td><td>⋯</td><td>NA</td><td>NA</td><td>NA</td><td>NA</td><td>NA</td><td>NA</td><td>NA</td><td>NA</td><td>NA</td><td>NA</td></tr>\n",
       "\t<tr><td>   NA</td><td>    NA</td><td> NA</td><td>234.48571</td><td>   NA</td><td>       NA</td><td>NA</td><td>NA</td><td>NA</td><td>NA</td><td>⋯</td><td>NA</td><td>NA</td><td>NA</td><td>NA</td><td>NA</td><td>NA</td><td>NA</td><td>NA</td><td>NA</td><td>NA</td></tr>\n",
       "\t<tr><td>   NA</td><td>    NA</td><td> NA</td><td>       NA</td><td>0.045</td><td>       NA</td><td>NA</td><td>NA</td><td>NA</td><td>NA</td><td>⋯</td><td>NA</td><td>NA</td><td>NA</td><td>NA</td><td>NA</td><td>NA</td><td>NA</td><td>NA</td><td>NA</td><td>NA</td></tr>\n",
       "\t<tr><td>   NA</td><td>    NA</td><td> NA</td><td>       NA</td><td>0.080</td><td>       NA</td><td>NA</td><td>NA</td><td>NA</td><td>NA</td><td>⋯</td><td>NA</td><td>NA</td><td>NA</td><td>NA</td><td>NA</td><td>NA</td><td>NA</td><td>NA</td><td>NA</td><td>NA</td></tr>\n",
       "\t<tr><td>   NA</td><td>    NA</td><td> NA</td><td>       NA</td><td>   NA</td><td> 187.0000</td><td>NA</td><td>NA</td><td>NA</td><td>NA</td><td>⋯</td><td>NA</td><td>NA</td><td>NA</td><td>NA</td><td>NA</td><td>NA</td><td>NA</td><td>NA</td><td>NA</td><td>NA</td></tr>\n",
       "\t<tr><td>   NA</td><td>    NA</td><td> NA</td><td>       NA</td><td>   NA</td><td> 375.0000</td><td>NA</td><td>NA</td><td>NA</td><td>NA</td><td>⋯</td><td>NA</td><td>NA</td><td>NA</td><td>NA</td><td>NA</td><td>NA</td><td>NA</td><td>NA</td><td>NA</td><td>NA</td></tr>\n",
       "\t<tr><td>   NA</td><td>    NA</td><td> NA</td><td>       NA</td><td>   NA</td><td>  50.0000</td><td>NA</td><td>NA</td><td>NA</td><td>NA</td><td>⋯</td><td>NA</td><td>NA</td><td>NA</td><td>NA</td><td>NA</td><td>NA</td><td>NA</td><td>NA</td><td>NA</td><td>NA</td></tr>\n",
       "\t<tr><td>   NA</td><td>    NA</td><td> NA</td><td>       NA</td><td>   NA</td><td>   4.1000</td><td>NA</td><td>NA</td><td>NA</td><td>NA</td><td>⋯</td><td>NA</td><td>NA</td><td>NA</td><td>NA</td><td>NA</td><td>NA</td><td>NA</td><td>NA</td><td>NA</td><td>NA</td></tr>\n",
       "\t<tr><td>   NA</td><td>    NA</td><td> NA</td><td>       NA</td><td>   NA</td><td>  28.8000</td><td>NA</td><td>NA</td><td>NA</td><td>NA</td><td>⋯</td><td>NA</td><td>NA</td><td>NA</td><td>NA</td><td>NA</td><td>NA</td><td>NA</td><td>NA</td><td>NA</td><td>NA</td></tr>\n",
       "\t<tr><td>   NA</td><td>    NA</td><td> NA</td><td>       NA</td><td>   NA</td><td>  28.7275</td><td>NA</td><td>NA</td><td>NA</td><td>NA</td><td>⋯</td><td>NA</td><td>NA</td><td>NA</td><td>NA</td><td>NA</td><td>NA</td><td>NA</td><td>NA</td><td>NA</td><td>NA</td></tr>\n",
       "\t<tr><td>   NA</td><td>    NA</td><td> NA</td><td>       NA</td><td>   NA</td><td> 278.5000</td><td>NA</td><td>NA</td><td>NA</td><td>NA</td><td>⋯</td><td>NA</td><td>NA</td><td>NA</td><td>NA</td><td>NA</td><td>NA</td><td>NA</td><td>NA</td><td>NA</td><td>NA</td></tr>\n",
       "\t<tr><td>   NA</td><td>    NA</td><td> NA</td><td>       NA</td><td>   NA</td><td> 151.3333</td><td>NA</td><td>NA</td><td>NA</td><td>NA</td><td>⋯</td><td>NA</td><td>NA</td><td>NA</td><td>NA</td><td>NA</td><td>NA</td><td>NA</td><td>NA</td><td>NA</td><td>NA</td></tr>\n",
       "\t<tr><td>   NA</td><td>    NA</td><td> NA</td><td>       NA</td><td>   NA</td><td>4100.0000</td><td>NA</td><td>NA</td><td>NA</td><td>NA</td><td>⋯</td><td>NA</td><td>NA</td><td>NA</td><td>NA</td><td>NA</td><td>NA</td><td>NA</td><td>NA</td><td>NA</td><td>NA</td></tr>\n",
       "\t<tr><td>   NA</td><td>    NA</td><td> NA</td><td>       NA</td><td>   NA</td><td>   4.1000</td><td>NA</td><td>NA</td><td>NA</td><td>NA</td><td>⋯</td><td>NA</td><td>NA</td><td>NA</td><td>NA</td><td>NA</td><td>NA</td><td>NA</td><td>NA</td><td>NA</td><td>NA</td></tr>\n",
       "\t<tr><td>   NA</td><td>    NA</td><td> NA</td><td>       NA</td><td>   NA</td><td>   0.3500</td><td>NA</td><td>NA</td><td>NA</td><td>NA</td><td>⋯</td><td>NA</td><td>NA</td><td>NA</td><td>NA</td><td>NA</td><td>NA</td><td>NA</td><td>NA</td><td>NA</td><td>NA</td></tr>\n",
       "\t<tr><td>   NA</td><td>    NA</td><td> NA</td><td>       NA</td><td>   NA</td><td> 266.0000</td><td>NA</td><td>NA</td><td>NA</td><td>NA</td><td>⋯</td><td>NA</td><td>NA</td><td>NA</td><td>NA</td><td>NA</td><td>NA</td><td>NA</td><td>NA</td><td>NA</td><td>NA</td></tr>\n",
       "\t<tr><td>⋮</td><td>⋮</td><td>⋮</td><td>⋮</td><td>⋮</td><td>⋮</td><td>⋮</td><td>⋮</td><td>⋮</td><td>⋮</td><td>⋱</td><td>⋮</td><td>⋮</td><td>⋮</td><td>⋮</td><td>⋮</td><td>⋮</td><td>⋮</td><td>⋮</td><td>⋮</td><td>⋮</td></tr>\n",
       "\t<tr><td>NA</td><td>NA</td><td>NA</td><td>NA</td><td>NA</td><td>NA</td><td>NA</td><td>NA</td><td>NA</td><td>NA</td><td>⋯</td><td>NA</td><td>185.0059</td><td>        NA</td><td>       NA</td><td>       NA</td><td>      NA</td><td>      NA</td><td>      NA</td><td>       NA</td><td>NA</td></tr>\n",
       "\t<tr><td>NA</td><td>NA</td><td>NA</td><td>NA</td><td>NA</td><td>NA</td><td>NA</td><td>NA</td><td>NA</td><td>NA</td><td>⋯</td><td>NA</td><td>      NA</td><td>  250.0000</td><td>       NA</td><td>       NA</td><td>      NA</td><td>      NA</td><td>      NA</td><td>       NA</td><td>NA</td></tr>\n",
       "\t<tr><td>NA</td><td>NA</td><td>NA</td><td>NA</td><td>NA</td><td>NA</td><td>NA</td><td>NA</td><td>NA</td><td>NA</td><td>⋯</td><td>NA</td><td>      NA</td><td>  227.0667</td><td>       NA</td><td>       NA</td><td>      NA</td><td>      NA</td><td>      NA</td><td>       NA</td><td>NA</td></tr>\n",
       "\t<tr><td>NA</td><td>NA</td><td>NA</td><td>NA</td><td>NA</td><td>NA</td><td>NA</td><td>NA</td><td>NA</td><td>NA</td><td>⋯</td><td>NA</td><td>      NA</td><td>   24.7500</td><td>       NA</td><td>       NA</td><td>      NA</td><td>      NA</td><td>      NA</td><td>       NA</td><td>NA</td></tr>\n",
       "\t<tr><td>NA</td><td>NA</td><td>NA</td><td>NA</td><td>NA</td><td>NA</td><td>NA</td><td>NA</td><td>NA</td><td>NA</td><td>⋯</td><td>NA</td><td>      NA</td><td>14700.0000</td><td>       NA</td><td>       NA</td><td>      NA</td><td>      NA</td><td>      NA</td><td>       NA</td><td>NA</td></tr>\n",
       "\t<tr><td>NA</td><td>NA</td><td>NA</td><td>NA</td><td>NA</td><td>NA</td><td>NA</td><td>NA</td><td>NA</td><td>NA</td><td>⋯</td><td>NA</td><td>      NA</td><td>    7.1100</td><td>       NA</td><td>       NA</td><td>      NA</td><td>      NA</td><td>      NA</td><td>       NA</td><td>NA</td></tr>\n",
       "\t<tr><td>NA</td><td>NA</td><td>NA</td><td>NA</td><td>NA</td><td>NA</td><td>NA</td><td>NA</td><td>NA</td><td>NA</td><td>⋯</td><td>NA</td><td>      NA</td><td>  424.0000</td><td>       NA</td><td>       NA</td><td>      NA</td><td>      NA</td><td>      NA</td><td>       NA</td><td>NA</td></tr>\n",
       "\t<tr><td>NA</td><td>NA</td><td>NA</td><td>NA</td><td>NA</td><td>NA</td><td>NA</td><td>NA</td><td>NA</td><td>NA</td><td>⋯</td><td>NA</td><td>      NA</td><td>    0.0320</td><td>       NA</td><td>       NA</td><td>      NA</td><td>      NA</td><td>      NA</td><td>       NA</td><td>NA</td></tr>\n",
       "\t<tr><td>NA</td><td>NA</td><td>NA</td><td>NA</td><td>NA</td><td>NA</td><td>NA</td><td>NA</td><td>NA</td><td>NA</td><td>⋯</td><td>NA</td><td>      NA</td><td>15443.3333</td><td>       NA</td><td>       NA</td><td>      NA</td><td>      NA</td><td>      NA</td><td>       NA</td><td>NA</td></tr>\n",
       "\t<tr><td>NA</td><td>NA</td><td>NA</td><td>NA</td><td>NA</td><td>NA</td><td>NA</td><td>NA</td><td>NA</td><td>NA</td><td>⋯</td><td>NA</td><td>      NA</td><td> 2000.0000</td><td>       NA</td><td>       NA</td><td>      NA</td><td>      NA</td><td>      NA</td><td>       NA</td><td>NA</td></tr>\n",
       "\t<tr><td>NA</td><td>NA</td><td>NA</td><td>NA</td><td>NA</td><td>NA</td><td>NA</td><td>NA</td><td>NA</td><td>NA</td><td>⋯</td><td>NA</td><td>      NA</td><td>        NA</td><td> 117.5000</td><td>       NA</td><td>      NA</td><td>      NA</td><td>      NA</td><td>       NA</td><td>NA</td></tr>\n",
       "\t<tr><td>NA</td><td>NA</td><td>NA</td><td>NA</td><td>NA</td><td>NA</td><td>NA</td><td>NA</td><td>NA</td><td>NA</td><td>⋯</td><td>NA</td><td>      NA</td><td>        NA</td><td>1385.3333</td><td>       NA</td><td>      NA</td><td>      NA</td><td>      NA</td><td>       NA</td><td>NA</td></tr>\n",
       "\t<tr><td>NA</td><td>NA</td><td>NA</td><td>NA</td><td>NA</td><td>NA</td><td>NA</td><td>NA</td><td>NA</td><td>NA</td><td>⋯</td><td>NA</td><td>      NA</td><td>        NA</td><td> 100.5000</td><td>       NA</td><td>      NA</td><td>      NA</td><td>      NA</td><td>       NA</td><td>NA</td></tr>\n",
       "\t<tr><td>NA</td><td>NA</td><td>NA</td><td>NA</td><td>NA</td><td>NA</td><td>NA</td><td>NA</td><td>NA</td><td>NA</td><td>⋯</td><td>NA</td><td>      NA</td><td>        NA</td><td> 699.5000</td><td>       NA</td><td>      NA</td><td>      NA</td><td>      NA</td><td>       NA</td><td>NA</td></tr>\n",
       "\t<tr><td>NA</td><td>NA</td><td>NA</td><td>NA</td><td>NA</td><td>NA</td><td>NA</td><td>NA</td><td>NA</td><td>NA</td><td>⋯</td><td>NA</td><td>      NA</td><td>        NA</td><td> 968.6400</td><td>       NA</td><td>      NA</td><td>      NA</td><td>      NA</td><td>       NA</td><td>NA</td></tr>\n",
       "\t<tr><td>NA</td><td>NA</td><td>NA</td><td>NA</td><td>NA</td><td>NA</td><td>NA</td><td>NA</td><td>NA</td><td>NA</td><td>⋯</td><td>NA</td><td>      NA</td><td>        NA</td><td> 954.7967</td><td>       NA</td><td>      NA</td><td>      NA</td><td>      NA</td><td>       NA</td><td>NA</td></tr>\n",
       "\t<tr><td>NA</td><td>NA</td><td>NA</td><td>NA</td><td>NA</td><td>NA</td><td>NA</td><td>NA</td><td>NA</td><td>NA</td><td>⋯</td><td>NA</td><td>      NA</td><td>        NA</td><td>       NA</td><td> 52.75000</td><td>      NA</td><td>      NA</td><td>      NA</td><td>       NA</td><td>NA</td></tr>\n",
       "\t<tr><td>NA</td><td>NA</td><td>NA</td><td>NA</td><td>NA</td><td>NA</td><td>NA</td><td>NA</td><td>NA</td><td>NA</td><td>⋯</td><td>NA</td><td>      NA</td><td>        NA</td><td>       NA</td><td> 23.92667</td><td>      NA</td><td>      NA</td><td>      NA</td><td>       NA</td><td>NA</td></tr>\n",
       "\t<tr><td>NA</td><td>NA</td><td>NA</td><td>NA</td><td>NA</td><td>NA</td><td>NA</td><td>NA</td><td>NA</td><td>NA</td><td>⋯</td><td>NA</td><td>      NA</td><td>        NA</td><td>       NA</td><td>143.41647</td><td>      NA</td><td>      NA</td><td>      NA</td><td>       NA</td><td>NA</td></tr>\n",
       "\t<tr><td>NA</td><td>NA</td><td>NA</td><td>NA</td><td>NA</td><td>NA</td><td>NA</td><td>NA</td><td>NA</td><td>NA</td><td>⋯</td><td>NA</td><td>      NA</td><td>        NA</td><td>       NA</td><td>       NA</td><td>0.028275</td><td>      NA</td><td>      NA</td><td>       NA</td><td>NA</td></tr>\n",
       "\t<tr><td>NA</td><td>NA</td><td>NA</td><td>NA</td><td>NA</td><td>NA</td><td>NA</td><td>NA</td><td>NA</td><td>NA</td><td>⋯</td><td>NA</td><td>      NA</td><td>        NA</td><td>       NA</td><td>       NA</td><td>      NA</td><td>11.83333</td><td>      NA</td><td>       NA</td><td>NA</td></tr>\n",
       "\t<tr><td>NA</td><td>NA</td><td>NA</td><td>NA</td><td>NA</td><td>NA</td><td>NA</td><td>NA</td><td>NA</td><td>NA</td><td>⋯</td><td>NA</td><td>      NA</td><td>        NA</td><td>       NA</td><td>       NA</td><td>      NA</td><td>16.60000</td><td>      NA</td><td>       NA</td><td>NA</td></tr>\n",
       "\t<tr><td>NA</td><td>NA</td><td>NA</td><td>NA</td><td>NA</td><td>NA</td><td>NA</td><td>NA</td><td>NA</td><td>NA</td><td>⋯</td><td>NA</td><td>      NA</td><td>        NA</td><td>       NA</td><td>       NA</td><td>      NA</td><td> 6.00000</td><td>      NA</td><td>       NA</td><td>NA</td></tr>\n",
       "\t<tr><td>NA</td><td>NA</td><td>NA</td><td>NA</td><td>NA</td><td>NA</td><td>NA</td><td>NA</td><td>NA</td><td>NA</td><td>⋯</td><td>NA</td><td>      NA</td><td>        NA</td><td>       NA</td><td>       NA</td><td>      NA</td><td>64.39667</td><td>      NA</td><td>       NA</td><td>NA</td></tr>\n",
       "\t<tr><td>NA</td><td>NA</td><td>NA</td><td>NA</td><td>NA</td><td>NA</td><td>NA</td><td>NA</td><td>NA</td><td>NA</td><td>⋯</td><td>NA</td><td>      NA</td><td>        NA</td><td>       NA</td><td>       NA</td><td>      NA</td><td>      NA</td><td>0.405000</td><td>       NA</td><td>NA</td></tr>\n",
       "\t<tr><td>NA</td><td>NA</td><td>NA</td><td>NA</td><td>NA</td><td>NA</td><td>NA</td><td>NA</td><td>NA</td><td>NA</td><td>⋯</td><td>NA</td><td>      NA</td><td>        NA</td><td>       NA</td><td>       NA</td><td>      NA</td><td>      NA</td><td>2.176667</td><td>       NA</td><td>NA</td></tr>\n",
       "\t<tr><td>NA</td><td>NA</td><td>NA</td><td>NA</td><td>NA</td><td>NA</td><td>NA</td><td>NA</td><td>NA</td><td>NA</td><td>⋯</td><td>NA</td><td>      NA</td><td>        NA</td><td>       NA</td><td>       NA</td><td>      NA</td><td>      NA</td><td>4.231765</td><td>       NA</td><td>NA</td></tr>\n",
       "\t<tr><td>NA</td><td>NA</td><td>NA</td><td>NA</td><td>NA</td><td>NA</td><td>NA</td><td>NA</td><td>NA</td><td>NA</td><td>⋯</td><td>NA</td><td>      NA</td><td>        NA</td><td>       NA</td><td>       NA</td><td>      NA</td><td>      NA</td><td>      NA</td><td>  5.45500</td><td>NA</td></tr>\n",
       "\t<tr><td>NA</td><td>NA</td><td>NA</td><td>NA</td><td>NA</td><td>NA</td><td>NA</td><td>NA</td><td>NA</td><td>NA</td><td>⋯</td><td>NA</td><td>      NA</td><td>        NA</td><td>       NA</td><td>       NA</td><td>      NA</td><td>      NA</td><td>      NA</td><td>500.00000</td><td>NA</td></tr>\n",
       "\t<tr><td>NA</td><td>NA</td><td>NA</td><td>NA</td><td>NA</td><td>NA</td><td>NA</td><td>NA</td><td>NA</td><td>NA</td><td>⋯</td><td>NA</td><td>      NA</td><td>        NA</td><td>       NA</td><td>       NA</td><td>      NA</td><td>      NA</td><td>      NA</td><td> 16.55846</td><td>NA</td></tr>\n",
       "</tbody>\n",
       "</table>\n"
      ],
      "text/latex": [
       "A data.frame: 698 × 30\n",
       "\\begin{tabular}{lllllllllllllllllllll}\n",
       " DTXSID8074819 & DTXSID4020878 & B & DTXSID4075459 & DTXSID4020161 & Cu & DTXSID0047741 & K & Mg & Zn & ⋯ & Si & Sr & Ti & Ba & Rb & DTXSID9059757 & Li & Bi & Th & DTXSID1025649\\\\\n",
       " <dbl> & <dbl> & <dbl> & <dbl> & <dbl> & <dbl> & <dbl> & <dbl> & <dbl> & <dbl> & ⋯ & <dbl> & <dbl> & <dbl> & <dbl> & <dbl> & <dbl> & <dbl> & <dbl> & <dbl> & <dbl>\\\\\n",
       "\\hline\n",
       "\t    NA &     NA &  NA &        NA &    NA &        NA & NA & NA & NA & NA & ⋯ & NA & NA & NA & NA & NA & NA & NA & NA & NA & NA\\\\\n",
       "\t    NA &     NA &  NA &        NA &    NA &        NA & NA & NA & NA & NA & ⋯ & NA & NA & NA & NA & NA & NA & NA & NA & NA & NA\\\\\n",
       "\t  9.75 &     NA &  NA &        NA &    NA &        NA & NA & NA & NA & NA & ⋯ & NA & NA & NA & NA & NA & NA & NA & NA & NA & NA\\\\\n",
       "\t 15.45 &     NA &  NA &        NA &    NA &        NA & NA & NA & NA & NA & ⋯ & NA & NA & NA & NA & NA & NA & NA & NA & NA & NA\\\\\n",
       "\t    NA & 23.500 &  NA &        NA &    NA &        NA & NA & NA & NA & NA & ⋯ & NA & NA & NA & NA & NA & NA & NA & NA & NA & NA\\\\\n",
       "\t    NA &  3.500 &  NA &        NA &    NA &        NA & NA & NA & NA & NA & ⋯ & NA & NA & NA & NA & NA & NA & NA & NA & NA & NA\\\\\n",
       "\t    NA &  5.661 &  NA &        NA &    NA &        NA & NA & NA & NA & NA & ⋯ & NA & NA & NA & NA & NA & NA & NA & NA & NA & NA\\\\\n",
       "\t    NA &     NA & 288 &        NA &    NA &        NA & NA & NA & NA & NA & ⋯ & NA & NA & NA & NA & NA & NA & NA & NA & NA & NA\\\\\n",
       "\t    NA &     NA &  NA &  21.00000 &    NA &        NA & NA & NA & NA & NA & ⋯ & NA & NA & NA & NA & NA & NA & NA & NA & NA & NA\\\\\n",
       "\t    NA &     NA &  NA & 235.42857 &    NA &        NA & NA & NA & NA & NA & ⋯ & NA & NA & NA & NA & NA & NA & NA & NA & NA & NA\\\\\n",
       "\t    NA &     NA &  NA &   0.45000 &    NA &        NA & NA & NA & NA & NA & ⋯ & NA & NA & NA & NA & NA & NA & NA & NA & NA & NA\\\\\n",
       "\t    NA &     NA &  NA &  13.10000 &    NA &        NA & NA & NA & NA & NA & ⋯ & NA & NA & NA & NA & NA & NA & NA & NA & NA & NA\\\\\n",
       "\t    NA &     NA &  NA & 257.95000 &    NA &        NA & NA & NA & NA & NA & ⋯ & NA & NA & NA & NA & NA & NA & NA & NA & NA & NA\\\\\n",
       "\t    NA &     NA &  NA &   0.00193 &    NA &        NA & NA & NA & NA & NA & ⋯ & NA & NA & NA & NA & NA & NA & NA & NA & NA & NA\\\\\n",
       "\t    NA &     NA &  NA &  14.98500 &    NA &        NA & NA & NA & NA & NA & ⋯ & NA & NA & NA & NA & NA & NA & NA & NA & NA & NA\\\\\n",
       "\t    NA &     NA &  NA & 234.48571 &    NA &        NA & NA & NA & NA & NA & ⋯ & NA & NA & NA & NA & NA & NA & NA & NA & NA & NA\\\\\n",
       "\t    NA &     NA &  NA &        NA & 0.045 &        NA & NA & NA & NA & NA & ⋯ & NA & NA & NA & NA & NA & NA & NA & NA & NA & NA\\\\\n",
       "\t    NA &     NA &  NA &        NA & 0.080 &        NA & NA & NA & NA & NA & ⋯ & NA & NA & NA & NA & NA & NA & NA & NA & NA & NA\\\\\n",
       "\t    NA &     NA &  NA &        NA &    NA &  187.0000 & NA & NA & NA & NA & ⋯ & NA & NA & NA & NA & NA & NA & NA & NA & NA & NA\\\\\n",
       "\t    NA &     NA &  NA &        NA &    NA &  375.0000 & NA & NA & NA & NA & ⋯ & NA & NA & NA & NA & NA & NA & NA & NA & NA & NA\\\\\n",
       "\t    NA &     NA &  NA &        NA &    NA &   50.0000 & NA & NA & NA & NA & ⋯ & NA & NA & NA & NA & NA & NA & NA & NA & NA & NA\\\\\n",
       "\t    NA &     NA &  NA &        NA &    NA &    4.1000 & NA & NA & NA & NA & ⋯ & NA & NA & NA & NA & NA & NA & NA & NA & NA & NA\\\\\n",
       "\t    NA &     NA &  NA &        NA &    NA &   28.8000 & NA & NA & NA & NA & ⋯ & NA & NA & NA & NA & NA & NA & NA & NA & NA & NA\\\\\n",
       "\t    NA &     NA &  NA &        NA &    NA &   28.7275 & NA & NA & NA & NA & ⋯ & NA & NA & NA & NA & NA & NA & NA & NA & NA & NA\\\\\n",
       "\t    NA &     NA &  NA &        NA &    NA &  278.5000 & NA & NA & NA & NA & ⋯ & NA & NA & NA & NA & NA & NA & NA & NA & NA & NA\\\\\n",
       "\t    NA &     NA &  NA &        NA &    NA &  151.3333 & NA & NA & NA & NA & ⋯ & NA & NA & NA & NA & NA & NA & NA & NA & NA & NA\\\\\n",
       "\t    NA &     NA &  NA &        NA &    NA & 4100.0000 & NA & NA & NA & NA & ⋯ & NA & NA & NA & NA & NA & NA & NA & NA & NA & NA\\\\\n",
       "\t    NA &     NA &  NA &        NA &    NA &    4.1000 & NA & NA & NA & NA & ⋯ & NA & NA & NA & NA & NA & NA & NA & NA & NA & NA\\\\\n",
       "\t    NA &     NA &  NA &        NA &    NA &    0.3500 & NA & NA & NA & NA & ⋯ & NA & NA & NA & NA & NA & NA & NA & NA & NA & NA\\\\\n",
       "\t    NA &     NA &  NA &        NA &    NA &  266.0000 & NA & NA & NA & NA & ⋯ & NA & NA & NA & NA & NA & NA & NA & NA & NA & NA\\\\\n",
       "\t ⋮ & ⋮ & ⋮ & ⋮ & ⋮ & ⋮ & ⋮ & ⋮ & ⋮ & ⋮ & ⋱ & ⋮ & ⋮ & ⋮ & ⋮ & ⋮ & ⋮ & ⋮ & ⋮ & ⋮ & ⋮\\\\\n",
       "\t NA & NA & NA & NA & NA & NA & NA & NA & NA & NA & ⋯ & NA & 185.0059 &         NA &        NA &        NA &       NA &       NA &       NA &        NA & NA\\\\\n",
       "\t NA & NA & NA & NA & NA & NA & NA & NA & NA & NA & ⋯ & NA &       NA &   250.0000 &        NA &        NA &       NA &       NA &       NA &        NA & NA\\\\\n",
       "\t NA & NA & NA & NA & NA & NA & NA & NA & NA & NA & ⋯ & NA &       NA &   227.0667 &        NA &        NA &       NA &       NA &       NA &        NA & NA\\\\\n",
       "\t NA & NA & NA & NA & NA & NA & NA & NA & NA & NA & ⋯ & NA &       NA &    24.7500 &        NA &        NA &       NA &       NA &       NA &        NA & NA\\\\\n",
       "\t NA & NA & NA & NA & NA & NA & NA & NA & NA & NA & ⋯ & NA &       NA & 14700.0000 &        NA &        NA &       NA &       NA &       NA &        NA & NA\\\\\n",
       "\t NA & NA & NA & NA & NA & NA & NA & NA & NA & NA & ⋯ & NA &       NA &     7.1100 &        NA &        NA &       NA &       NA &       NA &        NA & NA\\\\\n",
       "\t NA & NA & NA & NA & NA & NA & NA & NA & NA & NA & ⋯ & NA &       NA &   424.0000 &        NA &        NA &       NA &       NA &       NA &        NA & NA\\\\\n",
       "\t NA & NA & NA & NA & NA & NA & NA & NA & NA & NA & ⋯ & NA &       NA &     0.0320 &        NA &        NA &       NA &       NA &       NA &        NA & NA\\\\\n",
       "\t NA & NA & NA & NA & NA & NA & NA & NA & NA & NA & ⋯ & NA &       NA & 15443.3333 &        NA &        NA &       NA &       NA &       NA &        NA & NA\\\\\n",
       "\t NA & NA & NA & NA & NA & NA & NA & NA & NA & NA & ⋯ & NA &       NA &  2000.0000 &        NA &        NA &       NA &       NA &       NA &        NA & NA\\\\\n",
       "\t NA & NA & NA & NA & NA & NA & NA & NA & NA & NA & ⋯ & NA &       NA &         NA &  117.5000 &        NA &       NA &       NA &       NA &        NA & NA\\\\\n",
       "\t NA & NA & NA & NA & NA & NA & NA & NA & NA & NA & ⋯ & NA &       NA &         NA & 1385.3333 &        NA &       NA &       NA &       NA &        NA & NA\\\\\n",
       "\t NA & NA & NA & NA & NA & NA & NA & NA & NA & NA & ⋯ & NA &       NA &         NA &  100.5000 &        NA &       NA &       NA &       NA &        NA & NA\\\\\n",
       "\t NA & NA & NA & NA & NA & NA & NA & NA & NA & NA & ⋯ & NA &       NA &         NA &  699.5000 &        NA &       NA &       NA &       NA &        NA & NA\\\\\n",
       "\t NA & NA & NA & NA & NA & NA & NA & NA & NA & NA & ⋯ & NA &       NA &         NA &  968.6400 &        NA &       NA &       NA &       NA &        NA & NA\\\\\n",
       "\t NA & NA & NA & NA & NA & NA & NA & NA & NA & NA & ⋯ & NA &       NA &         NA &  954.7967 &        NA &       NA &       NA &       NA &        NA & NA\\\\\n",
       "\t NA & NA & NA & NA & NA & NA & NA & NA & NA & NA & ⋯ & NA &       NA &         NA &        NA &  52.75000 &       NA &       NA &       NA &        NA & NA\\\\\n",
       "\t NA & NA & NA & NA & NA & NA & NA & NA & NA & NA & ⋯ & NA &       NA &         NA &        NA &  23.92667 &       NA &       NA &       NA &        NA & NA\\\\\n",
       "\t NA & NA & NA & NA & NA & NA & NA & NA & NA & NA & ⋯ & NA &       NA &         NA &        NA & 143.41647 &       NA &       NA &       NA &        NA & NA\\\\\n",
       "\t NA & NA & NA & NA & NA & NA & NA & NA & NA & NA & ⋯ & NA &       NA &         NA &        NA &        NA & 0.028275 &       NA &       NA &        NA & NA\\\\\n",
       "\t NA & NA & NA & NA & NA & NA & NA & NA & NA & NA & ⋯ & NA &       NA &         NA &        NA &        NA &       NA & 11.83333 &       NA &        NA & NA\\\\\n",
       "\t NA & NA & NA & NA & NA & NA & NA & NA & NA & NA & ⋯ & NA &       NA &         NA &        NA &        NA &       NA & 16.60000 &       NA &        NA & NA\\\\\n",
       "\t NA & NA & NA & NA & NA & NA & NA & NA & NA & NA & ⋯ & NA &       NA &         NA &        NA &        NA &       NA &  6.00000 &       NA &        NA & NA\\\\\n",
       "\t NA & NA & NA & NA & NA & NA & NA & NA & NA & NA & ⋯ & NA &       NA &         NA &        NA &        NA &       NA & 64.39667 &       NA &        NA & NA\\\\\n",
       "\t NA & NA & NA & NA & NA & NA & NA & NA & NA & NA & ⋯ & NA &       NA &         NA &        NA &        NA &       NA &       NA & 0.405000 &        NA & NA\\\\\n",
       "\t NA & NA & NA & NA & NA & NA & NA & NA & NA & NA & ⋯ & NA &       NA &         NA &        NA &        NA &       NA &       NA & 2.176667 &        NA & NA\\\\\n",
       "\t NA & NA & NA & NA & NA & NA & NA & NA & NA & NA & ⋯ & NA &       NA &         NA &        NA &        NA &       NA &       NA & 4.231765 &        NA & NA\\\\\n",
       "\t NA & NA & NA & NA & NA & NA & NA & NA & NA & NA & ⋯ & NA &       NA &         NA &        NA &        NA &       NA &       NA &       NA &   5.45500 & NA\\\\\n",
       "\t NA & NA & NA & NA & NA & NA & NA & NA & NA & NA & ⋯ & NA &       NA &         NA &        NA &        NA &       NA &       NA &       NA & 500.00000 & NA\\\\\n",
       "\t NA & NA & NA & NA & NA & NA & NA & NA & NA & NA & ⋯ & NA &       NA &         NA &        NA &        NA &       NA &       NA &       NA &  16.55846 & NA\\\\\n",
       "\\end{tabular}\n"
      ],
      "text/markdown": [
       "\n",
       "A data.frame: 698 × 30\n",
       "\n",
       "| DTXSID8074819 &lt;dbl&gt; | DTXSID4020878 &lt;dbl&gt; | B &lt;dbl&gt; | DTXSID4075459 &lt;dbl&gt; | DTXSID4020161 &lt;dbl&gt; | Cu &lt;dbl&gt; | DTXSID0047741 &lt;dbl&gt; | K &lt;dbl&gt; | Mg &lt;dbl&gt; | Zn &lt;dbl&gt; | ⋯ ⋯ | Si &lt;dbl&gt; | Sr &lt;dbl&gt; | Ti &lt;dbl&gt; | Ba &lt;dbl&gt; | Rb &lt;dbl&gt; | DTXSID9059757 &lt;dbl&gt; | Li &lt;dbl&gt; | Bi &lt;dbl&gt; | Th &lt;dbl&gt; | DTXSID1025649 &lt;dbl&gt; |\n",
       "|---|---|---|---|---|---|---|---|---|---|---|---|---|---|---|---|---|---|---|---|---|\n",
       "|    NA |     NA |  NA |        NA |    NA |        NA | NA | NA | NA | NA | ⋯ | NA | NA | NA | NA | NA | NA | NA | NA | NA | NA |\n",
       "|    NA |     NA |  NA |        NA |    NA |        NA | NA | NA | NA | NA | ⋯ | NA | NA | NA | NA | NA | NA | NA | NA | NA | NA |\n",
       "|  9.75 |     NA |  NA |        NA |    NA |        NA | NA | NA | NA | NA | ⋯ | NA | NA | NA | NA | NA | NA | NA | NA | NA | NA |\n",
       "| 15.45 |     NA |  NA |        NA |    NA |        NA | NA | NA | NA | NA | ⋯ | NA | NA | NA | NA | NA | NA | NA | NA | NA | NA |\n",
       "|    NA | 23.500 |  NA |        NA |    NA |        NA | NA | NA | NA | NA | ⋯ | NA | NA | NA | NA | NA | NA | NA | NA | NA | NA |\n",
       "|    NA |  3.500 |  NA |        NA |    NA |        NA | NA | NA | NA | NA | ⋯ | NA | NA | NA | NA | NA | NA | NA | NA | NA | NA |\n",
       "|    NA |  5.661 |  NA |        NA |    NA |        NA | NA | NA | NA | NA | ⋯ | NA | NA | NA | NA | NA | NA | NA | NA | NA | NA |\n",
       "|    NA |     NA | 288 |        NA |    NA |        NA | NA | NA | NA | NA | ⋯ | NA | NA | NA | NA | NA | NA | NA | NA | NA | NA |\n",
       "|    NA |     NA |  NA |  21.00000 |    NA |        NA | NA | NA | NA | NA | ⋯ | NA | NA | NA | NA | NA | NA | NA | NA | NA | NA |\n",
       "|    NA |     NA |  NA | 235.42857 |    NA |        NA | NA | NA | NA | NA | ⋯ | NA | NA | NA | NA | NA | NA | NA | NA | NA | NA |\n",
       "|    NA |     NA |  NA |   0.45000 |    NA |        NA | NA | NA | NA | NA | ⋯ | NA | NA | NA | NA | NA | NA | NA | NA | NA | NA |\n",
       "|    NA |     NA |  NA |  13.10000 |    NA |        NA | NA | NA | NA | NA | ⋯ | NA | NA | NA | NA | NA | NA | NA | NA | NA | NA |\n",
       "|    NA |     NA |  NA | 257.95000 |    NA |        NA | NA | NA | NA | NA | ⋯ | NA | NA | NA | NA | NA | NA | NA | NA | NA | NA |\n",
       "|    NA |     NA |  NA |   0.00193 |    NA |        NA | NA | NA | NA | NA | ⋯ | NA | NA | NA | NA | NA | NA | NA | NA | NA | NA |\n",
       "|    NA |     NA |  NA |  14.98500 |    NA |        NA | NA | NA | NA | NA | ⋯ | NA | NA | NA | NA | NA | NA | NA | NA | NA | NA |\n",
       "|    NA |     NA |  NA | 234.48571 |    NA |        NA | NA | NA | NA | NA | ⋯ | NA | NA | NA | NA | NA | NA | NA | NA | NA | NA |\n",
       "|    NA |     NA |  NA |        NA | 0.045 |        NA | NA | NA | NA | NA | ⋯ | NA | NA | NA | NA | NA | NA | NA | NA | NA | NA |\n",
       "|    NA |     NA |  NA |        NA | 0.080 |        NA | NA | NA | NA | NA | ⋯ | NA | NA | NA | NA | NA | NA | NA | NA | NA | NA |\n",
       "|    NA |     NA |  NA |        NA |    NA |  187.0000 | NA | NA | NA | NA | ⋯ | NA | NA | NA | NA | NA | NA | NA | NA | NA | NA |\n",
       "|    NA |     NA |  NA |        NA |    NA |  375.0000 | NA | NA | NA | NA | ⋯ | NA | NA | NA | NA | NA | NA | NA | NA | NA | NA |\n",
       "|    NA |     NA |  NA |        NA |    NA |   50.0000 | NA | NA | NA | NA | ⋯ | NA | NA | NA | NA | NA | NA | NA | NA | NA | NA |\n",
       "|    NA |     NA |  NA |        NA |    NA |    4.1000 | NA | NA | NA | NA | ⋯ | NA | NA | NA | NA | NA | NA | NA | NA | NA | NA |\n",
       "|    NA |     NA |  NA |        NA |    NA |   28.8000 | NA | NA | NA | NA | ⋯ | NA | NA | NA | NA | NA | NA | NA | NA | NA | NA |\n",
       "|    NA |     NA |  NA |        NA |    NA |   28.7275 | NA | NA | NA | NA | ⋯ | NA | NA | NA | NA | NA | NA | NA | NA | NA | NA |\n",
       "|    NA |     NA |  NA |        NA |    NA |  278.5000 | NA | NA | NA | NA | ⋯ | NA | NA | NA | NA | NA | NA | NA | NA | NA | NA |\n",
       "|    NA |     NA |  NA |        NA |    NA |  151.3333 | NA | NA | NA | NA | ⋯ | NA | NA | NA | NA | NA | NA | NA | NA | NA | NA |\n",
       "|    NA |     NA |  NA |        NA |    NA | 4100.0000 | NA | NA | NA | NA | ⋯ | NA | NA | NA | NA | NA | NA | NA | NA | NA | NA |\n",
       "|    NA |     NA |  NA |        NA |    NA |    4.1000 | NA | NA | NA | NA | ⋯ | NA | NA | NA | NA | NA | NA | NA | NA | NA | NA |\n",
       "|    NA |     NA |  NA |        NA |    NA |    0.3500 | NA | NA | NA | NA | ⋯ | NA | NA | NA | NA | NA | NA | NA | NA | NA | NA |\n",
       "|    NA |     NA |  NA |        NA |    NA |  266.0000 | NA | NA | NA | NA | ⋯ | NA | NA | NA | NA | NA | NA | NA | NA | NA | NA |\n",
       "| ⋮ | ⋮ | ⋮ | ⋮ | ⋮ | ⋮ | ⋮ | ⋮ | ⋮ | ⋮ | ⋱ | ⋮ | ⋮ | ⋮ | ⋮ | ⋮ | ⋮ | ⋮ | ⋮ | ⋮ | ⋮ |\n",
       "| NA | NA | NA | NA | NA | NA | NA | NA | NA | NA | ⋯ | NA | 185.0059 |         NA |        NA |        NA |       NA |       NA |       NA |        NA | NA |\n",
       "| NA | NA | NA | NA | NA | NA | NA | NA | NA | NA | ⋯ | NA |       NA |   250.0000 |        NA |        NA |       NA |       NA |       NA |        NA | NA |\n",
       "| NA | NA | NA | NA | NA | NA | NA | NA | NA | NA | ⋯ | NA |       NA |   227.0667 |        NA |        NA |       NA |       NA |       NA |        NA | NA |\n",
       "| NA | NA | NA | NA | NA | NA | NA | NA | NA | NA | ⋯ | NA |       NA |    24.7500 |        NA |        NA |       NA |       NA |       NA |        NA | NA |\n",
       "| NA | NA | NA | NA | NA | NA | NA | NA | NA | NA | ⋯ | NA |       NA | 14700.0000 |        NA |        NA |       NA |       NA |       NA |        NA | NA |\n",
       "| NA | NA | NA | NA | NA | NA | NA | NA | NA | NA | ⋯ | NA |       NA |     7.1100 |        NA |        NA |       NA |       NA |       NA |        NA | NA |\n",
       "| NA | NA | NA | NA | NA | NA | NA | NA | NA | NA | ⋯ | NA |       NA |   424.0000 |        NA |        NA |       NA |       NA |       NA |        NA | NA |\n",
       "| NA | NA | NA | NA | NA | NA | NA | NA | NA | NA | ⋯ | NA |       NA |     0.0320 |        NA |        NA |       NA |       NA |       NA |        NA | NA |\n",
       "| NA | NA | NA | NA | NA | NA | NA | NA | NA | NA | ⋯ | NA |       NA | 15443.3333 |        NA |        NA |       NA |       NA |       NA |        NA | NA |\n",
       "| NA | NA | NA | NA | NA | NA | NA | NA | NA | NA | ⋯ | NA |       NA |  2000.0000 |        NA |        NA |       NA |       NA |       NA |        NA | NA |\n",
       "| NA | NA | NA | NA | NA | NA | NA | NA | NA | NA | ⋯ | NA |       NA |         NA |  117.5000 |        NA |       NA |       NA |       NA |        NA | NA |\n",
       "| NA | NA | NA | NA | NA | NA | NA | NA | NA | NA | ⋯ | NA |       NA |         NA | 1385.3333 |        NA |       NA |       NA |       NA |        NA | NA |\n",
       "| NA | NA | NA | NA | NA | NA | NA | NA | NA | NA | ⋯ | NA |       NA |         NA |  100.5000 |        NA |       NA |       NA |       NA |        NA | NA |\n",
       "| NA | NA | NA | NA | NA | NA | NA | NA | NA | NA | ⋯ | NA |       NA |         NA |  699.5000 |        NA |       NA |       NA |       NA |        NA | NA |\n",
       "| NA | NA | NA | NA | NA | NA | NA | NA | NA | NA | ⋯ | NA |       NA |         NA |  968.6400 |        NA |       NA |       NA |       NA |        NA | NA |\n",
       "| NA | NA | NA | NA | NA | NA | NA | NA | NA | NA | ⋯ | NA |       NA |         NA |  954.7967 |        NA |       NA |       NA |       NA |        NA | NA |\n",
       "| NA | NA | NA | NA | NA | NA | NA | NA | NA | NA | ⋯ | NA |       NA |         NA |        NA |  52.75000 |       NA |       NA |       NA |        NA | NA |\n",
       "| NA | NA | NA | NA | NA | NA | NA | NA | NA | NA | ⋯ | NA |       NA |         NA |        NA |  23.92667 |       NA |       NA |       NA |        NA | NA |\n",
       "| NA | NA | NA | NA | NA | NA | NA | NA | NA | NA | ⋯ | NA |       NA |         NA |        NA | 143.41647 |       NA |       NA |       NA |        NA | NA |\n",
       "| NA | NA | NA | NA | NA | NA | NA | NA | NA | NA | ⋯ | NA |       NA |         NA |        NA |        NA | 0.028275 |       NA |       NA |        NA | NA |\n",
       "| NA | NA | NA | NA | NA | NA | NA | NA | NA | NA | ⋯ | NA |       NA |         NA |        NA |        NA |       NA | 11.83333 |       NA |        NA | NA |\n",
       "| NA | NA | NA | NA | NA | NA | NA | NA | NA | NA | ⋯ | NA |       NA |         NA |        NA |        NA |       NA | 16.60000 |       NA |        NA | NA |\n",
       "| NA | NA | NA | NA | NA | NA | NA | NA | NA | NA | ⋯ | NA |       NA |         NA |        NA |        NA |       NA |  6.00000 |       NA |        NA | NA |\n",
       "| NA | NA | NA | NA | NA | NA | NA | NA | NA | NA | ⋯ | NA |       NA |         NA |        NA |        NA |       NA | 64.39667 |       NA |        NA | NA |\n",
       "| NA | NA | NA | NA | NA | NA | NA | NA | NA | NA | ⋯ | NA |       NA |         NA |        NA |        NA |       NA |       NA | 0.405000 |        NA | NA |\n",
       "| NA | NA | NA | NA | NA | NA | NA | NA | NA | NA | ⋯ | NA |       NA |         NA |        NA |        NA |       NA |       NA | 2.176667 |        NA | NA |\n",
       "| NA | NA | NA | NA | NA | NA | NA | NA | NA | NA | ⋯ | NA |       NA |         NA |        NA |        NA |       NA |       NA | 4.231765 |        NA | NA |\n",
       "| NA | NA | NA | NA | NA | NA | NA | NA | NA | NA | ⋯ | NA |       NA |         NA |        NA |        NA |       NA |       NA |       NA |   5.45500 | NA |\n",
       "| NA | NA | NA | NA | NA | NA | NA | NA | NA | NA | ⋯ | NA |       NA |         NA |        NA |        NA |       NA |       NA |       NA | 500.00000 | NA |\n",
       "| NA | NA | NA | NA | NA | NA | NA | NA | NA | NA | ⋯ | NA |       NA |         NA |        NA |        NA |       NA |       NA |       NA |  16.55846 | NA |\n",
       "\n"
      ],
      "text/plain": [
       "    DTXSID8074819 DTXSID4020878 B   DTXSID4075459 DTXSID4020161 Cu       \n",
       "1      NA             NA         NA        NA        NA                NA\n",
       "2      NA             NA         NA        NA        NA                NA\n",
       "3    9.75             NA         NA        NA        NA                NA\n",
       "4   15.45             NA         NA        NA        NA                NA\n",
       "5      NA         23.500         NA        NA        NA                NA\n",
       "6      NA          3.500         NA        NA        NA                NA\n",
       "7      NA          5.661         NA        NA        NA                NA\n",
       "8      NA             NA        288        NA        NA                NA\n",
       "9      NA             NA         NA  21.00000        NA                NA\n",
       "10     NA             NA         NA 235.42857        NA                NA\n",
       "11     NA             NA         NA   0.45000        NA                NA\n",
       "12     NA             NA         NA  13.10000        NA                NA\n",
       "13     NA             NA         NA 257.95000        NA                NA\n",
       "14     NA             NA         NA   0.00193        NA                NA\n",
       "15     NA             NA         NA  14.98500        NA                NA\n",
       "16     NA             NA         NA 234.48571        NA                NA\n",
       "17     NA             NA         NA        NA     0.045                NA\n",
       "18     NA             NA         NA        NA     0.080                NA\n",
       "19     NA             NA         NA        NA        NA          187.0000\n",
       "20     NA             NA         NA        NA        NA          375.0000\n",
       "21     NA             NA         NA        NA        NA           50.0000\n",
       "22     NA             NA         NA        NA        NA            4.1000\n",
       "23     NA             NA         NA        NA        NA           28.8000\n",
       "24     NA             NA         NA        NA        NA           28.7275\n",
       "25     NA             NA         NA        NA        NA          278.5000\n",
       "26     NA             NA         NA        NA        NA          151.3333\n",
       "27     NA             NA         NA        NA        NA         4100.0000\n",
       "28     NA             NA         NA        NA        NA            4.1000\n",
       "29     NA             NA         NA        NA        NA            0.3500\n",
       "30     NA             NA         NA        NA        NA          266.0000\n",
       "⋮   ⋮             ⋮             ⋮   ⋮             ⋮             ⋮        \n",
       "669 NA            NA            NA  NA            NA            NA       \n",
       "670 NA            NA            NA  NA            NA            NA       \n",
       "671 NA            NA            NA  NA            NA            NA       \n",
       "672 NA            NA            NA  NA            NA            NA       \n",
       "673 NA            NA            NA  NA            NA            NA       \n",
       "674 NA            NA            NA  NA            NA            NA       \n",
       "675 NA            NA            NA  NA            NA            NA       \n",
       "676 NA            NA            NA  NA            NA            NA       \n",
       "677 NA            NA            NA  NA            NA            NA       \n",
       "678 NA            NA            NA  NA            NA            NA       \n",
       "679 NA            NA            NA  NA            NA            NA       \n",
       "680 NA            NA            NA  NA            NA            NA       \n",
       "681 NA            NA            NA  NA            NA            NA       \n",
       "682 NA            NA            NA  NA            NA            NA       \n",
       "683 NA            NA            NA  NA            NA            NA       \n",
       "684 NA            NA            NA  NA            NA            NA       \n",
       "685 NA            NA            NA  NA            NA            NA       \n",
       "686 NA            NA            NA  NA            NA            NA       \n",
       "687 NA            NA            NA  NA            NA            NA       \n",
       "688 NA            NA            NA  NA            NA            NA       \n",
       "689 NA            NA            NA  NA            NA            NA       \n",
       "690 NA            NA            NA  NA            NA            NA       \n",
       "691 NA            NA            NA  NA            NA            NA       \n",
       "692 NA            NA            NA  NA            NA            NA       \n",
       "693 NA            NA            NA  NA            NA            NA       \n",
       "694 NA            NA            NA  NA            NA            NA       \n",
       "695 NA            NA            NA  NA            NA            NA       \n",
       "696 NA            NA            NA  NA            NA            NA       \n",
       "697 NA            NA            NA  NA            NA            NA       \n",
       "698 NA            NA            NA  NA            NA            NA       \n",
       "    DTXSID0047741 K  Mg Zn ⋯ Si Sr       Ti         Ba        Rb       \n",
       "1   NA            NA NA NA ⋯ NA NA       NA         NA        NA       \n",
       "2   NA            NA NA NA ⋯ NA NA       NA         NA        NA       \n",
       "3   NA            NA NA NA ⋯ NA NA       NA         NA        NA       \n",
       "4   NA            NA NA NA ⋯ NA NA       NA         NA        NA       \n",
       "5   NA            NA NA NA ⋯ NA NA       NA         NA        NA       \n",
       "6   NA            NA NA NA ⋯ NA NA       NA         NA        NA       \n",
       "7   NA            NA NA NA ⋯ NA NA       NA         NA        NA       \n",
       "8   NA            NA NA NA ⋯ NA NA       NA         NA        NA       \n",
       "9   NA            NA NA NA ⋯ NA NA       NA         NA        NA       \n",
       "10  NA            NA NA NA ⋯ NA NA       NA         NA        NA       \n",
       "11  NA            NA NA NA ⋯ NA NA       NA         NA        NA       \n",
       "12  NA            NA NA NA ⋯ NA NA       NA         NA        NA       \n",
       "13  NA            NA NA NA ⋯ NA NA       NA         NA        NA       \n",
       "14  NA            NA NA NA ⋯ NA NA       NA         NA        NA       \n",
       "15  NA            NA NA NA ⋯ NA NA       NA         NA        NA       \n",
       "16  NA            NA NA NA ⋯ NA NA       NA         NA        NA       \n",
       "17  NA            NA NA NA ⋯ NA NA       NA         NA        NA       \n",
       "18  NA            NA NA NA ⋯ NA NA       NA         NA        NA       \n",
       "19  NA            NA NA NA ⋯ NA NA       NA         NA        NA       \n",
       "20  NA            NA NA NA ⋯ NA NA       NA         NA        NA       \n",
       "21  NA            NA NA NA ⋯ NA NA       NA         NA        NA       \n",
       "22  NA            NA NA NA ⋯ NA NA       NA         NA        NA       \n",
       "23  NA            NA NA NA ⋯ NA NA       NA         NA        NA       \n",
       "24  NA            NA NA NA ⋯ NA NA       NA         NA        NA       \n",
       "25  NA            NA NA NA ⋯ NA NA       NA         NA        NA       \n",
       "26  NA            NA NA NA ⋯ NA NA       NA         NA        NA       \n",
       "27  NA            NA NA NA ⋯ NA NA       NA         NA        NA       \n",
       "28  NA            NA NA NA ⋯ NA NA       NA         NA        NA       \n",
       "29  NA            NA NA NA ⋯ NA NA       NA         NA        NA       \n",
       "30  NA            NA NA NA ⋯ NA NA       NA         NA        NA       \n",
       "⋮   ⋮             ⋮  ⋮  ⋮  ⋱ ⋮  ⋮        ⋮          ⋮         ⋮        \n",
       "669 NA            NA NA NA ⋯ NA 185.0059         NA        NA        NA\n",
       "670 NA            NA NA NA ⋯ NA       NA   250.0000        NA        NA\n",
       "671 NA            NA NA NA ⋯ NA       NA   227.0667        NA        NA\n",
       "672 NA            NA NA NA ⋯ NA       NA    24.7500        NA        NA\n",
       "673 NA            NA NA NA ⋯ NA       NA 14700.0000        NA        NA\n",
       "674 NA            NA NA NA ⋯ NA       NA     7.1100        NA        NA\n",
       "675 NA            NA NA NA ⋯ NA       NA   424.0000        NA        NA\n",
       "676 NA            NA NA NA ⋯ NA       NA     0.0320        NA        NA\n",
       "677 NA            NA NA NA ⋯ NA       NA 15443.3333        NA        NA\n",
       "678 NA            NA NA NA ⋯ NA       NA  2000.0000        NA        NA\n",
       "679 NA            NA NA NA ⋯ NA       NA         NA  117.5000        NA\n",
       "680 NA            NA NA NA ⋯ NA       NA         NA 1385.3333        NA\n",
       "681 NA            NA NA NA ⋯ NA       NA         NA  100.5000        NA\n",
       "682 NA            NA NA NA ⋯ NA       NA         NA  699.5000        NA\n",
       "683 NA            NA NA NA ⋯ NA       NA         NA  968.6400        NA\n",
       "684 NA            NA NA NA ⋯ NA       NA         NA  954.7967        NA\n",
       "685 NA            NA NA NA ⋯ NA       NA         NA        NA  52.75000\n",
       "686 NA            NA NA NA ⋯ NA       NA         NA        NA  23.92667\n",
       "687 NA            NA NA NA ⋯ NA       NA         NA        NA 143.41647\n",
       "688 NA            NA NA NA ⋯ NA       NA         NA        NA        NA\n",
       "689 NA            NA NA NA ⋯ NA       NA         NA        NA        NA\n",
       "690 NA            NA NA NA ⋯ NA       NA         NA        NA        NA\n",
       "691 NA            NA NA NA ⋯ NA       NA         NA        NA        NA\n",
       "692 NA            NA NA NA ⋯ NA       NA         NA        NA        NA\n",
       "693 NA            NA NA NA ⋯ NA       NA         NA        NA        NA\n",
       "694 NA            NA NA NA ⋯ NA       NA         NA        NA        NA\n",
       "695 NA            NA NA NA ⋯ NA       NA         NA        NA        NA\n",
       "696 NA            NA NA NA ⋯ NA       NA         NA        NA        NA\n",
       "697 NA            NA NA NA ⋯ NA       NA         NA        NA        NA\n",
       "698 NA            NA NA NA ⋯ NA       NA         NA        NA        NA\n",
       "    DTXSID9059757 Li       Bi       Th        DTXSID1025649\n",
       "1   NA            NA       NA       NA        NA           \n",
       "2   NA            NA       NA       NA        NA           \n",
       "3   NA            NA       NA       NA        NA           \n",
       "4   NA            NA       NA       NA        NA           \n",
       "5   NA            NA       NA       NA        NA           \n",
       "6   NA            NA       NA       NA        NA           \n",
       "7   NA            NA       NA       NA        NA           \n",
       "8   NA            NA       NA       NA        NA           \n",
       "9   NA            NA       NA       NA        NA           \n",
       "10  NA            NA       NA       NA        NA           \n",
       "11  NA            NA       NA       NA        NA           \n",
       "12  NA            NA       NA       NA        NA           \n",
       "13  NA            NA       NA       NA        NA           \n",
       "14  NA            NA       NA       NA        NA           \n",
       "15  NA            NA       NA       NA        NA           \n",
       "16  NA            NA       NA       NA        NA           \n",
       "17  NA            NA       NA       NA        NA           \n",
       "18  NA            NA       NA       NA        NA           \n",
       "19  NA            NA       NA       NA        NA           \n",
       "20  NA            NA       NA       NA        NA           \n",
       "21  NA            NA       NA       NA        NA           \n",
       "22  NA            NA       NA       NA        NA           \n",
       "23  NA            NA       NA       NA        NA           \n",
       "24  NA            NA       NA       NA        NA           \n",
       "25  NA            NA       NA       NA        NA           \n",
       "26  NA            NA       NA       NA        NA           \n",
       "27  NA            NA       NA       NA        NA           \n",
       "28  NA            NA       NA       NA        NA           \n",
       "29  NA            NA       NA       NA        NA           \n",
       "30  NA            NA       NA       NA        NA           \n",
       "⋮   ⋮             ⋮        ⋮        ⋮         ⋮            \n",
       "669       NA            NA       NA        NA NA           \n",
       "670       NA            NA       NA        NA NA           \n",
       "671       NA            NA       NA        NA NA           \n",
       "672       NA            NA       NA        NA NA           \n",
       "673       NA            NA       NA        NA NA           \n",
       "674       NA            NA       NA        NA NA           \n",
       "675       NA            NA       NA        NA NA           \n",
       "676       NA            NA       NA        NA NA           \n",
       "677       NA            NA       NA        NA NA           \n",
       "678       NA            NA       NA        NA NA           \n",
       "679       NA            NA       NA        NA NA           \n",
       "680       NA            NA       NA        NA NA           \n",
       "681       NA            NA       NA        NA NA           \n",
       "682       NA            NA       NA        NA NA           \n",
       "683       NA            NA       NA        NA NA           \n",
       "684       NA            NA       NA        NA NA           \n",
       "685       NA            NA       NA        NA NA           \n",
       "686       NA            NA       NA        NA NA           \n",
       "687       NA            NA       NA        NA NA           \n",
       "688 0.028275            NA       NA        NA NA           \n",
       "689       NA      11.83333       NA        NA NA           \n",
       "690       NA      16.60000       NA        NA NA           \n",
       "691       NA       6.00000       NA        NA NA           \n",
       "692       NA      64.39667       NA        NA NA           \n",
       "693       NA            NA 0.405000        NA NA           \n",
       "694       NA            NA 2.176667        NA NA           \n",
       "695       NA            NA 4.231765        NA NA           \n",
       "696       NA            NA       NA   5.45500 NA           \n",
       "697       NA            NA       NA 500.00000 NA           \n",
       "698       NA            NA       NA  16.55846 NA           "
      ]
     },
     "metadata": {},
     "output_type": "display_data"
    }
   ],
   "source": [
    "l"
   ]
  },
  {
   "cell_type": "code",
   "execution_count": 20,
   "id": "71aabfcd-d6a1-4a68-a845-1e890ab2bab7",
   "metadata": {},
   "outputs": [],
   "source": [
    "# # exporting\n",
    "# write.xlsx(processed_df, paste0(Output,\"/\", \"Processed_Data_\", cur_date, \".xlsx\"), \n",
    "#            rowNames = FALSE)"
   ]
  },
  {
   "cell_type": "code",
   "execution_count": null,
   "id": "b003cc96-3d86-4728-be5f-7420fdf4e0e6",
   "metadata": {},
   "outputs": [],
   "source": []
  }
 ],
 "metadata": {
  "kernelspec": {
   "display_name": "R",
   "language": "R",
   "name": "ir"
  },
  "language_info": {
   "codemirror_mode": "r",
   "file_extension": ".r",
   "mimetype": "text/x-r-source",
   "name": "R",
   "pygments_lexer": "r",
   "version": "4.3.1"
  }
 },
 "nbformat": 4,
 "nbformat_minor": 5
}
