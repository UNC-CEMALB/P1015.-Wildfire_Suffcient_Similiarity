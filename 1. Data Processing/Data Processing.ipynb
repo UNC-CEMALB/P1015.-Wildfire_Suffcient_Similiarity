{
 "cells": [
  {
   "cell_type": "code",
   "execution_count": 8,
   "id": "dbfb736a-bc97-4a2f-96f6-553aa3c90c5b",
   "metadata": {},
   "outputs": [],
   "source": [
    "setwd('/Users/alexis/Library/CloudStorage/OneDrive-UniversityofNorthCarolinaatChapelHill/CEMALB_DataAnalysisPM/Projects/P1015. Fire Sufficient Similarity/3. Analyses/2. Data Processing/Input')\n",
    "Output = '/Users/alexis/Library/CloudStorage/OneDrive-UniversityofNorthCarolinaatChapelHill/CEMALB_DataAnalysisPM/Projects/P1015. Fire Sufficient Similarity/3. Analyses/2. Data Processing/Output'\n",
    "cur_date = '012225'\n",
    "\n",
    "library(missForest)\n",
    "library(readxl)\n",
    "library(tidyverse)\n",
    "library(imputeLCMD)\n",
    "library(factoextra)\n",
    "# library(vegan)\n",
    "# library(preprocessCore)\n",
    "\n",
    "# reading in files\n",
    "ws_df = data.frame(Data = 'WS', read_excel(\"Woodsmoke_Data_012125.xlsx\", sheet = 2))\n",
    "wf_df = data.frame(Data = 'WF', read_excel(\"Wildfire_Data_012125.xlsx\", sheet = 2))"
   ]
  },
  {
   "cell_type": "code",
   "execution_count": 9,
   "id": "73a7d5c4-8e2a-4ab5-b13b-046bc35d412e",
   "metadata": {},
   "outputs": [
    {
     "data": {
      "text/html": [
       "<table class=\"dataframe\">\n",
       "<caption>A data.frame: 6 × 11</caption>\n",
       "<thead>\n",
       "\t<tr><th></th><th scope=col>Data</th><th scope=col>HAWC.ID</th><th scope=col>Study</th><th scope=col>Replicate</th><th scope=col>Sample_Number</th><th scope=col>Chemical_Class</th><th scope=col>Metric</th><th scope=col>DTXSID</th><th scope=col>Name</th><th scope=col>Sample_Identifier</th><th scope=col>Value</th></tr>\n",
       "\t<tr><th></th><th scope=col>&lt;chr&gt;</th><th scope=col>&lt;dbl&gt;</th><th scope=col>&lt;chr&gt;</th><th scope=col>&lt;dbl&gt;</th><th scope=col>&lt;dbl&gt;</th><th scope=col>&lt;chr&gt;</th><th scope=col>&lt;chr&gt;</th><th scope=col>&lt;chr&gt;</th><th scope=col>&lt;chr&gt;</th><th scope=col>&lt;chr&gt;</th><th scope=col>&lt;chr&gt;</th></tr>\n",
       "</thead>\n",
       "<tbody>\n",
       "\t<tr><th scope=row>1</th><td>WS</td><td>429174</td><td>Arif et al. 2017</td><td>1</td><td>1</td><td>PAH</td><td>Weight</td><td>DTXSID1074759</td><td>1-Methylchrysene    </td><td>DTXSID1074759_PAH_1</td><td>NA</td></tr>\n",
       "\t<tr><th scope=row>2</th><td>WS</td><td>429174</td><td>Arif et al. 2017</td><td>2</td><td>2</td><td>PAH</td><td>Weight</td><td>DTXSID1074759</td><td>1-Methylchrysene    </td><td>DTXSID1074759_PAH_2</td><td>NA</td></tr>\n",
       "\t<tr><th scope=row>3</th><td>WS</td><td>429174</td><td>Arif et al. 2017</td><td>1</td><td>3</td><td>PAH</td><td>Weight</td><td>DTXSID9020877</td><td>1-Methylnaphthalene </td><td>DTXSID9020877_PAH_3</td><td>NA</td></tr>\n",
       "\t<tr><th scope=row>4</th><td>WS</td><td>429174</td><td>Arif et al. 2017</td><td>2</td><td>4</td><td>PAH</td><td>Weight</td><td>DTXSID9020877</td><td>1-Methylnaphthalene </td><td>DTXSID9020877_PAH_4</td><td>NA</td></tr>\n",
       "\t<tr><th scope=row>5</th><td>WS</td><td>429174</td><td>Arif et al. 2017</td><td>1</td><td>5</td><td>PAH</td><td>Weight</td><td>DTXSID9020877</td><td>1-Methylphenanthrene</td><td>DTXSID9020877_PAH_5</td><td>NA</td></tr>\n",
       "\t<tr><th scope=row>6</th><td>WS</td><td>429174</td><td>Arif et al. 2017</td><td>2</td><td>6</td><td>PAH</td><td>Weight</td><td>DTXSID9020877</td><td>1-Methylphenanthrene</td><td>DTXSID9020877_PAH_6</td><td>NA</td></tr>\n",
       "</tbody>\n",
       "</table>\n"
      ],
      "text/latex": [
       "A data.frame: 6 × 11\n",
       "\\begin{tabular}{r|lllllllllll}\n",
       "  & Data & HAWC.ID & Study & Replicate & Sample\\_Number & Chemical\\_Class & Metric & DTXSID & Name & Sample\\_Identifier & Value\\\\\n",
       "  & <chr> & <dbl> & <chr> & <dbl> & <dbl> & <chr> & <chr> & <chr> & <chr> & <chr> & <chr>\\\\\n",
       "\\hline\n",
       "\t1 & WS & 429174 & Arif et al. 2017 & 1 & 1 & PAH & Weight & DTXSID1074759 & 1-Methylchrysene     & DTXSID1074759\\_PAH\\_1 & NA\\\\\n",
       "\t2 & WS & 429174 & Arif et al. 2017 & 2 & 2 & PAH & Weight & DTXSID1074759 & 1-Methylchrysene     & DTXSID1074759\\_PAH\\_2 & NA\\\\\n",
       "\t3 & WS & 429174 & Arif et al. 2017 & 1 & 3 & PAH & Weight & DTXSID9020877 & 1-Methylnaphthalene  & DTXSID9020877\\_PAH\\_3 & NA\\\\\n",
       "\t4 & WS & 429174 & Arif et al. 2017 & 2 & 4 & PAH & Weight & DTXSID9020877 & 1-Methylnaphthalene  & DTXSID9020877\\_PAH\\_4 & NA\\\\\n",
       "\t5 & WS & 429174 & Arif et al. 2017 & 1 & 5 & PAH & Weight & DTXSID9020877 & 1-Methylphenanthrene & DTXSID9020877\\_PAH\\_5 & NA\\\\\n",
       "\t6 & WS & 429174 & Arif et al. 2017 & 2 & 6 & PAH & Weight & DTXSID9020877 & 1-Methylphenanthrene & DTXSID9020877\\_PAH\\_6 & NA\\\\\n",
       "\\end{tabular}\n"
      ],
      "text/markdown": [
       "\n",
       "A data.frame: 6 × 11\n",
       "\n",
       "| <!--/--> | Data &lt;chr&gt; | HAWC.ID &lt;dbl&gt; | Study &lt;chr&gt; | Replicate &lt;dbl&gt; | Sample_Number &lt;dbl&gt; | Chemical_Class &lt;chr&gt; | Metric &lt;chr&gt; | DTXSID &lt;chr&gt; | Name &lt;chr&gt; | Sample_Identifier &lt;chr&gt; | Value &lt;chr&gt; |\n",
       "|---|---|---|---|---|---|---|---|---|---|---|---|\n",
       "| 1 | WS | 429174 | Arif et al. 2017 | 1 | 1 | PAH | Weight | DTXSID1074759 | 1-Methylchrysene     | DTXSID1074759_PAH_1 | NA |\n",
       "| 2 | WS | 429174 | Arif et al. 2017 | 2 | 2 | PAH | Weight | DTXSID1074759 | 1-Methylchrysene     | DTXSID1074759_PAH_2 | NA |\n",
       "| 3 | WS | 429174 | Arif et al. 2017 | 1 | 3 | PAH | Weight | DTXSID9020877 | 1-Methylnaphthalene  | DTXSID9020877_PAH_3 | NA |\n",
       "| 4 | WS | 429174 | Arif et al. 2017 | 2 | 4 | PAH | Weight | DTXSID9020877 | 1-Methylnaphthalene  | DTXSID9020877_PAH_4 | NA |\n",
       "| 5 | WS | 429174 | Arif et al. 2017 | 1 | 5 | PAH | Weight | DTXSID9020877 | 1-Methylphenanthrene | DTXSID9020877_PAH_5 | NA |\n",
       "| 6 | WS | 429174 | Arif et al. 2017 | 2 | 6 | PAH | Weight | DTXSID9020877 | 1-Methylphenanthrene | DTXSID9020877_PAH_6 | NA |\n",
       "\n"
      ],
      "text/plain": [
       "  Data HAWC.ID Study            Replicate Sample_Number Chemical_Class Metric\n",
       "1 WS   429174  Arif et al. 2017 1         1             PAH            Weight\n",
       "2 WS   429174  Arif et al. 2017 2         2             PAH            Weight\n",
       "3 WS   429174  Arif et al. 2017 1         3             PAH            Weight\n",
       "4 WS   429174  Arif et al. 2017 2         4             PAH            Weight\n",
       "5 WS   429174  Arif et al. 2017 1         5             PAH            Weight\n",
       "6 WS   429174  Arif et al. 2017 2         6             PAH            Weight\n",
       "  DTXSID        Name                 Sample_Identifier   Value\n",
       "1 DTXSID1074759 1-Methylchrysene     DTXSID1074759_PAH_1 NA   \n",
       "2 DTXSID1074759 1-Methylchrysene     DTXSID1074759_PAH_2 NA   \n",
       "3 DTXSID9020877 1-Methylnaphthalene  DTXSID9020877_PAH_3 NA   \n",
       "4 DTXSID9020877 1-Methylnaphthalene  DTXSID9020877_PAH_4 NA   \n",
       "5 DTXSID9020877 1-Methylphenanthrene DTXSID9020877_PAH_5 NA   \n",
       "6 DTXSID9020877 1-Methylphenanthrene DTXSID9020877_PAH_6 NA   "
      ]
     },
     "metadata": {},
     "output_type": "display_data"
    },
    {
     "data": {
      "text/html": [
       "<table class=\"dataframe\">\n",
       "<caption>A data.frame: 6 × 10</caption>\n",
       "<thead>\n",
       "\t<tr><th></th><th scope=col>Data</th><th scope=col>HAWC.ID</th><th scope=col>Study</th><th scope=col>Sample_Number</th><th scope=col>Chemical_Class</th><th scope=col>Metric</th><th scope=col>DTXSID</th><th scope=col>Name</th><th scope=col>Sample_Identifier</th><th scope=col>Value</th></tr>\n",
       "\t<tr><th></th><th scope=col>&lt;chr&gt;</th><th scope=col>&lt;dbl&gt;</th><th scope=col>&lt;chr&gt;</th><th scope=col>&lt;dbl&gt;</th><th scope=col>&lt;chr&gt;</th><th scope=col>&lt;chr&gt;</th><th scope=col>&lt;chr&gt;</th><th scope=col>&lt;chr&gt;</th><th scope=col>&lt;chr&gt;</th><th scope=col>&lt;chr&gt;</th></tr>\n",
       "</thead>\n",
       "<tbody>\n",
       "\t<tr><th scope=row>1</th><td>WF</td><td>1289737</td><td>Campbell et al. 2024</td><td>1</td><td>PAH</td><td>Weight</td><td>DTXSID6024254</td><td>Phenanthrene           </td><td>DTXSID6024254_PAH_1</td><td>0.154</td></tr>\n",
       "\t<tr><th scope=row>2</th><td>WF</td><td>1289737</td><td>Campbell et al. 2024</td><td>1</td><td>PAH</td><td>Weight</td><td>DTXSID1074759</td><td>1-Methylchrysene       </td><td>DTXSID1074759_PAH_1</td><td>NA   </td></tr>\n",
       "\t<tr><th scope=row>3</th><td>WF</td><td>1289737</td><td>Campbell et al. 2024</td><td>1</td><td>PAH</td><td>Weight</td><td>DTXSID9020877</td><td>1-Methylnaphthalene    </td><td>DTXSID9020877_PAH_1</td><td>NA   </td></tr>\n",
       "\t<tr><th scope=row>4</th><td>WF</td><td>1289737</td><td>Campbell et al. 2024</td><td>1</td><td>PAH</td><td>Weight</td><td>DTXSID0029187</td><td>2,6-Dimethylnaphthalene</td><td>DTXSID0029187_PAH_1</td><td>NA   </td></tr>\n",
       "\t<tr><th scope=row>5</th><td>WF</td><td>1289737</td><td>Campbell et al. 2024</td><td>1</td><td>PAH</td><td>Weight</td><td>DTXSID4020878</td><td>2-Methylnaphthalene    </td><td>DTXSID4020878_PAH_1</td><td>NA   </td></tr>\n",
       "\t<tr><th scope=row>6</th><td>WF</td><td>1289737</td><td>Campbell et al. 2024</td><td>1</td><td>PAH</td><td>Weight</td><td>DTXSID3061134</td><td>9-Methylanthracene     </td><td>DTXSID3061134_PAH_1</td><td>NA   </td></tr>\n",
       "</tbody>\n",
       "</table>\n"
      ],
      "text/latex": [
       "A data.frame: 6 × 10\n",
       "\\begin{tabular}{r|llllllllll}\n",
       "  & Data & HAWC.ID & Study & Sample\\_Number & Chemical\\_Class & Metric & DTXSID & Name & Sample\\_Identifier & Value\\\\\n",
       "  & <chr> & <dbl> & <chr> & <dbl> & <chr> & <chr> & <chr> & <chr> & <chr> & <chr>\\\\\n",
       "\\hline\n",
       "\t1 & WF & 1289737 & Campbell et al. 2024 & 1 & PAH & Weight & DTXSID6024254 & Phenanthrene            & DTXSID6024254\\_PAH\\_1 & 0.154\\\\\n",
       "\t2 & WF & 1289737 & Campbell et al. 2024 & 1 & PAH & Weight & DTXSID1074759 & 1-Methylchrysene        & DTXSID1074759\\_PAH\\_1 & NA   \\\\\n",
       "\t3 & WF & 1289737 & Campbell et al. 2024 & 1 & PAH & Weight & DTXSID9020877 & 1-Methylnaphthalene     & DTXSID9020877\\_PAH\\_1 & NA   \\\\\n",
       "\t4 & WF & 1289737 & Campbell et al. 2024 & 1 & PAH & Weight & DTXSID0029187 & 2,6-Dimethylnaphthalene & DTXSID0029187\\_PAH\\_1 & NA   \\\\\n",
       "\t5 & WF & 1289737 & Campbell et al. 2024 & 1 & PAH & Weight & DTXSID4020878 & 2-Methylnaphthalene     & DTXSID4020878\\_PAH\\_1 & NA   \\\\\n",
       "\t6 & WF & 1289737 & Campbell et al. 2024 & 1 & PAH & Weight & DTXSID3061134 & 9-Methylanthracene      & DTXSID3061134\\_PAH\\_1 & NA   \\\\\n",
       "\\end{tabular}\n"
      ],
      "text/markdown": [
       "\n",
       "A data.frame: 6 × 10\n",
       "\n",
       "| <!--/--> | Data &lt;chr&gt; | HAWC.ID &lt;dbl&gt; | Study &lt;chr&gt; | Sample_Number &lt;dbl&gt; | Chemical_Class &lt;chr&gt; | Metric &lt;chr&gt; | DTXSID &lt;chr&gt; | Name &lt;chr&gt; | Sample_Identifier &lt;chr&gt; | Value &lt;chr&gt; |\n",
       "|---|---|---|---|---|---|---|---|---|---|---|\n",
       "| 1 | WF | 1289737 | Campbell et al. 2024 | 1 | PAH | Weight | DTXSID6024254 | Phenanthrene            | DTXSID6024254_PAH_1 | 0.154 |\n",
       "| 2 | WF | 1289737 | Campbell et al. 2024 | 1 | PAH | Weight | DTXSID1074759 | 1-Methylchrysene        | DTXSID1074759_PAH_1 | NA    |\n",
       "| 3 | WF | 1289737 | Campbell et al. 2024 | 1 | PAH | Weight | DTXSID9020877 | 1-Methylnaphthalene     | DTXSID9020877_PAH_1 | NA    |\n",
       "| 4 | WF | 1289737 | Campbell et al. 2024 | 1 | PAH | Weight | DTXSID0029187 | 2,6-Dimethylnaphthalene | DTXSID0029187_PAH_1 | NA    |\n",
       "| 5 | WF | 1289737 | Campbell et al. 2024 | 1 | PAH | Weight | DTXSID4020878 | 2-Methylnaphthalene     | DTXSID4020878_PAH_1 | NA    |\n",
       "| 6 | WF | 1289737 | Campbell et al. 2024 | 1 | PAH | Weight | DTXSID3061134 | 9-Methylanthracene      | DTXSID3061134_PAH_1 | NA    |\n",
       "\n"
      ],
      "text/plain": [
       "  Data HAWC.ID Study                Sample_Number Chemical_Class Metric\n",
       "1 WF   1289737 Campbell et al. 2024 1             PAH            Weight\n",
       "2 WF   1289737 Campbell et al. 2024 1             PAH            Weight\n",
       "3 WF   1289737 Campbell et al. 2024 1             PAH            Weight\n",
       "4 WF   1289737 Campbell et al. 2024 1             PAH            Weight\n",
       "5 WF   1289737 Campbell et al. 2024 1             PAH            Weight\n",
       "6 WF   1289737 Campbell et al. 2024 1             PAH            Weight\n",
       "  DTXSID        Name                    Sample_Identifier   Value\n",
       "1 DTXSID6024254 Phenanthrene            DTXSID6024254_PAH_1 0.154\n",
       "2 DTXSID1074759 1-Methylchrysene        DTXSID1074759_PAH_1 NA   \n",
       "3 DTXSID9020877 1-Methylnaphthalene     DTXSID9020877_PAH_1 NA   \n",
       "4 DTXSID0029187 2,6-Dimethylnaphthalene DTXSID0029187_PAH_1 NA   \n",
       "5 DTXSID4020878 2-Methylnaphthalene     DTXSID4020878_PAH_1 NA   \n",
       "6 DTXSID3061134 9-Methylanthracene      DTXSID3061134_PAH_1 NA   "
      ]
     },
     "metadata": {},
     "output_type": "display_data"
    }
   ],
   "source": [
    "head(ws_df)\n",
    "head(wf_df)"
   ]
  },
  {
   "cell_type": "code",
   "execution_count": null,
   "id": "7f559f92-40ed-4399-9937-a9416515386d",
   "metadata": {},
   "outputs": [],
   "source": []
  }
 ],
 "metadata": {
  "kernelspec": {
   "display_name": "R",
   "language": "R",
   "name": "ir"
  },
  "language_info": {
   "codemirror_mode": "r",
   "file_extension": ".r",
   "mimetype": "text/x-r-source",
   "name": "R",
   "pygments_lexer": "r",
   "version": "4.3.1"
  }
 },
 "nbformat": 4,
 "nbformat_minor": 5
}
