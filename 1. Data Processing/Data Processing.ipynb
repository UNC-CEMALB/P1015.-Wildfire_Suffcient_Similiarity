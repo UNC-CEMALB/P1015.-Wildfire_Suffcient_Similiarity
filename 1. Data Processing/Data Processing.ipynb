{
 "cells": [
  {
   "cell_type": "code",
   "execution_count": 16,
   "id": "dbfb736a-bc97-4a2f-96f6-553aa3c90c5b",
   "metadata": {},
   "outputs": [],
   "source": [
    "#setwd('/Users/alexis/Library/CloudStorage/OneDrive-UniversityofNorthCarolinaatChapelHill/CEMALB_DataAnalysisPM/Projects/P1015. Fire Sufficient Similarity/3. Analyses/2. Data Processing/Input')\n",
    "Output = '/Users/alexis/Library/CloudStorage/OneDrive-UniversityofNorthCarolinaatChapelHill/CEMALB_DataAnalysisPM/Projects/P1015. Fire Sufficient Similarity/3. Analyses/2. Data Processing/Output'\n",
    "cur_date = '012325'\n",
    "\n",
    "library(missForest)\n",
    "library(readxl)\n",
    "library(tidyverse)\n",
    "library(imputeLCMD)\n",
    "library(factoextra)\n",
    "# library(vegan)\n",
    "# library(preprocessCore)\n",
    "\n",
    "# reading in files\n",
    "ws_df = data.frame(Data = 'WS', read_excel(\"Input/Woodsmoke_Data_012325.xlsx\", sheet = 2))\n",
    "wf_df = data.frame(Data = 'WF', read_excel(\"Input/Wildfire_Data_012325.xlsx\", sheet = 2)) %>%\n",
    "    # removing samples that weren't measured at all \n",
    "    filter(!is.na(Replicate))\n",
    "wf_df$Value = as.numeric(wf_df$Value)"
   ]
  },
  {
   "cell_type": "code",
   "execution_count": 17,
   "id": "73a7d5c4-8e2a-4ab5-b13b-046bc35d412e",
   "metadata": {},
   "outputs": [
    {
     "data": {
      "text/html": [
       "<table class=\"dataframe\">\n",
       "<caption>A data.frame: 6 × 11</caption>\n",
       "<thead>\n",
       "\t<tr><th></th><th scope=col>Data</th><th scope=col>HAWC_ID</th><th scope=col>Study</th><th scope=col>Replicate</th><th scope=col>Sample_Number</th><th scope=col>Chemical_Class</th><th scope=col>Metric</th><th scope=col>DTXSID</th><th scope=col>Name</th><th scope=col>Sample_Identifier</th><th scope=col>Value</th></tr>\n",
       "\t<tr><th></th><th scope=col>&lt;chr&gt;</th><th scope=col>&lt;dbl&gt;</th><th scope=col>&lt;chr&gt;</th><th scope=col>&lt;dbl&gt;</th><th scope=col>&lt;dbl&gt;</th><th scope=col>&lt;chr&gt;</th><th scope=col>&lt;chr&gt;</th><th scope=col>&lt;chr&gt;</th><th scope=col>&lt;chr&gt;</th><th scope=col>&lt;chr&gt;</th><th scope=col>&lt;chr&gt;</th></tr>\n",
       "</thead>\n",
       "<tbody>\n",
       "\t<tr><th scope=row>1</th><td>WS</td><td>429174</td><td>Arif et al. 2017</td><td>1</td><td>1</td><td>PAH</td><td>Weight</td><td>DTXSID1074759</td><td>1-Methylchrysene    </td><td>DTXSID1074759_PAH_1</td><td>NA</td></tr>\n",
       "\t<tr><th scope=row>2</th><td>WS</td><td>429174</td><td>Arif et al. 2017</td><td>2</td><td>2</td><td>PAH</td><td>Weight</td><td>DTXSID1074759</td><td>1-Methylchrysene    </td><td>DTXSID1074759_PAH_2</td><td>NA</td></tr>\n",
       "\t<tr><th scope=row>3</th><td>WS</td><td>429174</td><td>Arif et al. 2017</td><td>1</td><td>3</td><td>PAH</td><td>Weight</td><td>DTXSID9020877</td><td>1-Methylnaphthalene </td><td>DTXSID9020877_PAH_3</td><td>NA</td></tr>\n",
       "\t<tr><th scope=row>4</th><td>WS</td><td>429174</td><td>Arif et al. 2017</td><td>2</td><td>4</td><td>PAH</td><td>Weight</td><td>DTXSID9020877</td><td>1-Methylnaphthalene </td><td>DTXSID9020877_PAH_4</td><td>NA</td></tr>\n",
       "\t<tr><th scope=row>5</th><td>WS</td><td>429174</td><td>Arif et al. 2017</td><td>1</td><td>5</td><td>PAH</td><td>Weight</td><td>DTXSID9020877</td><td>1-Methylphenanthrene</td><td>DTXSID9020877_PAH_5</td><td>NA</td></tr>\n",
       "\t<tr><th scope=row>6</th><td>WS</td><td>429174</td><td>Arif et al. 2017</td><td>2</td><td>6</td><td>PAH</td><td>Weight</td><td>DTXSID9020877</td><td>1-Methylphenanthrene</td><td>DTXSID9020877_PAH_6</td><td>NA</td></tr>\n",
       "</tbody>\n",
       "</table>\n"
      ],
      "text/latex": [
       "A data.frame: 6 × 11\n",
       "\\begin{tabular}{r|lllllllllll}\n",
       "  & Data & HAWC\\_ID & Study & Replicate & Sample\\_Number & Chemical\\_Class & Metric & DTXSID & Name & Sample\\_Identifier & Value\\\\\n",
       "  & <chr> & <dbl> & <chr> & <dbl> & <dbl> & <chr> & <chr> & <chr> & <chr> & <chr> & <chr>\\\\\n",
       "\\hline\n",
       "\t1 & WS & 429174 & Arif et al. 2017 & 1 & 1 & PAH & Weight & DTXSID1074759 & 1-Methylchrysene     & DTXSID1074759\\_PAH\\_1 & NA\\\\\n",
       "\t2 & WS & 429174 & Arif et al. 2017 & 2 & 2 & PAH & Weight & DTXSID1074759 & 1-Methylchrysene     & DTXSID1074759\\_PAH\\_2 & NA\\\\\n",
       "\t3 & WS & 429174 & Arif et al. 2017 & 1 & 3 & PAH & Weight & DTXSID9020877 & 1-Methylnaphthalene  & DTXSID9020877\\_PAH\\_3 & NA\\\\\n",
       "\t4 & WS & 429174 & Arif et al. 2017 & 2 & 4 & PAH & Weight & DTXSID9020877 & 1-Methylnaphthalene  & DTXSID9020877\\_PAH\\_4 & NA\\\\\n",
       "\t5 & WS & 429174 & Arif et al. 2017 & 1 & 5 & PAH & Weight & DTXSID9020877 & 1-Methylphenanthrene & DTXSID9020877\\_PAH\\_5 & NA\\\\\n",
       "\t6 & WS & 429174 & Arif et al. 2017 & 2 & 6 & PAH & Weight & DTXSID9020877 & 1-Methylphenanthrene & DTXSID9020877\\_PAH\\_6 & NA\\\\\n",
       "\\end{tabular}\n"
      ],
      "text/markdown": [
       "\n",
       "A data.frame: 6 × 11\n",
       "\n",
       "| <!--/--> | Data &lt;chr&gt; | HAWC_ID &lt;dbl&gt; | Study &lt;chr&gt; | Replicate &lt;dbl&gt; | Sample_Number &lt;dbl&gt; | Chemical_Class &lt;chr&gt; | Metric &lt;chr&gt; | DTXSID &lt;chr&gt; | Name &lt;chr&gt; | Sample_Identifier &lt;chr&gt; | Value &lt;chr&gt; |\n",
       "|---|---|---|---|---|---|---|---|---|---|---|---|\n",
       "| 1 | WS | 429174 | Arif et al. 2017 | 1 | 1 | PAH | Weight | DTXSID1074759 | 1-Methylchrysene     | DTXSID1074759_PAH_1 | NA |\n",
       "| 2 | WS | 429174 | Arif et al. 2017 | 2 | 2 | PAH | Weight | DTXSID1074759 | 1-Methylchrysene     | DTXSID1074759_PAH_2 | NA |\n",
       "| 3 | WS | 429174 | Arif et al. 2017 | 1 | 3 | PAH | Weight | DTXSID9020877 | 1-Methylnaphthalene  | DTXSID9020877_PAH_3 | NA |\n",
       "| 4 | WS | 429174 | Arif et al. 2017 | 2 | 4 | PAH | Weight | DTXSID9020877 | 1-Methylnaphthalene  | DTXSID9020877_PAH_4 | NA |\n",
       "| 5 | WS | 429174 | Arif et al. 2017 | 1 | 5 | PAH | Weight | DTXSID9020877 | 1-Methylphenanthrene | DTXSID9020877_PAH_5 | NA |\n",
       "| 6 | WS | 429174 | Arif et al. 2017 | 2 | 6 | PAH | Weight | DTXSID9020877 | 1-Methylphenanthrene | DTXSID9020877_PAH_6 | NA |\n",
       "\n"
      ],
      "text/plain": [
       "  Data HAWC_ID Study            Replicate Sample_Number Chemical_Class Metric\n",
       "1 WS   429174  Arif et al. 2017 1         1             PAH            Weight\n",
       "2 WS   429174  Arif et al. 2017 2         2             PAH            Weight\n",
       "3 WS   429174  Arif et al. 2017 1         3             PAH            Weight\n",
       "4 WS   429174  Arif et al. 2017 2         4             PAH            Weight\n",
       "5 WS   429174  Arif et al. 2017 1         5             PAH            Weight\n",
       "6 WS   429174  Arif et al. 2017 2         6             PAH            Weight\n",
       "  DTXSID        Name                 Sample_Identifier   Value\n",
       "1 DTXSID1074759 1-Methylchrysene     DTXSID1074759_PAH_1 NA   \n",
       "2 DTXSID1074759 1-Methylchrysene     DTXSID1074759_PAH_2 NA   \n",
       "3 DTXSID9020877 1-Methylnaphthalene  DTXSID9020877_PAH_3 NA   \n",
       "4 DTXSID9020877 1-Methylnaphthalene  DTXSID9020877_PAH_4 NA   \n",
       "5 DTXSID9020877 1-Methylphenanthrene DTXSID9020877_PAH_5 NA   \n",
       "6 DTXSID9020877 1-Methylphenanthrene DTXSID9020877_PAH_6 NA   "
      ]
     },
     "metadata": {},
     "output_type": "display_data"
    },
    {
     "data": {
      "text/html": [
       "<table class=\"dataframe\">\n",
       "<caption>A data.frame: 6 × 10</caption>\n",
       "<thead>\n",
       "\t<tr><th></th><th scope=col>Data</th><th scope=col>HAWC_ID</th><th scope=col>Study</th><th scope=col>Replicate</th><th scope=col>Sample_Number</th><th scope=col>Chemical_Class</th><th scope=col>Metric</th><th scope=col>DTXSID</th><th scope=col>Name</th><th scope=col>Value</th></tr>\n",
       "\t<tr><th></th><th scope=col>&lt;chr&gt;</th><th scope=col>&lt;dbl&gt;</th><th scope=col>&lt;chr&gt;</th><th scope=col>&lt;dbl&gt;</th><th scope=col>&lt;dbl&gt;</th><th scope=col>&lt;chr&gt;</th><th scope=col>&lt;chr&gt;</th><th scope=col>&lt;chr&gt;</th><th scope=col>&lt;chr&gt;</th><th scope=col>&lt;dbl&gt;</th></tr>\n",
       "</thead>\n",
       "<tbody>\n",
       "\t<tr><th scope=row>1</th><td>WF</td><td>1289821</td><td>Liang et al. 2021      </td><td>1</td><td>40</td><td>PAH</td><td>Volume</td><td>NA            </td><td>1-(10-methylanthracen-9-yl)ethanone</td><td>5.0000</td></tr>\n",
       "\t<tr><th scope=row>2</th><td>WF</td><td>1289821</td><td>Liang et al. 2021      </td><td>1</td><td>40</td><td>PAH</td><td>Volume</td><td>DTXSID50176885</td><td>1-Acenaphthenone                   </td><td>1.0000</td></tr>\n",
       "\t<tr><th scope=row>3</th><td>WF</td><td>1289895</td><td>Silberstein et al. 2023</td><td>1</td><td>34</td><td>PAH</td><td>Volume</td><td>DTXSID1074759 </td><td>1-Methylchrysene                   </td><td>0.0100</td></tr>\n",
       "\t<tr><th scope=row>4</th><td>WF</td><td>1289777</td><td>Harper et al. 2019     </td><td>1</td><td>12</td><td>PAH</td><td>Weight</td><td>DTXSID0025654 </td><td>1-Methylpyrene                     </td><td>0.0098</td></tr>\n",
       "\t<tr><th scope=row>5</th><td>WF</td><td>1289777</td><td>Harper et al. 2019     </td><td>2</td><td>13</td><td>PAH</td><td>Weight</td><td>DTXSID0025654 </td><td>1-Methylpyrene                     </td><td>0.0014</td></tr>\n",
       "\t<tr><th scope=row>6</th><td>WF</td><td>1289777</td><td>Harper et al. 2019     </td><td>3</td><td>14</td><td>PAH</td><td>Weight</td><td>DTXSID0025654 </td><td>1-Methylpyrene                     </td><td>0.0245</td></tr>\n",
       "</tbody>\n",
       "</table>\n"
      ],
      "text/latex": [
       "A data.frame: 6 × 10\n",
       "\\begin{tabular}{r|llllllllll}\n",
       "  & Data & HAWC\\_ID & Study & Replicate & Sample\\_Number & Chemical\\_Class & Metric & DTXSID & Name & Value\\\\\n",
       "  & <chr> & <dbl> & <chr> & <dbl> & <dbl> & <chr> & <chr> & <chr> & <chr> & <dbl>\\\\\n",
       "\\hline\n",
       "\t1 & WF & 1289821 & Liang et al. 2021       & 1 & 40 & PAH & Volume & NA             & 1-(10-methylanthracen-9-yl)ethanone & 5.0000\\\\\n",
       "\t2 & WF & 1289821 & Liang et al. 2021       & 1 & 40 & PAH & Volume & DTXSID50176885 & 1-Acenaphthenone                    & 1.0000\\\\\n",
       "\t3 & WF & 1289895 & Silberstein et al. 2023 & 1 & 34 & PAH & Volume & DTXSID1074759  & 1-Methylchrysene                    & 0.0100\\\\\n",
       "\t4 & WF & 1289777 & Harper et al. 2019      & 1 & 12 & PAH & Weight & DTXSID0025654  & 1-Methylpyrene                      & 0.0098\\\\\n",
       "\t5 & WF & 1289777 & Harper et al. 2019      & 2 & 13 & PAH & Weight & DTXSID0025654  & 1-Methylpyrene                      & 0.0014\\\\\n",
       "\t6 & WF & 1289777 & Harper et al. 2019      & 3 & 14 & PAH & Weight & DTXSID0025654  & 1-Methylpyrene                      & 0.0245\\\\\n",
       "\\end{tabular}\n"
      ],
      "text/markdown": [
       "\n",
       "A data.frame: 6 × 10\n",
       "\n",
       "| <!--/--> | Data &lt;chr&gt; | HAWC_ID &lt;dbl&gt; | Study &lt;chr&gt; | Replicate &lt;dbl&gt; | Sample_Number &lt;dbl&gt; | Chemical_Class &lt;chr&gt; | Metric &lt;chr&gt; | DTXSID &lt;chr&gt; | Name &lt;chr&gt; | Value &lt;dbl&gt; |\n",
       "|---|---|---|---|---|---|---|---|---|---|---|\n",
       "| 1 | WF | 1289821 | Liang et al. 2021       | 1 | 40 | PAH | Volume | NA             | 1-(10-methylanthracen-9-yl)ethanone | 5.0000 |\n",
       "| 2 | WF | 1289821 | Liang et al. 2021       | 1 | 40 | PAH | Volume | DTXSID50176885 | 1-Acenaphthenone                    | 1.0000 |\n",
       "| 3 | WF | 1289895 | Silberstein et al. 2023 | 1 | 34 | PAH | Volume | DTXSID1074759  | 1-Methylchrysene                    | 0.0100 |\n",
       "| 4 | WF | 1289777 | Harper et al. 2019      | 1 | 12 | PAH | Weight | DTXSID0025654  | 1-Methylpyrene                      | 0.0098 |\n",
       "| 5 | WF | 1289777 | Harper et al. 2019      | 2 | 13 | PAH | Weight | DTXSID0025654  | 1-Methylpyrene                      | 0.0014 |\n",
       "| 6 | WF | 1289777 | Harper et al. 2019      | 3 | 14 | PAH | Weight | DTXSID0025654  | 1-Methylpyrene                      | 0.0245 |\n",
       "\n"
      ],
      "text/plain": [
       "  Data HAWC_ID Study                   Replicate Sample_Number Chemical_Class\n",
       "1 WF   1289821 Liang et al. 2021       1         40            PAH           \n",
       "2 WF   1289821 Liang et al. 2021       1         40            PAH           \n",
       "3 WF   1289895 Silberstein et al. 2023 1         34            PAH           \n",
       "4 WF   1289777 Harper et al. 2019      1         12            PAH           \n",
       "5 WF   1289777 Harper et al. 2019      2         13            PAH           \n",
       "6 WF   1289777 Harper et al. 2019      3         14            PAH           \n",
       "  Metric DTXSID         Name                                Value \n",
       "1 Volume NA             1-(10-methylanthracen-9-yl)ethanone 5.0000\n",
       "2 Volume DTXSID50176885 1-Acenaphthenone                    1.0000\n",
       "3 Volume DTXSID1074759  1-Methylchrysene                    0.0100\n",
       "4 Weight DTXSID0025654  1-Methylpyrene                      0.0098\n",
       "5 Weight DTXSID0025654  1-Methylpyrene                      0.0014\n",
       "6 Weight DTXSID0025654  1-Methylpyrene                      0.0245"
      ]
     },
     "metadata": {},
     "output_type": "display_data"
    }
   ],
   "source": [
    "head(ws_df)\n",
    "head(wf_df)"
   ]
  },
  {
   "cell_type": "markdown",
   "id": "8a491ef5-9ef2-4c7e-ad49-476a3386c19e",
   "metadata": {},
   "source": [
    "Taking the average number of replicates."
   ]
  },
  {
   "cell_type": "code",
   "execution_count": 20,
   "id": "c697588f-8977-4e63-963b-95332a08584d",
   "metadata": {},
   "outputs": [
    {
     "data": {
      "text/html": [
       "<table class=\"dataframe\">\n",
       "<caption>A tibble: 6 × 8</caption>\n",
       "<thead>\n",
       "\t<tr><th scope=col>Data</th><th scope=col>HAWC_ID</th><th scope=col>Study</th><th scope=col>Chemical_Class</th><th scope=col>Metric</th><th scope=col>DTXSID</th><th scope=col>Name</th><th scope=col>Avg_Value</th></tr>\n",
       "\t<tr><th scope=col>&lt;chr&gt;</th><th scope=col>&lt;dbl&gt;</th><th scope=col>&lt;chr&gt;</th><th scope=col>&lt;chr&gt;</th><th scope=col>&lt;chr&gt;</th><th scope=col>&lt;chr&gt;</th><th scope=col>&lt;chr&gt;</th><th scope=col>&lt;dbl&gt;</th></tr>\n",
       "</thead>\n",
       "<tbody>\n",
       "\t<tr><td>WF</td><td>1289821</td><td>Liang et al. 2021      </td><td>PAH</td><td>Volume</td><td>NA            </td><td>1-(10-methylanthracen-9-yl)ethanone</td><td>  5.00000</td></tr>\n",
       "\t<tr><td>WF</td><td>1289821</td><td>Liang et al. 2021      </td><td>PAH</td><td>Volume</td><td>DTXSID50176885</td><td>1-Acenaphthenone                   </td><td>  1.00000</td></tr>\n",
       "\t<tr><td>WF</td><td>1289895</td><td>Silberstein et al. 2023</td><td>PAH</td><td>Volume</td><td>DTXSID1074759 </td><td>1-Methylchrysene                   </td><td>  0.01000</td></tr>\n",
       "\t<tr><td>WF</td><td>1289777</td><td>Harper et al. 2019     </td><td>PAH</td><td>Weight</td><td>DTXSID0025654 </td><td>1-Methylpyrene                     </td><td>  0.01175</td></tr>\n",
       "\t<tr><td>WF</td><td>1289926</td><td>Wang et al. 2024       </td><td>VOC</td><td>Volume</td><td>DTXSID6021402 </td><td>1,2,4-Trimethylbenzene             </td><td>730.00000</td></tr>\n",
       "\t<tr><td>WF</td><td>1306371</td><td>Ketcherside et al. 2024</td><td>VOC</td><td>Volume</td><td>DTXSID6021402 </td><td>1,2,4-Trimethylbenzene             </td><td>130.00000</td></tr>\n",
       "</tbody>\n",
       "</table>\n"
      ],
      "text/latex": [
       "A tibble: 6 × 8\n",
       "\\begin{tabular}{llllllll}\n",
       " Data & HAWC\\_ID & Study & Chemical\\_Class & Metric & DTXSID & Name & Avg\\_Value\\\\\n",
       " <chr> & <dbl> & <chr> & <chr> & <chr> & <chr> & <chr> & <dbl>\\\\\n",
       "\\hline\n",
       "\t WF & 1289821 & Liang et al. 2021       & PAH & Volume & NA             & 1-(10-methylanthracen-9-yl)ethanone &   5.00000\\\\\n",
       "\t WF & 1289821 & Liang et al. 2021       & PAH & Volume & DTXSID50176885 & 1-Acenaphthenone                    &   1.00000\\\\\n",
       "\t WF & 1289895 & Silberstein et al. 2023 & PAH & Volume & DTXSID1074759  & 1-Methylchrysene                    &   0.01000\\\\\n",
       "\t WF & 1289777 & Harper et al. 2019      & PAH & Weight & DTXSID0025654  & 1-Methylpyrene                      &   0.01175\\\\\n",
       "\t WF & 1289926 & Wang et al. 2024        & VOC & Volume & DTXSID6021402  & 1,2,4-Trimethylbenzene              & 730.00000\\\\\n",
       "\t WF & 1306371 & Ketcherside et al. 2024 & VOC & Volume & DTXSID6021402  & 1,2,4-Trimethylbenzene              & 130.00000\\\\\n",
       "\\end{tabular}\n"
      ],
      "text/markdown": [
       "\n",
       "A tibble: 6 × 8\n",
       "\n",
       "| Data &lt;chr&gt; | HAWC_ID &lt;dbl&gt; | Study &lt;chr&gt; | Chemical_Class &lt;chr&gt; | Metric &lt;chr&gt; | DTXSID &lt;chr&gt; | Name &lt;chr&gt; | Avg_Value &lt;dbl&gt; |\n",
       "|---|---|---|---|---|---|---|---|\n",
       "| WF | 1289821 | Liang et al. 2021       | PAH | Volume | NA             | 1-(10-methylanthracen-9-yl)ethanone |   5.00000 |\n",
       "| WF | 1289821 | Liang et al. 2021       | PAH | Volume | DTXSID50176885 | 1-Acenaphthenone                    |   1.00000 |\n",
       "| WF | 1289895 | Silberstein et al. 2023 | PAH | Volume | DTXSID1074759  | 1-Methylchrysene                    |   0.01000 |\n",
       "| WF | 1289777 | Harper et al. 2019      | PAH | Weight | DTXSID0025654  | 1-Methylpyrene                      |   0.01175 |\n",
       "| WF | 1289926 | Wang et al. 2024        | VOC | Volume | DTXSID6021402  | 1,2,4-Trimethylbenzene              | 730.00000 |\n",
       "| WF | 1306371 | Ketcherside et al. 2024 | VOC | Volume | DTXSID6021402  | 1,2,4-Trimethylbenzene              | 130.00000 |\n",
       "\n"
      ],
      "text/plain": [
       "  Data HAWC_ID Study                   Chemical_Class Metric DTXSID        \n",
       "1 WF   1289821 Liang et al. 2021       PAH            Volume NA            \n",
       "2 WF   1289821 Liang et al. 2021       PAH            Volume DTXSID50176885\n",
       "3 WF   1289895 Silberstein et al. 2023 PAH            Volume DTXSID1074759 \n",
       "4 WF   1289777 Harper et al. 2019      PAH            Weight DTXSID0025654 \n",
       "5 WF   1289926 Wang et al. 2024        VOC            Volume DTXSID6021402 \n",
       "6 WF   1306371 Ketcherside et al. 2024 VOC            Volume DTXSID6021402 \n",
       "  Name                                Avg_Value\n",
       "1 1-(10-methylanthracen-9-yl)ethanone   5.00000\n",
       "2 1-Acenaphthenone                      1.00000\n",
       "3 1-Methylchrysene                      0.01000\n",
       "4 1-Methylpyrene                        0.01175\n",
       "5 1,2,4-Trimethylbenzene              730.00000\n",
       "6 1,2,4-Trimethylbenzene              130.00000"
      ]
     },
     "metadata": {},
     "output_type": "display_data"
    }
   ],
   "source": [
    "avg_wf_df = wf_df %>%\n",
    "    group_by(Study, Chemical_Class, Metric, Name) %>%\n",
    "    mutate(Avg_Value = mean(Value)) %>% \n",
    "    select(-c(\"Replicate\", \"Sample_Number\", \"Value\")) %>%\n",
    "    unique() %>%\n",
    "    ungroup()\n",
    "\n",
    "head(avg_wf_df)"
   ]
  },
  {
   "cell_type": "code",
   "execution_count": null,
   "id": "4f468d77-8f1b-4250-b7be-8ef9b79d9134",
   "metadata": {},
   "outputs": [],
   "source": []
  }
 ],
 "metadata": {
  "kernelspec": {
   "display_name": "R",
   "language": "R",
   "name": "ir"
  },
  "language_info": {
   "codemirror_mode": "r",
   "file_extension": ".r",
   "mimetype": "text/x-r-source",
   "name": "R",
   "pygments_lexer": "r",
   "version": "4.3.1"
  }
 },
 "nbformat": 4,
 "nbformat_minor": 5
}
