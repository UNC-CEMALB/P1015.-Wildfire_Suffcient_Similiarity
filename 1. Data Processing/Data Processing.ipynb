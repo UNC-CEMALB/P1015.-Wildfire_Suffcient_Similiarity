{
 "cells": [
  {
   "cell_type": "code",
   "execution_count": 1,
   "id": "dbfb736a-bc97-4a2f-96f6-553aa3c90c5b",
   "metadata": {},
   "outputs": [
    {
     "name": "stderr",
     "output_type": "stream",
     "text": [
      "── \u001b[1mAttaching core tidyverse packages\u001b[22m ──────────────────────── tidyverse 2.0.0 ──\n",
      "\u001b[32m✔\u001b[39m \u001b[34mdplyr    \u001b[39m 1.1.3     \u001b[32m✔\u001b[39m \u001b[34mreadr    \u001b[39m 2.1.4\n",
      "\u001b[32m✔\u001b[39m \u001b[34mforcats  \u001b[39m 1.0.0     \u001b[32m✔\u001b[39m \u001b[34mstringr  \u001b[39m 1.5.0\n",
      "\u001b[32m✔\u001b[39m \u001b[34mggplot2  \u001b[39m 3.4.3     \u001b[32m✔\u001b[39m \u001b[34mtibble   \u001b[39m 3.2.1\n",
      "\u001b[32m✔\u001b[39m \u001b[34mlubridate\u001b[39m 1.9.2     \u001b[32m✔\u001b[39m \u001b[34mtidyr    \u001b[39m 1.3.0\n",
      "\u001b[32m✔\u001b[39m \u001b[34mpurrr    \u001b[39m 1.0.2     \n",
      "── \u001b[1mConflicts\u001b[22m ────────────────────────────────────────── tidyverse_conflicts() ──\n",
      "\u001b[31m✖\u001b[39m \u001b[34mdplyr\u001b[39m::\u001b[32mfilter()\u001b[39m masks \u001b[34mstats\u001b[39m::filter()\n",
      "\u001b[31m✖\u001b[39m \u001b[34mdplyr\u001b[39m::\u001b[32mlag()\u001b[39m    masks \u001b[34mstats\u001b[39m::lag()\n",
      "\u001b[36mℹ\u001b[39m Use the conflicted package (\u001b[3m\u001b[34m<http://conflicted.r-lib.org/>\u001b[39m\u001b[23m) to force all conflicts to become errors\n",
      "Loading required package: tmvtnorm\n",
      "\n",
      "Loading required package: mvtnorm\n",
      "\n",
      "Loading required package: Matrix\n",
      "\n",
      "\n",
      "Attaching package: ‘Matrix’\n",
      "\n",
      "\n",
      "The following objects are masked from ‘package:tidyr’:\n",
      "\n",
      "    expand, pack, unpack\n",
      "\n",
      "\n",
      "Loading required package: stats4\n",
      "\n",
      "Loading required package: gmm\n",
      "\n",
      "Loading required package: sandwich\n",
      "\n",
      "Loading required package: norm\n",
      "\n",
      "This package has some major limitations\n",
      "(for example, it does not work reliably when\n",
      "the number of variables exceeds 30),\n",
      "and has been superseded by the norm2 package.\n",
      "\n",
      "Loading required package: pcaMethods\n",
      "\n",
      "Loading required package: Biobase\n",
      "\n",
      "Loading required package: BiocGenerics\n",
      "\n",
      "\n",
      "Attaching package: ‘BiocGenerics’\n",
      "\n",
      "\n",
      "The following objects are masked from ‘package:lubridate’:\n",
      "\n",
      "    intersect, setdiff, union\n",
      "\n",
      "\n",
      "The following objects are masked from ‘package:dplyr’:\n",
      "\n",
      "    combine, intersect, setdiff, union\n",
      "\n",
      "\n",
      "The following objects are masked from ‘package:stats’:\n",
      "\n",
      "    IQR, mad, sd, var, xtabs\n",
      "\n",
      "\n",
      "The following objects are masked from ‘package:base’:\n",
      "\n",
      "    anyDuplicated, aperm, append, as.data.frame, basename, cbind,\n",
      "    colnames, dirname, do.call, duplicated, eval, evalq, Filter, Find,\n",
      "    get, grep, grepl, intersect, is.unsorted, lapply, Map, mapply,\n",
      "    match, mget, order, paste, pmax, pmax.int, pmin, pmin.int,\n",
      "    Position, rank, rbind, Reduce, rownames, sapply, setdiff, sort,\n",
      "    table, tapply, union, unique, unsplit, which.max, which.min\n",
      "\n",
      "\n",
      "Welcome to Bioconductor\n",
      "\n",
      "    Vignettes contain introductory material; view with\n",
      "    'browseVignettes()'. To cite Bioconductor, see\n",
      "    'citation(\"Biobase\")', and for packages 'citation(\"pkgname\")'.\n",
      "\n",
      "\n",
      "\n",
      "Attaching package: ‘pcaMethods’\n",
      "\n",
      "\n",
      "The following object is masked from ‘package:stats’:\n",
      "\n",
      "    loadings\n",
      "\n",
      "\n",
      "Loading required package: impute\n",
      "\n",
      "Welcome! Want to learn more? See two factoextra-related books at https://goo.gl/ve3WBa\n",
      "\n"
     ]
    }
   ],
   "source": [
    "Output = '/Users/alexis/Library/CloudStorage/OneDrive-UniversityofNorthCarolinaatChapelHill/CEMALB_DataAnalysisPM/Projects/P1015. Fire Sufficient Similarity/3. Analyses/2. Data Processing/Output'\n",
    "cur_date = '022225'\n",
    "\n",
    "library(missForest)\n",
    "library(readxl)\n",
    "library(openxlsx)\n",
    "library(tidyverse)\n",
    "library(imputeLCMD)\n",
    "library(factoextra)\n",
    "\n",
    "# reading in files\n",
    "ws_df = data.frame(Data = 'WS', read_excel(\"Input/Woodsmoke_Data_012825.xlsx\", sheet = 2)) %>%\n",
    "    select(-Sample_Number)\n",
    "wf_df = data.frame(Data = 'WF', read_excel(\"Input/Wildfire_Data_012825.xlsx\", sheet = 2)) %>%\n",
    "    select(-Sample_Number)"
   ]
  },
  {
   "cell_type": "markdown",
   "id": "a6904813-4b86-4407-a5ec-4efed3e83041",
   "metadata": {},
   "source": [
    "NOTES TO SELF:\n",
    "- change 'replicate' to 'instance' and 'chemical class' to 'class'"
   ]
  },
  {
   "cell_type": "code",
   "execution_count": 2,
   "id": "73a7d5c4-8e2a-4ab5-b13b-046bc35d412e",
   "metadata": {},
   "outputs": [
    {
     "data": {
      "text/html": [
       "<table class=\"dataframe\">\n",
       "<caption>A data.frame: 6 × 9</caption>\n",
       "<thead>\n",
       "\t<tr><th></th><th scope=col>Data</th><th scope=col>HAWC_ID</th><th scope=col>Study</th><th scope=col>Replicate</th><th scope=col>Chemical_Class</th><th scope=col>Metric</th><th scope=col>DTXSID</th><th scope=col>Name</th><th scope=col>Value</th></tr>\n",
       "\t<tr><th></th><th scope=col>&lt;chr&gt;</th><th scope=col>&lt;dbl&gt;</th><th scope=col>&lt;chr&gt;</th><th scope=col>&lt;dbl&gt;</th><th scope=col>&lt;chr&gt;</th><th scope=col>&lt;chr&gt;</th><th scope=col>&lt;chr&gt;</th><th scope=col>&lt;chr&gt;</th><th scope=col>&lt;chr&gt;</th></tr>\n",
       "</thead>\n",
       "<tbody>\n",
       "\t<tr><th scope=row>1</th><td>WS</td><td> 821855</td><td>Erlandsson et al. 2020  </td><td> 1</td><td>PAH</td><td>Weight</td><td>DTXSID3074787</td><td>1-Methylanthracene</td><td>11.3              </td></tr>\n",
       "\t<tr><th scope=row>2</th><td>WS</td><td> 821855</td><td>Erlandsson et al. 2020  </td><td> 1</td><td>PAH</td><td>Weight</td><td>DTXSID3074787</td><td>1-Methylanthracene</td><td>2.2999999999999998</td></tr>\n",
       "\t<tr><th scope=row>3</th><td>WS</td><td>1257056</td><td>McCarrick et al. 2024   </td><td> 1</td><td>PAH</td><td>Weight</td><td>DTXSID3074787</td><td>1-Methylanthracene</td><td>1.66              </td></tr>\n",
       "\t<tr><th scope=row>4</th><td>WS</td><td> 267140</td><td>Alfheim and Ramdahl 1984</td><td> 1</td><td>PAH</td><td>Volume</td><td>DTXSID3074787</td><td>1-Methylanthracene</td><td>NA                </td></tr>\n",
       "\t<tr><th scope=row>5</th><td>WS</td><td>1263480</td><td>Burnet et al. 1990      </td><td> 1</td><td>PAH</td><td>Volume</td><td>DTXSID3074787</td><td>1-Methylanthracene</td><td>NA                </td></tr>\n",
       "\t<tr><th scope=row>6</th><td>WS</td><td>1263480</td><td>Burnet et al. 1990      </td><td>NA</td><td>PAH</td><td>Volume</td><td>DTXSID3074787</td><td>1-Methylanthracene</td><td>NA                </td></tr>\n",
       "</tbody>\n",
       "</table>\n"
      ],
      "text/latex": [
       "A data.frame: 6 × 9\n",
       "\\begin{tabular}{r|lllllllll}\n",
       "  & Data & HAWC\\_ID & Study & Replicate & Chemical\\_Class & Metric & DTXSID & Name & Value\\\\\n",
       "  & <chr> & <dbl> & <chr> & <dbl> & <chr> & <chr> & <chr> & <chr> & <chr>\\\\\n",
       "\\hline\n",
       "\t1 & WS &  821855 & Erlandsson et al. 2020   &  1 & PAH & Weight & DTXSID3074787 & 1-Methylanthracene & 11.3              \\\\\n",
       "\t2 & WS &  821855 & Erlandsson et al. 2020   &  1 & PAH & Weight & DTXSID3074787 & 1-Methylanthracene & 2.2999999999999998\\\\\n",
       "\t3 & WS & 1257056 & McCarrick et al. 2024    &  1 & PAH & Weight & DTXSID3074787 & 1-Methylanthracene & 1.66              \\\\\n",
       "\t4 & WS &  267140 & Alfheim and Ramdahl 1984 &  1 & PAH & Volume & DTXSID3074787 & 1-Methylanthracene & NA                \\\\\n",
       "\t5 & WS & 1263480 & Burnet et al. 1990       &  1 & PAH & Volume & DTXSID3074787 & 1-Methylanthracene & NA                \\\\\n",
       "\t6 & WS & 1263480 & Burnet et al. 1990       & NA & PAH & Volume & DTXSID3074787 & 1-Methylanthracene & NA                \\\\\n",
       "\\end{tabular}\n"
      ],
      "text/markdown": [
       "\n",
       "A data.frame: 6 × 9\n",
       "\n",
       "| <!--/--> | Data &lt;chr&gt; | HAWC_ID &lt;dbl&gt; | Study &lt;chr&gt; | Replicate &lt;dbl&gt; | Chemical_Class &lt;chr&gt; | Metric &lt;chr&gt; | DTXSID &lt;chr&gt; | Name &lt;chr&gt; | Value &lt;chr&gt; |\n",
       "|---|---|---|---|---|---|---|---|---|---|\n",
       "| 1 | WS |  821855 | Erlandsson et al. 2020   |  1 | PAH | Weight | DTXSID3074787 | 1-Methylanthracene | 11.3               |\n",
       "| 2 | WS |  821855 | Erlandsson et al. 2020   |  1 | PAH | Weight | DTXSID3074787 | 1-Methylanthracene | 2.2999999999999998 |\n",
       "| 3 | WS | 1257056 | McCarrick et al. 2024    |  1 | PAH | Weight | DTXSID3074787 | 1-Methylanthracene | 1.66               |\n",
       "| 4 | WS |  267140 | Alfheim and Ramdahl 1984 |  1 | PAH | Volume | DTXSID3074787 | 1-Methylanthracene | NA                 |\n",
       "| 5 | WS | 1263480 | Burnet et al. 1990       |  1 | PAH | Volume | DTXSID3074787 | 1-Methylanthracene | NA                 |\n",
       "| 6 | WS | 1263480 | Burnet et al. 1990       | NA | PAH | Volume | DTXSID3074787 | 1-Methylanthracene | NA                 |\n",
       "\n"
      ],
      "text/plain": [
       "  Data HAWC_ID Study                    Replicate Chemical_Class Metric\n",
       "1 WS    821855 Erlandsson et al. 2020    1        PAH            Weight\n",
       "2 WS    821855 Erlandsson et al. 2020    1        PAH            Weight\n",
       "3 WS   1257056 McCarrick et al. 2024     1        PAH            Weight\n",
       "4 WS    267140 Alfheim and Ramdahl 1984  1        PAH            Volume\n",
       "5 WS   1263480 Burnet et al. 1990        1        PAH            Volume\n",
       "6 WS   1263480 Burnet et al. 1990       NA        PAH            Volume\n",
       "  DTXSID        Name               Value             \n",
       "1 DTXSID3074787 1-Methylanthracene 11.3              \n",
       "2 DTXSID3074787 1-Methylanthracene 2.2999999999999998\n",
       "3 DTXSID3074787 1-Methylanthracene 1.66              \n",
       "4 DTXSID3074787 1-Methylanthracene NA                \n",
       "5 DTXSID3074787 1-Methylanthracene NA                \n",
       "6 DTXSID3074787 1-Methylanthracene NA                "
      ]
     },
     "metadata": {},
     "output_type": "display_data"
    },
    {
     "data": {
      "text/html": [
       "<table class=\"dataframe\">\n",
       "<caption>A data.frame: 6 × 9</caption>\n",
       "<thead>\n",
       "\t<tr><th></th><th scope=col>Data</th><th scope=col>HAWC_ID</th><th scope=col>Study</th><th scope=col>Replicate</th><th scope=col>Chemical_Class</th><th scope=col>Metric</th><th scope=col>DTXSID</th><th scope=col>Name</th><th scope=col>Value</th></tr>\n",
       "\t<tr><th></th><th scope=col>&lt;chr&gt;</th><th scope=col>&lt;dbl&gt;</th><th scope=col>&lt;chr&gt;</th><th scope=col>&lt;dbl&gt;</th><th scope=col>&lt;chr&gt;</th><th scope=col>&lt;chr&gt;</th><th scope=col>&lt;chr&gt;</th><th scope=col>&lt;chr&gt;</th><th scope=col>&lt;chr&gt;</th></tr>\n",
       "</thead>\n",
       "<tbody>\n",
       "\t<tr><th scope=row>1</th><td>WF</td><td>1289821</td><td>Liang et al. 2021   </td><td> 1</td><td>PAH</td><td>Volume</td><td>NA            </td><td>1-(10-methylanthracen-9-yl)ethanone</td><td>5 </td></tr>\n",
       "\t<tr><th scope=row>2</th><td>WF</td><td>1289821</td><td>Liang et al. 2021   </td><td> 1</td><td>PAH</td><td>Volume</td><td>DTXSID50176885</td><td>1-Acenaphthenone                   </td><td>1 </td></tr>\n",
       "\t<tr><th scope=row>3</th><td>WF</td><td>1289737</td><td>Campbell et al. 2024</td><td> 1</td><td>PAH</td><td>Weight</td><td>DTXSID1074759 </td><td>1-Methylchrysene                   </td><td>NA</td></tr>\n",
       "\t<tr><th scope=row>4</th><td>WF</td><td>1289739</td><td>Campos et al. 2019  </td><td> 1</td><td>PAH</td><td>Weight</td><td>DTXSID1074759 </td><td>1-Methylchrysene                   </td><td>NA</td></tr>\n",
       "\t<tr><th scope=row>5</th><td>WF</td><td>1289739</td><td>Campos et al. 2019  </td><td>NA</td><td>PAH</td><td>Weight</td><td>DTXSID1074759 </td><td>1-Methylchrysene                   </td><td>NA</td></tr>\n",
       "\t<tr><th scope=row>6</th><td>WF</td><td>1289739</td><td>Campos et al. 2019  </td><td>NA</td><td>PAH</td><td>Weight</td><td>DTXSID1074759 </td><td>1-Methylchrysene                   </td><td>NA</td></tr>\n",
       "</tbody>\n",
       "</table>\n"
      ],
      "text/latex": [
       "A data.frame: 6 × 9\n",
       "\\begin{tabular}{r|lllllllll}\n",
       "  & Data & HAWC\\_ID & Study & Replicate & Chemical\\_Class & Metric & DTXSID & Name & Value\\\\\n",
       "  & <chr> & <dbl> & <chr> & <dbl> & <chr> & <chr> & <chr> & <chr> & <chr>\\\\\n",
       "\\hline\n",
       "\t1 & WF & 1289821 & Liang et al. 2021    &  1 & PAH & Volume & NA             & 1-(10-methylanthracen-9-yl)ethanone & 5 \\\\\n",
       "\t2 & WF & 1289821 & Liang et al. 2021    &  1 & PAH & Volume & DTXSID50176885 & 1-Acenaphthenone                    & 1 \\\\\n",
       "\t3 & WF & 1289737 & Campbell et al. 2024 &  1 & PAH & Weight & DTXSID1074759  & 1-Methylchrysene                    & NA\\\\\n",
       "\t4 & WF & 1289739 & Campos et al. 2019   &  1 & PAH & Weight & DTXSID1074759  & 1-Methylchrysene                    & NA\\\\\n",
       "\t5 & WF & 1289739 & Campos et al. 2019   & NA & PAH & Weight & DTXSID1074759  & 1-Methylchrysene                    & NA\\\\\n",
       "\t6 & WF & 1289739 & Campos et al. 2019   & NA & PAH & Weight & DTXSID1074759  & 1-Methylchrysene                    & NA\\\\\n",
       "\\end{tabular}\n"
      ],
      "text/markdown": [
       "\n",
       "A data.frame: 6 × 9\n",
       "\n",
       "| <!--/--> | Data &lt;chr&gt; | HAWC_ID &lt;dbl&gt; | Study &lt;chr&gt; | Replicate &lt;dbl&gt; | Chemical_Class &lt;chr&gt; | Metric &lt;chr&gt; | DTXSID &lt;chr&gt; | Name &lt;chr&gt; | Value &lt;chr&gt; |\n",
       "|---|---|---|---|---|---|---|---|---|---|\n",
       "| 1 | WF | 1289821 | Liang et al. 2021    |  1 | PAH | Volume | NA             | 1-(10-methylanthracen-9-yl)ethanone | 5  |\n",
       "| 2 | WF | 1289821 | Liang et al. 2021    |  1 | PAH | Volume | DTXSID50176885 | 1-Acenaphthenone                    | 1  |\n",
       "| 3 | WF | 1289737 | Campbell et al. 2024 |  1 | PAH | Weight | DTXSID1074759  | 1-Methylchrysene                    | NA |\n",
       "| 4 | WF | 1289739 | Campos et al. 2019   |  1 | PAH | Weight | DTXSID1074759  | 1-Methylchrysene                    | NA |\n",
       "| 5 | WF | 1289739 | Campos et al. 2019   | NA | PAH | Weight | DTXSID1074759  | 1-Methylchrysene                    | NA |\n",
       "| 6 | WF | 1289739 | Campos et al. 2019   | NA | PAH | Weight | DTXSID1074759  | 1-Methylchrysene                    | NA |\n",
       "\n"
      ],
      "text/plain": [
       "  Data HAWC_ID Study                Replicate Chemical_Class Metric\n",
       "1 WF   1289821 Liang et al. 2021     1        PAH            Volume\n",
       "2 WF   1289821 Liang et al. 2021     1        PAH            Volume\n",
       "3 WF   1289737 Campbell et al. 2024  1        PAH            Weight\n",
       "4 WF   1289739 Campos et al. 2019    1        PAH            Weight\n",
       "5 WF   1289739 Campos et al. 2019   NA        PAH            Weight\n",
       "6 WF   1289739 Campos et al. 2019   NA        PAH            Weight\n",
       "  DTXSID         Name                                Value\n",
       "1 NA             1-(10-methylanthracen-9-yl)ethanone 5    \n",
       "2 DTXSID50176885 1-Acenaphthenone                    1    \n",
       "3 DTXSID1074759  1-Methylchrysene                    NA   \n",
       "4 DTXSID1074759  1-Methylchrysene                    NA   \n",
       "5 DTXSID1074759  1-Methylchrysene                    NA   \n",
       "6 DTXSID1074759  1-Methylchrysene                    NA   "
      ]
     },
     "metadata": {},
     "output_type": "display_data"
    }
   ],
   "source": [
    "head(ws_df)\n",
    "head(wf_df)"
   ]
  },
  {
   "cell_type": "code",
   "execution_count": 3,
   "id": "3d546e8e-5cdf-4386-b29b-2ac2938366f9",
   "metadata": {},
   "outputs": [
    {
     "data": {
      "text/html": [
       "<style>\n",
       ".list-inline {list-style: none; margin:0; padding: 0}\n",
       ".list-inline>li {display: inline-block}\n",
       ".list-inline>li:not(:last-child)::after {content: \"\\00b7\"; padding: 0 .5ex}\n",
       "</style>\n",
       "<ol class=list-inline><li>6607</li><li>9</li></ol>\n"
      ],
      "text/latex": [
       "\\begin{enumerate*}\n",
       "\\item 6607\n",
       "\\item 9\n",
       "\\end{enumerate*}\n"
      ],
      "text/markdown": [
       "1. 6607\n",
       "2. 9\n",
       "\n",
       "\n"
      ],
      "text/plain": [
       "[1] 6607    9"
      ]
     },
     "metadata": {},
     "output_type": "display_data"
    },
    {
     "data": {
      "text/html": [
       "<style>\n",
       ".list-inline {list-style: none; margin:0; padding: 0}\n",
       ".list-inline>li {display: inline-block}\n",
       ".list-inline>li:not(:last-child)::after {content: \"\\00b7\"; padding: 0 .5ex}\n",
       "</style>\n",
       "<ol class=list-inline><li>4340</li><li>9</li></ol>\n"
      ],
      "text/latex": [
       "\\begin{enumerate*}\n",
       "\\item 4340\n",
       "\\item 9\n",
       "\\end{enumerate*}\n"
      ],
      "text/markdown": [
       "1. 4340\n",
       "2. 9\n",
       "\n",
       "\n"
      ],
      "text/plain": [
       "[1] 4340    9"
      ]
     },
     "metadata": {},
     "output_type": "display_data"
    }
   ],
   "source": [
    "dim(ws_df)\n",
    "dim(wf_df)"
   ]
  },
  {
   "cell_type": "markdown",
   "id": "417a92fb-0524-4038-a5ea-08a56f02a955",
   "metadata": {},
   "source": [
    "# Filter 1\n",
    "\n",
    "Removing duplicate records for instances that weren't measured at all (MAR). "
   ]
  },
  {
   "cell_type": "code",
   "execution_count": 4,
   "id": "9eefd1e4-96f4-48a6-933c-9486ab447115",
   "metadata": {
    "scrolled": true
   },
   "outputs": [],
   "source": [
    "`%notin%` <- Negate(`%in%`)\n",
    "\n",
    "ws_df = ws_df %>%\n",
    "    filter(Replicate %notin% NA)\n",
    "\n",
    "wf_df = wf_df %>%\n",
    "    filter(Replicate %notin% NA)"
   ]
  },
  {
   "cell_type": "code",
   "execution_count": 5,
   "id": "1425c2d3-c1cd-4626-974d-492e320d724e",
   "metadata": {
    "scrolled": true
   },
   "outputs": [
    {
     "data": {
      "text/html": [
       "<style>\n",
       ".list-inline {list-style: none; margin:0; padding: 0}\n",
       ".list-inline>li {display: inline-block}\n",
       ".list-inline>li:not(:last-child)::after {content: \"\\00b7\"; padding: 0 .5ex}\n",
       "</style>\n",
       "<ol class=list-inline><li>4203</li><li>9</li></ol>\n"
      ],
      "text/latex": [
       "\\begin{enumerate*}\n",
       "\\item 4203\n",
       "\\item 9\n",
       "\\end{enumerate*}\n"
      ],
      "text/markdown": [
       "1. 4203\n",
       "2. 9\n",
       "\n",
       "\n"
      ],
      "text/plain": [
       "[1] 4203    9"
      ]
     },
     "metadata": {},
     "output_type": "display_data"
    },
    {
     "data": {
      "text/html": [
       "<style>\n",
       ".list-inline {list-style: none; margin:0; padding: 0}\n",
       ".list-inline>li {display: inline-block}\n",
       ".list-inline>li:not(:last-child)::after {content: \"\\00b7\"; padding: 0 .5ex}\n",
       "</style>\n",
       "<ol class=list-inline><li>2378</li><li>9</li></ol>\n"
      ],
      "text/latex": [
       "\\begin{enumerate*}\n",
       "\\item 2378\n",
       "\\item 9\n",
       "\\end{enumerate*}\n"
      ],
      "text/markdown": [
       "1. 2378\n",
       "2. 9\n",
       "\n",
       "\n"
      ],
      "text/plain": [
       "[1] 2378    9"
      ]
     },
     "metadata": {},
     "output_type": "display_data"
    }
   ],
   "source": [
    "dim(ws_df)\n",
    "dim(wf_df)"
   ]
  },
  {
   "cell_type": "code",
   "execution_count": 6,
   "id": "d9ba0841-95c0-4dfc-a8de-480550341718",
   "metadata": {},
   "outputs": [
    {
     "data": {
      "text/html": [
       "<table class=\"dataframe\">\n",
       "<caption>A data.frame: 6 × 9</caption>\n",
       "<thead>\n",
       "\t<tr><th></th><th scope=col>Data</th><th scope=col>HAWC_ID</th><th scope=col>Study</th><th scope=col>Replicate</th><th scope=col>Chemical_Class</th><th scope=col>Metric</th><th scope=col>DTXSID</th><th scope=col>Name</th><th scope=col>Value</th></tr>\n",
       "\t<tr><th></th><th scope=col>&lt;chr&gt;</th><th scope=col>&lt;dbl&gt;</th><th scope=col>&lt;chr&gt;</th><th scope=col>&lt;dbl&gt;</th><th scope=col>&lt;chr&gt;</th><th scope=col>&lt;chr&gt;</th><th scope=col>&lt;chr&gt;</th><th scope=col>&lt;chr&gt;</th><th scope=col>&lt;chr&gt;</th></tr>\n",
       "</thead>\n",
       "<tbody>\n",
       "\t<tr><th scope=row>1</th><td>WS</td><td> 821855</td><td>Erlandsson et al. 2020  </td><td>1</td><td>PAH</td><td>Weight</td><td>DTXSID3074787</td><td>1-Methylanthracene</td><td>11.3              </td></tr>\n",
       "\t<tr><th scope=row>2</th><td>WS</td><td> 821855</td><td>Erlandsson et al. 2020  </td><td>1</td><td>PAH</td><td>Weight</td><td>DTXSID3074787</td><td>1-Methylanthracene</td><td>2.2999999999999998</td></tr>\n",
       "\t<tr><th scope=row>3</th><td>WS</td><td>1257056</td><td>McCarrick et al. 2024   </td><td>1</td><td>PAH</td><td>Weight</td><td>DTXSID3074787</td><td>1-Methylanthracene</td><td>1.66              </td></tr>\n",
       "\t<tr><th scope=row>4</th><td>WS</td><td> 267140</td><td>Alfheim and Ramdahl 1984</td><td>1</td><td>PAH</td><td>Volume</td><td>DTXSID3074787</td><td>1-Methylanthracene</td><td>NA                </td></tr>\n",
       "\t<tr><th scope=row>5</th><td>WS</td><td>1263480</td><td>Burnet et al. 1990      </td><td>1</td><td>PAH</td><td>Volume</td><td>DTXSID3074787</td><td>1-Methylanthracene</td><td>NA                </td></tr>\n",
       "\t<tr><th scope=row>6</th><td>WS</td><td> 267091</td><td>Forchhammer et al. 2012 </td><td>1</td><td>PAH</td><td>Volume</td><td>DTXSID3074787</td><td>1-Methylanthracene</td><td>NA                </td></tr>\n",
       "</tbody>\n",
       "</table>\n"
      ],
      "text/latex": [
       "A data.frame: 6 × 9\n",
       "\\begin{tabular}{r|lllllllll}\n",
       "  & Data & HAWC\\_ID & Study & Replicate & Chemical\\_Class & Metric & DTXSID & Name & Value\\\\\n",
       "  & <chr> & <dbl> & <chr> & <dbl> & <chr> & <chr> & <chr> & <chr> & <chr>\\\\\n",
       "\\hline\n",
       "\t1 & WS &  821855 & Erlandsson et al. 2020   & 1 & PAH & Weight & DTXSID3074787 & 1-Methylanthracene & 11.3              \\\\\n",
       "\t2 & WS &  821855 & Erlandsson et al. 2020   & 1 & PAH & Weight & DTXSID3074787 & 1-Methylanthracene & 2.2999999999999998\\\\\n",
       "\t3 & WS & 1257056 & McCarrick et al. 2024    & 1 & PAH & Weight & DTXSID3074787 & 1-Methylanthracene & 1.66              \\\\\n",
       "\t4 & WS &  267140 & Alfheim and Ramdahl 1984 & 1 & PAH & Volume & DTXSID3074787 & 1-Methylanthracene & NA                \\\\\n",
       "\t5 & WS & 1263480 & Burnet et al. 1990       & 1 & PAH & Volume & DTXSID3074787 & 1-Methylanthracene & NA                \\\\\n",
       "\t6 & WS &  267091 & Forchhammer et al. 2012  & 1 & PAH & Volume & DTXSID3074787 & 1-Methylanthracene & NA                \\\\\n",
       "\\end{tabular}\n"
      ],
      "text/markdown": [
       "\n",
       "A data.frame: 6 × 9\n",
       "\n",
       "| <!--/--> | Data &lt;chr&gt; | HAWC_ID &lt;dbl&gt; | Study &lt;chr&gt; | Replicate &lt;dbl&gt; | Chemical_Class &lt;chr&gt; | Metric &lt;chr&gt; | DTXSID &lt;chr&gt; | Name &lt;chr&gt; | Value &lt;chr&gt; |\n",
       "|---|---|---|---|---|---|---|---|---|---|\n",
       "| 1 | WS |  821855 | Erlandsson et al. 2020   | 1 | PAH | Weight | DTXSID3074787 | 1-Methylanthracene | 11.3               |\n",
       "| 2 | WS |  821855 | Erlandsson et al. 2020   | 1 | PAH | Weight | DTXSID3074787 | 1-Methylanthracene | 2.2999999999999998 |\n",
       "| 3 | WS | 1257056 | McCarrick et al. 2024    | 1 | PAH | Weight | DTXSID3074787 | 1-Methylanthracene | 1.66               |\n",
       "| 4 | WS |  267140 | Alfheim and Ramdahl 1984 | 1 | PAH | Volume | DTXSID3074787 | 1-Methylanthracene | NA                 |\n",
       "| 5 | WS | 1263480 | Burnet et al. 1990       | 1 | PAH | Volume | DTXSID3074787 | 1-Methylanthracene | NA                 |\n",
       "| 6 | WS |  267091 | Forchhammer et al. 2012  | 1 | PAH | Volume | DTXSID3074787 | 1-Methylanthracene | NA                 |\n",
       "\n"
      ],
      "text/plain": [
       "  Data HAWC_ID Study                    Replicate Chemical_Class Metric\n",
       "1 WS    821855 Erlandsson et al. 2020   1         PAH            Weight\n",
       "2 WS    821855 Erlandsson et al. 2020   1         PAH            Weight\n",
       "3 WS   1257056 McCarrick et al. 2024    1         PAH            Weight\n",
       "4 WS    267140 Alfheim and Ramdahl 1984 1         PAH            Volume\n",
       "5 WS   1263480 Burnet et al. 1990       1         PAH            Volume\n",
       "6 WS    267091 Forchhammer et al. 2012  1         PAH            Volume\n",
       "  DTXSID        Name               Value             \n",
       "1 DTXSID3074787 1-Methylanthracene 11.3              \n",
       "2 DTXSID3074787 1-Methylanthracene 2.2999999999999998\n",
       "3 DTXSID3074787 1-Methylanthracene 1.66              \n",
       "4 DTXSID3074787 1-Methylanthracene NA                \n",
       "5 DTXSID3074787 1-Methylanthracene NA                \n",
       "6 DTXSID3074787 1-Methylanthracene NA                "
      ]
     },
     "metadata": {},
     "output_type": "display_data"
    }
   ],
   "source": [
    "# combining dfs\n",
    "combined_df = rbind(ws_df, wf_df)\n",
    "head(combined_df)"
   ]
  },
  {
   "cell_type": "code",
   "execution_count": 7,
   "id": "6bcf9a9c-639c-46ca-9806-dcb9246095f1",
   "metadata": {},
   "outputs": [
    {
     "data": {
      "text/html": [
       "192"
      ],
      "text/latex": [
       "192"
      ],
      "text/markdown": [
       "192"
      ],
      "text/plain": [
       "[1] 192"
      ]
     },
     "metadata": {},
     "output_type": "display_data"
    }
   ],
   "source": [
    "length(unique(combined_df$Name))"
   ]
  },
  {
   "cell_type": "markdown",
   "id": "adaf5cec-fc80-4902-935a-523fc2d9a106",
   "metadata": {},
   "source": [
    "192 unique variables."
   ]
  },
  {
   "cell_type": "markdown",
   "id": "38fa1e02-9f71-4378-a78f-90f5591ab77b",
   "metadata": {},
   "source": [
    "# Variable Background Filters\n",
    "\n",
    "Determining what variables have missing data for all variables delineated based on the dfs the data will be split into and analyzed. \n",
    "\n",
    "1. The data needs to have at least two experimental (ie. measured or ND) value in both WS and WF data within each metric (ie. weight or volume).\n",
    "2. A variable (ie. `Name` which represents a chemical or metal) will be removed if < 50% of its experimental data points were either measurable values and/or specified as non-detects. In other words, chemicals were excluded if they were NAs (not evaluated) across <= 50% of the samples."
   ]
  },
  {
   "cell_type": "code",
   "execution_count": 8,
   "id": "59c471fe-1657-4356-8ed6-35a8b6244188",
   "metadata": {},
   "outputs": [
    {
     "data": {
      "text/html": [
       "<table class=\"dataframe\">\n",
       "<caption>A tibble: 6 × 4</caption>\n",
       "<thead>\n",
       "\t<tr><th scope=col>Data</th><th scope=col>Metric</th><th scope=col>Name</th><th scope=col>data_group_count</th></tr>\n",
       "\t<tr><th scope=col>&lt;chr&gt;</th><th scope=col>&lt;chr&gt;</th><th scope=col>&lt;chr&gt;</th><th scope=col>&lt;dbl&gt;</th></tr>\n",
       "</thead>\n",
       "<tbody>\n",
       "\t<tr><td>WF</td><td>Volume</td><td>1,2,4-Trimethylbenzene    </td><td>2</td></tr>\n",
       "\t<tr><td>WF</td><td>Volume</td><td>1,3,5-Trimethylbenzene    </td><td>2</td></tr>\n",
       "\t<tr><td>WF</td><td>Volume</td><td>1,3-Dihydroxynaphthalene  </td><td>1</td></tr>\n",
       "\t<tr><td>WF</td><td>Volume</td><td>1,4-Dichloro-2-butene, cis</td><td>1</td></tr>\n",
       "\t<tr><td>WF</td><td>Volume</td><td>1,4-Dichlorobenzene       </td><td>1</td></tr>\n",
       "\t<tr><td>WF</td><td>Volume</td><td>1,8-Dihydroxynaphthalene  </td><td>1</td></tr>\n",
       "</tbody>\n",
       "</table>\n"
      ],
      "text/latex": [
       "A tibble: 6 × 4\n",
       "\\begin{tabular}{llll}\n",
       " Data & Metric & Name & data\\_group\\_count\\\\\n",
       " <chr> & <chr> & <chr> & <dbl>\\\\\n",
       "\\hline\n",
       "\t WF & Volume & 1,2,4-Trimethylbenzene     & 2\\\\\n",
       "\t WF & Volume & 1,3,5-Trimethylbenzene     & 2\\\\\n",
       "\t WF & Volume & 1,3-Dihydroxynaphthalene   & 1\\\\\n",
       "\t WF & Volume & 1,4-Dichloro-2-butene, cis & 1\\\\\n",
       "\t WF & Volume & 1,4-Dichlorobenzene        & 1\\\\\n",
       "\t WF & Volume & 1,8-Dihydroxynaphthalene   & 1\\\\\n",
       "\\end{tabular}\n"
      ],
      "text/markdown": [
       "\n",
       "A tibble: 6 × 4\n",
       "\n",
       "| Data &lt;chr&gt; | Metric &lt;chr&gt; | Name &lt;chr&gt; | data_group_count &lt;dbl&gt; |\n",
       "|---|---|---|---|\n",
       "| WF | Volume | 1,2,4-Trimethylbenzene     | 2 |\n",
       "| WF | Volume | 1,3,5-Trimethylbenzene     | 2 |\n",
       "| WF | Volume | 1,3-Dihydroxynaphthalene   | 1 |\n",
       "| WF | Volume | 1,4-Dichloro-2-butene, cis | 1 |\n",
       "| WF | Volume | 1,4-Dichlorobenzene        | 1 |\n",
       "| WF | Volume | 1,8-Dihydroxynaphthalene   | 1 |\n",
       "\n"
      ],
      "text/plain": [
       "  Data Metric Name                       data_group_count\n",
       "1 WF   Volume 1,2,4-Trimethylbenzene     2               \n",
       "2 WF   Volume 1,3,5-Trimethylbenzene     2               \n",
       "3 WF   Volume 1,3-Dihydroxynaphthalene   1               \n",
       "4 WF   Volume 1,4-Dichloro-2-butene, cis 1               \n",
       "5 WF   Volume 1,4-Dichlorobenzene        1               \n",
       "6 WF   Volume 1,8-Dihydroxynaphthalene   1               "
      ]
     },
     "metadata": {},
     "output_type": "display_data"
    }
   ],
   "source": [
    "sample_type_presence_df = combined_df %>%\n",
    "    # if the value isn't MAR count it as being present\n",
    "    mutate(count = ifelse(Value != 'NA', 1, 0)) %>%\n",
    "    # determining which have at least one experimental value within each sample type\n",
    "    group_by(Data, Metric, Name) %>%\n",
    "    # summing the number of experimental records for each variable\n",
    "    reframe(data_group_count = sum(count))\n",
    "\n",
    "head(sample_type_presence_df)"
   ]
  },
  {
   "cell_type": "code",
   "execution_count": 9,
   "id": "01950eb7-eaa3-4736-b19c-bac78b6e26c0",
   "metadata": {},
   "outputs": [
    {
     "data": {
      "text/html": [
       "<style>\n",
       ".list-inline {list-style: none; margin:0; padding: 0}\n",
       ".list-inline>li {display: inline-block}\n",
       ".list-inline>li:not(:last-child)::after {content: \"\\00b7\"; padding: 0 .5ex}\n",
       "</style>\n",
       "<ol class=list-inline><li>449</li><li>4</li></ol>\n"
      ],
      "text/latex": [
       "\\begin{enumerate*}\n",
       "\\item 449\n",
       "\\item 4\n",
       "\\end{enumerate*}\n"
      ],
      "text/markdown": [
       "1. 449\n",
       "2. 4\n",
       "\n",
       "\n"
      ],
      "text/plain": [
       "[1] 449   4"
      ]
     },
     "metadata": {},
     "output_type": "display_data"
    },
    {
     "data": {
      "text/html": [
       "<style>\n",
       ".list-inline {list-style: none; margin:0; padding: 0}\n",
       ".list-inline>li {display: inline-block}\n",
       ".list-inline>li:not(:last-child)::after {content: \"\\00b7\"; padding: 0 .5ex}\n",
       "</style>\n",
       "<ol class=list-inline><li>278</li><li>4</li></ol>\n"
      ],
      "text/latex": [
       "\\begin{enumerate*}\n",
       "\\item 278\n",
       "\\item 4\n",
       "\\end{enumerate*}\n"
      ],
      "text/markdown": [
       "1. 278\n",
       "2. 4\n",
       "\n",
       "\n"
      ],
      "text/plain": [
       "[1] 278   4"
      ]
     },
     "metadata": {},
     "output_type": "display_data"
    }
   ],
   "source": [
    "dim(sample_type_presence_df)\n",
    "\n",
    "sample_type_keep_df = sample_type_presence_df %>%\n",
    "    filter(data_group_count > 1) \n",
    "\n",
    "dim(sample_type_keep_df)"
   ]
  },
  {
   "cell_type": "markdown",
   "id": "3962faa1-e44f-4ab0-bfba-7ca846b425fc",
   "metadata": {},
   "source": [
    "278 data records had at least two experimental values and were retained. "
   ]
  },
  {
   "cell_type": "code",
   "execution_count": 10,
   "id": "e9e0b6d6-d46b-4f37-81e9-f71cbf5eaefd",
   "metadata": {},
   "outputs": [
    {
     "name": "stderr",
     "output_type": "stream",
     "text": [
      "\u001b[1m\u001b[22mJoining with `by = join_by(Data, Metric, Name)`\n"
     ]
    },
    {
     "data": {
      "text/html": [
       "<table class=\"dataframe\">\n",
       "<caption>A tibble: 6 × 9</caption>\n",
       "<thead>\n",
       "\t<tr><th scope=col>Data</th><th scope=col>Metric</th><th scope=col>Name</th><th scope=col>HAWC_ID</th><th scope=col>Study</th><th scope=col>Replicate</th><th scope=col>Chemical_Class</th><th scope=col>DTXSID</th><th scope=col>Value</th></tr>\n",
       "\t<tr><th scope=col>&lt;chr&gt;</th><th scope=col>&lt;chr&gt;</th><th scope=col>&lt;chr&gt;</th><th scope=col>&lt;dbl&gt;</th><th scope=col>&lt;chr&gt;</th><th scope=col>&lt;dbl&gt;</th><th scope=col>&lt;chr&gt;</th><th scope=col>&lt;chr&gt;</th><th scope=col>&lt;chr&gt;</th></tr>\n",
       "</thead>\n",
       "<tbody>\n",
       "\t<tr><td>WF</td><td>Volume</td><td>1,2,4-Trimethylbenzene</td><td>1289926</td><td>Wang et al. 2024       </td><td>1</td><td>VOC</td><td>DTXSID6021402</td><td>730                  </td></tr>\n",
       "\t<tr><td>WF</td><td>Volume</td><td>1,2,4-Trimethylbenzene</td><td>1306371</td><td>Ketcherside et al. 2024</td><td>1</td><td>VOC</td><td>DTXSID6021402</td><td>130                  </td></tr>\n",
       "\t<tr><td>WF</td><td>Volume</td><td>1,3,5-Trimethylbenzene</td><td>1289926</td><td>Wang et al. 2024       </td><td>1</td><td>VOC</td><td>DTXSID6026797</td><td>330                  </td></tr>\n",
       "\t<tr><td>WF</td><td>Volume</td><td>1,3,5-Trimethylbenzene</td><td>1306371</td><td>Ketcherside et al. 2024</td><td>1</td><td>VOC</td><td>DTXSID6026797</td><td>110                  </td></tr>\n",
       "\t<tr><td>WF</td><td>Volume</td><td>Acenaphthylene        </td><td>1289895</td><td>Silberstein et al. 2023</td><td>1</td><td>PAH</td><td>DTXSID3023845</td><td>7.0000000000000007E-2</td></tr>\n",
       "\t<tr><td>WF</td><td>Volume</td><td>Acenaphthylene        </td><td>1285830</td><td>Navarro et al. 2019    </td><td>1</td><td>PAH</td><td>DTXSID3023845</td><td>1                    </td></tr>\n",
       "</tbody>\n",
       "</table>\n"
      ],
      "text/latex": [
       "A tibble: 6 × 9\n",
       "\\begin{tabular}{lllllllll}\n",
       " Data & Metric & Name & HAWC\\_ID & Study & Replicate & Chemical\\_Class & DTXSID & Value\\\\\n",
       " <chr> & <chr> & <chr> & <dbl> & <chr> & <dbl> & <chr> & <chr> & <chr>\\\\\n",
       "\\hline\n",
       "\t WF & Volume & 1,2,4-Trimethylbenzene & 1289926 & Wang et al. 2024        & 1 & VOC & DTXSID6021402 & 730                  \\\\\n",
       "\t WF & Volume & 1,2,4-Trimethylbenzene & 1306371 & Ketcherside et al. 2024 & 1 & VOC & DTXSID6021402 & 130                  \\\\\n",
       "\t WF & Volume & 1,3,5-Trimethylbenzene & 1289926 & Wang et al. 2024        & 1 & VOC & DTXSID6026797 & 330                  \\\\\n",
       "\t WF & Volume & 1,3,5-Trimethylbenzene & 1306371 & Ketcherside et al. 2024 & 1 & VOC & DTXSID6026797 & 110                  \\\\\n",
       "\t WF & Volume & Acenaphthylene         & 1289895 & Silberstein et al. 2023 & 1 & PAH & DTXSID3023845 & 7.0000000000000007E-2\\\\\n",
       "\t WF & Volume & Acenaphthylene         & 1285830 & Navarro et al. 2019     & 1 & PAH & DTXSID3023845 & 1                    \\\\\n",
       "\\end{tabular}\n"
      ],
      "text/markdown": [
       "\n",
       "A tibble: 6 × 9\n",
       "\n",
       "| Data &lt;chr&gt; | Metric &lt;chr&gt; | Name &lt;chr&gt; | HAWC_ID &lt;dbl&gt; | Study &lt;chr&gt; | Replicate &lt;dbl&gt; | Chemical_Class &lt;chr&gt; | DTXSID &lt;chr&gt; | Value &lt;chr&gt; |\n",
       "|---|---|---|---|---|---|---|---|---|\n",
       "| WF | Volume | 1,2,4-Trimethylbenzene | 1289926 | Wang et al. 2024        | 1 | VOC | DTXSID6021402 | 730                   |\n",
       "| WF | Volume | 1,2,4-Trimethylbenzene | 1306371 | Ketcherside et al. 2024 | 1 | VOC | DTXSID6021402 | 130                   |\n",
       "| WF | Volume | 1,3,5-Trimethylbenzene | 1289926 | Wang et al. 2024        | 1 | VOC | DTXSID6026797 | 330                   |\n",
       "| WF | Volume | 1,3,5-Trimethylbenzene | 1306371 | Ketcherside et al. 2024 | 1 | VOC | DTXSID6026797 | 110                   |\n",
       "| WF | Volume | Acenaphthylene         | 1289895 | Silberstein et al. 2023 | 1 | PAH | DTXSID3023845 | 7.0000000000000007E-2 |\n",
       "| WF | Volume | Acenaphthylene         | 1285830 | Navarro et al. 2019     | 1 | PAH | DTXSID3023845 | 1                     |\n",
       "\n"
      ],
      "text/plain": [
       "  Data Metric Name                   HAWC_ID Study                   Replicate\n",
       "1 WF   Volume 1,2,4-Trimethylbenzene 1289926 Wang et al. 2024        1        \n",
       "2 WF   Volume 1,2,4-Trimethylbenzene 1306371 Ketcherside et al. 2024 1        \n",
       "3 WF   Volume 1,3,5-Trimethylbenzene 1289926 Wang et al. 2024        1        \n",
       "4 WF   Volume 1,3,5-Trimethylbenzene 1306371 Ketcherside et al. 2024 1        \n",
       "5 WF   Volume Acenaphthylene         1289895 Silberstein et al. 2023 1        \n",
       "6 WF   Volume Acenaphthylene         1285830 Navarro et al. 2019     1        \n",
       "  Chemical_Class DTXSID        Value                \n",
       "1 VOC            DTXSID6021402 730                  \n",
       "2 VOC            DTXSID6021402 130                  \n",
       "3 VOC            DTXSID6026797 330                  \n",
       "4 VOC            DTXSID6026797 110                  \n",
       "5 PAH            DTXSID3023845 7.0000000000000007E-2\n",
       "6 PAH            DTXSID3023845 1                    "
      ]
     },
     "metadata": {},
     "output_type": "display_data"
    }
   ],
   "source": [
    "# filtering the original df\n",
    "filter1_df = inner_join(sample_type_keep_df[,1:3], combined_df)\n",
    "head(filter1_df)"
   ]
  },
  {
   "cell_type": "code",
   "execution_count": 11,
   "id": "326df55e-15f1-4704-969d-2e19d7cf54fd",
   "metadata": {},
   "outputs": [
    {
     "data": {
      "text/html": [
       "<style>\n",
       ".list-inline {list-style: none; margin:0; padding: 0}\n",
       ".list-inline>li {display: inline-block}\n",
       ".list-inline>li:not(:last-child)::after {content: \"\\00b7\"; padding: 0 .5ex}\n",
       "</style>\n",
       "<ol class=list-inline><li>6581</li><li>9</li></ol>\n"
      ],
      "text/latex": [
       "\\begin{enumerate*}\n",
       "\\item 6581\n",
       "\\item 9\n",
       "\\end{enumerate*}\n"
      ],
      "text/markdown": [
       "1. 6581\n",
       "2. 9\n",
       "\n",
       "\n"
      ],
      "text/plain": [
       "[1] 6581    9"
      ]
     },
     "metadata": {},
     "output_type": "display_data"
    },
    {
     "data": {
      "text/html": [
       "<style>\n",
       ".list-inline {list-style: none; margin:0; padding: 0}\n",
       ".list-inline>li {display: inline-block}\n",
       ".list-inline>li:not(:last-child)::after {content: \"\\00b7\"; padding: 0 .5ex}\n",
       "</style>\n",
       "<ol class=list-inline><li>5145</li><li>9</li></ol>\n"
      ],
      "text/latex": [
       "\\begin{enumerate*}\n",
       "\\item 5145\n",
       "\\item 9\n",
       "\\end{enumerate*}\n"
      ],
      "text/markdown": [
       "1. 5145\n",
       "2. 9\n",
       "\n",
       "\n"
      ],
      "text/plain": [
       "[1] 5145    9"
      ]
     },
     "metadata": {},
     "output_type": "display_data"
    }
   ],
   "source": [
    "dim(combined_df)\n",
    "dim(filter1_df)"
   ]
  },
  {
   "cell_type": "markdown",
   "id": "5f340a20-8ef3-419d-92a5-9140887821d7",
   "metadata": {},
   "source": [
    "Started with 6581 records, 1363 were removed, leaving 5145. \n",
    "\n",
    "Now that each sample type (WS of WF) has at least one experimental value, we'll see if there are at least 50% of data between the sample types."
   ]
  },
  {
   "cell_type": "code",
   "execution_count": 12,
   "id": "d7cb46a6-4543-4dfa-949a-58c261307882",
   "metadata": {},
   "outputs": [
    {
     "data": {
      "text/html": [
       "<table class=\"dataframe\">\n",
       "<caption>A tibble: 6 × 3</caption>\n",
       "<thead>\n",
       "\t<tr><th scope=col>Metric</th><th scope=col>Name</th><th scope=col>Variable_Presence_Percentage</th></tr>\n",
       "\t<tr><th scope=col>&lt;chr&gt;</th><th scope=col>&lt;chr&gt;</th><th scope=col>&lt;dbl&gt;</th></tr>\n",
       "</thead>\n",
       "<tbody>\n",
       "\t<tr><td>Volume</td><td>1,2,4-Trimethylbenzene</td><td>100</td></tr>\n",
       "\t<tr><td>Volume</td><td>1,3,5-Trimethylbenzene</td><td>100</td></tr>\n",
       "\t<tr><td>Volume</td><td>1-Methylphenanthrene  </td><td>100</td></tr>\n",
       "\t<tr><td>Volume</td><td>2,5-Dimethyl furan    </td><td>100</td></tr>\n",
       "\t<tr><td>Volume</td><td>2-Methyl furan        </td><td>100</td></tr>\n",
       "\t<tr><td>Volume</td><td>2-Methylnaphthalene   </td><td>100</td></tr>\n",
       "</tbody>\n",
       "</table>\n"
      ],
      "text/latex": [
       "A tibble: 6 × 3\n",
       "\\begin{tabular}{lll}\n",
       " Metric & Name & Variable\\_Presence\\_Percentage\\\\\n",
       " <chr> & <chr> & <dbl>\\\\\n",
       "\\hline\n",
       "\t Volume & 1,2,4-Trimethylbenzene & 100\\\\\n",
       "\t Volume & 1,3,5-Trimethylbenzene & 100\\\\\n",
       "\t Volume & 1-Methylphenanthrene   & 100\\\\\n",
       "\t Volume & 2,5-Dimethyl furan     & 100\\\\\n",
       "\t Volume & 2-Methyl furan         & 100\\\\\n",
       "\t Volume & 2-Methylnaphthalene    & 100\\\\\n",
       "\\end{tabular}\n"
      ],
      "text/markdown": [
       "\n",
       "A tibble: 6 × 3\n",
       "\n",
       "| Metric &lt;chr&gt; | Name &lt;chr&gt; | Variable_Presence_Percentage &lt;dbl&gt; |\n",
       "|---|---|---|\n",
       "| Volume | 1,2,4-Trimethylbenzene | 100 |\n",
       "| Volume | 1,3,5-Trimethylbenzene | 100 |\n",
       "| Volume | 1-Methylphenanthrene   | 100 |\n",
       "| Volume | 2,5-Dimethyl furan     | 100 |\n",
       "| Volume | 2-Methyl furan         | 100 |\n",
       "| Volume | 2-Methylnaphthalene    | 100 |\n",
       "\n"
      ],
      "text/plain": [
       "  Metric Name                   Variable_Presence_Percentage\n",
       "1 Volume 1,2,4-Trimethylbenzene 100                         \n",
       "2 Volume 1,3,5-Trimethylbenzene 100                         \n",
       "3 Volume 1-Methylphenanthrene   100                         \n",
       "4 Volume 2,5-Dimethyl furan     100                         \n",
       "5 Volume 2-Methyl furan         100                         \n",
       "6 Volume 2-Methylnaphthalene    100                         "
      ]
     },
     "metadata": {},
     "output_type": "display_data"
    }
   ],
   "source": [
    "variable_presence_df = filter1_df %>%\n",
    "    # if the value isn't MAR count it as being present\n",
    "    mutate(count = ifelse(Value != 'NA', 1, 0)) %>%\n",
    "    group_by(Metric, Name) %>%\n",
    "    # calculating the percentage of variables with data overall\n",
    "    reframe(Variable_Presence_Percentage = (sum(count)/n()) * 100) %>%\n",
    "    arrange(-Variable_Presence_Percentage)\n",
    "\n",
    "# viewing data that passed the filter\n",
    "keep_variables_df = variable_presence_df %>%\n",
    "     filter(Variable_Presence_Percentage >= 50) %>%\n",
    "     unique()\n",
    "\n",
    "head(keep_variables_df)"
   ]
  },
  {
   "cell_type": "code",
   "execution_count": 13,
   "id": "86b71768-8adf-45d6-8d3d-581c3a7d1c80",
   "metadata": {},
   "outputs": [
    {
     "name": "stderr",
     "output_type": "stream",
     "text": [
      "\u001b[1m\u001b[22mJoining with `by = join_by(Metric, Name)`\n"
     ]
    },
    {
     "data": {
      "text/html": [
       "<table class=\"dataframe\">\n",
       "<caption>A tibble: 6 × 9</caption>\n",
       "<thead>\n",
       "\t<tr><th scope=col>Metric</th><th scope=col>Name</th><th scope=col>Data</th><th scope=col>HAWC_ID</th><th scope=col>Study</th><th scope=col>Replicate</th><th scope=col>Chemical_Class</th><th scope=col>DTXSID</th><th scope=col>Value</th></tr>\n",
       "\t<tr><th scope=col>&lt;chr&gt;</th><th scope=col>&lt;chr&gt;</th><th scope=col>&lt;chr&gt;</th><th scope=col>&lt;dbl&gt;</th><th scope=col>&lt;chr&gt;</th><th scope=col>&lt;dbl&gt;</th><th scope=col>&lt;chr&gt;</th><th scope=col>&lt;chr&gt;</th><th scope=col>&lt;chr&gt;</th></tr>\n",
       "</thead>\n",
       "<tbody>\n",
       "\t<tr><td>Volume</td><td>1,2,4-Trimethylbenzene</td><td>WF</td><td>1289926</td><td>Wang et al. 2024        </td><td>1</td><td>VOC</td><td>DTXSID6021402</td><td>730 </td></tr>\n",
       "\t<tr><td>Volume</td><td>1,2,4-Trimethylbenzene</td><td>WF</td><td>1306371</td><td>Ketcherside et al. 2024 </td><td>1</td><td>VOC</td><td>DTXSID6021402</td><td>130 </td></tr>\n",
       "\t<tr><td>Volume</td><td>1,3,5-Trimethylbenzene</td><td>WF</td><td>1289926</td><td>Wang et al. 2024        </td><td>1</td><td>VOC</td><td>DTXSID6026797</td><td>330 </td></tr>\n",
       "\t<tr><td>Volume</td><td>1,3,5-Trimethylbenzene</td><td>WF</td><td>1306371</td><td>Ketcherside et al. 2024 </td><td>1</td><td>VOC</td><td>DTXSID6026797</td><td>110 </td></tr>\n",
       "\t<tr><td>Volume</td><td>1-Methylphenanthrene  </td><td>WS</td><td> 267140</td><td>Alfheim and Ramdahl 1984</td><td>1</td><td>PAH</td><td>DTXSID9020877</td><td>0.82</td></tr>\n",
       "\t<tr><td>Volume</td><td>1-Methylphenanthrene  </td><td>WS</td><td> 993956</td><td>Ihantola et al. 2022    </td><td>1</td><td>PAH</td><td>DTXSID9020877</td><td>28.3</td></tr>\n",
       "</tbody>\n",
       "</table>\n"
      ],
      "text/latex": [
       "A tibble: 6 × 9\n",
       "\\begin{tabular}{lllllllll}\n",
       " Metric & Name & Data & HAWC\\_ID & Study & Replicate & Chemical\\_Class & DTXSID & Value\\\\\n",
       " <chr> & <chr> & <chr> & <dbl> & <chr> & <dbl> & <chr> & <chr> & <chr>\\\\\n",
       "\\hline\n",
       "\t Volume & 1,2,4-Trimethylbenzene & WF & 1289926 & Wang et al. 2024         & 1 & VOC & DTXSID6021402 & 730 \\\\\n",
       "\t Volume & 1,2,4-Trimethylbenzene & WF & 1306371 & Ketcherside et al. 2024  & 1 & VOC & DTXSID6021402 & 130 \\\\\n",
       "\t Volume & 1,3,5-Trimethylbenzene & WF & 1289926 & Wang et al. 2024         & 1 & VOC & DTXSID6026797 & 330 \\\\\n",
       "\t Volume & 1,3,5-Trimethylbenzene & WF & 1306371 & Ketcherside et al. 2024  & 1 & VOC & DTXSID6026797 & 110 \\\\\n",
       "\t Volume & 1-Methylphenanthrene   & WS &  267140 & Alfheim and Ramdahl 1984 & 1 & PAH & DTXSID9020877 & 0.82\\\\\n",
       "\t Volume & 1-Methylphenanthrene   & WS &  993956 & Ihantola et al. 2022     & 1 & PAH & DTXSID9020877 & 28.3\\\\\n",
       "\\end{tabular}\n"
      ],
      "text/markdown": [
       "\n",
       "A tibble: 6 × 9\n",
       "\n",
       "| Metric &lt;chr&gt; | Name &lt;chr&gt; | Data &lt;chr&gt; | HAWC_ID &lt;dbl&gt; | Study &lt;chr&gt; | Replicate &lt;dbl&gt; | Chemical_Class &lt;chr&gt; | DTXSID &lt;chr&gt; | Value &lt;chr&gt; |\n",
       "|---|---|---|---|---|---|---|---|---|\n",
       "| Volume | 1,2,4-Trimethylbenzene | WF | 1289926 | Wang et al. 2024         | 1 | VOC | DTXSID6021402 | 730  |\n",
       "| Volume | 1,2,4-Trimethylbenzene | WF | 1306371 | Ketcherside et al. 2024  | 1 | VOC | DTXSID6021402 | 130  |\n",
       "| Volume | 1,3,5-Trimethylbenzene | WF | 1289926 | Wang et al. 2024         | 1 | VOC | DTXSID6026797 | 330  |\n",
       "| Volume | 1,3,5-Trimethylbenzene | WF | 1306371 | Ketcherside et al. 2024  | 1 | VOC | DTXSID6026797 | 110  |\n",
       "| Volume | 1-Methylphenanthrene   | WS |  267140 | Alfheim and Ramdahl 1984 | 1 | PAH | DTXSID9020877 | 0.82 |\n",
       "| Volume | 1-Methylphenanthrene   | WS |  993956 | Ihantola et al. 2022     | 1 | PAH | DTXSID9020877 | 28.3 |\n",
       "\n"
      ],
      "text/plain": [
       "  Metric Name                   Data HAWC_ID Study                    Replicate\n",
       "1 Volume 1,2,4-Trimethylbenzene WF   1289926 Wang et al. 2024         1        \n",
       "2 Volume 1,2,4-Trimethylbenzene WF   1306371 Ketcherside et al. 2024  1        \n",
       "3 Volume 1,3,5-Trimethylbenzene WF   1289926 Wang et al. 2024         1        \n",
       "4 Volume 1,3,5-Trimethylbenzene WF   1306371 Ketcherside et al. 2024  1        \n",
       "5 Volume 1-Methylphenanthrene   WS    267140 Alfheim and Ramdahl 1984 1        \n",
       "6 Volume 1-Methylphenanthrene   WS    993956 Ihantola et al. 2022     1        \n",
       "  Chemical_Class DTXSID        Value\n",
       "1 VOC            DTXSID6021402 730  \n",
       "2 VOC            DTXSID6021402 130  \n",
       "3 VOC            DTXSID6026797 330  \n",
       "4 VOC            DTXSID6026797 110  \n",
       "5 PAH            DTXSID9020877 0.82 \n",
       "6 PAH            DTXSID9020877 28.3 "
      ]
     },
     "metadata": {},
     "output_type": "display_data"
    }
   ],
   "source": [
    "# only keeping records that passed the background filter\n",
    "filter2_df = inner_join(keep_variables_df[,1:2], filter1_df) %>%\n",
    "    # metals don't have a DTXSID, so making that col their name\n",
    "    mutate(DTXSID = ifelse(DTXSID != 'NA', DTXSID, Name)) \n",
    "    \n",
    "\n",
    "head(filter2_df)"
   ]
  },
  {
   "cell_type": "code",
   "execution_count": 14,
   "id": "606a93db-e66a-4d74-9b15-7b6f6d34b28c",
   "metadata": {},
   "outputs": [
    {
     "data": {
      "text/html": [
       "<style>\n",
       ".list-inline {list-style: none; margin:0; padding: 0}\n",
       ".list-inline>li {display: inline-block}\n",
       ".list-inline>li:not(:last-child)::after {content: \"\\00b7\"; padding: 0 .5ex}\n",
       "</style>\n",
       "<ol class=list-inline><li>4810</li><li>9</li></ol>\n"
      ],
      "text/latex": [
       "\\begin{enumerate*}\n",
       "\\item 4810\n",
       "\\item 9\n",
       "\\end{enumerate*}\n"
      ],
      "text/markdown": [
       "1. 4810\n",
       "2. 9\n",
       "\n",
       "\n"
      ],
      "text/plain": [
       "[1] 4810    9"
      ]
     },
     "metadata": {},
     "output_type": "display_data"
    }
   ],
   "source": [
    "dim(filter2_df)"
   ]
  },
  {
   "cell_type": "markdown",
   "id": "6fd63281-87c6-4702-9834-4ff5be768edd",
   "metadata": {},
   "source": [
    "An additional 408 records were removed, leaving 4882.\n",
    "\n",
    "# Second Variable Background Filter\n",
    "\n",
    "In the intial filter, samples were combined. However, this time variables (ie. metal or chemical) will be split based on their `Metric` (ie. volume or weight) and then retained if that variable in found in both woodsmoke and wildfire samples within volume or weight samples."
   ]
  },
  {
   "cell_type": "code",
   "execution_count": 15,
   "id": "00ed4b32-8851-48f9-a680-c4277545ea8d",
   "metadata": {},
   "outputs": [],
   "source": [
    "split_filtered_df = filter2_df %>%\n",
    "    group_by(Data, Metric) %>%\n",
    "    group_split\n",
    "\n",
    "split_ws_vol_df = split_filtered_df[[3]]\n",
    "split_ws_weight_df = split_filtered_df[[4]]\n",
    "split_wf_vol_df = split_filtered_df[[1]]\n",
    "split_wf_weight_df = split_filtered_df[[2]]"
   ]
  },
  {
   "cell_type": "code",
   "execution_count": 16,
   "id": "c52b40df-d2c5-4604-8fa8-a5f31ad46df7",
   "metadata": {},
   "outputs": [
    {
     "data": {
      "text/html": [
       "80"
      ],
      "text/latex": [
       "80"
      ],
      "text/markdown": [
       "80"
      ],
      "text/plain": [
       "[1] 80"
      ]
     },
     "metadata": {},
     "output_type": "display_data"
    },
    {
     "data": {
      "text/html": [
       "47"
      ],
      "text/latex": [
       "47"
      ],
      "text/markdown": [
       "47"
      ],
      "text/plain": [
       "[1] 47"
      ]
     },
     "metadata": {},
     "output_type": "display_data"
    },
    {
     "data": {
      "text/html": [
       "73"
      ],
      "text/latex": [
       "73"
      ],
      "text/markdown": [
       "73"
      ],
      "text/plain": [
       "[1] 73"
      ]
     },
     "metadata": {},
     "output_type": "display_data"
    },
    {
     "data": {
      "text/html": [
       "61"
      ],
      "text/latex": [
       "61"
      ],
      "text/markdown": [
       "61"
      ],
      "text/plain": [
       "[1] 61"
      ]
     },
     "metadata": {},
     "output_type": "display_data"
    }
   ],
   "source": [
    "# seeing how many unique variables are in each df and if they're consistent in each file\n",
    "length(unique(split_ws_vol_df$Name))\n",
    "length(unique(split_wf_vol_df$Name))\n",
    "length(unique(split_ws_weight_df$Name))\n",
    "length(unique(split_wf_weight_df$Name))"
   ]
  },
  {
   "cell_type": "code",
   "execution_count": 17,
   "id": "97f266f6-d8ee-44ce-a9ab-cc96acfcbf2f",
   "metadata": {},
   "outputs": [
    {
     "data": {
      "text/html": [
       "26"
      ],
      "text/latex": [
       "26"
      ],
      "text/markdown": [
       "26"
      ],
      "text/plain": [
       "[1] 26"
      ]
     },
     "metadata": {},
     "output_type": "display_data"
    },
    {
     "data": {
      "text/html": [
       "26"
      ],
      "text/latex": [
       "26"
      ],
      "text/markdown": [
       "26"
      ],
      "text/plain": [
       "[1] 26"
      ]
     },
     "metadata": {},
     "output_type": "display_data"
    },
    {
     "data": {
      "text/html": [
       "30"
      ],
      "text/latex": [
       "30"
      ],
      "text/markdown": [
       "30"
      ],
      "text/plain": [
       "[1] 30"
      ]
     },
     "metadata": {},
     "output_type": "display_data"
    },
    {
     "data": {
      "text/html": [
       "30"
      ],
      "text/latex": [
       "30"
      ],
      "text/markdown": [
       "30"
      ],
      "text/plain": [
       "[1] 30"
      ]
     },
     "metadata": {},
     "output_type": "display_data"
    }
   ],
   "source": [
    "# they're not so first getting variables that are in weight or volume samples\n",
    "consistent_wf_vol_df = split_wf_vol_df %>%\n",
    "    filter(Name %in% unique(split_ws_vol_df$Name))\n",
    "consistent_ws_vol_df = split_ws_vol_df %>%\n",
    "    filter(Name %in% consistent_wf_vol_df$Name)\n",
    "consistent_wf_weight_df = split_wf_weight_df %>%\n",
    "    filter(Name %in% unique(split_ws_weight_df$Name))\n",
    "consistent_ws_weight_df = split_ws_weight_df %>%\n",
    "    filter(Name %in% consistent_wf_weight_df$Name)\n",
    "\n",
    "length(unique(consistent_wf_vol_df$Name))\n",
    "length(unique(consistent_ws_vol_df$Name))\n",
    "length(unique(consistent_wf_weight_df$Name))\n",
    "length(unique(consistent_ws_weight_df$Name))"
   ]
  },
  {
   "cell_type": "markdown",
   "id": "4b604def-71e1-482c-ab06-ed64e9e7d830",
   "metadata": {},
   "source": [
    "There were 80, 47, 73 and 61 woodsmoke weight, woodsmoke volume, wildfire weight, and wildfire volume samples, respectively. 26 variables were common between volume samples and 30 were common between weight records and will be retained."
   ]
  },
  {
   "cell_type": "code",
   "execution_count": 18,
   "id": "0d22def2-eb27-4093-8bbe-8a7c8082b9ce",
   "metadata": {},
   "outputs": [
    {
     "data": {
      "text/html": [
       "<table class=\"dataframe\">\n",
       "<caption>A tibble: 6 × 9</caption>\n",
       "<thead>\n",
       "\t<tr><th scope=col>Metric</th><th scope=col>Name</th><th scope=col>Data</th><th scope=col>HAWC_ID</th><th scope=col>Study</th><th scope=col>Replicate</th><th scope=col>Chemical_Class</th><th scope=col>DTXSID</th><th scope=col>Value</th></tr>\n",
       "\t<tr><th scope=col>&lt;chr&gt;</th><th scope=col>&lt;chr&gt;</th><th scope=col>&lt;chr&gt;</th><th scope=col>&lt;dbl&gt;</th><th scope=col>&lt;chr&gt;</th><th scope=col>&lt;dbl&gt;</th><th scope=col>&lt;chr&gt;</th><th scope=col>&lt;chr&gt;</th><th scope=col>&lt;chr&gt;</th></tr>\n",
       "</thead>\n",
       "<tbody>\n",
       "\t<tr><td>Volume</td><td>Acenaphthylene</td><td>WS</td><td>1263480</td><td>Burnet et al. 1990</td><td>1</td><td>PAH</td><td>DTXSID3023845</td><td>6187000 </td></tr>\n",
       "\t<tr><td>Volume</td><td>Acenaphthylene</td><td>WS</td><td>1263480</td><td>Burnet et al. 1990</td><td>2</td><td>PAH</td><td>DTXSID3023845</td><td>18890500</td></tr>\n",
       "\t<tr><td>Volume</td><td>Acenaphthylene</td><td>WS</td><td>1263480</td><td>Burnet et al. 1990</td><td>3</td><td>PAH</td><td>DTXSID3023845</td><td>7806000 </td></tr>\n",
       "\t<tr><td>Volume</td><td>Acenaphthylene</td><td>WS</td><td>1263484</td><td>Leese et al. 1989 </td><td>1</td><td>PAH</td><td>DTXSID3023845</td><td>1100000 </td></tr>\n",
       "\t<tr><td>Volume</td><td>Acenaphthylene</td><td>WS</td><td>1263484</td><td>Leese et al. 1989 </td><td>2</td><td>PAH</td><td>DTXSID3023845</td><td>2800000 </td></tr>\n",
       "\t<tr><td>Volume</td><td>Acenaphthylene</td><td>WS</td><td> 429445</td><td>Rajput 2010       </td><td>1</td><td>PAH</td><td>DTXSID3023845</td><td>53500   </td></tr>\n",
       "</tbody>\n",
       "</table>\n"
      ],
      "text/latex": [
       "A tibble: 6 × 9\n",
       "\\begin{tabular}{lllllllll}\n",
       " Metric & Name & Data & HAWC\\_ID & Study & Replicate & Chemical\\_Class & DTXSID & Value\\\\\n",
       " <chr> & <chr> & <chr> & <dbl> & <chr> & <dbl> & <chr> & <chr> & <chr>\\\\\n",
       "\\hline\n",
       "\t Volume & Acenaphthylene & WS & 1263480 & Burnet et al. 1990 & 1 & PAH & DTXSID3023845 & 6187000 \\\\\n",
       "\t Volume & Acenaphthylene & WS & 1263480 & Burnet et al. 1990 & 2 & PAH & DTXSID3023845 & 18890500\\\\\n",
       "\t Volume & Acenaphthylene & WS & 1263480 & Burnet et al. 1990 & 3 & PAH & DTXSID3023845 & 7806000 \\\\\n",
       "\t Volume & Acenaphthylene & WS & 1263484 & Leese et al. 1989  & 1 & PAH & DTXSID3023845 & 1100000 \\\\\n",
       "\t Volume & Acenaphthylene & WS & 1263484 & Leese et al. 1989  & 2 & PAH & DTXSID3023845 & 2800000 \\\\\n",
       "\t Volume & Acenaphthylene & WS &  429445 & Rajput 2010        & 1 & PAH & DTXSID3023845 & 53500   \\\\\n",
       "\\end{tabular}\n"
      ],
      "text/markdown": [
       "\n",
       "A tibble: 6 × 9\n",
       "\n",
       "| Metric &lt;chr&gt; | Name &lt;chr&gt; | Data &lt;chr&gt; | HAWC_ID &lt;dbl&gt; | Study &lt;chr&gt; | Replicate &lt;dbl&gt; | Chemical_Class &lt;chr&gt; | DTXSID &lt;chr&gt; | Value &lt;chr&gt; |\n",
       "|---|---|---|---|---|---|---|---|---|\n",
       "| Volume | Acenaphthylene | WS | 1263480 | Burnet et al. 1990 | 1 | PAH | DTXSID3023845 | 6187000  |\n",
       "| Volume | Acenaphthylene | WS | 1263480 | Burnet et al. 1990 | 2 | PAH | DTXSID3023845 | 18890500 |\n",
       "| Volume | Acenaphthylene | WS | 1263480 | Burnet et al. 1990 | 3 | PAH | DTXSID3023845 | 7806000  |\n",
       "| Volume | Acenaphthylene | WS | 1263484 | Leese et al. 1989  | 1 | PAH | DTXSID3023845 | 1100000  |\n",
       "| Volume | Acenaphthylene | WS | 1263484 | Leese et al. 1989  | 2 | PAH | DTXSID3023845 | 2800000  |\n",
       "| Volume | Acenaphthylene | WS |  429445 | Rajput 2010        | 1 | PAH | DTXSID3023845 | 53500    |\n",
       "\n"
      ],
      "text/plain": [
       "  Metric Name           Data HAWC_ID Study              Replicate\n",
       "1 Volume Acenaphthylene WS   1263480 Burnet et al. 1990 1        \n",
       "2 Volume Acenaphthylene WS   1263480 Burnet et al. 1990 2        \n",
       "3 Volume Acenaphthylene WS   1263480 Burnet et al. 1990 3        \n",
       "4 Volume Acenaphthylene WS   1263484 Leese et al. 1989  1        \n",
       "5 Volume Acenaphthylene WS   1263484 Leese et al. 1989  2        \n",
       "6 Volume Acenaphthylene WS    429445 Rajput 2010        1        \n",
       "  Chemical_Class DTXSID        Value   \n",
       "1 PAH            DTXSID3023845 6187000 \n",
       "2 PAH            DTXSID3023845 18890500\n",
       "3 PAH            DTXSID3023845 7806000 \n",
       "4 PAH            DTXSID3023845 1100000 \n",
       "5 PAH            DTXSID3023845 2800000 \n",
       "6 PAH            DTXSID3023845 53500   "
      ]
     },
     "metadata": {},
     "output_type": "display_data"
    }
   ],
   "source": [
    "# recombining data\n",
    "vol_df = rbind(consistent_ws_vol_df, consistent_wf_vol_df)\n",
    "weight_df = rbind(consistent_ws_weight_df, consistent_wf_weight_df)\n",
    "\n",
    "head(vol_df)"
   ]
  },
  {
   "cell_type": "code",
   "execution_count": 19,
   "id": "58902949-89fa-4132-b615-f88ad24dc098",
   "metadata": {},
   "outputs": [],
   "source": [
    "# # ADD WORDS\n",
    "# processed_df = rbind(vol_df, weight_df) %>%\n",
    "#     mutate(Value = ifelse(Value == 'ND', '0', Value))\n",
    "\n",
    "# processed_df$Value = as.numeric(processed_df$Value)"
   ]
  },
  {
   "cell_type": "code",
   "execution_count": 20,
   "id": "71aabfcd-d6a1-4a68-a845-1e890ab2bab7",
   "metadata": {},
   "outputs": [],
   "source": [
    "# # exporting\n",
    "# write.xlsx(processed_df, paste0(Output,\"/\", \"Processed_Data_\", cur_date, \".xlsx\"), \n",
    "#            rowNames = FALSE)"
   ]
  },
  {
   "cell_type": "markdown",
   "id": "12249f65-761e-4dbc-8231-8c455e6d3120",
   "metadata": {},
   "source": [
    "# QRILC Imputation\n",
    "\n",
    "Imputing non-detect data using QRILC didn't work, so I'm just replacing the non-detect data with zeros."
   ]
  },
  {
   "cell_type": "code",
   "execution_count": 21,
   "id": "f2daf4ed-f7ff-41f7-8e9a-e38067235cd5",
   "metadata": {},
   "outputs": [
    {
     "data": {
      "text/html": [
       "<table class=\"dataframe\">\n",
       "<caption>A tibble: 6 × 9</caption>\n",
       "<thead>\n",
       "\t<tr><th scope=col>Metric</th><th scope=col>Name</th><th scope=col>Data</th><th scope=col>HAWC_ID</th><th scope=col>Study</th><th scope=col>Replicate</th><th scope=col>Chemical_Class</th><th scope=col>DTXSID</th><th scope=col>Value</th></tr>\n",
       "\t<tr><th scope=col>&lt;chr&gt;</th><th scope=col>&lt;chr&gt;</th><th scope=col>&lt;chr&gt;</th><th scope=col>&lt;dbl&gt;</th><th scope=col>&lt;chr&gt;</th><th scope=col>&lt;dbl&gt;</th><th scope=col>&lt;chr&gt;</th><th scope=col>&lt;chr&gt;</th><th scope=col>&lt;chr&gt;</th></tr>\n",
       "</thead>\n",
       "<tbody>\n",
       "\t<tr><td>Weight</td><td>Fluoranthene</td><td>WS</td><td>1098462</td><td>Niu et al. 2023      </td><td>3</td><td>PAH  </td><td>DTXSID3024104</td><td>ND</td></tr>\n",
       "\t<tr><td>Weight</td><td>Phenanthrene</td><td>WS</td><td>1098462</td><td>Niu et al. 2023      </td><td>3</td><td>PAH  </td><td>DTXSID6024254</td><td>ND</td></tr>\n",
       "\t<tr><td>Weight</td><td>Phenanthrene</td><td>WS</td><td> 914540</td><td>Verma et al. 2021    </td><td>7</td><td>PAH  </td><td>DTXSID6024254</td><td>ND</td></tr>\n",
       "\t<tr><td>Weight</td><td>Phenanthrene</td><td>WS</td><td> 914540</td><td>Verma et al. 2021    </td><td>8</td><td>PAH  </td><td>DTXSID6024254</td><td>ND</td></tr>\n",
       "\t<tr><td>Weight</td><td>Ni          </td><td>WS</td><td> 822010</td><td>Farina et al. 2019   </td><td>1</td><td>Metal</td><td>Ni           </td><td>ND</td></tr>\n",
       "\t<tr><td>Weight</td><td>Ni          </td><td>WS</td><td> 299223</td><td>Kasurinen et al. 2015</td><td>2</td><td>Metal</td><td>Ni           </td><td>ND</td></tr>\n",
       "</tbody>\n",
       "</table>\n"
      ],
      "text/latex": [
       "A tibble: 6 × 9\n",
       "\\begin{tabular}{lllllllll}\n",
       " Metric & Name & Data & HAWC\\_ID & Study & Replicate & Chemical\\_Class & DTXSID & Value\\\\\n",
       " <chr> & <chr> & <chr> & <dbl> & <chr> & <dbl> & <chr> & <chr> & <chr>\\\\\n",
       "\\hline\n",
       "\t Weight & Fluoranthene & WS & 1098462 & Niu et al. 2023       & 3 & PAH   & DTXSID3024104 & ND\\\\\n",
       "\t Weight & Phenanthrene & WS & 1098462 & Niu et al. 2023       & 3 & PAH   & DTXSID6024254 & ND\\\\\n",
       "\t Weight & Phenanthrene & WS &  914540 & Verma et al. 2021     & 7 & PAH   & DTXSID6024254 & ND\\\\\n",
       "\t Weight & Phenanthrene & WS &  914540 & Verma et al. 2021     & 8 & PAH   & DTXSID6024254 & ND\\\\\n",
       "\t Weight & Ni           & WS &  822010 & Farina et al. 2019    & 1 & Metal & Ni            & ND\\\\\n",
       "\t Weight & Ni           & WS &  299223 & Kasurinen et al. 2015 & 2 & Metal & Ni            & ND\\\\\n",
       "\\end{tabular}\n"
      ],
      "text/markdown": [
       "\n",
       "A tibble: 6 × 9\n",
       "\n",
       "| Metric &lt;chr&gt; | Name &lt;chr&gt; | Data &lt;chr&gt; | HAWC_ID &lt;dbl&gt; | Study &lt;chr&gt; | Replicate &lt;dbl&gt; | Chemical_Class &lt;chr&gt; | DTXSID &lt;chr&gt; | Value &lt;chr&gt; |\n",
       "|---|---|---|---|---|---|---|---|---|\n",
       "| Weight | Fluoranthene | WS | 1098462 | Niu et al. 2023       | 3 | PAH   | DTXSID3024104 | ND |\n",
       "| Weight | Phenanthrene | WS | 1098462 | Niu et al. 2023       | 3 | PAH   | DTXSID6024254 | ND |\n",
       "| Weight | Phenanthrene | WS |  914540 | Verma et al. 2021     | 7 | PAH   | DTXSID6024254 | ND |\n",
       "| Weight | Phenanthrene | WS |  914540 | Verma et al. 2021     | 8 | PAH   | DTXSID6024254 | ND |\n",
       "| Weight | Ni           | WS |  822010 | Farina et al. 2019    | 1 | Metal | Ni            | ND |\n",
       "| Weight | Ni           | WS |  299223 | Kasurinen et al. 2015 | 2 | Metal | Ni            | ND |\n",
       "\n"
      ],
      "text/plain": [
       "  Metric Name         Data HAWC_ID Study                 Replicate\n",
       "1 Weight Fluoranthene WS   1098462 Niu et al. 2023       3        \n",
       "2 Weight Phenanthrene WS   1098462 Niu et al. 2023       3        \n",
       "3 Weight Phenanthrene WS    914540 Verma et al. 2021     7        \n",
       "4 Weight Phenanthrene WS    914540 Verma et al. 2021     8        \n",
       "5 Weight Ni           WS    822010 Farina et al. 2019    1        \n",
       "6 Weight Ni           WS    299223 Kasurinen et al. 2015 2        \n",
       "  Chemical_Class DTXSID        Value\n",
       "1 PAH            DTXSID3024104 ND   \n",
       "2 PAH            DTXSID6024254 ND   \n",
       "3 PAH            DTXSID6024254 ND   \n",
       "4 PAH            DTXSID6024254 ND   \n",
       "5 Metal          Ni            ND   \n",
       "6 Metal          Ni            ND   "
      ]
     },
     "metadata": {},
     "output_type": "display_data"
    }
   ],
   "source": [
    "# head(weight_df %>%\n",
    "#     filter(Value == 'ND'))"
   ]
  },
  {
   "attachments": {},
   "cell_type": "markdown",
   "id": "a9baaf84-e839-47f9-a11e-0fba80cae22c",
   "metadata": {},
   "source": [
    "Only the weight dataframe had non-detect values representing MNAR data. All MAR data will be imputed using random forest (RF).\n",
    "\n",
    "# RF Imputation"
   ]
  },
  {
   "cell_type": "code",
   "execution_count": 23,
   "id": "d435523e-a9be-47de-a079-3bd74d8f1b27",
   "metadata": {},
   "outputs": [
    {
     "name": "stderr",
     "output_type": "stream",
     "text": [
      "Warning message:\n",
      "“\u001b[1m\u001b[22mThere were 220 warnings in `mutate()`.\n",
      "The first warning was:\n",
      "\u001b[1m\u001b[22m\u001b[36mℹ\u001b[39m In argument: `Avg_Value = mean(as.numeric(Value, na.rm = TRUE))`.\n",
      "\u001b[36mℹ\u001b[39m In group 244: `Data = \"WS\"`, `HAWC_ID = 267105`, `Name = \"Acenaphthene\"`.\n",
      "Caused by warning in `mean()`:\n",
      "\u001b[33m!\u001b[39m NAs introduced by coercion\n",
      "\u001b[1m\u001b[22m\u001b[36mℹ\u001b[39m Run `dplyr::last_dplyr_warnings()` to see the 219 remaining warnings.”\n"
     ]
    },
    {
     "data": {
      "text/html": [
       "<table class=\"dataframe\">\n",
       "<caption>A grouped_df: 6 × 8</caption>\n",
       "<thead>\n",
       "\t<tr><th scope=col>Metric</th><th scope=col>Name</th><th scope=col>Data</th><th scope=col>HAWC_ID</th><th scope=col>Study</th><th scope=col>Chemical_Class</th><th scope=col>DTXSID</th><th scope=col>Avg_Value</th></tr>\n",
       "\t<tr><th scope=col>&lt;chr&gt;</th><th scope=col>&lt;chr&gt;</th><th scope=col>&lt;chr&gt;</th><th scope=col>&lt;dbl&gt;</th><th scope=col>&lt;chr&gt;</th><th scope=col>&lt;chr&gt;</th><th scope=col>&lt;chr&gt;</th><th scope=col>&lt;dbl&gt;</th></tr>\n",
       "</thead>\n",
       "<tbody>\n",
       "\t<tr><td>Weight</td><td>2,3-Dimethylnaphthalene</td><td>WS</td><td> 821855</td><td>Erlandsson et al. 2020</td><td>PAH</td><td>DTXSID2060383</td><td> 0.05</td></tr>\n",
       "\t<tr><td>Weight</td><td>2,3-Dimethylnaphthalene</td><td>WS</td><td>1257056</td><td>McCarrick et al. 2024 </td><td>PAH</td><td>DTXSID2060383</td><td> 0.04</td></tr>\n",
       "\t<tr><td>Weight</td><td>2-Methylchrysene       </td><td>WS</td><td> 821855</td><td>Erlandsson et al. 2020</td><td>PAH</td><td>DTXSID8074819</td><td> 9.75</td></tr>\n",
       "\t<tr><td>Weight</td><td>2-Methylchrysene       </td><td>WS</td><td>1257056</td><td>McCarrick et al. 2024 </td><td>PAH</td><td>DTXSID8074819</td><td>15.45</td></tr>\n",
       "\t<tr><td>Weight</td><td>2-Methylphenanthrene   </td><td>WS</td><td> 267105</td><td>Danielsen et al. 2011 </td><td>PAH</td><td>DTXSID4020878</td><td>23.50</td></tr>\n",
       "\t<tr><td>Weight</td><td>2-Methylphenanthrene   </td><td>WS</td><td> 821855</td><td>Erlandsson et al. 2020</td><td>PAH</td><td>DTXSID4020878</td><td> 3.50</td></tr>\n",
       "</tbody>\n",
       "</table>\n"
      ],
      "text/latex": [
       "A grouped\\_df: 6 × 8\n",
       "\\begin{tabular}{llllllll}\n",
       " Metric & Name & Data & HAWC\\_ID & Study & Chemical\\_Class & DTXSID & Avg\\_Value\\\\\n",
       " <chr> & <chr> & <chr> & <dbl> & <chr> & <chr> & <chr> & <dbl>\\\\\n",
       "\\hline\n",
       "\t Weight & 2,3-Dimethylnaphthalene & WS &  821855 & Erlandsson et al. 2020 & PAH & DTXSID2060383 &  0.05\\\\\n",
       "\t Weight & 2,3-Dimethylnaphthalene & WS & 1257056 & McCarrick et al. 2024  & PAH & DTXSID2060383 &  0.04\\\\\n",
       "\t Weight & 2-Methylchrysene        & WS &  821855 & Erlandsson et al. 2020 & PAH & DTXSID8074819 &  9.75\\\\\n",
       "\t Weight & 2-Methylchrysene        & WS & 1257056 & McCarrick et al. 2024  & PAH & DTXSID8074819 & 15.45\\\\\n",
       "\t Weight & 2-Methylphenanthrene    & WS &  267105 & Danielsen et al. 2011  & PAH & DTXSID4020878 & 23.50\\\\\n",
       "\t Weight & 2-Methylphenanthrene    & WS &  821855 & Erlandsson et al. 2020 & PAH & DTXSID4020878 &  3.50\\\\\n",
       "\\end{tabular}\n"
      ],
      "text/markdown": [
       "\n",
       "A grouped_df: 6 × 8\n",
       "\n",
       "| Metric &lt;chr&gt; | Name &lt;chr&gt; | Data &lt;chr&gt; | HAWC_ID &lt;dbl&gt; | Study &lt;chr&gt; | Chemical_Class &lt;chr&gt; | DTXSID &lt;chr&gt; | Avg_Value &lt;dbl&gt; |\n",
       "|---|---|---|---|---|---|---|---|\n",
       "| Weight | 2,3-Dimethylnaphthalene | WS |  821855 | Erlandsson et al. 2020 | PAH | DTXSID2060383 |  0.05 |\n",
       "| Weight | 2,3-Dimethylnaphthalene | WS | 1257056 | McCarrick et al. 2024  | PAH | DTXSID2060383 |  0.04 |\n",
       "| Weight | 2-Methylchrysene        | WS |  821855 | Erlandsson et al. 2020 | PAH | DTXSID8074819 |  9.75 |\n",
       "| Weight | 2-Methylchrysene        | WS | 1257056 | McCarrick et al. 2024  | PAH | DTXSID8074819 | 15.45 |\n",
       "| Weight | 2-Methylphenanthrene    | WS |  267105 | Danielsen et al. 2011  | PAH | DTXSID4020878 | 23.50 |\n",
       "| Weight | 2-Methylphenanthrene    | WS |  821855 | Erlandsson et al. 2020 | PAH | DTXSID4020878 |  3.50 |\n",
       "\n"
      ],
      "text/plain": [
       "  Metric Name                    Data HAWC_ID Study                 \n",
       "1 Weight 2,3-Dimethylnaphthalene WS    821855 Erlandsson et al. 2020\n",
       "2 Weight 2,3-Dimethylnaphthalene WS   1257056 McCarrick et al. 2024 \n",
       "3 Weight 2-Methylchrysene        WS    821855 Erlandsson et al. 2020\n",
       "4 Weight 2-Methylchrysene        WS   1257056 McCarrick et al. 2024 \n",
       "5 Weight 2-Methylphenanthrene    WS    267105 Danielsen et al. 2011 \n",
       "6 Weight 2-Methylphenanthrene    WS    821855 Erlandsson et al. 2020\n",
       "  Chemical_Class DTXSID        Avg_Value\n",
       "1 PAH            DTXSID2060383  0.05    \n",
       "2 PAH            DTXSID2060383  0.04    \n",
       "3 PAH            DTXSID8074819  9.75    \n",
       "4 PAH            DTXSID8074819 15.45    \n",
       "5 PAH            DTXSID4020878 23.50    \n",
       "6 PAH            DTXSID4020878  3.50    "
      ]
     },
     "metadata": {},
     "output_type": "display_data"
    }
   ],
   "source": [
    "preimputed_weight_df = weight_df %>%\n",
    "    mutate(Value = ifelse(Value == 'ND', '0', Value)) %>%\n",
    "    group_by(Data, HAWC_ID, Name) %>%\n",
    "    mutate(Avg_Value = mean(as.numeric(Value, na.rm = TRUE))) %>%\n",
    "    select(-c(\"Replicate\", \"Value\")) %>%\n",
    "    unique()\n",
    "    # creating sample ids\n",
    "    #unite(\"SampleID\", c(colnames(weight_df)[c(3,4,6)]), sep = \"_\")\n",
    "\n",
    "#preimputed_weight_df$Value = as.numeric(preimputed_weight_df$Value)\n",
    "\n",
    "head(preimputed_weight_df)"
   ]
  },
  {
   "cell_type": "code",
   "execution_count": 31,
   "id": "a4cba8cb-1ead-4414-aa4f-c2a7dce47349",
   "metadata": {},
   "outputs": [
    {
     "data": {
      "text/html": [
       "8"
      ],
      "text/latex": [
       "8"
      ],
      "text/markdown": [
       "8"
      ],
      "text/plain": [
       "[1] 8"
      ]
     },
     "metadata": {},
     "output_type": "display_data"
    }
   ],
   "source": [
    "ncol(preimputed_weight_df)"
   ]
  },
  {
   "cell_type": "code",
   "execution_count": 58,
   "id": "f585ce82-69ed-4c15-9764-099830f74e75",
   "metadata": {},
   "outputs": [
    {
     "name": "stderr",
     "output_type": "stream",
     "text": [
      "Warning message in randomForest.default(x = obsX, y = obsY, ntree = ntree, mtry = mtry, :\n",
      "“The response has five or fewer unique values.  Are you sure you want to do regression?”\n",
      "Warning message in randomForest.default(x = obsX, y = obsY, ntree = ntree, mtry = mtry, :\n",
      "“The response has five or fewer unique values.  Are you sure you want to do regression?”\n",
      "Warning message in randomForest.default(x = obsX, y = obsY, ntree = ntree, mtry = mtry, :\n",
      "“The response has five or fewer unique values.  Are you sure you want to do regression?”\n",
      "Warning message in randomForest.default(x = obsX, y = obsY, ntree = ntree, mtry = mtry, :\n",
      "“The response has five or fewer unique values.  Are you sure you want to do regression?”\n",
      "Warning message in randomForest.default(x = obsX, y = obsY, ntree = ntree, mtry = mtry, :\n",
      "“The response has five or fewer unique values.  Are you sure you want to do regression?”\n",
      "Warning message in randomForest.default(x = obsX, y = obsY, ntree = ntree, mtry = mtry, :\n",
      "“The response has five or fewer unique values.  Are you sure you want to do regression?”\n",
      "Warning message in randomForest.default(x = obsX, y = obsY, ntree = ntree, mtry = mtry, :\n",
      "“The response has five or fewer unique values.  Are you sure you want to do regression?”\n",
      "Warning message in randomForest.default(x = obsX, y = obsY, ntree = ntree, mtry = mtry, :\n",
      "“The response has five or fewer unique values.  Are you sure you want to do regression?”\n",
      "Warning message in randomForest.default(x = obsX, y = obsY, ntree = ntree, mtry = mtry, :\n",
      "“The response has five or fewer unique values.  Are you sure you want to do regression?”\n",
      "Warning message in randomForest.default(x = obsX, y = obsY, ntree = ntree, mtry = mtry, :\n",
      "“The response has five or fewer unique values.  Are you sure you want to do regression?”\n"
     ]
    },
    {
     "ename": "ERROR",
     "evalue": "Error in if (n == 0) stop(\"data (x) has 0 rows\"): argument is of length zero\n",
     "output_type": "error",
     "traceback": [
      "Error in if (n == 0) stop(\"data (x) has 0 rows\"): argument is of length zero\nTraceback:\n",
      "1. missForest(as.matrix(df))",
      "2. randomForest(x = obsX, y = obsY, ntree = ntree, mtry = mtry, \n .     replace = replace, sampsize = if (!is.null(sampsize)) sampsize[[varInd]] else if (replace) nrow(obsX) else ceiling(0.632 * \n .         nrow(obsX)), nodesize = if (!is.null(nodesize)) nodesize[1] else 1, \n .     maxnodes = if (!is.null(maxnodes)) maxnodes else NULL)",
      "3. randomForest.default(x = obsX, y = obsY, ntree = ntree, mtry = mtry, \n .     replace = replace, sampsize = if (!is.null(sampsize)) sampsize[[varInd]] else if (replace) nrow(obsX) else ceiling(0.632 * \n .         nrow(obsX)), nodesize = if (!is.null(nodesize)) nodesize[1] else 1, \n .     maxnodes = if (!is.null(maxnodes)) maxnodes else NULL)",
      "4. .handleSimpleError(function (cnd) \n . {\n .     watcher$capture_plot_and_output()\n .     cnd <- sanitize_call(cnd)\n .     watcher$push(cnd)\n .     switch(on_error, continue = invokeRestart(\"eval_continue\"), \n .         stop = invokeRestart(\"eval_stop\"), error = NULL)\n . }, \"argument is of length zero\", base::quote(if (n == 0) stop(\"data (x) has 0 rows\")))"
     ]
    }
   ],
   "source": [
    "random_forest_imputation = function(dataset){\n",
    "    # ADD WORDS\n",
    "    wider_dataset = dataset %>%\n",
    "        pivot_wider(names_from = DTXSID, values_from = Avg_Value)\n",
    "    preimputed_df = wider_dataset[,8:ncol(wider_dataset)]\n",
    "    # had to drop rows (studies) that only had missing data\n",
    "    df = preimputed_df[rowSums(is.na(preimputed_df)) != ncol(preimputed_df), ]\n",
    "    \n",
    "    imputed_RF_object = missForest(as.matrix(df))\n",
    "    imputed_RF_df = imputed_RF_object$ximp\n",
    "    imputed_final_df = data.frame(cbind(wider_dataset[,1:7], imputed_RF_df)) %>%\n",
    "        pivot_longer(cols = 8:ncol(wider_dataset), names_to = \"DTXSID\", values_to = \"Value\")\n",
    "    \n",
    "    return(imputed_final_df)\n",
    "}\n",
    "\n",
    "\n",
    "# calling fn\n",
    "a = random_forest_imputation(preimputed_weight_df %>% filter(Data == 'WS'))"
   ]
  },
  {
   "cell_type": "code",
   "execution_count": 48,
   "id": "352d4f00-ece3-472a-a02f-badd87e78b4e",
   "metadata": {},
   "outputs": [
    {
     "data": {
      "text/html": [
       "<style>\n",
       ".list-inline {list-style: none; margin:0; padding: 0}\n",
       ".list-inline>li {display: inline-block}\n",
       ".list-inline>li:not(:last-child)::after {content: \"\\00b7\"; padding: 0 .5ex}\n",
       "</style>\n",
       "<ol class=list-inline><li>698</li><li>30</li></ol>\n"
      ],
      "text/latex": [
       "\\begin{enumerate*}\n",
       "\\item 698\n",
       "\\item 30\n",
       "\\end{enumerate*}\n"
      ],
      "text/markdown": [
       "1. 698\n",
       "2. 30\n",
       "\n",
       "\n"
      ],
      "text/plain": [
       "[1] 698  30"
      ]
     },
     "metadata": {},
     "output_type": "display_data"
    }
   ],
   "source": [
    "l = data.frame(a[,8:37])\n",
    "dim(l)"
   ]
  },
  {
   "cell_type": "code",
   "execution_count": 49,
   "id": "ac037228-6942-4b0a-99ad-c776b83f5732",
   "metadata": {
    "scrolled": true
   },
   "outputs": [
    {
     "data": {
      "text/html": [
       "<table class=\"dataframe\">\n",
       "<caption>A data.frame: 475 × 30</caption>\n",
       "<thead>\n",
       "\t<tr><th></th><th scope=col>DTXSID8074819</th><th scope=col>DTXSID4020878</th><th scope=col>B</th><th scope=col>DTXSID4075459</th><th scope=col>DTXSID4020161</th><th scope=col>Cu</th><th scope=col>DTXSID0047741</th><th scope=col>K</th><th scope=col>Mg</th><th scope=col>Zn</th><th scope=col>⋯</th><th scope=col>Si</th><th scope=col>Sr</th><th scope=col>Ti</th><th scope=col>Ba</th><th scope=col>Rb</th><th scope=col>DTXSID9059757</th><th scope=col>Li</th><th scope=col>Bi</th><th scope=col>Th</th><th scope=col>DTXSID1025649</th></tr>\n",
       "\t<tr><th></th><th scope=col>&lt;dbl&gt;</th><th scope=col>&lt;dbl&gt;</th><th scope=col>&lt;dbl&gt;</th><th scope=col>&lt;dbl&gt;</th><th scope=col>&lt;dbl&gt;</th><th scope=col>&lt;dbl&gt;</th><th scope=col>&lt;dbl&gt;</th><th scope=col>&lt;dbl&gt;</th><th scope=col>&lt;dbl&gt;</th><th scope=col>&lt;dbl&gt;</th><th scope=col>⋯</th><th scope=col>&lt;dbl&gt;</th><th scope=col>&lt;dbl&gt;</th><th scope=col>&lt;dbl&gt;</th><th scope=col>&lt;dbl&gt;</th><th scope=col>&lt;dbl&gt;</th><th scope=col>&lt;dbl&gt;</th><th scope=col>&lt;dbl&gt;</th><th scope=col>&lt;dbl&gt;</th><th scope=col>&lt;dbl&gt;</th><th scope=col>&lt;dbl&gt;</th></tr>\n",
       "</thead>\n",
       "<tbody>\n",
       "\t<tr><th scope=row>3</th><td> 9.75</td><td>    NA</td><td> NA</td><td>       NA</td><td>   NA</td><td>       NA</td><td>NA</td><td>NA</td><td>NA</td><td>NA</td><td>⋯</td><td>NA</td><td>NA</td><td>NA</td><td>NA</td><td>NA</td><td>NA</td><td>NA</td><td>NA</td><td>NA</td><td>NA</td></tr>\n",
       "\t<tr><th scope=row>4</th><td>15.45</td><td>    NA</td><td> NA</td><td>       NA</td><td>   NA</td><td>       NA</td><td>NA</td><td>NA</td><td>NA</td><td>NA</td><td>⋯</td><td>NA</td><td>NA</td><td>NA</td><td>NA</td><td>NA</td><td>NA</td><td>NA</td><td>NA</td><td>NA</td><td>NA</td></tr>\n",
       "\t<tr><th scope=row>5</th><td>   NA</td><td>23.500</td><td> NA</td><td>       NA</td><td>   NA</td><td>       NA</td><td>NA</td><td>NA</td><td>NA</td><td>NA</td><td>⋯</td><td>NA</td><td>NA</td><td>NA</td><td>NA</td><td>NA</td><td>NA</td><td>NA</td><td>NA</td><td>NA</td><td>NA</td></tr>\n",
       "\t<tr><th scope=row>6</th><td>   NA</td><td> 3.500</td><td> NA</td><td>       NA</td><td>   NA</td><td>       NA</td><td>NA</td><td>NA</td><td>NA</td><td>NA</td><td>⋯</td><td>NA</td><td>NA</td><td>NA</td><td>NA</td><td>NA</td><td>NA</td><td>NA</td><td>NA</td><td>NA</td><td>NA</td></tr>\n",
       "\t<tr><th scope=row>7</th><td>   NA</td><td> 5.661</td><td> NA</td><td>       NA</td><td>   NA</td><td>       NA</td><td>NA</td><td>NA</td><td>NA</td><td>NA</td><td>⋯</td><td>NA</td><td>NA</td><td>NA</td><td>NA</td><td>NA</td><td>NA</td><td>NA</td><td>NA</td><td>NA</td><td>NA</td></tr>\n",
       "\t<tr><th scope=row>8</th><td>   NA</td><td>    NA</td><td>288</td><td>       NA</td><td>   NA</td><td>       NA</td><td>NA</td><td>NA</td><td>NA</td><td>NA</td><td>⋯</td><td>NA</td><td>NA</td><td>NA</td><td>NA</td><td>NA</td><td>NA</td><td>NA</td><td>NA</td><td>NA</td><td>NA</td></tr>\n",
       "\t<tr><th scope=row>9</th><td>   NA</td><td>    NA</td><td> NA</td><td> 21.00000</td><td>   NA</td><td>       NA</td><td>NA</td><td>NA</td><td>NA</td><td>NA</td><td>⋯</td><td>NA</td><td>NA</td><td>NA</td><td>NA</td><td>NA</td><td>NA</td><td>NA</td><td>NA</td><td>NA</td><td>NA</td></tr>\n",
       "\t<tr><th scope=row>10</th><td>   NA</td><td>    NA</td><td> NA</td><td>235.42857</td><td>   NA</td><td>       NA</td><td>NA</td><td>NA</td><td>NA</td><td>NA</td><td>⋯</td><td>NA</td><td>NA</td><td>NA</td><td>NA</td><td>NA</td><td>NA</td><td>NA</td><td>NA</td><td>NA</td><td>NA</td></tr>\n",
       "\t<tr><th scope=row>11</th><td>   NA</td><td>    NA</td><td> NA</td><td>  0.45000</td><td>   NA</td><td>       NA</td><td>NA</td><td>NA</td><td>NA</td><td>NA</td><td>⋯</td><td>NA</td><td>NA</td><td>NA</td><td>NA</td><td>NA</td><td>NA</td><td>NA</td><td>NA</td><td>NA</td><td>NA</td></tr>\n",
       "\t<tr><th scope=row>12</th><td>   NA</td><td>    NA</td><td> NA</td><td> 13.10000</td><td>   NA</td><td>       NA</td><td>NA</td><td>NA</td><td>NA</td><td>NA</td><td>⋯</td><td>NA</td><td>NA</td><td>NA</td><td>NA</td><td>NA</td><td>NA</td><td>NA</td><td>NA</td><td>NA</td><td>NA</td></tr>\n",
       "\t<tr><th scope=row>13</th><td>   NA</td><td>    NA</td><td> NA</td><td>257.95000</td><td>   NA</td><td>       NA</td><td>NA</td><td>NA</td><td>NA</td><td>NA</td><td>⋯</td><td>NA</td><td>NA</td><td>NA</td><td>NA</td><td>NA</td><td>NA</td><td>NA</td><td>NA</td><td>NA</td><td>NA</td></tr>\n",
       "\t<tr><th scope=row>14</th><td>   NA</td><td>    NA</td><td> NA</td><td>  0.00193</td><td>   NA</td><td>       NA</td><td>NA</td><td>NA</td><td>NA</td><td>NA</td><td>⋯</td><td>NA</td><td>NA</td><td>NA</td><td>NA</td><td>NA</td><td>NA</td><td>NA</td><td>NA</td><td>NA</td><td>NA</td></tr>\n",
       "\t<tr><th scope=row>15</th><td>   NA</td><td>    NA</td><td> NA</td><td> 14.98500</td><td>   NA</td><td>       NA</td><td>NA</td><td>NA</td><td>NA</td><td>NA</td><td>⋯</td><td>NA</td><td>NA</td><td>NA</td><td>NA</td><td>NA</td><td>NA</td><td>NA</td><td>NA</td><td>NA</td><td>NA</td></tr>\n",
       "\t<tr><th scope=row>16</th><td>   NA</td><td>    NA</td><td> NA</td><td>234.48571</td><td>   NA</td><td>       NA</td><td>NA</td><td>NA</td><td>NA</td><td>NA</td><td>⋯</td><td>NA</td><td>NA</td><td>NA</td><td>NA</td><td>NA</td><td>NA</td><td>NA</td><td>NA</td><td>NA</td><td>NA</td></tr>\n",
       "\t<tr><th scope=row>17</th><td>   NA</td><td>    NA</td><td> NA</td><td>       NA</td><td>0.045</td><td>       NA</td><td>NA</td><td>NA</td><td>NA</td><td>NA</td><td>⋯</td><td>NA</td><td>NA</td><td>NA</td><td>NA</td><td>NA</td><td>NA</td><td>NA</td><td>NA</td><td>NA</td><td>NA</td></tr>\n",
       "\t<tr><th scope=row>18</th><td>   NA</td><td>    NA</td><td> NA</td><td>       NA</td><td>0.080</td><td>       NA</td><td>NA</td><td>NA</td><td>NA</td><td>NA</td><td>⋯</td><td>NA</td><td>NA</td><td>NA</td><td>NA</td><td>NA</td><td>NA</td><td>NA</td><td>NA</td><td>NA</td><td>NA</td></tr>\n",
       "\t<tr><th scope=row>19</th><td>   NA</td><td>    NA</td><td> NA</td><td>       NA</td><td>   NA</td><td> 187.0000</td><td>NA</td><td>NA</td><td>NA</td><td>NA</td><td>⋯</td><td>NA</td><td>NA</td><td>NA</td><td>NA</td><td>NA</td><td>NA</td><td>NA</td><td>NA</td><td>NA</td><td>NA</td></tr>\n",
       "\t<tr><th scope=row>20</th><td>   NA</td><td>    NA</td><td> NA</td><td>       NA</td><td>   NA</td><td> 375.0000</td><td>NA</td><td>NA</td><td>NA</td><td>NA</td><td>⋯</td><td>NA</td><td>NA</td><td>NA</td><td>NA</td><td>NA</td><td>NA</td><td>NA</td><td>NA</td><td>NA</td><td>NA</td></tr>\n",
       "\t<tr><th scope=row>21</th><td>   NA</td><td>    NA</td><td> NA</td><td>       NA</td><td>   NA</td><td>  50.0000</td><td>NA</td><td>NA</td><td>NA</td><td>NA</td><td>⋯</td><td>NA</td><td>NA</td><td>NA</td><td>NA</td><td>NA</td><td>NA</td><td>NA</td><td>NA</td><td>NA</td><td>NA</td></tr>\n",
       "\t<tr><th scope=row>22</th><td>   NA</td><td>    NA</td><td> NA</td><td>       NA</td><td>   NA</td><td>   4.1000</td><td>NA</td><td>NA</td><td>NA</td><td>NA</td><td>⋯</td><td>NA</td><td>NA</td><td>NA</td><td>NA</td><td>NA</td><td>NA</td><td>NA</td><td>NA</td><td>NA</td><td>NA</td></tr>\n",
       "\t<tr><th scope=row>23</th><td>   NA</td><td>    NA</td><td> NA</td><td>       NA</td><td>   NA</td><td>  28.8000</td><td>NA</td><td>NA</td><td>NA</td><td>NA</td><td>⋯</td><td>NA</td><td>NA</td><td>NA</td><td>NA</td><td>NA</td><td>NA</td><td>NA</td><td>NA</td><td>NA</td><td>NA</td></tr>\n",
       "\t<tr><th scope=row>24</th><td>   NA</td><td>    NA</td><td> NA</td><td>       NA</td><td>   NA</td><td>  28.7275</td><td>NA</td><td>NA</td><td>NA</td><td>NA</td><td>⋯</td><td>NA</td><td>NA</td><td>NA</td><td>NA</td><td>NA</td><td>NA</td><td>NA</td><td>NA</td><td>NA</td><td>NA</td></tr>\n",
       "\t<tr><th scope=row>25</th><td>   NA</td><td>    NA</td><td> NA</td><td>       NA</td><td>   NA</td><td> 278.5000</td><td>NA</td><td>NA</td><td>NA</td><td>NA</td><td>⋯</td><td>NA</td><td>NA</td><td>NA</td><td>NA</td><td>NA</td><td>NA</td><td>NA</td><td>NA</td><td>NA</td><td>NA</td></tr>\n",
       "\t<tr><th scope=row>26</th><td>   NA</td><td>    NA</td><td> NA</td><td>       NA</td><td>   NA</td><td> 151.3333</td><td>NA</td><td>NA</td><td>NA</td><td>NA</td><td>⋯</td><td>NA</td><td>NA</td><td>NA</td><td>NA</td><td>NA</td><td>NA</td><td>NA</td><td>NA</td><td>NA</td><td>NA</td></tr>\n",
       "\t<tr><th scope=row>27</th><td>   NA</td><td>    NA</td><td> NA</td><td>       NA</td><td>   NA</td><td>4100.0000</td><td>NA</td><td>NA</td><td>NA</td><td>NA</td><td>⋯</td><td>NA</td><td>NA</td><td>NA</td><td>NA</td><td>NA</td><td>NA</td><td>NA</td><td>NA</td><td>NA</td><td>NA</td></tr>\n",
       "\t<tr><th scope=row>28</th><td>   NA</td><td>    NA</td><td> NA</td><td>       NA</td><td>   NA</td><td>   4.1000</td><td>NA</td><td>NA</td><td>NA</td><td>NA</td><td>⋯</td><td>NA</td><td>NA</td><td>NA</td><td>NA</td><td>NA</td><td>NA</td><td>NA</td><td>NA</td><td>NA</td><td>NA</td></tr>\n",
       "\t<tr><th scope=row>29</th><td>   NA</td><td>    NA</td><td> NA</td><td>       NA</td><td>   NA</td><td>   0.3500</td><td>NA</td><td>NA</td><td>NA</td><td>NA</td><td>⋯</td><td>NA</td><td>NA</td><td>NA</td><td>NA</td><td>NA</td><td>NA</td><td>NA</td><td>NA</td><td>NA</td><td>NA</td></tr>\n",
       "\t<tr><th scope=row>30</th><td>   NA</td><td>    NA</td><td> NA</td><td>       NA</td><td>   NA</td><td> 266.0000</td><td>NA</td><td>NA</td><td>NA</td><td>NA</td><td>⋯</td><td>NA</td><td>NA</td><td>NA</td><td>NA</td><td>NA</td><td>NA</td><td>NA</td><td>NA</td><td>NA</td><td>NA</td></tr>\n",
       "\t<tr><th scope=row>31</th><td>   NA</td><td>    NA</td><td> NA</td><td>       NA</td><td>   NA</td><td> 233.0000</td><td>NA</td><td>NA</td><td>NA</td><td>NA</td><td>⋯</td><td>NA</td><td>NA</td><td>NA</td><td>NA</td><td>NA</td><td>NA</td><td>NA</td><td>NA</td><td>NA</td><td>NA</td></tr>\n",
       "\t<tr><th scope=row>32</th><td>   NA</td><td>    NA</td><td> NA</td><td>       NA</td><td>   NA</td><td>  70.0000</td><td>NA</td><td>NA</td><td>NA</td><td>NA</td><td>⋯</td><td>NA</td><td>NA</td><td>NA</td><td>NA</td><td>NA</td><td>NA</td><td>NA</td><td>NA</td><td>NA</td><td>NA</td></tr>\n",
       "\t<tr><th scope=row>⋮</th><td>⋮</td><td>⋮</td><td>⋮</td><td>⋮</td><td>⋮</td><td>⋮</td><td>⋮</td><td>⋮</td><td>⋮</td><td>⋮</td><td>⋱</td><td>⋮</td><td>⋮</td><td>⋮</td><td>⋮</td><td>⋮</td><td>⋮</td><td>⋮</td><td>⋮</td><td>⋮</td><td>⋮</td></tr>\n",
       "\t<tr><th scope=row>669</th><td>NA</td><td>NA</td><td>NA</td><td>NA</td><td>NA</td><td>NA</td><td>NA</td><td>NA</td><td>NA</td><td>NA</td><td>⋯</td><td>NA</td><td>185.0059</td><td>        NA</td><td>       NA</td><td>       NA</td><td>      NA</td><td>      NA</td><td>      NA</td><td>       NA</td><td>NA</td></tr>\n",
       "\t<tr><th scope=row>670</th><td>NA</td><td>NA</td><td>NA</td><td>NA</td><td>NA</td><td>NA</td><td>NA</td><td>NA</td><td>NA</td><td>NA</td><td>⋯</td><td>NA</td><td>      NA</td><td>  250.0000</td><td>       NA</td><td>       NA</td><td>      NA</td><td>      NA</td><td>      NA</td><td>       NA</td><td>NA</td></tr>\n",
       "\t<tr><th scope=row>671</th><td>NA</td><td>NA</td><td>NA</td><td>NA</td><td>NA</td><td>NA</td><td>NA</td><td>NA</td><td>NA</td><td>NA</td><td>⋯</td><td>NA</td><td>      NA</td><td>  227.0667</td><td>       NA</td><td>       NA</td><td>      NA</td><td>      NA</td><td>      NA</td><td>       NA</td><td>NA</td></tr>\n",
       "\t<tr><th scope=row>672</th><td>NA</td><td>NA</td><td>NA</td><td>NA</td><td>NA</td><td>NA</td><td>NA</td><td>NA</td><td>NA</td><td>NA</td><td>⋯</td><td>NA</td><td>      NA</td><td>   24.7500</td><td>       NA</td><td>       NA</td><td>      NA</td><td>      NA</td><td>      NA</td><td>       NA</td><td>NA</td></tr>\n",
       "\t<tr><th scope=row>673</th><td>NA</td><td>NA</td><td>NA</td><td>NA</td><td>NA</td><td>NA</td><td>NA</td><td>NA</td><td>NA</td><td>NA</td><td>⋯</td><td>NA</td><td>      NA</td><td>14700.0000</td><td>       NA</td><td>       NA</td><td>      NA</td><td>      NA</td><td>      NA</td><td>       NA</td><td>NA</td></tr>\n",
       "\t<tr><th scope=row>674</th><td>NA</td><td>NA</td><td>NA</td><td>NA</td><td>NA</td><td>NA</td><td>NA</td><td>NA</td><td>NA</td><td>NA</td><td>⋯</td><td>NA</td><td>      NA</td><td>    7.1100</td><td>       NA</td><td>       NA</td><td>      NA</td><td>      NA</td><td>      NA</td><td>       NA</td><td>NA</td></tr>\n",
       "\t<tr><th scope=row>675</th><td>NA</td><td>NA</td><td>NA</td><td>NA</td><td>NA</td><td>NA</td><td>NA</td><td>NA</td><td>NA</td><td>NA</td><td>⋯</td><td>NA</td><td>      NA</td><td>  424.0000</td><td>       NA</td><td>       NA</td><td>      NA</td><td>      NA</td><td>      NA</td><td>       NA</td><td>NA</td></tr>\n",
       "\t<tr><th scope=row>676</th><td>NA</td><td>NA</td><td>NA</td><td>NA</td><td>NA</td><td>NA</td><td>NA</td><td>NA</td><td>NA</td><td>NA</td><td>⋯</td><td>NA</td><td>      NA</td><td>    0.0320</td><td>       NA</td><td>       NA</td><td>      NA</td><td>      NA</td><td>      NA</td><td>       NA</td><td>NA</td></tr>\n",
       "\t<tr><th scope=row>677</th><td>NA</td><td>NA</td><td>NA</td><td>NA</td><td>NA</td><td>NA</td><td>NA</td><td>NA</td><td>NA</td><td>NA</td><td>⋯</td><td>NA</td><td>      NA</td><td>15443.3333</td><td>       NA</td><td>       NA</td><td>      NA</td><td>      NA</td><td>      NA</td><td>       NA</td><td>NA</td></tr>\n",
       "\t<tr><th scope=row>678</th><td>NA</td><td>NA</td><td>NA</td><td>NA</td><td>NA</td><td>NA</td><td>NA</td><td>NA</td><td>NA</td><td>NA</td><td>⋯</td><td>NA</td><td>      NA</td><td> 2000.0000</td><td>       NA</td><td>       NA</td><td>      NA</td><td>      NA</td><td>      NA</td><td>       NA</td><td>NA</td></tr>\n",
       "\t<tr><th scope=row>679</th><td>NA</td><td>NA</td><td>NA</td><td>NA</td><td>NA</td><td>NA</td><td>NA</td><td>NA</td><td>NA</td><td>NA</td><td>⋯</td><td>NA</td><td>      NA</td><td>        NA</td><td> 117.5000</td><td>       NA</td><td>      NA</td><td>      NA</td><td>      NA</td><td>       NA</td><td>NA</td></tr>\n",
       "\t<tr><th scope=row>680</th><td>NA</td><td>NA</td><td>NA</td><td>NA</td><td>NA</td><td>NA</td><td>NA</td><td>NA</td><td>NA</td><td>NA</td><td>⋯</td><td>NA</td><td>      NA</td><td>        NA</td><td>1385.3333</td><td>       NA</td><td>      NA</td><td>      NA</td><td>      NA</td><td>       NA</td><td>NA</td></tr>\n",
       "\t<tr><th scope=row>681</th><td>NA</td><td>NA</td><td>NA</td><td>NA</td><td>NA</td><td>NA</td><td>NA</td><td>NA</td><td>NA</td><td>NA</td><td>⋯</td><td>NA</td><td>      NA</td><td>        NA</td><td> 100.5000</td><td>       NA</td><td>      NA</td><td>      NA</td><td>      NA</td><td>       NA</td><td>NA</td></tr>\n",
       "\t<tr><th scope=row>682</th><td>NA</td><td>NA</td><td>NA</td><td>NA</td><td>NA</td><td>NA</td><td>NA</td><td>NA</td><td>NA</td><td>NA</td><td>⋯</td><td>NA</td><td>      NA</td><td>        NA</td><td> 699.5000</td><td>       NA</td><td>      NA</td><td>      NA</td><td>      NA</td><td>       NA</td><td>NA</td></tr>\n",
       "\t<tr><th scope=row>683</th><td>NA</td><td>NA</td><td>NA</td><td>NA</td><td>NA</td><td>NA</td><td>NA</td><td>NA</td><td>NA</td><td>NA</td><td>⋯</td><td>NA</td><td>      NA</td><td>        NA</td><td> 968.6400</td><td>       NA</td><td>      NA</td><td>      NA</td><td>      NA</td><td>       NA</td><td>NA</td></tr>\n",
       "\t<tr><th scope=row>684</th><td>NA</td><td>NA</td><td>NA</td><td>NA</td><td>NA</td><td>NA</td><td>NA</td><td>NA</td><td>NA</td><td>NA</td><td>⋯</td><td>NA</td><td>      NA</td><td>        NA</td><td> 954.7967</td><td>       NA</td><td>      NA</td><td>      NA</td><td>      NA</td><td>       NA</td><td>NA</td></tr>\n",
       "\t<tr><th scope=row>685</th><td>NA</td><td>NA</td><td>NA</td><td>NA</td><td>NA</td><td>NA</td><td>NA</td><td>NA</td><td>NA</td><td>NA</td><td>⋯</td><td>NA</td><td>      NA</td><td>        NA</td><td>       NA</td><td> 52.75000</td><td>      NA</td><td>      NA</td><td>      NA</td><td>       NA</td><td>NA</td></tr>\n",
       "\t<tr><th scope=row>686</th><td>NA</td><td>NA</td><td>NA</td><td>NA</td><td>NA</td><td>NA</td><td>NA</td><td>NA</td><td>NA</td><td>NA</td><td>⋯</td><td>NA</td><td>      NA</td><td>        NA</td><td>       NA</td><td> 23.92667</td><td>      NA</td><td>      NA</td><td>      NA</td><td>       NA</td><td>NA</td></tr>\n",
       "\t<tr><th scope=row>687</th><td>NA</td><td>NA</td><td>NA</td><td>NA</td><td>NA</td><td>NA</td><td>NA</td><td>NA</td><td>NA</td><td>NA</td><td>⋯</td><td>NA</td><td>      NA</td><td>        NA</td><td>       NA</td><td>143.41647</td><td>      NA</td><td>      NA</td><td>      NA</td><td>       NA</td><td>NA</td></tr>\n",
       "\t<tr><th scope=row>688</th><td>NA</td><td>NA</td><td>NA</td><td>NA</td><td>NA</td><td>NA</td><td>NA</td><td>NA</td><td>NA</td><td>NA</td><td>⋯</td><td>NA</td><td>      NA</td><td>        NA</td><td>       NA</td><td>       NA</td><td>0.028275</td><td>      NA</td><td>      NA</td><td>       NA</td><td>NA</td></tr>\n",
       "\t<tr><th scope=row>689</th><td>NA</td><td>NA</td><td>NA</td><td>NA</td><td>NA</td><td>NA</td><td>NA</td><td>NA</td><td>NA</td><td>NA</td><td>⋯</td><td>NA</td><td>      NA</td><td>        NA</td><td>       NA</td><td>       NA</td><td>      NA</td><td>11.83333</td><td>      NA</td><td>       NA</td><td>NA</td></tr>\n",
       "\t<tr><th scope=row>690</th><td>NA</td><td>NA</td><td>NA</td><td>NA</td><td>NA</td><td>NA</td><td>NA</td><td>NA</td><td>NA</td><td>NA</td><td>⋯</td><td>NA</td><td>      NA</td><td>        NA</td><td>       NA</td><td>       NA</td><td>      NA</td><td>16.60000</td><td>      NA</td><td>       NA</td><td>NA</td></tr>\n",
       "\t<tr><th scope=row>691</th><td>NA</td><td>NA</td><td>NA</td><td>NA</td><td>NA</td><td>NA</td><td>NA</td><td>NA</td><td>NA</td><td>NA</td><td>⋯</td><td>NA</td><td>      NA</td><td>        NA</td><td>       NA</td><td>       NA</td><td>      NA</td><td> 6.00000</td><td>      NA</td><td>       NA</td><td>NA</td></tr>\n",
       "\t<tr><th scope=row>692</th><td>NA</td><td>NA</td><td>NA</td><td>NA</td><td>NA</td><td>NA</td><td>NA</td><td>NA</td><td>NA</td><td>NA</td><td>⋯</td><td>NA</td><td>      NA</td><td>        NA</td><td>       NA</td><td>       NA</td><td>      NA</td><td>64.39667</td><td>      NA</td><td>       NA</td><td>NA</td></tr>\n",
       "\t<tr><th scope=row>693</th><td>NA</td><td>NA</td><td>NA</td><td>NA</td><td>NA</td><td>NA</td><td>NA</td><td>NA</td><td>NA</td><td>NA</td><td>⋯</td><td>NA</td><td>      NA</td><td>        NA</td><td>       NA</td><td>       NA</td><td>      NA</td><td>      NA</td><td>0.405000</td><td>       NA</td><td>NA</td></tr>\n",
       "\t<tr><th scope=row>694</th><td>NA</td><td>NA</td><td>NA</td><td>NA</td><td>NA</td><td>NA</td><td>NA</td><td>NA</td><td>NA</td><td>NA</td><td>⋯</td><td>NA</td><td>      NA</td><td>        NA</td><td>       NA</td><td>       NA</td><td>      NA</td><td>      NA</td><td>2.176667</td><td>       NA</td><td>NA</td></tr>\n",
       "\t<tr><th scope=row>695</th><td>NA</td><td>NA</td><td>NA</td><td>NA</td><td>NA</td><td>NA</td><td>NA</td><td>NA</td><td>NA</td><td>NA</td><td>⋯</td><td>NA</td><td>      NA</td><td>        NA</td><td>       NA</td><td>       NA</td><td>      NA</td><td>      NA</td><td>4.231765</td><td>       NA</td><td>NA</td></tr>\n",
       "\t<tr><th scope=row>696</th><td>NA</td><td>NA</td><td>NA</td><td>NA</td><td>NA</td><td>NA</td><td>NA</td><td>NA</td><td>NA</td><td>NA</td><td>⋯</td><td>NA</td><td>      NA</td><td>        NA</td><td>       NA</td><td>       NA</td><td>      NA</td><td>      NA</td><td>      NA</td><td>  5.45500</td><td>NA</td></tr>\n",
       "\t<tr><th scope=row>697</th><td>NA</td><td>NA</td><td>NA</td><td>NA</td><td>NA</td><td>NA</td><td>NA</td><td>NA</td><td>NA</td><td>NA</td><td>⋯</td><td>NA</td><td>      NA</td><td>        NA</td><td>       NA</td><td>       NA</td><td>      NA</td><td>      NA</td><td>      NA</td><td>500.00000</td><td>NA</td></tr>\n",
       "\t<tr><th scope=row>698</th><td>NA</td><td>NA</td><td>NA</td><td>NA</td><td>NA</td><td>NA</td><td>NA</td><td>NA</td><td>NA</td><td>NA</td><td>⋯</td><td>NA</td><td>      NA</td><td>        NA</td><td>       NA</td><td>       NA</td><td>      NA</td><td>      NA</td><td>      NA</td><td> 16.55846</td><td>NA</td></tr>\n",
       "</tbody>\n",
       "</table>\n"
      ],
      "text/latex": [
       "A data.frame: 475 × 30\n",
       "\\begin{tabular}{r|lllllllllllllllllllll}\n",
       "  & DTXSID8074819 & DTXSID4020878 & B & DTXSID4075459 & DTXSID4020161 & Cu & DTXSID0047741 & K & Mg & Zn & ⋯ & Si & Sr & Ti & Ba & Rb & DTXSID9059757 & Li & Bi & Th & DTXSID1025649\\\\\n",
       "  & <dbl> & <dbl> & <dbl> & <dbl> & <dbl> & <dbl> & <dbl> & <dbl> & <dbl> & <dbl> & ⋯ & <dbl> & <dbl> & <dbl> & <dbl> & <dbl> & <dbl> & <dbl> & <dbl> & <dbl> & <dbl>\\\\\n",
       "\\hline\n",
       "\t3 &  9.75 &     NA &  NA &        NA &    NA &        NA & NA & NA & NA & NA & ⋯ & NA & NA & NA & NA & NA & NA & NA & NA & NA & NA\\\\\n",
       "\t4 & 15.45 &     NA &  NA &        NA &    NA &        NA & NA & NA & NA & NA & ⋯ & NA & NA & NA & NA & NA & NA & NA & NA & NA & NA\\\\\n",
       "\t5 &    NA & 23.500 &  NA &        NA &    NA &        NA & NA & NA & NA & NA & ⋯ & NA & NA & NA & NA & NA & NA & NA & NA & NA & NA\\\\\n",
       "\t6 &    NA &  3.500 &  NA &        NA &    NA &        NA & NA & NA & NA & NA & ⋯ & NA & NA & NA & NA & NA & NA & NA & NA & NA & NA\\\\\n",
       "\t7 &    NA &  5.661 &  NA &        NA &    NA &        NA & NA & NA & NA & NA & ⋯ & NA & NA & NA & NA & NA & NA & NA & NA & NA & NA\\\\\n",
       "\t8 &    NA &     NA & 288 &        NA &    NA &        NA & NA & NA & NA & NA & ⋯ & NA & NA & NA & NA & NA & NA & NA & NA & NA & NA\\\\\n",
       "\t9 &    NA &     NA &  NA &  21.00000 &    NA &        NA & NA & NA & NA & NA & ⋯ & NA & NA & NA & NA & NA & NA & NA & NA & NA & NA\\\\\n",
       "\t10 &    NA &     NA &  NA & 235.42857 &    NA &        NA & NA & NA & NA & NA & ⋯ & NA & NA & NA & NA & NA & NA & NA & NA & NA & NA\\\\\n",
       "\t11 &    NA &     NA &  NA &   0.45000 &    NA &        NA & NA & NA & NA & NA & ⋯ & NA & NA & NA & NA & NA & NA & NA & NA & NA & NA\\\\\n",
       "\t12 &    NA &     NA &  NA &  13.10000 &    NA &        NA & NA & NA & NA & NA & ⋯ & NA & NA & NA & NA & NA & NA & NA & NA & NA & NA\\\\\n",
       "\t13 &    NA &     NA &  NA & 257.95000 &    NA &        NA & NA & NA & NA & NA & ⋯ & NA & NA & NA & NA & NA & NA & NA & NA & NA & NA\\\\\n",
       "\t14 &    NA &     NA &  NA &   0.00193 &    NA &        NA & NA & NA & NA & NA & ⋯ & NA & NA & NA & NA & NA & NA & NA & NA & NA & NA\\\\\n",
       "\t15 &    NA &     NA &  NA &  14.98500 &    NA &        NA & NA & NA & NA & NA & ⋯ & NA & NA & NA & NA & NA & NA & NA & NA & NA & NA\\\\\n",
       "\t16 &    NA &     NA &  NA & 234.48571 &    NA &        NA & NA & NA & NA & NA & ⋯ & NA & NA & NA & NA & NA & NA & NA & NA & NA & NA\\\\\n",
       "\t17 &    NA &     NA &  NA &        NA & 0.045 &        NA & NA & NA & NA & NA & ⋯ & NA & NA & NA & NA & NA & NA & NA & NA & NA & NA\\\\\n",
       "\t18 &    NA &     NA &  NA &        NA & 0.080 &        NA & NA & NA & NA & NA & ⋯ & NA & NA & NA & NA & NA & NA & NA & NA & NA & NA\\\\\n",
       "\t19 &    NA &     NA &  NA &        NA &    NA &  187.0000 & NA & NA & NA & NA & ⋯ & NA & NA & NA & NA & NA & NA & NA & NA & NA & NA\\\\\n",
       "\t20 &    NA &     NA &  NA &        NA &    NA &  375.0000 & NA & NA & NA & NA & ⋯ & NA & NA & NA & NA & NA & NA & NA & NA & NA & NA\\\\\n",
       "\t21 &    NA &     NA &  NA &        NA &    NA &   50.0000 & NA & NA & NA & NA & ⋯ & NA & NA & NA & NA & NA & NA & NA & NA & NA & NA\\\\\n",
       "\t22 &    NA &     NA &  NA &        NA &    NA &    4.1000 & NA & NA & NA & NA & ⋯ & NA & NA & NA & NA & NA & NA & NA & NA & NA & NA\\\\\n",
       "\t23 &    NA &     NA &  NA &        NA &    NA &   28.8000 & NA & NA & NA & NA & ⋯ & NA & NA & NA & NA & NA & NA & NA & NA & NA & NA\\\\\n",
       "\t24 &    NA &     NA &  NA &        NA &    NA &   28.7275 & NA & NA & NA & NA & ⋯ & NA & NA & NA & NA & NA & NA & NA & NA & NA & NA\\\\\n",
       "\t25 &    NA &     NA &  NA &        NA &    NA &  278.5000 & NA & NA & NA & NA & ⋯ & NA & NA & NA & NA & NA & NA & NA & NA & NA & NA\\\\\n",
       "\t26 &    NA &     NA &  NA &        NA &    NA &  151.3333 & NA & NA & NA & NA & ⋯ & NA & NA & NA & NA & NA & NA & NA & NA & NA & NA\\\\\n",
       "\t27 &    NA &     NA &  NA &        NA &    NA & 4100.0000 & NA & NA & NA & NA & ⋯ & NA & NA & NA & NA & NA & NA & NA & NA & NA & NA\\\\\n",
       "\t28 &    NA &     NA &  NA &        NA &    NA &    4.1000 & NA & NA & NA & NA & ⋯ & NA & NA & NA & NA & NA & NA & NA & NA & NA & NA\\\\\n",
       "\t29 &    NA &     NA &  NA &        NA &    NA &    0.3500 & NA & NA & NA & NA & ⋯ & NA & NA & NA & NA & NA & NA & NA & NA & NA & NA\\\\\n",
       "\t30 &    NA &     NA &  NA &        NA &    NA &  266.0000 & NA & NA & NA & NA & ⋯ & NA & NA & NA & NA & NA & NA & NA & NA & NA & NA\\\\\n",
       "\t31 &    NA &     NA &  NA &        NA &    NA &  233.0000 & NA & NA & NA & NA & ⋯ & NA & NA & NA & NA & NA & NA & NA & NA & NA & NA\\\\\n",
       "\t32 &    NA &     NA &  NA &        NA &    NA &   70.0000 & NA & NA & NA & NA & ⋯ & NA & NA & NA & NA & NA & NA & NA & NA & NA & NA\\\\\n",
       "\t⋮ & ⋮ & ⋮ & ⋮ & ⋮ & ⋮ & ⋮ & ⋮ & ⋮ & ⋮ & ⋮ & ⋱ & ⋮ & ⋮ & ⋮ & ⋮ & ⋮ & ⋮ & ⋮ & ⋮ & ⋮ & ⋮\\\\\n",
       "\t669 & NA & NA & NA & NA & NA & NA & NA & NA & NA & NA & ⋯ & NA & 185.0059 &         NA &        NA &        NA &       NA &       NA &       NA &        NA & NA\\\\\n",
       "\t670 & NA & NA & NA & NA & NA & NA & NA & NA & NA & NA & ⋯ & NA &       NA &   250.0000 &        NA &        NA &       NA &       NA &       NA &        NA & NA\\\\\n",
       "\t671 & NA & NA & NA & NA & NA & NA & NA & NA & NA & NA & ⋯ & NA &       NA &   227.0667 &        NA &        NA &       NA &       NA &       NA &        NA & NA\\\\\n",
       "\t672 & NA & NA & NA & NA & NA & NA & NA & NA & NA & NA & ⋯ & NA &       NA &    24.7500 &        NA &        NA &       NA &       NA &       NA &        NA & NA\\\\\n",
       "\t673 & NA & NA & NA & NA & NA & NA & NA & NA & NA & NA & ⋯ & NA &       NA & 14700.0000 &        NA &        NA &       NA &       NA &       NA &        NA & NA\\\\\n",
       "\t674 & NA & NA & NA & NA & NA & NA & NA & NA & NA & NA & ⋯ & NA &       NA &     7.1100 &        NA &        NA &       NA &       NA &       NA &        NA & NA\\\\\n",
       "\t675 & NA & NA & NA & NA & NA & NA & NA & NA & NA & NA & ⋯ & NA &       NA &   424.0000 &        NA &        NA &       NA &       NA &       NA &        NA & NA\\\\\n",
       "\t676 & NA & NA & NA & NA & NA & NA & NA & NA & NA & NA & ⋯ & NA &       NA &     0.0320 &        NA &        NA &       NA &       NA &       NA &        NA & NA\\\\\n",
       "\t677 & NA & NA & NA & NA & NA & NA & NA & NA & NA & NA & ⋯ & NA &       NA & 15443.3333 &        NA &        NA &       NA &       NA &       NA &        NA & NA\\\\\n",
       "\t678 & NA & NA & NA & NA & NA & NA & NA & NA & NA & NA & ⋯ & NA &       NA &  2000.0000 &        NA &        NA &       NA &       NA &       NA &        NA & NA\\\\\n",
       "\t679 & NA & NA & NA & NA & NA & NA & NA & NA & NA & NA & ⋯ & NA &       NA &         NA &  117.5000 &        NA &       NA &       NA &       NA &        NA & NA\\\\\n",
       "\t680 & NA & NA & NA & NA & NA & NA & NA & NA & NA & NA & ⋯ & NA &       NA &         NA & 1385.3333 &        NA &       NA &       NA &       NA &        NA & NA\\\\\n",
       "\t681 & NA & NA & NA & NA & NA & NA & NA & NA & NA & NA & ⋯ & NA &       NA &         NA &  100.5000 &        NA &       NA &       NA &       NA &        NA & NA\\\\\n",
       "\t682 & NA & NA & NA & NA & NA & NA & NA & NA & NA & NA & ⋯ & NA &       NA &         NA &  699.5000 &        NA &       NA &       NA &       NA &        NA & NA\\\\\n",
       "\t683 & NA & NA & NA & NA & NA & NA & NA & NA & NA & NA & ⋯ & NA &       NA &         NA &  968.6400 &        NA &       NA &       NA &       NA &        NA & NA\\\\\n",
       "\t684 & NA & NA & NA & NA & NA & NA & NA & NA & NA & NA & ⋯ & NA &       NA &         NA &  954.7967 &        NA &       NA &       NA &       NA &        NA & NA\\\\\n",
       "\t685 & NA & NA & NA & NA & NA & NA & NA & NA & NA & NA & ⋯ & NA &       NA &         NA &        NA &  52.75000 &       NA &       NA &       NA &        NA & NA\\\\\n",
       "\t686 & NA & NA & NA & NA & NA & NA & NA & NA & NA & NA & ⋯ & NA &       NA &         NA &        NA &  23.92667 &       NA &       NA &       NA &        NA & NA\\\\\n",
       "\t687 & NA & NA & NA & NA & NA & NA & NA & NA & NA & NA & ⋯ & NA &       NA &         NA &        NA & 143.41647 &       NA &       NA &       NA &        NA & NA\\\\\n",
       "\t688 & NA & NA & NA & NA & NA & NA & NA & NA & NA & NA & ⋯ & NA &       NA &         NA &        NA &        NA & 0.028275 &       NA &       NA &        NA & NA\\\\\n",
       "\t689 & NA & NA & NA & NA & NA & NA & NA & NA & NA & NA & ⋯ & NA &       NA &         NA &        NA &        NA &       NA & 11.83333 &       NA &        NA & NA\\\\\n",
       "\t690 & NA & NA & NA & NA & NA & NA & NA & NA & NA & NA & ⋯ & NA &       NA &         NA &        NA &        NA &       NA & 16.60000 &       NA &        NA & NA\\\\\n",
       "\t691 & NA & NA & NA & NA & NA & NA & NA & NA & NA & NA & ⋯ & NA &       NA &         NA &        NA &        NA &       NA &  6.00000 &       NA &        NA & NA\\\\\n",
       "\t692 & NA & NA & NA & NA & NA & NA & NA & NA & NA & NA & ⋯ & NA &       NA &         NA &        NA &        NA &       NA & 64.39667 &       NA &        NA & NA\\\\\n",
       "\t693 & NA & NA & NA & NA & NA & NA & NA & NA & NA & NA & ⋯ & NA &       NA &         NA &        NA &        NA &       NA &       NA & 0.405000 &        NA & NA\\\\\n",
       "\t694 & NA & NA & NA & NA & NA & NA & NA & NA & NA & NA & ⋯ & NA &       NA &         NA &        NA &        NA &       NA &       NA & 2.176667 &        NA & NA\\\\\n",
       "\t695 & NA & NA & NA & NA & NA & NA & NA & NA & NA & NA & ⋯ & NA &       NA &         NA &        NA &        NA &       NA &       NA & 4.231765 &        NA & NA\\\\\n",
       "\t696 & NA & NA & NA & NA & NA & NA & NA & NA & NA & NA & ⋯ & NA &       NA &         NA &        NA &        NA &       NA &       NA &       NA &   5.45500 & NA\\\\\n",
       "\t697 & NA & NA & NA & NA & NA & NA & NA & NA & NA & NA & ⋯ & NA &       NA &         NA &        NA &        NA &       NA &       NA &       NA & 500.00000 & NA\\\\\n",
       "\t698 & NA & NA & NA & NA & NA & NA & NA & NA & NA & NA & ⋯ & NA &       NA &         NA &        NA &        NA &       NA &       NA &       NA &  16.55846 & NA\\\\\n",
       "\\end{tabular}\n"
      ],
      "text/markdown": [
       "\n",
       "A data.frame: 475 × 30\n",
       "\n",
       "| <!--/--> | DTXSID8074819 &lt;dbl&gt; | DTXSID4020878 &lt;dbl&gt; | B &lt;dbl&gt; | DTXSID4075459 &lt;dbl&gt; | DTXSID4020161 &lt;dbl&gt; | Cu &lt;dbl&gt; | DTXSID0047741 &lt;dbl&gt; | K &lt;dbl&gt; | Mg &lt;dbl&gt; | Zn &lt;dbl&gt; | ⋯ ⋯ | Si &lt;dbl&gt; | Sr &lt;dbl&gt; | Ti &lt;dbl&gt; | Ba &lt;dbl&gt; | Rb &lt;dbl&gt; | DTXSID9059757 &lt;dbl&gt; | Li &lt;dbl&gt; | Bi &lt;dbl&gt; | Th &lt;dbl&gt; | DTXSID1025649 &lt;dbl&gt; |\n",
       "|---|---|---|---|---|---|---|---|---|---|---|---|---|---|---|---|---|---|---|---|---|---|\n",
       "| 3 |  9.75 |     NA |  NA |        NA |    NA |        NA | NA | NA | NA | NA | ⋯ | NA | NA | NA | NA | NA | NA | NA | NA | NA | NA |\n",
       "| 4 | 15.45 |     NA |  NA |        NA |    NA |        NA | NA | NA | NA | NA | ⋯ | NA | NA | NA | NA | NA | NA | NA | NA | NA | NA |\n",
       "| 5 |    NA | 23.500 |  NA |        NA |    NA |        NA | NA | NA | NA | NA | ⋯ | NA | NA | NA | NA | NA | NA | NA | NA | NA | NA |\n",
       "| 6 |    NA |  3.500 |  NA |        NA |    NA |        NA | NA | NA | NA | NA | ⋯ | NA | NA | NA | NA | NA | NA | NA | NA | NA | NA |\n",
       "| 7 |    NA |  5.661 |  NA |        NA |    NA |        NA | NA | NA | NA | NA | ⋯ | NA | NA | NA | NA | NA | NA | NA | NA | NA | NA |\n",
       "| 8 |    NA |     NA | 288 |        NA |    NA |        NA | NA | NA | NA | NA | ⋯ | NA | NA | NA | NA | NA | NA | NA | NA | NA | NA |\n",
       "| 9 |    NA |     NA |  NA |  21.00000 |    NA |        NA | NA | NA | NA | NA | ⋯ | NA | NA | NA | NA | NA | NA | NA | NA | NA | NA |\n",
       "| 10 |    NA |     NA |  NA | 235.42857 |    NA |        NA | NA | NA | NA | NA | ⋯ | NA | NA | NA | NA | NA | NA | NA | NA | NA | NA |\n",
       "| 11 |    NA |     NA |  NA |   0.45000 |    NA |        NA | NA | NA | NA | NA | ⋯ | NA | NA | NA | NA | NA | NA | NA | NA | NA | NA |\n",
       "| 12 |    NA |     NA |  NA |  13.10000 |    NA |        NA | NA | NA | NA | NA | ⋯ | NA | NA | NA | NA | NA | NA | NA | NA | NA | NA |\n",
       "| 13 |    NA |     NA |  NA | 257.95000 |    NA |        NA | NA | NA | NA | NA | ⋯ | NA | NA | NA | NA | NA | NA | NA | NA | NA | NA |\n",
       "| 14 |    NA |     NA |  NA |   0.00193 |    NA |        NA | NA | NA | NA | NA | ⋯ | NA | NA | NA | NA | NA | NA | NA | NA | NA | NA |\n",
       "| 15 |    NA |     NA |  NA |  14.98500 |    NA |        NA | NA | NA | NA | NA | ⋯ | NA | NA | NA | NA | NA | NA | NA | NA | NA | NA |\n",
       "| 16 |    NA |     NA |  NA | 234.48571 |    NA |        NA | NA | NA | NA | NA | ⋯ | NA | NA | NA | NA | NA | NA | NA | NA | NA | NA |\n",
       "| 17 |    NA |     NA |  NA |        NA | 0.045 |        NA | NA | NA | NA | NA | ⋯ | NA | NA | NA | NA | NA | NA | NA | NA | NA | NA |\n",
       "| 18 |    NA |     NA |  NA |        NA | 0.080 |        NA | NA | NA | NA | NA | ⋯ | NA | NA | NA | NA | NA | NA | NA | NA | NA | NA |\n",
       "| 19 |    NA |     NA |  NA |        NA |    NA |  187.0000 | NA | NA | NA | NA | ⋯ | NA | NA | NA | NA | NA | NA | NA | NA | NA | NA |\n",
       "| 20 |    NA |     NA |  NA |        NA |    NA |  375.0000 | NA | NA | NA | NA | ⋯ | NA | NA | NA | NA | NA | NA | NA | NA | NA | NA |\n",
       "| 21 |    NA |     NA |  NA |        NA |    NA |   50.0000 | NA | NA | NA | NA | ⋯ | NA | NA | NA | NA | NA | NA | NA | NA | NA | NA |\n",
       "| 22 |    NA |     NA |  NA |        NA |    NA |    4.1000 | NA | NA | NA | NA | ⋯ | NA | NA | NA | NA | NA | NA | NA | NA | NA | NA |\n",
       "| 23 |    NA |     NA |  NA |        NA |    NA |   28.8000 | NA | NA | NA | NA | ⋯ | NA | NA | NA | NA | NA | NA | NA | NA | NA | NA |\n",
       "| 24 |    NA |     NA |  NA |        NA |    NA |   28.7275 | NA | NA | NA | NA | ⋯ | NA | NA | NA | NA | NA | NA | NA | NA | NA | NA |\n",
       "| 25 |    NA |     NA |  NA |        NA |    NA |  278.5000 | NA | NA | NA | NA | ⋯ | NA | NA | NA | NA | NA | NA | NA | NA | NA | NA |\n",
       "| 26 |    NA |     NA |  NA |        NA |    NA |  151.3333 | NA | NA | NA | NA | ⋯ | NA | NA | NA | NA | NA | NA | NA | NA | NA | NA |\n",
       "| 27 |    NA |     NA |  NA |        NA |    NA | 4100.0000 | NA | NA | NA | NA | ⋯ | NA | NA | NA | NA | NA | NA | NA | NA | NA | NA |\n",
       "| 28 |    NA |     NA |  NA |        NA |    NA |    4.1000 | NA | NA | NA | NA | ⋯ | NA | NA | NA | NA | NA | NA | NA | NA | NA | NA |\n",
       "| 29 |    NA |     NA |  NA |        NA |    NA |    0.3500 | NA | NA | NA | NA | ⋯ | NA | NA | NA | NA | NA | NA | NA | NA | NA | NA |\n",
       "| 30 |    NA |     NA |  NA |        NA |    NA |  266.0000 | NA | NA | NA | NA | ⋯ | NA | NA | NA | NA | NA | NA | NA | NA | NA | NA |\n",
       "| 31 |    NA |     NA |  NA |        NA |    NA |  233.0000 | NA | NA | NA | NA | ⋯ | NA | NA | NA | NA | NA | NA | NA | NA | NA | NA |\n",
       "| 32 |    NA |     NA |  NA |        NA |    NA |   70.0000 | NA | NA | NA | NA | ⋯ | NA | NA | NA | NA | NA | NA | NA | NA | NA | NA |\n",
       "| ⋮ | ⋮ | ⋮ | ⋮ | ⋮ | ⋮ | ⋮ | ⋮ | ⋮ | ⋮ | ⋮ | ⋱ | ⋮ | ⋮ | ⋮ | ⋮ | ⋮ | ⋮ | ⋮ | ⋮ | ⋮ | ⋮ |\n",
       "| 669 | NA | NA | NA | NA | NA | NA | NA | NA | NA | NA | ⋯ | NA | 185.0059 |         NA |        NA |        NA |       NA |       NA |       NA |        NA | NA |\n",
       "| 670 | NA | NA | NA | NA | NA | NA | NA | NA | NA | NA | ⋯ | NA |       NA |   250.0000 |        NA |        NA |       NA |       NA |       NA |        NA | NA |\n",
       "| 671 | NA | NA | NA | NA | NA | NA | NA | NA | NA | NA | ⋯ | NA |       NA |   227.0667 |        NA |        NA |       NA |       NA |       NA |        NA | NA |\n",
       "| 672 | NA | NA | NA | NA | NA | NA | NA | NA | NA | NA | ⋯ | NA |       NA |    24.7500 |        NA |        NA |       NA |       NA |       NA |        NA | NA |\n",
       "| 673 | NA | NA | NA | NA | NA | NA | NA | NA | NA | NA | ⋯ | NA |       NA | 14700.0000 |        NA |        NA |       NA |       NA |       NA |        NA | NA |\n",
       "| 674 | NA | NA | NA | NA | NA | NA | NA | NA | NA | NA | ⋯ | NA |       NA |     7.1100 |        NA |        NA |       NA |       NA |       NA |        NA | NA |\n",
       "| 675 | NA | NA | NA | NA | NA | NA | NA | NA | NA | NA | ⋯ | NA |       NA |   424.0000 |        NA |        NA |       NA |       NA |       NA |        NA | NA |\n",
       "| 676 | NA | NA | NA | NA | NA | NA | NA | NA | NA | NA | ⋯ | NA |       NA |     0.0320 |        NA |        NA |       NA |       NA |       NA |        NA | NA |\n",
       "| 677 | NA | NA | NA | NA | NA | NA | NA | NA | NA | NA | ⋯ | NA |       NA | 15443.3333 |        NA |        NA |       NA |       NA |       NA |        NA | NA |\n",
       "| 678 | NA | NA | NA | NA | NA | NA | NA | NA | NA | NA | ⋯ | NA |       NA |  2000.0000 |        NA |        NA |       NA |       NA |       NA |        NA | NA |\n",
       "| 679 | NA | NA | NA | NA | NA | NA | NA | NA | NA | NA | ⋯ | NA |       NA |         NA |  117.5000 |        NA |       NA |       NA |       NA |        NA | NA |\n",
       "| 680 | NA | NA | NA | NA | NA | NA | NA | NA | NA | NA | ⋯ | NA |       NA |         NA | 1385.3333 |        NA |       NA |       NA |       NA |        NA | NA |\n",
       "| 681 | NA | NA | NA | NA | NA | NA | NA | NA | NA | NA | ⋯ | NA |       NA |         NA |  100.5000 |        NA |       NA |       NA |       NA |        NA | NA |\n",
       "| 682 | NA | NA | NA | NA | NA | NA | NA | NA | NA | NA | ⋯ | NA |       NA |         NA |  699.5000 |        NA |       NA |       NA |       NA |        NA | NA |\n",
       "| 683 | NA | NA | NA | NA | NA | NA | NA | NA | NA | NA | ⋯ | NA |       NA |         NA |  968.6400 |        NA |       NA |       NA |       NA |        NA | NA |\n",
       "| 684 | NA | NA | NA | NA | NA | NA | NA | NA | NA | NA | ⋯ | NA |       NA |         NA |  954.7967 |        NA |       NA |       NA |       NA |        NA | NA |\n",
       "| 685 | NA | NA | NA | NA | NA | NA | NA | NA | NA | NA | ⋯ | NA |       NA |         NA |        NA |  52.75000 |       NA |       NA |       NA |        NA | NA |\n",
       "| 686 | NA | NA | NA | NA | NA | NA | NA | NA | NA | NA | ⋯ | NA |       NA |         NA |        NA |  23.92667 |       NA |       NA |       NA |        NA | NA |\n",
       "| 687 | NA | NA | NA | NA | NA | NA | NA | NA | NA | NA | ⋯ | NA |       NA |         NA |        NA | 143.41647 |       NA |       NA |       NA |        NA | NA |\n",
       "| 688 | NA | NA | NA | NA | NA | NA | NA | NA | NA | NA | ⋯ | NA |       NA |         NA |        NA |        NA | 0.028275 |       NA |       NA |        NA | NA |\n",
       "| 689 | NA | NA | NA | NA | NA | NA | NA | NA | NA | NA | ⋯ | NA |       NA |         NA |        NA |        NA |       NA | 11.83333 |       NA |        NA | NA |\n",
       "| 690 | NA | NA | NA | NA | NA | NA | NA | NA | NA | NA | ⋯ | NA |       NA |         NA |        NA |        NA |       NA | 16.60000 |       NA |        NA | NA |\n",
       "| 691 | NA | NA | NA | NA | NA | NA | NA | NA | NA | NA | ⋯ | NA |       NA |         NA |        NA |        NA |       NA |  6.00000 |       NA |        NA | NA |\n",
       "| 692 | NA | NA | NA | NA | NA | NA | NA | NA | NA | NA | ⋯ | NA |       NA |         NA |        NA |        NA |       NA | 64.39667 |       NA |        NA | NA |\n",
       "| 693 | NA | NA | NA | NA | NA | NA | NA | NA | NA | NA | ⋯ | NA |       NA |         NA |        NA |        NA |       NA |       NA | 0.405000 |        NA | NA |\n",
       "| 694 | NA | NA | NA | NA | NA | NA | NA | NA | NA | NA | ⋯ | NA |       NA |         NA |        NA |        NA |       NA |       NA | 2.176667 |        NA | NA |\n",
       "| 695 | NA | NA | NA | NA | NA | NA | NA | NA | NA | NA | ⋯ | NA |       NA |         NA |        NA |        NA |       NA |       NA | 4.231765 |        NA | NA |\n",
       "| 696 | NA | NA | NA | NA | NA | NA | NA | NA | NA | NA | ⋯ | NA |       NA |         NA |        NA |        NA |       NA |       NA |       NA |   5.45500 | NA |\n",
       "| 697 | NA | NA | NA | NA | NA | NA | NA | NA | NA | NA | ⋯ | NA |       NA |         NA |        NA |        NA |       NA |       NA |       NA | 500.00000 | NA |\n",
       "| 698 | NA | NA | NA | NA | NA | NA | NA | NA | NA | NA | ⋯ | NA |       NA |         NA |        NA |        NA |       NA |       NA |       NA |  16.55846 | NA |\n",
       "\n"
      ],
      "text/plain": [
       "    DTXSID8074819 DTXSID4020878 B   DTXSID4075459 DTXSID4020161 Cu       \n",
       "3    9.75             NA         NA        NA        NA                NA\n",
       "4   15.45             NA         NA        NA        NA                NA\n",
       "5      NA         23.500         NA        NA        NA                NA\n",
       "6      NA          3.500         NA        NA        NA                NA\n",
       "7      NA          5.661         NA        NA        NA                NA\n",
       "8      NA             NA        288        NA        NA                NA\n",
       "9      NA             NA         NA  21.00000        NA                NA\n",
       "10     NA             NA         NA 235.42857        NA                NA\n",
       "11     NA             NA         NA   0.45000        NA                NA\n",
       "12     NA             NA         NA  13.10000        NA                NA\n",
       "13     NA             NA         NA 257.95000        NA                NA\n",
       "14     NA             NA         NA   0.00193        NA                NA\n",
       "15     NA             NA         NA  14.98500        NA                NA\n",
       "16     NA             NA         NA 234.48571        NA                NA\n",
       "17     NA             NA         NA        NA     0.045                NA\n",
       "18     NA             NA         NA        NA     0.080                NA\n",
       "19     NA             NA         NA        NA        NA          187.0000\n",
       "20     NA             NA         NA        NA        NA          375.0000\n",
       "21     NA             NA         NA        NA        NA           50.0000\n",
       "22     NA             NA         NA        NA        NA            4.1000\n",
       "23     NA             NA         NA        NA        NA           28.8000\n",
       "24     NA             NA         NA        NA        NA           28.7275\n",
       "25     NA             NA         NA        NA        NA          278.5000\n",
       "26     NA             NA         NA        NA        NA          151.3333\n",
       "27     NA             NA         NA        NA        NA         4100.0000\n",
       "28     NA             NA         NA        NA        NA            4.1000\n",
       "29     NA             NA         NA        NA        NA            0.3500\n",
       "30     NA             NA         NA        NA        NA          266.0000\n",
       "31     NA             NA         NA        NA        NA          233.0000\n",
       "32     NA             NA         NA        NA        NA           70.0000\n",
       "⋮   ⋮             ⋮             ⋮   ⋮             ⋮             ⋮        \n",
       "669 NA            NA            NA  NA            NA            NA       \n",
       "670 NA            NA            NA  NA            NA            NA       \n",
       "671 NA            NA            NA  NA            NA            NA       \n",
       "672 NA            NA            NA  NA            NA            NA       \n",
       "673 NA            NA            NA  NA            NA            NA       \n",
       "674 NA            NA            NA  NA            NA            NA       \n",
       "675 NA            NA            NA  NA            NA            NA       \n",
       "676 NA            NA            NA  NA            NA            NA       \n",
       "677 NA            NA            NA  NA            NA            NA       \n",
       "678 NA            NA            NA  NA            NA            NA       \n",
       "679 NA            NA            NA  NA            NA            NA       \n",
       "680 NA            NA            NA  NA            NA            NA       \n",
       "681 NA            NA            NA  NA            NA            NA       \n",
       "682 NA            NA            NA  NA            NA            NA       \n",
       "683 NA            NA            NA  NA            NA            NA       \n",
       "684 NA            NA            NA  NA            NA            NA       \n",
       "685 NA            NA            NA  NA            NA            NA       \n",
       "686 NA            NA            NA  NA            NA            NA       \n",
       "687 NA            NA            NA  NA            NA            NA       \n",
       "688 NA            NA            NA  NA            NA            NA       \n",
       "689 NA            NA            NA  NA            NA            NA       \n",
       "690 NA            NA            NA  NA            NA            NA       \n",
       "691 NA            NA            NA  NA            NA            NA       \n",
       "692 NA            NA            NA  NA            NA            NA       \n",
       "693 NA            NA            NA  NA            NA            NA       \n",
       "694 NA            NA            NA  NA            NA            NA       \n",
       "695 NA            NA            NA  NA            NA            NA       \n",
       "696 NA            NA            NA  NA            NA            NA       \n",
       "697 NA            NA            NA  NA            NA            NA       \n",
       "698 NA            NA            NA  NA            NA            NA       \n",
       "    DTXSID0047741 K  Mg Zn ⋯ Si Sr       Ti         Ba        Rb       \n",
       "3   NA            NA NA NA ⋯ NA NA       NA         NA        NA       \n",
       "4   NA            NA NA NA ⋯ NA NA       NA         NA        NA       \n",
       "5   NA            NA NA NA ⋯ NA NA       NA         NA        NA       \n",
       "6   NA            NA NA NA ⋯ NA NA       NA         NA        NA       \n",
       "7   NA            NA NA NA ⋯ NA NA       NA         NA        NA       \n",
       "8   NA            NA NA NA ⋯ NA NA       NA         NA        NA       \n",
       "9   NA            NA NA NA ⋯ NA NA       NA         NA        NA       \n",
       "10  NA            NA NA NA ⋯ NA NA       NA         NA        NA       \n",
       "11  NA            NA NA NA ⋯ NA NA       NA         NA        NA       \n",
       "12  NA            NA NA NA ⋯ NA NA       NA         NA        NA       \n",
       "13  NA            NA NA NA ⋯ NA NA       NA         NA        NA       \n",
       "14  NA            NA NA NA ⋯ NA NA       NA         NA        NA       \n",
       "15  NA            NA NA NA ⋯ NA NA       NA         NA        NA       \n",
       "16  NA            NA NA NA ⋯ NA NA       NA         NA        NA       \n",
       "17  NA            NA NA NA ⋯ NA NA       NA         NA        NA       \n",
       "18  NA            NA NA NA ⋯ NA NA       NA         NA        NA       \n",
       "19  NA            NA NA NA ⋯ NA NA       NA         NA        NA       \n",
       "20  NA            NA NA NA ⋯ NA NA       NA         NA        NA       \n",
       "21  NA            NA NA NA ⋯ NA NA       NA         NA        NA       \n",
       "22  NA            NA NA NA ⋯ NA NA       NA         NA        NA       \n",
       "23  NA            NA NA NA ⋯ NA NA       NA         NA        NA       \n",
       "24  NA            NA NA NA ⋯ NA NA       NA         NA        NA       \n",
       "25  NA            NA NA NA ⋯ NA NA       NA         NA        NA       \n",
       "26  NA            NA NA NA ⋯ NA NA       NA         NA        NA       \n",
       "27  NA            NA NA NA ⋯ NA NA       NA         NA        NA       \n",
       "28  NA            NA NA NA ⋯ NA NA       NA         NA        NA       \n",
       "29  NA            NA NA NA ⋯ NA NA       NA         NA        NA       \n",
       "30  NA            NA NA NA ⋯ NA NA       NA         NA        NA       \n",
       "31  NA            NA NA NA ⋯ NA NA       NA         NA        NA       \n",
       "32  NA            NA NA NA ⋯ NA NA       NA         NA        NA       \n",
       "⋮   ⋮             ⋮  ⋮  ⋮  ⋱ ⋮  ⋮        ⋮          ⋮         ⋮        \n",
       "669 NA            NA NA NA ⋯ NA 185.0059         NA        NA        NA\n",
       "670 NA            NA NA NA ⋯ NA       NA   250.0000        NA        NA\n",
       "671 NA            NA NA NA ⋯ NA       NA   227.0667        NA        NA\n",
       "672 NA            NA NA NA ⋯ NA       NA    24.7500        NA        NA\n",
       "673 NA            NA NA NA ⋯ NA       NA 14700.0000        NA        NA\n",
       "674 NA            NA NA NA ⋯ NA       NA     7.1100        NA        NA\n",
       "675 NA            NA NA NA ⋯ NA       NA   424.0000        NA        NA\n",
       "676 NA            NA NA NA ⋯ NA       NA     0.0320        NA        NA\n",
       "677 NA            NA NA NA ⋯ NA       NA 15443.3333        NA        NA\n",
       "678 NA            NA NA NA ⋯ NA       NA  2000.0000        NA        NA\n",
       "679 NA            NA NA NA ⋯ NA       NA         NA  117.5000        NA\n",
       "680 NA            NA NA NA ⋯ NA       NA         NA 1385.3333        NA\n",
       "681 NA            NA NA NA ⋯ NA       NA         NA  100.5000        NA\n",
       "682 NA            NA NA NA ⋯ NA       NA         NA  699.5000        NA\n",
       "683 NA            NA NA NA ⋯ NA       NA         NA  968.6400        NA\n",
       "684 NA            NA NA NA ⋯ NA       NA         NA  954.7967        NA\n",
       "685 NA            NA NA NA ⋯ NA       NA         NA        NA  52.75000\n",
       "686 NA            NA NA NA ⋯ NA       NA         NA        NA  23.92667\n",
       "687 NA            NA NA NA ⋯ NA       NA         NA        NA 143.41647\n",
       "688 NA            NA NA NA ⋯ NA       NA         NA        NA        NA\n",
       "689 NA            NA NA NA ⋯ NA       NA         NA        NA        NA\n",
       "690 NA            NA NA NA ⋯ NA       NA         NA        NA        NA\n",
       "691 NA            NA NA NA ⋯ NA       NA         NA        NA        NA\n",
       "692 NA            NA NA NA ⋯ NA       NA         NA        NA        NA\n",
       "693 NA            NA NA NA ⋯ NA       NA         NA        NA        NA\n",
       "694 NA            NA NA NA ⋯ NA       NA         NA        NA        NA\n",
       "695 NA            NA NA NA ⋯ NA       NA         NA        NA        NA\n",
       "696 NA            NA NA NA ⋯ NA       NA         NA        NA        NA\n",
       "697 NA            NA NA NA ⋯ NA       NA         NA        NA        NA\n",
       "698 NA            NA NA NA ⋯ NA       NA         NA        NA        NA\n",
       "    DTXSID9059757 Li       Bi       Th        DTXSID1025649\n",
       "3   NA            NA       NA       NA        NA           \n",
       "4   NA            NA       NA       NA        NA           \n",
       "5   NA            NA       NA       NA        NA           \n",
       "6   NA            NA       NA       NA        NA           \n",
       "7   NA            NA       NA       NA        NA           \n",
       "8   NA            NA       NA       NA        NA           \n",
       "9   NA            NA       NA       NA        NA           \n",
       "10  NA            NA       NA       NA        NA           \n",
       "11  NA            NA       NA       NA        NA           \n",
       "12  NA            NA       NA       NA        NA           \n",
       "13  NA            NA       NA       NA        NA           \n",
       "14  NA            NA       NA       NA        NA           \n",
       "15  NA            NA       NA       NA        NA           \n",
       "16  NA            NA       NA       NA        NA           \n",
       "17  NA            NA       NA       NA        NA           \n",
       "18  NA            NA       NA       NA        NA           \n",
       "19  NA            NA       NA       NA        NA           \n",
       "20  NA            NA       NA       NA        NA           \n",
       "21  NA            NA       NA       NA        NA           \n",
       "22  NA            NA       NA       NA        NA           \n",
       "23  NA            NA       NA       NA        NA           \n",
       "24  NA            NA       NA       NA        NA           \n",
       "25  NA            NA       NA       NA        NA           \n",
       "26  NA            NA       NA       NA        NA           \n",
       "27  NA            NA       NA       NA        NA           \n",
       "28  NA            NA       NA       NA        NA           \n",
       "29  NA            NA       NA       NA        NA           \n",
       "30  NA            NA       NA       NA        NA           \n",
       "31  NA            NA       NA       NA        NA           \n",
       "32  NA            NA       NA       NA        NA           \n",
       "⋮   ⋮             ⋮        ⋮        ⋮         ⋮            \n",
       "669       NA            NA       NA        NA NA           \n",
       "670       NA            NA       NA        NA NA           \n",
       "671       NA            NA       NA        NA NA           \n",
       "672       NA            NA       NA        NA NA           \n",
       "673       NA            NA       NA        NA NA           \n",
       "674       NA            NA       NA        NA NA           \n",
       "675       NA            NA       NA        NA NA           \n",
       "676       NA            NA       NA        NA NA           \n",
       "677       NA            NA       NA        NA NA           \n",
       "678       NA            NA       NA        NA NA           \n",
       "679       NA            NA       NA        NA NA           \n",
       "680       NA            NA       NA        NA NA           \n",
       "681       NA            NA       NA        NA NA           \n",
       "682       NA            NA       NA        NA NA           \n",
       "683       NA            NA       NA        NA NA           \n",
       "684       NA            NA       NA        NA NA           \n",
       "685       NA            NA       NA        NA NA           \n",
       "686       NA            NA       NA        NA NA           \n",
       "687       NA            NA       NA        NA NA           \n",
       "688 0.028275            NA       NA        NA NA           \n",
       "689       NA      11.83333       NA        NA NA           \n",
       "690       NA      16.60000       NA        NA NA           \n",
       "691       NA       6.00000       NA        NA NA           \n",
       "692       NA      64.39667       NA        NA NA           \n",
       "693       NA            NA 0.405000        NA NA           \n",
       "694       NA            NA 2.176667        NA NA           \n",
       "695       NA            NA 4.231765        NA NA           \n",
       "696       NA            NA       NA   5.45500 NA           \n",
       "697       NA            NA       NA 500.00000 NA           \n",
       "698       NA            NA       NA  16.55846 NA           "
      ]
     },
     "metadata": {},
     "output_type": "display_data"
    }
   ],
   "source": [
    "l[rowSums(is.na(l)) != ncol(l), ]"
   ]
  },
  {
   "cell_type": "code",
   "execution_count": 55,
   "id": "fc2d7e49-2e89-48d6-9573-0a1301bb409d",
   "metadata": {},
   "outputs": [
    {
     "data": {
      "text/html": [
       "<table class=\"dataframe\">\n",
       "<caption>A data.frame: 698 × 30</caption>\n",
       "<thead>\n",
       "\t<tr><th scope=col>DTXSID8074819</th><th scope=col>DTXSID4020878</th><th scope=col>B</th><th scope=col>DTXSID4075459</th><th scope=col>DTXSID4020161</th><th scope=col>Cu</th><th scope=col>DTXSID0047741</th><th scope=col>K</th><th scope=col>Mg</th><th scope=col>Zn</th><th scope=col>⋯</th><th scope=col>Si</th><th scope=col>Sr</th><th scope=col>Ti</th><th scope=col>Ba</th><th scope=col>Rb</th><th scope=col>DTXSID9059757</th><th scope=col>Li</th><th scope=col>Bi</th><th scope=col>Th</th><th scope=col>DTXSID1025649</th></tr>\n",
       "\t<tr><th scope=col>&lt;dbl&gt;</th><th scope=col>&lt;dbl&gt;</th><th scope=col>&lt;dbl&gt;</th><th scope=col>&lt;dbl&gt;</th><th scope=col>&lt;dbl&gt;</th><th scope=col>&lt;dbl&gt;</th><th scope=col>&lt;dbl&gt;</th><th scope=col>&lt;dbl&gt;</th><th scope=col>&lt;dbl&gt;</th><th scope=col>&lt;dbl&gt;</th><th scope=col>⋯</th><th scope=col>&lt;dbl&gt;</th><th scope=col>&lt;dbl&gt;</th><th scope=col>&lt;dbl&gt;</th><th scope=col>&lt;dbl&gt;</th><th scope=col>&lt;dbl&gt;</th><th scope=col>&lt;dbl&gt;</th><th scope=col>&lt;dbl&gt;</th><th scope=col>&lt;dbl&gt;</th><th scope=col>&lt;dbl&gt;</th><th scope=col>&lt;dbl&gt;</th></tr>\n",
       "</thead>\n",
       "<tbody>\n",
       "\t<tr><td>   NA</td><td>    NA</td><td> NA</td><td>       NA</td><td>   NA</td><td>       NA</td><td>NA</td><td>NA</td><td>NA</td><td>NA</td><td>⋯</td><td>NA</td><td>NA</td><td>NA</td><td>NA</td><td>NA</td><td>NA</td><td>NA</td><td>NA</td><td>NA</td><td>NA</td></tr>\n",
       "\t<tr><td>   NA</td><td>    NA</td><td> NA</td><td>       NA</td><td>   NA</td><td>       NA</td><td>NA</td><td>NA</td><td>NA</td><td>NA</td><td>⋯</td><td>NA</td><td>NA</td><td>NA</td><td>NA</td><td>NA</td><td>NA</td><td>NA</td><td>NA</td><td>NA</td><td>NA</td></tr>\n",
       "\t<tr><td> 9.75</td><td>    NA</td><td> NA</td><td>       NA</td><td>   NA</td><td>       NA</td><td>NA</td><td>NA</td><td>NA</td><td>NA</td><td>⋯</td><td>NA</td><td>NA</td><td>NA</td><td>NA</td><td>NA</td><td>NA</td><td>NA</td><td>NA</td><td>NA</td><td>NA</td></tr>\n",
       "\t<tr><td>15.45</td><td>    NA</td><td> NA</td><td>       NA</td><td>   NA</td><td>       NA</td><td>NA</td><td>NA</td><td>NA</td><td>NA</td><td>⋯</td><td>NA</td><td>NA</td><td>NA</td><td>NA</td><td>NA</td><td>NA</td><td>NA</td><td>NA</td><td>NA</td><td>NA</td></tr>\n",
       "\t<tr><td>   NA</td><td>23.500</td><td> NA</td><td>       NA</td><td>   NA</td><td>       NA</td><td>NA</td><td>NA</td><td>NA</td><td>NA</td><td>⋯</td><td>NA</td><td>NA</td><td>NA</td><td>NA</td><td>NA</td><td>NA</td><td>NA</td><td>NA</td><td>NA</td><td>NA</td></tr>\n",
       "\t<tr><td>   NA</td><td> 3.500</td><td> NA</td><td>       NA</td><td>   NA</td><td>       NA</td><td>NA</td><td>NA</td><td>NA</td><td>NA</td><td>⋯</td><td>NA</td><td>NA</td><td>NA</td><td>NA</td><td>NA</td><td>NA</td><td>NA</td><td>NA</td><td>NA</td><td>NA</td></tr>\n",
       "\t<tr><td>   NA</td><td> 5.661</td><td> NA</td><td>       NA</td><td>   NA</td><td>       NA</td><td>NA</td><td>NA</td><td>NA</td><td>NA</td><td>⋯</td><td>NA</td><td>NA</td><td>NA</td><td>NA</td><td>NA</td><td>NA</td><td>NA</td><td>NA</td><td>NA</td><td>NA</td></tr>\n",
       "\t<tr><td>   NA</td><td>    NA</td><td>288</td><td>       NA</td><td>   NA</td><td>       NA</td><td>NA</td><td>NA</td><td>NA</td><td>NA</td><td>⋯</td><td>NA</td><td>NA</td><td>NA</td><td>NA</td><td>NA</td><td>NA</td><td>NA</td><td>NA</td><td>NA</td><td>NA</td></tr>\n",
       "\t<tr><td>   NA</td><td>    NA</td><td> NA</td><td> 21.00000</td><td>   NA</td><td>       NA</td><td>NA</td><td>NA</td><td>NA</td><td>NA</td><td>⋯</td><td>NA</td><td>NA</td><td>NA</td><td>NA</td><td>NA</td><td>NA</td><td>NA</td><td>NA</td><td>NA</td><td>NA</td></tr>\n",
       "\t<tr><td>   NA</td><td>    NA</td><td> NA</td><td>235.42857</td><td>   NA</td><td>       NA</td><td>NA</td><td>NA</td><td>NA</td><td>NA</td><td>⋯</td><td>NA</td><td>NA</td><td>NA</td><td>NA</td><td>NA</td><td>NA</td><td>NA</td><td>NA</td><td>NA</td><td>NA</td></tr>\n",
       "\t<tr><td>   NA</td><td>    NA</td><td> NA</td><td>  0.45000</td><td>   NA</td><td>       NA</td><td>NA</td><td>NA</td><td>NA</td><td>NA</td><td>⋯</td><td>NA</td><td>NA</td><td>NA</td><td>NA</td><td>NA</td><td>NA</td><td>NA</td><td>NA</td><td>NA</td><td>NA</td></tr>\n",
       "\t<tr><td>   NA</td><td>    NA</td><td> NA</td><td> 13.10000</td><td>   NA</td><td>       NA</td><td>NA</td><td>NA</td><td>NA</td><td>NA</td><td>⋯</td><td>NA</td><td>NA</td><td>NA</td><td>NA</td><td>NA</td><td>NA</td><td>NA</td><td>NA</td><td>NA</td><td>NA</td></tr>\n",
       "\t<tr><td>   NA</td><td>    NA</td><td> NA</td><td>257.95000</td><td>   NA</td><td>       NA</td><td>NA</td><td>NA</td><td>NA</td><td>NA</td><td>⋯</td><td>NA</td><td>NA</td><td>NA</td><td>NA</td><td>NA</td><td>NA</td><td>NA</td><td>NA</td><td>NA</td><td>NA</td></tr>\n",
       "\t<tr><td>   NA</td><td>    NA</td><td> NA</td><td>  0.00193</td><td>   NA</td><td>       NA</td><td>NA</td><td>NA</td><td>NA</td><td>NA</td><td>⋯</td><td>NA</td><td>NA</td><td>NA</td><td>NA</td><td>NA</td><td>NA</td><td>NA</td><td>NA</td><td>NA</td><td>NA</td></tr>\n",
       "\t<tr><td>   NA</td><td>    NA</td><td> NA</td><td> 14.98500</td><td>   NA</td><td>       NA</td><td>NA</td><td>NA</td><td>NA</td><td>NA</td><td>⋯</td><td>NA</td><td>NA</td><td>NA</td><td>NA</td><td>NA</td><td>NA</td><td>NA</td><td>NA</td><td>NA</td><td>NA</td></tr>\n",
       "\t<tr><td>   NA</td><td>    NA</td><td> NA</td><td>234.48571</td><td>   NA</td><td>       NA</td><td>NA</td><td>NA</td><td>NA</td><td>NA</td><td>⋯</td><td>NA</td><td>NA</td><td>NA</td><td>NA</td><td>NA</td><td>NA</td><td>NA</td><td>NA</td><td>NA</td><td>NA</td></tr>\n",
       "\t<tr><td>   NA</td><td>    NA</td><td> NA</td><td>       NA</td><td>0.045</td><td>       NA</td><td>NA</td><td>NA</td><td>NA</td><td>NA</td><td>⋯</td><td>NA</td><td>NA</td><td>NA</td><td>NA</td><td>NA</td><td>NA</td><td>NA</td><td>NA</td><td>NA</td><td>NA</td></tr>\n",
       "\t<tr><td>   NA</td><td>    NA</td><td> NA</td><td>       NA</td><td>0.080</td><td>       NA</td><td>NA</td><td>NA</td><td>NA</td><td>NA</td><td>⋯</td><td>NA</td><td>NA</td><td>NA</td><td>NA</td><td>NA</td><td>NA</td><td>NA</td><td>NA</td><td>NA</td><td>NA</td></tr>\n",
       "\t<tr><td>   NA</td><td>    NA</td><td> NA</td><td>       NA</td><td>   NA</td><td> 187.0000</td><td>NA</td><td>NA</td><td>NA</td><td>NA</td><td>⋯</td><td>NA</td><td>NA</td><td>NA</td><td>NA</td><td>NA</td><td>NA</td><td>NA</td><td>NA</td><td>NA</td><td>NA</td></tr>\n",
       "\t<tr><td>   NA</td><td>    NA</td><td> NA</td><td>       NA</td><td>   NA</td><td> 375.0000</td><td>NA</td><td>NA</td><td>NA</td><td>NA</td><td>⋯</td><td>NA</td><td>NA</td><td>NA</td><td>NA</td><td>NA</td><td>NA</td><td>NA</td><td>NA</td><td>NA</td><td>NA</td></tr>\n",
       "\t<tr><td>   NA</td><td>    NA</td><td> NA</td><td>       NA</td><td>   NA</td><td>  50.0000</td><td>NA</td><td>NA</td><td>NA</td><td>NA</td><td>⋯</td><td>NA</td><td>NA</td><td>NA</td><td>NA</td><td>NA</td><td>NA</td><td>NA</td><td>NA</td><td>NA</td><td>NA</td></tr>\n",
       "\t<tr><td>   NA</td><td>    NA</td><td> NA</td><td>       NA</td><td>   NA</td><td>   4.1000</td><td>NA</td><td>NA</td><td>NA</td><td>NA</td><td>⋯</td><td>NA</td><td>NA</td><td>NA</td><td>NA</td><td>NA</td><td>NA</td><td>NA</td><td>NA</td><td>NA</td><td>NA</td></tr>\n",
       "\t<tr><td>   NA</td><td>    NA</td><td> NA</td><td>       NA</td><td>   NA</td><td>  28.8000</td><td>NA</td><td>NA</td><td>NA</td><td>NA</td><td>⋯</td><td>NA</td><td>NA</td><td>NA</td><td>NA</td><td>NA</td><td>NA</td><td>NA</td><td>NA</td><td>NA</td><td>NA</td></tr>\n",
       "\t<tr><td>   NA</td><td>    NA</td><td> NA</td><td>       NA</td><td>   NA</td><td>  28.7275</td><td>NA</td><td>NA</td><td>NA</td><td>NA</td><td>⋯</td><td>NA</td><td>NA</td><td>NA</td><td>NA</td><td>NA</td><td>NA</td><td>NA</td><td>NA</td><td>NA</td><td>NA</td></tr>\n",
       "\t<tr><td>   NA</td><td>    NA</td><td> NA</td><td>       NA</td><td>   NA</td><td> 278.5000</td><td>NA</td><td>NA</td><td>NA</td><td>NA</td><td>⋯</td><td>NA</td><td>NA</td><td>NA</td><td>NA</td><td>NA</td><td>NA</td><td>NA</td><td>NA</td><td>NA</td><td>NA</td></tr>\n",
       "\t<tr><td>   NA</td><td>    NA</td><td> NA</td><td>       NA</td><td>   NA</td><td> 151.3333</td><td>NA</td><td>NA</td><td>NA</td><td>NA</td><td>⋯</td><td>NA</td><td>NA</td><td>NA</td><td>NA</td><td>NA</td><td>NA</td><td>NA</td><td>NA</td><td>NA</td><td>NA</td></tr>\n",
       "\t<tr><td>   NA</td><td>    NA</td><td> NA</td><td>       NA</td><td>   NA</td><td>4100.0000</td><td>NA</td><td>NA</td><td>NA</td><td>NA</td><td>⋯</td><td>NA</td><td>NA</td><td>NA</td><td>NA</td><td>NA</td><td>NA</td><td>NA</td><td>NA</td><td>NA</td><td>NA</td></tr>\n",
       "\t<tr><td>   NA</td><td>    NA</td><td> NA</td><td>       NA</td><td>   NA</td><td>   4.1000</td><td>NA</td><td>NA</td><td>NA</td><td>NA</td><td>⋯</td><td>NA</td><td>NA</td><td>NA</td><td>NA</td><td>NA</td><td>NA</td><td>NA</td><td>NA</td><td>NA</td><td>NA</td></tr>\n",
       "\t<tr><td>   NA</td><td>    NA</td><td> NA</td><td>       NA</td><td>   NA</td><td>   0.3500</td><td>NA</td><td>NA</td><td>NA</td><td>NA</td><td>⋯</td><td>NA</td><td>NA</td><td>NA</td><td>NA</td><td>NA</td><td>NA</td><td>NA</td><td>NA</td><td>NA</td><td>NA</td></tr>\n",
       "\t<tr><td>   NA</td><td>    NA</td><td> NA</td><td>       NA</td><td>   NA</td><td> 266.0000</td><td>NA</td><td>NA</td><td>NA</td><td>NA</td><td>⋯</td><td>NA</td><td>NA</td><td>NA</td><td>NA</td><td>NA</td><td>NA</td><td>NA</td><td>NA</td><td>NA</td><td>NA</td></tr>\n",
       "\t<tr><td>⋮</td><td>⋮</td><td>⋮</td><td>⋮</td><td>⋮</td><td>⋮</td><td>⋮</td><td>⋮</td><td>⋮</td><td>⋮</td><td>⋱</td><td>⋮</td><td>⋮</td><td>⋮</td><td>⋮</td><td>⋮</td><td>⋮</td><td>⋮</td><td>⋮</td><td>⋮</td><td>⋮</td></tr>\n",
       "\t<tr><td>NA</td><td>NA</td><td>NA</td><td>NA</td><td>NA</td><td>NA</td><td>NA</td><td>NA</td><td>NA</td><td>NA</td><td>⋯</td><td>NA</td><td>185.0059</td><td>        NA</td><td>       NA</td><td>       NA</td><td>      NA</td><td>      NA</td><td>      NA</td><td>       NA</td><td>NA</td></tr>\n",
       "\t<tr><td>NA</td><td>NA</td><td>NA</td><td>NA</td><td>NA</td><td>NA</td><td>NA</td><td>NA</td><td>NA</td><td>NA</td><td>⋯</td><td>NA</td><td>      NA</td><td>  250.0000</td><td>       NA</td><td>       NA</td><td>      NA</td><td>      NA</td><td>      NA</td><td>       NA</td><td>NA</td></tr>\n",
       "\t<tr><td>NA</td><td>NA</td><td>NA</td><td>NA</td><td>NA</td><td>NA</td><td>NA</td><td>NA</td><td>NA</td><td>NA</td><td>⋯</td><td>NA</td><td>      NA</td><td>  227.0667</td><td>       NA</td><td>       NA</td><td>      NA</td><td>      NA</td><td>      NA</td><td>       NA</td><td>NA</td></tr>\n",
       "\t<tr><td>NA</td><td>NA</td><td>NA</td><td>NA</td><td>NA</td><td>NA</td><td>NA</td><td>NA</td><td>NA</td><td>NA</td><td>⋯</td><td>NA</td><td>      NA</td><td>   24.7500</td><td>       NA</td><td>       NA</td><td>      NA</td><td>      NA</td><td>      NA</td><td>       NA</td><td>NA</td></tr>\n",
       "\t<tr><td>NA</td><td>NA</td><td>NA</td><td>NA</td><td>NA</td><td>NA</td><td>NA</td><td>NA</td><td>NA</td><td>NA</td><td>⋯</td><td>NA</td><td>      NA</td><td>14700.0000</td><td>       NA</td><td>       NA</td><td>      NA</td><td>      NA</td><td>      NA</td><td>       NA</td><td>NA</td></tr>\n",
       "\t<tr><td>NA</td><td>NA</td><td>NA</td><td>NA</td><td>NA</td><td>NA</td><td>NA</td><td>NA</td><td>NA</td><td>NA</td><td>⋯</td><td>NA</td><td>      NA</td><td>    7.1100</td><td>       NA</td><td>       NA</td><td>      NA</td><td>      NA</td><td>      NA</td><td>       NA</td><td>NA</td></tr>\n",
       "\t<tr><td>NA</td><td>NA</td><td>NA</td><td>NA</td><td>NA</td><td>NA</td><td>NA</td><td>NA</td><td>NA</td><td>NA</td><td>⋯</td><td>NA</td><td>      NA</td><td>  424.0000</td><td>       NA</td><td>       NA</td><td>      NA</td><td>      NA</td><td>      NA</td><td>       NA</td><td>NA</td></tr>\n",
       "\t<tr><td>NA</td><td>NA</td><td>NA</td><td>NA</td><td>NA</td><td>NA</td><td>NA</td><td>NA</td><td>NA</td><td>NA</td><td>⋯</td><td>NA</td><td>      NA</td><td>    0.0320</td><td>       NA</td><td>       NA</td><td>      NA</td><td>      NA</td><td>      NA</td><td>       NA</td><td>NA</td></tr>\n",
       "\t<tr><td>NA</td><td>NA</td><td>NA</td><td>NA</td><td>NA</td><td>NA</td><td>NA</td><td>NA</td><td>NA</td><td>NA</td><td>⋯</td><td>NA</td><td>      NA</td><td>15443.3333</td><td>       NA</td><td>       NA</td><td>      NA</td><td>      NA</td><td>      NA</td><td>       NA</td><td>NA</td></tr>\n",
       "\t<tr><td>NA</td><td>NA</td><td>NA</td><td>NA</td><td>NA</td><td>NA</td><td>NA</td><td>NA</td><td>NA</td><td>NA</td><td>⋯</td><td>NA</td><td>      NA</td><td> 2000.0000</td><td>       NA</td><td>       NA</td><td>      NA</td><td>      NA</td><td>      NA</td><td>       NA</td><td>NA</td></tr>\n",
       "\t<tr><td>NA</td><td>NA</td><td>NA</td><td>NA</td><td>NA</td><td>NA</td><td>NA</td><td>NA</td><td>NA</td><td>NA</td><td>⋯</td><td>NA</td><td>      NA</td><td>        NA</td><td> 117.5000</td><td>       NA</td><td>      NA</td><td>      NA</td><td>      NA</td><td>       NA</td><td>NA</td></tr>\n",
       "\t<tr><td>NA</td><td>NA</td><td>NA</td><td>NA</td><td>NA</td><td>NA</td><td>NA</td><td>NA</td><td>NA</td><td>NA</td><td>⋯</td><td>NA</td><td>      NA</td><td>        NA</td><td>1385.3333</td><td>       NA</td><td>      NA</td><td>      NA</td><td>      NA</td><td>       NA</td><td>NA</td></tr>\n",
       "\t<tr><td>NA</td><td>NA</td><td>NA</td><td>NA</td><td>NA</td><td>NA</td><td>NA</td><td>NA</td><td>NA</td><td>NA</td><td>⋯</td><td>NA</td><td>      NA</td><td>        NA</td><td> 100.5000</td><td>       NA</td><td>      NA</td><td>      NA</td><td>      NA</td><td>       NA</td><td>NA</td></tr>\n",
       "\t<tr><td>NA</td><td>NA</td><td>NA</td><td>NA</td><td>NA</td><td>NA</td><td>NA</td><td>NA</td><td>NA</td><td>NA</td><td>⋯</td><td>NA</td><td>      NA</td><td>        NA</td><td> 699.5000</td><td>       NA</td><td>      NA</td><td>      NA</td><td>      NA</td><td>       NA</td><td>NA</td></tr>\n",
       "\t<tr><td>NA</td><td>NA</td><td>NA</td><td>NA</td><td>NA</td><td>NA</td><td>NA</td><td>NA</td><td>NA</td><td>NA</td><td>⋯</td><td>NA</td><td>      NA</td><td>        NA</td><td> 968.6400</td><td>       NA</td><td>      NA</td><td>      NA</td><td>      NA</td><td>       NA</td><td>NA</td></tr>\n",
       "\t<tr><td>NA</td><td>NA</td><td>NA</td><td>NA</td><td>NA</td><td>NA</td><td>NA</td><td>NA</td><td>NA</td><td>NA</td><td>⋯</td><td>NA</td><td>      NA</td><td>        NA</td><td> 954.7967</td><td>       NA</td><td>      NA</td><td>      NA</td><td>      NA</td><td>       NA</td><td>NA</td></tr>\n",
       "\t<tr><td>NA</td><td>NA</td><td>NA</td><td>NA</td><td>NA</td><td>NA</td><td>NA</td><td>NA</td><td>NA</td><td>NA</td><td>⋯</td><td>NA</td><td>      NA</td><td>        NA</td><td>       NA</td><td> 52.75000</td><td>      NA</td><td>      NA</td><td>      NA</td><td>       NA</td><td>NA</td></tr>\n",
       "\t<tr><td>NA</td><td>NA</td><td>NA</td><td>NA</td><td>NA</td><td>NA</td><td>NA</td><td>NA</td><td>NA</td><td>NA</td><td>⋯</td><td>NA</td><td>      NA</td><td>        NA</td><td>       NA</td><td> 23.92667</td><td>      NA</td><td>      NA</td><td>      NA</td><td>       NA</td><td>NA</td></tr>\n",
       "\t<tr><td>NA</td><td>NA</td><td>NA</td><td>NA</td><td>NA</td><td>NA</td><td>NA</td><td>NA</td><td>NA</td><td>NA</td><td>⋯</td><td>NA</td><td>      NA</td><td>        NA</td><td>       NA</td><td>143.41647</td><td>      NA</td><td>      NA</td><td>      NA</td><td>       NA</td><td>NA</td></tr>\n",
       "\t<tr><td>NA</td><td>NA</td><td>NA</td><td>NA</td><td>NA</td><td>NA</td><td>NA</td><td>NA</td><td>NA</td><td>NA</td><td>⋯</td><td>NA</td><td>      NA</td><td>        NA</td><td>       NA</td><td>       NA</td><td>0.028275</td><td>      NA</td><td>      NA</td><td>       NA</td><td>NA</td></tr>\n",
       "\t<tr><td>NA</td><td>NA</td><td>NA</td><td>NA</td><td>NA</td><td>NA</td><td>NA</td><td>NA</td><td>NA</td><td>NA</td><td>⋯</td><td>NA</td><td>      NA</td><td>        NA</td><td>       NA</td><td>       NA</td><td>      NA</td><td>11.83333</td><td>      NA</td><td>       NA</td><td>NA</td></tr>\n",
       "\t<tr><td>NA</td><td>NA</td><td>NA</td><td>NA</td><td>NA</td><td>NA</td><td>NA</td><td>NA</td><td>NA</td><td>NA</td><td>⋯</td><td>NA</td><td>      NA</td><td>        NA</td><td>       NA</td><td>       NA</td><td>      NA</td><td>16.60000</td><td>      NA</td><td>       NA</td><td>NA</td></tr>\n",
       "\t<tr><td>NA</td><td>NA</td><td>NA</td><td>NA</td><td>NA</td><td>NA</td><td>NA</td><td>NA</td><td>NA</td><td>NA</td><td>⋯</td><td>NA</td><td>      NA</td><td>        NA</td><td>       NA</td><td>       NA</td><td>      NA</td><td> 6.00000</td><td>      NA</td><td>       NA</td><td>NA</td></tr>\n",
       "\t<tr><td>NA</td><td>NA</td><td>NA</td><td>NA</td><td>NA</td><td>NA</td><td>NA</td><td>NA</td><td>NA</td><td>NA</td><td>⋯</td><td>NA</td><td>      NA</td><td>        NA</td><td>       NA</td><td>       NA</td><td>      NA</td><td>64.39667</td><td>      NA</td><td>       NA</td><td>NA</td></tr>\n",
       "\t<tr><td>NA</td><td>NA</td><td>NA</td><td>NA</td><td>NA</td><td>NA</td><td>NA</td><td>NA</td><td>NA</td><td>NA</td><td>⋯</td><td>NA</td><td>      NA</td><td>        NA</td><td>       NA</td><td>       NA</td><td>      NA</td><td>      NA</td><td>0.405000</td><td>       NA</td><td>NA</td></tr>\n",
       "\t<tr><td>NA</td><td>NA</td><td>NA</td><td>NA</td><td>NA</td><td>NA</td><td>NA</td><td>NA</td><td>NA</td><td>NA</td><td>⋯</td><td>NA</td><td>      NA</td><td>        NA</td><td>       NA</td><td>       NA</td><td>      NA</td><td>      NA</td><td>2.176667</td><td>       NA</td><td>NA</td></tr>\n",
       "\t<tr><td>NA</td><td>NA</td><td>NA</td><td>NA</td><td>NA</td><td>NA</td><td>NA</td><td>NA</td><td>NA</td><td>NA</td><td>⋯</td><td>NA</td><td>      NA</td><td>        NA</td><td>       NA</td><td>       NA</td><td>      NA</td><td>      NA</td><td>4.231765</td><td>       NA</td><td>NA</td></tr>\n",
       "\t<tr><td>NA</td><td>NA</td><td>NA</td><td>NA</td><td>NA</td><td>NA</td><td>NA</td><td>NA</td><td>NA</td><td>NA</td><td>⋯</td><td>NA</td><td>      NA</td><td>        NA</td><td>       NA</td><td>       NA</td><td>      NA</td><td>      NA</td><td>      NA</td><td>  5.45500</td><td>NA</td></tr>\n",
       "\t<tr><td>NA</td><td>NA</td><td>NA</td><td>NA</td><td>NA</td><td>NA</td><td>NA</td><td>NA</td><td>NA</td><td>NA</td><td>⋯</td><td>NA</td><td>      NA</td><td>        NA</td><td>       NA</td><td>       NA</td><td>      NA</td><td>      NA</td><td>      NA</td><td>500.00000</td><td>NA</td></tr>\n",
       "\t<tr><td>NA</td><td>NA</td><td>NA</td><td>NA</td><td>NA</td><td>NA</td><td>NA</td><td>NA</td><td>NA</td><td>NA</td><td>⋯</td><td>NA</td><td>      NA</td><td>        NA</td><td>       NA</td><td>       NA</td><td>      NA</td><td>      NA</td><td>      NA</td><td> 16.55846</td><td>NA</td></tr>\n",
       "</tbody>\n",
       "</table>\n"
      ],
      "text/latex": [
       "A data.frame: 698 × 30\n",
       "\\begin{tabular}{lllllllllllllllllllll}\n",
       " DTXSID8074819 & DTXSID4020878 & B & DTXSID4075459 & DTXSID4020161 & Cu & DTXSID0047741 & K & Mg & Zn & ⋯ & Si & Sr & Ti & Ba & Rb & DTXSID9059757 & Li & Bi & Th & DTXSID1025649\\\\\n",
       " <dbl> & <dbl> & <dbl> & <dbl> & <dbl> & <dbl> & <dbl> & <dbl> & <dbl> & <dbl> & ⋯ & <dbl> & <dbl> & <dbl> & <dbl> & <dbl> & <dbl> & <dbl> & <dbl> & <dbl> & <dbl>\\\\\n",
       "\\hline\n",
       "\t    NA &     NA &  NA &        NA &    NA &        NA & NA & NA & NA & NA & ⋯ & NA & NA & NA & NA & NA & NA & NA & NA & NA & NA\\\\\n",
       "\t    NA &     NA &  NA &        NA &    NA &        NA & NA & NA & NA & NA & ⋯ & NA & NA & NA & NA & NA & NA & NA & NA & NA & NA\\\\\n",
       "\t  9.75 &     NA &  NA &        NA &    NA &        NA & NA & NA & NA & NA & ⋯ & NA & NA & NA & NA & NA & NA & NA & NA & NA & NA\\\\\n",
       "\t 15.45 &     NA &  NA &        NA &    NA &        NA & NA & NA & NA & NA & ⋯ & NA & NA & NA & NA & NA & NA & NA & NA & NA & NA\\\\\n",
       "\t    NA & 23.500 &  NA &        NA &    NA &        NA & NA & NA & NA & NA & ⋯ & NA & NA & NA & NA & NA & NA & NA & NA & NA & NA\\\\\n",
       "\t    NA &  3.500 &  NA &        NA &    NA &        NA & NA & NA & NA & NA & ⋯ & NA & NA & NA & NA & NA & NA & NA & NA & NA & NA\\\\\n",
       "\t    NA &  5.661 &  NA &        NA &    NA &        NA & NA & NA & NA & NA & ⋯ & NA & NA & NA & NA & NA & NA & NA & NA & NA & NA\\\\\n",
       "\t    NA &     NA & 288 &        NA &    NA &        NA & NA & NA & NA & NA & ⋯ & NA & NA & NA & NA & NA & NA & NA & NA & NA & NA\\\\\n",
       "\t    NA &     NA &  NA &  21.00000 &    NA &        NA & NA & NA & NA & NA & ⋯ & NA & NA & NA & NA & NA & NA & NA & NA & NA & NA\\\\\n",
       "\t    NA &     NA &  NA & 235.42857 &    NA &        NA & NA & NA & NA & NA & ⋯ & NA & NA & NA & NA & NA & NA & NA & NA & NA & NA\\\\\n",
       "\t    NA &     NA &  NA &   0.45000 &    NA &        NA & NA & NA & NA & NA & ⋯ & NA & NA & NA & NA & NA & NA & NA & NA & NA & NA\\\\\n",
       "\t    NA &     NA &  NA &  13.10000 &    NA &        NA & NA & NA & NA & NA & ⋯ & NA & NA & NA & NA & NA & NA & NA & NA & NA & NA\\\\\n",
       "\t    NA &     NA &  NA & 257.95000 &    NA &        NA & NA & NA & NA & NA & ⋯ & NA & NA & NA & NA & NA & NA & NA & NA & NA & NA\\\\\n",
       "\t    NA &     NA &  NA &   0.00193 &    NA &        NA & NA & NA & NA & NA & ⋯ & NA & NA & NA & NA & NA & NA & NA & NA & NA & NA\\\\\n",
       "\t    NA &     NA &  NA &  14.98500 &    NA &        NA & NA & NA & NA & NA & ⋯ & NA & NA & NA & NA & NA & NA & NA & NA & NA & NA\\\\\n",
       "\t    NA &     NA &  NA & 234.48571 &    NA &        NA & NA & NA & NA & NA & ⋯ & NA & NA & NA & NA & NA & NA & NA & NA & NA & NA\\\\\n",
       "\t    NA &     NA &  NA &        NA & 0.045 &        NA & NA & NA & NA & NA & ⋯ & NA & NA & NA & NA & NA & NA & NA & NA & NA & NA\\\\\n",
       "\t    NA &     NA &  NA &        NA & 0.080 &        NA & NA & NA & NA & NA & ⋯ & NA & NA & NA & NA & NA & NA & NA & NA & NA & NA\\\\\n",
       "\t    NA &     NA &  NA &        NA &    NA &  187.0000 & NA & NA & NA & NA & ⋯ & NA & NA & NA & NA & NA & NA & NA & NA & NA & NA\\\\\n",
       "\t    NA &     NA &  NA &        NA &    NA &  375.0000 & NA & NA & NA & NA & ⋯ & NA & NA & NA & NA & NA & NA & NA & NA & NA & NA\\\\\n",
       "\t    NA &     NA &  NA &        NA &    NA &   50.0000 & NA & NA & NA & NA & ⋯ & NA & NA & NA & NA & NA & NA & NA & NA & NA & NA\\\\\n",
       "\t    NA &     NA &  NA &        NA &    NA &    4.1000 & NA & NA & NA & NA & ⋯ & NA & NA & NA & NA & NA & NA & NA & NA & NA & NA\\\\\n",
       "\t    NA &     NA &  NA &        NA &    NA &   28.8000 & NA & NA & NA & NA & ⋯ & NA & NA & NA & NA & NA & NA & NA & NA & NA & NA\\\\\n",
       "\t    NA &     NA &  NA &        NA &    NA &   28.7275 & NA & NA & NA & NA & ⋯ & NA & NA & NA & NA & NA & NA & NA & NA & NA & NA\\\\\n",
       "\t    NA &     NA &  NA &        NA &    NA &  278.5000 & NA & NA & NA & NA & ⋯ & NA & NA & NA & NA & NA & NA & NA & NA & NA & NA\\\\\n",
       "\t    NA &     NA &  NA &        NA &    NA &  151.3333 & NA & NA & NA & NA & ⋯ & NA & NA & NA & NA & NA & NA & NA & NA & NA & NA\\\\\n",
       "\t    NA &     NA &  NA &        NA &    NA & 4100.0000 & NA & NA & NA & NA & ⋯ & NA & NA & NA & NA & NA & NA & NA & NA & NA & NA\\\\\n",
       "\t    NA &     NA &  NA &        NA &    NA &    4.1000 & NA & NA & NA & NA & ⋯ & NA & NA & NA & NA & NA & NA & NA & NA & NA & NA\\\\\n",
       "\t    NA &     NA &  NA &        NA &    NA &    0.3500 & NA & NA & NA & NA & ⋯ & NA & NA & NA & NA & NA & NA & NA & NA & NA & NA\\\\\n",
       "\t    NA &     NA &  NA &        NA &    NA &  266.0000 & NA & NA & NA & NA & ⋯ & NA & NA & NA & NA & NA & NA & NA & NA & NA & NA\\\\\n",
       "\t ⋮ & ⋮ & ⋮ & ⋮ & ⋮ & ⋮ & ⋮ & ⋮ & ⋮ & ⋮ & ⋱ & ⋮ & ⋮ & ⋮ & ⋮ & ⋮ & ⋮ & ⋮ & ⋮ & ⋮ & ⋮\\\\\n",
       "\t NA & NA & NA & NA & NA & NA & NA & NA & NA & NA & ⋯ & NA & 185.0059 &         NA &        NA &        NA &       NA &       NA &       NA &        NA & NA\\\\\n",
       "\t NA & NA & NA & NA & NA & NA & NA & NA & NA & NA & ⋯ & NA &       NA &   250.0000 &        NA &        NA &       NA &       NA &       NA &        NA & NA\\\\\n",
       "\t NA & NA & NA & NA & NA & NA & NA & NA & NA & NA & ⋯ & NA &       NA &   227.0667 &        NA &        NA &       NA &       NA &       NA &        NA & NA\\\\\n",
       "\t NA & NA & NA & NA & NA & NA & NA & NA & NA & NA & ⋯ & NA &       NA &    24.7500 &        NA &        NA &       NA &       NA &       NA &        NA & NA\\\\\n",
       "\t NA & NA & NA & NA & NA & NA & NA & NA & NA & NA & ⋯ & NA &       NA & 14700.0000 &        NA &        NA &       NA &       NA &       NA &        NA & NA\\\\\n",
       "\t NA & NA & NA & NA & NA & NA & NA & NA & NA & NA & ⋯ & NA &       NA &     7.1100 &        NA &        NA &       NA &       NA &       NA &        NA & NA\\\\\n",
       "\t NA & NA & NA & NA & NA & NA & NA & NA & NA & NA & ⋯ & NA &       NA &   424.0000 &        NA &        NA &       NA &       NA &       NA &        NA & NA\\\\\n",
       "\t NA & NA & NA & NA & NA & NA & NA & NA & NA & NA & ⋯ & NA &       NA &     0.0320 &        NA &        NA &       NA &       NA &       NA &        NA & NA\\\\\n",
       "\t NA & NA & NA & NA & NA & NA & NA & NA & NA & NA & ⋯ & NA &       NA & 15443.3333 &        NA &        NA &       NA &       NA &       NA &        NA & NA\\\\\n",
       "\t NA & NA & NA & NA & NA & NA & NA & NA & NA & NA & ⋯ & NA &       NA &  2000.0000 &        NA &        NA &       NA &       NA &       NA &        NA & NA\\\\\n",
       "\t NA & NA & NA & NA & NA & NA & NA & NA & NA & NA & ⋯ & NA &       NA &         NA &  117.5000 &        NA &       NA &       NA &       NA &        NA & NA\\\\\n",
       "\t NA & NA & NA & NA & NA & NA & NA & NA & NA & NA & ⋯ & NA &       NA &         NA & 1385.3333 &        NA &       NA &       NA &       NA &        NA & NA\\\\\n",
       "\t NA & NA & NA & NA & NA & NA & NA & NA & NA & NA & ⋯ & NA &       NA &         NA &  100.5000 &        NA &       NA &       NA &       NA &        NA & NA\\\\\n",
       "\t NA & NA & NA & NA & NA & NA & NA & NA & NA & NA & ⋯ & NA &       NA &         NA &  699.5000 &        NA &       NA &       NA &       NA &        NA & NA\\\\\n",
       "\t NA & NA & NA & NA & NA & NA & NA & NA & NA & NA & ⋯ & NA &       NA &         NA &  968.6400 &        NA &       NA &       NA &       NA &        NA & NA\\\\\n",
       "\t NA & NA & NA & NA & NA & NA & NA & NA & NA & NA & ⋯ & NA &       NA &         NA &  954.7967 &        NA &       NA &       NA &       NA &        NA & NA\\\\\n",
       "\t NA & NA & NA & NA & NA & NA & NA & NA & NA & NA & ⋯ & NA &       NA &         NA &        NA &  52.75000 &       NA &       NA &       NA &        NA & NA\\\\\n",
       "\t NA & NA & NA & NA & NA & NA & NA & NA & NA & NA & ⋯ & NA &       NA &         NA &        NA &  23.92667 &       NA &       NA &       NA &        NA & NA\\\\\n",
       "\t NA & NA & NA & NA & NA & NA & NA & NA & NA & NA & ⋯ & NA &       NA &         NA &        NA & 143.41647 &       NA &       NA &       NA &        NA & NA\\\\\n",
       "\t NA & NA & NA & NA & NA & NA & NA & NA & NA & NA & ⋯ & NA &       NA &         NA &        NA &        NA & 0.028275 &       NA &       NA &        NA & NA\\\\\n",
       "\t NA & NA & NA & NA & NA & NA & NA & NA & NA & NA & ⋯ & NA &       NA &         NA &        NA &        NA &       NA & 11.83333 &       NA &        NA & NA\\\\\n",
       "\t NA & NA & NA & NA & NA & NA & NA & NA & NA & NA & ⋯ & NA &       NA &         NA &        NA &        NA &       NA & 16.60000 &       NA &        NA & NA\\\\\n",
       "\t NA & NA & NA & NA & NA & NA & NA & NA & NA & NA & ⋯ & NA &       NA &         NA &        NA &        NA &       NA &  6.00000 &       NA &        NA & NA\\\\\n",
       "\t NA & NA & NA & NA & NA & NA & NA & NA & NA & NA & ⋯ & NA &       NA &         NA &        NA &        NA &       NA & 64.39667 &       NA &        NA & NA\\\\\n",
       "\t NA & NA & NA & NA & NA & NA & NA & NA & NA & NA & ⋯ & NA &       NA &         NA &        NA &        NA &       NA &       NA & 0.405000 &        NA & NA\\\\\n",
       "\t NA & NA & NA & NA & NA & NA & NA & NA & NA & NA & ⋯ & NA &       NA &         NA &        NA &        NA &       NA &       NA & 2.176667 &        NA & NA\\\\\n",
       "\t NA & NA & NA & NA & NA & NA & NA & NA & NA & NA & ⋯ & NA &       NA &         NA &        NA &        NA &       NA &       NA & 4.231765 &        NA & NA\\\\\n",
       "\t NA & NA & NA & NA & NA & NA & NA & NA & NA & NA & ⋯ & NA &       NA &         NA &        NA &        NA &       NA &       NA &       NA &   5.45500 & NA\\\\\n",
       "\t NA & NA & NA & NA & NA & NA & NA & NA & NA & NA & ⋯ & NA &       NA &         NA &        NA &        NA &       NA &       NA &       NA & 500.00000 & NA\\\\\n",
       "\t NA & NA & NA & NA & NA & NA & NA & NA & NA & NA & ⋯ & NA &       NA &         NA &        NA &        NA &       NA &       NA &       NA &  16.55846 & NA\\\\\n",
       "\\end{tabular}\n"
      ],
      "text/markdown": [
       "\n",
       "A data.frame: 698 × 30\n",
       "\n",
       "| DTXSID8074819 &lt;dbl&gt; | DTXSID4020878 &lt;dbl&gt; | B &lt;dbl&gt; | DTXSID4075459 &lt;dbl&gt; | DTXSID4020161 &lt;dbl&gt; | Cu &lt;dbl&gt; | DTXSID0047741 &lt;dbl&gt; | K &lt;dbl&gt; | Mg &lt;dbl&gt; | Zn &lt;dbl&gt; | ⋯ ⋯ | Si &lt;dbl&gt; | Sr &lt;dbl&gt; | Ti &lt;dbl&gt; | Ba &lt;dbl&gt; | Rb &lt;dbl&gt; | DTXSID9059757 &lt;dbl&gt; | Li &lt;dbl&gt; | Bi &lt;dbl&gt; | Th &lt;dbl&gt; | DTXSID1025649 &lt;dbl&gt; |\n",
       "|---|---|---|---|---|---|---|---|---|---|---|---|---|---|---|---|---|---|---|---|---|\n",
       "|    NA |     NA |  NA |        NA |    NA |        NA | NA | NA | NA | NA | ⋯ | NA | NA | NA | NA | NA | NA | NA | NA | NA | NA |\n",
       "|    NA |     NA |  NA |        NA |    NA |        NA | NA | NA | NA | NA | ⋯ | NA | NA | NA | NA | NA | NA | NA | NA | NA | NA |\n",
       "|  9.75 |     NA |  NA |        NA |    NA |        NA | NA | NA | NA | NA | ⋯ | NA | NA | NA | NA | NA | NA | NA | NA | NA | NA |\n",
       "| 15.45 |     NA |  NA |        NA |    NA |        NA | NA | NA | NA | NA | ⋯ | NA | NA | NA | NA | NA | NA | NA | NA | NA | NA |\n",
       "|    NA | 23.500 |  NA |        NA |    NA |        NA | NA | NA | NA | NA | ⋯ | NA | NA | NA | NA | NA | NA | NA | NA | NA | NA |\n",
       "|    NA |  3.500 |  NA |        NA |    NA |        NA | NA | NA | NA | NA | ⋯ | NA | NA | NA | NA | NA | NA | NA | NA | NA | NA |\n",
       "|    NA |  5.661 |  NA |        NA |    NA |        NA | NA | NA | NA | NA | ⋯ | NA | NA | NA | NA | NA | NA | NA | NA | NA | NA |\n",
       "|    NA |     NA | 288 |        NA |    NA |        NA | NA | NA | NA | NA | ⋯ | NA | NA | NA | NA | NA | NA | NA | NA | NA | NA |\n",
       "|    NA |     NA |  NA |  21.00000 |    NA |        NA | NA | NA | NA | NA | ⋯ | NA | NA | NA | NA | NA | NA | NA | NA | NA | NA |\n",
       "|    NA |     NA |  NA | 235.42857 |    NA |        NA | NA | NA | NA | NA | ⋯ | NA | NA | NA | NA | NA | NA | NA | NA | NA | NA |\n",
       "|    NA |     NA |  NA |   0.45000 |    NA |        NA | NA | NA | NA | NA | ⋯ | NA | NA | NA | NA | NA | NA | NA | NA | NA | NA |\n",
       "|    NA |     NA |  NA |  13.10000 |    NA |        NA | NA | NA | NA | NA | ⋯ | NA | NA | NA | NA | NA | NA | NA | NA | NA | NA |\n",
       "|    NA |     NA |  NA | 257.95000 |    NA |        NA | NA | NA | NA | NA | ⋯ | NA | NA | NA | NA | NA | NA | NA | NA | NA | NA |\n",
       "|    NA |     NA |  NA |   0.00193 |    NA |        NA | NA | NA | NA | NA | ⋯ | NA | NA | NA | NA | NA | NA | NA | NA | NA | NA |\n",
       "|    NA |     NA |  NA |  14.98500 |    NA |        NA | NA | NA | NA | NA | ⋯ | NA | NA | NA | NA | NA | NA | NA | NA | NA | NA |\n",
       "|    NA |     NA |  NA | 234.48571 |    NA |        NA | NA | NA | NA | NA | ⋯ | NA | NA | NA | NA | NA | NA | NA | NA | NA | NA |\n",
       "|    NA |     NA |  NA |        NA | 0.045 |        NA | NA | NA | NA | NA | ⋯ | NA | NA | NA | NA | NA | NA | NA | NA | NA | NA |\n",
       "|    NA |     NA |  NA |        NA | 0.080 |        NA | NA | NA | NA | NA | ⋯ | NA | NA | NA | NA | NA | NA | NA | NA | NA | NA |\n",
       "|    NA |     NA |  NA |        NA |    NA |  187.0000 | NA | NA | NA | NA | ⋯ | NA | NA | NA | NA | NA | NA | NA | NA | NA | NA |\n",
       "|    NA |     NA |  NA |        NA |    NA |  375.0000 | NA | NA | NA | NA | ⋯ | NA | NA | NA | NA | NA | NA | NA | NA | NA | NA |\n",
       "|    NA |     NA |  NA |        NA |    NA |   50.0000 | NA | NA | NA | NA | ⋯ | NA | NA | NA | NA | NA | NA | NA | NA | NA | NA |\n",
       "|    NA |     NA |  NA |        NA |    NA |    4.1000 | NA | NA | NA | NA | ⋯ | NA | NA | NA | NA | NA | NA | NA | NA | NA | NA |\n",
       "|    NA |     NA |  NA |        NA |    NA |   28.8000 | NA | NA | NA | NA | ⋯ | NA | NA | NA | NA | NA | NA | NA | NA | NA | NA |\n",
       "|    NA |     NA |  NA |        NA |    NA |   28.7275 | NA | NA | NA | NA | ⋯ | NA | NA | NA | NA | NA | NA | NA | NA | NA | NA |\n",
       "|    NA |     NA |  NA |        NA |    NA |  278.5000 | NA | NA | NA | NA | ⋯ | NA | NA | NA | NA | NA | NA | NA | NA | NA | NA |\n",
       "|    NA |     NA |  NA |        NA |    NA |  151.3333 | NA | NA | NA | NA | ⋯ | NA | NA | NA | NA | NA | NA | NA | NA | NA | NA |\n",
       "|    NA |     NA |  NA |        NA |    NA | 4100.0000 | NA | NA | NA | NA | ⋯ | NA | NA | NA | NA | NA | NA | NA | NA | NA | NA |\n",
       "|    NA |     NA |  NA |        NA |    NA |    4.1000 | NA | NA | NA | NA | ⋯ | NA | NA | NA | NA | NA | NA | NA | NA | NA | NA |\n",
       "|    NA |     NA |  NA |        NA |    NA |    0.3500 | NA | NA | NA | NA | ⋯ | NA | NA | NA | NA | NA | NA | NA | NA | NA | NA |\n",
       "|    NA |     NA |  NA |        NA |    NA |  266.0000 | NA | NA | NA | NA | ⋯ | NA | NA | NA | NA | NA | NA | NA | NA | NA | NA |\n",
       "| ⋮ | ⋮ | ⋮ | ⋮ | ⋮ | ⋮ | ⋮ | ⋮ | ⋮ | ⋮ | ⋱ | ⋮ | ⋮ | ⋮ | ⋮ | ⋮ | ⋮ | ⋮ | ⋮ | ⋮ | ⋮ |\n",
       "| NA | NA | NA | NA | NA | NA | NA | NA | NA | NA | ⋯ | NA | 185.0059 |         NA |        NA |        NA |       NA |       NA |       NA |        NA | NA |\n",
       "| NA | NA | NA | NA | NA | NA | NA | NA | NA | NA | ⋯ | NA |       NA |   250.0000 |        NA |        NA |       NA |       NA |       NA |        NA | NA |\n",
       "| NA | NA | NA | NA | NA | NA | NA | NA | NA | NA | ⋯ | NA |       NA |   227.0667 |        NA |        NA |       NA |       NA |       NA |        NA | NA |\n",
       "| NA | NA | NA | NA | NA | NA | NA | NA | NA | NA | ⋯ | NA |       NA |    24.7500 |        NA |        NA |       NA |       NA |       NA |        NA | NA |\n",
       "| NA | NA | NA | NA | NA | NA | NA | NA | NA | NA | ⋯ | NA |       NA | 14700.0000 |        NA |        NA |       NA |       NA |       NA |        NA | NA |\n",
       "| NA | NA | NA | NA | NA | NA | NA | NA | NA | NA | ⋯ | NA |       NA |     7.1100 |        NA |        NA |       NA |       NA |       NA |        NA | NA |\n",
       "| NA | NA | NA | NA | NA | NA | NA | NA | NA | NA | ⋯ | NA |       NA |   424.0000 |        NA |        NA |       NA |       NA |       NA |        NA | NA |\n",
       "| NA | NA | NA | NA | NA | NA | NA | NA | NA | NA | ⋯ | NA |       NA |     0.0320 |        NA |        NA |       NA |       NA |       NA |        NA | NA |\n",
       "| NA | NA | NA | NA | NA | NA | NA | NA | NA | NA | ⋯ | NA |       NA | 15443.3333 |        NA |        NA |       NA |       NA |       NA |        NA | NA |\n",
       "| NA | NA | NA | NA | NA | NA | NA | NA | NA | NA | ⋯ | NA |       NA |  2000.0000 |        NA |        NA |       NA |       NA |       NA |        NA | NA |\n",
       "| NA | NA | NA | NA | NA | NA | NA | NA | NA | NA | ⋯ | NA |       NA |         NA |  117.5000 |        NA |       NA |       NA |       NA |        NA | NA |\n",
       "| NA | NA | NA | NA | NA | NA | NA | NA | NA | NA | ⋯ | NA |       NA |         NA | 1385.3333 |        NA |       NA |       NA |       NA |        NA | NA |\n",
       "| NA | NA | NA | NA | NA | NA | NA | NA | NA | NA | ⋯ | NA |       NA |         NA |  100.5000 |        NA |       NA |       NA |       NA |        NA | NA |\n",
       "| NA | NA | NA | NA | NA | NA | NA | NA | NA | NA | ⋯ | NA |       NA |         NA |  699.5000 |        NA |       NA |       NA |       NA |        NA | NA |\n",
       "| NA | NA | NA | NA | NA | NA | NA | NA | NA | NA | ⋯ | NA |       NA |         NA |  968.6400 |        NA |       NA |       NA |       NA |        NA | NA |\n",
       "| NA | NA | NA | NA | NA | NA | NA | NA | NA | NA | ⋯ | NA |       NA |         NA |  954.7967 |        NA |       NA |       NA |       NA |        NA | NA |\n",
       "| NA | NA | NA | NA | NA | NA | NA | NA | NA | NA | ⋯ | NA |       NA |         NA |        NA |  52.75000 |       NA |       NA |       NA |        NA | NA |\n",
       "| NA | NA | NA | NA | NA | NA | NA | NA | NA | NA | ⋯ | NA |       NA |         NA |        NA |  23.92667 |       NA |       NA |       NA |        NA | NA |\n",
       "| NA | NA | NA | NA | NA | NA | NA | NA | NA | NA | ⋯ | NA |       NA |         NA |        NA | 143.41647 |       NA |       NA |       NA |        NA | NA |\n",
       "| NA | NA | NA | NA | NA | NA | NA | NA | NA | NA | ⋯ | NA |       NA |         NA |        NA |        NA | 0.028275 |       NA |       NA |        NA | NA |\n",
       "| NA | NA | NA | NA | NA | NA | NA | NA | NA | NA | ⋯ | NA |       NA |         NA |        NA |        NA |       NA | 11.83333 |       NA |        NA | NA |\n",
       "| NA | NA | NA | NA | NA | NA | NA | NA | NA | NA | ⋯ | NA |       NA |         NA |        NA |        NA |       NA | 16.60000 |       NA |        NA | NA |\n",
       "| NA | NA | NA | NA | NA | NA | NA | NA | NA | NA | ⋯ | NA |       NA |         NA |        NA |        NA |       NA |  6.00000 |       NA |        NA | NA |\n",
       "| NA | NA | NA | NA | NA | NA | NA | NA | NA | NA | ⋯ | NA |       NA |         NA |        NA |        NA |       NA | 64.39667 |       NA |        NA | NA |\n",
       "| NA | NA | NA | NA | NA | NA | NA | NA | NA | NA | ⋯ | NA |       NA |         NA |        NA |        NA |       NA |       NA | 0.405000 |        NA | NA |\n",
       "| NA | NA | NA | NA | NA | NA | NA | NA | NA | NA | ⋯ | NA |       NA |         NA |        NA |        NA |       NA |       NA | 2.176667 |        NA | NA |\n",
       "| NA | NA | NA | NA | NA | NA | NA | NA | NA | NA | ⋯ | NA |       NA |         NA |        NA |        NA |       NA |       NA | 4.231765 |        NA | NA |\n",
       "| NA | NA | NA | NA | NA | NA | NA | NA | NA | NA | ⋯ | NA |       NA |         NA |        NA |        NA |       NA |       NA |       NA |   5.45500 | NA |\n",
       "| NA | NA | NA | NA | NA | NA | NA | NA | NA | NA | ⋯ | NA |       NA |         NA |        NA |        NA |       NA |       NA |       NA | 500.00000 | NA |\n",
       "| NA | NA | NA | NA | NA | NA | NA | NA | NA | NA | ⋯ | NA |       NA |         NA |        NA |        NA |       NA |       NA |       NA |  16.55846 | NA |\n",
       "\n"
      ],
      "text/plain": [
       "    DTXSID8074819 DTXSID4020878 B   DTXSID4075459 DTXSID4020161 Cu       \n",
       "1      NA             NA         NA        NA        NA                NA\n",
       "2      NA             NA         NA        NA        NA                NA\n",
       "3    9.75             NA         NA        NA        NA                NA\n",
       "4   15.45             NA         NA        NA        NA                NA\n",
       "5      NA         23.500         NA        NA        NA                NA\n",
       "6      NA          3.500         NA        NA        NA                NA\n",
       "7      NA          5.661         NA        NA        NA                NA\n",
       "8      NA             NA        288        NA        NA                NA\n",
       "9      NA             NA         NA  21.00000        NA                NA\n",
       "10     NA             NA         NA 235.42857        NA                NA\n",
       "11     NA             NA         NA   0.45000        NA                NA\n",
       "12     NA             NA         NA  13.10000        NA                NA\n",
       "13     NA             NA         NA 257.95000        NA                NA\n",
       "14     NA             NA         NA   0.00193        NA                NA\n",
       "15     NA             NA         NA  14.98500        NA                NA\n",
       "16     NA             NA         NA 234.48571        NA                NA\n",
       "17     NA             NA         NA        NA     0.045                NA\n",
       "18     NA             NA         NA        NA     0.080                NA\n",
       "19     NA             NA         NA        NA        NA          187.0000\n",
       "20     NA             NA         NA        NA        NA          375.0000\n",
       "21     NA             NA         NA        NA        NA           50.0000\n",
       "22     NA             NA         NA        NA        NA            4.1000\n",
       "23     NA             NA         NA        NA        NA           28.8000\n",
       "24     NA             NA         NA        NA        NA           28.7275\n",
       "25     NA             NA         NA        NA        NA          278.5000\n",
       "26     NA             NA         NA        NA        NA          151.3333\n",
       "27     NA             NA         NA        NA        NA         4100.0000\n",
       "28     NA             NA         NA        NA        NA            4.1000\n",
       "29     NA             NA         NA        NA        NA            0.3500\n",
       "30     NA             NA         NA        NA        NA          266.0000\n",
       "⋮   ⋮             ⋮             ⋮   ⋮             ⋮             ⋮        \n",
       "669 NA            NA            NA  NA            NA            NA       \n",
       "670 NA            NA            NA  NA            NA            NA       \n",
       "671 NA            NA            NA  NA            NA            NA       \n",
       "672 NA            NA            NA  NA            NA            NA       \n",
       "673 NA            NA            NA  NA            NA            NA       \n",
       "674 NA            NA            NA  NA            NA            NA       \n",
       "675 NA            NA            NA  NA            NA            NA       \n",
       "676 NA            NA            NA  NA            NA            NA       \n",
       "677 NA            NA            NA  NA            NA            NA       \n",
       "678 NA            NA            NA  NA            NA            NA       \n",
       "679 NA            NA            NA  NA            NA            NA       \n",
       "680 NA            NA            NA  NA            NA            NA       \n",
       "681 NA            NA            NA  NA            NA            NA       \n",
       "682 NA            NA            NA  NA            NA            NA       \n",
       "683 NA            NA            NA  NA            NA            NA       \n",
       "684 NA            NA            NA  NA            NA            NA       \n",
       "685 NA            NA            NA  NA            NA            NA       \n",
       "686 NA            NA            NA  NA            NA            NA       \n",
       "687 NA            NA            NA  NA            NA            NA       \n",
       "688 NA            NA            NA  NA            NA            NA       \n",
       "689 NA            NA            NA  NA            NA            NA       \n",
       "690 NA            NA            NA  NA            NA            NA       \n",
       "691 NA            NA            NA  NA            NA            NA       \n",
       "692 NA            NA            NA  NA            NA            NA       \n",
       "693 NA            NA            NA  NA            NA            NA       \n",
       "694 NA            NA            NA  NA            NA            NA       \n",
       "695 NA            NA            NA  NA            NA            NA       \n",
       "696 NA            NA            NA  NA            NA            NA       \n",
       "697 NA            NA            NA  NA            NA            NA       \n",
       "698 NA            NA            NA  NA            NA            NA       \n",
       "    DTXSID0047741 K  Mg Zn ⋯ Si Sr       Ti         Ba        Rb       \n",
       "1   NA            NA NA NA ⋯ NA NA       NA         NA        NA       \n",
       "2   NA            NA NA NA ⋯ NA NA       NA         NA        NA       \n",
       "3   NA            NA NA NA ⋯ NA NA       NA         NA        NA       \n",
       "4   NA            NA NA NA ⋯ NA NA       NA         NA        NA       \n",
       "5   NA            NA NA NA ⋯ NA NA       NA         NA        NA       \n",
       "6   NA            NA NA NA ⋯ NA NA       NA         NA        NA       \n",
       "7   NA            NA NA NA ⋯ NA NA       NA         NA        NA       \n",
       "8   NA            NA NA NA ⋯ NA NA       NA         NA        NA       \n",
       "9   NA            NA NA NA ⋯ NA NA       NA         NA        NA       \n",
       "10  NA            NA NA NA ⋯ NA NA       NA         NA        NA       \n",
       "11  NA            NA NA NA ⋯ NA NA       NA         NA        NA       \n",
       "12  NA            NA NA NA ⋯ NA NA       NA         NA        NA       \n",
       "13  NA            NA NA NA ⋯ NA NA       NA         NA        NA       \n",
       "14  NA            NA NA NA ⋯ NA NA       NA         NA        NA       \n",
       "15  NA            NA NA NA ⋯ NA NA       NA         NA        NA       \n",
       "16  NA            NA NA NA ⋯ NA NA       NA         NA        NA       \n",
       "17  NA            NA NA NA ⋯ NA NA       NA         NA        NA       \n",
       "18  NA            NA NA NA ⋯ NA NA       NA         NA        NA       \n",
       "19  NA            NA NA NA ⋯ NA NA       NA         NA        NA       \n",
       "20  NA            NA NA NA ⋯ NA NA       NA         NA        NA       \n",
       "21  NA            NA NA NA ⋯ NA NA       NA         NA        NA       \n",
       "22  NA            NA NA NA ⋯ NA NA       NA         NA        NA       \n",
       "23  NA            NA NA NA ⋯ NA NA       NA         NA        NA       \n",
       "24  NA            NA NA NA ⋯ NA NA       NA         NA        NA       \n",
       "25  NA            NA NA NA ⋯ NA NA       NA         NA        NA       \n",
       "26  NA            NA NA NA ⋯ NA NA       NA         NA        NA       \n",
       "27  NA            NA NA NA ⋯ NA NA       NA         NA        NA       \n",
       "28  NA            NA NA NA ⋯ NA NA       NA         NA        NA       \n",
       "29  NA            NA NA NA ⋯ NA NA       NA         NA        NA       \n",
       "30  NA            NA NA NA ⋯ NA NA       NA         NA        NA       \n",
       "⋮   ⋮             ⋮  ⋮  ⋮  ⋱ ⋮  ⋮        ⋮          ⋮         ⋮        \n",
       "669 NA            NA NA NA ⋯ NA 185.0059         NA        NA        NA\n",
       "670 NA            NA NA NA ⋯ NA       NA   250.0000        NA        NA\n",
       "671 NA            NA NA NA ⋯ NA       NA   227.0667        NA        NA\n",
       "672 NA            NA NA NA ⋯ NA       NA    24.7500        NA        NA\n",
       "673 NA            NA NA NA ⋯ NA       NA 14700.0000        NA        NA\n",
       "674 NA            NA NA NA ⋯ NA       NA     7.1100        NA        NA\n",
       "675 NA            NA NA NA ⋯ NA       NA   424.0000        NA        NA\n",
       "676 NA            NA NA NA ⋯ NA       NA     0.0320        NA        NA\n",
       "677 NA            NA NA NA ⋯ NA       NA 15443.3333        NA        NA\n",
       "678 NA            NA NA NA ⋯ NA       NA  2000.0000        NA        NA\n",
       "679 NA            NA NA NA ⋯ NA       NA         NA  117.5000        NA\n",
       "680 NA            NA NA NA ⋯ NA       NA         NA 1385.3333        NA\n",
       "681 NA            NA NA NA ⋯ NA       NA         NA  100.5000        NA\n",
       "682 NA            NA NA NA ⋯ NA       NA         NA  699.5000        NA\n",
       "683 NA            NA NA NA ⋯ NA       NA         NA  968.6400        NA\n",
       "684 NA            NA NA NA ⋯ NA       NA         NA  954.7967        NA\n",
       "685 NA            NA NA NA ⋯ NA       NA         NA        NA  52.75000\n",
       "686 NA            NA NA NA ⋯ NA       NA         NA        NA  23.92667\n",
       "687 NA            NA NA NA ⋯ NA       NA         NA        NA 143.41647\n",
       "688 NA            NA NA NA ⋯ NA       NA         NA        NA        NA\n",
       "689 NA            NA NA NA ⋯ NA       NA         NA        NA        NA\n",
       "690 NA            NA NA NA ⋯ NA       NA         NA        NA        NA\n",
       "691 NA            NA NA NA ⋯ NA       NA         NA        NA        NA\n",
       "692 NA            NA NA NA ⋯ NA       NA         NA        NA        NA\n",
       "693 NA            NA NA NA ⋯ NA       NA         NA        NA        NA\n",
       "694 NA            NA NA NA ⋯ NA       NA         NA        NA        NA\n",
       "695 NA            NA NA NA ⋯ NA       NA         NA        NA        NA\n",
       "696 NA            NA NA NA ⋯ NA       NA         NA        NA        NA\n",
       "697 NA            NA NA NA ⋯ NA       NA         NA        NA        NA\n",
       "698 NA            NA NA NA ⋯ NA       NA         NA        NA        NA\n",
       "    DTXSID9059757 Li       Bi       Th        DTXSID1025649\n",
       "1   NA            NA       NA       NA        NA           \n",
       "2   NA            NA       NA       NA        NA           \n",
       "3   NA            NA       NA       NA        NA           \n",
       "4   NA            NA       NA       NA        NA           \n",
       "5   NA            NA       NA       NA        NA           \n",
       "6   NA            NA       NA       NA        NA           \n",
       "7   NA            NA       NA       NA        NA           \n",
       "8   NA            NA       NA       NA        NA           \n",
       "9   NA            NA       NA       NA        NA           \n",
       "10  NA            NA       NA       NA        NA           \n",
       "11  NA            NA       NA       NA        NA           \n",
       "12  NA            NA       NA       NA        NA           \n",
       "13  NA            NA       NA       NA        NA           \n",
       "14  NA            NA       NA       NA        NA           \n",
       "15  NA            NA       NA       NA        NA           \n",
       "16  NA            NA       NA       NA        NA           \n",
       "17  NA            NA       NA       NA        NA           \n",
       "18  NA            NA       NA       NA        NA           \n",
       "19  NA            NA       NA       NA        NA           \n",
       "20  NA            NA       NA       NA        NA           \n",
       "21  NA            NA       NA       NA        NA           \n",
       "22  NA            NA       NA       NA        NA           \n",
       "23  NA            NA       NA       NA        NA           \n",
       "24  NA            NA       NA       NA        NA           \n",
       "25  NA            NA       NA       NA        NA           \n",
       "26  NA            NA       NA       NA        NA           \n",
       "27  NA            NA       NA       NA        NA           \n",
       "28  NA            NA       NA       NA        NA           \n",
       "29  NA            NA       NA       NA        NA           \n",
       "30  NA            NA       NA       NA        NA           \n",
       "⋮   ⋮             ⋮        ⋮        ⋮         ⋮            \n",
       "669       NA            NA       NA        NA NA           \n",
       "670       NA            NA       NA        NA NA           \n",
       "671       NA            NA       NA        NA NA           \n",
       "672       NA            NA       NA        NA NA           \n",
       "673       NA            NA       NA        NA NA           \n",
       "674       NA            NA       NA        NA NA           \n",
       "675       NA            NA       NA        NA NA           \n",
       "676       NA            NA       NA        NA NA           \n",
       "677       NA            NA       NA        NA NA           \n",
       "678       NA            NA       NA        NA NA           \n",
       "679       NA            NA       NA        NA NA           \n",
       "680       NA            NA       NA        NA NA           \n",
       "681       NA            NA       NA        NA NA           \n",
       "682       NA            NA       NA        NA NA           \n",
       "683       NA            NA       NA        NA NA           \n",
       "684       NA            NA       NA        NA NA           \n",
       "685       NA            NA       NA        NA NA           \n",
       "686       NA            NA       NA        NA NA           \n",
       "687       NA            NA       NA        NA NA           \n",
       "688 0.028275            NA       NA        NA NA           \n",
       "689       NA      11.83333       NA        NA NA           \n",
       "690       NA      16.60000       NA        NA NA           \n",
       "691       NA       6.00000       NA        NA NA           \n",
       "692       NA      64.39667       NA        NA NA           \n",
       "693       NA            NA 0.405000        NA NA           \n",
       "694       NA            NA 2.176667        NA NA           \n",
       "695       NA            NA 4.231765        NA NA           \n",
       "696       NA            NA       NA   5.45500 NA           \n",
       "697       NA            NA       NA 500.00000 NA           \n",
       "698       NA            NA       NA  16.55846 NA           "
      ]
     },
     "metadata": {},
     "output_type": "display_data"
    }
   ],
   "source": [
    "l"
   ]
  },
  {
   "cell_type": "code",
   "execution_count": null,
   "id": "b003cc96-3d86-4728-be5f-7420fdf4e0e6",
   "metadata": {},
   "outputs": [],
   "source": []
  }
 ],
 "metadata": {
  "kernelspec": {
   "display_name": "R",
   "language": "R",
   "name": "ir"
  },
  "language_info": {
   "codemirror_mode": "r",
   "file_extension": ".r",
   "mimetype": "text/x-r-source",
   "name": "R",
   "pygments_lexer": "r",
   "version": "4.3.1"
  }
 },
 "nbformat": 4,
 "nbformat_minor": 5
}
