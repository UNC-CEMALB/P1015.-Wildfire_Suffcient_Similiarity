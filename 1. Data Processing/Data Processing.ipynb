{
 "cells": [
  {
   "cell_type": "code",
   "execution_count": 26,
   "id": "dbfb736a-bc97-4a2f-96f6-553aa3c90c5b",
   "metadata": {},
   "outputs": [],
   "source": [
    "Output = '/Users/alexis/Library/CloudStorage/OneDrive-UniversityofNorthCarolinaatChapelHill/CEMALB_DataAnalysisPM/Projects/P1015. Fire Sufficient Similarity/3. Analyses/2. Data Processing/Output'\n",
    "cur_date = '021725'\n",
    "\n",
    "library(missForest)\n",
    "library(readxl)\n",
    "library(tidyverse)\n",
    "library(imputeLCMD)\n",
    "library(factoextra)\n",
    "# library(vegan)\n",
    "# library(preprocessCore)\n",
    "\n",
    "# reading in files\n",
    "ws_df = data.frame(Data = 'WS', read_excel(\"Input/Woodsmoke_Data_012825.xlsx\", sheet = 2)) %>%\n",
    "    select(-Sample_Number)\n",
    "wf_df = data.frame(Data = 'WF', read_excel(\"Input/Wildfire_Data_012825.xlsx\", sheet = 2)) %>%\n",
    "    select(-Sample_Number)"
   ]
  },
  {
   "cell_type": "markdown",
   "id": "a6904813-4b86-4407-a5ec-4efed3e83041",
   "metadata": {},
   "source": [
    "NOTES TO SELF:\n",
    "- change 'replicate' to 'instance' and 'chemical class' to 'class'"
   ]
  },
  {
   "cell_type": "code",
   "execution_count": 2,
   "id": "73a7d5c4-8e2a-4ab5-b13b-046bc35d412e",
   "metadata": {},
   "outputs": [
    {
     "data": {
      "text/html": [
       "<table class=\"dataframe\">\n",
       "<caption>A data.frame: 6 × 9</caption>\n",
       "<thead>\n",
       "\t<tr><th></th><th scope=col>Data</th><th scope=col>HAWC_ID</th><th scope=col>Study</th><th scope=col>Replicate</th><th scope=col>Chemical_Class</th><th scope=col>Metric</th><th scope=col>DTXSID</th><th scope=col>Name</th><th scope=col>Value</th></tr>\n",
       "\t<tr><th></th><th scope=col>&lt;chr&gt;</th><th scope=col>&lt;dbl&gt;</th><th scope=col>&lt;chr&gt;</th><th scope=col>&lt;dbl&gt;</th><th scope=col>&lt;chr&gt;</th><th scope=col>&lt;chr&gt;</th><th scope=col>&lt;chr&gt;</th><th scope=col>&lt;chr&gt;</th><th scope=col>&lt;chr&gt;</th></tr>\n",
       "</thead>\n",
       "<tbody>\n",
       "\t<tr><th scope=row>1</th><td>WS</td><td> 267140</td><td>Alfheim and Ramdahl 1984</td><td>1</td><td>PAH</td><td>Volume</td><td>DTXSID3074787</td><td>1-Methylanthracene</td><td>NA</td></tr>\n",
       "\t<tr><th scope=row>2</th><td>WS</td><td>1263480</td><td>Burnet et al. 1990      </td><td>1</td><td>PAH</td><td>Volume</td><td>DTXSID3074787</td><td>1-Methylanthracene</td><td>NA</td></tr>\n",
       "\t<tr><th scope=row>3</th><td>WS</td><td> 267091</td><td>Forchhammer et al. 2012 </td><td>1</td><td>PAH</td><td>Volume</td><td>DTXSID3074787</td><td>1-Methylanthracene</td><td>NA</td></tr>\n",
       "\t<tr><th scope=row>4</th><td>WS</td><td> 885041</td><td>Ihantola et al. 2020    </td><td>1</td><td>PAH</td><td>Volume</td><td>DTXSID3074787</td><td>1-Methylanthracene</td><td>NA</td></tr>\n",
       "\t<tr><th scope=row>5</th><td>WS</td><td> 993956</td><td>Ihantola et al. 2022    </td><td>1</td><td>PAH</td><td>Volume</td><td>DTXSID3074787</td><td>1-Methylanthracene</td><td>NA</td></tr>\n",
       "\t<tr><th scope=row>6</th><td>WS</td><td>1263484</td><td>Leese et al. 1989       </td><td>1</td><td>PAH</td><td>Volume</td><td>DTXSID3074787</td><td>1-Methylanthracene</td><td>NA</td></tr>\n",
       "</tbody>\n",
       "</table>\n"
      ],
      "text/latex": [
       "A data.frame: 6 × 9\n",
       "\\begin{tabular}{r|lllllllll}\n",
       "  & Data & HAWC\\_ID & Study & Replicate & Chemical\\_Class & Metric & DTXSID & Name & Value\\\\\n",
       "  & <chr> & <dbl> & <chr> & <dbl> & <chr> & <chr> & <chr> & <chr> & <chr>\\\\\n",
       "\\hline\n",
       "\t1 & WS &  267140 & Alfheim and Ramdahl 1984 & 1 & PAH & Volume & DTXSID3074787 & 1-Methylanthracene & NA\\\\\n",
       "\t2 & WS & 1263480 & Burnet et al. 1990       & 1 & PAH & Volume & DTXSID3074787 & 1-Methylanthracene & NA\\\\\n",
       "\t3 & WS &  267091 & Forchhammer et al. 2012  & 1 & PAH & Volume & DTXSID3074787 & 1-Methylanthracene & NA\\\\\n",
       "\t4 & WS &  885041 & Ihantola et al. 2020     & 1 & PAH & Volume & DTXSID3074787 & 1-Methylanthracene & NA\\\\\n",
       "\t5 & WS &  993956 & Ihantola et al. 2022     & 1 & PAH & Volume & DTXSID3074787 & 1-Methylanthracene & NA\\\\\n",
       "\t6 & WS & 1263484 & Leese et al. 1989        & 1 & PAH & Volume & DTXSID3074787 & 1-Methylanthracene & NA\\\\\n",
       "\\end{tabular}\n"
      ],
      "text/markdown": [
       "\n",
       "A data.frame: 6 × 9\n",
       "\n",
       "| <!--/--> | Data &lt;chr&gt; | HAWC_ID &lt;dbl&gt; | Study &lt;chr&gt; | Replicate &lt;dbl&gt; | Chemical_Class &lt;chr&gt; | Metric &lt;chr&gt; | DTXSID &lt;chr&gt; | Name &lt;chr&gt; | Value &lt;chr&gt; |\n",
       "|---|---|---|---|---|---|---|---|---|---|\n",
       "| 1 | WS |  267140 | Alfheim and Ramdahl 1984 | 1 | PAH | Volume | DTXSID3074787 | 1-Methylanthracene | NA |\n",
       "| 2 | WS | 1263480 | Burnet et al. 1990       | 1 | PAH | Volume | DTXSID3074787 | 1-Methylanthracene | NA |\n",
       "| 3 | WS |  267091 | Forchhammer et al. 2012  | 1 | PAH | Volume | DTXSID3074787 | 1-Methylanthracene | NA |\n",
       "| 4 | WS |  885041 | Ihantola et al. 2020     | 1 | PAH | Volume | DTXSID3074787 | 1-Methylanthracene | NA |\n",
       "| 5 | WS |  993956 | Ihantola et al. 2022     | 1 | PAH | Volume | DTXSID3074787 | 1-Methylanthracene | NA |\n",
       "| 6 | WS | 1263484 | Leese et al. 1989        | 1 | PAH | Volume | DTXSID3074787 | 1-Methylanthracene | NA |\n",
       "\n"
      ],
      "text/plain": [
       "  Data HAWC_ID Study                    Replicate Chemical_Class Metric\n",
       "1 WS    267140 Alfheim and Ramdahl 1984 1         PAH            Volume\n",
       "2 WS   1263480 Burnet et al. 1990       1         PAH            Volume\n",
       "3 WS    267091 Forchhammer et al. 2012  1         PAH            Volume\n",
       "4 WS    885041 Ihantola et al. 2020     1         PAH            Volume\n",
       "5 WS    993956 Ihantola et al. 2022     1         PAH            Volume\n",
       "6 WS   1263484 Leese et al. 1989        1         PAH            Volume\n",
       "  DTXSID        Name               Value\n",
       "1 DTXSID3074787 1-Methylanthracene NA   \n",
       "2 DTXSID3074787 1-Methylanthracene NA   \n",
       "3 DTXSID3074787 1-Methylanthracene NA   \n",
       "4 DTXSID3074787 1-Methylanthracene NA   \n",
       "5 DTXSID3074787 1-Methylanthracene NA   \n",
       "6 DTXSID3074787 1-Methylanthracene NA   "
      ]
     },
     "metadata": {},
     "output_type": "display_data"
    },
    {
     "data": {
      "text/html": [
       "<table class=\"dataframe\">\n",
       "<caption>A data.frame: 6 × 9</caption>\n",
       "<thead>\n",
       "\t<tr><th></th><th scope=col>Data</th><th scope=col>HAWC_ID</th><th scope=col>Study</th><th scope=col>Replicate</th><th scope=col>Chemical_Class</th><th scope=col>Metric</th><th scope=col>DTXSID</th><th scope=col>Name</th><th scope=col>Value</th></tr>\n",
       "\t<tr><th></th><th scope=col>&lt;chr&gt;</th><th scope=col>&lt;dbl&gt;</th><th scope=col>&lt;chr&gt;</th><th scope=col>&lt;dbl&gt;</th><th scope=col>&lt;chr&gt;</th><th scope=col>&lt;chr&gt;</th><th scope=col>&lt;chr&gt;</th><th scope=col>&lt;chr&gt;</th><th scope=col>&lt;chr&gt;</th></tr>\n",
       "</thead>\n",
       "<tbody>\n",
       "\t<tr><th scope=row>1</th><td>WF</td><td>1289737</td><td>Campbell et al. 2024</td><td>1</td><td>PAH</td><td>Weight</td><td>DTXSID1074759</td><td>1-Methylchrysene</td><td>NA</td></tr>\n",
       "\t<tr><th scope=row>2</th><td>WF</td><td>1289739</td><td>Campos et al. 2019  </td><td>1</td><td>PAH</td><td>Weight</td><td>DTXSID1074759</td><td>1-Methylchrysene</td><td>NA</td></tr>\n",
       "\t<tr><th scope=row>3</th><td>WF</td><td>1289777</td><td>Harper et al. 2019  </td><td>1</td><td>PAH</td><td>Weight</td><td>DTXSID1074759</td><td>1-Methylchrysene</td><td>NA</td></tr>\n",
       "\t<tr><th scope=row>4</th><td>WF</td><td> 981013</td><td>Jalava et al. 2006  </td><td>1</td><td>PAH</td><td>Weight</td><td>DTXSID1074759</td><td>1-Methylchrysene</td><td>NA</td></tr>\n",
       "\t<tr><th scope=row>5</th><td>WF</td><td> 429319</td><td>Kim et al. 2018     </td><td>1</td><td>PAH</td><td>Weight</td><td>DTXSID1074759</td><td>1-Methylchrysene</td><td>NA</td></tr>\n",
       "\t<tr><th scope=row>6</th><td>WF</td><td> 981110</td><td>Verma et al. 2009   </td><td>1</td><td>PAH</td><td>Weight</td><td>DTXSID1074759</td><td>1-Methylchrysene</td><td>NA</td></tr>\n",
       "</tbody>\n",
       "</table>\n"
      ],
      "text/latex": [
       "A data.frame: 6 × 9\n",
       "\\begin{tabular}{r|lllllllll}\n",
       "  & Data & HAWC\\_ID & Study & Replicate & Chemical\\_Class & Metric & DTXSID & Name & Value\\\\\n",
       "  & <chr> & <dbl> & <chr> & <dbl> & <chr> & <chr> & <chr> & <chr> & <chr>\\\\\n",
       "\\hline\n",
       "\t1 & WF & 1289737 & Campbell et al. 2024 & 1 & PAH & Weight & DTXSID1074759 & 1-Methylchrysene & NA\\\\\n",
       "\t2 & WF & 1289739 & Campos et al. 2019   & 1 & PAH & Weight & DTXSID1074759 & 1-Methylchrysene & NA\\\\\n",
       "\t3 & WF & 1289777 & Harper et al. 2019   & 1 & PAH & Weight & DTXSID1074759 & 1-Methylchrysene & NA\\\\\n",
       "\t4 & WF &  981013 & Jalava et al. 2006   & 1 & PAH & Weight & DTXSID1074759 & 1-Methylchrysene & NA\\\\\n",
       "\t5 & WF &  429319 & Kim et al. 2018      & 1 & PAH & Weight & DTXSID1074759 & 1-Methylchrysene & NA\\\\\n",
       "\t6 & WF &  981110 & Verma et al. 2009    & 1 & PAH & Weight & DTXSID1074759 & 1-Methylchrysene & NA\\\\\n",
       "\\end{tabular}\n"
      ],
      "text/markdown": [
       "\n",
       "A data.frame: 6 × 9\n",
       "\n",
       "| <!--/--> | Data &lt;chr&gt; | HAWC_ID &lt;dbl&gt; | Study &lt;chr&gt; | Replicate &lt;dbl&gt; | Chemical_Class &lt;chr&gt; | Metric &lt;chr&gt; | DTXSID &lt;chr&gt; | Name &lt;chr&gt; | Value &lt;chr&gt; |\n",
       "|---|---|---|---|---|---|---|---|---|---|\n",
       "| 1 | WF | 1289737 | Campbell et al. 2024 | 1 | PAH | Weight | DTXSID1074759 | 1-Methylchrysene | NA |\n",
       "| 2 | WF | 1289739 | Campos et al. 2019   | 1 | PAH | Weight | DTXSID1074759 | 1-Methylchrysene | NA |\n",
       "| 3 | WF | 1289777 | Harper et al. 2019   | 1 | PAH | Weight | DTXSID1074759 | 1-Methylchrysene | NA |\n",
       "| 4 | WF |  981013 | Jalava et al. 2006   | 1 | PAH | Weight | DTXSID1074759 | 1-Methylchrysene | NA |\n",
       "| 5 | WF |  429319 | Kim et al. 2018      | 1 | PAH | Weight | DTXSID1074759 | 1-Methylchrysene | NA |\n",
       "| 6 | WF |  981110 | Verma et al. 2009    | 1 | PAH | Weight | DTXSID1074759 | 1-Methylchrysene | NA |\n",
       "\n"
      ],
      "text/plain": [
       "  Data HAWC_ID Study                Replicate Chemical_Class Metric\n",
       "1 WF   1289737 Campbell et al. 2024 1         PAH            Weight\n",
       "2 WF   1289739 Campos et al. 2019   1         PAH            Weight\n",
       "3 WF   1289777 Harper et al. 2019   1         PAH            Weight\n",
       "4 WF    981013 Jalava et al. 2006   1         PAH            Weight\n",
       "5 WF    429319 Kim et al. 2018      1         PAH            Weight\n",
       "6 WF    981110 Verma et al. 2009    1         PAH            Weight\n",
       "  DTXSID        Name             Value\n",
       "1 DTXSID1074759 1-Methylchrysene NA   \n",
       "2 DTXSID1074759 1-Methylchrysene NA   \n",
       "3 DTXSID1074759 1-Methylchrysene NA   \n",
       "4 DTXSID1074759 1-Methylchrysene NA   \n",
       "5 DTXSID1074759 1-Methylchrysene NA   \n",
       "6 DTXSID1074759 1-Methylchrysene NA   "
      ]
     },
     "metadata": {},
     "output_type": "display_data"
    }
   ],
   "source": [
    "head(ws_df)\n",
    "head(wf_df)"
   ]
  },
  {
   "cell_type": "code",
   "execution_count": 38,
   "id": "1bf44996-0e65-44e8-bd79-d7a0ba13c10d",
   "metadata": {
    "scrolled": true
   },
   "outputs": [
    {
     "data": {
      "text/html": [
       "<table class=\"dataframe\">\n",
       "<caption>A data.frame: 78 × 9</caption>\n",
       "<thead>\n",
       "\t<tr><th scope=col>Data</th><th scope=col>HAWC_ID</th><th scope=col>Study</th><th scope=col>Replicate</th><th scope=col>Chemical_Class</th><th scope=col>Metric</th><th scope=col>DTXSID</th><th scope=col>Name</th><th scope=col>Value</th></tr>\n",
       "\t<tr><th scope=col>&lt;chr&gt;</th><th scope=col>&lt;dbl&gt;</th><th scope=col>&lt;chr&gt;</th><th scope=col>&lt;dbl&gt;</th><th scope=col>&lt;chr&gt;</th><th scope=col>&lt;chr&gt;</th><th scope=col>&lt;chr&gt;</th><th scope=col>&lt;chr&gt;</th><th scope=col>&lt;chr&gt;</th></tr>\n",
       "</thead>\n",
       "<tbody>\n",
       "\t<tr><td>WS</td><td>1040882</td><td>Nordin et al. 2015</td><td> 1</td><td>Metal</td><td>Weight</td><td>NA</td><td>Ag</td><td>2   </td></tr>\n",
       "\t<tr><td>WS</td><td>1040882</td><td>Nordin et al. 2015</td><td> 2</td><td>Metal</td><td>Weight</td><td>NA</td><td>Ag</td><td>ND  </td></tr>\n",
       "\t<tr><td>WS</td><td>1040882</td><td>Nordin et al. 2015</td><td> 1</td><td>Metal</td><td>Weight</td><td>NA</td><td>Al</td><td>1078</td></tr>\n",
       "\t<tr><td>WS</td><td>1040882</td><td>Nordin et al. 2015</td><td> 2</td><td>Metal</td><td>Weight</td><td>NA</td><td>Al</td><td>198 </td></tr>\n",
       "\t<tr><td>WS</td><td>1040882</td><td>Nordin et al. 2015</td><td> 1</td><td>Metal</td><td>Weight</td><td>NA</td><td>As</td><td>ND  </td></tr>\n",
       "\t<tr><td>WS</td><td>1040882</td><td>Nordin et al. 2015</td><td>NA</td><td>Metal</td><td>Weight</td><td>NA</td><td>As</td><td>ND  </td></tr>\n",
       "\t<tr><td>WS</td><td>1040882</td><td>Nordin et al. 2015</td><td> 1</td><td>Metal</td><td>Weight</td><td>NA</td><td>B </td><td>308 </td></tr>\n",
       "\t<tr><td>WS</td><td>1040882</td><td>Nordin et al. 2015</td><td> 2</td><td>Metal</td><td>Weight</td><td>NA</td><td>B </td><td>268 </td></tr>\n",
       "\t<tr><td>WS</td><td>1040882</td><td>Nordin et al. 2015</td><td> 1</td><td>Metal</td><td>Weight</td><td>NA</td><td>Ba</td><td>ND  </td></tr>\n",
       "\t<tr><td>WS</td><td>1040882</td><td>Nordin et al. 2015</td><td> 2</td><td>Metal</td><td>Weight</td><td>NA</td><td>Ba</td><td>ND  </td></tr>\n",
       "\t<tr><td>WS</td><td>1040882</td><td>Nordin et al. 2015</td><td> 1</td><td>Metal</td><td>Weight</td><td>NA</td><td>Be</td><td>ND  </td></tr>\n",
       "\t<tr><td>WS</td><td>1040882</td><td>Nordin et al. 2015</td><td> 2</td><td>Metal</td><td>Weight</td><td>NA</td><td>Be</td><td>ND  </td></tr>\n",
       "\t<tr><td>WS</td><td>1040882</td><td>Nordin et al. 2015</td><td> 1</td><td>Metal</td><td>Weight</td><td>NA</td><td>Bi</td><td>4   </td></tr>\n",
       "\t<tr><td>WS</td><td>1040882</td><td>Nordin et al. 2015</td><td> 2</td><td>Metal</td><td>Weight</td><td>NA</td><td>Bi</td><td>ND  </td></tr>\n",
       "\t<tr><td>WS</td><td>1040882</td><td>Nordin et al. 2015</td><td> 1</td><td>Metal</td><td>Weight</td><td>NA</td><td>Ca</td><td>7120</td></tr>\n",
       "\t<tr><td>WS</td><td>1040882</td><td>Nordin et al. 2015</td><td> 2</td><td>Metal</td><td>Weight</td><td>NA</td><td>Ca</td><td>ND  </td></tr>\n",
       "\t<tr><td>WS</td><td>1040882</td><td>Nordin et al. 2015</td><td> 1</td><td>Metal</td><td>Weight</td><td>NA</td><td>Cd</td><td>42  </td></tr>\n",
       "\t<tr><td>WS</td><td>1040882</td><td>Nordin et al. 2015</td><td> 2</td><td>Metal</td><td>Weight</td><td>NA</td><td>Cd</td><td>42  </td></tr>\n",
       "\t<tr><td>WS</td><td>1040882</td><td>Nordin et al. 2015</td><td> 1</td><td>Metal</td><td>Weight</td><td>NA</td><td>Ce</td><td>NA  </td></tr>\n",
       "\t<tr><td>WS</td><td>1040882</td><td>Nordin et al. 2015</td><td>NA</td><td>Metal</td><td>Weight</td><td>NA</td><td>Ce</td><td>NA  </td></tr>\n",
       "\t<tr><td>WS</td><td>1040882</td><td>Nordin et al. 2015</td><td> 1</td><td>Metal</td><td>Weight</td><td>NA</td><td>Co</td><td>ND  </td></tr>\n",
       "\t<tr><td>WS</td><td>1040882</td><td>Nordin et al. 2015</td><td> 2</td><td>Metal</td><td>Weight</td><td>NA</td><td>Co</td><td>ND  </td></tr>\n",
       "\t<tr><td>WS</td><td>1040882</td><td>Nordin et al. 2015</td><td> 1</td><td>Metal</td><td>Weight</td><td>NA</td><td>Cr</td><td>158 </td></tr>\n",
       "\t<tr><td>WS</td><td>1040882</td><td>Nordin et al. 2015</td><td> 2</td><td>Metal</td><td>Weight</td><td>NA</td><td>Cr</td><td>100 </td></tr>\n",
       "\t<tr><td>WS</td><td>1040882</td><td>Nordin et al. 2015</td><td> 1</td><td>Metal</td><td>Weight</td><td>NA</td><td>Cs</td><td>NA  </td></tr>\n",
       "\t<tr><td>WS</td><td>1040882</td><td>Nordin et al. 2015</td><td>NA</td><td>Metal</td><td>Weight</td><td>NA</td><td>Cs</td><td>NA  </td></tr>\n",
       "\t<tr><td>WS</td><td>1040882</td><td>Nordin et al. 2015</td><td> 1</td><td>Metal</td><td>Weight</td><td>NA</td><td>Cu</td><td>336 </td></tr>\n",
       "\t<tr><td>WS</td><td>1040882</td><td>Nordin et al. 2015</td><td> 2</td><td>Metal</td><td>Weight</td><td>NA</td><td>Cu</td><td>196 </td></tr>\n",
       "\t<tr><td>WS</td><td>1040882</td><td>Nordin et al. 2015</td><td> 1</td><td>Metal</td><td>Weight</td><td>NA</td><td>Fe</td><td>1172</td></tr>\n",
       "\t<tr><td>WS</td><td>1040882</td><td>Nordin et al. 2015</td><td> 2</td><td>Metal</td><td>Weight</td><td>NA</td><td>Fe</td><td>ND  </td></tr>\n",
       "\t<tr><td>⋮</td><td>⋮</td><td>⋮</td><td>⋮</td><td>⋮</td><td>⋮</td><td>⋮</td><td>⋮</td><td>⋮</td></tr>\n",
       "\t<tr><td>WS</td><td>1040882</td><td>Nordin et al. 2015</td><td> 1</td><td>Metal</td><td>Weight</td><td>NA</td><td>Nb</td><td>NA  </td></tr>\n",
       "\t<tr><td>WS</td><td>1040882</td><td>Nordin et al. 2015</td><td>NA</td><td>Metal</td><td>Weight</td><td>NA</td><td>Nb</td><td>NA  </td></tr>\n",
       "\t<tr><td>WS</td><td>1040882</td><td>Nordin et al. 2015</td><td> 1</td><td>Metal</td><td>Weight</td><td>NA</td><td>Ni</td><td>ND  </td></tr>\n",
       "\t<tr><td>WS</td><td>1040882</td><td>Nordin et al. 2015</td><td> 2</td><td>Metal</td><td>Weight</td><td>NA</td><td>Ni</td><td>ND  </td></tr>\n",
       "\t<tr><td>WS</td><td>1040882</td><td>Nordin et al. 2015</td><td> 1</td><td>Metal</td><td>Weight</td><td>NA</td><td>Pb</td><td>128 </td></tr>\n",
       "\t<tr><td>WS</td><td>1040882</td><td>Nordin et al. 2015</td><td> 2</td><td>Metal</td><td>Weight</td><td>NA</td><td>Pb</td><td>60  </td></tr>\n",
       "\t<tr><td>WS</td><td>1040882</td><td>Nordin et al. 2015</td><td> 1</td><td>Metal</td><td>Weight</td><td>NA</td><td>Rb</td><td>200 </td></tr>\n",
       "\t<tr><td>WS</td><td>1040882</td><td>Nordin et al. 2015</td><td> 2</td><td>Metal</td><td>Weight</td><td>NA</td><td>Rb</td><td>56  </td></tr>\n",
       "\t<tr><td>WS</td><td>1040882</td><td>Nordin et al. 2015</td><td> 1</td><td>Metal</td><td>Weight</td><td>NA</td><td>Sb</td><td>ND  </td></tr>\n",
       "\t<tr><td>WS</td><td>1040882</td><td>Nordin et al. 2015</td><td> 2</td><td>Metal</td><td>Weight</td><td>NA</td><td>Sb</td><td>ND  </td></tr>\n",
       "\t<tr><td>WS</td><td>1040882</td><td>Nordin et al. 2015</td><td> 1</td><td>Metal</td><td>Weight</td><td>NA</td><td>Sc</td><td>NA  </td></tr>\n",
       "\t<tr><td>WS</td><td>1040882</td><td>Nordin et al. 2015</td><td>NA</td><td>Metal</td><td>Weight</td><td>NA</td><td>Sc</td><td>NA  </td></tr>\n",
       "\t<tr><td>WS</td><td>1040882</td><td>Nordin et al. 2015</td><td> 1</td><td>Metal</td><td>Weight</td><td>NA</td><td>Si</td><td>NA  </td></tr>\n",
       "\t<tr><td>WS</td><td>1040882</td><td>Nordin et al. 2015</td><td>NA</td><td>Metal</td><td>Weight</td><td>NA</td><td>Si</td><td>NA  </td></tr>\n",
       "\t<tr><td>WS</td><td>1040882</td><td>Nordin et al. 2015</td><td> 1</td><td>Metal</td><td>Weight</td><td>NA</td><td>Sr</td><td>ND  </td></tr>\n",
       "\t<tr><td>WS</td><td>1040882</td><td>Nordin et al. 2015</td><td> 2</td><td>Metal</td><td>Weight</td><td>NA</td><td>Sr</td><td>ND  </td></tr>\n",
       "\t<tr><td>WS</td><td>1040882</td><td>Nordin et al. 2015</td><td> 1</td><td>Metal</td><td>Weight</td><td>NA</td><td>Th</td><td>ND  </td></tr>\n",
       "\t<tr><td>WS</td><td>1040882</td><td>Nordin et al. 2015</td><td> 2</td><td>Metal</td><td>Weight</td><td>NA</td><td>Th</td><td>ND  </td></tr>\n",
       "\t<tr><td>WS</td><td>1040882</td><td>Nordin et al. 2015</td><td> 1</td><td>Metal</td><td>Weight</td><td>NA</td><td>Ti</td><td>ND  </td></tr>\n",
       "\t<tr><td>WS</td><td>1040882</td><td>Nordin et al. 2015</td><td> 2</td><td>Metal</td><td>Weight</td><td>NA</td><td>Ti</td><td>ND  </td></tr>\n",
       "\t<tr><td>WS</td><td>1040882</td><td>Nordin et al. 2015</td><td> 1</td><td>Metal</td><td>Weight</td><td>NA</td><td>Tl</td><td>ND  </td></tr>\n",
       "\t<tr><td>WS</td><td>1040882</td><td>Nordin et al. 2015</td><td>NA</td><td>Metal</td><td>Weight</td><td>NA</td><td>Tl</td><td>ND  </td></tr>\n",
       "\t<tr><td>WS</td><td>1040882</td><td>Nordin et al. 2015</td><td> 1</td><td>Metal</td><td>Weight</td><td>NA</td><td>U </td><td>ND  </td></tr>\n",
       "\t<tr><td>WS</td><td>1040882</td><td>Nordin et al. 2015</td><td>NA</td><td>Metal</td><td>Weight</td><td>NA</td><td>U </td><td>ND  </td></tr>\n",
       "\t<tr><td>WS</td><td>1040882</td><td>Nordin et al. 2015</td><td> 1</td><td>Metal</td><td>Weight</td><td>NA</td><td>V </td><td>38  </td></tr>\n",
       "\t<tr><td>WS</td><td>1040882</td><td>Nordin et al. 2015</td><td> 2</td><td>Metal</td><td>Weight</td><td>NA</td><td>V </td><td>32  </td></tr>\n",
       "\t<tr><td>WS</td><td>1040882</td><td>Nordin et al. 2015</td><td> 1</td><td>Metal</td><td>Weight</td><td>NA</td><td>Y </td><td>NA  </td></tr>\n",
       "\t<tr><td>WS</td><td>1040882</td><td>Nordin et al. 2015</td><td>NA</td><td>Metal</td><td>Weight</td><td>NA</td><td>Y </td><td>NA  </td></tr>\n",
       "\t<tr><td>WS</td><td>1040882</td><td>Nordin et al. 2015</td><td> 1</td><td>Metal</td><td>Weight</td><td>NA</td><td>Zn</td><td>7280</td></tr>\n",
       "\t<tr><td>WS</td><td>1040882</td><td>Nordin et al. 2015</td><td> 2</td><td>Metal</td><td>Weight</td><td>NA</td><td>Zn</td><td>2040</td></tr>\n",
       "</tbody>\n",
       "</table>\n"
      ],
      "text/latex": [
       "A data.frame: 78 × 9\n",
       "\\begin{tabular}{lllllllll}\n",
       " Data & HAWC\\_ID & Study & Replicate & Chemical\\_Class & Metric & DTXSID & Name & Value\\\\\n",
       " <chr> & <dbl> & <chr> & <dbl> & <chr> & <chr> & <chr> & <chr> & <chr>\\\\\n",
       "\\hline\n",
       "\t WS & 1040882 & Nordin et al. 2015 &  1 & Metal & Weight & NA & Ag & 2   \\\\\n",
       "\t WS & 1040882 & Nordin et al. 2015 &  2 & Metal & Weight & NA & Ag & ND  \\\\\n",
       "\t WS & 1040882 & Nordin et al. 2015 &  1 & Metal & Weight & NA & Al & 1078\\\\\n",
       "\t WS & 1040882 & Nordin et al. 2015 &  2 & Metal & Weight & NA & Al & 198 \\\\\n",
       "\t WS & 1040882 & Nordin et al. 2015 &  1 & Metal & Weight & NA & As & ND  \\\\\n",
       "\t WS & 1040882 & Nordin et al. 2015 & NA & Metal & Weight & NA & As & ND  \\\\\n",
       "\t WS & 1040882 & Nordin et al. 2015 &  1 & Metal & Weight & NA & B  & 308 \\\\\n",
       "\t WS & 1040882 & Nordin et al. 2015 &  2 & Metal & Weight & NA & B  & 268 \\\\\n",
       "\t WS & 1040882 & Nordin et al. 2015 &  1 & Metal & Weight & NA & Ba & ND  \\\\\n",
       "\t WS & 1040882 & Nordin et al. 2015 &  2 & Metal & Weight & NA & Ba & ND  \\\\\n",
       "\t WS & 1040882 & Nordin et al. 2015 &  1 & Metal & Weight & NA & Be & ND  \\\\\n",
       "\t WS & 1040882 & Nordin et al. 2015 &  2 & Metal & Weight & NA & Be & ND  \\\\\n",
       "\t WS & 1040882 & Nordin et al. 2015 &  1 & Metal & Weight & NA & Bi & 4   \\\\\n",
       "\t WS & 1040882 & Nordin et al. 2015 &  2 & Metal & Weight & NA & Bi & ND  \\\\\n",
       "\t WS & 1040882 & Nordin et al. 2015 &  1 & Metal & Weight & NA & Ca & 7120\\\\\n",
       "\t WS & 1040882 & Nordin et al. 2015 &  2 & Metal & Weight & NA & Ca & ND  \\\\\n",
       "\t WS & 1040882 & Nordin et al. 2015 &  1 & Metal & Weight & NA & Cd & 42  \\\\\n",
       "\t WS & 1040882 & Nordin et al. 2015 &  2 & Metal & Weight & NA & Cd & 42  \\\\\n",
       "\t WS & 1040882 & Nordin et al. 2015 &  1 & Metal & Weight & NA & Ce & NA  \\\\\n",
       "\t WS & 1040882 & Nordin et al. 2015 & NA & Metal & Weight & NA & Ce & NA  \\\\\n",
       "\t WS & 1040882 & Nordin et al. 2015 &  1 & Metal & Weight & NA & Co & ND  \\\\\n",
       "\t WS & 1040882 & Nordin et al. 2015 &  2 & Metal & Weight & NA & Co & ND  \\\\\n",
       "\t WS & 1040882 & Nordin et al. 2015 &  1 & Metal & Weight & NA & Cr & 158 \\\\\n",
       "\t WS & 1040882 & Nordin et al. 2015 &  2 & Metal & Weight & NA & Cr & 100 \\\\\n",
       "\t WS & 1040882 & Nordin et al. 2015 &  1 & Metal & Weight & NA & Cs & NA  \\\\\n",
       "\t WS & 1040882 & Nordin et al. 2015 & NA & Metal & Weight & NA & Cs & NA  \\\\\n",
       "\t WS & 1040882 & Nordin et al. 2015 &  1 & Metal & Weight & NA & Cu & 336 \\\\\n",
       "\t WS & 1040882 & Nordin et al. 2015 &  2 & Metal & Weight & NA & Cu & 196 \\\\\n",
       "\t WS & 1040882 & Nordin et al. 2015 &  1 & Metal & Weight & NA & Fe & 1172\\\\\n",
       "\t WS & 1040882 & Nordin et al. 2015 &  2 & Metal & Weight & NA & Fe & ND  \\\\\n",
       "\t ⋮ & ⋮ & ⋮ & ⋮ & ⋮ & ⋮ & ⋮ & ⋮ & ⋮\\\\\n",
       "\t WS & 1040882 & Nordin et al. 2015 &  1 & Metal & Weight & NA & Nb & NA  \\\\\n",
       "\t WS & 1040882 & Nordin et al. 2015 & NA & Metal & Weight & NA & Nb & NA  \\\\\n",
       "\t WS & 1040882 & Nordin et al. 2015 &  1 & Metal & Weight & NA & Ni & ND  \\\\\n",
       "\t WS & 1040882 & Nordin et al. 2015 &  2 & Metal & Weight & NA & Ni & ND  \\\\\n",
       "\t WS & 1040882 & Nordin et al. 2015 &  1 & Metal & Weight & NA & Pb & 128 \\\\\n",
       "\t WS & 1040882 & Nordin et al. 2015 &  2 & Metal & Weight & NA & Pb & 60  \\\\\n",
       "\t WS & 1040882 & Nordin et al. 2015 &  1 & Metal & Weight & NA & Rb & 200 \\\\\n",
       "\t WS & 1040882 & Nordin et al. 2015 &  2 & Metal & Weight & NA & Rb & 56  \\\\\n",
       "\t WS & 1040882 & Nordin et al. 2015 &  1 & Metal & Weight & NA & Sb & ND  \\\\\n",
       "\t WS & 1040882 & Nordin et al. 2015 &  2 & Metal & Weight & NA & Sb & ND  \\\\\n",
       "\t WS & 1040882 & Nordin et al. 2015 &  1 & Metal & Weight & NA & Sc & NA  \\\\\n",
       "\t WS & 1040882 & Nordin et al. 2015 & NA & Metal & Weight & NA & Sc & NA  \\\\\n",
       "\t WS & 1040882 & Nordin et al. 2015 &  1 & Metal & Weight & NA & Si & NA  \\\\\n",
       "\t WS & 1040882 & Nordin et al. 2015 & NA & Metal & Weight & NA & Si & NA  \\\\\n",
       "\t WS & 1040882 & Nordin et al. 2015 &  1 & Metal & Weight & NA & Sr & ND  \\\\\n",
       "\t WS & 1040882 & Nordin et al. 2015 &  2 & Metal & Weight & NA & Sr & ND  \\\\\n",
       "\t WS & 1040882 & Nordin et al. 2015 &  1 & Metal & Weight & NA & Th & ND  \\\\\n",
       "\t WS & 1040882 & Nordin et al. 2015 &  2 & Metal & Weight & NA & Th & ND  \\\\\n",
       "\t WS & 1040882 & Nordin et al. 2015 &  1 & Metal & Weight & NA & Ti & ND  \\\\\n",
       "\t WS & 1040882 & Nordin et al. 2015 &  2 & Metal & Weight & NA & Ti & ND  \\\\\n",
       "\t WS & 1040882 & Nordin et al. 2015 &  1 & Metal & Weight & NA & Tl & ND  \\\\\n",
       "\t WS & 1040882 & Nordin et al. 2015 & NA & Metal & Weight & NA & Tl & ND  \\\\\n",
       "\t WS & 1040882 & Nordin et al. 2015 &  1 & Metal & Weight & NA & U  & ND  \\\\\n",
       "\t WS & 1040882 & Nordin et al. 2015 & NA & Metal & Weight & NA & U  & ND  \\\\\n",
       "\t WS & 1040882 & Nordin et al. 2015 &  1 & Metal & Weight & NA & V  & 38  \\\\\n",
       "\t WS & 1040882 & Nordin et al. 2015 &  2 & Metal & Weight & NA & V  & 32  \\\\\n",
       "\t WS & 1040882 & Nordin et al. 2015 &  1 & Metal & Weight & NA & Y  & NA  \\\\\n",
       "\t WS & 1040882 & Nordin et al. 2015 & NA & Metal & Weight & NA & Y  & NA  \\\\\n",
       "\t WS & 1040882 & Nordin et al. 2015 &  1 & Metal & Weight & NA & Zn & 7280\\\\\n",
       "\t WS & 1040882 & Nordin et al. 2015 &  2 & Metal & Weight & NA & Zn & 2040\\\\\n",
       "\\end{tabular}\n"
      ],
      "text/markdown": [
       "\n",
       "A data.frame: 78 × 9\n",
       "\n",
       "| Data &lt;chr&gt; | HAWC_ID &lt;dbl&gt; | Study &lt;chr&gt; | Replicate &lt;dbl&gt; | Chemical_Class &lt;chr&gt; | Metric &lt;chr&gt; | DTXSID &lt;chr&gt; | Name &lt;chr&gt; | Value &lt;chr&gt; |\n",
       "|---|---|---|---|---|---|---|---|---|\n",
       "| WS | 1040882 | Nordin et al. 2015 |  1 | Metal | Weight | NA | Ag | 2    |\n",
       "| WS | 1040882 | Nordin et al. 2015 |  2 | Metal | Weight | NA | Ag | ND   |\n",
       "| WS | 1040882 | Nordin et al. 2015 |  1 | Metal | Weight | NA | Al | 1078 |\n",
       "| WS | 1040882 | Nordin et al. 2015 |  2 | Metal | Weight | NA | Al | 198  |\n",
       "| WS | 1040882 | Nordin et al. 2015 |  1 | Metal | Weight | NA | As | ND   |\n",
       "| WS | 1040882 | Nordin et al. 2015 | NA | Metal | Weight | NA | As | ND   |\n",
       "| WS | 1040882 | Nordin et al. 2015 |  1 | Metal | Weight | NA | B  | 308  |\n",
       "| WS | 1040882 | Nordin et al. 2015 |  2 | Metal | Weight | NA | B  | 268  |\n",
       "| WS | 1040882 | Nordin et al. 2015 |  1 | Metal | Weight | NA | Ba | ND   |\n",
       "| WS | 1040882 | Nordin et al. 2015 |  2 | Metal | Weight | NA | Ba | ND   |\n",
       "| WS | 1040882 | Nordin et al. 2015 |  1 | Metal | Weight | NA | Be | ND   |\n",
       "| WS | 1040882 | Nordin et al. 2015 |  2 | Metal | Weight | NA | Be | ND   |\n",
       "| WS | 1040882 | Nordin et al. 2015 |  1 | Metal | Weight | NA | Bi | 4    |\n",
       "| WS | 1040882 | Nordin et al. 2015 |  2 | Metal | Weight | NA | Bi | ND   |\n",
       "| WS | 1040882 | Nordin et al. 2015 |  1 | Metal | Weight | NA | Ca | 7120 |\n",
       "| WS | 1040882 | Nordin et al. 2015 |  2 | Metal | Weight | NA | Ca | ND   |\n",
       "| WS | 1040882 | Nordin et al. 2015 |  1 | Metal | Weight | NA | Cd | 42   |\n",
       "| WS | 1040882 | Nordin et al. 2015 |  2 | Metal | Weight | NA | Cd | 42   |\n",
       "| WS | 1040882 | Nordin et al. 2015 |  1 | Metal | Weight | NA | Ce | NA   |\n",
       "| WS | 1040882 | Nordin et al. 2015 | NA | Metal | Weight | NA | Ce | NA   |\n",
       "| WS | 1040882 | Nordin et al. 2015 |  1 | Metal | Weight | NA | Co | ND   |\n",
       "| WS | 1040882 | Nordin et al. 2015 |  2 | Metal | Weight | NA | Co | ND   |\n",
       "| WS | 1040882 | Nordin et al. 2015 |  1 | Metal | Weight | NA | Cr | 158  |\n",
       "| WS | 1040882 | Nordin et al. 2015 |  2 | Metal | Weight | NA | Cr | 100  |\n",
       "| WS | 1040882 | Nordin et al. 2015 |  1 | Metal | Weight | NA | Cs | NA   |\n",
       "| WS | 1040882 | Nordin et al. 2015 | NA | Metal | Weight | NA | Cs | NA   |\n",
       "| WS | 1040882 | Nordin et al. 2015 |  1 | Metal | Weight | NA | Cu | 336  |\n",
       "| WS | 1040882 | Nordin et al. 2015 |  2 | Metal | Weight | NA | Cu | 196  |\n",
       "| WS | 1040882 | Nordin et al. 2015 |  1 | Metal | Weight | NA | Fe | 1172 |\n",
       "| WS | 1040882 | Nordin et al. 2015 |  2 | Metal | Weight | NA | Fe | ND   |\n",
       "| ⋮ | ⋮ | ⋮ | ⋮ | ⋮ | ⋮ | ⋮ | ⋮ | ⋮ |\n",
       "| WS | 1040882 | Nordin et al. 2015 |  1 | Metal | Weight | NA | Nb | NA   |\n",
       "| WS | 1040882 | Nordin et al. 2015 | NA | Metal | Weight | NA | Nb | NA   |\n",
       "| WS | 1040882 | Nordin et al. 2015 |  1 | Metal | Weight | NA | Ni | ND   |\n",
       "| WS | 1040882 | Nordin et al. 2015 |  2 | Metal | Weight | NA | Ni | ND   |\n",
       "| WS | 1040882 | Nordin et al. 2015 |  1 | Metal | Weight | NA | Pb | 128  |\n",
       "| WS | 1040882 | Nordin et al. 2015 |  2 | Metal | Weight | NA | Pb | 60   |\n",
       "| WS | 1040882 | Nordin et al. 2015 |  1 | Metal | Weight | NA | Rb | 200  |\n",
       "| WS | 1040882 | Nordin et al. 2015 |  2 | Metal | Weight | NA | Rb | 56   |\n",
       "| WS | 1040882 | Nordin et al. 2015 |  1 | Metal | Weight | NA | Sb | ND   |\n",
       "| WS | 1040882 | Nordin et al. 2015 |  2 | Metal | Weight | NA | Sb | ND   |\n",
       "| WS | 1040882 | Nordin et al. 2015 |  1 | Metal | Weight | NA | Sc | NA   |\n",
       "| WS | 1040882 | Nordin et al. 2015 | NA | Metal | Weight | NA | Sc | NA   |\n",
       "| WS | 1040882 | Nordin et al. 2015 |  1 | Metal | Weight | NA | Si | NA   |\n",
       "| WS | 1040882 | Nordin et al. 2015 | NA | Metal | Weight | NA | Si | NA   |\n",
       "| WS | 1040882 | Nordin et al. 2015 |  1 | Metal | Weight | NA | Sr | ND   |\n",
       "| WS | 1040882 | Nordin et al. 2015 |  2 | Metal | Weight | NA | Sr | ND   |\n",
       "| WS | 1040882 | Nordin et al. 2015 |  1 | Metal | Weight | NA | Th | ND   |\n",
       "| WS | 1040882 | Nordin et al. 2015 |  2 | Metal | Weight | NA | Th | ND   |\n",
       "| WS | 1040882 | Nordin et al. 2015 |  1 | Metal | Weight | NA | Ti | ND   |\n",
       "| WS | 1040882 | Nordin et al. 2015 |  2 | Metal | Weight | NA | Ti | ND   |\n",
       "| WS | 1040882 | Nordin et al. 2015 |  1 | Metal | Weight | NA | Tl | ND   |\n",
       "| WS | 1040882 | Nordin et al. 2015 | NA | Metal | Weight | NA | Tl | ND   |\n",
       "| WS | 1040882 | Nordin et al. 2015 |  1 | Metal | Weight | NA | U  | ND   |\n",
       "| WS | 1040882 | Nordin et al. 2015 | NA | Metal | Weight | NA | U  | ND   |\n",
       "| WS | 1040882 | Nordin et al. 2015 |  1 | Metal | Weight | NA | V  | 38   |\n",
       "| WS | 1040882 | Nordin et al. 2015 |  2 | Metal | Weight | NA | V  | 32   |\n",
       "| WS | 1040882 | Nordin et al. 2015 |  1 | Metal | Weight | NA | Y  | NA   |\n",
       "| WS | 1040882 | Nordin et al. 2015 | NA | Metal | Weight | NA | Y  | NA   |\n",
       "| WS | 1040882 | Nordin et al. 2015 |  1 | Metal | Weight | NA | Zn | 7280 |\n",
       "| WS | 1040882 | Nordin et al. 2015 |  2 | Metal | Weight | NA | Zn | 2040 |\n",
       "\n"
      ],
      "text/plain": [
       "   Data HAWC_ID Study              Replicate Chemical_Class Metric DTXSID Name\n",
       "1  WS   1040882 Nordin et al. 2015  1        Metal          Weight NA     Ag  \n",
       "2  WS   1040882 Nordin et al. 2015  2        Metal          Weight NA     Ag  \n",
       "3  WS   1040882 Nordin et al. 2015  1        Metal          Weight NA     Al  \n",
       "4  WS   1040882 Nordin et al. 2015  2        Metal          Weight NA     Al  \n",
       "5  WS   1040882 Nordin et al. 2015  1        Metal          Weight NA     As  \n",
       "6  WS   1040882 Nordin et al. 2015 NA        Metal          Weight NA     As  \n",
       "7  WS   1040882 Nordin et al. 2015  1        Metal          Weight NA     B   \n",
       "8  WS   1040882 Nordin et al. 2015  2        Metal          Weight NA     B   \n",
       "9  WS   1040882 Nordin et al. 2015  1        Metal          Weight NA     Ba  \n",
       "10 WS   1040882 Nordin et al. 2015  2        Metal          Weight NA     Ba  \n",
       "11 WS   1040882 Nordin et al. 2015  1        Metal          Weight NA     Be  \n",
       "12 WS   1040882 Nordin et al. 2015  2        Metal          Weight NA     Be  \n",
       "13 WS   1040882 Nordin et al. 2015  1        Metal          Weight NA     Bi  \n",
       "14 WS   1040882 Nordin et al. 2015  2        Metal          Weight NA     Bi  \n",
       "15 WS   1040882 Nordin et al. 2015  1        Metal          Weight NA     Ca  \n",
       "16 WS   1040882 Nordin et al. 2015  2        Metal          Weight NA     Ca  \n",
       "17 WS   1040882 Nordin et al. 2015  1        Metal          Weight NA     Cd  \n",
       "18 WS   1040882 Nordin et al. 2015  2        Metal          Weight NA     Cd  \n",
       "19 WS   1040882 Nordin et al. 2015  1        Metal          Weight NA     Ce  \n",
       "20 WS   1040882 Nordin et al. 2015 NA        Metal          Weight NA     Ce  \n",
       "21 WS   1040882 Nordin et al. 2015  1        Metal          Weight NA     Co  \n",
       "22 WS   1040882 Nordin et al. 2015  2        Metal          Weight NA     Co  \n",
       "23 WS   1040882 Nordin et al. 2015  1        Metal          Weight NA     Cr  \n",
       "24 WS   1040882 Nordin et al. 2015  2        Metal          Weight NA     Cr  \n",
       "25 WS   1040882 Nordin et al. 2015  1        Metal          Weight NA     Cs  \n",
       "26 WS   1040882 Nordin et al. 2015 NA        Metal          Weight NA     Cs  \n",
       "27 WS   1040882 Nordin et al. 2015  1        Metal          Weight NA     Cu  \n",
       "28 WS   1040882 Nordin et al. 2015  2        Metal          Weight NA     Cu  \n",
       "29 WS   1040882 Nordin et al. 2015  1        Metal          Weight NA     Fe  \n",
       "30 WS   1040882 Nordin et al. 2015  2        Metal          Weight NA     Fe  \n",
       "⋮  ⋮    ⋮       ⋮                  ⋮         ⋮              ⋮      ⋮      ⋮   \n",
       "49 WS   1040882 Nordin et al. 2015  1        Metal          Weight NA     Nb  \n",
       "50 WS   1040882 Nordin et al. 2015 NA        Metal          Weight NA     Nb  \n",
       "51 WS   1040882 Nordin et al. 2015  1        Metal          Weight NA     Ni  \n",
       "52 WS   1040882 Nordin et al. 2015  2        Metal          Weight NA     Ni  \n",
       "53 WS   1040882 Nordin et al. 2015  1        Metal          Weight NA     Pb  \n",
       "54 WS   1040882 Nordin et al. 2015  2        Metal          Weight NA     Pb  \n",
       "55 WS   1040882 Nordin et al. 2015  1        Metal          Weight NA     Rb  \n",
       "56 WS   1040882 Nordin et al. 2015  2        Metal          Weight NA     Rb  \n",
       "57 WS   1040882 Nordin et al. 2015  1        Metal          Weight NA     Sb  \n",
       "58 WS   1040882 Nordin et al. 2015  2        Metal          Weight NA     Sb  \n",
       "59 WS   1040882 Nordin et al. 2015  1        Metal          Weight NA     Sc  \n",
       "60 WS   1040882 Nordin et al. 2015 NA        Metal          Weight NA     Sc  \n",
       "61 WS   1040882 Nordin et al. 2015  1        Metal          Weight NA     Si  \n",
       "62 WS   1040882 Nordin et al. 2015 NA        Metal          Weight NA     Si  \n",
       "63 WS   1040882 Nordin et al. 2015  1        Metal          Weight NA     Sr  \n",
       "64 WS   1040882 Nordin et al. 2015  2        Metal          Weight NA     Sr  \n",
       "65 WS   1040882 Nordin et al. 2015  1        Metal          Weight NA     Th  \n",
       "66 WS   1040882 Nordin et al. 2015  2        Metal          Weight NA     Th  \n",
       "67 WS   1040882 Nordin et al. 2015  1        Metal          Weight NA     Ti  \n",
       "68 WS   1040882 Nordin et al. 2015  2        Metal          Weight NA     Ti  \n",
       "69 WS   1040882 Nordin et al. 2015  1        Metal          Weight NA     Tl  \n",
       "70 WS   1040882 Nordin et al. 2015 NA        Metal          Weight NA     Tl  \n",
       "71 WS   1040882 Nordin et al. 2015  1        Metal          Weight NA     U   \n",
       "72 WS   1040882 Nordin et al. 2015 NA        Metal          Weight NA     U   \n",
       "73 WS   1040882 Nordin et al. 2015  1        Metal          Weight NA     V   \n",
       "74 WS   1040882 Nordin et al. 2015  2        Metal          Weight NA     V   \n",
       "75 WS   1040882 Nordin et al. 2015  1        Metal          Weight NA     Y   \n",
       "76 WS   1040882 Nordin et al. 2015 NA        Metal          Weight NA     Y   \n",
       "77 WS   1040882 Nordin et al. 2015  1        Metal          Weight NA     Zn  \n",
       "78 WS   1040882 Nordin et al. 2015  2        Metal          Weight NA     Zn  \n",
       "   Value\n",
       "1  2    \n",
       "2  ND   \n",
       "3  1078 \n",
       "4  198  \n",
       "5  ND   \n",
       "6  ND   \n",
       "7  308  \n",
       "8  268  \n",
       "9  ND   \n",
       "10 ND   \n",
       "11 ND   \n",
       "12 ND   \n",
       "13 4    \n",
       "14 ND   \n",
       "15 7120 \n",
       "16 ND   \n",
       "17 42   \n",
       "18 42   \n",
       "19 NA   \n",
       "20 NA   \n",
       "21 ND   \n",
       "22 ND   \n",
       "23 158  \n",
       "24 100  \n",
       "25 NA   \n",
       "26 NA   \n",
       "27 336  \n",
       "28 196  \n",
       "29 1172 \n",
       "30 ND   \n",
       "⋮  ⋮    \n",
       "49 NA   \n",
       "50 NA   \n",
       "51 ND   \n",
       "52 ND   \n",
       "53 128  \n",
       "54 60   \n",
       "55 200  \n",
       "56 56   \n",
       "57 ND   \n",
       "58 ND   \n",
       "59 NA   \n",
       "60 NA   \n",
       "61 NA   \n",
       "62 NA   \n",
       "63 ND   \n",
       "64 ND   \n",
       "65 ND   \n",
       "66 ND   \n",
       "67 ND   \n",
       "68 ND   \n",
       "69 ND   \n",
       "70 ND   \n",
       "71 ND   \n",
       "72 ND   \n",
       "73 38   \n",
       "74 32   \n",
       "75 NA   \n",
       "76 NA   \n",
       "77 7280 \n",
       "78 2040 "
      ]
     },
     "metadata": {},
     "output_type": "display_data"
    }
   ],
   "source": [
    "`%notin%` <- Negate(`%in%`)\n",
    "\n",
    "ws_df %>%\n",
    "    filter(HAWC_ID == 1040882, Metric == 'Weight') #%>%\n",
    "    # keeping rows that don't have any values, meaning if the first rep doesn't have \n",
    "    # a value none of the other replicates do either\n",
    "    #filter(Replicate != 1 & Value == 'NA')"
   ]
  },
  {
   "cell_type": "code",
   "execution_count": 3,
   "id": "d9ba0841-95c0-4dfc-a8de-480550341718",
   "metadata": {},
   "outputs": [
    {
     "data": {
      "text/html": [
       "<table class=\"dataframe\">\n",
       "<caption>A data.frame: 6 × 9</caption>\n",
       "<thead>\n",
       "\t<tr><th></th><th scope=col>Data</th><th scope=col>HAWC_ID</th><th scope=col>Study</th><th scope=col>Replicate</th><th scope=col>Chemical_Class</th><th scope=col>Metric</th><th scope=col>DTXSID</th><th scope=col>Name</th><th scope=col>Value</th></tr>\n",
       "\t<tr><th></th><th scope=col>&lt;chr&gt;</th><th scope=col>&lt;dbl&gt;</th><th scope=col>&lt;chr&gt;</th><th scope=col>&lt;dbl&gt;</th><th scope=col>&lt;chr&gt;</th><th scope=col>&lt;chr&gt;</th><th scope=col>&lt;chr&gt;</th><th scope=col>&lt;chr&gt;</th><th scope=col>&lt;chr&gt;</th></tr>\n",
       "</thead>\n",
       "<tbody>\n",
       "\t<tr><th scope=row>1</th><td>WS</td><td> 267140</td><td>Alfheim and Ramdahl 1984</td><td>1</td><td>PAH</td><td>Volume</td><td>DTXSID3074787</td><td>1-Methylanthracene</td><td>NA</td></tr>\n",
       "\t<tr><th scope=row>2</th><td>WS</td><td>1263480</td><td>Burnet et al. 1990      </td><td>1</td><td>PAH</td><td>Volume</td><td>DTXSID3074787</td><td>1-Methylanthracene</td><td>NA</td></tr>\n",
       "\t<tr><th scope=row>3</th><td>WS</td><td> 267091</td><td>Forchhammer et al. 2012 </td><td>1</td><td>PAH</td><td>Volume</td><td>DTXSID3074787</td><td>1-Methylanthracene</td><td>NA</td></tr>\n",
       "\t<tr><th scope=row>4</th><td>WS</td><td> 885041</td><td>Ihantola et al. 2020    </td><td>1</td><td>PAH</td><td>Volume</td><td>DTXSID3074787</td><td>1-Methylanthracene</td><td>NA</td></tr>\n",
       "\t<tr><th scope=row>5</th><td>WS</td><td> 993956</td><td>Ihantola et al. 2022    </td><td>1</td><td>PAH</td><td>Volume</td><td>DTXSID3074787</td><td>1-Methylanthracene</td><td>NA</td></tr>\n",
       "\t<tr><th scope=row>6</th><td>WS</td><td>1263484</td><td>Leese et al. 1989       </td><td>1</td><td>PAH</td><td>Volume</td><td>DTXSID3074787</td><td>1-Methylanthracene</td><td>NA</td></tr>\n",
       "</tbody>\n",
       "</table>\n"
      ],
      "text/latex": [
       "A data.frame: 6 × 9\n",
       "\\begin{tabular}{r|lllllllll}\n",
       "  & Data & HAWC\\_ID & Study & Replicate & Chemical\\_Class & Metric & DTXSID & Name & Value\\\\\n",
       "  & <chr> & <dbl> & <chr> & <dbl> & <chr> & <chr> & <chr> & <chr> & <chr>\\\\\n",
       "\\hline\n",
       "\t1 & WS &  267140 & Alfheim and Ramdahl 1984 & 1 & PAH & Volume & DTXSID3074787 & 1-Methylanthracene & NA\\\\\n",
       "\t2 & WS & 1263480 & Burnet et al. 1990       & 1 & PAH & Volume & DTXSID3074787 & 1-Methylanthracene & NA\\\\\n",
       "\t3 & WS &  267091 & Forchhammer et al. 2012  & 1 & PAH & Volume & DTXSID3074787 & 1-Methylanthracene & NA\\\\\n",
       "\t4 & WS &  885041 & Ihantola et al. 2020     & 1 & PAH & Volume & DTXSID3074787 & 1-Methylanthracene & NA\\\\\n",
       "\t5 & WS &  993956 & Ihantola et al. 2022     & 1 & PAH & Volume & DTXSID3074787 & 1-Methylanthracene & NA\\\\\n",
       "\t6 & WS & 1263484 & Leese et al. 1989        & 1 & PAH & Volume & DTXSID3074787 & 1-Methylanthracene & NA\\\\\n",
       "\\end{tabular}\n"
      ],
      "text/markdown": [
       "\n",
       "A data.frame: 6 × 9\n",
       "\n",
       "| <!--/--> | Data &lt;chr&gt; | HAWC_ID &lt;dbl&gt; | Study &lt;chr&gt; | Replicate &lt;dbl&gt; | Chemical_Class &lt;chr&gt; | Metric &lt;chr&gt; | DTXSID &lt;chr&gt; | Name &lt;chr&gt; | Value &lt;chr&gt; |\n",
       "|---|---|---|---|---|---|---|---|---|---|\n",
       "| 1 | WS |  267140 | Alfheim and Ramdahl 1984 | 1 | PAH | Volume | DTXSID3074787 | 1-Methylanthracene | NA |\n",
       "| 2 | WS | 1263480 | Burnet et al. 1990       | 1 | PAH | Volume | DTXSID3074787 | 1-Methylanthracene | NA |\n",
       "| 3 | WS |  267091 | Forchhammer et al. 2012  | 1 | PAH | Volume | DTXSID3074787 | 1-Methylanthracene | NA |\n",
       "| 4 | WS |  885041 | Ihantola et al. 2020     | 1 | PAH | Volume | DTXSID3074787 | 1-Methylanthracene | NA |\n",
       "| 5 | WS |  993956 | Ihantola et al. 2022     | 1 | PAH | Volume | DTXSID3074787 | 1-Methylanthracene | NA |\n",
       "| 6 | WS | 1263484 | Leese et al. 1989        | 1 | PAH | Volume | DTXSID3074787 | 1-Methylanthracene | NA |\n",
       "\n"
      ],
      "text/plain": [
       "  Data HAWC_ID Study                    Replicate Chemical_Class Metric\n",
       "1 WS    267140 Alfheim and Ramdahl 1984 1         PAH            Volume\n",
       "2 WS   1263480 Burnet et al. 1990       1         PAH            Volume\n",
       "3 WS    267091 Forchhammer et al. 2012  1         PAH            Volume\n",
       "4 WS    885041 Ihantola et al. 2020     1         PAH            Volume\n",
       "5 WS    993956 Ihantola et al. 2022     1         PAH            Volume\n",
       "6 WS   1263484 Leese et al. 1989        1         PAH            Volume\n",
       "  DTXSID        Name               Value\n",
       "1 DTXSID3074787 1-Methylanthracene NA   \n",
       "2 DTXSID3074787 1-Methylanthracene NA   \n",
       "3 DTXSID3074787 1-Methylanthracene NA   \n",
       "4 DTXSID3074787 1-Methylanthracene NA   \n",
       "5 DTXSID3074787 1-Methylanthracene NA   \n",
       "6 DTXSID3074787 1-Methylanthracene NA   "
      ]
     },
     "metadata": {},
     "output_type": "display_data"
    }
   ],
   "source": [
    "# combining dfs\n",
    "combined_df = rbind(ws_df, wf_df)\n",
    "head(combined_df)"
   ]
  },
  {
   "cell_type": "code",
   "execution_count": 4,
   "id": "6bcf9a9c-639c-46ca-9806-dcb9246095f1",
   "metadata": {},
   "outputs": [
    {
     "data": {
      "text/html": [
       "171"
      ],
      "text/latex": [
       "171"
      ],
      "text/markdown": [
       "171"
      ],
      "text/plain": [
       "[1] 171"
      ]
     },
     "metadata": {},
     "output_type": "display_data"
    }
   ],
   "source": [
    "length(unique(combined_df$Name))"
   ]
  },
  {
   "cell_type": "markdown",
   "id": "adaf5cec-fc80-4902-935a-523fc2d9a106",
   "metadata": {},
   "source": [
    "192 unique variables."
   ]
  },
  {
   "cell_type": "markdown",
   "id": "38fa1e02-9f71-4378-a78f-90f5591ab77b",
   "metadata": {},
   "source": [
    "# Variable Background Filters\n",
    "\n",
    "Determining what variables have missing data for all variables delineated based on the dfs the data will be split into and analyzed. \n",
    "\n",
    "1. A variable (ie. `Name` which represents a chemical or metal) will be removed if < 50% of its experimental data points were either measurable concentrations and/or specified as non-detects. In other words, chemicals were excluded if they were NAs (not evaluated) across >= 50% of the samples.\n",
    "2. The data needs to have at least one experimental (ie. measured or ND) value in both WS and WF data."
   ]
  },
  {
   "cell_type": "code",
   "execution_count": 5,
   "id": "59c471fe-1657-4356-8ed6-35a8b6244188",
   "metadata": {},
   "outputs": [
    {
     "data": {
      "text/html": [
       "<table class=\"dataframe\">\n",
       "<caption>A tibble: 6 × 4</caption>\n",
       "<thead>\n",
       "\t<tr><th scope=col>Data</th><th scope=col>Metric</th><th scope=col>Name</th><th scope=col>data_group_count</th></tr>\n",
       "\t<tr><th scope=col>&lt;chr&gt;</th><th scope=col>&lt;chr&gt;</th><th scope=col>&lt;chr&gt;</th><th scope=col>&lt;dbl&gt;</th></tr>\n",
       "</thead>\n",
       "<tbody>\n",
       "\t<tr><td>WF</td><td>Volume</td><td>Acenaphthene  </td><td> 0</td></tr>\n",
       "\t<tr><td>WF</td><td>Volume</td><td>Acenaphthylene</td><td> 2</td></tr>\n",
       "\t<tr><td>WF</td><td>Volume</td><td>Al            </td><td> 0</td></tr>\n",
       "\t<tr><td>WF</td><td>Volume</td><td>Anthracene    </td><td> 0</td></tr>\n",
       "\t<tr><td>WF</td><td>Volume</td><td>As            </td><td>12</td></tr>\n",
       "\t<tr><td>WF</td><td>Volume</td><td>Ba            </td><td> 0</td></tr>\n",
       "</tbody>\n",
       "</table>\n"
      ],
      "text/latex": [
       "A tibble: 6 × 4\n",
       "\\begin{tabular}{llll}\n",
       " Data & Metric & Name & data\\_group\\_count\\\\\n",
       " <chr> & <chr> & <chr> & <dbl>\\\\\n",
       "\\hline\n",
       "\t WF & Volume & Acenaphthene   &  0\\\\\n",
       "\t WF & Volume & Acenaphthylene &  2\\\\\n",
       "\t WF & Volume & Al             &  0\\\\\n",
       "\t WF & Volume & Anthracene     &  0\\\\\n",
       "\t WF & Volume & As             & 12\\\\\n",
       "\t WF & Volume & Ba             &  0\\\\\n",
       "\\end{tabular}\n"
      ],
      "text/markdown": [
       "\n",
       "A tibble: 6 × 4\n",
       "\n",
       "| Data &lt;chr&gt; | Metric &lt;chr&gt; | Name &lt;chr&gt; | data_group_count &lt;dbl&gt; |\n",
       "|---|---|---|---|\n",
       "| WF | Volume | Acenaphthene   |  0 |\n",
       "| WF | Volume | Acenaphthylene |  2 |\n",
       "| WF | Volume | Al             |  0 |\n",
       "| WF | Volume | Anthracene     |  0 |\n",
       "| WF | Volume | As             | 12 |\n",
       "| WF | Volume | Ba             |  0 |\n",
       "\n"
      ],
      "text/plain": [
       "  Data Metric Name           data_group_count\n",
       "1 WF   Volume Acenaphthene    0              \n",
       "2 WF   Volume Acenaphthylene  2              \n",
       "3 WF   Volume Al              0              \n",
       "4 WF   Volume Anthracene      0              \n",
       "5 WF   Volume As             12              \n",
       "6 WF   Volume Ba              0              "
      ]
     },
     "metadata": {},
     "output_type": "display_data"
    }
   ],
   "source": [
    "sample_type_presence_df = combined_df %>%\n",
    "    # if the value isn't MAR count it as being present\n",
    "    mutate(count = ifelse(Value != 'NA', 1, 0)) %>%\n",
    "    # determining which have at least one experimental value within each sample type\n",
    "    group_by(Data, Metric, Name) %>%\n",
    "    # summing the number of experimental records for each variable\n",
    "    reframe(data_group_count = sum(count))\n",
    "\n",
    "head(sample_type_presence_df)"
   ]
  },
  {
   "cell_type": "code",
   "execution_count": 6,
   "id": "01950eb7-eaa3-4736-b19c-bac78b6e26c0",
   "metadata": {},
   "outputs": [
    {
     "data": {
      "text/html": [
       "<style>\n",
       ".list-inline {list-style: none; margin:0; padding: 0}\n",
       ".list-inline>li {display: inline-block}\n",
       ".list-inline>li:not(:last-child)::after {content: \"\\00b7\"; padding: 0 .5ex}\n",
       "</style>\n",
       "<ol class=list-inline><li>385</li><li>4</li></ol>\n"
      ],
      "text/latex": [
       "\\begin{enumerate*}\n",
       "\\item 385\n",
       "\\item 4\n",
       "\\end{enumerate*}\n"
      ],
      "text/markdown": [
       "1. 385\n",
       "2. 4\n",
       "\n",
       "\n"
      ],
      "text/plain": [
       "[1] 385   4"
      ]
     },
     "metadata": {},
     "output_type": "display_data"
    },
    {
     "data": {
      "text/html": [
       "<style>\n",
       ".list-inline {list-style: none; margin:0; padding: 0}\n",
       ".list-inline>li {display: inline-block}\n",
       ".list-inline>li:not(:last-child)::after {content: \"\\00b7\"; padding: 0 .5ex}\n",
       "</style>\n",
       "<ol class=list-inline><li>263</li><li>4</li></ol>\n"
      ],
      "text/latex": [
       "\\begin{enumerate*}\n",
       "\\item 263\n",
       "\\item 4\n",
       "\\end{enumerate*}\n"
      ],
      "text/markdown": [
       "1. 263\n",
       "2. 4\n",
       "\n",
       "\n"
      ],
      "text/plain": [
       "[1] 263   4"
      ]
     },
     "metadata": {},
     "output_type": "display_data"
    }
   ],
   "source": [
    "dim(sample_type_presence_df)\n",
    "\n",
    "sample_type_keep_df = sample_type_presence_df %>%\n",
    "    filter(data_group_count > 0) \n",
    "\n",
    "dim(sample_type_keep_df)"
   ]
  },
  {
   "cell_type": "code",
   "execution_count": 7,
   "id": "e9e0b6d6-d46b-4f37-81e9-f71cbf5eaefd",
   "metadata": {},
   "outputs": [
    {
     "name": "stderr",
     "output_type": "stream",
     "text": [
      "\u001b[1m\u001b[22mJoining with `by = join_by(Data, Metric, Name)`\n"
     ]
    },
    {
     "data": {
      "text/html": [
       "<table class=\"dataframe\">\n",
       "<caption>A tibble: 6 × 9</caption>\n",
       "<thead>\n",
       "\t<tr><th scope=col>Data</th><th scope=col>Metric</th><th scope=col>Name</th><th scope=col>HAWC_ID</th><th scope=col>Study</th><th scope=col>Replicate</th><th scope=col>Chemical_Class</th><th scope=col>DTXSID</th><th scope=col>Value</th></tr>\n",
       "\t<tr><th scope=col>&lt;chr&gt;</th><th scope=col>&lt;chr&gt;</th><th scope=col>&lt;chr&gt;</th><th scope=col>&lt;dbl&gt;</th><th scope=col>&lt;chr&gt;</th><th scope=col>&lt;dbl&gt;</th><th scope=col>&lt;chr&gt;</th><th scope=col>&lt;chr&gt;</th><th scope=col>&lt;chr&gt;</th></tr>\n",
       "</thead>\n",
       "<tbody>\n",
       "\t<tr><td>WF</td><td>Volume</td><td>Acenaphthylene</td><td>1285830</td><td>Navarro et al. 2019  </td><td>2</td><td>PAH  </td><td>DTXSID3023845</td><td>1  </td></tr>\n",
       "\t<tr><td>WF</td><td>Volume</td><td>Acenaphthylene</td><td>1285830</td><td>Navarro et al. 2019  </td><td>3</td><td>PAH  </td><td>DTXSID3023845</td><td>1  </td></tr>\n",
       "\t<tr><td>WF</td><td>Volume</td><td>As            </td><td>1070627</td><td>Siregar et al. 2022  </td><td>2</td><td>Metal</td><td>NA           </td><td>0.8</td></tr>\n",
       "\t<tr><td>WF</td><td>Volume</td><td>As            </td><td>1289884</td><td>Samsonova et al. 2012</td><td>2</td><td>Metal</td><td>NA           </td><td>117</td></tr>\n",
       "\t<tr><td>WF</td><td>Volume</td><td>As            </td><td>1289884</td><td>Samsonova et al. 2012</td><td>3</td><td>Metal</td><td>NA           </td><td>183</td></tr>\n",
       "\t<tr><td>WF</td><td>Volume</td><td>As            </td><td>1289884</td><td>Samsonova et al. 2012</td><td>4</td><td>Metal</td><td>NA           </td><td>50 </td></tr>\n",
       "</tbody>\n",
       "</table>\n"
      ],
      "text/latex": [
       "A tibble: 6 × 9\n",
       "\\begin{tabular}{lllllllll}\n",
       " Data & Metric & Name & HAWC\\_ID & Study & Replicate & Chemical\\_Class & DTXSID & Value\\\\\n",
       " <chr> & <chr> & <chr> & <dbl> & <chr> & <dbl> & <chr> & <chr> & <chr>\\\\\n",
       "\\hline\n",
       "\t WF & Volume & Acenaphthylene & 1285830 & Navarro et al. 2019   & 2 & PAH   & DTXSID3023845 & 1  \\\\\n",
       "\t WF & Volume & Acenaphthylene & 1285830 & Navarro et al. 2019   & 3 & PAH   & DTXSID3023845 & 1  \\\\\n",
       "\t WF & Volume & As             & 1070627 & Siregar et al. 2022   & 2 & Metal & NA            & 0.8\\\\\n",
       "\t WF & Volume & As             & 1289884 & Samsonova et al. 2012 & 2 & Metal & NA            & 117\\\\\n",
       "\t WF & Volume & As             & 1289884 & Samsonova et al. 2012 & 3 & Metal & NA            & 183\\\\\n",
       "\t WF & Volume & As             & 1289884 & Samsonova et al. 2012 & 4 & Metal & NA            & 50 \\\\\n",
       "\\end{tabular}\n"
      ],
      "text/markdown": [
       "\n",
       "A tibble: 6 × 9\n",
       "\n",
       "| Data &lt;chr&gt; | Metric &lt;chr&gt; | Name &lt;chr&gt; | HAWC_ID &lt;dbl&gt; | Study &lt;chr&gt; | Replicate &lt;dbl&gt; | Chemical_Class &lt;chr&gt; | DTXSID &lt;chr&gt; | Value &lt;chr&gt; |\n",
       "|---|---|---|---|---|---|---|---|---|\n",
       "| WF | Volume | Acenaphthylene | 1285830 | Navarro et al. 2019   | 2 | PAH   | DTXSID3023845 | 1   |\n",
       "| WF | Volume | Acenaphthylene | 1285830 | Navarro et al. 2019   | 3 | PAH   | DTXSID3023845 | 1   |\n",
       "| WF | Volume | As             | 1070627 | Siregar et al. 2022   | 2 | Metal | NA            | 0.8 |\n",
       "| WF | Volume | As             | 1289884 | Samsonova et al. 2012 | 2 | Metal | NA            | 117 |\n",
       "| WF | Volume | As             | 1289884 | Samsonova et al. 2012 | 3 | Metal | NA            | 183 |\n",
       "| WF | Volume | As             | 1289884 | Samsonova et al. 2012 | 4 | Metal | NA            | 50  |\n",
       "\n"
      ],
      "text/plain": [
       "  Data Metric Name           HAWC_ID Study                 Replicate\n",
       "1 WF   Volume Acenaphthylene 1285830 Navarro et al. 2019   2        \n",
       "2 WF   Volume Acenaphthylene 1285830 Navarro et al. 2019   3        \n",
       "3 WF   Volume As             1070627 Siregar et al. 2022   2        \n",
       "4 WF   Volume As             1289884 Samsonova et al. 2012 2        \n",
       "5 WF   Volume As             1289884 Samsonova et al. 2012 3        \n",
       "6 WF   Volume As             1289884 Samsonova et al. 2012 4        \n",
       "  Chemical_Class DTXSID        Value\n",
       "1 PAH            DTXSID3023845 1    \n",
       "2 PAH            DTXSID3023845 1    \n",
       "3 Metal          NA            0.8  \n",
       "4 Metal          NA            117  \n",
       "5 Metal          NA            183  \n",
       "6 Metal          NA            50   "
      ]
     },
     "metadata": {},
     "output_type": "display_data"
    }
   ],
   "source": [
    "# filtering the original df\n",
    "filter1_df = inner_join(sample_type_keep_df[,1:3], combined_df)\n",
    "head(filter1_df)"
   ]
  },
  {
   "cell_type": "code",
   "execution_count": 8,
   "id": "326df55e-15f1-4704-969d-2e19d7cf54fd",
   "metadata": {},
   "outputs": [
    {
     "data": {
      "text/html": [
       "<style>\n",
       ".list-inline {list-style: none; margin:0; padding: 0}\n",
       ".list-inline>li {display: inline-block}\n",
       ".list-inline>li:not(:last-child)::after {content: \"\\00b7\"; padding: 0 .5ex}\n",
       "</style>\n",
       "<ol class=list-inline><li>4890</li><li>9</li></ol>\n"
      ],
      "text/latex": [
       "\\begin{enumerate*}\n",
       "\\item 4890\n",
       "\\item 9\n",
       "\\end{enumerate*}\n"
      ],
      "text/markdown": [
       "1. 4890\n",
       "2. 9\n",
       "\n",
       "\n"
      ],
      "text/plain": [
       "[1] 4890    9"
      ]
     },
     "metadata": {},
     "output_type": "display_data"
    },
    {
     "data": {
      "text/html": [
       "<style>\n",
       ".list-inline {list-style: none; margin:0; padding: 0}\n",
       ".list-inline>li {display: inline-block}\n",
       ".list-inline>li:not(:last-child)::after {content: \"\\00b7\"; padding: 0 .5ex}\n",
       "</style>\n",
       "<ol class=list-inline><li>3419</li><li>9</li></ol>\n"
      ],
      "text/latex": [
       "\\begin{enumerate*}\n",
       "\\item 3419\n",
       "\\item 9\n",
       "\\end{enumerate*}\n"
      ],
      "text/markdown": [
       "1. 3419\n",
       "2. 9\n",
       "\n",
       "\n"
      ],
      "text/plain": [
       "[1] 3419    9"
      ]
     },
     "metadata": {},
     "output_type": "display_data"
    }
   ],
   "source": [
    "dim(combined_df)\n",
    "dim(filter1_df)"
   ]
  },
  {
   "cell_type": "markdown",
   "id": "5f340a20-8ef3-419d-92a5-9140887821d7",
   "metadata": {},
   "source": [
    "Started with 6577 records, 1361 were removed, leaving 5218. \n",
    "\n",
    "Now that each sample type (WS of WF) has at least one experimental value, we'll see if there's at least 50% of data between the sample types."
   ]
  },
  {
   "cell_type": "code",
   "execution_count": 9,
   "id": "d7cb46a6-4543-4dfa-949a-58c261307882",
   "metadata": {},
   "outputs": [
    {
     "data": {
      "text/html": [
       "<table class=\"dataframe\">\n",
       "<caption>A tibble: 6 × 3</caption>\n",
       "<thead>\n",
       "\t<tr><th scope=col>Metric</th><th scope=col>Name</th><th scope=col>Variable_Presence_Percentage</th></tr>\n",
       "\t<tr><th scope=col>&lt;chr&gt;</th><th scope=col>&lt;chr&gt;</th><th scope=col>&lt;dbl&gt;</th></tr>\n",
       "</thead>\n",
       "<tbody>\n",
       "\t<tr><td>Volume</td><td>2,5-Dimethyl furan </td><td>100</td></tr>\n",
       "\t<tr><td>Volume</td><td>2-Methyl furan     </td><td>100</td></tr>\n",
       "\t<tr><td>Volume</td><td>2-Methylnaphthalene</td><td>100</td></tr>\n",
       "\t<tr><td>Volume</td><td>Acenaphthene       </td><td>100</td></tr>\n",
       "\t<tr><td>Volume</td><td>Acenaphthylene     </td><td>100</td></tr>\n",
       "\t<tr><td>Volume</td><td>Acephenanthrylene  </td><td>100</td></tr>\n",
       "</tbody>\n",
       "</table>\n"
      ],
      "text/latex": [
       "A tibble: 6 × 3\n",
       "\\begin{tabular}{lll}\n",
       " Metric & Name & Variable\\_Presence\\_Percentage\\\\\n",
       " <chr> & <chr> & <dbl>\\\\\n",
       "\\hline\n",
       "\t Volume & 2,5-Dimethyl furan  & 100\\\\\n",
       "\t Volume & 2-Methyl furan      & 100\\\\\n",
       "\t Volume & 2-Methylnaphthalene & 100\\\\\n",
       "\t Volume & Acenaphthene        & 100\\\\\n",
       "\t Volume & Acenaphthylene      & 100\\\\\n",
       "\t Volume & Acephenanthrylene   & 100\\\\\n",
       "\\end{tabular}\n"
      ],
      "text/markdown": [
       "\n",
       "A tibble: 6 × 3\n",
       "\n",
       "| Metric &lt;chr&gt; | Name &lt;chr&gt; | Variable_Presence_Percentage &lt;dbl&gt; |\n",
       "|---|---|---|\n",
       "| Volume | 2,5-Dimethyl furan  | 100 |\n",
       "| Volume | 2-Methyl furan      | 100 |\n",
       "| Volume | 2-Methylnaphthalene | 100 |\n",
       "| Volume | Acenaphthene        | 100 |\n",
       "| Volume | Acenaphthylene      | 100 |\n",
       "| Volume | Acephenanthrylene   | 100 |\n",
       "\n"
      ],
      "text/plain": [
       "  Metric Name                Variable_Presence_Percentage\n",
       "1 Volume 2,5-Dimethyl furan  100                         \n",
       "2 Volume 2-Methyl furan      100                         \n",
       "3 Volume 2-Methylnaphthalene 100                         \n",
       "4 Volume Acenaphthene        100                         \n",
       "5 Volume Acenaphthylene      100                         \n",
       "6 Volume Acephenanthrylene   100                         "
      ]
     },
     "metadata": {},
     "output_type": "display_data"
    }
   ],
   "source": [
    "variable_presence_df = filter1_df %>%\n",
    "    # if the value isn't MAR count it as being present\n",
    "    mutate(count = ifelse(Value != 'NA', 1, 0)) %>%\n",
    "    group_by(Metric, Name) %>%\n",
    "    # calculating the percentage of variables with data overall\n",
    "    reframe(Variable_Presence_Percentage = (sum(count)/n()) * 100) %>%\n",
    "    arrange(-Variable_Presence_Percentage)\n",
    "\n",
    "# viewing data that passed the filter\n",
    "keep_variables_df = variable_presence_df %>%\n",
    "     filter(Variable_Presence_Percentage >= 50) %>%\n",
    "     unique()\n",
    "\n",
    "head(keep_variables_df)"
   ]
  },
  {
   "cell_type": "code",
   "execution_count": 10,
   "id": "86b71768-8adf-45d6-8d3d-581c3a7d1c80",
   "metadata": {},
   "outputs": [
    {
     "name": "stderr",
     "output_type": "stream",
     "text": [
      "\u001b[1m\u001b[22mJoining with `by = join_by(Metric, Name)`\n"
     ]
    },
    {
     "data": {
      "text/html": [
       "<table class=\"dataframe\">\n",
       "<caption>A tibble: 6 × 9</caption>\n",
       "<thead>\n",
       "\t<tr><th scope=col>Metric</th><th scope=col>Name</th><th scope=col>Data</th><th scope=col>HAWC_ID</th><th scope=col>Study</th><th scope=col>Replicate</th><th scope=col>Chemical_Class</th><th scope=col>DTXSID</th><th scope=col>Value</th></tr>\n",
       "\t<tr><th scope=col>&lt;chr&gt;</th><th scope=col>&lt;chr&gt;</th><th scope=col>&lt;chr&gt;</th><th scope=col>&lt;dbl&gt;</th><th scope=col>&lt;chr&gt;</th><th scope=col>&lt;dbl&gt;</th><th scope=col>&lt;chr&gt;</th><th scope=col>&lt;chr&gt;</th><th scope=col>&lt;chr&gt;</th></tr>\n",
       "</thead>\n",
       "<tbody>\n",
       "\t<tr><td>Volume</td><td>2,5-Dimethyl furan </td><td>WS</td><td>1263480</td><td>Burnet et al. 1990 </td><td>2</td><td>VOC</td><td>DTXSID7022093</td><td>7047500 </td></tr>\n",
       "\t<tr><td>Volume</td><td>2,5-Dimethyl furan </td><td>WS</td><td>1263480</td><td>Burnet et al. 1990 </td><td>3</td><td>VOC</td><td>DTXSID7022093</td><td>1440000 </td></tr>\n",
       "\t<tr><td>Volume</td><td>2-Methyl furan     </td><td>WS</td><td>1263480</td><td>Burnet et al. 1990 </td><td>2</td><td>VOC</td><td>DTXSID9025611</td><td>28251625</td></tr>\n",
       "\t<tr><td>Volume</td><td>2-Methyl furan     </td><td>WS</td><td>1263480</td><td>Burnet et al. 1990 </td><td>3</td><td>VOC</td><td>DTXSID9025611</td><td>5661500 </td></tr>\n",
       "\t<tr><td>Volume</td><td>2-Methylnaphthalene</td><td>WS</td><td>1063102</td><td>Nielsen et al. 1992</td><td>2</td><td>PAH</td><td>DTXSID4020878</td><td>6690000 </td></tr>\n",
       "\t<tr><td>Volume</td><td>2-Methylnaphthalene</td><td>WS</td><td>1063102</td><td>Nielsen et al. 1992</td><td>3</td><td>PAH</td><td>DTXSID4020878</td><td>272000  </td></tr>\n",
       "</tbody>\n",
       "</table>\n"
      ],
      "text/latex": [
       "A tibble: 6 × 9\n",
       "\\begin{tabular}{lllllllll}\n",
       " Metric & Name & Data & HAWC\\_ID & Study & Replicate & Chemical\\_Class & DTXSID & Value\\\\\n",
       " <chr> & <chr> & <chr> & <dbl> & <chr> & <dbl> & <chr> & <chr> & <chr>\\\\\n",
       "\\hline\n",
       "\t Volume & 2,5-Dimethyl furan  & WS & 1263480 & Burnet et al. 1990  & 2 & VOC & DTXSID7022093 & 7047500 \\\\\n",
       "\t Volume & 2,5-Dimethyl furan  & WS & 1263480 & Burnet et al. 1990  & 3 & VOC & DTXSID7022093 & 1440000 \\\\\n",
       "\t Volume & 2-Methyl furan      & WS & 1263480 & Burnet et al. 1990  & 2 & VOC & DTXSID9025611 & 28251625\\\\\n",
       "\t Volume & 2-Methyl furan      & WS & 1263480 & Burnet et al. 1990  & 3 & VOC & DTXSID9025611 & 5661500 \\\\\n",
       "\t Volume & 2-Methylnaphthalene & WS & 1063102 & Nielsen et al. 1992 & 2 & PAH & DTXSID4020878 & 6690000 \\\\\n",
       "\t Volume & 2-Methylnaphthalene & WS & 1063102 & Nielsen et al. 1992 & 3 & PAH & DTXSID4020878 & 272000  \\\\\n",
       "\\end{tabular}\n"
      ],
      "text/markdown": [
       "\n",
       "A tibble: 6 × 9\n",
       "\n",
       "| Metric &lt;chr&gt; | Name &lt;chr&gt; | Data &lt;chr&gt; | HAWC_ID &lt;dbl&gt; | Study &lt;chr&gt; | Replicate &lt;dbl&gt; | Chemical_Class &lt;chr&gt; | DTXSID &lt;chr&gt; | Value &lt;chr&gt; |\n",
       "|---|---|---|---|---|---|---|---|---|\n",
       "| Volume | 2,5-Dimethyl furan  | WS | 1263480 | Burnet et al. 1990  | 2 | VOC | DTXSID7022093 | 7047500  |\n",
       "| Volume | 2,5-Dimethyl furan  | WS | 1263480 | Burnet et al. 1990  | 3 | VOC | DTXSID7022093 | 1440000  |\n",
       "| Volume | 2-Methyl furan      | WS | 1263480 | Burnet et al. 1990  | 2 | VOC | DTXSID9025611 | 28251625 |\n",
       "| Volume | 2-Methyl furan      | WS | 1263480 | Burnet et al. 1990  | 3 | VOC | DTXSID9025611 | 5661500  |\n",
       "| Volume | 2-Methylnaphthalene | WS | 1063102 | Nielsen et al. 1992 | 2 | PAH | DTXSID4020878 | 6690000  |\n",
       "| Volume | 2-Methylnaphthalene | WS | 1063102 | Nielsen et al. 1992 | 3 | PAH | DTXSID4020878 | 272000   |\n",
       "\n"
      ],
      "text/plain": [
       "  Metric Name                Data HAWC_ID Study               Replicate\n",
       "1 Volume 2,5-Dimethyl furan  WS   1263480 Burnet et al. 1990  2        \n",
       "2 Volume 2,5-Dimethyl furan  WS   1263480 Burnet et al. 1990  3        \n",
       "3 Volume 2-Methyl furan      WS   1263480 Burnet et al. 1990  2        \n",
       "4 Volume 2-Methyl furan      WS   1263480 Burnet et al. 1990  3        \n",
       "5 Volume 2-Methylnaphthalene WS   1063102 Nielsen et al. 1992 2        \n",
       "6 Volume 2-Methylnaphthalene WS   1063102 Nielsen et al. 1992 3        \n",
       "  Chemical_Class DTXSID        Value   \n",
       "1 VOC            DTXSID7022093 7047500 \n",
       "2 VOC            DTXSID7022093 1440000 \n",
       "3 VOC            DTXSID9025611 28251625\n",
       "4 VOC            DTXSID9025611 5661500 \n",
       "5 PAH            DTXSID4020878 6690000 \n",
       "6 PAH            DTXSID4020878 272000  "
      ]
     },
     "metadata": {},
     "output_type": "display_data"
    }
   ],
   "source": [
    "# only keeping records that passed the background filter\n",
    "filter2_df = inner_join(keep_variables_df[,1:2], filter1_df) %>%\n",
    "    # metals don't have a DTXSID, so making that col their name\n",
    "    mutate(DTXSID = ifelse(DTXSID != 'NA', DTXSID, Name)) \n",
    "    \n",
    "\n",
    "head(filter2_df)"
   ]
  },
  {
   "cell_type": "code",
   "execution_count": 11,
   "id": "606a93db-e66a-4d74-9b15-7b6f6d34b28c",
   "metadata": {},
   "outputs": [
    {
     "data": {
      "text/html": [
       "<style>\n",
       ".list-inline {list-style: none; margin:0; padding: 0}\n",
       ".list-inline>li {display: inline-block}\n",
       ".list-inline>li:not(:last-child)::after {content: \"\\00b7\"; padding: 0 .5ex}\n",
       "</style>\n",
       "<ol class=list-inline><li>2980</li><li>9</li></ol>\n"
      ],
      "text/latex": [
       "\\begin{enumerate*}\n",
       "\\item 2980\n",
       "\\item 9\n",
       "\\end{enumerate*}\n"
      ],
      "text/markdown": [
       "1. 2980\n",
       "2. 9\n",
       "\n",
       "\n"
      ],
      "text/plain": [
       "[1] 2980    9"
      ]
     },
     "metadata": {},
     "output_type": "display_data"
    }
   ],
   "source": [
    "dim(filter2_df)"
   ]
  },
  {
   "cell_type": "markdown",
   "id": "6fd63281-87c6-4702-9834-4ff5be768edd",
   "metadata": {},
   "source": [
    "An additional 312 records were removed, leaving 4906.\n",
    "\n",
    "# Second Variable Background Filter\n",
    "\n",
    "In the intial filter, samples were combined. However, this time variables (ie. metal or chemical) will be split based on their `Metric` (ie. volume or weight) and then retained if that variable in found in both woodsmoke and wildfire samples within volume or weight samples."
   ]
  },
  {
   "cell_type": "code",
   "execution_count": 12,
   "id": "00ed4b32-8851-48f9-a680-c4277545ea8d",
   "metadata": {},
   "outputs": [],
   "source": [
    "split_filtered_df = filter2_df %>%\n",
    "    group_by(Data, Metric) %>%\n",
    "    group_split\n",
    "\n",
    "split_ws_vol_df = split_filtered_df[[3]]\n",
    "split_ws_weight_df = split_filtered_df[[4]]\n",
    "split_wf_vol_df = split_filtered_df[[1]]\n",
    "split_wf_weight_df = split_filtered_df[[2]]"
   ]
  },
  {
   "cell_type": "code",
   "execution_count": 13,
   "id": "c52b40df-d2c5-4604-8fa8-a5f31ad46df7",
   "metadata": {},
   "outputs": [
    {
     "data": {
      "text/html": [
       "77"
      ],
      "text/latex": [
       "77"
      ],
      "text/markdown": [
       "77"
      ],
      "text/plain": [
       "[1] 77"
      ]
     },
     "metadata": {},
     "output_type": "display_data"
    },
    {
     "data": {
      "text/html": [
       "43"
      ],
      "text/latex": [
       "43"
      ],
      "text/markdown": [
       "43"
      ],
      "text/plain": [
       "[1] 43"
      ]
     },
     "metadata": {},
     "output_type": "display_data"
    },
    {
     "data": {
      "text/html": [
       "61"
      ],
      "text/latex": [
       "61"
      ],
      "text/markdown": [
       "61"
      ],
      "text/plain": [
       "[1] 61"
      ]
     },
     "metadata": {},
     "output_type": "display_data"
    },
    {
     "data": {
      "text/html": [
       "61"
      ],
      "text/latex": [
       "61"
      ],
      "text/markdown": [
       "61"
      ],
      "text/plain": [
       "[1] 61"
      ]
     },
     "metadata": {},
     "output_type": "display_data"
    }
   ],
   "source": [
    "# seeing how many unique variables are in each df and if they're consistent in each file\n",
    "length(unique(split_ws_vol_df$Name))\n",
    "length(unique(split_wf_vol_df$Name))\n",
    "length(unique(split_ws_weight_df$Name))\n",
    "length(unique(split_wf_weight_df$Name))"
   ]
  },
  {
   "cell_type": "code",
   "execution_count": 14,
   "id": "97f266f6-d8ee-44ce-a9ab-cc96acfcbf2f",
   "metadata": {},
   "outputs": [
    {
     "data": {
      "text/html": [
       "25"
      ],
      "text/latex": [
       "25"
      ],
      "text/markdown": [
       "25"
      ],
      "text/plain": [
       "[1] 25"
      ]
     },
     "metadata": {},
     "output_type": "display_data"
    },
    {
     "data": {
      "text/html": [
       "25"
      ],
      "text/latex": [
       "25"
      ],
      "text/markdown": [
       "25"
      ],
      "text/plain": [
       "[1] 25"
      ]
     },
     "metadata": {},
     "output_type": "display_data"
    },
    {
     "data": {
      "text/html": [
       "27"
      ],
      "text/latex": [
       "27"
      ],
      "text/markdown": [
       "27"
      ],
      "text/plain": [
       "[1] 27"
      ]
     },
     "metadata": {},
     "output_type": "display_data"
    },
    {
     "data": {
      "text/html": [
       "27"
      ],
      "text/latex": [
       "27"
      ],
      "text/markdown": [
       "27"
      ],
      "text/plain": [
       "[1] 27"
      ]
     },
     "metadata": {},
     "output_type": "display_data"
    }
   ],
   "source": [
    "# they're not so first getting variables that are in weight or volume samples\n",
    "consistent_wf_vol_df = split_wf_vol_df %>%\n",
    "    filter(Name %in% unique(split_ws_vol_df$Name))\n",
    "consistent_ws_vol_df = split_ws_vol_df %>%\n",
    "    filter(Name %in% consistent_wf_vol_df$Name)\n",
    "consistent_wf_weight_df = split_wf_weight_df %>%\n",
    "    filter(Name %in% unique(split_ws_weight_df$Name))\n",
    "consistent_ws_weight_df = split_ws_weight_df %>%\n",
    "    filter(Name %in% consistent_wf_weight_df$Name)\n",
    "\n",
    "length(unique(consistent_wf_vol_df$Name))\n",
    "length(unique(consistent_ws_vol_df$Name))\n",
    "length(unique(consistent_wf_weight_df$Name))\n",
    "length(unique(consistent_ws_weight_df$Name))"
   ]
  },
  {
   "cell_type": "markdown",
   "id": "4b604def-71e1-482c-ab06-ed64e9e7d830",
   "metadata": {},
   "source": [
    "There were 95, 67, 86 and 68 woodsmoke weight, woodsmoke volume, wildfire weight, and wildfire volume samples, respectively. 32 variables were common between volume samples and 35 were common between weight records and will be retained."
   ]
  },
  {
   "cell_type": "code",
   "execution_count": 15,
   "id": "0d22def2-eb27-4093-8bbe-8a7c8082b9ce",
   "metadata": {},
   "outputs": [
    {
     "data": {
      "text/html": [
       "<table class=\"dataframe\">\n",
       "<caption>A tibble: 6 × 9</caption>\n",
       "<thead>\n",
       "\t<tr><th scope=col>Metric</th><th scope=col>Name</th><th scope=col>Data</th><th scope=col>HAWC_ID</th><th scope=col>Study</th><th scope=col>Replicate</th><th scope=col>Chemical_Class</th><th scope=col>DTXSID</th><th scope=col>Value</th></tr>\n",
       "\t<tr><th scope=col>&lt;chr&gt;</th><th scope=col>&lt;chr&gt;</th><th scope=col>&lt;chr&gt;</th><th scope=col>&lt;dbl&gt;</th><th scope=col>&lt;chr&gt;</th><th scope=col>&lt;dbl&gt;</th><th scope=col>&lt;chr&gt;</th><th scope=col>&lt;chr&gt;</th><th scope=col>&lt;chr&gt;</th></tr>\n",
       "</thead>\n",
       "<tbody>\n",
       "\t<tr><td>Volume</td><td>Acenaphthylene</td><td>WS</td><td>1263480</td><td>Burnet et al. 1990   </td><td>2</td><td>PAH  </td><td>DTXSID3023845</td><td>18890500</td></tr>\n",
       "\t<tr><td>Volume</td><td>Acenaphthylene</td><td>WS</td><td>1263480</td><td>Burnet et al. 1990   </td><td>3</td><td>PAH  </td><td>DTXSID3023845</td><td>7806000 </td></tr>\n",
       "\t<tr><td>Volume</td><td>Acenaphthylene</td><td>WS</td><td>1263484</td><td>Leese et al. 1989    </td><td>2</td><td>PAH  </td><td>DTXSID3023845</td><td>2800000 </td></tr>\n",
       "\t<tr><td>Volume</td><td>As            </td><td>WS</td><td> 885041</td><td>Ihantola et al. 2020 </td><td>2</td><td>Metal</td><td>As           </td><td>5670    </td></tr>\n",
       "\t<tr><td>Volume</td><td>Benzene       </td><td>WS</td><td> 267131</td><td>Barregard et al. 2008</td><td>2</td><td>VOC  </td><td>DTXSID3039242</td><td>20000   </td></tr>\n",
       "\t<tr><td>Volume</td><td>Benzene       </td><td>WS</td><td> 266980</td><td>Stockfelt et al. 2012</td><td>2</td><td>VOC  </td><td>DTXSID3039242</td><td>21000   </td></tr>\n",
       "</tbody>\n",
       "</table>\n"
      ],
      "text/latex": [
       "A tibble: 6 × 9\n",
       "\\begin{tabular}{lllllllll}\n",
       " Metric & Name & Data & HAWC\\_ID & Study & Replicate & Chemical\\_Class & DTXSID & Value\\\\\n",
       " <chr> & <chr> & <chr> & <dbl> & <chr> & <dbl> & <chr> & <chr> & <chr>\\\\\n",
       "\\hline\n",
       "\t Volume & Acenaphthylene & WS & 1263480 & Burnet et al. 1990    & 2 & PAH   & DTXSID3023845 & 18890500\\\\\n",
       "\t Volume & Acenaphthylene & WS & 1263480 & Burnet et al. 1990    & 3 & PAH   & DTXSID3023845 & 7806000 \\\\\n",
       "\t Volume & Acenaphthylene & WS & 1263484 & Leese et al. 1989     & 2 & PAH   & DTXSID3023845 & 2800000 \\\\\n",
       "\t Volume & As             & WS &  885041 & Ihantola et al. 2020  & 2 & Metal & As            & 5670    \\\\\n",
       "\t Volume & Benzene        & WS &  267131 & Barregard et al. 2008 & 2 & VOC   & DTXSID3039242 & 20000   \\\\\n",
       "\t Volume & Benzene        & WS &  266980 & Stockfelt et al. 2012 & 2 & VOC   & DTXSID3039242 & 21000   \\\\\n",
       "\\end{tabular}\n"
      ],
      "text/markdown": [
       "\n",
       "A tibble: 6 × 9\n",
       "\n",
       "| Metric &lt;chr&gt; | Name &lt;chr&gt; | Data &lt;chr&gt; | HAWC_ID &lt;dbl&gt; | Study &lt;chr&gt; | Replicate &lt;dbl&gt; | Chemical_Class &lt;chr&gt; | DTXSID &lt;chr&gt; | Value &lt;chr&gt; |\n",
       "|---|---|---|---|---|---|---|---|---|\n",
       "| Volume | Acenaphthylene | WS | 1263480 | Burnet et al. 1990    | 2 | PAH   | DTXSID3023845 | 18890500 |\n",
       "| Volume | Acenaphthylene | WS | 1263480 | Burnet et al. 1990    | 3 | PAH   | DTXSID3023845 | 7806000  |\n",
       "| Volume | Acenaphthylene | WS | 1263484 | Leese et al. 1989     | 2 | PAH   | DTXSID3023845 | 2800000  |\n",
       "| Volume | As             | WS |  885041 | Ihantola et al. 2020  | 2 | Metal | As            | 5670     |\n",
       "| Volume | Benzene        | WS |  267131 | Barregard et al. 2008 | 2 | VOC   | DTXSID3039242 | 20000    |\n",
       "| Volume | Benzene        | WS |  266980 | Stockfelt et al. 2012 | 2 | VOC   | DTXSID3039242 | 21000    |\n",
       "\n"
      ],
      "text/plain": [
       "  Metric Name           Data HAWC_ID Study                 Replicate\n",
       "1 Volume Acenaphthylene WS   1263480 Burnet et al. 1990    2        \n",
       "2 Volume Acenaphthylene WS   1263480 Burnet et al. 1990    3        \n",
       "3 Volume Acenaphthylene WS   1263484 Leese et al. 1989     2        \n",
       "4 Volume As             WS    885041 Ihantola et al. 2020  2        \n",
       "5 Volume Benzene        WS    267131 Barregard et al. 2008 2        \n",
       "6 Volume Benzene        WS    266980 Stockfelt et al. 2012 2        \n",
       "  Chemical_Class DTXSID        Value   \n",
       "1 PAH            DTXSID3023845 18890500\n",
       "2 PAH            DTXSID3023845 7806000 \n",
       "3 PAH            DTXSID3023845 2800000 \n",
       "4 Metal          As            5670    \n",
       "5 VOC            DTXSID3039242 20000   \n",
       "6 VOC            DTXSID3039242 21000   "
      ]
     },
     "metadata": {},
     "output_type": "display_data"
    }
   ],
   "source": [
    "# recombining data\n",
    "vol_df = rbind(consistent_ws_vol_df, consistent_wf_vol_df)\n",
    "weight_df = rbind(consistent_ws_weight_df, consistent_wf_weight_df)\n",
    "\n",
    "head(vol_df)"
   ]
  },
  {
   "cell_type": "markdown",
   "id": "12249f65-761e-4dbc-8231-8c455e6d3120",
   "metadata": {},
   "source": [
    "# QRILC Imputation\n",
    "\n",
    "Imputing non-detect data."
   ]
  },
  {
   "cell_type": "code",
   "execution_count": 16,
   "id": "f2daf4ed-f7ff-41f7-8e9a-e38067235cd5",
   "metadata": {},
   "outputs": [
    {
     "data": {
      "text/html": [
       "<table class=\"dataframe\">\n",
       "<caption>A tibble: 0 × 9</caption>\n",
       "<thead>\n",
       "\t<tr><th scope=col>Metric</th><th scope=col>Name</th><th scope=col>Data</th><th scope=col>HAWC_ID</th><th scope=col>Study</th><th scope=col>Replicate</th><th scope=col>Chemical_Class</th><th scope=col>DTXSID</th><th scope=col>Value</th></tr>\n",
       "\t<tr><th scope=col>&lt;chr&gt;</th><th scope=col>&lt;chr&gt;</th><th scope=col>&lt;chr&gt;</th><th scope=col>&lt;dbl&gt;</th><th scope=col>&lt;chr&gt;</th><th scope=col>&lt;dbl&gt;</th><th scope=col>&lt;chr&gt;</th><th scope=col>&lt;chr&gt;</th><th scope=col>&lt;chr&gt;</th></tr>\n",
       "</thead>\n",
       "<tbody>\n",
       "</tbody>\n",
       "</table>\n"
      ],
      "text/latex": [
       "A tibble: 0 × 9\n",
       "\\begin{tabular}{lllllllll}\n",
       " Metric & Name & Data & HAWC\\_ID & Study & Replicate & Chemical\\_Class & DTXSID & Value\\\\\n",
       " <chr> & <chr> & <chr> & <dbl> & <chr> & <dbl> & <chr> & <chr> & <chr>\\\\\n",
       "\\hline\n",
       "\\end{tabular}\n"
      ],
      "text/markdown": [
       "\n",
       "A tibble: 0 × 9\n",
       "\n",
       "| Metric &lt;chr&gt; | Name &lt;chr&gt; | Data &lt;chr&gt; | HAWC_ID &lt;dbl&gt; | Study &lt;chr&gt; | Replicate &lt;dbl&gt; | Chemical_Class &lt;chr&gt; | DTXSID &lt;chr&gt; | Value &lt;chr&gt; |\n",
       "|---|---|---|---|---|---|---|---|---|\n",
       "\n"
      ],
      "text/plain": [
       "     Metric Name Data HAWC_ID Study Replicate Chemical_Class DTXSID Value"
      ]
     },
     "metadata": {},
     "output_type": "display_data"
    }
   ],
   "source": [
    "head(weight_df %>%\n",
    "    filter(Value == 'ND'))"
   ]
  },
  {
   "cell_type": "markdown",
   "id": "c5c1d673-71d7-4cde-ba1f-3c8b41e73673",
   "metadata": {},
   "source": [
    "Only the weight dataframe has non-detect values, which will be imputed using QRILC. However, its MAR data that will be imputed using random forest (RF) will be removed entirely from the dataset."
   ]
  },
  {
   "cell_type": "code",
   "execution_count": 17,
   "id": "d435523e-a9be-47de-a079-3bd74d8f1b27",
   "metadata": {},
   "outputs": [
    {
     "name": "stderr",
     "output_type": "stream",
     "text": [
      "\u001b[1m\u001b[22mJoining with `by = join_by(Metric, Name, Data, HAWC_ID, Study, Replicate,\n",
      "Chemical_Class, DTXSID, Value)`\n"
     ]
    },
    {
     "data": {
      "text/html": [
       "<table class=\"dataframe\">\n",
       "<caption>A tibble: 6 × 9</caption>\n",
       "<thead>\n",
       "\t<tr><th scope=col>Data</th><th scope=col>Metric</th><th scope=col>HAWC_ID</th><th scope=col>Study</th><th scope=col>Replicate</th><th scope=col>Chemical_Class</th><th scope=col>DTXSID</th><th scope=col>Name</th><th scope=col>Value</th></tr>\n",
       "\t<tr><th scope=col>&lt;chr&gt;</th><th scope=col>&lt;chr&gt;</th><th scope=col>&lt;dbl&gt;</th><th scope=col>&lt;chr&gt;</th><th scope=col>&lt;dbl&gt;</th><th scope=col>&lt;chr&gt;</th><th scope=col>&lt;chr&gt;</th><th scope=col>&lt;chr&gt;</th><th scope=col>&lt;dbl&gt;</th></tr>\n",
       "</thead>\n",
       "<tbody>\n",
       "\t<tr><td>WS</td><td>Weight</td><td> 821855</td><td>Erlandsson et al. 2020</td><td>2</td><td>PAH  </td><td>DTXSID2060383</td><td>2,3-Dimethylnaphthalene</td><td>  0.05</td></tr>\n",
       "\t<tr><td>WS</td><td>Weight</td><td> 821855</td><td>Erlandsson et al. 2020</td><td>2</td><td>PAH  </td><td>DTXSID8074819</td><td>2-Methylchrysene       </td><td> 12.10</td></tr>\n",
       "\t<tr><td>WS</td><td>Weight</td><td> 267105</td><td>Danielsen et al. 2011 </td><td>2</td><td>PAH  </td><td>DTXSID4020878</td><td>2-Methylphenanthrene   </td><td> 37.00</td></tr>\n",
       "\t<tr><td>WS</td><td>Weight</td><td> 821855</td><td>Erlandsson et al. 2020</td><td>2</td><td>PAH  </td><td>DTXSID4020878</td><td>2-Methylphenanthrene   </td><td>  1.20</td></tr>\n",
       "\t<tr><td>WS</td><td>Weight</td><td>1040882</td><td>Nordin et al. 2015    </td><td>2</td><td>Metal</td><td>B            </td><td>B                      </td><td>268.00</td></tr>\n",
       "\t<tr><td>WS</td><td>Weight</td><td> 267127</td><td>Bølling et al. 2012   </td><td>2</td><td>PAH  </td><td>DTXSID4075459</td><td>Benzo(c)phenanthrene   </td><td> 32.00</td></tr>\n",
       "</tbody>\n",
       "</table>\n"
      ],
      "text/latex": [
       "A tibble: 6 × 9\n",
       "\\begin{tabular}{lllllllll}\n",
       " Data & Metric & HAWC\\_ID & Study & Replicate & Chemical\\_Class & DTXSID & Name & Value\\\\\n",
       " <chr> & <chr> & <dbl> & <chr> & <dbl> & <chr> & <chr> & <chr> & <dbl>\\\\\n",
       "\\hline\n",
       "\t WS & Weight &  821855 & Erlandsson et al. 2020 & 2 & PAH   & DTXSID2060383 & 2,3-Dimethylnaphthalene &   0.05\\\\\n",
       "\t WS & Weight &  821855 & Erlandsson et al. 2020 & 2 & PAH   & DTXSID8074819 & 2-Methylchrysene        &  12.10\\\\\n",
       "\t WS & Weight &  267105 & Danielsen et al. 2011  & 2 & PAH   & DTXSID4020878 & 2-Methylphenanthrene    &  37.00\\\\\n",
       "\t WS & Weight &  821855 & Erlandsson et al. 2020 & 2 & PAH   & DTXSID4020878 & 2-Methylphenanthrene    &   1.20\\\\\n",
       "\t WS & Weight & 1040882 & Nordin et al. 2015     & 2 & Metal & B             & B                       & 268.00\\\\\n",
       "\t WS & Weight &  267127 & Bølling et al. 2012    & 2 & PAH   & DTXSID4075459 & Benzo(c)phenanthrene    &  32.00\\\\\n",
       "\\end{tabular}\n"
      ],
      "text/markdown": [
       "\n",
       "A tibble: 6 × 9\n",
       "\n",
       "| Data &lt;chr&gt; | Metric &lt;chr&gt; | HAWC_ID &lt;dbl&gt; | Study &lt;chr&gt; | Replicate &lt;dbl&gt; | Chemical_Class &lt;chr&gt; | DTXSID &lt;chr&gt; | Name &lt;chr&gt; | Value &lt;dbl&gt; |\n",
       "|---|---|---|---|---|---|---|---|---|\n",
       "| WS | Weight |  821855 | Erlandsson et al. 2020 | 2 | PAH   | DTXSID2060383 | 2,3-Dimethylnaphthalene |   0.05 |\n",
       "| WS | Weight |  821855 | Erlandsson et al. 2020 | 2 | PAH   | DTXSID8074819 | 2-Methylchrysene        |  12.10 |\n",
       "| WS | Weight |  267105 | Danielsen et al. 2011  | 2 | PAH   | DTXSID4020878 | 2-Methylphenanthrene    |  37.00 |\n",
       "| WS | Weight |  821855 | Erlandsson et al. 2020 | 2 | PAH   | DTXSID4020878 | 2-Methylphenanthrene    |   1.20 |\n",
       "| WS | Weight | 1040882 | Nordin et al. 2015     | 2 | Metal | B             | B                       | 268.00 |\n",
       "| WS | Weight |  267127 | Bølling et al. 2012    | 2 | PAH   | DTXSID4075459 | Benzo(c)phenanthrene    |  32.00 |\n",
       "\n"
      ],
      "text/plain": [
       "  Data Metric HAWC_ID Study                  Replicate Chemical_Class\n",
       "1 WS   Weight  821855 Erlandsson et al. 2020 2         PAH           \n",
       "2 WS   Weight  821855 Erlandsson et al. 2020 2         PAH           \n",
       "3 WS   Weight  267105 Danielsen et al. 2011  2         PAH           \n",
       "4 WS   Weight  821855 Erlandsson et al. 2020 2         PAH           \n",
       "5 WS   Weight 1040882 Nordin et al. 2015     2         Metal         \n",
       "6 WS   Weight  267127 Bølling et al. 2012    2         PAH           \n",
       "  DTXSID        Name                    Value \n",
       "1 DTXSID2060383 2,3-Dimethylnaphthalene   0.05\n",
       "2 DTXSID8074819 2-Methylchrysene         12.10\n",
       "3 DTXSID4020878 2-Methylphenanthrene     37.00\n",
       "4 DTXSID4020878 2-Methylphenanthrene      1.20\n",
       "5 B             B                       268.00\n",
       "6 DTXSID4075459 Benzo(c)phenanthrene     32.00"
      ]
     },
     "metadata": {},
     "output_type": "display_data"
    }
   ],
   "source": [
    "mar_weight_df = weight_df %>%\n",
    "    filter(Value == 'NA')\n",
    "\n",
    "preimputed_df = anti_join(weight_df, mar_weight_df) #%>%\n",
    "    # creating a sample id col\n",
    "    #unite(Sample_ID, HAWC_ID, Name, Replicate, sep = '_', remove = FALSE)\n",
    "preimputed_df$Value = as.numeric(preimputed_df$Value)\n",
    "\n",
    "# reordering\n",
    "preimputed_df = preimputed_df[,c(3,1,4:8,2,9)]\n",
    "\n",
    "head(preimputed_df)"
   ]
  },
  {
   "cell_type": "code",
   "execution_count": 18,
   "id": "d4615457-fd8c-4647-9de2-ee46a5c2e870",
   "metadata": {},
   "outputs": [
    {
     "data": {
      "text/html": [
       "<table class=\"dataframe\">\n",
       "<caption>A tibble: 1 × 9</caption>\n",
       "<thead>\n",
       "\t<tr><th scope=col>Data</th><th scope=col>Metric</th><th scope=col>HAWC_ID</th><th scope=col>Study</th><th scope=col>Replicate</th><th scope=col>Chemical_Class</th><th scope=col>DTXSID</th><th scope=col>Name</th><th scope=col>Value</th></tr>\n",
       "\t<tr><th scope=col>&lt;chr&gt;</th><th scope=col>&lt;chr&gt;</th><th scope=col>&lt;dbl&gt;</th><th scope=col>&lt;chr&gt;</th><th scope=col>&lt;dbl&gt;</th><th scope=col>&lt;chr&gt;</th><th scope=col>&lt;chr&gt;</th><th scope=col>&lt;chr&gt;</th><th scope=col>&lt;dbl&gt;</th></tr>\n",
       "</thead>\n",
       "<tbody>\n",
       "\t<tr><td>WS</td><td>Weight</td><td>1098462</td><td>Niu et al. 2023</td><td>2</td><td>PAH</td><td>DTXSID3024104</td><td>Fluoranthene</td><td>0.18</td></tr>\n",
       "</tbody>\n",
       "</table>\n"
      ],
      "text/latex": [
       "A tibble: 1 × 9\n",
       "\\begin{tabular}{lllllllll}\n",
       " Data & Metric & HAWC\\_ID & Study & Replicate & Chemical\\_Class & DTXSID & Name & Value\\\\\n",
       " <chr> & <chr> & <dbl> & <chr> & <dbl> & <chr> & <chr> & <chr> & <dbl>\\\\\n",
       "\\hline\n",
       "\t WS & Weight & 1098462 & Niu et al. 2023 & 2 & PAH & DTXSID3024104 & Fluoranthene & 0.18\\\\\n",
       "\\end{tabular}\n"
      ],
      "text/markdown": [
       "\n",
       "A tibble: 1 × 9\n",
       "\n",
       "| Data &lt;chr&gt; | Metric &lt;chr&gt; | HAWC_ID &lt;dbl&gt; | Study &lt;chr&gt; | Replicate &lt;dbl&gt; | Chemical_Class &lt;chr&gt; | DTXSID &lt;chr&gt; | Name &lt;chr&gt; | Value &lt;dbl&gt; |\n",
       "|---|---|---|---|---|---|---|---|---|\n",
       "| WS | Weight | 1098462 | Niu et al. 2023 | 2 | PAH | DTXSID3024104 | Fluoranthene | 0.18 |\n",
       "\n"
      ],
      "text/plain": [
       "  Data Metric HAWC_ID Study           Replicate Chemical_Class DTXSID       \n",
       "1 WS   Weight 1098462 Niu et al. 2023 2         PAH            DTXSID3024104\n",
       "  Name         Value\n",
       "1 Fluoranthene 0.18 "
      ]
     },
     "metadata": {},
     "output_type": "display_data"
    }
   ],
   "source": [
    "test = preimputed_df %>%\n",
    "    filter(Name == 'Fluoranthene', HAWC_ID == '1098462')\n",
    "test"
   ]
  },
  {
   "cell_type": "code",
   "execution_count": 19,
   "id": "e2b0fcd0-2348-45d8-a6ae-8bc6980e4471",
   "metadata": {},
   "outputs": [],
   "source": [
    "QRILC_imputation = function(dataset){\n",
    "      # \"\"\"\n",
    "    # Creating a quantile normalization function to normalize each sample.\n",
    "    # :param (input): exposed and unexposed (vehicle) dfs\n",
    "    # :output: 1 quantile normalized df\n",
    "    # \"\"\"\n",
    "    #ADD WORDS\n",
    "    wider_dataset = dataset %>%\n",
    "        # removing this column for now since it's giving me issues\n",
    "        #select(-Category) %>%\n",
    "        pivot_wider(names_from = Name, values_from = Value)\n",
    "    \n",
    "    index_of_last_variable = length(colnames(wider_dataset))\n",
    "\n",
    "    # normalizing data since that what the QRILC function wants\n",
    "    # had to pseudo log transform to prevent Inf values\n",
    "    QRILC_prep = wider_dataset[,8:dim(wider_dataset)[2]] %>%\n",
    "         mutate_all(., function(x) log10(x + 1)) %>%\n",
    "         as.matrix()\n",
    "                    \n",
    "    imputed_QRILC_object = impute.QRILC(QRILC_prep, tune.sigma = sd(dataset$Value, na.rm = TRUE) + 0.1)\n",
    "    QRILC_log10_df = data.frame(imputed_QRILC_object[1]) \n",
    "    \n",
    "    # converting back the original scale\n",
    "    QRILC_df = QRILC_log10_df %>%\n",
    "        mutate_all(., function(x) 10^x - 1)\n",
    "     \n",
    "    imputed_dataset = data.frame(cbind(unique(dataset[,1:8]), QRILC_df)) %>%\n",
    "         pivot_longer(cols = 9:dim(wider_dataset)[2], names_to = \"Variable\", values_to = \"Value\")\n",
    "    \n",
    "    return(imputed_dataset)\n",
    "}"
   ]
  },
  {
   "cell_type": "code",
   "execution_count": 20,
   "id": "0587affe-6715-42e1-b21a-557ae98edae1",
   "metadata": {},
   "outputs": [
    {
     "ename": "ERROR",
     "evalue": "Error in checkSymmetricPositiveDefinite(sigma): sigma all diagonal elements must be positive\n",
     "output_type": "error",
     "traceback": [
      "Error in checkSymmetricPositiveDefinite(sigma): sigma all diagonal elements must be positive\nTraceback:\n",
      "1. QRILC_imputation(filtered_preimputed_df)",
      "2. impute.QRILC(QRILC_prep, tune.sigma = sd(dataset$Value, na.rm = TRUE) + \n .     0.1)   # at line 21 of file <text>",
      "3. rtmvnorm(n = nFeatures, mean = mean.CDD, sigma = sd.CDD * tune.sigma, \n .     upper = qnorm((pNAs + 0.001), mean = mean.CDD, sd = sd.CDD), \n .     algorithm = c(\"gibbs\"))",
      "4. checkTmvArgs(mean, sigma, lower, upper)",
      "5. checkSymmetricPositiveDefinite(sigma)",
      "6. stop(sprintf(\"%s all diagonal elements must be positive\", name))"
     ]
    }
   ],
   "source": [
    "# imputing within each study\n",
    "study_id = unique(preimputed_df$HAWC_ID)\n",
    "\n",
    "imputed_df = data.frame()\n",
    "for (i in 1:length(study_id)){\n",
    "    filtered_preimputed_df = preimputed_df %>%\n",
    "        filter(HAWC_ID == study_id[i])\n",
    "    if(i ==1){\n",
    "    idk = QRILC_imputation(filtered_preimputed_df)\n",
    "    print(idk)\n",
    "\n",
    "    imputed_df = rbind(imputed_df, filtered_preimputed_df)\n",
    "        }\n",
    "}\n",
    "# calling fn\n",
    "#imputed_df = QRILC_imputation(test)\n",
    "\n",
    "head(imputed_df)"
   ]
  },
  {
   "cell_type": "code",
   "execution_count": 22,
   "id": "e2dbcd7f-0ba2-420b-af9b-9c9b30378c54",
   "metadata": {},
   "outputs": [
    {
     "data": {
      "text/html": [
       "<table class=\"dataframe\">\n",
       "<caption>A tibble: 58 × 9</caption>\n",
       "<thead>\n",
       "\t<tr><th scope=col>Data</th><th scope=col>Metric</th><th scope=col>HAWC_ID</th><th scope=col>Study</th><th scope=col>Replicate</th><th scope=col>Chemical_Class</th><th scope=col>DTXSID</th><th scope=col>Name</th><th scope=col>Value</th></tr>\n",
       "\t<tr><th scope=col>&lt;chr&gt;</th><th scope=col>&lt;chr&gt;</th><th scope=col>&lt;dbl&gt;</th><th scope=col>&lt;chr&gt;</th><th scope=col>&lt;dbl&gt;</th><th scope=col>&lt;chr&gt;</th><th scope=col>&lt;chr&gt;</th><th scope=col>&lt;chr&gt;</th><th scope=col>&lt;dbl&gt;</th></tr>\n",
       "</thead>\n",
       "<tbody>\n",
       "\t<tr><td>WS</td><td>Weight</td><td>271638</td><td>Jalava et al. 2012</td><td>2</td><td>PAH  </td><td>DTXSID4075459</td><td>Benzo(c)phenanthrene</td><td>    48.5</td></tr>\n",
       "\t<tr><td>WS</td><td>Weight</td><td>271638</td><td>Jalava et al. 2012</td><td>3</td><td>PAH  </td><td>DTXSID4075459</td><td>Benzo(c)phenanthrene</td><td>   942.0</td></tr>\n",
       "\t<tr><td>WS</td><td>Weight</td><td>271638</td><td>Jalava et al. 2012</td><td>4</td><td>PAH  </td><td>DTXSID4075459</td><td>Benzo(c)phenanthrene</td><td>    93.4</td></tr>\n",
       "\t<tr><td>WS</td><td>Weight</td><td>271638</td><td>Jalava et al. 2012</td><td>5</td><td>PAH  </td><td>DTXSID4075459</td><td>Benzo(c)phenanthrene</td><td>    34.4</td></tr>\n",
       "\t<tr><td>WS</td><td>Weight</td><td>271638</td><td>Jalava et al. 2012</td><td>6</td><td>PAH  </td><td>DTXSID4075459</td><td>Benzo(c)phenanthrene</td><td>     6.4</td></tr>\n",
       "\t<tr><td>WS</td><td>Weight</td><td>271638</td><td>Jalava et al. 2012</td><td>7</td><td>PAH  </td><td>DTXSID4075459</td><td>Benzo(c)phenanthrene</td><td>    29.4</td></tr>\n",
       "\t<tr><td>WS</td><td>Weight</td><td>271638</td><td>Jalava et al. 2012</td><td>2</td><td>Metal</td><td>K            </td><td>K                   </td><td>242000.0</td></tr>\n",
       "\t<tr><td>WS</td><td>Weight</td><td>271638</td><td>Jalava et al. 2012</td><td>3</td><td>Metal</td><td>K            </td><td>K                   </td><td> 25500.0</td></tr>\n",
       "\t<tr><td>WS</td><td>Weight</td><td>271638</td><td>Jalava et al. 2012</td><td>4</td><td>Metal</td><td>K            </td><td>K                   </td><td> 30700.0</td></tr>\n",
       "\t<tr><td>WS</td><td>Weight</td><td>271638</td><td>Jalava et al. 2012</td><td>5</td><td>Metal</td><td>K            </td><td>K                   </td><td>175000.0</td></tr>\n",
       "\t<tr><td>WS</td><td>Weight</td><td>271638</td><td>Jalava et al. 2012</td><td>6</td><td>Metal</td><td>K            </td><td>K                   </td><td>210000.0</td></tr>\n",
       "\t<tr><td>WS</td><td>Weight</td><td>271638</td><td>Jalava et al. 2012</td><td>7</td><td>Metal</td><td>K            </td><td>K                   </td><td>288000.0</td></tr>\n",
       "\t<tr><td>WS</td><td>Weight</td><td>271638</td><td>Jalava et al. 2012</td><td>2</td><td>Metal</td><td>Mg           </td><td>Mg                  </td><td>   403.0</td></tr>\n",
       "\t<tr><td>WS</td><td>Weight</td><td>271638</td><td>Jalava et al. 2012</td><td>3</td><td>Metal</td><td>Mg           </td><td>Mg                  </td><td>    67.0</td></tr>\n",
       "\t<tr><td>WS</td><td>Weight</td><td>271638</td><td>Jalava et al. 2012</td><td>4</td><td>Metal</td><td>Mg           </td><td>Mg                  </td><td>   162.0</td></tr>\n",
       "\t<tr><td>WS</td><td>Weight</td><td>271638</td><td>Jalava et al. 2012</td><td>5</td><td>Metal</td><td>Mg           </td><td>Mg                  </td><td>   358.0</td></tr>\n",
       "\t<tr><td>WS</td><td>Weight</td><td>271638</td><td>Jalava et al. 2012</td><td>6</td><td>Metal</td><td>Mg           </td><td>Mg                  </td><td>   694.0</td></tr>\n",
       "\t<tr><td>WS</td><td>Weight</td><td>271638</td><td>Jalava et al. 2012</td><td>7</td><td>Metal</td><td>Mg           </td><td>Mg                  </td><td>   616.0</td></tr>\n",
       "\t<tr><td>WS</td><td>Weight</td><td>271638</td><td>Jalava et al. 2012</td><td>2</td><td>Metal</td><td>Zn           </td><td>Zn                  </td><td>  1520.0</td></tr>\n",
       "\t<tr><td>WS</td><td>Weight</td><td>271638</td><td>Jalava et al. 2012</td><td>3</td><td>Metal</td><td>Zn           </td><td>Zn                  </td><td>   482.0</td></tr>\n",
       "\t<tr><td>WS</td><td>Weight</td><td>271638</td><td>Jalava et al. 2012</td><td>4</td><td>Metal</td><td>Zn           </td><td>Zn                  </td><td>   588.0</td></tr>\n",
       "\t<tr><td>WS</td><td>Weight</td><td>271638</td><td>Jalava et al. 2012</td><td>5</td><td>Metal</td><td>Zn           </td><td>Zn                  </td><td>  3230.0</td></tr>\n",
       "\t<tr><td>WS</td><td>Weight</td><td>271638</td><td>Jalava et al. 2012</td><td>6</td><td>Metal</td><td>Zn           </td><td>Zn                  </td><td>  4450.0</td></tr>\n",
       "\t<tr><td>WS</td><td>Weight</td><td>271638</td><td>Jalava et al. 2012</td><td>7</td><td>Metal</td><td>Zn           </td><td>Zn                  </td><td> 25900.0</td></tr>\n",
       "\t<tr><td>WS</td><td>Weight</td><td>271638</td><td>Jalava et al. 2012</td><td>2</td><td>PAH  </td><td>DTXSID3024104</td><td>Fluoranthene        </td><td>   556.9</td></tr>\n",
       "\t<tr><td>WS</td><td>Weight</td><td>271638</td><td>Jalava et al. 2012</td><td>3</td><td>PAH  </td><td>DTXSID3024104</td><td>Fluoranthene        </td><td>  8128.0</td></tr>\n",
       "\t<tr><td>WS</td><td>Weight</td><td>271638</td><td>Jalava et al. 2012</td><td>4</td><td>PAH  </td><td>DTXSID3024104</td><td>Fluoranthene        </td><td>   949.2</td></tr>\n",
       "\t<tr><td>WS</td><td>Weight</td><td>271638</td><td>Jalava et al. 2012</td><td>5</td><td>PAH  </td><td>DTXSID3024104</td><td>Fluoranthene        </td><td>   408.1</td></tr>\n",
       "\t<tr><td>WS</td><td>Weight</td><td>271638</td><td>Jalava et al. 2012</td><td>6</td><td>PAH  </td><td>DTXSID3024104</td><td>Fluoranthene        </td><td>    52.9</td></tr>\n",
       "\t<tr><td>WS</td><td>Weight</td><td>271638</td><td>Jalava et al. 2012</td><td>7</td><td>PAH  </td><td>DTXSID3024104</td><td>Fluoranthene        </td><td>   284.5</td></tr>\n",
       "\t<tr><td>WS</td><td>Weight</td><td>271638</td><td>Jalava et al. 2012</td><td>2</td><td>PAH  </td><td>DTXSID6024254</td><td>Phenanthrene        </td><td>   698.2</td></tr>\n",
       "\t<tr><td>WS</td><td>Weight</td><td>271638</td><td>Jalava et al. 2012</td><td>3</td><td>PAH  </td><td>DTXSID6024254</td><td>Phenanthrene        </td><td> 12030.0</td></tr>\n",
       "\t<tr><td>WS</td><td>Weight</td><td>271638</td><td>Jalava et al. 2012</td><td>4</td><td>PAH  </td><td>DTXSID6024254</td><td>Phenanthrene        </td><td>   422.6</td></tr>\n",
       "\t<tr><td>WS</td><td>Weight</td><td>271638</td><td>Jalava et al. 2012</td><td>5</td><td>PAH  </td><td>DTXSID6024254</td><td>Phenanthrene        </td><td>   320.6</td></tr>\n",
       "\t<tr><td>WS</td><td>Weight</td><td>271638</td><td>Jalava et al. 2012</td><td>6</td><td>PAH  </td><td>DTXSID6024254</td><td>Phenanthrene        </td><td>    10.4</td></tr>\n",
       "\t<tr><td>WS</td><td>Weight</td><td>271638</td><td>Jalava et al. 2012</td><td>7</td><td>PAH  </td><td>DTXSID6024254</td><td>Phenanthrene        </td><td>    43.8</td></tr>\n",
       "\t<tr><td>WS</td><td>Weight</td><td>271638</td><td>Jalava et al. 2012</td><td>2</td><td>Metal</td><td>Mn           </td><td>Mn                  </td><td>   134.0</td></tr>\n",
       "\t<tr><td>WS</td><td>Weight</td><td>271638</td><td>Jalava et al. 2012</td><td>3</td><td>Metal</td><td>Mn           </td><td>Mn                  </td><td>    30.0</td></tr>\n",
       "\t<tr><td>WS</td><td>Weight</td><td>271638</td><td>Jalava et al. 2012</td><td>4</td><td>Metal</td><td>Mn           </td><td>Mn                  </td><td>    30.0</td></tr>\n",
       "\t<tr><td>WS</td><td>Weight</td><td>271638</td><td>Jalava et al. 2012</td><td>5</td><td>Metal</td><td>Mn           </td><td>Mn                  </td><td>    73.0</td></tr>\n",
       "\t<tr><td>WS</td><td>Weight</td><td>271638</td><td>Jalava et al. 2012</td><td>6</td><td>Metal</td><td>Mn           </td><td>Mn                  </td><td>   829.0</td></tr>\n",
       "\t<tr><td>WS</td><td>Weight</td><td>271638</td><td>Jalava et al. 2012</td><td>7</td><td>Metal</td><td>Mn           </td><td>Mn                  </td><td>  1830.0</td></tr>\n",
       "\t<tr><td>WS</td><td>Weight</td><td>271638</td><td>Jalava et al. 2012</td><td>2</td><td>Metal</td><td>Ca           </td><td>Ca                  </td><td>  1780.0</td></tr>\n",
       "\t<tr><td>WS</td><td>Weight</td><td>271638</td><td>Jalava et al. 2012</td><td>3</td><td>Metal</td><td>Ca           </td><td>Ca                  </td><td>   784.0</td></tr>\n",
       "\t<tr><td>WS</td><td>Weight</td><td>271638</td><td>Jalava et al. 2012</td><td>4</td><td>Metal</td><td>Ca           </td><td>Ca                  </td><td>  1640.0</td></tr>\n",
       "\t<tr><td>WS</td><td>Weight</td><td>271638</td><td>Jalava et al. 2012</td><td>5</td><td>Metal</td><td>Ca           </td><td>Ca                  </td><td>  2240.0</td></tr>\n",
       "\t<tr><td>WS</td><td>Weight</td><td>271638</td><td>Jalava et al. 2012</td><td>6</td><td>Metal</td><td>Ca           </td><td>Ca                  </td><td>  3000.0</td></tr>\n",
       "\t<tr><td>WS</td><td>Weight</td><td>271638</td><td>Jalava et al. 2012</td><td>7</td><td>Metal</td><td>Ca           </td><td>Ca                  </td><td>  4130.0</td></tr>\n",
       "\t<tr><td>WS</td><td>Weight</td><td>271638</td><td>Jalava et al. 2012</td><td>2</td><td>PAH  </td><td>DTXSID3021774</td><td>Acenaphthene        </td><td>     2.9</td></tr>\n",
       "\t<tr><td>WS</td><td>Weight</td><td>271638</td><td>Jalava et al. 2012</td><td>3</td><td>PAH  </td><td>DTXSID3021774</td><td>Acenaphthene        </td><td>    51.3</td></tr>\n",
       "\t<tr><td>WS</td><td>Weight</td><td>271638</td><td>Jalava et al. 2012</td><td>5</td><td>PAH  </td><td>DTXSID3021774</td><td>Acenaphthene        </td><td>     0.8</td></tr>\n",
       "\t<tr><td>WS</td><td>Weight</td><td>271638</td><td>Jalava et al. 2012</td><td>4</td><td>Metal</td><td>Si           </td><td>Si                  </td><td> 14700.0</td></tr>\n",
       "\t<tr><td>WS</td><td>Weight</td><td>271638</td><td>Jalava et al. 2012</td><td>2</td><td>PAH  </td><td>DTXSID9059757</td><td>Triphenylene        </td><td>    17.4</td></tr>\n",
       "\t<tr><td>WS</td><td>Weight</td><td>271638</td><td>Jalava et al. 2012</td><td>3</td><td>PAH  </td><td>DTXSID9059757</td><td>Triphenylene        </td><td>   306.1</td></tr>\n",
       "\t<tr><td>WS</td><td>Weight</td><td>271638</td><td>Jalava et al. 2012</td><td>4</td><td>PAH  </td><td>DTXSID9059757</td><td>Triphenylene        </td><td>    46.0</td></tr>\n",
       "\t<tr><td>WS</td><td>Weight</td><td>271638</td><td>Jalava et al. 2012</td><td>5</td><td>PAH  </td><td>DTXSID9059757</td><td>Triphenylene        </td><td>    14.6</td></tr>\n",
       "\t<tr><td>WS</td><td>Weight</td><td>271638</td><td>Jalava et al. 2012</td><td>6</td><td>PAH  </td><td>DTXSID9059757</td><td>Triphenylene        </td><td>     3.8</td></tr>\n",
       "\t<tr><td>WS</td><td>Weight</td><td>271638</td><td>Jalava et al. 2012</td><td>7</td><td>PAH  </td><td>DTXSID9059757</td><td>Triphenylene        </td><td>     9.0</td></tr>\n",
       "</tbody>\n",
       "</table>\n"
      ],
      "text/latex": [
       "A tibble: 58 × 9\n",
       "\\begin{tabular}{lllllllll}\n",
       " Data & Metric & HAWC\\_ID & Study & Replicate & Chemical\\_Class & DTXSID & Name & Value\\\\\n",
       " <chr> & <chr> & <dbl> & <chr> & <dbl> & <chr> & <chr> & <chr> & <dbl>\\\\\n",
       "\\hline\n",
       "\t WS & Weight & 271638 & Jalava et al. 2012 & 2 & PAH   & DTXSID4075459 & Benzo(c)phenanthrene &     48.5\\\\\n",
       "\t WS & Weight & 271638 & Jalava et al. 2012 & 3 & PAH   & DTXSID4075459 & Benzo(c)phenanthrene &    942.0\\\\\n",
       "\t WS & Weight & 271638 & Jalava et al. 2012 & 4 & PAH   & DTXSID4075459 & Benzo(c)phenanthrene &     93.4\\\\\n",
       "\t WS & Weight & 271638 & Jalava et al. 2012 & 5 & PAH   & DTXSID4075459 & Benzo(c)phenanthrene &     34.4\\\\\n",
       "\t WS & Weight & 271638 & Jalava et al. 2012 & 6 & PAH   & DTXSID4075459 & Benzo(c)phenanthrene &      6.4\\\\\n",
       "\t WS & Weight & 271638 & Jalava et al. 2012 & 7 & PAH   & DTXSID4075459 & Benzo(c)phenanthrene &     29.4\\\\\n",
       "\t WS & Weight & 271638 & Jalava et al. 2012 & 2 & Metal & K             & K                    & 242000.0\\\\\n",
       "\t WS & Weight & 271638 & Jalava et al. 2012 & 3 & Metal & K             & K                    &  25500.0\\\\\n",
       "\t WS & Weight & 271638 & Jalava et al. 2012 & 4 & Metal & K             & K                    &  30700.0\\\\\n",
       "\t WS & Weight & 271638 & Jalava et al. 2012 & 5 & Metal & K             & K                    & 175000.0\\\\\n",
       "\t WS & Weight & 271638 & Jalava et al. 2012 & 6 & Metal & K             & K                    & 210000.0\\\\\n",
       "\t WS & Weight & 271638 & Jalava et al. 2012 & 7 & Metal & K             & K                    & 288000.0\\\\\n",
       "\t WS & Weight & 271638 & Jalava et al. 2012 & 2 & Metal & Mg            & Mg                   &    403.0\\\\\n",
       "\t WS & Weight & 271638 & Jalava et al. 2012 & 3 & Metal & Mg            & Mg                   &     67.0\\\\\n",
       "\t WS & Weight & 271638 & Jalava et al. 2012 & 4 & Metal & Mg            & Mg                   &    162.0\\\\\n",
       "\t WS & Weight & 271638 & Jalava et al. 2012 & 5 & Metal & Mg            & Mg                   &    358.0\\\\\n",
       "\t WS & Weight & 271638 & Jalava et al. 2012 & 6 & Metal & Mg            & Mg                   &    694.0\\\\\n",
       "\t WS & Weight & 271638 & Jalava et al. 2012 & 7 & Metal & Mg            & Mg                   &    616.0\\\\\n",
       "\t WS & Weight & 271638 & Jalava et al. 2012 & 2 & Metal & Zn            & Zn                   &   1520.0\\\\\n",
       "\t WS & Weight & 271638 & Jalava et al. 2012 & 3 & Metal & Zn            & Zn                   &    482.0\\\\\n",
       "\t WS & Weight & 271638 & Jalava et al. 2012 & 4 & Metal & Zn            & Zn                   &    588.0\\\\\n",
       "\t WS & Weight & 271638 & Jalava et al. 2012 & 5 & Metal & Zn            & Zn                   &   3230.0\\\\\n",
       "\t WS & Weight & 271638 & Jalava et al. 2012 & 6 & Metal & Zn            & Zn                   &   4450.0\\\\\n",
       "\t WS & Weight & 271638 & Jalava et al. 2012 & 7 & Metal & Zn            & Zn                   &  25900.0\\\\\n",
       "\t WS & Weight & 271638 & Jalava et al. 2012 & 2 & PAH   & DTXSID3024104 & Fluoranthene         &    556.9\\\\\n",
       "\t WS & Weight & 271638 & Jalava et al. 2012 & 3 & PAH   & DTXSID3024104 & Fluoranthene         &   8128.0\\\\\n",
       "\t WS & Weight & 271638 & Jalava et al. 2012 & 4 & PAH   & DTXSID3024104 & Fluoranthene         &    949.2\\\\\n",
       "\t WS & Weight & 271638 & Jalava et al. 2012 & 5 & PAH   & DTXSID3024104 & Fluoranthene         &    408.1\\\\\n",
       "\t WS & Weight & 271638 & Jalava et al. 2012 & 6 & PAH   & DTXSID3024104 & Fluoranthene         &     52.9\\\\\n",
       "\t WS & Weight & 271638 & Jalava et al. 2012 & 7 & PAH   & DTXSID3024104 & Fluoranthene         &    284.5\\\\\n",
       "\t WS & Weight & 271638 & Jalava et al. 2012 & 2 & PAH   & DTXSID6024254 & Phenanthrene         &    698.2\\\\\n",
       "\t WS & Weight & 271638 & Jalava et al. 2012 & 3 & PAH   & DTXSID6024254 & Phenanthrene         &  12030.0\\\\\n",
       "\t WS & Weight & 271638 & Jalava et al. 2012 & 4 & PAH   & DTXSID6024254 & Phenanthrene         &    422.6\\\\\n",
       "\t WS & Weight & 271638 & Jalava et al. 2012 & 5 & PAH   & DTXSID6024254 & Phenanthrene         &    320.6\\\\\n",
       "\t WS & Weight & 271638 & Jalava et al. 2012 & 6 & PAH   & DTXSID6024254 & Phenanthrene         &     10.4\\\\\n",
       "\t WS & Weight & 271638 & Jalava et al. 2012 & 7 & PAH   & DTXSID6024254 & Phenanthrene         &     43.8\\\\\n",
       "\t WS & Weight & 271638 & Jalava et al. 2012 & 2 & Metal & Mn            & Mn                   &    134.0\\\\\n",
       "\t WS & Weight & 271638 & Jalava et al. 2012 & 3 & Metal & Mn            & Mn                   &     30.0\\\\\n",
       "\t WS & Weight & 271638 & Jalava et al. 2012 & 4 & Metal & Mn            & Mn                   &     30.0\\\\\n",
       "\t WS & Weight & 271638 & Jalava et al. 2012 & 5 & Metal & Mn            & Mn                   &     73.0\\\\\n",
       "\t WS & Weight & 271638 & Jalava et al. 2012 & 6 & Metal & Mn            & Mn                   &    829.0\\\\\n",
       "\t WS & Weight & 271638 & Jalava et al. 2012 & 7 & Metal & Mn            & Mn                   &   1830.0\\\\\n",
       "\t WS & Weight & 271638 & Jalava et al. 2012 & 2 & Metal & Ca            & Ca                   &   1780.0\\\\\n",
       "\t WS & Weight & 271638 & Jalava et al. 2012 & 3 & Metal & Ca            & Ca                   &    784.0\\\\\n",
       "\t WS & Weight & 271638 & Jalava et al. 2012 & 4 & Metal & Ca            & Ca                   &   1640.0\\\\\n",
       "\t WS & Weight & 271638 & Jalava et al. 2012 & 5 & Metal & Ca            & Ca                   &   2240.0\\\\\n",
       "\t WS & Weight & 271638 & Jalava et al. 2012 & 6 & Metal & Ca            & Ca                   &   3000.0\\\\\n",
       "\t WS & Weight & 271638 & Jalava et al. 2012 & 7 & Metal & Ca            & Ca                   &   4130.0\\\\\n",
       "\t WS & Weight & 271638 & Jalava et al. 2012 & 2 & PAH   & DTXSID3021774 & Acenaphthene         &      2.9\\\\\n",
       "\t WS & Weight & 271638 & Jalava et al. 2012 & 3 & PAH   & DTXSID3021774 & Acenaphthene         &     51.3\\\\\n",
       "\t WS & Weight & 271638 & Jalava et al. 2012 & 5 & PAH   & DTXSID3021774 & Acenaphthene         &      0.8\\\\\n",
       "\t WS & Weight & 271638 & Jalava et al. 2012 & 4 & Metal & Si            & Si                   &  14700.0\\\\\n",
       "\t WS & Weight & 271638 & Jalava et al. 2012 & 2 & PAH   & DTXSID9059757 & Triphenylene         &     17.4\\\\\n",
       "\t WS & Weight & 271638 & Jalava et al. 2012 & 3 & PAH   & DTXSID9059757 & Triphenylene         &    306.1\\\\\n",
       "\t WS & Weight & 271638 & Jalava et al. 2012 & 4 & PAH   & DTXSID9059757 & Triphenylene         &     46.0\\\\\n",
       "\t WS & Weight & 271638 & Jalava et al. 2012 & 5 & PAH   & DTXSID9059757 & Triphenylene         &     14.6\\\\\n",
       "\t WS & Weight & 271638 & Jalava et al. 2012 & 6 & PAH   & DTXSID9059757 & Triphenylene         &      3.8\\\\\n",
       "\t WS & Weight & 271638 & Jalava et al. 2012 & 7 & PAH   & DTXSID9059757 & Triphenylene         &      9.0\\\\\n",
       "\\end{tabular}\n"
      ],
      "text/markdown": [
       "\n",
       "A tibble: 58 × 9\n",
       "\n",
       "| Data &lt;chr&gt; | Metric &lt;chr&gt; | HAWC_ID &lt;dbl&gt; | Study &lt;chr&gt; | Replicate &lt;dbl&gt; | Chemical_Class &lt;chr&gt; | DTXSID &lt;chr&gt; | Name &lt;chr&gt; | Value &lt;dbl&gt; |\n",
       "|---|---|---|---|---|---|---|---|---|\n",
       "| WS | Weight | 271638 | Jalava et al. 2012 | 2 | PAH   | DTXSID4075459 | Benzo(c)phenanthrene |     48.5 |\n",
       "| WS | Weight | 271638 | Jalava et al. 2012 | 3 | PAH   | DTXSID4075459 | Benzo(c)phenanthrene |    942.0 |\n",
       "| WS | Weight | 271638 | Jalava et al. 2012 | 4 | PAH   | DTXSID4075459 | Benzo(c)phenanthrene |     93.4 |\n",
       "| WS | Weight | 271638 | Jalava et al. 2012 | 5 | PAH   | DTXSID4075459 | Benzo(c)phenanthrene |     34.4 |\n",
       "| WS | Weight | 271638 | Jalava et al. 2012 | 6 | PAH   | DTXSID4075459 | Benzo(c)phenanthrene |      6.4 |\n",
       "| WS | Weight | 271638 | Jalava et al. 2012 | 7 | PAH   | DTXSID4075459 | Benzo(c)phenanthrene |     29.4 |\n",
       "| WS | Weight | 271638 | Jalava et al. 2012 | 2 | Metal | K             | K                    | 242000.0 |\n",
       "| WS | Weight | 271638 | Jalava et al. 2012 | 3 | Metal | K             | K                    |  25500.0 |\n",
       "| WS | Weight | 271638 | Jalava et al. 2012 | 4 | Metal | K             | K                    |  30700.0 |\n",
       "| WS | Weight | 271638 | Jalava et al. 2012 | 5 | Metal | K             | K                    | 175000.0 |\n",
       "| WS | Weight | 271638 | Jalava et al. 2012 | 6 | Metal | K             | K                    | 210000.0 |\n",
       "| WS | Weight | 271638 | Jalava et al. 2012 | 7 | Metal | K             | K                    | 288000.0 |\n",
       "| WS | Weight | 271638 | Jalava et al. 2012 | 2 | Metal | Mg            | Mg                   |    403.0 |\n",
       "| WS | Weight | 271638 | Jalava et al. 2012 | 3 | Metal | Mg            | Mg                   |     67.0 |\n",
       "| WS | Weight | 271638 | Jalava et al. 2012 | 4 | Metal | Mg            | Mg                   |    162.0 |\n",
       "| WS | Weight | 271638 | Jalava et al. 2012 | 5 | Metal | Mg            | Mg                   |    358.0 |\n",
       "| WS | Weight | 271638 | Jalava et al. 2012 | 6 | Metal | Mg            | Mg                   |    694.0 |\n",
       "| WS | Weight | 271638 | Jalava et al. 2012 | 7 | Metal | Mg            | Mg                   |    616.0 |\n",
       "| WS | Weight | 271638 | Jalava et al. 2012 | 2 | Metal | Zn            | Zn                   |   1520.0 |\n",
       "| WS | Weight | 271638 | Jalava et al. 2012 | 3 | Metal | Zn            | Zn                   |    482.0 |\n",
       "| WS | Weight | 271638 | Jalava et al. 2012 | 4 | Metal | Zn            | Zn                   |    588.0 |\n",
       "| WS | Weight | 271638 | Jalava et al. 2012 | 5 | Metal | Zn            | Zn                   |   3230.0 |\n",
       "| WS | Weight | 271638 | Jalava et al. 2012 | 6 | Metal | Zn            | Zn                   |   4450.0 |\n",
       "| WS | Weight | 271638 | Jalava et al. 2012 | 7 | Metal | Zn            | Zn                   |  25900.0 |\n",
       "| WS | Weight | 271638 | Jalava et al. 2012 | 2 | PAH   | DTXSID3024104 | Fluoranthene         |    556.9 |\n",
       "| WS | Weight | 271638 | Jalava et al. 2012 | 3 | PAH   | DTXSID3024104 | Fluoranthene         |   8128.0 |\n",
       "| WS | Weight | 271638 | Jalava et al. 2012 | 4 | PAH   | DTXSID3024104 | Fluoranthene         |    949.2 |\n",
       "| WS | Weight | 271638 | Jalava et al. 2012 | 5 | PAH   | DTXSID3024104 | Fluoranthene         |    408.1 |\n",
       "| WS | Weight | 271638 | Jalava et al. 2012 | 6 | PAH   | DTXSID3024104 | Fluoranthene         |     52.9 |\n",
       "| WS | Weight | 271638 | Jalava et al. 2012 | 7 | PAH   | DTXSID3024104 | Fluoranthene         |    284.5 |\n",
       "| WS | Weight | 271638 | Jalava et al. 2012 | 2 | PAH   | DTXSID6024254 | Phenanthrene         |    698.2 |\n",
       "| WS | Weight | 271638 | Jalava et al. 2012 | 3 | PAH   | DTXSID6024254 | Phenanthrene         |  12030.0 |\n",
       "| WS | Weight | 271638 | Jalava et al. 2012 | 4 | PAH   | DTXSID6024254 | Phenanthrene         |    422.6 |\n",
       "| WS | Weight | 271638 | Jalava et al. 2012 | 5 | PAH   | DTXSID6024254 | Phenanthrene         |    320.6 |\n",
       "| WS | Weight | 271638 | Jalava et al. 2012 | 6 | PAH   | DTXSID6024254 | Phenanthrene         |     10.4 |\n",
       "| WS | Weight | 271638 | Jalava et al. 2012 | 7 | PAH   | DTXSID6024254 | Phenanthrene         |     43.8 |\n",
       "| WS | Weight | 271638 | Jalava et al. 2012 | 2 | Metal | Mn            | Mn                   |    134.0 |\n",
       "| WS | Weight | 271638 | Jalava et al. 2012 | 3 | Metal | Mn            | Mn                   |     30.0 |\n",
       "| WS | Weight | 271638 | Jalava et al. 2012 | 4 | Metal | Mn            | Mn                   |     30.0 |\n",
       "| WS | Weight | 271638 | Jalava et al. 2012 | 5 | Metal | Mn            | Mn                   |     73.0 |\n",
       "| WS | Weight | 271638 | Jalava et al. 2012 | 6 | Metal | Mn            | Mn                   |    829.0 |\n",
       "| WS | Weight | 271638 | Jalava et al. 2012 | 7 | Metal | Mn            | Mn                   |   1830.0 |\n",
       "| WS | Weight | 271638 | Jalava et al. 2012 | 2 | Metal | Ca            | Ca                   |   1780.0 |\n",
       "| WS | Weight | 271638 | Jalava et al. 2012 | 3 | Metal | Ca            | Ca                   |    784.0 |\n",
       "| WS | Weight | 271638 | Jalava et al. 2012 | 4 | Metal | Ca            | Ca                   |   1640.0 |\n",
       "| WS | Weight | 271638 | Jalava et al. 2012 | 5 | Metal | Ca            | Ca                   |   2240.0 |\n",
       "| WS | Weight | 271638 | Jalava et al. 2012 | 6 | Metal | Ca            | Ca                   |   3000.0 |\n",
       "| WS | Weight | 271638 | Jalava et al. 2012 | 7 | Metal | Ca            | Ca                   |   4130.0 |\n",
       "| WS | Weight | 271638 | Jalava et al. 2012 | 2 | PAH   | DTXSID3021774 | Acenaphthene         |      2.9 |\n",
       "| WS | Weight | 271638 | Jalava et al. 2012 | 3 | PAH   | DTXSID3021774 | Acenaphthene         |     51.3 |\n",
       "| WS | Weight | 271638 | Jalava et al. 2012 | 5 | PAH   | DTXSID3021774 | Acenaphthene         |      0.8 |\n",
       "| WS | Weight | 271638 | Jalava et al. 2012 | 4 | Metal | Si            | Si                   |  14700.0 |\n",
       "| WS | Weight | 271638 | Jalava et al. 2012 | 2 | PAH   | DTXSID9059757 | Triphenylene         |     17.4 |\n",
       "| WS | Weight | 271638 | Jalava et al. 2012 | 3 | PAH   | DTXSID9059757 | Triphenylene         |    306.1 |\n",
       "| WS | Weight | 271638 | Jalava et al. 2012 | 4 | PAH   | DTXSID9059757 | Triphenylene         |     46.0 |\n",
       "| WS | Weight | 271638 | Jalava et al. 2012 | 5 | PAH   | DTXSID9059757 | Triphenylene         |     14.6 |\n",
       "| WS | Weight | 271638 | Jalava et al. 2012 | 6 | PAH   | DTXSID9059757 | Triphenylene         |      3.8 |\n",
       "| WS | Weight | 271638 | Jalava et al. 2012 | 7 | PAH   | DTXSID9059757 | Triphenylene         |      9.0 |\n",
       "\n"
      ],
      "text/plain": [
       "   Data Metric HAWC_ID Study              Replicate Chemical_Class\n",
       "1  WS   Weight 271638  Jalava et al. 2012 2         PAH           \n",
       "2  WS   Weight 271638  Jalava et al. 2012 3         PAH           \n",
       "3  WS   Weight 271638  Jalava et al. 2012 4         PAH           \n",
       "4  WS   Weight 271638  Jalava et al. 2012 5         PAH           \n",
       "5  WS   Weight 271638  Jalava et al. 2012 6         PAH           \n",
       "6  WS   Weight 271638  Jalava et al. 2012 7         PAH           \n",
       "7  WS   Weight 271638  Jalava et al. 2012 2         Metal         \n",
       "8  WS   Weight 271638  Jalava et al. 2012 3         Metal         \n",
       "9  WS   Weight 271638  Jalava et al. 2012 4         Metal         \n",
       "10 WS   Weight 271638  Jalava et al. 2012 5         Metal         \n",
       "11 WS   Weight 271638  Jalava et al. 2012 6         Metal         \n",
       "12 WS   Weight 271638  Jalava et al. 2012 7         Metal         \n",
       "13 WS   Weight 271638  Jalava et al. 2012 2         Metal         \n",
       "14 WS   Weight 271638  Jalava et al. 2012 3         Metal         \n",
       "15 WS   Weight 271638  Jalava et al. 2012 4         Metal         \n",
       "16 WS   Weight 271638  Jalava et al. 2012 5         Metal         \n",
       "17 WS   Weight 271638  Jalava et al. 2012 6         Metal         \n",
       "18 WS   Weight 271638  Jalava et al. 2012 7         Metal         \n",
       "19 WS   Weight 271638  Jalava et al. 2012 2         Metal         \n",
       "20 WS   Weight 271638  Jalava et al. 2012 3         Metal         \n",
       "21 WS   Weight 271638  Jalava et al. 2012 4         Metal         \n",
       "22 WS   Weight 271638  Jalava et al. 2012 5         Metal         \n",
       "23 WS   Weight 271638  Jalava et al. 2012 6         Metal         \n",
       "24 WS   Weight 271638  Jalava et al. 2012 7         Metal         \n",
       "25 WS   Weight 271638  Jalava et al. 2012 2         PAH           \n",
       "26 WS   Weight 271638  Jalava et al. 2012 3         PAH           \n",
       "27 WS   Weight 271638  Jalava et al. 2012 4         PAH           \n",
       "28 WS   Weight 271638  Jalava et al. 2012 5         PAH           \n",
       "29 WS   Weight 271638  Jalava et al. 2012 6         PAH           \n",
       "30 WS   Weight 271638  Jalava et al. 2012 7         PAH           \n",
       "31 WS   Weight 271638  Jalava et al. 2012 2         PAH           \n",
       "32 WS   Weight 271638  Jalava et al. 2012 3         PAH           \n",
       "33 WS   Weight 271638  Jalava et al. 2012 4         PAH           \n",
       "34 WS   Weight 271638  Jalava et al. 2012 5         PAH           \n",
       "35 WS   Weight 271638  Jalava et al. 2012 6         PAH           \n",
       "36 WS   Weight 271638  Jalava et al. 2012 7         PAH           \n",
       "37 WS   Weight 271638  Jalava et al. 2012 2         Metal         \n",
       "38 WS   Weight 271638  Jalava et al. 2012 3         Metal         \n",
       "39 WS   Weight 271638  Jalava et al. 2012 4         Metal         \n",
       "40 WS   Weight 271638  Jalava et al. 2012 5         Metal         \n",
       "41 WS   Weight 271638  Jalava et al. 2012 6         Metal         \n",
       "42 WS   Weight 271638  Jalava et al. 2012 7         Metal         \n",
       "43 WS   Weight 271638  Jalava et al. 2012 2         Metal         \n",
       "44 WS   Weight 271638  Jalava et al. 2012 3         Metal         \n",
       "45 WS   Weight 271638  Jalava et al. 2012 4         Metal         \n",
       "46 WS   Weight 271638  Jalava et al. 2012 5         Metal         \n",
       "47 WS   Weight 271638  Jalava et al. 2012 6         Metal         \n",
       "48 WS   Weight 271638  Jalava et al. 2012 7         Metal         \n",
       "49 WS   Weight 271638  Jalava et al. 2012 2         PAH           \n",
       "50 WS   Weight 271638  Jalava et al. 2012 3         PAH           \n",
       "51 WS   Weight 271638  Jalava et al. 2012 5         PAH           \n",
       "52 WS   Weight 271638  Jalava et al. 2012 4         Metal         \n",
       "53 WS   Weight 271638  Jalava et al. 2012 2         PAH           \n",
       "54 WS   Weight 271638  Jalava et al. 2012 3         PAH           \n",
       "55 WS   Weight 271638  Jalava et al. 2012 4         PAH           \n",
       "56 WS   Weight 271638  Jalava et al. 2012 5         PAH           \n",
       "57 WS   Weight 271638  Jalava et al. 2012 6         PAH           \n",
       "58 WS   Weight 271638  Jalava et al. 2012 7         PAH           \n",
       "   DTXSID        Name                 Value   \n",
       "1  DTXSID4075459 Benzo(c)phenanthrene     48.5\n",
       "2  DTXSID4075459 Benzo(c)phenanthrene    942.0\n",
       "3  DTXSID4075459 Benzo(c)phenanthrene     93.4\n",
       "4  DTXSID4075459 Benzo(c)phenanthrene     34.4\n",
       "5  DTXSID4075459 Benzo(c)phenanthrene      6.4\n",
       "6  DTXSID4075459 Benzo(c)phenanthrene     29.4\n",
       "7  K             K                    242000.0\n",
       "8  K             K                     25500.0\n",
       "9  K             K                     30700.0\n",
       "10 K             K                    175000.0\n",
       "11 K             K                    210000.0\n",
       "12 K             K                    288000.0\n",
       "13 Mg            Mg                      403.0\n",
       "14 Mg            Mg                       67.0\n",
       "15 Mg            Mg                      162.0\n",
       "16 Mg            Mg                      358.0\n",
       "17 Mg            Mg                      694.0\n",
       "18 Mg            Mg                      616.0\n",
       "19 Zn            Zn                     1520.0\n",
       "20 Zn            Zn                      482.0\n",
       "21 Zn            Zn                      588.0\n",
       "22 Zn            Zn                     3230.0\n",
       "23 Zn            Zn                     4450.0\n",
       "24 Zn            Zn                    25900.0\n",
       "25 DTXSID3024104 Fluoranthene            556.9\n",
       "26 DTXSID3024104 Fluoranthene           8128.0\n",
       "27 DTXSID3024104 Fluoranthene            949.2\n",
       "28 DTXSID3024104 Fluoranthene            408.1\n",
       "29 DTXSID3024104 Fluoranthene             52.9\n",
       "30 DTXSID3024104 Fluoranthene            284.5\n",
       "31 DTXSID6024254 Phenanthrene            698.2\n",
       "32 DTXSID6024254 Phenanthrene          12030.0\n",
       "33 DTXSID6024254 Phenanthrene            422.6\n",
       "34 DTXSID6024254 Phenanthrene            320.6\n",
       "35 DTXSID6024254 Phenanthrene             10.4\n",
       "36 DTXSID6024254 Phenanthrene             43.8\n",
       "37 Mn            Mn                      134.0\n",
       "38 Mn            Mn                       30.0\n",
       "39 Mn            Mn                       30.0\n",
       "40 Mn            Mn                       73.0\n",
       "41 Mn            Mn                      829.0\n",
       "42 Mn            Mn                     1830.0\n",
       "43 Ca            Ca                     1780.0\n",
       "44 Ca            Ca                      784.0\n",
       "45 Ca            Ca                     1640.0\n",
       "46 Ca            Ca                     2240.0\n",
       "47 Ca            Ca                     3000.0\n",
       "48 Ca            Ca                     4130.0\n",
       "49 DTXSID3021774 Acenaphthene              2.9\n",
       "50 DTXSID3021774 Acenaphthene             51.3\n",
       "51 DTXSID3021774 Acenaphthene              0.8\n",
       "52 Si            Si                    14700.0\n",
       "53 DTXSID9059757 Triphenylene             17.4\n",
       "54 DTXSID9059757 Triphenylene            306.1\n",
       "55 DTXSID9059757 Triphenylene             46.0\n",
       "56 DTXSID9059757 Triphenylene             14.6\n",
       "57 DTXSID9059757 Triphenylene              3.8\n",
       "58 DTXSID9059757 Triphenylene              9.0"
      ]
     },
     "metadata": {},
     "output_type": "display_data"
    }
   ],
   "source": [
    "test2 = preimputed_df %>%\n",
    "    filter(HAWC_ID == study_id[5])\n",
    "test2\n",
    "#QRILC_imputation(test2)"
   ]
  },
  {
   "cell_type": "code",
   "execution_count": null,
   "id": "314ef5bc-fa29-430f-a0bd-1516e39cbd97",
   "metadata": {},
   "outputs": [],
   "source": []
  }
 ],
 "metadata": {
  "kernelspec": {
   "display_name": "R",
   "language": "R",
   "name": "ir"
  },
  "language_info": {
   "codemirror_mode": "r",
   "file_extension": ".r",
   "mimetype": "text/x-r-source",
   "name": "R",
   "pygments_lexer": "r",
   "version": "4.3.1"
  }
 },
 "nbformat": 4,
 "nbformat_minor": 5
}
