{
 "cells": [
  {
   "cell_type": "code",
   "execution_count": 1,
   "id": "dbfb736a-bc97-4a2f-96f6-553aa3c90c5b",
   "metadata": {},
   "outputs": [
    {
     "name": "stderr",
     "output_type": "stream",
     "text": [
      "── \u001b[1mAttaching core tidyverse packages\u001b[22m ──────────────────────── tidyverse 2.0.0 ──\n",
      "\u001b[32m✔\u001b[39m \u001b[34mdplyr    \u001b[39m 1.1.3     \u001b[32m✔\u001b[39m \u001b[34mreadr    \u001b[39m 2.1.4\n",
      "\u001b[32m✔\u001b[39m \u001b[34mforcats  \u001b[39m 1.0.0     \u001b[32m✔\u001b[39m \u001b[34mstringr  \u001b[39m 1.5.0\n",
      "\u001b[32m✔\u001b[39m \u001b[34mggplot2  \u001b[39m 3.4.3     \u001b[32m✔\u001b[39m \u001b[34mtibble   \u001b[39m 3.2.1\n",
      "\u001b[32m✔\u001b[39m \u001b[34mlubridate\u001b[39m 1.9.2     \u001b[32m✔\u001b[39m \u001b[34mtidyr    \u001b[39m 1.3.0\n",
      "\u001b[32m✔\u001b[39m \u001b[34mpurrr    \u001b[39m 1.0.2     \n",
      "── \u001b[1mConflicts\u001b[22m ────────────────────────────────────────── tidyverse_conflicts() ──\n",
      "\u001b[31m✖\u001b[39m \u001b[34mdplyr\u001b[39m::\u001b[32mfilter()\u001b[39m masks \u001b[34mstats\u001b[39m::filter()\n",
      "\u001b[31m✖\u001b[39m \u001b[34mdplyr\u001b[39m::\u001b[32mlag()\u001b[39m    masks \u001b[34mstats\u001b[39m::lag()\n",
      "\u001b[36mℹ\u001b[39m Use the conflicted package (\u001b[3m\u001b[34m<http://conflicted.r-lib.org/>\u001b[39m\u001b[23m) to force all conflicts to become errors\n",
      "Loading required package: tmvtnorm\n",
      "\n",
      "Loading required package: mvtnorm\n",
      "\n",
      "Loading required package: Matrix\n",
      "\n",
      "\n",
      "Attaching package: ‘Matrix’\n",
      "\n",
      "\n",
      "The following objects are masked from ‘package:tidyr’:\n",
      "\n",
      "    expand, pack, unpack\n",
      "\n",
      "\n",
      "Loading required package: stats4\n",
      "\n",
      "Loading required package: gmm\n",
      "\n",
      "Loading required package: sandwich\n",
      "\n",
      "Loading required package: norm\n",
      "\n",
      "This package has some major limitations\n",
      "(for example, it does not work reliably when\n",
      "the number of variables exceeds 30),\n",
      "and has been superseded by the norm2 package.\n",
      "\n",
      "Loading required package: pcaMethods\n",
      "\n",
      "Loading required package: Biobase\n",
      "\n",
      "Loading required package: BiocGenerics\n",
      "\n",
      "\n",
      "Attaching package: ‘BiocGenerics’\n",
      "\n",
      "\n",
      "The following objects are masked from ‘package:lubridate’:\n",
      "\n",
      "    intersect, setdiff, union\n",
      "\n",
      "\n",
      "The following objects are masked from ‘package:dplyr’:\n",
      "\n",
      "    combine, intersect, setdiff, union\n",
      "\n",
      "\n",
      "The following objects are masked from ‘package:stats’:\n",
      "\n",
      "    IQR, mad, sd, var, xtabs\n",
      "\n",
      "\n",
      "The following objects are masked from ‘package:base’:\n",
      "\n",
      "    anyDuplicated, aperm, append, as.data.frame, basename, cbind,\n",
      "    colnames, dirname, do.call, duplicated, eval, evalq, Filter, Find,\n",
      "    get, grep, grepl, intersect, is.unsorted, lapply, Map, mapply,\n",
      "    match, mget, order, paste, pmax, pmax.int, pmin, pmin.int,\n",
      "    Position, rank, rbind, Reduce, rownames, sapply, setdiff, sort,\n",
      "    table, tapply, union, unique, unsplit, which.max, which.min\n",
      "\n",
      "\n",
      "Welcome to Bioconductor\n",
      "\n",
      "    Vignettes contain introductory material; view with\n",
      "    'browseVignettes()'. To cite Bioconductor, see\n",
      "    'citation(\"Biobase\")', and for packages 'citation(\"pkgname\")'.\n",
      "\n",
      "\n",
      "\n",
      "Attaching package: ‘pcaMethods’\n",
      "\n",
      "\n",
      "The following object is masked from ‘package:stats’:\n",
      "\n",
      "    loadings\n",
      "\n",
      "\n",
      "Loading required package: impute\n",
      "\n",
      "Welcome! Want to learn more? See two factoextra-related books at https://goo.gl/ve3WBa\n",
      "\n"
     ]
    }
   ],
   "source": [
    "Output = '/Users/alexis/Library/CloudStorage/OneDrive-UniversityofNorthCarolinaatChapelHill/CEMALB_DataAnalysisPM/Projects/P1015. Fire Sufficient Similarity/3. Analyses/2. Data Processing/Output'\n",
    "cur_date = '021825'\n",
    "\n",
    "library(missForest)\n",
    "library(readxl)\n",
    "library(tidyverse)\n",
    "library(imputeLCMD)\n",
    "library(factoextra)\n",
    "\n",
    "# reading in files\n",
    "ws_df = data.frame(Data = 'WS', read_excel(\"Input/Woodsmoke_Data_012825.xlsx\", sheet = 2)) %>%\n",
    "    select(-Sample_Number)\n",
    "wf_df = data.frame(Data = 'WF', read_excel(\"Input/Wildfire_Data_012825.xlsx\", sheet = 2)) %>%\n",
    "    select(-Sample_Number)"
   ]
  },
  {
   "cell_type": "markdown",
   "id": "a6904813-4b86-4407-a5ec-4efed3e83041",
   "metadata": {},
   "source": [
    "NOTES TO SELF:\n",
    "- change 'replicate' to 'instance' and 'chemical class' to 'class'"
   ]
  },
  {
   "cell_type": "code",
   "execution_count": 2,
   "id": "73a7d5c4-8e2a-4ab5-b13b-046bc35d412e",
   "metadata": {},
   "outputs": [
    {
     "data": {
      "text/html": [
       "<table class=\"dataframe\">\n",
       "<caption>A data.frame: 6 × 9</caption>\n",
       "<thead>\n",
       "\t<tr><th></th><th scope=col>Data</th><th scope=col>HAWC_ID</th><th scope=col>Study</th><th scope=col>Replicate</th><th scope=col>Chemical_Class</th><th scope=col>Metric</th><th scope=col>DTXSID</th><th scope=col>Name</th><th scope=col>Value</th></tr>\n",
       "\t<tr><th></th><th scope=col>&lt;chr&gt;</th><th scope=col>&lt;dbl&gt;</th><th scope=col>&lt;chr&gt;</th><th scope=col>&lt;dbl&gt;</th><th scope=col>&lt;chr&gt;</th><th scope=col>&lt;chr&gt;</th><th scope=col>&lt;chr&gt;</th><th scope=col>&lt;chr&gt;</th><th scope=col>&lt;chr&gt;</th></tr>\n",
       "</thead>\n",
       "<tbody>\n",
       "\t<tr><th scope=row>1</th><td>WS</td><td> 821855</td><td>Erlandsson et al. 2020  </td><td> 1</td><td>PAH</td><td>Weight</td><td>DTXSID3074787</td><td>1-Methylanthracene</td><td>11.3              </td></tr>\n",
       "\t<tr><th scope=row>2</th><td>WS</td><td> 821855</td><td>Erlandsson et al. 2020  </td><td> 1</td><td>PAH</td><td>Weight</td><td>DTXSID3074787</td><td>1-Methylanthracene</td><td>2.2999999999999998</td></tr>\n",
       "\t<tr><th scope=row>3</th><td>WS</td><td>1257056</td><td>McCarrick et al. 2024   </td><td> 1</td><td>PAH</td><td>Weight</td><td>DTXSID3074787</td><td>1-Methylanthracene</td><td>1.66              </td></tr>\n",
       "\t<tr><th scope=row>4</th><td>WS</td><td> 267140</td><td>Alfheim and Ramdahl 1984</td><td> 1</td><td>PAH</td><td>Volume</td><td>DTXSID3074787</td><td>1-Methylanthracene</td><td>NA                </td></tr>\n",
       "\t<tr><th scope=row>5</th><td>WS</td><td>1263480</td><td>Burnet et al. 1990      </td><td> 1</td><td>PAH</td><td>Volume</td><td>DTXSID3074787</td><td>1-Methylanthracene</td><td>NA                </td></tr>\n",
       "\t<tr><th scope=row>6</th><td>WS</td><td>1263480</td><td>Burnet et al. 1990      </td><td>NA</td><td>PAH</td><td>Volume</td><td>DTXSID3074787</td><td>1-Methylanthracene</td><td>NA                </td></tr>\n",
       "</tbody>\n",
       "</table>\n"
      ],
      "text/latex": [
       "A data.frame: 6 × 9\n",
       "\\begin{tabular}{r|lllllllll}\n",
       "  & Data & HAWC\\_ID & Study & Replicate & Chemical\\_Class & Metric & DTXSID & Name & Value\\\\\n",
       "  & <chr> & <dbl> & <chr> & <dbl> & <chr> & <chr> & <chr> & <chr> & <chr>\\\\\n",
       "\\hline\n",
       "\t1 & WS &  821855 & Erlandsson et al. 2020   &  1 & PAH & Weight & DTXSID3074787 & 1-Methylanthracene & 11.3              \\\\\n",
       "\t2 & WS &  821855 & Erlandsson et al. 2020   &  1 & PAH & Weight & DTXSID3074787 & 1-Methylanthracene & 2.2999999999999998\\\\\n",
       "\t3 & WS & 1257056 & McCarrick et al. 2024    &  1 & PAH & Weight & DTXSID3074787 & 1-Methylanthracene & 1.66              \\\\\n",
       "\t4 & WS &  267140 & Alfheim and Ramdahl 1984 &  1 & PAH & Volume & DTXSID3074787 & 1-Methylanthracene & NA                \\\\\n",
       "\t5 & WS & 1263480 & Burnet et al. 1990       &  1 & PAH & Volume & DTXSID3074787 & 1-Methylanthracene & NA                \\\\\n",
       "\t6 & WS & 1263480 & Burnet et al. 1990       & NA & PAH & Volume & DTXSID3074787 & 1-Methylanthracene & NA                \\\\\n",
       "\\end{tabular}\n"
      ],
      "text/markdown": [
       "\n",
       "A data.frame: 6 × 9\n",
       "\n",
       "| <!--/--> | Data &lt;chr&gt; | HAWC_ID &lt;dbl&gt; | Study &lt;chr&gt; | Replicate &lt;dbl&gt; | Chemical_Class &lt;chr&gt; | Metric &lt;chr&gt; | DTXSID &lt;chr&gt; | Name &lt;chr&gt; | Value &lt;chr&gt; |\n",
       "|---|---|---|---|---|---|---|---|---|---|\n",
       "| 1 | WS |  821855 | Erlandsson et al. 2020   |  1 | PAH | Weight | DTXSID3074787 | 1-Methylanthracene | 11.3               |\n",
       "| 2 | WS |  821855 | Erlandsson et al. 2020   |  1 | PAH | Weight | DTXSID3074787 | 1-Methylanthracene | 2.2999999999999998 |\n",
       "| 3 | WS | 1257056 | McCarrick et al. 2024    |  1 | PAH | Weight | DTXSID3074787 | 1-Methylanthracene | 1.66               |\n",
       "| 4 | WS |  267140 | Alfheim and Ramdahl 1984 |  1 | PAH | Volume | DTXSID3074787 | 1-Methylanthracene | NA                 |\n",
       "| 5 | WS | 1263480 | Burnet et al. 1990       |  1 | PAH | Volume | DTXSID3074787 | 1-Methylanthracene | NA                 |\n",
       "| 6 | WS | 1263480 | Burnet et al. 1990       | NA | PAH | Volume | DTXSID3074787 | 1-Methylanthracene | NA                 |\n",
       "\n"
      ],
      "text/plain": [
       "  Data HAWC_ID Study                    Replicate Chemical_Class Metric\n",
       "1 WS    821855 Erlandsson et al. 2020    1        PAH            Weight\n",
       "2 WS    821855 Erlandsson et al. 2020    1        PAH            Weight\n",
       "3 WS   1257056 McCarrick et al. 2024     1        PAH            Weight\n",
       "4 WS    267140 Alfheim and Ramdahl 1984  1        PAH            Volume\n",
       "5 WS   1263480 Burnet et al. 1990        1        PAH            Volume\n",
       "6 WS   1263480 Burnet et al. 1990       NA        PAH            Volume\n",
       "  DTXSID        Name               Value             \n",
       "1 DTXSID3074787 1-Methylanthracene 11.3              \n",
       "2 DTXSID3074787 1-Methylanthracene 2.2999999999999998\n",
       "3 DTXSID3074787 1-Methylanthracene 1.66              \n",
       "4 DTXSID3074787 1-Methylanthracene NA                \n",
       "5 DTXSID3074787 1-Methylanthracene NA                \n",
       "6 DTXSID3074787 1-Methylanthracene NA                "
      ]
     },
     "metadata": {},
     "output_type": "display_data"
    },
    {
     "data": {
      "text/html": [
       "<table class=\"dataframe\">\n",
       "<caption>A data.frame: 6 × 9</caption>\n",
       "<thead>\n",
       "\t<tr><th></th><th scope=col>Data</th><th scope=col>HAWC_ID</th><th scope=col>Study</th><th scope=col>Replicate</th><th scope=col>Chemical_Class</th><th scope=col>Metric</th><th scope=col>DTXSID</th><th scope=col>Name</th><th scope=col>Value</th></tr>\n",
       "\t<tr><th></th><th scope=col>&lt;chr&gt;</th><th scope=col>&lt;dbl&gt;</th><th scope=col>&lt;chr&gt;</th><th scope=col>&lt;dbl&gt;</th><th scope=col>&lt;chr&gt;</th><th scope=col>&lt;chr&gt;</th><th scope=col>&lt;chr&gt;</th><th scope=col>&lt;chr&gt;</th><th scope=col>&lt;chr&gt;</th></tr>\n",
       "</thead>\n",
       "<tbody>\n",
       "\t<tr><th scope=row>1</th><td>WF</td><td>1289821</td><td>Liang et al. 2021   </td><td> 1</td><td>PAH</td><td>Volume</td><td>NA            </td><td>1-(10-methylanthracen-9-yl)ethanone</td><td>5 </td></tr>\n",
       "\t<tr><th scope=row>2</th><td>WF</td><td>1289821</td><td>Liang et al. 2021   </td><td> 1</td><td>PAH</td><td>Volume</td><td>DTXSID50176885</td><td>1-Acenaphthenone                   </td><td>1 </td></tr>\n",
       "\t<tr><th scope=row>3</th><td>WF</td><td>1289737</td><td>Campbell et al. 2024</td><td> 1</td><td>PAH</td><td>Weight</td><td>DTXSID1074759 </td><td>1-Methylchrysene                   </td><td>NA</td></tr>\n",
       "\t<tr><th scope=row>4</th><td>WF</td><td>1289739</td><td>Campos et al. 2019  </td><td> 1</td><td>PAH</td><td>Weight</td><td>DTXSID1074759 </td><td>1-Methylchrysene                   </td><td>NA</td></tr>\n",
       "\t<tr><th scope=row>5</th><td>WF</td><td>1289739</td><td>Campos et al. 2019  </td><td>NA</td><td>PAH</td><td>Weight</td><td>DTXSID1074759 </td><td>1-Methylchrysene                   </td><td>NA</td></tr>\n",
       "\t<tr><th scope=row>6</th><td>WF</td><td>1289739</td><td>Campos et al. 2019  </td><td>NA</td><td>PAH</td><td>Weight</td><td>DTXSID1074759 </td><td>1-Methylchrysene                   </td><td>NA</td></tr>\n",
       "</tbody>\n",
       "</table>\n"
      ],
      "text/latex": [
       "A data.frame: 6 × 9\n",
       "\\begin{tabular}{r|lllllllll}\n",
       "  & Data & HAWC\\_ID & Study & Replicate & Chemical\\_Class & Metric & DTXSID & Name & Value\\\\\n",
       "  & <chr> & <dbl> & <chr> & <dbl> & <chr> & <chr> & <chr> & <chr> & <chr>\\\\\n",
       "\\hline\n",
       "\t1 & WF & 1289821 & Liang et al. 2021    &  1 & PAH & Volume & NA             & 1-(10-methylanthracen-9-yl)ethanone & 5 \\\\\n",
       "\t2 & WF & 1289821 & Liang et al. 2021    &  1 & PAH & Volume & DTXSID50176885 & 1-Acenaphthenone                    & 1 \\\\\n",
       "\t3 & WF & 1289737 & Campbell et al. 2024 &  1 & PAH & Weight & DTXSID1074759  & 1-Methylchrysene                    & NA\\\\\n",
       "\t4 & WF & 1289739 & Campos et al. 2019   &  1 & PAH & Weight & DTXSID1074759  & 1-Methylchrysene                    & NA\\\\\n",
       "\t5 & WF & 1289739 & Campos et al. 2019   & NA & PAH & Weight & DTXSID1074759  & 1-Methylchrysene                    & NA\\\\\n",
       "\t6 & WF & 1289739 & Campos et al. 2019   & NA & PAH & Weight & DTXSID1074759  & 1-Methylchrysene                    & NA\\\\\n",
       "\\end{tabular}\n"
      ],
      "text/markdown": [
       "\n",
       "A data.frame: 6 × 9\n",
       "\n",
       "| <!--/--> | Data &lt;chr&gt; | HAWC_ID &lt;dbl&gt; | Study &lt;chr&gt; | Replicate &lt;dbl&gt; | Chemical_Class &lt;chr&gt; | Metric &lt;chr&gt; | DTXSID &lt;chr&gt; | Name &lt;chr&gt; | Value &lt;chr&gt; |\n",
       "|---|---|---|---|---|---|---|---|---|---|\n",
       "| 1 | WF | 1289821 | Liang et al. 2021    |  1 | PAH | Volume | NA             | 1-(10-methylanthracen-9-yl)ethanone | 5  |\n",
       "| 2 | WF | 1289821 | Liang et al. 2021    |  1 | PAH | Volume | DTXSID50176885 | 1-Acenaphthenone                    | 1  |\n",
       "| 3 | WF | 1289737 | Campbell et al. 2024 |  1 | PAH | Weight | DTXSID1074759  | 1-Methylchrysene                    | NA |\n",
       "| 4 | WF | 1289739 | Campos et al. 2019   |  1 | PAH | Weight | DTXSID1074759  | 1-Methylchrysene                    | NA |\n",
       "| 5 | WF | 1289739 | Campos et al. 2019   | NA | PAH | Weight | DTXSID1074759  | 1-Methylchrysene                    | NA |\n",
       "| 6 | WF | 1289739 | Campos et al. 2019   | NA | PAH | Weight | DTXSID1074759  | 1-Methylchrysene                    | NA |\n",
       "\n"
      ],
      "text/plain": [
       "  Data HAWC_ID Study                Replicate Chemical_Class Metric\n",
       "1 WF   1289821 Liang et al. 2021     1        PAH            Volume\n",
       "2 WF   1289821 Liang et al. 2021     1        PAH            Volume\n",
       "3 WF   1289737 Campbell et al. 2024  1        PAH            Weight\n",
       "4 WF   1289739 Campos et al. 2019    1        PAH            Weight\n",
       "5 WF   1289739 Campos et al. 2019   NA        PAH            Weight\n",
       "6 WF   1289739 Campos et al. 2019   NA        PAH            Weight\n",
       "  DTXSID         Name                                Value\n",
       "1 NA             1-(10-methylanthracen-9-yl)ethanone 5    \n",
       "2 DTXSID50176885 1-Acenaphthenone                    1    \n",
       "3 DTXSID1074759  1-Methylchrysene                    NA   \n",
       "4 DTXSID1074759  1-Methylchrysene                    NA   \n",
       "5 DTXSID1074759  1-Methylchrysene                    NA   \n",
       "6 DTXSID1074759  1-Methylchrysene                    NA   "
      ]
     },
     "metadata": {},
     "output_type": "display_data"
    }
   ],
   "source": [
    "head(ws_df)\n",
    "head(wf_df)"
   ]
  },
  {
   "cell_type": "code",
   "execution_count": 3,
   "id": "3d546e8e-5cdf-4386-b29b-2ac2938366f9",
   "metadata": {},
   "outputs": [
    {
     "data": {
      "text/html": [
       "<style>\n",
       ".list-inline {list-style: none; margin:0; padding: 0}\n",
       ".list-inline>li {display: inline-block}\n",
       ".list-inline>li:not(:last-child)::after {content: \"\\00b7\"; padding: 0 .5ex}\n",
       "</style>\n",
       "<ol class=list-inline><li>6607</li><li>9</li></ol>\n"
      ],
      "text/latex": [
       "\\begin{enumerate*}\n",
       "\\item 6607\n",
       "\\item 9\n",
       "\\end{enumerate*}\n"
      ],
      "text/markdown": [
       "1. 6607\n",
       "2. 9\n",
       "\n",
       "\n"
      ],
      "text/plain": [
       "[1] 6607    9"
      ]
     },
     "metadata": {},
     "output_type": "display_data"
    },
    {
     "data": {
      "text/html": [
       "<style>\n",
       ".list-inline {list-style: none; margin:0; padding: 0}\n",
       ".list-inline>li {display: inline-block}\n",
       ".list-inline>li:not(:last-child)::after {content: \"\\00b7\"; padding: 0 .5ex}\n",
       "</style>\n",
       "<ol class=list-inline><li>4340</li><li>9</li></ol>\n"
      ],
      "text/latex": [
       "\\begin{enumerate*}\n",
       "\\item 4340\n",
       "\\item 9\n",
       "\\end{enumerate*}\n"
      ],
      "text/markdown": [
       "1. 4340\n",
       "2. 9\n",
       "\n",
       "\n"
      ],
      "text/plain": [
       "[1] 4340    9"
      ]
     },
     "metadata": {},
     "output_type": "display_data"
    }
   ],
   "source": [
    "dim(ws_df)\n",
    "dim(wf_df)"
   ]
  },
  {
   "cell_type": "markdown",
   "id": "417a92fb-0524-4038-a5ea-08a56f02a955",
   "metadata": {},
   "source": [
    "# Filter 1\n",
    "\n",
    "Removing duplicate records for instances that weren't measured at all (MAR). "
   ]
  },
  {
   "cell_type": "code",
   "execution_count": 4,
   "id": "9eefd1e4-96f4-48a6-933c-9486ab447115",
   "metadata": {
    "scrolled": true
   },
   "outputs": [],
   "source": [
    "`%notin%` <- Negate(`%in%`)\n",
    "\n",
    "ws_df = ws_df %>%\n",
    "    filter(Replicate %notin% NA)\n",
    "\n",
    "wf_df = wf_df %>%\n",
    "    filter(Replicate %notin% NA)"
   ]
  },
  {
   "cell_type": "code",
   "execution_count": 5,
   "id": "1425c2d3-c1cd-4626-974d-492e320d724e",
   "metadata": {
    "scrolled": true
   },
   "outputs": [
    {
     "data": {
      "text/html": [
       "<style>\n",
       ".list-inline {list-style: none; margin:0; padding: 0}\n",
       ".list-inline>li {display: inline-block}\n",
       ".list-inline>li:not(:last-child)::after {content: \"\\00b7\"; padding: 0 .5ex}\n",
       "</style>\n",
       "<ol class=list-inline><li>4203</li><li>9</li></ol>\n"
      ],
      "text/latex": [
       "\\begin{enumerate*}\n",
       "\\item 4203\n",
       "\\item 9\n",
       "\\end{enumerate*}\n"
      ],
      "text/markdown": [
       "1. 4203\n",
       "2. 9\n",
       "\n",
       "\n"
      ],
      "text/plain": [
       "[1] 4203    9"
      ]
     },
     "metadata": {},
     "output_type": "display_data"
    },
    {
     "data": {
      "text/html": [
       "<style>\n",
       ".list-inline {list-style: none; margin:0; padding: 0}\n",
       ".list-inline>li {display: inline-block}\n",
       ".list-inline>li:not(:last-child)::after {content: \"\\00b7\"; padding: 0 .5ex}\n",
       "</style>\n",
       "<ol class=list-inline><li>2378</li><li>9</li></ol>\n"
      ],
      "text/latex": [
       "\\begin{enumerate*}\n",
       "\\item 2378\n",
       "\\item 9\n",
       "\\end{enumerate*}\n"
      ],
      "text/markdown": [
       "1. 2378\n",
       "2. 9\n",
       "\n",
       "\n"
      ],
      "text/plain": [
       "[1] 2378    9"
      ]
     },
     "metadata": {},
     "output_type": "display_data"
    }
   ],
   "source": [
    "dim(ws_df)\n",
    "dim(wf_df)"
   ]
  },
  {
   "cell_type": "code",
   "execution_count": 6,
   "id": "d9ba0841-95c0-4dfc-a8de-480550341718",
   "metadata": {},
   "outputs": [
    {
     "data": {
      "text/html": [
       "<table class=\"dataframe\">\n",
       "<caption>A data.frame: 6 × 9</caption>\n",
       "<thead>\n",
       "\t<tr><th></th><th scope=col>Data</th><th scope=col>HAWC_ID</th><th scope=col>Study</th><th scope=col>Replicate</th><th scope=col>Chemical_Class</th><th scope=col>Metric</th><th scope=col>DTXSID</th><th scope=col>Name</th><th scope=col>Value</th></tr>\n",
       "\t<tr><th></th><th scope=col>&lt;chr&gt;</th><th scope=col>&lt;dbl&gt;</th><th scope=col>&lt;chr&gt;</th><th scope=col>&lt;dbl&gt;</th><th scope=col>&lt;chr&gt;</th><th scope=col>&lt;chr&gt;</th><th scope=col>&lt;chr&gt;</th><th scope=col>&lt;chr&gt;</th><th scope=col>&lt;chr&gt;</th></tr>\n",
       "</thead>\n",
       "<tbody>\n",
       "\t<tr><th scope=row>1</th><td>WS</td><td> 821855</td><td>Erlandsson et al. 2020  </td><td>1</td><td>PAH</td><td>Weight</td><td>DTXSID3074787</td><td>1-Methylanthracene</td><td>11.3              </td></tr>\n",
       "\t<tr><th scope=row>2</th><td>WS</td><td> 821855</td><td>Erlandsson et al. 2020  </td><td>1</td><td>PAH</td><td>Weight</td><td>DTXSID3074787</td><td>1-Methylanthracene</td><td>2.2999999999999998</td></tr>\n",
       "\t<tr><th scope=row>3</th><td>WS</td><td>1257056</td><td>McCarrick et al. 2024   </td><td>1</td><td>PAH</td><td>Weight</td><td>DTXSID3074787</td><td>1-Methylanthracene</td><td>1.66              </td></tr>\n",
       "\t<tr><th scope=row>4</th><td>WS</td><td> 267140</td><td>Alfheim and Ramdahl 1984</td><td>1</td><td>PAH</td><td>Volume</td><td>DTXSID3074787</td><td>1-Methylanthracene</td><td>NA                </td></tr>\n",
       "\t<tr><th scope=row>5</th><td>WS</td><td>1263480</td><td>Burnet et al. 1990      </td><td>1</td><td>PAH</td><td>Volume</td><td>DTXSID3074787</td><td>1-Methylanthracene</td><td>NA                </td></tr>\n",
       "\t<tr><th scope=row>6</th><td>WS</td><td> 267091</td><td>Forchhammer et al. 2012 </td><td>1</td><td>PAH</td><td>Volume</td><td>DTXSID3074787</td><td>1-Methylanthracene</td><td>NA                </td></tr>\n",
       "</tbody>\n",
       "</table>\n"
      ],
      "text/latex": [
       "A data.frame: 6 × 9\n",
       "\\begin{tabular}{r|lllllllll}\n",
       "  & Data & HAWC\\_ID & Study & Replicate & Chemical\\_Class & Metric & DTXSID & Name & Value\\\\\n",
       "  & <chr> & <dbl> & <chr> & <dbl> & <chr> & <chr> & <chr> & <chr> & <chr>\\\\\n",
       "\\hline\n",
       "\t1 & WS &  821855 & Erlandsson et al. 2020   & 1 & PAH & Weight & DTXSID3074787 & 1-Methylanthracene & 11.3              \\\\\n",
       "\t2 & WS &  821855 & Erlandsson et al. 2020   & 1 & PAH & Weight & DTXSID3074787 & 1-Methylanthracene & 2.2999999999999998\\\\\n",
       "\t3 & WS & 1257056 & McCarrick et al. 2024    & 1 & PAH & Weight & DTXSID3074787 & 1-Methylanthracene & 1.66              \\\\\n",
       "\t4 & WS &  267140 & Alfheim and Ramdahl 1984 & 1 & PAH & Volume & DTXSID3074787 & 1-Methylanthracene & NA                \\\\\n",
       "\t5 & WS & 1263480 & Burnet et al. 1990       & 1 & PAH & Volume & DTXSID3074787 & 1-Methylanthracene & NA                \\\\\n",
       "\t6 & WS &  267091 & Forchhammer et al. 2012  & 1 & PAH & Volume & DTXSID3074787 & 1-Methylanthracene & NA                \\\\\n",
       "\\end{tabular}\n"
      ],
      "text/markdown": [
       "\n",
       "A data.frame: 6 × 9\n",
       "\n",
       "| <!--/--> | Data &lt;chr&gt; | HAWC_ID &lt;dbl&gt; | Study &lt;chr&gt; | Replicate &lt;dbl&gt; | Chemical_Class &lt;chr&gt; | Metric &lt;chr&gt; | DTXSID &lt;chr&gt; | Name &lt;chr&gt; | Value &lt;chr&gt; |\n",
       "|---|---|---|---|---|---|---|---|---|---|\n",
       "| 1 | WS |  821855 | Erlandsson et al. 2020   | 1 | PAH | Weight | DTXSID3074787 | 1-Methylanthracene | 11.3               |\n",
       "| 2 | WS |  821855 | Erlandsson et al. 2020   | 1 | PAH | Weight | DTXSID3074787 | 1-Methylanthracene | 2.2999999999999998 |\n",
       "| 3 | WS | 1257056 | McCarrick et al. 2024    | 1 | PAH | Weight | DTXSID3074787 | 1-Methylanthracene | 1.66               |\n",
       "| 4 | WS |  267140 | Alfheim and Ramdahl 1984 | 1 | PAH | Volume | DTXSID3074787 | 1-Methylanthracene | NA                 |\n",
       "| 5 | WS | 1263480 | Burnet et al. 1990       | 1 | PAH | Volume | DTXSID3074787 | 1-Methylanthracene | NA                 |\n",
       "| 6 | WS |  267091 | Forchhammer et al. 2012  | 1 | PAH | Volume | DTXSID3074787 | 1-Methylanthracene | NA                 |\n",
       "\n"
      ],
      "text/plain": [
       "  Data HAWC_ID Study                    Replicate Chemical_Class Metric\n",
       "1 WS    821855 Erlandsson et al. 2020   1         PAH            Weight\n",
       "2 WS    821855 Erlandsson et al. 2020   1         PAH            Weight\n",
       "3 WS   1257056 McCarrick et al. 2024    1         PAH            Weight\n",
       "4 WS    267140 Alfheim and Ramdahl 1984 1         PAH            Volume\n",
       "5 WS   1263480 Burnet et al. 1990       1         PAH            Volume\n",
       "6 WS    267091 Forchhammer et al. 2012  1         PAH            Volume\n",
       "  DTXSID        Name               Value             \n",
       "1 DTXSID3074787 1-Methylanthracene 11.3              \n",
       "2 DTXSID3074787 1-Methylanthracene 2.2999999999999998\n",
       "3 DTXSID3074787 1-Methylanthracene 1.66              \n",
       "4 DTXSID3074787 1-Methylanthracene NA                \n",
       "5 DTXSID3074787 1-Methylanthracene NA                \n",
       "6 DTXSID3074787 1-Methylanthracene NA                "
      ]
     },
     "metadata": {},
     "output_type": "display_data"
    }
   ],
   "source": [
    "# combining dfs\n",
    "combined_df = rbind(ws_df, wf_df)\n",
    "head(combined_df)"
   ]
  },
  {
   "cell_type": "code",
   "execution_count": 7,
   "id": "6bcf9a9c-639c-46ca-9806-dcb9246095f1",
   "metadata": {},
   "outputs": [
    {
     "data": {
      "text/html": [
       "192"
      ],
      "text/latex": [
       "192"
      ],
      "text/markdown": [
       "192"
      ],
      "text/plain": [
       "[1] 192"
      ]
     },
     "metadata": {},
     "output_type": "display_data"
    }
   ],
   "source": [
    "length(unique(combined_df$Name))"
   ]
  },
  {
   "cell_type": "markdown",
   "id": "adaf5cec-fc80-4902-935a-523fc2d9a106",
   "metadata": {},
   "source": [
    "192 unique variables."
   ]
  },
  {
   "cell_type": "markdown",
   "id": "38fa1e02-9f71-4378-a78f-90f5591ab77b",
   "metadata": {},
   "source": [
    "# Variable Background Filters\n",
    "\n",
    "Determining what variables have missing data for all variables delineated based on the dfs the data will be split into and analyzed. \n",
    "\n",
    "1. A variable (ie. `Name` which represents a chemical or metal) will be removed if < 50% of its experimental data points were either measurable concentrations and/or specified as non-detects. In other words, chemicals were excluded if they were NAs (not evaluated) across >= 50% of the samples.\n",
    "2. The data needs to have at least one experimental (ie. measured or ND) value in both WS and WF data."
   ]
  },
  {
   "cell_type": "code",
   "execution_count": 8,
   "id": "59c471fe-1657-4356-8ed6-35a8b6244188",
   "metadata": {},
   "outputs": [
    {
     "data": {
      "text/html": [
       "<table class=\"dataframe\">\n",
       "<caption>A tibble: 6 × 4</caption>\n",
       "<thead>\n",
       "\t<tr><th scope=col>Data</th><th scope=col>Metric</th><th scope=col>Name</th><th scope=col>data_group_count</th></tr>\n",
       "\t<tr><th scope=col>&lt;chr&gt;</th><th scope=col>&lt;chr&gt;</th><th scope=col>&lt;chr&gt;</th><th scope=col>&lt;dbl&gt;</th></tr>\n",
       "</thead>\n",
       "<tbody>\n",
       "\t<tr><td>WF</td><td>Volume</td><td>1,2,4-Trimethylbenzene    </td><td>2</td></tr>\n",
       "\t<tr><td>WF</td><td>Volume</td><td>1,3,5-Trimethylbenzene    </td><td>2</td></tr>\n",
       "\t<tr><td>WF</td><td>Volume</td><td>1,3-Dihydroxynaphthalene  </td><td>1</td></tr>\n",
       "\t<tr><td>WF</td><td>Volume</td><td>1,4-Dichloro-2-butene, cis</td><td>1</td></tr>\n",
       "\t<tr><td>WF</td><td>Volume</td><td>1,4-Dichlorobenzene       </td><td>1</td></tr>\n",
       "\t<tr><td>WF</td><td>Volume</td><td>1,8-Dihydroxynaphthalene  </td><td>1</td></tr>\n",
       "</tbody>\n",
       "</table>\n"
      ],
      "text/latex": [
       "A tibble: 6 × 4\n",
       "\\begin{tabular}{llll}\n",
       " Data & Metric & Name & data\\_group\\_count\\\\\n",
       " <chr> & <chr> & <chr> & <dbl>\\\\\n",
       "\\hline\n",
       "\t WF & Volume & 1,2,4-Trimethylbenzene     & 2\\\\\n",
       "\t WF & Volume & 1,3,5-Trimethylbenzene     & 2\\\\\n",
       "\t WF & Volume & 1,3-Dihydroxynaphthalene   & 1\\\\\n",
       "\t WF & Volume & 1,4-Dichloro-2-butene, cis & 1\\\\\n",
       "\t WF & Volume & 1,4-Dichlorobenzene        & 1\\\\\n",
       "\t WF & Volume & 1,8-Dihydroxynaphthalene   & 1\\\\\n",
       "\\end{tabular}\n"
      ],
      "text/markdown": [
       "\n",
       "A tibble: 6 × 4\n",
       "\n",
       "| Data &lt;chr&gt; | Metric &lt;chr&gt; | Name &lt;chr&gt; | data_group_count &lt;dbl&gt; |\n",
       "|---|---|---|---|\n",
       "| WF | Volume | 1,2,4-Trimethylbenzene     | 2 |\n",
       "| WF | Volume | 1,3,5-Trimethylbenzene     | 2 |\n",
       "| WF | Volume | 1,3-Dihydroxynaphthalene   | 1 |\n",
       "| WF | Volume | 1,4-Dichloro-2-butene, cis | 1 |\n",
       "| WF | Volume | 1,4-Dichlorobenzene        | 1 |\n",
       "| WF | Volume | 1,8-Dihydroxynaphthalene   | 1 |\n",
       "\n"
      ],
      "text/plain": [
       "  Data Metric Name                       data_group_count\n",
       "1 WF   Volume 1,2,4-Trimethylbenzene     2               \n",
       "2 WF   Volume 1,3,5-Trimethylbenzene     2               \n",
       "3 WF   Volume 1,3-Dihydroxynaphthalene   1               \n",
       "4 WF   Volume 1,4-Dichloro-2-butene, cis 1               \n",
       "5 WF   Volume 1,4-Dichlorobenzene        1               \n",
       "6 WF   Volume 1,8-Dihydroxynaphthalene   1               "
      ]
     },
     "metadata": {},
     "output_type": "display_data"
    }
   ],
   "source": [
    "sample_type_presence_df = combined_df %>%\n",
    "    # if the value isn't MAR count it as being present\n",
    "    mutate(count = ifelse(Value != 'NA', 1, 0)) %>%\n",
    "    # determining which have at least one experimental value within each sample type\n",
    "    group_by(Data, Metric, Name) %>%\n",
    "    # summing the number of experimental records for each variable\n",
    "    reframe(data_group_count = sum(count))\n",
    "\n",
    "head(sample_type_presence_df)"
   ]
  },
  {
   "cell_type": "code",
   "execution_count": 9,
   "id": "01950eb7-eaa3-4736-b19c-bac78b6e26c0",
   "metadata": {},
   "outputs": [
    {
     "data": {
      "text/html": [
       "<style>\n",
       ".list-inline {list-style: none; margin:0; padding: 0}\n",
       ".list-inline>li {display: inline-block}\n",
       ".list-inline>li:not(:last-child)::after {content: \"\\00b7\"; padding: 0 .5ex}\n",
       "</style>\n",
       "<ol class=list-inline><li>449</li><li>4</li></ol>\n"
      ],
      "text/latex": [
       "\\begin{enumerate*}\n",
       "\\item 449\n",
       "\\item 4\n",
       "\\end{enumerate*}\n"
      ],
      "text/markdown": [
       "1. 449\n",
       "2. 4\n",
       "\n",
       "\n"
      ],
      "text/plain": [
       "[1] 449   4"
      ]
     },
     "metadata": {},
     "output_type": "display_data"
    },
    {
     "data": {
      "text/html": [
       "<style>\n",
       ".list-inline {list-style: none; margin:0; padding: 0}\n",
       ".list-inline>li {display: inline-block}\n",
       ".list-inline>li:not(:last-child)::after {content: \"\\00b7\"; padding: 0 .5ex}\n",
       "</style>\n",
       "<ol class=list-inline><li>333</li><li>4</li></ol>\n"
      ],
      "text/latex": [
       "\\begin{enumerate*}\n",
       "\\item 333\n",
       "\\item 4\n",
       "\\end{enumerate*}\n"
      ],
      "text/markdown": [
       "1. 333\n",
       "2. 4\n",
       "\n",
       "\n"
      ],
      "text/plain": [
       "[1] 333   4"
      ]
     },
     "metadata": {},
     "output_type": "display_data"
    }
   ],
   "source": [
    "dim(sample_type_presence_df)\n",
    "\n",
    "sample_type_keep_df = sample_type_presence_df %>%\n",
    "    filter(data_group_count > 0) \n",
    "\n",
    "dim(sample_type_keep_df)"
   ]
  },
  {
   "cell_type": "code",
   "execution_count": 10,
   "id": "e9e0b6d6-d46b-4f37-81e9-f71cbf5eaefd",
   "metadata": {},
   "outputs": [
    {
     "name": "stderr",
     "output_type": "stream",
     "text": [
      "\u001b[1m\u001b[22mJoining with `by = join_by(Data, Metric, Name)`\n"
     ]
    },
    {
     "data": {
      "text/html": [
       "<table class=\"dataframe\">\n",
       "<caption>A tibble: 6 × 9</caption>\n",
       "<thead>\n",
       "\t<tr><th scope=col>Data</th><th scope=col>Metric</th><th scope=col>Name</th><th scope=col>HAWC_ID</th><th scope=col>Study</th><th scope=col>Replicate</th><th scope=col>Chemical_Class</th><th scope=col>DTXSID</th><th scope=col>Value</th></tr>\n",
       "\t<tr><th scope=col>&lt;chr&gt;</th><th scope=col>&lt;chr&gt;</th><th scope=col>&lt;chr&gt;</th><th scope=col>&lt;dbl&gt;</th><th scope=col>&lt;chr&gt;</th><th scope=col>&lt;dbl&gt;</th><th scope=col>&lt;chr&gt;</th><th scope=col>&lt;chr&gt;</th><th scope=col>&lt;chr&gt;</th></tr>\n",
       "</thead>\n",
       "<tbody>\n",
       "\t<tr><td>WF</td><td>Volume</td><td>1,2,4-Trimethylbenzene    </td><td>1289926</td><td>Wang et al. 2024       </td><td>1</td><td>VOC</td><td>DTXSID6021402 </td><td>730</td></tr>\n",
       "\t<tr><td>WF</td><td>Volume</td><td>1,2,4-Trimethylbenzene    </td><td>1306371</td><td>Ketcherside et al. 2024</td><td>1</td><td>VOC</td><td>DTXSID6021402 </td><td>130</td></tr>\n",
       "\t<tr><td>WF</td><td>Volume</td><td>1,3,5-Trimethylbenzene    </td><td>1289926</td><td>Wang et al. 2024       </td><td>1</td><td>VOC</td><td>DTXSID6026797 </td><td>330</td></tr>\n",
       "\t<tr><td>WF</td><td>Volume</td><td>1,3,5-Trimethylbenzene    </td><td>1306371</td><td>Ketcherside et al. 2024</td><td>1</td><td>VOC</td><td>DTXSID6026797 </td><td>110</td></tr>\n",
       "\t<tr><td>WF</td><td>Volume</td><td>1,3-Dihydroxynaphthalene  </td><td>1289821</td><td>Liang et al. 2021      </td><td>1</td><td>PAH</td><td>DTXSID40456587</td><td>6  </td></tr>\n",
       "\t<tr><td>WF</td><td>Volume</td><td>1,4-Dichloro-2-butene, cis</td><td>1289926</td><td>Wang et al. 2024       </td><td>1</td><td>VOC</td><td>DTXSID3027405 </td><td>230</td></tr>\n",
       "</tbody>\n",
       "</table>\n"
      ],
      "text/latex": [
       "A tibble: 6 × 9\n",
       "\\begin{tabular}{lllllllll}\n",
       " Data & Metric & Name & HAWC\\_ID & Study & Replicate & Chemical\\_Class & DTXSID & Value\\\\\n",
       " <chr> & <chr> & <chr> & <dbl> & <chr> & <dbl> & <chr> & <chr> & <chr>\\\\\n",
       "\\hline\n",
       "\t WF & Volume & 1,2,4-Trimethylbenzene     & 1289926 & Wang et al. 2024        & 1 & VOC & DTXSID6021402  & 730\\\\\n",
       "\t WF & Volume & 1,2,4-Trimethylbenzene     & 1306371 & Ketcherside et al. 2024 & 1 & VOC & DTXSID6021402  & 130\\\\\n",
       "\t WF & Volume & 1,3,5-Trimethylbenzene     & 1289926 & Wang et al. 2024        & 1 & VOC & DTXSID6026797  & 330\\\\\n",
       "\t WF & Volume & 1,3,5-Trimethylbenzene     & 1306371 & Ketcherside et al. 2024 & 1 & VOC & DTXSID6026797  & 110\\\\\n",
       "\t WF & Volume & 1,3-Dihydroxynaphthalene   & 1289821 & Liang et al. 2021       & 1 & PAH & DTXSID40456587 & 6  \\\\\n",
       "\t WF & Volume & 1,4-Dichloro-2-butene, cis & 1289926 & Wang et al. 2024        & 1 & VOC & DTXSID3027405  & 230\\\\\n",
       "\\end{tabular}\n"
      ],
      "text/markdown": [
       "\n",
       "A tibble: 6 × 9\n",
       "\n",
       "| Data &lt;chr&gt; | Metric &lt;chr&gt; | Name &lt;chr&gt; | HAWC_ID &lt;dbl&gt; | Study &lt;chr&gt; | Replicate &lt;dbl&gt; | Chemical_Class &lt;chr&gt; | DTXSID &lt;chr&gt; | Value &lt;chr&gt; |\n",
       "|---|---|---|---|---|---|---|---|---|\n",
       "| WF | Volume | 1,2,4-Trimethylbenzene     | 1289926 | Wang et al. 2024        | 1 | VOC | DTXSID6021402  | 730 |\n",
       "| WF | Volume | 1,2,4-Trimethylbenzene     | 1306371 | Ketcherside et al. 2024 | 1 | VOC | DTXSID6021402  | 130 |\n",
       "| WF | Volume | 1,3,5-Trimethylbenzene     | 1289926 | Wang et al. 2024        | 1 | VOC | DTXSID6026797  | 330 |\n",
       "| WF | Volume | 1,3,5-Trimethylbenzene     | 1306371 | Ketcherside et al. 2024 | 1 | VOC | DTXSID6026797  | 110 |\n",
       "| WF | Volume | 1,3-Dihydroxynaphthalene   | 1289821 | Liang et al. 2021       | 1 | PAH | DTXSID40456587 | 6   |\n",
       "| WF | Volume | 1,4-Dichloro-2-butene, cis | 1289926 | Wang et al. 2024        | 1 | VOC | DTXSID3027405  | 230 |\n",
       "\n"
      ],
      "text/plain": [
       "  Data Metric Name                       HAWC_ID Study                  \n",
       "1 WF   Volume 1,2,4-Trimethylbenzene     1289926 Wang et al. 2024       \n",
       "2 WF   Volume 1,2,4-Trimethylbenzene     1306371 Ketcherside et al. 2024\n",
       "3 WF   Volume 1,3,5-Trimethylbenzene     1289926 Wang et al. 2024       \n",
       "4 WF   Volume 1,3,5-Trimethylbenzene     1306371 Ketcherside et al. 2024\n",
       "5 WF   Volume 1,3-Dihydroxynaphthalene   1289821 Liang et al. 2021      \n",
       "6 WF   Volume 1,4-Dichloro-2-butene, cis 1289926 Wang et al. 2024       \n",
       "  Replicate Chemical_Class DTXSID         Value\n",
       "1 1         VOC            DTXSID6021402  730  \n",
       "2 1         VOC            DTXSID6021402  130  \n",
       "3 1         VOC            DTXSID6026797  330  \n",
       "4 1         VOC            DTXSID6026797  110  \n",
       "5 1         PAH            DTXSID40456587 6    \n",
       "6 1         VOC            DTXSID3027405  230  "
      ]
     },
     "metadata": {},
     "output_type": "display_data"
    }
   ],
   "source": [
    "# filtering the original df\n",
    "filter1_df = inner_join(sample_type_keep_df[,1:3], combined_df)\n",
    "head(filter1_df)"
   ]
  },
  {
   "cell_type": "code",
   "execution_count": 11,
   "id": "326df55e-15f1-4704-969d-2e19d7cf54fd",
   "metadata": {},
   "outputs": [
    {
     "data": {
      "text/html": [
       "<style>\n",
       ".list-inline {list-style: none; margin:0; padding: 0}\n",
       ".list-inline>li {display: inline-block}\n",
       ".list-inline>li:not(:last-child)::after {content: \"\\00b7\"; padding: 0 .5ex}\n",
       "</style>\n",
       "<ol class=list-inline><li>6581</li><li>9</li></ol>\n"
      ],
      "text/latex": [
       "\\begin{enumerate*}\n",
       "\\item 6581\n",
       "\\item 9\n",
       "\\end{enumerate*}\n"
      ],
      "text/markdown": [
       "1. 6581\n",
       "2. 9\n",
       "\n",
       "\n"
      ],
      "text/plain": [
       "[1] 6581    9"
      ]
     },
     "metadata": {},
     "output_type": "display_data"
    },
    {
     "data": {
      "text/html": [
       "<style>\n",
       ".list-inline {list-style: none; margin:0; padding: 0}\n",
       ".list-inline>li {display: inline-block}\n",
       ".list-inline>li:not(:last-child)::after {content: \"\\00b7\"; padding: 0 .5ex}\n",
       "</style>\n",
       "<ol class=list-inline><li>5218</li><li>9</li></ol>\n"
      ],
      "text/latex": [
       "\\begin{enumerate*}\n",
       "\\item 5218\n",
       "\\item 9\n",
       "\\end{enumerate*}\n"
      ],
      "text/markdown": [
       "1. 5218\n",
       "2. 9\n",
       "\n",
       "\n"
      ],
      "text/plain": [
       "[1] 5218    9"
      ]
     },
     "metadata": {},
     "output_type": "display_data"
    }
   ],
   "source": [
    "dim(combined_df)\n",
    "dim(filter1_df)"
   ]
  },
  {
   "cell_type": "markdown",
   "id": "5f340a20-8ef3-419d-92a5-9140887821d7",
   "metadata": {},
   "source": [
    "Started with 6581 records, 1363 were removed, leaving 5218. \n",
    "\n",
    "Now that each sample type (WS of WF) has at least one experimental value, we'll see if there are at least 50% of data between the sample types."
   ]
  },
  {
   "cell_type": "code",
   "execution_count": 12,
   "id": "d7cb46a6-4543-4dfa-949a-58c261307882",
   "metadata": {},
   "outputs": [
    {
     "data": {
      "text/html": [
       "<table class=\"dataframe\">\n",
       "<caption>A tibble: 6 × 3</caption>\n",
       "<thead>\n",
       "\t<tr><th scope=col>Metric</th><th scope=col>Name</th><th scope=col>Variable_Presence_Percentage</th></tr>\n",
       "\t<tr><th scope=col>&lt;chr&gt;</th><th scope=col>&lt;chr&gt;</th><th scope=col>&lt;dbl&gt;</th></tr>\n",
       "</thead>\n",
       "<tbody>\n",
       "\t<tr><td>Volume</td><td>1,2,4-Trimethylbenzene    </td><td>100</td></tr>\n",
       "\t<tr><td>Volume</td><td>1,3,5-Trimethylbenzene    </td><td>100</td></tr>\n",
       "\t<tr><td>Volume</td><td>1,3-Dihydroxynaphthalene  </td><td>100</td></tr>\n",
       "\t<tr><td>Volume</td><td>1,4-Dichloro-2-butene, cis</td><td>100</td></tr>\n",
       "\t<tr><td>Volume</td><td>1,4-Dichlorobenzene       </td><td>100</td></tr>\n",
       "\t<tr><td>Volume</td><td>1,8-Dihydroxynaphthalene  </td><td>100</td></tr>\n",
       "</tbody>\n",
       "</table>\n"
      ],
      "text/latex": [
       "A tibble: 6 × 3\n",
       "\\begin{tabular}{lll}\n",
       " Metric & Name & Variable\\_Presence\\_Percentage\\\\\n",
       " <chr> & <chr> & <dbl>\\\\\n",
       "\\hline\n",
       "\t Volume & 1,2,4-Trimethylbenzene     & 100\\\\\n",
       "\t Volume & 1,3,5-Trimethylbenzene     & 100\\\\\n",
       "\t Volume & 1,3-Dihydroxynaphthalene   & 100\\\\\n",
       "\t Volume & 1,4-Dichloro-2-butene, cis & 100\\\\\n",
       "\t Volume & 1,4-Dichlorobenzene        & 100\\\\\n",
       "\t Volume & 1,8-Dihydroxynaphthalene   & 100\\\\\n",
       "\\end{tabular}\n"
      ],
      "text/markdown": [
       "\n",
       "A tibble: 6 × 3\n",
       "\n",
       "| Metric &lt;chr&gt; | Name &lt;chr&gt; | Variable_Presence_Percentage &lt;dbl&gt; |\n",
       "|---|---|---|\n",
       "| Volume | 1,2,4-Trimethylbenzene     | 100 |\n",
       "| Volume | 1,3,5-Trimethylbenzene     | 100 |\n",
       "| Volume | 1,3-Dihydroxynaphthalene   | 100 |\n",
       "| Volume | 1,4-Dichloro-2-butene, cis | 100 |\n",
       "| Volume | 1,4-Dichlorobenzene        | 100 |\n",
       "| Volume | 1,8-Dihydroxynaphthalene   | 100 |\n",
       "\n"
      ],
      "text/plain": [
       "  Metric Name                       Variable_Presence_Percentage\n",
       "1 Volume 1,2,4-Trimethylbenzene     100                         \n",
       "2 Volume 1,3,5-Trimethylbenzene     100                         \n",
       "3 Volume 1,3-Dihydroxynaphthalene   100                         \n",
       "4 Volume 1,4-Dichloro-2-butene, cis 100                         \n",
       "5 Volume 1,4-Dichlorobenzene        100                         \n",
       "6 Volume 1,8-Dihydroxynaphthalene   100                         "
      ]
     },
     "metadata": {},
     "output_type": "display_data"
    }
   ],
   "source": [
    "variable_presence_df = filter1_df %>%\n",
    "    # if the value isn't MAR count it as being present\n",
    "    mutate(count = ifelse(Value != 'NA', 1, 0)) %>%\n",
    "    group_by(Metric, Name) %>%\n",
    "    # calculating the percentage of variables with data overall\n",
    "    reframe(Variable_Presence_Percentage = (sum(count)/n()) * 100) %>%\n",
    "    arrange(-Variable_Presence_Percentage)\n",
    "\n",
    "# viewing data that passed the filter\n",
    "keep_variables_df = variable_presence_df %>%\n",
    "     filter(Variable_Presence_Percentage >= 50) %>%\n",
    "     unique()\n",
    "\n",
    "head(keep_variables_df)"
   ]
  },
  {
   "cell_type": "code",
   "execution_count": 13,
   "id": "86b71768-8adf-45d6-8d3d-581c3a7d1c80",
   "metadata": {},
   "outputs": [
    {
     "name": "stderr",
     "output_type": "stream",
     "text": [
      "\u001b[1m\u001b[22mJoining with `by = join_by(Metric, Name)`\n"
     ]
    },
    {
     "data": {
      "text/html": [
       "<table class=\"dataframe\">\n",
       "<caption>A tibble: 6 × 9</caption>\n",
       "<thead>\n",
       "\t<tr><th scope=col>Metric</th><th scope=col>Name</th><th scope=col>Data</th><th scope=col>HAWC_ID</th><th scope=col>Study</th><th scope=col>Replicate</th><th scope=col>Chemical_Class</th><th scope=col>DTXSID</th><th scope=col>Value</th></tr>\n",
       "\t<tr><th scope=col>&lt;chr&gt;</th><th scope=col>&lt;chr&gt;</th><th scope=col>&lt;chr&gt;</th><th scope=col>&lt;dbl&gt;</th><th scope=col>&lt;chr&gt;</th><th scope=col>&lt;dbl&gt;</th><th scope=col>&lt;chr&gt;</th><th scope=col>&lt;chr&gt;</th><th scope=col>&lt;chr&gt;</th></tr>\n",
       "</thead>\n",
       "<tbody>\n",
       "\t<tr><td>Volume</td><td>1,2,4-Trimethylbenzene    </td><td>WF</td><td>1289926</td><td>Wang et al. 2024       </td><td>1</td><td>VOC</td><td>DTXSID6021402 </td><td>730</td></tr>\n",
       "\t<tr><td>Volume</td><td>1,2,4-Trimethylbenzene    </td><td>WF</td><td>1306371</td><td>Ketcherside et al. 2024</td><td>1</td><td>VOC</td><td>DTXSID6021402 </td><td>130</td></tr>\n",
       "\t<tr><td>Volume</td><td>1,3,5-Trimethylbenzene    </td><td>WF</td><td>1289926</td><td>Wang et al. 2024       </td><td>1</td><td>VOC</td><td>DTXSID6026797 </td><td>330</td></tr>\n",
       "\t<tr><td>Volume</td><td>1,3,5-Trimethylbenzene    </td><td>WF</td><td>1306371</td><td>Ketcherside et al. 2024</td><td>1</td><td>VOC</td><td>DTXSID6026797 </td><td>110</td></tr>\n",
       "\t<tr><td>Volume</td><td>1,3-Dihydroxynaphthalene  </td><td>WF</td><td>1289821</td><td>Liang et al. 2021      </td><td>1</td><td>PAH</td><td>DTXSID40456587</td><td>6  </td></tr>\n",
       "\t<tr><td>Volume</td><td>1,4-Dichloro-2-butene, cis</td><td>WF</td><td>1289926</td><td>Wang et al. 2024       </td><td>1</td><td>VOC</td><td>DTXSID3027405 </td><td>230</td></tr>\n",
       "</tbody>\n",
       "</table>\n"
      ],
      "text/latex": [
       "A tibble: 6 × 9\n",
       "\\begin{tabular}{lllllllll}\n",
       " Metric & Name & Data & HAWC\\_ID & Study & Replicate & Chemical\\_Class & DTXSID & Value\\\\\n",
       " <chr> & <chr> & <chr> & <dbl> & <chr> & <dbl> & <chr> & <chr> & <chr>\\\\\n",
       "\\hline\n",
       "\t Volume & 1,2,4-Trimethylbenzene     & WF & 1289926 & Wang et al. 2024        & 1 & VOC & DTXSID6021402  & 730\\\\\n",
       "\t Volume & 1,2,4-Trimethylbenzene     & WF & 1306371 & Ketcherside et al. 2024 & 1 & VOC & DTXSID6021402  & 130\\\\\n",
       "\t Volume & 1,3,5-Trimethylbenzene     & WF & 1289926 & Wang et al. 2024        & 1 & VOC & DTXSID6026797  & 330\\\\\n",
       "\t Volume & 1,3,5-Trimethylbenzene     & WF & 1306371 & Ketcherside et al. 2024 & 1 & VOC & DTXSID6026797  & 110\\\\\n",
       "\t Volume & 1,3-Dihydroxynaphthalene   & WF & 1289821 & Liang et al. 2021       & 1 & PAH & DTXSID40456587 & 6  \\\\\n",
       "\t Volume & 1,4-Dichloro-2-butene, cis & WF & 1289926 & Wang et al. 2024        & 1 & VOC & DTXSID3027405  & 230\\\\\n",
       "\\end{tabular}\n"
      ],
      "text/markdown": [
       "\n",
       "A tibble: 6 × 9\n",
       "\n",
       "| Metric &lt;chr&gt; | Name &lt;chr&gt; | Data &lt;chr&gt; | HAWC_ID &lt;dbl&gt; | Study &lt;chr&gt; | Replicate &lt;dbl&gt; | Chemical_Class &lt;chr&gt; | DTXSID &lt;chr&gt; | Value &lt;chr&gt; |\n",
       "|---|---|---|---|---|---|---|---|---|\n",
       "| Volume | 1,2,4-Trimethylbenzene     | WF | 1289926 | Wang et al. 2024        | 1 | VOC | DTXSID6021402  | 730 |\n",
       "| Volume | 1,2,4-Trimethylbenzene     | WF | 1306371 | Ketcherside et al. 2024 | 1 | VOC | DTXSID6021402  | 130 |\n",
       "| Volume | 1,3,5-Trimethylbenzene     | WF | 1289926 | Wang et al. 2024        | 1 | VOC | DTXSID6026797  | 330 |\n",
       "| Volume | 1,3,5-Trimethylbenzene     | WF | 1306371 | Ketcherside et al. 2024 | 1 | VOC | DTXSID6026797  | 110 |\n",
       "| Volume | 1,3-Dihydroxynaphthalene   | WF | 1289821 | Liang et al. 2021       | 1 | PAH | DTXSID40456587 | 6   |\n",
       "| Volume | 1,4-Dichloro-2-butene, cis | WF | 1289926 | Wang et al. 2024        | 1 | VOC | DTXSID3027405  | 230 |\n",
       "\n"
      ],
      "text/plain": [
       "  Metric Name                       Data HAWC_ID Study                  \n",
       "1 Volume 1,2,4-Trimethylbenzene     WF   1289926 Wang et al. 2024       \n",
       "2 Volume 1,2,4-Trimethylbenzene     WF   1306371 Ketcherside et al. 2024\n",
       "3 Volume 1,3,5-Trimethylbenzene     WF   1289926 Wang et al. 2024       \n",
       "4 Volume 1,3,5-Trimethylbenzene     WF   1306371 Ketcherside et al. 2024\n",
       "5 Volume 1,3-Dihydroxynaphthalene   WF   1289821 Liang et al. 2021      \n",
       "6 Volume 1,4-Dichloro-2-butene, cis WF   1289926 Wang et al. 2024       \n",
       "  Replicate Chemical_Class DTXSID         Value\n",
       "1 1         VOC            DTXSID6021402  730  \n",
       "2 1         VOC            DTXSID6021402  130  \n",
       "3 1         VOC            DTXSID6026797  330  \n",
       "4 1         VOC            DTXSID6026797  110  \n",
       "5 1         PAH            DTXSID40456587 6    \n",
       "6 1         VOC            DTXSID3027405  230  "
      ]
     },
     "metadata": {},
     "output_type": "display_data"
    }
   ],
   "source": [
    "# only keeping records that passed the background filter\n",
    "filter2_df = inner_join(keep_variables_df[,1:2], filter1_df) %>%\n",
    "    # metals don't have a DTXSID, so making that col their name\n",
    "    mutate(DTXSID = ifelse(DTXSID != 'NA', DTXSID, Name)) \n",
    "    \n",
    "\n",
    "head(filter2_df)"
   ]
  },
  {
   "cell_type": "code",
   "execution_count": 14,
   "id": "606a93db-e66a-4d74-9b15-7b6f6d34b28c",
   "metadata": {},
   "outputs": [
    {
     "data": {
      "text/html": [
       "<style>\n",
       ".list-inline {list-style: none; margin:0; padding: 0}\n",
       ".list-inline>li {display: inline-block}\n",
       ".list-inline>li:not(:last-child)::after {content: \"\\00b7\"; padding: 0 .5ex}\n",
       "</style>\n",
       "<ol class=list-inline><li>4882</li><li>9</li></ol>\n"
      ],
      "text/latex": [
       "\\begin{enumerate*}\n",
       "\\item 4882\n",
       "\\item 9\n",
       "\\end{enumerate*}\n"
      ],
      "text/markdown": [
       "1. 4882\n",
       "2. 9\n",
       "\n",
       "\n"
      ],
      "text/plain": [
       "[1] 4882    9"
      ]
     },
     "metadata": {},
     "output_type": "display_data"
    }
   ],
   "source": [
    "dim(filter2_df)"
   ]
  },
  {
   "cell_type": "markdown",
   "id": "6fd63281-87c6-4702-9834-4ff5be768edd",
   "metadata": {},
   "source": [
    "An additional 336 records were removed, leaving 4882.\n",
    "\n",
    "# Second Variable Background Filter\n",
    "\n",
    "In the intial filter, samples were combined. However, this time variables (ie. metal or chemical) will be split based on their `Metric` (ie. volume or weight) and then retained if that variable in found in both woodsmoke and wildfire samples within volume or weight samples."
   ]
  },
  {
   "cell_type": "code",
   "execution_count": 15,
   "id": "00ed4b32-8851-48f9-a680-c4277545ea8d",
   "metadata": {},
   "outputs": [],
   "source": [
    "split_filtered_df = filter2_df %>%\n",
    "    group_by(Data, Metric) %>%\n",
    "    group_split\n",
    "\n",
    "split_ws_vol_df = split_filtered_df[[3]]\n",
    "split_ws_weight_df = split_filtered_df[[4]]\n",
    "split_wf_vol_df = split_filtered_df[[1]]\n",
    "split_wf_weight_df = split_filtered_df[[2]]"
   ]
  },
  {
   "cell_type": "code",
   "execution_count": 16,
   "id": "c52b40df-d2c5-4604-8fa8-a5f31ad46df7",
   "metadata": {},
   "outputs": [
    {
     "data": {
      "text/html": [
       "95"
      ],
      "text/latex": [
       "95"
      ],
      "text/markdown": [
       "95"
      ],
      "text/plain": [
       "[1] 95"
      ]
     },
     "metadata": {},
     "output_type": "display_data"
    },
    {
     "data": {
      "text/html": [
       "67"
      ],
      "text/latex": [
       "67"
      ],
      "text/markdown": [
       "67"
      ],
      "text/plain": [
       "[1] 67"
      ]
     },
     "metadata": {},
     "output_type": "display_data"
    },
    {
     "data": {
      "text/html": [
       "85"
      ],
      "text/latex": [
       "85"
      ],
      "text/markdown": [
       "85"
      ],
      "text/plain": [
       "[1] 85"
      ]
     },
     "metadata": {},
     "output_type": "display_data"
    },
    {
     "data": {
      "text/html": [
       "68"
      ],
      "text/latex": [
       "68"
      ],
      "text/markdown": [
       "68"
      ],
      "text/plain": [
       "[1] 68"
      ]
     },
     "metadata": {},
     "output_type": "display_data"
    }
   ],
   "source": [
    "# seeing how many unique variables are in each df and if they're consistent in each file\n",
    "length(unique(split_ws_vol_df$Name))\n",
    "length(unique(split_wf_vol_df$Name))\n",
    "length(unique(split_ws_weight_df$Name))\n",
    "length(unique(split_wf_weight_df$Name))"
   ]
  },
  {
   "cell_type": "code",
   "execution_count": 17,
   "id": "97f266f6-d8ee-44ce-a9ab-cc96acfcbf2f",
   "metadata": {},
   "outputs": [
    {
     "data": {
      "text/html": [
       "32"
      ],
      "text/latex": [
       "32"
      ],
      "text/markdown": [
       "32"
      ],
      "text/plain": [
       "[1] 32"
      ]
     },
     "metadata": {},
     "output_type": "display_data"
    },
    {
     "data": {
      "text/html": [
       "32"
      ],
      "text/latex": [
       "32"
      ],
      "text/markdown": [
       "32"
      ],
      "text/plain": [
       "[1] 32"
      ]
     },
     "metadata": {},
     "output_type": "display_data"
    },
    {
     "data": {
      "text/html": [
       "35"
      ],
      "text/latex": [
       "35"
      ],
      "text/markdown": [
       "35"
      ],
      "text/plain": [
       "[1] 35"
      ]
     },
     "metadata": {},
     "output_type": "display_data"
    },
    {
     "data": {
      "text/html": [
       "35"
      ],
      "text/latex": [
       "35"
      ],
      "text/markdown": [
       "35"
      ],
      "text/plain": [
       "[1] 35"
      ]
     },
     "metadata": {},
     "output_type": "display_data"
    }
   ],
   "source": [
    "# they're not so first getting variables that are in weight or volume samples\n",
    "consistent_wf_vol_df = split_wf_vol_df %>%\n",
    "    filter(Name %in% unique(split_ws_vol_df$Name))\n",
    "consistent_ws_vol_df = split_ws_vol_df %>%\n",
    "    filter(Name %in% consistent_wf_vol_df$Name)\n",
    "consistent_wf_weight_df = split_wf_weight_df %>%\n",
    "    filter(Name %in% unique(split_ws_weight_df$Name))\n",
    "consistent_ws_weight_df = split_ws_weight_df %>%\n",
    "    filter(Name %in% consistent_wf_weight_df$Name)\n",
    "\n",
    "length(unique(consistent_wf_vol_df$Name))\n",
    "length(unique(consistent_ws_vol_df$Name))\n",
    "length(unique(consistent_wf_weight_df$Name))\n",
    "length(unique(consistent_ws_weight_df$Name))"
   ]
  },
  {
   "cell_type": "markdown",
   "id": "4b604def-71e1-482c-ab06-ed64e9e7d830",
   "metadata": {},
   "source": [
    "There were 95, 67, 85 and 68 woodsmoke weight, woodsmoke volume, wildfire weight, and wildfire volume samples, respectively. 32 variables were common between volume samples and 35 were common between weight records and will be retained."
   ]
  },
  {
   "cell_type": "code",
   "execution_count": 18,
   "id": "0d22def2-eb27-4093-8bbe-8a7c8082b9ce",
   "metadata": {},
   "outputs": [
    {
     "data": {
      "text/html": [
       "<table class=\"dataframe\">\n",
       "<caption>A tibble: 6 × 9</caption>\n",
       "<thead>\n",
       "\t<tr><th scope=col>Metric</th><th scope=col>Name</th><th scope=col>Data</th><th scope=col>HAWC_ID</th><th scope=col>Study</th><th scope=col>Replicate</th><th scope=col>Chemical_Class</th><th scope=col>DTXSID</th><th scope=col>Value</th></tr>\n",
       "\t<tr><th scope=col>&lt;chr&gt;</th><th scope=col>&lt;chr&gt;</th><th scope=col>&lt;chr&gt;</th><th scope=col>&lt;dbl&gt;</th><th scope=col>&lt;chr&gt;</th><th scope=col>&lt;dbl&gt;</th><th scope=col>&lt;chr&gt;</th><th scope=col>&lt;chr&gt;</th><th scope=col>&lt;chr&gt;</th></tr>\n",
       "</thead>\n",
       "<tbody>\n",
       "\t<tr><td>Volume</td><td>Acenaphthylene</td><td>WS</td><td>1263480</td><td>Burnet et al. 1990</td><td>1</td><td>PAH</td><td>DTXSID3023845</td><td>6187000 </td></tr>\n",
       "\t<tr><td>Volume</td><td>Acenaphthylene</td><td>WS</td><td>1263480</td><td>Burnet et al. 1990</td><td>2</td><td>PAH</td><td>DTXSID3023845</td><td>18890500</td></tr>\n",
       "\t<tr><td>Volume</td><td>Acenaphthylene</td><td>WS</td><td>1263480</td><td>Burnet et al. 1990</td><td>3</td><td>PAH</td><td>DTXSID3023845</td><td>7806000 </td></tr>\n",
       "\t<tr><td>Volume</td><td>Acenaphthylene</td><td>WS</td><td>1263484</td><td>Leese et al. 1989 </td><td>1</td><td>PAH</td><td>DTXSID3023845</td><td>1100000 </td></tr>\n",
       "\t<tr><td>Volume</td><td>Acenaphthylene</td><td>WS</td><td>1263484</td><td>Leese et al. 1989 </td><td>2</td><td>PAH</td><td>DTXSID3023845</td><td>2800000 </td></tr>\n",
       "\t<tr><td>Volume</td><td>Acenaphthylene</td><td>WS</td><td> 429445</td><td>Rajput 2010       </td><td>1</td><td>PAH</td><td>DTXSID3023845</td><td>53500   </td></tr>\n",
       "</tbody>\n",
       "</table>\n"
      ],
      "text/latex": [
       "A tibble: 6 × 9\n",
       "\\begin{tabular}{lllllllll}\n",
       " Metric & Name & Data & HAWC\\_ID & Study & Replicate & Chemical\\_Class & DTXSID & Value\\\\\n",
       " <chr> & <chr> & <chr> & <dbl> & <chr> & <dbl> & <chr> & <chr> & <chr>\\\\\n",
       "\\hline\n",
       "\t Volume & Acenaphthylene & WS & 1263480 & Burnet et al. 1990 & 1 & PAH & DTXSID3023845 & 6187000 \\\\\n",
       "\t Volume & Acenaphthylene & WS & 1263480 & Burnet et al. 1990 & 2 & PAH & DTXSID3023845 & 18890500\\\\\n",
       "\t Volume & Acenaphthylene & WS & 1263480 & Burnet et al. 1990 & 3 & PAH & DTXSID3023845 & 7806000 \\\\\n",
       "\t Volume & Acenaphthylene & WS & 1263484 & Leese et al. 1989  & 1 & PAH & DTXSID3023845 & 1100000 \\\\\n",
       "\t Volume & Acenaphthylene & WS & 1263484 & Leese et al. 1989  & 2 & PAH & DTXSID3023845 & 2800000 \\\\\n",
       "\t Volume & Acenaphthylene & WS &  429445 & Rajput 2010        & 1 & PAH & DTXSID3023845 & 53500   \\\\\n",
       "\\end{tabular}\n"
      ],
      "text/markdown": [
       "\n",
       "A tibble: 6 × 9\n",
       "\n",
       "| Metric &lt;chr&gt; | Name &lt;chr&gt; | Data &lt;chr&gt; | HAWC_ID &lt;dbl&gt; | Study &lt;chr&gt; | Replicate &lt;dbl&gt; | Chemical_Class &lt;chr&gt; | DTXSID &lt;chr&gt; | Value &lt;chr&gt; |\n",
       "|---|---|---|---|---|---|---|---|---|\n",
       "| Volume | Acenaphthylene | WS | 1263480 | Burnet et al. 1990 | 1 | PAH | DTXSID3023845 | 6187000  |\n",
       "| Volume | Acenaphthylene | WS | 1263480 | Burnet et al. 1990 | 2 | PAH | DTXSID3023845 | 18890500 |\n",
       "| Volume | Acenaphthylene | WS | 1263480 | Burnet et al. 1990 | 3 | PAH | DTXSID3023845 | 7806000  |\n",
       "| Volume | Acenaphthylene | WS | 1263484 | Leese et al. 1989  | 1 | PAH | DTXSID3023845 | 1100000  |\n",
       "| Volume | Acenaphthylene | WS | 1263484 | Leese et al. 1989  | 2 | PAH | DTXSID3023845 | 2800000  |\n",
       "| Volume | Acenaphthylene | WS |  429445 | Rajput 2010        | 1 | PAH | DTXSID3023845 | 53500    |\n",
       "\n"
      ],
      "text/plain": [
       "  Metric Name           Data HAWC_ID Study              Replicate\n",
       "1 Volume Acenaphthylene WS   1263480 Burnet et al. 1990 1        \n",
       "2 Volume Acenaphthylene WS   1263480 Burnet et al. 1990 2        \n",
       "3 Volume Acenaphthylene WS   1263480 Burnet et al. 1990 3        \n",
       "4 Volume Acenaphthylene WS   1263484 Leese et al. 1989  1        \n",
       "5 Volume Acenaphthylene WS   1263484 Leese et al. 1989  2        \n",
       "6 Volume Acenaphthylene WS    429445 Rajput 2010        1        \n",
       "  Chemical_Class DTXSID        Value   \n",
       "1 PAH            DTXSID3023845 6187000 \n",
       "2 PAH            DTXSID3023845 18890500\n",
       "3 PAH            DTXSID3023845 7806000 \n",
       "4 PAH            DTXSID3023845 1100000 \n",
       "5 PAH            DTXSID3023845 2800000 \n",
       "6 PAH            DTXSID3023845 53500   "
      ]
     },
     "metadata": {},
     "output_type": "display_data"
    }
   ],
   "source": [
    "# recombining data\n",
    "vol_df = rbind(consistent_ws_vol_df, consistent_wf_vol_df)\n",
    "weight_df = rbind(consistent_ws_weight_df, consistent_wf_weight_df)\n",
    "\n",
    "head(vol_df)"
   ]
  },
  {
   "cell_type": "markdown",
   "id": "12249f65-761e-4dbc-8231-8c455e6d3120",
   "metadata": {},
   "source": [
    "# QRILC Imputation\n",
    "\n",
    "Imputing non-detect data."
   ]
  },
  {
   "cell_type": "code",
   "execution_count": 19,
   "id": "f2daf4ed-f7ff-41f7-8e9a-e38067235cd5",
   "metadata": {},
   "outputs": [
    {
     "data": {
      "text/html": [
       "<table class=\"dataframe\">\n",
       "<caption>A tibble: 6 × 9</caption>\n",
       "<thead>\n",
       "\t<tr><th scope=col>Metric</th><th scope=col>Name</th><th scope=col>Data</th><th scope=col>HAWC_ID</th><th scope=col>Study</th><th scope=col>Replicate</th><th scope=col>Chemical_Class</th><th scope=col>DTXSID</th><th scope=col>Value</th></tr>\n",
       "\t<tr><th scope=col>&lt;chr&gt;</th><th scope=col>&lt;chr&gt;</th><th scope=col>&lt;chr&gt;</th><th scope=col>&lt;dbl&gt;</th><th scope=col>&lt;chr&gt;</th><th scope=col>&lt;dbl&gt;</th><th scope=col>&lt;chr&gt;</th><th scope=col>&lt;chr&gt;</th><th scope=col>&lt;chr&gt;</th></tr>\n",
       "</thead>\n",
       "<tbody>\n",
       "\t<tr><td>Weight</td><td>Fluoranthene</td><td>WS</td><td>1098462</td><td>Niu et al. 2023      </td><td>3</td><td>PAH  </td><td>DTXSID3024104</td><td>ND</td></tr>\n",
       "\t<tr><td>Weight</td><td>Phenanthrene</td><td>WS</td><td>1098462</td><td>Niu et al. 2023      </td><td>3</td><td>PAH  </td><td>DTXSID6024254</td><td>ND</td></tr>\n",
       "\t<tr><td>Weight</td><td>Phenanthrene</td><td>WS</td><td> 914540</td><td>Verma et al. 2021    </td><td>7</td><td>PAH  </td><td>DTXSID6024254</td><td>ND</td></tr>\n",
       "\t<tr><td>Weight</td><td>Phenanthrene</td><td>WS</td><td> 914540</td><td>Verma et al. 2021    </td><td>8</td><td>PAH  </td><td>DTXSID6024254</td><td>ND</td></tr>\n",
       "\t<tr><td>Weight</td><td>Ni          </td><td>WS</td><td> 822010</td><td>Farina et al. 2019   </td><td>1</td><td>Metal</td><td>Ni           </td><td>ND</td></tr>\n",
       "\t<tr><td>Weight</td><td>Ni          </td><td>WS</td><td> 299223</td><td>Kasurinen et al. 2015</td><td>2</td><td>Metal</td><td>Ni           </td><td>ND</td></tr>\n",
       "</tbody>\n",
       "</table>\n"
      ],
      "text/latex": [
       "A tibble: 6 × 9\n",
       "\\begin{tabular}{lllllllll}\n",
       " Metric & Name & Data & HAWC\\_ID & Study & Replicate & Chemical\\_Class & DTXSID & Value\\\\\n",
       " <chr> & <chr> & <chr> & <dbl> & <chr> & <dbl> & <chr> & <chr> & <chr>\\\\\n",
       "\\hline\n",
       "\t Weight & Fluoranthene & WS & 1098462 & Niu et al. 2023       & 3 & PAH   & DTXSID3024104 & ND\\\\\n",
       "\t Weight & Phenanthrene & WS & 1098462 & Niu et al. 2023       & 3 & PAH   & DTXSID6024254 & ND\\\\\n",
       "\t Weight & Phenanthrene & WS &  914540 & Verma et al. 2021     & 7 & PAH   & DTXSID6024254 & ND\\\\\n",
       "\t Weight & Phenanthrene & WS &  914540 & Verma et al. 2021     & 8 & PAH   & DTXSID6024254 & ND\\\\\n",
       "\t Weight & Ni           & WS &  822010 & Farina et al. 2019    & 1 & Metal & Ni            & ND\\\\\n",
       "\t Weight & Ni           & WS &  299223 & Kasurinen et al. 2015 & 2 & Metal & Ni            & ND\\\\\n",
       "\\end{tabular}\n"
      ],
      "text/markdown": [
       "\n",
       "A tibble: 6 × 9\n",
       "\n",
       "| Metric &lt;chr&gt; | Name &lt;chr&gt; | Data &lt;chr&gt; | HAWC_ID &lt;dbl&gt; | Study &lt;chr&gt; | Replicate &lt;dbl&gt; | Chemical_Class &lt;chr&gt; | DTXSID &lt;chr&gt; | Value &lt;chr&gt; |\n",
       "|---|---|---|---|---|---|---|---|---|\n",
       "| Weight | Fluoranthene | WS | 1098462 | Niu et al. 2023       | 3 | PAH   | DTXSID3024104 | ND |\n",
       "| Weight | Phenanthrene | WS | 1098462 | Niu et al. 2023       | 3 | PAH   | DTXSID6024254 | ND |\n",
       "| Weight | Phenanthrene | WS |  914540 | Verma et al. 2021     | 7 | PAH   | DTXSID6024254 | ND |\n",
       "| Weight | Phenanthrene | WS |  914540 | Verma et al. 2021     | 8 | PAH   | DTXSID6024254 | ND |\n",
       "| Weight | Ni           | WS |  822010 | Farina et al. 2019    | 1 | Metal | Ni            | ND |\n",
       "| Weight | Ni           | WS |  299223 | Kasurinen et al. 2015 | 2 | Metal | Ni            | ND |\n",
       "\n"
      ],
      "text/plain": [
       "  Metric Name         Data HAWC_ID Study                 Replicate\n",
       "1 Weight Fluoranthene WS   1098462 Niu et al. 2023       3        \n",
       "2 Weight Phenanthrene WS   1098462 Niu et al. 2023       3        \n",
       "3 Weight Phenanthrene WS    914540 Verma et al. 2021     7        \n",
       "4 Weight Phenanthrene WS    914540 Verma et al. 2021     8        \n",
       "5 Weight Ni           WS    822010 Farina et al. 2019    1        \n",
       "6 Weight Ni           WS    299223 Kasurinen et al. 2015 2        \n",
       "  Chemical_Class DTXSID        Value\n",
       "1 PAH            DTXSID3024104 ND   \n",
       "2 PAH            DTXSID6024254 ND   \n",
       "3 PAH            DTXSID6024254 ND   \n",
       "4 PAH            DTXSID6024254 ND   \n",
       "5 Metal          Ni            ND   \n",
       "6 Metal          Ni            ND   "
      ]
     },
     "metadata": {},
     "output_type": "display_data"
    }
   ],
   "source": [
    "head(weight_df %>%\n",
    "    filter(Value == 'ND'))"
   ]
  },
  {
   "cell_type": "markdown",
   "id": "c5c1d673-71d7-4cde-ba1f-3c8b41e73673",
   "metadata": {},
   "source": [
    "Only the weight dataframe has non-detect values, which will be imputed using QRILC. However, its MAR data that will be imputed using random forest (RF) will be removed entirely from the dataset."
   ]
  },
  {
   "cell_type": "code",
   "execution_count": 20,
   "id": "d435523e-a9be-47de-a079-3bd74d8f1b27",
   "metadata": {},
   "outputs": [
    {
     "name": "stderr",
     "output_type": "stream",
     "text": [
      "\u001b[1m\u001b[22mJoining with `by = join_by(Metric, Name, Data, HAWC_ID, Study, Replicate,\n",
      "Chemical_Class, DTXSID, Value)`\n",
      "Warning message:\n",
      "“NAs introduced by coercion”\n"
     ]
    },
    {
     "data": {
      "text/html": [
       "<table class=\"dataframe\">\n",
       "<caption>A tibble: 6 × 9</caption>\n",
       "<thead>\n",
       "\t<tr><th scope=col>Data</th><th scope=col>Metric</th><th scope=col>HAWC_ID</th><th scope=col>Study</th><th scope=col>Replicate</th><th scope=col>Chemical_Class</th><th scope=col>DTXSID</th><th scope=col>Name</th><th scope=col>Value</th></tr>\n",
       "\t<tr><th scope=col>&lt;chr&gt;</th><th scope=col>&lt;chr&gt;</th><th scope=col>&lt;dbl&gt;</th><th scope=col>&lt;chr&gt;</th><th scope=col>&lt;dbl&gt;</th><th scope=col>&lt;chr&gt;</th><th scope=col>&lt;chr&gt;</th><th scope=col>&lt;chr&gt;</th><th scope=col>&lt;dbl&gt;</th></tr>\n",
       "</thead>\n",
       "<tbody>\n",
       "\t<tr><td>WS</td><td>Weight</td><td> 821855</td><td>Erlandsson et al. 2020</td><td>1</td><td>PAH</td><td>DTXSID2060383</td><td>2,3-Dimethylnaphthalene</td><td> 0.05</td></tr>\n",
       "\t<tr><td>WS</td><td>Weight</td><td> 821855</td><td>Erlandsson et al. 2020</td><td>2</td><td>PAH</td><td>DTXSID2060383</td><td>2,3-Dimethylnaphthalene</td><td> 0.05</td></tr>\n",
       "\t<tr><td>WS</td><td>Weight</td><td>1257056</td><td>McCarrick et al. 2024 </td><td>1</td><td>PAH</td><td>DTXSID2060383</td><td>2,3-Dimethylnaphthalene</td><td> 0.04</td></tr>\n",
       "\t<tr><td>WS</td><td>Weight</td><td> 821855</td><td>Erlandsson et al. 2020</td><td>1</td><td>PAH</td><td>DTXSID8074819</td><td>2-Methylchrysene       </td><td> 7.40</td></tr>\n",
       "\t<tr><td>WS</td><td>Weight</td><td> 821855</td><td>Erlandsson et al. 2020</td><td>2</td><td>PAH</td><td>DTXSID8074819</td><td>2-Methylchrysene       </td><td>12.10</td></tr>\n",
       "\t<tr><td>WS</td><td>Weight</td><td>1257056</td><td>McCarrick et al. 2024 </td><td>1</td><td>PAH</td><td>DTXSID8074819</td><td>2-Methylchrysene       </td><td>15.45</td></tr>\n",
       "</tbody>\n",
       "</table>\n"
      ],
      "text/latex": [
       "A tibble: 6 × 9\n",
       "\\begin{tabular}{lllllllll}\n",
       " Data & Metric & HAWC\\_ID & Study & Replicate & Chemical\\_Class & DTXSID & Name & Value\\\\\n",
       " <chr> & <chr> & <dbl> & <chr> & <dbl> & <chr> & <chr> & <chr> & <dbl>\\\\\n",
       "\\hline\n",
       "\t WS & Weight &  821855 & Erlandsson et al. 2020 & 1 & PAH & DTXSID2060383 & 2,3-Dimethylnaphthalene &  0.05\\\\\n",
       "\t WS & Weight &  821855 & Erlandsson et al. 2020 & 2 & PAH & DTXSID2060383 & 2,3-Dimethylnaphthalene &  0.05\\\\\n",
       "\t WS & Weight & 1257056 & McCarrick et al. 2024  & 1 & PAH & DTXSID2060383 & 2,3-Dimethylnaphthalene &  0.04\\\\\n",
       "\t WS & Weight &  821855 & Erlandsson et al. 2020 & 1 & PAH & DTXSID8074819 & 2-Methylchrysene        &  7.40\\\\\n",
       "\t WS & Weight &  821855 & Erlandsson et al. 2020 & 2 & PAH & DTXSID8074819 & 2-Methylchrysene        & 12.10\\\\\n",
       "\t WS & Weight & 1257056 & McCarrick et al. 2024  & 1 & PAH & DTXSID8074819 & 2-Methylchrysene        & 15.45\\\\\n",
       "\\end{tabular}\n"
      ],
      "text/markdown": [
       "\n",
       "A tibble: 6 × 9\n",
       "\n",
       "| Data &lt;chr&gt; | Metric &lt;chr&gt; | HAWC_ID &lt;dbl&gt; | Study &lt;chr&gt; | Replicate &lt;dbl&gt; | Chemical_Class &lt;chr&gt; | DTXSID &lt;chr&gt; | Name &lt;chr&gt; | Value &lt;dbl&gt; |\n",
       "|---|---|---|---|---|---|---|---|---|\n",
       "| WS | Weight |  821855 | Erlandsson et al. 2020 | 1 | PAH | DTXSID2060383 | 2,3-Dimethylnaphthalene |  0.05 |\n",
       "| WS | Weight |  821855 | Erlandsson et al. 2020 | 2 | PAH | DTXSID2060383 | 2,3-Dimethylnaphthalene |  0.05 |\n",
       "| WS | Weight | 1257056 | McCarrick et al. 2024  | 1 | PAH | DTXSID2060383 | 2,3-Dimethylnaphthalene |  0.04 |\n",
       "| WS | Weight |  821855 | Erlandsson et al. 2020 | 1 | PAH | DTXSID8074819 | 2-Methylchrysene        |  7.40 |\n",
       "| WS | Weight |  821855 | Erlandsson et al. 2020 | 2 | PAH | DTXSID8074819 | 2-Methylchrysene        | 12.10 |\n",
       "| WS | Weight | 1257056 | McCarrick et al. 2024  | 1 | PAH | DTXSID8074819 | 2-Methylchrysene        | 15.45 |\n",
       "\n"
      ],
      "text/plain": [
       "  Data Metric HAWC_ID Study                  Replicate Chemical_Class\n",
       "1 WS   Weight  821855 Erlandsson et al. 2020 1         PAH           \n",
       "2 WS   Weight  821855 Erlandsson et al. 2020 2         PAH           \n",
       "3 WS   Weight 1257056 McCarrick et al. 2024  1         PAH           \n",
       "4 WS   Weight  821855 Erlandsson et al. 2020 1         PAH           \n",
       "5 WS   Weight  821855 Erlandsson et al. 2020 2         PAH           \n",
       "6 WS   Weight 1257056 McCarrick et al. 2024  1         PAH           \n",
       "  DTXSID        Name                    Value\n",
       "1 DTXSID2060383 2,3-Dimethylnaphthalene  0.05\n",
       "2 DTXSID2060383 2,3-Dimethylnaphthalene  0.05\n",
       "3 DTXSID2060383 2,3-Dimethylnaphthalene  0.04\n",
       "4 DTXSID8074819 2-Methylchrysene         7.40\n",
       "5 DTXSID8074819 2-Methylchrysene        12.10\n",
       "6 DTXSID8074819 2-Methylchrysene        15.45"
      ]
     },
     "metadata": {},
     "output_type": "display_data"
    }
   ],
   "source": [
    "mar_weight_df = weight_df %>%\n",
    "    filter(Value == 'NA')\n",
    "\n",
    "preimputed_df = anti_join(weight_df, mar_weight_df) #%>%\n",
    "    # creating a sample id col\n",
    "    #unite(Sample_ID, HAWC_ID, Name, Replicate, sep = '_', remove = FALSE)\n",
    "preimputed_df$Value = as.numeric(preimputed_df$Value)\n",
    "\n",
    "# reordering\n",
    "preimputed_df = preimputed_df[,c(3,1,4:8,2,9)]\n",
    "\n",
    "head(preimputed_df)"
   ]
  },
  {
   "cell_type": "code",
   "execution_count": 21,
   "id": "d4615457-fd8c-4647-9de2-ee46a5c2e870",
   "metadata": {},
   "outputs": [
    {
     "data": {
      "text/html": [
       "<table class=\"dataframe\">\n",
       "<caption>A tibble: 3 × 9</caption>\n",
       "<thead>\n",
       "\t<tr><th scope=col>Data</th><th scope=col>Metric</th><th scope=col>HAWC_ID</th><th scope=col>Study</th><th scope=col>Replicate</th><th scope=col>Chemical_Class</th><th scope=col>DTXSID</th><th scope=col>Name</th><th scope=col>Value</th></tr>\n",
       "\t<tr><th scope=col>&lt;chr&gt;</th><th scope=col>&lt;chr&gt;</th><th scope=col>&lt;dbl&gt;</th><th scope=col>&lt;chr&gt;</th><th scope=col>&lt;dbl&gt;</th><th scope=col>&lt;chr&gt;</th><th scope=col>&lt;chr&gt;</th><th scope=col>&lt;chr&gt;</th><th scope=col>&lt;dbl&gt;</th></tr>\n",
       "</thead>\n",
       "<tbody>\n",
       "\t<tr><td>WS</td><td>Weight</td><td>1098462</td><td>Niu et al. 2023</td><td>1</td><td>PAH</td><td>DTXSID3024104</td><td>Fluoranthene</td><td>0.21</td></tr>\n",
       "\t<tr><td>WS</td><td>Weight</td><td>1098462</td><td>Niu et al. 2023</td><td>2</td><td>PAH</td><td>DTXSID3024104</td><td>Fluoranthene</td><td>0.18</td></tr>\n",
       "\t<tr><td>WS</td><td>Weight</td><td>1098462</td><td>Niu et al. 2023</td><td>3</td><td>PAH</td><td>DTXSID3024104</td><td>Fluoranthene</td><td>  NA</td></tr>\n",
       "</tbody>\n",
       "</table>\n"
      ],
      "text/latex": [
       "A tibble: 3 × 9\n",
       "\\begin{tabular}{lllllllll}\n",
       " Data & Metric & HAWC\\_ID & Study & Replicate & Chemical\\_Class & DTXSID & Name & Value\\\\\n",
       " <chr> & <chr> & <dbl> & <chr> & <dbl> & <chr> & <chr> & <chr> & <dbl>\\\\\n",
       "\\hline\n",
       "\t WS & Weight & 1098462 & Niu et al. 2023 & 1 & PAH & DTXSID3024104 & Fluoranthene & 0.21\\\\\n",
       "\t WS & Weight & 1098462 & Niu et al. 2023 & 2 & PAH & DTXSID3024104 & Fluoranthene & 0.18\\\\\n",
       "\t WS & Weight & 1098462 & Niu et al. 2023 & 3 & PAH & DTXSID3024104 & Fluoranthene &   NA\\\\\n",
       "\\end{tabular}\n"
      ],
      "text/markdown": [
       "\n",
       "A tibble: 3 × 9\n",
       "\n",
       "| Data &lt;chr&gt; | Metric &lt;chr&gt; | HAWC_ID &lt;dbl&gt; | Study &lt;chr&gt; | Replicate &lt;dbl&gt; | Chemical_Class &lt;chr&gt; | DTXSID &lt;chr&gt; | Name &lt;chr&gt; | Value &lt;dbl&gt; |\n",
       "|---|---|---|---|---|---|---|---|---|\n",
       "| WS | Weight | 1098462 | Niu et al. 2023 | 1 | PAH | DTXSID3024104 | Fluoranthene | 0.21 |\n",
       "| WS | Weight | 1098462 | Niu et al. 2023 | 2 | PAH | DTXSID3024104 | Fluoranthene | 0.18 |\n",
       "| WS | Weight | 1098462 | Niu et al. 2023 | 3 | PAH | DTXSID3024104 | Fluoranthene |   NA |\n",
       "\n"
      ],
      "text/plain": [
       "  Data Metric HAWC_ID Study           Replicate Chemical_Class DTXSID       \n",
       "1 WS   Weight 1098462 Niu et al. 2023 1         PAH            DTXSID3024104\n",
       "2 WS   Weight 1098462 Niu et al. 2023 2         PAH            DTXSID3024104\n",
       "3 WS   Weight 1098462 Niu et al. 2023 3         PAH            DTXSID3024104\n",
       "  Name         Value\n",
       "1 Fluoranthene 0.21 \n",
       "2 Fluoranthene 0.18 \n",
       "3 Fluoranthene   NA "
      ]
     },
     "metadata": {},
     "output_type": "display_data"
    }
   ],
   "source": [
    "test = preimputed_df %>%\n",
    "    filter(Name == 'Fluoranthene', HAWC_ID == '1098462')\n",
    "test"
   ]
  },
  {
   "cell_type": "code",
   "execution_count": 46,
   "id": "e2b0fcd0-2348-45d8-a6ae-8bc6980e4471",
   "metadata": {},
   "outputs": [],
   "source": [
    "QRILC_imputation = function(dataset){\n",
    "      # \"\"\"\n",
    "    # Creating a quantile normalization function to normalize each sample.\n",
    "    # :param (input): exposed and unexposed (vehicle) dfs\n",
    "    # :output: 1 quantile normalized df\n",
    "    # \"\"\"\n",
    "    #ADD WORDS\n",
    "    wider_dataset = dataset %>%\n",
    "        # removing these cols temporarily \n",
    "        select(-c(\"Chemical_Class\", \"Name\")) %>%\n",
    "        pivot_wider(names_from = DTXSID, values_from = Value)\n",
    "    \n",
    "    index_of_last_variable = length(colnames(wider_dataset))\n",
    "\n",
    "    # normalizing data since that what the QRILC function wants\n",
    "    # had to pseudo log transform to prevent Inf values\n",
    "    QRILC_prep = wider_dataset[,6:dim(wider_dataset)[2]] %>%\n",
    "         mutate_all(., function(x) log10(x + 1)) %>%\n",
    "         as.matrix()\n",
    "                    \n",
    "    # imputed_QRILC_object = impute.QRILC(QRILC_prep, tune.sigma = 0.1)\n",
    "    # QRILC_log10_df = data.frame(imputed_QRILC_object[1]) \n",
    "    \n",
    "    # # converting back the original scale\n",
    "    # QRILC_df = QRILC_log10_df %>%\n",
    "    #     mutate_all(., function(x) 10^x - 1)\n",
    "     \n",
    "    # imputed_dataset = data.frame(cbind(unique(dataset[,1:8]), QRILC_df)) %>%\n",
    "    #      pivot_longer(cols = 9:dim(wider_dataset)[2], names_to = \"Variable\", values_to = \"Value\")\n",
    "    \n",
    "    # return(imputed_dataset)\n",
    "    return(wider_dataset)\n",
    "}"
   ]
  },
  {
   "cell_type": "code",
   "execution_count": 35,
   "id": "0587affe-6715-42e1-b21a-557ae98edae1",
   "metadata": {},
   "outputs": [],
   "source": [
    "# # imputing within each study\n",
    "study_id = unique(preimputed_df$HAWC_ID)\n",
    "\n",
    "# imputed_df = data.frame()\n",
    "# for (i in 1:length(study_id)){\n",
    "#     filtered_preimputed_df = preimputed_df %>%\n",
    "#         filter(HAWC_ID == study_id[i])\n",
    "#     if(i ==1){\n",
    "#     idk = QRILC_imputation(filtered_preimputed_df)\n",
    "#     print(idk)\n",
    "\n",
    "#     imputed_df = rbind(imputed_df, filtered_preimputed_df)\n",
    "#         }\n",
    "# }\n",
    "# # calling fn\n",
    "# #imputed_df = QRILC_imputation(test)\n",
    "\n",
    "# head(imputed_df)"
   ]
  },
  {
   "cell_type": "code",
   "execution_count": null,
   "id": "a87716f5-11b3-4319-ad15-8dfb234de440",
   "metadata": {},
   "outputs": [],
   "source": [
    "test2 = preimputed_df %>%\n",
    "    filter(HAWC_ID == study_id[3])\n",
    "head(test2)"
   ]
  },
  {
   "cell_type": "code",
   "execution_count": 48,
   "id": "dea3c032-9b42-4b98-96d6-7ed37011b687",
   "metadata": {},
   "outputs": [
    {
     "data": {
      "text/html": [
       "<table class=\"dataframe\">\n",
       "<caption>A tibble: 6 × 9</caption>\n",
       "<thead>\n",
       "\t<tr><th scope=col>Data</th><th scope=col>Metric</th><th scope=col>HAWC_ID</th><th scope=col>Study</th><th scope=col>Replicate</th><th scope=col>Chemical_Class</th><th scope=col>DTXSID</th><th scope=col>Name</th><th scope=col>Value</th></tr>\n",
       "\t<tr><th scope=col>&lt;chr&gt;</th><th scope=col>&lt;chr&gt;</th><th scope=col>&lt;dbl&gt;</th><th scope=col>&lt;chr&gt;</th><th scope=col>&lt;dbl&gt;</th><th scope=col>&lt;chr&gt;</th><th scope=col>&lt;chr&gt;</th><th scope=col>&lt;chr&gt;</th><th scope=col>&lt;dbl&gt;</th></tr>\n",
       "</thead>\n",
       "<tbody>\n",
       "\t<tr><td>WS</td><td>Weight</td><td> 821855</td><td>Erlandsson et al. 2020</td><td>1</td><td>PAH</td><td>DTXSID2060383</td><td>2,3-Dimethylnaphthalene</td><td> 0.05</td></tr>\n",
       "\t<tr><td>WS</td><td>Weight</td><td> 821855</td><td>Erlandsson et al. 2020</td><td>2</td><td>PAH</td><td>DTXSID2060383</td><td>2,3-Dimethylnaphthalene</td><td> 0.05</td></tr>\n",
       "\t<tr><td>WS</td><td>Weight</td><td>1257056</td><td>McCarrick et al. 2024 </td><td>1</td><td>PAH</td><td>DTXSID2060383</td><td>2,3-Dimethylnaphthalene</td><td> 0.04</td></tr>\n",
       "\t<tr><td>WS</td><td>Weight</td><td> 821855</td><td>Erlandsson et al. 2020</td><td>1</td><td>PAH</td><td>DTXSID8074819</td><td>2-Methylchrysene       </td><td> 7.40</td></tr>\n",
       "\t<tr><td>WS</td><td>Weight</td><td> 821855</td><td>Erlandsson et al. 2020</td><td>2</td><td>PAH</td><td>DTXSID8074819</td><td>2-Methylchrysene       </td><td>12.10</td></tr>\n",
       "\t<tr><td>WS</td><td>Weight</td><td>1257056</td><td>McCarrick et al. 2024 </td><td>1</td><td>PAH</td><td>DTXSID8074819</td><td>2-Methylchrysene       </td><td>15.45</td></tr>\n",
       "</tbody>\n",
       "</table>\n"
      ],
      "text/latex": [
       "A tibble: 6 × 9\n",
       "\\begin{tabular}{lllllllll}\n",
       " Data & Metric & HAWC\\_ID & Study & Replicate & Chemical\\_Class & DTXSID & Name & Value\\\\\n",
       " <chr> & <chr> & <dbl> & <chr> & <dbl> & <chr> & <chr> & <chr> & <dbl>\\\\\n",
       "\\hline\n",
       "\t WS & Weight &  821855 & Erlandsson et al. 2020 & 1 & PAH & DTXSID2060383 & 2,3-Dimethylnaphthalene &  0.05\\\\\n",
       "\t WS & Weight &  821855 & Erlandsson et al. 2020 & 2 & PAH & DTXSID2060383 & 2,3-Dimethylnaphthalene &  0.05\\\\\n",
       "\t WS & Weight & 1257056 & McCarrick et al. 2024  & 1 & PAH & DTXSID2060383 & 2,3-Dimethylnaphthalene &  0.04\\\\\n",
       "\t WS & Weight &  821855 & Erlandsson et al. 2020 & 1 & PAH & DTXSID8074819 & 2-Methylchrysene        &  7.40\\\\\n",
       "\t WS & Weight &  821855 & Erlandsson et al. 2020 & 2 & PAH & DTXSID8074819 & 2-Methylchrysene        & 12.10\\\\\n",
       "\t WS & Weight & 1257056 & McCarrick et al. 2024  & 1 & PAH & DTXSID8074819 & 2-Methylchrysene        & 15.45\\\\\n",
       "\\end{tabular}\n"
      ],
      "text/markdown": [
       "\n",
       "A tibble: 6 × 9\n",
       "\n",
       "| Data &lt;chr&gt; | Metric &lt;chr&gt; | HAWC_ID &lt;dbl&gt; | Study &lt;chr&gt; | Replicate &lt;dbl&gt; | Chemical_Class &lt;chr&gt; | DTXSID &lt;chr&gt; | Name &lt;chr&gt; | Value &lt;dbl&gt; |\n",
       "|---|---|---|---|---|---|---|---|---|\n",
       "| WS | Weight |  821855 | Erlandsson et al. 2020 | 1 | PAH | DTXSID2060383 | 2,3-Dimethylnaphthalene |  0.05 |\n",
       "| WS | Weight |  821855 | Erlandsson et al. 2020 | 2 | PAH | DTXSID2060383 | 2,3-Dimethylnaphthalene |  0.05 |\n",
       "| WS | Weight | 1257056 | McCarrick et al. 2024  | 1 | PAH | DTXSID2060383 | 2,3-Dimethylnaphthalene |  0.04 |\n",
       "| WS | Weight |  821855 | Erlandsson et al. 2020 | 1 | PAH | DTXSID8074819 | 2-Methylchrysene        |  7.40 |\n",
       "| WS | Weight |  821855 | Erlandsson et al. 2020 | 2 | PAH | DTXSID8074819 | 2-Methylchrysene        | 12.10 |\n",
       "| WS | Weight | 1257056 | McCarrick et al. 2024  | 1 | PAH | DTXSID8074819 | 2-Methylchrysene        | 15.45 |\n",
       "\n"
      ],
      "text/plain": [
       "  Data Metric HAWC_ID Study                  Replicate Chemical_Class\n",
       "1 WS   Weight  821855 Erlandsson et al. 2020 1         PAH           \n",
       "2 WS   Weight  821855 Erlandsson et al. 2020 2         PAH           \n",
       "3 WS   Weight 1257056 McCarrick et al. 2024  1         PAH           \n",
       "4 WS   Weight  821855 Erlandsson et al. 2020 1         PAH           \n",
       "5 WS   Weight  821855 Erlandsson et al. 2020 2         PAH           \n",
       "6 WS   Weight 1257056 McCarrick et al. 2024  1         PAH           \n",
       "  DTXSID        Name                    Value\n",
       "1 DTXSID2060383 2,3-Dimethylnaphthalene  0.05\n",
       "2 DTXSID2060383 2,3-Dimethylnaphthalene  0.05\n",
       "3 DTXSID2060383 2,3-Dimethylnaphthalene  0.04\n",
       "4 DTXSID8074819 2-Methylchrysene         7.40\n",
       "5 DTXSID8074819 2-Methylchrysene        12.10\n",
       "6 DTXSID8074819 2-Methylchrysene        15.45"
      ]
     },
     "metadata": {},
     "output_type": "display_data"
    },
    {
     "name": "stderr",
     "output_type": "stream",
     "text": [
      "Warning message:\n",
      "“\u001b[1m\u001b[22mValues from `Value` are not uniquely identified; output will contain list-cols.\n",
      "\u001b[36m•\u001b[39m Use `values_fn = list` to suppress this warning.\n",
      "\u001b[36m•\u001b[39m Use `values_fn = {summary_fun}` to summarise duplicates.\n",
      "\u001b[36m•\u001b[39m Use the following dplyr code to identify duplicates.\n",
      "  {data} %>%\n",
      "  dplyr::group_by(Data, Metric, HAWC_ID, Study, Replicate, DTXSID) %>%\n",
      "  dplyr::summarise(n = dplyr::n(), .groups = \"drop\") %>%\n",
      "  dplyr::filter(n > 1L)”\n"
     ]
    },
    {
     "ename": "ERROR",
     "evalue": "Error in (function (cond) : error in evaluating the argument 'x' in selecting a method for function 'as.matrix': \u001b[1m\u001b[22m\u001b[36mℹ\u001b[39m In argument: `DTXSID2060383 = (function (x) ...`.\n\u001b[1mCaused by error in `x + 1`:\u001b[22m\n\u001b[33m!\u001b[39m non-numeric argument to binary operator\n",
     "output_type": "error",
     "traceback": [
      "Error in (function (cond) : error in evaluating the argument 'x' in selecting a method for function 'as.matrix': \u001b[1m\u001b[22m\u001b[36mℹ\u001b[39m In argument: `DTXSID2060383 = (function (x) ...`.\n\u001b[1mCaused by error in `x + 1`:\u001b[22m\n\u001b[33m!\u001b[39m non-numeric argument to binary operator\nTraceback:\n",
      "1. wider_dataset[, 6:dim(wider_dataset)[2]] %>% mutate_all(., function(x) log10(x + \n .     1)) %>% as.matrix()",
      "2. as.matrix(.)",
      "3. mutate_all(., function(x) log10(x + 1))",
      "4. mutate(.tbl, !!!funs)",
      "5. mutate.data.frame(.tbl, !!!funs)",
      "6. mutate_cols(.data, dplyr_quosures(...), by)",
      "7. withCallingHandlers(for (i in seq_along(dots)) {\n .     poke_error_context(dots, i, mask = mask)\n .     context_poke(\"column\", old_current_column)\n .     new_columns <- mutate_col(dots[[i]], data, mask, new_columns)\n . }, error = dplyr_error_handler(dots = dots, mask = mask, bullets = mutate_bullets, \n .     error_call = error_call, error_class = \"dplyr:::mutate_error\"), \n .     warning = dplyr_warning_handler(state = warnings_state, mask = mask, \n .         error_call = error_call))",
      "8. mutate_col(dots[[i]], data, mask, new_columns)",
      "9. mask$eval_all_mutate(quo)",
      "10. eval()",
      "11. (function (x) \n  . log10(x + 1))(DTXSID2060383)",
      "12. .handleSimpleError(function (cnd) \n  . {\n  .     local_error_context(dots, i = frame[[i_sym]], mask = mask)\n  .     if (inherits(cnd, \"dplyr:::internal_error\")) {\n  .         parent <- error_cnd(message = bullets(cnd))\n  .     }\n  .     else {\n  .         parent <- cnd\n  .     }\n  .     message <- c(cnd_bullet_header(action), i = if (has_active_group_context(mask)) cnd_bullet_cur_group_label())\n  .     abort(message, class = error_class, parent = parent, call = error_call)\n  . }, \"non-numeric argument to binary operator\", base::quote(x + \n  .     1))   # at line 18 of file ",
      "13. h(simpleError(msg, call))",
      "14. abort(message, class = error_class, parent = parent, call = error_call)",
      "15. signal_abort(cnd, .file)",
      "16. signalCondition(cnd)",
      "17. (function (cond) \n  . .Internal(C_tryCatchHelper(addr, 1L, cond)))(structure(list(message = c(i = \"In argument: `DTXSID2060383 = (function (x) ...`.\"), \n  .     trace = structure(list(call = list(IRkernel::main(), kernel$run(), \n  .         handle_shell(), executor$execute(msg), tryCatch(evaluate(request$content$code, \n  .             envir = .GlobalEnv, output_handler = oh, stop_on_error = 1L), \n  .             interrupt = function(cond) {\n  .                 log_debug(\"Interrupt during execution\")\n  .                 interrupted <<- TRUE\n  .             }, error = .self$handle_error), tryCatchList(expr, \n  .             classes, parentenv, handlers), tryCatchOne(tryCatchList(expr, \n  .             names[-nh], parentenv, handlers[-nh]), names[nh], \n  .             parentenv, handlers[[nh]]), doTryCatch(return(expr), \n  .             name, parentenv, handler), tryCatchList(expr, names[-nh], \n  .             parentenv, handlers[-nh]), tryCatchOne(expr, names, \n  .             parentenv, handlers[[1L]]), doTryCatch(return(expr), \n  .             name, parentenv, handler), evaluate(request$content$code, \n  .             envir = .GlobalEnv, output_handler = oh, stop_on_error = 1L), \n  .         withRestarts(with_handlers({\n  .             for (expr in tle$exprs) {\n  .                 ev <- withVisible(eval(expr, envir))\n  .                 watcher$capture_plot_and_output()\n  .                 watcher$print_value(ev$value, ev$visible, envir)\n  .             }\n  .             TRUE\n  .         }, handlers), eval_continue = function() TRUE, eval_stop = function() FALSE), \n  .         withRestartList(expr, restarts), withOneRestart(withRestartList(expr, \n  .             restarts[-nr]), restarts[[nr]]), doWithOneRestart(return(expr), \n  .             restart), withRestartList(expr, restarts[-nr]), withOneRestart(expr, \n  .             restarts[[1L]]), doWithOneRestart(return(expr), restart), \n  .         with_handlers({\n  .             for (expr in tle$exprs) {\n  .                 ev <- withVisible(eval(expr, envir))\n  .                 watcher$capture_plot_and_output()\n  .                 watcher$print_value(ev$value, ev$visible, envir)\n  .             }\n  .             TRUE\n  .         }, handlers), eval(call), eval(call), withCallingHandlers(code, \n  .             message = `<fn>`, warning = `<fn>`, error = `<fn>`), \n  .         withVisible(eval(expr, envir)), eval(expr, envir), eval(expr, \n  .             envir), QRILC_imputation(preimputed_df), wider_dataset[, \n  .             6:dim(wider_dataset)[2]] %>% mutate_all(., function(x) log10(x + \n  .             1)) %>% as.matrix(), as.matrix(.), mutate_all(., \n  .             function(x) log10(x + 1)), mutate(.tbl, !!!funs), \n  .         mutate.data.frame(.tbl, !!!funs), mutate_cols(.data, \n  .             dplyr_quosures(...), by), withCallingHandlers(for (i in seq_along(dots)) {\n  .             poke_error_context(dots, i, mask = mask)\n  .             context_poke(\"column\", old_current_column)\n  .             new_columns <- mutate_col(dots[[i]], data, mask, \n  .                 new_columns)\n  .         }, error = dplyr_error_handler(dots = dots, mask = mask, \n  .             bullets = mutate_bullets, error_call = error_call, \n  .             error_class = \"dplyr:::mutate_error\"), warning = dplyr_warning_handler(state = warnings_state, \n  .             mask = mask, error_call = error_call)), mutate_col(dots[[i]], \n  .             data, mask, new_columns), mask$eval_all_mutate(quo), \n  .         eval(), `<fn>`(DTXSID2060383), .handleSimpleError(`<fn>`, \n  .             \"non-numeric argument to binary operator\", base::quote(x + \n  .                 1)), h(simpleError(msg, call)), abort(message, \n  .             class = error_class, parent = parent, call = error_call)), \n  .         parent = c(0L, 1L, 2L, 3L, 4L, 5L, 6L, 7L, 6L, 9L, 10L, \n  .         4L, 12L, 13L, 14L, 15L, 14L, 17L, 18L, 12L, 20L, 21L, \n  .         20L, 12L, 12L, 25L, 0L, 27L, 0L, 0L, 30L, 30L, 32L, 33L, \n  .         33L, 35L, 36L, 0L, 0L, 39L, 40L), visible = c(TRUE, TRUE, \n  .         TRUE, TRUE, TRUE, TRUE, TRUE, TRUE, TRUE, TRUE, TRUE, \n  .         TRUE, TRUE, TRUE, TRUE, TRUE, TRUE, TRUE, TRUE, TRUE, \n  .         TRUE, TRUE, TRUE, TRUE, TRUE, TRUE, TRUE, TRUE, TRUE, \n  .         TRUE, TRUE, TRUE, TRUE, TRUE, TRUE, TRUE, TRUE, TRUE, \n  .         FALSE, FALSE, FALSE), namespace = c(\"IRkernel\", NA, \"IRkernel\", \n  .         NA, \"base\", \"base\", \"base\", \"base\", \"base\", \"base\", \"base\", \n  .         \"evaluate\", \"base\", \"base\", \"base\", \"base\", \"base\", \"base\", \n  .         \"base\", \"evaluate\", \"base\", \"base\", \"base\", \"base\", \"base\", \n  .         \"base\", NA, NA, \"base\", \"dplyr\", \"dplyr\", \"dplyr\", \"dplyr\", \n  .         \"base\", \"dplyr\", NA, \"dplyr\", NA, \"base\", \"dplyr\", \"rlang\"\n  .         ), scope = c(\"::\", NA, \"local\", NA, \"::\", \"local\", \"local\", \n  .         \"local\", \"local\", \"local\", \"local\", \"::\", \"::\", \"local\", \n  .         \"local\", \"local\", \"local\", \"local\", \"local\", \":::\", \"::\", \n  .         \"::\", \"::\", \"::\", \"::\", \"::\", \"global\", NA, \"::\", \"::\", \n  .         \"::\", \":::\", \":::\", \"::\", \":::\", NA, \"local\", NA, \"::\", \n  .         \"local\", \"::\"), error_frame = c(FALSE, FALSE, FALSE, \n  .         FALSE, FALSE, FALSE, FALSE, FALSE, FALSE, FALSE, FALSE, \n  .         FALSE, FALSE, FALSE, FALSE, FALSE, FALSE, FALSE, FALSE, \n  .         FALSE, FALSE, FALSE, FALSE, FALSE, FALSE, FALSE, FALSE, \n  .         FALSE, FALSE, FALSE, FALSE, TRUE, FALSE, FALSE, FALSE, \n  .         FALSE, FALSE, FALSE, FALSE, FALSE, FALSE)), row.names = c(NA, \n  .     -41L), version = 2L, class = c(\"rlang_trace\", \"rlib_trace\", \n  .     \"tbl\", \"data.frame\")), parent = structure(list(message = \"non-numeric argument to binary operator\", \n  .         call = x + 1), class = c(\"simpleError\", \"error\", \"condition\"\n  .     )), rlang = list(inherit = TRUE), call = mutate(.tbl, !!!funs), \n  .     use_cli_format = TRUE), class = c(\"dplyr:::mutate_error\", \n  . \"rlang_error\", \"error\", \"condition\")))",
      "18. .handleSimpleError(function (cnd) \n  . {\n  .     watcher$capture_plot_and_output()\n  .     cnd <- sanitize_call(cnd)\n  .     watcher$push(cnd)\n  .     switch(on_error, continue = invokeRestart(\"eval_continue\"), \n  .         stop = invokeRestart(\"eval_stop\"), error = NULL)\n  . }, \"error in evaluating the argument 'x' in selecting a method for function 'as.matrix': \\033[1m\\033[22m\\033[36mℹ\\033[39m In argument: `DTXSID2060383 = (function (x) ...`.\\n\\033[1mCaused by error in `x + 1`:\\033[22m\\n\\033[33m!\\033[39m non-numeric argument to binary operator\", \n  .     base::quote((function (cond) \n  .     .Internal(C_tryCatchHelper(addr, 1L, cond)))(structure(list(\n  .         message = c(i = \"In argument: `DTXSID2060383 = (function (x) ...`.\"), \n  .         trace = structure(list(call = list(IRkernel::main(), \n  .             kernel$run(), handle_shell(), executor$execute(msg), \n  .             tryCatch(evaluate(request$content$code, envir = .GlobalEnv, \n  .                 output_handler = oh, stop_on_error = 1L), interrupt = function(cond) {\n  .                 log_debug(\"Interrupt during execution\")\n  .                 interrupted <<- TRUE\n  .             }, error = .self$handle_error), tryCatchList(expr, \n  .                 classes, parentenv, handlers), tryCatchOne(tryCatchList(expr, \n  .                 names[-nh], parentenv, handlers[-nh]), names[nh], \n  .                 parentenv, handlers[[nh]]), doTryCatch(return(expr), \n  .                 name, parentenv, handler), tryCatchList(expr, \n  .                 names[-nh], parentenv, handlers[-nh]), tryCatchOne(expr, \n  .                 names, parentenv, handlers[[1L]]), doTryCatch(return(expr), \n  .                 name, parentenv, handler), evaluate(request$content$code, \n  .                 envir = .GlobalEnv, output_handler = oh, stop_on_error = 1L), \n  .             withRestarts(with_handlers({\n  .                 for (expr in tle$exprs) {\n  .                   ev <- withVisible(eval(expr, envir))\n  .                   watcher$capture_plot_and_output()\n  .                   watcher$print_value(ev$value, ev$visible, envir)\n  .                 }\n  .                 TRUE\n  .             }, handlers), eval_continue = function() TRUE, eval_stop = function() FALSE), \n  .             withRestartList(expr, restarts), withOneRestart(withRestartList(expr, \n  .                 restarts[-nr]), restarts[[nr]]), doWithOneRestart(return(expr), \n  .                 restart), withRestartList(expr, restarts[-nr]), \n  .             withOneRestart(expr, restarts[[1L]]), doWithOneRestart(return(expr), \n  .                 restart), with_handlers({\n  .                 for (expr in tle$exprs) {\n  .                   ev <- withVisible(eval(expr, envir))\n  .                   watcher$capture_plot_and_output()\n  .                   watcher$print_value(ev$value, ev$visible, envir)\n  .                 }\n  .                 TRUE\n  .             }, handlers), eval(call), eval(call), withCallingHandlers(code, \n  .                 message = `<fn>`, warning = `<fn>`, error = `<fn>`), \n  .             withVisible(eval(expr, envir)), eval(expr, envir), \n  .             eval(expr, envir), QRILC_imputation(preimputed_df), \n  .             wider_dataset[, 6:dim(wider_dataset)[2]] %>% mutate_all(., \n  .                 function(x) log10(x + 1)) %>% as.matrix(), as.matrix(.), \n  .             mutate_all(., function(x) log10(x + 1)), mutate(.tbl, \n  .                 !!!funs), mutate.data.frame(.tbl, !!!funs), mutate_cols(.data, \n  .                 dplyr_quosures(...), by), withCallingHandlers(for (i in seq_along(dots)) {\n  .                 poke_error_context(dots, i, mask = mask)\n  .                 context_poke(\"column\", old_current_column)\n  .                 new_columns <- mutate_col(dots[[i]], data, mask, \n  .                   new_columns)\n  .             }, error = dplyr_error_handler(dots = dots, mask = mask, \n  .                 bullets = mutate_bullets, error_call = error_call, \n  .                 error_class = \"dplyr:::mutate_error\"), warning = dplyr_warning_handler(state = warnings_state, \n  .                 mask = mask, error_call = error_call)), mutate_col(dots[[i]], \n  .                 data, mask, new_columns), mask$eval_all_mutate(quo), \n  .             eval(), `<fn>`(DTXSID2060383), .handleSimpleError(`<fn>`, \n  .                 \"non-numeric argument to binary operator\", base::quote(x + \n  .                   1)), h(simpleError(msg, call)), abort(message, \n  .                 class = error_class, parent = parent, call = error_call)), \n  .             parent = c(0L, 1L, 2L, 3L, 4L, 5L, 6L, 7L, 6L, 9L, \n  .             10L, 4L, 12L, 13L, 14L, 15L, 14L, 17L, 18L, 12L, \n  .             20L, 21L, 20L, 12L, 12L, 25L, 0L, 27L, 0L, 0L, 30L, \n  .             30L, 32L, 33L, 33L, 35L, 36L, 0L, 0L, 39L, 40L), \n  .             visible = c(TRUE, TRUE, TRUE, TRUE, TRUE, TRUE, TRUE, \n  .             TRUE, TRUE, TRUE, TRUE, TRUE, TRUE, TRUE, TRUE, TRUE, \n  .             TRUE, TRUE, TRUE, TRUE, TRUE, TRUE, TRUE, TRUE, TRUE, \n  .             TRUE, TRUE, TRUE, TRUE, TRUE, TRUE, TRUE, TRUE, TRUE, \n  .             TRUE, TRUE, TRUE, TRUE, FALSE, FALSE, FALSE), namespace = c(\"IRkernel\", \n  .             NA, \"IRkernel\", NA, \"base\", \"base\", \"base\", \"base\", \n  .             \"base\", \"base\", \"base\", \"evaluate\", \"base\", \"base\", \n  .             \"base\", \"base\", \"base\", \"base\", \"base\", \"evaluate\", \n  .             \"base\", \"base\", \"base\", \"base\", \"base\", \"base\", NA, \n  .             NA, \"base\", \"dplyr\", \"dplyr\", \"dplyr\", \"dplyr\", \"base\", \n  .             \"dplyr\", NA, \"dplyr\", NA, \"base\", \"dplyr\", \"rlang\"\n  .             ), scope = c(\"::\", NA, \"local\", NA, \"::\", \"local\", \n  .             \"local\", \"local\", \"local\", \"local\", \"local\", \"::\", \n  .             \"::\", \"local\", \"local\", \"local\", \"local\", \"local\", \n  .             \"local\", \":::\", \"::\", \"::\", \"::\", \"::\", \"::\", \"::\", \n  .             \"global\", NA, \"::\", \"::\", \"::\", \":::\", \":::\", \"::\", \n  .             \":::\", NA, \"local\", NA, \"::\", \"local\", \"::\"), error_frame = c(FALSE, \n  .             FALSE, FALSE, FALSE, FALSE, FALSE, FALSE, FALSE, \n  .             FALSE, FALSE, FALSE, FALSE, FALSE, FALSE, FALSE, \n  .             FALSE, FALSE, FALSE, FALSE, FALSE, FALSE, FALSE, \n  .             FALSE, FALSE, FALSE, FALSE, FALSE, FALSE, FALSE, \n  .             FALSE, FALSE, TRUE, FALSE, FALSE, FALSE, FALSE, FALSE, \n  .             FALSE, FALSE, FALSE, FALSE)), row.names = c(NA, -41L\n  .         ), version = 2L, class = c(\"rlang_trace\", \"rlib_trace\", \n  .         \"tbl\", \"data.frame\")), parent = structure(list(message = \"non-numeric argument to binary operator\", \n  .             call = x + 1), class = c(\"simpleError\", \"error\", \n  .         \"condition\")), rlang = list(inherit = TRUE), call = mutate(.tbl, \n  .             !!!funs), use_cli_format = TRUE), class = c(\"dplyr:::mutate_error\", \n  .     \"rlang_error\", \"error\", \"condition\")))))"
     ]
    }
   ],
   "source": [
    "head(preimputed_df)\n",
    "QRILC_imputation(preimputed_df)"
   ]
  },
  {
   "cell_type": "code",
   "execution_count": null,
   "id": "314ef5bc-fa29-430f-a0bd-1516e39cbd97",
   "metadata": {},
   "outputs": [],
   "source": []
  }
 ],
 "metadata": {
  "kernelspec": {
   "display_name": "R",
   "language": "R",
   "name": "ir"
  },
  "language_info": {
   "codemirror_mode": "r",
   "file_extension": ".r",
   "mimetype": "text/x-r-source",
   "name": "R",
   "pygments_lexer": "r",
   "version": "4.3.1"
  }
 },
 "nbformat": 4,
 "nbformat_minor": 5
}
