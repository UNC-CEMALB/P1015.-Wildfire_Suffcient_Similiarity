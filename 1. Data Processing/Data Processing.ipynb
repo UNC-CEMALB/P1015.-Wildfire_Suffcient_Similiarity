{
 "cells": [
  {
   "cell_type": "code",
   "execution_count": 1,
   "id": "dbfb736a-bc97-4a2f-96f6-553aa3c90c5b",
   "metadata": {},
   "outputs": [
    {
     "name": "stderr",
     "output_type": "stream",
     "text": [
      "── \u001b[1mAttaching core tidyverse packages\u001b[22m ──────────────────────── tidyverse 2.0.0 ──\n",
      "\u001b[32m✔\u001b[39m \u001b[34mdplyr    \u001b[39m 1.1.3     \u001b[32m✔\u001b[39m \u001b[34mreadr    \u001b[39m 2.1.4\n",
      "\u001b[32m✔\u001b[39m \u001b[34mforcats  \u001b[39m 1.0.0     \u001b[32m✔\u001b[39m \u001b[34mstringr  \u001b[39m 1.5.0\n",
      "\u001b[32m✔\u001b[39m \u001b[34mggplot2  \u001b[39m 3.4.3     \u001b[32m✔\u001b[39m \u001b[34mtibble   \u001b[39m 3.2.1\n",
      "\u001b[32m✔\u001b[39m \u001b[34mlubridate\u001b[39m 1.9.2     \u001b[32m✔\u001b[39m \u001b[34mtidyr    \u001b[39m 1.3.0\n",
      "\u001b[32m✔\u001b[39m \u001b[34mpurrr    \u001b[39m 1.0.2     \n",
      "── \u001b[1mConflicts\u001b[22m ────────────────────────────────────────── tidyverse_conflicts() ──\n",
      "\u001b[31m✖\u001b[39m \u001b[34mdplyr\u001b[39m::\u001b[32mfilter()\u001b[39m masks \u001b[34mstats\u001b[39m::filter()\n",
      "\u001b[31m✖\u001b[39m \u001b[34mdplyr\u001b[39m::\u001b[32mlag()\u001b[39m    masks \u001b[34mstats\u001b[39m::lag()\n",
      "\u001b[36mℹ\u001b[39m Use the conflicted package (\u001b[3m\u001b[34m<http://conflicted.r-lib.org/>\u001b[39m\u001b[23m) to force all conflicts to become errors\n",
      "Loading required package: tmvtnorm\n",
      "\n",
      "Loading required package: mvtnorm\n",
      "\n",
      "Loading required package: Matrix\n",
      "\n",
      "\n",
      "Attaching package: ‘Matrix’\n",
      "\n",
      "\n",
      "The following objects are masked from ‘package:tidyr’:\n",
      "\n",
      "    expand, pack, unpack\n",
      "\n",
      "\n",
      "Loading required package: stats4\n",
      "\n",
      "Loading required package: gmm\n",
      "\n",
      "Loading required package: sandwich\n",
      "\n",
      "Loading required package: norm\n",
      "\n",
      "This package has some major limitations\n",
      "(for example, it does not work reliably when\n",
      "the number of variables exceeds 30),\n",
      "and has been superseded by the norm2 package.\n",
      "\n",
      "Loading required package: pcaMethods\n",
      "\n",
      "Loading required package: Biobase\n",
      "\n",
      "Loading required package: BiocGenerics\n",
      "\n",
      "\n",
      "Attaching package: ‘BiocGenerics’\n",
      "\n",
      "\n",
      "The following objects are masked from ‘package:lubridate’:\n",
      "\n",
      "    intersect, setdiff, union\n",
      "\n",
      "\n",
      "The following objects are masked from ‘package:dplyr’:\n",
      "\n",
      "    combine, intersect, setdiff, union\n",
      "\n",
      "\n",
      "The following objects are masked from ‘package:stats’:\n",
      "\n",
      "    IQR, mad, sd, var, xtabs\n",
      "\n",
      "\n",
      "The following objects are masked from ‘package:base’:\n",
      "\n",
      "    anyDuplicated, aperm, append, as.data.frame, basename, cbind,\n",
      "    colnames, dirname, do.call, duplicated, eval, evalq, Filter, Find,\n",
      "    get, grep, grepl, intersect, is.unsorted, lapply, Map, mapply,\n",
      "    match, mget, order, paste, pmax, pmax.int, pmin, pmin.int,\n",
      "    Position, rank, rbind, Reduce, rownames, sapply, setdiff, sort,\n",
      "    table, tapply, union, unique, unsplit, which.max, which.min\n",
      "\n",
      "\n",
      "Welcome to Bioconductor\n",
      "\n",
      "    Vignettes contain introductory material; view with\n",
      "    'browseVignettes()'. To cite Bioconductor, see\n",
      "    'citation(\"Biobase\")', and for packages 'citation(\"pkgname\")'.\n",
      "\n",
      "\n",
      "\n",
      "Attaching package: ‘pcaMethods’\n",
      "\n",
      "\n",
      "The following object is masked from ‘package:stats’:\n",
      "\n",
      "    loadings\n",
      "\n",
      "\n",
      "Loading required package: impute\n",
      "\n",
      "Welcome! Want to learn more? See two factoextra-related books at https://goo.gl/ve3WBa\n",
      "\n"
     ]
    }
   ],
   "source": [
    "Output = '/Users/alexis/Library/CloudStorage/OneDrive-UniversityofNorthCarolinaatChapelHill/CEMALB_DataAnalysisPM/Projects/P1015. Fire Sufficient Similarity/3. Analyses/2. Data Processing/Output'\n",
    "cur_date = '021825'\n",
    "\n",
    "library(missForest)\n",
    "library(readxl)\n",
    "library(tidyverse)\n",
    "library(imputeLCMD)\n",
    "library(factoextra)\n",
    "\n",
    "# reading in files\n",
    "ws_df = data.frame(Data = 'WS', read_excel(\"Input/Woodsmoke_Data_012825.xlsx\", sheet = 2)) %>%\n",
    "    select(-Sample_Number)\n",
    "wf_df = data.frame(Data = 'WF', read_excel(\"Input/Wildfire_Data_012825.xlsx\", sheet = 2)) %>%\n",
    "    select(-Sample_Number)"
   ]
  },
  {
   "cell_type": "markdown",
   "id": "a6904813-4b86-4407-a5ec-4efed3e83041",
   "metadata": {},
   "source": [
    "NOTES TO SELF:\n",
    "- change 'replicate' to 'instance' and 'chemical class' to 'class'"
   ]
  },
  {
   "cell_type": "code",
   "execution_count": 2,
   "id": "73a7d5c4-8e2a-4ab5-b13b-046bc35d412e",
   "metadata": {},
   "outputs": [
    {
     "data": {
      "text/html": [
       "<table class=\"dataframe\">\n",
       "<caption>A data.frame: 6 × 9</caption>\n",
       "<thead>\n",
       "\t<tr><th></th><th scope=col>Data</th><th scope=col>HAWC_ID</th><th scope=col>Study</th><th scope=col>Replicate</th><th scope=col>Chemical_Class</th><th scope=col>Metric</th><th scope=col>DTXSID</th><th scope=col>Name</th><th scope=col>Value</th></tr>\n",
       "\t<tr><th></th><th scope=col>&lt;chr&gt;</th><th scope=col>&lt;dbl&gt;</th><th scope=col>&lt;chr&gt;</th><th scope=col>&lt;dbl&gt;</th><th scope=col>&lt;chr&gt;</th><th scope=col>&lt;chr&gt;</th><th scope=col>&lt;chr&gt;</th><th scope=col>&lt;chr&gt;</th><th scope=col>&lt;chr&gt;</th></tr>\n",
       "</thead>\n",
       "<tbody>\n",
       "\t<tr><th scope=row>1</th><td>WS</td><td> 821855</td><td>Erlandsson et al. 2020  </td><td> 1</td><td>PAH</td><td>Weight</td><td>DTXSID3074787</td><td>1-Methylanthracene</td><td>11.3              </td></tr>\n",
       "\t<tr><th scope=row>2</th><td>WS</td><td> 821855</td><td>Erlandsson et al. 2020  </td><td> 1</td><td>PAH</td><td>Weight</td><td>DTXSID3074787</td><td>1-Methylanthracene</td><td>2.2999999999999998</td></tr>\n",
       "\t<tr><th scope=row>3</th><td>WS</td><td>1257056</td><td>McCarrick et al. 2024   </td><td> 1</td><td>PAH</td><td>Weight</td><td>DTXSID3074787</td><td>1-Methylanthracene</td><td>1.66              </td></tr>\n",
       "\t<tr><th scope=row>4</th><td>WS</td><td> 267140</td><td>Alfheim and Ramdahl 1984</td><td> 1</td><td>PAH</td><td>Volume</td><td>DTXSID3074787</td><td>1-Methylanthracene</td><td>NA                </td></tr>\n",
       "\t<tr><th scope=row>5</th><td>WS</td><td>1263480</td><td>Burnet et al. 1990      </td><td> 1</td><td>PAH</td><td>Volume</td><td>DTXSID3074787</td><td>1-Methylanthracene</td><td>NA                </td></tr>\n",
       "\t<tr><th scope=row>6</th><td>WS</td><td>1263480</td><td>Burnet et al. 1990      </td><td>NA</td><td>PAH</td><td>Volume</td><td>DTXSID3074787</td><td>1-Methylanthracene</td><td>NA                </td></tr>\n",
       "</tbody>\n",
       "</table>\n"
      ],
      "text/latex": [
       "A data.frame: 6 × 9\n",
       "\\begin{tabular}{r|lllllllll}\n",
       "  & Data & HAWC\\_ID & Study & Replicate & Chemical\\_Class & Metric & DTXSID & Name & Value\\\\\n",
       "  & <chr> & <dbl> & <chr> & <dbl> & <chr> & <chr> & <chr> & <chr> & <chr>\\\\\n",
       "\\hline\n",
       "\t1 & WS &  821855 & Erlandsson et al. 2020   &  1 & PAH & Weight & DTXSID3074787 & 1-Methylanthracene & 11.3              \\\\\n",
       "\t2 & WS &  821855 & Erlandsson et al. 2020   &  1 & PAH & Weight & DTXSID3074787 & 1-Methylanthracene & 2.2999999999999998\\\\\n",
       "\t3 & WS & 1257056 & McCarrick et al. 2024    &  1 & PAH & Weight & DTXSID3074787 & 1-Methylanthracene & 1.66              \\\\\n",
       "\t4 & WS &  267140 & Alfheim and Ramdahl 1984 &  1 & PAH & Volume & DTXSID3074787 & 1-Methylanthracene & NA                \\\\\n",
       "\t5 & WS & 1263480 & Burnet et al. 1990       &  1 & PAH & Volume & DTXSID3074787 & 1-Methylanthracene & NA                \\\\\n",
       "\t6 & WS & 1263480 & Burnet et al. 1990       & NA & PAH & Volume & DTXSID3074787 & 1-Methylanthracene & NA                \\\\\n",
       "\\end{tabular}\n"
      ],
      "text/markdown": [
       "\n",
       "A data.frame: 6 × 9\n",
       "\n",
       "| <!--/--> | Data &lt;chr&gt; | HAWC_ID &lt;dbl&gt; | Study &lt;chr&gt; | Replicate &lt;dbl&gt; | Chemical_Class &lt;chr&gt; | Metric &lt;chr&gt; | DTXSID &lt;chr&gt; | Name &lt;chr&gt; | Value &lt;chr&gt; |\n",
       "|---|---|---|---|---|---|---|---|---|---|\n",
       "| 1 | WS |  821855 | Erlandsson et al. 2020   |  1 | PAH | Weight | DTXSID3074787 | 1-Methylanthracene | 11.3               |\n",
       "| 2 | WS |  821855 | Erlandsson et al. 2020   |  1 | PAH | Weight | DTXSID3074787 | 1-Methylanthracene | 2.2999999999999998 |\n",
       "| 3 | WS | 1257056 | McCarrick et al. 2024    |  1 | PAH | Weight | DTXSID3074787 | 1-Methylanthracene | 1.66               |\n",
       "| 4 | WS |  267140 | Alfheim and Ramdahl 1984 |  1 | PAH | Volume | DTXSID3074787 | 1-Methylanthracene | NA                 |\n",
       "| 5 | WS | 1263480 | Burnet et al. 1990       |  1 | PAH | Volume | DTXSID3074787 | 1-Methylanthracene | NA                 |\n",
       "| 6 | WS | 1263480 | Burnet et al. 1990       | NA | PAH | Volume | DTXSID3074787 | 1-Methylanthracene | NA                 |\n",
       "\n"
      ],
      "text/plain": [
       "  Data HAWC_ID Study                    Replicate Chemical_Class Metric\n",
       "1 WS    821855 Erlandsson et al. 2020    1        PAH            Weight\n",
       "2 WS    821855 Erlandsson et al. 2020    1        PAH            Weight\n",
       "3 WS   1257056 McCarrick et al. 2024     1        PAH            Weight\n",
       "4 WS    267140 Alfheim and Ramdahl 1984  1        PAH            Volume\n",
       "5 WS   1263480 Burnet et al. 1990        1        PAH            Volume\n",
       "6 WS   1263480 Burnet et al. 1990       NA        PAH            Volume\n",
       "  DTXSID        Name               Value             \n",
       "1 DTXSID3074787 1-Methylanthracene 11.3              \n",
       "2 DTXSID3074787 1-Methylanthracene 2.2999999999999998\n",
       "3 DTXSID3074787 1-Methylanthracene 1.66              \n",
       "4 DTXSID3074787 1-Methylanthracene NA                \n",
       "5 DTXSID3074787 1-Methylanthracene NA                \n",
       "6 DTXSID3074787 1-Methylanthracene NA                "
      ]
     },
     "metadata": {},
     "output_type": "display_data"
    },
    {
     "data": {
      "text/html": [
       "<table class=\"dataframe\">\n",
       "<caption>A data.frame: 6 × 9</caption>\n",
       "<thead>\n",
       "\t<tr><th></th><th scope=col>Data</th><th scope=col>HAWC_ID</th><th scope=col>Study</th><th scope=col>Replicate</th><th scope=col>Chemical_Class</th><th scope=col>Metric</th><th scope=col>DTXSID</th><th scope=col>Name</th><th scope=col>Value</th></tr>\n",
       "\t<tr><th></th><th scope=col>&lt;chr&gt;</th><th scope=col>&lt;dbl&gt;</th><th scope=col>&lt;chr&gt;</th><th scope=col>&lt;dbl&gt;</th><th scope=col>&lt;chr&gt;</th><th scope=col>&lt;chr&gt;</th><th scope=col>&lt;chr&gt;</th><th scope=col>&lt;chr&gt;</th><th scope=col>&lt;chr&gt;</th></tr>\n",
       "</thead>\n",
       "<tbody>\n",
       "\t<tr><th scope=row>1</th><td>WF</td><td>1289821</td><td>Liang et al. 2021   </td><td> 1</td><td>PAH</td><td>Volume</td><td>NA            </td><td>1-(10-methylanthracen-9-yl)ethanone</td><td>5 </td></tr>\n",
       "\t<tr><th scope=row>2</th><td>WF</td><td>1289821</td><td>Liang et al. 2021   </td><td> 1</td><td>PAH</td><td>Volume</td><td>DTXSID50176885</td><td>1-Acenaphthenone                   </td><td>1 </td></tr>\n",
       "\t<tr><th scope=row>3</th><td>WF</td><td>1289737</td><td>Campbell et al. 2024</td><td> 1</td><td>PAH</td><td>Weight</td><td>DTXSID1074759 </td><td>1-Methylchrysene                   </td><td>NA</td></tr>\n",
       "\t<tr><th scope=row>4</th><td>WF</td><td>1289739</td><td>Campos et al. 2019  </td><td> 1</td><td>PAH</td><td>Weight</td><td>DTXSID1074759 </td><td>1-Methylchrysene                   </td><td>NA</td></tr>\n",
       "\t<tr><th scope=row>5</th><td>WF</td><td>1289739</td><td>Campos et al. 2019  </td><td>NA</td><td>PAH</td><td>Weight</td><td>DTXSID1074759 </td><td>1-Methylchrysene                   </td><td>NA</td></tr>\n",
       "\t<tr><th scope=row>6</th><td>WF</td><td>1289739</td><td>Campos et al. 2019  </td><td>NA</td><td>PAH</td><td>Weight</td><td>DTXSID1074759 </td><td>1-Methylchrysene                   </td><td>NA</td></tr>\n",
       "</tbody>\n",
       "</table>\n"
      ],
      "text/latex": [
       "A data.frame: 6 × 9\n",
       "\\begin{tabular}{r|lllllllll}\n",
       "  & Data & HAWC\\_ID & Study & Replicate & Chemical\\_Class & Metric & DTXSID & Name & Value\\\\\n",
       "  & <chr> & <dbl> & <chr> & <dbl> & <chr> & <chr> & <chr> & <chr> & <chr>\\\\\n",
       "\\hline\n",
       "\t1 & WF & 1289821 & Liang et al. 2021    &  1 & PAH & Volume & NA             & 1-(10-methylanthracen-9-yl)ethanone & 5 \\\\\n",
       "\t2 & WF & 1289821 & Liang et al. 2021    &  1 & PAH & Volume & DTXSID50176885 & 1-Acenaphthenone                    & 1 \\\\\n",
       "\t3 & WF & 1289737 & Campbell et al. 2024 &  1 & PAH & Weight & DTXSID1074759  & 1-Methylchrysene                    & NA\\\\\n",
       "\t4 & WF & 1289739 & Campos et al. 2019   &  1 & PAH & Weight & DTXSID1074759  & 1-Methylchrysene                    & NA\\\\\n",
       "\t5 & WF & 1289739 & Campos et al. 2019   & NA & PAH & Weight & DTXSID1074759  & 1-Methylchrysene                    & NA\\\\\n",
       "\t6 & WF & 1289739 & Campos et al. 2019   & NA & PAH & Weight & DTXSID1074759  & 1-Methylchrysene                    & NA\\\\\n",
       "\\end{tabular}\n"
      ],
      "text/markdown": [
       "\n",
       "A data.frame: 6 × 9\n",
       "\n",
       "| <!--/--> | Data &lt;chr&gt; | HAWC_ID &lt;dbl&gt; | Study &lt;chr&gt; | Replicate &lt;dbl&gt; | Chemical_Class &lt;chr&gt; | Metric &lt;chr&gt; | DTXSID &lt;chr&gt; | Name &lt;chr&gt; | Value &lt;chr&gt; |\n",
       "|---|---|---|---|---|---|---|---|---|---|\n",
       "| 1 | WF | 1289821 | Liang et al. 2021    |  1 | PAH | Volume | NA             | 1-(10-methylanthracen-9-yl)ethanone | 5  |\n",
       "| 2 | WF | 1289821 | Liang et al. 2021    |  1 | PAH | Volume | DTXSID50176885 | 1-Acenaphthenone                    | 1  |\n",
       "| 3 | WF | 1289737 | Campbell et al. 2024 |  1 | PAH | Weight | DTXSID1074759  | 1-Methylchrysene                    | NA |\n",
       "| 4 | WF | 1289739 | Campos et al. 2019   |  1 | PAH | Weight | DTXSID1074759  | 1-Methylchrysene                    | NA |\n",
       "| 5 | WF | 1289739 | Campos et al. 2019   | NA | PAH | Weight | DTXSID1074759  | 1-Methylchrysene                    | NA |\n",
       "| 6 | WF | 1289739 | Campos et al. 2019   | NA | PAH | Weight | DTXSID1074759  | 1-Methylchrysene                    | NA |\n",
       "\n"
      ],
      "text/plain": [
       "  Data HAWC_ID Study                Replicate Chemical_Class Metric\n",
       "1 WF   1289821 Liang et al. 2021     1        PAH            Volume\n",
       "2 WF   1289821 Liang et al. 2021     1        PAH            Volume\n",
       "3 WF   1289737 Campbell et al. 2024  1        PAH            Weight\n",
       "4 WF   1289739 Campos et al. 2019    1        PAH            Weight\n",
       "5 WF   1289739 Campos et al. 2019   NA        PAH            Weight\n",
       "6 WF   1289739 Campos et al. 2019   NA        PAH            Weight\n",
       "  DTXSID         Name                                Value\n",
       "1 NA             1-(10-methylanthracen-9-yl)ethanone 5    \n",
       "2 DTXSID50176885 1-Acenaphthenone                    1    \n",
       "3 DTXSID1074759  1-Methylchrysene                    NA   \n",
       "4 DTXSID1074759  1-Methylchrysene                    NA   \n",
       "5 DTXSID1074759  1-Methylchrysene                    NA   \n",
       "6 DTXSID1074759  1-Methylchrysene                    NA   "
      ]
     },
     "metadata": {},
     "output_type": "display_data"
    }
   ],
   "source": [
    "head(ws_df)\n",
    "head(wf_df)"
   ]
  },
  {
   "cell_type": "code",
   "execution_count": 3,
   "id": "3d546e8e-5cdf-4386-b29b-2ac2938366f9",
   "metadata": {},
   "outputs": [
    {
     "data": {
      "text/html": [
       "<style>\n",
       ".list-inline {list-style: none; margin:0; padding: 0}\n",
       ".list-inline>li {display: inline-block}\n",
       ".list-inline>li:not(:last-child)::after {content: \"\\00b7\"; padding: 0 .5ex}\n",
       "</style>\n",
       "<ol class=list-inline><li>6607</li><li>9</li></ol>\n"
      ],
      "text/latex": [
       "\\begin{enumerate*}\n",
       "\\item 6607\n",
       "\\item 9\n",
       "\\end{enumerate*}\n"
      ],
      "text/markdown": [
       "1. 6607\n",
       "2. 9\n",
       "\n",
       "\n"
      ],
      "text/plain": [
       "[1] 6607    9"
      ]
     },
     "metadata": {},
     "output_type": "display_data"
    },
    {
     "data": {
      "text/html": [
       "<style>\n",
       ".list-inline {list-style: none; margin:0; padding: 0}\n",
       ".list-inline>li {display: inline-block}\n",
       ".list-inline>li:not(:last-child)::after {content: \"\\00b7\"; padding: 0 .5ex}\n",
       "</style>\n",
       "<ol class=list-inline><li>4340</li><li>9</li></ol>\n"
      ],
      "text/latex": [
       "\\begin{enumerate*}\n",
       "\\item 4340\n",
       "\\item 9\n",
       "\\end{enumerate*}\n"
      ],
      "text/markdown": [
       "1. 4340\n",
       "2. 9\n",
       "\n",
       "\n"
      ],
      "text/plain": [
       "[1] 4340    9"
      ]
     },
     "metadata": {},
     "output_type": "display_data"
    }
   ],
   "source": [
    "dim(ws_df)\n",
    "dim(wf_df)"
   ]
  },
  {
   "cell_type": "markdown",
   "id": "417a92fb-0524-4038-a5ea-08a56f02a955",
   "metadata": {},
   "source": [
    "# Filter 1\n",
    "\n",
    "Removing duplicate records for instances that weren't measured at all (MAR). "
   ]
  },
  {
   "cell_type": "code",
   "execution_count": 5,
   "id": "9eefd1e4-96f4-48a6-933c-9486ab447115",
   "metadata": {
    "scrolled": true
   },
   "outputs": [],
   "source": [
    "`%notin%` <- Negate(`%in%`)\n",
    "\n",
    "ws_df = ws_df %>%\n",
    "    filter(Replicate %notin% NA)\n",
    "\n",
    "wf_df = wf_df %>%\n",
    "    filter(Replicate %notin% NA)"
   ]
  },
  {
   "cell_type": "code",
   "execution_count": 6,
   "id": "1425c2d3-c1cd-4626-974d-492e320d724e",
   "metadata": {
    "scrolled": true
   },
   "outputs": [
    {
     "data": {
      "text/html": [
       "<style>\n",
       ".list-inline {list-style: none; margin:0; padding: 0}\n",
       ".list-inline>li {display: inline-block}\n",
       ".list-inline>li:not(:last-child)::after {content: \"\\00b7\"; padding: 0 .5ex}\n",
       "</style>\n",
       "<ol class=list-inline><li>4203</li><li>9</li></ol>\n"
      ],
      "text/latex": [
       "\\begin{enumerate*}\n",
       "\\item 4203\n",
       "\\item 9\n",
       "\\end{enumerate*}\n"
      ],
      "text/markdown": [
       "1. 4203\n",
       "2. 9\n",
       "\n",
       "\n"
      ],
      "text/plain": [
       "[1] 4203    9"
      ]
     },
     "metadata": {},
     "output_type": "display_data"
    },
    {
     "data": {
      "text/html": [
       "<style>\n",
       ".list-inline {list-style: none; margin:0; padding: 0}\n",
       ".list-inline>li {display: inline-block}\n",
       ".list-inline>li:not(:last-child)::after {content: \"\\00b7\"; padding: 0 .5ex}\n",
       "</style>\n",
       "<ol class=list-inline><li>2378</li><li>9</li></ol>\n"
      ],
      "text/latex": [
       "\\begin{enumerate*}\n",
       "\\item 2378\n",
       "\\item 9\n",
       "\\end{enumerate*}\n"
      ],
      "text/markdown": [
       "1. 2378\n",
       "2. 9\n",
       "\n",
       "\n"
      ],
      "text/plain": [
       "[1] 2378    9"
      ]
     },
     "metadata": {},
     "output_type": "display_data"
    }
   ],
   "source": [
    "dim(ws_df)\n",
    "dim(wf_df)"
   ]
  },
  {
   "cell_type": "code",
   "execution_count": 7,
   "id": "d9ba0841-95c0-4dfc-a8de-480550341718",
   "metadata": {},
   "outputs": [
    {
     "data": {
      "text/html": [
       "<table class=\"dataframe\">\n",
       "<caption>A data.frame: 6 × 9</caption>\n",
       "<thead>\n",
       "\t<tr><th></th><th scope=col>Data</th><th scope=col>HAWC_ID</th><th scope=col>Study</th><th scope=col>Replicate</th><th scope=col>Chemical_Class</th><th scope=col>Metric</th><th scope=col>DTXSID</th><th scope=col>Name</th><th scope=col>Value</th></tr>\n",
       "\t<tr><th></th><th scope=col>&lt;chr&gt;</th><th scope=col>&lt;dbl&gt;</th><th scope=col>&lt;chr&gt;</th><th scope=col>&lt;dbl&gt;</th><th scope=col>&lt;chr&gt;</th><th scope=col>&lt;chr&gt;</th><th scope=col>&lt;chr&gt;</th><th scope=col>&lt;chr&gt;</th><th scope=col>&lt;chr&gt;</th></tr>\n",
       "</thead>\n",
       "<tbody>\n",
       "\t<tr><th scope=row>1</th><td>WS</td><td> 821855</td><td>Erlandsson et al. 2020  </td><td>1</td><td>PAH</td><td>Weight</td><td>DTXSID3074787</td><td>1-Methylanthracene</td><td>11.3              </td></tr>\n",
       "\t<tr><th scope=row>2</th><td>WS</td><td> 821855</td><td>Erlandsson et al. 2020  </td><td>1</td><td>PAH</td><td>Weight</td><td>DTXSID3074787</td><td>1-Methylanthracene</td><td>2.2999999999999998</td></tr>\n",
       "\t<tr><th scope=row>3</th><td>WS</td><td>1257056</td><td>McCarrick et al. 2024   </td><td>1</td><td>PAH</td><td>Weight</td><td>DTXSID3074787</td><td>1-Methylanthracene</td><td>1.66              </td></tr>\n",
       "\t<tr><th scope=row>4</th><td>WS</td><td> 267140</td><td>Alfheim and Ramdahl 1984</td><td>1</td><td>PAH</td><td>Volume</td><td>DTXSID3074787</td><td>1-Methylanthracene</td><td>NA                </td></tr>\n",
       "\t<tr><th scope=row>5</th><td>WS</td><td>1263480</td><td>Burnet et al. 1990      </td><td>1</td><td>PAH</td><td>Volume</td><td>DTXSID3074787</td><td>1-Methylanthracene</td><td>NA                </td></tr>\n",
       "\t<tr><th scope=row>6</th><td>WS</td><td> 267091</td><td>Forchhammer et al. 2012 </td><td>1</td><td>PAH</td><td>Volume</td><td>DTXSID3074787</td><td>1-Methylanthracene</td><td>NA                </td></tr>\n",
       "</tbody>\n",
       "</table>\n"
      ],
      "text/latex": [
       "A data.frame: 6 × 9\n",
       "\\begin{tabular}{r|lllllllll}\n",
       "  & Data & HAWC\\_ID & Study & Replicate & Chemical\\_Class & Metric & DTXSID & Name & Value\\\\\n",
       "  & <chr> & <dbl> & <chr> & <dbl> & <chr> & <chr> & <chr> & <chr> & <chr>\\\\\n",
       "\\hline\n",
       "\t1 & WS &  821855 & Erlandsson et al. 2020   & 1 & PAH & Weight & DTXSID3074787 & 1-Methylanthracene & 11.3              \\\\\n",
       "\t2 & WS &  821855 & Erlandsson et al. 2020   & 1 & PAH & Weight & DTXSID3074787 & 1-Methylanthracene & 2.2999999999999998\\\\\n",
       "\t3 & WS & 1257056 & McCarrick et al. 2024    & 1 & PAH & Weight & DTXSID3074787 & 1-Methylanthracene & 1.66              \\\\\n",
       "\t4 & WS &  267140 & Alfheim and Ramdahl 1984 & 1 & PAH & Volume & DTXSID3074787 & 1-Methylanthracene & NA                \\\\\n",
       "\t5 & WS & 1263480 & Burnet et al. 1990       & 1 & PAH & Volume & DTXSID3074787 & 1-Methylanthracene & NA                \\\\\n",
       "\t6 & WS &  267091 & Forchhammer et al. 2012  & 1 & PAH & Volume & DTXSID3074787 & 1-Methylanthracene & NA                \\\\\n",
       "\\end{tabular}\n"
      ],
      "text/markdown": [
       "\n",
       "A data.frame: 6 × 9\n",
       "\n",
       "| <!--/--> | Data &lt;chr&gt; | HAWC_ID &lt;dbl&gt; | Study &lt;chr&gt; | Replicate &lt;dbl&gt; | Chemical_Class &lt;chr&gt; | Metric &lt;chr&gt; | DTXSID &lt;chr&gt; | Name &lt;chr&gt; | Value &lt;chr&gt; |\n",
       "|---|---|---|---|---|---|---|---|---|---|\n",
       "| 1 | WS |  821855 | Erlandsson et al. 2020   | 1 | PAH | Weight | DTXSID3074787 | 1-Methylanthracene | 11.3               |\n",
       "| 2 | WS |  821855 | Erlandsson et al. 2020   | 1 | PAH | Weight | DTXSID3074787 | 1-Methylanthracene | 2.2999999999999998 |\n",
       "| 3 | WS | 1257056 | McCarrick et al. 2024    | 1 | PAH | Weight | DTXSID3074787 | 1-Methylanthracene | 1.66               |\n",
       "| 4 | WS |  267140 | Alfheim and Ramdahl 1984 | 1 | PAH | Volume | DTXSID3074787 | 1-Methylanthracene | NA                 |\n",
       "| 5 | WS | 1263480 | Burnet et al. 1990       | 1 | PAH | Volume | DTXSID3074787 | 1-Methylanthracene | NA                 |\n",
       "| 6 | WS |  267091 | Forchhammer et al. 2012  | 1 | PAH | Volume | DTXSID3074787 | 1-Methylanthracene | NA                 |\n",
       "\n"
      ],
      "text/plain": [
       "  Data HAWC_ID Study                    Replicate Chemical_Class Metric\n",
       "1 WS    821855 Erlandsson et al. 2020   1         PAH            Weight\n",
       "2 WS    821855 Erlandsson et al. 2020   1         PAH            Weight\n",
       "3 WS   1257056 McCarrick et al. 2024    1         PAH            Weight\n",
       "4 WS    267140 Alfheim and Ramdahl 1984 1         PAH            Volume\n",
       "5 WS   1263480 Burnet et al. 1990       1         PAH            Volume\n",
       "6 WS    267091 Forchhammer et al. 2012  1         PAH            Volume\n",
       "  DTXSID        Name               Value             \n",
       "1 DTXSID3074787 1-Methylanthracene 11.3              \n",
       "2 DTXSID3074787 1-Methylanthracene 2.2999999999999998\n",
       "3 DTXSID3074787 1-Methylanthracene 1.66              \n",
       "4 DTXSID3074787 1-Methylanthracene NA                \n",
       "5 DTXSID3074787 1-Methylanthracene NA                \n",
       "6 DTXSID3074787 1-Methylanthracene NA                "
      ]
     },
     "metadata": {},
     "output_type": "display_data"
    }
   ],
   "source": [
    "# combining dfs\n",
    "combined_df = rbind(ws_df, wf_df)\n",
    "head(combined_df)"
   ]
  },
  {
   "cell_type": "code",
   "execution_count": 8,
   "id": "6bcf9a9c-639c-46ca-9806-dcb9246095f1",
   "metadata": {},
   "outputs": [
    {
     "data": {
      "text/html": [
       "192"
      ],
      "text/latex": [
       "192"
      ],
      "text/markdown": [
       "192"
      ],
      "text/plain": [
       "[1] 192"
      ]
     },
     "metadata": {},
     "output_type": "display_data"
    }
   ],
   "source": [
    "length(unique(combined_df$Name))"
   ]
  },
  {
   "cell_type": "markdown",
   "id": "adaf5cec-fc80-4902-935a-523fc2d9a106",
   "metadata": {},
   "source": [
    "192 unique variables."
   ]
  },
  {
   "cell_type": "markdown",
   "id": "38fa1e02-9f71-4378-a78f-90f5591ab77b",
   "metadata": {},
   "source": [
    "# Variable Background Filters\n",
    "\n",
    "Determining what variables have missing data for all variables delineated based on the dfs the data will be split into and analyzed. \n",
    "\n",
    "1. A variable (ie. `Name` which represents a chemical or metal) will be removed if < 50% of its experimental data points were either measurable concentrations and/or specified as non-detects. In other words, chemicals were excluded if they were NAs (not evaluated) across >= 50% of the samples.\n",
    "2. The data needs to have at least one experimental (ie. measured or ND) value in both WS and WF data."
   ]
  },
  {
   "cell_type": "code",
   "execution_count": 9,
   "id": "59c471fe-1657-4356-8ed6-35a8b6244188",
   "metadata": {},
   "outputs": [
    {
     "data": {
      "text/html": [
       "<table class=\"dataframe\">\n",
       "<caption>A tibble: 6 × 4</caption>\n",
       "<thead>\n",
       "\t<tr><th scope=col>Data</th><th scope=col>Metric</th><th scope=col>Name</th><th scope=col>data_group_count</th></tr>\n",
       "\t<tr><th scope=col>&lt;chr&gt;</th><th scope=col>&lt;chr&gt;</th><th scope=col>&lt;chr&gt;</th><th scope=col>&lt;dbl&gt;</th></tr>\n",
       "</thead>\n",
       "<tbody>\n",
       "\t<tr><td>WF</td><td>Volume</td><td>1,2,4-Trimethylbenzene    </td><td>2</td></tr>\n",
       "\t<tr><td>WF</td><td>Volume</td><td>1,3,5-Trimethylbenzene    </td><td>2</td></tr>\n",
       "\t<tr><td>WF</td><td>Volume</td><td>1,3-Dihydroxynaphthalene  </td><td>1</td></tr>\n",
       "\t<tr><td>WF</td><td>Volume</td><td>1,4-Dichloro-2-butene, cis</td><td>1</td></tr>\n",
       "\t<tr><td>WF</td><td>Volume</td><td>1,4-Dichlorobenzene       </td><td>1</td></tr>\n",
       "\t<tr><td>WF</td><td>Volume</td><td>1,8-Dihydroxynaphthalene  </td><td>1</td></tr>\n",
       "</tbody>\n",
       "</table>\n"
      ],
      "text/latex": [
       "A tibble: 6 × 4\n",
       "\\begin{tabular}{llll}\n",
       " Data & Metric & Name & data\\_group\\_count\\\\\n",
       " <chr> & <chr> & <chr> & <dbl>\\\\\n",
       "\\hline\n",
       "\t WF & Volume & 1,2,4-Trimethylbenzene     & 2\\\\\n",
       "\t WF & Volume & 1,3,5-Trimethylbenzene     & 2\\\\\n",
       "\t WF & Volume & 1,3-Dihydroxynaphthalene   & 1\\\\\n",
       "\t WF & Volume & 1,4-Dichloro-2-butene, cis & 1\\\\\n",
       "\t WF & Volume & 1,4-Dichlorobenzene        & 1\\\\\n",
       "\t WF & Volume & 1,8-Dihydroxynaphthalene   & 1\\\\\n",
       "\\end{tabular}\n"
      ],
      "text/markdown": [
       "\n",
       "A tibble: 6 × 4\n",
       "\n",
       "| Data &lt;chr&gt; | Metric &lt;chr&gt; | Name &lt;chr&gt; | data_group_count &lt;dbl&gt; |\n",
       "|---|---|---|---|\n",
       "| WF | Volume | 1,2,4-Trimethylbenzene     | 2 |\n",
       "| WF | Volume | 1,3,5-Trimethylbenzene     | 2 |\n",
       "| WF | Volume | 1,3-Dihydroxynaphthalene   | 1 |\n",
       "| WF | Volume | 1,4-Dichloro-2-butene, cis | 1 |\n",
       "| WF | Volume | 1,4-Dichlorobenzene        | 1 |\n",
       "| WF | Volume | 1,8-Dihydroxynaphthalene   | 1 |\n",
       "\n"
      ],
      "text/plain": [
       "  Data Metric Name                       data_group_count\n",
       "1 WF   Volume 1,2,4-Trimethylbenzene     2               \n",
       "2 WF   Volume 1,3,5-Trimethylbenzene     2               \n",
       "3 WF   Volume 1,3-Dihydroxynaphthalene   1               \n",
       "4 WF   Volume 1,4-Dichloro-2-butene, cis 1               \n",
       "5 WF   Volume 1,4-Dichlorobenzene        1               \n",
       "6 WF   Volume 1,8-Dihydroxynaphthalene   1               "
      ]
     },
     "metadata": {},
     "output_type": "display_data"
    }
   ],
   "source": [
    "sample_type_presence_df = combined_df %>%\n",
    "    # if the value isn't MAR count it as being present\n",
    "    mutate(count = ifelse(Value != 'NA', 1, 0)) %>%\n",
    "    # determining which have at least one experimental value within each sample type\n",
    "    group_by(Data, Metric, Name) %>%\n",
    "    # summing the number of experimental records for each variable\n",
    "    reframe(data_group_count = sum(count))\n",
    "\n",
    "head(sample_type_presence_df)"
   ]
  },
  {
   "cell_type": "code",
   "execution_count": 10,
   "id": "01950eb7-eaa3-4736-b19c-bac78b6e26c0",
   "metadata": {},
   "outputs": [
    {
     "data": {
      "text/html": [
       "<style>\n",
       ".list-inline {list-style: none; margin:0; padding: 0}\n",
       ".list-inline>li {display: inline-block}\n",
       ".list-inline>li:not(:last-child)::after {content: \"\\00b7\"; padding: 0 .5ex}\n",
       "</style>\n",
       "<ol class=list-inline><li>449</li><li>4</li></ol>\n"
      ],
      "text/latex": [
       "\\begin{enumerate*}\n",
       "\\item 449\n",
       "\\item 4\n",
       "\\end{enumerate*}\n"
      ],
      "text/markdown": [
       "1. 449\n",
       "2. 4\n",
       "\n",
       "\n"
      ],
      "text/plain": [
       "[1] 449   4"
      ]
     },
     "metadata": {},
     "output_type": "display_data"
    },
    {
     "data": {
      "text/html": [
       "<style>\n",
       ".list-inline {list-style: none; margin:0; padding: 0}\n",
       ".list-inline>li {display: inline-block}\n",
       ".list-inline>li:not(:last-child)::after {content: \"\\00b7\"; padding: 0 .5ex}\n",
       "</style>\n",
       "<ol class=list-inline><li>333</li><li>4</li></ol>\n"
      ],
      "text/latex": [
       "\\begin{enumerate*}\n",
       "\\item 333\n",
       "\\item 4\n",
       "\\end{enumerate*}\n"
      ],
      "text/markdown": [
       "1. 333\n",
       "2. 4\n",
       "\n",
       "\n"
      ],
      "text/plain": [
       "[1] 333   4"
      ]
     },
     "metadata": {},
     "output_type": "display_data"
    }
   ],
   "source": [
    "dim(sample_type_presence_df)\n",
    "\n",
    "sample_type_keep_df = sample_type_presence_df %>%\n",
    "    filter(data_group_count > 0) \n",
    "\n",
    "dim(sample_type_keep_df)"
   ]
  },
  {
   "cell_type": "code",
   "execution_count": 11,
   "id": "e9e0b6d6-d46b-4f37-81e9-f71cbf5eaefd",
   "metadata": {},
   "outputs": [
    {
     "name": "stderr",
     "output_type": "stream",
     "text": [
      "\u001b[1m\u001b[22mJoining with `by = join_by(Data, Metric, Name)`\n"
     ]
    },
    {
     "data": {
      "text/html": [
       "<table class=\"dataframe\">\n",
       "<caption>A tibble: 6 × 9</caption>\n",
       "<thead>\n",
       "\t<tr><th scope=col>Data</th><th scope=col>Metric</th><th scope=col>Name</th><th scope=col>HAWC_ID</th><th scope=col>Study</th><th scope=col>Replicate</th><th scope=col>Chemical_Class</th><th scope=col>DTXSID</th><th scope=col>Value</th></tr>\n",
       "\t<tr><th scope=col>&lt;chr&gt;</th><th scope=col>&lt;chr&gt;</th><th scope=col>&lt;chr&gt;</th><th scope=col>&lt;dbl&gt;</th><th scope=col>&lt;chr&gt;</th><th scope=col>&lt;dbl&gt;</th><th scope=col>&lt;chr&gt;</th><th scope=col>&lt;chr&gt;</th><th scope=col>&lt;chr&gt;</th></tr>\n",
       "</thead>\n",
       "<tbody>\n",
       "\t<tr><td>WF</td><td>Volume</td><td>1,2,4-Trimethylbenzene    </td><td>1289926</td><td>Wang et al. 2024       </td><td>1</td><td>VOC</td><td>DTXSID6021402 </td><td>730</td></tr>\n",
       "\t<tr><td>WF</td><td>Volume</td><td>1,2,4-Trimethylbenzene    </td><td>1306371</td><td>Ketcherside et al. 2024</td><td>1</td><td>VOC</td><td>DTXSID6021402 </td><td>130</td></tr>\n",
       "\t<tr><td>WF</td><td>Volume</td><td>1,3,5-Trimethylbenzene    </td><td>1289926</td><td>Wang et al. 2024       </td><td>1</td><td>VOC</td><td>DTXSID6026797 </td><td>330</td></tr>\n",
       "\t<tr><td>WF</td><td>Volume</td><td>1,3,5-Trimethylbenzene    </td><td>1306371</td><td>Ketcherside et al. 2024</td><td>1</td><td>VOC</td><td>DTXSID6026797 </td><td>110</td></tr>\n",
       "\t<tr><td>WF</td><td>Volume</td><td>1,3-Dihydroxynaphthalene  </td><td>1289821</td><td>Liang et al. 2021      </td><td>1</td><td>PAH</td><td>DTXSID40456587</td><td>6  </td></tr>\n",
       "\t<tr><td>WF</td><td>Volume</td><td>1,4-Dichloro-2-butene, cis</td><td>1289926</td><td>Wang et al. 2024       </td><td>1</td><td>VOC</td><td>DTXSID3027405 </td><td>230</td></tr>\n",
       "</tbody>\n",
       "</table>\n"
      ],
      "text/latex": [
       "A tibble: 6 × 9\n",
       "\\begin{tabular}{lllllllll}\n",
       " Data & Metric & Name & HAWC\\_ID & Study & Replicate & Chemical\\_Class & DTXSID & Value\\\\\n",
       " <chr> & <chr> & <chr> & <dbl> & <chr> & <dbl> & <chr> & <chr> & <chr>\\\\\n",
       "\\hline\n",
       "\t WF & Volume & 1,2,4-Trimethylbenzene     & 1289926 & Wang et al. 2024        & 1 & VOC & DTXSID6021402  & 730\\\\\n",
       "\t WF & Volume & 1,2,4-Trimethylbenzene     & 1306371 & Ketcherside et al. 2024 & 1 & VOC & DTXSID6021402  & 130\\\\\n",
       "\t WF & Volume & 1,3,5-Trimethylbenzene     & 1289926 & Wang et al. 2024        & 1 & VOC & DTXSID6026797  & 330\\\\\n",
       "\t WF & Volume & 1,3,5-Trimethylbenzene     & 1306371 & Ketcherside et al. 2024 & 1 & VOC & DTXSID6026797  & 110\\\\\n",
       "\t WF & Volume & 1,3-Dihydroxynaphthalene   & 1289821 & Liang et al. 2021       & 1 & PAH & DTXSID40456587 & 6  \\\\\n",
       "\t WF & Volume & 1,4-Dichloro-2-butene, cis & 1289926 & Wang et al. 2024        & 1 & VOC & DTXSID3027405  & 230\\\\\n",
       "\\end{tabular}\n"
      ],
      "text/markdown": [
       "\n",
       "A tibble: 6 × 9\n",
       "\n",
       "| Data &lt;chr&gt; | Metric &lt;chr&gt; | Name &lt;chr&gt; | HAWC_ID &lt;dbl&gt; | Study &lt;chr&gt; | Replicate &lt;dbl&gt; | Chemical_Class &lt;chr&gt; | DTXSID &lt;chr&gt; | Value &lt;chr&gt; |\n",
       "|---|---|---|---|---|---|---|---|---|\n",
       "| WF | Volume | 1,2,4-Trimethylbenzene     | 1289926 | Wang et al. 2024        | 1 | VOC | DTXSID6021402  | 730 |\n",
       "| WF | Volume | 1,2,4-Trimethylbenzene     | 1306371 | Ketcherside et al. 2024 | 1 | VOC | DTXSID6021402  | 130 |\n",
       "| WF | Volume | 1,3,5-Trimethylbenzene     | 1289926 | Wang et al. 2024        | 1 | VOC | DTXSID6026797  | 330 |\n",
       "| WF | Volume | 1,3,5-Trimethylbenzene     | 1306371 | Ketcherside et al. 2024 | 1 | VOC | DTXSID6026797  | 110 |\n",
       "| WF | Volume | 1,3-Dihydroxynaphthalene   | 1289821 | Liang et al. 2021       | 1 | PAH | DTXSID40456587 | 6   |\n",
       "| WF | Volume | 1,4-Dichloro-2-butene, cis | 1289926 | Wang et al. 2024        | 1 | VOC | DTXSID3027405  | 230 |\n",
       "\n"
      ],
      "text/plain": [
       "  Data Metric Name                       HAWC_ID Study                  \n",
       "1 WF   Volume 1,2,4-Trimethylbenzene     1289926 Wang et al. 2024       \n",
       "2 WF   Volume 1,2,4-Trimethylbenzene     1306371 Ketcherside et al. 2024\n",
       "3 WF   Volume 1,3,5-Trimethylbenzene     1289926 Wang et al. 2024       \n",
       "4 WF   Volume 1,3,5-Trimethylbenzene     1306371 Ketcherside et al. 2024\n",
       "5 WF   Volume 1,3-Dihydroxynaphthalene   1289821 Liang et al. 2021      \n",
       "6 WF   Volume 1,4-Dichloro-2-butene, cis 1289926 Wang et al. 2024       \n",
       "  Replicate Chemical_Class DTXSID         Value\n",
       "1 1         VOC            DTXSID6021402  730  \n",
       "2 1         VOC            DTXSID6021402  130  \n",
       "3 1         VOC            DTXSID6026797  330  \n",
       "4 1         VOC            DTXSID6026797  110  \n",
       "5 1         PAH            DTXSID40456587 6    \n",
       "6 1         VOC            DTXSID3027405  230  "
      ]
     },
     "metadata": {},
     "output_type": "display_data"
    }
   ],
   "source": [
    "# filtering the original df\n",
    "filter1_df = inner_join(sample_type_keep_df[,1:3], combined_df)\n",
    "head(filter1_df)"
   ]
  },
  {
   "cell_type": "code",
   "execution_count": 12,
   "id": "326df55e-15f1-4704-969d-2e19d7cf54fd",
   "metadata": {},
   "outputs": [
    {
     "data": {
      "text/html": [
       "<style>\n",
       ".list-inline {list-style: none; margin:0; padding: 0}\n",
       ".list-inline>li {display: inline-block}\n",
       ".list-inline>li:not(:last-child)::after {content: \"\\00b7\"; padding: 0 .5ex}\n",
       "</style>\n",
       "<ol class=list-inline><li>6581</li><li>9</li></ol>\n"
      ],
      "text/latex": [
       "\\begin{enumerate*}\n",
       "\\item 6581\n",
       "\\item 9\n",
       "\\end{enumerate*}\n"
      ],
      "text/markdown": [
       "1. 6581\n",
       "2. 9\n",
       "\n",
       "\n"
      ],
      "text/plain": [
       "[1] 6581    9"
      ]
     },
     "metadata": {},
     "output_type": "display_data"
    },
    {
     "data": {
      "text/html": [
       "<style>\n",
       ".list-inline {list-style: none; margin:0; padding: 0}\n",
       ".list-inline>li {display: inline-block}\n",
       ".list-inline>li:not(:last-child)::after {content: \"\\00b7\"; padding: 0 .5ex}\n",
       "</style>\n",
       "<ol class=list-inline><li>5218</li><li>9</li></ol>\n"
      ],
      "text/latex": [
       "\\begin{enumerate*}\n",
       "\\item 5218\n",
       "\\item 9\n",
       "\\end{enumerate*}\n"
      ],
      "text/markdown": [
       "1. 5218\n",
       "2. 9\n",
       "\n",
       "\n"
      ],
      "text/plain": [
       "[1] 5218    9"
      ]
     },
     "metadata": {},
     "output_type": "display_data"
    }
   ],
   "source": [
    "dim(combined_df)\n",
    "dim(filter1_df)"
   ]
  },
  {
   "cell_type": "markdown",
   "id": "5f340a20-8ef3-419d-92a5-9140887821d7",
   "metadata": {},
   "source": [
    "Started with 6581 records, 1363 were removed, leaving 5218. \n",
    "\n",
    "Now that each sample type (WS of WF) has at least one experimental value, we'll see if there are at least 50% of data between the sample types."
   ]
  },
  {
   "cell_type": "code",
   "execution_count": 14,
   "id": "d7cb46a6-4543-4dfa-949a-58c261307882",
   "metadata": {},
   "outputs": [
    {
     "data": {
      "text/html": [
       "<table class=\"dataframe\">\n",
       "<caption>A tibble: 6 × 3</caption>\n",
       "<thead>\n",
       "\t<tr><th scope=col>Metric</th><th scope=col>Name</th><th scope=col>Variable_Presence_Percentage</th></tr>\n",
       "\t<tr><th scope=col>&lt;chr&gt;</th><th scope=col>&lt;chr&gt;</th><th scope=col>&lt;dbl&gt;</th></tr>\n",
       "</thead>\n",
       "<tbody>\n",
       "\t<tr><td>Volume</td><td>1,2,4-Trimethylbenzene    </td><td>100</td></tr>\n",
       "\t<tr><td>Volume</td><td>1,3,5-Trimethylbenzene    </td><td>100</td></tr>\n",
       "\t<tr><td>Volume</td><td>1,3-Dihydroxynaphthalene  </td><td>100</td></tr>\n",
       "\t<tr><td>Volume</td><td>1,4-Dichloro-2-butene, cis</td><td>100</td></tr>\n",
       "\t<tr><td>Volume</td><td>1,4-Dichlorobenzene       </td><td>100</td></tr>\n",
       "\t<tr><td>Volume</td><td>1,8-Dihydroxynaphthalene  </td><td>100</td></tr>\n",
       "</tbody>\n",
       "</table>\n"
      ],
      "text/latex": [
       "A tibble: 6 × 3\n",
       "\\begin{tabular}{lll}\n",
       " Metric & Name & Variable\\_Presence\\_Percentage\\\\\n",
       " <chr> & <chr> & <dbl>\\\\\n",
       "\\hline\n",
       "\t Volume & 1,2,4-Trimethylbenzene     & 100\\\\\n",
       "\t Volume & 1,3,5-Trimethylbenzene     & 100\\\\\n",
       "\t Volume & 1,3-Dihydroxynaphthalene   & 100\\\\\n",
       "\t Volume & 1,4-Dichloro-2-butene, cis & 100\\\\\n",
       "\t Volume & 1,4-Dichlorobenzene        & 100\\\\\n",
       "\t Volume & 1,8-Dihydroxynaphthalene   & 100\\\\\n",
       "\\end{tabular}\n"
      ],
      "text/markdown": [
       "\n",
       "A tibble: 6 × 3\n",
       "\n",
       "| Metric &lt;chr&gt; | Name &lt;chr&gt; | Variable_Presence_Percentage &lt;dbl&gt; |\n",
       "|---|---|---|\n",
       "| Volume | 1,2,4-Trimethylbenzene     | 100 |\n",
       "| Volume | 1,3,5-Trimethylbenzene     | 100 |\n",
       "| Volume | 1,3-Dihydroxynaphthalene   | 100 |\n",
       "| Volume | 1,4-Dichloro-2-butene, cis | 100 |\n",
       "| Volume | 1,4-Dichlorobenzene        | 100 |\n",
       "| Volume | 1,8-Dihydroxynaphthalene   | 100 |\n",
       "\n"
      ],
      "text/plain": [
       "  Metric Name                       Variable_Presence_Percentage\n",
       "1 Volume 1,2,4-Trimethylbenzene     100                         \n",
       "2 Volume 1,3,5-Trimethylbenzene     100                         \n",
       "3 Volume 1,3-Dihydroxynaphthalene   100                         \n",
       "4 Volume 1,4-Dichloro-2-butene, cis 100                         \n",
       "5 Volume 1,4-Dichlorobenzene        100                         \n",
       "6 Volume 1,8-Dihydroxynaphthalene   100                         "
      ]
     },
     "metadata": {},
     "output_type": "display_data"
    }
   ],
   "source": [
    "variable_presence_df = filter1_df %>%\n",
    "    # if the value isn't MAR count it as being present\n",
    "    mutate(count = ifelse(Value != 'NA', 1, 0)) %>%\n",
    "    group_by(Metric, Name) %>%\n",
    "    # calculating the percentage of variables with data overall\n",
    "    reframe(Variable_Presence_Percentage = (sum(count)/n()) * 100) %>%\n",
    "    arrange(-Variable_Presence_Percentage)\n",
    "\n",
    "# viewing data that passed the filter\n",
    "keep_variables_df = variable_presence_df %>%\n",
    "     filter(Variable_Presence_Percentage >= 50) %>%\n",
    "     unique()\n",
    "\n",
    "head(keep_variables_df)"
   ]
  },
  {
   "cell_type": "code",
   "execution_count": 15,
   "id": "86b71768-8adf-45d6-8d3d-581c3a7d1c80",
   "metadata": {},
   "outputs": [
    {
     "name": "stderr",
     "output_type": "stream",
     "text": [
      "\u001b[1m\u001b[22mJoining with `by = join_by(Metric, Name)`\n"
     ]
    },
    {
     "data": {
      "text/html": [
       "<table class=\"dataframe\">\n",
       "<caption>A tibble: 6 × 9</caption>\n",
       "<thead>\n",
       "\t<tr><th scope=col>Metric</th><th scope=col>Name</th><th scope=col>Data</th><th scope=col>HAWC_ID</th><th scope=col>Study</th><th scope=col>Replicate</th><th scope=col>Chemical_Class</th><th scope=col>DTXSID</th><th scope=col>Value</th></tr>\n",
       "\t<tr><th scope=col>&lt;chr&gt;</th><th scope=col>&lt;chr&gt;</th><th scope=col>&lt;chr&gt;</th><th scope=col>&lt;dbl&gt;</th><th scope=col>&lt;chr&gt;</th><th scope=col>&lt;dbl&gt;</th><th scope=col>&lt;chr&gt;</th><th scope=col>&lt;chr&gt;</th><th scope=col>&lt;chr&gt;</th></tr>\n",
       "</thead>\n",
       "<tbody>\n",
       "\t<tr><td>Volume</td><td>1,2,4-Trimethylbenzene    </td><td>WF</td><td>1289926</td><td>Wang et al. 2024       </td><td>1</td><td>VOC</td><td>DTXSID6021402 </td><td>730</td></tr>\n",
       "\t<tr><td>Volume</td><td>1,2,4-Trimethylbenzene    </td><td>WF</td><td>1306371</td><td>Ketcherside et al. 2024</td><td>1</td><td>VOC</td><td>DTXSID6021402 </td><td>130</td></tr>\n",
       "\t<tr><td>Volume</td><td>1,3,5-Trimethylbenzene    </td><td>WF</td><td>1289926</td><td>Wang et al. 2024       </td><td>1</td><td>VOC</td><td>DTXSID6026797 </td><td>330</td></tr>\n",
       "\t<tr><td>Volume</td><td>1,3,5-Trimethylbenzene    </td><td>WF</td><td>1306371</td><td>Ketcherside et al. 2024</td><td>1</td><td>VOC</td><td>DTXSID6026797 </td><td>110</td></tr>\n",
       "\t<tr><td>Volume</td><td>1,3-Dihydroxynaphthalene  </td><td>WF</td><td>1289821</td><td>Liang et al. 2021      </td><td>1</td><td>PAH</td><td>DTXSID40456587</td><td>6  </td></tr>\n",
       "\t<tr><td>Volume</td><td>1,4-Dichloro-2-butene, cis</td><td>WF</td><td>1289926</td><td>Wang et al. 2024       </td><td>1</td><td>VOC</td><td>DTXSID3027405 </td><td>230</td></tr>\n",
       "</tbody>\n",
       "</table>\n"
      ],
      "text/latex": [
       "A tibble: 6 × 9\n",
       "\\begin{tabular}{lllllllll}\n",
       " Metric & Name & Data & HAWC\\_ID & Study & Replicate & Chemical\\_Class & DTXSID & Value\\\\\n",
       " <chr> & <chr> & <chr> & <dbl> & <chr> & <dbl> & <chr> & <chr> & <chr>\\\\\n",
       "\\hline\n",
       "\t Volume & 1,2,4-Trimethylbenzene     & WF & 1289926 & Wang et al. 2024        & 1 & VOC & DTXSID6021402  & 730\\\\\n",
       "\t Volume & 1,2,4-Trimethylbenzene     & WF & 1306371 & Ketcherside et al. 2024 & 1 & VOC & DTXSID6021402  & 130\\\\\n",
       "\t Volume & 1,3,5-Trimethylbenzene     & WF & 1289926 & Wang et al. 2024        & 1 & VOC & DTXSID6026797  & 330\\\\\n",
       "\t Volume & 1,3,5-Trimethylbenzene     & WF & 1306371 & Ketcherside et al. 2024 & 1 & VOC & DTXSID6026797  & 110\\\\\n",
       "\t Volume & 1,3-Dihydroxynaphthalene   & WF & 1289821 & Liang et al. 2021       & 1 & PAH & DTXSID40456587 & 6  \\\\\n",
       "\t Volume & 1,4-Dichloro-2-butene, cis & WF & 1289926 & Wang et al. 2024        & 1 & VOC & DTXSID3027405  & 230\\\\\n",
       "\\end{tabular}\n"
      ],
      "text/markdown": [
       "\n",
       "A tibble: 6 × 9\n",
       "\n",
       "| Metric &lt;chr&gt; | Name &lt;chr&gt; | Data &lt;chr&gt; | HAWC_ID &lt;dbl&gt; | Study &lt;chr&gt; | Replicate &lt;dbl&gt; | Chemical_Class &lt;chr&gt; | DTXSID &lt;chr&gt; | Value &lt;chr&gt; |\n",
       "|---|---|---|---|---|---|---|---|---|\n",
       "| Volume | 1,2,4-Trimethylbenzene     | WF | 1289926 | Wang et al. 2024        | 1 | VOC | DTXSID6021402  | 730 |\n",
       "| Volume | 1,2,4-Trimethylbenzene     | WF | 1306371 | Ketcherside et al. 2024 | 1 | VOC | DTXSID6021402  | 130 |\n",
       "| Volume | 1,3,5-Trimethylbenzene     | WF | 1289926 | Wang et al. 2024        | 1 | VOC | DTXSID6026797  | 330 |\n",
       "| Volume | 1,3,5-Trimethylbenzene     | WF | 1306371 | Ketcherside et al. 2024 | 1 | VOC | DTXSID6026797  | 110 |\n",
       "| Volume | 1,3-Dihydroxynaphthalene   | WF | 1289821 | Liang et al. 2021       | 1 | PAH | DTXSID40456587 | 6   |\n",
       "| Volume | 1,4-Dichloro-2-butene, cis | WF | 1289926 | Wang et al. 2024        | 1 | VOC | DTXSID3027405  | 230 |\n",
       "\n"
      ],
      "text/plain": [
       "  Metric Name                       Data HAWC_ID Study                  \n",
       "1 Volume 1,2,4-Trimethylbenzene     WF   1289926 Wang et al. 2024       \n",
       "2 Volume 1,2,4-Trimethylbenzene     WF   1306371 Ketcherside et al. 2024\n",
       "3 Volume 1,3,5-Trimethylbenzene     WF   1289926 Wang et al. 2024       \n",
       "4 Volume 1,3,5-Trimethylbenzene     WF   1306371 Ketcherside et al. 2024\n",
       "5 Volume 1,3-Dihydroxynaphthalene   WF   1289821 Liang et al. 2021      \n",
       "6 Volume 1,4-Dichloro-2-butene, cis WF   1289926 Wang et al. 2024       \n",
       "  Replicate Chemical_Class DTXSID         Value\n",
       "1 1         VOC            DTXSID6021402  730  \n",
       "2 1         VOC            DTXSID6021402  130  \n",
       "3 1         VOC            DTXSID6026797  330  \n",
       "4 1         VOC            DTXSID6026797  110  \n",
       "5 1         PAH            DTXSID40456587 6    \n",
       "6 1         VOC            DTXSID3027405  230  "
      ]
     },
     "metadata": {},
     "output_type": "display_data"
    }
   ],
   "source": [
    "# only keeping records that passed the background filter\n",
    "filter2_df = inner_join(keep_variables_df[,1:2], filter1_df) %>%\n",
    "    # metals don't have a DTXSID, so making that col their name\n",
    "    mutate(DTXSID = ifelse(DTXSID != 'NA', DTXSID, Name)) \n",
    "    \n",
    "\n",
    "head(filter2_df)"
   ]
  },
  {
   "cell_type": "code",
   "execution_count": 16,
   "id": "606a93db-e66a-4d74-9b15-7b6f6d34b28c",
   "metadata": {},
   "outputs": [
    {
     "data": {
      "text/html": [
       "<style>\n",
       ".list-inline {list-style: none; margin:0; padding: 0}\n",
       ".list-inline>li {display: inline-block}\n",
       ".list-inline>li:not(:last-child)::after {content: \"\\00b7\"; padding: 0 .5ex}\n",
       "</style>\n",
       "<ol class=list-inline><li>4882</li><li>9</li></ol>\n"
      ],
      "text/latex": [
       "\\begin{enumerate*}\n",
       "\\item 4882\n",
       "\\item 9\n",
       "\\end{enumerate*}\n"
      ],
      "text/markdown": [
       "1. 4882\n",
       "2. 9\n",
       "\n",
       "\n"
      ],
      "text/plain": [
       "[1] 4882    9"
      ]
     },
     "metadata": {},
     "output_type": "display_data"
    }
   ],
   "source": [
    "dim(filter2_df)"
   ]
  },
  {
   "cell_type": "markdown",
   "id": "6fd63281-87c6-4702-9834-4ff5be768edd",
   "metadata": {},
   "source": [
    "An additional 336 records were removed, leaving 4882.\n",
    "\n",
    "# Second Variable Background Filter\n",
    "\n",
    "In the intial filter, samples were combined. However, this time variables (ie. metal or chemical) will be split based on their `Metric` (ie. volume or weight) and then retained if that variable in found in both woodsmoke and wildfire samples within volume or weight samples."
   ]
  },
  {
   "cell_type": "code",
   "execution_count": 18,
   "id": "00ed4b32-8851-48f9-a680-c4277545ea8d",
   "metadata": {},
   "outputs": [],
   "source": [
    "split_filtered_df = filter2_df %>%\n",
    "    group_by(Data, Metric) %>%\n",
    "    group_split\n",
    "\n",
    "split_ws_vol_df = split_filtered_df[[3]]\n",
    "split_ws_weight_df = split_filtered_df[[4]]\n",
    "split_wf_vol_df = split_filtered_df[[1]]\n",
    "split_wf_weight_df = split_filtered_df[[2]]"
   ]
  },
  {
   "cell_type": "code",
   "execution_count": 19,
   "id": "c52b40df-d2c5-4604-8fa8-a5f31ad46df7",
   "metadata": {},
   "outputs": [
    {
     "data": {
      "text/html": [
       "95"
      ],
      "text/latex": [
       "95"
      ],
      "text/markdown": [
       "95"
      ],
      "text/plain": [
       "[1] 95"
      ]
     },
     "metadata": {},
     "output_type": "display_data"
    },
    {
     "data": {
      "text/html": [
       "67"
      ],
      "text/latex": [
       "67"
      ],
      "text/markdown": [
       "67"
      ],
      "text/plain": [
       "[1] 67"
      ]
     },
     "metadata": {},
     "output_type": "display_data"
    },
    {
     "data": {
      "text/html": [
       "85"
      ],
      "text/latex": [
       "85"
      ],
      "text/markdown": [
       "85"
      ],
      "text/plain": [
       "[1] 85"
      ]
     },
     "metadata": {},
     "output_type": "display_data"
    },
    {
     "data": {
      "text/html": [
       "68"
      ],
      "text/latex": [
       "68"
      ],
      "text/markdown": [
       "68"
      ],
      "text/plain": [
       "[1] 68"
      ]
     },
     "metadata": {},
     "output_type": "display_data"
    }
   ],
   "source": [
    "# seeing how many unique variables are in each df and if they're consistent in each file\n",
    "length(unique(split_ws_vol_df$Name))\n",
    "length(unique(split_wf_vol_df$Name))\n",
    "length(unique(split_ws_weight_df$Name))\n",
    "length(unique(split_wf_weight_df$Name))"
   ]
  },
  {
   "cell_type": "code",
   "execution_count": 20,
   "id": "97f266f6-d8ee-44ce-a9ab-cc96acfcbf2f",
   "metadata": {},
   "outputs": [
    {
     "data": {
      "text/html": [
       "32"
      ],
      "text/latex": [
       "32"
      ],
      "text/markdown": [
       "32"
      ],
      "text/plain": [
       "[1] 32"
      ]
     },
     "metadata": {},
     "output_type": "display_data"
    },
    {
     "data": {
      "text/html": [
       "32"
      ],
      "text/latex": [
       "32"
      ],
      "text/markdown": [
       "32"
      ],
      "text/plain": [
       "[1] 32"
      ]
     },
     "metadata": {},
     "output_type": "display_data"
    },
    {
     "data": {
      "text/html": [
       "35"
      ],
      "text/latex": [
       "35"
      ],
      "text/markdown": [
       "35"
      ],
      "text/plain": [
       "[1] 35"
      ]
     },
     "metadata": {},
     "output_type": "display_data"
    },
    {
     "data": {
      "text/html": [
       "35"
      ],
      "text/latex": [
       "35"
      ],
      "text/markdown": [
       "35"
      ],
      "text/plain": [
       "[1] 35"
      ]
     },
     "metadata": {},
     "output_type": "display_data"
    }
   ],
   "source": [
    "# they're not so first getting variables that are in weight or volume samples\n",
    "consistent_wf_vol_df = split_wf_vol_df %>%\n",
    "    filter(Name %in% unique(split_ws_vol_df$Name))\n",
    "consistent_ws_vol_df = split_ws_vol_df %>%\n",
    "    filter(Name %in% consistent_wf_vol_df$Name)\n",
    "consistent_wf_weight_df = split_wf_weight_df %>%\n",
    "    filter(Name %in% unique(split_ws_weight_df$Name))\n",
    "consistent_ws_weight_df = split_ws_weight_df %>%\n",
    "    filter(Name %in% consistent_wf_weight_df$Name)\n",
    "\n",
    "length(unique(consistent_wf_vol_df$Name))\n",
    "length(unique(consistent_ws_vol_df$Name))\n",
    "length(unique(consistent_wf_weight_df$Name))\n",
    "length(unique(consistent_ws_weight_df$Name))"
   ]
  },
  {
   "cell_type": "markdown",
   "id": "4b604def-71e1-482c-ab06-ed64e9e7d830",
   "metadata": {},
   "source": [
    "There were 95, 67, 85 and 68 woodsmoke weight, woodsmoke volume, wildfire weight, and wildfire volume samples, respectively. 32 variables were common between volume samples and 35 were common between weight records and will be retained."
   ]
  },
  {
   "cell_type": "code",
   "execution_count": 21,
   "id": "0d22def2-eb27-4093-8bbe-8a7c8082b9ce",
   "metadata": {},
   "outputs": [
    {
     "data": {
      "text/html": [
       "<table class=\"dataframe\">\n",
       "<caption>A tibble: 6 × 9</caption>\n",
       "<thead>\n",
       "\t<tr><th scope=col>Metric</th><th scope=col>Name</th><th scope=col>Data</th><th scope=col>HAWC_ID</th><th scope=col>Study</th><th scope=col>Replicate</th><th scope=col>Chemical_Class</th><th scope=col>DTXSID</th><th scope=col>Value</th></tr>\n",
       "\t<tr><th scope=col>&lt;chr&gt;</th><th scope=col>&lt;chr&gt;</th><th scope=col>&lt;chr&gt;</th><th scope=col>&lt;dbl&gt;</th><th scope=col>&lt;chr&gt;</th><th scope=col>&lt;dbl&gt;</th><th scope=col>&lt;chr&gt;</th><th scope=col>&lt;chr&gt;</th><th scope=col>&lt;chr&gt;</th></tr>\n",
       "</thead>\n",
       "<tbody>\n",
       "\t<tr><td>Volume</td><td>Acenaphthylene</td><td>WS</td><td>1263480</td><td>Burnet et al. 1990</td><td>1</td><td>PAH</td><td>DTXSID3023845</td><td>6187000 </td></tr>\n",
       "\t<tr><td>Volume</td><td>Acenaphthylene</td><td>WS</td><td>1263480</td><td>Burnet et al. 1990</td><td>2</td><td>PAH</td><td>DTXSID3023845</td><td>18890500</td></tr>\n",
       "\t<tr><td>Volume</td><td>Acenaphthylene</td><td>WS</td><td>1263480</td><td>Burnet et al. 1990</td><td>3</td><td>PAH</td><td>DTXSID3023845</td><td>7806000 </td></tr>\n",
       "\t<tr><td>Volume</td><td>Acenaphthylene</td><td>WS</td><td>1263484</td><td>Leese et al. 1989 </td><td>1</td><td>PAH</td><td>DTXSID3023845</td><td>1100000 </td></tr>\n",
       "\t<tr><td>Volume</td><td>Acenaphthylene</td><td>WS</td><td>1263484</td><td>Leese et al. 1989 </td><td>2</td><td>PAH</td><td>DTXSID3023845</td><td>2800000 </td></tr>\n",
       "\t<tr><td>Volume</td><td>Acenaphthylene</td><td>WS</td><td> 429445</td><td>Rajput 2010       </td><td>1</td><td>PAH</td><td>DTXSID3023845</td><td>53500   </td></tr>\n",
       "</tbody>\n",
       "</table>\n"
      ],
      "text/latex": [
       "A tibble: 6 × 9\n",
       "\\begin{tabular}{lllllllll}\n",
       " Metric & Name & Data & HAWC\\_ID & Study & Replicate & Chemical\\_Class & DTXSID & Value\\\\\n",
       " <chr> & <chr> & <chr> & <dbl> & <chr> & <dbl> & <chr> & <chr> & <chr>\\\\\n",
       "\\hline\n",
       "\t Volume & Acenaphthylene & WS & 1263480 & Burnet et al. 1990 & 1 & PAH & DTXSID3023845 & 6187000 \\\\\n",
       "\t Volume & Acenaphthylene & WS & 1263480 & Burnet et al. 1990 & 2 & PAH & DTXSID3023845 & 18890500\\\\\n",
       "\t Volume & Acenaphthylene & WS & 1263480 & Burnet et al. 1990 & 3 & PAH & DTXSID3023845 & 7806000 \\\\\n",
       "\t Volume & Acenaphthylene & WS & 1263484 & Leese et al. 1989  & 1 & PAH & DTXSID3023845 & 1100000 \\\\\n",
       "\t Volume & Acenaphthylene & WS & 1263484 & Leese et al. 1989  & 2 & PAH & DTXSID3023845 & 2800000 \\\\\n",
       "\t Volume & Acenaphthylene & WS &  429445 & Rajput 2010        & 1 & PAH & DTXSID3023845 & 53500   \\\\\n",
       "\\end{tabular}\n"
      ],
      "text/markdown": [
       "\n",
       "A tibble: 6 × 9\n",
       "\n",
       "| Metric &lt;chr&gt; | Name &lt;chr&gt; | Data &lt;chr&gt; | HAWC_ID &lt;dbl&gt; | Study &lt;chr&gt; | Replicate &lt;dbl&gt; | Chemical_Class &lt;chr&gt; | DTXSID &lt;chr&gt; | Value &lt;chr&gt; |\n",
       "|---|---|---|---|---|---|---|---|---|\n",
       "| Volume | Acenaphthylene | WS | 1263480 | Burnet et al. 1990 | 1 | PAH | DTXSID3023845 | 6187000  |\n",
       "| Volume | Acenaphthylene | WS | 1263480 | Burnet et al. 1990 | 2 | PAH | DTXSID3023845 | 18890500 |\n",
       "| Volume | Acenaphthylene | WS | 1263480 | Burnet et al. 1990 | 3 | PAH | DTXSID3023845 | 7806000  |\n",
       "| Volume | Acenaphthylene | WS | 1263484 | Leese et al. 1989  | 1 | PAH | DTXSID3023845 | 1100000  |\n",
       "| Volume | Acenaphthylene | WS | 1263484 | Leese et al. 1989  | 2 | PAH | DTXSID3023845 | 2800000  |\n",
       "| Volume | Acenaphthylene | WS |  429445 | Rajput 2010        | 1 | PAH | DTXSID3023845 | 53500    |\n",
       "\n"
      ],
      "text/plain": [
       "  Metric Name           Data HAWC_ID Study              Replicate\n",
       "1 Volume Acenaphthylene WS   1263480 Burnet et al. 1990 1        \n",
       "2 Volume Acenaphthylene WS   1263480 Burnet et al. 1990 2        \n",
       "3 Volume Acenaphthylene WS   1263480 Burnet et al. 1990 3        \n",
       "4 Volume Acenaphthylene WS   1263484 Leese et al. 1989  1        \n",
       "5 Volume Acenaphthylene WS   1263484 Leese et al. 1989  2        \n",
       "6 Volume Acenaphthylene WS    429445 Rajput 2010        1        \n",
       "  Chemical_Class DTXSID        Value   \n",
       "1 PAH            DTXSID3023845 6187000 \n",
       "2 PAH            DTXSID3023845 18890500\n",
       "3 PAH            DTXSID3023845 7806000 \n",
       "4 PAH            DTXSID3023845 1100000 \n",
       "5 PAH            DTXSID3023845 2800000 \n",
       "6 PAH            DTXSID3023845 53500   "
      ]
     },
     "metadata": {},
     "output_type": "display_data"
    }
   ],
   "source": [
    "# recombining data\n",
    "vol_df = rbind(consistent_ws_vol_df, consistent_wf_vol_df)\n",
    "weight_df = rbind(consistent_ws_weight_df, consistent_wf_weight_df)\n",
    "\n",
    "head(vol_df)"
   ]
  },
  {
   "cell_type": "markdown",
   "id": "12249f65-761e-4dbc-8231-8c455e6d3120",
   "metadata": {},
   "source": [
    "# QRILC Imputation\n",
    "\n",
    "Imputing non-detect data."
   ]
  },
  {
   "cell_type": "code",
   "execution_count": 22,
   "id": "f2daf4ed-f7ff-41f7-8e9a-e38067235cd5",
   "metadata": {},
   "outputs": [
    {
     "data": {
      "text/html": [
       "<table class=\"dataframe\">\n",
       "<caption>A tibble: 6 × 9</caption>\n",
       "<thead>\n",
       "\t<tr><th scope=col>Metric</th><th scope=col>Name</th><th scope=col>Data</th><th scope=col>HAWC_ID</th><th scope=col>Study</th><th scope=col>Replicate</th><th scope=col>Chemical_Class</th><th scope=col>DTXSID</th><th scope=col>Value</th></tr>\n",
       "\t<tr><th scope=col>&lt;chr&gt;</th><th scope=col>&lt;chr&gt;</th><th scope=col>&lt;chr&gt;</th><th scope=col>&lt;dbl&gt;</th><th scope=col>&lt;chr&gt;</th><th scope=col>&lt;dbl&gt;</th><th scope=col>&lt;chr&gt;</th><th scope=col>&lt;chr&gt;</th><th scope=col>&lt;chr&gt;</th></tr>\n",
       "</thead>\n",
       "<tbody>\n",
       "\t<tr><td>Weight</td><td>Fluoranthene</td><td>WS</td><td>1098462</td><td>Niu et al. 2023      </td><td>3</td><td>PAH  </td><td>DTXSID3024104</td><td>ND</td></tr>\n",
       "\t<tr><td>Weight</td><td>Phenanthrene</td><td>WS</td><td>1098462</td><td>Niu et al. 2023      </td><td>3</td><td>PAH  </td><td>DTXSID6024254</td><td>ND</td></tr>\n",
       "\t<tr><td>Weight</td><td>Phenanthrene</td><td>WS</td><td> 914540</td><td>Verma et al. 2021    </td><td>7</td><td>PAH  </td><td>DTXSID6024254</td><td>ND</td></tr>\n",
       "\t<tr><td>Weight</td><td>Phenanthrene</td><td>WS</td><td> 914540</td><td>Verma et al. 2021    </td><td>8</td><td>PAH  </td><td>DTXSID6024254</td><td>ND</td></tr>\n",
       "\t<tr><td>Weight</td><td>Ni          </td><td>WS</td><td> 822010</td><td>Farina et al. 2019   </td><td>1</td><td>Metal</td><td>Ni           </td><td>ND</td></tr>\n",
       "\t<tr><td>Weight</td><td>Ni          </td><td>WS</td><td> 299223</td><td>Kasurinen et al. 2015</td><td>2</td><td>Metal</td><td>Ni           </td><td>ND</td></tr>\n",
       "</tbody>\n",
       "</table>\n"
      ],
      "text/latex": [
       "A tibble: 6 × 9\n",
       "\\begin{tabular}{lllllllll}\n",
       " Metric & Name & Data & HAWC\\_ID & Study & Replicate & Chemical\\_Class & DTXSID & Value\\\\\n",
       " <chr> & <chr> & <chr> & <dbl> & <chr> & <dbl> & <chr> & <chr> & <chr>\\\\\n",
       "\\hline\n",
       "\t Weight & Fluoranthene & WS & 1098462 & Niu et al. 2023       & 3 & PAH   & DTXSID3024104 & ND\\\\\n",
       "\t Weight & Phenanthrene & WS & 1098462 & Niu et al. 2023       & 3 & PAH   & DTXSID6024254 & ND\\\\\n",
       "\t Weight & Phenanthrene & WS &  914540 & Verma et al. 2021     & 7 & PAH   & DTXSID6024254 & ND\\\\\n",
       "\t Weight & Phenanthrene & WS &  914540 & Verma et al. 2021     & 8 & PAH   & DTXSID6024254 & ND\\\\\n",
       "\t Weight & Ni           & WS &  822010 & Farina et al. 2019    & 1 & Metal & Ni            & ND\\\\\n",
       "\t Weight & Ni           & WS &  299223 & Kasurinen et al. 2015 & 2 & Metal & Ni            & ND\\\\\n",
       "\\end{tabular}\n"
      ],
      "text/markdown": [
       "\n",
       "A tibble: 6 × 9\n",
       "\n",
       "| Metric &lt;chr&gt; | Name &lt;chr&gt; | Data &lt;chr&gt; | HAWC_ID &lt;dbl&gt; | Study &lt;chr&gt; | Replicate &lt;dbl&gt; | Chemical_Class &lt;chr&gt; | DTXSID &lt;chr&gt; | Value &lt;chr&gt; |\n",
       "|---|---|---|---|---|---|---|---|---|\n",
       "| Weight | Fluoranthene | WS | 1098462 | Niu et al. 2023       | 3 | PAH   | DTXSID3024104 | ND |\n",
       "| Weight | Phenanthrene | WS | 1098462 | Niu et al. 2023       | 3 | PAH   | DTXSID6024254 | ND |\n",
       "| Weight | Phenanthrene | WS |  914540 | Verma et al. 2021     | 7 | PAH   | DTXSID6024254 | ND |\n",
       "| Weight | Phenanthrene | WS |  914540 | Verma et al. 2021     | 8 | PAH   | DTXSID6024254 | ND |\n",
       "| Weight | Ni           | WS |  822010 | Farina et al. 2019    | 1 | Metal | Ni            | ND |\n",
       "| Weight | Ni           | WS |  299223 | Kasurinen et al. 2015 | 2 | Metal | Ni            | ND |\n",
       "\n"
      ],
      "text/plain": [
       "  Metric Name         Data HAWC_ID Study                 Replicate\n",
       "1 Weight Fluoranthene WS   1098462 Niu et al. 2023       3        \n",
       "2 Weight Phenanthrene WS   1098462 Niu et al. 2023       3        \n",
       "3 Weight Phenanthrene WS    914540 Verma et al. 2021     7        \n",
       "4 Weight Phenanthrene WS    914540 Verma et al. 2021     8        \n",
       "5 Weight Ni           WS    822010 Farina et al. 2019    1        \n",
       "6 Weight Ni           WS    299223 Kasurinen et al. 2015 2        \n",
       "  Chemical_Class DTXSID        Value\n",
       "1 PAH            DTXSID3024104 ND   \n",
       "2 PAH            DTXSID6024254 ND   \n",
       "3 PAH            DTXSID6024254 ND   \n",
       "4 PAH            DTXSID6024254 ND   \n",
       "5 Metal          Ni            ND   \n",
       "6 Metal          Ni            ND   "
      ]
     },
     "metadata": {},
     "output_type": "display_data"
    }
   ],
   "source": [
    "head(weight_df %>%\n",
    "    filter(Value == 'ND'))"
   ]
  },
  {
   "cell_type": "markdown",
   "id": "c5c1d673-71d7-4cde-ba1f-3c8b41e73673",
   "metadata": {},
   "source": [
    "Only the weight dataframe has non-detect values, which will be imputed using QRILC. However, its MAR data that will be imputed using random forest (RF) will be removed entirely from the dataset."
   ]
  },
  {
   "cell_type": "code",
   "execution_count": 23,
   "id": "d435523e-a9be-47de-a079-3bd74d8f1b27",
   "metadata": {},
   "outputs": [
    {
     "name": "stderr",
     "output_type": "stream",
     "text": [
      "\u001b[1m\u001b[22mJoining with `by = join_by(Metric, Name, Data, HAWC_ID, Study, Replicate,\n",
      "Chemical_Class, DTXSID, Value)`\n",
      "Warning message in eval(expr, envir, enclos):\n",
      "“NAs introduced by coercion”\n"
     ]
    },
    {
     "data": {
      "text/html": [
       "<table class=\"dataframe\">\n",
       "<caption>A tibble: 6 × 9</caption>\n",
       "<thead>\n",
       "\t<tr><th scope=col>Data</th><th scope=col>Metric</th><th scope=col>HAWC_ID</th><th scope=col>Study</th><th scope=col>Replicate</th><th scope=col>Chemical_Class</th><th scope=col>DTXSID</th><th scope=col>Name</th><th scope=col>Value</th></tr>\n",
       "\t<tr><th scope=col>&lt;chr&gt;</th><th scope=col>&lt;chr&gt;</th><th scope=col>&lt;dbl&gt;</th><th scope=col>&lt;chr&gt;</th><th scope=col>&lt;dbl&gt;</th><th scope=col>&lt;chr&gt;</th><th scope=col>&lt;chr&gt;</th><th scope=col>&lt;chr&gt;</th><th scope=col>&lt;dbl&gt;</th></tr>\n",
       "</thead>\n",
       "<tbody>\n",
       "\t<tr><td>WS</td><td>Weight</td><td> 821855</td><td>Erlandsson et al. 2020</td><td>1</td><td>PAH</td><td>DTXSID2060383</td><td>2,3-Dimethylnaphthalene</td><td> 0.05</td></tr>\n",
       "\t<tr><td>WS</td><td>Weight</td><td> 821855</td><td>Erlandsson et al. 2020</td><td>2</td><td>PAH</td><td>DTXSID2060383</td><td>2,3-Dimethylnaphthalene</td><td> 0.05</td></tr>\n",
       "\t<tr><td>WS</td><td>Weight</td><td>1257056</td><td>McCarrick et al. 2024 </td><td>1</td><td>PAH</td><td>DTXSID2060383</td><td>2,3-Dimethylnaphthalene</td><td> 0.04</td></tr>\n",
       "\t<tr><td>WS</td><td>Weight</td><td> 821855</td><td>Erlandsson et al. 2020</td><td>1</td><td>PAH</td><td>DTXSID8074819</td><td>2-Methylchrysene       </td><td> 7.40</td></tr>\n",
       "\t<tr><td>WS</td><td>Weight</td><td> 821855</td><td>Erlandsson et al. 2020</td><td>2</td><td>PAH</td><td>DTXSID8074819</td><td>2-Methylchrysene       </td><td>12.10</td></tr>\n",
       "\t<tr><td>WS</td><td>Weight</td><td>1257056</td><td>McCarrick et al. 2024 </td><td>1</td><td>PAH</td><td>DTXSID8074819</td><td>2-Methylchrysene       </td><td>15.45</td></tr>\n",
       "</tbody>\n",
       "</table>\n"
      ],
      "text/latex": [
       "A tibble: 6 × 9\n",
       "\\begin{tabular}{lllllllll}\n",
       " Data & Metric & HAWC\\_ID & Study & Replicate & Chemical\\_Class & DTXSID & Name & Value\\\\\n",
       " <chr> & <chr> & <dbl> & <chr> & <dbl> & <chr> & <chr> & <chr> & <dbl>\\\\\n",
       "\\hline\n",
       "\t WS & Weight &  821855 & Erlandsson et al. 2020 & 1 & PAH & DTXSID2060383 & 2,3-Dimethylnaphthalene &  0.05\\\\\n",
       "\t WS & Weight &  821855 & Erlandsson et al. 2020 & 2 & PAH & DTXSID2060383 & 2,3-Dimethylnaphthalene &  0.05\\\\\n",
       "\t WS & Weight & 1257056 & McCarrick et al. 2024  & 1 & PAH & DTXSID2060383 & 2,3-Dimethylnaphthalene &  0.04\\\\\n",
       "\t WS & Weight &  821855 & Erlandsson et al. 2020 & 1 & PAH & DTXSID8074819 & 2-Methylchrysene        &  7.40\\\\\n",
       "\t WS & Weight &  821855 & Erlandsson et al. 2020 & 2 & PAH & DTXSID8074819 & 2-Methylchrysene        & 12.10\\\\\n",
       "\t WS & Weight & 1257056 & McCarrick et al. 2024  & 1 & PAH & DTXSID8074819 & 2-Methylchrysene        & 15.45\\\\\n",
       "\\end{tabular}\n"
      ],
      "text/markdown": [
       "\n",
       "A tibble: 6 × 9\n",
       "\n",
       "| Data &lt;chr&gt; | Metric &lt;chr&gt; | HAWC_ID &lt;dbl&gt; | Study &lt;chr&gt; | Replicate &lt;dbl&gt; | Chemical_Class &lt;chr&gt; | DTXSID &lt;chr&gt; | Name &lt;chr&gt; | Value &lt;dbl&gt; |\n",
       "|---|---|---|---|---|---|---|---|---|\n",
       "| WS | Weight |  821855 | Erlandsson et al. 2020 | 1 | PAH | DTXSID2060383 | 2,3-Dimethylnaphthalene |  0.05 |\n",
       "| WS | Weight |  821855 | Erlandsson et al. 2020 | 2 | PAH | DTXSID2060383 | 2,3-Dimethylnaphthalene |  0.05 |\n",
       "| WS | Weight | 1257056 | McCarrick et al. 2024  | 1 | PAH | DTXSID2060383 | 2,3-Dimethylnaphthalene |  0.04 |\n",
       "| WS | Weight |  821855 | Erlandsson et al. 2020 | 1 | PAH | DTXSID8074819 | 2-Methylchrysene        |  7.40 |\n",
       "| WS | Weight |  821855 | Erlandsson et al. 2020 | 2 | PAH | DTXSID8074819 | 2-Methylchrysene        | 12.10 |\n",
       "| WS | Weight | 1257056 | McCarrick et al. 2024  | 1 | PAH | DTXSID8074819 | 2-Methylchrysene        | 15.45 |\n",
       "\n"
      ],
      "text/plain": [
       "  Data Metric HAWC_ID Study                  Replicate Chemical_Class\n",
       "1 WS   Weight  821855 Erlandsson et al. 2020 1         PAH           \n",
       "2 WS   Weight  821855 Erlandsson et al. 2020 2         PAH           \n",
       "3 WS   Weight 1257056 McCarrick et al. 2024  1         PAH           \n",
       "4 WS   Weight  821855 Erlandsson et al. 2020 1         PAH           \n",
       "5 WS   Weight  821855 Erlandsson et al. 2020 2         PAH           \n",
       "6 WS   Weight 1257056 McCarrick et al. 2024  1         PAH           \n",
       "  DTXSID        Name                    Value\n",
       "1 DTXSID2060383 2,3-Dimethylnaphthalene  0.05\n",
       "2 DTXSID2060383 2,3-Dimethylnaphthalene  0.05\n",
       "3 DTXSID2060383 2,3-Dimethylnaphthalene  0.04\n",
       "4 DTXSID8074819 2-Methylchrysene         7.40\n",
       "5 DTXSID8074819 2-Methylchrysene        12.10\n",
       "6 DTXSID8074819 2-Methylchrysene        15.45"
      ]
     },
     "metadata": {},
     "output_type": "display_data"
    }
   ],
   "source": [
    "mar_weight_df = weight_df %>%\n",
    "    filter(Value == 'NA')\n",
    "\n",
    "preimputed_df = anti_join(weight_df, mar_weight_df) #%>%\n",
    "    # creating a sample id col\n",
    "    #unite(Sample_ID, HAWC_ID, Name, Replicate, sep = '_', remove = FALSE)\n",
    "preimputed_df$Value = as.numeric(preimputed_df$Value)\n",
    "\n",
    "# reordering\n",
    "preimputed_df = preimputed_df[,c(3,1,4:8,2,9)]\n",
    "\n",
    "head(preimputed_df)"
   ]
  },
  {
   "cell_type": "code",
   "execution_count": 24,
   "id": "d4615457-fd8c-4647-9de2-ee46a5c2e870",
   "metadata": {},
   "outputs": [
    {
     "data": {
      "text/html": [
       "<table class=\"dataframe\">\n",
       "<caption>A tibble: 3 × 9</caption>\n",
       "<thead>\n",
       "\t<tr><th scope=col>Data</th><th scope=col>Metric</th><th scope=col>HAWC_ID</th><th scope=col>Study</th><th scope=col>Replicate</th><th scope=col>Chemical_Class</th><th scope=col>DTXSID</th><th scope=col>Name</th><th scope=col>Value</th></tr>\n",
       "\t<tr><th scope=col>&lt;chr&gt;</th><th scope=col>&lt;chr&gt;</th><th scope=col>&lt;dbl&gt;</th><th scope=col>&lt;chr&gt;</th><th scope=col>&lt;dbl&gt;</th><th scope=col>&lt;chr&gt;</th><th scope=col>&lt;chr&gt;</th><th scope=col>&lt;chr&gt;</th><th scope=col>&lt;dbl&gt;</th></tr>\n",
       "</thead>\n",
       "<tbody>\n",
       "\t<tr><td>WS</td><td>Weight</td><td>1098462</td><td>Niu et al. 2023</td><td>1</td><td>PAH</td><td>DTXSID3024104</td><td>Fluoranthene</td><td>0.21</td></tr>\n",
       "\t<tr><td>WS</td><td>Weight</td><td>1098462</td><td>Niu et al. 2023</td><td>2</td><td>PAH</td><td>DTXSID3024104</td><td>Fluoranthene</td><td>0.18</td></tr>\n",
       "\t<tr><td>WS</td><td>Weight</td><td>1098462</td><td>Niu et al. 2023</td><td>3</td><td>PAH</td><td>DTXSID3024104</td><td>Fluoranthene</td><td>  NA</td></tr>\n",
       "</tbody>\n",
       "</table>\n"
      ],
      "text/latex": [
       "A tibble: 3 × 9\n",
       "\\begin{tabular}{lllllllll}\n",
       " Data & Metric & HAWC\\_ID & Study & Replicate & Chemical\\_Class & DTXSID & Name & Value\\\\\n",
       " <chr> & <chr> & <dbl> & <chr> & <dbl> & <chr> & <chr> & <chr> & <dbl>\\\\\n",
       "\\hline\n",
       "\t WS & Weight & 1098462 & Niu et al. 2023 & 1 & PAH & DTXSID3024104 & Fluoranthene & 0.21\\\\\n",
       "\t WS & Weight & 1098462 & Niu et al. 2023 & 2 & PAH & DTXSID3024104 & Fluoranthene & 0.18\\\\\n",
       "\t WS & Weight & 1098462 & Niu et al. 2023 & 3 & PAH & DTXSID3024104 & Fluoranthene &   NA\\\\\n",
       "\\end{tabular}\n"
      ],
      "text/markdown": [
       "\n",
       "A tibble: 3 × 9\n",
       "\n",
       "| Data &lt;chr&gt; | Metric &lt;chr&gt; | HAWC_ID &lt;dbl&gt; | Study &lt;chr&gt; | Replicate &lt;dbl&gt; | Chemical_Class &lt;chr&gt; | DTXSID &lt;chr&gt; | Name &lt;chr&gt; | Value &lt;dbl&gt; |\n",
       "|---|---|---|---|---|---|---|---|---|\n",
       "| WS | Weight | 1098462 | Niu et al. 2023 | 1 | PAH | DTXSID3024104 | Fluoranthene | 0.21 |\n",
       "| WS | Weight | 1098462 | Niu et al. 2023 | 2 | PAH | DTXSID3024104 | Fluoranthene | 0.18 |\n",
       "| WS | Weight | 1098462 | Niu et al. 2023 | 3 | PAH | DTXSID3024104 | Fluoranthene |   NA |\n",
       "\n"
      ],
      "text/plain": [
       "  Data Metric HAWC_ID Study           Replicate Chemical_Class DTXSID       \n",
       "1 WS   Weight 1098462 Niu et al. 2023 1         PAH            DTXSID3024104\n",
       "2 WS   Weight 1098462 Niu et al. 2023 2         PAH            DTXSID3024104\n",
       "3 WS   Weight 1098462 Niu et al. 2023 3         PAH            DTXSID3024104\n",
       "  Name         Value\n",
       "1 Fluoranthene 0.21 \n",
       "2 Fluoranthene 0.18 \n",
       "3 Fluoranthene   NA "
      ]
     },
     "metadata": {},
     "output_type": "display_data"
    }
   ],
   "source": [
    "test = preimputed_df %>%\n",
    "    filter(Name == 'Fluoranthene', HAWC_ID == '1098462')\n",
    "test"
   ]
  },
  {
   "cell_type": "code",
   "execution_count": 32,
   "id": "e2b0fcd0-2348-45d8-a6ae-8bc6980e4471",
   "metadata": {},
   "outputs": [],
   "source": [
    "QRILC_imputation = function(dataset){\n",
    "      # \"\"\"\n",
    "    # Creating a quantile normalization function to normalize each sample.\n",
    "    # :param (input): exposed and unexposed (vehicle) dfs\n",
    "    # :output: 1 quantile normalized df\n",
    "    # \"\"\"\n",
    "    #ADD WORDS\n",
    "    wider_dataset = dataset %>%\n",
    "        # removing this column for now since it's giving me issues\n",
    "        #select(-Category) %>%\n",
    "        pivot_wider(names_from = Name, values_from = Value)\n",
    "    \n",
    "    index_of_last_variable = length(colnames(wider_dataset))\n",
    "\n",
    "    # normalizing data since that what the QRILC function wants\n",
    "    # had to pseudo log transform to prevent Inf values\n",
    "    QRILC_prep = wider_dataset[,8:dim(wider_dataset)[2]] %>%\n",
    "         mutate_all(., function(x) log10(x + 1)) %>%\n",
    "         as.matrix()\n",
    "                    \n",
    "    # imputed_QRILC_object = impute.QRILC(QRILC_prep, tune.sigma = sd(dataset$Value, na.rm = TRUE) + 0.1)\n",
    "    # QRILC_log10_df = data.frame(imputed_QRILC_object[1]) \n",
    "    \n",
    "    # # converting back the original scale\n",
    "    # QRILC_df = QRILC_log10_df %>%\n",
    "    #     mutate_all(., function(x) 10^x - 1)\n",
    "     \n",
    "    # imputed_dataset = data.frame(cbind(unique(dataset[,1:8]), QRILC_df)) %>%\n",
    "    #      pivot_longer(cols = 9:dim(wider_dataset)[2], names_to = \"Variable\", values_to = \"Value\")\n",
    "    \n",
    "    #return(imputed_dataset)\n",
    "    return(QRILC_prep)\n",
    "}"
   ]
  },
  {
   "cell_type": "code",
   "execution_count": 33,
   "id": "0587affe-6715-42e1-b21a-557ae98edae1",
   "metadata": {},
   "outputs": [],
   "source": [
    "# # imputing within each study\n",
    "# study_id = unique(preimputed_df$HAWC_ID)\n",
    "\n",
    "# imputed_df = data.frame()\n",
    "# for (i in 1:length(study_id)){\n",
    "#     filtered_preimputed_df = preimputed_df %>%\n",
    "#         filter(HAWC_ID == study_id[i])\n",
    "#     if(i ==1){\n",
    "#     idk = QRILC_imputation(filtered_preimputed_df)\n",
    "#     print(idk)\n",
    "\n",
    "#     imputed_df = rbind(imputed_df, filtered_preimputed_df)\n",
    "#         }\n",
    "# }\n",
    "# # calling fn\n",
    "# #imputed_df = QRILC_imputation(test)\n",
    "\n",
    "# head(imputed_df)"
   ]
  },
  {
   "cell_type": "code",
   "execution_count": 35,
   "id": "e2dbcd7f-0ba2-420b-af9b-9c9b30378c54",
   "metadata": {},
   "outputs": [
    {
     "data": {
      "text/html": [
       "<table class=\"dataframe\">\n",
       "<caption>A tibble: 32 × 9</caption>\n",
       "<thead>\n",
       "\t<tr><th scope=col>Data</th><th scope=col>Metric</th><th scope=col>HAWC_ID</th><th scope=col>Study</th><th scope=col>Replicate</th><th scope=col>Chemical_Class</th><th scope=col>DTXSID</th><th scope=col>Name</th><th scope=col>Value</th></tr>\n",
       "\t<tr><th scope=col>&lt;chr&gt;</th><th scope=col>&lt;chr&gt;</th><th scope=col>&lt;dbl&gt;</th><th scope=col>&lt;chr&gt;</th><th scope=col>&lt;dbl&gt;</th><th scope=col>&lt;chr&gt;</th><th scope=col>&lt;chr&gt;</th><th scope=col>&lt;chr&gt;</th><th scope=col>&lt;dbl&gt;</th></tr>\n",
       "</thead>\n",
       "<tbody>\n",
       "\t<tr><td>WS</td><td>Weight</td><td>821855</td><td>Erlandsson et al. 2020</td><td>1</td><td>PAH  </td><td>DTXSID2060383</td><td>2,3-Dimethylnaphthalene</td><td>   0.05</td></tr>\n",
       "\t<tr><td>WS</td><td>Weight</td><td>821855</td><td>Erlandsson et al. 2020</td><td>2</td><td>PAH  </td><td>DTXSID2060383</td><td>2,3-Dimethylnaphthalene</td><td>   0.05</td></tr>\n",
       "\t<tr><td>WS</td><td>Weight</td><td>821855</td><td>Erlandsson et al. 2020</td><td>1</td><td>PAH  </td><td>DTXSID8074819</td><td>2-Methylchrysene       </td><td>   7.40</td></tr>\n",
       "\t<tr><td>WS</td><td>Weight</td><td>821855</td><td>Erlandsson et al. 2020</td><td>2</td><td>PAH  </td><td>DTXSID8074819</td><td>2-Methylchrysene       </td><td>  12.10</td></tr>\n",
       "\t<tr><td>WS</td><td>Weight</td><td>821855</td><td>Erlandsson et al. 2020</td><td>1</td><td>PAH  </td><td>DTXSID4020878</td><td>2-Methylphenanthrene   </td><td>   5.80</td></tr>\n",
       "\t<tr><td>WS</td><td>Weight</td><td>821855</td><td>Erlandsson et al. 2020</td><td>2</td><td>PAH  </td><td>DTXSID4020878</td><td>2-Methylphenanthrene   </td><td>   1.20</td></tr>\n",
       "\t<tr><td>WS</td><td>Weight</td><td>821855</td><td>Erlandsson et al. 2020</td><td>1</td><td>PAH  </td><td>DTXSID4020161</td><td>Biphenyl               </td><td>   0.03</td></tr>\n",
       "\t<tr><td>WS</td><td>Weight</td><td>821855</td><td>Erlandsson et al. 2020</td><td>2</td><td>PAH  </td><td>DTXSID4020161</td><td>Biphenyl               </td><td>   0.06</td></tr>\n",
       "\t<tr><td>WS</td><td>Weight</td><td>821855</td><td>Erlandsson et al. 2020</td><td>1</td><td>Metal</td><td>Cu           </td><td>Cu                     </td><td>  12.80</td></tr>\n",
       "\t<tr><td>WS</td><td>Weight</td><td>821855</td><td>Erlandsson et al. 2020</td><td>2</td><td>Metal</td><td>Cu           </td><td>Cu                     </td><td>  44.80</td></tr>\n",
       "\t<tr><td>WS</td><td>Weight</td><td>821855</td><td>Erlandsson et al. 2020</td><td>1</td><td>Metal</td><td>Zn           </td><td>Zn                     </td><td> 963.90</td></tr>\n",
       "\t<tr><td>WS</td><td>Weight</td><td>821855</td><td>Erlandsson et al. 2020</td><td>2</td><td>Metal</td><td>Zn           </td><td>Zn                     </td><td>1036.10</td></tr>\n",
       "\t<tr><td>WS</td><td>Weight</td><td>821855</td><td>Erlandsson et al. 2020</td><td>1</td><td>PAH  </td><td>DTXSID3024104</td><td>Fluoranthene           </td><td>  96.10</td></tr>\n",
       "\t<tr><td>WS</td><td>Weight</td><td>821855</td><td>Erlandsson et al. 2020</td><td>2</td><td>PAH  </td><td>DTXSID3024104</td><td>Fluoranthene           </td><td> 274.50</td></tr>\n",
       "\t<tr><td>WS</td><td>Weight</td><td>821855</td><td>Erlandsson et al. 2020</td><td>1</td><td>PAH  </td><td>DTXSID6024254</td><td>Phenanthrene           </td><td>  49.10</td></tr>\n",
       "\t<tr><td>WS</td><td>Weight</td><td>821855</td><td>Erlandsson et al. 2020</td><td>2</td><td>PAH  </td><td>DTXSID6024254</td><td>Phenanthrene           </td><td>  21.80</td></tr>\n",
       "\t<tr><td>WS</td><td>Weight</td><td>821855</td><td>Erlandsson et al. 2020</td><td>1</td><td>Metal</td><td>Ni           </td><td>Ni                     </td><td>   1.30</td></tr>\n",
       "\t<tr><td>WS</td><td>Weight</td><td>821855</td><td>Erlandsson et al. 2020</td><td>2</td><td>Metal</td><td>Ni           </td><td>Ni                     </td><td>   2.10</td></tr>\n",
       "\t<tr><td>WS</td><td>Weight</td><td>821855</td><td>Erlandsson et al. 2020</td><td>1</td><td>Metal</td><td>Mn           </td><td>Mn                     </td><td>  20.80</td></tr>\n",
       "\t<tr><td>WS</td><td>Weight</td><td>821855</td><td>Erlandsson et al. 2020</td><td>2</td><td>Metal</td><td>Mn           </td><td>Mn                     </td><td>  24.20</td></tr>\n",
       "\t<tr><td>WS</td><td>Weight</td><td>821855</td><td>Erlandsson et al. 2020</td><td>1</td><td>Metal</td><td>Cr           </td><td>Cr                     </td><td>  11.10</td></tr>\n",
       "\t<tr><td>WS</td><td>Weight</td><td>821855</td><td>Erlandsson et al. 2020</td><td>2</td><td>Metal</td><td>Cr           </td><td>Cr                     </td><td>   4.10</td></tr>\n",
       "\t<tr><td>WS</td><td>Weight</td><td>821855</td><td>Erlandsson et al. 2020</td><td>1</td><td>Metal</td><td>Fe           </td><td>Fe                     </td><td>  14.00</td></tr>\n",
       "\t<tr><td>WS</td><td>Weight</td><td>821855</td><td>Erlandsson et al. 2020</td><td>2</td><td>Metal</td><td>Fe           </td><td>Fe                     </td><td>  25.10</td></tr>\n",
       "\t<tr><td>WS</td><td>Weight</td><td>821855</td><td>Erlandsson et al. 2020</td><td>1</td><td>PAH  </td><td>DTXSID3021774</td><td>Acenaphthene           </td><td>     NA</td></tr>\n",
       "\t<tr><td>WS</td><td>Weight</td><td>821855</td><td>Erlandsson et al. 2020</td><td>2</td><td>PAH  </td><td>DTXSID3021774</td><td>Acenaphthene           </td><td>   0.10</td></tr>\n",
       "\t<tr><td>WS</td><td>Weight</td><td>821855</td><td>Erlandsson et al. 2020</td><td>1</td><td>Metal</td><td>Al           </td><td>Al                     </td><td>  21.00</td></tr>\n",
       "\t<tr><td>WS</td><td>Weight</td><td>821855</td><td>Erlandsson et al. 2020</td><td>2</td><td>Metal</td><td>Al           </td><td>Al                     </td><td>  35.20</td></tr>\n",
       "\t<tr><td>WS</td><td>Weight</td><td>821855</td><td>Erlandsson et al. 2020</td><td>1</td><td>Metal</td><td>Co           </td><td>Co                     </td><td>   0.30</td></tr>\n",
       "\t<tr><td>WS</td><td>Weight</td><td>821855</td><td>Erlandsson et al. 2020</td><td>2</td><td>Metal</td><td>Co           </td><td>Co                     </td><td>   0.40</td></tr>\n",
       "\t<tr><td>WS</td><td>Weight</td><td>821855</td><td>Erlandsson et al. 2020</td><td>1</td><td>Metal</td><td>Ba           </td><td>Ba                     </td><td>   9.30</td></tr>\n",
       "\t<tr><td>WS</td><td>Weight</td><td>821855</td><td>Erlandsson et al. 2020</td><td>2</td><td>Metal</td><td>Ba           </td><td>Ba                     </td><td>  18.80</td></tr>\n",
       "</tbody>\n",
       "</table>\n"
      ],
      "text/latex": [
       "A tibble: 32 × 9\n",
       "\\begin{tabular}{lllllllll}\n",
       " Data & Metric & HAWC\\_ID & Study & Replicate & Chemical\\_Class & DTXSID & Name & Value\\\\\n",
       " <chr> & <chr> & <dbl> & <chr> & <dbl> & <chr> & <chr> & <chr> & <dbl>\\\\\n",
       "\\hline\n",
       "\t WS & Weight & 821855 & Erlandsson et al. 2020 & 1 & PAH   & DTXSID2060383 & 2,3-Dimethylnaphthalene &    0.05\\\\\n",
       "\t WS & Weight & 821855 & Erlandsson et al. 2020 & 2 & PAH   & DTXSID2060383 & 2,3-Dimethylnaphthalene &    0.05\\\\\n",
       "\t WS & Weight & 821855 & Erlandsson et al. 2020 & 1 & PAH   & DTXSID8074819 & 2-Methylchrysene        &    7.40\\\\\n",
       "\t WS & Weight & 821855 & Erlandsson et al. 2020 & 2 & PAH   & DTXSID8074819 & 2-Methylchrysene        &   12.10\\\\\n",
       "\t WS & Weight & 821855 & Erlandsson et al. 2020 & 1 & PAH   & DTXSID4020878 & 2-Methylphenanthrene    &    5.80\\\\\n",
       "\t WS & Weight & 821855 & Erlandsson et al. 2020 & 2 & PAH   & DTXSID4020878 & 2-Methylphenanthrene    &    1.20\\\\\n",
       "\t WS & Weight & 821855 & Erlandsson et al. 2020 & 1 & PAH   & DTXSID4020161 & Biphenyl                &    0.03\\\\\n",
       "\t WS & Weight & 821855 & Erlandsson et al. 2020 & 2 & PAH   & DTXSID4020161 & Biphenyl                &    0.06\\\\\n",
       "\t WS & Weight & 821855 & Erlandsson et al. 2020 & 1 & Metal & Cu            & Cu                      &   12.80\\\\\n",
       "\t WS & Weight & 821855 & Erlandsson et al. 2020 & 2 & Metal & Cu            & Cu                      &   44.80\\\\\n",
       "\t WS & Weight & 821855 & Erlandsson et al. 2020 & 1 & Metal & Zn            & Zn                      &  963.90\\\\\n",
       "\t WS & Weight & 821855 & Erlandsson et al. 2020 & 2 & Metal & Zn            & Zn                      & 1036.10\\\\\n",
       "\t WS & Weight & 821855 & Erlandsson et al. 2020 & 1 & PAH   & DTXSID3024104 & Fluoranthene            &   96.10\\\\\n",
       "\t WS & Weight & 821855 & Erlandsson et al. 2020 & 2 & PAH   & DTXSID3024104 & Fluoranthene            &  274.50\\\\\n",
       "\t WS & Weight & 821855 & Erlandsson et al. 2020 & 1 & PAH   & DTXSID6024254 & Phenanthrene            &   49.10\\\\\n",
       "\t WS & Weight & 821855 & Erlandsson et al. 2020 & 2 & PAH   & DTXSID6024254 & Phenanthrene            &   21.80\\\\\n",
       "\t WS & Weight & 821855 & Erlandsson et al. 2020 & 1 & Metal & Ni            & Ni                      &    1.30\\\\\n",
       "\t WS & Weight & 821855 & Erlandsson et al. 2020 & 2 & Metal & Ni            & Ni                      &    2.10\\\\\n",
       "\t WS & Weight & 821855 & Erlandsson et al. 2020 & 1 & Metal & Mn            & Mn                      &   20.80\\\\\n",
       "\t WS & Weight & 821855 & Erlandsson et al. 2020 & 2 & Metal & Mn            & Mn                      &   24.20\\\\\n",
       "\t WS & Weight & 821855 & Erlandsson et al. 2020 & 1 & Metal & Cr            & Cr                      &   11.10\\\\\n",
       "\t WS & Weight & 821855 & Erlandsson et al. 2020 & 2 & Metal & Cr            & Cr                      &    4.10\\\\\n",
       "\t WS & Weight & 821855 & Erlandsson et al. 2020 & 1 & Metal & Fe            & Fe                      &   14.00\\\\\n",
       "\t WS & Weight & 821855 & Erlandsson et al. 2020 & 2 & Metal & Fe            & Fe                      &   25.10\\\\\n",
       "\t WS & Weight & 821855 & Erlandsson et al. 2020 & 1 & PAH   & DTXSID3021774 & Acenaphthene            &      NA\\\\\n",
       "\t WS & Weight & 821855 & Erlandsson et al. 2020 & 2 & PAH   & DTXSID3021774 & Acenaphthene            &    0.10\\\\\n",
       "\t WS & Weight & 821855 & Erlandsson et al. 2020 & 1 & Metal & Al            & Al                      &   21.00\\\\\n",
       "\t WS & Weight & 821855 & Erlandsson et al. 2020 & 2 & Metal & Al            & Al                      &   35.20\\\\\n",
       "\t WS & Weight & 821855 & Erlandsson et al. 2020 & 1 & Metal & Co            & Co                      &    0.30\\\\\n",
       "\t WS & Weight & 821855 & Erlandsson et al. 2020 & 2 & Metal & Co            & Co                      &    0.40\\\\\n",
       "\t WS & Weight & 821855 & Erlandsson et al. 2020 & 1 & Metal & Ba            & Ba                      &    9.30\\\\\n",
       "\t WS & Weight & 821855 & Erlandsson et al. 2020 & 2 & Metal & Ba            & Ba                      &   18.80\\\\\n",
       "\\end{tabular}\n"
      ],
      "text/markdown": [
       "\n",
       "A tibble: 32 × 9\n",
       "\n",
       "| Data &lt;chr&gt; | Metric &lt;chr&gt; | HAWC_ID &lt;dbl&gt; | Study &lt;chr&gt; | Replicate &lt;dbl&gt; | Chemical_Class &lt;chr&gt; | DTXSID &lt;chr&gt; | Name &lt;chr&gt; | Value &lt;dbl&gt; |\n",
       "|---|---|---|---|---|---|---|---|---|\n",
       "| WS | Weight | 821855 | Erlandsson et al. 2020 | 1 | PAH   | DTXSID2060383 | 2,3-Dimethylnaphthalene |    0.05 |\n",
       "| WS | Weight | 821855 | Erlandsson et al. 2020 | 2 | PAH   | DTXSID2060383 | 2,3-Dimethylnaphthalene |    0.05 |\n",
       "| WS | Weight | 821855 | Erlandsson et al. 2020 | 1 | PAH   | DTXSID8074819 | 2-Methylchrysene        |    7.40 |\n",
       "| WS | Weight | 821855 | Erlandsson et al. 2020 | 2 | PAH   | DTXSID8074819 | 2-Methylchrysene        |   12.10 |\n",
       "| WS | Weight | 821855 | Erlandsson et al. 2020 | 1 | PAH   | DTXSID4020878 | 2-Methylphenanthrene    |    5.80 |\n",
       "| WS | Weight | 821855 | Erlandsson et al. 2020 | 2 | PAH   | DTXSID4020878 | 2-Methylphenanthrene    |    1.20 |\n",
       "| WS | Weight | 821855 | Erlandsson et al. 2020 | 1 | PAH   | DTXSID4020161 | Biphenyl                |    0.03 |\n",
       "| WS | Weight | 821855 | Erlandsson et al. 2020 | 2 | PAH   | DTXSID4020161 | Biphenyl                |    0.06 |\n",
       "| WS | Weight | 821855 | Erlandsson et al. 2020 | 1 | Metal | Cu            | Cu                      |   12.80 |\n",
       "| WS | Weight | 821855 | Erlandsson et al. 2020 | 2 | Metal | Cu            | Cu                      |   44.80 |\n",
       "| WS | Weight | 821855 | Erlandsson et al. 2020 | 1 | Metal | Zn            | Zn                      |  963.90 |\n",
       "| WS | Weight | 821855 | Erlandsson et al. 2020 | 2 | Metal | Zn            | Zn                      | 1036.10 |\n",
       "| WS | Weight | 821855 | Erlandsson et al. 2020 | 1 | PAH   | DTXSID3024104 | Fluoranthene            |   96.10 |\n",
       "| WS | Weight | 821855 | Erlandsson et al. 2020 | 2 | PAH   | DTXSID3024104 | Fluoranthene            |  274.50 |\n",
       "| WS | Weight | 821855 | Erlandsson et al. 2020 | 1 | PAH   | DTXSID6024254 | Phenanthrene            |   49.10 |\n",
       "| WS | Weight | 821855 | Erlandsson et al. 2020 | 2 | PAH   | DTXSID6024254 | Phenanthrene            |   21.80 |\n",
       "| WS | Weight | 821855 | Erlandsson et al. 2020 | 1 | Metal | Ni            | Ni                      |    1.30 |\n",
       "| WS | Weight | 821855 | Erlandsson et al. 2020 | 2 | Metal | Ni            | Ni                      |    2.10 |\n",
       "| WS | Weight | 821855 | Erlandsson et al. 2020 | 1 | Metal | Mn            | Mn                      |   20.80 |\n",
       "| WS | Weight | 821855 | Erlandsson et al. 2020 | 2 | Metal | Mn            | Mn                      |   24.20 |\n",
       "| WS | Weight | 821855 | Erlandsson et al. 2020 | 1 | Metal | Cr            | Cr                      |   11.10 |\n",
       "| WS | Weight | 821855 | Erlandsson et al. 2020 | 2 | Metal | Cr            | Cr                      |    4.10 |\n",
       "| WS | Weight | 821855 | Erlandsson et al. 2020 | 1 | Metal | Fe            | Fe                      |   14.00 |\n",
       "| WS | Weight | 821855 | Erlandsson et al. 2020 | 2 | Metal | Fe            | Fe                      |   25.10 |\n",
       "| WS | Weight | 821855 | Erlandsson et al. 2020 | 1 | PAH   | DTXSID3021774 | Acenaphthene            |      NA |\n",
       "| WS | Weight | 821855 | Erlandsson et al. 2020 | 2 | PAH   | DTXSID3021774 | Acenaphthene            |    0.10 |\n",
       "| WS | Weight | 821855 | Erlandsson et al. 2020 | 1 | Metal | Al            | Al                      |   21.00 |\n",
       "| WS | Weight | 821855 | Erlandsson et al. 2020 | 2 | Metal | Al            | Al                      |   35.20 |\n",
       "| WS | Weight | 821855 | Erlandsson et al. 2020 | 1 | Metal | Co            | Co                      |    0.30 |\n",
       "| WS | Weight | 821855 | Erlandsson et al. 2020 | 2 | Metal | Co            | Co                      |    0.40 |\n",
       "| WS | Weight | 821855 | Erlandsson et al. 2020 | 1 | Metal | Ba            | Ba                      |    9.30 |\n",
       "| WS | Weight | 821855 | Erlandsson et al. 2020 | 2 | Metal | Ba            | Ba                      |   18.80 |\n",
       "\n"
      ],
      "text/plain": [
       "   Data Metric HAWC_ID Study                  Replicate Chemical_Class\n",
       "1  WS   Weight 821855  Erlandsson et al. 2020 1         PAH           \n",
       "2  WS   Weight 821855  Erlandsson et al. 2020 2         PAH           \n",
       "3  WS   Weight 821855  Erlandsson et al. 2020 1         PAH           \n",
       "4  WS   Weight 821855  Erlandsson et al. 2020 2         PAH           \n",
       "5  WS   Weight 821855  Erlandsson et al. 2020 1         PAH           \n",
       "6  WS   Weight 821855  Erlandsson et al. 2020 2         PAH           \n",
       "7  WS   Weight 821855  Erlandsson et al. 2020 1         PAH           \n",
       "8  WS   Weight 821855  Erlandsson et al. 2020 2         PAH           \n",
       "9  WS   Weight 821855  Erlandsson et al. 2020 1         Metal         \n",
       "10 WS   Weight 821855  Erlandsson et al. 2020 2         Metal         \n",
       "11 WS   Weight 821855  Erlandsson et al. 2020 1         Metal         \n",
       "12 WS   Weight 821855  Erlandsson et al. 2020 2         Metal         \n",
       "13 WS   Weight 821855  Erlandsson et al. 2020 1         PAH           \n",
       "14 WS   Weight 821855  Erlandsson et al. 2020 2         PAH           \n",
       "15 WS   Weight 821855  Erlandsson et al. 2020 1         PAH           \n",
       "16 WS   Weight 821855  Erlandsson et al. 2020 2         PAH           \n",
       "17 WS   Weight 821855  Erlandsson et al. 2020 1         Metal         \n",
       "18 WS   Weight 821855  Erlandsson et al. 2020 2         Metal         \n",
       "19 WS   Weight 821855  Erlandsson et al. 2020 1         Metal         \n",
       "20 WS   Weight 821855  Erlandsson et al. 2020 2         Metal         \n",
       "21 WS   Weight 821855  Erlandsson et al. 2020 1         Metal         \n",
       "22 WS   Weight 821855  Erlandsson et al. 2020 2         Metal         \n",
       "23 WS   Weight 821855  Erlandsson et al. 2020 1         Metal         \n",
       "24 WS   Weight 821855  Erlandsson et al. 2020 2         Metal         \n",
       "25 WS   Weight 821855  Erlandsson et al. 2020 1         PAH           \n",
       "26 WS   Weight 821855  Erlandsson et al. 2020 2         PAH           \n",
       "27 WS   Weight 821855  Erlandsson et al. 2020 1         Metal         \n",
       "28 WS   Weight 821855  Erlandsson et al. 2020 2         Metal         \n",
       "29 WS   Weight 821855  Erlandsson et al. 2020 1         Metal         \n",
       "30 WS   Weight 821855  Erlandsson et al. 2020 2         Metal         \n",
       "31 WS   Weight 821855  Erlandsson et al. 2020 1         Metal         \n",
       "32 WS   Weight 821855  Erlandsson et al. 2020 2         Metal         \n",
       "   DTXSID        Name                    Value  \n",
       "1  DTXSID2060383 2,3-Dimethylnaphthalene    0.05\n",
       "2  DTXSID2060383 2,3-Dimethylnaphthalene    0.05\n",
       "3  DTXSID8074819 2-Methylchrysene           7.40\n",
       "4  DTXSID8074819 2-Methylchrysene          12.10\n",
       "5  DTXSID4020878 2-Methylphenanthrene       5.80\n",
       "6  DTXSID4020878 2-Methylphenanthrene       1.20\n",
       "7  DTXSID4020161 Biphenyl                   0.03\n",
       "8  DTXSID4020161 Biphenyl                   0.06\n",
       "9  Cu            Cu                        12.80\n",
       "10 Cu            Cu                        44.80\n",
       "11 Zn            Zn                       963.90\n",
       "12 Zn            Zn                      1036.10\n",
       "13 DTXSID3024104 Fluoranthene              96.10\n",
       "14 DTXSID3024104 Fluoranthene             274.50\n",
       "15 DTXSID6024254 Phenanthrene              49.10\n",
       "16 DTXSID6024254 Phenanthrene              21.80\n",
       "17 Ni            Ni                         1.30\n",
       "18 Ni            Ni                         2.10\n",
       "19 Mn            Mn                        20.80\n",
       "20 Mn            Mn                        24.20\n",
       "21 Cr            Cr                        11.10\n",
       "22 Cr            Cr                         4.10\n",
       "23 Fe            Fe                        14.00\n",
       "24 Fe            Fe                        25.10\n",
       "25 DTXSID3021774 Acenaphthene                 NA\n",
       "26 DTXSID3021774 Acenaphthene               0.10\n",
       "27 Al            Al                        21.00\n",
       "28 Al            Al                        35.20\n",
       "29 Co            Co                         0.30\n",
       "30 Co            Co                         0.40\n",
       "31 Ba            Ba                         9.30\n",
       "32 Ba            Ba                        18.80"
      ]
     },
     "metadata": {},
     "output_type": "display_data"
    },
    {
     "data": {
      "text/html": [
       "<table class=\"dataframe\">\n",
       "<caption>A matrix: 32 × 16 of type dbl</caption>\n",
       "<thead>\n",
       "\t<tr><th scope=col>2,3-Dimethylnaphthalene</th><th scope=col>2-Methylchrysene</th><th scope=col>2-Methylphenanthrene</th><th scope=col>Biphenyl</th><th scope=col>Cu</th><th scope=col>Zn</th><th scope=col>Fluoranthene</th><th scope=col>Phenanthrene</th><th scope=col>Ni</th><th scope=col>Mn</th><th scope=col>Cr</th><th scope=col>Fe</th><th scope=col>Acenaphthene</th><th scope=col>Al</th><th scope=col>Co</th><th scope=col>Ba</th></tr>\n",
       "</thead>\n",
       "<tbody>\n",
       "\t<tr><td>0.0211893</td><td>       NA</td><td>       NA</td><td>        NA</td><td>      NA</td><td>      NA</td><td>      NA</td><td>      NA</td><td>       NA</td><td>      NA</td><td>       NA</td><td>      NA</td><td>        NA</td><td>      NA</td><td>       NA</td><td>      NA</td></tr>\n",
       "\t<tr><td>0.0211893</td><td>       NA</td><td>       NA</td><td>        NA</td><td>      NA</td><td>      NA</td><td>      NA</td><td>      NA</td><td>       NA</td><td>      NA</td><td>       NA</td><td>      NA</td><td>        NA</td><td>      NA</td><td>       NA</td><td>      NA</td></tr>\n",
       "\t<tr><td>       NA</td><td>0.9242793</td><td>       NA</td><td>        NA</td><td>      NA</td><td>      NA</td><td>      NA</td><td>      NA</td><td>       NA</td><td>      NA</td><td>       NA</td><td>      NA</td><td>        NA</td><td>      NA</td><td>       NA</td><td>      NA</td></tr>\n",
       "\t<tr><td>       NA</td><td>1.1172713</td><td>       NA</td><td>        NA</td><td>      NA</td><td>      NA</td><td>      NA</td><td>      NA</td><td>       NA</td><td>      NA</td><td>       NA</td><td>      NA</td><td>        NA</td><td>      NA</td><td>       NA</td><td>      NA</td></tr>\n",
       "\t<tr><td>       NA</td><td>       NA</td><td>0.8325089</td><td>        NA</td><td>      NA</td><td>      NA</td><td>      NA</td><td>      NA</td><td>       NA</td><td>      NA</td><td>       NA</td><td>      NA</td><td>        NA</td><td>      NA</td><td>       NA</td><td>      NA</td></tr>\n",
       "\t<tr><td>       NA</td><td>       NA</td><td>0.3424227</td><td>        NA</td><td>      NA</td><td>      NA</td><td>      NA</td><td>      NA</td><td>       NA</td><td>      NA</td><td>       NA</td><td>      NA</td><td>        NA</td><td>      NA</td><td>       NA</td><td>      NA</td></tr>\n",
       "\t<tr><td>       NA</td><td>       NA</td><td>       NA</td><td>0.01283722</td><td>      NA</td><td>      NA</td><td>      NA</td><td>      NA</td><td>       NA</td><td>      NA</td><td>       NA</td><td>      NA</td><td>        NA</td><td>      NA</td><td>       NA</td><td>      NA</td></tr>\n",
       "\t<tr><td>       NA</td><td>       NA</td><td>       NA</td><td>0.02530587</td><td>      NA</td><td>      NA</td><td>      NA</td><td>      NA</td><td>       NA</td><td>      NA</td><td>       NA</td><td>      NA</td><td>        NA</td><td>      NA</td><td>       NA</td><td>      NA</td></tr>\n",
       "\t<tr><td>       NA</td><td>       NA</td><td>       NA</td><td>        NA</td><td>1.139879</td><td>      NA</td><td>      NA</td><td>      NA</td><td>       NA</td><td>      NA</td><td>       NA</td><td>      NA</td><td>        NA</td><td>      NA</td><td>       NA</td><td>      NA</td></tr>\n",
       "\t<tr><td>       NA</td><td>       NA</td><td>       NA</td><td>        NA</td><td>1.660865</td><td>      NA</td><td>      NA</td><td>      NA</td><td>       NA</td><td>      NA</td><td>       NA</td><td>      NA</td><td>        NA</td><td>      NA</td><td>       NA</td><td>      NA</td></tr>\n",
       "\t<tr><td>       NA</td><td>       NA</td><td>       NA</td><td>        NA</td><td>      NA</td><td>2.984482</td><td>      NA</td><td>      NA</td><td>       NA</td><td>      NA</td><td>       NA</td><td>      NA</td><td>        NA</td><td>      NA</td><td>       NA</td><td>      NA</td></tr>\n",
       "\t<tr><td>       NA</td><td>       NA</td><td>       NA</td><td>        NA</td><td>      NA</td><td>3.015821</td><td>      NA</td><td>      NA</td><td>       NA</td><td>      NA</td><td>       NA</td><td>      NA</td><td>        NA</td><td>      NA</td><td>       NA</td><td>      NA</td></tr>\n",
       "\t<tr><td>       NA</td><td>       NA</td><td>       NA</td><td>        NA</td><td>      NA</td><td>      NA</td><td>1.987219</td><td>      NA</td><td>       NA</td><td>      NA</td><td>       NA</td><td>      NA</td><td>        NA</td><td>      NA</td><td>       NA</td><td>      NA</td></tr>\n",
       "\t<tr><td>       NA</td><td>       NA</td><td>       NA</td><td>        NA</td><td>      NA</td><td>      NA</td><td>2.440122</td><td>      NA</td><td>       NA</td><td>      NA</td><td>       NA</td><td>      NA</td><td>        NA</td><td>      NA</td><td>       NA</td><td>      NA</td></tr>\n",
       "\t<tr><td>       NA</td><td>       NA</td><td>       NA</td><td>        NA</td><td>      NA</td><td>      NA</td><td>      NA</td><td>1.699838</td><td>       NA</td><td>      NA</td><td>       NA</td><td>      NA</td><td>        NA</td><td>      NA</td><td>       NA</td><td>      NA</td></tr>\n",
       "\t<tr><td>       NA</td><td>       NA</td><td>       NA</td><td>        NA</td><td>      NA</td><td>      NA</td><td>      NA</td><td>1.357935</td><td>       NA</td><td>      NA</td><td>       NA</td><td>      NA</td><td>        NA</td><td>      NA</td><td>       NA</td><td>      NA</td></tr>\n",
       "\t<tr><td>       NA</td><td>       NA</td><td>       NA</td><td>        NA</td><td>      NA</td><td>      NA</td><td>      NA</td><td>      NA</td><td>0.3617278</td><td>      NA</td><td>       NA</td><td>      NA</td><td>        NA</td><td>      NA</td><td>       NA</td><td>      NA</td></tr>\n",
       "\t<tr><td>       NA</td><td>       NA</td><td>       NA</td><td>        NA</td><td>      NA</td><td>      NA</td><td>      NA</td><td>      NA</td><td>0.4913617</td><td>      NA</td><td>       NA</td><td>      NA</td><td>        NA</td><td>      NA</td><td>       NA</td><td>      NA</td></tr>\n",
       "\t<tr><td>       NA</td><td>       NA</td><td>       NA</td><td>        NA</td><td>      NA</td><td>      NA</td><td>      NA</td><td>      NA</td><td>       NA</td><td>1.338456</td><td>       NA</td><td>      NA</td><td>        NA</td><td>      NA</td><td>       NA</td><td>      NA</td></tr>\n",
       "\t<tr><td>       NA</td><td>       NA</td><td>       NA</td><td>        NA</td><td>      NA</td><td>      NA</td><td>      NA</td><td>      NA</td><td>       NA</td><td>1.401401</td><td>       NA</td><td>      NA</td><td>        NA</td><td>      NA</td><td>       NA</td><td>      NA</td></tr>\n",
       "\t<tr><td>       NA</td><td>       NA</td><td>       NA</td><td>        NA</td><td>      NA</td><td>      NA</td><td>      NA</td><td>      NA</td><td>       NA</td><td>      NA</td><td>1.0827854</td><td>      NA</td><td>        NA</td><td>      NA</td><td>       NA</td><td>      NA</td></tr>\n",
       "\t<tr><td>       NA</td><td>       NA</td><td>       NA</td><td>        NA</td><td>      NA</td><td>      NA</td><td>      NA</td><td>      NA</td><td>       NA</td><td>      NA</td><td>0.7075702</td><td>      NA</td><td>        NA</td><td>      NA</td><td>       NA</td><td>      NA</td></tr>\n",
       "\t<tr><td>       NA</td><td>       NA</td><td>       NA</td><td>        NA</td><td>      NA</td><td>      NA</td><td>      NA</td><td>      NA</td><td>       NA</td><td>      NA</td><td>       NA</td><td>1.176091</td><td>        NA</td><td>      NA</td><td>       NA</td><td>      NA</td></tr>\n",
       "\t<tr><td>       NA</td><td>       NA</td><td>       NA</td><td>        NA</td><td>      NA</td><td>      NA</td><td>      NA</td><td>      NA</td><td>       NA</td><td>      NA</td><td>       NA</td><td>1.416641</td><td>        NA</td><td>      NA</td><td>       NA</td><td>      NA</td></tr>\n",
       "\t<tr><td>       NA</td><td>       NA</td><td>       NA</td><td>        NA</td><td>      NA</td><td>      NA</td><td>      NA</td><td>      NA</td><td>       NA</td><td>      NA</td><td>       NA</td><td>      NA</td><td>        NA</td><td>      NA</td><td>       NA</td><td>      NA</td></tr>\n",
       "\t<tr><td>       NA</td><td>       NA</td><td>       NA</td><td>        NA</td><td>      NA</td><td>      NA</td><td>      NA</td><td>      NA</td><td>       NA</td><td>      NA</td><td>       NA</td><td>      NA</td><td>0.04139269</td><td>      NA</td><td>       NA</td><td>      NA</td></tr>\n",
       "\t<tr><td>       NA</td><td>       NA</td><td>       NA</td><td>        NA</td><td>      NA</td><td>      NA</td><td>      NA</td><td>      NA</td><td>       NA</td><td>      NA</td><td>       NA</td><td>      NA</td><td>        NA</td><td>1.342423</td><td>       NA</td><td>      NA</td></tr>\n",
       "\t<tr><td>       NA</td><td>       NA</td><td>       NA</td><td>        NA</td><td>      NA</td><td>      NA</td><td>      NA</td><td>      NA</td><td>       NA</td><td>      NA</td><td>       NA</td><td>      NA</td><td>        NA</td><td>1.558709</td><td>       NA</td><td>      NA</td></tr>\n",
       "\t<tr><td>       NA</td><td>       NA</td><td>       NA</td><td>        NA</td><td>      NA</td><td>      NA</td><td>      NA</td><td>      NA</td><td>       NA</td><td>      NA</td><td>       NA</td><td>      NA</td><td>        NA</td><td>      NA</td><td>0.1139434</td><td>      NA</td></tr>\n",
       "\t<tr><td>       NA</td><td>       NA</td><td>       NA</td><td>        NA</td><td>      NA</td><td>      NA</td><td>      NA</td><td>      NA</td><td>       NA</td><td>      NA</td><td>       NA</td><td>      NA</td><td>        NA</td><td>      NA</td><td>0.1461280</td><td>      NA</td></tr>\n",
       "\t<tr><td>       NA</td><td>       NA</td><td>       NA</td><td>        NA</td><td>      NA</td><td>      NA</td><td>      NA</td><td>      NA</td><td>       NA</td><td>      NA</td><td>       NA</td><td>      NA</td><td>        NA</td><td>      NA</td><td>       NA</td><td>1.012837</td></tr>\n",
       "\t<tr><td>       NA</td><td>       NA</td><td>       NA</td><td>        NA</td><td>      NA</td><td>      NA</td><td>      NA</td><td>      NA</td><td>       NA</td><td>      NA</td><td>       NA</td><td>      NA</td><td>        NA</td><td>      NA</td><td>       NA</td><td>1.296665</td></tr>\n",
       "</tbody>\n",
       "</table>\n"
      ],
      "text/latex": [
       "A matrix: 32 × 16 of type dbl\n",
       "\\begin{tabular}{llllllllllllllll}\n",
       " 2,3-Dimethylnaphthalene & 2-Methylchrysene & 2-Methylphenanthrene & Biphenyl & Cu & Zn & Fluoranthene & Phenanthrene & Ni & Mn & Cr & Fe & Acenaphthene & Al & Co & Ba\\\\\n",
       "\\hline\n",
       "\t 0.0211893 &        NA &        NA &         NA &       NA &       NA &       NA &       NA &        NA &       NA &        NA &       NA &         NA &       NA &        NA &       NA\\\\\n",
       "\t 0.0211893 &        NA &        NA &         NA &       NA &       NA &       NA &       NA &        NA &       NA &        NA &       NA &         NA &       NA &        NA &       NA\\\\\n",
       "\t        NA & 0.9242793 &        NA &         NA &       NA &       NA &       NA &       NA &        NA &       NA &        NA &       NA &         NA &       NA &        NA &       NA\\\\\n",
       "\t        NA & 1.1172713 &        NA &         NA &       NA &       NA &       NA &       NA &        NA &       NA &        NA &       NA &         NA &       NA &        NA &       NA\\\\\n",
       "\t        NA &        NA & 0.8325089 &         NA &       NA &       NA &       NA &       NA &        NA &       NA &        NA &       NA &         NA &       NA &        NA &       NA\\\\\n",
       "\t        NA &        NA & 0.3424227 &         NA &       NA &       NA &       NA &       NA &        NA &       NA &        NA &       NA &         NA &       NA &        NA &       NA\\\\\n",
       "\t        NA &        NA &        NA & 0.01283722 &       NA &       NA &       NA &       NA &        NA &       NA &        NA &       NA &         NA &       NA &        NA &       NA\\\\\n",
       "\t        NA &        NA &        NA & 0.02530587 &       NA &       NA &       NA &       NA &        NA &       NA &        NA &       NA &         NA &       NA &        NA &       NA\\\\\n",
       "\t        NA &        NA &        NA &         NA & 1.139879 &       NA &       NA &       NA &        NA &       NA &        NA &       NA &         NA &       NA &        NA &       NA\\\\\n",
       "\t        NA &        NA &        NA &         NA & 1.660865 &       NA &       NA &       NA &        NA &       NA &        NA &       NA &         NA &       NA &        NA &       NA\\\\\n",
       "\t        NA &        NA &        NA &         NA &       NA & 2.984482 &       NA &       NA &        NA &       NA &        NA &       NA &         NA &       NA &        NA &       NA\\\\\n",
       "\t        NA &        NA &        NA &         NA &       NA & 3.015821 &       NA &       NA &        NA &       NA &        NA &       NA &         NA &       NA &        NA &       NA\\\\\n",
       "\t        NA &        NA &        NA &         NA &       NA &       NA & 1.987219 &       NA &        NA &       NA &        NA &       NA &         NA &       NA &        NA &       NA\\\\\n",
       "\t        NA &        NA &        NA &         NA &       NA &       NA & 2.440122 &       NA &        NA &       NA &        NA &       NA &         NA &       NA &        NA &       NA\\\\\n",
       "\t        NA &        NA &        NA &         NA &       NA &       NA &       NA & 1.699838 &        NA &       NA &        NA &       NA &         NA &       NA &        NA &       NA\\\\\n",
       "\t        NA &        NA &        NA &         NA &       NA &       NA &       NA & 1.357935 &        NA &       NA &        NA &       NA &         NA &       NA &        NA &       NA\\\\\n",
       "\t        NA &        NA &        NA &         NA &       NA &       NA &       NA &       NA & 0.3617278 &       NA &        NA &       NA &         NA &       NA &        NA &       NA\\\\\n",
       "\t        NA &        NA &        NA &         NA &       NA &       NA &       NA &       NA & 0.4913617 &       NA &        NA &       NA &         NA &       NA &        NA &       NA\\\\\n",
       "\t        NA &        NA &        NA &         NA &       NA &       NA &       NA &       NA &        NA & 1.338456 &        NA &       NA &         NA &       NA &        NA &       NA\\\\\n",
       "\t        NA &        NA &        NA &         NA &       NA &       NA &       NA &       NA &        NA & 1.401401 &        NA &       NA &         NA &       NA &        NA &       NA\\\\\n",
       "\t        NA &        NA &        NA &         NA &       NA &       NA &       NA &       NA &        NA &       NA & 1.0827854 &       NA &         NA &       NA &        NA &       NA\\\\\n",
       "\t        NA &        NA &        NA &         NA &       NA &       NA &       NA &       NA &        NA &       NA & 0.7075702 &       NA &         NA &       NA &        NA &       NA\\\\\n",
       "\t        NA &        NA &        NA &         NA &       NA &       NA &       NA &       NA &        NA &       NA &        NA & 1.176091 &         NA &       NA &        NA &       NA\\\\\n",
       "\t        NA &        NA &        NA &         NA &       NA &       NA &       NA &       NA &        NA &       NA &        NA & 1.416641 &         NA &       NA &        NA &       NA\\\\\n",
       "\t        NA &        NA &        NA &         NA &       NA &       NA &       NA &       NA &        NA &       NA &        NA &       NA &         NA &       NA &        NA &       NA\\\\\n",
       "\t        NA &        NA &        NA &         NA &       NA &       NA &       NA &       NA &        NA &       NA &        NA &       NA & 0.04139269 &       NA &        NA &       NA\\\\\n",
       "\t        NA &        NA &        NA &         NA &       NA &       NA &       NA &       NA &        NA &       NA &        NA &       NA &         NA & 1.342423 &        NA &       NA\\\\\n",
       "\t        NA &        NA &        NA &         NA &       NA &       NA &       NA &       NA &        NA &       NA &        NA &       NA &         NA & 1.558709 &        NA &       NA\\\\\n",
       "\t        NA &        NA &        NA &         NA &       NA &       NA &       NA &       NA &        NA &       NA &        NA &       NA &         NA &       NA & 0.1139434 &       NA\\\\\n",
       "\t        NA &        NA &        NA &         NA &       NA &       NA &       NA &       NA &        NA &       NA &        NA &       NA &         NA &       NA & 0.1461280 &       NA\\\\\n",
       "\t        NA &        NA &        NA &         NA &       NA &       NA &       NA &       NA &        NA &       NA &        NA &       NA &         NA &       NA &        NA & 1.012837\\\\\n",
       "\t        NA &        NA &        NA &         NA &       NA &       NA &       NA &       NA &        NA &       NA &        NA &       NA &         NA &       NA &        NA & 1.296665\\\\\n",
       "\\end{tabular}\n"
      ],
      "text/markdown": [
       "\n",
       "A matrix: 32 × 16 of type dbl\n",
       "\n",
       "| 2,3-Dimethylnaphthalene | 2-Methylchrysene | 2-Methylphenanthrene | Biphenyl | Cu | Zn | Fluoranthene | Phenanthrene | Ni | Mn | Cr | Fe | Acenaphthene | Al | Co | Ba |\n",
       "|---|---|---|---|---|---|---|---|---|---|---|---|---|---|---|---|\n",
       "| 0.0211893 |        NA |        NA |         NA |       NA |       NA |       NA |       NA |        NA |       NA |        NA |       NA |         NA |       NA |        NA |       NA |\n",
       "| 0.0211893 |        NA |        NA |         NA |       NA |       NA |       NA |       NA |        NA |       NA |        NA |       NA |         NA |       NA |        NA |       NA |\n",
       "|        NA | 0.9242793 |        NA |         NA |       NA |       NA |       NA |       NA |        NA |       NA |        NA |       NA |         NA |       NA |        NA |       NA |\n",
       "|        NA | 1.1172713 |        NA |         NA |       NA |       NA |       NA |       NA |        NA |       NA |        NA |       NA |         NA |       NA |        NA |       NA |\n",
       "|        NA |        NA | 0.8325089 |         NA |       NA |       NA |       NA |       NA |        NA |       NA |        NA |       NA |         NA |       NA |        NA |       NA |\n",
       "|        NA |        NA | 0.3424227 |         NA |       NA |       NA |       NA |       NA |        NA |       NA |        NA |       NA |         NA |       NA |        NA |       NA |\n",
       "|        NA |        NA |        NA | 0.01283722 |       NA |       NA |       NA |       NA |        NA |       NA |        NA |       NA |         NA |       NA |        NA |       NA |\n",
       "|        NA |        NA |        NA | 0.02530587 |       NA |       NA |       NA |       NA |        NA |       NA |        NA |       NA |         NA |       NA |        NA |       NA |\n",
       "|        NA |        NA |        NA |         NA | 1.139879 |       NA |       NA |       NA |        NA |       NA |        NA |       NA |         NA |       NA |        NA |       NA |\n",
       "|        NA |        NA |        NA |         NA | 1.660865 |       NA |       NA |       NA |        NA |       NA |        NA |       NA |         NA |       NA |        NA |       NA |\n",
       "|        NA |        NA |        NA |         NA |       NA | 2.984482 |       NA |       NA |        NA |       NA |        NA |       NA |         NA |       NA |        NA |       NA |\n",
       "|        NA |        NA |        NA |         NA |       NA | 3.015821 |       NA |       NA |        NA |       NA |        NA |       NA |         NA |       NA |        NA |       NA |\n",
       "|        NA |        NA |        NA |         NA |       NA |       NA | 1.987219 |       NA |        NA |       NA |        NA |       NA |         NA |       NA |        NA |       NA |\n",
       "|        NA |        NA |        NA |         NA |       NA |       NA | 2.440122 |       NA |        NA |       NA |        NA |       NA |         NA |       NA |        NA |       NA |\n",
       "|        NA |        NA |        NA |         NA |       NA |       NA |       NA | 1.699838 |        NA |       NA |        NA |       NA |         NA |       NA |        NA |       NA |\n",
       "|        NA |        NA |        NA |         NA |       NA |       NA |       NA | 1.357935 |        NA |       NA |        NA |       NA |         NA |       NA |        NA |       NA |\n",
       "|        NA |        NA |        NA |         NA |       NA |       NA |       NA |       NA | 0.3617278 |       NA |        NA |       NA |         NA |       NA |        NA |       NA |\n",
       "|        NA |        NA |        NA |         NA |       NA |       NA |       NA |       NA | 0.4913617 |       NA |        NA |       NA |         NA |       NA |        NA |       NA |\n",
       "|        NA |        NA |        NA |         NA |       NA |       NA |       NA |       NA |        NA | 1.338456 |        NA |       NA |         NA |       NA |        NA |       NA |\n",
       "|        NA |        NA |        NA |         NA |       NA |       NA |       NA |       NA |        NA | 1.401401 |        NA |       NA |         NA |       NA |        NA |       NA |\n",
       "|        NA |        NA |        NA |         NA |       NA |       NA |       NA |       NA |        NA |       NA | 1.0827854 |       NA |         NA |       NA |        NA |       NA |\n",
       "|        NA |        NA |        NA |         NA |       NA |       NA |       NA |       NA |        NA |       NA | 0.7075702 |       NA |         NA |       NA |        NA |       NA |\n",
       "|        NA |        NA |        NA |         NA |       NA |       NA |       NA |       NA |        NA |       NA |        NA | 1.176091 |         NA |       NA |        NA |       NA |\n",
       "|        NA |        NA |        NA |         NA |       NA |       NA |       NA |       NA |        NA |       NA |        NA | 1.416641 |         NA |       NA |        NA |       NA |\n",
       "|        NA |        NA |        NA |         NA |       NA |       NA |       NA |       NA |        NA |       NA |        NA |       NA |         NA |       NA |        NA |       NA |\n",
       "|        NA |        NA |        NA |         NA |       NA |       NA |       NA |       NA |        NA |       NA |        NA |       NA | 0.04139269 |       NA |        NA |       NA |\n",
       "|        NA |        NA |        NA |         NA |       NA |       NA |       NA |       NA |        NA |       NA |        NA |       NA |         NA | 1.342423 |        NA |       NA |\n",
       "|        NA |        NA |        NA |         NA |       NA |       NA |       NA |       NA |        NA |       NA |        NA |       NA |         NA | 1.558709 |        NA |       NA |\n",
       "|        NA |        NA |        NA |         NA |       NA |       NA |       NA |       NA |        NA |       NA |        NA |       NA |         NA |       NA | 0.1139434 |       NA |\n",
       "|        NA |        NA |        NA |         NA |       NA |       NA |       NA |       NA |        NA |       NA |        NA |       NA |         NA |       NA | 0.1461280 |       NA |\n",
       "|        NA |        NA |        NA |         NA |       NA |       NA |       NA |       NA |        NA |       NA |        NA |       NA |         NA |       NA |        NA | 1.012837 |\n",
       "|        NA |        NA |        NA |         NA |       NA |       NA |       NA |       NA |        NA |       NA |        NA |       NA |         NA |       NA |        NA | 1.296665 |\n",
       "\n"
      ],
      "text/plain": [
       "      2,3-Dimethylnaphthalene 2-Methylchrysene 2-Methylphenanthrene Biphenyl  \n",
       " [1,] 0.0211893                      NA               NA                    NA\n",
       " [2,] 0.0211893                      NA               NA                    NA\n",
       " [3,]        NA               0.9242793               NA                    NA\n",
       " [4,]        NA               1.1172713               NA                    NA\n",
       " [5,]        NA                      NA        0.8325089                    NA\n",
       " [6,]        NA                      NA        0.3424227                    NA\n",
       " [7,]        NA                      NA               NA            0.01283722\n",
       " [8,]        NA                      NA               NA            0.02530587\n",
       " [9,]        NA                      NA               NA                    NA\n",
       "[10,]        NA                      NA               NA                    NA\n",
       "[11,]        NA                      NA               NA                    NA\n",
       "[12,]        NA                      NA               NA                    NA\n",
       "[13,]        NA                      NA               NA                    NA\n",
       "[14,]        NA                      NA               NA                    NA\n",
       "[15,]        NA                      NA               NA                    NA\n",
       "[16,]        NA                      NA               NA                    NA\n",
       "[17,]        NA                      NA               NA                    NA\n",
       "[18,]        NA                      NA               NA                    NA\n",
       "[19,]        NA                      NA               NA                    NA\n",
       "[20,]        NA                      NA               NA                    NA\n",
       "[21,]        NA                      NA               NA                    NA\n",
       "[22,]        NA                      NA               NA                    NA\n",
       "[23,]        NA                      NA               NA                    NA\n",
       "[24,]        NA                      NA               NA                    NA\n",
       "[25,]        NA                      NA               NA                    NA\n",
       "[26,]        NA                      NA               NA                    NA\n",
       "[27,]        NA                      NA               NA                    NA\n",
       "[28,]        NA                      NA               NA                    NA\n",
       "[29,]        NA                      NA               NA                    NA\n",
       "[30,]        NA                      NA               NA                    NA\n",
       "[31,]        NA                      NA               NA                    NA\n",
       "[32,]        NA                      NA               NA                    NA\n",
       "      Cu       Zn       Fluoranthene Phenanthrene Ni        Mn       Cr       \n",
       " [1,]       NA       NA       NA           NA            NA       NA        NA\n",
       " [2,]       NA       NA       NA           NA            NA       NA        NA\n",
       " [3,]       NA       NA       NA           NA            NA       NA        NA\n",
       " [4,]       NA       NA       NA           NA            NA       NA        NA\n",
       " [5,]       NA       NA       NA           NA            NA       NA        NA\n",
       " [6,]       NA       NA       NA           NA            NA       NA        NA\n",
       " [7,]       NA       NA       NA           NA            NA       NA        NA\n",
       " [8,]       NA       NA       NA           NA            NA       NA        NA\n",
       " [9,] 1.139879       NA       NA           NA            NA       NA        NA\n",
       "[10,] 1.660865       NA       NA           NA            NA       NA        NA\n",
       "[11,]       NA 2.984482       NA           NA            NA       NA        NA\n",
       "[12,]       NA 3.015821       NA           NA            NA       NA        NA\n",
       "[13,]       NA       NA 1.987219           NA            NA       NA        NA\n",
       "[14,]       NA       NA 2.440122           NA            NA       NA        NA\n",
       "[15,]       NA       NA       NA     1.699838            NA       NA        NA\n",
       "[16,]       NA       NA       NA     1.357935            NA       NA        NA\n",
       "[17,]       NA       NA       NA           NA     0.3617278       NA        NA\n",
       "[18,]       NA       NA       NA           NA     0.4913617       NA        NA\n",
       "[19,]       NA       NA       NA           NA            NA 1.338456        NA\n",
       "[20,]       NA       NA       NA           NA            NA 1.401401        NA\n",
       "[21,]       NA       NA       NA           NA            NA       NA 1.0827854\n",
       "[22,]       NA       NA       NA           NA            NA       NA 0.7075702\n",
       "[23,]       NA       NA       NA           NA            NA       NA        NA\n",
       "[24,]       NA       NA       NA           NA            NA       NA        NA\n",
       "[25,]       NA       NA       NA           NA            NA       NA        NA\n",
       "[26,]       NA       NA       NA           NA            NA       NA        NA\n",
       "[27,]       NA       NA       NA           NA            NA       NA        NA\n",
       "[28,]       NA       NA       NA           NA            NA       NA        NA\n",
       "[29,]       NA       NA       NA           NA            NA       NA        NA\n",
       "[30,]       NA       NA       NA           NA            NA       NA        NA\n",
       "[31,]       NA       NA       NA           NA            NA       NA        NA\n",
       "[32,]       NA       NA       NA           NA            NA       NA        NA\n",
       "      Fe       Acenaphthene Al       Co        Ba      \n",
       " [1,]       NA         NA         NA        NA       NA\n",
       " [2,]       NA         NA         NA        NA       NA\n",
       " [3,]       NA         NA         NA        NA       NA\n",
       " [4,]       NA         NA         NA        NA       NA\n",
       " [5,]       NA         NA         NA        NA       NA\n",
       " [6,]       NA         NA         NA        NA       NA\n",
       " [7,]       NA         NA         NA        NA       NA\n",
       " [8,]       NA         NA         NA        NA       NA\n",
       " [9,]       NA         NA         NA        NA       NA\n",
       "[10,]       NA         NA         NA        NA       NA\n",
       "[11,]       NA         NA         NA        NA       NA\n",
       "[12,]       NA         NA         NA        NA       NA\n",
       "[13,]       NA         NA         NA        NA       NA\n",
       "[14,]       NA         NA         NA        NA       NA\n",
       "[15,]       NA         NA         NA        NA       NA\n",
       "[16,]       NA         NA         NA        NA       NA\n",
       "[17,]       NA         NA         NA        NA       NA\n",
       "[18,]       NA         NA         NA        NA       NA\n",
       "[19,]       NA         NA         NA        NA       NA\n",
       "[20,]       NA         NA         NA        NA       NA\n",
       "[21,]       NA         NA         NA        NA       NA\n",
       "[22,]       NA         NA         NA        NA       NA\n",
       "[23,] 1.176091         NA         NA        NA       NA\n",
       "[24,] 1.416641         NA         NA        NA       NA\n",
       "[25,]       NA         NA         NA        NA       NA\n",
       "[26,]       NA 0.04139269         NA        NA       NA\n",
       "[27,]       NA         NA   1.342423        NA       NA\n",
       "[28,]       NA         NA   1.558709        NA       NA\n",
       "[29,]       NA         NA         NA 0.1139434       NA\n",
       "[30,]       NA         NA         NA 0.1461280       NA\n",
       "[31,]       NA         NA         NA        NA 1.012837\n",
       "[32,]       NA         NA         NA        NA 1.296665"
      ]
     },
     "metadata": {},
     "output_type": "display_data"
    }
   ],
   "source": [
    "test2 = preimputed_df %>%\n",
    "    filter(HAWC_ID == study_id[1])\n",
    "test2\n",
    "QRILC_imputation(test2)"
   ]
  },
  {
   "cell_type": "code",
   "execution_count": null,
   "id": "314ef5bc-fa29-430f-a0bd-1516e39cbd97",
   "metadata": {},
   "outputs": [],
   "source": []
  }
 ],
 "metadata": {
  "kernelspec": {
   "display_name": "R",
   "language": "R",
   "name": "ir"
  },
  "language_info": {
   "codemirror_mode": "r",
   "file_extension": ".r",
   "mimetype": "text/x-r-source",
   "name": "R",
   "pygments_lexer": "r",
   "version": "4.3.1"
  }
 },
 "nbformat": 4,
 "nbformat_minor": 5
}
