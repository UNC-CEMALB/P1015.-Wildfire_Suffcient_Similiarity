{
 "cells": [
  {
   "cell_type": "code",
   "execution_count": 1,
   "id": "dbfb736a-bc97-4a2f-96f6-553aa3c90c5b",
   "metadata": {},
   "outputs": [
    {
     "name": "stderr",
     "output_type": "stream",
     "text": [
      "── \u001b[1mAttaching core tidyverse packages\u001b[22m ──────────────────────── tidyverse 2.0.0 ──\n",
      "\u001b[32m✔\u001b[39m \u001b[34mdplyr    \u001b[39m 1.1.3     \u001b[32m✔\u001b[39m \u001b[34mreadr    \u001b[39m 2.1.4\n",
      "\u001b[32m✔\u001b[39m \u001b[34mforcats  \u001b[39m 1.0.0     \u001b[32m✔\u001b[39m \u001b[34mstringr  \u001b[39m 1.5.0\n",
      "\u001b[32m✔\u001b[39m \u001b[34mggplot2  \u001b[39m 3.4.3     \u001b[32m✔\u001b[39m \u001b[34mtibble   \u001b[39m 3.2.1\n",
      "\u001b[32m✔\u001b[39m \u001b[34mlubridate\u001b[39m 1.9.2     \u001b[32m✔\u001b[39m \u001b[34mtidyr    \u001b[39m 1.3.0\n",
      "\u001b[32m✔\u001b[39m \u001b[34mpurrr    \u001b[39m 1.0.2     \n",
      "── \u001b[1mConflicts\u001b[22m ────────────────────────────────────────── tidyverse_conflicts() ──\n",
      "\u001b[31m✖\u001b[39m \u001b[34mdplyr\u001b[39m::\u001b[32mfilter()\u001b[39m masks \u001b[34mstats\u001b[39m::filter()\n",
      "\u001b[31m✖\u001b[39m \u001b[34mdplyr\u001b[39m::\u001b[32mlag()\u001b[39m    masks \u001b[34mstats\u001b[39m::lag()\n",
      "\u001b[36mℹ\u001b[39m Use the conflicted package (\u001b[3m\u001b[34m<http://conflicted.r-lib.org/>\u001b[39m\u001b[23m) to force all conflicts to become errors\n",
      "Loading required package: tmvtnorm\n",
      "\n",
      "Loading required package: mvtnorm\n",
      "\n",
      "Loading required package: Matrix\n",
      "\n",
      "\n",
      "Attaching package: ‘Matrix’\n",
      "\n",
      "\n",
      "The following objects are masked from ‘package:tidyr’:\n",
      "\n",
      "    expand, pack, unpack\n",
      "\n",
      "\n",
      "Loading required package: stats4\n",
      "\n",
      "Loading required package: gmm\n",
      "\n",
      "Loading required package: sandwich\n",
      "\n",
      "Loading required package: norm\n",
      "\n",
      "This package has some major limitations\n",
      "(for example, it does not work reliably when\n",
      "the number of variables exceeds 30),\n",
      "and has been superseded by the norm2 package.\n",
      "\n",
      "Loading required package: pcaMethods\n",
      "\n",
      "Loading required package: Biobase\n",
      "\n",
      "Loading required package: BiocGenerics\n",
      "\n",
      "\n",
      "Attaching package: ‘BiocGenerics’\n",
      "\n",
      "\n",
      "The following objects are masked from ‘package:lubridate’:\n",
      "\n",
      "    intersect, setdiff, union\n",
      "\n",
      "\n",
      "The following objects are masked from ‘package:dplyr’:\n",
      "\n",
      "    combine, intersect, setdiff, union\n",
      "\n",
      "\n",
      "The following objects are masked from ‘package:stats’:\n",
      "\n",
      "    IQR, mad, sd, var, xtabs\n",
      "\n",
      "\n",
      "The following objects are masked from ‘package:base’:\n",
      "\n",
      "    anyDuplicated, aperm, append, as.data.frame, basename, cbind,\n",
      "    colnames, dirname, do.call, duplicated, eval, evalq, Filter, Find,\n",
      "    get, grep, grepl, intersect, is.unsorted, lapply, Map, mapply,\n",
      "    match, mget, order, paste, pmax, pmax.int, pmin, pmin.int,\n",
      "    Position, rank, rbind, Reduce, rownames, sapply, setdiff, sort,\n",
      "    table, tapply, union, unique, unsplit, which.max, which.min\n",
      "\n",
      "\n",
      "Welcome to Bioconductor\n",
      "\n",
      "    Vignettes contain introductory material; view with\n",
      "    'browseVignettes()'. To cite Bioconductor, see\n",
      "    'citation(\"Biobase\")', and for packages 'citation(\"pkgname\")'.\n",
      "\n",
      "\n",
      "\n",
      "Attaching package: ‘pcaMethods’\n",
      "\n",
      "\n",
      "The following object is masked from ‘package:stats’:\n",
      "\n",
      "    loadings\n",
      "\n",
      "\n",
      "Loading required package: impute\n",
      "\n",
      "Welcome! Want to learn more? See two factoextra-related books at https://goo.gl/ve3WBa\n",
      "\n"
     ]
    }
   ],
   "source": [
    "Output = '/Users/alexis/Library/CloudStorage/OneDrive-UniversityofNorthCarolinaatChapelHill/CEMALB_DataAnalysisPM/Projects/P1015. Fire Sufficient Similarity/3. Analyses/2. Data Processing/Output'\n",
    "cur_date = '013025'\n",
    "\n",
    "library(missForest)\n",
    "library(readxl)\n",
    "library(tidyverse)\n",
    "library(imputeLCMD)\n",
    "library(factoextra)\n",
    "# library(vegan)\n",
    "# library(preprocessCore)\n",
    "\n",
    "# reading in files\n",
    "ws_df = data.frame(Data = 'WS', read_excel(\"Input/Woodsmoke_Data_012825.xlsx\", sheet = 2)) %>%\n",
    "    # removing extra replicates for samples that weren't measured at all\n",
    "    filter(Value == 'NA' & Replicate == 1 | Value != 'NA') %>%\n",
    "    select(-Sample_Number)\n",
    "wf_df = data.frame(Data = 'WF', read_excel(\"Input/Wildfire_Data_012825.xlsx\", sheet = 2)) %>%\n",
    "    # removing extra replicates for samples that weren't measured at all\n",
    "    filter(Value == 'NA' & Replicate == 1 | Value != 'NA') %>%\n",
    "    select(-Sample_Number)"
   ]
  },
  {
   "cell_type": "code",
   "execution_count": 2,
   "id": "73a7d5c4-8e2a-4ab5-b13b-046bc35d412e",
   "metadata": {},
   "outputs": [
    {
     "data": {
      "text/html": [
       "<table class=\"dataframe\">\n",
       "<caption>A data.frame: 6 × 9</caption>\n",
       "<thead>\n",
       "\t<tr><th></th><th scope=col>Data</th><th scope=col>HAWC_ID</th><th scope=col>Study</th><th scope=col>Replicate</th><th scope=col>Chemical_Class</th><th scope=col>Metric</th><th scope=col>DTXSID</th><th scope=col>Name</th><th scope=col>Value</th></tr>\n",
       "\t<tr><th></th><th scope=col>&lt;chr&gt;</th><th scope=col>&lt;dbl&gt;</th><th scope=col>&lt;chr&gt;</th><th scope=col>&lt;dbl&gt;</th><th scope=col>&lt;chr&gt;</th><th scope=col>&lt;chr&gt;</th><th scope=col>&lt;chr&gt;</th><th scope=col>&lt;chr&gt;</th><th scope=col>&lt;chr&gt;</th></tr>\n",
       "</thead>\n",
       "<tbody>\n",
       "\t<tr><th scope=row>1</th><td>WS</td><td> 821855</td><td>Erlandsson et al. 2020  </td><td>1</td><td>PAH</td><td>Weight</td><td>DTXSID3074787</td><td>1-Methylanthracene</td><td>11.3              </td></tr>\n",
       "\t<tr><th scope=row>2</th><td>WS</td><td> 821855</td><td>Erlandsson et al. 2020  </td><td>1</td><td>PAH</td><td>Weight</td><td>DTXSID3074787</td><td>1-Methylanthracene</td><td>2.2999999999999998</td></tr>\n",
       "\t<tr><th scope=row>3</th><td>WS</td><td>1257056</td><td>McCarrick et al. 2024   </td><td>1</td><td>PAH</td><td>Weight</td><td>DTXSID3074787</td><td>1-Methylanthracene</td><td>1.66              </td></tr>\n",
       "\t<tr><th scope=row>4</th><td>WS</td><td> 267140</td><td>Alfheim and Ramdahl 1984</td><td>1</td><td>PAH</td><td>Volume</td><td>DTXSID3074787</td><td>1-Methylanthracene</td><td>NA                </td></tr>\n",
       "\t<tr><th scope=row>5</th><td>WS</td><td>1263480</td><td>Burnet et al. 1990      </td><td>1</td><td>PAH</td><td>Volume</td><td>DTXSID3074787</td><td>1-Methylanthracene</td><td>NA                </td></tr>\n",
       "\t<tr><th scope=row>6</th><td>WS</td><td> 267091</td><td>Forchhammer et al. 2012 </td><td>1</td><td>PAH</td><td>Volume</td><td>DTXSID3074787</td><td>1-Methylanthracene</td><td>NA                </td></tr>\n",
       "</tbody>\n",
       "</table>\n"
      ],
      "text/latex": [
       "A data.frame: 6 × 9\n",
       "\\begin{tabular}{r|lllllllll}\n",
       "  & Data & HAWC\\_ID & Study & Replicate & Chemical\\_Class & Metric & DTXSID & Name & Value\\\\\n",
       "  & <chr> & <dbl> & <chr> & <dbl> & <chr> & <chr> & <chr> & <chr> & <chr>\\\\\n",
       "\\hline\n",
       "\t1 & WS &  821855 & Erlandsson et al. 2020   & 1 & PAH & Weight & DTXSID3074787 & 1-Methylanthracene & 11.3              \\\\\n",
       "\t2 & WS &  821855 & Erlandsson et al. 2020   & 1 & PAH & Weight & DTXSID3074787 & 1-Methylanthracene & 2.2999999999999998\\\\\n",
       "\t3 & WS & 1257056 & McCarrick et al. 2024    & 1 & PAH & Weight & DTXSID3074787 & 1-Methylanthracene & 1.66              \\\\\n",
       "\t4 & WS &  267140 & Alfheim and Ramdahl 1984 & 1 & PAH & Volume & DTXSID3074787 & 1-Methylanthracene & NA                \\\\\n",
       "\t5 & WS & 1263480 & Burnet et al. 1990       & 1 & PAH & Volume & DTXSID3074787 & 1-Methylanthracene & NA                \\\\\n",
       "\t6 & WS &  267091 & Forchhammer et al. 2012  & 1 & PAH & Volume & DTXSID3074787 & 1-Methylanthracene & NA                \\\\\n",
       "\\end{tabular}\n"
      ],
      "text/markdown": [
       "\n",
       "A data.frame: 6 × 9\n",
       "\n",
       "| <!--/--> | Data &lt;chr&gt; | HAWC_ID &lt;dbl&gt; | Study &lt;chr&gt; | Replicate &lt;dbl&gt; | Chemical_Class &lt;chr&gt; | Metric &lt;chr&gt; | DTXSID &lt;chr&gt; | Name &lt;chr&gt; | Value &lt;chr&gt; |\n",
       "|---|---|---|---|---|---|---|---|---|---|\n",
       "| 1 | WS |  821855 | Erlandsson et al. 2020   | 1 | PAH | Weight | DTXSID3074787 | 1-Methylanthracene | 11.3               |\n",
       "| 2 | WS |  821855 | Erlandsson et al. 2020   | 1 | PAH | Weight | DTXSID3074787 | 1-Methylanthracene | 2.2999999999999998 |\n",
       "| 3 | WS | 1257056 | McCarrick et al. 2024    | 1 | PAH | Weight | DTXSID3074787 | 1-Methylanthracene | 1.66               |\n",
       "| 4 | WS |  267140 | Alfheim and Ramdahl 1984 | 1 | PAH | Volume | DTXSID3074787 | 1-Methylanthracene | NA                 |\n",
       "| 5 | WS | 1263480 | Burnet et al. 1990       | 1 | PAH | Volume | DTXSID3074787 | 1-Methylanthracene | NA                 |\n",
       "| 6 | WS |  267091 | Forchhammer et al. 2012  | 1 | PAH | Volume | DTXSID3074787 | 1-Methylanthracene | NA                 |\n",
       "\n"
      ],
      "text/plain": [
       "  Data HAWC_ID Study                    Replicate Chemical_Class Metric\n",
       "1 WS    821855 Erlandsson et al. 2020   1         PAH            Weight\n",
       "2 WS    821855 Erlandsson et al. 2020   1         PAH            Weight\n",
       "3 WS   1257056 McCarrick et al. 2024    1         PAH            Weight\n",
       "4 WS    267140 Alfheim and Ramdahl 1984 1         PAH            Volume\n",
       "5 WS   1263480 Burnet et al. 1990       1         PAH            Volume\n",
       "6 WS    267091 Forchhammer et al. 2012  1         PAH            Volume\n",
       "  DTXSID        Name               Value             \n",
       "1 DTXSID3074787 1-Methylanthracene 11.3              \n",
       "2 DTXSID3074787 1-Methylanthracene 2.2999999999999998\n",
       "3 DTXSID3074787 1-Methylanthracene 1.66              \n",
       "4 DTXSID3074787 1-Methylanthracene NA                \n",
       "5 DTXSID3074787 1-Methylanthracene NA                \n",
       "6 DTXSID3074787 1-Methylanthracene NA                "
      ]
     },
     "metadata": {},
     "output_type": "display_data"
    },
    {
     "data": {
      "text/html": [
       "<table class=\"dataframe\">\n",
       "<caption>A data.frame: 6 × 9</caption>\n",
       "<thead>\n",
       "\t<tr><th></th><th scope=col>Data</th><th scope=col>HAWC_ID</th><th scope=col>Study</th><th scope=col>Replicate</th><th scope=col>Chemical_Class</th><th scope=col>Metric</th><th scope=col>DTXSID</th><th scope=col>Name</th><th scope=col>Value</th></tr>\n",
       "\t<tr><th></th><th scope=col>&lt;chr&gt;</th><th scope=col>&lt;dbl&gt;</th><th scope=col>&lt;chr&gt;</th><th scope=col>&lt;dbl&gt;</th><th scope=col>&lt;chr&gt;</th><th scope=col>&lt;chr&gt;</th><th scope=col>&lt;chr&gt;</th><th scope=col>&lt;chr&gt;</th><th scope=col>&lt;chr&gt;</th></tr>\n",
       "</thead>\n",
       "<tbody>\n",
       "\t<tr><th scope=row>1</th><td>WF</td><td>1289821</td><td>Liang et al. 2021   </td><td>1</td><td>PAH</td><td>Volume</td><td>NA            </td><td>1-(10-methylanthracen-9-yl)ethanone</td><td>5 </td></tr>\n",
       "\t<tr><th scope=row>2</th><td>WF</td><td>1289821</td><td>Liang et al. 2021   </td><td>1</td><td>PAH</td><td>Volume</td><td>DTXSID50176885</td><td>1-Acenaphthenone                   </td><td>1 </td></tr>\n",
       "\t<tr><th scope=row>3</th><td>WF</td><td>1289737</td><td>Campbell et al. 2024</td><td>1</td><td>PAH</td><td>Weight</td><td>DTXSID1074759 </td><td>1-Methylchrysene                   </td><td>NA</td></tr>\n",
       "\t<tr><th scope=row>4</th><td>WF</td><td>1289739</td><td>Campos et al. 2019  </td><td>1</td><td>PAH</td><td>Weight</td><td>DTXSID1074759 </td><td>1-Methylchrysene                   </td><td>NA</td></tr>\n",
       "\t<tr><th scope=row>5</th><td>WF</td><td>1289777</td><td>Harper et al. 2019  </td><td>1</td><td>PAH</td><td>Weight</td><td>DTXSID1074759 </td><td>1-Methylchrysene                   </td><td>NA</td></tr>\n",
       "\t<tr><th scope=row>6</th><td>WF</td><td> 981013</td><td>Jalava et al. 2006  </td><td>1</td><td>PAH</td><td>Weight</td><td>DTXSID1074759 </td><td>1-Methylchrysene                   </td><td>NA</td></tr>\n",
       "</tbody>\n",
       "</table>\n"
      ],
      "text/latex": [
       "A data.frame: 6 × 9\n",
       "\\begin{tabular}{r|lllllllll}\n",
       "  & Data & HAWC\\_ID & Study & Replicate & Chemical\\_Class & Metric & DTXSID & Name & Value\\\\\n",
       "  & <chr> & <dbl> & <chr> & <dbl> & <chr> & <chr> & <chr> & <chr> & <chr>\\\\\n",
       "\\hline\n",
       "\t1 & WF & 1289821 & Liang et al. 2021    & 1 & PAH & Volume & NA             & 1-(10-methylanthracen-9-yl)ethanone & 5 \\\\\n",
       "\t2 & WF & 1289821 & Liang et al. 2021    & 1 & PAH & Volume & DTXSID50176885 & 1-Acenaphthenone                    & 1 \\\\\n",
       "\t3 & WF & 1289737 & Campbell et al. 2024 & 1 & PAH & Weight & DTXSID1074759  & 1-Methylchrysene                    & NA\\\\\n",
       "\t4 & WF & 1289739 & Campos et al. 2019   & 1 & PAH & Weight & DTXSID1074759  & 1-Methylchrysene                    & NA\\\\\n",
       "\t5 & WF & 1289777 & Harper et al. 2019   & 1 & PAH & Weight & DTXSID1074759  & 1-Methylchrysene                    & NA\\\\\n",
       "\t6 & WF &  981013 & Jalava et al. 2006   & 1 & PAH & Weight & DTXSID1074759  & 1-Methylchrysene                    & NA\\\\\n",
       "\\end{tabular}\n"
      ],
      "text/markdown": [
       "\n",
       "A data.frame: 6 × 9\n",
       "\n",
       "| <!--/--> | Data &lt;chr&gt; | HAWC_ID &lt;dbl&gt; | Study &lt;chr&gt; | Replicate &lt;dbl&gt; | Chemical_Class &lt;chr&gt; | Metric &lt;chr&gt; | DTXSID &lt;chr&gt; | Name &lt;chr&gt; | Value &lt;chr&gt; |\n",
       "|---|---|---|---|---|---|---|---|---|---|\n",
       "| 1 | WF | 1289821 | Liang et al. 2021    | 1 | PAH | Volume | NA             | 1-(10-methylanthracen-9-yl)ethanone | 5  |\n",
       "| 2 | WF | 1289821 | Liang et al. 2021    | 1 | PAH | Volume | DTXSID50176885 | 1-Acenaphthenone                    | 1  |\n",
       "| 3 | WF | 1289737 | Campbell et al. 2024 | 1 | PAH | Weight | DTXSID1074759  | 1-Methylchrysene                    | NA |\n",
       "| 4 | WF | 1289739 | Campos et al. 2019   | 1 | PAH | Weight | DTXSID1074759  | 1-Methylchrysene                    | NA |\n",
       "| 5 | WF | 1289777 | Harper et al. 2019   | 1 | PAH | Weight | DTXSID1074759  | 1-Methylchrysene                    | NA |\n",
       "| 6 | WF |  981013 | Jalava et al. 2006   | 1 | PAH | Weight | DTXSID1074759  | 1-Methylchrysene                    | NA |\n",
       "\n"
      ],
      "text/plain": [
       "  Data HAWC_ID Study                Replicate Chemical_Class Metric\n",
       "1 WF   1289821 Liang et al. 2021    1         PAH            Volume\n",
       "2 WF   1289821 Liang et al. 2021    1         PAH            Volume\n",
       "3 WF   1289737 Campbell et al. 2024 1         PAH            Weight\n",
       "4 WF   1289739 Campos et al. 2019   1         PAH            Weight\n",
       "5 WF   1289777 Harper et al. 2019   1         PAH            Weight\n",
       "6 WF    981013 Jalava et al. 2006   1         PAH            Weight\n",
       "  DTXSID         Name                                Value\n",
       "1 NA             1-(10-methylanthracen-9-yl)ethanone 5    \n",
       "2 DTXSID50176885 1-Acenaphthenone                    1    \n",
       "3 DTXSID1074759  1-Methylchrysene                    NA   \n",
       "4 DTXSID1074759  1-Methylchrysene                    NA   \n",
       "5 DTXSID1074759  1-Methylchrysene                    NA   \n",
       "6 DTXSID1074759  1-Methylchrysene                    NA   "
      ]
     },
     "metadata": {},
     "output_type": "display_data"
    }
   ],
   "source": [
    "head(ws_df)\n",
    "head(wf_df)"
   ]
  },
  {
   "cell_type": "markdown",
   "id": "2d3fd322-09f3-4b74-bb25-5246b71f726a",
   "metadata": {},
   "source": [
    "First need to save the non-detect data."
   ]
  },
  {
   "cell_type": "code",
   "execution_count": 3,
   "id": "a009d62c-4588-46aa-92ca-5b54c475fc69",
   "metadata": {},
   "outputs": [
    {
     "data": {
      "text/html": [
       "<table class=\"dataframe\">\n",
       "<caption>A data.frame: 6 × 9</caption>\n",
       "<thead>\n",
       "\t<tr><th></th><th scope=col>Data</th><th scope=col>HAWC_ID</th><th scope=col>Study</th><th scope=col>Replicate</th><th scope=col>Chemical_Class</th><th scope=col>Metric</th><th scope=col>DTXSID</th><th scope=col>Name</th><th scope=col>Value</th></tr>\n",
       "\t<tr><th></th><th scope=col>&lt;chr&gt;</th><th scope=col>&lt;dbl&gt;</th><th scope=col>&lt;chr&gt;</th><th scope=col>&lt;dbl&gt;</th><th scope=col>&lt;chr&gt;</th><th scope=col>&lt;chr&gt;</th><th scope=col>&lt;chr&gt;</th><th scope=col>&lt;chr&gt;</th><th scope=col>&lt;chr&gt;</th></tr>\n",
       "</thead>\n",
       "<tbody>\n",
       "\t<tr><th scope=row>1</th><td>WS</td><td>821855</td><td>Erlandsson et al. 2020</td><td>1</td><td>PAH</td><td>Weight</td><td>DTXSID9020877</td><td>1-Methylnaphthalene </td><td>ND</td></tr>\n",
       "\t<tr><th scope=row>2</th><td>WS</td><td>299223</td><td>Kasurinen et al. 2015 </td><td>2</td><td>PAH</td><td>Weight</td><td>DTXSID9020877</td><td>1-Methylphenanthrene</td><td>ND</td></tr>\n",
       "\t<tr><th scope=row>3</th><td>WS</td><td>299223</td><td>Kasurinen et al. 2015 </td><td>3</td><td>PAH</td><td>Weight</td><td>DTXSID9020877</td><td>1-Methylphenanthrene</td><td>ND</td></tr>\n",
       "\t<tr><th scope=row>4</th><td>WS</td><td>429188</td><td>Kasurinen et al. 2018 </td><td>4</td><td>PAH</td><td>Weight</td><td>DTXSID0025654</td><td>1-Methylpyrene      </td><td>ND</td></tr>\n",
       "\t<tr><th scope=row>5</th><td>WS</td><td>821855</td><td>Erlandsson et al. 2020</td><td>1</td><td>PAH</td><td>Weight</td><td>DTXSID4020878</td><td>2-Methylnaphthalene </td><td>ND</td></tr>\n",
       "\t<tr><th scope=row>6</th><td>WS</td><td>821855</td><td>Erlandsson et al. 2020</td><td>2</td><td>PAH</td><td>Weight</td><td>DTXSID4020878</td><td>2-Methylnaphthalene </td><td>ND</td></tr>\n",
       "</tbody>\n",
       "</table>\n"
      ],
      "text/latex": [
       "A data.frame: 6 × 9\n",
       "\\begin{tabular}{r|lllllllll}\n",
       "  & Data & HAWC\\_ID & Study & Replicate & Chemical\\_Class & Metric & DTXSID & Name & Value\\\\\n",
       "  & <chr> & <dbl> & <chr> & <dbl> & <chr> & <chr> & <chr> & <chr> & <chr>\\\\\n",
       "\\hline\n",
       "\t1 & WS & 821855 & Erlandsson et al. 2020 & 1 & PAH & Weight & DTXSID9020877 & 1-Methylnaphthalene  & ND\\\\\n",
       "\t2 & WS & 299223 & Kasurinen et al. 2015  & 2 & PAH & Weight & DTXSID9020877 & 1-Methylphenanthrene & ND\\\\\n",
       "\t3 & WS & 299223 & Kasurinen et al. 2015  & 3 & PAH & Weight & DTXSID9020877 & 1-Methylphenanthrene & ND\\\\\n",
       "\t4 & WS & 429188 & Kasurinen et al. 2018  & 4 & PAH & Weight & DTXSID0025654 & 1-Methylpyrene       & ND\\\\\n",
       "\t5 & WS & 821855 & Erlandsson et al. 2020 & 1 & PAH & Weight & DTXSID4020878 & 2-Methylnaphthalene  & ND\\\\\n",
       "\t6 & WS & 821855 & Erlandsson et al. 2020 & 2 & PAH & Weight & DTXSID4020878 & 2-Methylnaphthalene  & ND\\\\\n",
       "\\end{tabular}\n"
      ],
      "text/markdown": [
       "\n",
       "A data.frame: 6 × 9\n",
       "\n",
       "| <!--/--> | Data &lt;chr&gt; | HAWC_ID &lt;dbl&gt; | Study &lt;chr&gt; | Replicate &lt;dbl&gt; | Chemical_Class &lt;chr&gt; | Metric &lt;chr&gt; | DTXSID &lt;chr&gt; | Name &lt;chr&gt; | Value &lt;chr&gt; |\n",
       "|---|---|---|---|---|---|---|---|---|---|\n",
       "| 1 | WS | 821855 | Erlandsson et al. 2020 | 1 | PAH | Weight | DTXSID9020877 | 1-Methylnaphthalene  | ND |\n",
       "| 2 | WS | 299223 | Kasurinen et al. 2015  | 2 | PAH | Weight | DTXSID9020877 | 1-Methylphenanthrene | ND |\n",
       "| 3 | WS | 299223 | Kasurinen et al. 2015  | 3 | PAH | Weight | DTXSID9020877 | 1-Methylphenanthrene | ND |\n",
       "| 4 | WS | 429188 | Kasurinen et al. 2018  | 4 | PAH | Weight | DTXSID0025654 | 1-Methylpyrene       | ND |\n",
       "| 5 | WS | 821855 | Erlandsson et al. 2020 | 1 | PAH | Weight | DTXSID4020878 | 2-Methylnaphthalene  | ND |\n",
       "| 6 | WS | 821855 | Erlandsson et al. 2020 | 2 | PAH | Weight | DTXSID4020878 | 2-Methylnaphthalene  | ND |\n",
       "\n"
      ],
      "text/plain": [
       "  Data HAWC_ID Study                  Replicate Chemical_Class Metric\n",
       "1 WS   821855  Erlandsson et al. 2020 1         PAH            Weight\n",
       "2 WS   299223  Kasurinen et al. 2015  2         PAH            Weight\n",
       "3 WS   299223  Kasurinen et al. 2015  3         PAH            Weight\n",
       "4 WS   429188  Kasurinen et al. 2018  4         PAH            Weight\n",
       "5 WS   821855  Erlandsson et al. 2020 1         PAH            Weight\n",
       "6 WS   821855  Erlandsson et al. 2020 2         PAH            Weight\n",
       "  DTXSID        Name                 Value\n",
       "1 DTXSID9020877 1-Methylnaphthalene  ND   \n",
       "2 DTXSID9020877 1-Methylphenanthrene ND   \n",
       "3 DTXSID9020877 1-Methylphenanthrene ND   \n",
       "4 DTXSID0025654 1-Methylpyrene       ND   \n",
       "5 DTXSID4020878 2-Methylnaphthalene  ND   \n",
       "6 DTXSID4020878 2-Methylnaphthalene  ND   "
      ]
     },
     "metadata": {},
     "output_type": "display_data"
    }
   ],
   "source": [
    "nd_ws_df = ws_df %>%\n",
    "    filter(Value == 'ND') %>%\n",
    "    unique()\n",
    "\n",
    "head(nd_ws_df)"
   ]
  },
  {
   "cell_type": "markdown",
   "id": "38fa1e02-9f71-4378-a78f-90f5591ab77b",
   "metadata": {},
   "source": [
    "# Chemical/Metal Background Filter\n",
    "\n",
    "Determining what variables have missing data for all variables delineated based on the dfs the data will be split into and analyzed. A variable will be removed if it has less than 50% of woodsmoke (WS) and wildfire (WF) experimental and/or non-detect data."
   ]
  },
  {
   "cell_type": "code",
   "execution_count": 4,
   "id": "d9ba0841-95c0-4dfc-a8de-480550341718",
   "metadata": {},
   "outputs": [
    {
     "data": {
      "text/html": [
       "<table class=\"dataframe\">\n",
       "<caption>A data.frame: 6 × 9</caption>\n",
       "<thead>\n",
       "\t<tr><th></th><th scope=col>Data</th><th scope=col>HAWC_ID</th><th scope=col>Study</th><th scope=col>Replicate</th><th scope=col>Chemical_Class</th><th scope=col>Metric</th><th scope=col>DTXSID</th><th scope=col>Name</th><th scope=col>Value</th></tr>\n",
       "\t<tr><th></th><th scope=col>&lt;chr&gt;</th><th scope=col>&lt;dbl&gt;</th><th scope=col>&lt;chr&gt;</th><th scope=col>&lt;dbl&gt;</th><th scope=col>&lt;chr&gt;</th><th scope=col>&lt;chr&gt;</th><th scope=col>&lt;chr&gt;</th><th scope=col>&lt;chr&gt;</th><th scope=col>&lt;chr&gt;</th></tr>\n",
       "</thead>\n",
       "<tbody>\n",
       "\t<tr><th scope=row>1</th><td>WS</td><td> 821855</td><td>Erlandsson et al. 2020  </td><td>1</td><td>PAH</td><td>Weight</td><td>DTXSID3074787</td><td>1-Methylanthracene</td><td>11.3              </td></tr>\n",
       "\t<tr><th scope=row>2</th><td>WS</td><td> 821855</td><td>Erlandsson et al. 2020  </td><td>1</td><td>PAH</td><td>Weight</td><td>DTXSID3074787</td><td>1-Methylanthracene</td><td>2.2999999999999998</td></tr>\n",
       "\t<tr><th scope=row>3</th><td>WS</td><td>1257056</td><td>McCarrick et al. 2024   </td><td>1</td><td>PAH</td><td>Weight</td><td>DTXSID3074787</td><td>1-Methylanthracene</td><td>1.66              </td></tr>\n",
       "\t<tr><th scope=row>4</th><td>WS</td><td> 267140</td><td>Alfheim and Ramdahl 1984</td><td>1</td><td>PAH</td><td>Volume</td><td>DTXSID3074787</td><td>1-Methylanthracene</td><td>NA                </td></tr>\n",
       "\t<tr><th scope=row>5</th><td>WS</td><td>1263480</td><td>Burnet et al. 1990      </td><td>1</td><td>PAH</td><td>Volume</td><td>DTXSID3074787</td><td>1-Methylanthracene</td><td>NA                </td></tr>\n",
       "\t<tr><th scope=row>6</th><td>WS</td><td> 267091</td><td>Forchhammer et al. 2012 </td><td>1</td><td>PAH</td><td>Volume</td><td>DTXSID3074787</td><td>1-Methylanthracene</td><td>NA                </td></tr>\n",
       "</tbody>\n",
       "</table>\n"
      ],
      "text/latex": [
       "A data.frame: 6 × 9\n",
       "\\begin{tabular}{r|lllllllll}\n",
       "  & Data & HAWC\\_ID & Study & Replicate & Chemical\\_Class & Metric & DTXSID & Name & Value\\\\\n",
       "  & <chr> & <dbl> & <chr> & <dbl> & <chr> & <chr> & <chr> & <chr> & <chr>\\\\\n",
       "\\hline\n",
       "\t1 & WS &  821855 & Erlandsson et al. 2020   & 1 & PAH & Weight & DTXSID3074787 & 1-Methylanthracene & 11.3              \\\\\n",
       "\t2 & WS &  821855 & Erlandsson et al. 2020   & 1 & PAH & Weight & DTXSID3074787 & 1-Methylanthracene & 2.2999999999999998\\\\\n",
       "\t3 & WS & 1257056 & McCarrick et al. 2024    & 1 & PAH & Weight & DTXSID3074787 & 1-Methylanthracene & 1.66              \\\\\n",
       "\t4 & WS &  267140 & Alfheim and Ramdahl 1984 & 1 & PAH & Volume & DTXSID3074787 & 1-Methylanthracene & NA                \\\\\n",
       "\t5 & WS & 1263480 & Burnet et al. 1990       & 1 & PAH & Volume & DTXSID3074787 & 1-Methylanthracene & NA                \\\\\n",
       "\t6 & WS &  267091 & Forchhammer et al. 2012  & 1 & PAH & Volume & DTXSID3074787 & 1-Methylanthracene & NA                \\\\\n",
       "\\end{tabular}\n"
      ],
      "text/markdown": [
       "\n",
       "A data.frame: 6 × 9\n",
       "\n",
       "| <!--/--> | Data &lt;chr&gt; | HAWC_ID &lt;dbl&gt; | Study &lt;chr&gt; | Replicate &lt;dbl&gt; | Chemical_Class &lt;chr&gt; | Metric &lt;chr&gt; | DTXSID &lt;chr&gt; | Name &lt;chr&gt; | Value &lt;chr&gt; |\n",
       "|---|---|---|---|---|---|---|---|---|---|\n",
       "| 1 | WS |  821855 | Erlandsson et al. 2020   | 1 | PAH | Weight | DTXSID3074787 | 1-Methylanthracene | 11.3               |\n",
       "| 2 | WS |  821855 | Erlandsson et al. 2020   | 1 | PAH | Weight | DTXSID3074787 | 1-Methylanthracene | 2.2999999999999998 |\n",
       "| 3 | WS | 1257056 | McCarrick et al. 2024    | 1 | PAH | Weight | DTXSID3074787 | 1-Methylanthracene | 1.66               |\n",
       "| 4 | WS |  267140 | Alfheim and Ramdahl 1984 | 1 | PAH | Volume | DTXSID3074787 | 1-Methylanthracene | NA                 |\n",
       "| 5 | WS | 1263480 | Burnet et al. 1990       | 1 | PAH | Volume | DTXSID3074787 | 1-Methylanthracene | NA                 |\n",
       "| 6 | WS |  267091 | Forchhammer et al. 2012  | 1 | PAH | Volume | DTXSID3074787 | 1-Methylanthracene | NA                 |\n",
       "\n"
      ],
      "text/plain": [
       "  Data HAWC_ID Study                    Replicate Chemical_Class Metric\n",
       "1 WS    821855 Erlandsson et al. 2020   1         PAH            Weight\n",
       "2 WS    821855 Erlandsson et al. 2020   1         PAH            Weight\n",
       "3 WS   1257056 McCarrick et al. 2024    1         PAH            Weight\n",
       "4 WS    267140 Alfheim and Ramdahl 1984 1         PAH            Volume\n",
       "5 WS   1263480 Burnet et al. 1990       1         PAH            Volume\n",
       "6 WS    267091 Forchhammer et al. 2012  1         PAH            Volume\n",
       "  DTXSID        Name               Value             \n",
       "1 DTXSID3074787 1-Methylanthracene 11.3              \n",
       "2 DTXSID3074787 1-Methylanthracene 2.2999999999999998\n",
       "3 DTXSID3074787 1-Methylanthracene 1.66              \n",
       "4 DTXSID3074787 1-Methylanthracene NA                \n",
       "5 DTXSID3074787 1-Methylanthracene NA                \n",
       "6 DTXSID3074787 1-Methylanthracene NA                "
      ]
     },
     "metadata": {},
     "output_type": "display_data"
    }
   ],
   "source": [
    "# # changing cols to numeric\n",
    "# ws_df$Value = as.numeric(ws_df$Value)\n",
    "# wf_df$Value = as.numeric(wf_df$Value)\n",
    "\n",
    "# combining dfs\n",
    "combined_df = rbind(ws_df, wf_df)\n",
    "head(combined_df)"
   ]
  },
  {
   "cell_type": "code",
   "execution_count": 5,
   "id": "d7cb46a6-4543-4dfa-949a-58c261307882",
   "metadata": {},
   "outputs": [
    {
     "data": {
      "text/html": [
       "<table class=\"dataframe\">\n",
       "<caption>A tibble: 6 × 3</caption>\n",
       "<thead>\n",
       "\t<tr><th scope=col>Metric</th><th scope=col>Name</th><th scope=col>Variable_Presence_Percentage</th></tr>\n",
       "\t<tr><th scope=col>&lt;chr&gt;</th><th scope=col>&lt;chr&gt;</th><th scope=col>&lt;dbl&gt;</th></tr>\n",
       "</thead>\n",
       "<tbody>\n",
       "\t<tr><td>Volume</td><td>1,2,4-Trimethylbenzene    </td><td>100</td></tr>\n",
       "\t<tr><td>Volume</td><td>1,3,5-Trimethylbenzene    </td><td>100</td></tr>\n",
       "\t<tr><td>Volume</td><td>1,3-Dihydroxynaphthalene  </td><td>100</td></tr>\n",
       "\t<tr><td>Volume</td><td>1,4-Dichloro-2-butene, cis</td><td>100</td></tr>\n",
       "\t<tr><td>Volume</td><td>1,4-Dichlorobenzene       </td><td>100</td></tr>\n",
       "\t<tr><td>Volume</td><td>1,8-Dihydroxynaphthalene  </td><td>100</td></tr>\n",
       "</tbody>\n",
       "</table>\n"
      ],
      "text/latex": [
       "A tibble: 6 × 3\n",
       "\\begin{tabular}{lll}\n",
       " Metric & Name & Variable\\_Presence\\_Percentage\\\\\n",
       " <chr> & <chr> & <dbl>\\\\\n",
       "\\hline\n",
       "\t Volume & 1,2,4-Trimethylbenzene     & 100\\\\\n",
       "\t Volume & 1,3,5-Trimethylbenzene     & 100\\\\\n",
       "\t Volume & 1,3-Dihydroxynaphthalene   & 100\\\\\n",
       "\t Volume & 1,4-Dichloro-2-butene, cis & 100\\\\\n",
       "\t Volume & 1,4-Dichlorobenzene        & 100\\\\\n",
       "\t Volume & 1,8-Dihydroxynaphthalene   & 100\\\\\n",
       "\\end{tabular}\n"
      ],
      "text/markdown": [
       "\n",
       "A tibble: 6 × 3\n",
       "\n",
       "| Metric &lt;chr&gt; | Name &lt;chr&gt; | Variable_Presence_Percentage &lt;dbl&gt; |\n",
       "|---|---|---|\n",
       "| Volume | 1,2,4-Trimethylbenzene     | 100 |\n",
       "| Volume | 1,3,5-Trimethylbenzene     | 100 |\n",
       "| Volume | 1,3-Dihydroxynaphthalene   | 100 |\n",
       "| Volume | 1,4-Dichloro-2-butene, cis | 100 |\n",
       "| Volume | 1,4-Dichlorobenzene        | 100 |\n",
       "| Volume | 1,8-Dihydroxynaphthalene   | 100 |\n",
       "\n"
      ],
      "text/plain": [
       "  Metric Name                       Variable_Presence_Percentage\n",
       "1 Volume 1,2,4-Trimethylbenzene     100                         \n",
       "2 Volume 1,3,5-Trimethylbenzene     100                         \n",
       "3 Volume 1,3-Dihydroxynaphthalene   100                         \n",
       "4 Volume 1,4-Dichloro-2-butene, cis 100                         \n",
       "5 Volume 1,4-Dichlorobenzene        100                         \n",
       "6 Volume 1,8-Dihydroxynaphthalene   100                         "
      ]
     },
     "metadata": {},
     "output_type": "display_data"
    }
   ],
   "source": [
    "variable_presence_df = combined_df %>%\n",
    "    # if the value isn't MAR count it as being present\n",
    "    mutate(count = ifelse(Value != 'NA', 1, 0)) %>%\n",
    "    group_by(Metric, Name) %>%\n",
    "    # counting number of records for each variable\n",
    "    mutate(group_count = n()) %>%\n",
    "    # calculating the percentage of variables with data\n",
    "    reframe(Variable_Presence_Percentage = (sum(count)/group_count) * 100) %>%\n",
    "    arrange(-Variable_Presence_Percentage)\n",
    "\n",
    "# viewing data that passed the filter\n",
    "keep_variables_df = variable_presence_df %>%\n",
    "     filter(Variable_Presence_Percentage >= 50) %>%\n",
    "     unique()\n",
    "\n",
    "head(keep_variables_df)"
   ]
  },
  {
   "cell_type": "code",
   "execution_count": 6,
   "id": "86b71768-8adf-45d6-8d3d-581c3a7d1c80",
   "metadata": {},
   "outputs": [
    {
     "name": "stderr",
     "output_type": "stream",
     "text": [
      "\u001b[1m\u001b[22mJoining with `by = join_by(Metric, Name)`\n"
     ]
    },
    {
     "data": {
      "text/html": [
       "<table class=\"dataframe\">\n",
       "<caption>A tibble: 6 × 9</caption>\n",
       "<thead>\n",
       "\t<tr><th scope=col>Metric</th><th scope=col>Name</th><th scope=col>Data</th><th scope=col>HAWC_ID</th><th scope=col>Study</th><th scope=col>Replicate</th><th scope=col>Chemical_Class</th><th scope=col>DTXSID</th><th scope=col>Value</th></tr>\n",
       "\t<tr><th scope=col>&lt;chr&gt;</th><th scope=col>&lt;chr&gt;</th><th scope=col>&lt;chr&gt;</th><th scope=col>&lt;dbl&gt;</th><th scope=col>&lt;chr&gt;</th><th scope=col>&lt;dbl&gt;</th><th scope=col>&lt;chr&gt;</th><th scope=col>&lt;chr&gt;</th><th scope=col>&lt;chr&gt;</th></tr>\n",
       "</thead>\n",
       "<tbody>\n",
       "\t<tr><td>Volume</td><td>1,2,4-Trimethylbenzene    </td><td>WF</td><td>1289926</td><td>Wang et al. 2024       </td><td>1</td><td>VOC</td><td>DTXSID6021402 </td><td>730</td></tr>\n",
       "\t<tr><td>Volume</td><td>1,2,4-Trimethylbenzene    </td><td>WF</td><td>1306371</td><td>Ketcherside et al. 2024</td><td>1</td><td>VOC</td><td>DTXSID6021402 </td><td>130</td></tr>\n",
       "\t<tr><td>Volume</td><td>1,3,5-Trimethylbenzene    </td><td>WF</td><td>1289926</td><td>Wang et al. 2024       </td><td>1</td><td>VOC</td><td>DTXSID6026797 </td><td>330</td></tr>\n",
       "\t<tr><td>Volume</td><td>1,3,5-Trimethylbenzene    </td><td>WF</td><td>1306371</td><td>Ketcherside et al. 2024</td><td>1</td><td>VOC</td><td>DTXSID6026797 </td><td>110</td></tr>\n",
       "\t<tr><td>Volume</td><td>1,3-Dihydroxynaphthalene  </td><td>WF</td><td>1289821</td><td>Liang et al. 2021      </td><td>1</td><td>PAH</td><td>DTXSID40456587</td><td>6  </td></tr>\n",
       "\t<tr><td>Volume</td><td>1,4-Dichloro-2-butene, cis</td><td>WF</td><td>1289926</td><td>Wang et al. 2024       </td><td>1</td><td>VOC</td><td>DTXSID3027405 </td><td>230</td></tr>\n",
       "</tbody>\n",
       "</table>\n"
      ],
      "text/latex": [
       "A tibble: 6 × 9\n",
       "\\begin{tabular}{lllllllll}\n",
       " Metric & Name & Data & HAWC\\_ID & Study & Replicate & Chemical\\_Class & DTXSID & Value\\\\\n",
       " <chr> & <chr> & <chr> & <dbl> & <chr> & <dbl> & <chr> & <chr> & <chr>\\\\\n",
       "\\hline\n",
       "\t Volume & 1,2,4-Trimethylbenzene     & WF & 1289926 & Wang et al. 2024        & 1 & VOC & DTXSID6021402  & 730\\\\\n",
       "\t Volume & 1,2,4-Trimethylbenzene     & WF & 1306371 & Ketcherside et al. 2024 & 1 & VOC & DTXSID6021402  & 130\\\\\n",
       "\t Volume & 1,3,5-Trimethylbenzene     & WF & 1289926 & Wang et al. 2024        & 1 & VOC & DTXSID6026797  & 330\\\\\n",
       "\t Volume & 1,3,5-Trimethylbenzene     & WF & 1306371 & Ketcherside et al. 2024 & 1 & VOC & DTXSID6026797  & 110\\\\\n",
       "\t Volume & 1,3-Dihydroxynaphthalene   & WF & 1289821 & Liang et al. 2021       & 1 & PAH & DTXSID40456587 & 6  \\\\\n",
       "\t Volume & 1,4-Dichloro-2-butene, cis & WF & 1289926 & Wang et al. 2024        & 1 & VOC & DTXSID3027405  & 230\\\\\n",
       "\\end{tabular}\n"
      ],
      "text/markdown": [
       "\n",
       "A tibble: 6 × 9\n",
       "\n",
       "| Metric &lt;chr&gt; | Name &lt;chr&gt; | Data &lt;chr&gt; | HAWC_ID &lt;dbl&gt; | Study &lt;chr&gt; | Replicate &lt;dbl&gt; | Chemical_Class &lt;chr&gt; | DTXSID &lt;chr&gt; | Value &lt;chr&gt; |\n",
       "|---|---|---|---|---|---|---|---|---|\n",
       "| Volume | 1,2,4-Trimethylbenzene     | WF | 1289926 | Wang et al. 2024        | 1 | VOC | DTXSID6021402  | 730 |\n",
       "| Volume | 1,2,4-Trimethylbenzene     | WF | 1306371 | Ketcherside et al. 2024 | 1 | VOC | DTXSID6021402  | 130 |\n",
       "| Volume | 1,3,5-Trimethylbenzene     | WF | 1289926 | Wang et al. 2024        | 1 | VOC | DTXSID6026797  | 330 |\n",
       "| Volume | 1,3,5-Trimethylbenzene     | WF | 1306371 | Ketcherside et al. 2024 | 1 | VOC | DTXSID6026797  | 110 |\n",
       "| Volume | 1,3-Dihydroxynaphthalene   | WF | 1289821 | Liang et al. 2021       | 1 | PAH | DTXSID40456587 | 6   |\n",
       "| Volume | 1,4-Dichloro-2-butene, cis | WF | 1289926 | Wang et al. 2024        | 1 | VOC | DTXSID3027405  | 230 |\n",
       "\n"
      ],
      "text/plain": [
       "  Metric Name                       Data HAWC_ID Study                  \n",
       "1 Volume 1,2,4-Trimethylbenzene     WF   1289926 Wang et al. 2024       \n",
       "2 Volume 1,2,4-Trimethylbenzene     WF   1306371 Ketcherside et al. 2024\n",
       "3 Volume 1,3,5-Trimethylbenzene     WF   1289926 Wang et al. 2024       \n",
       "4 Volume 1,3,5-Trimethylbenzene     WF   1306371 Ketcherside et al. 2024\n",
       "5 Volume 1,3-Dihydroxynaphthalene   WF   1289821 Liang et al. 2021      \n",
       "6 Volume 1,4-Dichloro-2-butene, cis WF   1289926 Wang et al. 2024       \n",
       "  Replicate Chemical_Class DTXSID         Value\n",
       "1 1         VOC            DTXSID6021402  730  \n",
       "2 1         VOC            DTXSID6021402  130  \n",
       "3 1         VOC            DTXSID6026797  330  \n",
       "4 1         VOC            DTXSID6026797  110  \n",
       "5 1         PAH            DTXSID40456587 6    \n",
       "6 1         VOC            DTXSID3027405  230  "
      ]
     },
     "metadata": {},
     "output_type": "display_data"
    }
   ],
   "source": [
    "# only keeping records that passed the background filter\n",
    "filtered_df = inner_join(keep_variables_df[,1:2], combined_df)\n",
    "\n",
    "head(filtered_df)"
   ]
  },
  {
   "cell_type": "code",
   "execution_count": 7,
   "id": "606a93db-e66a-4d74-9b15-7b6f6d34b28c",
   "metadata": {},
   "outputs": [
    {
     "data": {
      "text/html": [
       "<style>\n",
       ".list-inline {list-style: none; margin:0; padding: 0}\n",
       ".list-inline>li {display: inline-block}\n",
       ".list-inline>li:not(:last-child)::after {content: \"\\00b7\"; padding: 0 .5ex}\n",
       "</style>\n",
       "<ol class=list-inline><li>6577</li><li>9</li></ol>\n"
      ],
      "text/latex": [
       "\\begin{enumerate*}\n",
       "\\item 6577\n",
       "\\item 9\n",
       "\\end{enumerate*}\n"
      ],
      "text/markdown": [
       "1. 6577\n",
       "2. 9\n",
       "\n",
       "\n"
      ],
      "text/plain": [
       "[1] 6577    9"
      ]
     },
     "metadata": {},
     "output_type": "display_data"
    },
    {
     "data": {
      "text/html": [
       "<style>\n",
       ".list-inline {list-style: none; margin:0; padding: 0}\n",
       ".list-inline>li {display: inline-block}\n",
       ".list-inline>li:not(:last-child)::after {content: \"\\00b7\"; padding: 0 .5ex}\n",
       "</style>\n",
       "<ol class=list-inline><li>5110</li><li>9</li></ol>\n"
      ],
      "text/latex": [
       "\\begin{enumerate*}\n",
       "\\item 5110\n",
       "\\item 9\n",
       "\\end{enumerate*}\n"
      ],
      "text/markdown": [
       "1. 5110\n",
       "2. 9\n",
       "\n",
       "\n"
      ],
      "text/plain": [
       "[1] 5110    9"
      ]
     },
     "metadata": {},
     "output_type": "display_data"
    }
   ],
   "source": [
    "dim(combined_df)\n",
    "dim(filtered_df)"
   ]
  },
  {
   "cell_type": "markdown",
   "id": "6fd63281-87c6-4702-9834-4ff5be768edd",
   "metadata": {},
   "source": [
    "Initially had 6577 samples or records, 1467 were removed, leaving 5110.\n",
    "\n",
    "# 2nd Variable Background Filter\n",
    "This time variables will be retained only if woodsmoke and wildfire samples are present within volume or weight samples."
   ]
  },
  {
   "cell_type": "code",
   "execution_count": 34,
   "id": "00ed4b32-8851-48f9-a680-c4277545ea8d",
   "metadata": {},
   "outputs": [],
   "source": [
    "split_filtered_df = filtered_df %>%\n",
    "    group_by(Data, Metric) %>%\n",
    "    group_split\n",
    "\n",
    "split_ws_vol_df = split_filtered_df[[3]]\n",
    "split_ws_weight_df = split_filtered_df[[4]]\n",
    "split_wf_vol_df = split_filtered_df[[1]]\n",
    "split_wf_weight_df = split_filtered_df[[2]]"
   ]
  },
  {
   "cell_type": "code",
   "execution_count": 35,
   "id": "c52b40df-d2c5-4604-8fa8-a5f31ad46df7",
   "metadata": {},
   "outputs": [
    {
     "data": {
      "text/html": [
       "97"
      ],
      "text/latex": [
       "97"
      ],
      "text/markdown": [
       "97"
      ],
      "text/plain": [
       "[1] 97"
      ]
     },
     "metadata": {},
     "output_type": "display_data"
    },
    {
     "data": {
      "text/html": [
       "82"
      ],
      "text/latex": [
       "82"
      ],
      "text/markdown": [
       "82"
      ],
      "text/plain": [
       "[1] 82"
      ]
     },
     "metadata": {},
     "output_type": "display_data"
    },
    {
     "data": {
      "text/html": [
       "82"
      ],
      "text/latex": [
       "82"
      ],
      "text/markdown": [
       "82"
      ],
      "text/plain": [
       "[1] 82"
      ]
     },
     "metadata": {},
     "output_type": "display_data"
    },
    {
     "data": {
      "text/html": [
       "77"
      ],
      "text/latex": [
       "77"
      ],
      "text/markdown": [
       "77"
      ],
      "text/plain": [
       "[1] 77"
      ]
     },
     "metadata": {},
     "output_type": "display_data"
    }
   ],
   "source": [
    "# seeing how many unique variables are in each df and if they're consistent in each file\n",
    "length(unique(split_ws_vol_df$Name))\n",
    "length(unique(split_wf_vol_df$Name))\n",
    "length(unique(split_ws_weight_df$Name))\n",
    "length(unique(split_wf_weight_df$Name))"
   ]
  },
  {
   "cell_type": "code",
   "execution_count": 37,
   "id": "97f266f6-d8ee-44ce-a9ab-cc96acfcbf2f",
   "metadata": {},
   "outputs": [
    {
     "data": {
      "text/html": [
       "52"
      ],
      "text/latex": [
       "52"
      ],
      "text/markdown": [
       "52"
      ],
      "text/plain": [
       "[1] 52"
      ]
     },
     "metadata": {},
     "output_type": "display_data"
    },
    {
     "data": {
      "text/html": [
       "52"
      ],
      "text/latex": [
       "52"
      ],
      "text/markdown": [
       "52"
      ],
      "text/plain": [
       "[1] 52"
      ]
     },
     "metadata": {},
     "output_type": "display_data"
    },
    {
     "data": {
      "text/html": [
       "53"
      ],
      "text/latex": [
       "53"
      ],
      "text/markdown": [
       "53"
      ],
      "text/plain": [
       "[1] 53"
      ]
     },
     "metadata": {},
     "output_type": "display_data"
    },
    {
     "data": {
      "text/html": [
       "53"
      ],
      "text/latex": [
       "53"
      ],
      "text/markdown": [
       "53"
      ],
      "text/plain": [
       "[1] 53"
      ]
     },
     "metadata": {},
     "output_type": "display_data"
    }
   ],
   "source": [
    "# they're not so first getting variables that are in weight or volume samples\n",
    "consistent_wf_vol_df = split_wf_vol_df %>%\n",
    "    filter(Name %in% unique(split_ws_vol_df$Name))\n",
    "consistent_ws_vol_df = split_ws_vol_df %>%\n",
    "    filter(Name %in% consistent_wf_vol_df$Name)\n",
    "consistent_wf_weight_df = split_wf_weight_df %>%\n",
    "    filter(Name %in% unique(split_ws_weight_df$Name))\n",
    "consistent_ws_weight_df = split_ws_weight_df %>%\n",
    "    filter(Name %in% consistent_wf_weight_df$Name)\n",
    "\n",
    "length(unique(consistent_wf_vol_df$Name))\n",
    "length(unique(consistent_ws_vol_df$Name))\n",
    "length(unique(consistent_wf_weight_df$Name))\n",
    "length(unique(consistent_ws_weight_df$Name))"
   ]
  },
  {
   "cell_type": "markdown",
   "id": "4b604def-71e1-482c-ab06-ed64e9e7d830",
   "metadata": {},
   "source": [
    "There were 97, 82, 82 and 77 woodsmoke weight, woodsmoke volume, wildfire weight, and wildfire volume samples, respectively. 52 variables were common between volume samples and 53 were common between weight records and will be retained."
   ]
  },
  {
   "cell_type": "code",
   "execution_count": 40,
   "id": "0d22def2-eb27-4093-8bbe-8a7c8082b9ce",
   "metadata": {},
   "outputs": [
    {
     "data": {
      "text/html": [
       "<table class=\"dataframe\">\n",
       "<caption>A tibble: 6 × 9</caption>\n",
       "<thead>\n",
       "\t<tr><th scope=col>Metric</th><th scope=col>Name</th><th scope=col>Data</th><th scope=col>HAWC_ID</th><th scope=col>Study</th><th scope=col>Replicate</th><th scope=col>Chemical_Class</th><th scope=col>DTXSID</th><th scope=col>Value</th></tr>\n",
       "\t<tr><th scope=col>&lt;chr&gt;</th><th scope=col>&lt;chr&gt;</th><th scope=col>&lt;chr&gt;</th><th scope=col>&lt;dbl&gt;</th><th scope=col>&lt;chr&gt;</th><th scope=col>&lt;dbl&gt;</th><th scope=col>&lt;chr&gt;</th><th scope=col>&lt;chr&gt;</th><th scope=col>&lt;chr&gt;</th></tr>\n",
       "</thead>\n",
       "<tbody>\n",
       "\t<tr><td>Volume</td><td>Acenaphthylene</td><td>WS</td><td>1263480</td><td>Burnet et al. 1990</td><td>1</td><td>PAH</td><td>DTXSID3023845</td><td>6187000 </td></tr>\n",
       "\t<tr><td>Volume</td><td>Acenaphthylene</td><td>WS</td><td>1263480</td><td>Burnet et al. 1990</td><td>2</td><td>PAH</td><td>DTXSID3023845</td><td>18890500</td></tr>\n",
       "\t<tr><td>Volume</td><td>Acenaphthylene</td><td>WS</td><td>1263480</td><td>Burnet et al. 1990</td><td>3</td><td>PAH</td><td>DTXSID3023845</td><td>7806000 </td></tr>\n",
       "\t<tr><td>Volume</td><td>Acenaphthylene</td><td>WS</td><td>1263484</td><td>Leese et al. 1989 </td><td>1</td><td>PAH</td><td>DTXSID3023845</td><td>1100000 </td></tr>\n",
       "\t<tr><td>Volume</td><td>Acenaphthylene</td><td>WS</td><td>1263484</td><td>Leese et al. 1989 </td><td>2</td><td>PAH</td><td>DTXSID3023845</td><td>2800000 </td></tr>\n",
       "\t<tr><td>Volume</td><td>Acenaphthylene</td><td>WS</td><td> 429445</td><td>Rajput 2010       </td><td>1</td><td>PAH</td><td>DTXSID3023845</td><td>53500   </td></tr>\n",
       "</tbody>\n",
       "</table>\n"
      ],
      "text/latex": [
       "A tibble: 6 × 9\n",
       "\\begin{tabular}{lllllllll}\n",
       " Metric & Name & Data & HAWC\\_ID & Study & Replicate & Chemical\\_Class & DTXSID & Value\\\\\n",
       " <chr> & <chr> & <chr> & <dbl> & <chr> & <dbl> & <chr> & <chr> & <chr>\\\\\n",
       "\\hline\n",
       "\t Volume & Acenaphthylene & WS & 1263480 & Burnet et al. 1990 & 1 & PAH & DTXSID3023845 & 6187000 \\\\\n",
       "\t Volume & Acenaphthylene & WS & 1263480 & Burnet et al. 1990 & 2 & PAH & DTXSID3023845 & 18890500\\\\\n",
       "\t Volume & Acenaphthylene & WS & 1263480 & Burnet et al. 1990 & 3 & PAH & DTXSID3023845 & 7806000 \\\\\n",
       "\t Volume & Acenaphthylene & WS & 1263484 & Leese et al. 1989  & 1 & PAH & DTXSID3023845 & 1100000 \\\\\n",
       "\t Volume & Acenaphthylene & WS & 1263484 & Leese et al. 1989  & 2 & PAH & DTXSID3023845 & 2800000 \\\\\n",
       "\t Volume & Acenaphthylene & WS &  429445 & Rajput 2010        & 1 & PAH & DTXSID3023845 & 53500   \\\\\n",
       "\\end{tabular}\n"
      ],
      "text/markdown": [
       "\n",
       "A tibble: 6 × 9\n",
       "\n",
       "| Metric &lt;chr&gt; | Name &lt;chr&gt; | Data &lt;chr&gt; | HAWC_ID &lt;dbl&gt; | Study &lt;chr&gt; | Replicate &lt;dbl&gt; | Chemical_Class &lt;chr&gt; | DTXSID &lt;chr&gt; | Value &lt;chr&gt; |\n",
       "|---|---|---|---|---|---|---|---|---|\n",
       "| Volume | Acenaphthylene | WS | 1263480 | Burnet et al. 1990 | 1 | PAH | DTXSID3023845 | 6187000  |\n",
       "| Volume | Acenaphthylene | WS | 1263480 | Burnet et al. 1990 | 2 | PAH | DTXSID3023845 | 18890500 |\n",
       "| Volume | Acenaphthylene | WS | 1263480 | Burnet et al. 1990 | 3 | PAH | DTXSID3023845 | 7806000  |\n",
       "| Volume | Acenaphthylene | WS | 1263484 | Leese et al. 1989  | 1 | PAH | DTXSID3023845 | 1100000  |\n",
       "| Volume | Acenaphthylene | WS | 1263484 | Leese et al. 1989  | 2 | PAH | DTXSID3023845 | 2800000  |\n",
       "| Volume | Acenaphthylene | WS |  429445 | Rajput 2010        | 1 | PAH | DTXSID3023845 | 53500    |\n",
       "\n"
      ],
      "text/plain": [
       "  Metric Name           Data HAWC_ID Study              Replicate\n",
       "1 Volume Acenaphthylene WS   1263480 Burnet et al. 1990 1        \n",
       "2 Volume Acenaphthylene WS   1263480 Burnet et al. 1990 2        \n",
       "3 Volume Acenaphthylene WS   1263480 Burnet et al. 1990 3        \n",
       "4 Volume Acenaphthylene WS   1263484 Leese et al. 1989  1        \n",
       "5 Volume Acenaphthylene WS   1263484 Leese et al. 1989  2        \n",
       "6 Volume Acenaphthylene WS    429445 Rajput 2010        1        \n",
       "  Chemical_Class DTXSID        Value   \n",
       "1 PAH            DTXSID3023845 6187000 \n",
       "2 PAH            DTXSID3023845 18890500\n",
       "3 PAH            DTXSID3023845 7806000 \n",
       "4 PAH            DTXSID3023845 1100000 \n",
       "5 PAH            DTXSID3023845 2800000 \n",
       "6 PAH            DTXSID3023845 53500   "
      ]
     },
     "metadata": {},
     "output_type": "display_data"
    }
   ],
   "source": [
    "# recombining data\n",
    "vol_df = rbind(consistent_ws_vol_df, consistent_wf_vol_df)\n",
    "weight_df = rbind(consistent_ws_weight_df, consistent_wf_weight_df)\n",
    "\n",
    "head(vol_df)"
   ]
  },
  {
   "cell_type": "code",
   "execution_count": 45,
   "id": "fbb53332-1692-4fe1-9629-c400b85e9bef",
   "metadata": {},
   "outputs": [
    {
     "data": {
      "text/html": [
       "<table class=\"dataframe\">\n",
       "<caption>A tibble: 10 × 9</caption>\n",
       "<thead>\n",
       "\t<tr><th scope=col>Metric</th><th scope=col>Name</th><th scope=col>Data</th><th scope=col>HAWC_ID</th><th scope=col>Study</th><th scope=col>Replicate</th><th scope=col>Chemical_Class</th><th scope=col>DTXSID</th><th scope=col>Value</th></tr>\n",
       "\t<tr><th scope=col>&lt;chr&gt;</th><th scope=col>&lt;chr&gt;</th><th scope=col>&lt;chr&gt;</th><th scope=col>&lt;dbl&gt;</th><th scope=col>&lt;chr&gt;</th><th scope=col>&lt;dbl&gt;</th><th scope=col>&lt;chr&gt;</th><th scope=col>&lt;chr&gt;</th><th scope=col>&lt;chr&gt;</th></tr>\n",
       "</thead>\n",
       "<tbody>\n",
       "\t<tr><td>Volume</td><td>Ti</td><td>WS</td><td> 885041</td><td>Ihantola et al. 2020 </td><td>1</td><td>Metal</td><td>NA</td><td>29.7</td></tr>\n",
       "\t<tr><td>Volume</td><td>Ti</td><td>WS</td><td> 885041</td><td>Ihantola et al. 2020 </td><td>2</td><td>Metal</td><td>NA</td><td>37.9</td></tr>\n",
       "\t<tr><td>Volume</td><td>Ti</td><td>WS</td><td> 993956</td><td>Ihantola et al. 2022 </td><td>1</td><td>Metal</td><td>NA</td><td>30  </td></tr>\n",
       "\t<tr><td>Volume</td><td>Ti</td><td>WS</td><td>1263484</td><td>Leese et al. 1989    </td><td>1</td><td>Metal</td><td>NA</td><td>220 </td></tr>\n",
       "\t<tr><td>Volume</td><td>Ti</td><td>WS</td><td>1263480</td><td>Burnet et al. 1990   </td><td>2</td><td>Metal</td><td>NA</td><td>2625</td></tr>\n",
       "\t<tr><td>Volume</td><td>Ti</td><td>WF</td><td>1070627</td><td>Siregar et al. 2022  </td><td>1</td><td>Metal</td><td>NA</td><td>NA  </td></tr>\n",
       "\t<tr><td>Volume</td><td>Ti</td><td>WF</td><td>1289909</td><td>Trieu et al. 2024    </td><td>1</td><td>Metal</td><td>NA</td><td>NA  </td></tr>\n",
       "\t<tr><td>Volume</td><td>Ti</td><td>WF</td><td>1289884</td><td>Samsonova et al. 2012</td><td>1</td><td>Metal</td><td>NA</td><td>NA  </td></tr>\n",
       "\t<tr><td>Volume</td><td>Ti</td><td>WF</td><td>1289885</td><td>Samsonov et al. 2005 </td><td>1</td><td>Metal</td><td>NA</td><td>NA  </td></tr>\n",
       "\t<tr><td>Volume</td><td>Ti</td><td>WF</td><td>1289878</td><td>Robinson et al. 2004 </td><td>1</td><td>Metal</td><td>NA</td><td>NA  </td></tr>\n",
       "</tbody>\n",
       "</table>\n"
      ],
      "text/latex": [
       "A tibble: 10 × 9\n",
       "\\begin{tabular}{lllllllll}\n",
       " Metric & Name & Data & HAWC\\_ID & Study & Replicate & Chemical\\_Class & DTXSID & Value\\\\\n",
       " <chr> & <chr> & <chr> & <dbl> & <chr> & <dbl> & <chr> & <chr> & <chr>\\\\\n",
       "\\hline\n",
       "\t Volume & Ti & WS &  885041 & Ihantola et al. 2020  & 1 & Metal & NA & 29.7\\\\\n",
       "\t Volume & Ti & WS &  885041 & Ihantola et al. 2020  & 2 & Metal & NA & 37.9\\\\\n",
       "\t Volume & Ti & WS &  993956 & Ihantola et al. 2022  & 1 & Metal & NA & 30  \\\\\n",
       "\t Volume & Ti & WS & 1263484 & Leese et al. 1989     & 1 & Metal & NA & 220 \\\\\n",
       "\t Volume & Ti & WS & 1263480 & Burnet et al. 1990    & 2 & Metal & NA & 2625\\\\\n",
       "\t Volume & Ti & WF & 1070627 & Siregar et al. 2022   & 1 & Metal & NA & NA  \\\\\n",
       "\t Volume & Ti & WF & 1289909 & Trieu et al. 2024     & 1 & Metal & NA & NA  \\\\\n",
       "\t Volume & Ti & WF & 1289884 & Samsonova et al. 2012 & 1 & Metal & NA & NA  \\\\\n",
       "\t Volume & Ti & WF & 1289885 & Samsonov et al. 2005  & 1 & Metal & NA & NA  \\\\\n",
       "\t Volume & Ti & WF & 1289878 & Robinson et al. 2004  & 1 & Metal & NA & NA  \\\\\n",
       "\\end{tabular}\n"
      ],
      "text/markdown": [
       "\n",
       "A tibble: 10 × 9\n",
       "\n",
       "| Metric &lt;chr&gt; | Name &lt;chr&gt; | Data &lt;chr&gt; | HAWC_ID &lt;dbl&gt; | Study &lt;chr&gt; | Replicate &lt;dbl&gt; | Chemical_Class &lt;chr&gt; | DTXSID &lt;chr&gt; | Value &lt;chr&gt; |\n",
       "|---|---|---|---|---|---|---|---|---|\n",
       "| Volume | Ti | WS |  885041 | Ihantola et al. 2020  | 1 | Metal | NA | 29.7 |\n",
       "| Volume | Ti | WS |  885041 | Ihantola et al. 2020  | 2 | Metal | NA | 37.9 |\n",
       "| Volume | Ti | WS |  993956 | Ihantola et al. 2022  | 1 | Metal | NA | 30   |\n",
       "| Volume | Ti | WS | 1263484 | Leese et al. 1989     | 1 | Metal | NA | 220  |\n",
       "| Volume | Ti | WS | 1263480 | Burnet et al. 1990    | 2 | Metal | NA | 2625 |\n",
       "| Volume | Ti | WF | 1070627 | Siregar et al. 2022   | 1 | Metal | NA | NA   |\n",
       "| Volume | Ti | WF | 1289909 | Trieu et al. 2024     | 1 | Metal | NA | NA   |\n",
       "| Volume | Ti | WF | 1289884 | Samsonova et al. 2012 | 1 | Metal | NA | NA   |\n",
       "| Volume | Ti | WF | 1289885 | Samsonov et al. 2005  | 1 | Metal | NA | NA   |\n",
       "| Volume | Ti | WF | 1289878 | Robinson et al. 2004  | 1 | Metal | NA | NA   |\n",
       "\n"
      ],
      "text/plain": [
       "   Metric Name Data HAWC_ID Study                 Replicate Chemical_Class\n",
       "1  Volume Ti   WS    885041 Ihantola et al. 2020  1         Metal         \n",
       "2  Volume Ti   WS    885041 Ihantola et al. 2020  2         Metal         \n",
       "3  Volume Ti   WS    993956 Ihantola et al. 2022  1         Metal         \n",
       "4  Volume Ti   WS   1263484 Leese et al. 1989     1         Metal         \n",
       "5  Volume Ti   WS   1263480 Burnet et al. 1990    2         Metal         \n",
       "6  Volume Ti   WF   1070627 Siregar et al. 2022   1         Metal         \n",
       "7  Volume Ti   WF   1289909 Trieu et al. 2024     1         Metal         \n",
       "8  Volume Ti   WF   1289884 Samsonova et al. 2012 1         Metal         \n",
       "9  Volume Ti   WF   1289885 Samsonov et al. 2005  1         Metal         \n",
       "10 Volume Ti   WF   1289878 Robinson et al. 2004  1         Metal         \n",
       "   DTXSID Value\n",
       "1  NA     29.7 \n",
       "2  NA     37.9 \n",
       "3  NA     30   \n",
       "4  NA     220  \n",
       "5  NA     2625 \n",
       "6  NA     NA   \n",
       "7  NA     NA   \n",
       "8  NA     NA   \n",
       "9  NA     NA   \n",
       "10 NA     NA   "
      ]
     },
     "metadata": {},
     "output_type": "display_data"
    }
   ],
   "source": [
    "vol_df %>%\n",
    "    filter(Name == 'Ti')"
   ]
  },
  {
   "cell_type": "markdown",
   "id": "12249f65-761e-4dbc-8231-8c455e6d3120",
   "metadata": {},
   "source": [
    "# QRILC Imputation"
   ]
  },
  {
   "cell_type": "code",
   "execution_count": 38,
   "id": "e848e968-6697-41d8-824e-8f2f7a3f11cd",
   "metadata": {},
   "outputs": [
    {
     "data": {
      "text/html": [
       "<table class=\"dataframe\">\n",
       "<caption>A tibble: 6 × 9</caption>\n",
       "<thead>\n",
       "\t<tr><th scope=col>Metric</th><th scope=col>Name</th><th scope=col>Data</th><th scope=col>HAWC_ID</th><th scope=col>Study</th><th scope=col>Replicate</th><th scope=col>Chemical_Class</th><th scope=col>DTXSID</th><th scope=col>Value</th></tr>\n",
       "\t<tr><th scope=col>&lt;chr&gt;</th><th scope=col>&lt;chr&gt;</th><th scope=col>&lt;chr&gt;</th><th scope=col>&lt;dbl&gt;</th><th scope=col>&lt;chr&gt;</th><th scope=col>&lt;dbl&gt;</th><th scope=col>&lt;chr&gt;</th><th scope=col>&lt;chr&gt;</th><th scope=col>&lt;chr&gt;</th></tr>\n",
       "</thead>\n",
       "<tbody>\n",
       "\t<tr><td>Volume</td><td>Acenaphthylene</td><td>WS</td><td>1263480</td><td>Burnet et al. 1990</td><td>1</td><td>PAH</td><td>DTXSID3023845</td><td>6187000 </td></tr>\n",
       "\t<tr><td>Volume</td><td>Acenaphthylene</td><td>WS</td><td>1263480</td><td>Burnet et al. 1990</td><td>2</td><td>PAH</td><td>DTXSID3023845</td><td>18890500</td></tr>\n",
       "\t<tr><td>Volume</td><td>Acenaphthylene</td><td>WS</td><td>1263480</td><td>Burnet et al. 1990</td><td>3</td><td>PAH</td><td>DTXSID3023845</td><td>7806000 </td></tr>\n",
       "\t<tr><td>Volume</td><td>Acenaphthylene</td><td>WS</td><td>1263484</td><td>Leese et al. 1989 </td><td>1</td><td>PAH</td><td>DTXSID3023845</td><td>1100000 </td></tr>\n",
       "\t<tr><td>Volume</td><td>Acenaphthylene</td><td>WS</td><td>1263484</td><td>Leese et al. 1989 </td><td>2</td><td>PAH</td><td>DTXSID3023845</td><td>2800000 </td></tr>\n",
       "\t<tr><td>Volume</td><td>Acenaphthylene</td><td>WS</td><td> 429445</td><td>Rajput 2010       </td><td>1</td><td>PAH</td><td>DTXSID3023845</td><td>53500   </td></tr>\n",
       "</tbody>\n",
       "</table>\n"
      ],
      "text/latex": [
       "A tibble: 6 × 9\n",
       "\\begin{tabular}{lllllllll}\n",
       " Metric & Name & Data & HAWC\\_ID & Study & Replicate & Chemical\\_Class & DTXSID & Value\\\\\n",
       " <chr> & <chr> & <chr> & <dbl> & <chr> & <dbl> & <chr> & <chr> & <chr>\\\\\n",
       "\\hline\n",
       "\t Volume & Acenaphthylene & WS & 1263480 & Burnet et al. 1990 & 1 & PAH & DTXSID3023845 & 6187000 \\\\\n",
       "\t Volume & Acenaphthylene & WS & 1263480 & Burnet et al. 1990 & 2 & PAH & DTXSID3023845 & 18890500\\\\\n",
       "\t Volume & Acenaphthylene & WS & 1263480 & Burnet et al. 1990 & 3 & PAH & DTXSID3023845 & 7806000 \\\\\n",
       "\t Volume & Acenaphthylene & WS & 1263484 & Leese et al. 1989  & 1 & PAH & DTXSID3023845 & 1100000 \\\\\n",
       "\t Volume & Acenaphthylene & WS & 1263484 & Leese et al. 1989  & 2 & PAH & DTXSID3023845 & 2800000 \\\\\n",
       "\t Volume & Acenaphthylene & WS &  429445 & Rajput 2010        & 1 & PAH & DTXSID3023845 & 53500   \\\\\n",
       "\\end{tabular}\n"
      ],
      "text/markdown": [
       "\n",
       "A tibble: 6 × 9\n",
       "\n",
       "| Metric &lt;chr&gt; | Name &lt;chr&gt; | Data &lt;chr&gt; | HAWC_ID &lt;dbl&gt; | Study &lt;chr&gt; | Replicate &lt;dbl&gt; | Chemical_Class &lt;chr&gt; | DTXSID &lt;chr&gt; | Value &lt;chr&gt; |\n",
       "|---|---|---|---|---|---|---|---|---|\n",
       "| Volume | Acenaphthylene | WS | 1263480 | Burnet et al. 1990 | 1 | PAH | DTXSID3023845 | 6187000  |\n",
       "| Volume | Acenaphthylene | WS | 1263480 | Burnet et al. 1990 | 2 | PAH | DTXSID3023845 | 18890500 |\n",
       "| Volume | Acenaphthylene | WS | 1263480 | Burnet et al. 1990 | 3 | PAH | DTXSID3023845 | 7806000  |\n",
       "| Volume | Acenaphthylene | WS | 1263484 | Leese et al. 1989  | 1 | PAH | DTXSID3023845 | 1100000  |\n",
       "| Volume | Acenaphthylene | WS | 1263484 | Leese et al. 1989  | 2 | PAH | DTXSID3023845 | 2800000  |\n",
       "| Volume | Acenaphthylene | WS |  429445 | Rajput 2010        | 1 | PAH | DTXSID3023845 | 53500    |\n",
       "\n"
      ],
      "text/plain": [
       "  Metric Name           Data HAWC_ID Study              Replicate\n",
       "1 Volume Acenaphthylene WS   1263480 Burnet et al. 1990 1        \n",
       "2 Volume Acenaphthylene WS   1263480 Burnet et al. 1990 2        \n",
       "3 Volume Acenaphthylene WS   1263480 Burnet et al. 1990 3        \n",
       "4 Volume Acenaphthylene WS   1263484 Leese et al. 1989  1        \n",
       "5 Volume Acenaphthylene WS   1263484 Leese et al. 1989  2        \n",
       "6 Volume Acenaphthylene WS    429445 Rajput 2010        1        \n",
       "  Chemical_Class DTXSID        Value   \n",
       "1 PAH            DTXSID3023845 6187000 \n",
       "2 PAH            DTXSID3023845 18890500\n",
       "3 PAH            DTXSID3023845 7806000 \n",
       "4 PAH            DTXSID3023845 1100000 \n",
       "5 PAH            DTXSID3023845 2800000 \n",
       "6 PAH            DTXSID3023845 53500   "
      ]
     },
     "metadata": {},
     "output_type": "display_data"
    }
   ],
   "source": [
    "# # recombining data again\n",
    "# second_filtered_df = rbind(consistent_ws_vol_df, consistent_wf_vol_df, consistent_ws_weight_df, consistent_wf_weight_df)\n",
    "\n",
    "# head(second_filtered_df) "
   ]
  },
  {
   "cell_type": "code",
   "execution_count": null,
   "id": "54ca80e8-43d7-4507-b8f1-bf724e551dfa",
   "metadata": {},
   "outputs": [],
   "source": []
  }
 ],
 "metadata": {
  "kernelspec": {
   "display_name": "R",
   "language": "R",
   "name": "ir"
  },
  "language_info": {
   "codemirror_mode": "r",
   "file_extension": ".r",
   "mimetype": "text/x-r-source",
   "name": "R",
   "pygments_lexer": "r",
   "version": "4.3.1"
  }
 },
 "nbformat": 4,
 "nbformat_minor": 5
}
