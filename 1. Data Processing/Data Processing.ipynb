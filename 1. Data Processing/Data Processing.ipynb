{
 "cells": [
  {
   "cell_type": "code",
   "execution_count": 1,
   "id": "f739a63b-8766-4c73-a76e-a6b3a6525d80",
   "metadata": {},
   "outputs": [],
   "source": [
    ".libPaths(R.home('/opt/homebrew/Caskroom/miniforge/base/lib/R/library'))"
   ]
  },
  {
   "cell_type": "code",
   "execution_count": 2,
   "id": "dbfb736a-bc97-4a2f-96f6-553aa3c90c5b",
   "metadata": {},
   "outputs": [
    {
     "name": "stderr",
     "output_type": "stream",
     "text": [
      "── \u001b[1mAttaching core tidyverse packages\u001b[22m ──────────────────────── tidyverse 2.0.0 ──\n",
      "\u001b[32m✔\u001b[39m \u001b[34mdplyr    \u001b[39m 1.1.4     \u001b[32m✔\u001b[39m \u001b[34mreadr    \u001b[39m 2.1.5\n",
      "\u001b[32m✔\u001b[39m \u001b[34mforcats  \u001b[39m 1.0.0     \u001b[32m✔\u001b[39m \u001b[34mstringr  \u001b[39m 1.5.1\n",
      "\u001b[32m✔\u001b[39m \u001b[34mggplot2  \u001b[39m 3.5.2     \u001b[32m✔\u001b[39m \u001b[34mtibble   \u001b[39m 3.2.1\n",
      "\u001b[32m✔\u001b[39m \u001b[34mlubridate\u001b[39m 1.9.4     \u001b[32m✔\u001b[39m \u001b[34mtidyr    \u001b[39m 1.3.1\n",
      "\u001b[32m✔\u001b[39m \u001b[34mpurrr    \u001b[39m 1.0.4     \n",
      "── \u001b[1mConflicts\u001b[22m ────────────────────────────────────────── tidyverse_conflicts() ──\n",
      "\u001b[31m✖\u001b[39m \u001b[34mdplyr\u001b[39m::\u001b[32mfilter()\u001b[39m masks \u001b[34mstats\u001b[39m::filter()\n",
      "\u001b[31m✖\u001b[39m \u001b[34mdplyr\u001b[39m::\u001b[32mlag()\u001b[39m    masks \u001b[34mstats\u001b[39m::lag()\n",
      "\u001b[36mℹ\u001b[39m Use the conflicted package (\u001b[3m\u001b[34m<http://conflicted.r-lib.org/>\u001b[39m\u001b[23m) to force all conflicts to become errors\n",
      "Welcome! Want to learn more? See two factoextra-related books at https://goo.gl/ve3WBa\n",
      "\n"
     ]
    }
   ],
   "source": [
    "Output = '/Users/alexis/Library/CloudStorage/OneDrive-UniversityofNorthCarolinaatChapelHill/CEMALB_DataAnalysisPM/Projects/P1015. Fire Sufficient Similarity/P1015.3. Analyses/P1015.3.2. Data Processing/Output'\n",
    "cur_date = '071625'\n",
    "\n",
    "library(missForest)\n",
    "library(readxl)\n",
    "library(openxlsx)\n",
    "library(tidyverse)\n",
    "library(factoextra)\n",
    "\n",
    "# reading in files\n",
    "ws_df = data.frame(Sample = 'WS', read_excel(\"Input/Woodsmoke_Data_053125.xlsx\", sheet = 2)) %>%\n",
    "    select(-Number)\n",
    "wf_df = data.frame(Sample = 'WF', read_excel(\"Input/Wildfire_Data_053125.xlsx\", sheet = 2)) %>%\n",
    "    select(-Number)"
   ]
  },
  {
   "cell_type": "code",
   "execution_count": 3,
   "id": "73a7d5c4-8e2a-4ab5-b13b-046bc35d412e",
   "metadata": {},
   "outputs": [
    {
     "data": {
      "text/html": [
       "<table class=\"dataframe\">\n",
       "<caption>A data.frame: 6 × 9</caption>\n",
       "<thead>\n",
       "\t<tr><th></th><th scope=col>Sample</th><th scope=col>HAWC_ID</th><th scope=col>Study</th><th scope=col>Sample_Number</th><th scope=col>Class</th><th scope=col>Metric</th><th scope=col>DTXSID</th><th scope=col>Name</th><th scope=col>Value</th></tr>\n",
       "\t<tr><th></th><th scope=col>&lt;chr&gt;</th><th scope=col>&lt;dbl&gt;</th><th scope=col>&lt;chr&gt;</th><th scope=col>&lt;dbl&gt;</th><th scope=col>&lt;chr&gt;</th><th scope=col>&lt;chr&gt;</th><th scope=col>&lt;chr&gt;</th><th scope=col>&lt;chr&gt;</th><th scope=col>&lt;chr&gt;</th></tr>\n",
       "</thead>\n",
       "<tbody>\n",
       "\t<tr><th scope=row>1</th><td>WS</td><td>429174</td><td>Arif et al. 2017</td><td>1</td><td>PAH</td><td>Weight</td><td>DTXSID6025648 </td><td>1-Methylphenanthrene</td><td>NA</td></tr>\n",
       "\t<tr><th scope=row>2</th><td>WS</td><td>429174</td><td>Arif et al. 2017</td><td>1</td><td>PAH</td><td>Weight</td><td>DTXSID0025654 </td><td>1-Methylpyrene      </td><td>NA</td></tr>\n",
       "\t<tr><th scope=row>3</th><td>WS</td><td>429174</td><td>Arif et al. 2017</td><td>1</td><td>PAH</td><td>Weight</td><td>DTXSID4020878 </td><td>2-Methylnaphthalene </td><td>NA</td></tr>\n",
       "\t<tr><th scope=row>4</th><td>WS</td><td>429174</td><td>Arif et al. 2017</td><td>1</td><td>PAH</td><td>Weight</td><td>DTXSID4063030 </td><td>2-Methylpyrene      </td><td>NA</td></tr>\n",
       "\t<tr><th scope=row>5</th><td>WS</td><td>429174</td><td>Arif et al. 2017</td><td>1</td><td>PAH</td><td>Weight</td><td>DTXSID50187178</td><td>4-Methylpyrene      </td><td>NA</td></tr>\n",
       "\t<tr><th scope=row>6</th><td>WS</td><td>429174</td><td>Arif et al. 2017</td><td>1</td><td>PAH</td><td>Weight</td><td>DTXSID6063143 </td><td>5-Methylchrysene    </td><td>NA</td></tr>\n",
       "</tbody>\n",
       "</table>\n"
      ],
      "text/latex": [
       "A data.frame: 6 × 9\n",
       "\\begin{tabular}{r|lllllllll}\n",
       "  & Sample & HAWC\\_ID & Study & Sample\\_Number & Class & Metric & DTXSID & Name & Value\\\\\n",
       "  & <chr> & <dbl> & <chr> & <dbl> & <chr> & <chr> & <chr> & <chr> & <chr>\\\\\n",
       "\\hline\n",
       "\t1 & WS & 429174 & Arif et al. 2017 & 1 & PAH & Weight & DTXSID6025648  & 1-Methylphenanthrene & NA\\\\\n",
       "\t2 & WS & 429174 & Arif et al. 2017 & 1 & PAH & Weight & DTXSID0025654  & 1-Methylpyrene       & NA\\\\\n",
       "\t3 & WS & 429174 & Arif et al. 2017 & 1 & PAH & Weight & DTXSID4020878  & 2-Methylnaphthalene  & NA\\\\\n",
       "\t4 & WS & 429174 & Arif et al. 2017 & 1 & PAH & Weight & DTXSID4063030  & 2-Methylpyrene       & NA\\\\\n",
       "\t5 & WS & 429174 & Arif et al. 2017 & 1 & PAH & Weight & DTXSID50187178 & 4-Methylpyrene       & NA\\\\\n",
       "\t6 & WS & 429174 & Arif et al. 2017 & 1 & PAH & Weight & DTXSID6063143  & 5-Methylchrysene     & NA\\\\\n",
       "\\end{tabular}\n"
      ],
      "text/markdown": [
       "\n",
       "A data.frame: 6 × 9\n",
       "\n",
       "| <!--/--> | Sample &lt;chr&gt; | HAWC_ID &lt;dbl&gt; | Study &lt;chr&gt; | Sample_Number &lt;dbl&gt; | Class &lt;chr&gt; | Metric &lt;chr&gt; | DTXSID &lt;chr&gt; | Name &lt;chr&gt; | Value &lt;chr&gt; |\n",
       "|---|---|---|---|---|---|---|---|---|---|\n",
       "| 1 | WS | 429174 | Arif et al. 2017 | 1 | PAH | Weight | DTXSID6025648  | 1-Methylphenanthrene | NA |\n",
       "| 2 | WS | 429174 | Arif et al. 2017 | 1 | PAH | Weight | DTXSID0025654  | 1-Methylpyrene       | NA |\n",
       "| 3 | WS | 429174 | Arif et al. 2017 | 1 | PAH | Weight | DTXSID4020878  | 2-Methylnaphthalene  | NA |\n",
       "| 4 | WS | 429174 | Arif et al. 2017 | 1 | PAH | Weight | DTXSID4063030  | 2-Methylpyrene       | NA |\n",
       "| 5 | WS | 429174 | Arif et al. 2017 | 1 | PAH | Weight | DTXSID50187178 | 4-Methylpyrene       | NA |\n",
       "| 6 | WS | 429174 | Arif et al. 2017 | 1 | PAH | Weight | DTXSID6063143  | 5-Methylchrysene     | NA |\n",
       "\n"
      ],
      "text/plain": [
       "  Sample HAWC_ID Study            Sample_Number Class Metric DTXSID        \n",
       "1 WS     429174  Arif et al. 2017 1             PAH   Weight DTXSID6025648 \n",
       "2 WS     429174  Arif et al. 2017 1             PAH   Weight DTXSID0025654 \n",
       "3 WS     429174  Arif et al. 2017 1             PAH   Weight DTXSID4020878 \n",
       "4 WS     429174  Arif et al. 2017 1             PAH   Weight DTXSID4063030 \n",
       "5 WS     429174  Arif et al. 2017 1             PAH   Weight DTXSID50187178\n",
       "6 WS     429174  Arif et al. 2017 1             PAH   Weight DTXSID6063143 \n",
       "  Name                 Value\n",
       "1 1-Methylphenanthrene NA   \n",
       "2 1-Methylpyrene       NA   \n",
       "3 2-Methylnaphthalene  NA   \n",
       "4 2-Methylpyrene       NA   \n",
       "5 4-Methylpyrene       NA   \n",
       "6 5-Methylchrysene     NA   "
      ]
     },
     "metadata": {},
     "output_type": "display_data"
    },
    {
     "data": {
      "text/html": [
       "<table class=\"dataframe\">\n",
       "<caption>A data.frame: 6 × 9</caption>\n",
       "<thead>\n",
       "\t<tr><th></th><th scope=col>Sample</th><th scope=col>HAWC_ID</th><th scope=col>Study</th><th scope=col>Sample_Number</th><th scope=col>Class</th><th scope=col>Metric</th><th scope=col>DTXSID</th><th scope=col>Name</th><th scope=col>Value</th></tr>\n",
       "\t<tr><th></th><th scope=col>&lt;chr&gt;</th><th scope=col>&lt;dbl&gt;</th><th scope=col>&lt;chr&gt;</th><th scope=col>&lt;dbl&gt;</th><th scope=col>&lt;chr&gt;</th><th scope=col>&lt;chr&gt;</th><th scope=col>&lt;chr&gt;</th><th scope=col>&lt;chr&gt;</th><th scope=col>&lt;chr&gt;</th></tr>\n",
       "</thead>\n",
       "<tbody>\n",
       "\t<tr><th scope=row>1</th><td>WF</td><td>1289737</td><td>Campbell et al. 2024</td><td>1</td><td>PAH</td><td>Weight</td><td>DTXSID1074759</td><td>1-Methylchrysene       </td><td>NA</td></tr>\n",
       "\t<tr><th scope=row>2</th><td>WF</td><td>1289737</td><td>Campbell et al. 2024</td><td>1</td><td>PAH</td><td>Weight</td><td>DTXSID9020877</td><td>1-Methylnaphthalene    </td><td>NA</td></tr>\n",
       "\t<tr><th scope=row>3</th><td>WF</td><td>1289737</td><td>Campbell et al. 2024</td><td>1</td><td>PAH</td><td>Weight</td><td>DTXSID0029187</td><td>2,6-Dimethylnaphthalene</td><td>NA</td></tr>\n",
       "\t<tr><th scope=row>4</th><td>WF</td><td>1289737</td><td>Campbell et al. 2024</td><td>1</td><td>PAH</td><td>Weight</td><td>DTXSID4020878</td><td>2-Methylnaphthalene    </td><td>NA</td></tr>\n",
       "\t<tr><th scope=row>5</th><td>WF</td><td>1289737</td><td>Campbell et al. 2024</td><td>1</td><td>PAH</td><td>Weight</td><td>DTXSID3061134</td><td>9-Methylanthracene     </td><td>NA</td></tr>\n",
       "\t<tr><th scope=row>6</th><td>WF</td><td>1289737</td><td>Campbell et al. 2024</td><td>1</td><td>PAH</td><td>Weight</td><td>DTXSID3023845</td><td>Acenaphthylene         </td><td>NA</td></tr>\n",
       "</tbody>\n",
       "</table>\n"
      ],
      "text/latex": [
       "A data.frame: 6 × 9\n",
       "\\begin{tabular}{r|lllllllll}\n",
       "  & Sample & HAWC\\_ID & Study & Sample\\_Number & Class & Metric & DTXSID & Name & Value\\\\\n",
       "  & <chr> & <dbl> & <chr> & <dbl> & <chr> & <chr> & <chr> & <chr> & <chr>\\\\\n",
       "\\hline\n",
       "\t1 & WF & 1289737 & Campbell et al. 2024 & 1 & PAH & Weight & DTXSID1074759 & 1-Methylchrysene        & NA\\\\\n",
       "\t2 & WF & 1289737 & Campbell et al. 2024 & 1 & PAH & Weight & DTXSID9020877 & 1-Methylnaphthalene     & NA\\\\\n",
       "\t3 & WF & 1289737 & Campbell et al. 2024 & 1 & PAH & Weight & DTXSID0029187 & 2,6-Dimethylnaphthalene & NA\\\\\n",
       "\t4 & WF & 1289737 & Campbell et al. 2024 & 1 & PAH & Weight & DTXSID4020878 & 2-Methylnaphthalene     & NA\\\\\n",
       "\t5 & WF & 1289737 & Campbell et al. 2024 & 1 & PAH & Weight & DTXSID3061134 & 9-Methylanthracene      & NA\\\\\n",
       "\t6 & WF & 1289737 & Campbell et al. 2024 & 1 & PAH & Weight & DTXSID3023845 & Acenaphthylene          & NA\\\\\n",
       "\\end{tabular}\n"
      ],
      "text/markdown": [
       "\n",
       "A data.frame: 6 × 9\n",
       "\n",
       "| <!--/--> | Sample &lt;chr&gt; | HAWC_ID &lt;dbl&gt; | Study &lt;chr&gt; | Sample_Number &lt;dbl&gt; | Class &lt;chr&gt; | Metric &lt;chr&gt; | DTXSID &lt;chr&gt; | Name &lt;chr&gt; | Value &lt;chr&gt; |\n",
       "|---|---|---|---|---|---|---|---|---|---|\n",
       "| 1 | WF | 1289737 | Campbell et al. 2024 | 1 | PAH | Weight | DTXSID1074759 | 1-Methylchrysene        | NA |\n",
       "| 2 | WF | 1289737 | Campbell et al. 2024 | 1 | PAH | Weight | DTXSID9020877 | 1-Methylnaphthalene     | NA |\n",
       "| 3 | WF | 1289737 | Campbell et al. 2024 | 1 | PAH | Weight | DTXSID0029187 | 2,6-Dimethylnaphthalene | NA |\n",
       "| 4 | WF | 1289737 | Campbell et al. 2024 | 1 | PAH | Weight | DTXSID4020878 | 2-Methylnaphthalene     | NA |\n",
       "| 5 | WF | 1289737 | Campbell et al. 2024 | 1 | PAH | Weight | DTXSID3061134 | 9-Methylanthracene      | NA |\n",
       "| 6 | WF | 1289737 | Campbell et al. 2024 | 1 | PAH | Weight | DTXSID3023845 | Acenaphthylene          | NA |\n",
       "\n"
      ],
      "text/plain": [
       "  Sample HAWC_ID Study                Sample_Number Class Metric DTXSID       \n",
       "1 WF     1289737 Campbell et al. 2024 1             PAH   Weight DTXSID1074759\n",
       "2 WF     1289737 Campbell et al. 2024 1             PAH   Weight DTXSID9020877\n",
       "3 WF     1289737 Campbell et al. 2024 1             PAH   Weight DTXSID0029187\n",
       "4 WF     1289737 Campbell et al. 2024 1             PAH   Weight DTXSID4020878\n",
       "5 WF     1289737 Campbell et al. 2024 1             PAH   Weight DTXSID3061134\n",
       "6 WF     1289737 Campbell et al. 2024 1             PAH   Weight DTXSID3023845\n",
       "  Name                    Value\n",
       "1 1-Methylchrysene        NA   \n",
       "2 1-Methylnaphthalene     NA   \n",
       "3 2,6-Dimethylnaphthalene NA   \n",
       "4 2-Methylnaphthalene     NA   \n",
       "5 9-Methylanthracene      NA   \n",
       "6 Acenaphthylene          NA   "
      ]
     },
     "metadata": {},
     "output_type": "display_data"
    }
   ],
   "source": [
    "head(ws_df)\n",
    "head(wf_df)"
   ]
  },
  {
   "cell_type": "code",
   "execution_count": 4,
   "id": "3d546e8e-5cdf-4386-b29b-2ac2938366f9",
   "metadata": {},
   "outputs": [
    {
     "data": {
      "text/html": [
       "<style>\n",
       ".list-inline {list-style: none; margin:0; padding: 0}\n",
       ".list-inline>li {display: inline-block}\n",
       ".list-inline>li:not(:last-child)::after {content: \"\\00b7\"; padding: 0 .5ex}\n",
       "</style>\n",
       "<ol class=list-inline><li>4391</li><li>9</li></ol>\n"
      ],
      "text/latex": [
       "\\begin{enumerate*}\n",
       "\\item 4391\n",
       "\\item 9\n",
       "\\end{enumerate*}\n"
      ],
      "text/markdown": [
       "1. 4391\n",
       "2. 9\n",
       "\n",
       "\n"
      ],
      "text/plain": [
       "[1] 4391    9"
      ]
     },
     "metadata": {},
     "output_type": "display_data"
    },
    {
     "data": {
      "text/html": [
       "<style>\n",
       ".list-inline {list-style: none; margin:0; padding: 0}\n",
       ".list-inline>li {display: inline-block}\n",
       ".list-inline>li:not(:last-child)::after {content: \"\\00b7\"; padding: 0 .5ex}\n",
       "</style>\n",
       "<ol class=list-inline><li>3795</li><li>9</li></ol>\n"
      ],
      "text/latex": [
       "\\begin{enumerate*}\n",
       "\\item 3795\n",
       "\\item 9\n",
       "\\end{enumerate*}\n"
      ],
      "text/markdown": [
       "1. 3795\n",
       "2. 9\n",
       "\n",
       "\n"
      ],
      "text/plain": [
       "[1] 3795    9"
      ]
     },
     "metadata": {},
     "output_type": "display_data"
    }
   ],
   "source": [
    "dim(ws_df)\n",
    "dim(wf_df)"
   ]
  },
  {
   "cell_type": "markdown",
   "id": "417a92fb-0524-4038-a5ea-08a56f02a955",
   "metadata": {},
   "source": [
    "Starting with 4391 WS records and 3795 WF records. "
   ]
  },
  {
   "cell_type": "code",
   "execution_count": 5,
   "id": "d9ba0841-95c0-4dfc-a8de-480550341718",
   "metadata": {},
   "outputs": [
    {
     "data": {
      "text/html": [
       "<table class=\"dataframe\">\n",
       "<caption>A data.frame: 6 × 9</caption>\n",
       "<thead>\n",
       "\t<tr><th></th><th scope=col>Sample</th><th scope=col>HAWC_ID</th><th scope=col>Study</th><th scope=col>Sample_Number</th><th scope=col>Class</th><th scope=col>Metric</th><th scope=col>DTXSID</th><th scope=col>Name</th><th scope=col>Value</th></tr>\n",
       "\t<tr><th></th><th scope=col>&lt;chr&gt;</th><th scope=col>&lt;dbl&gt;</th><th scope=col>&lt;chr&gt;</th><th scope=col>&lt;dbl&gt;</th><th scope=col>&lt;chr&gt;</th><th scope=col>&lt;chr&gt;</th><th scope=col>&lt;chr&gt;</th><th scope=col>&lt;chr&gt;</th><th scope=col>&lt;chr&gt;</th></tr>\n",
       "</thead>\n",
       "<tbody>\n",
       "\t<tr><th scope=row>1</th><td>WS</td><td>429174</td><td>Arif et al. 2017</td><td>1</td><td>PAH</td><td>Weight</td><td>DTXSID6025648 </td><td>1-Methylphenanthrene</td><td>NA</td></tr>\n",
       "\t<tr><th scope=row>2</th><td>WS</td><td>429174</td><td>Arif et al. 2017</td><td>1</td><td>PAH</td><td>Weight</td><td>DTXSID0025654 </td><td>1-Methylpyrene      </td><td>NA</td></tr>\n",
       "\t<tr><th scope=row>3</th><td>WS</td><td>429174</td><td>Arif et al. 2017</td><td>1</td><td>PAH</td><td>Weight</td><td>DTXSID4020878 </td><td>2-Methylnaphthalene </td><td>NA</td></tr>\n",
       "\t<tr><th scope=row>4</th><td>WS</td><td>429174</td><td>Arif et al. 2017</td><td>1</td><td>PAH</td><td>Weight</td><td>DTXSID4063030 </td><td>2-Methylpyrene      </td><td>NA</td></tr>\n",
       "\t<tr><th scope=row>5</th><td>WS</td><td>429174</td><td>Arif et al. 2017</td><td>1</td><td>PAH</td><td>Weight</td><td>DTXSID50187178</td><td>4-Methylpyrene      </td><td>NA</td></tr>\n",
       "\t<tr><th scope=row>6</th><td>WS</td><td>429174</td><td>Arif et al. 2017</td><td>1</td><td>PAH</td><td>Weight</td><td>DTXSID6063143 </td><td>5-Methylchrysene    </td><td>NA</td></tr>\n",
       "</tbody>\n",
       "</table>\n"
      ],
      "text/latex": [
       "A data.frame: 6 × 9\n",
       "\\begin{tabular}{r|lllllllll}\n",
       "  & Sample & HAWC\\_ID & Study & Sample\\_Number & Class & Metric & DTXSID & Name & Value\\\\\n",
       "  & <chr> & <dbl> & <chr> & <dbl> & <chr> & <chr> & <chr> & <chr> & <chr>\\\\\n",
       "\\hline\n",
       "\t1 & WS & 429174 & Arif et al. 2017 & 1 & PAH & Weight & DTXSID6025648  & 1-Methylphenanthrene & NA\\\\\n",
       "\t2 & WS & 429174 & Arif et al. 2017 & 1 & PAH & Weight & DTXSID0025654  & 1-Methylpyrene       & NA\\\\\n",
       "\t3 & WS & 429174 & Arif et al. 2017 & 1 & PAH & Weight & DTXSID4020878  & 2-Methylnaphthalene  & NA\\\\\n",
       "\t4 & WS & 429174 & Arif et al. 2017 & 1 & PAH & Weight & DTXSID4063030  & 2-Methylpyrene       & NA\\\\\n",
       "\t5 & WS & 429174 & Arif et al. 2017 & 1 & PAH & Weight & DTXSID50187178 & 4-Methylpyrene       & NA\\\\\n",
       "\t6 & WS & 429174 & Arif et al. 2017 & 1 & PAH & Weight & DTXSID6063143  & 5-Methylchrysene     & NA\\\\\n",
       "\\end{tabular}\n"
      ],
      "text/markdown": [
       "\n",
       "A data.frame: 6 × 9\n",
       "\n",
       "| <!--/--> | Sample &lt;chr&gt; | HAWC_ID &lt;dbl&gt; | Study &lt;chr&gt; | Sample_Number &lt;dbl&gt; | Class &lt;chr&gt; | Metric &lt;chr&gt; | DTXSID &lt;chr&gt; | Name &lt;chr&gt; | Value &lt;chr&gt; |\n",
       "|---|---|---|---|---|---|---|---|---|---|\n",
       "| 1 | WS | 429174 | Arif et al. 2017 | 1 | PAH | Weight | DTXSID6025648  | 1-Methylphenanthrene | NA |\n",
       "| 2 | WS | 429174 | Arif et al. 2017 | 1 | PAH | Weight | DTXSID0025654  | 1-Methylpyrene       | NA |\n",
       "| 3 | WS | 429174 | Arif et al. 2017 | 1 | PAH | Weight | DTXSID4020878  | 2-Methylnaphthalene  | NA |\n",
       "| 4 | WS | 429174 | Arif et al. 2017 | 1 | PAH | Weight | DTXSID4063030  | 2-Methylpyrene       | NA |\n",
       "| 5 | WS | 429174 | Arif et al. 2017 | 1 | PAH | Weight | DTXSID50187178 | 4-Methylpyrene       | NA |\n",
       "| 6 | WS | 429174 | Arif et al. 2017 | 1 | PAH | Weight | DTXSID6063143  | 5-Methylchrysene     | NA |\n",
       "\n"
      ],
      "text/plain": [
       "  Sample HAWC_ID Study            Sample_Number Class Metric DTXSID        \n",
       "1 WS     429174  Arif et al. 2017 1             PAH   Weight DTXSID6025648 \n",
       "2 WS     429174  Arif et al. 2017 1             PAH   Weight DTXSID0025654 \n",
       "3 WS     429174  Arif et al. 2017 1             PAH   Weight DTXSID4020878 \n",
       "4 WS     429174  Arif et al. 2017 1             PAH   Weight DTXSID4063030 \n",
       "5 WS     429174  Arif et al. 2017 1             PAH   Weight DTXSID50187178\n",
       "6 WS     429174  Arif et al. 2017 1             PAH   Weight DTXSID6063143 \n",
       "  Name                 Value\n",
       "1 1-Methylphenanthrene NA   \n",
       "2 1-Methylpyrene       NA   \n",
       "3 2-Methylnaphthalene  NA   \n",
       "4 2-Methylpyrene       NA   \n",
       "5 4-Methylpyrene       NA   \n",
       "6 5-Methylchrysene     NA   "
      ]
     },
     "metadata": {},
     "output_type": "display_data"
    }
   ],
   "source": [
    "# combining dfs\n",
    "combined_df = rbind(ws_df, wf_df)\n",
    "           \n",
    "head(combined_df)"
   ]
  },
  {
   "cell_type": "code",
   "execution_count": 6,
   "id": "6bcf9a9c-639c-46ca-9806-dcb9246095f1",
   "metadata": {},
   "outputs": [
    {
     "data": {
      "text/html": [
       "151"
      ],
      "text/latex": [
       "151"
      ],
      "text/markdown": [
       "151"
      ],
      "text/plain": [
       "[1] 151"
      ]
     },
     "metadata": {},
     "output_type": "display_data"
    },
    {
     "data": {
      "text/html": [
       "93"
      ],
      "text/latex": [
       "93"
      ],
      "text/markdown": [
       "93"
      ],
      "text/plain": [
       "[1] 93"
      ]
     },
     "metadata": {},
     "output_type": "display_data"
    },
    {
     "data": {
      "text/html": [
       "114"
      ],
      "text/latex": [
       "114"
      ],
      "text/markdown": [
       "114"
      ],
      "text/plain": [
       "[1] 114"
      ]
     },
     "metadata": {},
     "output_type": "display_data"
    }
   ],
   "source": [
    "length(unique(combined_df$Name))\n",
    "length(unique(ws_df$Name))\n",
    "length(unique(wf_df$Name))"
   ]
  },
  {
   "attachments": {},
   "cell_type": "markdown",
   "id": "d12ab21b-9ebd-4e1f-8bb3-f9c23e764ea5",
   "metadata": {},
   "source": [
    "114 unique metals/chemicals total.\n",
    "\n",
    "# Filter #1: Chemical/Metal Background Filters\n",
    "\n",
    "Determining what variables have missing data for all variables delineated based on the dfs the data will be split into and analyzed. \n",
    "\n",
    "A variable (ie. `Name` which represents a chemical or metal) will be retained if >= 20% of its experimental data points were measurable values. In other words, chemicals or metals were excluded if they had NAs (not evaluated) or had non-detect values across >= 80% of the samples."
   ]
  },
  {
   "cell_type": "code",
   "execution_count": 7,
   "id": "59c471fe-1657-4356-8ed6-35a8b6244188",
   "metadata": {},
   "outputs": [
    {
     "data": {
      "text/html": [
       "<table class=\"dataframe\">\n",
       "<caption>A tibble: 6 × 4</caption>\n",
       "<thead>\n",
       "\t<tr><th scope=col>Metric</th><th scope=col>Sample</th><th scope=col>Name</th><th scope=col>Variable_Presence_Percentage</th></tr>\n",
       "\t<tr><th scope=col>&lt;chr&gt;</th><th scope=col>&lt;chr&gt;</th><th scope=col>&lt;chr&gt;</th><th scope=col>&lt;dbl&gt;</th></tr>\n",
       "</thead>\n",
       "<tbody>\n",
       "\t<tr><td>Volume</td><td>WF</td><td>1,2,4-Trimethylbenzene</td><td>100.00000</td></tr>\n",
       "\t<tr><td>Volume</td><td>WF</td><td>Acenaphthylene        </td><td>100.00000</td></tr>\n",
       "\t<tr><td>Volume</td><td>WF</td><td>Anthracene            </td><td> 42.10526</td></tr>\n",
       "\t<tr><td>Volume</td><td>WF</td><td>Arsenic               </td><td>100.00000</td></tr>\n",
       "\t<tr><td>Volume</td><td>WF</td><td>Benz(a)anthracene     </td><td>100.00000</td></tr>\n",
       "\t<tr><td>Volume</td><td>WF</td><td>Benzene               </td><td>100.00000</td></tr>\n",
       "</tbody>\n",
       "</table>\n"
      ],
      "text/latex": [
       "A tibble: 6 × 4\n",
       "\\begin{tabular}{llll}\n",
       " Metric & Sample & Name & Variable\\_Presence\\_Percentage\\\\\n",
       " <chr> & <chr> & <chr> & <dbl>\\\\\n",
       "\\hline\n",
       "\t Volume & WF & 1,2,4-Trimethylbenzene & 100.00000\\\\\n",
       "\t Volume & WF & Acenaphthylene         & 100.00000\\\\\n",
       "\t Volume & WF & Anthracene             &  42.10526\\\\\n",
       "\t Volume & WF & Arsenic                & 100.00000\\\\\n",
       "\t Volume & WF & Benz(a)anthracene      & 100.00000\\\\\n",
       "\t Volume & WF & Benzene                & 100.00000\\\\\n",
       "\\end{tabular}\n"
      ],
      "text/markdown": [
       "\n",
       "A tibble: 6 × 4\n",
       "\n",
       "| Metric &lt;chr&gt; | Sample &lt;chr&gt; | Name &lt;chr&gt; | Variable_Presence_Percentage &lt;dbl&gt; |\n",
       "|---|---|---|---|\n",
       "| Volume | WF | 1,2,4-Trimethylbenzene | 100.00000 |\n",
       "| Volume | WF | Acenaphthylene         | 100.00000 |\n",
       "| Volume | WF | Anthracene             |  42.10526 |\n",
       "| Volume | WF | Arsenic                | 100.00000 |\n",
       "| Volume | WF | Benz(a)anthracene      | 100.00000 |\n",
       "| Volume | WF | Benzene                | 100.00000 |\n",
       "\n"
      ],
      "text/plain": [
       "  Metric Sample Name                   Variable_Presence_Percentage\n",
       "1 Volume WF     1,2,4-Trimethylbenzene 100.00000                   \n",
       "2 Volume WF     Acenaphthylene         100.00000                   \n",
       "3 Volume WF     Anthracene              42.10526                   \n",
       "4 Volume WF     Arsenic                100.00000                   \n",
       "5 Volume WF     Benz(a)anthracene      100.00000                   \n",
       "6 Volume WF     Benzene                100.00000                   "
      ]
     },
     "metadata": {},
     "output_type": "display_data"
    }
   ],
   "source": [
    "`%notin%` <- Negate(`%in%`)\n",
    "\n",
    "sample_type_presence_df = combined_df %>%\n",
    "    # if an experimental value is there count it as being \"present\"\n",
    "    mutate(count = ifelse(Value %notin% c('NA', 'ND'), 1, 0)) %>%\n",
    "    # determining which have at least 20% experimental values for each chemical/metal\n",
    "    group_by(Metric, Sample, Name) %>%\n",
    "    # calculating the percentage of experimental data points\n",
    "    reframe(Variable_Presence_Percentage = (sum(count)/n()) * 100) %>%\n",
    "    filter(Variable_Presence_Percentage >= 40) \n",
    "\n",
    "head(sample_type_presence_df)"
   ]
  },
  {
   "cell_type": "code",
   "execution_count": 8,
   "id": "e9e0b6d6-d46b-4f37-81e9-f71cbf5eaefd",
   "metadata": {},
   "outputs": [
    {
     "name": "stderr",
     "output_type": "stream",
     "text": [
      "\u001b[1m\u001b[22mJoining with `by = join_by(Metric, Sample, Name)`\n"
     ]
    },
    {
     "data": {
      "text/html": [
       "<table class=\"dataframe\">\n",
       "<caption>A tibble: 6 × 9</caption>\n",
       "<thead>\n",
       "\t<tr><th scope=col>Metric</th><th scope=col>Sample</th><th scope=col>Name</th><th scope=col>HAWC_ID</th><th scope=col>Study</th><th scope=col>Sample_Number</th><th scope=col>Class</th><th scope=col>DTXSID</th><th scope=col>Value</th></tr>\n",
       "\t<tr><th scope=col>&lt;chr&gt;</th><th scope=col>&lt;chr&gt;</th><th scope=col>&lt;chr&gt;</th><th scope=col>&lt;dbl&gt;</th><th scope=col>&lt;chr&gt;</th><th scope=col>&lt;dbl&gt;</th><th scope=col>&lt;chr&gt;</th><th scope=col>&lt;chr&gt;</th><th scope=col>&lt;chr&gt;</th></tr>\n",
       "</thead>\n",
       "<tbody>\n",
       "\t<tr><td>Volume</td><td>WF</td><td>1,2,4-Trimethylbenzene</td><td>1289926</td><td>Wang et al. 2024       </td><td>1</td><td>VOC</td><td>DTXSID6021402</td><td>730                  </td></tr>\n",
       "\t<tr><td>Volume</td><td>WF</td><td>1,2,4-Trimethylbenzene</td><td>1306371</td><td>Ketcherside et al. 2024</td><td>1</td><td>VOC</td><td>DTXSID6021402</td><td>130                  </td></tr>\n",
       "\t<tr><td>Volume</td><td>WF</td><td>Acenaphthylene        </td><td>1289895</td><td>Silberstein et al. 2023</td><td>1</td><td>PAH</td><td>DTXSID3023845</td><td>7.0000000000000007E-2</td></tr>\n",
       "\t<tr><td>Volume</td><td>WF</td><td>Acenaphthylene        </td><td>1285830</td><td>Navarro et al. 2019    </td><td>1</td><td>PAH</td><td>DTXSID3023845</td><td>1                    </td></tr>\n",
       "\t<tr><td>Volume</td><td>WF</td><td>Acenaphthylene        </td><td>1285830</td><td>Navarro et al. 2019    </td><td>2</td><td>PAH</td><td>DTXSID3023845</td><td>1                    </td></tr>\n",
       "\t<tr><td>Volume</td><td>WF</td><td>Acenaphthylene        </td><td>1285830</td><td>Navarro et al. 2019    </td><td>3</td><td>PAH</td><td>DTXSID3023845</td><td>1                    </td></tr>\n",
       "</tbody>\n",
       "</table>\n"
      ],
      "text/latex": [
       "A tibble: 6 × 9\n",
       "\\begin{tabular}{lllllllll}\n",
       " Metric & Sample & Name & HAWC\\_ID & Study & Sample\\_Number & Class & DTXSID & Value\\\\\n",
       " <chr> & <chr> & <chr> & <dbl> & <chr> & <dbl> & <chr> & <chr> & <chr>\\\\\n",
       "\\hline\n",
       "\t Volume & WF & 1,2,4-Trimethylbenzene & 1289926 & Wang et al. 2024        & 1 & VOC & DTXSID6021402 & 730                  \\\\\n",
       "\t Volume & WF & 1,2,4-Trimethylbenzene & 1306371 & Ketcherside et al. 2024 & 1 & VOC & DTXSID6021402 & 130                  \\\\\n",
       "\t Volume & WF & Acenaphthylene         & 1289895 & Silberstein et al. 2023 & 1 & PAH & DTXSID3023845 & 7.0000000000000007E-2\\\\\n",
       "\t Volume & WF & Acenaphthylene         & 1285830 & Navarro et al. 2019     & 1 & PAH & DTXSID3023845 & 1                    \\\\\n",
       "\t Volume & WF & Acenaphthylene         & 1285830 & Navarro et al. 2019     & 2 & PAH & DTXSID3023845 & 1                    \\\\\n",
       "\t Volume & WF & Acenaphthylene         & 1285830 & Navarro et al. 2019     & 3 & PAH & DTXSID3023845 & 1                    \\\\\n",
       "\\end{tabular}\n"
      ],
      "text/markdown": [
       "\n",
       "A tibble: 6 × 9\n",
       "\n",
       "| Metric &lt;chr&gt; | Sample &lt;chr&gt; | Name &lt;chr&gt; | HAWC_ID &lt;dbl&gt; | Study &lt;chr&gt; | Sample_Number &lt;dbl&gt; | Class &lt;chr&gt; | DTXSID &lt;chr&gt; | Value &lt;chr&gt; |\n",
       "|---|---|---|---|---|---|---|---|---|\n",
       "| Volume | WF | 1,2,4-Trimethylbenzene | 1289926 | Wang et al. 2024        | 1 | VOC | DTXSID6021402 | 730                   |\n",
       "| Volume | WF | 1,2,4-Trimethylbenzene | 1306371 | Ketcherside et al. 2024 | 1 | VOC | DTXSID6021402 | 130                   |\n",
       "| Volume | WF | Acenaphthylene         | 1289895 | Silberstein et al. 2023 | 1 | PAH | DTXSID3023845 | 7.0000000000000007E-2 |\n",
       "| Volume | WF | Acenaphthylene         | 1285830 | Navarro et al. 2019     | 1 | PAH | DTXSID3023845 | 1                     |\n",
       "| Volume | WF | Acenaphthylene         | 1285830 | Navarro et al. 2019     | 2 | PAH | DTXSID3023845 | 1                     |\n",
       "| Volume | WF | Acenaphthylene         | 1285830 | Navarro et al. 2019     | 3 | PAH | DTXSID3023845 | 1                     |\n",
       "\n"
      ],
      "text/plain": [
       "  Metric Sample Name                   HAWC_ID Study                  \n",
       "1 Volume WF     1,2,4-Trimethylbenzene 1289926 Wang et al. 2024       \n",
       "2 Volume WF     1,2,4-Trimethylbenzene 1306371 Ketcherside et al. 2024\n",
       "3 Volume WF     Acenaphthylene         1289895 Silberstein et al. 2023\n",
       "4 Volume WF     Acenaphthylene         1285830 Navarro et al. 2019    \n",
       "5 Volume WF     Acenaphthylene         1285830 Navarro et al. 2019    \n",
       "6 Volume WF     Acenaphthylene         1285830 Navarro et al. 2019    \n",
       "  Sample_Number Class DTXSID        Value                \n",
       "1 1             VOC   DTXSID6021402 730                  \n",
       "2 1             VOC   DTXSID6021402 130                  \n",
       "3 1             PAH   DTXSID3023845 7.0000000000000007E-2\n",
       "4 1             PAH   DTXSID3023845 1                    \n",
       "5 2             PAH   DTXSID3023845 1                    \n",
       "6 3             PAH   DTXSID3023845 1                    "
      ]
     },
     "metadata": {},
     "output_type": "display_data"
    }
   ],
   "source": [
    "# filtering the original df\n",
    "filter1_df = inner_join(sample_type_presence_df[,1:3], combined_df) \n",
    "\n",
    "head(filter1_df)"
   ]
  },
  {
   "cell_type": "code",
   "execution_count": 9,
   "id": "681aa152-2060-42cb-8f55-e4dd2ea81370",
   "metadata": {},
   "outputs": [
    {
     "data": {
      "text/html": [
       "<style>\n",
       ".list-inline {list-style: none; margin:0; padding: 0}\n",
       ".list-inline>li {display: inline-block}\n",
       ".list-inline>li:not(:last-child)::after {content: \"\\00b7\"; padding: 0 .5ex}\n",
       "</style>\n",
       "<ol class=list-inline><li>8186</li><li>9</li></ol>\n"
      ],
      "text/latex": [
       "\\begin{enumerate*}\n",
       "\\item 8186\n",
       "\\item 9\n",
       "\\end{enumerate*}\n"
      ],
      "text/markdown": [
       "1. 8186\n",
       "2. 9\n",
       "\n",
       "\n"
      ],
      "text/plain": [
       "[1] 8186    9"
      ]
     },
     "metadata": {},
     "output_type": "display_data"
    },
    {
     "data": {
      "text/html": [
       "<style>\n",
       ".list-inline {list-style: none; margin:0; padding: 0}\n",
       ".list-inline>li {display: inline-block}\n",
       ".list-inline>li:not(:last-child)::after {content: \"\\00b7\"; padding: 0 .5ex}\n",
       "</style>\n",
       "<ol class=list-inline><li>5352</li><li>9</li></ol>\n"
      ],
      "text/latex": [
       "\\begin{enumerate*}\n",
       "\\item 5352\n",
       "\\item 9\n",
       "\\end{enumerate*}\n"
      ],
      "text/markdown": [
       "1. 5352\n",
       "2. 9\n",
       "\n",
       "\n"
      ],
      "text/plain": [
       "[1] 5352    9"
      ]
     },
     "metadata": {},
     "output_type": "display_data"
    }
   ],
   "source": [
    "dim(combined_df)\n",
    "dim(filter1_df)"
   ]
  },
  {
   "cell_type": "markdown",
   "id": "744bb359-5b56-4821-8613-66bfaf0a2271",
   "metadata": {},
   "source": [
    "Started with 8186 records, 1638 were removed, leaving 6548. \n",
    "\n",
    "# Filter #2: Study Background Filter\n",
    "\n",
    "A study will be retained if >= 20% of its experimental data points were measurable values. In other words, chemicals were excluded if they were NAs (not evaluated) or had non-detect values across < 20% of the samples."
   ]
  },
  {
   "cell_type": "code",
   "execution_count": 10,
   "id": "24e392b1-550e-4cb4-a5a7-012731dc5b3f",
   "metadata": {},
   "outputs": [
    {
     "data": {
      "text/html": [
       "<table class=\"dataframe\">\n",
       "<caption>A tibble: 6 × 4</caption>\n",
       "<thead>\n",
       "\t<tr><th scope=col>Metric</th><th scope=col>Class</th><th scope=col>HAWC_ID</th><th scope=col>Study_Presence_Percentage</th></tr>\n",
       "\t<tr><th scope=col>&lt;chr&gt;</th><th scope=col>&lt;chr&gt;</th><th scope=col>&lt;dbl&gt;</th><th scope=col>&lt;dbl&gt;</th></tr>\n",
       "</thead>\n",
       "<tbody>\n",
       "\t<tr><td>Volume</td><td>Metal</td><td> 266980</td><td>100</td></tr>\n",
       "\t<tr><td>Volume</td><td>Metal</td><td> 266987</td><td>100</td></tr>\n",
       "\t<tr><td>Volume</td><td>Metal</td><td> 452289</td><td>100</td></tr>\n",
       "\t<tr><td>Volume</td><td>Metal</td><td> 885041</td><td>100</td></tr>\n",
       "\t<tr><td>Volume</td><td>Metal</td><td> 993956</td><td>100</td></tr>\n",
       "\t<tr><td>Volume</td><td>Metal</td><td>1070627</td><td>100</td></tr>\n",
       "</tbody>\n",
       "</table>\n"
      ],
      "text/latex": [
       "A tibble: 6 × 4\n",
       "\\begin{tabular}{llll}\n",
       " Metric & Class & HAWC\\_ID & Study\\_Presence\\_Percentage\\\\\n",
       " <chr> & <chr> & <dbl> & <dbl>\\\\\n",
       "\\hline\n",
       "\t Volume & Metal &  266980 & 100\\\\\n",
       "\t Volume & Metal &  266987 & 100\\\\\n",
       "\t Volume & Metal &  452289 & 100\\\\\n",
       "\t Volume & Metal &  885041 & 100\\\\\n",
       "\t Volume & Metal &  993956 & 100\\\\\n",
       "\t Volume & Metal & 1070627 & 100\\\\\n",
       "\\end{tabular}\n"
      ],
      "text/markdown": [
       "\n",
       "A tibble: 6 × 4\n",
       "\n",
       "| Metric &lt;chr&gt; | Class &lt;chr&gt; | HAWC_ID &lt;dbl&gt; | Study_Presence_Percentage &lt;dbl&gt; |\n",
       "|---|---|---|---|\n",
       "| Volume | Metal |  266980 | 100 |\n",
       "| Volume | Metal |  266987 | 100 |\n",
       "| Volume | Metal |  452289 | 100 |\n",
       "| Volume | Metal |  885041 | 100 |\n",
       "| Volume | Metal |  993956 | 100 |\n",
       "| Volume | Metal | 1070627 | 100 |\n",
       "\n"
      ],
      "text/plain": [
       "  Metric Class HAWC_ID Study_Presence_Percentage\n",
       "1 Volume Metal  266980 100                      \n",
       "2 Volume Metal  266987 100                      \n",
       "3 Volume Metal  452289 100                      \n",
       "4 Volume Metal  885041 100                      \n",
       "5 Volume Metal  993956 100                      \n",
       "6 Volume Metal 1070627 100                      "
      ]
     },
     "metadata": {},
     "output_type": "display_data"
    }
   ],
   "source": [
    "study_type_presence_df = filter1_df %>%\n",
    "    # if an experimental value is there count it as being \"present\"\n",
    "    mutate(count = ifelse(Value %notin% c('NA', 'ND'), 1, 0)) %>%\n",
    "    # determining which have at least 20% experimental values for each chemical/metal\n",
    "    group_by(Metric, Class, HAWC_ID) %>%\n",
    "    # calculating the percentage of experimental data points\n",
    "    reframe(Study_Presence_Percentage = (sum(count)/n()) * 100) %>%\n",
    "    filter(Study_Presence_Percentage >= 40) \n",
    "\n",
    "head(study_type_presence_df)"
   ]
  },
  {
   "cell_type": "code",
   "execution_count": 11,
   "id": "f0593ecb-fe86-49e3-ad96-51ef9d47d27c",
   "metadata": {},
   "outputs": [
    {
     "name": "stderr",
     "output_type": "stream",
     "text": [
      "\u001b[1m\u001b[22mJoining with `by = join_by(Metric, Class, HAWC_ID)`\n"
     ]
    },
    {
     "data": {
      "text/html": [
       "<table class=\"dataframe\">\n",
       "<caption>A tibble: 6 × 9</caption>\n",
       "<thead>\n",
       "\t<tr><th scope=col>Metric</th><th scope=col>Class</th><th scope=col>HAWC_ID</th><th scope=col>Sample</th><th scope=col>Name</th><th scope=col>Study</th><th scope=col>Sample_Number</th><th scope=col>DTXSID</th><th scope=col>Value</th></tr>\n",
       "\t<tr><th scope=col>&lt;chr&gt;</th><th scope=col>&lt;chr&gt;</th><th scope=col>&lt;dbl&gt;</th><th scope=col>&lt;chr&gt;</th><th scope=col>&lt;chr&gt;</th><th scope=col>&lt;chr&gt;</th><th scope=col>&lt;dbl&gt;</th><th scope=col>&lt;chr&gt;</th><th scope=col>&lt;chr&gt;</th></tr>\n",
       "</thead>\n",
       "<tbody>\n",
       "\t<tr><td>Volume</td><td>Metal</td><td>266980</td><td>WS</td><td>Lead     </td><td>Stockfelt et al. 2012</td><td>1</td><td>Pb</td><td>170 </td></tr>\n",
       "\t<tr><td>Volume</td><td>Metal</td><td>266980</td><td>WS</td><td>Lead     </td><td>Stockfelt et al. 2012</td><td>2</td><td>Pb</td><td>400 </td></tr>\n",
       "\t<tr><td>Volume</td><td>Metal</td><td>266980</td><td>WS</td><td>Potassium</td><td>Stockfelt et al. 2012</td><td>1</td><td>K </td><td>9700</td></tr>\n",
       "\t<tr><td>Volume</td><td>Metal</td><td>266980</td><td>WS</td><td>Potassium</td><td>Stockfelt et al. 2012</td><td>2</td><td>K </td><td>8800</td></tr>\n",
       "\t<tr><td>Volume</td><td>Metal</td><td>266980</td><td>WS</td><td>Zinc     </td><td>Stockfelt et al. 2012</td><td>1</td><td>Zn</td><td>2400</td></tr>\n",
       "\t<tr><td>Volume</td><td>Metal</td><td>266980</td><td>WS</td><td>Zinc     </td><td>Stockfelt et al. 2012</td><td>2</td><td>Zn</td><td>3100</td></tr>\n",
       "</tbody>\n",
       "</table>\n"
      ],
      "text/latex": [
       "A tibble: 6 × 9\n",
       "\\begin{tabular}{lllllllll}\n",
       " Metric & Class & HAWC\\_ID & Sample & Name & Study & Sample\\_Number & DTXSID & Value\\\\\n",
       " <chr> & <chr> & <dbl> & <chr> & <chr> & <chr> & <dbl> & <chr> & <chr>\\\\\n",
       "\\hline\n",
       "\t Volume & Metal & 266980 & WS & Lead      & Stockfelt et al. 2012 & 1 & Pb & 170 \\\\\n",
       "\t Volume & Metal & 266980 & WS & Lead      & Stockfelt et al. 2012 & 2 & Pb & 400 \\\\\n",
       "\t Volume & Metal & 266980 & WS & Potassium & Stockfelt et al. 2012 & 1 & K  & 9700\\\\\n",
       "\t Volume & Metal & 266980 & WS & Potassium & Stockfelt et al. 2012 & 2 & K  & 8800\\\\\n",
       "\t Volume & Metal & 266980 & WS & Zinc      & Stockfelt et al. 2012 & 1 & Zn & 2400\\\\\n",
       "\t Volume & Metal & 266980 & WS & Zinc      & Stockfelt et al. 2012 & 2 & Zn & 3100\\\\\n",
       "\\end{tabular}\n"
      ],
      "text/markdown": [
       "\n",
       "A tibble: 6 × 9\n",
       "\n",
       "| Metric &lt;chr&gt; | Class &lt;chr&gt; | HAWC_ID &lt;dbl&gt; | Sample &lt;chr&gt; | Name &lt;chr&gt; | Study &lt;chr&gt; | Sample_Number &lt;dbl&gt; | DTXSID &lt;chr&gt; | Value &lt;chr&gt; |\n",
       "|---|---|---|---|---|---|---|---|---|\n",
       "| Volume | Metal | 266980 | WS | Lead      | Stockfelt et al. 2012 | 1 | Pb | 170  |\n",
       "| Volume | Metal | 266980 | WS | Lead      | Stockfelt et al. 2012 | 2 | Pb | 400  |\n",
       "| Volume | Metal | 266980 | WS | Potassium | Stockfelt et al. 2012 | 1 | K  | 9700 |\n",
       "| Volume | Metal | 266980 | WS | Potassium | Stockfelt et al. 2012 | 2 | K  | 8800 |\n",
       "| Volume | Metal | 266980 | WS | Zinc      | Stockfelt et al. 2012 | 1 | Zn | 2400 |\n",
       "| Volume | Metal | 266980 | WS | Zinc      | Stockfelt et al. 2012 | 2 | Zn | 3100 |\n",
       "\n"
      ],
      "text/plain": [
       "  Metric Class HAWC_ID Sample Name      Study                 Sample_Number\n",
       "1 Volume Metal 266980  WS     Lead      Stockfelt et al. 2012 1            \n",
       "2 Volume Metal 266980  WS     Lead      Stockfelt et al. 2012 2            \n",
       "3 Volume Metal 266980  WS     Potassium Stockfelt et al. 2012 1            \n",
       "4 Volume Metal 266980  WS     Potassium Stockfelt et al. 2012 2            \n",
       "5 Volume Metal 266980  WS     Zinc      Stockfelt et al. 2012 1            \n",
       "6 Volume Metal 266980  WS     Zinc      Stockfelt et al. 2012 2            \n",
       "  DTXSID Value\n",
       "1 Pb     170  \n",
       "2 Pb     400  \n",
       "3 K      9700 \n",
       "4 K      8800 \n",
       "5 Zn     2400 \n",
       "6 Zn     3100 "
      ]
     },
     "metadata": {},
     "output_type": "display_data"
    }
   ],
   "source": [
    "filter2_df = inner_join(study_type_presence_df[,1:3], filter1_df)\n",
    "\n",
    "head(filter2_df)"
   ]
  },
  {
   "cell_type": "code",
   "execution_count": 12,
   "id": "b5090a5d-09e8-4f61-a732-6d338c340e90",
   "metadata": {},
   "outputs": [
    {
     "data": {
      "text/html": [
       "<style>\n",
       ".list-inline {list-style: none; margin:0; padding: 0}\n",
       ".list-inline>li {display: inline-block}\n",
       ".list-inline>li:not(:last-child)::after {content: \"\\00b7\"; padding: 0 .5ex}\n",
       "</style>\n",
       "<ol class=list-inline><li>5352</li><li>9</li></ol>\n"
      ],
      "text/latex": [
       "\\begin{enumerate*}\n",
       "\\item 5352\n",
       "\\item 9\n",
       "\\end{enumerate*}\n"
      ],
      "text/markdown": [
       "1. 5352\n",
       "2. 9\n",
       "\n",
       "\n"
      ],
      "text/plain": [
       "[1] 5352    9"
      ]
     },
     "metadata": {},
     "output_type": "display_data"
    },
    {
     "data": {
      "text/html": [
       "<style>\n",
       ".list-inline {list-style: none; margin:0; padding: 0}\n",
       ".list-inline>li {display: inline-block}\n",
       ".list-inline>li:not(:last-child)::after {content: \"\\00b7\"; padding: 0 .5ex}\n",
       "</style>\n",
       "<ol class=list-inline><li>4895</li><li>9</li></ol>\n"
      ],
      "text/latex": [
       "\\begin{enumerate*}\n",
       "\\item 4895\n",
       "\\item 9\n",
       "\\end{enumerate*}\n"
      ],
      "text/markdown": [
       "1. 4895\n",
       "2. 9\n",
       "\n",
       "\n"
      ],
      "text/plain": [
       "[1] 4895    9"
      ]
     },
     "metadata": {},
     "output_type": "display_data"
    }
   ],
   "source": [
    "dim(filter1_df)\n",
    "dim(filter2_df)"
   ]
  },
  {
   "cell_type": "markdown",
   "id": "f1a9197d-f07d-4082-97d0-4c15b3649530",
   "metadata": {},
   "source": [
    "122 more records were removed."
   ]
  },
  {
   "cell_type": "markdown",
   "id": "0ac78909-f866-4a63-a3fa-f9c8390f883a",
   "metadata": {},
   "source": [
    "# Filter #3: Chemical/Metal Background Filter\n",
    "\n",
    "In the intial filter, WS and WF samples were combined. However, this time variables (ie. metal or chemical) will be split based on their `Metric` (ie. volume or weight) and then retained if that variable is found in both woodsmoke and wildfire samples within volume or weight samples."
   ]
  },
  {
   "cell_type": "code",
   "execution_count": 13,
   "id": "89bb63c0-0315-45a6-b462-7a1517c9ca36",
   "metadata": {},
   "outputs": [],
   "source": [
    "split_filtered_df = filter2_df %>%\n",
    "    group_by(Sample, Metric) %>%\n",
    "    group_split\n",
    "\n",
    "split_ws_vol_df = split_filtered_df[[3]]\n",
    "split_ws_weight_df = split_filtered_df[[4]]\n",
    "split_wf_vol_df = split_filtered_df[[1]]\n",
    "split_wf_weight_df = split_filtered_df[[2]]"
   ]
  },
  {
   "cell_type": "code",
   "execution_count": 14,
   "id": "2cecba03-59a4-4e90-8f45-78ca4911fff8",
   "metadata": {},
   "outputs": [
    {
     "data": {
      "text/html": [
       "77"
      ],
      "text/latex": [
       "77"
      ],
      "text/markdown": [
       "77"
      ],
      "text/plain": [
       "[1] 77"
      ]
     },
     "metadata": {},
     "output_type": "display_data"
    },
    {
     "data": {
      "text/html": [
       "55"
      ],
      "text/latex": [
       "55"
      ],
      "text/markdown": [
       "55"
      ],
      "text/plain": [
       "[1] 55"
      ]
     },
     "metadata": {},
     "output_type": "display_data"
    },
    {
     "data": {
      "text/html": [
       "41"
      ],
      "text/latex": [
       "41"
      ],
      "text/markdown": [
       "41"
      ],
      "text/plain": [
       "[1] 41"
      ]
     },
     "metadata": {},
     "output_type": "display_data"
    },
    {
     "data": {
      "text/html": [
       "79"
      ],
      "text/latex": [
       "79"
      ],
      "text/markdown": [
       "79"
      ],
      "text/plain": [
       "[1] 79"
      ]
     },
     "metadata": {},
     "output_type": "display_data"
    }
   ],
   "source": [
    "# seeing how many unique variables are in each df and if they're consistent in each file\n",
    "length(unique(split_ws_vol_df$Name))\n",
    "length(unique(split_wf_vol_df$Name))\n",
    "length(unique(split_ws_weight_df$Name))\n",
    "length(unique(split_wf_weight_df$Name))"
   ]
  },
  {
   "cell_type": "code",
   "execution_count": 15,
   "id": "1268b1ed-2523-443e-8071-ee5512082aca",
   "metadata": {},
   "outputs": [
    {
     "data": {
      "text/html": [
       "35"
      ],
      "text/latex": [
       "35"
      ],
      "text/markdown": [
       "35"
      ],
      "text/plain": [
       "[1] 35"
      ]
     },
     "metadata": {},
     "output_type": "display_data"
    },
    {
     "data": {
      "text/html": [
       "35"
      ],
      "text/latex": [
       "35"
      ],
      "text/markdown": [
       "35"
      ],
      "text/plain": [
       "[1] 35"
      ]
     },
     "metadata": {},
     "output_type": "display_data"
    },
    {
     "data": {
      "text/html": [
       "29"
      ],
      "text/latex": [
       "29"
      ],
      "text/markdown": [
       "29"
      ],
      "text/plain": [
       "[1] 29"
      ]
     },
     "metadata": {},
     "output_type": "display_data"
    },
    {
     "data": {
      "text/html": [
       "29"
      ],
      "text/latex": [
       "29"
      ],
      "text/markdown": [
       "29"
      ],
      "text/plain": [
       "[1] 29"
      ]
     },
     "metadata": {},
     "output_type": "display_data"
    }
   ],
   "source": [
    "# they're not so first getting variables that are in weight or volume samples\n",
    "consistent_wf_vol_df = split_wf_vol_df %>%\n",
    "    filter(Name %in% unique(split_ws_vol_df$Name))\n",
    "consistent_ws_vol_df = split_ws_vol_df %>%\n",
    "    filter(Name %in% consistent_wf_vol_df$Name)\n",
    "consistent_wf_weight_df = split_wf_weight_df %>%\n",
    "    filter(Name %in% unique(split_ws_weight_df$Name))\n",
    "consistent_ws_weight_df = split_ws_weight_df %>%\n",
    "    filter(Name %in% consistent_wf_weight_df$Name)\n",
    "\n",
    "length(unique(consistent_wf_vol_df$Name))\n",
    "length(unique(consistent_ws_vol_df$Name))\n",
    "length(unique(consistent_wf_weight_df$Name))\n",
    "length(unique(consistent_ws_weight_df$Name))"
   ]
  },
  {
   "cell_type": "markdown",
   "id": "cd89d802-380e-4dda-aff6-099b3710daec",
   "metadata": {},
   "source": [
    "There were 77, 57, 51 and 89 woodsmoke weight, woodsmoke volume, wildfire weight, and wildfire volume samples, respectively. 37 variables were common between volume samples and 37 were common between weight records and will be retained."
   ]
  },
  {
   "cell_type": "code",
   "execution_count": 16,
   "id": "461a6731-b974-43f7-adf9-e4bce0e9bccf",
   "metadata": {},
   "outputs": [
    {
     "data": {
      "text/html": [
       "<table class=\"dataframe\">\n",
       "<caption>A tibble: 6 × 9</caption>\n",
       "<thead>\n",
       "\t<tr><th scope=col>Metric</th><th scope=col>Class</th><th scope=col>HAWC_ID</th><th scope=col>Sample</th><th scope=col>Name</th><th scope=col>Study</th><th scope=col>Sample_Number</th><th scope=col>DTXSID</th><th scope=col>Value</th></tr>\n",
       "\t<tr><th scope=col>&lt;chr&gt;</th><th scope=col>&lt;chr&gt;</th><th scope=col>&lt;dbl&gt;</th><th scope=col>&lt;chr&gt;</th><th scope=col>&lt;chr&gt;</th><th scope=col>&lt;chr&gt;</th><th scope=col>&lt;dbl&gt;</th><th scope=col>&lt;chr&gt;</th><th scope=col>&lt;chr&gt;</th></tr>\n",
       "</thead>\n",
       "<tbody>\n",
       "\t<tr><td>Volume</td><td>Metal</td><td>266980</td><td>WS</td><td>Lead     </td><td>Stockfelt et al. 2012</td><td>1</td><td>Pb</td><td>170 </td></tr>\n",
       "\t<tr><td>Volume</td><td>Metal</td><td>266980</td><td>WS</td><td>Lead     </td><td>Stockfelt et al. 2012</td><td>2</td><td>Pb</td><td>400 </td></tr>\n",
       "\t<tr><td>Volume</td><td>Metal</td><td>266980</td><td>WS</td><td>Potassium</td><td>Stockfelt et al. 2012</td><td>1</td><td>K </td><td>9700</td></tr>\n",
       "\t<tr><td>Volume</td><td>Metal</td><td>266980</td><td>WS</td><td>Potassium</td><td>Stockfelt et al. 2012</td><td>2</td><td>K </td><td>8800</td></tr>\n",
       "\t<tr><td>Volume</td><td>Metal</td><td>266980</td><td>WS</td><td>Zinc     </td><td>Stockfelt et al. 2012</td><td>1</td><td>Zn</td><td>2400</td></tr>\n",
       "\t<tr><td>Volume</td><td>Metal</td><td>266980</td><td>WS</td><td>Zinc     </td><td>Stockfelt et al. 2012</td><td>2</td><td>Zn</td><td>3100</td></tr>\n",
       "</tbody>\n",
       "</table>\n"
      ],
      "text/latex": [
       "A tibble: 6 × 9\n",
       "\\begin{tabular}{lllllllll}\n",
       " Metric & Class & HAWC\\_ID & Sample & Name & Study & Sample\\_Number & DTXSID & Value\\\\\n",
       " <chr> & <chr> & <dbl> & <chr> & <chr> & <chr> & <dbl> & <chr> & <chr>\\\\\n",
       "\\hline\n",
       "\t Volume & Metal & 266980 & WS & Lead      & Stockfelt et al. 2012 & 1 & Pb & 170 \\\\\n",
       "\t Volume & Metal & 266980 & WS & Lead      & Stockfelt et al. 2012 & 2 & Pb & 400 \\\\\n",
       "\t Volume & Metal & 266980 & WS & Potassium & Stockfelt et al. 2012 & 1 & K  & 9700\\\\\n",
       "\t Volume & Metal & 266980 & WS & Potassium & Stockfelt et al. 2012 & 2 & K  & 8800\\\\\n",
       "\t Volume & Metal & 266980 & WS & Zinc      & Stockfelt et al. 2012 & 1 & Zn & 2400\\\\\n",
       "\t Volume & Metal & 266980 & WS & Zinc      & Stockfelt et al. 2012 & 2 & Zn & 3100\\\\\n",
       "\\end{tabular}\n"
      ],
      "text/markdown": [
       "\n",
       "A tibble: 6 × 9\n",
       "\n",
       "| Metric &lt;chr&gt; | Class &lt;chr&gt; | HAWC_ID &lt;dbl&gt; | Sample &lt;chr&gt; | Name &lt;chr&gt; | Study &lt;chr&gt; | Sample_Number &lt;dbl&gt; | DTXSID &lt;chr&gt; | Value &lt;chr&gt; |\n",
       "|---|---|---|---|---|---|---|---|---|\n",
       "| Volume | Metal | 266980 | WS | Lead      | Stockfelt et al. 2012 | 1 | Pb | 170  |\n",
       "| Volume | Metal | 266980 | WS | Lead      | Stockfelt et al. 2012 | 2 | Pb | 400  |\n",
       "| Volume | Metal | 266980 | WS | Potassium | Stockfelt et al. 2012 | 1 | K  | 9700 |\n",
       "| Volume | Metal | 266980 | WS | Potassium | Stockfelt et al. 2012 | 2 | K  | 8800 |\n",
       "| Volume | Metal | 266980 | WS | Zinc      | Stockfelt et al. 2012 | 1 | Zn | 2400 |\n",
       "| Volume | Metal | 266980 | WS | Zinc      | Stockfelt et al. 2012 | 2 | Zn | 3100 |\n",
       "\n"
      ],
      "text/plain": [
       "  Metric Class HAWC_ID Sample Name      Study                 Sample_Number\n",
       "1 Volume Metal 266980  WS     Lead      Stockfelt et al. 2012 1            \n",
       "2 Volume Metal 266980  WS     Lead      Stockfelt et al. 2012 2            \n",
       "3 Volume Metal 266980  WS     Potassium Stockfelt et al. 2012 1            \n",
       "4 Volume Metal 266980  WS     Potassium Stockfelt et al. 2012 2            \n",
       "5 Volume Metal 266980  WS     Zinc      Stockfelt et al. 2012 1            \n",
       "6 Volume Metal 266980  WS     Zinc      Stockfelt et al. 2012 2            \n",
       "  DTXSID Value\n",
       "1 Pb     170  \n",
       "2 Pb     400  \n",
       "3 K      9700 \n",
       "4 K      8800 \n",
       "5 Zn     2400 \n",
       "6 Zn     3100 "
      ]
     },
     "metadata": {},
     "output_type": "display_data"
    }
   ],
   "source": [
    "# recombining data\n",
    "vol_df = rbind(consistent_ws_vol_df, consistent_wf_vol_df)\n",
    "weight_df = rbind(consistent_ws_weight_df, consistent_wf_weight_df)\n",
    "\n",
    "head(vol_df)"
   ]
  },
  {
   "cell_type": "markdown",
   "id": "12249f65-761e-4dbc-8231-8c455e6d3120",
   "metadata": {},
   "source": [
    "# Square Root Imputation\n",
    "\n",
    "Taking the square root of the min value to impute MNAR data."
   ]
  },
  {
   "cell_type": "code",
   "execution_count": 17,
   "id": "c4f84ca8-8863-4741-9959-12962607f18f",
   "metadata": {
    "scrolled": true
   },
   "outputs": [
    {
     "data": {
      "text/html": [
       "<table class=\"dataframe\">\n",
       "<caption>A tibble: 2 × 2</caption>\n",
       "<thead>\n",
       "\t<tr><th scope=col>Value</th><th scope=col>n()</th></tr>\n",
       "\t<tr><th scope=col>&lt;chr&gt;</th><th scope=col>&lt;int&gt;</th></tr>\n",
       "</thead>\n",
       "<tbody>\n",
       "\t<tr><td>NA</td><td>36</td></tr>\n",
       "\t<tr><td>ND</td><td>25</td></tr>\n",
       "</tbody>\n",
       "</table>\n"
      ],
      "text/latex": [
       "A tibble: 2 × 2\n",
       "\\begin{tabular}{ll}\n",
       " Value & n()\\\\\n",
       " <chr> & <int>\\\\\n",
       "\\hline\n",
       "\t NA & 36\\\\\n",
       "\t ND & 25\\\\\n",
       "\\end{tabular}\n"
      ],
      "text/markdown": [
       "\n",
       "A tibble: 2 × 2\n",
       "\n",
       "| Value &lt;chr&gt; | n() &lt;int&gt; |\n",
       "|---|---|\n",
       "| NA | 36 |\n",
       "| ND | 25 |\n",
       "\n"
      ],
      "text/plain": [
       "  Value n()\n",
       "1 NA    36 \n",
       "2 ND    25 "
      ]
     },
     "metadata": {},
     "output_type": "display_data"
    },
    {
     "data": {
      "text/html": [
       "<table class=\"dataframe\">\n",
       "<caption>A tibble: 7 × 2</caption>\n",
       "<thead>\n",
       "\t<tr><th scope=col>Value</th><th scope=col>n()</th></tr>\n",
       "\t<tr><th scope=col>&lt;chr&gt;</th><th scope=col>&lt;int&gt;</th></tr>\n",
       "</thead>\n",
       "<tbody>\n",
       "\t<tr><td>&lt;0.00025</td><td><span style=white-space:pre-wrap>  1</span></td></tr>\n",
       "\t<tr><td>&lt;0.0005 </td><td><span style=white-space:pre-wrap>  6</span></td></tr>\n",
       "\t<tr><td>&lt;0.0006 </td><td><span style=white-space:pre-wrap>  2</span></td></tr>\n",
       "\t<tr><td>&lt;0.0007 </td><td><span style=white-space:pre-wrap>  3</span></td></tr>\n",
       "\t<tr><td><span style=white-space:pre-wrap>&lt;0.04   </span></td><td><span style=white-space:pre-wrap>  1</span></td></tr>\n",
       "\t<tr><td>NA      </td><td>276</td></tr>\n",
       "\t<tr><td>ND      </td><td>127</td></tr>\n",
       "</tbody>\n",
       "</table>\n"
      ],
      "text/latex": [
       "A tibble: 7 × 2\n",
       "\\begin{tabular}{ll}\n",
       " Value & n()\\\\\n",
       " <chr> & <int>\\\\\n",
       "\\hline\n",
       "\t <0.00025 &   1\\\\\n",
       "\t <0.0005  &   6\\\\\n",
       "\t <0.0006  &   2\\\\\n",
       "\t <0.0007  &   3\\\\\n",
       "\t <0.04    &   1\\\\\n",
       "\t NA       & 276\\\\\n",
       "\t ND       & 127\\\\\n",
       "\\end{tabular}\n"
      ],
      "text/markdown": [
       "\n",
       "A tibble: 7 × 2\n",
       "\n",
       "| Value &lt;chr&gt; | n() &lt;int&gt; |\n",
       "|---|---|\n",
       "| &lt;0.00025 |   1 |\n",
       "| &lt;0.0005  |   6 |\n",
       "| &lt;0.0006  |   2 |\n",
       "| &lt;0.0007  |   3 |\n",
       "| &lt;0.04    |   1 |\n",
       "| NA       | 276 |\n",
       "| ND       | 127 |\n",
       "\n"
      ],
      "text/plain": [
       "  Value    n()\n",
       "1 <0.00025   1\n",
       "2 <0.0005    6\n",
       "3 <0.0006    2\n",
       "4 <0.0007    3\n",
       "5 <0.04      1\n",
       "6 NA       276\n",
       "7 ND       127"
      ]
     },
     "metadata": {},
     "output_type": "display_data"
    }
   ],
   "source": [
    "# first determining number of ND and NA values in each df\n",
    "vol_df %>%\n",
    "    filter(Value %in% c('NA', 'ND')| grepl(\"<\", Value)) %>%\n",
    "    group_by(Value) %>%\n",
    "    summarize(n())\n",
    "\n",
    "weight_df %>%\n",
    "    filter(Value %in% c('NA', 'ND')| grepl(\"<\", Value)) %>%\n",
    "    group_by(Value) %>%\n",
    "    summarize(n())"
   ]
  },
  {
   "cell_type": "code",
   "execution_count": 18,
   "id": "25feeaaa-7ace-4a97-8dc5-4d3b6f23af2c",
   "metadata": {},
   "outputs": [
    {
     "data": {
      "text/html": [
       "<style>\n",
       ".list-inline {list-style: none; margin:0; padding: 0}\n",
       ".list-inline>li {display: inline-block}\n",
       ".list-inline>li:not(:last-child)::after {content: \"\\00b7\"; padding: 0 .5ex}\n",
       "</style>\n",
       "<ol class=list-inline><li>1013</li><li>9</li></ol>\n"
      ],
      "text/latex": [
       "\\begin{enumerate*}\n",
       "\\item 1013\n",
       "\\item 9\n",
       "\\end{enumerate*}\n"
      ],
      "text/markdown": [
       "1. 1013\n",
       "2. 9\n",
       "\n",
       "\n"
      ],
      "text/plain": [
       "[1] 1013    9"
      ]
     },
     "metadata": {},
     "output_type": "display_data"
    },
    {
     "data": {
      "text/html": [
       "<style>\n",
       ".list-inline {list-style: none; margin:0; padding: 0}\n",
       ".list-inline>li {display: inline-block}\n",
       ".list-inline>li:not(:last-child)::after {content: \"\\00b7\"; padding: 0 .5ex}\n",
       "</style>\n",
       "<ol class=list-inline><li>2270</li><li>9</li></ol>\n"
      ],
      "text/latex": [
       "\\begin{enumerate*}\n",
       "\\item 2270\n",
       "\\item 9\n",
       "\\end{enumerate*}\n"
      ],
      "text/markdown": [
       "1. 2270\n",
       "2. 9\n",
       "\n",
       "\n"
      ],
      "text/plain": [
       "[1] 2270    9"
      ]
     },
     "metadata": {},
     "output_type": "display_data"
    }
   ],
   "source": [
    "dim(vol_df)\n",
    "dim(weight_df)"
   ]
  },
  {
   "cell_type": "code",
   "execution_count": 19,
   "id": "ea4fdde2-0f1e-49f5-a394-581dc9b6b8fe",
   "metadata": {},
   "outputs": [
    {
     "name": "stderr",
     "output_type": "stream",
     "text": [
      "\u001b[1m\u001b[22mJoining with `by = join_by(Metric, Class, HAWC_ID, Sample, Name, Study,\n",
      "Sample_Number, DTXSID, Value)`\n",
      "\u001b[1m\u001b[22mJoining with `by = join_by(Metric, Class, HAWC_ID, Sample, Name, Study,\n",
      "Sample_Number, DTXSID, Value)`\n"
     ]
    }
   ],
   "source": [
    "# creating a df for MAR data\n",
    "mar_weight_df = weight_df %>%\n",
    "    filter(Value == 'NA')\n",
    "mar_vol_df = vol_df %>%\n",
    "    filter(Value == 'NA')\n",
    "\n",
    "# creating dfs for studies that contain MNAR data\n",
    "preimputed_lod_weight_df = anti_join(weight_df, mar_weight_df) \n",
    "preimputed_vol_df = anti_join(vol_df, mar_vol_df) "
   ]
  },
  {
   "cell_type": "code",
   "execution_count": 20,
   "id": "87b0cc35-36d4-46f0-aa2f-f630388b6e4b",
   "metadata": {},
   "outputs": [
    {
     "data": {
      "text/html": [
       "<style>\n",
       ".list-inline {list-style: none; margin:0; padding: 0}\n",
       ".list-inline>li {display: inline-block}\n",
       ".list-inline>li:not(:last-child)::after {content: \"\\00b7\"; padding: 0 .5ex}\n",
       "</style>\n",
       "<ol class=list-inline><li>13</li><li>9</li></ol>\n"
      ],
      "text/latex": [
       "\\begin{enumerate*}\n",
       "\\item 13\n",
       "\\item 9\n",
       "\\end{enumerate*}\n"
      ],
      "text/markdown": [
       "1. 13\n",
       "2. 9\n",
       "\n",
       "\n"
      ],
      "text/plain": [
       "[1] 13  9"
      ]
     },
     "metadata": {},
     "output_type": "display_data"
    },
    {
     "data": {
      "text/html": [
       "<table class=\"dataframe\">\n",
       "<caption>A tibble: 6 × 9</caption>\n",
       "<thead>\n",
       "\t<tr><th scope=col>Metric</th><th scope=col>Class</th><th scope=col>HAWC_ID</th><th scope=col>Sample</th><th scope=col>Name</th><th scope=col>Study</th><th scope=col>Sample_Number</th><th scope=col>DTXSID</th><th scope=col>Value</th></tr>\n",
       "\t<tr><th scope=col>&lt;chr&gt;</th><th scope=col>&lt;chr&gt;</th><th scope=col>&lt;dbl&gt;</th><th scope=col>&lt;chr&gt;</th><th scope=col>&lt;chr&gt;</th><th scope=col>&lt;chr&gt;</th><th scope=col>&lt;dbl&gt;</th><th scope=col>&lt;chr&gt;</th><th scope=col>&lt;dbl&gt;</th></tr>\n",
       "</thead>\n",
       "<tbody>\n",
       "\t<tr><td>Weight</td><td>PAH</td><td> 821855</td><td>WS</td><td>Naphthalene           </td><td>Erlandsson et al. 2020</td><td>1</td><td>DTXSID8020913</td><td>0.20000000</td></tr>\n",
       "\t<tr><td>Weight</td><td>PAH</td><td>1045457</td><td>WS</td><td>Dibenzo(a,h)anthracene</td><td>Popadic 2018          </td><td>1</td><td>DTXSID9020409</td><td>0.01581139</td></tr>\n",
       "\t<tr><td>Weight</td><td>PAH</td><td>1289739</td><td>WF</td><td>Benzo(GHI)perylene    </td><td>Campos et al. 2019    </td><td>2</td><td>DTXSID5023908</td><td>0.02645751</td></tr>\n",
       "\t<tr><td>Weight</td><td>PAH</td><td>1289739</td><td>WF</td><td>Benzo(GHI)perylene    </td><td>Campos et al. 2019    </td><td>6</td><td>DTXSID5023908</td><td>0.02645751</td></tr>\n",
       "\t<tr><td>Weight</td><td>PAH</td><td>1289739</td><td>WF</td><td>Benzo(GHI)perylene    </td><td>Campos et al. 2019    </td><td>8</td><td>DTXSID5023908</td><td>0.02645751</td></tr>\n",
       "\t<tr><td>Weight</td><td>PAH</td><td>1289739</td><td>WF</td><td>Benzo(a)pyrene        </td><td>Campos et al. 2019    </td><td>8</td><td>DTXSID2020139</td><td>0.02449490</td></tr>\n",
       "</tbody>\n",
       "</table>\n"
      ],
      "text/latex": [
       "A tibble: 6 × 9\n",
       "\\begin{tabular}{lllllllll}\n",
       " Metric & Class & HAWC\\_ID & Sample & Name & Study & Sample\\_Number & DTXSID & Value\\\\\n",
       " <chr> & <chr> & <dbl> & <chr> & <chr> & <chr> & <dbl> & <chr> & <dbl>\\\\\n",
       "\\hline\n",
       "\t Weight & PAH &  821855 & WS & Naphthalene            & Erlandsson et al. 2020 & 1 & DTXSID8020913 & 0.20000000\\\\\n",
       "\t Weight & PAH & 1045457 & WS & Dibenzo(a,h)anthracene & Popadic 2018           & 1 & DTXSID9020409 & 0.01581139\\\\\n",
       "\t Weight & PAH & 1289739 & WF & Benzo(GHI)perylene     & Campos et al. 2019     & 2 & DTXSID5023908 & 0.02645751\\\\\n",
       "\t Weight & PAH & 1289739 & WF & Benzo(GHI)perylene     & Campos et al. 2019     & 6 & DTXSID5023908 & 0.02645751\\\\\n",
       "\t Weight & PAH & 1289739 & WF & Benzo(GHI)perylene     & Campos et al. 2019     & 8 & DTXSID5023908 & 0.02645751\\\\\n",
       "\t Weight & PAH & 1289739 & WF & Benzo(a)pyrene         & Campos et al. 2019     & 8 & DTXSID2020139 & 0.02449490\\\\\n",
       "\\end{tabular}\n"
      ],
      "text/markdown": [
       "\n",
       "A tibble: 6 × 9\n",
       "\n",
       "| Metric &lt;chr&gt; | Class &lt;chr&gt; | HAWC_ID &lt;dbl&gt; | Sample &lt;chr&gt; | Name &lt;chr&gt; | Study &lt;chr&gt; | Sample_Number &lt;dbl&gt; | DTXSID &lt;chr&gt; | Value &lt;dbl&gt; |\n",
       "|---|---|---|---|---|---|---|---|---|\n",
       "| Weight | PAH |  821855 | WS | Naphthalene            | Erlandsson et al. 2020 | 1 | DTXSID8020913 | 0.20000000 |\n",
       "| Weight | PAH | 1045457 | WS | Dibenzo(a,h)anthracene | Popadic 2018           | 1 | DTXSID9020409 | 0.01581139 |\n",
       "| Weight | PAH | 1289739 | WF | Benzo(GHI)perylene     | Campos et al. 2019     | 2 | DTXSID5023908 | 0.02645751 |\n",
       "| Weight | PAH | 1289739 | WF | Benzo(GHI)perylene     | Campos et al. 2019     | 6 | DTXSID5023908 | 0.02645751 |\n",
       "| Weight | PAH | 1289739 | WF | Benzo(GHI)perylene     | Campos et al. 2019     | 8 | DTXSID5023908 | 0.02645751 |\n",
       "| Weight | PAH | 1289739 | WF | Benzo(a)pyrene         | Campos et al. 2019     | 8 | DTXSID2020139 | 0.02449490 |\n",
       "\n"
      ],
      "text/plain": [
       "  Metric Class HAWC_ID Sample Name                   Study                 \n",
       "1 Weight PAH    821855 WS     Naphthalene            Erlandsson et al. 2020\n",
       "2 Weight PAH   1045457 WS     Dibenzo(a,h)anthracene Popadic 2018          \n",
       "3 Weight PAH   1289739 WF     Benzo(GHI)perylene     Campos et al. 2019    \n",
       "4 Weight PAH   1289739 WF     Benzo(GHI)perylene     Campos et al. 2019    \n",
       "5 Weight PAH   1289739 WF     Benzo(GHI)perylene     Campos et al. 2019    \n",
       "6 Weight PAH   1289739 WF     Benzo(a)pyrene         Campos et al. 2019    \n",
       "  Sample_Number DTXSID        Value     \n",
       "1 1             DTXSID8020913 0.20000000\n",
       "2 1             DTXSID9020409 0.01581139\n",
       "3 2             DTXSID5023908 0.02645751\n",
       "4 6             DTXSID5023908 0.02645751\n",
       "5 8             DTXSID5023908 0.02645751\n",
       "6 8             DTXSID2020139 0.02449490"
      ]
     },
     "metadata": {},
     "output_type": "display_data"
    },
    {
     "name": "stderr",
     "output_type": "stream",
     "text": [
      "\u001b[1m\u001b[22mJoining with `by = join_by(Metric, Class, HAWC_ID, Sample, Name, Study,\n",
      "Sample_Number, DTXSID)`\n"
     ]
    }
   ],
   "source": [
    "# first imputing non detect values for studies that had a limit of detection (LOD) provided\n",
    "lod_values_df = preimputed_lod_weight_df %>%\n",
    "    filter(grepl(\"<\", Value)) %>%\n",
    "    separate(Value, sep = '<', into = c(NA, 'Value')) %>%\n",
    "    mutate(Value = sqrt(as.numeric(Value)))\n",
    "\n",
    "dim(lod_values_df)\n",
    "head(lod_values_df)\n",
    "\n",
    "# adding these newly imputed values back into the df\n",
    "preimputed_weight_df = rbind(anti_join(preimputed_lod_weight_df, lod_values_df[,1:8]), lod_values_df)"
   ]
  },
  {
   "cell_type": "code",
   "execution_count": 21,
   "id": "b5b077e6-bba7-4a73-9c50-5ba52371f975",
   "metadata": {},
   "outputs": [
    {
     "name": "stderr",
     "output_type": "stream",
     "text": [
      "Warning message:\n",
      "“NAs introduced by coercion”\n",
      "Warning message:\n",
      "“NAs introduced by coercion”\n",
      "Warning message:\n",
      "“NAs introduced by coercion”\n",
      "Warning message:\n",
      "“NAs introduced by coercion”\n"
     ]
    },
    {
     "data": {
      "text/html": [
       "<table class=\"dataframe\">\n",
       "<caption>A tibble: 6 × 9</caption>\n",
       "<thead>\n",
       "\t<tr><th scope=col>HAWC_ID</th><th scope=col>Metric</th><th scope=col>Sample</th><th scope=col>Study</th><th scope=col>Sample_Number</th><th scope=col>Class</th><th scope=col>DTXSID</th><th scope=col>Name</th><th scope=col>Value</th></tr>\n",
       "\t<tr><th scope=col>&lt;dbl&gt;</th><th scope=col>&lt;chr&gt;</th><th scope=col>&lt;chr&gt;</th><th scope=col>&lt;chr&gt;</th><th scope=col>&lt;dbl&gt;</th><th scope=col>&lt;chr&gt;</th><th scope=col>&lt;chr&gt;</th><th scope=col>&lt;chr&gt;</th><th scope=col>&lt;dbl&gt;</th></tr>\n",
       "</thead>\n",
       "<tbody>\n",
       "\t<tr><td>267105</td><td>Weight</td><td>WS</td><td>Danielsen et al. 2011</td><td>1</td><td>Metal</td><td>Cd</td><td>Cadmium </td><td>4.925999</td></tr>\n",
       "\t<tr><td>267105</td><td>Weight</td><td>WS</td><td>Danielsen et al. 2011</td><td>2</td><td>Metal</td><td>Cd</td><td>Cadmium </td><td>      NA</td></tr>\n",
       "\t<tr><td>267105</td><td>Weight</td><td>WS</td><td>Danielsen et al. 2011</td><td>1</td><td>Metal</td><td>Cr</td><td>Chromium</td><td>4.485427</td></tr>\n",
       "\t<tr><td>267105</td><td>Weight</td><td>WS</td><td>Danielsen et al. 2011</td><td>2</td><td>Metal</td><td>Cr</td><td>Chromium</td><td>4.478972</td></tr>\n",
       "\t<tr><td>267105</td><td>Weight</td><td>WS</td><td>Danielsen et al. 2011</td><td>1</td><td>Metal</td><td>Cu</td><td>Copper  </td><td>6.057450</td></tr>\n",
       "\t<tr><td>267105</td><td>Weight</td><td>WS</td><td>Danielsen et al. 2011</td><td>2</td><td>Metal</td><td>Cu</td><td>Copper  </td><td>5.145677</td></tr>\n",
       "</tbody>\n",
       "</table>\n"
      ],
      "text/latex": [
       "A tibble: 6 × 9\n",
       "\\begin{tabular}{lllllllll}\n",
       " HAWC\\_ID & Metric & Sample & Study & Sample\\_Number & Class & DTXSID & Name & Value\\\\\n",
       " <dbl> & <chr> & <chr> & <chr> & <dbl> & <chr> & <chr> & <chr> & <dbl>\\\\\n",
       "\\hline\n",
       "\t 267105 & Weight & WS & Danielsen et al. 2011 & 1 & Metal & Cd & Cadmium  & 4.925999\\\\\n",
       "\t 267105 & Weight & WS & Danielsen et al. 2011 & 2 & Metal & Cd & Cadmium  &       NA\\\\\n",
       "\t 267105 & Weight & WS & Danielsen et al. 2011 & 1 & Metal & Cr & Chromium & 4.485427\\\\\n",
       "\t 267105 & Weight & WS & Danielsen et al. 2011 & 2 & Metal & Cr & Chromium & 4.478972\\\\\n",
       "\t 267105 & Weight & WS & Danielsen et al. 2011 & 1 & Metal & Cu & Copper   & 6.057450\\\\\n",
       "\t 267105 & Weight & WS & Danielsen et al. 2011 & 2 & Metal & Cu & Copper   & 5.145677\\\\\n",
       "\\end{tabular}\n"
      ],
      "text/markdown": [
       "\n",
       "A tibble: 6 × 9\n",
       "\n",
       "| HAWC_ID &lt;dbl&gt; | Metric &lt;chr&gt; | Sample &lt;chr&gt; | Study &lt;chr&gt; | Sample_Number &lt;dbl&gt; | Class &lt;chr&gt; | DTXSID &lt;chr&gt; | Name &lt;chr&gt; | Value &lt;dbl&gt; |\n",
       "|---|---|---|---|---|---|---|---|---|\n",
       "| 267105 | Weight | WS | Danielsen et al. 2011 | 1 | Metal | Cd | Cadmium  | 4.925999 |\n",
       "| 267105 | Weight | WS | Danielsen et al. 2011 | 2 | Metal | Cd | Cadmium  |       NA |\n",
       "| 267105 | Weight | WS | Danielsen et al. 2011 | 1 | Metal | Cr | Chromium | 4.485427 |\n",
       "| 267105 | Weight | WS | Danielsen et al. 2011 | 2 | Metal | Cr | Chromium | 4.478972 |\n",
       "| 267105 | Weight | WS | Danielsen et al. 2011 | 1 | Metal | Cu | Copper   | 6.057450 |\n",
       "| 267105 | Weight | WS | Danielsen et al. 2011 | 2 | Metal | Cu | Copper   | 5.145677 |\n",
       "\n"
      ],
      "text/plain": [
       "  HAWC_ID Metric Sample Study                 Sample_Number Class DTXSID\n",
       "1 267105  Weight WS     Danielsen et al. 2011 1             Metal Cd    \n",
       "2 267105  Weight WS     Danielsen et al. 2011 2             Metal Cd    \n",
       "3 267105  Weight WS     Danielsen et al. 2011 1             Metal Cr    \n",
       "4 267105  Weight WS     Danielsen et al. 2011 2             Metal Cr    \n",
       "5 267105  Weight WS     Danielsen et al. 2011 1             Metal Cu    \n",
       "6 267105  Weight WS     Danielsen et al. 2011 2             Metal Cu    \n",
       "  Name     Value   \n",
       "1 Cadmium  4.925999\n",
       "2 Cadmium        NA\n",
       "3 Chromium 4.485427\n",
       "4 Chromium 4.478972\n",
       "5 Copper   6.057450\n",
       "6 Copper   5.145677"
      ]
     },
     "metadata": {},
     "output_type": "display_data"
    }
   ],
   "source": [
    "preimputed_weight_df$Value = as.numeric(preimputed_weight_df$Value)\n",
    "preimputed_vol_df$Value = as.numeric(preimputed_vol_df$Value)\n",
    "mar_weight_df$Value = as.numeric(mar_weight_df$Value)\n",
    "mar_vol_df$Value = as.numeric(mar_vol_df$Value)\n",
    "\n",
    "# reordering cols\n",
    "preimputed_weight_df = preimputed_weight_df[,c(3,1,4,6,7,2,8,5,9)] %>%\n",
    "    # normalizing data\n",
    "    mutate(Value = log2(Value + 1))\n",
    "preimputed_vol_df = preimputed_vol_df[,c(3,1,4,6,7,2,8,5,9)] %>%\n",
    "    # normalizing data\n",
    "    mutate(Value = log2(Value + 1))\n",
    "\n",
    "head(preimputed_weight_df)"
   ]
  },
  {
   "cell_type": "code",
   "execution_count": 22,
   "id": "d661b972-2072-4dea-a918-94209634c3be",
   "metadata": {
    "scrolled": true
   },
   "outputs": [
    {
     "data": {
      "text/html": [
       "<table class=\"dataframe\">\n",
       "<caption>A tibble: 6 × 9</caption>\n",
       "<thead>\n",
       "\t<tr><th scope=col>HAWC_ID</th><th scope=col>Metric</th><th scope=col>Sample</th><th scope=col>Study</th><th scope=col>Sample_Number</th><th scope=col>Class</th><th scope=col>DTXSID</th><th scope=col>Name</th><th scope=col>Value</th></tr>\n",
       "\t<tr><th scope=col>&lt;dbl&gt;</th><th scope=col>&lt;chr&gt;</th><th scope=col>&lt;chr&gt;</th><th scope=col>&lt;chr&gt;</th><th scope=col>&lt;dbl&gt;</th><th scope=col>&lt;chr&gt;</th><th scope=col>&lt;chr&gt;</th><th scope=col>&lt;chr&gt;</th><th scope=col>&lt;dbl&gt;</th></tr>\n",
       "</thead>\n",
       "<tbody>\n",
       "\t<tr><td>267105</td><td>Weight</td><td>WS</td><td>Danielsen et al. 2011</td><td>2</td><td>Metal</td><td>Cd</td><td>Cadmium  </td><td>NA</td></tr>\n",
       "\t<tr><td>267105</td><td>Weight</td><td>WS</td><td>Danielsen et al. 2011</td><td>1</td><td>Metal</td><td>Mn</td><td>Manganese</td><td>NA</td></tr>\n",
       "\t<tr><td>267105</td><td>Weight</td><td>WS</td><td>Danielsen et al. 2011</td><td>2</td><td>Metal</td><td>Mn</td><td>Manganese</td><td>NA</td></tr>\n",
       "\t<tr><td>271638</td><td>Weight</td><td>WS</td><td>Jalava et al. 2012   </td><td>1</td><td>Metal</td><td>Pb</td><td>Lead     </td><td>NA</td></tr>\n",
       "\t<tr><td>271638</td><td>Weight</td><td>WS</td><td>Jalava et al. 2012   </td><td>2</td><td>Metal</td><td>Pb</td><td>Lead     </td><td>NA</td></tr>\n",
       "\t<tr><td>271638</td><td>Weight</td><td>WS</td><td>Jalava et al. 2012   </td><td>3</td><td>Metal</td><td>Pb</td><td>Lead     </td><td>NA</td></tr>\n",
       "</tbody>\n",
       "</table>\n"
      ],
      "text/latex": [
       "A tibble: 6 × 9\n",
       "\\begin{tabular}{lllllllll}\n",
       " HAWC\\_ID & Metric & Sample & Study & Sample\\_Number & Class & DTXSID & Name & Value\\\\\n",
       " <dbl> & <chr> & <chr> & <chr> & <dbl> & <chr> & <chr> & <chr> & <dbl>\\\\\n",
       "\\hline\n",
       "\t 267105 & Weight & WS & Danielsen et al. 2011 & 2 & Metal & Cd & Cadmium   & NA\\\\\n",
       "\t 267105 & Weight & WS & Danielsen et al. 2011 & 1 & Metal & Mn & Manganese & NA\\\\\n",
       "\t 267105 & Weight & WS & Danielsen et al. 2011 & 2 & Metal & Mn & Manganese & NA\\\\\n",
       "\t 271638 & Weight & WS & Jalava et al. 2012    & 1 & Metal & Pb & Lead      & NA\\\\\n",
       "\t 271638 & Weight & WS & Jalava et al. 2012    & 2 & Metal & Pb & Lead      & NA\\\\\n",
       "\t 271638 & Weight & WS & Jalava et al. 2012    & 3 & Metal & Pb & Lead      & NA\\\\\n",
       "\\end{tabular}\n"
      ],
      "text/markdown": [
       "\n",
       "A tibble: 6 × 9\n",
       "\n",
       "| HAWC_ID &lt;dbl&gt; | Metric &lt;chr&gt; | Sample &lt;chr&gt; | Study &lt;chr&gt; | Sample_Number &lt;dbl&gt; | Class &lt;chr&gt; | DTXSID &lt;chr&gt; | Name &lt;chr&gt; | Value &lt;dbl&gt; |\n",
       "|---|---|---|---|---|---|---|---|---|\n",
       "| 267105 | Weight | WS | Danielsen et al. 2011 | 2 | Metal | Cd | Cadmium   | NA |\n",
       "| 267105 | Weight | WS | Danielsen et al. 2011 | 1 | Metal | Mn | Manganese | NA |\n",
       "| 267105 | Weight | WS | Danielsen et al. 2011 | 2 | Metal | Mn | Manganese | NA |\n",
       "| 271638 | Weight | WS | Jalava et al. 2012    | 1 | Metal | Pb | Lead      | NA |\n",
       "| 271638 | Weight | WS | Jalava et al. 2012    | 2 | Metal | Pb | Lead      | NA |\n",
       "| 271638 | Weight | WS | Jalava et al. 2012    | 3 | Metal | Pb | Lead      | NA |\n",
       "\n"
      ],
      "text/plain": [
       "  HAWC_ID Metric Sample Study                 Sample_Number Class DTXSID\n",
       "1 267105  Weight WS     Danielsen et al. 2011 2             Metal Cd    \n",
       "2 267105  Weight WS     Danielsen et al. 2011 1             Metal Mn    \n",
       "3 267105  Weight WS     Danielsen et al. 2011 2             Metal Mn    \n",
       "4 271638  Weight WS     Jalava et al. 2012    1             Metal Pb    \n",
       "5 271638  Weight WS     Jalava et al. 2012    2             Metal Pb    \n",
       "6 271638  Weight WS     Jalava et al. 2012    3             Metal Pb    \n",
       "  Name      Value\n",
       "1 Cadmium   NA   \n",
       "2 Manganese NA   \n",
       "3 Manganese NA   \n",
       "4 Lead      NA   \n",
       "5 Lead      NA   \n",
       "6 Lead      NA   "
      ]
     },
     "metadata": {},
     "output_type": "display_data"
    }
   ],
   "source": [
    "# creating a df for MNAR data\n",
    "mnar_weight_df = preimputed_weight_df %>%\n",
    "    filter(is.na(Value))\n",
    "mnar_vol_df = preimputed_vol_df %>%\n",
    "    filter(is.na(Value))\n",
    "\n",
    "head(mnar_weight_df)"
   ]
  },
  {
   "cell_type": "code",
   "execution_count": 23,
   "id": "067dc934-b139-443d-82f5-5100ec735bc4",
   "metadata": {
    "scrolled": true
   },
   "outputs": [
    {
     "name": "stderr",
     "output_type": "stream",
     "text": [
      "Warning message:\n",
      "“\u001b[1m\u001b[22mThere was 1 warning in `mutate()`.\n",
      "\u001b[1m\u001b[22m\u001b[36mℹ\u001b[39m In argument: `Value = sqrt(min(filtered_df$Value, na.rm = TRUE))`.\n",
      "Caused by warning in `min()`:\n",
      "\u001b[33m!\u001b[39m no non-missing arguments to min; returning Inf”\n",
      "Warning message:\n",
      "“\u001b[1m\u001b[22mThere was 1 warning in `mutate()`.\n",
      "\u001b[1m\u001b[22m\u001b[36mℹ\u001b[39m In argument: `Value = sqrt(min(filtered_df$Value, na.rm = TRUE))`.\n",
      "Caused by warning in `min()`:\n",
      "\u001b[33m!\u001b[39m no non-missing arguments to min; returning Inf”\n",
      "Warning message:\n",
      "“\u001b[1m\u001b[22mThere was 1 warning in `mutate()`.\n",
      "\u001b[1m\u001b[22m\u001b[36mℹ\u001b[39m In argument: `Value = sqrt(min(filtered_df$Value, na.rm = TRUE))`.\n",
      "Caused by warning in `min()`:\n",
      "\u001b[33m!\u001b[39m no non-missing arguments to min; returning Inf”\n",
      "Warning message:\n",
      "“\u001b[1m\u001b[22mThere was 1 warning in `mutate()`.\n",
      "\u001b[1m\u001b[22m\u001b[36mℹ\u001b[39m In argument: `Value = sqrt(min(filtered_df$Value, na.rm = TRUE))`.\n",
      "Caused by warning in `min()`:\n",
      "\u001b[33m!\u001b[39m no non-missing arguments to min; returning Inf”\n",
      "Warning message:\n",
      "“\u001b[1m\u001b[22mThere was 1 warning in `mutate()`.\n",
      "\u001b[1m\u001b[22m\u001b[36mℹ\u001b[39m In argument: `Value = sqrt(min(filtered_df$Value, na.rm = TRUE))`.\n",
      "Caused by warning in `min()`:\n",
      "\u001b[33m!\u001b[39m no non-missing arguments to min; returning Inf”\n",
      "Warning message:\n",
      "“\u001b[1m\u001b[22mThere was 1 warning in `mutate()`.\n",
      "\u001b[1m\u001b[22m\u001b[36mℹ\u001b[39m In argument: `Value = sqrt(min(filtered_df$Value, na.rm = TRUE))`.\n",
      "Caused by warning in `min()`:\n",
      "\u001b[33m!\u001b[39m no non-missing arguments to min; returning Inf”\n",
      "Warning message:\n",
      "“\u001b[1m\u001b[22mThere was 1 warning in `mutate()`.\n",
      "\u001b[1m\u001b[22m\u001b[36mℹ\u001b[39m In argument: `Value = sqrt(min(filtered_df$Value, na.rm = TRUE))`.\n",
      "Caused by warning in `min()`:\n",
      "\u001b[33m!\u001b[39m no non-missing arguments to min; returning Inf”\n",
      "Warning message:\n",
      "“\u001b[1m\u001b[22mThere was 1 warning in `mutate()`.\n",
      "\u001b[1m\u001b[22m\u001b[36mℹ\u001b[39m In argument: `Value = sqrt(min(filtered_df$Value, na.rm = TRUE))`.\n",
      "Caused by warning in `min()`:\n",
      "\u001b[33m!\u001b[39m no non-missing arguments to min; returning Inf”\n",
      "Warning message:\n",
      "“\u001b[1m\u001b[22mThere was 1 warning in `mutate()`.\n",
      "\u001b[1m\u001b[22m\u001b[36mℹ\u001b[39m In argument: `Value = sqrt(min(filtered_df$Value, na.rm = TRUE))`.\n",
      "Caused by warning in `min()`:\n",
      "\u001b[33m!\u001b[39m no non-missing arguments to min; returning Inf”\n",
      "Warning message:\n",
      "“\u001b[1m\u001b[22mThere was 1 warning in `mutate()`.\n",
      "\u001b[1m\u001b[22m\u001b[36mℹ\u001b[39m In argument: `Value = sqrt(min(filtered_df$Value, na.rm = TRUE))`.\n",
      "Caused by warning in `min()`:\n",
      "\u001b[33m!\u001b[39m no non-missing arguments to min; returning Inf”\n",
      "Warning message:\n",
      "“\u001b[1m\u001b[22mThere was 1 warning in `mutate()`.\n",
      "\u001b[1m\u001b[22m\u001b[36mℹ\u001b[39m In argument: `Value = sqrt(min(filtered_df$Value, na.rm = TRUE))`.\n",
      "Caused by warning in `min()`:\n",
      "\u001b[33m!\u001b[39m no non-missing arguments to min; returning Inf”\n",
      "Warning message:\n",
      "“\u001b[1m\u001b[22mThere was 1 warning in `mutate()`.\n",
      "\u001b[1m\u001b[22m\u001b[36mℹ\u001b[39m In argument: `Value = sqrt(min(filtered_df$Value, na.rm = TRUE))`.\n",
      "Caused by warning in `min()`:\n",
      "\u001b[33m!\u001b[39m no non-missing arguments to min; returning Inf”\n",
      "Warning message:\n",
      "“\u001b[1m\u001b[22mThere was 1 warning in `mutate()`.\n",
      "\u001b[1m\u001b[22m\u001b[36mℹ\u001b[39m In argument: `Value = sqrt(min(filtered_df$Value, na.rm = TRUE))`.\n",
      "Caused by warning in `min()`:\n",
      "\u001b[33m!\u001b[39m no non-missing arguments to min; returning Inf”\n",
      "Warning message:\n",
      "“\u001b[1m\u001b[22mThere was 1 warning in `mutate()`.\n",
      "\u001b[1m\u001b[22m\u001b[36mℹ\u001b[39m In argument: `Value = sqrt(min(filtered_df$Value, na.rm = TRUE))`.\n",
      "Caused by warning in `min()`:\n",
      "\u001b[33m!\u001b[39m no non-missing arguments to min; returning Inf”\n",
      "Warning message:\n",
      "“\u001b[1m\u001b[22mThere was 1 warning in `mutate()`.\n",
      "\u001b[1m\u001b[22m\u001b[36mℹ\u001b[39m In argument: `Value = sqrt(min(filtered_df$Value, na.rm = TRUE))`.\n",
      "Caused by warning in `min()`:\n",
      "\u001b[33m!\u001b[39m no non-missing arguments to min; returning Inf”\n",
      "Warning message:\n",
      "“\u001b[1m\u001b[22mThere was 1 warning in `mutate()`.\n",
      "\u001b[1m\u001b[22m\u001b[36mℹ\u001b[39m In argument: `Value = sqrt(min(filtered_df$Value, na.rm = TRUE))`.\n",
      "Caused by warning in `min()`:\n",
      "\u001b[33m!\u001b[39m no non-missing arguments to min; returning Inf”\n",
      "Warning message:\n",
      "“\u001b[1m\u001b[22mThere was 1 warning in `mutate()`.\n",
      "\u001b[1m\u001b[22m\u001b[36mℹ\u001b[39m In argument: `Value = sqrt(min(filtered_df$Value, na.rm = TRUE))`.\n",
      "Caused by warning in `min()`:\n",
      "\u001b[33m!\u001b[39m no non-missing arguments to min; returning Inf”\n",
      "Warning message:\n",
      "“\u001b[1m\u001b[22mThere was 1 warning in `mutate()`.\n",
      "\u001b[1m\u001b[22m\u001b[36mℹ\u001b[39m In argument: `Value = sqrt(min(filtered_df$Value, na.rm = TRUE))`.\n",
      "Caused by warning in `min()`:\n",
      "\u001b[33m!\u001b[39m no non-missing arguments to min; returning Inf”\n",
      "Warning message:\n",
      "“\u001b[1m\u001b[22mThere was 1 warning in `mutate()`.\n",
      "\u001b[1m\u001b[22m\u001b[36mℹ\u001b[39m In argument: `Value = sqrt(min(filtered_df$Value, na.rm = TRUE))`.\n",
      "Caused by warning in `min()`:\n",
      "\u001b[33m!\u001b[39m no non-missing arguments to min; returning Inf”\n",
      "Warning message:\n",
      "“\u001b[1m\u001b[22mThere was 1 warning in `mutate()`.\n",
      "\u001b[1m\u001b[22m\u001b[36mℹ\u001b[39m In argument: `Value = sqrt(min(filtered_df$Value, na.rm = TRUE))`.\n",
      "Caused by warning in `min()`:\n",
      "\u001b[33m!\u001b[39m no non-missing arguments to min; returning Inf”\n",
      "Warning message:\n",
      "“\u001b[1m\u001b[22mThere was 1 warning in `mutate()`.\n",
      "\u001b[1m\u001b[22m\u001b[36mℹ\u001b[39m In argument: `Value = sqrt(min(filtered_df$Value, na.rm = TRUE))`.\n",
      "Caused by warning in `min()`:\n",
      "\u001b[33m!\u001b[39m no non-missing arguments to min; returning Inf”\n",
      "Warning message:\n",
      "“\u001b[1m\u001b[22mThere was 1 warning in `mutate()`.\n",
      "\u001b[1m\u001b[22m\u001b[36mℹ\u001b[39m In argument: `Value = sqrt(min(filtered_df$Value, na.rm = TRUE))`.\n",
      "Caused by warning in `min()`:\n",
      "\u001b[33m!\u001b[39m no non-missing arguments to min; returning Inf”\n",
      "Warning message:\n",
      "“\u001b[1m\u001b[22mThere was 1 warning in `mutate()`.\n",
      "\u001b[1m\u001b[22m\u001b[36mℹ\u001b[39m In argument: `Value = sqrt(min(filtered_df$Value, na.rm = TRUE))`.\n",
      "Caused by warning in `min()`:\n",
      "\u001b[33m!\u001b[39m no non-missing arguments to min; returning Inf”\n",
      "Warning message:\n",
      "“\u001b[1m\u001b[22mThere was 1 warning in `mutate()`.\n",
      "\u001b[1m\u001b[22m\u001b[36mℹ\u001b[39m In argument: `Value = sqrt(min(filtered_df$Value, na.rm = TRUE))`.\n",
      "Caused by warning in `min()`:\n",
      "\u001b[33m!\u001b[39m no non-missing arguments to min; returning Inf”\n",
      "Warning message:\n",
      "“\u001b[1m\u001b[22mThere was 1 warning in `mutate()`.\n",
      "\u001b[1m\u001b[22m\u001b[36mℹ\u001b[39m In argument: `Value = sqrt(min(filtered_df$Value, na.rm = TRUE))`.\n",
      "Caused by warning in `min()`:\n",
      "\u001b[33m!\u001b[39m no non-missing arguments to min; returning Inf”\n",
      "Warning message:\n",
      "“\u001b[1m\u001b[22mThere was 1 warning in `mutate()`.\n",
      "\u001b[1m\u001b[22m\u001b[36mℹ\u001b[39m In argument: `Value = sqrt(min(filtered_df$Value, na.rm = TRUE))`.\n",
      "Caused by warning in `min()`:\n",
      "\u001b[33m!\u001b[39m no non-missing arguments to min; returning Inf”\n",
      "Warning message:\n",
      "“\u001b[1m\u001b[22mThere was 1 warning in `mutate()`.\n",
      "\u001b[1m\u001b[22m\u001b[36mℹ\u001b[39m In argument: `Value = sqrt(min(filtered_df$Value, na.rm = TRUE))`.\n",
      "Caused by warning in `min()`:\n",
      "\u001b[33m!\u001b[39m no non-missing arguments to min; returning Inf”\n",
      "Warning message:\n",
      "“\u001b[1m\u001b[22mThere was 1 warning in `mutate()`.\n",
      "\u001b[1m\u001b[22m\u001b[36mℹ\u001b[39m In argument: `Value = sqrt(min(filtered_df$Value, na.rm = TRUE))`.\n",
      "Caused by warning in `min()`:\n",
      "\u001b[33m!\u001b[39m no non-missing arguments to min; returning Inf”\n",
      "Warning message:\n",
      "“\u001b[1m\u001b[22mThere was 1 warning in `mutate()`.\n",
      "\u001b[1m\u001b[22m\u001b[36mℹ\u001b[39m In argument: `Value = sqrt(min(filtered_df$Value, na.rm = TRUE))`.\n",
      "Caused by warning in `min()`:\n",
      "\u001b[33m!\u001b[39m no non-missing arguments to min; returning Inf”\n",
      "Warning message:\n",
      "“\u001b[1m\u001b[22mThere was 1 warning in `mutate()`.\n",
      "\u001b[1m\u001b[22m\u001b[36mℹ\u001b[39m In argument: `Value = sqrt(min(filtered_df$Value, na.rm = TRUE))`.\n",
      "Caused by warning in `min()`:\n",
      "\u001b[33m!\u001b[39m no non-missing arguments to min; returning Inf”\n",
      "Warning message:\n",
      "“\u001b[1m\u001b[22mThere was 1 warning in `mutate()`.\n",
      "\u001b[1m\u001b[22m\u001b[36mℹ\u001b[39m In argument: `Value = sqrt(min(filtered_df$Value, na.rm = TRUE))`.\n",
      "Caused by warning in `min()`:\n",
      "\u001b[33m!\u001b[39m no non-missing arguments to min; returning Inf”\n",
      "Warning message:\n",
      "“\u001b[1m\u001b[22mThere was 1 warning in `mutate()`.\n",
      "\u001b[1m\u001b[22m\u001b[36mℹ\u001b[39m In argument: `Value = sqrt(min(filtered_df$Value, na.rm = TRUE))`.\n",
      "Caused by warning in `min()`:\n",
      "\u001b[33m!\u001b[39m no non-missing arguments to min; returning Inf”\n",
      "Warning message:\n",
      "“\u001b[1m\u001b[22mThere was 1 warning in `mutate()`.\n",
      "\u001b[1m\u001b[22m\u001b[36mℹ\u001b[39m In argument: `Value = sqrt(min(filtered_df$Value, na.rm = TRUE))`.\n",
      "Caused by warning in `min()`:\n",
      "\u001b[33m!\u001b[39m no non-missing arguments to min; returning Inf”\n"
     ]
    },
    {
     "data": {
      "text/html": [
       "<table class=\"dataframe\">\n",
       "<caption>A tibble: 6 × 9</caption>\n",
       "<thead>\n",
       "\t<tr><th scope=col>HAWC_ID</th><th scope=col>Metric</th><th scope=col>Sample</th><th scope=col>Study</th><th scope=col>Sample_Number</th><th scope=col>Class</th><th scope=col>DTXSID</th><th scope=col>Name</th><th scope=col>Value</th></tr>\n",
       "\t<tr><th scope=col>&lt;dbl&gt;</th><th scope=col>&lt;chr&gt;</th><th scope=col>&lt;chr&gt;</th><th scope=col>&lt;chr&gt;</th><th scope=col>&lt;dbl&gt;</th><th scope=col>&lt;chr&gt;</th><th scope=col>&lt;chr&gt;</th><th scope=col>&lt;chr&gt;</th><th scope=col>&lt;dbl&gt;</th></tr>\n",
       "</thead>\n",
       "<tbody>\n",
       "\t<tr><td>267105</td><td>Weight</td><td>WS</td><td>Danielsen et al. 2011</td><td>1</td><td>Metal</td><td>Cd</td><td>Cadmium  </td><td>4.925999</td></tr>\n",
       "\t<tr><td>267105</td><td>Weight</td><td>WS</td><td>Danielsen et al. 2011</td><td>2</td><td>Metal</td><td>Cd</td><td>Cadmium  </td><td>2.219459</td></tr>\n",
       "\t<tr><td>267105</td><td>Weight</td><td>WS</td><td>Danielsen et al. 2011</td><td>1</td><td>Metal</td><td>Mn</td><td>Manganese</td><td>      NA</td></tr>\n",
       "\t<tr><td>267105</td><td>Weight</td><td>WS</td><td>Danielsen et al. 2011</td><td>2</td><td>Metal</td><td>Mn</td><td>Manganese</td><td>      NA</td></tr>\n",
       "\t<tr><td>271638</td><td>Weight</td><td>WS</td><td>Jalava et al. 2012   </td><td>1</td><td>Metal</td><td>Pb</td><td>Lead     </td><td>      NA</td></tr>\n",
       "\t<tr><td>271638</td><td>Weight</td><td>WS</td><td>Jalava et al. 2012   </td><td>2</td><td>Metal</td><td>Pb</td><td>Lead     </td><td>      NA</td></tr>\n",
       "</tbody>\n",
       "</table>\n"
      ],
      "text/latex": [
       "A tibble: 6 × 9\n",
       "\\begin{tabular}{lllllllll}\n",
       " HAWC\\_ID & Metric & Sample & Study & Sample\\_Number & Class & DTXSID & Name & Value\\\\\n",
       " <dbl> & <chr> & <chr> & <chr> & <dbl> & <chr> & <chr> & <chr> & <dbl>\\\\\n",
       "\\hline\n",
       "\t 267105 & Weight & WS & Danielsen et al. 2011 & 1 & Metal & Cd & Cadmium   & 4.925999\\\\\n",
       "\t 267105 & Weight & WS & Danielsen et al. 2011 & 2 & Metal & Cd & Cadmium   & 2.219459\\\\\n",
       "\t 267105 & Weight & WS & Danielsen et al. 2011 & 1 & Metal & Mn & Manganese &       NA\\\\\n",
       "\t 267105 & Weight & WS & Danielsen et al. 2011 & 2 & Metal & Mn & Manganese &       NA\\\\\n",
       "\t 271638 & Weight & WS & Jalava et al. 2012    & 1 & Metal & Pb & Lead      &       NA\\\\\n",
       "\t 271638 & Weight & WS & Jalava et al. 2012    & 2 & Metal & Pb & Lead      &       NA\\\\\n",
       "\\end{tabular}\n"
      ],
      "text/markdown": [
       "\n",
       "A tibble: 6 × 9\n",
       "\n",
       "| HAWC_ID &lt;dbl&gt; | Metric &lt;chr&gt; | Sample &lt;chr&gt; | Study &lt;chr&gt; | Sample_Number &lt;dbl&gt; | Class &lt;chr&gt; | DTXSID &lt;chr&gt; | Name &lt;chr&gt; | Value &lt;dbl&gt; |\n",
       "|---|---|---|---|---|---|---|---|---|\n",
       "| 267105 | Weight | WS | Danielsen et al. 2011 | 1 | Metal | Cd | Cadmium   | 4.925999 |\n",
       "| 267105 | Weight | WS | Danielsen et al. 2011 | 2 | Metal | Cd | Cadmium   | 2.219459 |\n",
       "| 267105 | Weight | WS | Danielsen et al. 2011 | 1 | Metal | Mn | Manganese |       NA |\n",
       "| 267105 | Weight | WS | Danielsen et al. 2011 | 2 | Metal | Mn | Manganese |       NA |\n",
       "| 271638 | Weight | WS | Jalava et al. 2012    | 1 | Metal | Pb | Lead      |       NA |\n",
       "| 271638 | Weight | WS | Jalava et al. 2012    | 2 | Metal | Pb | Lead      |       NA |\n",
       "\n"
      ],
      "text/plain": [
       "  HAWC_ID Metric Sample Study                 Sample_Number Class DTXSID\n",
       "1 267105  Weight WS     Danielsen et al. 2011 1             Metal Cd    \n",
       "2 267105  Weight WS     Danielsen et al. 2011 2             Metal Cd    \n",
       "3 267105  Weight WS     Danielsen et al. 2011 1             Metal Mn    \n",
       "4 267105  Weight WS     Danielsen et al. 2011 2             Metal Mn    \n",
       "5 271638  Weight WS     Jalava et al. 2012    1             Metal Pb    \n",
       "6 271638  Weight WS     Jalava et al. 2012    2             Metal Pb    \n",
       "  Name      Value   \n",
       "1 Cadmium   4.925999\n",
       "2 Cadmium   2.219459\n",
       "3 Manganese       NA\n",
       "4 Manganese       NA\n",
       "5 Lead            NA\n",
       "6 Lead            NA"
      ]
     },
     "metadata": {},
     "output_type": "display_data"
    }
   ],
   "source": [
    "square_root_imputation = function(mnar_df, preimputed_df){\n",
    "    # \"\"\"\n",
    "    # Imputing MNAR values based on the square root of the minimum concentration for each chemical \n",
    "    # within a study or metal.\n",
    "    \n",
    "    # :param: MNAR dataframe, preimputed dataframe\n",
    "    # :output: a dataframe with imputed values\n",
    "\n",
    "    # \"\"\"\n",
    "\n",
    "    id_df = mnar_df[is.na(mnar_df$Value),]\n",
    "    study_ids = unique(id_df$HAWC_ID)\n",
    "    \n",
    "    imputed_df = data.frame()\n",
    "    for (i in 1:length(id_df$HAWC_ID)){\n",
    "    \n",
    "        filtered_df = preimputed_df %>%\n",
    "            filter(HAWC_ID == id_df$HAWC_ID[i], DTXSID == id_df$DTXSID[i])\n",
    "    \n",
    "        na_df = filtered_df %>%\n",
    "            filter(is.na(Value)) %>%\n",
    "            mutate(Value = sqrt(min(filtered_df$Value, na.rm = TRUE)))\n",
    "    \n",
    "        # combining rows of data\n",
    "        combined_df = rbind(filtered_df %>%\n",
    "            filter(!is.na(Value)), na_df)\n",
    "    \n",
    "        imputed_df = rbind(imputed_df, combined_df) %>%\n",
    "                        unique()\n",
    "    }\n",
    "    return(imputed_df)    \n",
    "    \n",
    "}\n",
    "\n",
    "# calling fn\n",
    "imputed_vol_df = square_root_imputation(mnar_vol_df, preimputed_vol_df) %>%\n",
    "    mutate(Value = ifelse(Value == Inf, NA, Value))\n",
    "imputed_weight_df = square_root_imputation(mnar_weight_df, preimputed_weight_df) %>%\n",
    "    mutate(Value = ifelse(Value == Inf, NA, Value))\n",
    "    \n",
    "head(imputed_weight_df)"
   ]
  },
  {
   "cell_type": "code",
   "execution_count": 24,
   "id": "07854f04-04e7-47e4-8bf0-d5a235651018",
   "metadata": {
    "scrolled": true
   },
   "outputs": [
    {
     "name": "stderr",
     "output_type": "stream",
     "text": [
      "\u001b[1m\u001b[22mJoining with `by = join_by(Metric, Sample, Class, DTXSID)`\n",
      "\u001b[1m\u001b[22mJoining with `by = join_by(Metric, Sample, Class, DTXSID)`\n"
     ]
    },
    {
     "data": {
      "text/html": [
       "<table class=\"dataframe\">\n",
       "<caption>A tibble: 5 × 2</caption>\n",
       "<thead>\n",
       "\t<tr><th scope=col>DTXSID</th><th scope=col>Value</th></tr>\n",
       "\t<tr><th scope=col>&lt;chr&gt;</th><th scope=col>&lt;dbl&gt;</th></tr>\n",
       "</thead>\n",
       "<tbody>\n",
       "\t<tr><td>DTXSID0022432</td><td>0.28993838</td></tr>\n",
       "\t<tr><td>DTXSID0023878</td><td>0.07867839</td></tr>\n",
       "\t<tr><td>DTXSID2020139</td><td>0.10920141</td></tr>\n",
       "\t<tr><td>DTXSID3024104</td><td>0.16902412</td></tr>\n",
       "\t<tr><td>DTXSID6024254</td><td>0.11981358</td></tr>\n",
       "</tbody>\n",
       "</table>\n"
      ],
      "text/latex": [
       "A tibble: 5 × 2\n",
       "\\begin{tabular}{ll}\n",
       " DTXSID & Value\\\\\n",
       " <chr> & <dbl>\\\\\n",
       "\\hline\n",
       "\t DTXSID0022432 & 0.28993838\\\\\n",
       "\t DTXSID0023878 & 0.07867839\\\\\n",
       "\t DTXSID2020139 & 0.10920141\\\\\n",
       "\t DTXSID3024104 & 0.16902412\\\\\n",
       "\t DTXSID6024254 & 0.11981358\\\\\n",
       "\\end{tabular}\n"
      ],
      "text/markdown": [
       "\n",
       "A tibble: 5 × 2\n",
       "\n",
       "| DTXSID &lt;chr&gt; | Value &lt;dbl&gt; |\n",
       "|---|---|\n",
       "| DTXSID0022432 | 0.28993838 |\n",
       "| DTXSID0023878 | 0.07867839 |\n",
       "| DTXSID2020139 | 0.10920141 |\n",
       "| DTXSID3024104 | 0.16902412 |\n",
       "| DTXSID6024254 | 0.11981358 |\n",
       "\n"
      ],
      "text/plain": [
       "  DTXSID        Value     \n",
       "1 DTXSID0022432 0.28993838\n",
       "2 DTXSID0023878 0.07867839\n",
       "3 DTXSID2020139 0.10920141\n",
       "4 DTXSID3024104 0.16902412\n",
       "5 DTXSID6024254 0.11981358"
      ]
     },
     "metadata": {},
     "output_type": "display_data"
    },
    {
     "data": {
      "text/html": [
       "<style>\n",
       ".list-inline {list-style: none; margin:0; padding: 0}\n",
       ".list-inline>li {display: inline-block}\n",
       ".list-inline>li:not(:last-child)::after {content: \"\\00b7\"; padding: 0 .5ex}\n",
       "</style>\n",
       "<ol class=list-inline><li>5</li><li>2</li></ol>\n"
      ],
      "text/latex": [
       "\\begin{enumerate*}\n",
       "\\item 5\n",
       "\\item 2\n",
       "\\end{enumerate*}\n"
      ],
      "text/markdown": [
       "1. 5\n",
       "2. 2\n",
       "\n",
       "\n"
      ],
      "text/plain": [
       "[1] 5 2"
      ]
     },
     "metadata": {},
     "output_type": "display_data"
    },
    {
     "data": {
      "text/html": [
       "<table class=\"dataframe\">\n",
       "<caption>A tibble: 6 × 2</caption>\n",
       "<thead>\n",
       "\t<tr><th scope=col>DTXSID</th><th scope=col>Value</th></tr>\n",
       "\t<tr><th scope=col>&lt;chr&gt;</th><th scope=col>&lt;dbl&gt;</th></tr>\n",
       "</thead>\n",
       "<tbody>\n",
       "\t<tr><td>Cr           </td><td>0.37081468</td></tr>\n",
       "\t<tr><td>DTXSID0023907</td><td>0.10382600</td></tr>\n",
       "\t<tr><td>DTXSID3023845</td><td>0.13868023</td></tr>\n",
       "\t<tr><td>DTXSID8020913</td><td>0.17944249</td></tr>\n",
       "\t<tr><td>DTXSID8024153</td><td>0.07455255</td></tr>\n",
       "\t<tr><td>Fe           </td><td>0.78328261</td></tr>\n",
       "</tbody>\n",
       "</table>\n"
      ],
      "text/latex": [
       "A tibble: 6 × 2\n",
       "\\begin{tabular}{ll}\n",
       " DTXSID & Value\\\\\n",
       " <chr> & <dbl>\\\\\n",
       "\\hline\n",
       "\t Cr            & 0.37081468\\\\\n",
       "\t DTXSID0023907 & 0.10382600\\\\\n",
       "\t DTXSID3023845 & 0.13868023\\\\\n",
       "\t DTXSID8020913 & 0.17944249\\\\\n",
       "\t DTXSID8024153 & 0.07455255\\\\\n",
       "\t Fe            & 0.78328261\\\\\n",
       "\\end{tabular}\n"
      ],
      "text/markdown": [
       "\n",
       "A tibble: 6 × 2\n",
       "\n",
       "| DTXSID &lt;chr&gt; | Value &lt;dbl&gt; |\n",
       "|---|---|\n",
       "| Cr            | 0.37081468 |\n",
       "| DTXSID0023907 | 0.10382600 |\n",
       "| DTXSID3023845 | 0.13868023 |\n",
       "| DTXSID8020913 | 0.17944249 |\n",
       "| DTXSID8024153 | 0.07455255 |\n",
       "| Fe            | 0.78328261 |\n",
       "\n"
      ],
      "text/plain": [
       "  DTXSID        Value     \n",
       "1 Cr            0.37081468\n",
       "2 DTXSID0023907 0.10382600\n",
       "3 DTXSID3023845 0.13868023\n",
       "4 DTXSID8020913 0.17944249\n",
       "5 DTXSID8024153 0.07455255\n",
       "6 Fe            0.78328261"
      ]
     },
     "metadata": {},
     "output_type": "display_data"
    },
    {
     "data": {
      "text/html": [
       "<style>\n",
       ".list-inline {list-style: none; margin:0; padding: 0}\n",
       ".list-inline>li {display: inline-block}\n",
       ".list-inline>li:not(:last-child)::after {content: \"\\00b7\"; padding: 0 .5ex}\n",
       "</style>\n",
       "<ol class=list-inline><li>9</li><li>2</li></ol>\n"
      ],
      "text/latex": [
       "\\begin{enumerate*}\n",
       "\\item 9\n",
       "\\item 2\n",
       "\\end{enumerate*}\n"
      ],
      "text/markdown": [
       "1. 9\n",
       "2. 2\n",
       "\n",
       "\n"
      ],
      "text/plain": [
       "[1] 9 2"
      ]
     },
     "metadata": {},
     "output_type": "display_data"
    }
   ],
   "source": [
    "# there are still a few variables that didn't have any values to do the square root imputation\n",
    "# their imputed values will be based off of distributions from other studies\n",
    "other_studies_vol_df = semi_join(preimputed_vol_df %>%\n",
    "                filter(!is.na(Value)), imputed_vol_df %>%\n",
    "                               filter(is.na(Value)) %>%\n",
    "    select(2,3,6,7)) %>%\n",
    "    group_by(DTXSID) %>%\n",
    "    summarize(Value = sqrt(min(Value)))\n",
    "\n",
    "other_studies_weight_df = semi_join(preimputed_weight_df %>%\n",
    "                filter(!is.na(Value)), imputed_weight_df %>%\n",
    "                               filter(is.na(Value)) %>%\n",
    "    select(2,3,6,7)) %>%\n",
    "    group_by(DTXSID) %>%\n",
    "    summarize(Value = sqrt(min(Value)))\n",
    "\n",
    "head(other_studies_vol_df)\n",
    "dim(other_studies_vol_df)\n",
    "head(other_studies_weight_df)\n",
    "dim(other_studies_weight_df)"
   ]
  },
  {
   "cell_type": "markdown",
   "id": "f1906206-a203-4e96-818c-ecfa72ec5e1a",
   "metadata": {},
   "source": [
    "7 (volume) and 14 (weight) samples were imputed based on values from other studies."
   ]
  },
  {
   "cell_type": "code",
   "execution_count": 25,
   "id": "5ccba263-d734-4cdd-a705-b1ae9d6b156f",
   "metadata": {},
   "outputs": [
    {
     "name": "stderr",
     "output_type": "stream",
     "text": [
      "\u001b[1m\u001b[22mJoining with `by = join_by(DTXSID)`\n",
      "\u001b[1m\u001b[22mJoining with `by = join_by(DTXSID)`\n"
     ]
    },
    {
     "data": {
      "text/html": [
       "<table class=\"dataframe\">\n",
       "<caption>A tibble: 6 × 9</caption>\n",
       "<thead>\n",
       "\t<tr><th scope=col>HAWC_ID</th><th scope=col>Metric</th><th scope=col>Sample</th><th scope=col>Study</th><th scope=col>Sample_Number</th><th scope=col>Class</th><th scope=col>DTXSID</th><th scope=col>Name</th><th scope=col>Value</th></tr>\n",
       "\t<tr><th scope=col>&lt;dbl&gt;</th><th scope=col>&lt;chr&gt;</th><th scope=col>&lt;chr&gt;</th><th scope=col>&lt;chr&gt;</th><th scope=col>&lt;dbl&gt;</th><th scope=col>&lt;chr&gt;</th><th scope=col>&lt;chr&gt;</th><th scope=col>&lt;chr&gt;</th><th scope=col>&lt;dbl&gt;</th></tr>\n",
       "</thead>\n",
       "<tbody>\n",
       "\t<tr><td> 267105</td><td>Weight</td><td>WS</td><td>Danielsen et al. 2011</td><td>1</td><td>Metal</td><td>Cd</td><td>Cadmium</td><td> 4.925999</td></tr>\n",
       "\t<tr><td> 267105</td><td>Weight</td><td>WS</td><td>Danielsen et al. 2011</td><td>2</td><td>Metal</td><td>Cd</td><td>Cadmium</td><td> 2.219459</td></tr>\n",
       "\t<tr><td>1040882</td><td>Weight</td><td>WS</td><td>Nordin et al. 2015   </td><td>1</td><td>Metal</td><td>Ca</td><td>Calcium</td><td>12.797864</td></tr>\n",
       "\t<tr><td>1040882</td><td>Weight</td><td>WS</td><td>Nordin et al. 2015   </td><td>2</td><td>Metal</td><td>Ca</td><td>Calcium</td><td> 3.577410</td></tr>\n",
       "\t<tr><td>1040882</td><td>Weight</td><td>WS</td><td>Nordin et al. 2015   </td><td>1</td><td>Metal</td><td>Fe</td><td>Iron   </td><td>10.195987</td></tr>\n",
       "\t<tr><td>1040882</td><td>Weight</td><td>WS</td><td>Nordin et al. 2015   </td><td>2</td><td>Metal</td><td>Fe</td><td>Iron   </td><td> 3.193116</td></tr>\n",
       "</tbody>\n",
       "</table>\n"
      ],
      "text/latex": [
       "A tibble: 6 × 9\n",
       "\\begin{tabular}{lllllllll}\n",
       " HAWC\\_ID & Metric & Sample & Study & Sample\\_Number & Class & DTXSID & Name & Value\\\\\n",
       " <dbl> & <chr> & <chr> & <chr> & <dbl> & <chr> & <chr> & <chr> & <dbl>\\\\\n",
       "\\hline\n",
       "\t  267105 & Weight & WS & Danielsen et al. 2011 & 1 & Metal & Cd & Cadmium &  4.925999\\\\\n",
       "\t  267105 & Weight & WS & Danielsen et al. 2011 & 2 & Metal & Cd & Cadmium &  2.219459\\\\\n",
       "\t 1040882 & Weight & WS & Nordin et al. 2015    & 1 & Metal & Ca & Calcium & 12.797864\\\\\n",
       "\t 1040882 & Weight & WS & Nordin et al. 2015    & 2 & Metal & Ca & Calcium &  3.577410\\\\\n",
       "\t 1040882 & Weight & WS & Nordin et al. 2015    & 1 & Metal & Fe & Iron    & 10.195987\\\\\n",
       "\t 1040882 & Weight & WS & Nordin et al. 2015    & 2 & Metal & Fe & Iron    &  3.193116\\\\\n",
       "\\end{tabular}\n"
      ],
      "text/markdown": [
       "\n",
       "A tibble: 6 × 9\n",
       "\n",
       "| HAWC_ID &lt;dbl&gt; | Metric &lt;chr&gt; | Sample &lt;chr&gt; | Study &lt;chr&gt; | Sample_Number &lt;dbl&gt; | Class &lt;chr&gt; | DTXSID &lt;chr&gt; | Name &lt;chr&gt; | Value &lt;dbl&gt; |\n",
       "|---|---|---|---|---|---|---|---|---|\n",
       "|  267105 | Weight | WS | Danielsen et al. 2011 | 1 | Metal | Cd | Cadmium |  4.925999 |\n",
       "|  267105 | Weight | WS | Danielsen et al. 2011 | 2 | Metal | Cd | Cadmium |  2.219459 |\n",
       "| 1040882 | Weight | WS | Nordin et al. 2015    | 1 | Metal | Ca | Calcium | 12.797864 |\n",
       "| 1040882 | Weight | WS | Nordin et al. 2015    | 2 | Metal | Ca | Calcium |  3.577410 |\n",
       "| 1040882 | Weight | WS | Nordin et al. 2015    | 1 | Metal | Fe | Iron    | 10.195987 |\n",
       "| 1040882 | Weight | WS | Nordin et al. 2015    | 2 | Metal | Fe | Iron    |  3.193116 |\n",
       "\n"
      ],
      "text/plain": [
       "  HAWC_ID Metric Sample Study                 Sample_Number Class DTXSID\n",
       "1  267105 Weight WS     Danielsen et al. 2011 1             Metal Cd    \n",
       "2  267105 Weight WS     Danielsen et al. 2011 2             Metal Cd    \n",
       "3 1040882 Weight WS     Nordin et al. 2015    1             Metal Ca    \n",
       "4 1040882 Weight WS     Nordin et al. 2015    2             Metal Ca    \n",
       "5 1040882 Weight WS     Nordin et al. 2015    1             Metal Fe    \n",
       "6 1040882 Weight WS     Nordin et al. 2015    2             Metal Fe    \n",
       "  Name    Value    \n",
       "1 Cadmium  4.925999\n",
       "2 Cadmium  2.219459\n",
       "3 Calcium 12.797864\n",
       "4 Calcium  3.577410\n",
       "5 Iron    10.195987\n",
       "6 Iron     3.193116"
      ]
     },
     "metadata": {},
     "output_type": "display_data"
    }
   ],
   "source": [
    "# removing NAs from the imputed df \n",
    "removed_imputed_vol_df = imputed_vol_df %>%\n",
    "    filter(!is.na(Value))\n",
    "removed_imputed_weight_df = imputed_weight_df %>%\n",
    "    filter(!is.na(Value))\n",
    "\n",
    "# adding in the newly imputed values back in \n",
    "all_imputed_vol_df = left_join(imputed_vol_df %>%\n",
    "        filter(is.na(Value)) %>%\n",
    "        select(-Value), other_studies_vol_df)\n",
    "\n",
    "all_imputed_weight_df = left_join(imputed_weight_df %>%\n",
    "        filter(is.na(Value)) %>%\n",
    "        select(-Value), other_studies_weight_df)\n",
    "\n",
    "all_imputed_vol_df = rbind(removed_imputed_vol_df, all_imputed_vol_df)\n",
    "all_imputed_weight_df = rbind(removed_imputed_weight_df, all_imputed_weight_df)\n",
    "\n",
    "head(all_imputed_weight_df)"
   ]
  },
  {
   "cell_type": "code",
   "execution_count": 26,
   "id": "1e23e74f-00fc-48d5-a263-3df792097fdd",
   "metadata": {},
   "outputs": [
    {
     "name": "stderr",
     "output_type": "stream",
     "text": [
      "\u001b[1m\u001b[22mJoining with `by = join_by(HAWC_ID, Metric, Sample, Study, Sample_Number,\n",
      "Class, DTXSID, Name)`\n",
      "\u001b[1m\u001b[22mJoining with `by = join_by(HAWC_ID, Metric, Sample, Study, Sample_Number,\n",
      "Class, DTXSID, Name)`\n"
     ]
    },
    {
     "data": {
      "text/html": [
       "<table class=\"dataframe\">\n",
       "<caption>A tibble: 6 × 9</caption>\n",
       "<thead>\n",
       "\t<tr><th scope=col>HAWC_ID</th><th scope=col>Metric</th><th scope=col>Sample</th><th scope=col>Study</th><th scope=col>Sample_Number</th><th scope=col>Class</th><th scope=col>DTXSID</th><th scope=col>Name</th><th scope=col>Value</th></tr>\n",
       "\t<tr><th scope=col>&lt;dbl&gt;</th><th scope=col>&lt;chr&gt;</th><th scope=col>&lt;chr&gt;</th><th scope=col>&lt;chr&gt;</th><th scope=col>&lt;dbl&gt;</th><th scope=col>&lt;chr&gt;</th><th scope=col>&lt;chr&gt;</th><th scope=col>&lt;chr&gt;</th><th scope=col>&lt;dbl&gt;</th></tr>\n",
       "</thead>\n",
       "<tbody>\n",
       "\t<tr><td> 267105</td><td>Weight</td><td>WS</td><td>Danielsen et al. 2011</td><td>1</td><td>Metal</td><td>Cd</td><td>Cadmium</td><td> 4.925999</td></tr>\n",
       "\t<tr><td> 267105</td><td>Weight</td><td>WS</td><td>Danielsen et al. 2011</td><td>2</td><td>Metal</td><td>Cd</td><td>Cadmium</td><td> 2.219459</td></tr>\n",
       "\t<tr><td>1040882</td><td>Weight</td><td>WS</td><td>Nordin et al. 2015   </td><td>1</td><td>Metal</td><td>Ca</td><td>Calcium</td><td>12.797864</td></tr>\n",
       "\t<tr><td>1040882</td><td>Weight</td><td>WS</td><td>Nordin et al. 2015   </td><td>2</td><td>Metal</td><td>Ca</td><td>Calcium</td><td> 3.577410</td></tr>\n",
       "\t<tr><td>1040882</td><td>Weight</td><td>WS</td><td>Nordin et al. 2015   </td><td>1</td><td>Metal</td><td>Fe</td><td>Iron   </td><td>10.195987</td></tr>\n",
       "\t<tr><td>1040882</td><td>Weight</td><td>WS</td><td>Nordin et al. 2015   </td><td>2</td><td>Metal</td><td>Fe</td><td>Iron   </td><td> 3.193116</td></tr>\n",
       "</tbody>\n",
       "</table>\n"
      ],
      "text/latex": [
       "A tibble: 6 × 9\n",
       "\\begin{tabular}{lllllllll}\n",
       " HAWC\\_ID & Metric & Sample & Study & Sample\\_Number & Class & DTXSID & Name & Value\\\\\n",
       " <dbl> & <chr> & <chr> & <chr> & <dbl> & <chr> & <chr> & <chr> & <dbl>\\\\\n",
       "\\hline\n",
       "\t  267105 & Weight & WS & Danielsen et al. 2011 & 1 & Metal & Cd & Cadmium &  4.925999\\\\\n",
       "\t  267105 & Weight & WS & Danielsen et al. 2011 & 2 & Metal & Cd & Cadmium &  2.219459\\\\\n",
       "\t 1040882 & Weight & WS & Nordin et al. 2015    & 1 & Metal & Ca & Calcium & 12.797864\\\\\n",
       "\t 1040882 & Weight & WS & Nordin et al. 2015    & 2 & Metal & Ca & Calcium &  3.577410\\\\\n",
       "\t 1040882 & Weight & WS & Nordin et al. 2015    & 1 & Metal & Fe & Iron    & 10.195987\\\\\n",
       "\t 1040882 & Weight & WS & Nordin et al. 2015    & 2 & Metal & Fe & Iron    &  3.193116\\\\\n",
       "\\end{tabular}\n"
      ],
      "text/markdown": [
       "\n",
       "A tibble: 6 × 9\n",
       "\n",
       "| HAWC_ID &lt;dbl&gt; | Metric &lt;chr&gt; | Sample &lt;chr&gt; | Study &lt;chr&gt; | Sample_Number &lt;dbl&gt; | Class &lt;chr&gt; | DTXSID &lt;chr&gt; | Name &lt;chr&gt; | Value &lt;dbl&gt; |\n",
       "|---|---|---|---|---|---|---|---|---|\n",
       "|  267105 | Weight | WS | Danielsen et al. 2011 | 1 | Metal | Cd | Cadmium |  4.925999 |\n",
       "|  267105 | Weight | WS | Danielsen et al. 2011 | 2 | Metal | Cd | Cadmium |  2.219459 |\n",
       "| 1040882 | Weight | WS | Nordin et al. 2015    | 1 | Metal | Ca | Calcium | 12.797864 |\n",
       "| 1040882 | Weight | WS | Nordin et al. 2015    | 2 | Metal | Ca | Calcium |  3.577410 |\n",
       "| 1040882 | Weight | WS | Nordin et al. 2015    | 1 | Metal | Fe | Iron    | 10.195987 |\n",
       "| 1040882 | Weight | WS | Nordin et al. 2015    | 2 | Metal | Fe | Iron    |  3.193116 |\n",
       "\n"
      ],
      "text/plain": [
       "  HAWC_ID Metric Sample Study                 Sample_Number Class DTXSID\n",
       "1  267105 Weight WS     Danielsen et al. 2011 1             Metal Cd    \n",
       "2  267105 Weight WS     Danielsen et al. 2011 2             Metal Cd    \n",
       "3 1040882 Weight WS     Nordin et al. 2015    1             Metal Ca    \n",
       "4 1040882 Weight WS     Nordin et al. 2015    2             Metal Ca    \n",
       "5 1040882 Weight WS     Nordin et al. 2015    1             Metal Fe    \n",
       "6 1040882 Weight WS     Nordin et al. 2015    2             Metal Fe    \n",
       "  Name    Value    \n",
       "1 Cadmium  4.925999\n",
       "2 Cadmium  2.219459\n",
       "3 Calcium 12.797864\n",
       "4 Calcium  3.577410\n",
       "5 Iron    10.195987\n",
       "6 Iron     3.193116"
      ]
     },
     "metadata": {},
     "output_type": "display_data"
    },
    {
     "data": {
      "text/html": [
       "<style>\n",
       ".list-inline {list-style: none; margin:0; padding: 0}\n",
       ".list-inline>li {display: inline-block}\n",
       ".list-inline>li:not(:last-child)::after {content: \"\\00b7\"; padding: 0 .5ex}\n",
       "</style>\n",
       "<ol class=list-inline><li>1013</li><li>9</li></ol>\n"
      ],
      "text/latex": [
       "\\begin{enumerate*}\n",
       "\\item 1013\n",
       "\\item 9\n",
       "\\end{enumerate*}\n"
      ],
      "text/markdown": [
       "1. 1013\n",
       "2. 9\n",
       "\n",
       "\n"
      ],
      "text/plain": [
       "[1] 1013    9"
      ]
     },
     "metadata": {},
     "output_type": "display_data"
    },
    {
     "data": {
      "text/html": [
       "<style>\n",
       ".list-inline {list-style: none; margin:0; padding: 0}\n",
       ".list-inline>li {display: inline-block}\n",
       ".list-inline>li:not(:last-child)::after {content: \"\\00b7\"; padding: 0 .5ex}\n",
       "</style>\n",
       "<ol class=list-inline><li>2270</li><li>9</li></ol>\n"
      ],
      "text/latex": [
       "\\begin{enumerate*}\n",
       "\\item 2270\n",
       "\\item 9\n",
       "\\end{enumerate*}\n"
      ],
      "text/markdown": [
       "1. 2270\n",
       "2. 9\n",
       "\n",
       "\n"
      ],
      "text/plain": [
       "[1] 2270    9"
      ]
     },
     "metadata": {},
     "output_type": "display_data"
    }
   ],
   "source": [
    "# creating 1 df\n",
    "mnar_imputed_vol_df = rbind(#imputed data\n",
    "                               all_imputed_vol_df,\n",
    "                               # adding in MAR data\n",
    "                               mar_vol_df,\n",
    "                               # adding back in non-imputed data\n",
    "                               anti_join(preimputed_vol_df, all_imputed_vol_df[,1:8]))\n",
    "mnar_imputed_weight_df = rbind(# imputed data\n",
    "                               all_imputed_weight_df,\n",
    "                               # adding in MAR data\n",
    "                               mar_weight_df,\n",
    "                               # adding back in non-imputed data\n",
    "                               anti_join(preimputed_weight_df, all_imputed_weight_df[,1:8]))\n",
    "\n",
    "head(mnar_imputed_weight_df)\n",
    "dim(mnar_imputed_vol_df)\n",
    "dim(mnar_imputed_weight_df)"
   ]
  },
  {
   "cell_type": "markdown",
   "id": "4a7e96ae-45f5-4800-8ca1-e46bf264ce17",
   "metadata": {},
   "source": [
    "# Filter #4: Double Checking MAR Records\n",
    "\n",
    "Making sure that when the data is split based on `Class` and transformed into a wide format, we have at least 20% of the records with numeric values for each metal or chemical. Converting values to 0s and 1s to count number of experimental and NDs previously imputed. Chemicals/metals that don't have at least 20% of values present will be removed."
   ]
  },
  {
   "cell_type": "code",
   "execution_count": 27,
   "id": "5f1d9f14-5cc4-4415-a8a4-5126bc5151d2",
   "metadata": {},
   "outputs": [
    {
     "data": {
      "text/html": [
       "<table class=\"dataframe\">\n",
       "<caption>A tibble: 6 × 35</caption>\n",
       "<thead>\n",
       "\t<tr><th scope=col>SampleID</th><th scope=col>HAWC_ID</th><th scope=col>Metric</th><th scope=col>Sample</th><th scope=col>Study</th><th scope=col>Sample_Number</th><th scope=col>Cd</th><th scope=col>Ca</th><th scope=col>Fe</th><th scope=col>Cr</th><th scope=col>⋯</th><th scope=col>DTXSID3024289</th><th scope=col>Mn</th><th scope=col>Ni</th><th scope=col>Cu</th><th scope=col>Zn</th><th scope=col>K</th><th scope=col>Mg</th><th scope=col>DTXSID1025649</th><th scope=col>DTXSID4075459</th><th scope=col>DTXSID8074819</th></tr>\n",
       "\t<tr><th scope=col>&lt;chr&gt;</th><th scope=col>&lt;dbl&gt;</th><th scope=col>&lt;chr&gt;</th><th scope=col>&lt;chr&gt;</th><th scope=col>&lt;chr&gt;</th><th scope=col>&lt;dbl&gt;</th><th scope=col>&lt;dbl&gt;</th><th scope=col>&lt;dbl&gt;</th><th scope=col>&lt;dbl&gt;</th><th scope=col>&lt;dbl&gt;</th><th scope=col>⋯</th><th scope=col>&lt;dbl&gt;</th><th scope=col>&lt;dbl&gt;</th><th scope=col>&lt;dbl&gt;</th><th scope=col>&lt;dbl&gt;</th><th scope=col>&lt;dbl&gt;</th><th scope=col>&lt;dbl&gt;</th><th scope=col>&lt;dbl&gt;</th><th scope=col>&lt;dbl&gt;</th><th scope=col>&lt;dbl&gt;</th><th scope=col>&lt;dbl&gt;</th></tr>\n",
       "</thead>\n",
       "<tbody>\n",
       "\t<tr><td>WS_267105_1 </td><td> 267105</td><td>Weight</td><td>WS</td><td>Danielsen et al. 2011</td><td>1</td><td>4.925999</td><td>      NA</td><td>10.370687</td><td>4.485427</td><td>⋯</td><td>8.618386</td><td> 0.5244111</td><td>3.9726927</td><td>6.057450</td><td>10.009829</td><td>      NA</td><td>      NA</td><td>3.459432</td><td>NA</td><td>NA</td></tr>\n",
       "\t<tr><td>WS_267105_2 </td><td> 267105</td><td>Weight</td><td>WS</td><td>Danielsen et al. 2011</td><td>2</td><td>2.219459</td><td>      NA</td><td>10.792790</td><td>4.478972</td><td>⋯</td><td>7.942515</td><td> 0.5244111</td><td>3.4982509</td><td>5.145677</td><td> 9.552669</td><td>      NA</td><td>      NA</td><td>5.247928</td><td>NA</td><td>NA</td></tr>\n",
       "\t<tr><td>WS_1040882_1</td><td>1040882</td><td>Weight</td><td>WS</td><td>Nordin et al. 2015   </td><td>1</td><td>5.426265</td><td>12.79786</td><td>10.195987</td><td>7.312883</td><td>⋯</td><td>      NA</td><td> 0.5244111</td><td>0.2065051</td><td>8.396605</td><td>12.829921</td><td>15.12771</td><td>10.81938</td><td>      NA</td><td>NA</td><td>NA</td></tr>\n",
       "\t<tr><td>WS_1040882_2</td><td>1040882</td><td>Weight</td><td>WS</td><td>Nordin et al. 2015   </td><td>2</td><td>5.426265</td><td> 3.57741</td><td> 3.193116</td><td>6.658211</td><td>⋯</td><td>      NA</td><td> 0.5244111</td><td>0.2065051</td><td>7.622052</td><td>10.995060</td><td>13.16757</td><td>10.79523</td><td>      NA</td><td>NA</td><td>NA</td></tr>\n",
       "\t<tr><td>WS_1063054_1</td><td>1063054</td><td>Weight</td><td>WS</td><td>Corsini et al. 2013  </td><td>1</td><td>      NA</td><td>11.32249</td><td> 7.787903</td><td>5.357552</td><td>⋯</td><td>      NA</td><td> 8.1344263</td><td>4.3923174</td><td>8.134426</td><td>12.372049</td><td>      NA</td><td>      NA</td><td>      NA</td><td>NA</td><td>NA</td></tr>\n",
       "\t<tr><td>WS_1063054_2</td><td>1063054</td><td>Weight</td><td>WS</td><td>Corsini et al. 2013  </td><td>2</td><td>      NA</td><td>12.60061</td><td> 8.939579</td><td>2.314639</td><td>⋯</td><td>      NA</td><td>10.6537408</td><td>5.3575520</td><td>8.879583</td><td>13.916346</td><td>      NA</td><td>      NA</td><td>      NA</td><td>NA</td><td>NA</td></tr>\n",
       "</tbody>\n",
       "</table>\n"
      ],
      "text/latex": [
       "A tibble: 6 × 35\n",
       "\\begin{tabular}{lllllllllllllllllllll}\n",
       " SampleID & HAWC\\_ID & Metric & Sample & Study & Sample\\_Number & Cd & Ca & Fe & Cr & ⋯ & DTXSID3024289 & Mn & Ni & Cu & Zn & K & Mg & DTXSID1025649 & DTXSID4075459 & DTXSID8074819\\\\\n",
       " <chr> & <dbl> & <chr> & <chr> & <chr> & <dbl> & <dbl> & <dbl> & <dbl> & <dbl> & ⋯ & <dbl> & <dbl> & <dbl> & <dbl> & <dbl> & <dbl> & <dbl> & <dbl> & <dbl> & <dbl>\\\\\n",
       "\\hline\n",
       "\t WS\\_267105\\_1  &  267105 & Weight & WS & Danielsen et al. 2011 & 1 & 4.925999 &       NA & 10.370687 & 4.485427 & ⋯ & 8.618386 &  0.5244111 & 3.9726927 & 6.057450 & 10.009829 &       NA &       NA & 3.459432 & NA & NA\\\\\n",
       "\t WS\\_267105\\_2  &  267105 & Weight & WS & Danielsen et al. 2011 & 2 & 2.219459 &       NA & 10.792790 & 4.478972 & ⋯ & 7.942515 &  0.5244111 & 3.4982509 & 5.145677 &  9.552669 &       NA &       NA & 5.247928 & NA & NA\\\\\n",
       "\t WS\\_1040882\\_1 & 1040882 & Weight & WS & Nordin et al. 2015    & 1 & 5.426265 & 12.79786 & 10.195987 & 7.312883 & ⋯ &       NA &  0.5244111 & 0.2065051 & 8.396605 & 12.829921 & 15.12771 & 10.81938 &       NA & NA & NA\\\\\n",
       "\t WS\\_1040882\\_2 & 1040882 & Weight & WS & Nordin et al. 2015    & 2 & 5.426265 &  3.57741 &  3.193116 & 6.658211 & ⋯ &       NA &  0.5244111 & 0.2065051 & 7.622052 & 10.995060 & 13.16757 & 10.79523 &       NA & NA & NA\\\\\n",
       "\t WS\\_1063054\\_1 & 1063054 & Weight & WS & Corsini et al. 2013   & 1 &       NA & 11.32249 &  7.787903 & 5.357552 & ⋯ &       NA &  8.1344263 & 4.3923174 & 8.134426 & 12.372049 &       NA &       NA &       NA & NA & NA\\\\\n",
       "\t WS\\_1063054\\_2 & 1063054 & Weight & WS & Corsini et al. 2013   & 2 &       NA & 12.60061 &  8.939579 & 2.314639 & ⋯ &       NA & 10.6537408 & 5.3575520 & 8.879583 & 13.916346 &       NA &       NA &       NA & NA & NA\\\\\n",
       "\\end{tabular}\n"
      ],
      "text/markdown": [
       "\n",
       "A tibble: 6 × 35\n",
       "\n",
       "| SampleID &lt;chr&gt; | HAWC_ID &lt;dbl&gt; | Metric &lt;chr&gt; | Sample &lt;chr&gt; | Study &lt;chr&gt; | Sample_Number &lt;dbl&gt; | Cd &lt;dbl&gt; | Ca &lt;dbl&gt; | Fe &lt;dbl&gt; | Cr &lt;dbl&gt; | ⋯ ⋯ | DTXSID3024289 &lt;dbl&gt; | Mn &lt;dbl&gt; | Ni &lt;dbl&gt; | Cu &lt;dbl&gt; | Zn &lt;dbl&gt; | K &lt;dbl&gt; | Mg &lt;dbl&gt; | DTXSID1025649 &lt;dbl&gt; | DTXSID4075459 &lt;dbl&gt; | DTXSID8074819 &lt;dbl&gt; |\n",
       "|---|---|---|---|---|---|---|---|---|---|---|---|---|---|---|---|---|---|---|---|---|\n",
       "| WS_267105_1  |  267105 | Weight | WS | Danielsen et al. 2011 | 1 | 4.925999 |       NA | 10.370687 | 4.485427 | ⋯ | 8.618386 |  0.5244111 | 3.9726927 | 6.057450 | 10.009829 |       NA |       NA | 3.459432 | NA | NA |\n",
       "| WS_267105_2  |  267105 | Weight | WS | Danielsen et al. 2011 | 2 | 2.219459 |       NA | 10.792790 | 4.478972 | ⋯ | 7.942515 |  0.5244111 | 3.4982509 | 5.145677 |  9.552669 |       NA |       NA | 5.247928 | NA | NA |\n",
       "| WS_1040882_1 | 1040882 | Weight | WS | Nordin et al. 2015    | 1 | 5.426265 | 12.79786 | 10.195987 | 7.312883 | ⋯ |       NA |  0.5244111 | 0.2065051 | 8.396605 | 12.829921 | 15.12771 | 10.81938 |       NA | NA | NA |\n",
       "| WS_1040882_2 | 1040882 | Weight | WS | Nordin et al. 2015    | 2 | 5.426265 |  3.57741 |  3.193116 | 6.658211 | ⋯ |       NA |  0.5244111 | 0.2065051 | 7.622052 | 10.995060 | 13.16757 | 10.79523 |       NA | NA | NA |\n",
       "| WS_1063054_1 | 1063054 | Weight | WS | Corsini et al. 2013   | 1 |       NA | 11.32249 |  7.787903 | 5.357552 | ⋯ |       NA |  8.1344263 | 4.3923174 | 8.134426 | 12.372049 |       NA |       NA |       NA | NA | NA |\n",
       "| WS_1063054_2 | 1063054 | Weight | WS | Corsini et al. 2013   | 2 |       NA | 12.60061 |  8.939579 | 2.314639 | ⋯ |       NA | 10.6537408 | 5.3575520 | 8.879583 | 13.916346 |       NA |       NA |       NA | NA | NA |\n",
       "\n"
      ],
      "text/plain": [
       "  SampleID     HAWC_ID Metric Sample Study                 Sample_Number\n",
       "1 WS_267105_1   267105 Weight WS     Danielsen et al. 2011 1            \n",
       "2 WS_267105_2   267105 Weight WS     Danielsen et al. 2011 2            \n",
       "3 WS_1040882_1 1040882 Weight WS     Nordin et al. 2015    1            \n",
       "4 WS_1040882_2 1040882 Weight WS     Nordin et al. 2015    2            \n",
       "5 WS_1063054_1 1063054 Weight WS     Corsini et al. 2013   1            \n",
       "6 WS_1063054_2 1063054 Weight WS     Corsini et al. 2013   2            \n",
       "  Cd       Ca       Fe        Cr       ⋯ DTXSID3024289 Mn         Ni       \n",
       "1 4.925999       NA 10.370687 4.485427 ⋯ 8.618386       0.5244111 3.9726927\n",
       "2 2.219459       NA 10.792790 4.478972 ⋯ 7.942515       0.5244111 3.4982509\n",
       "3 5.426265 12.79786 10.195987 7.312883 ⋯       NA       0.5244111 0.2065051\n",
       "4 5.426265  3.57741  3.193116 6.658211 ⋯       NA       0.5244111 0.2065051\n",
       "5       NA 11.32249  7.787903 5.357552 ⋯       NA       8.1344263 4.3923174\n",
       "6       NA 12.60061  8.939579 2.314639 ⋯       NA      10.6537408 5.3575520\n",
       "  Cu       Zn        K        Mg       DTXSID1025649 DTXSID4075459\n",
       "1 6.057450 10.009829       NA       NA 3.459432      NA           \n",
       "2 5.145677  9.552669       NA       NA 5.247928      NA           \n",
       "3 8.396605 12.829921 15.12771 10.81938       NA      NA           \n",
       "4 7.622052 10.995060 13.16757 10.79523       NA      NA           \n",
       "5 8.134426 12.372049       NA       NA       NA      NA           \n",
       "6 8.879583 13.916346       NA       NA       NA      NA           \n",
       "  DTXSID8074819\n",
       "1 NA           \n",
       "2 NA           \n",
       "3 NA           \n",
       "4 NA           \n",
       "5 NA           \n",
       "6 NA           "
      ]
     },
     "metadata": {},
     "output_type": "display_data"
    }
   ],
   "source": [
    "wider_vol_df = mnar_imputed_vol_df %>%\n",
    "    # creating sample ids\n",
    "    unite(\"SampleID\", c(\"Sample\", \"HAWC_ID\", \"Sample_Number\"), remove = FALSE) %>%\n",
    "    select(-c(\"Name\", \"Class\")) %>%\n",
    "    pivot_wider(names_from = \"DTXSID\", values_from = \"Value\") \n",
    "\n",
    "wider_weight_df = mnar_imputed_weight_df %>%\n",
    "    # creating sample ids\n",
    "    unite(\"SampleID\", c(\"Sample\", \"HAWC_ID\", \"Sample_Number\"), remove = FALSE) %>%\n",
    "    select(-c(\"Name\", \"Class\")) %>%\n",
    "    pivot_wider(names_from = \"DTXSID\", values_from = \"Value\")\n",
    "\n",
    "head(wider_weight_df)"
   ]
  },
  {
   "cell_type": "code",
   "execution_count": 28,
   "id": "10baac7b-db6e-458a-8e5c-295a4a66772d",
   "metadata": {},
   "outputs": [
    {
     "data": {
      "text/html": [
       "<table class=\"dataframe\">\n",
       "<caption>A data.frame: 6 × 1</caption>\n",
       "<thead>\n",
       "\t<tr><th></th><th scope=col>Percent</th></tr>\n",
       "\t<tr><th></th><th scope=col>&lt;dbl&gt;</th></tr>\n",
       "</thead>\n",
       "<tbody>\n",
       "\t<tr><th scope=row>Ca</th><td>39.873418</td></tr>\n",
       "\t<tr><th scope=row>Fe</th><td>39.240506</td></tr>\n",
       "\t<tr><th scope=row>DTXSID9059757</th><td>25.316456</td></tr>\n",
       "\t<tr><th scope=row>K</th><td>32.911392</td></tr>\n",
       "\t<tr><th scope=row>Mg</th><td>29.113924</td></tr>\n",
       "\t<tr><th scope=row>DTXSID1025649</th><td> 5.696203</td></tr>\n",
       "</tbody>\n",
       "</table>\n"
      ],
      "text/latex": [
       "A data.frame: 6 × 1\n",
       "\\begin{tabular}{r|l}\n",
       "  & Percent\\\\\n",
       "  & <dbl>\\\\\n",
       "\\hline\n",
       "\tCa & 39.873418\\\\\n",
       "\tFe & 39.240506\\\\\n",
       "\tDTXSID9059757 & 25.316456\\\\\n",
       "\tK & 32.911392\\\\\n",
       "\tMg & 29.113924\\\\\n",
       "\tDTXSID1025649 &  5.696203\\\\\n",
       "\\end{tabular}\n"
      ],
      "text/markdown": [
       "\n",
       "A data.frame: 6 × 1\n",
       "\n",
       "| <!--/--> | Percent &lt;dbl&gt; |\n",
       "|---|---|\n",
       "| Ca | 39.873418 |\n",
       "| Fe | 39.240506 |\n",
       "| DTXSID9059757 | 25.316456 |\n",
       "| K | 32.911392 |\n",
       "| Mg | 29.113924 |\n",
       "| DTXSID1025649 |  5.696203 |\n",
       "\n"
      ],
      "text/plain": [
       "              Percent  \n",
       "Ca            39.873418\n",
       "Fe            39.240506\n",
       "DTXSID9059757 25.316456\n",
       "K             32.911392\n",
       "Mg            29.113924\n",
       "DTXSID1025649  5.696203"
      ]
     },
     "metadata": {},
     "output_type": "display_data"
    }
   ],
   "source": [
    "data_percentage = function(wider_dataset){\n",
    "    # \"\"\"\n",
    "    # Calculating the studies or metals/chemicals with less than or equal to 20% of experimental data.\n",
    "\n",
    "    # :param: wide dataframe\n",
    "    # :output: a list that contains a dataframe of metals/chemicals and a dataframe of studies\n",
    "\n",
    "    # \"\"\"\n",
    "    \n",
    "    # converting values to 0s and 1s\n",
    "    summed_df = wider_dataset %>%\n",
    "        mutate(across(7:ncol(wider_dataset), ~ifelse(is.na(.x), 0, 1)))\n",
    "\n",
    "    # identifying metals/chemicals w/ =< 20% of experimental data\n",
    "    var_percentage_df = data.frame(Percent = colSums(summed_df[,7:ncol(summed_df)])/nrow(summed_df) * 100) %>%\n",
    "        filter(Percent <= 40)\n",
    "    # identifying studies w/ =< 20% of experimental data\n",
    "    study_percentage_df = data.frame(HAWC_ID = wider_dataset$HAWC_ID,\n",
    "                                     Percent = rowSums(summed_df[,7:ncol(summed_df)])/ncol(summed_df) * 100) %>%\n",
    "        filter(Percent <= 40)\n",
    "\n",
    "    return(list(var_percentage_df, study_percentage_df))\n",
    "}\n",
    "\n",
    "# calling fn\n",
    "percentage_vol_df = data_percentage(wider_vol_df)\n",
    "percentage_weight_df = data_percentage(wider_weight_df)\n",
    "\n",
    "head(percentage_weight_df[[1]])"
   ]
  },
  {
   "cell_type": "code",
   "execution_count": 29,
   "id": "00132275-7af1-4352-8645-e62b034373c9",
   "metadata": {},
   "outputs": [
    {
     "data": {
      "text/html": [
       "<table class=\"dataframe\">\n",
       "<caption>A tibble: 6 × 17</caption>\n",
       "<thead>\n",
       "\t<tr><th scope=col>SampleID</th><th scope=col>HAWC_ID</th><th scope=col>Metric</th><th scope=col>Sample</th><th scope=col>Study</th><th scope=col>Sample_Number</th><th scope=col>Cr</th><th scope=col>Cu</th><th scope=col>Pb</th><th scope=col>Ti</th><th scope=col>Zn</th><th scope=col>K</th><th scope=col>Ca</th><th scope=col>Fe</th><th scope=col>Mn</th><th scope=col>Ni</th><th scope=col>Sr</th></tr>\n",
       "\t<tr><th scope=col>&lt;chr&gt;</th><th scope=col>&lt;dbl&gt;</th><th scope=col>&lt;chr&gt;</th><th scope=col>&lt;chr&gt;</th><th scope=col>&lt;chr&gt;</th><th scope=col>&lt;dbl&gt;</th><th scope=col>&lt;dbl&gt;</th><th scope=col>&lt;dbl&gt;</th><th scope=col>&lt;dbl&gt;</th><th scope=col>&lt;dbl&gt;</th><th scope=col>&lt;dbl&gt;</th><th scope=col>&lt;dbl&gt;</th><th scope=col>&lt;dbl&gt;</th><th scope=col>&lt;dbl&gt;</th><th scope=col>&lt;dbl&gt;</th><th scope=col>&lt;dbl&gt;</th><th scope=col>&lt;dbl&gt;</th></tr>\n",
       "</thead>\n",
       "<tbody>\n",
       "\t<tr><td>WF_1289909_1</td><td>1289909</td><td>Volume</td><td>WF</td><td>Trieu et al. 2024   </td><td>1</td><td>      NA</td><td> 2.744161</td><td> 2.584963</td><td> 5.087463</td><td> 4.523562</td><td>      NA</td><td> 9.390169</td><td> 8.233620</td><td> 2.560715</td><td> 1.000000</td><td> 1.807355</td></tr>\n",
       "\t<tr><td>WS_885041_1 </td><td> 885041</td><td>Volume</td><td>WS</td><td>Ihantola et al. 2020</td><td>1</td><td>5.865424</td><td> 9.820179</td><td> 6.930737</td><td> 4.940167</td><td>13.538795</td><td>16.91999</td><td>11.761136</td><td>10.561288</td><td> 7.266787</td><td> 4.822730</td><td> 4.078951</td></tr>\n",
       "\t<tr><td>WS_885041_2 </td><td> 885041</td><td>Volume</td><td>WS</td><td>Ihantola et al. 2020</td><td>2</td><td>5.523562</td><td> 8.640245</td><td> 6.061776</td><td> 5.281698</td><td>12.746304</td><td>16.19654</td><td>11.948002</td><td> 9.383704</td><td> 6.832890</td><td> 4.655352</td><td> 3.264536</td></tr>\n",
       "\t<tr><td>WS_993956_1 </td><td> 993956</td><td>Volume</td><td>WS</td><td>Ihantola et al. 2022</td><td>1</td><td>6.285402</td><td> 7.577429</td><td> 6.584963</td><td> 4.954196</td><td>14.053332</td><td>15.87270</td><td>11.451726</td><td>10.452241</td><td> 8.134426</td><td> 5.584963</td><td> 4.392317</td></tr>\n",
       "\t<tr><td>WS_1263480_1</td><td>1263480</td><td>Volume</td><td>WS</td><td>Burnet et al. 1990  </td><td>1</td><td>      NA</td><td>13.550867</td><td>12.425478</td><td>       NA</td><td>18.116806</td><td>21.61807</td><td>18.892083</td><td>15.383671</td><td>13.550867</td><td>       NA</td><td>12.773345</td></tr>\n",
       "\t<tr><td>WS_1263480_2</td><td>1263480</td><td>Volume</td><td>WS</td><td>Burnet et al. 1990  </td><td>2</td><td>      NA</td><td>13.340963</td><td>       NA</td><td>11.358651</td><td>20.306748</td><td>20.07464</td><td>18.694559</td><td>14.587895</td><td>13.074476</td><td>10.426265</td><td>12.720886</td></tr>\n",
       "</tbody>\n",
       "</table>\n"
      ],
      "text/latex": [
       "A tibble: 6 × 17\n",
       "\\begin{tabular}{lllllllllllllllll}\n",
       " SampleID & HAWC\\_ID & Metric & Sample & Study & Sample\\_Number & Cr & Cu & Pb & Ti & Zn & K & Ca & Fe & Mn & Ni & Sr\\\\\n",
       " <chr> & <dbl> & <chr> & <chr> & <chr> & <dbl> & <dbl> & <dbl> & <dbl> & <dbl> & <dbl> & <dbl> & <dbl> & <dbl> & <dbl> & <dbl> & <dbl>\\\\\n",
       "\\hline\n",
       "\t WF\\_1289909\\_1 & 1289909 & Volume & WF & Trieu et al. 2024    & 1 &       NA &  2.744161 &  2.584963 &  5.087463 &  4.523562 &       NA &  9.390169 &  8.233620 &  2.560715 &  1.000000 &  1.807355\\\\\n",
       "\t WS\\_885041\\_1  &  885041 & Volume & WS & Ihantola et al. 2020 & 1 & 5.865424 &  9.820179 &  6.930737 &  4.940167 & 13.538795 & 16.91999 & 11.761136 & 10.561288 &  7.266787 &  4.822730 &  4.078951\\\\\n",
       "\t WS\\_885041\\_2  &  885041 & Volume & WS & Ihantola et al. 2020 & 2 & 5.523562 &  8.640245 &  6.061776 &  5.281698 & 12.746304 & 16.19654 & 11.948002 &  9.383704 &  6.832890 &  4.655352 &  3.264536\\\\\n",
       "\t WS\\_993956\\_1  &  993956 & Volume & WS & Ihantola et al. 2022 & 1 & 6.285402 &  7.577429 &  6.584963 &  4.954196 & 14.053332 & 15.87270 & 11.451726 & 10.452241 &  8.134426 &  5.584963 &  4.392317\\\\\n",
       "\t WS\\_1263480\\_1 & 1263480 & Volume & WS & Burnet et al. 1990   & 1 &       NA & 13.550867 & 12.425478 &        NA & 18.116806 & 21.61807 & 18.892083 & 15.383671 & 13.550867 &        NA & 12.773345\\\\\n",
       "\t WS\\_1263480\\_2 & 1263480 & Volume & WS & Burnet et al. 1990   & 2 &       NA & 13.340963 &        NA & 11.358651 & 20.306748 & 20.07464 & 18.694559 & 14.587895 & 13.074476 & 10.426265 & 12.720886\\\\\n",
       "\\end{tabular}\n"
      ],
      "text/markdown": [
       "\n",
       "A tibble: 6 × 17\n",
       "\n",
       "| SampleID &lt;chr&gt; | HAWC_ID &lt;dbl&gt; | Metric &lt;chr&gt; | Sample &lt;chr&gt; | Study &lt;chr&gt; | Sample_Number &lt;dbl&gt; | Cr &lt;dbl&gt; | Cu &lt;dbl&gt; | Pb &lt;dbl&gt; | Ti &lt;dbl&gt; | Zn &lt;dbl&gt; | K &lt;dbl&gt; | Ca &lt;dbl&gt; | Fe &lt;dbl&gt; | Mn &lt;dbl&gt; | Ni &lt;dbl&gt; | Sr &lt;dbl&gt; |\n",
       "|---|---|---|---|---|---|---|---|---|---|---|---|---|---|---|---|---|\n",
       "| WF_1289909_1 | 1289909 | Volume | WF | Trieu et al. 2024    | 1 |       NA |  2.744161 |  2.584963 |  5.087463 |  4.523562 |       NA |  9.390169 |  8.233620 |  2.560715 |  1.000000 |  1.807355 |\n",
       "| WS_885041_1  |  885041 | Volume | WS | Ihantola et al. 2020 | 1 | 5.865424 |  9.820179 |  6.930737 |  4.940167 | 13.538795 | 16.91999 | 11.761136 | 10.561288 |  7.266787 |  4.822730 |  4.078951 |\n",
       "| WS_885041_2  |  885041 | Volume | WS | Ihantola et al. 2020 | 2 | 5.523562 |  8.640245 |  6.061776 |  5.281698 | 12.746304 | 16.19654 | 11.948002 |  9.383704 |  6.832890 |  4.655352 |  3.264536 |\n",
       "| WS_993956_1  |  993956 | Volume | WS | Ihantola et al. 2022 | 1 | 6.285402 |  7.577429 |  6.584963 |  4.954196 | 14.053332 | 15.87270 | 11.451726 | 10.452241 |  8.134426 |  5.584963 |  4.392317 |\n",
       "| WS_1263480_1 | 1263480 | Volume | WS | Burnet et al. 1990   | 1 |       NA | 13.550867 | 12.425478 |        NA | 18.116806 | 21.61807 | 18.892083 | 15.383671 | 13.550867 |        NA | 12.773345 |\n",
       "| WS_1263480_2 | 1263480 | Volume | WS | Burnet et al. 1990   | 2 |       NA | 13.340963 |        NA | 11.358651 | 20.306748 | 20.07464 | 18.694559 | 14.587895 | 13.074476 | 10.426265 | 12.720886 |\n",
       "\n"
      ],
      "text/plain": [
       "  SampleID     HAWC_ID Metric Sample Study                Sample_Number\n",
       "1 WF_1289909_1 1289909 Volume WF     Trieu et al. 2024    1            \n",
       "2 WS_885041_1   885041 Volume WS     Ihantola et al. 2020 1            \n",
       "3 WS_885041_2   885041 Volume WS     Ihantola et al. 2020 2            \n",
       "4 WS_993956_1   993956 Volume WS     Ihantola et al. 2022 1            \n",
       "5 WS_1263480_1 1263480 Volume WS     Burnet et al. 1990   1            \n",
       "6 WS_1263480_2 1263480 Volume WS     Burnet et al. 1990   2            \n",
       "  Cr       Cu        Pb        Ti        Zn        K        Ca        Fe       \n",
       "1       NA  2.744161  2.584963  5.087463  4.523562       NA  9.390169  8.233620\n",
       "2 5.865424  9.820179  6.930737  4.940167 13.538795 16.91999 11.761136 10.561288\n",
       "3 5.523562  8.640245  6.061776  5.281698 12.746304 16.19654 11.948002  9.383704\n",
       "4 6.285402  7.577429  6.584963  4.954196 14.053332 15.87270 11.451726 10.452241\n",
       "5       NA 13.550867 12.425478        NA 18.116806 21.61807 18.892083 15.383671\n",
       "6       NA 13.340963        NA 11.358651 20.306748 20.07464 18.694559 14.587895\n",
       "  Mn        Ni        Sr       \n",
       "1  2.560715  1.000000  1.807355\n",
       "2  7.266787  4.822730  4.078951\n",
       "3  6.832890  4.655352  3.264536\n",
       "4  8.134426  5.584963  4.392317\n",
       "5 13.550867        NA 12.773345\n",
       "6 13.074476 10.426265 12.720886"
      ]
     },
     "metadata": {},
     "output_type": "display_data"
    }
   ],
   "source": [
    "# removing those metals/chemicals & studies from the OG df\n",
    "preimputed_vol_df = wider_vol_df[,colnames(wider_vol_df) %notin% rownames(percentage_vol_df[[1]])] \n",
    "preimputed_weight_df = wider_weight_df[,colnames(wider_weight_df) %notin% rownames(percentage_weight_df[[1]])]\n",
    "\n",
    "preimputed_vol_df = preimputed_vol_df %>% filter(HAWC_ID %notin% percentage_vol_df[[2]]$HAWC_ID) \n",
    "preimputed_weight_df = preimputed_weight_df %>% filter(HAWC_ID %notin% percentage_weight_df[[2]]$HAWC_ID)\n",
    "\n",
    "head(preimputed_vol_df)"
   ]
  },
  {
   "cell_type": "code",
   "execution_count": 30,
   "id": "f70ba746-a76c-43ee-a02f-2887f28886b9",
   "metadata": {},
   "outputs": [
    {
     "data": {
      "text/html": [
       "11"
      ],
      "text/latex": [
       "11"
      ],
      "text/markdown": [
       "11"
      ],
      "text/plain": [
       "[1] 11"
      ]
     },
     "metadata": {},
     "output_type": "display_data"
    },
    {
     "data": {
      "text/html": [
       "21"
      ],
      "text/latex": [
       "21"
      ],
      "text/markdown": [
       "21"
      ],
      "text/plain": [
       "[1] 21"
      ]
     },
     "metadata": {},
     "output_type": "display_data"
    }
   ],
   "source": [
    "# How many metals/chemicals are now left in the dataset?\n",
    "ncol(preimputed_vol_df) - 6\n",
    "ncol(preimputed_weight_df) - 6"
   ]
  },
  {
   "cell_type": "code",
   "execution_count": 31,
   "id": "de6f788a-5785-4a56-b8f2-40097a3516b1",
   "metadata": {},
   "outputs": [
    {
     "data": {
      "text/html": [
       "9"
      ],
      "text/latex": [
       "9"
      ],
      "text/markdown": [
       "9"
      ],
      "text/plain": [
       "[1] 9"
      ]
     },
     "metadata": {},
     "output_type": "display_data"
    },
    {
     "data": {
      "text/html": [
       "56"
      ],
      "text/latex": [
       "56"
      ],
      "text/markdown": [
       "56"
      ],
      "text/plain": [
       "[1] 56"
      ]
     },
     "metadata": {},
     "output_type": "display_data"
    }
   ],
   "source": [
    "# How many study ids are left?\n",
    "nrow(preimputed_vol_df)  \n",
    "nrow(preimputed_weight_df) "
   ]
  },
  {
   "cell_type": "code",
   "execution_count": 32,
   "id": "e4d93d3f-acb7-4f16-9406-ff1e917da131",
   "metadata": {},
   "outputs": [
    {
     "data": {
      "text/html": [
       "<table class=\"dataframe\">\n",
       "<caption>A tibble: 6 × 8</caption>\n",
       "<thead>\n",
       "\t<tr><th scope=col>SampleID</th><th scope=col>HAWC_ID</th><th scope=col>Metric</th><th scope=col>Sample</th><th scope=col>Study</th><th scope=col>Sample_Number</th><th scope=col>DTXSID</th><th scope=col>Value</th></tr>\n",
       "\t<tr><th scope=col>&lt;chr&gt;</th><th scope=col>&lt;dbl&gt;</th><th scope=col>&lt;chr&gt;</th><th scope=col>&lt;chr&gt;</th><th scope=col>&lt;chr&gt;</th><th scope=col>&lt;dbl&gt;</th><th scope=col>&lt;chr&gt;</th><th scope=col>&lt;dbl&gt;</th></tr>\n",
       "</thead>\n",
       "<tbody>\n",
       "\t<tr><td>WF_1289909_1</td><td>1289909</td><td>Volume</td><td>WF</td><td>Trieu et al. 2024</td><td>1</td><td>Cr</td><td>      NA</td></tr>\n",
       "\t<tr><td>WF_1289909_1</td><td>1289909</td><td>Volume</td><td>WF</td><td>Trieu et al. 2024</td><td>1</td><td>Cu</td><td>2.744161</td></tr>\n",
       "\t<tr><td>WF_1289909_1</td><td>1289909</td><td>Volume</td><td>WF</td><td>Trieu et al. 2024</td><td>1</td><td>Pb</td><td>2.584963</td></tr>\n",
       "\t<tr><td>WF_1289909_1</td><td>1289909</td><td>Volume</td><td>WF</td><td>Trieu et al. 2024</td><td>1</td><td>Ti</td><td>5.087463</td></tr>\n",
       "\t<tr><td>WF_1289909_1</td><td>1289909</td><td>Volume</td><td>WF</td><td>Trieu et al. 2024</td><td>1</td><td>Zn</td><td>4.523562</td></tr>\n",
       "\t<tr><td>WF_1289909_1</td><td>1289909</td><td>Volume</td><td>WF</td><td>Trieu et al. 2024</td><td>1</td><td>K </td><td>      NA</td></tr>\n",
       "</tbody>\n",
       "</table>\n"
      ],
      "text/latex": [
       "A tibble: 6 × 8\n",
       "\\begin{tabular}{llllllll}\n",
       " SampleID & HAWC\\_ID & Metric & Sample & Study & Sample\\_Number & DTXSID & Value\\\\\n",
       " <chr> & <dbl> & <chr> & <chr> & <chr> & <dbl> & <chr> & <dbl>\\\\\n",
       "\\hline\n",
       "\t WF\\_1289909\\_1 & 1289909 & Volume & WF & Trieu et al. 2024 & 1 & Cr &       NA\\\\\n",
       "\t WF\\_1289909\\_1 & 1289909 & Volume & WF & Trieu et al. 2024 & 1 & Cu & 2.744161\\\\\n",
       "\t WF\\_1289909\\_1 & 1289909 & Volume & WF & Trieu et al. 2024 & 1 & Pb & 2.584963\\\\\n",
       "\t WF\\_1289909\\_1 & 1289909 & Volume & WF & Trieu et al. 2024 & 1 & Ti & 5.087463\\\\\n",
       "\t WF\\_1289909\\_1 & 1289909 & Volume & WF & Trieu et al. 2024 & 1 & Zn & 4.523562\\\\\n",
       "\t WF\\_1289909\\_1 & 1289909 & Volume & WF & Trieu et al. 2024 & 1 & K  &       NA\\\\\n",
       "\\end{tabular}\n"
      ],
      "text/markdown": [
       "\n",
       "A tibble: 6 × 8\n",
       "\n",
       "| SampleID &lt;chr&gt; | HAWC_ID &lt;dbl&gt; | Metric &lt;chr&gt; | Sample &lt;chr&gt; | Study &lt;chr&gt; | Sample_Number &lt;dbl&gt; | DTXSID &lt;chr&gt; | Value &lt;dbl&gt; |\n",
       "|---|---|---|---|---|---|---|---|\n",
       "| WF_1289909_1 | 1289909 | Volume | WF | Trieu et al. 2024 | 1 | Cr |       NA |\n",
       "| WF_1289909_1 | 1289909 | Volume | WF | Trieu et al. 2024 | 1 | Cu | 2.744161 |\n",
       "| WF_1289909_1 | 1289909 | Volume | WF | Trieu et al. 2024 | 1 | Pb | 2.584963 |\n",
       "| WF_1289909_1 | 1289909 | Volume | WF | Trieu et al. 2024 | 1 | Ti | 5.087463 |\n",
       "| WF_1289909_1 | 1289909 | Volume | WF | Trieu et al. 2024 | 1 | Zn | 4.523562 |\n",
       "| WF_1289909_1 | 1289909 | Volume | WF | Trieu et al. 2024 | 1 | K  |       NA |\n",
       "\n"
      ],
      "text/plain": [
       "  SampleID     HAWC_ID Metric Sample Study             Sample_Number DTXSID\n",
       "1 WF_1289909_1 1289909 Volume WF     Trieu et al. 2024 1             Cr    \n",
       "2 WF_1289909_1 1289909 Volume WF     Trieu et al. 2024 1             Cu    \n",
       "3 WF_1289909_1 1289909 Volume WF     Trieu et al. 2024 1             Pb    \n",
       "4 WF_1289909_1 1289909 Volume WF     Trieu et al. 2024 1             Ti    \n",
       "5 WF_1289909_1 1289909 Volume WF     Trieu et al. 2024 1             Zn    \n",
       "6 WF_1289909_1 1289909 Volume WF     Trieu et al. 2024 1             K     \n",
       "  Value   \n",
       "1       NA\n",
       "2 2.744161\n",
       "3 2.584963\n",
       "4 5.087463\n",
       "5 4.523562\n",
       "6       NA"
      ]
     },
     "metadata": {},
     "output_type": "display_data"
    }
   ],
   "source": [
    "# transforming back to a long format\n",
    "final_vol_df = preimputed_vol_df %>%\n",
    "    pivot_longer(cols = 7:ncol(preimputed_vol_df), names_to = \"DTXSID\", values_to = \"Value\")\n",
    "final_weight_df = preimputed_weight_df %>%\n",
    "    pivot_longer(cols = 7:ncol(preimputed_weight_df), names_to = \"DTXSID\", values_to = \"Value\")\n",
    "\n",
    "head(final_vol_df)"
   ]
  },
  {
   "cell_type": "code",
   "execution_count": 33,
   "id": "7db6faee-27f7-4daa-8c24-d447c9ec8e55",
   "metadata": {},
   "outputs": [
    {
     "name": "stderr",
     "output_type": "stream",
     "text": [
      "\u001b[1m\u001b[22mJoining with `by = join_by(DTXSID)`\n"
     ]
    },
    {
     "data": {
      "text/html": [
       "<table class=\"dataframe\">\n",
       "<caption>A tibble: 6 × 9</caption>\n",
       "<thead>\n",
       "\t<tr><th scope=col>Sample</th><th scope=col>HAWC_ID</th><th scope=col>Study</th><th scope=col>Sample_Number</th><th scope=col>Class</th><th scope=col>Metric</th><th scope=col>DTXSID</th><th scope=col>Name</th><th scope=col>Value</th></tr>\n",
       "\t<tr><th scope=col>&lt;chr&gt;</th><th scope=col>&lt;dbl&gt;</th><th scope=col>&lt;chr&gt;</th><th scope=col>&lt;dbl&gt;</th><th scope=col>&lt;chr&gt;</th><th scope=col>&lt;chr&gt;</th><th scope=col>&lt;chr&gt;</th><th scope=col>&lt;chr&gt;</th><th scope=col>&lt;dbl&gt;</th></tr>\n",
       "</thead>\n",
       "<tbody>\n",
       "\t<tr><td>WF</td><td>1289909</td><td>Trieu et al. 2024</td><td>1</td><td>Metal</td><td>Volume</td><td>Cr</td><td>Chromium </td><td>      NA</td></tr>\n",
       "\t<tr><td>WF</td><td>1289909</td><td>Trieu et al. 2024</td><td>1</td><td>Metal</td><td>Volume</td><td>Cu</td><td>Copper   </td><td>2.744161</td></tr>\n",
       "\t<tr><td>WF</td><td>1289909</td><td>Trieu et al. 2024</td><td>1</td><td>Metal</td><td>Volume</td><td>Pb</td><td>Lead     </td><td>2.584963</td></tr>\n",
       "\t<tr><td>WF</td><td>1289909</td><td>Trieu et al. 2024</td><td>1</td><td>Metal</td><td>Volume</td><td>Ti</td><td>Titanium </td><td>5.087463</td></tr>\n",
       "\t<tr><td>WF</td><td>1289909</td><td>Trieu et al. 2024</td><td>1</td><td>Metal</td><td>Volume</td><td>Zn</td><td>Zinc     </td><td>4.523562</td></tr>\n",
       "\t<tr><td>WF</td><td>1289909</td><td>Trieu et al. 2024</td><td>1</td><td>Metal</td><td>Volume</td><td>K </td><td>Potassium</td><td>      NA</td></tr>\n",
       "</tbody>\n",
       "</table>\n"
      ],
      "text/latex": [
       "A tibble: 6 × 9\n",
       "\\begin{tabular}{lllllllll}\n",
       " Sample & HAWC\\_ID & Study & Sample\\_Number & Class & Metric & DTXSID & Name & Value\\\\\n",
       " <chr> & <dbl> & <chr> & <dbl> & <chr> & <chr> & <chr> & <chr> & <dbl>\\\\\n",
       "\\hline\n",
       "\t WF & 1289909 & Trieu et al. 2024 & 1 & Metal & Volume & Cr & Chromium  &       NA\\\\\n",
       "\t WF & 1289909 & Trieu et al. 2024 & 1 & Metal & Volume & Cu & Copper    & 2.744161\\\\\n",
       "\t WF & 1289909 & Trieu et al. 2024 & 1 & Metal & Volume & Pb & Lead      & 2.584963\\\\\n",
       "\t WF & 1289909 & Trieu et al. 2024 & 1 & Metal & Volume & Ti & Titanium  & 5.087463\\\\\n",
       "\t WF & 1289909 & Trieu et al. 2024 & 1 & Metal & Volume & Zn & Zinc      & 4.523562\\\\\n",
       "\t WF & 1289909 & Trieu et al. 2024 & 1 & Metal & Volume & K  & Potassium &       NA\\\\\n",
       "\\end{tabular}\n"
      ],
      "text/markdown": [
       "\n",
       "A tibble: 6 × 9\n",
       "\n",
       "| Sample &lt;chr&gt; | HAWC_ID &lt;dbl&gt; | Study &lt;chr&gt; | Sample_Number &lt;dbl&gt; | Class &lt;chr&gt; | Metric &lt;chr&gt; | DTXSID &lt;chr&gt; | Name &lt;chr&gt; | Value &lt;dbl&gt; |\n",
       "|---|---|---|---|---|---|---|---|---|\n",
       "| WF | 1289909 | Trieu et al. 2024 | 1 | Metal | Volume | Cr | Chromium  |       NA |\n",
       "| WF | 1289909 | Trieu et al. 2024 | 1 | Metal | Volume | Cu | Copper    | 2.744161 |\n",
       "| WF | 1289909 | Trieu et al. 2024 | 1 | Metal | Volume | Pb | Lead      | 2.584963 |\n",
       "| WF | 1289909 | Trieu et al. 2024 | 1 | Metal | Volume | Ti | Titanium  | 5.087463 |\n",
       "| WF | 1289909 | Trieu et al. 2024 | 1 | Metal | Volume | Zn | Zinc      | 4.523562 |\n",
       "| WF | 1289909 | Trieu et al. 2024 | 1 | Metal | Volume | K  | Potassium |       NA |\n",
       "\n"
      ],
      "text/plain": [
       "  Sample HAWC_ID Study             Sample_Number Class Metric DTXSID Name     \n",
       "1 WF     1289909 Trieu et al. 2024 1             Metal Volume Cr     Chromium \n",
       "2 WF     1289909 Trieu et al. 2024 1             Metal Volume Cu     Copper   \n",
       "3 WF     1289909 Trieu et al. 2024 1             Metal Volume Pb     Lead     \n",
       "4 WF     1289909 Trieu et al. 2024 1             Metal Volume Ti     Titanium \n",
       "5 WF     1289909 Trieu et al. 2024 1             Metal Volume Zn     Zinc     \n",
       "6 WF     1289909 Trieu et al. 2024 1             Metal Volume K      Potassium\n",
       "  Value   \n",
       "1       NA\n",
       "2 2.744161\n",
       "3 2.584963\n",
       "4 5.087463\n",
       "5 4.523562\n",
       "6       NA"
      ]
     },
     "metadata": {},
     "output_type": "display_data"
    },
    {
     "data": {
      "text/html": [
       "<style>\n",
       ".list-inline {list-style: none; margin:0; padding: 0}\n",
       ".list-inline>li {display: inline-block}\n",
       ".list-inline>li:not(:last-child)::after {content: \"\\00b7\"; padding: 0 .5ex}\n",
       "</style>\n",
       "<ol class=list-inline><li>1275</li><li>9</li></ol>\n"
      ],
      "text/latex": [
       "\\begin{enumerate*}\n",
       "\\item 1275\n",
       "\\item 9\n",
       "\\end{enumerate*}\n"
      ],
      "text/markdown": [
       "1. 1275\n",
       "2. 9\n",
       "\n",
       "\n"
      ],
      "text/plain": [
       "[1] 1275    9"
      ]
     },
     "metadata": {},
     "output_type": "display_data"
    }
   ],
   "source": [
    "# adding back in name col\n",
    "final_df = left_join(rbind(final_vol_df, final_weight_df), \n",
    "                      combined_df[,c(5,7:8)] %>%\n",
    "    unique()) \n",
    "\n",
    "final_df = final_df[,c(4,2,5,6,9,3,7,10,8)]\n",
    "\n",
    "head(final_df)\n",
    "dim(final_df)"
   ]
  },
  {
   "cell_type": "code",
   "execution_count": 34,
   "id": "71aabfcd-d6a1-4a68-a845-1e890ab2bab7",
   "metadata": {},
   "outputs": [],
   "source": [
    "# # exporting\n",
    "# write.xlsx(final_df, paste0(Output,\"/\", \"Processed_Data_\", cur_date, \".xlsx\"), \n",
    "#            rowNames = FALSE)"
   ]
  },
  {
   "cell_type": "markdown",
   "id": "6505c420-1f23-44e2-a7ad-1351d616e852",
   "metadata": {},
   "source": [
    "# Presence/ Absence Heatmap"
   ]
  },
  {
   "cell_type": "code",
   "execution_count": 40,
   "id": "ed1e111d-4657-4ab6-b24e-9598f495cb0c",
   "metadata": {},
   "outputs": [
    {
     "data": {
      "text/html": [
       "<table class=\"dataframe\">\n",
       "<caption>A tibble: 6 × 10</caption>\n",
       "<thead>\n",
       "\t<tr><th scope=col>Sample</th><th scope=col>SampleID</th><th scope=col>HAWC_ID</th><th scope=col>Study</th><th scope=col>Sample_Number</th><th scope=col>Class</th><th scope=col>Metric</th><th scope=col>DTXSID</th><th scope=col>Name</th><th scope=col>Value</th></tr>\n",
       "\t<tr><th scope=col>&lt;chr&gt;</th><th scope=col>&lt;chr&gt;</th><th scope=col>&lt;dbl&gt;</th><th scope=col>&lt;chr&gt;</th><th scope=col>&lt;dbl&gt;</th><th scope=col>&lt;chr&gt;</th><th scope=col>&lt;chr&gt;</th><th scope=col>&lt;chr&gt;</th><th scope=col>&lt;chr&gt;</th><th scope=col>&lt;dbl&gt;</th></tr>\n",
       "</thead>\n",
       "<tbody>\n",
       "\t<tr><td>WF</td><td>1289909_1</td><td>1289909</td><td>Trieu et al. 2024</td><td>1</td><td>Metal</td><td>Volume</td><td>Cr</td><td>Chromium </td><td>0</td></tr>\n",
       "\t<tr><td>WF</td><td>1289909_1</td><td>1289909</td><td>Trieu et al. 2024</td><td>1</td><td>Metal</td><td>Volume</td><td>Cu</td><td>Copper   </td><td>1</td></tr>\n",
       "\t<tr><td>WF</td><td>1289909_1</td><td>1289909</td><td>Trieu et al. 2024</td><td>1</td><td>Metal</td><td>Volume</td><td>Pb</td><td>Lead     </td><td>1</td></tr>\n",
       "\t<tr><td>WF</td><td>1289909_1</td><td>1289909</td><td>Trieu et al. 2024</td><td>1</td><td>Metal</td><td>Volume</td><td>Ti</td><td>Titanium </td><td>1</td></tr>\n",
       "\t<tr><td>WF</td><td>1289909_1</td><td>1289909</td><td>Trieu et al. 2024</td><td>1</td><td>Metal</td><td>Volume</td><td>Zn</td><td>Zinc     </td><td>1</td></tr>\n",
       "\t<tr><td>WF</td><td>1289909_1</td><td>1289909</td><td>Trieu et al. 2024</td><td>1</td><td>Metal</td><td>Volume</td><td>K </td><td>Potassium</td><td>0</td></tr>\n",
       "</tbody>\n",
       "</table>\n"
      ],
      "text/latex": [
       "A tibble: 6 × 10\n",
       "\\begin{tabular}{llllllllll}\n",
       " Sample & SampleID & HAWC\\_ID & Study & Sample\\_Number & Class & Metric & DTXSID & Name & Value\\\\\n",
       " <chr> & <chr> & <dbl> & <chr> & <dbl> & <chr> & <chr> & <chr> & <chr> & <dbl>\\\\\n",
       "\\hline\n",
       "\t WF & 1289909\\_1 & 1289909 & Trieu et al. 2024 & 1 & Metal & Volume & Cr & Chromium  & 0\\\\\n",
       "\t WF & 1289909\\_1 & 1289909 & Trieu et al. 2024 & 1 & Metal & Volume & Cu & Copper    & 1\\\\\n",
       "\t WF & 1289909\\_1 & 1289909 & Trieu et al. 2024 & 1 & Metal & Volume & Pb & Lead      & 1\\\\\n",
       "\t WF & 1289909\\_1 & 1289909 & Trieu et al. 2024 & 1 & Metal & Volume & Ti & Titanium  & 1\\\\\n",
       "\t WF & 1289909\\_1 & 1289909 & Trieu et al. 2024 & 1 & Metal & Volume & Zn & Zinc      & 1\\\\\n",
       "\t WF & 1289909\\_1 & 1289909 & Trieu et al. 2024 & 1 & Metal & Volume & K  & Potassium & 0\\\\\n",
       "\\end{tabular}\n"
      ],
      "text/markdown": [
       "\n",
       "A tibble: 6 × 10\n",
       "\n",
       "| Sample &lt;chr&gt; | SampleID &lt;chr&gt; | HAWC_ID &lt;dbl&gt; | Study &lt;chr&gt; | Sample_Number &lt;dbl&gt; | Class &lt;chr&gt; | Metric &lt;chr&gt; | DTXSID &lt;chr&gt; | Name &lt;chr&gt; | Value &lt;dbl&gt; |\n",
       "|---|---|---|---|---|---|---|---|---|---|\n",
       "| WF | 1289909_1 | 1289909 | Trieu et al. 2024 | 1 | Metal | Volume | Cr | Chromium  | 0 |\n",
       "| WF | 1289909_1 | 1289909 | Trieu et al. 2024 | 1 | Metal | Volume | Cu | Copper    | 1 |\n",
       "| WF | 1289909_1 | 1289909 | Trieu et al. 2024 | 1 | Metal | Volume | Pb | Lead      | 1 |\n",
       "| WF | 1289909_1 | 1289909 | Trieu et al. 2024 | 1 | Metal | Volume | Ti | Titanium  | 1 |\n",
       "| WF | 1289909_1 | 1289909 | Trieu et al. 2024 | 1 | Metal | Volume | Zn | Zinc      | 1 |\n",
       "| WF | 1289909_1 | 1289909 | Trieu et al. 2024 | 1 | Metal | Volume | K  | Potassium | 0 |\n",
       "\n"
      ],
      "text/plain": [
       "  Sample SampleID  HAWC_ID Study             Sample_Number Class Metric DTXSID\n",
       "1 WF     1289909_1 1289909 Trieu et al. 2024 1             Metal Volume Cr    \n",
       "2 WF     1289909_1 1289909 Trieu et al. 2024 1             Metal Volume Cu    \n",
       "3 WF     1289909_1 1289909 Trieu et al. 2024 1             Metal Volume Pb    \n",
       "4 WF     1289909_1 1289909 Trieu et al. 2024 1             Metal Volume Ti    \n",
       "5 WF     1289909_1 1289909 Trieu et al. 2024 1             Metal Volume Zn    \n",
       "6 WF     1289909_1 1289909 Trieu et al. 2024 1             Metal Volume K     \n",
       "  Name      Value\n",
       "1 Chromium  0    \n",
       "2 Copper    1    \n",
       "3 Lead      1    \n",
       "4 Titanium  1    \n",
       "5 Zinc      1    \n",
       "6 Potassium 0    "
      ]
     },
     "metadata": {},
     "output_type": "display_data"
    }
   ],
   "source": [
    "# first converting values to \"1\" and missing data to \"0\"\n",
    "heat_map_df = final_df %>%\n",
    "    mutate(Value = ifelse(Value %in% NA, 0, 1)) %>%\n",
    "    # creating sample ids\n",
    "    unite(\"SampleID\", c(\"HAWC_ID\", \"Sample_Number\"), remove = FALSE)\n",
    "\n",
    "head(heat_map_df)"
   ]
  },
  {
   "cell_type": "code",
   "execution_count": 55,
   "id": "8c0ce138-33aa-4159-a5d8-aa3c927c5ba7",
   "metadata": {},
   "outputs": [
    {
     "data": {
      "image/png": "[encoded data removed]",
      "text/plain": [
       "plot without title"
      ]
     },
     "metadata": {
      "image/png": {
       "height": 480,
       "width": 1080
      }
     },
     "output_type": "display_data"
    }
   ],
   "source": [
    "options(repr.plot.width=18, repr.plot.height=8) #changing size\n",
    "ggplot(data = heat_map_df, aes(x = SampleID, y = Name, fill = as.character(Value))) + \n",
    "  geom_tile(color = \"white\") + \n",
    "\n",
    "  facet_grid(.~ Metric, scales = 'free',space=\"free\") + \n",
    "\n",
    "  theme_light() + \n",
    "  theme(axis.text.x = element_text(angle = 90, vjust = 0.5), #rotating x labels/ moving x labels slightly to the left\n",
    "        axis.line = element_line(colour=\"black\"), #making x and y axes black\n",
    "        axis.text = element_text(size = 12), #changing size of x axis labels\n",
    "        axis.title = element_text(face = \"bold\", size = rel(1.7)), #changes axis titles\n",
    "        legend.position = \"bottom\", #removing legend\n",
    "        legend.text = element_text(size = 12), #changes legend text\n",
    "        strip.text.x = element_text(size = 15, face = \"bold\"), #changes size of facet x axis \n",
    "        strip.text.y = element_text(size = 15, face = \"bold\"))  #changes size of facet y axis "
   ]
  },
  {
   "cell_type": "code",
   "execution_count": null,
   "id": "91c0cbfd-d810-4fe6-b1be-d2a646241aeb",
   "metadata": {},
   "outputs": [],
   "source": []
  }
 ],
 "metadata": {
  "kernelspec": {
   "display_name": "R",
   "language": "R",
   "name": "ir"
  },
  "language_info": {
   "codemirror_mode": "r",
   "file_extension": ".r",
   "mimetype": "text/x-r-source",
   "name": "R",
   "pygments_lexer": "r",
   "version": "4.4.3"
  }
 },
 "nbformat": 4,
 "nbformat_minor": 5
}
