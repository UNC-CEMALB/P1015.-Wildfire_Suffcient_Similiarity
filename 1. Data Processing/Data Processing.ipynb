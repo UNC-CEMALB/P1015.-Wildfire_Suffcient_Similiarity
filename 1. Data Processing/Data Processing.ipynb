{
 "cells": [
  {
   "cell_type": "code",
   "execution_count": 1,
   "id": "dbfb736a-bc97-4a2f-96f6-553aa3c90c5b",
   "metadata": {},
   "outputs": [
    {
     "name": "stderr",
     "output_type": "stream",
     "text": [
      "── \u001b[1mAttaching core tidyverse packages\u001b[22m ──────────────────────── tidyverse 2.0.0 ──\n",
      "\u001b[32m✔\u001b[39m \u001b[34mdplyr    \u001b[39m 1.1.3     \u001b[32m✔\u001b[39m \u001b[34mreadr    \u001b[39m 2.1.4\n",
      "\u001b[32m✔\u001b[39m \u001b[34mforcats  \u001b[39m 1.0.0     \u001b[32m✔\u001b[39m \u001b[34mstringr  \u001b[39m 1.5.0\n",
      "\u001b[32m✔\u001b[39m \u001b[34mggplot2  \u001b[39m 3.4.3     \u001b[32m✔\u001b[39m \u001b[34mtibble   \u001b[39m 3.2.1\n",
      "\u001b[32m✔\u001b[39m \u001b[34mlubridate\u001b[39m 1.9.2     \u001b[32m✔\u001b[39m \u001b[34mtidyr    \u001b[39m 1.3.0\n",
      "\u001b[32m✔\u001b[39m \u001b[34mpurrr    \u001b[39m 1.0.2     \n",
      "── \u001b[1mConflicts\u001b[22m ────────────────────────────────────────── tidyverse_conflicts() ──\n",
      "\u001b[31m✖\u001b[39m \u001b[34mdplyr\u001b[39m::\u001b[32mfilter()\u001b[39m masks \u001b[34mstats\u001b[39m::filter()\n",
      "\u001b[31m✖\u001b[39m \u001b[34mdplyr\u001b[39m::\u001b[32mlag()\u001b[39m    masks \u001b[34mstats\u001b[39m::lag()\n",
      "\u001b[36mℹ\u001b[39m Use the conflicted package (\u001b[3m\u001b[34m<http://conflicted.r-lib.org/>\u001b[39m\u001b[23m) to force all conflicts to become errors\n",
      "Loading required package: tmvtnorm\n",
      "\n",
      "Loading required package: mvtnorm\n",
      "\n",
      "Loading required package: Matrix\n",
      "\n",
      "\n",
      "Attaching package: ‘Matrix’\n",
      "\n",
      "\n",
      "The following objects are masked from ‘package:tidyr’:\n",
      "\n",
      "    expand, pack, unpack\n",
      "\n",
      "\n",
      "Loading required package: stats4\n",
      "\n",
      "Loading required package: gmm\n",
      "\n",
      "Loading required package: sandwich\n",
      "\n",
      "Loading required package: norm\n",
      "\n",
      "This package has some major limitations\n",
      "(for example, it does not work reliably when\n",
      "the number of variables exceeds 30),\n",
      "and has been superseded by the norm2 package.\n",
      "\n",
      "Loading required package: pcaMethods\n",
      "\n",
      "Loading required package: Biobase\n",
      "\n",
      "Loading required package: BiocGenerics\n",
      "\n",
      "\n",
      "Attaching package: ‘BiocGenerics’\n",
      "\n",
      "\n",
      "The following objects are masked from ‘package:lubridate’:\n",
      "\n",
      "    intersect, setdiff, union\n",
      "\n",
      "\n",
      "The following objects are masked from ‘package:dplyr’:\n",
      "\n",
      "    combine, intersect, setdiff, union\n",
      "\n",
      "\n",
      "The following objects are masked from ‘package:stats’:\n",
      "\n",
      "    IQR, mad, sd, var, xtabs\n",
      "\n",
      "\n",
      "The following objects are masked from ‘package:base’:\n",
      "\n",
      "    anyDuplicated, aperm, append, as.data.frame, basename, cbind,\n",
      "    colnames, dirname, do.call, duplicated, eval, evalq, Filter, Find,\n",
      "    get, grep, grepl, intersect, is.unsorted, lapply, Map, mapply,\n",
      "    match, mget, order, paste, pmax, pmax.int, pmin, pmin.int,\n",
      "    Position, rank, rbind, Reduce, rownames, sapply, setdiff, sort,\n",
      "    table, tapply, union, unique, unsplit, which.max, which.min\n",
      "\n",
      "\n",
      "Welcome to Bioconductor\n",
      "\n",
      "    Vignettes contain introductory material; view with\n",
      "    'browseVignettes()'. To cite Bioconductor, see\n",
      "    'citation(\"Biobase\")', and for packages 'citation(\"pkgname\")'.\n",
      "\n",
      "\n",
      "\n",
      "Attaching package: ‘pcaMethods’\n",
      "\n",
      "\n",
      "The following object is masked from ‘package:stats’:\n",
      "\n",
      "    loadings\n",
      "\n",
      "\n",
      "Loading required package: impute\n",
      "\n",
      "Welcome! Want to learn more? See two factoextra-related books at https://goo.gl/ve3WBa\n",
      "\n"
     ]
    }
   ],
   "source": [
    "Output = '/Users/alexis/Library/CloudStorage/OneDrive-UniversityofNorthCarolinaatChapelHill/CEMALB_DataAnalysisPM/Projects/P1015. Fire Sufficient Similarity/3. Analyses/2. Data Processing/Output'\n",
    "cur_date = '021925'\n",
    "\n",
    "library(missForest)\n",
    "library(readxl)\n",
    "library(tidyverse)\n",
    "library(imputeLCMD)\n",
    "library(factoextra)\n",
    "\n",
    "# reading in files\n",
    "ws_df = data.frame(Data = 'WS', read_excel(\"Input/Woodsmoke_Data_012825.xlsx\", sheet = 2)) %>%\n",
    "    select(-Sample_Number)\n",
    "wf_df = data.frame(Data = 'WF', read_excel(\"Input/Wildfire_Data_012825.xlsx\", sheet = 2)) %>%\n",
    "    select(-Sample_Number)"
   ]
  },
  {
   "cell_type": "markdown",
   "id": "a6904813-4b86-4407-a5ec-4efed3e83041",
   "metadata": {},
   "source": [
    "NOTES TO SELF:\n",
    "- change 'replicate' to 'instance' and 'chemical class' to 'class'"
   ]
  },
  {
   "cell_type": "code",
   "execution_count": 2,
   "id": "73a7d5c4-8e2a-4ab5-b13b-046bc35d412e",
   "metadata": {},
   "outputs": [
    {
     "data": {
      "text/html": [
       "<table class=\"dataframe\">\n",
       "<caption>A data.frame: 6 × 9</caption>\n",
       "<thead>\n",
       "\t<tr><th></th><th scope=col>Data</th><th scope=col>HAWC_ID</th><th scope=col>Study</th><th scope=col>Replicate</th><th scope=col>Chemical_Class</th><th scope=col>Metric</th><th scope=col>DTXSID</th><th scope=col>Name</th><th scope=col>Value</th></tr>\n",
       "\t<tr><th></th><th scope=col>&lt;chr&gt;</th><th scope=col>&lt;dbl&gt;</th><th scope=col>&lt;chr&gt;</th><th scope=col>&lt;dbl&gt;</th><th scope=col>&lt;chr&gt;</th><th scope=col>&lt;chr&gt;</th><th scope=col>&lt;chr&gt;</th><th scope=col>&lt;chr&gt;</th><th scope=col>&lt;chr&gt;</th></tr>\n",
       "</thead>\n",
       "<tbody>\n",
       "\t<tr><th scope=row>1</th><td>WS</td><td> 821855</td><td>Erlandsson et al. 2020  </td><td> 1</td><td>PAH</td><td>Weight</td><td>DTXSID3074787</td><td>1-Methylanthracene</td><td>11.3              </td></tr>\n",
       "\t<tr><th scope=row>2</th><td>WS</td><td> 821855</td><td>Erlandsson et al. 2020  </td><td> 1</td><td>PAH</td><td>Weight</td><td>DTXSID3074787</td><td>1-Methylanthracene</td><td>2.2999999999999998</td></tr>\n",
       "\t<tr><th scope=row>3</th><td>WS</td><td>1257056</td><td>McCarrick et al. 2024   </td><td> 1</td><td>PAH</td><td>Weight</td><td>DTXSID3074787</td><td>1-Methylanthracene</td><td>1.66              </td></tr>\n",
       "\t<tr><th scope=row>4</th><td>WS</td><td> 267140</td><td>Alfheim and Ramdahl 1984</td><td> 1</td><td>PAH</td><td>Volume</td><td>DTXSID3074787</td><td>1-Methylanthracene</td><td>NA                </td></tr>\n",
       "\t<tr><th scope=row>5</th><td>WS</td><td>1263480</td><td>Burnet et al. 1990      </td><td> 1</td><td>PAH</td><td>Volume</td><td>DTXSID3074787</td><td>1-Methylanthracene</td><td>NA                </td></tr>\n",
       "\t<tr><th scope=row>6</th><td>WS</td><td>1263480</td><td>Burnet et al. 1990      </td><td>NA</td><td>PAH</td><td>Volume</td><td>DTXSID3074787</td><td>1-Methylanthracene</td><td>NA                </td></tr>\n",
       "</tbody>\n",
       "</table>\n"
      ],
      "text/latex": [
       "A data.frame: 6 × 9\n",
       "\\begin{tabular}{r|lllllllll}\n",
       "  & Data & HAWC\\_ID & Study & Replicate & Chemical\\_Class & Metric & DTXSID & Name & Value\\\\\n",
       "  & <chr> & <dbl> & <chr> & <dbl> & <chr> & <chr> & <chr> & <chr> & <chr>\\\\\n",
       "\\hline\n",
       "\t1 & WS &  821855 & Erlandsson et al. 2020   &  1 & PAH & Weight & DTXSID3074787 & 1-Methylanthracene & 11.3              \\\\\n",
       "\t2 & WS &  821855 & Erlandsson et al. 2020   &  1 & PAH & Weight & DTXSID3074787 & 1-Methylanthracene & 2.2999999999999998\\\\\n",
       "\t3 & WS & 1257056 & McCarrick et al. 2024    &  1 & PAH & Weight & DTXSID3074787 & 1-Methylanthracene & 1.66              \\\\\n",
       "\t4 & WS &  267140 & Alfheim and Ramdahl 1984 &  1 & PAH & Volume & DTXSID3074787 & 1-Methylanthracene & NA                \\\\\n",
       "\t5 & WS & 1263480 & Burnet et al. 1990       &  1 & PAH & Volume & DTXSID3074787 & 1-Methylanthracene & NA                \\\\\n",
       "\t6 & WS & 1263480 & Burnet et al. 1990       & NA & PAH & Volume & DTXSID3074787 & 1-Methylanthracene & NA                \\\\\n",
       "\\end{tabular}\n"
      ],
      "text/markdown": [
       "\n",
       "A data.frame: 6 × 9\n",
       "\n",
       "| <!--/--> | Data &lt;chr&gt; | HAWC_ID &lt;dbl&gt; | Study &lt;chr&gt; | Replicate &lt;dbl&gt; | Chemical_Class &lt;chr&gt; | Metric &lt;chr&gt; | DTXSID &lt;chr&gt; | Name &lt;chr&gt; | Value &lt;chr&gt; |\n",
       "|---|---|---|---|---|---|---|---|---|---|\n",
       "| 1 | WS |  821855 | Erlandsson et al. 2020   |  1 | PAH | Weight | DTXSID3074787 | 1-Methylanthracene | 11.3               |\n",
       "| 2 | WS |  821855 | Erlandsson et al. 2020   |  1 | PAH | Weight | DTXSID3074787 | 1-Methylanthracene | 2.2999999999999998 |\n",
       "| 3 | WS | 1257056 | McCarrick et al. 2024    |  1 | PAH | Weight | DTXSID3074787 | 1-Methylanthracene | 1.66               |\n",
       "| 4 | WS |  267140 | Alfheim and Ramdahl 1984 |  1 | PAH | Volume | DTXSID3074787 | 1-Methylanthracene | NA                 |\n",
       "| 5 | WS | 1263480 | Burnet et al. 1990       |  1 | PAH | Volume | DTXSID3074787 | 1-Methylanthracene | NA                 |\n",
       "| 6 | WS | 1263480 | Burnet et al. 1990       | NA | PAH | Volume | DTXSID3074787 | 1-Methylanthracene | NA                 |\n",
       "\n"
      ],
      "text/plain": [
       "  Data HAWC_ID Study                    Replicate Chemical_Class Metric\n",
       "1 WS    821855 Erlandsson et al. 2020    1        PAH            Weight\n",
       "2 WS    821855 Erlandsson et al. 2020    1        PAH            Weight\n",
       "3 WS   1257056 McCarrick et al. 2024     1        PAH            Weight\n",
       "4 WS    267140 Alfheim and Ramdahl 1984  1        PAH            Volume\n",
       "5 WS   1263480 Burnet et al. 1990        1        PAH            Volume\n",
       "6 WS   1263480 Burnet et al. 1990       NA        PAH            Volume\n",
       "  DTXSID        Name               Value             \n",
       "1 DTXSID3074787 1-Methylanthracene 11.3              \n",
       "2 DTXSID3074787 1-Methylanthracene 2.2999999999999998\n",
       "3 DTXSID3074787 1-Methylanthracene 1.66              \n",
       "4 DTXSID3074787 1-Methylanthracene NA                \n",
       "5 DTXSID3074787 1-Methylanthracene NA                \n",
       "6 DTXSID3074787 1-Methylanthracene NA                "
      ]
     },
     "metadata": {},
     "output_type": "display_data"
    },
    {
     "data": {
      "text/html": [
       "<table class=\"dataframe\">\n",
       "<caption>A data.frame: 6 × 9</caption>\n",
       "<thead>\n",
       "\t<tr><th></th><th scope=col>Data</th><th scope=col>HAWC_ID</th><th scope=col>Study</th><th scope=col>Replicate</th><th scope=col>Chemical_Class</th><th scope=col>Metric</th><th scope=col>DTXSID</th><th scope=col>Name</th><th scope=col>Value</th></tr>\n",
       "\t<tr><th></th><th scope=col>&lt;chr&gt;</th><th scope=col>&lt;dbl&gt;</th><th scope=col>&lt;chr&gt;</th><th scope=col>&lt;dbl&gt;</th><th scope=col>&lt;chr&gt;</th><th scope=col>&lt;chr&gt;</th><th scope=col>&lt;chr&gt;</th><th scope=col>&lt;chr&gt;</th><th scope=col>&lt;chr&gt;</th></tr>\n",
       "</thead>\n",
       "<tbody>\n",
       "\t<tr><th scope=row>1</th><td>WF</td><td>1289821</td><td>Liang et al. 2021   </td><td> 1</td><td>PAH</td><td>Volume</td><td>NA            </td><td>1-(10-methylanthracen-9-yl)ethanone</td><td>5 </td></tr>\n",
       "\t<tr><th scope=row>2</th><td>WF</td><td>1289821</td><td>Liang et al. 2021   </td><td> 1</td><td>PAH</td><td>Volume</td><td>DTXSID50176885</td><td>1-Acenaphthenone                   </td><td>1 </td></tr>\n",
       "\t<tr><th scope=row>3</th><td>WF</td><td>1289737</td><td>Campbell et al. 2024</td><td> 1</td><td>PAH</td><td>Weight</td><td>DTXSID1074759 </td><td>1-Methylchrysene                   </td><td>NA</td></tr>\n",
       "\t<tr><th scope=row>4</th><td>WF</td><td>1289739</td><td>Campos et al. 2019  </td><td> 1</td><td>PAH</td><td>Weight</td><td>DTXSID1074759 </td><td>1-Methylchrysene                   </td><td>NA</td></tr>\n",
       "\t<tr><th scope=row>5</th><td>WF</td><td>1289739</td><td>Campos et al. 2019  </td><td>NA</td><td>PAH</td><td>Weight</td><td>DTXSID1074759 </td><td>1-Methylchrysene                   </td><td>NA</td></tr>\n",
       "\t<tr><th scope=row>6</th><td>WF</td><td>1289739</td><td>Campos et al. 2019  </td><td>NA</td><td>PAH</td><td>Weight</td><td>DTXSID1074759 </td><td>1-Methylchrysene                   </td><td>NA</td></tr>\n",
       "</tbody>\n",
       "</table>\n"
      ],
      "text/latex": [
       "A data.frame: 6 × 9\n",
       "\\begin{tabular}{r|lllllllll}\n",
       "  & Data & HAWC\\_ID & Study & Replicate & Chemical\\_Class & Metric & DTXSID & Name & Value\\\\\n",
       "  & <chr> & <dbl> & <chr> & <dbl> & <chr> & <chr> & <chr> & <chr> & <chr>\\\\\n",
       "\\hline\n",
       "\t1 & WF & 1289821 & Liang et al. 2021    &  1 & PAH & Volume & NA             & 1-(10-methylanthracen-9-yl)ethanone & 5 \\\\\n",
       "\t2 & WF & 1289821 & Liang et al. 2021    &  1 & PAH & Volume & DTXSID50176885 & 1-Acenaphthenone                    & 1 \\\\\n",
       "\t3 & WF & 1289737 & Campbell et al. 2024 &  1 & PAH & Weight & DTXSID1074759  & 1-Methylchrysene                    & NA\\\\\n",
       "\t4 & WF & 1289739 & Campos et al. 2019   &  1 & PAH & Weight & DTXSID1074759  & 1-Methylchrysene                    & NA\\\\\n",
       "\t5 & WF & 1289739 & Campos et al. 2019   & NA & PAH & Weight & DTXSID1074759  & 1-Methylchrysene                    & NA\\\\\n",
       "\t6 & WF & 1289739 & Campos et al. 2019   & NA & PAH & Weight & DTXSID1074759  & 1-Methylchrysene                    & NA\\\\\n",
       "\\end{tabular}\n"
      ],
      "text/markdown": [
       "\n",
       "A data.frame: 6 × 9\n",
       "\n",
       "| <!--/--> | Data &lt;chr&gt; | HAWC_ID &lt;dbl&gt; | Study &lt;chr&gt; | Replicate &lt;dbl&gt; | Chemical_Class &lt;chr&gt; | Metric &lt;chr&gt; | DTXSID &lt;chr&gt; | Name &lt;chr&gt; | Value &lt;chr&gt; |\n",
       "|---|---|---|---|---|---|---|---|---|---|\n",
       "| 1 | WF | 1289821 | Liang et al. 2021    |  1 | PAH | Volume | NA             | 1-(10-methylanthracen-9-yl)ethanone | 5  |\n",
       "| 2 | WF | 1289821 | Liang et al. 2021    |  1 | PAH | Volume | DTXSID50176885 | 1-Acenaphthenone                    | 1  |\n",
       "| 3 | WF | 1289737 | Campbell et al. 2024 |  1 | PAH | Weight | DTXSID1074759  | 1-Methylchrysene                    | NA |\n",
       "| 4 | WF | 1289739 | Campos et al. 2019   |  1 | PAH | Weight | DTXSID1074759  | 1-Methylchrysene                    | NA |\n",
       "| 5 | WF | 1289739 | Campos et al. 2019   | NA | PAH | Weight | DTXSID1074759  | 1-Methylchrysene                    | NA |\n",
       "| 6 | WF | 1289739 | Campos et al. 2019   | NA | PAH | Weight | DTXSID1074759  | 1-Methylchrysene                    | NA |\n",
       "\n"
      ],
      "text/plain": [
       "  Data HAWC_ID Study                Replicate Chemical_Class Metric\n",
       "1 WF   1289821 Liang et al. 2021     1        PAH            Volume\n",
       "2 WF   1289821 Liang et al. 2021     1        PAH            Volume\n",
       "3 WF   1289737 Campbell et al. 2024  1        PAH            Weight\n",
       "4 WF   1289739 Campos et al. 2019    1        PAH            Weight\n",
       "5 WF   1289739 Campos et al. 2019   NA        PAH            Weight\n",
       "6 WF   1289739 Campos et al. 2019   NA        PAH            Weight\n",
       "  DTXSID         Name                                Value\n",
       "1 NA             1-(10-methylanthracen-9-yl)ethanone 5    \n",
       "2 DTXSID50176885 1-Acenaphthenone                    1    \n",
       "3 DTXSID1074759  1-Methylchrysene                    NA   \n",
       "4 DTXSID1074759  1-Methylchrysene                    NA   \n",
       "5 DTXSID1074759  1-Methylchrysene                    NA   \n",
       "6 DTXSID1074759  1-Methylchrysene                    NA   "
      ]
     },
     "metadata": {},
     "output_type": "display_data"
    }
   ],
   "source": [
    "head(ws_df)\n",
    "head(wf_df)"
   ]
  },
  {
   "cell_type": "code",
   "execution_count": 3,
   "id": "3d546e8e-5cdf-4386-b29b-2ac2938366f9",
   "metadata": {},
   "outputs": [
    {
     "data": {
      "text/html": [
       "<style>\n",
       ".list-inline {list-style: none; margin:0; padding: 0}\n",
       ".list-inline>li {display: inline-block}\n",
       ".list-inline>li:not(:last-child)::after {content: \"\\00b7\"; padding: 0 .5ex}\n",
       "</style>\n",
       "<ol class=list-inline><li>6607</li><li>9</li></ol>\n"
      ],
      "text/latex": [
       "\\begin{enumerate*}\n",
       "\\item 6607\n",
       "\\item 9\n",
       "\\end{enumerate*}\n"
      ],
      "text/markdown": [
       "1. 6607\n",
       "2. 9\n",
       "\n",
       "\n"
      ],
      "text/plain": [
       "[1] 6607    9"
      ]
     },
     "metadata": {},
     "output_type": "display_data"
    },
    {
     "data": {
      "text/html": [
       "<style>\n",
       ".list-inline {list-style: none; margin:0; padding: 0}\n",
       ".list-inline>li {display: inline-block}\n",
       ".list-inline>li:not(:last-child)::after {content: \"\\00b7\"; padding: 0 .5ex}\n",
       "</style>\n",
       "<ol class=list-inline><li>4340</li><li>9</li></ol>\n"
      ],
      "text/latex": [
       "\\begin{enumerate*}\n",
       "\\item 4340\n",
       "\\item 9\n",
       "\\end{enumerate*}\n"
      ],
      "text/markdown": [
       "1. 4340\n",
       "2. 9\n",
       "\n",
       "\n"
      ],
      "text/plain": [
       "[1] 4340    9"
      ]
     },
     "metadata": {},
     "output_type": "display_data"
    }
   ],
   "source": [
    "dim(ws_df)\n",
    "dim(wf_df)"
   ]
  },
  {
   "cell_type": "markdown",
   "id": "417a92fb-0524-4038-a5ea-08a56f02a955",
   "metadata": {},
   "source": [
    "# Filter 1\n",
    "\n",
    "Removing duplicate records for instances that weren't measured at all (MAR). "
   ]
  },
  {
   "cell_type": "code",
   "execution_count": 4,
   "id": "9eefd1e4-96f4-48a6-933c-9486ab447115",
   "metadata": {
    "scrolled": true
   },
   "outputs": [],
   "source": [
    "`%notin%` <- Negate(`%in%`)\n",
    "\n",
    "ws_df = ws_df %>%\n",
    "    filter(Replicate %notin% NA)\n",
    "\n",
    "wf_df = wf_df %>%\n",
    "    filter(Replicate %notin% NA)"
   ]
  },
  {
   "cell_type": "code",
   "execution_count": 5,
   "id": "1425c2d3-c1cd-4626-974d-492e320d724e",
   "metadata": {
    "scrolled": true
   },
   "outputs": [
    {
     "data": {
      "text/html": [
       "<style>\n",
       ".list-inline {list-style: none; margin:0; padding: 0}\n",
       ".list-inline>li {display: inline-block}\n",
       ".list-inline>li:not(:last-child)::after {content: \"\\00b7\"; padding: 0 .5ex}\n",
       "</style>\n",
       "<ol class=list-inline><li>4203</li><li>9</li></ol>\n"
      ],
      "text/latex": [
       "\\begin{enumerate*}\n",
       "\\item 4203\n",
       "\\item 9\n",
       "\\end{enumerate*}\n"
      ],
      "text/markdown": [
       "1. 4203\n",
       "2. 9\n",
       "\n",
       "\n"
      ],
      "text/plain": [
       "[1] 4203    9"
      ]
     },
     "metadata": {},
     "output_type": "display_data"
    },
    {
     "data": {
      "text/html": [
       "<style>\n",
       ".list-inline {list-style: none; margin:0; padding: 0}\n",
       ".list-inline>li {display: inline-block}\n",
       ".list-inline>li:not(:last-child)::after {content: \"\\00b7\"; padding: 0 .5ex}\n",
       "</style>\n",
       "<ol class=list-inline><li>2378</li><li>9</li></ol>\n"
      ],
      "text/latex": [
       "\\begin{enumerate*}\n",
       "\\item 2378\n",
       "\\item 9\n",
       "\\end{enumerate*}\n"
      ],
      "text/markdown": [
       "1. 2378\n",
       "2. 9\n",
       "\n",
       "\n"
      ],
      "text/plain": [
       "[1] 2378    9"
      ]
     },
     "metadata": {},
     "output_type": "display_data"
    }
   ],
   "source": [
    "dim(ws_df)\n",
    "dim(wf_df)"
   ]
  },
  {
   "cell_type": "code",
   "execution_count": 6,
   "id": "d9ba0841-95c0-4dfc-a8de-480550341718",
   "metadata": {},
   "outputs": [
    {
     "data": {
      "text/html": [
       "<table class=\"dataframe\">\n",
       "<caption>A data.frame: 6 × 9</caption>\n",
       "<thead>\n",
       "\t<tr><th></th><th scope=col>Data</th><th scope=col>HAWC_ID</th><th scope=col>Study</th><th scope=col>Replicate</th><th scope=col>Chemical_Class</th><th scope=col>Metric</th><th scope=col>DTXSID</th><th scope=col>Name</th><th scope=col>Value</th></tr>\n",
       "\t<tr><th></th><th scope=col>&lt;chr&gt;</th><th scope=col>&lt;dbl&gt;</th><th scope=col>&lt;chr&gt;</th><th scope=col>&lt;dbl&gt;</th><th scope=col>&lt;chr&gt;</th><th scope=col>&lt;chr&gt;</th><th scope=col>&lt;chr&gt;</th><th scope=col>&lt;chr&gt;</th><th scope=col>&lt;chr&gt;</th></tr>\n",
       "</thead>\n",
       "<tbody>\n",
       "\t<tr><th scope=row>1</th><td>WS</td><td> 821855</td><td>Erlandsson et al. 2020  </td><td>1</td><td>PAH</td><td>Weight</td><td>DTXSID3074787</td><td>1-Methylanthracene</td><td>11.3              </td></tr>\n",
       "\t<tr><th scope=row>2</th><td>WS</td><td> 821855</td><td>Erlandsson et al. 2020  </td><td>1</td><td>PAH</td><td>Weight</td><td>DTXSID3074787</td><td>1-Methylanthracene</td><td>2.2999999999999998</td></tr>\n",
       "\t<tr><th scope=row>3</th><td>WS</td><td>1257056</td><td>McCarrick et al. 2024   </td><td>1</td><td>PAH</td><td>Weight</td><td>DTXSID3074787</td><td>1-Methylanthracene</td><td>1.66              </td></tr>\n",
       "\t<tr><th scope=row>4</th><td>WS</td><td> 267140</td><td>Alfheim and Ramdahl 1984</td><td>1</td><td>PAH</td><td>Volume</td><td>DTXSID3074787</td><td>1-Methylanthracene</td><td>NA                </td></tr>\n",
       "\t<tr><th scope=row>5</th><td>WS</td><td>1263480</td><td>Burnet et al. 1990      </td><td>1</td><td>PAH</td><td>Volume</td><td>DTXSID3074787</td><td>1-Methylanthracene</td><td>NA                </td></tr>\n",
       "\t<tr><th scope=row>6</th><td>WS</td><td> 267091</td><td>Forchhammer et al. 2012 </td><td>1</td><td>PAH</td><td>Volume</td><td>DTXSID3074787</td><td>1-Methylanthracene</td><td>NA                </td></tr>\n",
       "</tbody>\n",
       "</table>\n"
      ],
      "text/latex": [
       "A data.frame: 6 × 9\n",
       "\\begin{tabular}{r|lllllllll}\n",
       "  & Data & HAWC\\_ID & Study & Replicate & Chemical\\_Class & Metric & DTXSID & Name & Value\\\\\n",
       "  & <chr> & <dbl> & <chr> & <dbl> & <chr> & <chr> & <chr> & <chr> & <chr>\\\\\n",
       "\\hline\n",
       "\t1 & WS &  821855 & Erlandsson et al. 2020   & 1 & PAH & Weight & DTXSID3074787 & 1-Methylanthracene & 11.3              \\\\\n",
       "\t2 & WS &  821855 & Erlandsson et al. 2020   & 1 & PAH & Weight & DTXSID3074787 & 1-Methylanthracene & 2.2999999999999998\\\\\n",
       "\t3 & WS & 1257056 & McCarrick et al. 2024    & 1 & PAH & Weight & DTXSID3074787 & 1-Methylanthracene & 1.66              \\\\\n",
       "\t4 & WS &  267140 & Alfheim and Ramdahl 1984 & 1 & PAH & Volume & DTXSID3074787 & 1-Methylanthracene & NA                \\\\\n",
       "\t5 & WS & 1263480 & Burnet et al. 1990       & 1 & PAH & Volume & DTXSID3074787 & 1-Methylanthracene & NA                \\\\\n",
       "\t6 & WS &  267091 & Forchhammer et al. 2012  & 1 & PAH & Volume & DTXSID3074787 & 1-Methylanthracene & NA                \\\\\n",
       "\\end{tabular}\n"
      ],
      "text/markdown": [
       "\n",
       "A data.frame: 6 × 9\n",
       "\n",
       "| <!--/--> | Data &lt;chr&gt; | HAWC_ID &lt;dbl&gt; | Study &lt;chr&gt; | Replicate &lt;dbl&gt; | Chemical_Class &lt;chr&gt; | Metric &lt;chr&gt; | DTXSID &lt;chr&gt; | Name &lt;chr&gt; | Value &lt;chr&gt; |\n",
       "|---|---|---|---|---|---|---|---|---|---|\n",
       "| 1 | WS |  821855 | Erlandsson et al. 2020   | 1 | PAH | Weight | DTXSID3074787 | 1-Methylanthracene | 11.3               |\n",
       "| 2 | WS |  821855 | Erlandsson et al. 2020   | 1 | PAH | Weight | DTXSID3074787 | 1-Methylanthracene | 2.2999999999999998 |\n",
       "| 3 | WS | 1257056 | McCarrick et al. 2024    | 1 | PAH | Weight | DTXSID3074787 | 1-Methylanthracene | 1.66               |\n",
       "| 4 | WS |  267140 | Alfheim and Ramdahl 1984 | 1 | PAH | Volume | DTXSID3074787 | 1-Methylanthracene | NA                 |\n",
       "| 5 | WS | 1263480 | Burnet et al. 1990       | 1 | PAH | Volume | DTXSID3074787 | 1-Methylanthracene | NA                 |\n",
       "| 6 | WS |  267091 | Forchhammer et al. 2012  | 1 | PAH | Volume | DTXSID3074787 | 1-Methylanthracene | NA                 |\n",
       "\n"
      ],
      "text/plain": [
       "  Data HAWC_ID Study                    Replicate Chemical_Class Metric\n",
       "1 WS    821855 Erlandsson et al. 2020   1         PAH            Weight\n",
       "2 WS    821855 Erlandsson et al. 2020   1         PAH            Weight\n",
       "3 WS   1257056 McCarrick et al. 2024    1         PAH            Weight\n",
       "4 WS    267140 Alfheim and Ramdahl 1984 1         PAH            Volume\n",
       "5 WS   1263480 Burnet et al. 1990       1         PAH            Volume\n",
       "6 WS    267091 Forchhammer et al. 2012  1         PAH            Volume\n",
       "  DTXSID        Name               Value             \n",
       "1 DTXSID3074787 1-Methylanthracene 11.3              \n",
       "2 DTXSID3074787 1-Methylanthracene 2.2999999999999998\n",
       "3 DTXSID3074787 1-Methylanthracene 1.66              \n",
       "4 DTXSID3074787 1-Methylanthracene NA                \n",
       "5 DTXSID3074787 1-Methylanthracene NA                \n",
       "6 DTXSID3074787 1-Methylanthracene NA                "
      ]
     },
     "metadata": {},
     "output_type": "display_data"
    }
   ],
   "source": [
    "# combining dfs\n",
    "combined_df = rbind(ws_df, wf_df)\n",
    "head(combined_df)"
   ]
  },
  {
   "cell_type": "code",
   "execution_count": 7,
   "id": "6bcf9a9c-639c-46ca-9806-dcb9246095f1",
   "metadata": {},
   "outputs": [
    {
     "data": {
      "text/html": [
       "192"
      ],
      "text/latex": [
       "192"
      ],
      "text/markdown": [
       "192"
      ],
      "text/plain": [
       "[1] 192"
      ]
     },
     "metadata": {},
     "output_type": "display_data"
    }
   ],
   "source": [
    "length(unique(combined_df$Name))"
   ]
  },
  {
   "cell_type": "markdown",
   "id": "adaf5cec-fc80-4902-935a-523fc2d9a106",
   "metadata": {},
   "source": [
    "192 unique variables."
   ]
  },
  {
   "cell_type": "markdown",
   "id": "38fa1e02-9f71-4378-a78f-90f5591ab77b",
   "metadata": {},
   "source": [
    "# Variable Background Filters\n",
    "\n",
    "Determining what variables have missing data for all variables delineated based on the dfs the data will be split into and analyzed. \n",
    "\n",
    "1. A variable (ie. `Name` which represents a chemical or metal) will be removed if < 50% of its experimental data points were either measurable concentrations and/or specified as non-detects. In other words, chemicals were excluded if they were NAs (not evaluated) across >= 50% of the samples.\n",
    "2. The data needs to have at least one experimental (ie. measured or ND) value in both WS and WF data."
   ]
  },
  {
   "cell_type": "code",
   "execution_count": 8,
   "id": "59c471fe-1657-4356-8ed6-35a8b6244188",
   "metadata": {},
   "outputs": [
    {
     "data": {
      "text/html": [
       "<table class=\"dataframe\">\n",
       "<caption>A tibble: 6 × 4</caption>\n",
       "<thead>\n",
       "\t<tr><th scope=col>Data</th><th scope=col>Metric</th><th scope=col>Name</th><th scope=col>data_group_count</th></tr>\n",
       "\t<tr><th scope=col>&lt;chr&gt;</th><th scope=col>&lt;chr&gt;</th><th scope=col>&lt;chr&gt;</th><th scope=col>&lt;dbl&gt;</th></tr>\n",
       "</thead>\n",
       "<tbody>\n",
       "\t<tr><td>WF</td><td>Volume</td><td>1,2,4-Trimethylbenzene    </td><td>2</td></tr>\n",
       "\t<tr><td>WF</td><td>Volume</td><td>1,3,5-Trimethylbenzene    </td><td>2</td></tr>\n",
       "\t<tr><td>WF</td><td>Volume</td><td>1,3-Dihydroxynaphthalene  </td><td>1</td></tr>\n",
       "\t<tr><td>WF</td><td>Volume</td><td>1,4-Dichloro-2-butene, cis</td><td>1</td></tr>\n",
       "\t<tr><td>WF</td><td>Volume</td><td>1,4-Dichlorobenzene       </td><td>1</td></tr>\n",
       "\t<tr><td>WF</td><td>Volume</td><td>1,8-Dihydroxynaphthalene  </td><td>1</td></tr>\n",
       "</tbody>\n",
       "</table>\n"
      ],
      "text/latex": [
       "A tibble: 6 × 4\n",
       "\\begin{tabular}{llll}\n",
       " Data & Metric & Name & data\\_group\\_count\\\\\n",
       " <chr> & <chr> & <chr> & <dbl>\\\\\n",
       "\\hline\n",
       "\t WF & Volume & 1,2,4-Trimethylbenzene     & 2\\\\\n",
       "\t WF & Volume & 1,3,5-Trimethylbenzene     & 2\\\\\n",
       "\t WF & Volume & 1,3-Dihydroxynaphthalene   & 1\\\\\n",
       "\t WF & Volume & 1,4-Dichloro-2-butene, cis & 1\\\\\n",
       "\t WF & Volume & 1,4-Dichlorobenzene        & 1\\\\\n",
       "\t WF & Volume & 1,8-Dihydroxynaphthalene   & 1\\\\\n",
       "\\end{tabular}\n"
      ],
      "text/markdown": [
       "\n",
       "A tibble: 6 × 4\n",
       "\n",
       "| Data &lt;chr&gt; | Metric &lt;chr&gt; | Name &lt;chr&gt; | data_group_count &lt;dbl&gt; |\n",
       "|---|---|---|---|\n",
       "| WF | Volume | 1,2,4-Trimethylbenzene     | 2 |\n",
       "| WF | Volume | 1,3,5-Trimethylbenzene     | 2 |\n",
       "| WF | Volume | 1,3-Dihydroxynaphthalene   | 1 |\n",
       "| WF | Volume | 1,4-Dichloro-2-butene, cis | 1 |\n",
       "| WF | Volume | 1,4-Dichlorobenzene        | 1 |\n",
       "| WF | Volume | 1,8-Dihydroxynaphthalene   | 1 |\n",
       "\n"
      ],
      "text/plain": [
       "  Data Metric Name                       data_group_count\n",
       "1 WF   Volume 1,2,4-Trimethylbenzene     2               \n",
       "2 WF   Volume 1,3,5-Trimethylbenzene     2               \n",
       "3 WF   Volume 1,3-Dihydroxynaphthalene   1               \n",
       "4 WF   Volume 1,4-Dichloro-2-butene, cis 1               \n",
       "5 WF   Volume 1,4-Dichlorobenzene        1               \n",
       "6 WF   Volume 1,8-Dihydroxynaphthalene   1               "
      ]
     },
     "metadata": {},
     "output_type": "display_data"
    }
   ],
   "source": [
    "sample_type_presence_df = combined_df %>%\n",
    "    # if the value isn't MAR count it as being present\n",
    "    mutate(count = ifelse(Value != 'NA', 1, 0)) %>%\n",
    "    # determining which have at least one experimental value within each sample type\n",
    "    group_by(Data, Metric, Name) %>%\n",
    "    # summing the number of experimental records for each variable\n",
    "    reframe(data_group_count = sum(count))\n",
    "\n",
    "head(sample_type_presence_df)"
   ]
  },
  {
   "cell_type": "code",
   "execution_count": 9,
   "id": "01950eb7-eaa3-4736-b19c-bac78b6e26c0",
   "metadata": {},
   "outputs": [
    {
     "data": {
      "text/html": [
       "<style>\n",
       ".list-inline {list-style: none; margin:0; padding: 0}\n",
       ".list-inline>li {display: inline-block}\n",
       ".list-inline>li:not(:last-child)::after {content: \"\\00b7\"; padding: 0 .5ex}\n",
       "</style>\n",
       "<ol class=list-inline><li>449</li><li>4</li></ol>\n"
      ],
      "text/latex": [
       "\\begin{enumerate*}\n",
       "\\item 449\n",
       "\\item 4\n",
       "\\end{enumerate*}\n"
      ],
      "text/markdown": [
       "1. 449\n",
       "2. 4\n",
       "\n",
       "\n"
      ],
      "text/plain": [
       "[1] 449   4"
      ]
     },
     "metadata": {},
     "output_type": "display_data"
    },
    {
     "data": {
      "text/html": [
       "<style>\n",
       ".list-inline {list-style: none; margin:0; padding: 0}\n",
       ".list-inline>li {display: inline-block}\n",
       ".list-inline>li:not(:last-child)::after {content: \"\\00b7\"; padding: 0 .5ex}\n",
       "</style>\n",
       "<ol class=list-inline><li>333</li><li>4</li></ol>\n"
      ],
      "text/latex": [
       "\\begin{enumerate*}\n",
       "\\item 333\n",
       "\\item 4\n",
       "\\end{enumerate*}\n"
      ],
      "text/markdown": [
       "1. 333\n",
       "2. 4\n",
       "\n",
       "\n"
      ],
      "text/plain": [
       "[1] 333   4"
      ]
     },
     "metadata": {},
     "output_type": "display_data"
    }
   ],
   "source": [
    "dim(sample_type_presence_df)\n",
    "\n",
    "sample_type_keep_df = sample_type_presence_df %>%\n",
    "    filter(data_group_count > 0) \n",
    "\n",
    "dim(sample_type_keep_df)"
   ]
  },
  {
   "cell_type": "code",
   "execution_count": 10,
   "id": "e9e0b6d6-d46b-4f37-81e9-f71cbf5eaefd",
   "metadata": {},
   "outputs": [
    {
     "name": "stderr",
     "output_type": "stream",
     "text": [
      "\u001b[1m\u001b[22mJoining with `by = join_by(Data, Metric, Name)`\n"
     ]
    },
    {
     "data": {
      "text/html": [
       "<table class=\"dataframe\">\n",
       "<caption>A tibble: 6 × 9</caption>\n",
       "<thead>\n",
       "\t<tr><th scope=col>Data</th><th scope=col>Metric</th><th scope=col>Name</th><th scope=col>HAWC_ID</th><th scope=col>Study</th><th scope=col>Replicate</th><th scope=col>Chemical_Class</th><th scope=col>DTXSID</th><th scope=col>Value</th></tr>\n",
       "\t<tr><th scope=col>&lt;chr&gt;</th><th scope=col>&lt;chr&gt;</th><th scope=col>&lt;chr&gt;</th><th scope=col>&lt;dbl&gt;</th><th scope=col>&lt;chr&gt;</th><th scope=col>&lt;dbl&gt;</th><th scope=col>&lt;chr&gt;</th><th scope=col>&lt;chr&gt;</th><th scope=col>&lt;chr&gt;</th></tr>\n",
       "</thead>\n",
       "<tbody>\n",
       "\t<tr><td>WF</td><td>Volume</td><td>1,2,4-Trimethylbenzene    </td><td>1289926</td><td>Wang et al. 2024       </td><td>1</td><td>VOC</td><td>DTXSID6021402 </td><td>730</td></tr>\n",
       "\t<tr><td>WF</td><td>Volume</td><td>1,2,4-Trimethylbenzene    </td><td>1306371</td><td>Ketcherside et al. 2024</td><td>1</td><td>VOC</td><td>DTXSID6021402 </td><td>130</td></tr>\n",
       "\t<tr><td>WF</td><td>Volume</td><td>1,3,5-Trimethylbenzene    </td><td>1289926</td><td>Wang et al. 2024       </td><td>1</td><td>VOC</td><td>DTXSID6026797 </td><td>330</td></tr>\n",
       "\t<tr><td>WF</td><td>Volume</td><td>1,3,5-Trimethylbenzene    </td><td>1306371</td><td>Ketcherside et al. 2024</td><td>1</td><td>VOC</td><td>DTXSID6026797 </td><td>110</td></tr>\n",
       "\t<tr><td>WF</td><td>Volume</td><td>1,3-Dihydroxynaphthalene  </td><td>1289821</td><td>Liang et al. 2021      </td><td>1</td><td>PAH</td><td>DTXSID40456587</td><td>6  </td></tr>\n",
       "\t<tr><td>WF</td><td>Volume</td><td>1,4-Dichloro-2-butene, cis</td><td>1289926</td><td>Wang et al. 2024       </td><td>1</td><td>VOC</td><td>DTXSID3027405 </td><td>230</td></tr>\n",
       "</tbody>\n",
       "</table>\n"
      ],
      "text/latex": [
       "A tibble: 6 × 9\n",
       "\\begin{tabular}{lllllllll}\n",
       " Data & Metric & Name & HAWC\\_ID & Study & Replicate & Chemical\\_Class & DTXSID & Value\\\\\n",
       " <chr> & <chr> & <chr> & <dbl> & <chr> & <dbl> & <chr> & <chr> & <chr>\\\\\n",
       "\\hline\n",
       "\t WF & Volume & 1,2,4-Trimethylbenzene     & 1289926 & Wang et al. 2024        & 1 & VOC & DTXSID6021402  & 730\\\\\n",
       "\t WF & Volume & 1,2,4-Trimethylbenzene     & 1306371 & Ketcherside et al. 2024 & 1 & VOC & DTXSID6021402  & 130\\\\\n",
       "\t WF & Volume & 1,3,5-Trimethylbenzene     & 1289926 & Wang et al. 2024        & 1 & VOC & DTXSID6026797  & 330\\\\\n",
       "\t WF & Volume & 1,3,5-Trimethylbenzene     & 1306371 & Ketcherside et al. 2024 & 1 & VOC & DTXSID6026797  & 110\\\\\n",
       "\t WF & Volume & 1,3-Dihydroxynaphthalene   & 1289821 & Liang et al. 2021       & 1 & PAH & DTXSID40456587 & 6  \\\\\n",
       "\t WF & Volume & 1,4-Dichloro-2-butene, cis & 1289926 & Wang et al. 2024        & 1 & VOC & DTXSID3027405  & 230\\\\\n",
       "\\end{tabular}\n"
      ],
      "text/markdown": [
       "\n",
       "A tibble: 6 × 9\n",
       "\n",
       "| Data &lt;chr&gt; | Metric &lt;chr&gt; | Name &lt;chr&gt; | HAWC_ID &lt;dbl&gt; | Study &lt;chr&gt; | Replicate &lt;dbl&gt; | Chemical_Class &lt;chr&gt; | DTXSID &lt;chr&gt; | Value &lt;chr&gt; |\n",
       "|---|---|---|---|---|---|---|---|---|\n",
       "| WF | Volume | 1,2,4-Trimethylbenzene     | 1289926 | Wang et al. 2024        | 1 | VOC | DTXSID6021402  | 730 |\n",
       "| WF | Volume | 1,2,4-Trimethylbenzene     | 1306371 | Ketcherside et al. 2024 | 1 | VOC | DTXSID6021402  | 130 |\n",
       "| WF | Volume | 1,3,5-Trimethylbenzene     | 1289926 | Wang et al. 2024        | 1 | VOC | DTXSID6026797  | 330 |\n",
       "| WF | Volume | 1,3,5-Trimethylbenzene     | 1306371 | Ketcherside et al. 2024 | 1 | VOC | DTXSID6026797  | 110 |\n",
       "| WF | Volume | 1,3-Dihydroxynaphthalene   | 1289821 | Liang et al. 2021       | 1 | PAH | DTXSID40456587 | 6   |\n",
       "| WF | Volume | 1,4-Dichloro-2-butene, cis | 1289926 | Wang et al. 2024        | 1 | VOC | DTXSID3027405  | 230 |\n",
       "\n"
      ],
      "text/plain": [
       "  Data Metric Name                       HAWC_ID Study                  \n",
       "1 WF   Volume 1,2,4-Trimethylbenzene     1289926 Wang et al. 2024       \n",
       "2 WF   Volume 1,2,4-Trimethylbenzene     1306371 Ketcherside et al. 2024\n",
       "3 WF   Volume 1,3,5-Trimethylbenzene     1289926 Wang et al. 2024       \n",
       "4 WF   Volume 1,3,5-Trimethylbenzene     1306371 Ketcherside et al. 2024\n",
       "5 WF   Volume 1,3-Dihydroxynaphthalene   1289821 Liang et al. 2021      \n",
       "6 WF   Volume 1,4-Dichloro-2-butene, cis 1289926 Wang et al. 2024       \n",
       "  Replicate Chemical_Class DTXSID         Value\n",
       "1 1         VOC            DTXSID6021402  730  \n",
       "2 1         VOC            DTXSID6021402  130  \n",
       "3 1         VOC            DTXSID6026797  330  \n",
       "4 1         VOC            DTXSID6026797  110  \n",
       "5 1         PAH            DTXSID40456587 6    \n",
       "6 1         VOC            DTXSID3027405  230  "
      ]
     },
     "metadata": {},
     "output_type": "display_data"
    }
   ],
   "source": [
    "# filtering the original df\n",
    "filter1_df = inner_join(sample_type_keep_df[,1:3], combined_df)\n",
    "head(filter1_df)"
   ]
  },
  {
   "cell_type": "code",
   "execution_count": 11,
   "id": "326df55e-15f1-4704-969d-2e19d7cf54fd",
   "metadata": {},
   "outputs": [
    {
     "data": {
      "text/html": [
       "<style>\n",
       ".list-inline {list-style: none; margin:0; padding: 0}\n",
       ".list-inline>li {display: inline-block}\n",
       ".list-inline>li:not(:last-child)::after {content: \"\\00b7\"; padding: 0 .5ex}\n",
       "</style>\n",
       "<ol class=list-inline><li>6581</li><li>9</li></ol>\n"
      ],
      "text/latex": [
       "\\begin{enumerate*}\n",
       "\\item 6581\n",
       "\\item 9\n",
       "\\end{enumerate*}\n"
      ],
      "text/markdown": [
       "1. 6581\n",
       "2. 9\n",
       "\n",
       "\n"
      ],
      "text/plain": [
       "[1] 6581    9"
      ]
     },
     "metadata": {},
     "output_type": "display_data"
    },
    {
     "data": {
      "text/html": [
       "<style>\n",
       ".list-inline {list-style: none; margin:0; padding: 0}\n",
       ".list-inline>li {display: inline-block}\n",
       ".list-inline>li:not(:last-child)::after {content: \"\\00b7\"; padding: 0 .5ex}\n",
       "</style>\n",
       "<ol class=list-inline><li>5218</li><li>9</li></ol>\n"
      ],
      "text/latex": [
       "\\begin{enumerate*}\n",
       "\\item 5218\n",
       "\\item 9\n",
       "\\end{enumerate*}\n"
      ],
      "text/markdown": [
       "1. 5218\n",
       "2. 9\n",
       "\n",
       "\n"
      ],
      "text/plain": [
       "[1] 5218    9"
      ]
     },
     "metadata": {},
     "output_type": "display_data"
    }
   ],
   "source": [
    "dim(combined_df)\n",
    "dim(filter1_df)"
   ]
  },
  {
   "cell_type": "markdown",
   "id": "5f340a20-8ef3-419d-92a5-9140887821d7",
   "metadata": {},
   "source": [
    "Started with 6581 records, 1363 were removed, leaving 5218. \n",
    "\n",
    "Now that each sample type (WS of WF) has at least one experimental value, we'll see if there are at least 50% of data between the sample types."
   ]
  },
  {
   "cell_type": "code",
   "execution_count": 12,
   "id": "d7cb46a6-4543-4dfa-949a-58c261307882",
   "metadata": {},
   "outputs": [
    {
     "data": {
      "text/html": [
       "<table class=\"dataframe\">\n",
       "<caption>A tibble: 6 × 3</caption>\n",
       "<thead>\n",
       "\t<tr><th scope=col>Metric</th><th scope=col>Name</th><th scope=col>Variable_Presence_Percentage</th></tr>\n",
       "\t<tr><th scope=col>&lt;chr&gt;</th><th scope=col>&lt;chr&gt;</th><th scope=col>&lt;dbl&gt;</th></tr>\n",
       "</thead>\n",
       "<tbody>\n",
       "\t<tr><td>Volume</td><td>1,2,4-Trimethylbenzene    </td><td>100</td></tr>\n",
       "\t<tr><td>Volume</td><td>1,3,5-Trimethylbenzene    </td><td>100</td></tr>\n",
       "\t<tr><td>Volume</td><td>1,3-Dihydroxynaphthalene  </td><td>100</td></tr>\n",
       "\t<tr><td>Volume</td><td>1,4-Dichloro-2-butene, cis</td><td>100</td></tr>\n",
       "\t<tr><td>Volume</td><td>1,4-Dichlorobenzene       </td><td>100</td></tr>\n",
       "\t<tr><td>Volume</td><td>1,8-Dihydroxynaphthalene  </td><td>100</td></tr>\n",
       "</tbody>\n",
       "</table>\n"
      ],
      "text/latex": [
       "A tibble: 6 × 3\n",
       "\\begin{tabular}{lll}\n",
       " Metric & Name & Variable\\_Presence\\_Percentage\\\\\n",
       " <chr> & <chr> & <dbl>\\\\\n",
       "\\hline\n",
       "\t Volume & 1,2,4-Trimethylbenzene     & 100\\\\\n",
       "\t Volume & 1,3,5-Trimethylbenzene     & 100\\\\\n",
       "\t Volume & 1,3-Dihydroxynaphthalene   & 100\\\\\n",
       "\t Volume & 1,4-Dichloro-2-butene, cis & 100\\\\\n",
       "\t Volume & 1,4-Dichlorobenzene        & 100\\\\\n",
       "\t Volume & 1,8-Dihydroxynaphthalene   & 100\\\\\n",
       "\\end{tabular}\n"
      ],
      "text/markdown": [
       "\n",
       "A tibble: 6 × 3\n",
       "\n",
       "| Metric &lt;chr&gt; | Name &lt;chr&gt; | Variable_Presence_Percentage &lt;dbl&gt; |\n",
       "|---|---|---|\n",
       "| Volume | 1,2,4-Trimethylbenzene     | 100 |\n",
       "| Volume | 1,3,5-Trimethylbenzene     | 100 |\n",
       "| Volume | 1,3-Dihydroxynaphthalene   | 100 |\n",
       "| Volume | 1,4-Dichloro-2-butene, cis | 100 |\n",
       "| Volume | 1,4-Dichlorobenzene        | 100 |\n",
       "| Volume | 1,8-Dihydroxynaphthalene   | 100 |\n",
       "\n"
      ],
      "text/plain": [
       "  Metric Name                       Variable_Presence_Percentage\n",
       "1 Volume 1,2,4-Trimethylbenzene     100                         \n",
       "2 Volume 1,3,5-Trimethylbenzene     100                         \n",
       "3 Volume 1,3-Dihydroxynaphthalene   100                         \n",
       "4 Volume 1,4-Dichloro-2-butene, cis 100                         \n",
       "5 Volume 1,4-Dichlorobenzene        100                         \n",
       "6 Volume 1,8-Dihydroxynaphthalene   100                         "
      ]
     },
     "metadata": {},
     "output_type": "display_data"
    }
   ],
   "source": [
    "variable_presence_df = filter1_df %>%\n",
    "    # if the value isn't MAR count it as being present\n",
    "    mutate(count = ifelse(Value != 'NA', 1, 0)) %>%\n",
    "    group_by(Metric, Name) %>%\n",
    "    # calculating the percentage of variables with data overall\n",
    "    reframe(Variable_Presence_Percentage = (sum(count)/n()) * 100) %>%\n",
    "    arrange(-Variable_Presence_Percentage)\n",
    "\n",
    "# viewing data that passed the filter\n",
    "keep_variables_df = variable_presence_df %>%\n",
    "     filter(Variable_Presence_Percentage >= 50) %>%\n",
    "     unique()\n",
    "\n",
    "head(keep_variables_df)"
   ]
  },
  {
   "cell_type": "code",
   "execution_count": 13,
   "id": "86b71768-8adf-45d6-8d3d-581c3a7d1c80",
   "metadata": {},
   "outputs": [
    {
     "name": "stderr",
     "output_type": "stream",
     "text": [
      "\u001b[1m\u001b[22mJoining with `by = join_by(Metric, Name)`\n"
     ]
    },
    {
     "data": {
      "text/html": [
       "<table class=\"dataframe\">\n",
       "<caption>A tibble: 6 × 9</caption>\n",
       "<thead>\n",
       "\t<tr><th scope=col>Metric</th><th scope=col>Name</th><th scope=col>Data</th><th scope=col>HAWC_ID</th><th scope=col>Study</th><th scope=col>Replicate</th><th scope=col>Chemical_Class</th><th scope=col>DTXSID</th><th scope=col>Value</th></tr>\n",
       "\t<tr><th scope=col>&lt;chr&gt;</th><th scope=col>&lt;chr&gt;</th><th scope=col>&lt;chr&gt;</th><th scope=col>&lt;dbl&gt;</th><th scope=col>&lt;chr&gt;</th><th scope=col>&lt;dbl&gt;</th><th scope=col>&lt;chr&gt;</th><th scope=col>&lt;chr&gt;</th><th scope=col>&lt;chr&gt;</th></tr>\n",
       "</thead>\n",
       "<tbody>\n",
       "\t<tr><td>Volume</td><td>1,2,4-Trimethylbenzene    </td><td>WF</td><td>1289926</td><td>Wang et al. 2024       </td><td>1</td><td>VOC</td><td>DTXSID6021402 </td><td>730</td></tr>\n",
       "\t<tr><td>Volume</td><td>1,2,4-Trimethylbenzene    </td><td>WF</td><td>1306371</td><td>Ketcherside et al. 2024</td><td>1</td><td>VOC</td><td>DTXSID6021402 </td><td>130</td></tr>\n",
       "\t<tr><td>Volume</td><td>1,3,5-Trimethylbenzene    </td><td>WF</td><td>1289926</td><td>Wang et al. 2024       </td><td>1</td><td>VOC</td><td>DTXSID6026797 </td><td>330</td></tr>\n",
       "\t<tr><td>Volume</td><td>1,3,5-Trimethylbenzene    </td><td>WF</td><td>1306371</td><td>Ketcherside et al. 2024</td><td>1</td><td>VOC</td><td>DTXSID6026797 </td><td>110</td></tr>\n",
       "\t<tr><td>Volume</td><td>1,3-Dihydroxynaphthalene  </td><td>WF</td><td>1289821</td><td>Liang et al. 2021      </td><td>1</td><td>PAH</td><td>DTXSID40456587</td><td>6  </td></tr>\n",
       "\t<tr><td>Volume</td><td>1,4-Dichloro-2-butene, cis</td><td>WF</td><td>1289926</td><td>Wang et al. 2024       </td><td>1</td><td>VOC</td><td>DTXSID3027405 </td><td>230</td></tr>\n",
       "</tbody>\n",
       "</table>\n"
      ],
      "text/latex": [
       "A tibble: 6 × 9\n",
       "\\begin{tabular}{lllllllll}\n",
       " Metric & Name & Data & HAWC\\_ID & Study & Replicate & Chemical\\_Class & DTXSID & Value\\\\\n",
       " <chr> & <chr> & <chr> & <dbl> & <chr> & <dbl> & <chr> & <chr> & <chr>\\\\\n",
       "\\hline\n",
       "\t Volume & 1,2,4-Trimethylbenzene     & WF & 1289926 & Wang et al. 2024        & 1 & VOC & DTXSID6021402  & 730\\\\\n",
       "\t Volume & 1,2,4-Trimethylbenzene     & WF & 1306371 & Ketcherside et al. 2024 & 1 & VOC & DTXSID6021402  & 130\\\\\n",
       "\t Volume & 1,3,5-Trimethylbenzene     & WF & 1289926 & Wang et al. 2024        & 1 & VOC & DTXSID6026797  & 330\\\\\n",
       "\t Volume & 1,3,5-Trimethylbenzene     & WF & 1306371 & Ketcherside et al. 2024 & 1 & VOC & DTXSID6026797  & 110\\\\\n",
       "\t Volume & 1,3-Dihydroxynaphthalene   & WF & 1289821 & Liang et al. 2021       & 1 & PAH & DTXSID40456587 & 6  \\\\\n",
       "\t Volume & 1,4-Dichloro-2-butene, cis & WF & 1289926 & Wang et al. 2024        & 1 & VOC & DTXSID3027405  & 230\\\\\n",
       "\\end{tabular}\n"
      ],
      "text/markdown": [
       "\n",
       "A tibble: 6 × 9\n",
       "\n",
       "| Metric &lt;chr&gt; | Name &lt;chr&gt; | Data &lt;chr&gt; | HAWC_ID &lt;dbl&gt; | Study &lt;chr&gt; | Replicate &lt;dbl&gt; | Chemical_Class &lt;chr&gt; | DTXSID &lt;chr&gt; | Value &lt;chr&gt; |\n",
       "|---|---|---|---|---|---|---|---|---|\n",
       "| Volume | 1,2,4-Trimethylbenzene     | WF | 1289926 | Wang et al. 2024        | 1 | VOC | DTXSID6021402  | 730 |\n",
       "| Volume | 1,2,4-Trimethylbenzene     | WF | 1306371 | Ketcherside et al. 2024 | 1 | VOC | DTXSID6021402  | 130 |\n",
       "| Volume | 1,3,5-Trimethylbenzene     | WF | 1289926 | Wang et al. 2024        | 1 | VOC | DTXSID6026797  | 330 |\n",
       "| Volume | 1,3,5-Trimethylbenzene     | WF | 1306371 | Ketcherside et al. 2024 | 1 | VOC | DTXSID6026797  | 110 |\n",
       "| Volume | 1,3-Dihydroxynaphthalene   | WF | 1289821 | Liang et al. 2021       | 1 | PAH | DTXSID40456587 | 6   |\n",
       "| Volume | 1,4-Dichloro-2-butene, cis | WF | 1289926 | Wang et al. 2024        | 1 | VOC | DTXSID3027405  | 230 |\n",
       "\n"
      ],
      "text/plain": [
       "  Metric Name                       Data HAWC_ID Study                  \n",
       "1 Volume 1,2,4-Trimethylbenzene     WF   1289926 Wang et al. 2024       \n",
       "2 Volume 1,2,4-Trimethylbenzene     WF   1306371 Ketcherside et al. 2024\n",
       "3 Volume 1,3,5-Trimethylbenzene     WF   1289926 Wang et al. 2024       \n",
       "4 Volume 1,3,5-Trimethylbenzene     WF   1306371 Ketcherside et al. 2024\n",
       "5 Volume 1,3-Dihydroxynaphthalene   WF   1289821 Liang et al. 2021      \n",
       "6 Volume 1,4-Dichloro-2-butene, cis WF   1289926 Wang et al. 2024       \n",
       "  Replicate Chemical_Class DTXSID         Value\n",
       "1 1         VOC            DTXSID6021402  730  \n",
       "2 1         VOC            DTXSID6021402  130  \n",
       "3 1         VOC            DTXSID6026797  330  \n",
       "4 1         VOC            DTXSID6026797  110  \n",
       "5 1         PAH            DTXSID40456587 6    \n",
       "6 1         VOC            DTXSID3027405  230  "
      ]
     },
     "metadata": {},
     "output_type": "display_data"
    }
   ],
   "source": [
    "# only keeping records that passed the background filter\n",
    "filter2_df = inner_join(keep_variables_df[,1:2], filter1_df) %>%\n",
    "    # metals don't have a DTXSID, so making that col their name\n",
    "    mutate(DTXSID = ifelse(DTXSID != 'NA', DTXSID, Name)) \n",
    "    \n",
    "\n",
    "head(filter2_df)"
   ]
  },
  {
   "cell_type": "code",
   "execution_count": 14,
   "id": "606a93db-e66a-4d74-9b15-7b6f6d34b28c",
   "metadata": {},
   "outputs": [
    {
     "data": {
      "text/html": [
       "<style>\n",
       ".list-inline {list-style: none; margin:0; padding: 0}\n",
       ".list-inline>li {display: inline-block}\n",
       ".list-inline>li:not(:last-child)::after {content: \"\\00b7\"; padding: 0 .5ex}\n",
       "</style>\n",
       "<ol class=list-inline><li>4882</li><li>9</li></ol>\n"
      ],
      "text/latex": [
       "\\begin{enumerate*}\n",
       "\\item 4882\n",
       "\\item 9\n",
       "\\end{enumerate*}\n"
      ],
      "text/markdown": [
       "1. 4882\n",
       "2. 9\n",
       "\n",
       "\n"
      ],
      "text/plain": [
       "[1] 4882    9"
      ]
     },
     "metadata": {},
     "output_type": "display_data"
    }
   ],
   "source": [
    "dim(filter2_df)"
   ]
  },
  {
   "cell_type": "markdown",
   "id": "6fd63281-87c6-4702-9834-4ff5be768edd",
   "metadata": {},
   "source": [
    "An additional 336 records were removed, leaving 4882.\n",
    "\n",
    "# Second Variable Background Filter\n",
    "\n",
    "In the intial filter, samples were combined. However, this time variables (ie. metal or chemical) will be split based on their `Metric` (ie. volume or weight) and then retained if that variable in found in both woodsmoke and wildfire samples within volume or weight samples."
   ]
  },
  {
   "cell_type": "code",
   "execution_count": 15,
   "id": "00ed4b32-8851-48f9-a680-c4277545ea8d",
   "metadata": {},
   "outputs": [],
   "source": [
    "split_filtered_df = filter2_df %>%\n",
    "    group_by(Data, Metric) %>%\n",
    "    group_split\n",
    "\n",
    "split_ws_vol_df = split_filtered_df[[3]]\n",
    "split_ws_weight_df = split_filtered_df[[4]]\n",
    "split_wf_vol_df = split_filtered_df[[1]]\n",
    "split_wf_weight_df = split_filtered_df[[2]]"
   ]
  },
  {
   "cell_type": "code",
   "execution_count": 16,
   "id": "c52b40df-d2c5-4604-8fa8-a5f31ad46df7",
   "metadata": {},
   "outputs": [
    {
     "data": {
      "text/html": [
       "95"
      ],
      "text/latex": [
       "95"
      ],
      "text/markdown": [
       "95"
      ],
      "text/plain": [
       "[1] 95"
      ]
     },
     "metadata": {},
     "output_type": "display_data"
    },
    {
     "data": {
      "text/html": [
       "67"
      ],
      "text/latex": [
       "67"
      ],
      "text/markdown": [
       "67"
      ],
      "text/plain": [
       "[1] 67"
      ]
     },
     "metadata": {},
     "output_type": "display_data"
    },
    {
     "data": {
      "text/html": [
       "85"
      ],
      "text/latex": [
       "85"
      ],
      "text/markdown": [
       "85"
      ],
      "text/plain": [
       "[1] 85"
      ]
     },
     "metadata": {},
     "output_type": "display_data"
    },
    {
     "data": {
      "text/html": [
       "68"
      ],
      "text/latex": [
       "68"
      ],
      "text/markdown": [
       "68"
      ],
      "text/plain": [
       "[1] 68"
      ]
     },
     "metadata": {},
     "output_type": "display_data"
    }
   ],
   "source": [
    "# seeing how many unique variables are in each df and if they're consistent in each file\n",
    "length(unique(split_ws_vol_df$Name))\n",
    "length(unique(split_wf_vol_df$Name))\n",
    "length(unique(split_ws_weight_df$Name))\n",
    "length(unique(split_wf_weight_df$Name))"
   ]
  },
  {
   "cell_type": "code",
   "execution_count": 17,
   "id": "97f266f6-d8ee-44ce-a9ab-cc96acfcbf2f",
   "metadata": {},
   "outputs": [
    {
     "data": {
      "text/html": [
       "32"
      ],
      "text/latex": [
       "32"
      ],
      "text/markdown": [
       "32"
      ],
      "text/plain": [
       "[1] 32"
      ]
     },
     "metadata": {},
     "output_type": "display_data"
    },
    {
     "data": {
      "text/html": [
       "32"
      ],
      "text/latex": [
       "32"
      ],
      "text/markdown": [
       "32"
      ],
      "text/plain": [
       "[1] 32"
      ]
     },
     "metadata": {},
     "output_type": "display_data"
    },
    {
     "data": {
      "text/html": [
       "35"
      ],
      "text/latex": [
       "35"
      ],
      "text/markdown": [
       "35"
      ],
      "text/plain": [
       "[1] 35"
      ]
     },
     "metadata": {},
     "output_type": "display_data"
    },
    {
     "data": {
      "text/html": [
       "35"
      ],
      "text/latex": [
       "35"
      ],
      "text/markdown": [
       "35"
      ],
      "text/plain": [
       "[1] 35"
      ]
     },
     "metadata": {},
     "output_type": "display_data"
    }
   ],
   "source": [
    "# they're not so first getting variables that are in weight or volume samples\n",
    "consistent_wf_vol_df = split_wf_vol_df %>%\n",
    "    filter(Name %in% unique(split_ws_vol_df$Name))\n",
    "consistent_ws_vol_df = split_ws_vol_df %>%\n",
    "    filter(Name %in% consistent_wf_vol_df$Name)\n",
    "consistent_wf_weight_df = split_wf_weight_df %>%\n",
    "    filter(Name %in% unique(split_ws_weight_df$Name))\n",
    "consistent_ws_weight_df = split_ws_weight_df %>%\n",
    "    filter(Name %in% consistent_wf_weight_df$Name)\n",
    "\n",
    "length(unique(consistent_wf_vol_df$Name))\n",
    "length(unique(consistent_ws_vol_df$Name))\n",
    "length(unique(consistent_wf_weight_df$Name))\n",
    "length(unique(consistent_ws_weight_df$Name))"
   ]
  },
  {
   "cell_type": "markdown",
   "id": "4b604def-71e1-482c-ab06-ed64e9e7d830",
   "metadata": {},
   "source": [
    "There were 95, 67, 85 and 68 woodsmoke weight, woodsmoke volume, wildfire weight, and wildfire volume samples, respectively. 32 variables were common between volume samples and 35 were common between weight records and will be retained."
   ]
  },
  {
   "cell_type": "code",
   "execution_count": 18,
   "id": "0d22def2-eb27-4093-8bbe-8a7c8082b9ce",
   "metadata": {},
   "outputs": [
    {
     "data": {
      "text/html": [
       "<table class=\"dataframe\">\n",
       "<caption>A tibble: 6 × 9</caption>\n",
       "<thead>\n",
       "\t<tr><th scope=col>Metric</th><th scope=col>Name</th><th scope=col>Data</th><th scope=col>HAWC_ID</th><th scope=col>Study</th><th scope=col>Replicate</th><th scope=col>Chemical_Class</th><th scope=col>DTXSID</th><th scope=col>Value</th></tr>\n",
       "\t<tr><th scope=col>&lt;chr&gt;</th><th scope=col>&lt;chr&gt;</th><th scope=col>&lt;chr&gt;</th><th scope=col>&lt;dbl&gt;</th><th scope=col>&lt;chr&gt;</th><th scope=col>&lt;dbl&gt;</th><th scope=col>&lt;chr&gt;</th><th scope=col>&lt;chr&gt;</th><th scope=col>&lt;chr&gt;</th></tr>\n",
       "</thead>\n",
       "<tbody>\n",
       "\t<tr><td>Volume</td><td>Acenaphthylene</td><td>WS</td><td>1263480</td><td>Burnet et al. 1990</td><td>1</td><td>PAH</td><td>DTXSID3023845</td><td>6187000 </td></tr>\n",
       "\t<tr><td>Volume</td><td>Acenaphthylene</td><td>WS</td><td>1263480</td><td>Burnet et al. 1990</td><td>2</td><td>PAH</td><td>DTXSID3023845</td><td>18890500</td></tr>\n",
       "\t<tr><td>Volume</td><td>Acenaphthylene</td><td>WS</td><td>1263480</td><td>Burnet et al. 1990</td><td>3</td><td>PAH</td><td>DTXSID3023845</td><td>7806000 </td></tr>\n",
       "\t<tr><td>Volume</td><td>Acenaphthylene</td><td>WS</td><td>1263484</td><td>Leese et al. 1989 </td><td>1</td><td>PAH</td><td>DTXSID3023845</td><td>1100000 </td></tr>\n",
       "\t<tr><td>Volume</td><td>Acenaphthylene</td><td>WS</td><td>1263484</td><td>Leese et al. 1989 </td><td>2</td><td>PAH</td><td>DTXSID3023845</td><td>2800000 </td></tr>\n",
       "\t<tr><td>Volume</td><td>Acenaphthylene</td><td>WS</td><td> 429445</td><td>Rajput 2010       </td><td>1</td><td>PAH</td><td>DTXSID3023845</td><td>53500   </td></tr>\n",
       "</tbody>\n",
       "</table>\n"
      ],
      "text/latex": [
       "A tibble: 6 × 9\n",
       "\\begin{tabular}{lllllllll}\n",
       " Metric & Name & Data & HAWC\\_ID & Study & Replicate & Chemical\\_Class & DTXSID & Value\\\\\n",
       " <chr> & <chr> & <chr> & <dbl> & <chr> & <dbl> & <chr> & <chr> & <chr>\\\\\n",
       "\\hline\n",
       "\t Volume & Acenaphthylene & WS & 1263480 & Burnet et al. 1990 & 1 & PAH & DTXSID3023845 & 6187000 \\\\\n",
       "\t Volume & Acenaphthylene & WS & 1263480 & Burnet et al. 1990 & 2 & PAH & DTXSID3023845 & 18890500\\\\\n",
       "\t Volume & Acenaphthylene & WS & 1263480 & Burnet et al. 1990 & 3 & PAH & DTXSID3023845 & 7806000 \\\\\n",
       "\t Volume & Acenaphthylene & WS & 1263484 & Leese et al. 1989  & 1 & PAH & DTXSID3023845 & 1100000 \\\\\n",
       "\t Volume & Acenaphthylene & WS & 1263484 & Leese et al. 1989  & 2 & PAH & DTXSID3023845 & 2800000 \\\\\n",
       "\t Volume & Acenaphthylene & WS &  429445 & Rajput 2010        & 1 & PAH & DTXSID3023845 & 53500   \\\\\n",
       "\\end{tabular}\n"
      ],
      "text/markdown": [
       "\n",
       "A tibble: 6 × 9\n",
       "\n",
       "| Metric &lt;chr&gt; | Name &lt;chr&gt; | Data &lt;chr&gt; | HAWC_ID &lt;dbl&gt; | Study &lt;chr&gt; | Replicate &lt;dbl&gt; | Chemical_Class &lt;chr&gt; | DTXSID &lt;chr&gt; | Value &lt;chr&gt; |\n",
       "|---|---|---|---|---|---|---|---|---|\n",
       "| Volume | Acenaphthylene | WS | 1263480 | Burnet et al. 1990 | 1 | PAH | DTXSID3023845 | 6187000  |\n",
       "| Volume | Acenaphthylene | WS | 1263480 | Burnet et al. 1990 | 2 | PAH | DTXSID3023845 | 18890500 |\n",
       "| Volume | Acenaphthylene | WS | 1263480 | Burnet et al. 1990 | 3 | PAH | DTXSID3023845 | 7806000  |\n",
       "| Volume | Acenaphthylene | WS | 1263484 | Leese et al. 1989  | 1 | PAH | DTXSID3023845 | 1100000  |\n",
       "| Volume | Acenaphthylene | WS | 1263484 | Leese et al. 1989  | 2 | PAH | DTXSID3023845 | 2800000  |\n",
       "| Volume | Acenaphthylene | WS |  429445 | Rajput 2010        | 1 | PAH | DTXSID3023845 | 53500    |\n",
       "\n"
      ],
      "text/plain": [
       "  Metric Name           Data HAWC_ID Study              Replicate\n",
       "1 Volume Acenaphthylene WS   1263480 Burnet et al. 1990 1        \n",
       "2 Volume Acenaphthylene WS   1263480 Burnet et al. 1990 2        \n",
       "3 Volume Acenaphthylene WS   1263480 Burnet et al. 1990 3        \n",
       "4 Volume Acenaphthylene WS   1263484 Leese et al. 1989  1        \n",
       "5 Volume Acenaphthylene WS   1263484 Leese et al. 1989  2        \n",
       "6 Volume Acenaphthylene WS    429445 Rajput 2010        1        \n",
       "  Chemical_Class DTXSID        Value   \n",
       "1 PAH            DTXSID3023845 6187000 \n",
       "2 PAH            DTXSID3023845 18890500\n",
       "3 PAH            DTXSID3023845 7806000 \n",
       "4 PAH            DTXSID3023845 1100000 \n",
       "5 PAH            DTXSID3023845 2800000 \n",
       "6 PAH            DTXSID3023845 53500   "
      ]
     },
     "metadata": {},
     "output_type": "display_data"
    }
   ],
   "source": [
    "# recombining data\n",
    "vol_df = rbind(consistent_ws_vol_df, consistent_wf_vol_df)\n",
    "weight_df = rbind(consistent_ws_weight_df, consistent_wf_weight_df)\n",
    "\n",
    "head(vol_df)"
   ]
  },
  {
   "cell_type": "markdown",
   "id": "12249f65-761e-4dbc-8231-8c455e6d3120",
   "metadata": {},
   "source": [
    "# QRILC Imputation\n",
    "\n",
    "Imputing non-detect data."
   ]
  },
  {
   "cell_type": "code",
   "execution_count": 19,
   "id": "f2daf4ed-f7ff-41f7-8e9a-e38067235cd5",
   "metadata": {},
   "outputs": [
    {
     "data": {
      "text/html": [
       "<table class=\"dataframe\">\n",
       "<caption>A tibble: 6 × 9</caption>\n",
       "<thead>\n",
       "\t<tr><th scope=col>Metric</th><th scope=col>Name</th><th scope=col>Data</th><th scope=col>HAWC_ID</th><th scope=col>Study</th><th scope=col>Replicate</th><th scope=col>Chemical_Class</th><th scope=col>DTXSID</th><th scope=col>Value</th></tr>\n",
       "\t<tr><th scope=col>&lt;chr&gt;</th><th scope=col>&lt;chr&gt;</th><th scope=col>&lt;chr&gt;</th><th scope=col>&lt;dbl&gt;</th><th scope=col>&lt;chr&gt;</th><th scope=col>&lt;dbl&gt;</th><th scope=col>&lt;chr&gt;</th><th scope=col>&lt;chr&gt;</th><th scope=col>&lt;chr&gt;</th></tr>\n",
       "</thead>\n",
       "<tbody>\n",
       "\t<tr><td>Weight</td><td>Fluoranthene</td><td>WS</td><td>1098462</td><td>Niu et al. 2023      </td><td>3</td><td>PAH  </td><td>DTXSID3024104</td><td>ND</td></tr>\n",
       "\t<tr><td>Weight</td><td>Phenanthrene</td><td>WS</td><td>1098462</td><td>Niu et al. 2023      </td><td>3</td><td>PAH  </td><td>DTXSID6024254</td><td>ND</td></tr>\n",
       "\t<tr><td>Weight</td><td>Phenanthrene</td><td>WS</td><td> 914540</td><td>Verma et al. 2021    </td><td>7</td><td>PAH  </td><td>DTXSID6024254</td><td>ND</td></tr>\n",
       "\t<tr><td>Weight</td><td>Phenanthrene</td><td>WS</td><td> 914540</td><td>Verma et al. 2021    </td><td>8</td><td>PAH  </td><td>DTXSID6024254</td><td>ND</td></tr>\n",
       "\t<tr><td>Weight</td><td>Ni          </td><td>WS</td><td> 822010</td><td>Farina et al. 2019   </td><td>1</td><td>Metal</td><td>Ni           </td><td>ND</td></tr>\n",
       "\t<tr><td>Weight</td><td>Ni          </td><td>WS</td><td> 299223</td><td>Kasurinen et al. 2015</td><td>2</td><td>Metal</td><td>Ni           </td><td>ND</td></tr>\n",
       "</tbody>\n",
       "</table>\n"
      ],
      "text/latex": [
       "A tibble: 6 × 9\n",
       "\\begin{tabular}{lllllllll}\n",
       " Metric & Name & Data & HAWC\\_ID & Study & Replicate & Chemical\\_Class & DTXSID & Value\\\\\n",
       " <chr> & <chr> & <chr> & <dbl> & <chr> & <dbl> & <chr> & <chr> & <chr>\\\\\n",
       "\\hline\n",
       "\t Weight & Fluoranthene & WS & 1098462 & Niu et al. 2023       & 3 & PAH   & DTXSID3024104 & ND\\\\\n",
       "\t Weight & Phenanthrene & WS & 1098462 & Niu et al. 2023       & 3 & PAH   & DTXSID6024254 & ND\\\\\n",
       "\t Weight & Phenanthrene & WS &  914540 & Verma et al. 2021     & 7 & PAH   & DTXSID6024254 & ND\\\\\n",
       "\t Weight & Phenanthrene & WS &  914540 & Verma et al. 2021     & 8 & PAH   & DTXSID6024254 & ND\\\\\n",
       "\t Weight & Ni           & WS &  822010 & Farina et al. 2019    & 1 & Metal & Ni            & ND\\\\\n",
       "\t Weight & Ni           & WS &  299223 & Kasurinen et al. 2015 & 2 & Metal & Ni            & ND\\\\\n",
       "\\end{tabular}\n"
      ],
      "text/markdown": [
       "\n",
       "A tibble: 6 × 9\n",
       "\n",
       "| Metric &lt;chr&gt; | Name &lt;chr&gt; | Data &lt;chr&gt; | HAWC_ID &lt;dbl&gt; | Study &lt;chr&gt; | Replicate &lt;dbl&gt; | Chemical_Class &lt;chr&gt; | DTXSID &lt;chr&gt; | Value &lt;chr&gt; |\n",
       "|---|---|---|---|---|---|---|---|---|\n",
       "| Weight | Fluoranthene | WS | 1098462 | Niu et al. 2023       | 3 | PAH   | DTXSID3024104 | ND |\n",
       "| Weight | Phenanthrene | WS | 1098462 | Niu et al. 2023       | 3 | PAH   | DTXSID6024254 | ND |\n",
       "| Weight | Phenanthrene | WS |  914540 | Verma et al. 2021     | 7 | PAH   | DTXSID6024254 | ND |\n",
       "| Weight | Phenanthrene | WS |  914540 | Verma et al. 2021     | 8 | PAH   | DTXSID6024254 | ND |\n",
       "| Weight | Ni           | WS |  822010 | Farina et al. 2019    | 1 | Metal | Ni            | ND |\n",
       "| Weight | Ni           | WS |  299223 | Kasurinen et al. 2015 | 2 | Metal | Ni            | ND |\n",
       "\n"
      ],
      "text/plain": [
       "  Metric Name         Data HAWC_ID Study                 Replicate\n",
       "1 Weight Fluoranthene WS   1098462 Niu et al. 2023       3        \n",
       "2 Weight Phenanthrene WS   1098462 Niu et al. 2023       3        \n",
       "3 Weight Phenanthrene WS    914540 Verma et al. 2021     7        \n",
       "4 Weight Phenanthrene WS    914540 Verma et al. 2021     8        \n",
       "5 Weight Ni           WS    822010 Farina et al. 2019    1        \n",
       "6 Weight Ni           WS    299223 Kasurinen et al. 2015 2        \n",
       "  Chemical_Class DTXSID        Value\n",
       "1 PAH            DTXSID3024104 ND   \n",
       "2 PAH            DTXSID6024254 ND   \n",
       "3 PAH            DTXSID6024254 ND   \n",
       "4 PAH            DTXSID6024254 ND   \n",
       "5 Metal          Ni            ND   \n",
       "6 Metal          Ni            ND   "
      ]
     },
     "metadata": {},
     "output_type": "display_data"
    }
   ],
   "source": [
    "head(weight_df %>%\n",
    "    filter(Value == 'ND'))"
   ]
  },
  {
   "cell_type": "markdown",
   "id": "c5c1d673-71d7-4cde-ba1f-3c8b41e73673",
   "metadata": {},
   "source": [
    "Only the weight dataframe has non-detect values, which will be imputed using QRILC. However, its MAR data that will be imputed using random forest (RF) will be removed entirely from the dataset."
   ]
  },
  {
   "cell_type": "code",
   "execution_count": 20,
   "id": "d435523e-a9be-47de-a079-3bd74d8f1b27",
   "metadata": {},
   "outputs": [
    {
     "name": "stderr",
     "output_type": "stream",
     "text": [
      "\u001b[1m\u001b[22mJoining with `by = join_by(Metric, Name, Data, HAWC_ID, Study, Replicate,\n",
      "Chemical_Class, DTXSID, Value)`\n",
      "Warning message:\n",
      "“NAs introduced by coercion”\n"
     ]
    },
    {
     "data": {
      "text/html": [
       "<table class=\"dataframe\">\n",
       "<caption>A tibble: 6 × 9</caption>\n",
       "<thead>\n",
       "\t<tr><th scope=col>Data</th><th scope=col>Metric</th><th scope=col>HAWC_ID</th><th scope=col>Study</th><th scope=col>Replicate</th><th scope=col>Chemical_Class</th><th scope=col>DTXSID</th><th scope=col>Name</th><th scope=col>Value</th></tr>\n",
       "\t<tr><th scope=col>&lt;chr&gt;</th><th scope=col>&lt;chr&gt;</th><th scope=col>&lt;dbl&gt;</th><th scope=col>&lt;chr&gt;</th><th scope=col>&lt;dbl&gt;</th><th scope=col>&lt;chr&gt;</th><th scope=col>&lt;chr&gt;</th><th scope=col>&lt;chr&gt;</th><th scope=col>&lt;dbl&gt;</th></tr>\n",
       "</thead>\n",
       "<tbody>\n",
       "\t<tr><td>WS</td><td>Weight</td><td> 821855</td><td>Erlandsson et al. 2020</td><td>1</td><td>PAH</td><td>DTXSID2060383</td><td>2,3-Dimethylnaphthalene</td><td> 0.05</td></tr>\n",
       "\t<tr><td>WS</td><td>Weight</td><td> 821855</td><td>Erlandsson et al. 2020</td><td>2</td><td>PAH</td><td>DTXSID2060383</td><td>2,3-Dimethylnaphthalene</td><td> 0.05</td></tr>\n",
       "\t<tr><td>WS</td><td>Weight</td><td>1257056</td><td>McCarrick et al. 2024 </td><td>1</td><td>PAH</td><td>DTXSID2060383</td><td>2,3-Dimethylnaphthalene</td><td> 0.04</td></tr>\n",
       "\t<tr><td>WS</td><td>Weight</td><td> 821855</td><td>Erlandsson et al. 2020</td><td>1</td><td>PAH</td><td>DTXSID8074819</td><td>2-Methylchrysene       </td><td> 7.40</td></tr>\n",
       "\t<tr><td>WS</td><td>Weight</td><td> 821855</td><td>Erlandsson et al. 2020</td><td>2</td><td>PAH</td><td>DTXSID8074819</td><td>2-Methylchrysene       </td><td>12.10</td></tr>\n",
       "\t<tr><td>WS</td><td>Weight</td><td>1257056</td><td>McCarrick et al. 2024 </td><td>1</td><td>PAH</td><td>DTXSID8074819</td><td>2-Methylchrysene       </td><td>15.45</td></tr>\n",
       "</tbody>\n",
       "</table>\n"
      ],
      "text/latex": [
       "A tibble: 6 × 9\n",
       "\\begin{tabular}{lllllllll}\n",
       " Data & Metric & HAWC\\_ID & Study & Replicate & Chemical\\_Class & DTXSID & Name & Value\\\\\n",
       " <chr> & <chr> & <dbl> & <chr> & <dbl> & <chr> & <chr> & <chr> & <dbl>\\\\\n",
       "\\hline\n",
       "\t WS & Weight &  821855 & Erlandsson et al. 2020 & 1 & PAH & DTXSID2060383 & 2,3-Dimethylnaphthalene &  0.05\\\\\n",
       "\t WS & Weight &  821855 & Erlandsson et al. 2020 & 2 & PAH & DTXSID2060383 & 2,3-Dimethylnaphthalene &  0.05\\\\\n",
       "\t WS & Weight & 1257056 & McCarrick et al. 2024  & 1 & PAH & DTXSID2060383 & 2,3-Dimethylnaphthalene &  0.04\\\\\n",
       "\t WS & Weight &  821855 & Erlandsson et al. 2020 & 1 & PAH & DTXSID8074819 & 2-Methylchrysene        &  7.40\\\\\n",
       "\t WS & Weight &  821855 & Erlandsson et al. 2020 & 2 & PAH & DTXSID8074819 & 2-Methylchrysene        & 12.10\\\\\n",
       "\t WS & Weight & 1257056 & McCarrick et al. 2024  & 1 & PAH & DTXSID8074819 & 2-Methylchrysene        & 15.45\\\\\n",
       "\\end{tabular}\n"
      ],
      "text/markdown": [
       "\n",
       "A tibble: 6 × 9\n",
       "\n",
       "| Data &lt;chr&gt; | Metric &lt;chr&gt; | HAWC_ID &lt;dbl&gt; | Study &lt;chr&gt; | Replicate &lt;dbl&gt; | Chemical_Class &lt;chr&gt; | DTXSID &lt;chr&gt; | Name &lt;chr&gt; | Value &lt;dbl&gt; |\n",
       "|---|---|---|---|---|---|---|---|---|\n",
       "| WS | Weight |  821855 | Erlandsson et al. 2020 | 1 | PAH | DTXSID2060383 | 2,3-Dimethylnaphthalene |  0.05 |\n",
       "| WS | Weight |  821855 | Erlandsson et al. 2020 | 2 | PAH | DTXSID2060383 | 2,3-Dimethylnaphthalene |  0.05 |\n",
       "| WS | Weight | 1257056 | McCarrick et al. 2024  | 1 | PAH | DTXSID2060383 | 2,3-Dimethylnaphthalene |  0.04 |\n",
       "| WS | Weight |  821855 | Erlandsson et al. 2020 | 1 | PAH | DTXSID8074819 | 2-Methylchrysene        |  7.40 |\n",
       "| WS | Weight |  821855 | Erlandsson et al. 2020 | 2 | PAH | DTXSID8074819 | 2-Methylchrysene        | 12.10 |\n",
       "| WS | Weight | 1257056 | McCarrick et al. 2024  | 1 | PAH | DTXSID8074819 | 2-Methylchrysene        | 15.45 |\n",
       "\n"
      ],
      "text/plain": [
       "  Data Metric HAWC_ID Study                  Replicate Chemical_Class\n",
       "1 WS   Weight  821855 Erlandsson et al. 2020 1         PAH           \n",
       "2 WS   Weight  821855 Erlandsson et al. 2020 2         PAH           \n",
       "3 WS   Weight 1257056 McCarrick et al. 2024  1         PAH           \n",
       "4 WS   Weight  821855 Erlandsson et al. 2020 1         PAH           \n",
       "5 WS   Weight  821855 Erlandsson et al. 2020 2         PAH           \n",
       "6 WS   Weight 1257056 McCarrick et al. 2024  1         PAH           \n",
       "  DTXSID        Name                    Value\n",
       "1 DTXSID2060383 2,3-Dimethylnaphthalene  0.05\n",
       "2 DTXSID2060383 2,3-Dimethylnaphthalene  0.05\n",
       "3 DTXSID2060383 2,3-Dimethylnaphthalene  0.04\n",
       "4 DTXSID8074819 2-Methylchrysene         7.40\n",
       "5 DTXSID8074819 2-Methylchrysene        12.10\n",
       "6 DTXSID8074819 2-Methylchrysene        15.45"
      ]
     },
     "metadata": {},
     "output_type": "display_data"
    }
   ],
   "source": [
    "mar_weight_df = weight_df %>%\n",
    "    filter(Value == 'NA')\n",
    "\n",
    "preimputed_df = anti_join(weight_df, mar_weight_df) #%>%\n",
    "    # creating a sample id col\n",
    "    #unite(Sample_ID, HAWC_ID, Name, Replicate, sep = '_', remove = FALSE)\n",
    "preimputed_df$Value = as.numeric(preimputed_df$Value)\n",
    "\n",
    "# reordering\n",
    "preimputed_df = preimputed_df[,c(3,1,4:8,2,9)]\n",
    "\n",
    "head(preimputed_df)"
   ]
  },
  {
   "cell_type": "code",
   "execution_count": 47,
   "id": "d4615457-fd8c-4647-9de2-ee46a5c2e870",
   "metadata": {},
   "outputs": [
    {
     "data": {
      "text/html": [
       "<table class=\"dataframe\">\n",
       "<caption>A tibble: 3 × 9</caption>\n",
       "<thead>\n",
       "\t<tr><th scope=col>Data</th><th scope=col>Metric</th><th scope=col>HAWC_ID</th><th scope=col>Study</th><th scope=col>Replicate</th><th scope=col>Chemical_Class</th><th scope=col>DTXSID</th><th scope=col>Name</th><th scope=col>Value</th></tr>\n",
       "\t<tr><th scope=col>&lt;chr&gt;</th><th scope=col>&lt;chr&gt;</th><th scope=col>&lt;dbl&gt;</th><th scope=col>&lt;chr&gt;</th><th scope=col>&lt;dbl&gt;</th><th scope=col>&lt;chr&gt;</th><th scope=col>&lt;chr&gt;</th><th scope=col>&lt;chr&gt;</th><th scope=col>&lt;dbl&gt;</th></tr>\n",
       "</thead>\n",
       "<tbody>\n",
       "\t<tr><td>WS</td><td>Weight</td><td>1098462</td><td>Niu et al. 2023</td><td>1</td><td>PAH</td><td>DTXSID3024104</td><td>Fluoranthene</td><td>0.21</td></tr>\n",
       "\t<tr><td>WS</td><td>Weight</td><td>1098462</td><td>Niu et al. 2023</td><td>2</td><td>PAH</td><td>DTXSID3024104</td><td>Fluoranthene</td><td>0.18</td></tr>\n",
       "\t<tr><td>WS</td><td>Weight</td><td>1098462</td><td>Niu et al. 2023</td><td>3</td><td>PAH</td><td>DTXSID3024104</td><td>Fluoranthene</td><td>  NA</td></tr>\n",
       "</tbody>\n",
       "</table>\n"
      ],
      "text/latex": [
       "A tibble: 3 × 9\n",
       "\\begin{tabular}{lllllllll}\n",
       " Data & Metric & HAWC\\_ID & Study & Replicate & Chemical\\_Class & DTXSID & Name & Value\\\\\n",
       " <chr> & <chr> & <dbl> & <chr> & <dbl> & <chr> & <chr> & <chr> & <dbl>\\\\\n",
       "\\hline\n",
       "\t WS & Weight & 1098462 & Niu et al. 2023 & 1 & PAH & DTXSID3024104 & Fluoranthene & 0.21\\\\\n",
       "\t WS & Weight & 1098462 & Niu et al. 2023 & 2 & PAH & DTXSID3024104 & Fluoranthene & 0.18\\\\\n",
       "\t WS & Weight & 1098462 & Niu et al. 2023 & 3 & PAH & DTXSID3024104 & Fluoranthene &   NA\\\\\n",
       "\\end{tabular}\n"
      ],
      "text/markdown": [
       "\n",
       "A tibble: 3 × 9\n",
       "\n",
       "| Data &lt;chr&gt; | Metric &lt;chr&gt; | HAWC_ID &lt;dbl&gt; | Study &lt;chr&gt; | Replicate &lt;dbl&gt; | Chemical_Class &lt;chr&gt; | DTXSID &lt;chr&gt; | Name &lt;chr&gt; | Value &lt;dbl&gt; |\n",
       "|---|---|---|---|---|---|---|---|---|\n",
       "| WS | Weight | 1098462 | Niu et al. 2023 | 1 | PAH | DTXSID3024104 | Fluoranthene | 0.21 |\n",
       "| WS | Weight | 1098462 | Niu et al. 2023 | 2 | PAH | DTXSID3024104 | Fluoranthene | 0.18 |\n",
       "| WS | Weight | 1098462 | Niu et al. 2023 | 3 | PAH | DTXSID3024104 | Fluoranthene |   NA |\n",
       "\n"
      ],
      "text/plain": [
       "  Data Metric HAWC_ID Study           Replicate Chemical_Class DTXSID       \n",
       "1 WS   Weight 1098462 Niu et al. 2023 1         PAH            DTXSID3024104\n",
       "2 WS   Weight 1098462 Niu et al. 2023 2         PAH            DTXSID3024104\n",
       "3 WS   Weight 1098462 Niu et al. 2023 3         PAH            DTXSID3024104\n",
       "  Name         Value\n",
       "1 Fluoranthene 0.21 \n",
       "2 Fluoranthene 0.18 \n",
       "3 Fluoranthene   NA "
      ]
     },
     "metadata": {},
     "output_type": "display_data"
    },
    {
     "data": {
      "text/html": [
       "<table class=\"dataframe\">\n",
       "<caption>A tibble: 6 × 9</caption>\n",
       "<thead>\n",
       "\t<tr><th scope=col>Data</th><th scope=col>Metric</th><th scope=col>HAWC_ID</th><th scope=col>Study</th><th scope=col>Replicate</th><th scope=col>Chemical_Class</th><th scope=col>DTXSID</th><th scope=col>Name</th><th scope=col>Value</th></tr>\n",
       "\t<tr><th scope=col>&lt;chr&gt;</th><th scope=col>&lt;chr&gt;</th><th scope=col>&lt;dbl&gt;</th><th scope=col>&lt;chr&gt;</th><th scope=col>&lt;dbl&gt;</th><th scope=col>&lt;chr&gt;</th><th scope=col>&lt;chr&gt;</th><th scope=col>&lt;chr&gt;</th><th scope=col>&lt;dbl&gt;</th></tr>\n",
       "</thead>\n",
       "<tbody>\n",
       "\t<tr><td>WS</td><td>Weight</td><td>267105</td><td>Danielsen et al. 2011</td><td>1</td><td>PAH  </td><td>DTXSID4020878</td><td>2-Methylphenanthrene</td><td> 10.0</td></tr>\n",
       "\t<tr><td>WS</td><td>Weight</td><td>267105</td><td>Danielsen et al. 2011</td><td>2</td><td>PAH  </td><td>DTXSID4020878</td><td>2-Methylphenanthrene</td><td> 37.0</td></tr>\n",
       "\t<tr><td>WS</td><td>Weight</td><td>267105</td><td>Danielsen et al. 2011</td><td>1</td><td>Metal</td><td>Cu           </td><td>Cu                  </td><td> 65.6</td></tr>\n",
       "\t<tr><td>WS</td><td>Weight</td><td>267105</td><td>Danielsen et al. 2011</td><td>2</td><td>Metal</td><td>Cu           </td><td>Cu                  </td><td> 34.4</td></tr>\n",
       "\t<tr><td>WS</td><td>Weight</td><td>267105</td><td>Danielsen et al. 2011</td><td>1</td><td>PAH  </td><td>DTXSID0047741</td><td>Dibenzothiophene    </td><td> 36.0</td></tr>\n",
       "\t<tr><td>WS</td><td>Weight</td><td>267105</td><td>Danielsen et al. 2011</td><td>2</td><td>PAH  </td><td>DTXSID0047741</td><td>Dibenzothiophene    </td><td>103.0</td></tr>\n",
       "</tbody>\n",
       "</table>\n"
      ],
      "text/latex": [
       "A tibble: 6 × 9\n",
       "\\begin{tabular}{lllllllll}\n",
       " Data & Metric & HAWC\\_ID & Study & Replicate & Chemical\\_Class & DTXSID & Name & Value\\\\\n",
       " <chr> & <chr> & <dbl> & <chr> & <dbl> & <chr> & <chr> & <chr> & <dbl>\\\\\n",
       "\\hline\n",
       "\t WS & Weight & 267105 & Danielsen et al. 2011 & 1 & PAH   & DTXSID4020878 & 2-Methylphenanthrene &  10.0\\\\\n",
       "\t WS & Weight & 267105 & Danielsen et al. 2011 & 2 & PAH   & DTXSID4020878 & 2-Methylphenanthrene &  37.0\\\\\n",
       "\t WS & Weight & 267105 & Danielsen et al. 2011 & 1 & Metal & Cu            & Cu                   &  65.6\\\\\n",
       "\t WS & Weight & 267105 & Danielsen et al. 2011 & 2 & Metal & Cu            & Cu                   &  34.4\\\\\n",
       "\t WS & Weight & 267105 & Danielsen et al. 2011 & 1 & PAH   & DTXSID0047741 & Dibenzothiophene     &  36.0\\\\\n",
       "\t WS & Weight & 267105 & Danielsen et al. 2011 & 2 & PAH   & DTXSID0047741 & Dibenzothiophene     & 103.0\\\\\n",
       "\\end{tabular}\n"
      ],
      "text/markdown": [
       "\n",
       "A tibble: 6 × 9\n",
       "\n",
       "| Data &lt;chr&gt; | Metric &lt;chr&gt; | HAWC_ID &lt;dbl&gt; | Study &lt;chr&gt; | Replicate &lt;dbl&gt; | Chemical_Class &lt;chr&gt; | DTXSID &lt;chr&gt; | Name &lt;chr&gt; | Value &lt;dbl&gt; |\n",
       "|---|---|---|---|---|---|---|---|---|\n",
       "| WS | Weight | 267105 | Danielsen et al. 2011 | 1 | PAH   | DTXSID4020878 | 2-Methylphenanthrene |  10.0 |\n",
       "| WS | Weight | 267105 | Danielsen et al. 2011 | 2 | PAH   | DTXSID4020878 | 2-Methylphenanthrene |  37.0 |\n",
       "| WS | Weight | 267105 | Danielsen et al. 2011 | 1 | Metal | Cu            | Cu                   |  65.6 |\n",
       "| WS | Weight | 267105 | Danielsen et al. 2011 | 2 | Metal | Cu            | Cu                   |  34.4 |\n",
       "| WS | Weight | 267105 | Danielsen et al. 2011 | 1 | PAH   | DTXSID0047741 | Dibenzothiophene     |  36.0 |\n",
       "| WS | Weight | 267105 | Danielsen et al. 2011 | 2 | PAH   | DTXSID0047741 | Dibenzothiophene     | 103.0 |\n",
       "\n"
      ],
      "text/plain": [
       "  Data Metric HAWC_ID Study                 Replicate Chemical_Class\n",
       "1 WS   Weight 267105  Danielsen et al. 2011 1         PAH           \n",
       "2 WS   Weight 267105  Danielsen et al. 2011 2         PAH           \n",
       "3 WS   Weight 267105  Danielsen et al. 2011 1         Metal         \n",
       "4 WS   Weight 267105  Danielsen et al. 2011 2         Metal         \n",
       "5 WS   Weight 267105  Danielsen et al. 2011 1         PAH           \n",
       "6 WS   Weight 267105  Danielsen et al. 2011 2         PAH           \n",
       "  DTXSID        Name                 Value\n",
       "1 DTXSID4020878 2-Methylphenanthrene  10.0\n",
       "2 DTXSID4020878 2-Methylphenanthrene  37.0\n",
       "3 Cu            Cu                    65.6\n",
       "4 Cu            Cu                    34.4\n",
       "5 DTXSID0047741 Dibenzothiophene      36.0\n",
       "6 DTXSID0047741 Dibenzothiophene     103.0"
      ]
     },
     "metadata": {},
     "output_type": "display_data"
    }
   ],
   "source": [
    "test = preimputed_df %>%\n",
    "    filter(Name == 'Fluoranthene', HAWC_ID == '1098462')\n",
    "test\n",
    "\n",
    "test1 = preimputed_df %>%\n",
    "    filter(Chemical_Class == 'Metal')\n",
    "\n",
    "test2 = preimputed_df %>%\n",
    "    filter(HAWC_ID == study_id[3])\n",
    "head(test2)"
   ]
  },
  {
   "cell_type": "code",
   "execution_count": 61,
   "id": "e2b0fcd0-2348-45d8-a6ae-8bc6980e4471",
   "metadata": {},
   "outputs": [],
   "source": [
    "QRILC_imputation = function(dataset){\n",
    "      # \"\"\"\n",
    "    # Creating a quantile normalization function to normalize each sample.\n",
    "    # :param (input): exposed and unexposed (vehicle) dfs\n",
    "    # :output: 1 quantile normalized df\n",
    "    # \"\"\"\n",
    "    #ADD WORDS\n",
    "    wider_dataset = dataset%>%#[,c(1:2,7,9)] %>%\n",
    "        # removing these cols temporarily \n",
    "        select(-c(\"HAWC_ID\", \"Chemical_Class\", \"Name\")) %>%\n",
    "        pivot_wider(names_from = DTXSID, values_from = Value)\n",
    "    \n",
    "    index_of_last_variable = length(colnames(wider_dataset))\n",
    "\n",
    "    # normalizing data since that what the QRILC function wants\n",
    "    # had to pseudo log transform to prevent Inf values\n",
    "    QRILC_prep = wider_dataset[,6:dim(wider_dataset)[2]] %>%\n",
    "         mutate_all(., function(x) log10(x + 1)) %>%\n",
    "         as.matrix()\n",
    "                    \n",
    "    imputed_QRILC_object = impute.QRILC(QRILC_prep, tune.sigma = 0.1)\n",
    "    # QRILC_log10_df = data.frame(imputed_QRILC_object[1]) \n",
    "    \n",
    "    # # converting back the original scale\n",
    "    # QRILC_df = QRILC_log10_df %>%\n",
    "    #     mutate_all(., function(x) 10^x - 1)\n",
    "     \n",
    "    # imputed_dataset = data.frame(cbind(unique(dataset[,1:8]), QRILC_df)) %>%\n",
    "    #      pivot_longer(cols = 9:dim(wider_dataset)[2], names_to = \"Variable\", values_to = \"Value\")\n",
    "    \n",
    "    # return(imputed_dataset)\n",
    "    return(wider_dataset)\n",
    "}"
   ]
  },
  {
   "cell_type": "code",
   "execution_count": 62,
   "id": "94fa5e6a-7c18-44c1-b157-f5fecc99bd5f",
   "metadata": {},
   "outputs": [
    {
     "data": {
      "text/html": [
       "<table class=\"dataframe\">\n",
       "<caption>A tibble: 119 × 25</caption>\n",
       "<thead>\n",
       "\t<tr><th scope=col>Data</th><th scope=col>Metric</th><th scope=col>Study</th><th scope=col>Replicate</th><th scope=col>B</th><th scope=col>Cu</th><th scope=col>K</th><th scope=col>Mg</th><th scope=col>Zn</th><th scope=col>Ni</th><th scope=col>⋯</th><th scope=col>Co</th><th scope=col>Si</th><th scope=col>Sr</th><th scope=col>Ti</th><th scope=col>Ba</th><th scope=col>Rb</th><th scope=col>Li</th><th scope=col>Bi</th><th scope=col>U</th><th scope=col>Th</th></tr>\n",
       "\t<tr><th scope=col>&lt;chr&gt;</th><th scope=col>&lt;chr&gt;</th><th scope=col>&lt;chr&gt;</th><th scope=col>&lt;dbl&gt;</th><th scope=col>&lt;dbl&gt;</th><th scope=col>&lt;dbl&gt;</th><th scope=col>&lt;dbl&gt;</th><th scope=col>&lt;dbl&gt;</th><th scope=col>&lt;dbl&gt;</th><th scope=col>&lt;dbl&gt;</th><th scope=col>⋯</th><th scope=col>&lt;dbl&gt;</th><th scope=col>&lt;dbl&gt;</th><th scope=col>&lt;dbl&gt;</th><th scope=col>&lt;dbl&gt;</th><th scope=col>&lt;dbl&gt;</th><th scope=col>&lt;dbl&gt;</th><th scope=col>&lt;dbl&gt;</th><th scope=col>&lt;dbl&gt;</th><th scope=col>&lt;dbl&gt;</th><th scope=col>&lt;dbl&gt;</th></tr>\n",
       "</thead>\n",
       "<tbody>\n",
       "\t<tr><td>WS</td><td>Weight</td><td>Nordin et al. 2015    </td><td>1</td><td>308</td><td> 336.00</td><td> 35800.00</td><td> 1806.00</td><td> 7280.00</td><td>     NA</td><td>⋯</td><td>  NA</td><td>      NA</td><td> NA</td><td>    NA</td><td>     NA</td><td> 200.00</td><td>NA</td><td> 4</td><td>NA</td><td>NA</td></tr>\n",
       "\t<tr><td>WS</td><td>Weight</td><td>Nordin et al. 2015    </td><td>2</td><td>268</td><td> 196.00</td><td>  9200.00</td><td> 1776.00</td><td> 2040.00</td><td>     NA</td><td>⋯</td><td>  NA</td><td>      NA</td><td> NA</td><td>    NA</td><td>     NA</td><td>  56.00</td><td>NA</td><td>NA</td><td>NA</td><td>NA</td></tr>\n",
       "\t<tr><td>WS</td><td>Weight</td><td>Arif et al. 2017      </td><td>1</td><td> NA</td><td> 132.00</td><td> 60136.00</td><td>12016.00</td><td> 2996.00</td><td>  39.00</td><td>⋯</td><td>4.00</td><td>29315.00</td><td>213</td><td>227.00</td><td>1110.00</td><td>     NA</td><td>NA</td><td>NA</td><td>NA</td><td>NA</td></tr>\n",
       "\t<tr><td>WS</td><td>Weight</td><td>Arif et al. 2017      </td><td>2</td><td> NA</td><td> 242.00</td><td>180744.00</td><td>35933.00</td><td> 1140.00</td><td>  96.00</td><td>⋯</td><td>2.90</td><td>57321.00</td><td>292</td><td>108.00</td><td> 718.00</td><td>     NA</td><td>NA</td><td>NA</td><td>NA</td><td>NA</td></tr>\n",
       "\t<tr><td>WS</td><td>Weight</td><td>Corsini et al. 2013   </td><td>1</td><td> NA</td><td> 280.00</td><td>       NA</td><td>      NA</td><td> 5300.00</td><td>  20.00</td><td>⋯</td><td>  NA</td><td> 2230.00</td><td> 60</td><td>    NA</td><td>     NA</td><td>1250.00</td><td>NA</td><td>NA</td><td>NA</td><td>NA</td></tr>\n",
       "\t<tr><td>WS</td><td>Weight</td><td>Corsini et al. 2013   </td><td>2</td><td> NA</td><td> 470.00</td><td>       NA</td><td>      NA</td><td>15460.00</td><td>  40.00</td><td>⋯</td><td>  NA</td><td> 9120.00</td><td>120</td><td>    NA</td><td>     NA</td><td>1290.00</td><td>NA</td><td>NA</td><td>NA</td><td>NA</td></tr>\n",
       "\t<tr><td>WS</td><td>Weight</td><td>Danielsen et al. 2011 </td><td>1</td><td> NA</td><td>  65.60</td><td>       NA</td><td>      NA</td><td> 1030.00</td><td>  14.70</td><td>⋯</td><td>  NA</td><td>      NA</td><td> NA</td><td>    NA</td><td>     NA</td><td>     NA</td><td>NA</td><td>NA</td><td>NA</td><td>NA</td></tr>\n",
       "\t<tr><td>WS</td><td>Weight</td><td>Danielsen et al. 2011 </td><td>2</td><td> NA</td><td>  34.40</td><td>       NA</td><td>      NA</td><td>  750.00</td><td>  10.30</td><td>⋯</td><td>  NA</td><td>      NA</td><td> NA</td><td>    NA</td><td>     NA</td><td>     NA</td><td>NA</td><td>NA</td><td>NA</td><td>NA</td></tr>\n",
       "\t<tr><td>WS</td><td>Weight</td><td>Dilger et al. 2016    </td><td>1</td><td> NA</td><td>   4.10</td><td> 69363.50</td><td>      NA</td><td> 4178.80</td><td>   0.50</td><td>⋯</td><td>  NA</td><td>      NA</td><td> NA</td><td>    NA</td><td>     NA</td><td>     NA</td><td>NA</td><td>NA</td><td>NA</td><td>NA</td></tr>\n",
       "\t<tr><td>WS</td><td>Weight</td><td>Erlandsson et al. 2020</td><td>1</td><td> NA</td><td>  12.80</td><td>       NA</td><td>      NA</td><td>  963.90</td><td>   1.30</td><td>⋯</td><td>0.30</td><td>      NA</td><td> NA</td><td>    NA</td><td>   9.30</td><td>     NA</td><td>NA</td><td>NA</td><td>NA</td><td>NA</td></tr>\n",
       "\t<tr><td>WS</td><td>Weight</td><td>Erlandsson et al. 2020</td><td>2</td><td> NA</td><td>  44.80</td><td>       NA</td><td>      NA</td><td> 1036.10</td><td>   2.10</td><td>⋯</td><td>0.40</td><td>      NA</td><td> NA</td><td>    NA</td><td>  18.80</td><td>     NA</td><td>NA</td><td>NA</td><td>NA</td><td>NA</td></tr>\n",
       "\t<tr><td>WS</td><td>Weight</td><td>Jalava et al. 2010    </td><td>1</td><td> NA</td><td>  72.20</td><td>       NA</td><td>      NA</td><td>  468.00</td><td>   1.49</td><td>⋯</td><td>  NA</td><td>      NA</td><td> NA</td><td>    NA</td><td>     NA</td><td>     NA</td><td>NA</td><td>NA</td><td>NA</td><td>NA</td></tr>\n",
       "\t<tr><td>WS</td><td>Weight</td><td>Jalava et al. 2010    </td><td>2</td><td> NA</td><td>  24.20</td><td>       NA</td><td>      NA</td><td> 3780.00</td><td>   0.54</td><td>⋯</td><td>  NA</td><td>      NA</td><td> NA</td><td>    NA</td><td>     NA</td><td>     NA</td><td>NA</td><td>NA</td><td>NA</td><td>NA</td></tr>\n",
       "\t<tr><td>WS</td><td>Weight</td><td>Jalava et al. 2010    </td><td>3</td><td> NA</td><td>  16.80</td><td>       NA</td><td>      NA</td><td>  242.00</td><td>     NA</td><td>⋯</td><td>  NA</td><td>      NA</td><td> NA</td><td>    NA</td><td>     NA</td><td>     NA</td><td>NA</td><td>NA</td><td>NA</td><td>NA</td></tr>\n",
       "\t<tr><td>WS</td><td>Weight</td><td>Jalava et al. 2010    </td><td>4</td><td> NA</td><td>   1.71</td><td>       NA</td><td>      NA</td><td>  414.00</td><td>     NA</td><td>⋯</td><td>  NA</td><td>      NA</td><td> NA</td><td>    NA</td><td>     NA</td><td>     NA</td><td>NA</td><td>NA</td><td>NA</td><td>NA</td></tr>\n",
       "\t<tr><td>WS</td><td>Weight</td><td>Kasurinen et al. 2017 </td><td>1</td><td> NA</td><td> 360.00</td><td> 12000.00</td><td>      NA</td><td> 4800.00</td><td> 420.00</td><td>⋯</td><td>  NA</td><td>      NA</td><td> NA</td><td>    NA</td><td>     NA</td><td>  32.00</td><td>NA</td><td>NA</td><td>NA</td><td>NA</td></tr>\n",
       "\t<tr><td>WS</td><td>Weight</td><td>Kasurinen et al. 2017 </td><td>2</td><td> NA</td><td> 240.00</td><td> 34000.00</td><td>      NA</td><td>  500.00</td><td>  10.00</td><td>⋯</td><td>  NA</td><td>      NA</td><td> NA</td><td>    NA</td><td>     NA</td><td>  64.00</td><td>NA</td><td>NA</td><td>NA</td><td>NA</td></tr>\n",
       "\t<tr><td>WS</td><td>Weight</td><td>Kasurinen et al. 2017 </td><td>3</td><td> NA</td><td> 154.00</td><td> 30000.00</td><td>      NA</td><td> 4800.00</td><td>  52.00</td><td>⋯</td><td>  NA</td><td>      NA</td><td> NA</td><td>    NA</td><td>     NA</td><td> 140.00</td><td>NA</td><td>NA</td><td>NA</td><td>NA</td></tr>\n",
       "\t<tr><td>WS</td><td>Weight</td><td>Kasurinen et al. 2017 </td><td>4</td><td> NA</td><td> 360.00</td><td>282000.00</td><td>      NA</td><td> 7400.00</td><td> 112.00</td><td>⋯</td><td>  NA</td><td>      NA</td><td> NA</td><td>    NA</td><td>     NA</td><td>1480.00</td><td>NA</td><td>NA</td><td>NA</td><td>NA</td></tr>\n",
       "\t<tr><td>WS</td><td>Weight</td><td>Kim et al. 2019       </td><td>1</td><td> NA</td><td>  68.00</td><td>    86.00</td><td>   52.00</td><td>  111.00</td><td>     NA</td><td>⋯</td><td>  NA</td><td>  150.00</td><td> NA</td><td> 12.00</td><td>   1.00</td><td>     NA</td><td>NA</td><td>NA</td><td>NA</td><td>NA</td></tr>\n",
       "\t<tr><td>WS</td><td>Weight</td><td>Kim et al. 2019       </td><td>2</td><td> NA</td><td> 252.00</td><td>  1827.00</td><td>  246.00</td><td>  430.00</td><td>     NA</td><td>⋯</td><td>  NA</td><td> 8946.00</td><td> NA</td><td> 37.00</td><td>  13.00</td><td>     NA</td><td>NA</td><td>NA</td><td>NA</td><td>NA</td></tr>\n",
       "\t<tr><td>WS</td><td>Weight</td><td>Kim et al. 2019       </td><td>3</td><td> NA</td><td> 146.00</td><td>   319.00</td><td>  210.00</td><td>  295.00</td><td>     NA</td><td>⋯</td><td>  NA</td><td>  200.00</td><td> NA</td><td> 20.00</td><td>   1.00</td><td>     NA</td><td>NA</td><td>NA</td><td>NA</td><td>NA</td></tr>\n",
       "\t<tr><td>WS</td><td>Weight</td><td>Kim et al. 2019       </td><td>4</td><td> NA</td><td> 128.00</td><td> 19996.00</td><td>  140.00</td><td>  206.00</td><td>     NA</td><td>⋯</td><td>  NA</td><td>14080.00</td><td> NA</td><td> 33.00</td><td>  10.00</td><td>     NA</td><td>NA</td><td>NA</td><td>NA</td><td>NA</td></tr>\n",
       "\t<tr><td>WS</td><td>Weight</td><td>Kim et al. 2019       </td><td>5</td><td> NA</td><td>  63.00</td><td>   107.00</td><td>   86.00</td><td>   92.00</td><td>     NA</td><td>⋯</td><td>  NA</td><td>  250.00</td><td> NA</td><td> 18.00</td><td>   1.00</td><td>     NA</td><td>NA</td><td>NA</td><td>NA</td><td>NA</td></tr>\n",
       "\t<tr><td>WS</td><td>Weight</td><td>Kim et al. 2019       </td><td>6</td><td> NA</td><td> 251.00</td><td>  7618.00</td><td>  338.00</td><td>  395.00</td><td>     NA</td><td>⋯</td><td>  NA</td><td> 1790.00</td><td> NA</td><td> 66.00</td><td>   4.00</td><td>     NA</td><td>NA</td><td>NA</td><td>NA</td><td>NA</td></tr>\n",
       "\t<tr><td>WS</td><td>Weight</td><td>Marchetti 2021        </td><td>1</td><td> NA</td><td>4100.00</td><td>       NA</td><td>      NA</td><td>28200.00</td><td>7200.00</td><td>⋯</td><td>  NA</td><td>      NA</td><td> NA</td><td>    NA</td><td>     NA</td><td>     NA</td><td>NA</td><td>NA</td><td>NA</td><td>NA</td></tr>\n",
       "\t<tr><td>WS</td><td>Weight</td><td>Marchetti et al. 2019 </td><td>1</td><td> NA</td><td>   4.10</td><td>       NA</td><td>      NA</td><td>   28.20</td><td>   7.20</td><td>⋯</td><td>  NA</td><td>      NA</td><td> NA</td><td>    NA</td><td>     NA</td><td>     NA</td><td>NA</td><td>NA</td><td>NA</td><td>NA</td></tr>\n",
       "\t<tr><td>WS</td><td>Weight</td><td>Niu et al. 2023       </td><td>1</td><td> NA</td><td>   0.43</td><td>   174.21</td><td>    1.75</td><td>    3.12</td><td>   0.03</td><td>⋯</td><td>0.01</td><td>    4.21</td><td> NA</td><td>  0.05</td><td>   2.40</td><td>   0.15</td><td>NA</td><td>NA</td><td>NA</td><td>NA</td></tr>\n",
       "\t<tr><td>WS</td><td>Weight</td><td>Niu et al. 2023       </td><td>2</td><td> NA</td><td>   0.35</td><td>    45.67</td><td>    0.68</td><td>    1.32</td><td>   0.04</td><td>⋯</td><td>0.02</td><td>    3.89</td><td> NA</td><td>  0.03</td><td>   1.65</td><td>     NA</td><td>NA</td><td>NA</td><td>NA</td><td>NA</td></tr>\n",
       "\t<tr><td>WS</td><td>Weight</td><td>Niu et al. 2023       </td><td>3</td><td> NA</td><td>   0.27</td><td>   285.03</td><td>    0.43</td><td>    1.79</td><td>   0.05</td><td>⋯</td><td>  NA</td><td>    1.58</td><td> NA</td><td>  0.03</td><td>   1.55</td><td>   0.10</td><td>NA</td><td>NA</td><td>NA</td><td>NA</td></tr>\n",
       "\t<tr><td>⋮</td><td>⋮</td><td>⋮</td><td>⋮</td><td>⋮</td><td>⋮</td><td>⋮</td><td>⋮</td><td>⋮</td><td>⋮</td><td>⋱</td><td>⋮</td><td>⋮</td><td>⋮</td><td>⋮</td><td>⋮</td><td>⋮</td><td>⋮</td><td>⋮</td><td>⋮</td><td>⋮</td></tr>\n",
       "\t<tr><td>WF</td><td>Weight</td><td>Verma et al. 2009       </td><td> 1</td><td>NA</td><td>   631.73</td><td> 9887.85</td><td> 5860.12</td><td> 1513.01</td><td> 29.89</td><td>⋯</td><td>   3.50</td><td>NA</td><td>    NA</td><td>    7.110</td><td> 968.64</td><td>     NA</td><td>    NA</td><td>   NA</td><td>      NA</td><td>    NA</td></tr>\n",
       "\t<tr><td>WF</td><td>Weight</td><td>Villaruel et al. 2024   </td><td> 2</td><td>NA</td><td>   693.00</td><td>      NA</td><td>      NA</td><td>      NA</td><td>    NA</td><td>⋯</td><td>     NA</td><td>NA</td><td>    NA</td><td>       NA</td><td>     NA</td><td>     NA</td><td>    NA</td><td>   NA</td><td>      NA</td><td>    NA</td></tr>\n",
       "\t<tr><td>WF</td><td>Weight</td><td>Wan et al. 2021         </td><td> 1</td><td>NA</td><td>    74.00</td><td>      NA</td><td>      NA</td><td>  225.00</td><td> 33.30</td><td>⋯</td><td>     NA</td><td>NA</td><td>    NA</td><td>       NA</td><td>     NA</td><td>     NA</td><td>    NA</td><td>   NA</td><td>      NA</td><td>    NA</td></tr>\n",
       "\t<tr><td>WF</td><td>Weight</td><td>Xu et al. 2024          </td><td> 1</td><td>NA</td><td>    45.30</td><td>49592.00</td><td>27172.00</td><td>  220.00</td><td>    NA</td><td>⋯</td><td>   5.29</td><td>NA</td><td>    NA</td><td>    0.032</td><td>     NA</td><td>     NA</td><td>    NA</td><td>   NA</td><td>   0.265</td><td>    NA</td></tr>\n",
       "\t<tr><td>WF</td><td>Weight</td><td>Alshehri et al. 2023    </td><td> 1</td><td>NA</td><td>  1899.35</td><td>      NA</td><td>      NA</td><td> 5138.54</td><td>305.45</td><td>⋯</td><td>  10.90</td><td>NA</td><td>668.60</td><td> 2580.000</td><td> 819.51</td><td>  23.36</td><td>    NA</td><td> 0.57</td><td>      NA</td><td>    NA</td></tr>\n",
       "\t<tr><td>WF</td><td>Weight</td><td>Alshehri et al. 2023    </td><td> 2</td><td>NA</td><td> 11250.00</td><td>      NA</td><td>      NA</td><td>35969.77</td><td> 73.93</td><td>⋯</td><td>  12.66</td><td>NA</td><td>440.89</td><td> 7820.000</td><td>1069.27</td><td>  31.19</td><td>    NA</td><td> 1.93</td><td>      NA</td><td>    NA</td></tr>\n",
       "\t<tr><td>WF</td><td>Weight</td><td>Correa Velez et al. 2024</td><td> 1</td><td>NA</td><td>116080.00</td><td>      NA</td><td>      NA</td><td>  730.00</td><td>730.00</td><td>⋯</td><td>     NA</td><td>NA</td><td>    NA</td><td> 1820.000</td><td>     NA</td><td>     NA</td><td>    NA</td><td>   NA</td><td>      NA</td><td>    NA</td></tr>\n",
       "\t<tr><td>WF</td><td>Weight</td><td>Villaruel et al. 2024   </td><td> 1</td><td>NA</td><td>       NA</td><td> 2087.00</td><td> 4263.00</td><td> 1276.00</td><td> 33.00</td><td>⋯</td><td>   8.00</td><td>NA</td><td>626.00</td><td>  424.000</td><td>     NA</td><td>     NA</td><td>  6.00</td><td>   NA</td><td>      NA</td><td>    NA</td></tr>\n",
       "\t<tr><td>WF</td><td>Weight</td><td>Alshehri et al. 2023    </td><td> 3</td><td>NA</td><td>       NA</td><td>      NA</td><td>      NA</td><td>      NA</td><td>122.57</td><td>⋯</td><td>  28.48</td><td>NA</td><td>283.43</td><td>35930.000</td><td> 975.61</td><td>  17.23</td><td>    NA</td><td> 4.03</td><td>      NA</td><td>    NA</td></tr>\n",
       "\t<tr><td>WF</td><td>Weight</td><td>Alves et al. 2011       </td><td> 1</td><td>NA</td><td>       NA</td><td>      NA</td><td>      NA</td><td>      NA</td><td> 10.90</td><td>⋯</td><td>   1.55</td><td>NA</td><td>180.00</td><td>       NA</td><td>     NA</td><td>  84.50</td><td> 20.20</td><td> 0.64</td><td>  10.100</td><td>  7.82</td></tr>\n",
       "\t<tr><td>WF</td><td>Weight</td><td>Alves et al. 2011       </td><td> 2</td><td>NA</td><td>       NA</td><td>      NA</td><td>      NA</td><td>      NA</td><td> 10.20</td><td>⋯</td><td>   0.10</td><td>NA</td><td>120.00</td><td>       NA</td><td>     NA</td><td>  22.50</td><td>  9.58</td><td> 2.26</td><td>   0.490</td><td> 10.60</td></tr>\n",
       "\t<tr><td>WF</td><td>Weight</td><td>Alves et al. 2011       </td><td> 3</td><td>NA</td><td>       NA</td><td>      NA</td><td>      NA</td><td>      NA</td><td> 44.20</td><td>⋯</td><td>   6.61</td><td>NA</td><td>250.00</td><td>       NA</td><td>     NA</td><td>  87.10</td><td> 31.90</td><td>19.50</td><td>  10.600</td><td>  2.12</td></tr>\n",
       "\t<tr><td>WF</td><td>Weight</td><td>Alves et al. 2011       </td><td> 4</td><td>NA</td><td>       NA</td><td>      NA</td><td>      NA</td><td>      NA</td><td> 61.60</td><td>⋯</td><td>   1.24</td><td>NA</td><td>206.00</td><td>       NA</td><td>     NA</td><td>  57.50</td><td>  7.51</td><td> 5.41</td><td>   4.480</td><td>  2.14</td></tr>\n",
       "\t<tr><td>WF</td><td>Weight</td><td>Alves et al. 2011       </td><td> 5</td><td>NA</td><td>       NA</td><td>      NA</td><td>      NA</td><td>      NA</td><td> 38.40</td><td>⋯</td><td>   1.17</td><td>NA</td><td> 60.30</td><td>       NA</td><td>     NA</td><td>  29.90</td><td>  6.95</td><td> 0.85</td><td>   1.920</td><td>  2.15</td></tr>\n",
       "\t<tr><td>WF</td><td>Weight</td><td>Alves et al. 2011       </td><td> 6</td><td>NA</td><td>       NA</td><td>      NA</td><td>      NA</td><td>      NA</td><td> 23.00</td><td>⋯</td><td>   1.44</td><td>NA</td><td>158.00</td><td>       NA</td><td>     NA</td><td>  60.10</td><td> 19.90</td><td> 0.33</td><td>   2.960</td><td>  2.57</td></tr>\n",
       "\t<tr><td>WF</td><td>Weight</td><td>Alves et al. 2011       </td><td> 7</td><td>NA</td><td>       NA</td><td>      NA</td><td>      NA</td><td>      NA</td><td>  3.10</td><td>⋯</td><td>   2.02</td><td>NA</td><td> 69.10</td><td>       NA</td><td>     NA</td><td>  16.10</td><td> 11.80</td><td> 1.57</td><td>   0.220</td><td>  5.09</td></tr>\n",
       "\t<tr><td>WF</td><td>Weight</td><td>Alves et al. 2011       </td><td> 8</td><td>NA</td><td>       NA</td><td>      NA</td><td>      NA</td><td>      NA</td><td>  7.18</td><td>⋯</td><td>   0.54</td><td>NA</td><td> 54.70</td><td>       NA</td><td>     NA</td><td>  29.80</td><td> 14.80</td><td> 0.38</td><td>   1.570</td><td>125.00</td></tr>\n",
       "\t<tr><td>WF</td><td>Weight</td><td>Alves et al. 2011       </td><td> 9</td><td>NA</td><td>       NA</td><td>      NA</td><td>      NA</td><td>      NA</td><td> 18.60</td><td>⋯</td><td>  18.10</td><td>NA</td><td>200.00</td><td>       NA</td><td>     NA</td><td>  69.20</td><td> 38.20</td><td>10.20</td><td>   2.170</td><td>  9.91</td></tr>\n",
       "\t<tr><td>WF</td><td>Weight</td><td>Alves et al. 2011       </td><td>10</td><td>NA</td><td>       NA</td><td>      NA</td><td>      NA</td><td>      NA</td><td> 64.20</td><td>⋯</td><td>   3.31</td><td>NA</td><td>931.00</td><td>       NA</td><td>     NA</td><td>1258.00</td><td> 49.20</td><td> 2.46</td><td>   5.570</td><td>  7.89</td></tr>\n",
       "\t<tr><td>WF</td><td>Weight</td><td>Alves et al. 2011       </td><td>11</td><td>NA</td><td>       NA</td><td>      NA</td><td>      NA</td><td>      NA</td><td>121.00</td><td>⋯</td><td>  29.40</td><td>NA</td><td> 68.20</td><td>       NA</td><td>     NA</td><td>   9.78</td><td>547.00</td><td>15.30</td><td> 107.000</td><td> 29.40</td></tr>\n",
       "\t<tr><td>WF</td><td>Weight</td><td>Alves et al. 2011       </td><td>12</td><td>NA</td><td>       NA</td><td>      NA</td><td>      NA</td><td>      NA</td><td> 68.00</td><td>⋯</td><td>   2.22</td><td>NA</td><td> 93.80</td><td>       NA</td><td>     NA</td><td>  98.00</td><td> 51.20</td><td> 1.28</td><td>   8.850</td><td>  8.17</td></tr>\n",
       "\t<tr><td>WF</td><td>Weight</td><td>Alves et al. 2011       </td><td>13</td><td>NA</td><td>       NA</td><td>      NA</td><td>      NA</td><td>      NA</td><td> 13.20</td><td>⋯</td><td>   2.39</td><td>NA</td><td>197.00</td><td>       NA</td><td>     NA</td><td> 114.00</td><td> 39.50</td><td> 1.62</td><td>  12.000</td><td>  2.40</td></tr>\n",
       "\t<tr><td>WF</td><td>Weight</td><td>Alves et al. 2011       </td><td>14</td><td>NA</td><td>       NA</td><td>      NA</td><td>      NA</td><td>      NA</td><td>359.00</td><td>⋯</td><td>  19.70</td><td>NA</td><td>135.00</td><td>       NA</td><td>     NA</td><td> 267.00</td><td> 81.50</td><td> 5.85</td><td>  25.000</td><td>    NA</td></tr>\n",
       "\t<tr><td>WF</td><td>Weight</td><td>Alves et al. 2011       </td><td>15</td><td>NA</td><td>       NA</td><td>      NA</td><td>      NA</td><td>      NA</td><td>  7.55</td><td>⋯</td><td>  17.80</td><td>NA</td><td> 66.00</td><td>       NA</td><td>     NA</td><td> 101.00</td><td> 98.60</td><td> 0.76</td><td>  11.300</td><td>    NA</td></tr>\n",
       "\t<tr><td>WF</td><td>Weight</td><td>Alves et al. 2011       </td><td>16</td><td>NA</td><td>       NA</td><td>      NA</td><td>      NA</td><td>      NA</td><td>  3.58</td><td>⋯</td><td>   2.77</td><td>NA</td><td>133.00</td><td>       NA</td><td>     NA</td><td>  96.30</td><td> 71.50</td><td> 2.83</td><td>   3.290</td><td>    NA</td></tr>\n",
       "\t<tr><td>WF</td><td>Weight</td><td>Alves et al. 2011       </td><td>17</td><td>NA</td><td>       NA</td><td>      NA</td><td>      NA</td><td>      NA</td><td>  0.00</td><td>⋯</td><td>   2.07</td><td>NA</td><td>223.00</td><td>       NA</td><td>     NA</td><td>  37.30</td><td> 10.90</td><td> 0.70</td><td>   3.040</td><td>    NA</td></tr>\n",
       "\t<tr><td>WF</td><td>Weight</td><td>Alves et al. 2011       </td><td>18</td><td>NA</td><td>       NA</td><td>      NA</td><td>      NA</td><td>      NA</td><td>  0.00</td><td>⋯</td><td>   1.30</td><td>NA</td><td>    NA</td><td>       NA</td><td>     NA</td><td>     NA</td><td> 48.90</td><td>   NA</td><td>      NA</td><td>    NA</td></tr>\n",
       "\t<tr><td>WF</td><td>Weight</td><td>Correa Velez et al. 2024</td><td> 2</td><td>NA</td><td>       NA</td><td>      NA</td><td>      NA</td><td>      NA</td><td>    NA</td><td>⋯</td><td>     NA</td><td>NA</td><td>    NA</td><td> 2180.000</td><td>     NA</td><td>     NA</td><td>    NA</td><td>   NA</td><td>      NA</td><td>    NA</td></tr>\n",
       "\t<tr><td>WF</td><td>Weight</td><td>Vicente et al. 2013     </td><td> 1</td><td>NA</td><td>       NA</td><td>      NA</td><td>      NA</td><td>      NA</td><td>    NA</td><td>⋯</td><td> 320.00</td><td>NA</td><td>    NA</td><td>       NA</td><td>     NA</td><td>     NA</td><td>    NA</td><td>   NA</td><td>  40.000</td><td>530.00</td></tr>\n",
       "\t<tr><td>WF</td><td>Weight</td><td>Vicente et al. 2013     </td><td> 2</td><td>NA</td><td>       NA</td><td>      NA</td><td>      NA</td><td>      NA</td><td>    NA</td><td>⋯</td><td>1220.00</td><td>NA</td><td>    NA</td><td>       NA</td><td>     NA</td><td>     NA</td><td>    NA</td><td>   NA</td><td>2120.000</td><td>470.00</td></tr>\n",
       "</tbody>\n",
       "</table>\n"
      ],
      "text/latex": [
       "A tibble: 119 × 25\n",
       "\\begin{tabular}{lllllllllllllllllllll}\n",
       " Data & Metric & Study & Replicate & B & Cu & K & Mg & Zn & Ni & ⋯ & Co & Si & Sr & Ti & Ba & Rb & Li & Bi & U & Th\\\\\n",
       " <chr> & <chr> & <chr> & <dbl> & <dbl> & <dbl> & <dbl> & <dbl> & <dbl> & <dbl> & ⋯ & <dbl> & <dbl> & <dbl> & <dbl> & <dbl> & <dbl> & <dbl> & <dbl> & <dbl> & <dbl>\\\\\n",
       "\\hline\n",
       "\t WS & Weight & Nordin et al. 2015     & 1 & 308 &  336.00 &  35800.00 &  1806.00 &  7280.00 &      NA & ⋯ &   NA &       NA &  NA &     NA &      NA &  200.00 & NA &  4 & NA & NA\\\\\n",
       "\t WS & Weight & Nordin et al. 2015     & 2 & 268 &  196.00 &   9200.00 &  1776.00 &  2040.00 &      NA & ⋯ &   NA &       NA &  NA &     NA &      NA &   56.00 & NA & NA & NA & NA\\\\\n",
       "\t WS & Weight & Arif et al. 2017       & 1 &  NA &  132.00 &  60136.00 & 12016.00 &  2996.00 &   39.00 & ⋯ & 4.00 & 29315.00 & 213 & 227.00 & 1110.00 &      NA & NA & NA & NA & NA\\\\\n",
       "\t WS & Weight & Arif et al. 2017       & 2 &  NA &  242.00 & 180744.00 & 35933.00 &  1140.00 &   96.00 & ⋯ & 2.90 & 57321.00 & 292 & 108.00 &  718.00 &      NA & NA & NA & NA & NA\\\\\n",
       "\t WS & Weight & Corsini et al. 2013    & 1 &  NA &  280.00 &        NA &       NA &  5300.00 &   20.00 & ⋯ &   NA &  2230.00 &  60 &     NA &      NA & 1250.00 & NA & NA & NA & NA\\\\\n",
       "\t WS & Weight & Corsini et al. 2013    & 2 &  NA &  470.00 &        NA &       NA & 15460.00 &   40.00 & ⋯ &   NA &  9120.00 & 120 &     NA &      NA & 1290.00 & NA & NA & NA & NA\\\\\n",
       "\t WS & Weight & Danielsen et al. 2011  & 1 &  NA &   65.60 &        NA &       NA &  1030.00 &   14.70 & ⋯ &   NA &       NA &  NA &     NA &      NA &      NA & NA & NA & NA & NA\\\\\n",
       "\t WS & Weight & Danielsen et al. 2011  & 2 &  NA &   34.40 &        NA &       NA &   750.00 &   10.30 & ⋯ &   NA &       NA &  NA &     NA &      NA &      NA & NA & NA & NA & NA\\\\\n",
       "\t WS & Weight & Dilger et al. 2016     & 1 &  NA &    4.10 &  69363.50 &       NA &  4178.80 &    0.50 & ⋯ &   NA &       NA &  NA &     NA &      NA &      NA & NA & NA & NA & NA\\\\\n",
       "\t WS & Weight & Erlandsson et al. 2020 & 1 &  NA &   12.80 &        NA &       NA &   963.90 &    1.30 & ⋯ & 0.30 &       NA &  NA &     NA &    9.30 &      NA & NA & NA & NA & NA\\\\\n",
       "\t WS & Weight & Erlandsson et al. 2020 & 2 &  NA &   44.80 &        NA &       NA &  1036.10 &    2.10 & ⋯ & 0.40 &       NA &  NA &     NA &   18.80 &      NA & NA & NA & NA & NA\\\\\n",
       "\t WS & Weight & Jalava et al. 2010     & 1 &  NA &   72.20 &        NA &       NA &   468.00 &    1.49 & ⋯ &   NA &       NA &  NA &     NA &      NA &      NA & NA & NA & NA & NA\\\\\n",
       "\t WS & Weight & Jalava et al. 2010     & 2 &  NA &   24.20 &        NA &       NA &  3780.00 &    0.54 & ⋯ &   NA &       NA &  NA &     NA &      NA &      NA & NA & NA & NA & NA\\\\\n",
       "\t WS & Weight & Jalava et al. 2010     & 3 &  NA &   16.80 &        NA &       NA &   242.00 &      NA & ⋯ &   NA &       NA &  NA &     NA &      NA &      NA & NA & NA & NA & NA\\\\\n",
       "\t WS & Weight & Jalava et al. 2010     & 4 &  NA &    1.71 &        NA &       NA &   414.00 &      NA & ⋯ &   NA &       NA &  NA &     NA &      NA &      NA & NA & NA & NA & NA\\\\\n",
       "\t WS & Weight & Kasurinen et al. 2017  & 1 &  NA &  360.00 &  12000.00 &       NA &  4800.00 &  420.00 & ⋯ &   NA &       NA &  NA &     NA &      NA &   32.00 & NA & NA & NA & NA\\\\\n",
       "\t WS & Weight & Kasurinen et al. 2017  & 2 &  NA &  240.00 &  34000.00 &       NA &   500.00 &   10.00 & ⋯ &   NA &       NA &  NA &     NA &      NA &   64.00 & NA & NA & NA & NA\\\\\n",
       "\t WS & Weight & Kasurinen et al. 2017  & 3 &  NA &  154.00 &  30000.00 &       NA &  4800.00 &   52.00 & ⋯ &   NA &       NA &  NA &     NA &      NA &  140.00 & NA & NA & NA & NA\\\\\n",
       "\t WS & Weight & Kasurinen et al. 2017  & 4 &  NA &  360.00 & 282000.00 &       NA &  7400.00 &  112.00 & ⋯ &   NA &       NA &  NA &     NA &      NA & 1480.00 & NA & NA & NA & NA\\\\\n",
       "\t WS & Weight & Kim et al. 2019        & 1 &  NA &   68.00 &     86.00 &    52.00 &   111.00 &      NA & ⋯ &   NA &   150.00 &  NA &  12.00 &    1.00 &      NA & NA & NA & NA & NA\\\\\n",
       "\t WS & Weight & Kim et al. 2019        & 2 &  NA &  252.00 &   1827.00 &   246.00 &   430.00 &      NA & ⋯ &   NA &  8946.00 &  NA &  37.00 &   13.00 &      NA & NA & NA & NA & NA\\\\\n",
       "\t WS & Weight & Kim et al. 2019        & 3 &  NA &  146.00 &    319.00 &   210.00 &   295.00 &      NA & ⋯ &   NA &   200.00 &  NA &  20.00 &    1.00 &      NA & NA & NA & NA & NA\\\\\n",
       "\t WS & Weight & Kim et al. 2019        & 4 &  NA &  128.00 &  19996.00 &   140.00 &   206.00 &      NA & ⋯ &   NA & 14080.00 &  NA &  33.00 &   10.00 &      NA & NA & NA & NA & NA\\\\\n",
       "\t WS & Weight & Kim et al. 2019        & 5 &  NA &   63.00 &    107.00 &    86.00 &    92.00 &      NA & ⋯ &   NA &   250.00 &  NA &  18.00 &    1.00 &      NA & NA & NA & NA & NA\\\\\n",
       "\t WS & Weight & Kim et al. 2019        & 6 &  NA &  251.00 &   7618.00 &   338.00 &   395.00 &      NA & ⋯ &   NA &  1790.00 &  NA &  66.00 &    4.00 &      NA & NA & NA & NA & NA\\\\\n",
       "\t WS & Weight & Marchetti 2021         & 1 &  NA & 4100.00 &        NA &       NA & 28200.00 & 7200.00 & ⋯ &   NA &       NA &  NA &     NA &      NA &      NA & NA & NA & NA & NA\\\\\n",
       "\t WS & Weight & Marchetti et al. 2019  & 1 &  NA &    4.10 &        NA &       NA &    28.20 &    7.20 & ⋯ &   NA &       NA &  NA &     NA &      NA &      NA & NA & NA & NA & NA\\\\\n",
       "\t WS & Weight & Niu et al. 2023        & 1 &  NA &    0.43 &    174.21 &     1.75 &     3.12 &    0.03 & ⋯ & 0.01 &     4.21 &  NA &   0.05 &    2.40 &    0.15 & NA & NA & NA & NA\\\\\n",
       "\t WS & Weight & Niu et al. 2023        & 2 &  NA &    0.35 &     45.67 &     0.68 &     1.32 &    0.04 & ⋯ & 0.02 &     3.89 &  NA &   0.03 &    1.65 &      NA & NA & NA & NA & NA\\\\\n",
       "\t WS & Weight & Niu et al. 2023        & 3 &  NA &    0.27 &    285.03 &     0.43 &     1.79 &    0.05 & ⋯ &   NA &     1.58 &  NA &   0.03 &    1.55 &    0.10 & NA & NA & NA & NA\\\\\n",
       "\t ⋮ & ⋮ & ⋮ & ⋮ & ⋮ & ⋮ & ⋮ & ⋮ & ⋮ & ⋮ & ⋱ & ⋮ & ⋮ & ⋮ & ⋮ & ⋮ & ⋮ & ⋮ & ⋮ & ⋮ & ⋮\\\\\n",
       "\t WF & Weight & Verma et al. 2009        &  1 & NA &    631.73 &  9887.85 &  5860.12 &  1513.01 &  29.89 & ⋯ &    3.50 & NA &     NA &     7.110 &  968.64 &      NA &     NA &    NA &       NA &     NA\\\\\n",
       "\t WF & Weight & Villaruel et al. 2024    &  2 & NA &    693.00 &       NA &       NA &       NA &     NA & ⋯ &      NA & NA &     NA &        NA &      NA &      NA &     NA &    NA &       NA &     NA\\\\\n",
       "\t WF & Weight & Wan et al. 2021          &  1 & NA &     74.00 &       NA &       NA &   225.00 &  33.30 & ⋯ &      NA & NA &     NA &        NA &      NA &      NA &     NA &    NA &       NA &     NA\\\\\n",
       "\t WF & Weight & Xu et al. 2024           &  1 & NA &     45.30 & 49592.00 & 27172.00 &   220.00 &     NA & ⋯ &    5.29 & NA &     NA &     0.032 &      NA &      NA &     NA &    NA &    0.265 &     NA\\\\\n",
       "\t WF & Weight & Alshehri et al. 2023     &  1 & NA &   1899.35 &       NA &       NA &  5138.54 & 305.45 & ⋯ &   10.90 & NA & 668.60 &  2580.000 &  819.51 &   23.36 &     NA &  0.57 &       NA &     NA\\\\\n",
       "\t WF & Weight & Alshehri et al. 2023     &  2 & NA &  11250.00 &       NA &       NA & 35969.77 &  73.93 & ⋯ &   12.66 & NA & 440.89 &  7820.000 & 1069.27 &   31.19 &     NA &  1.93 &       NA &     NA\\\\\n",
       "\t WF & Weight & Correa Velez et al. 2024 &  1 & NA & 116080.00 &       NA &       NA &   730.00 & 730.00 & ⋯ &      NA & NA &     NA &  1820.000 &      NA &      NA &     NA &    NA &       NA &     NA\\\\\n",
       "\t WF & Weight & Villaruel et al. 2024    &  1 & NA &        NA &  2087.00 &  4263.00 &  1276.00 &  33.00 & ⋯ &    8.00 & NA & 626.00 &   424.000 &      NA &      NA &   6.00 &    NA &       NA &     NA\\\\\n",
       "\t WF & Weight & Alshehri et al. 2023     &  3 & NA &        NA &       NA &       NA &       NA & 122.57 & ⋯ &   28.48 & NA & 283.43 & 35930.000 &  975.61 &   17.23 &     NA &  4.03 &       NA &     NA\\\\\n",
       "\t WF & Weight & Alves et al. 2011        &  1 & NA &        NA &       NA &       NA &       NA &  10.90 & ⋯ &    1.55 & NA & 180.00 &        NA &      NA &   84.50 &  20.20 &  0.64 &   10.100 &   7.82\\\\\n",
       "\t WF & Weight & Alves et al. 2011        &  2 & NA &        NA &       NA &       NA &       NA &  10.20 & ⋯ &    0.10 & NA & 120.00 &        NA &      NA &   22.50 &   9.58 &  2.26 &    0.490 &  10.60\\\\\n",
       "\t WF & Weight & Alves et al. 2011        &  3 & NA &        NA &       NA &       NA &       NA &  44.20 & ⋯ &    6.61 & NA & 250.00 &        NA &      NA &   87.10 &  31.90 & 19.50 &   10.600 &   2.12\\\\\n",
       "\t WF & Weight & Alves et al. 2011        &  4 & NA &        NA &       NA &       NA &       NA &  61.60 & ⋯ &    1.24 & NA & 206.00 &        NA &      NA &   57.50 &   7.51 &  5.41 &    4.480 &   2.14\\\\\n",
       "\t WF & Weight & Alves et al. 2011        &  5 & NA &        NA &       NA &       NA &       NA &  38.40 & ⋯ &    1.17 & NA &  60.30 &        NA &      NA &   29.90 &   6.95 &  0.85 &    1.920 &   2.15\\\\\n",
       "\t WF & Weight & Alves et al. 2011        &  6 & NA &        NA &       NA &       NA &       NA &  23.00 & ⋯ &    1.44 & NA & 158.00 &        NA &      NA &   60.10 &  19.90 &  0.33 &    2.960 &   2.57\\\\\n",
       "\t WF & Weight & Alves et al. 2011        &  7 & NA &        NA &       NA &       NA &       NA &   3.10 & ⋯ &    2.02 & NA &  69.10 &        NA &      NA &   16.10 &  11.80 &  1.57 &    0.220 &   5.09\\\\\n",
       "\t WF & Weight & Alves et al. 2011        &  8 & NA &        NA &       NA &       NA &       NA &   7.18 & ⋯ &    0.54 & NA &  54.70 &        NA &      NA &   29.80 &  14.80 &  0.38 &    1.570 & 125.00\\\\\n",
       "\t WF & Weight & Alves et al. 2011        &  9 & NA &        NA &       NA &       NA &       NA &  18.60 & ⋯ &   18.10 & NA & 200.00 &        NA &      NA &   69.20 &  38.20 & 10.20 &    2.170 &   9.91\\\\\n",
       "\t WF & Weight & Alves et al. 2011        & 10 & NA &        NA &       NA &       NA &       NA &  64.20 & ⋯ &    3.31 & NA & 931.00 &        NA &      NA & 1258.00 &  49.20 &  2.46 &    5.570 &   7.89\\\\\n",
       "\t WF & Weight & Alves et al. 2011        & 11 & NA &        NA &       NA &       NA &       NA & 121.00 & ⋯ &   29.40 & NA &  68.20 &        NA &      NA &    9.78 & 547.00 & 15.30 &  107.000 &  29.40\\\\\n",
       "\t WF & Weight & Alves et al. 2011        & 12 & NA &        NA &       NA &       NA &       NA &  68.00 & ⋯ &    2.22 & NA &  93.80 &        NA &      NA &   98.00 &  51.20 &  1.28 &    8.850 &   8.17\\\\\n",
       "\t WF & Weight & Alves et al. 2011        & 13 & NA &        NA &       NA &       NA &       NA &  13.20 & ⋯ &    2.39 & NA & 197.00 &        NA &      NA &  114.00 &  39.50 &  1.62 &   12.000 &   2.40\\\\\n",
       "\t WF & Weight & Alves et al. 2011        & 14 & NA &        NA &       NA &       NA &       NA & 359.00 & ⋯ &   19.70 & NA & 135.00 &        NA &      NA &  267.00 &  81.50 &  5.85 &   25.000 &     NA\\\\\n",
       "\t WF & Weight & Alves et al. 2011        & 15 & NA &        NA &       NA &       NA &       NA &   7.55 & ⋯ &   17.80 & NA &  66.00 &        NA &      NA &  101.00 &  98.60 &  0.76 &   11.300 &     NA\\\\\n",
       "\t WF & Weight & Alves et al. 2011        & 16 & NA &        NA &       NA &       NA &       NA &   3.58 & ⋯ &    2.77 & NA & 133.00 &        NA &      NA &   96.30 &  71.50 &  2.83 &    3.290 &     NA\\\\\n",
       "\t WF & Weight & Alves et al. 2011        & 17 & NA &        NA &       NA &       NA &       NA &   0.00 & ⋯ &    2.07 & NA & 223.00 &        NA &      NA &   37.30 &  10.90 &  0.70 &    3.040 &     NA\\\\\n",
       "\t WF & Weight & Alves et al. 2011        & 18 & NA &        NA &       NA &       NA &       NA &   0.00 & ⋯ &    1.30 & NA &     NA &        NA &      NA &      NA &  48.90 &    NA &       NA &     NA\\\\\n",
       "\t WF & Weight & Correa Velez et al. 2024 &  2 & NA &        NA &       NA &       NA &       NA &     NA & ⋯ &      NA & NA &     NA &  2180.000 &      NA &      NA &     NA &    NA &       NA &     NA\\\\\n",
       "\t WF & Weight & Vicente et al. 2013      &  1 & NA &        NA &       NA &       NA &       NA &     NA & ⋯ &  320.00 & NA &     NA &        NA &      NA &      NA &     NA &    NA &   40.000 & 530.00\\\\\n",
       "\t WF & Weight & Vicente et al. 2013      &  2 & NA &        NA &       NA &       NA &       NA &     NA & ⋯ & 1220.00 & NA &     NA &        NA &      NA &      NA &     NA &    NA & 2120.000 & 470.00\\\\\n",
       "\\end{tabular}\n"
      ],
      "text/markdown": [
       "\n",
       "A tibble: 119 × 25\n",
       "\n",
       "| Data &lt;chr&gt; | Metric &lt;chr&gt; | Study &lt;chr&gt; | Replicate &lt;dbl&gt; | B &lt;dbl&gt; | Cu &lt;dbl&gt; | K &lt;dbl&gt; | Mg &lt;dbl&gt; | Zn &lt;dbl&gt; | Ni &lt;dbl&gt; | ⋯ ⋯ | Co &lt;dbl&gt; | Si &lt;dbl&gt; | Sr &lt;dbl&gt; | Ti &lt;dbl&gt; | Ba &lt;dbl&gt; | Rb &lt;dbl&gt; | Li &lt;dbl&gt; | Bi &lt;dbl&gt; | U &lt;dbl&gt; | Th &lt;dbl&gt; |\n",
       "|---|---|---|---|---|---|---|---|---|---|---|---|---|---|---|---|---|---|---|---|---|\n",
       "| WS | Weight | Nordin et al. 2015     | 1 | 308 |  336.00 |  35800.00 |  1806.00 |  7280.00 |      NA | ⋯ |   NA |       NA |  NA |     NA |      NA |  200.00 | NA |  4 | NA | NA |\n",
       "| WS | Weight | Nordin et al. 2015     | 2 | 268 |  196.00 |   9200.00 |  1776.00 |  2040.00 |      NA | ⋯ |   NA |       NA |  NA |     NA |      NA |   56.00 | NA | NA | NA | NA |\n",
       "| WS | Weight | Arif et al. 2017       | 1 |  NA |  132.00 |  60136.00 | 12016.00 |  2996.00 |   39.00 | ⋯ | 4.00 | 29315.00 | 213 | 227.00 | 1110.00 |      NA | NA | NA | NA | NA |\n",
       "| WS | Weight | Arif et al. 2017       | 2 |  NA |  242.00 | 180744.00 | 35933.00 |  1140.00 |   96.00 | ⋯ | 2.90 | 57321.00 | 292 | 108.00 |  718.00 |      NA | NA | NA | NA | NA |\n",
       "| WS | Weight | Corsini et al. 2013    | 1 |  NA |  280.00 |        NA |       NA |  5300.00 |   20.00 | ⋯ |   NA |  2230.00 |  60 |     NA |      NA | 1250.00 | NA | NA | NA | NA |\n",
       "| WS | Weight | Corsini et al. 2013    | 2 |  NA |  470.00 |        NA |       NA | 15460.00 |   40.00 | ⋯ |   NA |  9120.00 | 120 |     NA |      NA | 1290.00 | NA | NA | NA | NA |\n",
       "| WS | Weight | Danielsen et al. 2011  | 1 |  NA |   65.60 |        NA |       NA |  1030.00 |   14.70 | ⋯ |   NA |       NA |  NA |     NA |      NA |      NA | NA | NA | NA | NA |\n",
       "| WS | Weight | Danielsen et al. 2011  | 2 |  NA |   34.40 |        NA |       NA |   750.00 |   10.30 | ⋯ |   NA |       NA |  NA |     NA |      NA |      NA | NA | NA | NA | NA |\n",
       "| WS | Weight | Dilger et al. 2016     | 1 |  NA |    4.10 |  69363.50 |       NA |  4178.80 |    0.50 | ⋯ |   NA |       NA |  NA |     NA |      NA |      NA | NA | NA | NA | NA |\n",
       "| WS | Weight | Erlandsson et al. 2020 | 1 |  NA |   12.80 |        NA |       NA |   963.90 |    1.30 | ⋯ | 0.30 |       NA |  NA |     NA |    9.30 |      NA | NA | NA | NA | NA |\n",
       "| WS | Weight | Erlandsson et al. 2020 | 2 |  NA |   44.80 |        NA |       NA |  1036.10 |    2.10 | ⋯ | 0.40 |       NA |  NA |     NA |   18.80 |      NA | NA | NA | NA | NA |\n",
       "| WS | Weight | Jalava et al. 2010     | 1 |  NA |   72.20 |        NA |       NA |   468.00 |    1.49 | ⋯ |   NA |       NA |  NA |     NA |      NA |      NA | NA | NA | NA | NA |\n",
       "| WS | Weight | Jalava et al. 2010     | 2 |  NA |   24.20 |        NA |       NA |  3780.00 |    0.54 | ⋯ |   NA |       NA |  NA |     NA |      NA |      NA | NA | NA | NA | NA |\n",
       "| WS | Weight | Jalava et al. 2010     | 3 |  NA |   16.80 |        NA |       NA |   242.00 |      NA | ⋯ |   NA |       NA |  NA |     NA |      NA |      NA | NA | NA | NA | NA |\n",
       "| WS | Weight | Jalava et al. 2010     | 4 |  NA |    1.71 |        NA |       NA |   414.00 |      NA | ⋯ |   NA |       NA |  NA |     NA |      NA |      NA | NA | NA | NA | NA |\n",
       "| WS | Weight | Kasurinen et al. 2017  | 1 |  NA |  360.00 |  12000.00 |       NA |  4800.00 |  420.00 | ⋯ |   NA |       NA |  NA |     NA |      NA |   32.00 | NA | NA | NA | NA |\n",
       "| WS | Weight | Kasurinen et al. 2017  | 2 |  NA |  240.00 |  34000.00 |       NA |   500.00 |   10.00 | ⋯ |   NA |       NA |  NA |     NA |      NA |   64.00 | NA | NA | NA | NA |\n",
       "| WS | Weight | Kasurinen et al. 2017  | 3 |  NA |  154.00 |  30000.00 |       NA |  4800.00 |   52.00 | ⋯ |   NA |       NA |  NA |     NA |      NA |  140.00 | NA | NA | NA | NA |\n",
       "| WS | Weight | Kasurinen et al. 2017  | 4 |  NA |  360.00 | 282000.00 |       NA |  7400.00 |  112.00 | ⋯ |   NA |       NA |  NA |     NA |      NA | 1480.00 | NA | NA | NA | NA |\n",
       "| WS | Weight | Kim et al. 2019        | 1 |  NA |   68.00 |     86.00 |    52.00 |   111.00 |      NA | ⋯ |   NA |   150.00 |  NA |  12.00 |    1.00 |      NA | NA | NA | NA | NA |\n",
       "| WS | Weight | Kim et al. 2019        | 2 |  NA |  252.00 |   1827.00 |   246.00 |   430.00 |      NA | ⋯ |   NA |  8946.00 |  NA |  37.00 |   13.00 |      NA | NA | NA | NA | NA |\n",
       "| WS | Weight | Kim et al. 2019        | 3 |  NA |  146.00 |    319.00 |   210.00 |   295.00 |      NA | ⋯ |   NA |   200.00 |  NA |  20.00 |    1.00 |      NA | NA | NA | NA | NA |\n",
       "| WS | Weight | Kim et al. 2019        | 4 |  NA |  128.00 |  19996.00 |   140.00 |   206.00 |      NA | ⋯ |   NA | 14080.00 |  NA |  33.00 |   10.00 |      NA | NA | NA | NA | NA |\n",
       "| WS | Weight | Kim et al. 2019        | 5 |  NA |   63.00 |    107.00 |    86.00 |    92.00 |      NA | ⋯ |   NA |   250.00 |  NA |  18.00 |    1.00 |      NA | NA | NA | NA | NA |\n",
       "| WS | Weight | Kim et al. 2019        | 6 |  NA |  251.00 |   7618.00 |   338.00 |   395.00 |      NA | ⋯ |   NA |  1790.00 |  NA |  66.00 |    4.00 |      NA | NA | NA | NA | NA |\n",
       "| WS | Weight | Marchetti 2021         | 1 |  NA | 4100.00 |        NA |       NA | 28200.00 | 7200.00 | ⋯ |   NA |       NA |  NA |     NA |      NA |      NA | NA | NA | NA | NA |\n",
       "| WS | Weight | Marchetti et al. 2019  | 1 |  NA |    4.10 |        NA |       NA |    28.20 |    7.20 | ⋯ |   NA |       NA |  NA |     NA |      NA |      NA | NA | NA | NA | NA |\n",
       "| WS | Weight | Niu et al. 2023        | 1 |  NA |    0.43 |    174.21 |     1.75 |     3.12 |    0.03 | ⋯ | 0.01 |     4.21 |  NA |   0.05 |    2.40 |    0.15 | NA | NA | NA | NA |\n",
       "| WS | Weight | Niu et al. 2023        | 2 |  NA |    0.35 |     45.67 |     0.68 |     1.32 |    0.04 | ⋯ | 0.02 |     3.89 |  NA |   0.03 |    1.65 |      NA | NA | NA | NA | NA |\n",
       "| WS | Weight | Niu et al. 2023        | 3 |  NA |    0.27 |    285.03 |     0.43 |     1.79 |    0.05 | ⋯ |   NA |     1.58 |  NA |   0.03 |    1.55 |    0.10 | NA | NA | NA | NA |\n",
       "| ⋮ | ⋮ | ⋮ | ⋮ | ⋮ | ⋮ | ⋮ | ⋮ | ⋮ | ⋮ | ⋱ | ⋮ | ⋮ | ⋮ | ⋮ | ⋮ | ⋮ | ⋮ | ⋮ | ⋮ | ⋮ |\n",
       "| WF | Weight | Verma et al. 2009        |  1 | NA |    631.73 |  9887.85 |  5860.12 |  1513.01 |  29.89 | ⋯ |    3.50 | NA |     NA |     7.110 |  968.64 |      NA |     NA |    NA |       NA |     NA |\n",
       "| WF | Weight | Villaruel et al. 2024    |  2 | NA |    693.00 |       NA |       NA |       NA |     NA | ⋯ |      NA | NA |     NA |        NA |      NA |      NA |     NA |    NA |       NA |     NA |\n",
       "| WF | Weight | Wan et al. 2021          |  1 | NA |     74.00 |       NA |       NA |   225.00 |  33.30 | ⋯ |      NA | NA |     NA |        NA |      NA |      NA |     NA |    NA |       NA |     NA |\n",
       "| WF | Weight | Xu et al. 2024           |  1 | NA |     45.30 | 49592.00 | 27172.00 |   220.00 |     NA | ⋯ |    5.29 | NA |     NA |     0.032 |      NA |      NA |     NA |    NA |    0.265 |     NA |\n",
       "| WF | Weight | Alshehri et al. 2023     |  1 | NA |   1899.35 |       NA |       NA |  5138.54 | 305.45 | ⋯ |   10.90 | NA | 668.60 |  2580.000 |  819.51 |   23.36 |     NA |  0.57 |       NA |     NA |\n",
       "| WF | Weight | Alshehri et al. 2023     |  2 | NA |  11250.00 |       NA |       NA | 35969.77 |  73.93 | ⋯ |   12.66 | NA | 440.89 |  7820.000 | 1069.27 |   31.19 |     NA |  1.93 |       NA |     NA |\n",
       "| WF | Weight | Correa Velez et al. 2024 |  1 | NA | 116080.00 |       NA |       NA |   730.00 | 730.00 | ⋯ |      NA | NA |     NA |  1820.000 |      NA |      NA |     NA |    NA |       NA |     NA |\n",
       "| WF | Weight | Villaruel et al. 2024    |  1 | NA |        NA |  2087.00 |  4263.00 |  1276.00 |  33.00 | ⋯ |    8.00 | NA | 626.00 |   424.000 |      NA |      NA |   6.00 |    NA |       NA |     NA |\n",
       "| WF | Weight | Alshehri et al. 2023     |  3 | NA |        NA |       NA |       NA |       NA | 122.57 | ⋯ |   28.48 | NA | 283.43 | 35930.000 |  975.61 |   17.23 |     NA |  4.03 |       NA |     NA |\n",
       "| WF | Weight | Alves et al. 2011        |  1 | NA |        NA |       NA |       NA |       NA |  10.90 | ⋯ |    1.55 | NA | 180.00 |        NA |      NA |   84.50 |  20.20 |  0.64 |   10.100 |   7.82 |\n",
       "| WF | Weight | Alves et al. 2011        |  2 | NA |        NA |       NA |       NA |       NA |  10.20 | ⋯ |    0.10 | NA | 120.00 |        NA |      NA |   22.50 |   9.58 |  2.26 |    0.490 |  10.60 |\n",
       "| WF | Weight | Alves et al. 2011        |  3 | NA |        NA |       NA |       NA |       NA |  44.20 | ⋯ |    6.61 | NA | 250.00 |        NA |      NA |   87.10 |  31.90 | 19.50 |   10.600 |   2.12 |\n",
       "| WF | Weight | Alves et al. 2011        |  4 | NA |        NA |       NA |       NA |       NA |  61.60 | ⋯ |    1.24 | NA | 206.00 |        NA |      NA |   57.50 |   7.51 |  5.41 |    4.480 |   2.14 |\n",
       "| WF | Weight | Alves et al. 2011        |  5 | NA |        NA |       NA |       NA |       NA |  38.40 | ⋯ |    1.17 | NA |  60.30 |        NA |      NA |   29.90 |   6.95 |  0.85 |    1.920 |   2.15 |\n",
       "| WF | Weight | Alves et al. 2011        |  6 | NA |        NA |       NA |       NA |       NA |  23.00 | ⋯ |    1.44 | NA | 158.00 |        NA |      NA |   60.10 |  19.90 |  0.33 |    2.960 |   2.57 |\n",
       "| WF | Weight | Alves et al. 2011        |  7 | NA |        NA |       NA |       NA |       NA |   3.10 | ⋯ |    2.02 | NA |  69.10 |        NA |      NA |   16.10 |  11.80 |  1.57 |    0.220 |   5.09 |\n",
       "| WF | Weight | Alves et al. 2011        |  8 | NA |        NA |       NA |       NA |       NA |   7.18 | ⋯ |    0.54 | NA |  54.70 |        NA |      NA |   29.80 |  14.80 |  0.38 |    1.570 | 125.00 |\n",
       "| WF | Weight | Alves et al. 2011        |  9 | NA |        NA |       NA |       NA |       NA |  18.60 | ⋯ |   18.10 | NA | 200.00 |        NA |      NA |   69.20 |  38.20 | 10.20 |    2.170 |   9.91 |\n",
       "| WF | Weight | Alves et al. 2011        | 10 | NA |        NA |       NA |       NA |       NA |  64.20 | ⋯ |    3.31 | NA | 931.00 |        NA |      NA | 1258.00 |  49.20 |  2.46 |    5.570 |   7.89 |\n",
       "| WF | Weight | Alves et al. 2011        | 11 | NA |        NA |       NA |       NA |       NA | 121.00 | ⋯ |   29.40 | NA |  68.20 |        NA |      NA |    9.78 | 547.00 | 15.30 |  107.000 |  29.40 |\n",
       "| WF | Weight | Alves et al. 2011        | 12 | NA |        NA |       NA |       NA |       NA |  68.00 | ⋯ |    2.22 | NA |  93.80 |        NA |      NA |   98.00 |  51.20 |  1.28 |    8.850 |   8.17 |\n",
       "| WF | Weight | Alves et al. 2011        | 13 | NA |        NA |       NA |       NA |       NA |  13.20 | ⋯ |    2.39 | NA | 197.00 |        NA |      NA |  114.00 |  39.50 |  1.62 |   12.000 |   2.40 |\n",
       "| WF | Weight | Alves et al. 2011        | 14 | NA |        NA |       NA |       NA |       NA | 359.00 | ⋯ |   19.70 | NA | 135.00 |        NA |      NA |  267.00 |  81.50 |  5.85 |   25.000 |     NA |\n",
       "| WF | Weight | Alves et al. 2011        | 15 | NA |        NA |       NA |       NA |       NA |   7.55 | ⋯ |   17.80 | NA |  66.00 |        NA |      NA |  101.00 |  98.60 |  0.76 |   11.300 |     NA |\n",
       "| WF | Weight | Alves et al. 2011        | 16 | NA |        NA |       NA |       NA |       NA |   3.58 | ⋯ |    2.77 | NA | 133.00 |        NA |      NA |   96.30 |  71.50 |  2.83 |    3.290 |     NA |\n",
       "| WF | Weight | Alves et al. 2011        | 17 | NA |        NA |       NA |       NA |       NA |   0.00 | ⋯ |    2.07 | NA | 223.00 |        NA |      NA |   37.30 |  10.90 |  0.70 |    3.040 |     NA |\n",
       "| WF | Weight | Alves et al. 2011        | 18 | NA |        NA |       NA |       NA |       NA |   0.00 | ⋯ |    1.30 | NA |     NA |        NA |      NA |      NA |  48.90 |    NA |       NA |     NA |\n",
       "| WF | Weight | Correa Velez et al. 2024 |  2 | NA |        NA |       NA |       NA |       NA |     NA | ⋯ |      NA | NA |     NA |  2180.000 |      NA |      NA |     NA |    NA |       NA |     NA |\n",
       "| WF | Weight | Vicente et al. 2013      |  1 | NA |        NA |       NA |       NA |       NA |     NA | ⋯ |  320.00 | NA |     NA |        NA |      NA |      NA |     NA |    NA |   40.000 | 530.00 |\n",
       "| WF | Weight | Vicente et al. 2013      |  2 | NA |        NA |       NA |       NA |       NA |     NA | ⋯ | 1220.00 | NA |     NA |        NA |      NA |      NA |     NA |    NA | 2120.000 | 470.00 |\n",
       "\n"
      ],
      "text/plain": [
       "    Data Metric Study                    Replicate B   Cu        K        \n",
       "1   WS   Weight Nordin et al. 2015       1         308  336.00    35800.00\n",
       "2   WS   Weight Nordin et al. 2015       2         268  196.00     9200.00\n",
       "3   WS   Weight Arif et al. 2017         1          NA  132.00    60136.00\n",
       "4   WS   Weight Arif et al. 2017         2          NA  242.00   180744.00\n",
       "5   WS   Weight Corsini et al. 2013      1          NA  280.00          NA\n",
       "6   WS   Weight Corsini et al. 2013      2          NA  470.00          NA\n",
       "7   WS   Weight Danielsen et al. 2011    1          NA   65.60          NA\n",
       "8   WS   Weight Danielsen et al. 2011    2          NA   34.40          NA\n",
       "9   WS   Weight Dilger et al. 2016       1          NA    4.10    69363.50\n",
       "10  WS   Weight Erlandsson et al. 2020   1          NA   12.80          NA\n",
       "11  WS   Weight Erlandsson et al. 2020   2          NA   44.80          NA\n",
       "12  WS   Weight Jalava et al. 2010       1          NA   72.20          NA\n",
       "13  WS   Weight Jalava et al. 2010       2          NA   24.20          NA\n",
       "14  WS   Weight Jalava et al. 2010       3          NA   16.80          NA\n",
       "15  WS   Weight Jalava et al. 2010       4          NA    1.71          NA\n",
       "16  WS   Weight Kasurinen et al. 2017    1          NA  360.00    12000.00\n",
       "17  WS   Weight Kasurinen et al. 2017    2          NA  240.00    34000.00\n",
       "18  WS   Weight Kasurinen et al. 2017    3          NA  154.00    30000.00\n",
       "19  WS   Weight Kasurinen et al. 2017    4          NA  360.00   282000.00\n",
       "20  WS   Weight Kim et al. 2019          1          NA   68.00       86.00\n",
       "21  WS   Weight Kim et al. 2019          2          NA  252.00     1827.00\n",
       "22  WS   Weight Kim et al. 2019          3          NA  146.00      319.00\n",
       "23  WS   Weight Kim et al. 2019          4          NA  128.00    19996.00\n",
       "24  WS   Weight Kim et al. 2019          5          NA   63.00      107.00\n",
       "25  WS   Weight Kim et al. 2019          6          NA  251.00     7618.00\n",
       "26  WS   Weight Marchetti 2021           1          NA 4100.00          NA\n",
       "27  WS   Weight Marchetti et al. 2019    1          NA    4.10          NA\n",
       "28  WS   Weight Niu et al. 2023          1          NA    0.43      174.21\n",
       "29  WS   Weight Niu et al. 2023          2          NA    0.35       45.67\n",
       "30  WS   Weight Niu et al. 2023          3          NA    0.27      285.03\n",
       "⋮   ⋮    ⋮      ⋮                        ⋮         ⋮   ⋮         ⋮        \n",
       "90  WF   Weight Verma et al. 2009         1        NA     631.73  9887.85 \n",
       "91  WF   Weight Villaruel et al. 2024     2        NA     693.00       NA \n",
       "92  WF   Weight Wan et al. 2021           1        NA      74.00       NA \n",
       "93  WF   Weight Xu et al. 2024            1        NA      45.30 49592.00 \n",
       "94  WF   Weight Alshehri et al. 2023      1        NA    1899.35       NA \n",
       "95  WF   Weight Alshehri et al. 2023      2        NA   11250.00       NA \n",
       "96  WF   Weight Correa Velez et al. 2024  1        NA  116080.00       NA \n",
       "97  WF   Weight Villaruel et al. 2024     1        NA         NA  2087.00 \n",
       "98  WF   Weight Alshehri et al. 2023      3        NA         NA       NA \n",
       "99  WF   Weight Alves et al. 2011         1        NA         NA       NA \n",
       "100 WF   Weight Alves et al. 2011         2        NA         NA       NA \n",
       "101 WF   Weight Alves et al. 2011         3        NA         NA       NA \n",
       "102 WF   Weight Alves et al. 2011         4        NA         NA       NA \n",
       "103 WF   Weight Alves et al. 2011         5        NA         NA       NA \n",
       "104 WF   Weight Alves et al. 2011         6        NA         NA       NA \n",
       "105 WF   Weight Alves et al. 2011         7        NA         NA       NA \n",
       "106 WF   Weight Alves et al. 2011         8        NA         NA       NA \n",
       "107 WF   Weight Alves et al. 2011         9        NA         NA       NA \n",
       "108 WF   Weight Alves et al. 2011        10        NA         NA       NA \n",
       "109 WF   Weight Alves et al. 2011        11        NA         NA       NA \n",
       "110 WF   Weight Alves et al. 2011        12        NA         NA       NA \n",
       "111 WF   Weight Alves et al. 2011        13        NA         NA       NA \n",
       "112 WF   Weight Alves et al. 2011        14        NA         NA       NA \n",
       "113 WF   Weight Alves et al. 2011        15        NA         NA       NA \n",
       "114 WF   Weight Alves et al. 2011        16        NA         NA       NA \n",
       "115 WF   Weight Alves et al. 2011        17        NA         NA       NA \n",
       "116 WF   Weight Alves et al. 2011        18        NA         NA       NA \n",
       "117 WF   Weight Correa Velez et al. 2024  2        NA         NA       NA \n",
       "118 WF   Weight Vicente et al. 2013       1        NA         NA       NA \n",
       "119 WF   Weight Vicente et al. 2013       2        NA         NA       NA \n",
       "    Mg       Zn       Ni      ⋯ Co      Si       Sr     Ti        Ba     \n",
       "1    1806.00  7280.00      NA ⋯   NA          NA  NA        NA         NA\n",
       "2    1776.00  2040.00      NA ⋯   NA          NA  NA        NA         NA\n",
       "3   12016.00  2996.00   39.00 ⋯ 4.00    29315.00 213    227.00    1110.00\n",
       "4   35933.00  1140.00   96.00 ⋯ 2.90    57321.00 292    108.00     718.00\n",
       "5         NA  5300.00   20.00 ⋯   NA     2230.00  60        NA         NA\n",
       "6         NA 15460.00   40.00 ⋯   NA     9120.00 120        NA         NA\n",
       "7         NA  1030.00   14.70 ⋯   NA          NA  NA        NA         NA\n",
       "8         NA   750.00   10.30 ⋯   NA          NA  NA        NA         NA\n",
       "9         NA  4178.80    0.50 ⋯   NA          NA  NA        NA         NA\n",
       "10        NA   963.90    1.30 ⋯ 0.30          NA  NA        NA       9.30\n",
       "11        NA  1036.10    2.10 ⋯ 0.40          NA  NA        NA      18.80\n",
       "12        NA   468.00    1.49 ⋯   NA          NA  NA        NA         NA\n",
       "13        NA  3780.00    0.54 ⋯   NA          NA  NA        NA         NA\n",
       "14        NA   242.00      NA ⋯   NA          NA  NA        NA         NA\n",
       "15        NA   414.00      NA ⋯   NA          NA  NA        NA         NA\n",
       "16        NA  4800.00  420.00 ⋯   NA          NA  NA        NA         NA\n",
       "17        NA   500.00   10.00 ⋯   NA          NA  NA        NA         NA\n",
       "18        NA  4800.00   52.00 ⋯   NA          NA  NA        NA         NA\n",
       "19        NA  7400.00  112.00 ⋯   NA          NA  NA        NA         NA\n",
       "20     52.00   111.00      NA ⋯   NA      150.00  NA     12.00       1.00\n",
       "21    246.00   430.00      NA ⋯   NA     8946.00  NA     37.00      13.00\n",
       "22    210.00   295.00      NA ⋯   NA      200.00  NA     20.00       1.00\n",
       "23    140.00   206.00      NA ⋯   NA    14080.00  NA     33.00      10.00\n",
       "24     86.00    92.00      NA ⋯   NA      250.00  NA     18.00       1.00\n",
       "25    338.00   395.00      NA ⋯   NA     1790.00  NA     66.00       4.00\n",
       "26        NA 28200.00 7200.00 ⋯   NA          NA  NA        NA         NA\n",
       "27        NA    28.20    7.20 ⋯   NA          NA  NA        NA         NA\n",
       "28      1.75     3.12    0.03 ⋯ 0.01        4.21  NA      0.05       2.40\n",
       "29      0.68     1.32    0.04 ⋯ 0.02        3.89  NA      0.03       1.65\n",
       "30      0.43     1.79    0.05 ⋯   NA        1.58  NA      0.03       1.55\n",
       "⋮   ⋮        ⋮        ⋮       ⋱ ⋮       ⋮        ⋮      ⋮         ⋮      \n",
       "90   5860.12  1513.01  29.89  ⋯    3.50 NA           NA     7.110  968.64\n",
       "91        NA       NA     NA  ⋯      NA NA           NA        NA      NA\n",
       "92        NA   225.00  33.30  ⋯      NA NA           NA        NA      NA\n",
       "93  27172.00   220.00     NA  ⋯    5.29 NA           NA     0.032      NA\n",
       "94        NA  5138.54 305.45  ⋯   10.90 NA       668.60  2580.000  819.51\n",
       "95        NA 35969.77  73.93  ⋯   12.66 NA       440.89  7820.000 1069.27\n",
       "96        NA   730.00 730.00  ⋯      NA NA           NA  1820.000      NA\n",
       "97   4263.00  1276.00  33.00  ⋯    8.00 NA       626.00   424.000      NA\n",
       "98        NA       NA 122.57  ⋯   28.48 NA       283.43 35930.000  975.61\n",
       "99        NA       NA  10.90  ⋯    1.55 NA       180.00        NA      NA\n",
       "100       NA       NA  10.20  ⋯    0.10 NA       120.00        NA      NA\n",
       "101       NA       NA  44.20  ⋯    6.61 NA       250.00        NA      NA\n",
       "102       NA       NA  61.60  ⋯    1.24 NA       206.00        NA      NA\n",
       "103       NA       NA  38.40  ⋯    1.17 NA        60.30        NA      NA\n",
       "104       NA       NA  23.00  ⋯    1.44 NA       158.00        NA      NA\n",
       "105       NA       NA   3.10  ⋯    2.02 NA        69.10        NA      NA\n",
       "106       NA       NA   7.18  ⋯    0.54 NA        54.70        NA      NA\n",
       "107       NA       NA  18.60  ⋯   18.10 NA       200.00        NA      NA\n",
       "108       NA       NA  64.20  ⋯    3.31 NA       931.00        NA      NA\n",
       "109       NA       NA 121.00  ⋯   29.40 NA        68.20        NA      NA\n",
       "110       NA       NA  68.00  ⋯    2.22 NA        93.80        NA      NA\n",
       "111       NA       NA  13.20  ⋯    2.39 NA       197.00        NA      NA\n",
       "112       NA       NA 359.00  ⋯   19.70 NA       135.00        NA      NA\n",
       "113       NA       NA   7.55  ⋯   17.80 NA        66.00        NA      NA\n",
       "114       NA       NA   3.58  ⋯    2.77 NA       133.00        NA      NA\n",
       "115       NA       NA   0.00  ⋯    2.07 NA       223.00        NA      NA\n",
       "116       NA       NA   0.00  ⋯    1.30 NA           NA        NA      NA\n",
       "117       NA       NA     NA  ⋯      NA NA           NA  2180.000      NA\n",
       "118       NA       NA     NA  ⋯  320.00 NA           NA        NA      NA\n",
       "119       NA       NA     NA  ⋯ 1220.00 NA           NA        NA      NA\n",
       "    Rb      Li     Bi    U        Th    \n",
       "1    200.00 NA      4    NA       NA    \n",
       "2     56.00 NA     NA    NA       NA    \n",
       "3        NA NA     NA    NA       NA    \n",
       "4        NA NA     NA    NA       NA    \n",
       "5   1250.00 NA     NA    NA       NA    \n",
       "6   1290.00 NA     NA    NA       NA    \n",
       "7        NA NA     NA    NA       NA    \n",
       "8        NA NA     NA    NA       NA    \n",
       "9        NA NA     NA    NA       NA    \n",
       "10       NA NA     NA    NA       NA    \n",
       "11       NA NA     NA    NA       NA    \n",
       "12       NA NA     NA    NA       NA    \n",
       "13       NA NA     NA    NA       NA    \n",
       "14       NA NA     NA    NA       NA    \n",
       "15       NA NA     NA    NA       NA    \n",
       "16    32.00 NA     NA    NA       NA    \n",
       "17    64.00 NA     NA    NA       NA    \n",
       "18   140.00 NA     NA    NA       NA    \n",
       "19  1480.00 NA     NA    NA       NA    \n",
       "20       NA NA     NA    NA       NA    \n",
       "21       NA NA     NA    NA       NA    \n",
       "22       NA NA     NA    NA       NA    \n",
       "23       NA NA     NA    NA       NA    \n",
       "24       NA NA     NA    NA       NA    \n",
       "25       NA NA     NA    NA       NA    \n",
       "26       NA NA     NA    NA       NA    \n",
       "27       NA NA     NA    NA       NA    \n",
       "28     0.15 NA     NA    NA       NA    \n",
       "29       NA NA     NA    NA       NA    \n",
       "30     0.10 NA     NA    NA       NA    \n",
       "⋮   ⋮       ⋮      ⋮     ⋮        ⋮     \n",
       "90       NA     NA    NA       NA     NA\n",
       "91       NA     NA    NA       NA     NA\n",
       "92       NA     NA    NA       NA     NA\n",
       "93       NA     NA    NA    0.265     NA\n",
       "94    23.36     NA  0.57       NA     NA\n",
       "95    31.19     NA  1.93       NA     NA\n",
       "96       NA     NA    NA       NA     NA\n",
       "97       NA   6.00    NA       NA     NA\n",
       "98    17.23     NA  4.03       NA     NA\n",
       "99    84.50  20.20  0.64   10.100   7.82\n",
       "100   22.50   9.58  2.26    0.490  10.60\n",
       "101   87.10  31.90 19.50   10.600   2.12\n",
       "102   57.50   7.51  5.41    4.480   2.14\n",
       "103   29.90   6.95  0.85    1.920   2.15\n",
       "104   60.10  19.90  0.33    2.960   2.57\n",
       "105   16.10  11.80  1.57    0.220   5.09\n",
       "106   29.80  14.80  0.38    1.570 125.00\n",
       "107   69.20  38.20 10.20    2.170   9.91\n",
       "108 1258.00  49.20  2.46    5.570   7.89\n",
       "109    9.78 547.00 15.30  107.000  29.40\n",
       "110   98.00  51.20  1.28    8.850   8.17\n",
       "111  114.00  39.50  1.62   12.000   2.40\n",
       "112  267.00  81.50  5.85   25.000     NA\n",
       "113  101.00  98.60  0.76   11.300     NA\n",
       "114   96.30  71.50  2.83    3.290     NA\n",
       "115   37.30  10.90  0.70    3.040     NA\n",
       "116      NA  48.90    NA       NA     NA\n",
       "117      NA     NA    NA       NA     NA\n",
       "118      NA     NA    NA   40.000 530.00\n",
       "119      NA     NA    NA 2120.000 470.00"
      ]
     },
     "metadata": {},
     "output_type": "display_data"
    }
   ],
   "source": [
    "QRILC_imputation(test1)"
   ]
  },
  {
   "cell_type": "code",
   "execution_count": 23,
   "id": "0587affe-6715-42e1-b21a-557ae98edae1",
   "metadata": {},
   "outputs": [],
   "source": [
    "# # imputing within each study\n",
    "study_id = unique(preimputed_df$HAWC_ID)\n",
    "\n",
    "# imputed_df = data.frame()\n",
    "# for (i in 1:length(study_id)){\n",
    "#     filtered_preimputed_df = preimputed_df %>%\n",
    "#         filter(HAWC_ID == study_id[i])\n",
    "#     if(i ==1){\n",
    "#     idk = QRILC_imputation(filtered_preimputed_df)\n",
    "#     print(idk)\n",
    "\n",
    "#     imputed_df = rbind(imputed_df, filtered_preimputed_df)\n",
    "#         }\n",
    "# }\n",
    "# # calling fn\n",
    "# #imputed_df = QRILC_imputation(test)\n",
    "\n",
    "# head(imputed_df)"
   ]
  },
  {
   "cell_type": "code",
   "execution_count": 43,
   "id": "314ef5bc-fa29-430f-a0bd-1516e39cbd97",
   "metadata": {},
   "outputs": [
    {
     "data": {
      "text/html": [
       "<table class=\"dataframe\">\n",
       "<caption>A tibble: 20 × 9</caption>\n",
       "<thead>\n",
       "\t<tr><th scope=col>Data</th><th scope=col>Metric</th><th scope=col>HAWC_ID</th><th scope=col>Study</th><th scope=col>Replicate</th><th scope=col>Chemical_Class</th><th scope=col>DTXSID</th><th scope=col>Name</th><th scope=col>Value</th></tr>\n",
       "\t<tr><th scope=col>&lt;chr&gt;</th><th scope=col>&lt;chr&gt;</th><th scope=col>&lt;dbl&gt;</th><th scope=col>&lt;chr&gt;</th><th scope=col>&lt;dbl&gt;</th><th scope=col>&lt;chr&gt;</th><th scope=col>&lt;chr&gt;</th><th scope=col>&lt;chr&gt;</th><th scope=col>&lt;dbl&gt;</th></tr>\n",
       "</thead>\n",
       "<tbody>\n",
       "\t<tr><td>WS</td><td>Weight</td><td>267105</td><td>Danielsen et al. 2011</td><td>1</td><td>PAH  </td><td>DTXSID4020878</td><td>2-Methylphenanthrene</td><td>  10.0</td></tr>\n",
       "\t<tr><td>WS</td><td>Weight</td><td>267105</td><td>Danielsen et al. 2011</td><td>2</td><td>PAH  </td><td>DTXSID4020878</td><td>2-Methylphenanthrene</td><td>  37.0</td></tr>\n",
       "\t<tr><td>WS</td><td>Weight</td><td>267105</td><td>Danielsen et al. 2011</td><td>1</td><td>Metal</td><td>Cu           </td><td>Cu                  </td><td>  65.6</td></tr>\n",
       "\t<tr><td>WS</td><td>Weight</td><td>267105</td><td>Danielsen et al. 2011</td><td>2</td><td>Metal</td><td>Cu           </td><td>Cu                  </td><td>  34.4</td></tr>\n",
       "\t<tr><td>WS</td><td>Weight</td><td>267105</td><td>Danielsen et al. 2011</td><td>1</td><td>PAH  </td><td>DTXSID0047741</td><td>Dibenzothiophene    </td><td>  36.0</td></tr>\n",
       "\t<tr><td>WS</td><td>Weight</td><td>267105</td><td>Danielsen et al. 2011</td><td>2</td><td>PAH  </td><td>DTXSID0047741</td><td>Dibenzothiophene    </td><td> 103.0</td></tr>\n",
       "\t<tr><td>WS</td><td>Weight</td><td>267105</td><td>Danielsen et al. 2011</td><td>1</td><td>Metal</td><td>Zn           </td><td>Zn                  </td><td>1030.0</td></tr>\n",
       "\t<tr><td>WS</td><td>Weight</td><td>267105</td><td>Danielsen et al. 2011</td><td>2</td><td>Metal</td><td>Zn           </td><td>Zn                  </td><td> 750.0</td></tr>\n",
       "\t<tr><td>WS</td><td>Weight</td><td>267105</td><td>Danielsen et al. 2011</td><td>1</td><td>PAH  </td><td>DTXSID3024104</td><td>Fluoranthene        </td><td> 359.0</td></tr>\n",
       "\t<tr><td>WS</td><td>Weight</td><td>267105</td><td>Danielsen et al. 2011</td><td>2</td><td>PAH  </td><td>DTXSID3024104</td><td>Fluoranthene        </td><td> 257.0</td></tr>\n",
       "\t<tr><td>WS</td><td>Weight</td><td>267105</td><td>Danielsen et al. 2011</td><td>1</td><td>PAH  </td><td>DTXSID6024254</td><td>Phenanthrene        </td><td>  36.0</td></tr>\n",
       "\t<tr><td>WS</td><td>Weight</td><td>267105</td><td>Danielsen et al. 2011</td><td>2</td><td>PAH  </td><td>DTXSID6024254</td><td>Phenanthrene        </td><td> 234.0</td></tr>\n",
       "\t<tr><td>WS</td><td>Weight</td><td>267105</td><td>Danielsen et al. 2011</td><td>1</td><td>Metal</td><td>Ni           </td><td>Ni                  </td><td>  14.7</td></tr>\n",
       "\t<tr><td>WS</td><td>Weight</td><td>267105</td><td>Danielsen et al. 2011</td><td>2</td><td>Metal</td><td>Ni           </td><td>Ni                  </td><td>  10.3</td></tr>\n",
       "\t<tr><td>WS</td><td>Weight</td><td>267105</td><td>Danielsen et al. 2011</td><td>1</td><td>Metal</td><td>Mn           </td><td>Mn                  </td><td>    NA</td></tr>\n",
       "\t<tr><td>WS</td><td>Weight</td><td>267105</td><td>Danielsen et al. 2011</td><td>2</td><td>Metal</td><td>Mn           </td><td>Mn                  </td><td>    NA</td></tr>\n",
       "\t<tr><td>WS</td><td>Weight</td><td>267105</td><td>Danielsen et al. 2011</td><td>1</td><td>Metal</td><td>Cr           </td><td>Cr                  </td><td>  21.4</td></tr>\n",
       "\t<tr><td>WS</td><td>Weight</td><td>267105</td><td>Danielsen et al. 2011</td><td>2</td><td>Metal</td><td>Cr           </td><td>Cr                  </td><td>  21.3</td></tr>\n",
       "\t<tr><td>WS</td><td>Weight</td><td>267105</td><td>Danielsen et al. 2011</td><td>1</td><td>Metal</td><td>Fe           </td><td>Fe                  </td><td>1323.0</td></tr>\n",
       "\t<tr><td>WS</td><td>Weight</td><td>267105</td><td>Danielsen et al. 2011</td><td>2</td><td>Metal</td><td>Fe           </td><td>Fe                  </td><td>1773.0</td></tr>\n",
       "</tbody>\n",
       "</table>\n"
      ],
      "text/latex": [
       "A tibble: 20 × 9\n",
       "\\begin{tabular}{lllllllll}\n",
       " Data & Metric & HAWC\\_ID & Study & Replicate & Chemical\\_Class & DTXSID & Name & Value\\\\\n",
       " <chr> & <chr> & <dbl> & <chr> & <dbl> & <chr> & <chr> & <chr> & <dbl>\\\\\n",
       "\\hline\n",
       "\t WS & Weight & 267105 & Danielsen et al. 2011 & 1 & PAH   & DTXSID4020878 & 2-Methylphenanthrene &   10.0\\\\\n",
       "\t WS & Weight & 267105 & Danielsen et al. 2011 & 2 & PAH   & DTXSID4020878 & 2-Methylphenanthrene &   37.0\\\\\n",
       "\t WS & Weight & 267105 & Danielsen et al. 2011 & 1 & Metal & Cu            & Cu                   &   65.6\\\\\n",
       "\t WS & Weight & 267105 & Danielsen et al. 2011 & 2 & Metal & Cu            & Cu                   &   34.4\\\\\n",
       "\t WS & Weight & 267105 & Danielsen et al. 2011 & 1 & PAH   & DTXSID0047741 & Dibenzothiophene     &   36.0\\\\\n",
       "\t WS & Weight & 267105 & Danielsen et al. 2011 & 2 & PAH   & DTXSID0047741 & Dibenzothiophene     &  103.0\\\\\n",
       "\t WS & Weight & 267105 & Danielsen et al. 2011 & 1 & Metal & Zn            & Zn                   & 1030.0\\\\\n",
       "\t WS & Weight & 267105 & Danielsen et al. 2011 & 2 & Metal & Zn            & Zn                   &  750.0\\\\\n",
       "\t WS & Weight & 267105 & Danielsen et al. 2011 & 1 & PAH   & DTXSID3024104 & Fluoranthene         &  359.0\\\\\n",
       "\t WS & Weight & 267105 & Danielsen et al. 2011 & 2 & PAH   & DTXSID3024104 & Fluoranthene         &  257.0\\\\\n",
       "\t WS & Weight & 267105 & Danielsen et al. 2011 & 1 & PAH   & DTXSID6024254 & Phenanthrene         &   36.0\\\\\n",
       "\t WS & Weight & 267105 & Danielsen et al. 2011 & 2 & PAH   & DTXSID6024254 & Phenanthrene         &  234.0\\\\\n",
       "\t WS & Weight & 267105 & Danielsen et al. 2011 & 1 & Metal & Ni            & Ni                   &   14.7\\\\\n",
       "\t WS & Weight & 267105 & Danielsen et al. 2011 & 2 & Metal & Ni            & Ni                   &   10.3\\\\\n",
       "\t WS & Weight & 267105 & Danielsen et al. 2011 & 1 & Metal & Mn            & Mn                   &     NA\\\\\n",
       "\t WS & Weight & 267105 & Danielsen et al. 2011 & 2 & Metal & Mn            & Mn                   &     NA\\\\\n",
       "\t WS & Weight & 267105 & Danielsen et al. 2011 & 1 & Metal & Cr            & Cr                   &   21.4\\\\\n",
       "\t WS & Weight & 267105 & Danielsen et al. 2011 & 2 & Metal & Cr            & Cr                   &   21.3\\\\\n",
       "\t WS & Weight & 267105 & Danielsen et al. 2011 & 1 & Metal & Fe            & Fe                   & 1323.0\\\\\n",
       "\t WS & Weight & 267105 & Danielsen et al. 2011 & 2 & Metal & Fe            & Fe                   & 1773.0\\\\\n",
       "\\end{tabular}\n"
      ],
      "text/markdown": [
       "\n",
       "A tibble: 20 × 9\n",
       "\n",
       "| Data &lt;chr&gt; | Metric &lt;chr&gt; | HAWC_ID &lt;dbl&gt; | Study &lt;chr&gt; | Replicate &lt;dbl&gt; | Chemical_Class &lt;chr&gt; | DTXSID &lt;chr&gt; | Name &lt;chr&gt; | Value &lt;dbl&gt; |\n",
       "|---|---|---|---|---|---|---|---|---|\n",
       "| WS | Weight | 267105 | Danielsen et al. 2011 | 1 | PAH   | DTXSID4020878 | 2-Methylphenanthrene |   10.0 |\n",
       "| WS | Weight | 267105 | Danielsen et al. 2011 | 2 | PAH   | DTXSID4020878 | 2-Methylphenanthrene |   37.0 |\n",
       "| WS | Weight | 267105 | Danielsen et al. 2011 | 1 | Metal | Cu            | Cu                   |   65.6 |\n",
       "| WS | Weight | 267105 | Danielsen et al. 2011 | 2 | Metal | Cu            | Cu                   |   34.4 |\n",
       "| WS | Weight | 267105 | Danielsen et al. 2011 | 1 | PAH   | DTXSID0047741 | Dibenzothiophene     |   36.0 |\n",
       "| WS | Weight | 267105 | Danielsen et al. 2011 | 2 | PAH   | DTXSID0047741 | Dibenzothiophene     |  103.0 |\n",
       "| WS | Weight | 267105 | Danielsen et al. 2011 | 1 | Metal | Zn            | Zn                   | 1030.0 |\n",
       "| WS | Weight | 267105 | Danielsen et al. 2011 | 2 | Metal | Zn            | Zn                   |  750.0 |\n",
       "| WS | Weight | 267105 | Danielsen et al. 2011 | 1 | PAH   | DTXSID3024104 | Fluoranthene         |  359.0 |\n",
       "| WS | Weight | 267105 | Danielsen et al. 2011 | 2 | PAH   | DTXSID3024104 | Fluoranthene         |  257.0 |\n",
       "| WS | Weight | 267105 | Danielsen et al. 2011 | 1 | PAH   | DTXSID6024254 | Phenanthrene         |   36.0 |\n",
       "| WS | Weight | 267105 | Danielsen et al. 2011 | 2 | PAH   | DTXSID6024254 | Phenanthrene         |  234.0 |\n",
       "| WS | Weight | 267105 | Danielsen et al. 2011 | 1 | Metal | Ni            | Ni                   |   14.7 |\n",
       "| WS | Weight | 267105 | Danielsen et al. 2011 | 2 | Metal | Ni            | Ni                   |   10.3 |\n",
       "| WS | Weight | 267105 | Danielsen et al. 2011 | 1 | Metal | Mn            | Mn                   |     NA |\n",
       "| WS | Weight | 267105 | Danielsen et al. 2011 | 2 | Metal | Mn            | Mn                   |     NA |\n",
       "| WS | Weight | 267105 | Danielsen et al. 2011 | 1 | Metal | Cr            | Cr                   |   21.4 |\n",
       "| WS | Weight | 267105 | Danielsen et al. 2011 | 2 | Metal | Cr            | Cr                   |   21.3 |\n",
       "| WS | Weight | 267105 | Danielsen et al. 2011 | 1 | Metal | Fe            | Fe                   | 1323.0 |\n",
       "| WS | Weight | 267105 | Danielsen et al. 2011 | 2 | Metal | Fe            | Fe                   | 1773.0 |\n",
       "\n"
      ],
      "text/plain": [
       "   Data Metric HAWC_ID Study                 Replicate Chemical_Class\n",
       "1  WS   Weight 267105  Danielsen et al. 2011 1         PAH           \n",
       "2  WS   Weight 267105  Danielsen et al. 2011 2         PAH           \n",
       "3  WS   Weight 267105  Danielsen et al. 2011 1         Metal         \n",
       "4  WS   Weight 267105  Danielsen et al. 2011 2         Metal         \n",
       "5  WS   Weight 267105  Danielsen et al. 2011 1         PAH           \n",
       "6  WS   Weight 267105  Danielsen et al. 2011 2         PAH           \n",
       "7  WS   Weight 267105  Danielsen et al. 2011 1         Metal         \n",
       "8  WS   Weight 267105  Danielsen et al. 2011 2         Metal         \n",
       "9  WS   Weight 267105  Danielsen et al. 2011 1         PAH           \n",
       "10 WS   Weight 267105  Danielsen et al. 2011 2         PAH           \n",
       "11 WS   Weight 267105  Danielsen et al. 2011 1         PAH           \n",
       "12 WS   Weight 267105  Danielsen et al. 2011 2         PAH           \n",
       "13 WS   Weight 267105  Danielsen et al. 2011 1         Metal         \n",
       "14 WS   Weight 267105  Danielsen et al. 2011 2         Metal         \n",
       "15 WS   Weight 267105  Danielsen et al. 2011 1         Metal         \n",
       "16 WS   Weight 267105  Danielsen et al. 2011 2         Metal         \n",
       "17 WS   Weight 267105  Danielsen et al. 2011 1         Metal         \n",
       "18 WS   Weight 267105  Danielsen et al. 2011 2         Metal         \n",
       "19 WS   Weight 267105  Danielsen et al. 2011 1         Metal         \n",
       "20 WS   Weight 267105  Danielsen et al. 2011 2         Metal         \n",
       "   DTXSID        Name                 Value \n",
       "1  DTXSID4020878 2-Methylphenanthrene   10.0\n",
       "2  DTXSID4020878 2-Methylphenanthrene   37.0\n",
       "3  Cu            Cu                     65.6\n",
       "4  Cu            Cu                     34.4\n",
       "5  DTXSID0047741 Dibenzothiophene       36.0\n",
       "6  DTXSID0047741 Dibenzothiophene      103.0\n",
       "7  Zn            Zn                   1030.0\n",
       "8  Zn            Zn                    750.0\n",
       "9  DTXSID3024104 Fluoranthene          359.0\n",
       "10 DTXSID3024104 Fluoranthene          257.0\n",
       "11 DTXSID6024254 Phenanthrene           36.0\n",
       "12 DTXSID6024254 Phenanthrene          234.0\n",
       "13 Ni            Ni                     14.7\n",
       "14 Ni            Ni                     10.3\n",
       "15 Mn            Mn                       NA\n",
       "16 Mn            Mn                       NA\n",
       "17 Cr            Cr                     21.4\n",
       "18 Cr            Cr                     21.3\n",
       "19 Fe            Fe                   1323.0\n",
       "20 Fe            Fe                   1773.0"
      ]
     },
     "metadata": {},
     "output_type": "display_data"
    }
   ],
   "source": [
    "test2"
   ]
  },
  {
   "cell_type": "code",
   "execution_count": null,
   "id": "8a961727-7b9d-4be5-937a-42e84d86fdba",
   "metadata": {},
   "outputs": [],
   "source": []
  }
 ],
 "metadata": {
  "kernelspec": {
   "display_name": "R",
   "language": "R",
   "name": "ir"
  },
  "language_info": {
   "codemirror_mode": "r",
   "file_extension": ".r",
   "mimetype": "text/x-r-source",
   "name": "R",
   "pygments_lexer": "r",
   "version": "4.3.1"
  }
 },
 "nbformat": 4,
 "nbformat_minor": 5
}
