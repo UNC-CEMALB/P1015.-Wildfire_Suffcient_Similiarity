{
 "cells": [
  {
   "cell_type": "code",
   "execution_count": 1,
   "id": "dbfb736a-bc97-4a2f-96f6-553aa3c90c5b",
   "metadata": {},
   "outputs": [
    {
     "name": "stderr",
     "output_type": "stream",
     "text": [
      "── \u001b[1mAttaching core tidyverse packages\u001b[22m ──────────────────────── tidyverse 2.0.0 ──\n",
      "\u001b[32m✔\u001b[39m \u001b[34mdplyr    \u001b[39m 1.1.3     \u001b[32m✔\u001b[39m \u001b[34mreadr    \u001b[39m 2.1.4\n",
      "\u001b[32m✔\u001b[39m \u001b[34mforcats  \u001b[39m 1.0.0     \u001b[32m✔\u001b[39m \u001b[34mstringr  \u001b[39m 1.5.0\n",
      "\u001b[32m✔\u001b[39m \u001b[34mggplot2  \u001b[39m 3.4.3     \u001b[32m✔\u001b[39m \u001b[34mtibble   \u001b[39m 3.2.1\n",
      "\u001b[32m✔\u001b[39m \u001b[34mlubridate\u001b[39m 1.9.2     \u001b[32m✔\u001b[39m \u001b[34mtidyr    \u001b[39m 1.3.0\n",
      "\u001b[32m✔\u001b[39m \u001b[34mpurrr    \u001b[39m 1.0.2     \n",
      "── \u001b[1mConflicts\u001b[22m ────────────────────────────────────────── tidyverse_conflicts() ──\n",
      "\u001b[31m✖\u001b[39m \u001b[34mdplyr\u001b[39m::\u001b[32mfilter()\u001b[39m masks \u001b[34mstats\u001b[39m::filter()\n",
      "\u001b[31m✖\u001b[39m \u001b[34mdplyr\u001b[39m::\u001b[32mlag()\u001b[39m    masks \u001b[34mstats\u001b[39m::lag()\n",
      "\u001b[36mℹ\u001b[39m Use the conflicted package (\u001b[3m\u001b[34m<http://conflicted.r-lib.org/>\u001b[39m\u001b[23m) to force all conflicts to become errors\n",
      "Loading required package: tmvtnorm\n",
      "\n",
      "Loading required package: mvtnorm\n",
      "\n",
      "Loading required package: Matrix\n",
      "\n",
      "\n",
      "Attaching package: ‘Matrix’\n",
      "\n",
      "\n",
      "The following objects are masked from ‘package:tidyr’:\n",
      "\n",
      "    expand, pack, unpack\n",
      "\n",
      "\n",
      "Loading required package: stats4\n",
      "\n",
      "Loading required package: gmm\n",
      "\n",
      "Loading required package: sandwich\n",
      "\n",
      "Loading required package: norm\n",
      "\n",
      "This package has some major limitations\n",
      "(for example, it does not work reliably when\n",
      "the number of variables exceeds 30),\n",
      "and has been superseded by the norm2 package.\n",
      "\n",
      "Loading required package: pcaMethods\n",
      "\n",
      "Loading required package: Biobase\n",
      "\n",
      "Loading required package: BiocGenerics\n",
      "\n",
      "\n",
      "Attaching package: ‘BiocGenerics’\n",
      "\n",
      "\n",
      "The following objects are masked from ‘package:lubridate’:\n",
      "\n",
      "    intersect, setdiff, union\n",
      "\n",
      "\n",
      "The following objects are masked from ‘package:dplyr’:\n",
      "\n",
      "    combine, intersect, setdiff, union\n",
      "\n",
      "\n",
      "The following objects are masked from ‘package:stats’:\n",
      "\n",
      "    IQR, mad, sd, var, xtabs\n",
      "\n",
      "\n",
      "The following objects are masked from ‘package:base’:\n",
      "\n",
      "    anyDuplicated, aperm, append, as.data.frame, basename, cbind,\n",
      "    colnames, dirname, do.call, duplicated, eval, evalq, Filter, Find,\n",
      "    get, grep, grepl, intersect, is.unsorted, lapply, Map, mapply,\n",
      "    match, mget, order, paste, pmax, pmax.int, pmin, pmin.int,\n",
      "    Position, rank, rbind, Reduce, rownames, sapply, setdiff, sort,\n",
      "    table, tapply, union, unique, unsplit, which.max, which.min\n",
      "\n",
      "\n",
      "Welcome to Bioconductor\n",
      "\n",
      "    Vignettes contain introductory material; view with\n",
      "    'browseVignettes()'. To cite Bioconductor, see\n",
      "    'citation(\"Biobase\")', and for packages 'citation(\"pkgname\")'.\n",
      "\n",
      "\n",
      "\n",
      "Attaching package: ‘pcaMethods’\n",
      "\n",
      "\n",
      "The following object is masked from ‘package:stats’:\n",
      "\n",
      "    loadings\n",
      "\n",
      "\n",
      "Loading required package: impute\n",
      "\n",
      "Welcome! Want to learn more? See two factoextra-related books at https://goo.gl/ve3WBa\n",
      "\n"
     ]
    }
   ],
   "source": [
    "Output = '/Users/alexis/Library/CloudStorage/OneDrive-UniversityofNorthCarolinaatChapelHill/CEMALB_DataAnalysisPM/Projects/P1015. Fire Sufficient Similarity/P1015.3. Analyses/P1015.3.2. Data Processing/Output'\n",
    "cur_date = '030525'\n",
    "\n",
    "library(missForest)\n",
    "library(readxl)\n",
    "library(openxlsx)\n",
    "library(tidyverse)\n",
    "library(imputeLCMD)\n",
    "library(factoextra)\n",
    "\n",
    "# reading in files\n",
    "ws_df = data.frame(Data = 'WS', read_excel(\"Input/Woodsmoke_Data_012825.xlsx\", sheet = 2)) %>%\n",
    "    select(-Sample_Number)\n",
    "wf_df = data.frame(Data = 'WF', read_excel(\"Input/Wildfire_Data_012825.xlsx\", sheet = 2)) %>%\n",
    "    select(-Sample_Number)"
   ]
  },
  {
   "cell_type": "markdown",
   "id": "a6904813-4b86-4407-a5ec-4efed3e83041",
   "metadata": {},
   "source": [
    "NOTES TO SELF:\n",
    "- change 'replicate' to 'instance' and 'chemical class' to 'class'"
   ]
  },
  {
   "cell_type": "code",
   "execution_count": 2,
   "id": "73a7d5c4-8e2a-4ab5-b13b-046bc35d412e",
   "metadata": {},
   "outputs": [
    {
     "data": {
      "text/html": [
       "<table class=\"dataframe\">\n",
       "<caption>A data.frame: 6 × 9</caption>\n",
       "<thead>\n",
       "\t<tr><th></th><th scope=col>Data</th><th scope=col>HAWC_ID</th><th scope=col>Study</th><th scope=col>Replicate</th><th scope=col>Chemical_Class</th><th scope=col>Metric</th><th scope=col>DTXSID</th><th scope=col>Name</th><th scope=col>Value</th></tr>\n",
       "\t<tr><th></th><th scope=col>&lt;chr&gt;</th><th scope=col>&lt;dbl&gt;</th><th scope=col>&lt;chr&gt;</th><th scope=col>&lt;dbl&gt;</th><th scope=col>&lt;chr&gt;</th><th scope=col>&lt;chr&gt;</th><th scope=col>&lt;chr&gt;</th><th scope=col>&lt;chr&gt;</th><th scope=col>&lt;chr&gt;</th></tr>\n",
       "</thead>\n",
       "<tbody>\n",
       "\t<tr><th scope=row>1</th><td>WS</td><td> 821855</td><td>Erlandsson et al. 2020  </td><td> 1</td><td>PAH</td><td>Weight</td><td>DTXSID3074787</td><td>1-Methylanthracene</td><td>11.3              </td></tr>\n",
       "\t<tr><th scope=row>2</th><td>WS</td><td> 821855</td><td>Erlandsson et al. 2020  </td><td> 1</td><td>PAH</td><td>Weight</td><td>DTXSID3074787</td><td>1-Methylanthracene</td><td>2.2999999999999998</td></tr>\n",
       "\t<tr><th scope=row>3</th><td>WS</td><td>1257056</td><td>McCarrick et al. 2024   </td><td> 1</td><td>PAH</td><td>Weight</td><td>DTXSID3074787</td><td>1-Methylanthracene</td><td>1.66              </td></tr>\n",
       "\t<tr><th scope=row>4</th><td>WS</td><td> 267140</td><td>Alfheim and Ramdahl 1984</td><td> 1</td><td>PAH</td><td>Volume</td><td>DTXSID3074787</td><td>1-Methylanthracene</td><td>NA                </td></tr>\n",
       "\t<tr><th scope=row>5</th><td>WS</td><td>1263480</td><td>Burnet et al. 1990      </td><td> 1</td><td>PAH</td><td>Volume</td><td>DTXSID3074787</td><td>1-Methylanthracene</td><td>NA                </td></tr>\n",
       "\t<tr><th scope=row>6</th><td>WS</td><td>1263480</td><td>Burnet et al. 1990      </td><td>NA</td><td>PAH</td><td>Volume</td><td>DTXSID3074787</td><td>1-Methylanthracene</td><td>NA                </td></tr>\n",
       "</tbody>\n",
       "</table>\n"
      ],
      "text/latex": [
       "A data.frame: 6 × 9\n",
       "\\begin{tabular}{r|lllllllll}\n",
       "  & Data & HAWC\\_ID & Study & Replicate & Chemical\\_Class & Metric & DTXSID & Name & Value\\\\\n",
       "  & <chr> & <dbl> & <chr> & <dbl> & <chr> & <chr> & <chr> & <chr> & <chr>\\\\\n",
       "\\hline\n",
       "\t1 & WS &  821855 & Erlandsson et al. 2020   &  1 & PAH & Weight & DTXSID3074787 & 1-Methylanthracene & 11.3              \\\\\n",
       "\t2 & WS &  821855 & Erlandsson et al. 2020   &  1 & PAH & Weight & DTXSID3074787 & 1-Methylanthracene & 2.2999999999999998\\\\\n",
       "\t3 & WS & 1257056 & McCarrick et al. 2024    &  1 & PAH & Weight & DTXSID3074787 & 1-Methylanthracene & 1.66              \\\\\n",
       "\t4 & WS &  267140 & Alfheim and Ramdahl 1984 &  1 & PAH & Volume & DTXSID3074787 & 1-Methylanthracene & NA                \\\\\n",
       "\t5 & WS & 1263480 & Burnet et al. 1990       &  1 & PAH & Volume & DTXSID3074787 & 1-Methylanthracene & NA                \\\\\n",
       "\t6 & WS & 1263480 & Burnet et al. 1990       & NA & PAH & Volume & DTXSID3074787 & 1-Methylanthracene & NA                \\\\\n",
       "\\end{tabular}\n"
      ],
      "text/markdown": [
       "\n",
       "A data.frame: 6 × 9\n",
       "\n",
       "| <!--/--> | Data &lt;chr&gt; | HAWC_ID &lt;dbl&gt; | Study &lt;chr&gt; | Replicate &lt;dbl&gt; | Chemical_Class &lt;chr&gt; | Metric &lt;chr&gt; | DTXSID &lt;chr&gt; | Name &lt;chr&gt; | Value &lt;chr&gt; |\n",
       "|---|---|---|---|---|---|---|---|---|---|\n",
       "| 1 | WS |  821855 | Erlandsson et al. 2020   |  1 | PAH | Weight | DTXSID3074787 | 1-Methylanthracene | 11.3               |\n",
       "| 2 | WS |  821855 | Erlandsson et al. 2020   |  1 | PAH | Weight | DTXSID3074787 | 1-Methylanthracene | 2.2999999999999998 |\n",
       "| 3 | WS | 1257056 | McCarrick et al. 2024    |  1 | PAH | Weight | DTXSID3074787 | 1-Methylanthracene | 1.66               |\n",
       "| 4 | WS |  267140 | Alfheim and Ramdahl 1984 |  1 | PAH | Volume | DTXSID3074787 | 1-Methylanthracene | NA                 |\n",
       "| 5 | WS | 1263480 | Burnet et al. 1990       |  1 | PAH | Volume | DTXSID3074787 | 1-Methylanthracene | NA                 |\n",
       "| 6 | WS | 1263480 | Burnet et al. 1990       | NA | PAH | Volume | DTXSID3074787 | 1-Methylanthracene | NA                 |\n",
       "\n"
      ],
      "text/plain": [
       "  Data HAWC_ID Study                    Replicate Chemical_Class Metric\n",
       "1 WS    821855 Erlandsson et al. 2020    1        PAH            Weight\n",
       "2 WS    821855 Erlandsson et al. 2020    1        PAH            Weight\n",
       "3 WS   1257056 McCarrick et al. 2024     1        PAH            Weight\n",
       "4 WS    267140 Alfheim and Ramdahl 1984  1        PAH            Volume\n",
       "5 WS   1263480 Burnet et al. 1990        1        PAH            Volume\n",
       "6 WS   1263480 Burnet et al. 1990       NA        PAH            Volume\n",
       "  DTXSID        Name               Value             \n",
       "1 DTXSID3074787 1-Methylanthracene 11.3              \n",
       "2 DTXSID3074787 1-Methylanthracene 2.2999999999999998\n",
       "3 DTXSID3074787 1-Methylanthracene 1.66              \n",
       "4 DTXSID3074787 1-Methylanthracene NA                \n",
       "5 DTXSID3074787 1-Methylanthracene NA                \n",
       "6 DTXSID3074787 1-Methylanthracene NA                "
      ]
     },
     "metadata": {},
     "output_type": "display_data"
    },
    {
     "data": {
      "text/html": [
       "<table class=\"dataframe\">\n",
       "<caption>A data.frame: 6 × 9</caption>\n",
       "<thead>\n",
       "\t<tr><th></th><th scope=col>Data</th><th scope=col>HAWC_ID</th><th scope=col>Study</th><th scope=col>Replicate</th><th scope=col>Chemical_Class</th><th scope=col>Metric</th><th scope=col>DTXSID</th><th scope=col>Name</th><th scope=col>Value</th></tr>\n",
       "\t<tr><th></th><th scope=col>&lt;chr&gt;</th><th scope=col>&lt;dbl&gt;</th><th scope=col>&lt;chr&gt;</th><th scope=col>&lt;dbl&gt;</th><th scope=col>&lt;chr&gt;</th><th scope=col>&lt;chr&gt;</th><th scope=col>&lt;chr&gt;</th><th scope=col>&lt;chr&gt;</th><th scope=col>&lt;chr&gt;</th></tr>\n",
       "</thead>\n",
       "<tbody>\n",
       "\t<tr><th scope=row>1</th><td>WF</td><td>1289821</td><td>Liang et al. 2021   </td><td> 1</td><td>PAH</td><td>Volume</td><td>NA            </td><td>1-(10-methylanthracen-9-yl)ethanone</td><td>5 </td></tr>\n",
       "\t<tr><th scope=row>2</th><td>WF</td><td>1289821</td><td>Liang et al. 2021   </td><td> 1</td><td>PAH</td><td>Volume</td><td>DTXSID50176885</td><td>1-Acenaphthenone                   </td><td>1 </td></tr>\n",
       "\t<tr><th scope=row>3</th><td>WF</td><td>1289737</td><td>Campbell et al. 2024</td><td> 1</td><td>PAH</td><td>Weight</td><td>DTXSID1074759 </td><td>1-Methylchrysene                   </td><td>NA</td></tr>\n",
       "\t<tr><th scope=row>4</th><td>WF</td><td>1289739</td><td>Campos et al. 2019  </td><td> 1</td><td>PAH</td><td>Weight</td><td>DTXSID1074759 </td><td>1-Methylchrysene                   </td><td>NA</td></tr>\n",
       "\t<tr><th scope=row>5</th><td>WF</td><td>1289739</td><td>Campos et al. 2019  </td><td>NA</td><td>PAH</td><td>Weight</td><td>DTXSID1074759 </td><td>1-Methylchrysene                   </td><td>NA</td></tr>\n",
       "\t<tr><th scope=row>6</th><td>WF</td><td>1289739</td><td>Campos et al. 2019  </td><td>NA</td><td>PAH</td><td>Weight</td><td>DTXSID1074759 </td><td>1-Methylchrysene                   </td><td>NA</td></tr>\n",
       "</tbody>\n",
       "</table>\n"
      ],
      "text/latex": [
       "A data.frame: 6 × 9\n",
       "\\begin{tabular}{r|lllllllll}\n",
       "  & Data & HAWC\\_ID & Study & Replicate & Chemical\\_Class & Metric & DTXSID & Name & Value\\\\\n",
       "  & <chr> & <dbl> & <chr> & <dbl> & <chr> & <chr> & <chr> & <chr> & <chr>\\\\\n",
       "\\hline\n",
       "\t1 & WF & 1289821 & Liang et al. 2021    &  1 & PAH & Volume & NA             & 1-(10-methylanthracen-9-yl)ethanone & 5 \\\\\n",
       "\t2 & WF & 1289821 & Liang et al. 2021    &  1 & PAH & Volume & DTXSID50176885 & 1-Acenaphthenone                    & 1 \\\\\n",
       "\t3 & WF & 1289737 & Campbell et al. 2024 &  1 & PAH & Weight & DTXSID1074759  & 1-Methylchrysene                    & NA\\\\\n",
       "\t4 & WF & 1289739 & Campos et al. 2019   &  1 & PAH & Weight & DTXSID1074759  & 1-Methylchrysene                    & NA\\\\\n",
       "\t5 & WF & 1289739 & Campos et al. 2019   & NA & PAH & Weight & DTXSID1074759  & 1-Methylchrysene                    & NA\\\\\n",
       "\t6 & WF & 1289739 & Campos et al. 2019   & NA & PAH & Weight & DTXSID1074759  & 1-Methylchrysene                    & NA\\\\\n",
       "\\end{tabular}\n"
      ],
      "text/markdown": [
       "\n",
       "A data.frame: 6 × 9\n",
       "\n",
       "| <!--/--> | Data &lt;chr&gt; | HAWC_ID &lt;dbl&gt; | Study &lt;chr&gt; | Replicate &lt;dbl&gt; | Chemical_Class &lt;chr&gt; | Metric &lt;chr&gt; | DTXSID &lt;chr&gt; | Name &lt;chr&gt; | Value &lt;chr&gt; |\n",
       "|---|---|---|---|---|---|---|---|---|---|\n",
       "| 1 | WF | 1289821 | Liang et al. 2021    |  1 | PAH | Volume | NA             | 1-(10-methylanthracen-9-yl)ethanone | 5  |\n",
       "| 2 | WF | 1289821 | Liang et al. 2021    |  1 | PAH | Volume | DTXSID50176885 | 1-Acenaphthenone                    | 1  |\n",
       "| 3 | WF | 1289737 | Campbell et al. 2024 |  1 | PAH | Weight | DTXSID1074759  | 1-Methylchrysene                    | NA |\n",
       "| 4 | WF | 1289739 | Campos et al. 2019   |  1 | PAH | Weight | DTXSID1074759  | 1-Methylchrysene                    | NA |\n",
       "| 5 | WF | 1289739 | Campos et al. 2019   | NA | PAH | Weight | DTXSID1074759  | 1-Methylchrysene                    | NA |\n",
       "| 6 | WF | 1289739 | Campos et al. 2019   | NA | PAH | Weight | DTXSID1074759  | 1-Methylchrysene                    | NA |\n",
       "\n"
      ],
      "text/plain": [
       "  Data HAWC_ID Study                Replicate Chemical_Class Metric\n",
       "1 WF   1289821 Liang et al. 2021     1        PAH            Volume\n",
       "2 WF   1289821 Liang et al. 2021     1        PAH            Volume\n",
       "3 WF   1289737 Campbell et al. 2024  1        PAH            Weight\n",
       "4 WF   1289739 Campos et al. 2019    1        PAH            Weight\n",
       "5 WF   1289739 Campos et al. 2019   NA        PAH            Weight\n",
       "6 WF   1289739 Campos et al. 2019   NA        PAH            Weight\n",
       "  DTXSID         Name                                Value\n",
       "1 NA             1-(10-methylanthracen-9-yl)ethanone 5    \n",
       "2 DTXSID50176885 1-Acenaphthenone                    1    \n",
       "3 DTXSID1074759  1-Methylchrysene                    NA   \n",
       "4 DTXSID1074759  1-Methylchrysene                    NA   \n",
       "5 DTXSID1074759  1-Methylchrysene                    NA   \n",
       "6 DTXSID1074759  1-Methylchrysene                    NA   "
      ]
     },
     "metadata": {},
     "output_type": "display_data"
    }
   ],
   "source": [
    "head(ws_df)\n",
    "head(wf_df)"
   ]
  },
  {
   "cell_type": "code",
   "execution_count": 3,
   "id": "3d546e8e-5cdf-4386-b29b-2ac2938366f9",
   "metadata": {},
   "outputs": [
    {
     "data": {
      "text/html": [
       "<style>\n",
       ".list-inline {list-style: none; margin:0; padding: 0}\n",
       ".list-inline>li {display: inline-block}\n",
       ".list-inline>li:not(:last-child)::after {content: \"\\00b7\"; padding: 0 .5ex}\n",
       "</style>\n",
       "<ol class=list-inline><li>6607</li><li>9</li></ol>\n"
      ],
      "text/latex": [
       "\\begin{enumerate*}\n",
       "\\item 6607\n",
       "\\item 9\n",
       "\\end{enumerate*}\n"
      ],
      "text/markdown": [
       "1. 6607\n",
       "2. 9\n",
       "\n",
       "\n"
      ],
      "text/plain": [
       "[1] 6607    9"
      ]
     },
     "metadata": {},
     "output_type": "display_data"
    },
    {
     "data": {
      "text/html": [
       "<style>\n",
       ".list-inline {list-style: none; margin:0; padding: 0}\n",
       ".list-inline>li {display: inline-block}\n",
       ".list-inline>li:not(:last-child)::after {content: \"\\00b7\"; padding: 0 .5ex}\n",
       "</style>\n",
       "<ol class=list-inline><li>4340</li><li>9</li></ol>\n"
      ],
      "text/latex": [
       "\\begin{enumerate*}\n",
       "\\item 4340\n",
       "\\item 9\n",
       "\\end{enumerate*}\n"
      ],
      "text/markdown": [
       "1. 4340\n",
       "2. 9\n",
       "\n",
       "\n"
      ],
      "text/plain": [
       "[1] 4340    9"
      ]
     },
     "metadata": {},
     "output_type": "display_data"
    }
   ],
   "source": [
    "dim(ws_df)\n",
    "dim(wf_df)"
   ]
  },
  {
   "cell_type": "markdown",
   "id": "417a92fb-0524-4038-a5ea-08a56f02a955",
   "metadata": {},
   "source": [
    "# Filter 1\n",
    "\n",
    "Removing duplicate records for instances that weren't measured at all (MAR). "
   ]
  },
  {
   "cell_type": "code",
   "execution_count": 4,
   "id": "9eefd1e4-96f4-48a6-933c-9486ab447115",
   "metadata": {
    "scrolled": true
   },
   "outputs": [],
   "source": [
    "`%notin%` <- Negate(`%in%`)\n",
    "\n",
    "ws_df = ws_df %>%\n",
    "    filter(Replicate %notin% NA)\n",
    "\n",
    "wf_df = wf_df %>%\n",
    "    filter(Replicate %notin% NA)"
   ]
  },
  {
   "cell_type": "code",
   "execution_count": 5,
   "id": "1425c2d3-c1cd-4626-974d-492e320d724e",
   "metadata": {
    "scrolled": true
   },
   "outputs": [
    {
     "data": {
      "text/html": [
       "<style>\n",
       ".list-inline {list-style: none; margin:0; padding: 0}\n",
       ".list-inline>li {display: inline-block}\n",
       ".list-inline>li:not(:last-child)::after {content: \"\\00b7\"; padding: 0 .5ex}\n",
       "</style>\n",
       "<ol class=list-inline><li>4203</li><li>9</li></ol>\n"
      ],
      "text/latex": [
       "\\begin{enumerate*}\n",
       "\\item 4203\n",
       "\\item 9\n",
       "\\end{enumerate*}\n"
      ],
      "text/markdown": [
       "1. 4203\n",
       "2. 9\n",
       "\n",
       "\n"
      ],
      "text/plain": [
       "[1] 4203    9"
      ]
     },
     "metadata": {},
     "output_type": "display_data"
    },
    {
     "data": {
      "text/html": [
       "<style>\n",
       ".list-inline {list-style: none; margin:0; padding: 0}\n",
       ".list-inline>li {display: inline-block}\n",
       ".list-inline>li:not(:last-child)::after {content: \"\\00b7\"; padding: 0 .5ex}\n",
       "</style>\n",
       "<ol class=list-inline><li>2378</li><li>9</li></ol>\n"
      ],
      "text/latex": [
       "\\begin{enumerate*}\n",
       "\\item 2378\n",
       "\\item 9\n",
       "\\end{enumerate*}\n"
      ],
      "text/markdown": [
       "1. 2378\n",
       "2. 9\n",
       "\n",
       "\n"
      ],
      "text/plain": [
       "[1] 2378    9"
      ]
     },
     "metadata": {},
     "output_type": "display_data"
    }
   ],
   "source": [
    "dim(ws_df)\n",
    "dim(wf_df)"
   ]
  },
  {
   "cell_type": "code",
   "execution_count": 6,
   "id": "d9ba0841-95c0-4dfc-a8de-480550341718",
   "metadata": {},
   "outputs": [
    {
     "data": {
      "text/html": [
       "<table class=\"dataframe\">\n",
       "<caption>A data.frame: 6 × 9</caption>\n",
       "<thead>\n",
       "\t<tr><th></th><th scope=col>Data</th><th scope=col>HAWC_ID</th><th scope=col>Study</th><th scope=col>Replicate</th><th scope=col>Chemical_Class</th><th scope=col>Metric</th><th scope=col>DTXSID</th><th scope=col>Name</th><th scope=col>Value</th></tr>\n",
       "\t<tr><th></th><th scope=col>&lt;chr&gt;</th><th scope=col>&lt;dbl&gt;</th><th scope=col>&lt;chr&gt;</th><th scope=col>&lt;dbl&gt;</th><th scope=col>&lt;chr&gt;</th><th scope=col>&lt;chr&gt;</th><th scope=col>&lt;chr&gt;</th><th scope=col>&lt;chr&gt;</th><th scope=col>&lt;chr&gt;</th></tr>\n",
       "</thead>\n",
       "<tbody>\n",
       "\t<tr><th scope=row>1</th><td>WS</td><td> 821855</td><td>Erlandsson et al. 2020  </td><td>1</td><td>PAH</td><td>Weight</td><td>DTXSID3074787</td><td>1-Methylanthracene</td><td>11.3              </td></tr>\n",
       "\t<tr><th scope=row>2</th><td>WS</td><td> 821855</td><td>Erlandsson et al. 2020  </td><td>1</td><td>PAH</td><td>Weight</td><td>DTXSID3074787</td><td>1-Methylanthracene</td><td>2.2999999999999998</td></tr>\n",
       "\t<tr><th scope=row>3</th><td>WS</td><td>1257056</td><td>McCarrick et al. 2024   </td><td>1</td><td>PAH</td><td>Weight</td><td>DTXSID3074787</td><td>1-Methylanthracene</td><td>1.66              </td></tr>\n",
       "\t<tr><th scope=row>4</th><td>WS</td><td> 267140</td><td>Alfheim and Ramdahl 1984</td><td>1</td><td>PAH</td><td>Volume</td><td>DTXSID3074787</td><td>1-Methylanthracene</td><td>NA                </td></tr>\n",
       "\t<tr><th scope=row>5</th><td>WS</td><td>1263480</td><td>Burnet et al. 1990      </td><td>1</td><td>PAH</td><td>Volume</td><td>DTXSID3074787</td><td>1-Methylanthracene</td><td>NA                </td></tr>\n",
       "\t<tr><th scope=row>6</th><td>WS</td><td> 267091</td><td>Forchhammer et al. 2012 </td><td>1</td><td>PAH</td><td>Volume</td><td>DTXSID3074787</td><td>1-Methylanthracene</td><td>NA                </td></tr>\n",
       "</tbody>\n",
       "</table>\n"
      ],
      "text/latex": [
       "A data.frame: 6 × 9\n",
       "\\begin{tabular}{r|lllllllll}\n",
       "  & Data & HAWC\\_ID & Study & Replicate & Chemical\\_Class & Metric & DTXSID & Name & Value\\\\\n",
       "  & <chr> & <dbl> & <chr> & <dbl> & <chr> & <chr> & <chr> & <chr> & <chr>\\\\\n",
       "\\hline\n",
       "\t1 & WS &  821855 & Erlandsson et al. 2020   & 1 & PAH & Weight & DTXSID3074787 & 1-Methylanthracene & 11.3              \\\\\n",
       "\t2 & WS &  821855 & Erlandsson et al. 2020   & 1 & PAH & Weight & DTXSID3074787 & 1-Methylanthracene & 2.2999999999999998\\\\\n",
       "\t3 & WS & 1257056 & McCarrick et al. 2024    & 1 & PAH & Weight & DTXSID3074787 & 1-Methylanthracene & 1.66              \\\\\n",
       "\t4 & WS &  267140 & Alfheim and Ramdahl 1984 & 1 & PAH & Volume & DTXSID3074787 & 1-Methylanthracene & NA                \\\\\n",
       "\t5 & WS & 1263480 & Burnet et al. 1990       & 1 & PAH & Volume & DTXSID3074787 & 1-Methylanthracene & NA                \\\\\n",
       "\t6 & WS &  267091 & Forchhammer et al. 2012  & 1 & PAH & Volume & DTXSID3074787 & 1-Methylanthracene & NA                \\\\\n",
       "\\end{tabular}\n"
      ],
      "text/markdown": [
       "\n",
       "A data.frame: 6 × 9\n",
       "\n",
       "| <!--/--> | Data &lt;chr&gt; | HAWC_ID &lt;dbl&gt; | Study &lt;chr&gt; | Replicate &lt;dbl&gt; | Chemical_Class &lt;chr&gt; | Metric &lt;chr&gt; | DTXSID &lt;chr&gt; | Name &lt;chr&gt; | Value &lt;chr&gt; |\n",
       "|---|---|---|---|---|---|---|---|---|---|\n",
       "| 1 | WS |  821855 | Erlandsson et al. 2020   | 1 | PAH | Weight | DTXSID3074787 | 1-Methylanthracene | 11.3               |\n",
       "| 2 | WS |  821855 | Erlandsson et al. 2020   | 1 | PAH | Weight | DTXSID3074787 | 1-Methylanthracene | 2.2999999999999998 |\n",
       "| 3 | WS | 1257056 | McCarrick et al. 2024    | 1 | PAH | Weight | DTXSID3074787 | 1-Methylanthracene | 1.66               |\n",
       "| 4 | WS |  267140 | Alfheim and Ramdahl 1984 | 1 | PAH | Volume | DTXSID3074787 | 1-Methylanthracene | NA                 |\n",
       "| 5 | WS | 1263480 | Burnet et al. 1990       | 1 | PAH | Volume | DTXSID3074787 | 1-Methylanthracene | NA                 |\n",
       "| 6 | WS |  267091 | Forchhammer et al. 2012  | 1 | PAH | Volume | DTXSID3074787 | 1-Methylanthracene | NA                 |\n",
       "\n"
      ],
      "text/plain": [
       "  Data HAWC_ID Study                    Replicate Chemical_Class Metric\n",
       "1 WS    821855 Erlandsson et al. 2020   1         PAH            Weight\n",
       "2 WS    821855 Erlandsson et al. 2020   1         PAH            Weight\n",
       "3 WS   1257056 McCarrick et al. 2024    1         PAH            Weight\n",
       "4 WS    267140 Alfheim and Ramdahl 1984 1         PAH            Volume\n",
       "5 WS   1263480 Burnet et al. 1990       1         PAH            Volume\n",
       "6 WS    267091 Forchhammer et al. 2012  1         PAH            Volume\n",
       "  DTXSID        Name               Value             \n",
       "1 DTXSID3074787 1-Methylanthracene 11.3              \n",
       "2 DTXSID3074787 1-Methylanthracene 2.2999999999999998\n",
       "3 DTXSID3074787 1-Methylanthracene 1.66              \n",
       "4 DTXSID3074787 1-Methylanthracene NA                \n",
       "5 DTXSID3074787 1-Methylanthracene NA                \n",
       "6 DTXSID3074787 1-Methylanthracene NA                "
      ]
     },
     "metadata": {},
     "output_type": "display_data"
    }
   ],
   "source": [
    "# combining dfs\n",
    "combined_df = rbind(ws_df, wf_df)\n",
    "head(combined_df)"
   ]
  },
  {
   "cell_type": "code",
   "execution_count": 7,
   "id": "6bcf9a9c-639c-46ca-9806-dcb9246095f1",
   "metadata": {},
   "outputs": [
    {
     "data": {
      "text/html": [
       "192"
      ],
      "text/latex": [
       "192"
      ],
      "text/markdown": [
       "192"
      ],
      "text/plain": [
       "[1] 192"
      ]
     },
     "metadata": {},
     "output_type": "display_data"
    }
   ],
   "source": [
    "length(unique(combined_df$Name))"
   ]
  },
  {
   "cell_type": "markdown",
   "id": "adaf5cec-fc80-4902-935a-523fc2d9a106",
   "metadata": {},
   "source": [
    "192 unique variables."
   ]
  },
  {
   "cell_type": "markdown",
   "id": "38fa1e02-9f71-4378-a78f-90f5591ab77b",
   "metadata": {},
   "source": [
    "# Chemical/Metal Background Filters\n",
    "\n",
    "Determining what variables have missing data for all variables delineated based on the dfs the data will be split into and analyzed. \n",
    "\n",
    "A variable (ie. `Name` which represents a chemical or metal) will be retained if >= 50% of its experimental data points were measurable values. In other words, chemicals were excluded if they were NAs (not evaluated) or had non-detect values across > 50% of the samples."
   ]
  },
  {
   "cell_type": "code",
   "execution_count": 8,
   "id": "59c471fe-1657-4356-8ed6-35a8b6244188",
   "metadata": {},
   "outputs": [
    {
     "data": {
      "text/html": [
       "<table class=\"dataframe\">\n",
       "<caption>A tibble: 6 × 4</caption>\n",
       "<thead>\n",
       "\t<tr><th scope=col>HAWC_ID</th><th scope=col>Metric</th><th scope=col>Name</th><th scope=col>Variable_Presence_Percentage</th></tr>\n",
       "\t<tr><th scope=col>&lt;dbl&gt;</th><th scope=col>&lt;chr&gt;</th><th scope=col>&lt;chr&gt;</th><th scope=col>&lt;dbl&gt;</th></tr>\n",
       "</thead>\n",
       "<tbody>\n",
       "\t<tr><td>266980</td><td>Volume</td><td>Acetaldehyde        </td><td>100</td></tr>\n",
       "\t<tr><td>266980</td><td>Volume</td><td>Benzene             </td><td>100</td></tr>\n",
       "\t<tr><td>266980</td><td>Volume</td><td>Benzo(GHI)perylene  </td><td>100</td></tr>\n",
       "\t<tr><td>266980</td><td>Volume</td><td>Benzo(a)pyrene      </td><td>100</td></tr>\n",
       "\t<tr><td>266980</td><td>Volume</td><td>Benzo(b)fluoranthene</td><td>100</td></tr>\n",
       "\t<tr><td>266980</td><td>Volume</td><td>Benzo(k)fluoranthene</td><td>100</td></tr>\n",
       "</tbody>\n",
       "</table>\n"
      ],
      "text/latex": [
       "A tibble: 6 × 4\n",
       "\\begin{tabular}{llll}\n",
       " HAWC\\_ID & Metric & Name & Variable\\_Presence\\_Percentage\\\\\n",
       " <dbl> & <chr> & <chr> & <dbl>\\\\\n",
       "\\hline\n",
       "\t 266980 & Volume & Acetaldehyde         & 100\\\\\n",
       "\t 266980 & Volume & Benzene              & 100\\\\\n",
       "\t 266980 & Volume & Benzo(GHI)perylene   & 100\\\\\n",
       "\t 266980 & Volume & Benzo(a)pyrene       & 100\\\\\n",
       "\t 266980 & Volume & Benzo(b)fluoranthene & 100\\\\\n",
       "\t 266980 & Volume & Benzo(k)fluoranthene & 100\\\\\n",
       "\\end{tabular}\n"
      ],
      "text/markdown": [
       "\n",
       "A tibble: 6 × 4\n",
       "\n",
       "| HAWC_ID &lt;dbl&gt; | Metric &lt;chr&gt; | Name &lt;chr&gt; | Variable_Presence_Percentage &lt;dbl&gt; |\n",
       "|---|---|---|---|\n",
       "| 266980 | Volume | Acetaldehyde         | 100 |\n",
       "| 266980 | Volume | Benzene              | 100 |\n",
       "| 266980 | Volume | Benzo(GHI)perylene   | 100 |\n",
       "| 266980 | Volume | Benzo(a)pyrene       | 100 |\n",
       "| 266980 | Volume | Benzo(b)fluoranthene | 100 |\n",
       "| 266980 | Volume | Benzo(k)fluoranthene | 100 |\n",
       "\n"
      ],
      "text/plain": [
       "  HAWC_ID Metric Name                 Variable_Presence_Percentage\n",
       "1 266980  Volume Acetaldehyde         100                         \n",
       "2 266980  Volume Benzene              100                         \n",
       "3 266980  Volume Benzo(GHI)perylene   100                         \n",
       "4 266980  Volume Benzo(a)pyrene       100                         \n",
       "5 266980  Volume Benzo(b)fluoranthene 100                         \n",
       "6 266980  Volume Benzo(k)fluoranthene 100                         "
      ]
     },
     "metadata": {},
     "output_type": "display_data"
    }
   ],
   "source": [
    "sample_type_presence_df = combined_df %>%\n",
    "    # if an experimental value is there count it as being \"present\"\n",
    "    mutate(count = ifelse(Value %notin% c('NA', 'ND'), 1, 0)) %>%\n",
    "    # determining which have at least one experimental value within each sample type\n",
    "    group_by(HAWC_ID, Metric, Name) %>%\n",
    "    # calculating the percentage of experimental data points\n",
    "    reframe(Variable_Presence_Percentage = (sum(count)/n()) * 100) %>%\n",
    "    filter(Variable_Presence_Percentage >= 50)\n",
    "\n",
    "head(sample_type_presence_df)"
   ]
  },
  {
   "cell_type": "code",
   "execution_count": 9,
   "id": "e9e0b6d6-d46b-4f37-81e9-f71cbf5eaefd",
   "metadata": {},
   "outputs": [
    {
     "name": "stderr",
     "output_type": "stream",
     "text": [
      "\u001b[1m\u001b[22mJoining with `by = join_by(HAWC_ID, Metric, Name)`\n"
     ]
    },
    {
     "data": {
      "text/html": [
       "<table class=\"dataframe\">\n",
       "<caption>A tibble: 6 × 9</caption>\n",
       "<thead>\n",
       "\t<tr><th scope=col>HAWC_ID</th><th scope=col>Metric</th><th scope=col>Name</th><th scope=col>Data</th><th scope=col>Study</th><th scope=col>Replicate</th><th scope=col>Chemical_Class</th><th scope=col>DTXSID</th><th scope=col>Value</th></tr>\n",
       "\t<tr><th scope=col>&lt;dbl&gt;</th><th scope=col>&lt;chr&gt;</th><th scope=col>&lt;chr&gt;</th><th scope=col>&lt;chr&gt;</th><th scope=col>&lt;chr&gt;</th><th scope=col>&lt;dbl&gt;</th><th scope=col>&lt;chr&gt;</th><th scope=col>&lt;chr&gt;</th><th scope=col>&lt;chr&gt;</th></tr>\n",
       "</thead>\n",
       "<tbody>\n",
       "\t<tr><td>266980</td><td>Volume</td><td>Acetaldehyde      </td><td>WS</td><td>Stockfelt et al. 2012</td><td>1</td><td>VOC</td><td>DTXSID5039224</td><td>71000</td></tr>\n",
       "\t<tr><td>266980</td><td>Volume</td><td>Acetaldehyde      </td><td>WS</td><td>Stockfelt et al. 2012</td><td>2</td><td>VOC</td><td>DTXSID5039224</td><td>37000</td></tr>\n",
       "\t<tr><td>266980</td><td>Volume</td><td>Benzene           </td><td>WS</td><td>Stockfelt et al. 2012</td><td>1</td><td>VOC</td><td>DTXSID3039242</td><td>33000</td></tr>\n",
       "\t<tr><td>266980</td><td>Volume</td><td>Benzene           </td><td>WS</td><td>Stockfelt et al. 2012</td><td>2</td><td>VOC</td><td>DTXSID3039242</td><td>21000</td></tr>\n",
       "\t<tr><td>266980</td><td>Volume</td><td>Benzo(GHI)perylene</td><td>WS</td><td>Stockfelt et al. 2012</td><td>1</td><td>PAH</td><td>DTXSID5023908</td><td>41   </td></tr>\n",
       "\t<tr><td>266980</td><td>Volume</td><td>Benzo(GHI)perylene</td><td>WS</td><td>Stockfelt et al. 2012</td><td>2</td><td>PAH</td><td>DTXSID5023908</td><td>11   </td></tr>\n",
       "</tbody>\n",
       "</table>\n"
      ],
      "text/latex": [
       "A tibble: 6 × 9\n",
       "\\begin{tabular}{lllllllll}\n",
       " HAWC\\_ID & Metric & Name & Data & Study & Replicate & Chemical\\_Class & DTXSID & Value\\\\\n",
       " <dbl> & <chr> & <chr> & <chr> & <chr> & <dbl> & <chr> & <chr> & <chr>\\\\\n",
       "\\hline\n",
       "\t 266980 & Volume & Acetaldehyde       & WS & Stockfelt et al. 2012 & 1 & VOC & DTXSID5039224 & 71000\\\\\n",
       "\t 266980 & Volume & Acetaldehyde       & WS & Stockfelt et al. 2012 & 2 & VOC & DTXSID5039224 & 37000\\\\\n",
       "\t 266980 & Volume & Benzene            & WS & Stockfelt et al. 2012 & 1 & VOC & DTXSID3039242 & 33000\\\\\n",
       "\t 266980 & Volume & Benzene            & WS & Stockfelt et al. 2012 & 2 & VOC & DTXSID3039242 & 21000\\\\\n",
       "\t 266980 & Volume & Benzo(GHI)perylene & WS & Stockfelt et al. 2012 & 1 & PAH & DTXSID5023908 & 41   \\\\\n",
       "\t 266980 & Volume & Benzo(GHI)perylene & WS & Stockfelt et al. 2012 & 2 & PAH & DTXSID5023908 & 11   \\\\\n",
       "\\end{tabular}\n"
      ],
      "text/markdown": [
       "\n",
       "A tibble: 6 × 9\n",
       "\n",
       "| HAWC_ID &lt;dbl&gt; | Metric &lt;chr&gt; | Name &lt;chr&gt; | Data &lt;chr&gt; | Study &lt;chr&gt; | Replicate &lt;dbl&gt; | Chemical_Class &lt;chr&gt; | DTXSID &lt;chr&gt; | Value &lt;chr&gt; |\n",
       "|---|---|---|---|---|---|---|---|---|\n",
       "| 266980 | Volume | Acetaldehyde       | WS | Stockfelt et al. 2012 | 1 | VOC | DTXSID5039224 | 71000 |\n",
       "| 266980 | Volume | Acetaldehyde       | WS | Stockfelt et al. 2012 | 2 | VOC | DTXSID5039224 | 37000 |\n",
       "| 266980 | Volume | Benzene            | WS | Stockfelt et al. 2012 | 1 | VOC | DTXSID3039242 | 33000 |\n",
       "| 266980 | Volume | Benzene            | WS | Stockfelt et al. 2012 | 2 | VOC | DTXSID3039242 | 21000 |\n",
       "| 266980 | Volume | Benzo(GHI)perylene | WS | Stockfelt et al. 2012 | 1 | PAH | DTXSID5023908 | 41    |\n",
       "| 266980 | Volume | Benzo(GHI)perylene | WS | Stockfelt et al. 2012 | 2 | PAH | DTXSID5023908 | 11    |\n",
       "\n"
      ],
      "text/plain": [
       "  HAWC_ID Metric Name               Data Study                 Replicate\n",
       "1 266980  Volume Acetaldehyde       WS   Stockfelt et al. 2012 1        \n",
       "2 266980  Volume Acetaldehyde       WS   Stockfelt et al. 2012 2        \n",
       "3 266980  Volume Benzene            WS   Stockfelt et al. 2012 1        \n",
       "4 266980  Volume Benzene            WS   Stockfelt et al. 2012 2        \n",
       "5 266980  Volume Benzo(GHI)perylene WS   Stockfelt et al. 2012 1        \n",
       "6 266980  Volume Benzo(GHI)perylene WS   Stockfelt et al. 2012 2        \n",
       "  Chemical_Class DTXSID        Value\n",
       "1 VOC            DTXSID5039224 71000\n",
       "2 VOC            DTXSID5039224 37000\n",
       "3 VOC            DTXSID3039242 33000\n",
       "4 VOC            DTXSID3039242 21000\n",
       "5 PAH            DTXSID5023908 41   \n",
       "6 PAH            DTXSID5023908 11   "
      ]
     },
     "metadata": {},
     "output_type": "display_data"
    }
   ],
   "source": [
    "# filtering the original df\n",
    "filter1_df = inner_join(sample_type_presence_df[,1:3], combined_df) %>%\n",
    "    # metals don't have a DTXSID, so making that col their name\n",
    "    mutate(DTXSID = ifelse(DTXSID != 'NA', DTXSID, Name)) \n",
    "\n",
    "head(filter1_df)"
   ]
  },
  {
   "cell_type": "code",
   "execution_count": 10,
   "id": "326df55e-15f1-4704-969d-2e19d7cf54fd",
   "metadata": {},
   "outputs": [
    {
     "data": {
      "text/html": [
       "<style>\n",
       ".list-inline {list-style: none; margin:0; padding: 0}\n",
       ".list-inline>li {display: inline-block}\n",
       ".list-inline>li:not(:last-child)::after {content: \"\\00b7\"; padding: 0 .5ex}\n",
       "</style>\n",
       "<ol class=list-inline><li>6581</li><li>9</li></ol>\n"
      ],
      "text/latex": [
       "\\begin{enumerate*}\n",
       "\\item 6581\n",
       "\\item 9\n",
       "\\end{enumerate*}\n"
      ],
      "text/markdown": [
       "1. 6581\n",
       "2. 9\n",
       "\n",
       "\n"
      ],
      "text/plain": [
       "[1] 6581    9"
      ]
     },
     "metadata": {},
     "output_type": "display_data"
    },
    {
     "data": {
      "text/html": [
       "<style>\n",
       ".list-inline {list-style: none; margin:0; padding: 0}\n",
       ".list-inline>li {display: inline-block}\n",
       ".list-inline>li:not(:last-child)::after {content: \"\\00b7\"; padding: 0 .5ex}\n",
       "</style>\n",
       "<ol class=list-inline><li>4189</li><li>9</li></ol>\n"
      ],
      "text/latex": [
       "\\begin{enumerate*}\n",
       "\\item 4189\n",
       "\\item 9\n",
       "\\end{enumerate*}\n"
      ],
      "text/markdown": [
       "1. 4189\n",
       "2. 9\n",
       "\n",
       "\n"
      ],
      "text/plain": [
       "[1] 4189    9"
      ]
     },
     "metadata": {},
     "output_type": "display_data"
    }
   ],
   "source": [
    "dim(combined_df)\n",
    "dim(filter1_df)"
   ]
  },
  {
   "attachments": {},
   "cell_type": "markdown",
   "id": "4381c9fa-35cb-46e1-ae82-bf3eb59764fa",
   "metadata": {},
   "source": [
    "Started with 6581 records, 2392 were removed, leaving 4189. \n",
    "\n",
    "# Second Chemical/Metal Background Filter\n",
    "\n",
    "In the intial filter, WS and WF samples were combined. However, this time variables (ie. metal or chemical) will be split based on their `Metric` (ie. volume or weight) and then retained if that variable is found in both woodsmoke and wildfire samples within volume or weight samples."
   ]
  },
  {
   "cell_type": "code",
   "execution_count": 11,
   "id": "00ed4b32-8851-48f9-a680-c4277545ea8d",
   "metadata": {},
   "outputs": [],
   "source": [
    "split_filtered_df = filter1_df %>%\n",
    "    group_by(Data, Metric) %>%\n",
    "    group_split\n",
    "\n",
    "split_ws_vol_df = split_filtered_df[[3]]\n",
    "split_ws_weight_df = split_filtered_df[[4]]\n",
    "split_wf_vol_df = split_filtered_df[[1]]\n",
    "split_wf_weight_df = split_filtered_df[[2]]"
   ]
  },
  {
   "cell_type": "code",
   "execution_count": 12,
   "id": "c52b40df-d2c5-4604-8fa8-a5f31ad46df7",
   "metadata": {},
   "outputs": [
    {
     "data": {
      "text/html": [
       "98"
      ],
      "text/latex": [
       "98"
      ],
      "text/markdown": [
       "98"
      ],
      "text/plain": [
       "[1] 98"
      ]
     },
     "metadata": {},
     "output_type": "display_data"
    },
    {
     "data": {
      "text/html": [
       "68"
      ],
      "text/latex": [
       "68"
      ],
      "text/markdown": [
       "68"
      ],
      "text/plain": [
       "[1] 68"
      ]
     },
     "metadata": {},
     "output_type": "display_data"
    },
    {
     "data": {
      "text/html": [
       "94"
      ],
      "text/latex": [
       "94"
      ],
      "text/markdown": [
       "94"
      ],
      "text/plain": [
       "[1] 94"
      ]
     },
     "metadata": {},
     "output_type": "display_data"
    },
    {
     "data": {
      "text/html": [
       "70"
      ],
      "text/latex": [
       "70"
      ],
      "text/markdown": [
       "70"
      ],
      "text/plain": [
       "[1] 70"
      ]
     },
     "metadata": {},
     "output_type": "display_data"
    }
   ],
   "source": [
    "# seeing how many unique variables are in each df and if they're consistent in each file\n",
    "length(unique(split_ws_vol_df$Name))\n",
    "length(unique(split_wf_vol_df$Name))\n",
    "length(unique(split_ws_weight_df$Name))\n",
    "length(unique(split_wf_weight_df$Name))"
   ]
  },
  {
   "cell_type": "code",
   "execution_count": 13,
   "id": "97f266f6-d8ee-44ce-a9ab-cc96acfcbf2f",
   "metadata": {},
   "outputs": [
    {
     "data": {
      "text/html": [
       "33"
      ],
      "text/latex": [
       "33"
      ],
      "text/markdown": [
       "33"
      ],
      "text/plain": [
       "[1] 33"
      ]
     },
     "metadata": {},
     "output_type": "display_data"
    },
    {
     "data": {
      "text/html": [
       "33"
      ],
      "text/latex": [
       "33"
      ],
      "text/markdown": [
       "33"
      ],
      "text/plain": [
       "[1] 33"
      ]
     },
     "metadata": {},
     "output_type": "display_data"
    },
    {
     "data": {
      "text/html": [
       "34"
      ],
      "text/latex": [
       "34"
      ],
      "text/markdown": [
       "34"
      ],
      "text/plain": [
       "[1] 34"
      ]
     },
     "metadata": {},
     "output_type": "display_data"
    },
    {
     "data": {
      "text/html": [
       "34"
      ],
      "text/latex": [
       "34"
      ],
      "text/markdown": [
       "34"
      ],
      "text/plain": [
       "[1] 34"
      ]
     },
     "metadata": {},
     "output_type": "display_data"
    }
   ],
   "source": [
    "# they're not so first getting variables that are in weight or volume samples\n",
    "consistent_wf_vol_df = split_wf_vol_df %>%\n",
    "    filter(Name %in% unique(split_ws_vol_df$Name))\n",
    "consistent_ws_vol_df = split_ws_vol_df %>%\n",
    "    filter(Name %in% consistent_wf_vol_df$Name)\n",
    "consistent_wf_weight_df = split_wf_weight_df %>%\n",
    "    filter(Name %in% unique(split_ws_weight_df$Name))\n",
    "consistent_ws_weight_df = split_ws_weight_df %>%\n",
    "    filter(Name %in% consistent_wf_weight_df$Name)\n",
    "\n",
    "length(unique(consistent_wf_vol_df$Name))\n",
    "length(unique(consistent_ws_vol_df$Name))\n",
    "length(unique(consistent_wf_weight_df$Name))\n",
    "length(unique(consistent_ws_weight_df$Name))"
   ]
  },
  {
   "cell_type": "markdown",
   "id": "4b604def-71e1-482c-ab06-ed64e9e7d830",
   "metadata": {},
   "source": [
    "There were 98, 68, 94 and 70 woodsmoke weight, woodsmoke volume, wildfire weight, and wildfire volume samples, respectively. 33 variables were common between volume samples and 34 were common between weight records and will be retained."
   ]
  },
  {
   "cell_type": "code",
   "execution_count": 14,
   "id": "0d22def2-eb27-4093-8bbe-8a7c8082b9ce",
   "metadata": {},
   "outputs": [
    {
     "data": {
      "text/html": [
       "<table class=\"dataframe\">\n",
       "<caption>A tibble: 6 × 9</caption>\n",
       "<thead>\n",
       "\t<tr><th scope=col>HAWC_ID</th><th scope=col>Metric</th><th scope=col>Name</th><th scope=col>Data</th><th scope=col>Study</th><th scope=col>Replicate</th><th scope=col>Chemical_Class</th><th scope=col>DTXSID</th><th scope=col>Value</th></tr>\n",
       "\t<tr><th scope=col>&lt;dbl&gt;</th><th scope=col>&lt;chr&gt;</th><th scope=col>&lt;chr&gt;</th><th scope=col>&lt;chr&gt;</th><th scope=col>&lt;chr&gt;</th><th scope=col>&lt;dbl&gt;</th><th scope=col>&lt;chr&gt;</th><th scope=col>&lt;chr&gt;</th><th scope=col>&lt;chr&gt;</th></tr>\n",
       "</thead>\n",
       "<tbody>\n",
       "\t<tr><td>266980</td><td>Volume</td><td>Benzene             </td><td>WS</td><td>Stockfelt et al. 2012</td><td>1</td><td>VOC</td><td>DTXSID3039242</td><td>33000</td></tr>\n",
       "\t<tr><td>266980</td><td>Volume</td><td>Benzene             </td><td>WS</td><td>Stockfelt et al. 2012</td><td>2</td><td>VOC</td><td>DTXSID3039242</td><td>21000</td></tr>\n",
       "\t<tr><td>266980</td><td>Volume</td><td>Benzo(GHI)perylene  </td><td>WS</td><td>Stockfelt et al. 2012</td><td>1</td><td>PAH</td><td>DTXSID5023908</td><td>41   </td></tr>\n",
       "\t<tr><td>266980</td><td>Volume</td><td>Benzo(GHI)perylene  </td><td>WS</td><td>Stockfelt et al. 2012</td><td>2</td><td>PAH</td><td>DTXSID5023908</td><td>11   </td></tr>\n",
       "\t<tr><td>266980</td><td>Volume</td><td>Benzo(k)fluoranthene</td><td>WS</td><td>Stockfelt et al. 2012</td><td>1</td><td>PAH</td><td>DTXSID0023909</td><td>23   </td></tr>\n",
       "\t<tr><td>266980</td><td>Volume</td><td>Benzo(k)fluoranthene</td><td>WS</td><td>Stockfelt et al. 2012</td><td>2</td><td>PAH</td><td>DTXSID0023909</td><td>4.5  </td></tr>\n",
       "</tbody>\n",
       "</table>\n"
      ],
      "text/latex": [
       "A tibble: 6 × 9\n",
       "\\begin{tabular}{lllllllll}\n",
       " HAWC\\_ID & Metric & Name & Data & Study & Replicate & Chemical\\_Class & DTXSID & Value\\\\\n",
       " <dbl> & <chr> & <chr> & <chr> & <chr> & <dbl> & <chr> & <chr> & <chr>\\\\\n",
       "\\hline\n",
       "\t 266980 & Volume & Benzene              & WS & Stockfelt et al. 2012 & 1 & VOC & DTXSID3039242 & 33000\\\\\n",
       "\t 266980 & Volume & Benzene              & WS & Stockfelt et al. 2012 & 2 & VOC & DTXSID3039242 & 21000\\\\\n",
       "\t 266980 & Volume & Benzo(GHI)perylene   & WS & Stockfelt et al. 2012 & 1 & PAH & DTXSID5023908 & 41   \\\\\n",
       "\t 266980 & Volume & Benzo(GHI)perylene   & WS & Stockfelt et al. 2012 & 2 & PAH & DTXSID5023908 & 11   \\\\\n",
       "\t 266980 & Volume & Benzo(k)fluoranthene & WS & Stockfelt et al. 2012 & 1 & PAH & DTXSID0023909 & 23   \\\\\n",
       "\t 266980 & Volume & Benzo(k)fluoranthene & WS & Stockfelt et al. 2012 & 2 & PAH & DTXSID0023909 & 4.5  \\\\\n",
       "\\end{tabular}\n"
      ],
      "text/markdown": [
       "\n",
       "A tibble: 6 × 9\n",
       "\n",
       "| HAWC_ID &lt;dbl&gt; | Metric &lt;chr&gt; | Name &lt;chr&gt; | Data &lt;chr&gt; | Study &lt;chr&gt; | Replicate &lt;dbl&gt; | Chemical_Class &lt;chr&gt; | DTXSID &lt;chr&gt; | Value &lt;chr&gt; |\n",
       "|---|---|---|---|---|---|---|---|---|\n",
       "| 266980 | Volume | Benzene              | WS | Stockfelt et al. 2012 | 1 | VOC | DTXSID3039242 | 33000 |\n",
       "| 266980 | Volume | Benzene              | WS | Stockfelt et al. 2012 | 2 | VOC | DTXSID3039242 | 21000 |\n",
       "| 266980 | Volume | Benzo(GHI)perylene   | WS | Stockfelt et al. 2012 | 1 | PAH | DTXSID5023908 | 41    |\n",
       "| 266980 | Volume | Benzo(GHI)perylene   | WS | Stockfelt et al. 2012 | 2 | PAH | DTXSID5023908 | 11    |\n",
       "| 266980 | Volume | Benzo(k)fluoranthene | WS | Stockfelt et al. 2012 | 1 | PAH | DTXSID0023909 | 23    |\n",
       "| 266980 | Volume | Benzo(k)fluoranthene | WS | Stockfelt et al. 2012 | 2 | PAH | DTXSID0023909 | 4.5   |\n",
       "\n"
      ],
      "text/plain": [
       "  HAWC_ID Metric Name                 Data Study                 Replicate\n",
       "1 266980  Volume Benzene              WS   Stockfelt et al. 2012 1        \n",
       "2 266980  Volume Benzene              WS   Stockfelt et al. 2012 2        \n",
       "3 266980  Volume Benzo(GHI)perylene   WS   Stockfelt et al. 2012 1        \n",
       "4 266980  Volume Benzo(GHI)perylene   WS   Stockfelt et al. 2012 2        \n",
       "5 266980  Volume Benzo(k)fluoranthene WS   Stockfelt et al. 2012 1        \n",
       "6 266980  Volume Benzo(k)fluoranthene WS   Stockfelt et al. 2012 2        \n",
       "  Chemical_Class DTXSID        Value\n",
       "1 VOC            DTXSID3039242 33000\n",
       "2 VOC            DTXSID3039242 21000\n",
       "3 PAH            DTXSID5023908 41   \n",
       "4 PAH            DTXSID5023908 11   \n",
       "5 PAH            DTXSID0023909 23   \n",
       "6 PAH            DTXSID0023909 4.5  "
      ]
     },
     "metadata": {},
     "output_type": "display_data"
    }
   ],
   "source": [
    "# recombining data\n",
    "vol_df = rbind(consistent_ws_vol_df, consistent_wf_vol_df)\n",
    "weight_df = rbind(consistent_ws_weight_df, consistent_wf_weight_df)\n",
    "\n",
    "head(vol_df)"
   ]
  },
  {
   "cell_type": "markdown",
   "id": "12249f65-761e-4dbc-8231-8c455e6d3120",
   "metadata": {},
   "source": [
    "# QRILC Imputation\n",
    "\n",
    "Imputing non-detect data using QRILC didn't work, so I'm just replacing the non-detect data with zeros."
   ]
  },
  {
   "cell_type": "code",
   "execution_count": 15,
   "id": "c4f84ca8-8863-4741-9959-12962607f18f",
   "metadata": {
    "scrolled": true
   },
   "outputs": [
    {
     "data": {
      "text/html": [
       "<table class=\"dataframe\">\n",
       "<caption>A tibble: 0 × 2</caption>\n",
       "<thead>\n",
       "\t<tr><th scope=col>Value</th><th scope=col>n()</th></tr>\n",
       "\t<tr><th scope=col>&lt;chr&gt;</th><th scope=col>&lt;int&gt;</th></tr>\n",
       "</thead>\n",
       "<tbody>\n",
       "</tbody>\n",
       "</table>\n"
      ],
      "text/latex": [
       "A tibble: 0 × 2\n",
       "\\begin{tabular}{ll}\n",
       " Value & n()\\\\\n",
       " <chr> & <int>\\\\\n",
       "\\hline\n",
       "\\end{tabular}\n"
      ],
      "text/markdown": [
       "\n",
       "A tibble: 0 × 2\n",
       "\n",
       "| Value &lt;chr&gt; | n() &lt;int&gt; |\n",
       "|---|---|\n",
       "\n"
      ],
      "text/plain": [
       "     Value n()"
      ]
     },
     "metadata": {},
     "output_type": "display_data"
    },
    {
     "data": {
      "text/html": [
       "<table class=\"dataframe\">\n",
       "<caption>A tibble: 2 × 2</caption>\n",
       "<thead>\n",
       "\t<tr><th scope=col>Value</th><th scope=col>n()</th></tr>\n",
       "\t<tr><th scope=col>&lt;chr&gt;</th><th scope=col>&lt;int&gt;</th></tr>\n",
       "</thead>\n",
       "<tbody>\n",
       "\t<tr><td>NA</td><td> 2</td></tr>\n",
       "\t<tr><td>ND</td><td>34</td></tr>\n",
       "</tbody>\n",
       "</table>\n"
      ],
      "text/latex": [
       "A tibble: 2 × 2\n",
       "\\begin{tabular}{ll}\n",
       " Value & n()\\\\\n",
       " <chr> & <int>\\\\\n",
       "\\hline\n",
       "\t NA &  2\\\\\n",
       "\t ND & 34\\\\\n",
       "\\end{tabular}\n"
      ],
      "text/markdown": [
       "\n",
       "A tibble: 2 × 2\n",
       "\n",
       "| Value &lt;chr&gt; | n() &lt;int&gt; |\n",
       "|---|---|\n",
       "| NA |  2 |\n",
       "| ND | 34 |\n",
       "\n"
      ],
      "text/plain": [
       "  Value n()\n",
       "1 NA     2 \n",
       "2 ND    34 "
      ]
     },
     "metadata": {},
     "output_type": "display_data"
    }
   ],
   "source": [
    "# determining number of ND and NA values in each df\n",
    "vol_df %>%\n",
    "    filter(Value %in% c('NA', 'ND')) %>%\n",
    "    group_by(Value) %>%\n",
    "    summarize(n())\n",
    "\n",
    "weight_df %>%\n",
    "    filter(Value %in% c('NA', 'ND')) %>%\n",
    "    group_by(Value) %>%\n",
    "    summarize(n())"
   ]
  },
  {
   "cell_type": "code",
   "execution_count": 16,
   "id": "25feeaaa-7ace-4a97-8dc5-4d3b6f23af2c",
   "metadata": {},
   "outputs": [
    {
     "data": {
      "text/html": [
       "<style>\n",
       ".list-inline {list-style: none; margin:0; padding: 0}\n",
       ".list-inline>li {display: inline-block}\n",
       ".list-inline>li:not(:last-child)::after {content: \"\\00b7\"; padding: 0 .5ex}\n",
       "</style>\n",
       "<ol class=list-inline><li>744</li><li>9</li></ol>\n"
      ],
      "text/latex": [
       "\\begin{enumerate*}\n",
       "\\item 744\n",
       "\\item 9\n",
       "\\end{enumerate*}\n"
      ],
      "text/markdown": [
       "1. 744\n",
       "2. 9\n",
       "\n",
       "\n"
      ],
      "text/plain": [
       "[1] 744   9"
      ]
     },
     "metadata": {},
     "output_type": "display_data"
    },
    {
     "data": {
      "text/html": [
       "<style>\n",
       ".list-inline {list-style: none; margin:0; padding: 0}\n",
       ".list-inline>li {display: inline-block}\n",
       ".list-inline>li:not(:last-child)::after {content: \"\\00b7\"; padding: 0 .5ex}\n",
       "</style>\n",
       "<ol class=list-inline><li>1411</li><li>9</li></ol>\n"
      ],
      "text/latex": [
       "\\begin{enumerate*}\n",
       "\\item 1411\n",
       "\\item 9\n",
       "\\end{enumerate*}\n"
      ],
      "text/markdown": [
       "1. 1411\n",
       "2. 9\n",
       "\n",
       "\n"
      ],
      "text/plain": [
       "[1] 1411    9"
      ]
     },
     "metadata": {},
     "output_type": "display_data"
    }
   ],
   "source": [
    "dim(vol_df)\n",
    "dim(weight_df)"
   ]
  },
  {
   "cell_type": "markdown",
   "id": "172b8ad6-4504-434a-85f2-c1b460503fc6",
   "metadata": {},
   "source": [
    "Only the weight dataframe had non-detect values representing MNAR data. The remaining MAR data from the weight df will be imputed using random forest (RF)."
   ]
  },
  {
   "cell_type": "code",
   "execution_count": 17,
   "id": "21e2dbe6-cac4-49c8-bd4f-d33282fad336",
   "metadata": {},
   "outputs": [
    {
     "name": "stderr",
     "output_type": "stream",
     "text": [
      "\u001b[1m\u001b[22mJoining with `by = join_by(HAWC_ID, Metric, Name, Data, Study, Replicate,\n",
      "Chemical_Class, DTXSID, Value)`\n",
      "Warning message:\n",
      "“NAs introduced by coercion”\n",
      "Warning message:\n",
      "“NAs introduced by coercion”\n"
     ]
    },
    {
     "data": {
      "text/html": [
       "<table class=\"dataframe\">\n",
       "<caption>A tibble: 6 × 9</caption>\n",
       "<thead>\n",
       "\t<tr><th scope=col>HAWC_ID</th><th scope=col>Metric</th><th scope=col>Data</th><th scope=col>Study</th><th scope=col>Replicate</th><th scope=col>Chemical_Class</th><th scope=col>DTXSID</th><th scope=col>Name</th><th scope=col>Value</th></tr>\n",
       "\t<tr><th scope=col>&lt;dbl&gt;</th><th scope=col>&lt;chr&gt;</th><th scope=col>&lt;chr&gt;</th><th scope=col>&lt;chr&gt;</th><th scope=col>&lt;dbl&gt;</th><th scope=col>&lt;chr&gt;</th><th scope=col>&lt;chr&gt;</th><th scope=col>&lt;chr&gt;</th><th scope=col>&lt;dbl&gt;</th></tr>\n",
       "</thead>\n",
       "<tbody>\n",
       "\t<tr><td>267105</td><td>Weight</td><td>WS</td><td>Danielsen et al. 2011</td><td>1</td><td>PAH  </td><td>DTXSID4020878</td><td>2-Methylphenanthrene</td><td>10.0</td></tr>\n",
       "\t<tr><td>267105</td><td>Weight</td><td>WS</td><td>Danielsen et al. 2011</td><td>2</td><td>PAH  </td><td>DTXSID4020878</td><td>2-Methylphenanthrene</td><td>37.0</td></tr>\n",
       "\t<tr><td>267105</td><td>Weight</td><td>WS</td><td>Danielsen et al. 2011</td><td>1</td><td>Metal</td><td>Cr           </td><td>Cr                  </td><td>21.4</td></tr>\n",
       "\t<tr><td>267105</td><td>Weight</td><td>WS</td><td>Danielsen et al. 2011</td><td>2</td><td>Metal</td><td>Cr           </td><td>Cr                  </td><td>21.3</td></tr>\n",
       "\t<tr><td>267105</td><td>Weight</td><td>WS</td><td>Danielsen et al. 2011</td><td>1</td><td>Metal</td><td>Cu           </td><td>Cu                  </td><td>65.6</td></tr>\n",
       "\t<tr><td>267105</td><td>Weight</td><td>WS</td><td>Danielsen et al. 2011</td><td>2</td><td>Metal</td><td>Cu           </td><td>Cu                  </td><td>34.4</td></tr>\n",
       "</tbody>\n",
       "</table>\n"
      ],
      "text/latex": [
       "A tibble: 6 × 9\n",
       "\\begin{tabular}{lllllllll}\n",
       " HAWC\\_ID & Metric & Data & Study & Replicate & Chemical\\_Class & DTXSID & Name & Value\\\\\n",
       " <dbl> & <chr> & <chr> & <chr> & <dbl> & <chr> & <chr> & <chr> & <dbl>\\\\\n",
       "\\hline\n",
       "\t 267105 & Weight & WS & Danielsen et al. 2011 & 1 & PAH   & DTXSID4020878 & 2-Methylphenanthrene & 10.0\\\\\n",
       "\t 267105 & Weight & WS & Danielsen et al. 2011 & 2 & PAH   & DTXSID4020878 & 2-Methylphenanthrene & 37.0\\\\\n",
       "\t 267105 & Weight & WS & Danielsen et al. 2011 & 1 & Metal & Cr            & Cr                   & 21.4\\\\\n",
       "\t 267105 & Weight & WS & Danielsen et al. 2011 & 2 & Metal & Cr            & Cr                   & 21.3\\\\\n",
       "\t 267105 & Weight & WS & Danielsen et al. 2011 & 1 & Metal & Cu            & Cu                   & 65.6\\\\\n",
       "\t 267105 & Weight & WS & Danielsen et al. 2011 & 2 & Metal & Cu            & Cu                   & 34.4\\\\\n",
       "\\end{tabular}\n"
      ],
      "text/markdown": [
       "\n",
       "A tibble: 6 × 9\n",
       "\n",
       "| HAWC_ID &lt;dbl&gt; | Metric &lt;chr&gt; | Data &lt;chr&gt; | Study &lt;chr&gt; | Replicate &lt;dbl&gt; | Chemical_Class &lt;chr&gt; | DTXSID &lt;chr&gt; | Name &lt;chr&gt; | Value &lt;dbl&gt; |\n",
       "|---|---|---|---|---|---|---|---|---|\n",
       "| 267105 | Weight | WS | Danielsen et al. 2011 | 1 | PAH   | DTXSID4020878 | 2-Methylphenanthrene | 10.0 |\n",
       "| 267105 | Weight | WS | Danielsen et al. 2011 | 2 | PAH   | DTXSID4020878 | 2-Methylphenanthrene | 37.0 |\n",
       "| 267105 | Weight | WS | Danielsen et al. 2011 | 1 | Metal | Cr            | Cr                   | 21.4 |\n",
       "| 267105 | Weight | WS | Danielsen et al. 2011 | 2 | Metal | Cr            | Cr                   | 21.3 |\n",
       "| 267105 | Weight | WS | Danielsen et al. 2011 | 1 | Metal | Cu            | Cu                   | 65.6 |\n",
       "| 267105 | Weight | WS | Danielsen et al. 2011 | 2 | Metal | Cu            | Cu                   | 34.4 |\n",
       "\n"
      ],
      "text/plain": [
       "  HAWC_ID Metric Data Study                 Replicate Chemical_Class\n",
       "1 267105  Weight WS   Danielsen et al. 2011 1         PAH           \n",
       "2 267105  Weight WS   Danielsen et al. 2011 2         PAH           \n",
       "3 267105  Weight WS   Danielsen et al. 2011 1         Metal         \n",
       "4 267105  Weight WS   Danielsen et al. 2011 2         Metal         \n",
       "5 267105  Weight WS   Danielsen et al. 2011 1         Metal         \n",
       "6 267105  Weight WS   Danielsen et al. 2011 2         Metal         \n",
       "  DTXSID        Name                 Value\n",
       "1 DTXSID4020878 2-Methylphenanthrene 10.0 \n",
       "2 DTXSID4020878 2-Methylphenanthrene 37.0 \n",
       "3 Cr            Cr                   21.4 \n",
       "4 Cr            Cr                   21.3 \n",
       "5 Cu            Cu                   65.6 \n",
       "6 Cu            Cu                   34.4 "
      ]
     },
     "metadata": {},
     "output_type": "display_data"
    }
   ],
   "source": [
    "mar_weight_df = weight_df %>%\n",
    "    filter(Value == 'NA')\n",
    "\n",
    "preimputed_df = anti_join(weight_df, mar_weight_df) \n",
    "preimputed_df$Value = as.numeric(preimputed_df$Value)\n",
    "mar_weight_df$Value = as.numeric(mar_weight_df$Value)\n",
    "\n",
    "# reordering\n",
    "preimputed_df = preimputed_df[,c(1,2,4:8,3,9)]\n",
    "\n",
    "head(preimputed_df)"
   ]
  },
  {
   "cell_type": "markdown",
   "id": "f5028e06-a501-4014-ba39-9de90161bfdb",
   "metadata": {},
   "source": [
    "Gave up on QRILC imputation for all mnar data, since I didn't have enough instances to impute within each study. I also couldn't impute across the entire dataset given that the number of data instances for each study wasn't the same. Therefore, sample groups were assigned a value of 0 if they had two or fewer instances."
   ]
  },
  {
   "cell_type": "code",
   "execution_count": 18,
   "id": "d03d3050-db40-4caa-aa75-41121548cee8",
   "metadata": {
    "scrolled": true
   },
   "outputs": [
    {
     "data": {
      "text/html": [
       "<table class=\"dataframe\">\n",
       "<caption>A tibble: 6 × 9</caption>\n",
       "<thead>\n",
       "\t<tr><th scope=col>HAWC_ID</th><th scope=col>Metric</th><th scope=col>Data</th><th scope=col>Study</th><th scope=col>Replicate</th><th scope=col>Chemical_Class</th><th scope=col>DTXSID</th><th scope=col>Name</th><th scope=col>Value</th></tr>\n",
       "\t<tr><th scope=col>&lt;dbl&gt;</th><th scope=col>&lt;chr&gt;</th><th scope=col>&lt;chr&gt;</th><th scope=col>&lt;chr&gt;</th><th scope=col>&lt;dbl&gt;</th><th scope=col>&lt;chr&gt;</th><th scope=col>&lt;chr&gt;</th><th scope=col>&lt;chr&gt;</th><th scope=col>&lt;dbl&gt;</th></tr>\n",
       "</thead>\n",
       "<tbody>\n",
       "\t<tr><td>271638</td><td>Weight</td><td>WS</td><td>Jalava et al. 2012</td><td>4</td><td>PAH</td><td>DTXSID3021774</td><td>Acenaphthene</td><td>NA</td></tr>\n",
       "\t<tr><td>271638</td><td>Weight</td><td>WS</td><td>Jalava et al. 2012</td><td>6</td><td>PAH</td><td>DTXSID3021774</td><td>Acenaphthene</td><td>NA</td></tr>\n",
       "\t<tr><td>271638</td><td>Weight</td><td>WS</td><td>Jalava et al. 2012</td><td>7</td><td>PAH</td><td>DTXSID3021774</td><td>Acenaphthene</td><td>NA</td></tr>\n",
       "\t<tr><td>271638</td><td>Weight</td><td>WS</td><td>Jalava et al. 2012</td><td>6</td><td>PAH</td><td>DTXSID5047740</td><td>Coronene    </td><td>NA</td></tr>\n",
       "\t<tr><td>271769</td><td>Weight</td><td>WS</td><td>Uski et al. 2012  </td><td>4</td><td>PAH</td><td>DTXSID3021774</td><td>Acenaphthene</td><td>NA</td></tr>\n",
       "\t<tr><td>271769</td><td>Weight</td><td>WS</td><td>Uski et al. 2012  </td><td>6</td><td>PAH</td><td>DTXSID3021774</td><td>Acenaphthene</td><td>NA</td></tr>\n",
       "</tbody>\n",
       "</table>\n"
      ],
      "text/latex": [
       "A tibble: 6 × 9\n",
       "\\begin{tabular}{lllllllll}\n",
       " HAWC\\_ID & Metric & Data & Study & Replicate & Chemical\\_Class & DTXSID & Name & Value\\\\\n",
       " <dbl> & <chr> & <chr> & <chr> & <dbl> & <chr> & <chr> & <chr> & <dbl>\\\\\n",
       "\\hline\n",
       "\t 271638 & Weight & WS & Jalava et al. 2012 & 4 & PAH & DTXSID3021774 & Acenaphthene & NA\\\\\n",
       "\t 271638 & Weight & WS & Jalava et al. 2012 & 6 & PAH & DTXSID3021774 & Acenaphthene & NA\\\\\n",
       "\t 271638 & Weight & WS & Jalava et al. 2012 & 7 & PAH & DTXSID3021774 & Acenaphthene & NA\\\\\n",
       "\t 271638 & Weight & WS & Jalava et al. 2012 & 6 & PAH & DTXSID5047740 & Coronene     & NA\\\\\n",
       "\t 271769 & Weight & WS & Uski et al. 2012   & 4 & PAH & DTXSID3021774 & Acenaphthene & NA\\\\\n",
       "\t 271769 & Weight & WS & Uski et al. 2012   & 6 & PAH & DTXSID3021774 & Acenaphthene & NA\\\\\n",
       "\\end{tabular}\n"
      ],
      "text/markdown": [
       "\n",
       "A tibble: 6 × 9\n",
       "\n",
       "| HAWC_ID &lt;dbl&gt; | Metric &lt;chr&gt; | Data &lt;chr&gt; | Study &lt;chr&gt; | Replicate &lt;dbl&gt; | Chemical_Class &lt;chr&gt; | DTXSID &lt;chr&gt; | Name &lt;chr&gt; | Value &lt;dbl&gt; |\n",
       "|---|---|---|---|---|---|---|---|---|\n",
       "| 271638 | Weight | WS | Jalava et al. 2012 | 4 | PAH | DTXSID3021774 | Acenaphthene | NA |\n",
       "| 271638 | Weight | WS | Jalava et al. 2012 | 6 | PAH | DTXSID3021774 | Acenaphthene | NA |\n",
       "| 271638 | Weight | WS | Jalava et al. 2012 | 7 | PAH | DTXSID3021774 | Acenaphthene | NA |\n",
       "| 271638 | Weight | WS | Jalava et al. 2012 | 6 | PAH | DTXSID5047740 | Coronene     | NA |\n",
       "| 271769 | Weight | WS | Uski et al. 2012   | 4 | PAH | DTXSID3021774 | Acenaphthene | NA |\n",
       "| 271769 | Weight | WS | Uski et al. 2012   | 6 | PAH | DTXSID3021774 | Acenaphthene | NA |\n",
       "\n"
      ],
      "text/plain": [
       "  HAWC_ID Metric Data Study              Replicate Chemical_Class DTXSID       \n",
       "1 271638  Weight WS   Jalava et al. 2012 4         PAH            DTXSID3021774\n",
       "2 271638  Weight WS   Jalava et al. 2012 6         PAH            DTXSID3021774\n",
       "3 271638  Weight WS   Jalava et al. 2012 7         PAH            DTXSID3021774\n",
       "4 271638  Weight WS   Jalava et al. 2012 6         PAH            DTXSID5047740\n",
       "5 271769  Weight WS   Uski et al. 2012   4         PAH            DTXSID3021774\n",
       "6 271769  Weight WS   Uski et al. 2012   6         PAH            DTXSID3021774\n",
       "  Name         Value\n",
       "1 Acenaphthene NA   \n",
       "2 Acenaphthene NA   \n",
       "3 Acenaphthene NA   \n",
       "4 Coronene     NA   \n",
       "5 Acenaphthene NA   \n",
       "6 Acenaphthene NA   "
      ]
     },
     "metadata": {},
     "output_type": "display_data"
    }
   ],
   "source": [
    "# creating a df for mnar data\n",
    "mnar_df = preimputed_df %>%\n",
    "    filter(is.na(Value)) \n",
    "\n",
    "mnar_df[c(9:12,15,22:27,30:34),9] = 0\n",
    "head(mnar_df)"
   ]
  },
  {
   "cell_type": "code",
   "execution_count": 19,
   "id": "21633c0a-a9ed-4067-99f6-75312cc877f1",
   "metadata": {},
   "outputs": [],
   "source": [
    "QRILC_imputation = function(dataset){\n",
    "    set.seed(12)\n",
    "      # \"\"\"\n",
    "    # Creating a quantile normalization function to normalize each sample.\n",
    "    # :param (input): exposed and unexposed (vehicle) dfs\n",
    "    # :output: 1 quantile normalized df\n",
    "    # \"\"\"\n",
    "    #ADD WORDS\n",
    "    wider_dataset = dataset %>% \n",
    "        # removing these cols temporarily \n",
    "        select(-c(\"Chemical_Class\", \"Name\")) %>%\n",
    "        pivot_wider(names_from = DTXSID, values_from = Value)\n",
    "\n",
    "    # normalizing data since that what the QRILC function wants\n",
    "    # had to pseudo log transform to prevent Inf values\n",
    "    QRILC_prep = wider_dataset[,6:ncol(wider_dataset)] %>%\n",
    "         mutate_all(., function(x) log10(x + 1)) %>%\n",
    "         as.matrix()\n",
    "                        \n",
    "    imputed_QRILC_object = impute.QRILC(QRILC_prep, tune.sigma = 0.1)\n",
    "    QRILC_log10_df = data.frame(imputed_QRILC_object[1]) \n",
    "    \n",
    "    # converting back the original scale\n",
    "    QRILC_df = QRILC_log10_df %>%\n",
    "        mutate_all(., function(x) 10^x - 1)\n",
    "    \n",
    "    imputed_dataset = data.frame(cbind(unique(dataset[,1:5]), QRILC_df)) %>%\n",
    "         pivot_longer(cols = 6:ncol(wider_dataset), names_to = \"DTXSID\", values_to = \"Value\")         \n",
    "\n",
    "    return(imputed_dataset)\n",
    "\n",
    "}"
   ]
  },
  {
   "cell_type": "code",
   "execution_count": 20,
   "id": "067dc934-b139-443d-82f5-5100ec735bc4",
   "metadata": {},
   "outputs": [
    {
     "name": "stderr",
     "output_type": "stream",
     "text": [
      "\u001b[1m\u001b[22mJoining with `by = join_by(HAWC_ID, Metric, Data, Study, Replicate, DTXSID)`\n"
     ]
    },
    {
     "data": {
      "text/html": [
       "<table class=\"dataframe\">\n",
       "<caption>A tibble: 6 × 9</caption>\n",
       "<thead>\n",
       "\t<tr><th scope=col>HAWC_ID</th><th scope=col>Metric</th><th scope=col>Data</th><th scope=col>Study</th><th scope=col>Replicate</th><th scope=col>Chemical_Class</th><th scope=col>DTXSID</th><th scope=col>Name</th><th scope=col>Value</th></tr>\n",
       "\t<tr><th scope=col>&lt;dbl&gt;</th><th scope=col>&lt;chr&gt;</th><th scope=col>&lt;chr&gt;</th><th scope=col>&lt;chr&gt;</th><th scope=col>&lt;dbl&gt;</th><th scope=col>&lt;chr&gt;</th><th scope=col>&lt;chr&gt;</th><th scope=col>&lt;chr&gt;</th><th scope=col>&lt;dbl&gt;</th></tr>\n",
       "</thead>\n",
       "<tbody>\n",
       "\t<tr><td>271638</td><td>Weight</td><td>WS</td><td>Jalava et al. 2012</td><td>1</td><td>PAH  </td><td>DTXSID3021774</td><td>Acenaphthene        </td><td> 132.7</td></tr>\n",
       "\t<tr><td>271638</td><td>Weight</td><td>WS</td><td>Jalava et al. 2012</td><td>1</td><td>PAH  </td><td>DTXSID4075459</td><td>Benzo(c)phenanthrene</td><td> 493.9</td></tr>\n",
       "\t<tr><td>271638</td><td>Weight</td><td>WS</td><td>Jalava et al. 2012</td><td>1</td><td>PAH  </td><td>DTXSID8052691</td><td>Benzo(j)fluoranthene</td><td> 617.3</td></tr>\n",
       "\t<tr><td>271638</td><td>Weight</td><td>WS</td><td>Jalava et al. 2012</td><td>1</td><td>Metal</td><td>Ca           </td><td>Ca                  </td><td>1140.0</td></tr>\n",
       "\t<tr><td>271638</td><td>Weight</td><td>WS</td><td>Jalava et al. 2012</td><td>1</td><td>PAH  </td><td>DTXSID5047740</td><td>Coronene            </td><td>  75.5</td></tr>\n",
       "\t<tr><td>271638</td><td>Weight</td><td>WS</td><td>Jalava et al. 2012</td><td>1</td><td>PAH  </td><td>DTXSID6062591</td><td>Cyclopenta(cd)pyrene</td><td>1067.0</td></tr>\n",
       "</tbody>\n",
       "</table>\n"
      ],
      "text/latex": [
       "A tibble: 6 × 9\n",
       "\\begin{tabular}{lllllllll}\n",
       " HAWC\\_ID & Metric & Data & Study & Replicate & Chemical\\_Class & DTXSID & Name & Value\\\\\n",
       " <dbl> & <chr> & <chr> & <chr> & <dbl> & <chr> & <chr> & <chr> & <dbl>\\\\\n",
       "\\hline\n",
       "\t 271638 & Weight & WS & Jalava et al. 2012 & 1 & PAH   & DTXSID3021774 & Acenaphthene         &  132.7\\\\\n",
       "\t 271638 & Weight & WS & Jalava et al. 2012 & 1 & PAH   & DTXSID4075459 & Benzo(c)phenanthrene &  493.9\\\\\n",
       "\t 271638 & Weight & WS & Jalava et al. 2012 & 1 & PAH   & DTXSID8052691 & Benzo(j)fluoranthene &  617.3\\\\\n",
       "\t 271638 & Weight & WS & Jalava et al. 2012 & 1 & Metal & Ca            & Ca                   & 1140.0\\\\\n",
       "\t 271638 & Weight & WS & Jalava et al. 2012 & 1 & PAH   & DTXSID5047740 & Coronene             &   75.5\\\\\n",
       "\t 271638 & Weight & WS & Jalava et al. 2012 & 1 & PAH   & DTXSID6062591 & Cyclopenta(cd)pyrene & 1067.0\\\\\n",
       "\\end{tabular}\n"
      ],
      "text/markdown": [
       "\n",
       "A tibble: 6 × 9\n",
       "\n",
       "| HAWC_ID &lt;dbl&gt; | Metric &lt;chr&gt; | Data &lt;chr&gt; | Study &lt;chr&gt; | Replicate &lt;dbl&gt; | Chemical_Class &lt;chr&gt; | DTXSID &lt;chr&gt; | Name &lt;chr&gt; | Value &lt;dbl&gt; |\n",
       "|---|---|---|---|---|---|---|---|---|\n",
       "| 271638 | Weight | WS | Jalava et al. 2012 | 1 | PAH   | DTXSID3021774 | Acenaphthene         |  132.7 |\n",
       "| 271638 | Weight | WS | Jalava et al. 2012 | 1 | PAH   | DTXSID4075459 | Benzo(c)phenanthrene |  493.9 |\n",
       "| 271638 | Weight | WS | Jalava et al. 2012 | 1 | PAH   | DTXSID8052691 | Benzo(j)fluoranthene |  617.3 |\n",
       "| 271638 | Weight | WS | Jalava et al. 2012 | 1 | Metal | Ca            | Ca                   | 1140.0 |\n",
       "| 271638 | Weight | WS | Jalava et al. 2012 | 1 | PAH   | DTXSID5047740 | Coronene             |   75.5 |\n",
       "| 271638 | Weight | WS | Jalava et al. 2012 | 1 | PAH   | DTXSID6062591 | Cyclopenta(cd)pyrene | 1067.0 |\n",
       "\n"
      ],
      "text/plain": [
       "  HAWC_ID Metric Data Study              Replicate Chemical_Class DTXSID       \n",
       "1 271638  Weight WS   Jalava et al. 2012 1         PAH            DTXSID3021774\n",
       "2 271638  Weight WS   Jalava et al. 2012 1         PAH            DTXSID4075459\n",
       "3 271638  Weight WS   Jalava et al. 2012 1         PAH            DTXSID8052691\n",
       "4 271638  Weight WS   Jalava et al. 2012 1         Metal          Ca           \n",
       "5 271638  Weight WS   Jalava et al. 2012 1         PAH            DTXSID5047740\n",
       "6 271638  Weight WS   Jalava et al. 2012 1         PAH            DTXSID6062591\n",
       "  Name                 Value \n",
       "1 Acenaphthene          132.7\n",
       "2 Benzo(c)phenanthrene  493.9\n",
       "3 Benzo(j)fluoranthene  617.3\n",
       "4 Ca                   1140.0\n",
       "5 Coronene               75.5\n",
       "6 Cyclopenta(cd)pyrene 1067.0"
      ]
     },
     "metadata": {},
     "output_type": "display_data"
    }
   ],
   "source": [
    "# will impute within each study\n",
    "df_for_ids = mnar_df[is.na(mnar_df$Value),]\n",
    "study_ids = unique(df_for_ids$HAWC_ID)\n",
    "\n",
    "imputed_df = data.frame()\n",
    "for (i in 1:length(study_ids)){\n",
    "\n",
    "    filtered_df = preimputed_df %>%\n",
    "        filter(HAWC_ID == study_ids[i])\n",
    "\n",
    "    # calling fn\n",
    "    imp_df = QRILC_imputation(filtered_df)\n",
    "    imputed_df = rbind(imputed_df, imp_df)\n",
    "    \n",
    "}\n",
    "# adding back in additional cols\n",
    "imputed_df = inner_join(unique(imputed_df), unique(weight_df[,1:8]))\n",
    "imputed_df = imputed_df[,c(1:5,9,6,8,7)]\n",
    "\n",
    "head(imputed_df)"
   ]
  },
  {
   "cell_type": "code",
   "execution_count": 21,
   "id": "1e23e74f-00fc-48d5-a263-3df792097fdd",
   "metadata": {},
   "outputs": [
    {
     "data": {
      "text/html": [
       "<table class=\"dataframe\">\n",
       "<caption>A tibble: 6 × 9</caption>\n",
       "<thead>\n",
       "\t<tr><th scope=col>HAWC_ID</th><th scope=col>Metric</th><th scope=col>Data</th><th scope=col>Study</th><th scope=col>Replicate</th><th scope=col>Chemical_Class</th><th scope=col>DTXSID</th><th scope=col>Name</th><th scope=col>Value</th></tr>\n",
       "\t<tr><th scope=col>&lt;dbl&gt;</th><th scope=col>&lt;chr&gt;</th><th scope=col>&lt;chr&gt;</th><th scope=col>&lt;chr&gt;</th><th scope=col>&lt;dbl&gt;</th><th scope=col>&lt;chr&gt;</th><th scope=col>&lt;chr&gt;</th><th scope=col>&lt;chr&gt;</th><th scope=col>&lt;dbl&gt;</th></tr>\n",
       "</thead>\n",
       "<tbody>\n",
       "\t<tr><td>271638</td><td>Weight</td><td>WS</td><td>Jalava et al. 2012</td><td>1</td><td>PAH  </td><td>DTXSID3021774</td><td>Acenaphthene        </td><td> 132.7</td></tr>\n",
       "\t<tr><td>271638</td><td>Weight</td><td>WS</td><td>Jalava et al. 2012</td><td>1</td><td>PAH  </td><td>DTXSID4075459</td><td>Benzo(c)phenanthrene</td><td> 493.9</td></tr>\n",
       "\t<tr><td>271638</td><td>Weight</td><td>WS</td><td>Jalava et al. 2012</td><td>1</td><td>PAH  </td><td>DTXSID8052691</td><td>Benzo(j)fluoranthene</td><td> 617.3</td></tr>\n",
       "\t<tr><td>271638</td><td>Weight</td><td>WS</td><td>Jalava et al. 2012</td><td>1</td><td>Metal</td><td>Ca           </td><td>Ca                  </td><td>1140.0</td></tr>\n",
       "\t<tr><td>271638</td><td>Weight</td><td>WS</td><td>Jalava et al. 2012</td><td>1</td><td>PAH  </td><td>DTXSID5047740</td><td>Coronene            </td><td>  75.5</td></tr>\n",
       "\t<tr><td>271638</td><td>Weight</td><td>WS</td><td>Jalava et al. 2012</td><td>1</td><td>PAH  </td><td>DTXSID6062591</td><td>Cyclopenta(cd)pyrene</td><td>1067.0</td></tr>\n",
       "</tbody>\n",
       "</table>\n"
      ],
      "text/latex": [
       "A tibble: 6 × 9\n",
       "\\begin{tabular}{lllllllll}\n",
       " HAWC\\_ID & Metric & Data & Study & Replicate & Chemical\\_Class & DTXSID & Name & Value\\\\\n",
       " <dbl> & <chr> & <chr> & <chr> & <dbl> & <chr> & <chr> & <chr> & <dbl>\\\\\n",
       "\\hline\n",
       "\t 271638 & Weight & WS & Jalava et al. 2012 & 1 & PAH   & DTXSID3021774 & Acenaphthene         &  132.7\\\\\n",
       "\t 271638 & Weight & WS & Jalava et al. 2012 & 1 & PAH   & DTXSID4075459 & Benzo(c)phenanthrene &  493.9\\\\\n",
       "\t 271638 & Weight & WS & Jalava et al. 2012 & 1 & PAH   & DTXSID8052691 & Benzo(j)fluoranthene &  617.3\\\\\n",
       "\t 271638 & Weight & WS & Jalava et al. 2012 & 1 & Metal & Ca            & Ca                   & 1140.0\\\\\n",
       "\t 271638 & Weight & WS & Jalava et al. 2012 & 1 & PAH   & DTXSID5047740 & Coronene             &   75.5\\\\\n",
       "\t 271638 & Weight & WS & Jalava et al. 2012 & 1 & PAH   & DTXSID6062591 & Cyclopenta(cd)pyrene & 1067.0\\\\\n",
       "\\end{tabular}\n"
      ],
      "text/markdown": [
       "\n",
       "A tibble: 6 × 9\n",
       "\n",
       "| HAWC_ID &lt;dbl&gt; | Metric &lt;chr&gt; | Data &lt;chr&gt; | Study &lt;chr&gt; | Replicate &lt;dbl&gt; | Chemical_Class &lt;chr&gt; | DTXSID &lt;chr&gt; | Name &lt;chr&gt; | Value &lt;dbl&gt; |\n",
       "|---|---|---|---|---|---|---|---|---|\n",
       "| 271638 | Weight | WS | Jalava et al. 2012 | 1 | PAH   | DTXSID3021774 | Acenaphthene         |  132.7 |\n",
       "| 271638 | Weight | WS | Jalava et al. 2012 | 1 | PAH   | DTXSID4075459 | Benzo(c)phenanthrene |  493.9 |\n",
       "| 271638 | Weight | WS | Jalava et al. 2012 | 1 | PAH   | DTXSID8052691 | Benzo(j)fluoranthene |  617.3 |\n",
       "| 271638 | Weight | WS | Jalava et al. 2012 | 1 | Metal | Ca            | Ca                   | 1140.0 |\n",
       "| 271638 | Weight | WS | Jalava et al. 2012 | 1 | PAH   | DTXSID5047740 | Coronene             |   75.5 |\n",
       "| 271638 | Weight | WS | Jalava et al. 2012 | 1 | PAH   | DTXSID6062591 | Cyclopenta(cd)pyrene | 1067.0 |\n",
       "\n"
      ],
      "text/plain": [
       "  HAWC_ID Metric Data Study              Replicate Chemical_Class DTXSID       \n",
       "1 271638  Weight WS   Jalava et al. 2012 1         PAH            DTXSID3021774\n",
       "2 271638  Weight WS   Jalava et al. 2012 1         PAH            DTXSID4075459\n",
       "3 271638  Weight WS   Jalava et al. 2012 1         PAH            DTXSID8052691\n",
       "4 271638  Weight WS   Jalava et al. 2012 1         Metal          Ca           \n",
       "5 271638  Weight WS   Jalava et al. 2012 1         PAH            DTXSID5047740\n",
       "6 271638  Weight WS   Jalava et al. 2012 1         PAH            DTXSID6062591\n",
       "  Name                 Value \n",
       "1 Acenaphthene          132.7\n",
       "2 Benzo(c)phenanthrene  493.9\n",
       "3 Benzo(j)fluoranthene  617.3\n",
       "4 Ca                   1140.0\n",
       "5 Coronene               75.5\n",
       "6 Cyclopenta(cd)pyrene 1067.0"
      ]
     },
     "metadata": {},
     "output_type": "display_data"
    },
    {
     "data": {
      "text/html": [
       "<style>\n",
       ".list-inline {list-style: none; margin:0; padding: 0}\n",
       ".list-inline>li {display: inline-block}\n",
       ".list-inline>li:not(:last-child)::after {content: \"\\00b7\"; padding: 0 .5ex}\n",
       "</style>\n",
       "<ol class=list-inline><li>1411</li><li>9</li></ol>\n"
      ],
      "text/latex": [
       "\\begin{enumerate*}\n",
       "\\item 1411\n",
       "\\item 9\n",
       "\\end{enumerate*}\n"
      ],
      "text/markdown": [
       "1. 1411\n",
       "2. 9\n",
       "\n",
       "\n"
      ],
      "text/plain": [
       "[1] 1411    9"
      ]
     },
     "metadata": {},
     "output_type": "display_data"
    },
    {
     "data": {
      "text/html": [
       "<style>\n",
       ".list-inline {list-style: none; margin:0; padding: 0}\n",
       ".list-inline>li {display: inline-block}\n",
       ".list-inline>li:not(:last-child)::after {content: \"\\00b7\"; padding: 0 .5ex}\n",
       "</style>\n",
       "<ol class=list-inline><li>1248</li><li>9</li></ol>\n"
      ],
      "text/latex": [
       "\\begin{enumerate*}\n",
       "\\item 1248\n",
       "\\item 9\n",
       "\\end{enumerate*}\n"
      ],
      "text/markdown": [
       "1. 1248\n",
       "2. 9\n",
       "\n",
       "\n"
      ],
      "text/plain": [
       "[1] 1248    9"
      ]
     },
     "metadata": {},
     "output_type": "display_data"
    }
   ],
   "source": [
    "imputed_weight_df = rbind(imputed_df, \n",
    "                          # adding back in non-imputed data\n",
    "                          preimputed_df %>%\n",
    "                              filter(HAWC_ID %notin% unique(mnar_df$HAWC_ID)),\n",
    "                          # adding back in mar data\n",
    "                          mar_weight_df, \n",
    "                          # adding back in mnar data that was converted to zeros\n",
    "                          mnar_df[!is.na(mnar_df$Value),])\n",
    "\n",
    "head(imputed_weight_df)\n",
    "dim(weight_df)\n",
    "dim(imputed_weight_df)"
   ]
  },
  {
   "cell_type": "code",
   "execution_count": 22,
   "id": "1ad3549a-de5e-4c0b-a545-e7ba6dd6f1ac",
   "metadata": {
    "scrolled": true
   },
   "outputs": [],
   "source": [
    "# length(unique(imputed_df$HAWC_ID))\n",
    "# length(unique(mar_weight_df$HAWC_ID))\n",
    "# bleh = mnar_df[!is.na(mnar_df$Value),]\n",
    "# length(unique(bleh$HAWC_ID))    \n",
    "# bleh2 = drop_na(preimputed_df) %>%\n",
    "#                                filter(HAWC_ID %notin% unique(mnar_df$HAWC_ID))\n",
    "# length(unique(bleh2$HAWC_ID))    \n",
    "# length(unique(weight_df$HAWC_ID))\n",
    "\n",
    "# x = c(unique(imputed_df$HAWC_ID), unique(mar_weight_df$HAWC_ID),unique(bleh$HAWC_ID), unique(bleh2$HAWC_ID))\n",
    "# x[duplicated(x)]\n",
    "\n",
    "# weight_df %>%\n",
    "#     filter(HAWC_ID %in% x[duplicated(x)][1])"
   ]
  },
  {
   "cell_type": "code",
   "execution_count": 23,
   "id": "89514a1a-bd15-4077-8895-502d193609cf",
   "metadata": {},
   "outputs": [],
   "source": [
    "# dim(imputed_df)\n",
    "# dim(mar_weight_df)\n",
    "# dim(mnar_df[!is.na(mnar_df$Value),])\n",
    "# dim(drop_na(preimputed_df) %>%\n",
    "#                               filter(HAWC_ID %notin% unique(mnar_df$HAWC_ID)))"
   ]
  },
  {
   "cell_type": "code",
   "execution_count": 24,
   "id": "9d01d866-d661-4b4c-b14b-6df9ce77d1f0",
   "metadata": {},
   "outputs": [],
   "source": [
    "# avg_df = preimputed_df %>%\n",
    "#     group_by(HAWC_ID, Name) %>%\n",
    "#     mutate(Avg_Value = mean(Value)) %>%\n",
    "#     select(-c(\"Value\", \"Replicate\")) %>%\n",
    "#     unique()\n",
    "\n",
    "# head(avg_df)"
   ]
  },
  {
   "cell_type": "markdown",
   "id": "5f4d134a-b801-4a28-bc8a-086319521b88",
   "metadata": {},
   "source": [
    "# RF Imputation"
   ]
  },
  {
   "cell_type": "code",
   "execution_count": 25,
   "id": "f585ce82-69ed-4c15-9764-099830f74e75",
   "metadata": {
    "scrolled": true
   },
   "outputs": [
    {
     "name": "stderr",
     "output_type": "stream",
     "text": [
      "Warning message in randomForest.default(x = obsX, y = obsY, ntree = ntree, mtry = mtry, :\n",
      "“The response has five or fewer unique values.  Are you sure you want to do regression?”\n",
      "Warning message in randomForest.default(x = obsX, y = obsY, ntree = ntree, mtry = mtry, :\n",
      "“The response has five or fewer unique values.  Are you sure you want to do regression?”\n",
      "Warning message in randomForest.default(x = obsX, y = obsY, ntree = ntree, mtry = mtry, :\n",
      "“The response has five or fewer unique values.  Are you sure you want to do regression?”\n",
      "Warning message in randomForest.default(x = obsX, y = obsY, ntree = ntree, mtry = mtry, :\n",
      "“The response has five or fewer unique values.  Are you sure you want to do regression?”\n",
      "Warning message in randomForest.default(x = obsX, y = obsY, ntree = ntree, mtry = mtry, :\n",
      "“The response has five or fewer unique values.  Are you sure you want to do regression?”\n",
      "Warning message in randomForest.default(x = obsX, y = obsY, ntree = ntree, mtry = mtry, :\n",
      "“The response has five or fewer unique values.  Are you sure you want to do regression?”\n",
      "Warning message in randomForest.default(x = obsX, y = obsY, ntree = ntree, mtry = mtry, :\n",
      "“The response has five or fewer unique values.  Are you sure you want to do regression?”\n",
      "Warning message in randomForest.default(x = obsX, y = obsY, ntree = ntree, mtry = mtry, :\n",
      "“The response has five or fewer unique values.  Are you sure you want to do regression?”\n",
      "Warning message in randomForest.default(x = obsX, y = obsY, ntree = ntree, mtry = mtry, :\n",
      "“The response has five or fewer unique values.  Are you sure you want to do regression?”\n",
      "Warning message in randomForest.default(x = obsX, y = obsY, ntree = ntree, mtry = mtry, :\n",
      "“The response has five or fewer unique values.  Are you sure you want to do regression?”\n",
      "\u001b[1m\u001b[22mJoining with `by = join_by(HAWC_ID, Metric, Data, Study, Replicate, DTXSID)`\n"
     ]
    },
    {
     "data": {
      "text/html": [
       "<table class=\"dataframe\">\n",
       "<caption>A tibble: 6 × 9</caption>\n",
       "<thead>\n",
       "\t<tr><th scope=col>HAWC_ID</th><th scope=col>Metric</th><th scope=col>Data</th><th scope=col>Study</th><th scope=col>Replicate</th><th scope=col>Chemical_Class</th><th scope=col>DTXSID</th><th scope=col>Name</th><th scope=col>Value</th></tr>\n",
       "\t<tr><th scope=col>&lt;dbl&gt;</th><th scope=col>&lt;chr&gt;</th><th scope=col>&lt;chr&gt;</th><th scope=col>&lt;chr&gt;</th><th scope=col>&lt;dbl&gt;</th><th scope=col>&lt;chr&gt;</th><th scope=col>&lt;chr&gt;</th><th scope=col>&lt;chr&gt;</th><th scope=col>&lt;dbl&gt;</th></tr>\n",
       "</thead>\n",
       "<tbody>\n",
       "\t<tr><td>279220</td><td>Weight</td><td>WS</td><td>Kasurinen et al. 2017</td><td>1</td><td>Metal</td><td>Ca</td><td>Ca</td><td>  980.0</td></tr>\n",
       "\t<tr><td>279220</td><td>Weight</td><td>WS</td><td>Kasurinen et al. 2017</td><td>1</td><td>Metal</td><td>Cr</td><td>Cr</td><td>   74.0</td></tr>\n",
       "\t<tr><td>279220</td><td>Weight</td><td>WS</td><td>Kasurinen et al. 2017</td><td>1</td><td>Metal</td><td>Cu</td><td>Cu</td><td>  360.0</td></tr>\n",
       "\t<tr><td>279220</td><td>Weight</td><td>WS</td><td>Kasurinen et al. 2017</td><td>1</td><td>Metal</td><td>Fe</td><td>Fe</td><td>  340.0</td></tr>\n",
       "\t<tr><td>279220</td><td>Weight</td><td>WS</td><td>Kasurinen et al. 2017</td><td>1</td><td>Metal</td><td>K </td><td>K </td><td>12000.0</td></tr>\n",
       "\t<tr><td>279220</td><td>Weight</td><td>WS</td><td>Kasurinen et al. 2017</td><td>1</td><td>Metal</td><td>Mn</td><td>Mn</td><td>  275.9</td></tr>\n",
       "</tbody>\n",
       "</table>\n"
      ],
      "text/latex": [
       "A tibble: 6 × 9\n",
       "\\begin{tabular}{lllllllll}\n",
       " HAWC\\_ID & Metric & Data & Study & Replicate & Chemical\\_Class & DTXSID & Name & Value\\\\\n",
       " <dbl> & <chr> & <chr> & <chr> & <dbl> & <chr> & <chr> & <chr> & <dbl>\\\\\n",
       "\\hline\n",
       "\t 279220 & Weight & WS & Kasurinen et al. 2017 & 1 & Metal & Ca & Ca &   980.0\\\\\n",
       "\t 279220 & Weight & WS & Kasurinen et al. 2017 & 1 & Metal & Cr & Cr &    74.0\\\\\n",
       "\t 279220 & Weight & WS & Kasurinen et al. 2017 & 1 & Metal & Cu & Cu &   360.0\\\\\n",
       "\t 279220 & Weight & WS & Kasurinen et al. 2017 & 1 & Metal & Fe & Fe &   340.0\\\\\n",
       "\t 279220 & Weight & WS & Kasurinen et al. 2017 & 1 & Metal & K  & K  & 12000.0\\\\\n",
       "\t 279220 & Weight & WS & Kasurinen et al. 2017 & 1 & Metal & Mn & Mn &   275.9\\\\\n",
       "\\end{tabular}\n"
      ],
      "text/markdown": [
       "\n",
       "A tibble: 6 × 9\n",
       "\n",
       "| HAWC_ID &lt;dbl&gt; | Metric &lt;chr&gt; | Data &lt;chr&gt; | Study &lt;chr&gt; | Replicate &lt;dbl&gt; | Chemical_Class &lt;chr&gt; | DTXSID &lt;chr&gt; | Name &lt;chr&gt; | Value &lt;dbl&gt; |\n",
       "|---|---|---|---|---|---|---|---|---|\n",
       "| 279220 | Weight | WS | Kasurinen et al. 2017 | 1 | Metal | Ca | Ca |   980.0 |\n",
       "| 279220 | Weight | WS | Kasurinen et al. 2017 | 1 | Metal | Cr | Cr |    74.0 |\n",
       "| 279220 | Weight | WS | Kasurinen et al. 2017 | 1 | Metal | Cu | Cu |   360.0 |\n",
       "| 279220 | Weight | WS | Kasurinen et al. 2017 | 1 | Metal | Fe | Fe |   340.0 |\n",
       "| 279220 | Weight | WS | Kasurinen et al. 2017 | 1 | Metal | K  | K  | 12000.0 |\n",
       "| 279220 | Weight | WS | Kasurinen et al. 2017 | 1 | Metal | Mn | Mn |   275.9 |\n",
       "\n"
      ],
      "text/plain": [
       "  HAWC_ID Metric Data Study                 Replicate Chemical_Class DTXSID\n",
       "1 279220  Weight WS   Kasurinen et al. 2017 1         Metal          Ca    \n",
       "2 279220  Weight WS   Kasurinen et al. 2017 1         Metal          Cr    \n",
       "3 279220  Weight WS   Kasurinen et al. 2017 1         Metal          Cu    \n",
       "4 279220  Weight WS   Kasurinen et al. 2017 1         Metal          Fe    \n",
       "5 279220  Weight WS   Kasurinen et al. 2017 1         Metal          K     \n",
       "6 279220  Weight WS   Kasurinen et al. 2017 1         Metal          Mn    \n",
       "  Name Value  \n",
       "1 Ca     980.0\n",
       "2 Cr      74.0\n",
       "3 Cu     360.0\n",
       "4 Fe     340.0\n",
       "5 K    12000.0\n",
       "6 Mn     275.9"
      ]
     },
     "metadata": {},
     "output_type": "display_data"
    }
   ],
   "source": [
    "random_forest_imputation = function(dataset){\n",
    "    # ADD WORDS\n",
    "    wider_dataset = dataset %>%\n",
    "        # removing these cols temporarily \n",
    "        select(-c(\"Chemical_Class\", \"Name\")) %>%\n",
    "        pivot_wider(names_from = DTXSID, values_from = Value)\n",
    "    \n",
    "    preimputed_df = wider_dataset[,6:ncol(wider_dataset)]\n",
    "    \n",
    "    imputed_RF_object = missForest(as.matrix(preimputed_df))\n",
    "    imputed_RF_df = imputed_RF_object$ximp\n",
    "    imputed_final_df = data.frame(cbind(wider_dataset[,1:5], imputed_RF_df)) %>%\n",
    "        pivot_longer(cols = 6:ncol(wider_dataset), names_to = \"DTXSID\", values_to = \"Value\")\n",
    "    \n",
    "    return(imputed_final_df)\n",
    "}\n",
    "\n",
    "# calling fn\n",
    "rf_imputed_df = random_forest_imputation(imputed_weight_df %>% \n",
    "                             filter(HAWC_ID == unique(mar_weight_df$HAWC_ID)))\n",
    "# adding back in additional cols\n",
    "rf_imputed_df = inner_join(rf_imputed_df, unique(weight_df[,1:8]))\n",
    "rf_imputed_df = rf_imputed_df[,c(1:5,9,6,8,7)]\n",
    "\n",
    "head(rf_imputed_df)"
   ]
  },
  {
   "cell_type": "code",
   "execution_count": 26,
   "id": "7db6faee-27f7-4daa-8c24-d447c9ec8e55",
   "metadata": {},
   "outputs": [
    {
     "name": "stderr",
     "output_type": "stream",
     "text": [
      "\u001b[1m\u001b[22mJoining with `by = join_by(HAWC_ID, Metric, Data, Study, Replicate,\n",
      "Chemical_Class, DTXSID, Name, Value)`\n"
     ]
    },
    {
     "data": {
      "text/html": [
       "<table class=\"dataframe\">\n",
       "<caption>A tibble: 6 × 9</caption>\n",
       "<thead>\n",
       "\t<tr><th scope=col>HAWC_ID</th><th scope=col>Metric</th><th scope=col>Data</th><th scope=col>Study</th><th scope=col>Replicate</th><th scope=col>Chemical_Class</th><th scope=col>DTXSID</th><th scope=col>Name</th><th scope=col>Value</th></tr>\n",
       "\t<tr><th scope=col>&lt;dbl&gt;</th><th scope=col>&lt;chr&gt;</th><th scope=col>&lt;chr&gt;</th><th scope=col>&lt;chr&gt;</th><th scope=col>&lt;dbl&gt;</th><th scope=col>&lt;chr&gt;</th><th scope=col>&lt;chr&gt;</th><th scope=col>&lt;chr&gt;</th><th scope=col>&lt;dbl&gt;</th></tr>\n",
       "</thead>\n",
       "<tbody>\n",
       "\t<tr><td>271638</td><td>Weight</td><td>WS</td><td>Jalava et al. 2012</td><td>1</td><td>PAH  </td><td>DTXSID3021774</td><td>Acenaphthene        </td><td> 132.7</td></tr>\n",
       "\t<tr><td>271638</td><td>Weight</td><td>WS</td><td>Jalava et al. 2012</td><td>1</td><td>PAH  </td><td>DTXSID4075459</td><td>Benzo(c)phenanthrene</td><td> 493.9</td></tr>\n",
       "\t<tr><td>271638</td><td>Weight</td><td>WS</td><td>Jalava et al. 2012</td><td>1</td><td>PAH  </td><td>DTXSID8052691</td><td>Benzo(j)fluoranthene</td><td> 617.3</td></tr>\n",
       "\t<tr><td>271638</td><td>Weight</td><td>WS</td><td>Jalava et al. 2012</td><td>1</td><td>Metal</td><td>Ca           </td><td>Ca                  </td><td>1140.0</td></tr>\n",
       "\t<tr><td>271638</td><td>Weight</td><td>WS</td><td>Jalava et al. 2012</td><td>1</td><td>PAH  </td><td>DTXSID5047740</td><td>Coronene            </td><td>  75.5</td></tr>\n",
       "\t<tr><td>271638</td><td>Weight</td><td>WS</td><td>Jalava et al. 2012</td><td>1</td><td>PAH  </td><td>DTXSID6062591</td><td>Cyclopenta(cd)pyrene</td><td>1067.0</td></tr>\n",
       "</tbody>\n",
       "</table>\n"
      ],
      "text/latex": [
       "A tibble: 6 × 9\n",
       "\\begin{tabular}{lllllllll}\n",
       " HAWC\\_ID & Metric & Data & Study & Replicate & Chemical\\_Class & DTXSID & Name & Value\\\\\n",
       " <dbl> & <chr> & <chr> & <chr> & <dbl> & <chr> & <chr> & <chr> & <dbl>\\\\\n",
       "\\hline\n",
       "\t 271638 & Weight & WS & Jalava et al. 2012 & 1 & PAH   & DTXSID3021774 & Acenaphthene         &  132.7\\\\\n",
       "\t 271638 & Weight & WS & Jalava et al. 2012 & 1 & PAH   & DTXSID4075459 & Benzo(c)phenanthrene &  493.9\\\\\n",
       "\t 271638 & Weight & WS & Jalava et al. 2012 & 1 & PAH   & DTXSID8052691 & Benzo(j)fluoranthene &  617.3\\\\\n",
       "\t 271638 & Weight & WS & Jalava et al. 2012 & 1 & Metal & Ca            & Ca                   & 1140.0\\\\\n",
       "\t 271638 & Weight & WS & Jalava et al. 2012 & 1 & PAH   & DTXSID5047740 & Coronene             &   75.5\\\\\n",
       "\t 271638 & Weight & WS & Jalava et al. 2012 & 1 & PAH   & DTXSID6062591 & Cyclopenta(cd)pyrene & 1067.0\\\\\n",
       "\\end{tabular}\n"
      ],
      "text/markdown": [
       "\n",
       "A tibble: 6 × 9\n",
       "\n",
       "| HAWC_ID &lt;dbl&gt; | Metric &lt;chr&gt; | Data &lt;chr&gt; | Study &lt;chr&gt; | Replicate &lt;dbl&gt; | Chemical_Class &lt;chr&gt; | DTXSID &lt;chr&gt; | Name &lt;chr&gt; | Value &lt;dbl&gt; |\n",
       "|---|---|---|---|---|---|---|---|---|\n",
       "| 271638 | Weight | WS | Jalava et al. 2012 | 1 | PAH   | DTXSID3021774 | Acenaphthene         |  132.7 |\n",
       "| 271638 | Weight | WS | Jalava et al. 2012 | 1 | PAH   | DTXSID4075459 | Benzo(c)phenanthrene |  493.9 |\n",
       "| 271638 | Weight | WS | Jalava et al. 2012 | 1 | PAH   | DTXSID8052691 | Benzo(j)fluoranthene |  617.3 |\n",
       "| 271638 | Weight | WS | Jalava et al. 2012 | 1 | Metal | Ca            | Ca                   | 1140.0 |\n",
       "| 271638 | Weight | WS | Jalava et al. 2012 | 1 | PAH   | DTXSID5047740 | Coronene             |   75.5 |\n",
       "| 271638 | Weight | WS | Jalava et al. 2012 | 1 | PAH   | DTXSID6062591 | Cyclopenta(cd)pyrene | 1067.0 |\n",
       "\n"
      ],
      "text/plain": [
       "  HAWC_ID Metric Data Study              Replicate Chemical_Class DTXSID       \n",
       "1 271638  Weight WS   Jalava et al. 2012 1         PAH            DTXSID3021774\n",
       "2 271638  Weight WS   Jalava et al. 2012 1         PAH            DTXSID4075459\n",
       "3 271638  Weight WS   Jalava et al. 2012 1         PAH            DTXSID8052691\n",
       "4 271638  Weight WS   Jalava et al. 2012 1         Metal          Ca           \n",
       "5 271638  Weight WS   Jalava et al. 2012 1         PAH            DTXSID5047740\n",
       "6 271638  Weight WS   Jalava et al. 2012 1         PAH            DTXSID6062591\n",
       "  Name                 Value \n",
       "1 Acenaphthene          132.7\n",
       "2 Benzo(c)phenanthrene  493.9\n",
       "3 Benzo(j)fluoranthene  617.3\n",
       "4 Ca                   1140.0\n",
       "5 Coronene               75.5\n",
       "6 Cyclopenta(cd)pyrene 1067.0"
      ]
     },
     "metadata": {},
     "output_type": "display_data"
    },
    {
     "data": {
      "text/html": [
       "<style>\n",
       ".list-inline {list-style: none; margin:0; padding: 0}\n",
       ".list-inline>li {display: inline-block}\n",
       ".list-inline>li:not(:last-child)::after {content: \"\\00b7\"; padding: 0 .5ex}\n",
       "</style>\n",
       "<ol class=list-inline><li>1248</li><li>9</li></ol>\n"
      ],
      "text/latex": [
       "\\begin{enumerate*}\n",
       "\\item 1248\n",
       "\\item 9\n",
       "\\end{enumerate*}\n"
      ],
      "text/markdown": [
       "1. 1248\n",
       "2. 9\n",
       "\n",
       "\n"
      ],
      "text/plain": [
       "[1] 1248    9"
      ]
     },
     "metadata": {},
     "output_type": "display_data"
    }
   ],
   "source": [
    "# combining data\n",
    "final_df = full_join(imputed_weight_df %>% filter(HAWC_ID != unique(mar_weight_df$HAWC_ID)),\n",
    "                            rf_imputed_df)\n",
    "\n",
    "head(final_df)\n",
    "dim(final_df)"
   ]
  },
  {
   "cell_type": "code",
   "execution_count": 27,
   "id": "71aabfcd-d6a1-4a68-a845-1e890ab2bab7",
   "metadata": {},
   "outputs": [],
   "source": [
    "# exporting\n",
    "write.xlsx(final_df, paste0(Output,\"/\", \"Processed_Weight_Data_\", cur_date, \".xlsx\"), \n",
    "           rowNames = FALSE)\n",
    "write.xlsx(vol_df, paste0(Output,\"/\", \"Processed_Volume_Data_\", cur_date, \".xlsx\"), \n",
    "           rowNames = FALSE)"
   ]
  },
  {
   "cell_type": "code",
   "execution_count": null,
   "id": "b003cc96-3d86-4728-be5f-7420fdf4e0e6",
   "metadata": {},
   "outputs": [],
   "source": []
  }
 ],
 "metadata": {
  "kernelspec": {
   "display_name": "R",
   "language": "R",
   "name": "ir"
  },
  "language_info": {
   "codemirror_mode": "r",
   "file_extension": ".r",
   "mimetype": "text/x-r-source",
   "name": "R",
   "pygments_lexer": "r",
   "version": "4.3.1"
  }
 },
 "nbformat": 4,
 "nbformat_minor": 5
}
