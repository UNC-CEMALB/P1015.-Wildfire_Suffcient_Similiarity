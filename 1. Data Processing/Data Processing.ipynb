{
 "cells": [
  {
   "cell_type": "code",
   "execution_count": 1,
   "id": "f739a63b-8766-4c73-a76e-a6b3a6525d80",
   "metadata": {},
   "outputs": [],
   "source": [
    ".libPaths(R.home('/opt/homebrew/Caskroom/miniforge/base/lib/R/library'))"
   ]
  },
  {
   "cell_type": "code",
   "execution_count": 1,
   "id": "dbfb736a-bc97-4a2f-96f6-553aa3c90c5b",
   "metadata": {},
   "outputs": [
    {
     "name": "stderr",
     "output_type": "stream",
     "text": [
      "── \u001b[1mAttaching core tidyverse packages\u001b[22m ──────────────────────── tidyverse 2.0.0 ──\n",
      "\u001b[32m✔\u001b[39m \u001b[34mdplyr    \u001b[39m 1.1.4     \u001b[32m✔\u001b[39m \u001b[34mreadr    \u001b[39m 2.1.5\n",
      "\u001b[32m✔\u001b[39m \u001b[34mforcats  \u001b[39m 1.0.0     \u001b[32m✔\u001b[39m \u001b[34mstringr  \u001b[39m 1.5.1\n",
      "\u001b[32m✔\u001b[39m \u001b[34mggplot2  \u001b[39m 3.5.2     \u001b[32m✔\u001b[39m \u001b[34mtibble   \u001b[39m 3.2.1\n",
      "\u001b[32m✔\u001b[39m \u001b[34mlubridate\u001b[39m 1.9.4     \u001b[32m✔\u001b[39m \u001b[34mtidyr    \u001b[39m 1.3.1\n",
      "\u001b[32m✔\u001b[39m \u001b[34mpurrr    \u001b[39m 1.0.4     \n",
      "── \u001b[1mConflicts\u001b[22m ────────────────────────────────────────── tidyverse_conflicts() ──\n",
      "\u001b[31m✖\u001b[39m \u001b[34mdplyr\u001b[39m::\u001b[32mfilter()\u001b[39m masks \u001b[34mstats\u001b[39m::filter()\n",
      "\u001b[31m✖\u001b[39m \u001b[34mdplyr\u001b[39m::\u001b[32mlag()\u001b[39m    masks \u001b[34mstats\u001b[39m::lag()\n",
      "\u001b[36mℹ\u001b[39m Use the conflicted package (\u001b[3m\u001b[34m<http://conflicted.r-lib.org/>\u001b[39m\u001b[23m) to force all conflicts to become errors\n",
      "Welcome! Want to learn more? See two factoextra-related books at https://goo.gl/ve3WBa\n",
      "\n"
     ]
    }
   ],
   "source": [
    "Output = '/Users/alexis/Library/CloudStorage/OneDrive-UniversityofNorthCarolinaatChapelHill/CEMALB_DataAnalysisPM/Projects/P1015. Fire Sufficient Similarity/P1015.3. Analyses/P1015.3.2. Data Processing/Output'\n",
    "cur_date = '061025'\n",
    "\n",
    "library(missForest)\n",
    "library(readxl)\n",
    "library(openxlsx)\n",
    "library(tidyverse)\n",
    "library(factoextra)\n",
    "\n",
    "# reading in files\n",
    "ws_df = data.frame(Sample = 'WS', read_excel(\"Input/Woodsmoke_Data_053125.xlsx\", sheet = 2)) %>%\n",
    "    select(-Number)\n",
    "wf_df = data.frame(Sample = 'WF', read_excel(\"Input/Wildfire_Data_053125.xlsx\", sheet = 2)) %>%\n",
    "    select(-Number)"
   ]
  },
  {
   "cell_type": "code",
   "execution_count": 2,
   "id": "73a7d5c4-8e2a-4ab5-b13b-046bc35d412e",
   "metadata": {},
   "outputs": [
    {
     "data": {
      "text/html": [
       "<table class=\"dataframe\">\n",
       "<caption>A data.frame: 6 × 9</caption>\n",
       "<thead>\n",
       "\t<tr><th></th><th scope=col>Sample</th><th scope=col>HAWC_ID</th><th scope=col>Study</th><th scope=col>Sample_Number</th><th scope=col>Class</th><th scope=col>Metric</th><th scope=col>DTXSID</th><th scope=col>Name</th><th scope=col>Value</th></tr>\n",
       "\t<tr><th></th><th scope=col>&lt;chr&gt;</th><th scope=col>&lt;dbl&gt;</th><th scope=col>&lt;chr&gt;</th><th scope=col>&lt;dbl&gt;</th><th scope=col>&lt;chr&gt;</th><th scope=col>&lt;chr&gt;</th><th scope=col>&lt;chr&gt;</th><th scope=col>&lt;chr&gt;</th><th scope=col>&lt;chr&gt;</th></tr>\n",
       "</thead>\n",
       "<tbody>\n",
       "\t<tr><th scope=row>1</th><td>WS</td><td>429174</td><td>Arif et al. 2017</td><td>1</td><td>PAH</td><td>Weight</td><td>DTXSID6025648 </td><td>1-Methylphenanthrene</td><td>NA</td></tr>\n",
       "\t<tr><th scope=row>2</th><td>WS</td><td>429174</td><td>Arif et al. 2017</td><td>1</td><td>PAH</td><td>Weight</td><td>DTXSID0025654 </td><td>1-Methylpyrene      </td><td>NA</td></tr>\n",
       "\t<tr><th scope=row>3</th><td>WS</td><td>429174</td><td>Arif et al. 2017</td><td>1</td><td>PAH</td><td>Weight</td><td>DTXSID4020878 </td><td>2-Methylnaphthalene </td><td>NA</td></tr>\n",
       "\t<tr><th scope=row>4</th><td>WS</td><td>429174</td><td>Arif et al. 2017</td><td>1</td><td>PAH</td><td>Weight</td><td>DTXSID4063030 </td><td>2-Methylpyrene      </td><td>NA</td></tr>\n",
       "\t<tr><th scope=row>5</th><td>WS</td><td>429174</td><td>Arif et al. 2017</td><td>1</td><td>PAH</td><td>Weight</td><td>DTXSID50187178</td><td>4-Methylpyrene      </td><td>NA</td></tr>\n",
       "\t<tr><th scope=row>6</th><td>WS</td><td>429174</td><td>Arif et al. 2017</td><td>1</td><td>PAH</td><td>Weight</td><td>DTXSID6063143 </td><td>5-Methylchrysene    </td><td>NA</td></tr>\n",
       "</tbody>\n",
       "</table>\n"
      ],
      "text/latex": [
       "A data.frame: 6 × 9\n",
       "\\begin{tabular}{r|lllllllll}\n",
       "  & Sample & HAWC\\_ID & Study & Sample\\_Number & Class & Metric & DTXSID & Name & Value\\\\\n",
       "  & <chr> & <dbl> & <chr> & <dbl> & <chr> & <chr> & <chr> & <chr> & <chr>\\\\\n",
       "\\hline\n",
       "\t1 & WS & 429174 & Arif et al. 2017 & 1 & PAH & Weight & DTXSID6025648  & 1-Methylphenanthrene & NA\\\\\n",
       "\t2 & WS & 429174 & Arif et al. 2017 & 1 & PAH & Weight & DTXSID0025654  & 1-Methylpyrene       & NA\\\\\n",
       "\t3 & WS & 429174 & Arif et al. 2017 & 1 & PAH & Weight & DTXSID4020878  & 2-Methylnaphthalene  & NA\\\\\n",
       "\t4 & WS & 429174 & Arif et al. 2017 & 1 & PAH & Weight & DTXSID4063030  & 2-Methylpyrene       & NA\\\\\n",
       "\t5 & WS & 429174 & Arif et al. 2017 & 1 & PAH & Weight & DTXSID50187178 & 4-Methylpyrene       & NA\\\\\n",
       "\t6 & WS & 429174 & Arif et al. 2017 & 1 & PAH & Weight & DTXSID6063143  & 5-Methylchrysene     & NA\\\\\n",
       "\\end{tabular}\n"
      ],
      "text/markdown": [
       "\n",
       "A data.frame: 6 × 9\n",
       "\n",
       "| <!--/--> | Sample &lt;chr&gt; | HAWC_ID &lt;dbl&gt; | Study &lt;chr&gt; | Sample_Number &lt;dbl&gt; | Class &lt;chr&gt; | Metric &lt;chr&gt; | DTXSID &lt;chr&gt; | Name &lt;chr&gt; | Value &lt;chr&gt; |\n",
       "|---|---|---|---|---|---|---|---|---|---|\n",
       "| 1 | WS | 429174 | Arif et al. 2017 | 1 | PAH | Weight | DTXSID6025648  | 1-Methylphenanthrene | NA |\n",
       "| 2 | WS | 429174 | Arif et al. 2017 | 1 | PAH | Weight | DTXSID0025654  | 1-Methylpyrene       | NA |\n",
       "| 3 | WS | 429174 | Arif et al. 2017 | 1 | PAH | Weight | DTXSID4020878  | 2-Methylnaphthalene  | NA |\n",
       "| 4 | WS | 429174 | Arif et al. 2017 | 1 | PAH | Weight | DTXSID4063030  | 2-Methylpyrene       | NA |\n",
       "| 5 | WS | 429174 | Arif et al. 2017 | 1 | PAH | Weight | DTXSID50187178 | 4-Methylpyrene       | NA |\n",
       "| 6 | WS | 429174 | Arif et al. 2017 | 1 | PAH | Weight | DTXSID6063143  | 5-Methylchrysene     | NA |\n",
       "\n"
      ],
      "text/plain": [
       "  Sample HAWC_ID Study            Sample_Number Class Metric DTXSID        \n",
       "1 WS     429174  Arif et al. 2017 1             PAH   Weight DTXSID6025648 \n",
       "2 WS     429174  Arif et al. 2017 1             PAH   Weight DTXSID0025654 \n",
       "3 WS     429174  Arif et al. 2017 1             PAH   Weight DTXSID4020878 \n",
       "4 WS     429174  Arif et al. 2017 1             PAH   Weight DTXSID4063030 \n",
       "5 WS     429174  Arif et al. 2017 1             PAH   Weight DTXSID50187178\n",
       "6 WS     429174  Arif et al. 2017 1             PAH   Weight DTXSID6063143 \n",
       "  Name                 Value\n",
       "1 1-Methylphenanthrene NA   \n",
       "2 1-Methylpyrene       NA   \n",
       "3 2-Methylnaphthalene  NA   \n",
       "4 2-Methylpyrene       NA   \n",
       "5 4-Methylpyrene       NA   \n",
       "6 5-Methylchrysene     NA   "
      ]
     },
     "metadata": {},
     "output_type": "display_data"
    },
    {
     "data": {
      "text/html": [
       "<table class=\"dataframe\">\n",
       "<caption>A data.frame: 6 × 9</caption>\n",
       "<thead>\n",
       "\t<tr><th></th><th scope=col>Sample</th><th scope=col>HAWC_ID</th><th scope=col>Study</th><th scope=col>Sample_Number</th><th scope=col>Class</th><th scope=col>Metric</th><th scope=col>DTXSID</th><th scope=col>Name</th><th scope=col>Value</th></tr>\n",
       "\t<tr><th></th><th scope=col>&lt;chr&gt;</th><th scope=col>&lt;dbl&gt;</th><th scope=col>&lt;chr&gt;</th><th scope=col>&lt;dbl&gt;</th><th scope=col>&lt;chr&gt;</th><th scope=col>&lt;chr&gt;</th><th scope=col>&lt;chr&gt;</th><th scope=col>&lt;chr&gt;</th><th scope=col>&lt;chr&gt;</th></tr>\n",
       "</thead>\n",
       "<tbody>\n",
       "\t<tr><th scope=row>1</th><td>WF</td><td>1289737</td><td>Campbell et al. 2024</td><td>1</td><td>PAH</td><td>Weight</td><td>DTXSID1074759</td><td>1-Methylchrysene       </td><td>NA</td></tr>\n",
       "\t<tr><th scope=row>2</th><td>WF</td><td>1289737</td><td>Campbell et al. 2024</td><td>1</td><td>PAH</td><td>Weight</td><td>DTXSID9020877</td><td>1-Methylnaphthalene    </td><td>NA</td></tr>\n",
       "\t<tr><th scope=row>3</th><td>WF</td><td>1289737</td><td>Campbell et al. 2024</td><td>1</td><td>PAH</td><td>Weight</td><td>DTXSID0029187</td><td>2,6-Dimethylnaphthalene</td><td>NA</td></tr>\n",
       "\t<tr><th scope=row>4</th><td>WF</td><td>1289737</td><td>Campbell et al. 2024</td><td>1</td><td>PAH</td><td>Weight</td><td>DTXSID4020878</td><td>2-Methylnaphthalene    </td><td>NA</td></tr>\n",
       "\t<tr><th scope=row>5</th><td>WF</td><td>1289737</td><td>Campbell et al. 2024</td><td>1</td><td>PAH</td><td>Weight</td><td>DTXSID3061134</td><td>9-Methylanthracene     </td><td>NA</td></tr>\n",
       "\t<tr><th scope=row>6</th><td>WF</td><td>1289737</td><td>Campbell et al. 2024</td><td>1</td><td>PAH</td><td>Weight</td><td>DTXSID3023845</td><td>Acenaphthylene         </td><td>NA</td></tr>\n",
       "</tbody>\n",
       "</table>\n"
      ],
      "text/latex": [
       "A data.frame: 6 × 9\n",
       "\\begin{tabular}{r|lllllllll}\n",
       "  & Sample & HAWC\\_ID & Study & Sample\\_Number & Class & Metric & DTXSID & Name & Value\\\\\n",
       "  & <chr> & <dbl> & <chr> & <dbl> & <chr> & <chr> & <chr> & <chr> & <chr>\\\\\n",
       "\\hline\n",
       "\t1 & WF & 1289737 & Campbell et al. 2024 & 1 & PAH & Weight & DTXSID1074759 & 1-Methylchrysene        & NA\\\\\n",
       "\t2 & WF & 1289737 & Campbell et al. 2024 & 1 & PAH & Weight & DTXSID9020877 & 1-Methylnaphthalene     & NA\\\\\n",
       "\t3 & WF & 1289737 & Campbell et al. 2024 & 1 & PAH & Weight & DTXSID0029187 & 2,6-Dimethylnaphthalene & NA\\\\\n",
       "\t4 & WF & 1289737 & Campbell et al. 2024 & 1 & PAH & Weight & DTXSID4020878 & 2-Methylnaphthalene     & NA\\\\\n",
       "\t5 & WF & 1289737 & Campbell et al. 2024 & 1 & PAH & Weight & DTXSID3061134 & 9-Methylanthracene      & NA\\\\\n",
       "\t6 & WF & 1289737 & Campbell et al. 2024 & 1 & PAH & Weight & DTXSID3023845 & Acenaphthylene          & NA\\\\\n",
       "\\end{tabular}\n"
      ],
      "text/markdown": [
       "\n",
       "A data.frame: 6 × 9\n",
       "\n",
       "| <!--/--> | Sample &lt;chr&gt; | HAWC_ID &lt;dbl&gt; | Study &lt;chr&gt; | Sample_Number &lt;dbl&gt; | Class &lt;chr&gt; | Metric &lt;chr&gt; | DTXSID &lt;chr&gt; | Name &lt;chr&gt; | Value &lt;chr&gt; |\n",
       "|---|---|---|---|---|---|---|---|---|---|\n",
       "| 1 | WF | 1289737 | Campbell et al. 2024 | 1 | PAH | Weight | DTXSID1074759 | 1-Methylchrysene        | NA |\n",
       "| 2 | WF | 1289737 | Campbell et al. 2024 | 1 | PAH | Weight | DTXSID9020877 | 1-Methylnaphthalene     | NA |\n",
       "| 3 | WF | 1289737 | Campbell et al. 2024 | 1 | PAH | Weight | DTXSID0029187 | 2,6-Dimethylnaphthalene | NA |\n",
       "| 4 | WF | 1289737 | Campbell et al. 2024 | 1 | PAH | Weight | DTXSID4020878 | 2-Methylnaphthalene     | NA |\n",
       "| 5 | WF | 1289737 | Campbell et al. 2024 | 1 | PAH | Weight | DTXSID3061134 | 9-Methylanthracene      | NA |\n",
       "| 6 | WF | 1289737 | Campbell et al. 2024 | 1 | PAH | Weight | DTXSID3023845 | Acenaphthylene          | NA |\n",
       "\n"
      ],
      "text/plain": [
       "  Sample HAWC_ID Study                Sample_Number Class Metric DTXSID       \n",
       "1 WF     1289737 Campbell et al. 2024 1             PAH   Weight DTXSID1074759\n",
       "2 WF     1289737 Campbell et al. 2024 1             PAH   Weight DTXSID9020877\n",
       "3 WF     1289737 Campbell et al. 2024 1             PAH   Weight DTXSID0029187\n",
       "4 WF     1289737 Campbell et al. 2024 1             PAH   Weight DTXSID4020878\n",
       "5 WF     1289737 Campbell et al. 2024 1             PAH   Weight DTXSID3061134\n",
       "6 WF     1289737 Campbell et al. 2024 1             PAH   Weight DTXSID3023845\n",
       "  Name                    Value\n",
       "1 1-Methylchrysene        NA   \n",
       "2 1-Methylnaphthalene     NA   \n",
       "3 2,6-Dimethylnaphthalene NA   \n",
       "4 2-Methylnaphthalene     NA   \n",
       "5 9-Methylanthracene      NA   \n",
       "6 Acenaphthylene          NA   "
      ]
     },
     "metadata": {},
     "output_type": "display_data"
    }
   ],
   "source": [
    "head(ws_df)\n",
    "head(wf_df)"
   ]
  },
  {
   "cell_type": "code",
   "execution_count": 3,
   "id": "3d546e8e-5cdf-4386-b29b-2ac2938366f9",
   "metadata": {},
   "outputs": [
    {
     "data": {
      "text/html": [
       "<style>\n",
       ".list-inline {list-style: none; margin:0; padding: 0}\n",
       ".list-inline>li {display: inline-block}\n",
       ".list-inline>li:not(:last-child)::after {content: \"\\00b7\"; padding: 0 .5ex}\n",
       "</style>\n",
       "<ol class=list-inline><li>4391</li><li>9</li></ol>\n"
      ],
      "text/latex": [
       "\\begin{enumerate*}\n",
       "\\item 4391\n",
       "\\item 9\n",
       "\\end{enumerate*}\n"
      ],
      "text/markdown": [
       "1. 4391\n",
       "2. 9\n",
       "\n",
       "\n"
      ],
      "text/plain": [
       "[1] 4391    9"
      ]
     },
     "metadata": {},
     "output_type": "display_data"
    },
    {
     "data": {
      "text/html": [
       "<style>\n",
       ".list-inline {list-style: none; margin:0; padding: 0}\n",
       ".list-inline>li {display: inline-block}\n",
       ".list-inline>li:not(:last-child)::after {content: \"\\00b7\"; padding: 0 .5ex}\n",
       "</style>\n",
       "<ol class=list-inline><li>3795</li><li>9</li></ol>\n"
      ],
      "text/latex": [
       "\\begin{enumerate*}\n",
       "\\item 3795\n",
       "\\item 9\n",
       "\\end{enumerate*}\n"
      ],
      "text/markdown": [
       "1. 3795\n",
       "2. 9\n",
       "\n",
       "\n"
      ],
      "text/plain": [
       "[1] 3795    9"
      ]
     },
     "metadata": {},
     "output_type": "display_data"
    }
   ],
   "source": [
    "dim(ws_df)\n",
    "dim(wf_df)"
   ]
  },
  {
   "cell_type": "markdown",
   "id": "417a92fb-0524-4038-a5ea-08a56f02a955",
   "metadata": {},
   "source": [
    "Starting with 6607 WS records and 4340 WF records. "
   ]
  },
  {
   "cell_type": "code",
   "execution_count": 4,
   "id": "d9ba0841-95c0-4dfc-a8de-480550341718",
   "metadata": {},
   "outputs": [
    {
     "data": {
      "text/html": [
       "<table class=\"dataframe\">\n",
       "<caption>A data.frame: 6 × 9</caption>\n",
       "<thead>\n",
       "\t<tr><th></th><th scope=col>Sample</th><th scope=col>HAWC_ID</th><th scope=col>Study</th><th scope=col>Sample_Number</th><th scope=col>Class</th><th scope=col>Metric</th><th scope=col>DTXSID</th><th scope=col>Name</th><th scope=col>Value</th></tr>\n",
       "\t<tr><th></th><th scope=col>&lt;chr&gt;</th><th scope=col>&lt;dbl&gt;</th><th scope=col>&lt;chr&gt;</th><th scope=col>&lt;dbl&gt;</th><th scope=col>&lt;chr&gt;</th><th scope=col>&lt;chr&gt;</th><th scope=col>&lt;chr&gt;</th><th scope=col>&lt;chr&gt;</th><th scope=col>&lt;chr&gt;</th></tr>\n",
       "</thead>\n",
       "<tbody>\n",
       "\t<tr><th scope=row>1</th><td>WS</td><td>429174</td><td>Arif et al. 2017</td><td>1</td><td>PAH</td><td>Weight</td><td>DTXSID6025648 </td><td>1-Methylphenanthrene</td><td>NA</td></tr>\n",
       "\t<tr><th scope=row>2</th><td>WS</td><td>429174</td><td>Arif et al. 2017</td><td>1</td><td>PAH</td><td>Weight</td><td>DTXSID0025654 </td><td>1-Methylpyrene      </td><td>NA</td></tr>\n",
       "\t<tr><th scope=row>3</th><td>WS</td><td>429174</td><td>Arif et al. 2017</td><td>1</td><td>PAH</td><td>Weight</td><td>DTXSID4020878 </td><td>2-Methylnaphthalene </td><td>NA</td></tr>\n",
       "\t<tr><th scope=row>4</th><td>WS</td><td>429174</td><td>Arif et al. 2017</td><td>1</td><td>PAH</td><td>Weight</td><td>DTXSID4063030 </td><td>2-Methylpyrene      </td><td>NA</td></tr>\n",
       "\t<tr><th scope=row>5</th><td>WS</td><td>429174</td><td>Arif et al. 2017</td><td>1</td><td>PAH</td><td>Weight</td><td>DTXSID50187178</td><td>4-Methylpyrene      </td><td>NA</td></tr>\n",
       "\t<tr><th scope=row>6</th><td>WS</td><td>429174</td><td>Arif et al. 2017</td><td>1</td><td>PAH</td><td>Weight</td><td>DTXSID6063143 </td><td>5-Methylchrysene    </td><td>NA</td></tr>\n",
       "</tbody>\n",
       "</table>\n"
      ],
      "text/latex": [
       "A data.frame: 6 × 9\n",
       "\\begin{tabular}{r|lllllllll}\n",
       "  & Sample & HAWC\\_ID & Study & Sample\\_Number & Class & Metric & DTXSID & Name & Value\\\\\n",
       "  & <chr> & <dbl> & <chr> & <dbl> & <chr> & <chr> & <chr> & <chr> & <chr>\\\\\n",
       "\\hline\n",
       "\t1 & WS & 429174 & Arif et al. 2017 & 1 & PAH & Weight & DTXSID6025648  & 1-Methylphenanthrene & NA\\\\\n",
       "\t2 & WS & 429174 & Arif et al. 2017 & 1 & PAH & Weight & DTXSID0025654  & 1-Methylpyrene       & NA\\\\\n",
       "\t3 & WS & 429174 & Arif et al. 2017 & 1 & PAH & Weight & DTXSID4020878  & 2-Methylnaphthalene  & NA\\\\\n",
       "\t4 & WS & 429174 & Arif et al. 2017 & 1 & PAH & Weight & DTXSID4063030  & 2-Methylpyrene       & NA\\\\\n",
       "\t5 & WS & 429174 & Arif et al. 2017 & 1 & PAH & Weight & DTXSID50187178 & 4-Methylpyrene       & NA\\\\\n",
       "\t6 & WS & 429174 & Arif et al. 2017 & 1 & PAH & Weight & DTXSID6063143  & 5-Methylchrysene     & NA\\\\\n",
       "\\end{tabular}\n"
      ],
      "text/markdown": [
       "\n",
       "A data.frame: 6 × 9\n",
       "\n",
       "| <!--/--> | Sample &lt;chr&gt; | HAWC_ID &lt;dbl&gt; | Study &lt;chr&gt; | Sample_Number &lt;dbl&gt; | Class &lt;chr&gt; | Metric &lt;chr&gt; | DTXSID &lt;chr&gt; | Name &lt;chr&gt; | Value &lt;chr&gt; |\n",
       "|---|---|---|---|---|---|---|---|---|---|\n",
       "| 1 | WS | 429174 | Arif et al. 2017 | 1 | PAH | Weight | DTXSID6025648  | 1-Methylphenanthrene | NA |\n",
       "| 2 | WS | 429174 | Arif et al. 2017 | 1 | PAH | Weight | DTXSID0025654  | 1-Methylpyrene       | NA |\n",
       "| 3 | WS | 429174 | Arif et al. 2017 | 1 | PAH | Weight | DTXSID4020878  | 2-Methylnaphthalene  | NA |\n",
       "| 4 | WS | 429174 | Arif et al. 2017 | 1 | PAH | Weight | DTXSID4063030  | 2-Methylpyrene       | NA |\n",
       "| 5 | WS | 429174 | Arif et al. 2017 | 1 | PAH | Weight | DTXSID50187178 | 4-Methylpyrene       | NA |\n",
       "| 6 | WS | 429174 | Arif et al. 2017 | 1 | PAH | Weight | DTXSID6063143  | 5-Methylchrysene     | NA |\n",
       "\n"
      ],
      "text/plain": [
       "  Sample HAWC_ID Study            Sample_Number Class Metric DTXSID        \n",
       "1 WS     429174  Arif et al. 2017 1             PAH   Weight DTXSID6025648 \n",
       "2 WS     429174  Arif et al. 2017 1             PAH   Weight DTXSID0025654 \n",
       "3 WS     429174  Arif et al. 2017 1             PAH   Weight DTXSID4020878 \n",
       "4 WS     429174  Arif et al. 2017 1             PAH   Weight DTXSID4063030 \n",
       "5 WS     429174  Arif et al. 2017 1             PAH   Weight DTXSID50187178\n",
       "6 WS     429174  Arif et al. 2017 1             PAH   Weight DTXSID6063143 \n",
       "  Name                 Value\n",
       "1 1-Methylphenanthrene NA   \n",
       "2 1-Methylpyrene       NA   \n",
       "3 2-Methylnaphthalene  NA   \n",
       "4 2-Methylpyrene       NA   \n",
       "5 4-Methylpyrene       NA   \n",
       "6 5-Methylchrysene     NA   "
      ]
     },
     "metadata": {},
     "output_type": "display_data"
    }
   ],
   "source": [
    "# combining dfs\n",
    "combined_df = rbind(ws_df, wf_df)\n",
    "head(combined_df)"
   ]
  },
  {
   "cell_type": "code",
   "execution_count": 5,
   "id": "6bcf9a9c-639c-46ca-9806-dcb9246095f1",
   "metadata": {},
   "outputs": [
    {
     "data": {
      "text/html": [
       "151"
      ],
      "text/latex": [
       "151"
      ],
      "text/markdown": [
       "151"
      ],
      "text/plain": [
       "[1] 151"
      ]
     },
     "metadata": {},
     "output_type": "display_data"
    },
    {
     "data": {
      "text/html": [
       "93"
      ],
      "text/latex": [
       "93"
      ],
      "text/markdown": [
       "93"
      ],
      "text/plain": [
       "[1] 93"
      ]
     },
     "metadata": {},
     "output_type": "display_data"
    },
    {
     "data": {
      "text/html": [
       "114"
      ],
      "text/latex": [
       "114"
      ],
      "text/markdown": [
       "114"
      ],
      "text/plain": [
       "[1] 114"
      ]
     },
     "metadata": {},
     "output_type": "display_data"
    }
   ],
   "source": [
    "length(unique(combined_df$Name))\n",
    "length(unique(ws_df$Name))\n",
    "length(unique(wf_df$Name))"
   ]
  },
  {
   "attachments": {},
   "cell_type": "markdown",
   "id": "d12ab21b-9ebd-4e1f-8bb3-f9c23e764ea5",
   "metadata": {},
   "source": [
    "228 unique metals/chemicals total.\n",
    "\n",
    "# Filter #1: Chemical/Metal Background Filters\n",
    "\n",
    "Determining what variables have missing data for all variables delineated based on the dfs the data will be split into and analyzed. \n",
    "\n",
    "A variable (ie. `Name` which represents a chemical or metal) will be retained if >= 20% of its experimental data points were measurable values. In other words, chemicals or metals were excluded if they had NAs (not evaluated) or had non-detect values across >= 80% of the samples."
   ]
  },
  {
   "cell_type": "code",
   "execution_count": 6,
   "id": "59c471fe-1657-4356-8ed6-35a8b6244188",
   "metadata": {},
   "outputs": [
    {
     "data": {
      "text/html": [
       "<table class=\"dataframe\">\n",
       "<caption>A tibble: 6 × 4</caption>\n",
       "<thead>\n",
       "\t<tr><th scope=col>Metric</th><th scope=col>Sample</th><th scope=col>Name</th><th scope=col>Variable_Presence_Percentage</th></tr>\n",
       "\t<tr><th scope=col>&lt;chr&gt;</th><th scope=col>&lt;chr&gt;</th><th scope=col>&lt;chr&gt;</th><th scope=col>&lt;dbl&gt;</th></tr>\n",
       "</thead>\n",
       "<tbody>\n",
       "\t<tr><td>Volume</td><td>WF</td><td>1,2,4-Trimethylbenzene</td><td>100.00000</td></tr>\n",
       "\t<tr><td>Volume</td><td>WF</td><td>Acenaphthene          </td><td> 21.05263</td></tr>\n",
       "\t<tr><td>Volume</td><td>WF</td><td>Acenaphthylene        </td><td>100.00000</td></tr>\n",
       "\t<tr><td>Volume</td><td>WF</td><td>Anthracene            </td><td> 42.10526</td></tr>\n",
       "\t<tr><td>Volume</td><td>WF</td><td>Arsenic               </td><td>100.00000</td></tr>\n",
       "\t<tr><td>Volume</td><td>WF</td><td>Benz(a)anthracene     </td><td>100.00000</td></tr>\n",
       "</tbody>\n",
       "</table>\n"
      ],
      "text/latex": [
       "A tibble: 6 × 4\n",
       "\\begin{tabular}{llll}\n",
       " Metric & Sample & Name & Variable\\_Presence\\_Percentage\\\\\n",
       " <chr> & <chr> & <chr> & <dbl>\\\\\n",
       "\\hline\n",
       "\t Volume & WF & 1,2,4-Trimethylbenzene & 100.00000\\\\\n",
       "\t Volume & WF & Acenaphthene           &  21.05263\\\\\n",
       "\t Volume & WF & Acenaphthylene         & 100.00000\\\\\n",
       "\t Volume & WF & Anthracene             &  42.10526\\\\\n",
       "\t Volume & WF & Arsenic                & 100.00000\\\\\n",
       "\t Volume & WF & Benz(a)anthracene      & 100.00000\\\\\n",
       "\\end{tabular}\n"
      ],
      "text/markdown": [
       "\n",
       "A tibble: 6 × 4\n",
       "\n",
       "| Metric &lt;chr&gt; | Sample &lt;chr&gt; | Name &lt;chr&gt; | Variable_Presence_Percentage &lt;dbl&gt; |\n",
       "|---|---|---|---|\n",
       "| Volume | WF | 1,2,4-Trimethylbenzene | 100.00000 |\n",
       "| Volume | WF | Acenaphthene           |  21.05263 |\n",
       "| Volume | WF | Acenaphthylene         | 100.00000 |\n",
       "| Volume | WF | Anthracene             |  42.10526 |\n",
       "| Volume | WF | Arsenic                | 100.00000 |\n",
       "| Volume | WF | Benz(a)anthracene      | 100.00000 |\n",
       "\n"
      ],
      "text/plain": [
       "  Metric Sample Name                   Variable_Presence_Percentage\n",
       "1 Volume WF     1,2,4-Trimethylbenzene 100.00000                   \n",
       "2 Volume WF     Acenaphthene            21.05263                   \n",
       "3 Volume WF     Acenaphthylene         100.00000                   \n",
       "4 Volume WF     Anthracene              42.10526                   \n",
       "5 Volume WF     Arsenic                100.00000                   \n",
       "6 Volume WF     Benz(a)anthracene      100.00000                   "
      ]
     },
     "metadata": {},
     "output_type": "display_data"
    }
   ],
   "source": [
    "`%notin%` <- Negate(`%in%`)\n",
    "\n",
    "sample_type_presence_df = combined_df %>%\n",
    "    # if an experimental value is there count it as being \"present\"\n",
    "    mutate(count = ifelse(Value %notin% c('NA', 'ND'), 1, 0)) %>%\n",
    "    # determining which have at least 20% experimental values for each chemical/metal\n",
    "    group_by(Metric, Sample, Name) %>%\n",
    "    # calculating the percentage of experimental data points\n",
    "    reframe(Variable_Presence_Percentage = (sum(count)/n()) * 100) %>%\n",
    "    filter(Variable_Presence_Percentage >= 20) \n",
    "\n",
    "head(sample_type_presence_df)"
   ]
  },
  {
   "cell_type": "code",
   "execution_count": 7,
   "id": "e9e0b6d6-d46b-4f37-81e9-f71cbf5eaefd",
   "metadata": {},
   "outputs": [
    {
     "name": "stderr",
     "output_type": "stream",
     "text": [
      "\u001b[1m\u001b[22mJoining with `by = join_by(Metric, Sample, Name)`\n"
     ]
    },
    {
     "data": {
      "text/html": [
       "<table class=\"dataframe\">\n",
       "<caption>A tibble: 6 × 9</caption>\n",
       "<thead>\n",
       "\t<tr><th scope=col>Metric</th><th scope=col>Sample</th><th scope=col>Name</th><th scope=col>HAWC_ID</th><th scope=col>Study</th><th scope=col>Sample_Number</th><th scope=col>Class</th><th scope=col>DTXSID</th><th scope=col>Value</th></tr>\n",
       "\t<tr><th scope=col>&lt;chr&gt;</th><th scope=col>&lt;chr&gt;</th><th scope=col>&lt;chr&gt;</th><th scope=col>&lt;dbl&gt;</th><th scope=col>&lt;chr&gt;</th><th scope=col>&lt;dbl&gt;</th><th scope=col>&lt;chr&gt;</th><th scope=col>&lt;chr&gt;</th><th scope=col>&lt;chr&gt;</th></tr>\n",
       "</thead>\n",
       "<tbody>\n",
       "\t<tr><td>Volume</td><td>WF</td><td>1,2,4-Trimethylbenzene</td><td>1289926</td><td>Wang et al. 2024       </td><td>1</td><td>VOC</td><td>DTXSID6021402</td><td>730 </td></tr>\n",
       "\t<tr><td>Volume</td><td>WF</td><td>1,2,4-Trimethylbenzene</td><td>1306371</td><td>Ketcherside et al. 2024</td><td>1</td><td>VOC</td><td>DTXSID6021402</td><td>130 </td></tr>\n",
       "\t<tr><td>Volume</td><td>WF</td><td>Acenaphthene          </td><td>1289895</td><td>Silberstein et al. 2023</td><td>1</td><td>PAH</td><td>DTXSID3021774</td><td>0.16</td></tr>\n",
       "\t<tr><td>Volume</td><td>WF</td><td>Acenaphthene          </td><td>1286055</td><td>Simms et al. 2021      </td><td>1</td><td>PAH</td><td>DTXSID3021774</td><td>NA  </td></tr>\n",
       "\t<tr><td>Volume</td><td>WF</td><td>Acenaphthene          </td><td>1285830</td><td>Navarro et al. 2019    </td><td>1</td><td>PAH</td><td>DTXSID3021774</td><td>2   </td></tr>\n",
       "\t<tr><td>Volume</td><td>WF</td><td>Acenaphthene          </td><td>1285830</td><td>Navarro et al. 2019    </td><td>2</td><td>PAH</td><td>DTXSID3021774</td><td>2   </td></tr>\n",
       "</tbody>\n",
       "</table>\n"
      ],
      "text/latex": [
       "A tibble: 6 × 9\n",
       "\\begin{tabular}{lllllllll}\n",
       " Metric & Sample & Name & HAWC\\_ID & Study & Sample\\_Number & Class & DTXSID & Value\\\\\n",
       " <chr> & <chr> & <chr> & <dbl> & <chr> & <dbl> & <chr> & <chr> & <chr>\\\\\n",
       "\\hline\n",
       "\t Volume & WF & 1,2,4-Trimethylbenzene & 1289926 & Wang et al. 2024        & 1 & VOC & DTXSID6021402 & 730 \\\\\n",
       "\t Volume & WF & 1,2,4-Trimethylbenzene & 1306371 & Ketcherside et al. 2024 & 1 & VOC & DTXSID6021402 & 130 \\\\\n",
       "\t Volume & WF & Acenaphthene           & 1289895 & Silberstein et al. 2023 & 1 & PAH & DTXSID3021774 & 0.16\\\\\n",
       "\t Volume & WF & Acenaphthene           & 1286055 & Simms et al. 2021       & 1 & PAH & DTXSID3021774 & NA  \\\\\n",
       "\t Volume & WF & Acenaphthene           & 1285830 & Navarro et al. 2019     & 1 & PAH & DTXSID3021774 & 2   \\\\\n",
       "\t Volume & WF & Acenaphthene           & 1285830 & Navarro et al. 2019     & 2 & PAH & DTXSID3021774 & 2   \\\\\n",
       "\\end{tabular}\n"
      ],
      "text/markdown": [
       "\n",
       "A tibble: 6 × 9\n",
       "\n",
       "| Metric &lt;chr&gt; | Sample &lt;chr&gt; | Name &lt;chr&gt; | HAWC_ID &lt;dbl&gt; | Study &lt;chr&gt; | Sample_Number &lt;dbl&gt; | Class &lt;chr&gt; | DTXSID &lt;chr&gt; | Value &lt;chr&gt; |\n",
       "|---|---|---|---|---|---|---|---|---|\n",
       "| Volume | WF | 1,2,4-Trimethylbenzene | 1289926 | Wang et al. 2024        | 1 | VOC | DTXSID6021402 | 730  |\n",
       "| Volume | WF | 1,2,4-Trimethylbenzene | 1306371 | Ketcherside et al. 2024 | 1 | VOC | DTXSID6021402 | 130  |\n",
       "| Volume | WF | Acenaphthene           | 1289895 | Silberstein et al. 2023 | 1 | PAH | DTXSID3021774 | 0.16 |\n",
       "| Volume | WF | Acenaphthene           | 1286055 | Simms et al. 2021       | 1 | PAH | DTXSID3021774 | NA   |\n",
       "| Volume | WF | Acenaphthene           | 1285830 | Navarro et al. 2019     | 1 | PAH | DTXSID3021774 | 2    |\n",
       "| Volume | WF | Acenaphthene           | 1285830 | Navarro et al. 2019     | 2 | PAH | DTXSID3021774 | 2    |\n",
       "\n"
      ],
      "text/plain": [
       "  Metric Sample Name                   HAWC_ID Study                  \n",
       "1 Volume WF     1,2,4-Trimethylbenzene 1289926 Wang et al. 2024       \n",
       "2 Volume WF     1,2,4-Trimethylbenzene 1306371 Ketcherside et al. 2024\n",
       "3 Volume WF     Acenaphthene           1289895 Silberstein et al. 2023\n",
       "4 Volume WF     Acenaphthene           1286055 Simms et al. 2021      \n",
       "5 Volume WF     Acenaphthene           1285830 Navarro et al. 2019    \n",
       "6 Volume WF     Acenaphthene           1285830 Navarro et al. 2019    \n",
       "  Sample_Number Class DTXSID        Value\n",
       "1 1             VOC   DTXSID6021402 730  \n",
       "2 1             VOC   DTXSID6021402 130  \n",
       "3 1             PAH   DTXSID3021774 0.16 \n",
       "4 1             PAH   DTXSID3021774 NA   \n",
       "5 1             PAH   DTXSID3021774 2    \n",
       "6 2             PAH   DTXSID3021774 2    "
      ]
     },
     "metadata": {},
     "output_type": "display_data"
    }
   ],
   "source": [
    "# filtering the original df\n",
    "filter1_df = inner_join(sample_type_presence_df[,1:3], combined_df) \n",
    "\n",
    "head(filter1_df)"
   ]
  },
  {
   "cell_type": "code",
   "execution_count": 8,
   "id": "681aa152-2060-42cb-8f55-e4dd2ea81370",
   "metadata": {},
   "outputs": [
    {
     "data": {
      "text/html": [
       "<style>\n",
       ".list-inline {list-style: none; margin:0; padding: 0}\n",
       ".list-inline>li {display: inline-block}\n",
       ".list-inline>li:not(:last-child)::after {content: \"\\00b7\"; padding: 0 .5ex}\n",
       "</style>\n",
       "<ol class=list-inline><li>6548</li><li>9</li></ol>\n"
      ],
      "text/latex": [
       "\\begin{enumerate*}\n",
       "\\item 6548\n",
       "\\item 9\n",
       "\\end{enumerate*}\n"
      ],
      "text/markdown": [
       "1. 6548\n",
       "2. 9\n",
       "\n",
       "\n"
      ],
      "text/plain": [
       "[1] 6548    9"
      ]
     },
     "metadata": {},
     "output_type": "display_data"
    }
   ],
   "source": [
    "dim(filter1_df)"
   ]
  },
  {
   "cell_type": "markdown",
   "id": "744bb359-5b56-4821-8613-66bfaf0a2271",
   "metadata": {},
   "source": [
    "Started with 7796 records, 1786 were removed, leaving 6010. \n",
    "\n",
    "# Filter #2: Study Background Filter\n",
    "\n",
    "A study will be retained if >= 20% of its experimental data points were measurable values. In other words, chemicals were excluded if they were NAs (not evaluated) or had non-detect values across < 20% of the samples."
   ]
  },
  {
   "cell_type": "code",
   "execution_count": 9,
   "id": "24e392b1-550e-4cb4-a5a7-012731dc5b3f",
   "metadata": {},
   "outputs": [
    {
     "data": {
      "text/html": [
       "<table class=\"dataframe\">\n",
       "<caption>A tibble: 6 × 4</caption>\n",
       "<thead>\n",
       "\t<tr><th scope=col>Metric</th><th scope=col>Class</th><th scope=col>HAWC_ID</th><th scope=col>Study_Presence_Percentage</th></tr>\n",
       "\t<tr><th scope=col>&lt;chr&gt;</th><th scope=col>&lt;chr&gt;</th><th scope=col>&lt;dbl&gt;</th><th scope=col>&lt;dbl&gt;</th></tr>\n",
       "</thead>\n",
       "<tbody>\n",
       "\t<tr><td>Volume</td><td>Metal</td><td> 266980</td><td>100</td></tr>\n",
       "\t<tr><td>Volume</td><td>Metal</td><td> 266987</td><td>100</td></tr>\n",
       "\t<tr><td>Volume</td><td>Metal</td><td> 452289</td><td>100</td></tr>\n",
       "\t<tr><td>Volume</td><td>Metal</td><td> 885041</td><td>100</td></tr>\n",
       "\t<tr><td>Volume</td><td>Metal</td><td> 993956</td><td>100</td></tr>\n",
       "\t<tr><td>Volume</td><td>Metal</td><td>1070627</td><td>100</td></tr>\n",
       "</tbody>\n",
       "</table>\n"
      ],
      "text/latex": [
       "A tibble: 6 × 4\n",
       "\\begin{tabular}{llll}\n",
       " Metric & Class & HAWC\\_ID & Study\\_Presence\\_Percentage\\\\\n",
       " <chr> & <chr> & <dbl> & <dbl>\\\\\n",
       "\\hline\n",
       "\t Volume & Metal &  266980 & 100\\\\\n",
       "\t Volume & Metal &  266987 & 100\\\\\n",
       "\t Volume & Metal &  452289 & 100\\\\\n",
       "\t Volume & Metal &  885041 & 100\\\\\n",
       "\t Volume & Metal &  993956 & 100\\\\\n",
       "\t Volume & Metal & 1070627 & 100\\\\\n",
       "\\end{tabular}\n"
      ],
      "text/markdown": [
       "\n",
       "A tibble: 6 × 4\n",
       "\n",
       "| Metric &lt;chr&gt; | Class &lt;chr&gt; | HAWC_ID &lt;dbl&gt; | Study_Presence_Percentage &lt;dbl&gt; |\n",
       "|---|---|---|---|\n",
       "| Volume | Metal |  266980 | 100 |\n",
       "| Volume | Metal |  266987 | 100 |\n",
       "| Volume | Metal |  452289 | 100 |\n",
       "| Volume | Metal |  885041 | 100 |\n",
       "| Volume | Metal |  993956 | 100 |\n",
       "| Volume | Metal | 1070627 | 100 |\n",
       "\n"
      ],
      "text/plain": [
       "  Metric Class HAWC_ID Study_Presence_Percentage\n",
       "1 Volume Metal  266980 100                      \n",
       "2 Volume Metal  266987 100                      \n",
       "3 Volume Metal  452289 100                      \n",
       "4 Volume Metal  885041 100                      \n",
       "5 Volume Metal  993956 100                      \n",
       "6 Volume Metal 1070627 100                      "
      ]
     },
     "metadata": {},
     "output_type": "display_data"
    }
   ],
   "source": [
    "study_type_presence_df = filter1_df %>%\n",
    "    # if an experimental value is there count it as being \"present\"\n",
    "    mutate(count = ifelse(Value %notin% c('NA', 'ND'), 1, 0)) %>%\n",
    "    # determining which have at least 20% experimental values for each chemical/metal\n",
    "    group_by(Metric, Class, HAWC_ID) %>%\n",
    "    # calculating the percentage of experimental data points\n",
    "    reframe(Study_Presence_Percentage = (sum(count)/n()) * 100) %>%\n",
    "    filter(Study_Presence_Percentage >= 20) \n",
    "\n",
    "head(study_type_presence_df)"
   ]
  },
  {
   "cell_type": "code",
   "execution_count": 10,
   "id": "f0593ecb-fe86-49e3-ad96-51ef9d47d27c",
   "metadata": {},
   "outputs": [
    {
     "name": "stderr",
     "output_type": "stream",
     "text": [
      "\u001b[1m\u001b[22mJoining with `by = join_by(Metric, Class, HAWC_ID)`\n"
     ]
    },
    {
     "data": {
      "text/html": [
       "<table class=\"dataframe\">\n",
       "<caption>A tibble: 6 × 9</caption>\n",
       "<thead>\n",
       "\t<tr><th scope=col>Metric</th><th scope=col>Class</th><th scope=col>HAWC_ID</th><th scope=col>Sample</th><th scope=col>Name</th><th scope=col>Study</th><th scope=col>Sample_Number</th><th scope=col>DTXSID</th><th scope=col>Value</th></tr>\n",
       "\t<tr><th scope=col>&lt;chr&gt;</th><th scope=col>&lt;chr&gt;</th><th scope=col>&lt;dbl&gt;</th><th scope=col>&lt;chr&gt;</th><th scope=col>&lt;chr&gt;</th><th scope=col>&lt;chr&gt;</th><th scope=col>&lt;dbl&gt;</th><th scope=col>&lt;chr&gt;</th><th scope=col>&lt;chr&gt;</th></tr>\n",
       "</thead>\n",
       "<tbody>\n",
       "\t<tr><td>Volume</td><td>Metal</td><td>266980</td><td>WS</td><td>Lead     </td><td>Stockfelt et al. 2012</td><td>1</td><td>Pb</td><td>170 </td></tr>\n",
       "\t<tr><td>Volume</td><td>Metal</td><td>266980</td><td>WS</td><td>Lead     </td><td>Stockfelt et al. 2012</td><td>2</td><td>Pb</td><td>400 </td></tr>\n",
       "\t<tr><td>Volume</td><td>Metal</td><td>266980</td><td>WS</td><td>Potassium</td><td>Stockfelt et al. 2012</td><td>1</td><td>K </td><td>9700</td></tr>\n",
       "\t<tr><td>Volume</td><td>Metal</td><td>266980</td><td>WS</td><td>Potassium</td><td>Stockfelt et al. 2012</td><td>2</td><td>K </td><td>8800</td></tr>\n",
       "\t<tr><td>Volume</td><td>Metal</td><td>266980</td><td>WS</td><td>Zinc     </td><td>Stockfelt et al. 2012</td><td>1</td><td>Zn</td><td>2400</td></tr>\n",
       "\t<tr><td>Volume</td><td>Metal</td><td>266980</td><td>WS</td><td>Zinc     </td><td>Stockfelt et al. 2012</td><td>2</td><td>Zn</td><td>3100</td></tr>\n",
       "</tbody>\n",
       "</table>\n"
      ],
      "text/latex": [
       "A tibble: 6 × 9\n",
       "\\begin{tabular}{lllllllll}\n",
       " Metric & Class & HAWC\\_ID & Sample & Name & Study & Sample\\_Number & DTXSID & Value\\\\\n",
       " <chr> & <chr> & <dbl> & <chr> & <chr> & <chr> & <dbl> & <chr> & <chr>\\\\\n",
       "\\hline\n",
       "\t Volume & Metal & 266980 & WS & Lead      & Stockfelt et al. 2012 & 1 & Pb & 170 \\\\\n",
       "\t Volume & Metal & 266980 & WS & Lead      & Stockfelt et al. 2012 & 2 & Pb & 400 \\\\\n",
       "\t Volume & Metal & 266980 & WS & Potassium & Stockfelt et al. 2012 & 1 & K  & 9700\\\\\n",
       "\t Volume & Metal & 266980 & WS & Potassium & Stockfelt et al. 2012 & 2 & K  & 8800\\\\\n",
       "\t Volume & Metal & 266980 & WS & Zinc      & Stockfelt et al. 2012 & 1 & Zn & 2400\\\\\n",
       "\t Volume & Metal & 266980 & WS & Zinc      & Stockfelt et al. 2012 & 2 & Zn & 3100\\\\\n",
       "\\end{tabular}\n"
      ],
      "text/markdown": [
       "\n",
       "A tibble: 6 × 9\n",
       "\n",
       "| Metric &lt;chr&gt; | Class &lt;chr&gt; | HAWC_ID &lt;dbl&gt; | Sample &lt;chr&gt; | Name &lt;chr&gt; | Study &lt;chr&gt; | Sample_Number &lt;dbl&gt; | DTXSID &lt;chr&gt; | Value &lt;chr&gt; |\n",
       "|---|---|---|---|---|---|---|---|---|\n",
       "| Volume | Metal | 266980 | WS | Lead      | Stockfelt et al. 2012 | 1 | Pb | 170  |\n",
       "| Volume | Metal | 266980 | WS | Lead      | Stockfelt et al. 2012 | 2 | Pb | 400  |\n",
       "| Volume | Metal | 266980 | WS | Potassium | Stockfelt et al. 2012 | 1 | K  | 9700 |\n",
       "| Volume | Metal | 266980 | WS | Potassium | Stockfelt et al. 2012 | 2 | K  | 8800 |\n",
       "| Volume | Metal | 266980 | WS | Zinc      | Stockfelt et al. 2012 | 1 | Zn | 2400 |\n",
       "| Volume | Metal | 266980 | WS | Zinc      | Stockfelt et al. 2012 | 2 | Zn | 3100 |\n",
       "\n"
      ],
      "text/plain": [
       "  Metric Class HAWC_ID Sample Name      Study                 Sample_Number\n",
       "1 Volume Metal 266980  WS     Lead      Stockfelt et al. 2012 1            \n",
       "2 Volume Metal 266980  WS     Lead      Stockfelt et al. 2012 2            \n",
       "3 Volume Metal 266980  WS     Potassium Stockfelt et al. 2012 1            \n",
       "4 Volume Metal 266980  WS     Potassium Stockfelt et al. 2012 2            \n",
       "5 Volume Metal 266980  WS     Zinc      Stockfelt et al. 2012 1            \n",
       "6 Volume Metal 266980  WS     Zinc      Stockfelt et al. 2012 2            \n",
       "  DTXSID Value\n",
       "1 Pb     170  \n",
       "2 Pb     400  \n",
       "3 K      9700 \n",
       "4 K      8800 \n",
       "5 Zn     2400 \n",
       "6 Zn     3100 "
      ]
     },
     "metadata": {},
     "output_type": "display_data"
    }
   ],
   "source": [
    "filter2_df = inner_join(study_type_presence_df[,1:3], filter1_df)\n",
    "\n",
    "head(filter2_df)"
   ]
  },
  {
   "cell_type": "code",
   "execution_count": 11,
   "id": "b5090a5d-09e8-4f61-a732-6d338c340e90",
   "metadata": {},
   "outputs": [
    {
     "data": {
      "text/html": [
       "<style>\n",
       ".list-inline {list-style: none; margin:0; padding: 0}\n",
       ".list-inline>li {display: inline-block}\n",
       ".list-inline>li:not(:last-child)::after {content: \"\\00b7\"; padding: 0 .5ex}\n",
       "</style>\n",
       "<ol class=list-inline><li>6548</li><li>9</li></ol>\n"
      ],
      "text/latex": [
       "\\begin{enumerate*}\n",
       "\\item 6548\n",
       "\\item 9\n",
       "\\end{enumerate*}\n"
      ],
      "text/markdown": [
       "1. 6548\n",
       "2. 9\n",
       "\n",
       "\n"
      ],
      "text/plain": [
       "[1] 6548    9"
      ]
     },
     "metadata": {},
     "output_type": "display_data"
    },
    {
     "data": {
      "text/html": [
       "<style>\n",
       ".list-inline {list-style: none; margin:0; padding: 0}\n",
       ".list-inline>li {display: inline-block}\n",
       ".list-inline>li:not(:last-child)::after {content: \"\\00b7\"; padding: 0 .5ex}\n",
       "</style>\n",
       "<ol class=list-inline><li>6426</li><li>9</li></ol>\n"
      ],
      "text/latex": [
       "\\begin{enumerate*}\n",
       "\\item 6426\n",
       "\\item 9\n",
       "\\end{enumerate*}\n"
      ],
      "text/markdown": [
       "1. 6426\n",
       "2. 9\n",
       "\n",
       "\n"
      ],
      "text/plain": [
       "[1] 6426    9"
      ]
     },
     "metadata": {},
     "output_type": "display_data"
    }
   ],
   "source": [
    "dim(filter1_df)\n",
    "dim(filter2_df)"
   ]
  },
  {
   "cell_type": "markdown",
   "id": "f1a9197d-f07d-4082-97d0-4c15b3649530",
   "metadata": {},
   "source": [
    "299 more records were removed."
   ]
  },
  {
   "cell_type": "markdown",
   "id": "0ac78909-f866-4a63-a3fa-f9c8390f883a",
   "metadata": {},
   "source": [
    "# Filter #3: Chemical/Metal Background Filter\n",
    "\n",
    "In the intial filter, WS and WF samples were combined. However, this time variables (ie. metal or chemical) will be split based on their `Metric` (ie. volume or weight) and then retained if that variable is found in both woodsmoke and wildfire samples within volume or weight samples."
   ]
  },
  {
   "cell_type": "code",
   "execution_count": 12,
   "id": "89bb63c0-0315-45a6-b462-7a1517c9ca36",
   "metadata": {},
   "outputs": [],
   "source": [
    "split_filtered_df = filter2_df %>%\n",
    "    group_by(Sample, Metric) %>%\n",
    "    group_split\n",
    "\n",
    "split_ws_vol_df = split_filtered_df[[3]]\n",
    "split_ws_weight_df = split_filtered_df[[4]]\n",
    "split_wf_vol_df = split_filtered_df[[1]]\n",
    "split_wf_weight_df = split_filtered_df[[2]]"
   ]
  },
  {
   "cell_type": "code",
   "execution_count": 13,
   "id": "2cecba03-59a4-4e90-8f45-78ca4911fff8",
   "metadata": {},
   "outputs": [
    {
     "data": {
      "text/html": [
       "77"
      ],
      "text/latex": [
       "77"
      ],
      "text/markdown": [
       "77"
      ],
      "text/plain": [
       "[1] 77"
      ]
     },
     "metadata": {},
     "output_type": "display_data"
    },
    {
     "data": {
      "text/html": [
       "57"
      ],
      "text/latex": [
       "57"
      ],
      "text/markdown": [
       "57"
      ],
      "text/plain": [
       "[1] 57"
      ]
     },
     "metadata": {},
     "output_type": "display_data"
    },
    {
     "data": {
      "text/html": [
       "51"
      ],
      "text/latex": [
       "51"
      ],
      "text/markdown": [
       "51"
      ],
      "text/plain": [
       "[1] 51"
      ]
     },
     "metadata": {},
     "output_type": "display_data"
    },
    {
     "data": {
      "text/html": [
       "89"
      ],
      "text/latex": [
       "89"
      ],
      "text/markdown": [
       "89"
      ],
      "text/plain": [
       "[1] 89"
      ]
     },
     "metadata": {},
     "output_type": "display_data"
    }
   ],
   "source": [
    "# seeing how many unique variables are in each df and if they're consistent in each file\n",
    "length(unique(split_ws_vol_df$Name))\n",
    "length(unique(split_wf_vol_df$Name))\n",
    "length(unique(split_ws_weight_df$Name))\n",
    "length(unique(split_wf_weight_df$Name))"
   ]
  },
  {
   "cell_type": "code",
   "execution_count": 14,
   "id": "1268b1ed-2523-443e-8071-ee5512082aca",
   "metadata": {},
   "outputs": [
    {
     "data": {
      "text/html": [
       "37"
      ],
      "text/latex": [
       "37"
      ],
      "text/markdown": [
       "37"
      ],
      "text/plain": [
       "[1] 37"
      ]
     },
     "metadata": {},
     "output_type": "display_data"
    },
    {
     "data": {
      "text/html": [
       "37"
      ],
      "text/latex": [
       "37"
      ],
      "text/markdown": [
       "37"
      ],
      "text/plain": [
       "[1] 37"
      ]
     },
     "metadata": {},
     "output_type": "display_data"
    },
    {
     "data": {
      "text/html": [
       "37"
      ],
      "text/latex": [
       "37"
      ],
      "text/markdown": [
       "37"
      ],
      "text/plain": [
       "[1] 37"
      ]
     },
     "metadata": {},
     "output_type": "display_data"
    },
    {
     "data": {
      "text/html": [
       "37"
      ],
      "text/latex": [
       "37"
      ],
      "text/markdown": [
       "37"
      ],
      "text/plain": [
       "[1] 37"
      ]
     },
     "metadata": {},
     "output_type": "display_data"
    }
   ],
   "source": [
    "# they're not so first getting variables that are in weight or volume samples\n",
    "consistent_wf_vol_df = split_wf_vol_df %>%\n",
    "    filter(Name %in% unique(split_ws_vol_df$Name))\n",
    "consistent_ws_vol_df = split_ws_vol_df %>%\n",
    "    filter(Name %in% consistent_wf_vol_df$Name)\n",
    "consistent_wf_weight_df = split_wf_weight_df %>%\n",
    "    filter(Name %in% unique(split_ws_weight_df$Name))\n",
    "consistent_ws_weight_df = split_ws_weight_df %>%\n",
    "    filter(Name %in% consistent_wf_weight_df$Name)\n",
    "\n",
    "length(unique(consistent_wf_vol_df$Name))\n",
    "length(unique(consistent_ws_vol_df$Name))\n",
    "length(unique(consistent_wf_weight_df$Name))\n",
    "length(unique(consistent_ws_weight_df$Name))"
   ]
  },
  {
   "cell_type": "markdown",
   "id": "cd89d802-380e-4dda-aff6-099b3710daec",
   "metadata": {},
   "source": [
    "There were 98, 68, 94 and 70 woodsmoke weight, woodsmoke volume, wildfire weight, and wildfire volume samples, respectively. 33 variables were common between volume samples and 34 were common between weight records and will be retained."
   ]
  },
  {
   "cell_type": "code",
   "execution_count": 15,
   "id": "461a6731-b974-43f7-adf9-e4bce0e9bccf",
   "metadata": {},
   "outputs": [
    {
     "data": {
      "text/html": [
       "<table class=\"dataframe\">\n",
       "<caption>A tibble: 6 × 9</caption>\n",
       "<thead>\n",
       "\t<tr><th scope=col>Metric</th><th scope=col>Class</th><th scope=col>HAWC_ID</th><th scope=col>Sample</th><th scope=col>Name</th><th scope=col>Study</th><th scope=col>Sample_Number</th><th scope=col>DTXSID</th><th scope=col>Value</th></tr>\n",
       "\t<tr><th scope=col>&lt;chr&gt;</th><th scope=col>&lt;chr&gt;</th><th scope=col>&lt;dbl&gt;</th><th scope=col>&lt;chr&gt;</th><th scope=col>&lt;chr&gt;</th><th scope=col>&lt;chr&gt;</th><th scope=col>&lt;dbl&gt;</th><th scope=col>&lt;chr&gt;</th><th scope=col>&lt;chr&gt;</th></tr>\n",
       "</thead>\n",
       "<tbody>\n",
       "\t<tr><td>Volume</td><td>Metal</td><td>266980</td><td>WS</td><td>Lead     </td><td>Stockfelt et al. 2012</td><td>1</td><td>Pb</td><td>170 </td></tr>\n",
       "\t<tr><td>Volume</td><td>Metal</td><td>266980</td><td>WS</td><td>Lead     </td><td>Stockfelt et al. 2012</td><td>2</td><td>Pb</td><td>400 </td></tr>\n",
       "\t<tr><td>Volume</td><td>Metal</td><td>266980</td><td>WS</td><td>Potassium</td><td>Stockfelt et al. 2012</td><td>1</td><td>K </td><td>9700</td></tr>\n",
       "\t<tr><td>Volume</td><td>Metal</td><td>266980</td><td>WS</td><td>Potassium</td><td>Stockfelt et al. 2012</td><td>2</td><td>K </td><td>8800</td></tr>\n",
       "\t<tr><td>Volume</td><td>Metal</td><td>266980</td><td>WS</td><td>Zinc     </td><td>Stockfelt et al. 2012</td><td>1</td><td>Zn</td><td>2400</td></tr>\n",
       "\t<tr><td>Volume</td><td>Metal</td><td>266980</td><td>WS</td><td>Zinc     </td><td>Stockfelt et al. 2012</td><td>2</td><td>Zn</td><td>3100</td></tr>\n",
       "</tbody>\n",
       "</table>\n"
      ],
      "text/latex": [
       "A tibble: 6 × 9\n",
       "\\begin{tabular}{lllllllll}\n",
       " Metric & Class & HAWC\\_ID & Sample & Name & Study & Sample\\_Number & DTXSID & Value\\\\\n",
       " <chr> & <chr> & <dbl> & <chr> & <chr> & <chr> & <dbl> & <chr> & <chr>\\\\\n",
       "\\hline\n",
       "\t Volume & Metal & 266980 & WS & Lead      & Stockfelt et al. 2012 & 1 & Pb & 170 \\\\\n",
       "\t Volume & Metal & 266980 & WS & Lead      & Stockfelt et al. 2012 & 2 & Pb & 400 \\\\\n",
       "\t Volume & Metal & 266980 & WS & Potassium & Stockfelt et al. 2012 & 1 & K  & 9700\\\\\n",
       "\t Volume & Metal & 266980 & WS & Potassium & Stockfelt et al. 2012 & 2 & K  & 8800\\\\\n",
       "\t Volume & Metal & 266980 & WS & Zinc      & Stockfelt et al. 2012 & 1 & Zn & 2400\\\\\n",
       "\t Volume & Metal & 266980 & WS & Zinc      & Stockfelt et al. 2012 & 2 & Zn & 3100\\\\\n",
       "\\end{tabular}\n"
      ],
      "text/markdown": [
       "\n",
       "A tibble: 6 × 9\n",
       "\n",
       "| Metric &lt;chr&gt; | Class &lt;chr&gt; | HAWC_ID &lt;dbl&gt; | Sample &lt;chr&gt; | Name &lt;chr&gt; | Study &lt;chr&gt; | Sample_Number &lt;dbl&gt; | DTXSID &lt;chr&gt; | Value &lt;chr&gt; |\n",
       "|---|---|---|---|---|---|---|---|---|\n",
       "| Volume | Metal | 266980 | WS | Lead      | Stockfelt et al. 2012 | 1 | Pb | 170  |\n",
       "| Volume | Metal | 266980 | WS | Lead      | Stockfelt et al. 2012 | 2 | Pb | 400  |\n",
       "| Volume | Metal | 266980 | WS | Potassium | Stockfelt et al. 2012 | 1 | K  | 9700 |\n",
       "| Volume | Metal | 266980 | WS | Potassium | Stockfelt et al. 2012 | 2 | K  | 8800 |\n",
       "| Volume | Metal | 266980 | WS | Zinc      | Stockfelt et al. 2012 | 1 | Zn | 2400 |\n",
       "| Volume | Metal | 266980 | WS | Zinc      | Stockfelt et al. 2012 | 2 | Zn | 3100 |\n",
       "\n"
      ],
      "text/plain": [
       "  Metric Class HAWC_ID Sample Name      Study                 Sample_Number\n",
       "1 Volume Metal 266980  WS     Lead      Stockfelt et al. 2012 1            \n",
       "2 Volume Metal 266980  WS     Lead      Stockfelt et al. 2012 2            \n",
       "3 Volume Metal 266980  WS     Potassium Stockfelt et al. 2012 1            \n",
       "4 Volume Metal 266980  WS     Potassium Stockfelt et al. 2012 2            \n",
       "5 Volume Metal 266980  WS     Zinc      Stockfelt et al. 2012 1            \n",
       "6 Volume Metal 266980  WS     Zinc      Stockfelt et al. 2012 2            \n",
       "  DTXSID Value\n",
       "1 Pb     170  \n",
       "2 Pb     400  \n",
       "3 K      9700 \n",
       "4 K      8800 \n",
       "5 Zn     2400 \n",
       "6 Zn     3100 "
      ]
     },
     "metadata": {},
     "output_type": "display_data"
    }
   ],
   "source": [
    "# recombining data\n",
    "vol_df = rbind(consistent_ws_vol_df, consistent_wf_vol_df)\n",
    "weight_df = rbind(consistent_ws_weight_df, consistent_wf_weight_df)\n",
    "\n",
    "head(vol_df)"
   ]
  },
  {
   "cell_type": "markdown",
   "id": "12249f65-761e-4dbc-8231-8c455e6d3120",
   "metadata": {},
   "source": [
    "# Square Root Imputation\n",
    "\n",
    "Taking the square root of the min value to impute MNAR data."
   ]
  },
  {
   "cell_type": "code",
   "execution_count": 16,
   "id": "bd2640d9-2f97-4395-9fc2-61375385f658",
   "metadata": {
    "scrolled": true
   },
   "outputs": [
    {
     "data": {
      "text/html": [
       "<table class=\"dataframe\">\n",
       "<caption>A data.frame: 128 × 10</caption>\n",
       "<thead>\n",
       "\t<tr><th scope=col>Sample</th><th scope=col>HAWC_ID</th><th scope=col>Study</th><th scope=col>Sample_Number</th><th scope=col>Class</th><th scope=col>Metric</th><th scope=col>DTXSID</th><th scope=col>Name</th><th scope=col>Value</th><th scope=col>count</th></tr>\n",
       "\t<tr><th scope=col>&lt;chr&gt;</th><th scope=col>&lt;dbl&gt;</th><th scope=col>&lt;chr&gt;</th><th scope=col>&lt;dbl&gt;</th><th scope=col>&lt;chr&gt;</th><th scope=col>&lt;chr&gt;</th><th scope=col>&lt;chr&gt;</th><th scope=col>&lt;chr&gt;</th><th scope=col>&lt;chr&gt;</th><th scope=col>&lt;dbl&gt;</th></tr>\n",
       "</thead>\n",
       "<tbody>\n",
       "\t<tr><td>WS</td><td>1063040</td><td>Asita et al. 1991</td><td>1</td><td>PAH</td><td>Weight</td><td>DTXSID6025648 </td><td>1-Methylphenanthrene  </td><td>NA  </td><td>0</td></tr>\n",
       "\t<tr><td>WS</td><td>1063040</td><td>Asita et al. 1991</td><td>1</td><td>PAH</td><td>Weight</td><td>DTXSID0025654 </td><td>1-Methylpyrene        </td><td>NA  </td><td>0</td></tr>\n",
       "\t<tr><td>WS</td><td>1063040</td><td>Asita et al. 1991</td><td>1</td><td>PAH</td><td>Weight</td><td>DTXSID4020878 </td><td>2-Methylnaphthalene   </td><td>NA  </td><td>0</td></tr>\n",
       "\t<tr><td>WS</td><td>1063040</td><td>Asita et al. 1991</td><td>1</td><td>PAH</td><td>Weight</td><td>DTXSID4063030 </td><td>2-Methylpyrene        </td><td>NA  </td><td>0</td></tr>\n",
       "\t<tr><td>WS</td><td>1063040</td><td>Asita et al. 1991</td><td>1</td><td>PAH</td><td>Weight</td><td>DTXSID50187178</td><td>4-Methylpyrene        </td><td>NA  </td><td>0</td></tr>\n",
       "\t<tr><td>WS</td><td>1063040</td><td>Asita et al. 1991</td><td>1</td><td>PAH</td><td>Weight</td><td>DTXSID6063143 </td><td>5-Methylchrysene      </td><td>NA  </td><td>0</td></tr>\n",
       "\t<tr><td>WS</td><td>1063040</td><td>Asita et al. 1991</td><td>1</td><td>PAH</td><td>Weight</td><td>DTXSID3021774 </td><td>Acenaphthene          </td><td>NA  </td><td>0</td></tr>\n",
       "\t<tr><td>WS</td><td>1063040</td><td>Asita et al. 1991</td><td>1</td><td>PAH</td><td>Weight</td><td>DTXSID3023845 </td><td>Acenaphthylene        </td><td>NA  </td><td>0</td></tr>\n",
       "\t<tr><td>WS</td><td>1063040</td><td>Asita et al. 1991</td><td>1</td><td>PAH</td><td>Weight</td><td>DTXSID9075452 </td><td>Anthanthrene          </td><td>NA  </td><td>0</td></tr>\n",
       "\t<tr><td>WS</td><td>1063040</td><td>Asita et al. 1991</td><td>1</td><td>PAH</td><td>Weight</td><td>DTXSID0023878 </td><td>Anthracene            </td><td>NA  </td><td>0</td></tr>\n",
       "\t<tr><td>WS</td><td>1063040</td><td>Asita et al. 1991</td><td>1</td><td>PAH</td><td>Weight</td><td>DTXSID5023902 </td><td>Benzo(a)anthracene    </td><td>20.3</td><td>1</td></tr>\n",
       "\t<tr><td>WS</td><td>1063040</td><td>Asita et al. 1991</td><td>1</td><td>PAH</td><td>Weight</td><td>DTXSID2020139 </td><td>Benzo(a)pyrene        </td><td>17.5</td><td>1</td></tr>\n",
       "\t<tr><td>WS</td><td>1063040</td><td>Asita et al. 1991</td><td>1</td><td>PAH</td><td>Weight</td><td>DTXSID0023907 </td><td>Benzo(b)fluoranthene  </td><td>NA  </td><td>0</td></tr>\n",
       "\t<tr><td>WS</td><td>1063040</td><td>Asita et al. 1991</td><td>1</td><td>PAH</td><td>Weight</td><td>DTXSID3023764 </td><td>Benzo(e)pyrene        </td><td>NA  </td><td>0</td></tr>\n",
       "\t<tr><td>WS</td><td>1063040</td><td>Asita et al. 1991</td><td>1</td><td>PAH</td><td>Weight</td><td>DTXSID5023908 </td><td>Benzo(GHI)perylene    </td><td>10  </td><td>1</td></tr>\n",
       "\t<tr><td>WS</td><td>1063040</td><td>Asita et al. 1991</td><td>1</td><td>PAH</td><td>Weight</td><td>DTXSID8052691 </td><td>Benzo(j)fluoranthene  </td><td>NA  </td><td>0</td></tr>\n",
       "\t<tr><td>WS</td><td>1063040</td><td>Asita et al. 1991</td><td>1</td><td>PAH</td><td>Weight</td><td>DTXSID0023909 </td><td>Benzo(k)fluoranthene  </td><td>7.4 </td><td>1</td></tr>\n",
       "\t<tr><td>WS</td><td>1063040</td><td>Asita et al. 1991</td><td>1</td><td>PAH</td><td>Weight</td><td>DTXSID5047740 </td><td>Coronene              </td><td>NA  </td><td>0</td></tr>\n",
       "\t<tr><td>WS</td><td>1063040</td><td>Asita et al. 1991</td><td>1</td><td>PAH</td><td>Weight</td><td>DTXSID6062591 </td><td>Cyclopenta(cd)pyrene  </td><td>NA  </td><td>0</td></tr>\n",
       "\t<tr><td>WS</td><td>1063040</td><td>Asita et al. 1991</td><td>1</td><td>PAH</td><td>Weight</td><td>DTXSID9020409 </td><td>Dibenzo(a,h)anthracene</td><td>NA  </td><td>0</td></tr>\n",
       "\t<tr><td>WS</td><td>1063040</td><td>Asita et al. 1991</td><td>1</td><td>PAH</td><td>Weight</td><td>DTXSID3052690 </td><td><span style=white-space:pre-wrap>Dibenzo(a,e)pyrene    </span></td><td>&lt;1.3</td><td>1</td></tr>\n",
       "\t<tr><td>WS</td><td>1063040</td><td>Asita et al. 1991</td><td>1</td><td>PAH</td><td>Weight</td><td>DTXSID4059752 </td><td>Dibenzo(a,h)pyrene    </td><td>NA  </td><td>0</td></tr>\n",
       "\t<tr><td>WS</td><td>1063040</td><td>Asita et al. 1991</td><td>1</td><td>PAH</td><td>Weight</td><td>DTXSID9059751 </td><td>Dibenzo(a,i)pyrene    </td><td>NA  </td><td>0</td></tr>\n",
       "\t<tr><td>WS</td><td>1063040</td><td>Asita et al. 1991</td><td>1</td><td>PAH</td><td>Weight</td><td>DTXSID9059753 </td><td>Dibenzo(a,l)pyrene    </td><td>NA  </td><td>0</td></tr>\n",
       "\t<tr><td>WS</td><td>1063040</td><td>Asita et al. 1991</td><td>1</td><td>PAH</td><td>Weight</td><td>DTXSID3024104 </td><td>Fluoranthene          </td><td>NA  </td><td>0</td></tr>\n",
       "\t<tr><td>WS</td><td>1063040</td><td>Asita et al. 1991</td><td>1</td><td>PAH</td><td>Weight</td><td>DTXSID8024105 </td><td>Fluorene              </td><td>NA  </td><td>0</td></tr>\n",
       "\t<tr><td>WS</td><td>1063040</td><td>Asita et al. 1991</td><td>1</td><td>PAH</td><td>Weight</td><td>DTXSID8024153 </td><td>Indeno(1,2,3-cd)pyrene</td><td>NA  </td><td>0</td></tr>\n",
       "\t<tr><td>WS</td><td>1063040</td><td>Asita et al. 1991</td><td>1</td><td>PAH</td><td>Weight</td><td>DTXSID8020913 </td><td>Naphthalene           </td><td>NA  </td><td>0</td></tr>\n",
       "\t<tr><td>WS</td><td>1063040</td><td>Asita et al. 1991</td><td>1</td><td>PAH</td><td>Weight</td><td>DTXSID4047753 </td><td>Perylene              </td><td>NA  </td><td>0</td></tr>\n",
       "\t<tr><td>WS</td><td>1063040</td><td>Asita et al. 1991</td><td>1</td><td>PAH</td><td>Weight</td><td>DTXSID6024254 </td><td>Phenanthrene          </td><td>NA  </td><td>0</td></tr>\n",
       "\t<tr><td>⋮</td><td>⋮</td><td>⋮</td><td>⋮</td><td>⋮</td><td>⋮</td><td>⋮</td><td>⋮</td><td>⋮</td><td>⋮</td></tr>\n",
       "\t<tr><td>WS</td><td>1063040</td><td>Asita et al. 1991</td><td>4</td><td>PAH</td><td>Weight</td><td>DTXSID4020878 </td><td>2-Methylnaphthalene   </td><td>NA  </td><td>0</td></tr>\n",
       "\t<tr><td>WS</td><td>1063040</td><td>Asita et al. 1991</td><td>4</td><td>PAH</td><td>Weight</td><td>DTXSID4063030 </td><td>2-Methylpyrene        </td><td>NA  </td><td>0</td></tr>\n",
       "\t<tr><td>WS</td><td>1063040</td><td>Asita et al. 1991</td><td>4</td><td>PAH</td><td>Weight</td><td>DTXSID50187178</td><td>4-Methylpyrene        </td><td>NA  </td><td>0</td></tr>\n",
       "\t<tr><td>WS</td><td>1063040</td><td>Asita et al. 1991</td><td>4</td><td>PAH</td><td>Weight</td><td>DTXSID6063143 </td><td>5-Methylchrysene      </td><td>NA  </td><td>0</td></tr>\n",
       "\t<tr><td>WS</td><td>1063040</td><td>Asita et al. 1991</td><td>4</td><td>PAH</td><td>Weight</td><td>DTXSID3021774 </td><td>Acenaphthene          </td><td>NA  </td><td>0</td></tr>\n",
       "\t<tr><td>WS</td><td>1063040</td><td>Asita et al. 1991</td><td>4</td><td>PAH</td><td>Weight</td><td>DTXSID3023845 </td><td>Acenaphthylene        </td><td>NA  </td><td>0</td></tr>\n",
       "\t<tr><td>WS</td><td>1063040</td><td>Asita et al. 1991</td><td>4</td><td>PAH</td><td>Weight</td><td>DTXSID9075452 </td><td>Anthanthrene          </td><td>NA  </td><td>0</td></tr>\n",
       "\t<tr><td>WS</td><td>1063040</td><td>Asita et al. 1991</td><td>4</td><td>PAH</td><td>Weight</td><td>DTXSID0023878 </td><td>Anthracene            </td><td>NA  </td><td>0</td></tr>\n",
       "\t<tr><td>WS</td><td>1063040</td><td>Asita et al. 1991</td><td>4</td><td>PAH</td><td>Weight</td><td>DTXSID5023902 </td><td>Benzo(a)anthracene    </td><td>90.6</td><td>1</td></tr>\n",
       "\t<tr><td>WS</td><td>1063040</td><td>Asita et al. 1991</td><td>4</td><td>PAH</td><td>Weight</td><td>DTXSID2020139 </td><td>Benzo(a)pyrene        </td><td>76.8</td><td>1</td></tr>\n",
       "\t<tr><td>WS</td><td>1063040</td><td>Asita et al. 1991</td><td>4</td><td>PAH</td><td>Weight</td><td>DTXSID0023907 </td><td>Benzo(b)fluoranthene  </td><td>NA  </td><td>0</td></tr>\n",
       "\t<tr><td>WS</td><td>1063040</td><td>Asita et al. 1991</td><td>4</td><td>PAH</td><td>Weight</td><td>DTXSID3023764 </td><td>Benzo(e)pyrene        </td><td>NA  </td><td>0</td></tr>\n",
       "\t<tr><td>WS</td><td>1063040</td><td>Asita et al. 1991</td><td>4</td><td>PAH</td><td>Weight</td><td>DTXSID5023908 </td><td>Benzo(GHI)perylene    </td><td>37.7</td><td>1</td></tr>\n",
       "\t<tr><td>WS</td><td>1063040</td><td>Asita et al. 1991</td><td>4</td><td>PAH</td><td>Weight</td><td>DTXSID8052691 </td><td>Benzo(j)fluoranthene  </td><td>NA  </td><td>0</td></tr>\n",
       "\t<tr><td>WS</td><td>1063040</td><td>Asita et al. 1991</td><td>4</td><td>PAH</td><td>Weight</td><td>DTXSID0023909 </td><td>Benzo(k)fluoranthene  </td><td>32.3</td><td>1</td></tr>\n",
       "\t<tr><td>WS</td><td>1063040</td><td>Asita et al. 1991</td><td>4</td><td>PAH</td><td>Weight</td><td>DTXSID5047740 </td><td>Coronene              </td><td>NA  </td><td>0</td></tr>\n",
       "\t<tr><td>WS</td><td>1063040</td><td>Asita et al. 1991</td><td>4</td><td>PAH</td><td>Weight</td><td>DTXSID6062591 </td><td>Cyclopenta(cd)pyrene  </td><td>NA  </td><td>0</td></tr>\n",
       "\t<tr><td>WS</td><td>1063040</td><td>Asita et al. 1991</td><td>4</td><td>PAH</td><td>Weight</td><td>DTXSID9020409 </td><td>Dibenzo(a,h)anthracene</td><td>NA  </td><td>0</td></tr>\n",
       "\t<tr><td>WS</td><td>1063040</td><td>Asita et al. 1991</td><td>4</td><td>PAH</td><td>Weight</td><td>DTXSID3052690 </td><td>Dibenzo(a,e)pyrene    </td><td>3.4 </td><td>1</td></tr>\n",
       "\t<tr><td>WS</td><td>1063040</td><td>Asita et al. 1991</td><td>4</td><td>PAH</td><td>Weight</td><td>DTXSID4059752 </td><td>Dibenzo(a,h)pyrene    </td><td>NA  </td><td>0</td></tr>\n",
       "\t<tr><td>WS</td><td>1063040</td><td>Asita et al. 1991</td><td>4</td><td>PAH</td><td>Weight</td><td>DTXSID9059751 </td><td>Dibenzo(a,i)pyrene    </td><td>NA  </td><td>0</td></tr>\n",
       "\t<tr><td>WS</td><td>1063040</td><td>Asita et al. 1991</td><td>4</td><td>PAH</td><td>Weight</td><td>DTXSID9059753 </td><td>Dibenzo(a,l)pyrene    </td><td>NA  </td><td>0</td></tr>\n",
       "\t<tr><td>WS</td><td>1063040</td><td>Asita et al. 1991</td><td>4</td><td>PAH</td><td>Weight</td><td>DTXSID3024104 </td><td>Fluoranthene          </td><td>NA  </td><td>0</td></tr>\n",
       "\t<tr><td>WS</td><td>1063040</td><td>Asita et al. 1991</td><td>4</td><td>PAH</td><td>Weight</td><td>DTXSID8024105 </td><td>Fluorene              </td><td>NA  </td><td>0</td></tr>\n",
       "\t<tr><td>WS</td><td>1063040</td><td>Asita et al. 1991</td><td>4</td><td>PAH</td><td>Weight</td><td>DTXSID8024153 </td><td>Indeno(1,2,3-cd)pyrene</td><td>NA  </td><td>0</td></tr>\n",
       "\t<tr><td>WS</td><td>1063040</td><td>Asita et al. 1991</td><td>4</td><td>PAH</td><td>Weight</td><td>DTXSID8020913 </td><td>Naphthalene           </td><td>NA  </td><td>0</td></tr>\n",
       "\t<tr><td>WS</td><td>1063040</td><td>Asita et al. 1991</td><td>4</td><td>PAH</td><td>Weight</td><td>DTXSID4047753 </td><td>Perylene              </td><td>NA  </td><td>0</td></tr>\n",
       "\t<tr><td>WS</td><td>1063040</td><td>Asita et al. 1991</td><td>4</td><td>PAH</td><td>Weight</td><td>DTXSID6024254 </td><td>Phenanthrene          </td><td>NA  </td><td>0</td></tr>\n",
       "\t<tr><td>WS</td><td>1063040</td><td>Asita et al. 1991</td><td>4</td><td>PAH</td><td>Weight</td><td>DTXSID3024289 </td><td>Pyrene                </td><td>493 </td><td>1</td></tr>\n",
       "\t<tr><td>WS</td><td>1063040</td><td>Asita et al. 1991</td><td>4</td><td>PAH</td><td>Weight</td><td>DTXSID9059757 </td><td>Triphenylene          </td><td>NA  </td><td>0</td></tr>\n",
       "</tbody>\n",
       "</table>\n"
      ],
      "text/latex": [
       "A data.frame: 128 × 10\n",
       "\\begin{tabular}{llllllllll}\n",
       " Sample & HAWC\\_ID & Study & Sample\\_Number & Class & Metric & DTXSID & Name & Value & count\\\\\n",
       " <chr> & <dbl> & <chr> & <dbl> & <chr> & <chr> & <chr> & <chr> & <chr> & <dbl>\\\\\n",
       "\\hline\n",
       "\t WS & 1063040 & Asita et al. 1991 & 1 & PAH & Weight & DTXSID6025648  & 1-Methylphenanthrene   & NA   & 0\\\\\n",
       "\t WS & 1063040 & Asita et al. 1991 & 1 & PAH & Weight & DTXSID0025654  & 1-Methylpyrene         & NA   & 0\\\\\n",
       "\t WS & 1063040 & Asita et al. 1991 & 1 & PAH & Weight & DTXSID4020878  & 2-Methylnaphthalene    & NA   & 0\\\\\n",
       "\t WS & 1063040 & Asita et al. 1991 & 1 & PAH & Weight & DTXSID4063030  & 2-Methylpyrene         & NA   & 0\\\\\n",
       "\t WS & 1063040 & Asita et al. 1991 & 1 & PAH & Weight & DTXSID50187178 & 4-Methylpyrene         & NA   & 0\\\\\n",
       "\t WS & 1063040 & Asita et al. 1991 & 1 & PAH & Weight & DTXSID6063143  & 5-Methylchrysene       & NA   & 0\\\\\n",
       "\t WS & 1063040 & Asita et al. 1991 & 1 & PAH & Weight & DTXSID3021774  & Acenaphthene           & NA   & 0\\\\\n",
       "\t WS & 1063040 & Asita et al. 1991 & 1 & PAH & Weight & DTXSID3023845  & Acenaphthylene         & NA   & 0\\\\\n",
       "\t WS & 1063040 & Asita et al. 1991 & 1 & PAH & Weight & DTXSID9075452  & Anthanthrene           & NA   & 0\\\\\n",
       "\t WS & 1063040 & Asita et al. 1991 & 1 & PAH & Weight & DTXSID0023878  & Anthracene             & NA   & 0\\\\\n",
       "\t WS & 1063040 & Asita et al. 1991 & 1 & PAH & Weight & DTXSID5023902  & Benzo(a)anthracene     & 20.3 & 1\\\\\n",
       "\t WS & 1063040 & Asita et al. 1991 & 1 & PAH & Weight & DTXSID2020139  & Benzo(a)pyrene         & 17.5 & 1\\\\\n",
       "\t WS & 1063040 & Asita et al. 1991 & 1 & PAH & Weight & DTXSID0023907  & Benzo(b)fluoranthene   & NA   & 0\\\\\n",
       "\t WS & 1063040 & Asita et al. 1991 & 1 & PAH & Weight & DTXSID3023764  & Benzo(e)pyrene         & NA   & 0\\\\\n",
       "\t WS & 1063040 & Asita et al. 1991 & 1 & PAH & Weight & DTXSID5023908  & Benzo(GHI)perylene     & 10   & 1\\\\\n",
       "\t WS & 1063040 & Asita et al. 1991 & 1 & PAH & Weight & DTXSID8052691  & Benzo(j)fluoranthene   & NA   & 0\\\\\n",
       "\t WS & 1063040 & Asita et al. 1991 & 1 & PAH & Weight & DTXSID0023909  & Benzo(k)fluoranthene   & 7.4  & 1\\\\\n",
       "\t WS & 1063040 & Asita et al. 1991 & 1 & PAH & Weight & DTXSID5047740  & Coronene               & NA   & 0\\\\\n",
       "\t WS & 1063040 & Asita et al. 1991 & 1 & PAH & Weight & DTXSID6062591  & Cyclopenta(cd)pyrene   & NA   & 0\\\\\n",
       "\t WS & 1063040 & Asita et al. 1991 & 1 & PAH & Weight & DTXSID9020409  & Dibenzo(a,h)anthracene & NA   & 0\\\\\n",
       "\t WS & 1063040 & Asita et al. 1991 & 1 & PAH & Weight & DTXSID3052690  & Dibenzo(a,e)pyrene     & <1.3 & 1\\\\\n",
       "\t WS & 1063040 & Asita et al. 1991 & 1 & PAH & Weight & DTXSID4059752  & Dibenzo(a,h)pyrene     & NA   & 0\\\\\n",
       "\t WS & 1063040 & Asita et al. 1991 & 1 & PAH & Weight & DTXSID9059751  & Dibenzo(a,i)pyrene     & NA   & 0\\\\\n",
       "\t WS & 1063040 & Asita et al. 1991 & 1 & PAH & Weight & DTXSID9059753  & Dibenzo(a,l)pyrene     & NA   & 0\\\\\n",
       "\t WS & 1063040 & Asita et al. 1991 & 1 & PAH & Weight & DTXSID3024104  & Fluoranthene           & NA   & 0\\\\\n",
       "\t WS & 1063040 & Asita et al. 1991 & 1 & PAH & Weight & DTXSID8024105  & Fluorene               & NA   & 0\\\\\n",
       "\t WS & 1063040 & Asita et al. 1991 & 1 & PAH & Weight & DTXSID8024153  & Indeno(1,2,3-cd)pyrene & NA   & 0\\\\\n",
       "\t WS & 1063040 & Asita et al. 1991 & 1 & PAH & Weight & DTXSID8020913  & Naphthalene            & NA   & 0\\\\\n",
       "\t WS & 1063040 & Asita et al. 1991 & 1 & PAH & Weight & DTXSID4047753  & Perylene               & NA   & 0\\\\\n",
       "\t WS & 1063040 & Asita et al. 1991 & 1 & PAH & Weight & DTXSID6024254  & Phenanthrene           & NA   & 0\\\\\n",
       "\t ⋮ & ⋮ & ⋮ & ⋮ & ⋮ & ⋮ & ⋮ & ⋮ & ⋮ & ⋮\\\\\n",
       "\t WS & 1063040 & Asita et al. 1991 & 4 & PAH & Weight & DTXSID4020878  & 2-Methylnaphthalene    & NA   & 0\\\\\n",
       "\t WS & 1063040 & Asita et al. 1991 & 4 & PAH & Weight & DTXSID4063030  & 2-Methylpyrene         & NA   & 0\\\\\n",
       "\t WS & 1063040 & Asita et al. 1991 & 4 & PAH & Weight & DTXSID50187178 & 4-Methylpyrene         & NA   & 0\\\\\n",
       "\t WS & 1063040 & Asita et al. 1991 & 4 & PAH & Weight & DTXSID6063143  & 5-Methylchrysene       & NA   & 0\\\\\n",
       "\t WS & 1063040 & Asita et al. 1991 & 4 & PAH & Weight & DTXSID3021774  & Acenaphthene           & NA   & 0\\\\\n",
       "\t WS & 1063040 & Asita et al. 1991 & 4 & PAH & Weight & DTXSID3023845  & Acenaphthylene         & NA   & 0\\\\\n",
       "\t WS & 1063040 & Asita et al. 1991 & 4 & PAH & Weight & DTXSID9075452  & Anthanthrene           & NA   & 0\\\\\n",
       "\t WS & 1063040 & Asita et al. 1991 & 4 & PAH & Weight & DTXSID0023878  & Anthracene             & NA   & 0\\\\\n",
       "\t WS & 1063040 & Asita et al. 1991 & 4 & PAH & Weight & DTXSID5023902  & Benzo(a)anthracene     & 90.6 & 1\\\\\n",
       "\t WS & 1063040 & Asita et al. 1991 & 4 & PAH & Weight & DTXSID2020139  & Benzo(a)pyrene         & 76.8 & 1\\\\\n",
       "\t WS & 1063040 & Asita et al. 1991 & 4 & PAH & Weight & DTXSID0023907  & Benzo(b)fluoranthene   & NA   & 0\\\\\n",
       "\t WS & 1063040 & Asita et al. 1991 & 4 & PAH & Weight & DTXSID3023764  & Benzo(e)pyrene         & NA   & 0\\\\\n",
       "\t WS & 1063040 & Asita et al. 1991 & 4 & PAH & Weight & DTXSID5023908  & Benzo(GHI)perylene     & 37.7 & 1\\\\\n",
       "\t WS & 1063040 & Asita et al. 1991 & 4 & PAH & Weight & DTXSID8052691  & Benzo(j)fluoranthene   & NA   & 0\\\\\n",
       "\t WS & 1063040 & Asita et al. 1991 & 4 & PAH & Weight & DTXSID0023909  & Benzo(k)fluoranthene   & 32.3 & 1\\\\\n",
       "\t WS & 1063040 & Asita et al. 1991 & 4 & PAH & Weight & DTXSID5047740  & Coronene               & NA   & 0\\\\\n",
       "\t WS & 1063040 & Asita et al. 1991 & 4 & PAH & Weight & DTXSID6062591  & Cyclopenta(cd)pyrene   & NA   & 0\\\\\n",
       "\t WS & 1063040 & Asita et al. 1991 & 4 & PAH & Weight & DTXSID9020409  & Dibenzo(a,h)anthracene & NA   & 0\\\\\n",
       "\t WS & 1063040 & Asita et al. 1991 & 4 & PAH & Weight & DTXSID3052690  & Dibenzo(a,e)pyrene     & 3.4  & 1\\\\\n",
       "\t WS & 1063040 & Asita et al. 1991 & 4 & PAH & Weight & DTXSID4059752  & Dibenzo(a,h)pyrene     & NA   & 0\\\\\n",
       "\t WS & 1063040 & Asita et al. 1991 & 4 & PAH & Weight & DTXSID9059751  & Dibenzo(a,i)pyrene     & NA   & 0\\\\\n",
       "\t WS & 1063040 & Asita et al. 1991 & 4 & PAH & Weight & DTXSID9059753  & Dibenzo(a,l)pyrene     & NA   & 0\\\\\n",
       "\t WS & 1063040 & Asita et al. 1991 & 4 & PAH & Weight & DTXSID3024104  & Fluoranthene           & NA   & 0\\\\\n",
       "\t WS & 1063040 & Asita et al. 1991 & 4 & PAH & Weight & DTXSID8024105  & Fluorene               & NA   & 0\\\\\n",
       "\t WS & 1063040 & Asita et al. 1991 & 4 & PAH & Weight & DTXSID8024153  & Indeno(1,2,3-cd)pyrene & NA   & 0\\\\\n",
       "\t WS & 1063040 & Asita et al. 1991 & 4 & PAH & Weight & DTXSID8020913  & Naphthalene            & NA   & 0\\\\\n",
       "\t WS & 1063040 & Asita et al. 1991 & 4 & PAH & Weight & DTXSID4047753  & Perylene               & NA   & 0\\\\\n",
       "\t WS & 1063040 & Asita et al. 1991 & 4 & PAH & Weight & DTXSID6024254  & Phenanthrene           & NA   & 0\\\\\n",
       "\t WS & 1063040 & Asita et al. 1991 & 4 & PAH & Weight & DTXSID3024289  & Pyrene                 & 493  & 1\\\\\n",
       "\t WS & 1063040 & Asita et al. 1991 & 4 & PAH & Weight & DTXSID9059757  & Triphenylene           & NA   & 0\\\\\n",
       "\\end{tabular}\n"
      ],
      "text/markdown": [
       "\n",
       "A data.frame: 128 × 10\n",
       "\n",
       "| Sample &lt;chr&gt; | HAWC_ID &lt;dbl&gt; | Study &lt;chr&gt; | Sample_Number &lt;dbl&gt; | Class &lt;chr&gt; | Metric &lt;chr&gt; | DTXSID &lt;chr&gt; | Name &lt;chr&gt; | Value &lt;chr&gt; | count &lt;dbl&gt; |\n",
       "|---|---|---|---|---|---|---|---|---|---|\n",
       "| WS | 1063040 | Asita et al. 1991 | 1 | PAH | Weight | DTXSID6025648  | 1-Methylphenanthrene   | NA   | 0 |\n",
       "| WS | 1063040 | Asita et al. 1991 | 1 | PAH | Weight | DTXSID0025654  | 1-Methylpyrene         | NA   | 0 |\n",
       "| WS | 1063040 | Asita et al. 1991 | 1 | PAH | Weight | DTXSID4020878  | 2-Methylnaphthalene    | NA   | 0 |\n",
       "| WS | 1063040 | Asita et al. 1991 | 1 | PAH | Weight | DTXSID4063030  | 2-Methylpyrene         | NA   | 0 |\n",
       "| WS | 1063040 | Asita et al. 1991 | 1 | PAH | Weight | DTXSID50187178 | 4-Methylpyrene         | NA   | 0 |\n",
       "| WS | 1063040 | Asita et al. 1991 | 1 | PAH | Weight | DTXSID6063143  | 5-Methylchrysene       | NA   | 0 |\n",
       "| WS | 1063040 | Asita et al. 1991 | 1 | PAH | Weight | DTXSID3021774  | Acenaphthene           | NA   | 0 |\n",
       "| WS | 1063040 | Asita et al. 1991 | 1 | PAH | Weight | DTXSID3023845  | Acenaphthylene         | NA   | 0 |\n",
       "| WS | 1063040 | Asita et al. 1991 | 1 | PAH | Weight | DTXSID9075452  | Anthanthrene           | NA   | 0 |\n",
       "| WS | 1063040 | Asita et al. 1991 | 1 | PAH | Weight | DTXSID0023878  | Anthracene             | NA   | 0 |\n",
       "| WS | 1063040 | Asita et al. 1991 | 1 | PAH | Weight | DTXSID5023902  | Benzo(a)anthracene     | 20.3 | 1 |\n",
       "| WS | 1063040 | Asita et al. 1991 | 1 | PAH | Weight | DTXSID2020139  | Benzo(a)pyrene         | 17.5 | 1 |\n",
       "| WS | 1063040 | Asita et al. 1991 | 1 | PAH | Weight | DTXSID0023907  | Benzo(b)fluoranthene   | NA   | 0 |\n",
       "| WS | 1063040 | Asita et al. 1991 | 1 | PAH | Weight | DTXSID3023764  | Benzo(e)pyrene         | NA   | 0 |\n",
       "| WS | 1063040 | Asita et al. 1991 | 1 | PAH | Weight | DTXSID5023908  | Benzo(GHI)perylene     | 10   | 1 |\n",
       "| WS | 1063040 | Asita et al. 1991 | 1 | PAH | Weight | DTXSID8052691  | Benzo(j)fluoranthene   | NA   | 0 |\n",
       "| WS | 1063040 | Asita et al. 1991 | 1 | PAH | Weight | DTXSID0023909  | Benzo(k)fluoranthene   | 7.4  | 1 |\n",
       "| WS | 1063040 | Asita et al. 1991 | 1 | PAH | Weight | DTXSID5047740  | Coronene               | NA   | 0 |\n",
       "| WS | 1063040 | Asita et al. 1991 | 1 | PAH | Weight | DTXSID6062591  | Cyclopenta(cd)pyrene   | NA   | 0 |\n",
       "| WS | 1063040 | Asita et al. 1991 | 1 | PAH | Weight | DTXSID9020409  | Dibenzo(a,h)anthracene | NA   | 0 |\n",
       "| WS | 1063040 | Asita et al. 1991 | 1 | PAH | Weight | DTXSID3052690  | Dibenzo(a,e)pyrene     | &lt;1.3 | 1 |\n",
       "| WS | 1063040 | Asita et al. 1991 | 1 | PAH | Weight | DTXSID4059752  | Dibenzo(a,h)pyrene     | NA   | 0 |\n",
       "| WS | 1063040 | Asita et al. 1991 | 1 | PAH | Weight | DTXSID9059751  | Dibenzo(a,i)pyrene     | NA   | 0 |\n",
       "| WS | 1063040 | Asita et al. 1991 | 1 | PAH | Weight | DTXSID9059753  | Dibenzo(a,l)pyrene     | NA   | 0 |\n",
       "| WS | 1063040 | Asita et al. 1991 | 1 | PAH | Weight | DTXSID3024104  | Fluoranthene           | NA   | 0 |\n",
       "| WS | 1063040 | Asita et al. 1991 | 1 | PAH | Weight | DTXSID8024105  | Fluorene               | NA   | 0 |\n",
       "| WS | 1063040 | Asita et al. 1991 | 1 | PAH | Weight | DTXSID8024153  | Indeno(1,2,3-cd)pyrene | NA   | 0 |\n",
       "| WS | 1063040 | Asita et al. 1991 | 1 | PAH | Weight | DTXSID8020913  | Naphthalene            | NA   | 0 |\n",
       "| WS | 1063040 | Asita et al. 1991 | 1 | PAH | Weight | DTXSID4047753  | Perylene               | NA   | 0 |\n",
       "| WS | 1063040 | Asita et al. 1991 | 1 | PAH | Weight | DTXSID6024254  | Phenanthrene           | NA   | 0 |\n",
       "| ⋮ | ⋮ | ⋮ | ⋮ | ⋮ | ⋮ | ⋮ | ⋮ | ⋮ | ⋮ |\n",
       "| WS | 1063040 | Asita et al. 1991 | 4 | PAH | Weight | DTXSID4020878  | 2-Methylnaphthalene    | NA   | 0 |\n",
       "| WS | 1063040 | Asita et al. 1991 | 4 | PAH | Weight | DTXSID4063030  | 2-Methylpyrene         | NA   | 0 |\n",
       "| WS | 1063040 | Asita et al. 1991 | 4 | PAH | Weight | DTXSID50187178 | 4-Methylpyrene         | NA   | 0 |\n",
       "| WS | 1063040 | Asita et al. 1991 | 4 | PAH | Weight | DTXSID6063143  | 5-Methylchrysene       | NA   | 0 |\n",
       "| WS | 1063040 | Asita et al. 1991 | 4 | PAH | Weight | DTXSID3021774  | Acenaphthene           | NA   | 0 |\n",
       "| WS | 1063040 | Asita et al. 1991 | 4 | PAH | Weight | DTXSID3023845  | Acenaphthylene         | NA   | 0 |\n",
       "| WS | 1063040 | Asita et al. 1991 | 4 | PAH | Weight | DTXSID9075452  | Anthanthrene           | NA   | 0 |\n",
       "| WS | 1063040 | Asita et al. 1991 | 4 | PAH | Weight | DTXSID0023878  | Anthracene             | NA   | 0 |\n",
       "| WS | 1063040 | Asita et al. 1991 | 4 | PAH | Weight | DTXSID5023902  | Benzo(a)anthracene     | 90.6 | 1 |\n",
       "| WS | 1063040 | Asita et al. 1991 | 4 | PAH | Weight | DTXSID2020139  | Benzo(a)pyrene         | 76.8 | 1 |\n",
       "| WS | 1063040 | Asita et al. 1991 | 4 | PAH | Weight | DTXSID0023907  | Benzo(b)fluoranthene   | NA   | 0 |\n",
       "| WS | 1063040 | Asita et al. 1991 | 4 | PAH | Weight | DTXSID3023764  | Benzo(e)pyrene         | NA   | 0 |\n",
       "| WS | 1063040 | Asita et al. 1991 | 4 | PAH | Weight | DTXSID5023908  | Benzo(GHI)perylene     | 37.7 | 1 |\n",
       "| WS | 1063040 | Asita et al. 1991 | 4 | PAH | Weight | DTXSID8052691  | Benzo(j)fluoranthene   | NA   | 0 |\n",
       "| WS | 1063040 | Asita et al. 1991 | 4 | PAH | Weight | DTXSID0023909  | Benzo(k)fluoranthene   | 32.3 | 1 |\n",
       "| WS | 1063040 | Asita et al. 1991 | 4 | PAH | Weight | DTXSID5047740  | Coronene               | NA   | 0 |\n",
       "| WS | 1063040 | Asita et al. 1991 | 4 | PAH | Weight | DTXSID6062591  | Cyclopenta(cd)pyrene   | NA   | 0 |\n",
       "| WS | 1063040 | Asita et al. 1991 | 4 | PAH | Weight | DTXSID9020409  | Dibenzo(a,h)anthracene | NA   | 0 |\n",
       "| WS | 1063040 | Asita et al. 1991 | 4 | PAH | Weight | DTXSID3052690  | Dibenzo(a,e)pyrene     | 3.4  | 1 |\n",
       "| WS | 1063040 | Asita et al. 1991 | 4 | PAH | Weight | DTXSID4059752  | Dibenzo(a,h)pyrene     | NA   | 0 |\n",
       "| WS | 1063040 | Asita et al. 1991 | 4 | PAH | Weight | DTXSID9059751  | Dibenzo(a,i)pyrene     | NA   | 0 |\n",
       "| WS | 1063040 | Asita et al. 1991 | 4 | PAH | Weight | DTXSID9059753  | Dibenzo(a,l)pyrene     | NA   | 0 |\n",
       "| WS | 1063040 | Asita et al. 1991 | 4 | PAH | Weight | DTXSID3024104  | Fluoranthene           | NA   | 0 |\n",
       "| WS | 1063040 | Asita et al. 1991 | 4 | PAH | Weight | DTXSID8024105  | Fluorene               | NA   | 0 |\n",
       "| WS | 1063040 | Asita et al. 1991 | 4 | PAH | Weight | DTXSID8024153  | Indeno(1,2,3-cd)pyrene | NA   | 0 |\n",
       "| WS | 1063040 | Asita et al. 1991 | 4 | PAH | Weight | DTXSID8020913  | Naphthalene            | NA   | 0 |\n",
       "| WS | 1063040 | Asita et al. 1991 | 4 | PAH | Weight | DTXSID4047753  | Perylene               | NA   | 0 |\n",
       "| WS | 1063040 | Asita et al. 1991 | 4 | PAH | Weight | DTXSID6024254  | Phenanthrene           | NA   | 0 |\n",
       "| WS | 1063040 | Asita et al. 1991 | 4 | PAH | Weight | DTXSID3024289  | Pyrene                 | 493  | 1 |\n",
       "| WS | 1063040 | Asita et al. 1991 | 4 | PAH | Weight | DTXSID9059757  | Triphenylene           | NA   | 0 |\n",
       "\n"
      ],
      "text/plain": [
       "    Sample HAWC_ID Study             Sample_Number Class Metric DTXSID        \n",
       "1   WS     1063040 Asita et al. 1991 1             PAH   Weight DTXSID6025648 \n",
       "2   WS     1063040 Asita et al. 1991 1             PAH   Weight DTXSID0025654 \n",
       "3   WS     1063040 Asita et al. 1991 1             PAH   Weight DTXSID4020878 \n",
       "4   WS     1063040 Asita et al. 1991 1             PAH   Weight DTXSID4063030 \n",
       "5   WS     1063040 Asita et al. 1991 1             PAH   Weight DTXSID50187178\n",
       "6   WS     1063040 Asita et al. 1991 1             PAH   Weight DTXSID6063143 \n",
       "7   WS     1063040 Asita et al. 1991 1             PAH   Weight DTXSID3021774 \n",
       "8   WS     1063040 Asita et al. 1991 1             PAH   Weight DTXSID3023845 \n",
       "9   WS     1063040 Asita et al. 1991 1             PAH   Weight DTXSID9075452 \n",
       "10  WS     1063040 Asita et al. 1991 1             PAH   Weight DTXSID0023878 \n",
       "11  WS     1063040 Asita et al. 1991 1             PAH   Weight DTXSID5023902 \n",
       "12  WS     1063040 Asita et al. 1991 1             PAH   Weight DTXSID2020139 \n",
       "13  WS     1063040 Asita et al. 1991 1             PAH   Weight DTXSID0023907 \n",
       "14  WS     1063040 Asita et al. 1991 1             PAH   Weight DTXSID3023764 \n",
       "15  WS     1063040 Asita et al. 1991 1             PAH   Weight DTXSID5023908 \n",
       "16  WS     1063040 Asita et al. 1991 1             PAH   Weight DTXSID8052691 \n",
       "17  WS     1063040 Asita et al. 1991 1             PAH   Weight DTXSID0023909 \n",
       "18  WS     1063040 Asita et al. 1991 1             PAH   Weight DTXSID5047740 \n",
       "19  WS     1063040 Asita et al. 1991 1             PAH   Weight DTXSID6062591 \n",
       "20  WS     1063040 Asita et al. 1991 1             PAH   Weight DTXSID9020409 \n",
       "21  WS     1063040 Asita et al. 1991 1             PAH   Weight DTXSID3052690 \n",
       "22  WS     1063040 Asita et al. 1991 1             PAH   Weight DTXSID4059752 \n",
       "23  WS     1063040 Asita et al. 1991 1             PAH   Weight DTXSID9059751 \n",
       "24  WS     1063040 Asita et al. 1991 1             PAH   Weight DTXSID9059753 \n",
       "25  WS     1063040 Asita et al. 1991 1             PAH   Weight DTXSID3024104 \n",
       "26  WS     1063040 Asita et al. 1991 1             PAH   Weight DTXSID8024105 \n",
       "27  WS     1063040 Asita et al. 1991 1             PAH   Weight DTXSID8024153 \n",
       "28  WS     1063040 Asita et al. 1991 1             PAH   Weight DTXSID8020913 \n",
       "29  WS     1063040 Asita et al. 1991 1             PAH   Weight DTXSID4047753 \n",
       "30  WS     1063040 Asita et al. 1991 1             PAH   Weight DTXSID6024254 \n",
       "⋮   ⋮      ⋮       ⋮                 ⋮             ⋮     ⋮      ⋮             \n",
       "99  WS     1063040 Asita et al. 1991 4             PAH   Weight DTXSID4020878 \n",
       "100 WS     1063040 Asita et al. 1991 4             PAH   Weight DTXSID4063030 \n",
       "101 WS     1063040 Asita et al. 1991 4             PAH   Weight DTXSID50187178\n",
       "102 WS     1063040 Asita et al. 1991 4             PAH   Weight DTXSID6063143 \n",
       "103 WS     1063040 Asita et al. 1991 4             PAH   Weight DTXSID3021774 \n",
       "104 WS     1063040 Asita et al. 1991 4             PAH   Weight DTXSID3023845 \n",
       "105 WS     1063040 Asita et al. 1991 4             PAH   Weight DTXSID9075452 \n",
       "106 WS     1063040 Asita et al. 1991 4             PAH   Weight DTXSID0023878 \n",
       "107 WS     1063040 Asita et al. 1991 4             PAH   Weight DTXSID5023902 \n",
       "108 WS     1063040 Asita et al. 1991 4             PAH   Weight DTXSID2020139 \n",
       "109 WS     1063040 Asita et al. 1991 4             PAH   Weight DTXSID0023907 \n",
       "110 WS     1063040 Asita et al. 1991 4             PAH   Weight DTXSID3023764 \n",
       "111 WS     1063040 Asita et al. 1991 4             PAH   Weight DTXSID5023908 \n",
       "112 WS     1063040 Asita et al. 1991 4             PAH   Weight DTXSID8052691 \n",
       "113 WS     1063040 Asita et al. 1991 4             PAH   Weight DTXSID0023909 \n",
       "114 WS     1063040 Asita et al. 1991 4             PAH   Weight DTXSID5047740 \n",
       "115 WS     1063040 Asita et al. 1991 4             PAH   Weight DTXSID6062591 \n",
       "116 WS     1063040 Asita et al. 1991 4             PAH   Weight DTXSID9020409 \n",
       "117 WS     1063040 Asita et al. 1991 4             PAH   Weight DTXSID3052690 \n",
       "118 WS     1063040 Asita et al. 1991 4             PAH   Weight DTXSID4059752 \n",
       "119 WS     1063040 Asita et al. 1991 4             PAH   Weight DTXSID9059751 \n",
       "120 WS     1063040 Asita et al. 1991 4             PAH   Weight DTXSID9059753 \n",
       "121 WS     1063040 Asita et al. 1991 4             PAH   Weight DTXSID3024104 \n",
       "122 WS     1063040 Asita et al. 1991 4             PAH   Weight DTXSID8024105 \n",
       "123 WS     1063040 Asita et al. 1991 4             PAH   Weight DTXSID8024153 \n",
       "124 WS     1063040 Asita et al. 1991 4             PAH   Weight DTXSID8020913 \n",
       "125 WS     1063040 Asita et al. 1991 4             PAH   Weight DTXSID4047753 \n",
       "126 WS     1063040 Asita et al. 1991 4             PAH   Weight DTXSID6024254 \n",
       "127 WS     1063040 Asita et al. 1991 4             PAH   Weight DTXSID3024289 \n",
       "128 WS     1063040 Asita et al. 1991 4             PAH   Weight DTXSID9059757 \n",
       "    Name                   Value count\n",
       "1   1-Methylphenanthrene   NA    0    \n",
       "2   1-Methylpyrene         NA    0    \n",
       "3   2-Methylnaphthalene    NA    0    \n",
       "4   2-Methylpyrene         NA    0    \n",
       "5   4-Methylpyrene         NA    0    \n",
       "6   5-Methylchrysene       NA    0    \n",
       "7   Acenaphthene           NA    0    \n",
       "8   Acenaphthylene         NA    0    \n",
       "9   Anthanthrene           NA    0    \n",
       "10  Anthracene             NA    0    \n",
       "11  Benzo(a)anthracene     20.3  1    \n",
       "12  Benzo(a)pyrene         17.5  1    \n",
       "13  Benzo(b)fluoranthene   NA    0    \n",
       "14  Benzo(e)pyrene         NA    0    \n",
       "15  Benzo(GHI)perylene     10    1    \n",
       "16  Benzo(j)fluoranthene   NA    0    \n",
       "17  Benzo(k)fluoranthene   7.4   1    \n",
       "18  Coronene               NA    0    \n",
       "19  Cyclopenta(cd)pyrene   NA    0    \n",
       "20  Dibenzo(a,h)anthracene NA    0    \n",
       "21  Dibenzo(a,e)pyrene     <1.3  1    \n",
       "22  Dibenzo(a,h)pyrene     NA    0    \n",
       "23  Dibenzo(a,i)pyrene     NA    0    \n",
       "24  Dibenzo(a,l)pyrene     NA    0    \n",
       "25  Fluoranthene           NA    0    \n",
       "26  Fluorene               NA    0    \n",
       "27  Indeno(1,2,3-cd)pyrene NA    0    \n",
       "28  Naphthalene            NA    0    \n",
       "29  Perylene               NA    0    \n",
       "30  Phenanthrene           NA    0    \n",
       "⋮   ⋮                      ⋮     ⋮    \n",
       "99  2-Methylnaphthalene    NA    0    \n",
       "100 2-Methylpyrene         NA    0    \n",
       "101 4-Methylpyrene         NA    0    \n",
       "102 5-Methylchrysene       NA    0    \n",
       "103 Acenaphthene           NA    0    \n",
       "104 Acenaphthylene         NA    0    \n",
       "105 Anthanthrene           NA    0    \n",
       "106 Anthracene             NA    0    \n",
       "107 Benzo(a)anthracene     90.6  1    \n",
       "108 Benzo(a)pyrene         76.8  1    \n",
       "109 Benzo(b)fluoranthene   NA    0    \n",
       "110 Benzo(e)pyrene         NA    0    \n",
       "111 Benzo(GHI)perylene     37.7  1    \n",
       "112 Benzo(j)fluoranthene   NA    0    \n",
       "113 Benzo(k)fluoranthene   32.3  1    \n",
       "114 Coronene               NA    0    \n",
       "115 Cyclopenta(cd)pyrene   NA    0    \n",
       "116 Dibenzo(a,h)anthracene NA    0    \n",
       "117 Dibenzo(a,e)pyrene     3.4   1    \n",
       "118 Dibenzo(a,h)pyrene     NA    0    \n",
       "119 Dibenzo(a,i)pyrene     NA    0    \n",
       "120 Dibenzo(a,l)pyrene     NA    0    \n",
       "121 Fluoranthene           NA    0    \n",
       "122 Fluorene               NA    0    \n",
       "123 Indeno(1,2,3-cd)pyrene NA    0    \n",
       "124 Naphthalene            NA    0    \n",
       "125 Perylene               NA    0    \n",
       "126 Phenanthrene           NA    0    \n",
       "127 Pyrene                 493   1    \n",
       "128 Triphenylene           NA    0    "
      ]
     },
     "metadata": {},
     "output_type": "display_data"
    }
   ],
   "source": [
    "ws_df %>%\n",
    "    filter(HAWC_ID == '1063040') %>%\n",
    "    mutate(count = ifelse(Value %notin% c('NA', 'ND'), 1, \n",
    "                        ifelse(grepl(\"<\", Value), 1, 0)))"
   ]
  },
  {
   "cell_type": "code",
   "execution_count": 17,
   "id": "c4f84ca8-8863-4741-9959-12962607f18f",
   "metadata": {
    "scrolled": true
   },
   "outputs": [
    {
     "data": {
      "text/html": [
       "<table class=\"dataframe\">\n",
       "<caption>A tibble: 2 × 2</caption>\n",
       "<thead>\n",
       "\t<tr><th scope=col>Value</th><th scope=col>n()</th></tr>\n",
       "\t<tr><th scope=col>&lt;chr&gt;</th><th scope=col>&lt;int&gt;</th></tr>\n",
       "</thead>\n",
       "<tbody>\n",
       "\t<tr><td>NA</td><td>45</td></tr>\n",
       "\t<tr><td>ND</td><td>27</td></tr>\n",
       "</tbody>\n",
       "</table>\n"
      ],
      "text/latex": [
       "A tibble: 2 × 2\n",
       "\\begin{tabular}{ll}\n",
       " Value & n()\\\\\n",
       " <chr> & <int>\\\\\n",
       "\\hline\n",
       "\t NA & 45\\\\\n",
       "\t ND & 27\\\\\n",
       "\\end{tabular}\n"
      ],
      "text/markdown": [
       "\n",
       "A tibble: 2 × 2\n",
       "\n",
       "| Value &lt;chr&gt; | n() &lt;int&gt; |\n",
       "|---|---|\n",
       "| NA | 45 |\n",
       "| ND | 27 |\n",
       "\n"
      ],
      "text/plain": [
       "  Value n()\n",
       "1 NA    45 \n",
       "2 ND    27 "
      ]
     },
     "metadata": {},
     "output_type": "display_data"
    },
    {
     "data": {
      "text/html": [
       "<table class=\"dataframe\">\n",
       "<caption>A tibble: 9 × 2</caption>\n",
       "<thead>\n",
       "\t<tr><th scope=col>Value</th><th scope=col>n()</th></tr>\n",
       "\t<tr><th scope=col>&lt;chr&gt;</th><th scope=col>&lt;int&gt;</th></tr>\n",
       "</thead>\n",
       "<tbody>\n",
       "\t<tr><td>&lt;0.00025</td><td><span style=white-space:pre-wrap>  1</span></td></tr>\n",
       "\t<tr><td>&lt;0.0005 </td><td><span style=white-space:pre-wrap>  6</span></td></tr>\n",
       "\t<tr><td>&lt;0.0006 </td><td><span style=white-space:pre-wrap>  2</span></td></tr>\n",
       "\t<tr><td>&lt;0.0007 </td><td><span style=white-space:pre-wrap>  3</span></td></tr>\n",
       "\t<tr><td><span style=white-space:pre-wrap>&lt;0.037  </span></td><td><span style=white-space:pre-wrap>  1</span></td></tr>\n",
       "\t<tr><td><span style=white-space:pre-wrap>&lt;0.04   </span></td><td><span style=white-space:pre-wrap>  1</span></td></tr>\n",
       "\t<tr><td><span style=white-space:pre-wrap>&lt;0.05   </span></td><td><span style=white-space:pre-wrap>  1</span></td></tr>\n",
       "\t<tr><td>NA      </td><td>721</td></tr>\n",
       "\t<tr><td>ND      </td><td>211</td></tr>\n",
       "</tbody>\n",
       "</table>\n"
      ],
      "text/latex": [
       "A tibble: 9 × 2\n",
       "\\begin{tabular}{ll}\n",
       " Value & n()\\\\\n",
       " <chr> & <int>\\\\\n",
       "\\hline\n",
       "\t <0.00025 &   1\\\\\n",
       "\t <0.0005  &   6\\\\\n",
       "\t <0.0006  &   2\\\\\n",
       "\t <0.0007  &   3\\\\\n",
       "\t <0.037   &   1\\\\\n",
       "\t <0.04    &   1\\\\\n",
       "\t <0.05    &   1\\\\\n",
       "\t NA       & 721\\\\\n",
       "\t ND       & 211\\\\\n",
       "\\end{tabular}\n"
      ],
      "text/markdown": [
       "\n",
       "A tibble: 9 × 2\n",
       "\n",
       "| Value &lt;chr&gt; | n() &lt;int&gt; |\n",
       "|---|---|\n",
       "| &lt;0.00025 |   1 |\n",
       "| &lt;0.0005  |   6 |\n",
       "| &lt;0.0006  |   2 |\n",
       "| &lt;0.0007  |   3 |\n",
       "| &lt;0.037   |   1 |\n",
       "| &lt;0.04    |   1 |\n",
       "| &lt;0.05    |   1 |\n",
       "| NA       | 721 |\n",
       "| ND       | 211 |\n",
       "\n"
      ],
      "text/plain": [
       "  Value    n()\n",
       "1 <0.00025   1\n",
       "2 <0.0005    6\n",
       "3 <0.0006    2\n",
       "4 <0.0007    3\n",
       "5 <0.037     1\n",
       "6 <0.04      1\n",
       "7 <0.05      1\n",
       "8 NA       721\n",
       "9 ND       211"
      ]
     },
     "metadata": {},
     "output_type": "display_data"
    }
   ],
   "source": [
    "# first determining number of ND and NA values in each df\n",
    "vol_df %>%\n",
    "    filter(Value %in% c('NA', 'ND')| grepl(\"<\", Value)) %>%\n",
    "    group_by(Value) %>%\n",
    "    summarize(n())\n",
    "\n",
    "weight_df %>%\n",
    "    filter(Value %in% c('NA', 'ND')| grepl(\"<\", Value)) %>%\n",
    "    group_by(Value) %>%\n",
    "    summarize(n())"
   ]
  },
  {
   "cell_type": "code",
   "execution_count": 18,
   "id": "25feeaaa-7ace-4a97-8dc5-4d3b6f23af2c",
   "metadata": {},
   "outputs": [
    {
     "data": {
      "text/html": [
       "<style>\n",
       ".list-inline {list-style: none; margin:0; padding: 0}\n",
       ".list-inline>li {display: inline-block}\n",
       ".list-inline>li:not(:last-child)::after {content: \"\\00b7\"; padding: 0 .5ex}\n",
       "</style>\n",
       "<ol class=list-inline><li>1049</li><li>9</li></ol>\n"
      ],
      "text/latex": [
       "\\begin{enumerate*}\n",
       "\\item 1049\n",
       "\\item 9\n",
       "\\end{enumerate*}\n"
      ],
      "text/markdown": [
       "1. 1049\n",
       "2. 9\n",
       "\n",
       "\n"
      ],
      "text/plain": [
       "[1] 1049    9"
      ]
     },
     "metadata": {},
     "output_type": "display_data"
    },
    {
     "data": {
      "text/html": [
       "<style>\n",
       ".list-inline {list-style: none; margin:0; padding: 0}\n",
       ".list-inline>li {display: inline-block}\n",
       ".list-inline>li:not(:last-child)::after {content: \"\\00b7\"; padding: 0 .5ex}\n",
       "</style>\n",
       "<ol class=list-inline><li>3248</li><li>9</li></ol>\n"
      ],
      "text/latex": [
       "\\begin{enumerate*}\n",
       "\\item 3248\n",
       "\\item 9\n",
       "\\end{enumerate*}\n"
      ],
      "text/markdown": [
       "1. 3248\n",
       "2. 9\n",
       "\n",
       "\n"
      ],
      "text/plain": [
       "[1] 3248    9"
      ]
     },
     "metadata": {},
     "output_type": "display_data"
    }
   ],
   "source": [
    "dim(vol_df)\n",
    "dim(weight_df)"
   ]
  },
  {
   "cell_type": "code",
   "execution_count": 28,
   "id": "ea4fdde2-0f1e-49f5-a394-581dc9b6b8fe",
   "metadata": {},
   "outputs": [
    {
     "name": "stderr",
     "output_type": "stream",
     "text": [
      "\u001b[1m\u001b[22mJoining with `by = join_by(Metric, Class, HAWC_ID, Sample, Name, Study,\n",
      "Sample_Number, DTXSID, Value)`\n",
      "\u001b[1m\u001b[22mJoining with `by = join_by(Metric, Class, HAWC_ID, Sample, Name, Study,\n",
      "Sample_Number, DTXSID, Value)`\n"
     ]
    }
   ],
   "source": [
    "# creating a df for MAR data\n",
    "mar_weight_df = weight_df %>%\n",
    "    filter(Value == 'NA')\n",
    "mar_vol_df = vol_df %>%\n",
    "    filter(Value == 'NA')\n",
    "\n",
    "# creating dfs for studies that contain MNAR data\n",
    "preimputed_weight_df = anti_join(weight_df, mar_weight_df) \n",
    "preimputed_vol_df = anti_join(vol_df, mar_vol_df) "
   ]
  },
  {
   "cell_type": "code",
   "execution_count": 29,
   "id": "87b0cc35-36d4-46f0-aa2f-f630388b6e4b",
   "metadata": {},
   "outputs": [
    {
     "data": {
      "text/html": [
       "<style>\n",
       ".list-inline {list-style: none; margin:0; padding: 0}\n",
       ".list-inline>li {display: inline-block}\n",
       ".list-inline>li:not(:last-child)::after {content: \"\\00b7\"; padding: 0 .5ex}\n",
       "</style>\n",
       "<ol class=list-inline><li>15</li><li>9</li></ol>\n"
      ],
      "text/latex": [
       "\\begin{enumerate*}\n",
       "\\item 15\n",
       "\\item 9\n",
       "\\end{enumerate*}\n"
      ],
      "text/markdown": [
       "1. 15\n",
       "2. 9\n",
       "\n",
       "\n"
      ],
      "text/plain": [
       "[1] 15  9"
      ]
     },
     "metadata": {},
     "output_type": "display_data"
    },
    {
     "data": {
      "text/html": [
       "<table class=\"dataframe\">\n",
       "<caption>A tibble: 6 × 9</caption>\n",
       "<thead>\n",
       "\t<tr><th scope=col>Metric</th><th scope=col>Class</th><th scope=col>HAWC_ID</th><th scope=col>Sample</th><th scope=col>Name</th><th scope=col>Study</th><th scope=col>Sample_Number</th><th scope=col>DTXSID</th><th scope=col>Value</th></tr>\n",
       "\t<tr><th scope=col>&lt;chr&gt;</th><th scope=col>&lt;chr&gt;</th><th scope=col>&lt;dbl&gt;</th><th scope=col>&lt;chr&gt;</th><th scope=col>&lt;chr&gt;</th><th scope=col>&lt;chr&gt;</th><th scope=col>&lt;dbl&gt;</th><th scope=col>&lt;chr&gt;</th><th scope=col>&lt;dbl&gt;</th></tr>\n",
       "</thead>\n",
       "<tbody>\n",
       "\t<tr><td>Weight</td><td>PAH</td><td> 271571</td><td>WS</td><td>Acenaphthene          </td><td>Dilger et al. 2016    </td><td>1</td><td>DTXSID3021774</td><td>0.19235384</td></tr>\n",
       "\t<tr><td>Weight</td><td>PAH</td><td> 821855</td><td>WS</td><td>Acenaphthene          </td><td>Erlandsson et al. 2020</td><td>1</td><td>DTXSID3021774</td><td>0.22360680</td></tr>\n",
       "\t<tr><td>Weight</td><td>PAH</td><td> 821855</td><td>WS</td><td>Naphthalene           </td><td>Erlandsson et al. 2020</td><td>1</td><td>DTXSID8020913</td><td>0.20000000</td></tr>\n",
       "\t<tr><td>Weight</td><td>PAH</td><td>1045457</td><td>WS</td><td>Dibenzo(a,h)anthracene</td><td>Popadic 2018          </td><td>1</td><td>DTXSID9020409</td><td>0.01581139</td></tr>\n",
       "\t<tr><td>Weight</td><td>PAH</td><td>1289739</td><td>WF</td><td>Benzo(GHI)perylene    </td><td>Campos et al. 2019    </td><td>2</td><td>DTXSID5023908</td><td>0.02645751</td></tr>\n",
       "\t<tr><td>Weight</td><td>PAH</td><td>1289739</td><td>WF</td><td>Benzo(GHI)perylene    </td><td>Campos et al. 2019    </td><td>6</td><td>DTXSID5023908</td><td>0.02645751</td></tr>\n",
       "</tbody>\n",
       "</table>\n"
      ],
      "text/latex": [
       "A tibble: 6 × 9\n",
       "\\begin{tabular}{lllllllll}\n",
       " Metric & Class & HAWC\\_ID & Sample & Name & Study & Sample\\_Number & DTXSID & Value\\\\\n",
       " <chr> & <chr> & <dbl> & <chr> & <chr> & <chr> & <dbl> & <chr> & <dbl>\\\\\n",
       "\\hline\n",
       "\t Weight & PAH &  271571 & WS & Acenaphthene           & Dilger et al. 2016     & 1 & DTXSID3021774 & 0.19235384\\\\\n",
       "\t Weight & PAH &  821855 & WS & Acenaphthene           & Erlandsson et al. 2020 & 1 & DTXSID3021774 & 0.22360680\\\\\n",
       "\t Weight & PAH &  821855 & WS & Naphthalene            & Erlandsson et al. 2020 & 1 & DTXSID8020913 & 0.20000000\\\\\n",
       "\t Weight & PAH & 1045457 & WS & Dibenzo(a,h)anthracene & Popadic 2018           & 1 & DTXSID9020409 & 0.01581139\\\\\n",
       "\t Weight & PAH & 1289739 & WF & Benzo(GHI)perylene     & Campos et al. 2019     & 2 & DTXSID5023908 & 0.02645751\\\\\n",
       "\t Weight & PAH & 1289739 & WF & Benzo(GHI)perylene     & Campos et al. 2019     & 6 & DTXSID5023908 & 0.02645751\\\\\n",
       "\\end{tabular}\n"
      ],
      "text/markdown": [
       "\n",
       "A tibble: 6 × 9\n",
       "\n",
       "| Metric &lt;chr&gt; | Class &lt;chr&gt; | HAWC_ID &lt;dbl&gt; | Sample &lt;chr&gt; | Name &lt;chr&gt; | Study &lt;chr&gt; | Sample_Number &lt;dbl&gt; | DTXSID &lt;chr&gt; | Value &lt;dbl&gt; |\n",
       "|---|---|---|---|---|---|---|---|---|\n",
       "| Weight | PAH |  271571 | WS | Acenaphthene           | Dilger et al. 2016     | 1 | DTXSID3021774 | 0.19235384 |\n",
       "| Weight | PAH |  821855 | WS | Acenaphthene           | Erlandsson et al. 2020 | 1 | DTXSID3021774 | 0.22360680 |\n",
       "| Weight | PAH |  821855 | WS | Naphthalene            | Erlandsson et al. 2020 | 1 | DTXSID8020913 | 0.20000000 |\n",
       "| Weight | PAH | 1045457 | WS | Dibenzo(a,h)anthracene | Popadic 2018           | 1 | DTXSID9020409 | 0.01581139 |\n",
       "| Weight | PAH | 1289739 | WF | Benzo(GHI)perylene     | Campos et al. 2019     | 2 | DTXSID5023908 | 0.02645751 |\n",
       "| Weight | PAH | 1289739 | WF | Benzo(GHI)perylene     | Campos et al. 2019     | 6 | DTXSID5023908 | 0.02645751 |\n",
       "\n"
      ],
      "text/plain": [
       "  Metric Class HAWC_ID Sample Name                   Study                 \n",
       "1 Weight PAH    271571 WS     Acenaphthene           Dilger et al. 2016    \n",
       "2 Weight PAH    821855 WS     Acenaphthene           Erlandsson et al. 2020\n",
       "3 Weight PAH    821855 WS     Naphthalene            Erlandsson et al. 2020\n",
       "4 Weight PAH   1045457 WS     Dibenzo(a,h)anthracene Popadic 2018          \n",
       "5 Weight PAH   1289739 WF     Benzo(GHI)perylene     Campos et al. 2019    \n",
       "6 Weight PAH   1289739 WF     Benzo(GHI)perylene     Campos et al. 2019    \n",
       "  Sample_Number DTXSID        Value     \n",
       "1 1             DTXSID3021774 0.19235384\n",
       "2 1             DTXSID3021774 0.22360680\n",
       "3 1             DTXSID8020913 0.20000000\n",
       "4 1             DTXSID9020409 0.01581139\n",
       "5 2             DTXSID5023908 0.02645751\n",
       "6 6             DTXSID5023908 0.02645751"
      ]
     },
     "metadata": {},
     "output_type": "display_data"
    },
    {
     "name": "stderr",
     "output_type": "stream",
     "text": [
      "\u001b[1m\u001b[22mJoining with `by = join_by(Metric, Class, HAWC_ID, Sample, Name, Study,\n",
      "Sample_Number, DTXSID)`\n"
     ]
    }
   ],
   "source": [
    "# first imputing non detect values for studies that had a limit of detection (LOD) provided\n",
    "lod_values_df = preimputed_weight_df %>%\n",
    "    filter(grepl(\"<\", Value)) %>%\n",
    "    separate(Value, sep = '<', into = c(NA, 'Value')) %>%\n",
    "    mutate(Value = sqrt(as.numeric(Value)))\n",
    "\n",
    "dim(lod_values_df)\n",
    "head(lod_values_df)\n",
    "\n",
    "# adding these newly imputed values back into the df\n",
    "preimputed_weight_df = rbind(anti_join(preimputed_weight_df, lod_values_df[,1:8]), lod_values_df)"
   ]
  },
  {
   "cell_type": "code",
   "execution_count": 21,
   "id": "b5b077e6-bba7-4a73-9c50-5ba52371f975",
   "metadata": {},
   "outputs": [
    {
     "name": "stderr",
     "output_type": "stream",
     "text": [
      "Warning message:\n",
      "“NAs introduced by coercion”\n",
      "Warning message:\n",
      "“NAs introduced by coercion”\n",
      "Warning message:\n",
      "“NAs introduced by coercion”\n",
      "Warning message:\n",
      "“NAs introduced by coercion”\n"
     ]
    },
    {
     "data": {
      "text/html": [
       "<table class=\"dataframe\">\n",
       "<caption>A tibble: 6 × 9</caption>\n",
       "<thead>\n",
       "\t<tr><th scope=col>HAWC_ID</th><th scope=col>Metric</th><th scope=col>Sample</th><th scope=col>Study</th><th scope=col>Sample_Number</th><th scope=col>Class</th><th scope=col>DTXSID</th><th scope=col>Name</th><th scope=col>Value</th></tr>\n",
       "\t<tr><th scope=col>&lt;dbl&gt;</th><th scope=col>&lt;chr&gt;</th><th scope=col>&lt;chr&gt;</th><th scope=col>&lt;chr&gt;</th><th scope=col>&lt;dbl&gt;</th><th scope=col>&lt;chr&gt;</th><th scope=col>&lt;chr&gt;</th><th scope=col>&lt;chr&gt;</th><th scope=col>&lt;dbl&gt;</th></tr>\n",
       "</thead>\n",
       "<tbody>\n",
       "\t<tr><td>267105</td><td>Weight</td><td>WS</td><td>Danielsen et al. 2011</td><td>1</td><td>Metal</td><td>Cd</td><td>Cadmium </td><td>29.4</td></tr>\n",
       "\t<tr><td>267105</td><td>Weight</td><td>WS</td><td>Danielsen et al. 2011</td><td>2</td><td>Metal</td><td>Cd</td><td>Cadmium </td><td>  NA</td></tr>\n",
       "\t<tr><td>267105</td><td>Weight</td><td>WS</td><td>Danielsen et al. 2011</td><td>1</td><td>Metal</td><td>Cr</td><td>Chromium</td><td>21.4</td></tr>\n",
       "\t<tr><td>267105</td><td>Weight</td><td>WS</td><td>Danielsen et al. 2011</td><td>2</td><td>Metal</td><td>Cr</td><td>Chromium</td><td>21.3</td></tr>\n",
       "\t<tr><td>267105</td><td>Weight</td><td>WS</td><td>Danielsen et al. 2011</td><td>1</td><td>Metal</td><td>Cu</td><td>Copper  </td><td>65.6</td></tr>\n",
       "\t<tr><td>267105</td><td>Weight</td><td>WS</td><td>Danielsen et al. 2011</td><td>2</td><td>Metal</td><td>Cu</td><td>Copper  </td><td>34.4</td></tr>\n",
       "</tbody>\n",
       "</table>\n"
      ],
      "text/latex": [
       "A tibble: 6 × 9\n",
       "\\begin{tabular}{lllllllll}\n",
       " HAWC\\_ID & Metric & Sample & Study & Sample\\_Number & Class & DTXSID & Name & Value\\\\\n",
       " <dbl> & <chr> & <chr> & <chr> & <dbl> & <chr> & <chr> & <chr> & <dbl>\\\\\n",
       "\\hline\n",
       "\t 267105 & Weight & WS & Danielsen et al. 2011 & 1 & Metal & Cd & Cadmium  & 29.4\\\\\n",
       "\t 267105 & Weight & WS & Danielsen et al. 2011 & 2 & Metal & Cd & Cadmium  &   NA\\\\\n",
       "\t 267105 & Weight & WS & Danielsen et al. 2011 & 1 & Metal & Cr & Chromium & 21.4\\\\\n",
       "\t 267105 & Weight & WS & Danielsen et al. 2011 & 2 & Metal & Cr & Chromium & 21.3\\\\\n",
       "\t 267105 & Weight & WS & Danielsen et al. 2011 & 1 & Metal & Cu & Copper   & 65.6\\\\\n",
       "\t 267105 & Weight & WS & Danielsen et al. 2011 & 2 & Metal & Cu & Copper   & 34.4\\\\\n",
       "\\end{tabular}\n"
      ],
      "text/markdown": [
       "\n",
       "A tibble: 6 × 9\n",
       "\n",
       "| HAWC_ID &lt;dbl&gt; | Metric &lt;chr&gt; | Sample &lt;chr&gt; | Study &lt;chr&gt; | Sample_Number &lt;dbl&gt; | Class &lt;chr&gt; | DTXSID &lt;chr&gt; | Name &lt;chr&gt; | Value &lt;dbl&gt; |\n",
       "|---|---|---|---|---|---|---|---|---|\n",
       "| 267105 | Weight | WS | Danielsen et al. 2011 | 1 | Metal | Cd | Cadmium  | 29.4 |\n",
       "| 267105 | Weight | WS | Danielsen et al. 2011 | 2 | Metal | Cd | Cadmium  |   NA |\n",
       "| 267105 | Weight | WS | Danielsen et al. 2011 | 1 | Metal | Cr | Chromium | 21.4 |\n",
       "| 267105 | Weight | WS | Danielsen et al. 2011 | 2 | Metal | Cr | Chromium | 21.3 |\n",
       "| 267105 | Weight | WS | Danielsen et al. 2011 | 1 | Metal | Cu | Copper   | 65.6 |\n",
       "| 267105 | Weight | WS | Danielsen et al. 2011 | 2 | Metal | Cu | Copper   | 34.4 |\n",
       "\n"
      ],
      "text/plain": [
       "  HAWC_ID Metric Sample Study                 Sample_Number Class DTXSID\n",
       "1 267105  Weight WS     Danielsen et al. 2011 1             Metal Cd    \n",
       "2 267105  Weight WS     Danielsen et al. 2011 2             Metal Cd    \n",
       "3 267105  Weight WS     Danielsen et al. 2011 1             Metal Cr    \n",
       "4 267105  Weight WS     Danielsen et al. 2011 2             Metal Cr    \n",
       "5 267105  Weight WS     Danielsen et al. 2011 1             Metal Cu    \n",
       "6 267105  Weight WS     Danielsen et al. 2011 2             Metal Cu    \n",
       "  Name     Value\n",
       "1 Cadmium  29.4 \n",
       "2 Cadmium    NA \n",
       "3 Chromium 21.4 \n",
       "4 Chromium 21.3 \n",
       "5 Copper   65.6 \n",
       "6 Copper   34.4 "
      ]
     },
     "metadata": {},
     "output_type": "display_data"
    }
   ],
   "source": [
    "preimputed_weight_df$Value = as.numeric(preimputed_weight_df$Value)\n",
    "preimputed_vol_df$Value = as.numeric(preimputed_vol_df$Value)\n",
    "mar_weight_df$Value = as.numeric(mar_weight_df$Value)\n",
    "mar_vol_df$Value = as.numeric(mar_vol_df$Value)\n",
    "\n",
    "# reordering cols\n",
    "preimputed_weight_df = preimputed_weight_df[,c(3,1,4,6,7,2,8,5,9)]\n",
    "preimputed_vol_df = preimputed_vol_df[,c(3,1,4,6,7,2,8,5,9)]\n",
    "\n",
    "head(preimputed_weight_df)"
   ]
  },
  {
   "cell_type": "code",
   "execution_count": 22,
   "id": "d661b972-2072-4dea-a918-94209634c3be",
   "metadata": {},
   "outputs": [
    {
     "data": {
      "text/html": [
       "<table class=\"dataframe\">\n",
       "<caption>A tibble: 6 × 9</caption>\n",
       "<thead>\n",
       "\t<tr><th scope=col>HAWC_ID</th><th scope=col>Metric</th><th scope=col>Sample</th><th scope=col>Study</th><th scope=col>Sample_Number</th><th scope=col>Class</th><th scope=col>DTXSID</th><th scope=col>Name</th><th scope=col>Value</th></tr>\n",
       "\t<tr><th scope=col>&lt;dbl&gt;</th><th scope=col>&lt;chr&gt;</th><th scope=col>&lt;chr&gt;</th><th scope=col>&lt;chr&gt;</th><th scope=col>&lt;dbl&gt;</th><th scope=col>&lt;chr&gt;</th><th scope=col>&lt;chr&gt;</th><th scope=col>&lt;chr&gt;</th><th scope=col>&lt;dbl&gt;</th></tr>\n",
       "</thead>\n",
       "<tbody>\n",
       "\t<tr><td>267105</td><td>Weight</td><td>WS</td><td>Danielsen et al. 2011</td><td>2</td><td>Metal</td><td>Cd</td><td>Cadmium  </td><td>NA</td></tr>\n",
       "\t<tr><td>267105</td><td>Weight</td><td>WS</td><td>Danielsen et al. 2011</td><td>1</td><td>Metal</td><td>Mn</td><td>Manganese</td><td>NA</td></tr>\n",
       "\t<tr><td>267105</td><td>Weight</td><td>WS</td><td>Danielsen et al. 2011</td><td>2</td><td>Metal</td><td>Mn</td><td>Manganese</td><td>NA</td></tr>\n",
       "\t<tr><td>271638</td><td>Weight</td><td>WS</td><td>Jalava et al. 2012   </td><td>1</td><td>Metal</td><td>Pb</td><td>Lead     </td><td>NA</td></tr>\n",
       "\t<tr><td>271638</td><td>Weight</td><td>WS</td><td>Jalava et al. 2012   </td><td>2</td><td>Metal</td><td>Pb</td><td>Lead     </td><td>NA</td></tr>\n",
       "\t<tr><td>271638</td><td>Weight</td><td>WS</td><td>Jalava et al. 2012   </td><td>3</td><td>Metal</td><td>Pb</td><td>Lead     </td><td>NA</td></tr>\n",
       "</tbody>\n",
       "</table>\n"
      ],
      "text/latex": [
       "A tibble: 6 × 9\n",
       "\\begin{tabular}{lllllllll}\n",
       " HAWC\\_ID & Metric & Sample & Study & Sample\\_Number & Class & DTXSID & Name & Value\\\\\n",
       " <dbl> & <chr> & <chr> & <chr> & <dbl> & <chr> & <chr> & <chr> & <dbl>\\\\\n",
       "\\hline\n",
       "\t 267105 & Weight & WS & Danielsen et al. 2011 & 2 & Metal & Cd & Cadmium   & NA\\\\\n",
       "\t 267105 & Weight & WS & Danielsen et al. 2011 & 1 & Metal & Mn & Manganese & NA\\\\\n",
       "\t 267105 & Weight & WS & Danielsen et al. 2011 & 2 & Metal & Mn & Manganese & NA\\\\\n",
       "\t 271638 & Weight & WS & Jalava et al. 2012    & 1 & Metal & Pb & Lead      & NA\\\\\n",
       "\t 271638 & Weight & WS & Jalava et al. 2012    & 2 & Metal & Pb & Lead      & NA\\\\\n",
       "\t 271638 & Weight & WS & Jalava et al. 2012    & 3 & Metal & Pb & Lead      & NA\\\\\n",
       "\\end{tabular}\n"
      ],
      "text/markdown": [
       "\n",
       "A tibble: 6 × 9\n",
       "\n",
       "| HAWC_ID &lt;dbl&gt; | Metric &lt;chr&gt; | Sample &lt;chr&gt; | Study &lt;chr&gt; | Sample_Number &lt;dbl&gt; | Class &lt;chr&gt; | DTXSID &lt;chr&gt; | Name &lt;chr&gt; | Value &lt;dbl&gt; |\n",
       "|---|---|---|---|---|---|---|---|---|\n",
       "| 267105 | Weight | WS | Danielsen et al. 2011 | 2 | Metal | Cd | Cadmium   | NA |\n",
       "| 267105 | Weight | WS | Danielsen et al. 2011 | 1 | Metal | Mn | Manganese | NA |\n",
       "| 267105 | Weight | WS | Danielsen et al. 2011 | 2 | Metal | Mn | Manganese | NA |\n",
       "| 271638 | Weight | WS | Jalava et al. 2012    | 1 | Metal | Pb | Lead      | NA |\n",
       "| 271638 | Weight | WS | Jalava et al. 2012    | 2 | Metal | Pb | Lead      | NA |\n",
       "| 271638 | Weight | WS | Jalava et al. 2012    | 3 | Metal | Pb | Lead      | NA |\n",
       "\n"
      ],
      "text/plain": [
       "  HAWC_ID Metric Sample Study                 Sample_Number Class DTXSID\n",
       "1 267105  Weight WS     Danielsen et al. 2011 2             Metal Cd    \n",
       "2 267105  Weight WS     Danielsen et al. 2011 1             Metal Mn    \n",
       "3 267105  Weight WS     Danielsen et al. 2011 2             Metal Mn    \n",
       "4 271638  Weight WS     Jalava et al. 2012    1             Metal Pb    \n",
       "5 271638  Weight WS     Jalava et al. 2012    2             Metal Pb    \n",
       "6 271638  Weight WS     Jalava et al. 2012    3             Metal Pb    \n",
       "  Name      Value\n",
       "1 Cadmium   NA   \n",
       "2 Manganese NA   \n",
       "3 Manganese NA   \n",
       "4 Lead      NA   \n",
       "5 Lead      NA   \n",
       "6 Lead      NA   "
      ]
     },
     "metadata": {},
     "output_type": "display_data"
    }
   ],
   "source": [
    "# creating a df for MNAR data\n",
    "mnar_weight_df = preimputed_weight_df %>%\n",
    "    filter(is.na(Value))\n",
    "mnar_vol_df = preimputed_vol_df %>%\n",
    "    filter(is.na(Value))\n",
    "\n",
    "head(mnar_weight_df)"
   ]
  },
  {
   "cell_type": "code",
   "execution_count": 23,
   "id": "067dc934-b139-443d-82f5-5100ec735bc4",
   "metadata": {},
   "outputs": [
    {
     "name": "stderr",
     "output_type": "stream",
     "text": [
      "Warning message:\n",
      "“\u001b[1m\u001b[22mThere was 1 warning in `mutate()`.\n",
      "\u001b[1m\u001b[22m\u001b[36mℹ\u001b[39m In argument: `Value = sqrt(min(filtered_df$Value, na.rm = TRUE))`.\n",
      "Caused by warning in `min()`:\n",
      "\u001b[33m!\u001b[39m no non-missing arguments to min; returning Inf”\n",
      "Warning message:\n",
      "“\u001b[1m\u001b[22mThere was 1 warning in `mutate()`.\n",
      "\u001b[1m\u001b[22m\u001b[36mℹ\u001b[39m In argument: `Value = sqrt(min(filtered_df$Value, na.rm = TRUE))`.\n",
      "Caused by warning in `min()`:\n",
      "\u001b[33m!\u001b[39m no non-missing arguments to min; returning Inf”\n",
      "Warning message:\n",
      "“\u001b[1m\u001b[22mThere was 1 warning in `mutate()`.\n",
      "\u001b[1m\u001b[22m\u001b[36mℹ\u001b[39m In argument: `Value = sqrt(min(filtered_df$Value, na.rm = TRUE))`.\n",
      "Caused by warning in `min()`:\n",
      "\u001b[33m!\u001b[39m no non-missing arguments to min; returning Inf”\n",
      "Warning message:\n",
      "“\u001b[1m\u001b[22mThere was 1 warning in `mutate()`.\n",
      "\u001b[1m\u001b[22m\u001b[36mℹ\u001b[39m In argument: `Value = sqrt(min(filtered_df$Value, na.rm = TRUE))`.\n",
      "Caused by warning in `min()`:\n",
      "\u001b[33m!\u001b[39m no non-missing arguments to min; returning Inf”\n",
      "Warning message:\n",
      "“\u001b[1m\u001b[22mThere was 1 warning in `mutate()`.\n",
      "\u001b[1m\u001b[22m\u001b[36mℹ\u001b[39m In argument: `Value = sqrt(min(filtered_df$Value, na.rm = TRUE))`.\n",
      "Caused by warning in `min()`:\n",
      "\u001b[33m!\u001b[39m no non-missing arguments to min; returning Inf”\n",
      "Warning message:\n",
      "“\u001b[1m\u001b[22mThere was 1 warning in `mutate()`.\n",
      "\u001b[1m\u001b[22m\u001b[36mℹ\u001b[39m In argument: `Value = sqrt(min(filtered_df$Value, na.rm = TRUE))`.\n",
      "Caused by warning in `min()`:\n",
      "\u001b[33m!\u001b[39m no non-missing arguments to min; returning Inf”\n",
      "Warning message:\n",
      "“\u001b[1m\u001b[22mThere was 1 warning in `mutate()`.\n",
      "\u001b[1m\u001b[22m\u001b[36mℹ\u001b[39m In argument: `Value = sqrt(min(filtered_df$Value, na.rm = TRUE))`.\n",
      "Caused by warning in `min()`:\n",
      "\u001b[33m!\u001b[39m no non-missing arguments to min; returning Inf”\n",
      "Warning message:\n",
      "“\u001b[1m\u001b[22mThere was 1 warning in `mutate()`.\n",
      "\u001b[1m\u001b[22m\u001b[36mℹ\u001b[39m In argument: `Value = sqrt(min(filtered_df$Value, na.rm = TRUE))`.\n",
      "Caused by warning in `min()`:\n",
      "\u001b[33m!\u001b[39m no non-missing arguments to min; returning Inf”\n",
      "Warning message:\n",
      "“\u001b[1m\u001b[22mThere was 1 warning in `mutate()`.\n",
      "\u001b[1m\u001b[22m\u001b[36mℹ\u001b[39m In argument: `Value = sqrt(min(filtered_df$Value, na.rm = TRUE))`.\n",
      "Caused by warning in `min()`:\n",
      "\u001b[33m!\u001b[39m no non-missing arguments to min; returning Inf”\n",
      "Warning message:\n",
      "“\u001b[1m\u001b[22mThere was 1 warning in `mutate()`.\n",
      "\u001b[1m\u001b[22m\u001b[36mℹ\u001b[39m In argument: `Value = sqrt(min(filtered_df$Value, na.rm = TRUE))`.\n",
      "Caused by warning in `min()`:\n",
      "\u001b[33m!\u001b[39m no non-missing arguments to min; returning Inf”\n",
      "Warning message:\n",
      "“\u001b[1m\u001b[22mThere was 1 warning in `mutate()`.\n",
      "\u001b[1m\u001b[22m\u001b[36mℹ\u001b[39m In argument: `Value = sqrt(min(filtered_df$Value, na.rm = TRUE))`.\n",
      "Caused by warning in `min()`:\n",
      "\u001b[33m!\u001b[39m no non-missing arguments to min; returning Inf”\n",
      "Warning message:\n",
      "“\u001b[1m\u001b[22mThere was 1 warning in `mutate()`.\n",
      "\u001b[1m\u001b[22m\u001b[36mℹ\u001b[39m In argument: `Value = sqrt(min(filtered_df$Value, na.rm = TRUE))`.\n",
      "Caused by warning in `min()`:\n",
      "\u001b[33m!\u001b[39m no non-missing arguments to min; returning Inf”\n",
      "Warning message:\n",
      "“\u001b[1m\u001b[22mThere was 1 warning in `mutate()`.\n",
      "\u001b[1m\u001b[22m\u001b[36mℹ\u001b[39m In argument: `Value = sqrt(min(filtered_df$Value, na.rm = TRUE))`.\n",
      "Caused by warning in `min()`:\n",
      "\u001b[33m!\u001b[39m no non-missing arguments to min; returning Inf”\n",
      "Warning message:\n",
      "“\u001b[1m\u001b[22mThere was 1 warning in `mutate()`.\n",
      "\u001b[1m\u001b[22m\u001b[36mℹ\u001b[39m In argument: `Value = sqrt(min(filtered_df$Value, na.rm = TRUE))`.\n",
      "Caused by warning in `min()`:\n",
      "\u001b[33m!\u001b[39m no non-missing arguments to min; returning Inf”\n",
      "Warning message:\n",
      "“\u001b[1m\u001b[22mThere was 1 warning in `mutate()`.\n",
      "\u001b[1m\u001b[22m\u001b[36mℹ\u001b[39m In argument: `Value = sqrt(min(filtered_df$Value, na.rm = TRUE))`.\n",
      "Caused by warning in `min()`:\n",
      "\u001b[33m!\u001b[39m no non-missing arguments to min; returning Inf”\n",
      "Warning message:\n",
      "“\u001b[1m\u001b[22mThere was 1 warning in `mutate()`.\n",
      "\u001b[1m\u001b[22m\u001b[36mℹ\u001b[39m In argument: `Value = sqrt(min(filtered_df$Value, na.rm = TRUE))`.\n",
      "Caused by warning in `min()`:\n",
      "\u001b[33m!\u001b[39m no non-missing arguments to min; returning Inf”\n",
      "Warning message:\n",
      "“\u001b[1m\u001b[22mThere was 1 warning in `mutate()`.\n",
      "\u001b[1m\u001b[22m\u001b[36mℹ\u001b[39m In argument: `Value = sqrt(min(filtered_df$Value, na.rm = TRUE))`.\n",
      "Caused by warning in `min()`:\n",
      "\u001b[33m!\u001b[39m no non-missing arguments to min; returning Inf”\n",
      "Warning message:\n",
      "“\u001b[1m\u001b[22mThere was 1 warning in `mutate()`.\n",
      "\u001b[1m\u001b[22m\u001b[36mℹ\u001b[39m In argument: `Value = sqrt(min(filtered_df$Value, na.rm = TRUE))`.\n",
      "Caused by warning in `min()`:\n",
      "\u001b[33m!\u001b[39m no non-missing arguments to min; returning Inf”\n",
      "Warning message:\n",
      "“\u001b[1m\u001b[22mThere was 1 warning in `mutate()`.\n",
      "\u001b[1m\u001b[22m\u001b[36mℹ\u001b[39m In argument: `Value = sqrt(min(filtered_df$Value, na.rm = TRUE))`.\n",
      "Caused by warning in `min()`:\n",
      "\u001b[33m!\u001b[39m no non-missing arguments to min; returning Inf”\n",
      "Warning message:\n",
      "“\u001b[1m\u001b[22mThere was 1 warning in `mutate()`.\n",
      "\u001b[1m\u001b[22m\u001b[36mℹ\u001b[39m In argument: `Value = sqrt(min(filtered_df$Value, na.rm = TRUE))`.\n",
      "Caused by warning in `min()`:\n",
      "\u001b[33m!\u001b[39m no non-missing arguments to min; returning Inf”\n",
      "Warning message:\n",
      "“\u001b[1m\u001b[22mThere was 1 warning in `mutate()`.\n",
      "\u001b[1m\u001b[22m\u001b[36mℹ\u001b[39m In argument: `Value = sqrt(min(filtered_df$Value, na.rm = TRUE))`.\n",
      "Caused by warning in `min()`:\n",
      "\u001b[33m!\u001b[39m no non-missing arguments to min; returning Inf”\n",
      "Warning message:\n",
      "“\u001b[1m\u001b[22mThere was 1 warning in `mutate()`.\n",
      "\u001b[1m\u001b[22m\u001b[36mℹ\u001b[39m In argument: `Value = sqrt(min(filtered_df$Value, na.rm = TRUE))`.\n",
      "Caused by warning in `min()`:\n",
      "\u001b[33m!\u001b[39m no non-missing arguments to min; returning Inf”\n",
      "Warning message:\n",
      "“\u001b[1m\u001b[22mThere was 1 warning in `mutate()`.\n",
      "\u001b[1m\u001b[22m\u001b[36mℹ\u001b[39m In argument: `Value = sqrt(min(filtered_df$Value, na.rm = TRUE))`.\n",
      "Caused by warning in `min()`:\n",
      "\u001b[33m!\u001b[39m no non-missing arguments to min; returning Inf”\n",
      "Warning message:\n",
      "“\u001b[1m\u001b[22mThere was 1 warning in `mutate()`.\n",
      "\u001b[1m\u001b[22m\u001b[36mℹ\u001b[39m In argument: `Value = sqrt(min(filtered_df$Value, na.rm = TRUE))`.\n",
      "Caused by warning in `min()`:\n",
      "\u001b[33m!\u001b[39m no non-missing arguments to min; returning Inf”\n",
      "Warning message:\n",
      "“\u001b[1m\u001b[22mThere was 1 warning in `mutate()`.\n",
      "\u001b[1m\u001b[22m\u001b[36mℹ\u001b[39m In argument: `Value = sqrt(min(filtered_df$Value, na.rm = TRUE))`.\n",
      "Caused by warning in `min()`:\n",
      "\u001b[33m!\u001b[39m no non-missing arguments to min; returning Inf”\n",
      "Warning message:\n",
      "“\u001b[1m\u001b[22mThere was 1 warning in `mutate()`.\n",
      "\u001b[1m\u001b[22m\u001b[36mℹ\u001b[39m In argument: `Value = sqrt(min(filtered_df$Value, na.rm = TRUE))`.\n",
      "Caused by warning in `min()`:\n",
      "\u001b[33m!\u001b[39m no non-missing arguments to min; returning Inf”\n",
      "Warning message:\n",
      "“\u001b[1m\u001b[22mThere was 1 warning in `mutate()`.\n",
      "\u001b[1m\u001b[22m\u001b[36mℹ\u001b[39m In argument: `Value = sqrt(min(filtered_df$Value, na.rm = TRUE))`.\n",
      "Caused by warning in `min()`:\n",
      "\u001b[33m!\u001b[39m no non-missing arguments to min; returning Inf”\n",
      "Warning message:\n",
      "“\u001b[1m\u001b[22mThere was 1 warning in `mutate()`.\n",
      "\u001b[1m\u001b[22m\u001b[36mℹ\u001b[39m In argument: `Value = sqrt(min(filtered_df$Value, na.rm = TRUE))`.\n",
      "Caused by warning in `min()`:\n",
      "\u001b[33m!\u001b[39m no non-missing arguments to min; returning Inf”\n",
      "Warning message:\n",
      "“\u001b[1m\u001b[22mThere was 1 warning in `mutate()`.\n",
      "\u001b[1m\u001b[22m\u001b[36mℹ\u001b[39m In argument: `Value = sqrt(min(filtered_df$Value, na.rm = TRUE))`.\n",
      "Caused by warning in `min()`:\n",
      "\u001b[33m!\u001b[39m no non-missing arguments to min; returning Inf”\n",
      "Warning message:\n",
      "“\u001b[1m\u001b[22mThere was 1 warning in `mutate()`.\n",
      "\u001b[1m\u001b[22m\u001b[36mℹ\u001b[39m In argument: `Value = sqrt(min(filtered_df$Value, na.rm = TRUE))`.\n",
      "Caused by warning in `min()`:\n",
      "\u001b[33m!\u001b[39m no non-missing arguments to min; returning Inf”\n",
      "Warning message:\n",
      "“\u001b[1m\u001b[22mThere was 1 warning in `mutate()`.\n",
      "\u001b[1m\u001b[22m\u001b[36mℹ\u001b[39m In argument: `Value = sqrt(min(filtered_df$Value, na.rm = TRUE))`.\n",
      "Caused by warning in `min()`:\n",
      "\u001b[33m!\u001b[39m no non-missing arguments to min; returning Inf”\n",
      "Warning message:\n",
      "“\u001b[1m\u001b[22mThere was 1 warning in `mutate()`.\n",
      "\u001b[1m\u001b[22m\u001b[36mℹ\u001b[39m In argument: `Value = sqrt(min(filtered_df$Value, na.rm = TRUE))`.\n",
      "Caused by warning in `min()`:\n",
      "\u001b[33m!\u001b[39m no non-missing arguments to min; returning Inf”\n",
      "Warning message:\n",
      "“\u001b[1m\u001b[22mThere was 1 warning in `mutate()`.\n",
      "\u001b[1m\u001b[22m\u001b[36mℹ\u001b[39m In argument: `Value = sqrt(min(filtered_df$Value, na.rm = TRUE))`.\n",
      "Caused by warning in `min()`:\n",
      "\u001b[33m!\u001b[39m no non-missing arguments to min; returning Inf”\n",
      "Warning message:\n",
      "“\u001b[1m\u001b[22mThere was 1 warning in `mutate()`.\n",
      "\u001b[1m\u001b[22m\u001b[36mℹ\u001b[39m In argument: `Value = sqrt(min(filtered_df$Value, na.rm = TRUE))`.\n",
      "Caused by warning in `min()`:\n",
      "\u001b[33m!\u001b[39m no non-missing arguments to min; returning Inf”\n",
      "Warning message:\n",
      "“\u001b[1m\u001b[22mThere was 1 warning in `mutate()`.\n",
      "\u001b[1m\u001b[22m\u001b[36mℹ\u001b[39m In argument: `Value = sqrt(min(filtered_df$Value, na.rm = TRUE))`.\n",
      "Caused by warning in `min()`:\n",
      "\u001b[33m!\u001b[39m no non-missing arguments to min; returning Inf”\n",
      "Warning message:\n",
      "“\u001b[1m\u001b[22mThere was 1 warning in `mutate()`.\n",
      "\u001b[1m\u001b[22m\u001b[36mℹ\u001b[39m In argument: `Value = sqrt(min(filtered_df$Value, na.rm = TRUE))`.\n",
      "Caused by warning in `min()`:\n",
      "\u001b[33m!\u001b[39m no non-missing arguments to min; returning Inf”\n",
      "Warning message:\n",
      "“\u001b[1m\u001b[22mThere was 1 warning in `mutate()`.\n",
      "\u001b[1m\u001b[22m\u001b[36mℹ\u001b[39m In argument: `Value = sqrt(min(filtered_df$Value, na.rm = TRUE))`.\n",
      "Caused by warning in `min()`:\n",
      "\u001b[33m!\u001b[39m no non-missing arguments to min; returning Inf”\n",
      "Warning message:\n",
      "“\u001b[1m\u001b[22mThere was 1 warning in `mutate()`.\n",
      "\u001b[1m\u001b[22m\u001b[36mℹ\u001b[39m In argument: `Value = sqrt(min(filtered_df$Value, na.rm = TRUE))`.\n",
      "Caused by warning in `min()`:\n",
      "\u001b[33m!\u001b[39m no non-missing arguments to min; returning Inf”\n",
      "Warning message:\n",
      "“\u001b[1m\u001b[22mThere was 1 warning in `mutate()`.\n",
      "\u001b[1m\u001b[22m\u001b[36mℹ\u001b[39m In argument: `Value = sqrt(min(filtered_df$Value, na.rm = TRUE))`.\n",
      "Caused by warning in `min()`:\n",
      "\u001b[33m!\u001b[39m no non-missing arguments to min; returning Inf”\n",
      "Warning message:\n",
      "“\u001b[1m\u001b[22mThere was 1 warning in `mutate()`.\n",
      "\u001b[1m\u001b[22m\u001b[36mℹ\u001b[39m In argument: `Value = sqrt(min(filtered_df$Value, na.rm = TRUE))`.\n",
      "Caused by warning in `min()`:\n",
      "\u001b[33m!\u001b[39m no non-missing arguments to min; returning Inf”\n",
      "Warning message:\n",
      "“\u001b[1m\u001b[22mThere was 1 warning in `mutate()`.\n",
      "\u001b[1m\u001b[22m\u001b[36mℹ\u001b[39m In argument: `Value = sqrt(min(filtered_df$Value, na.rm = TRUE))`.\n",
      "Caused by warning in `min()`:\n",
      "\u001b[33m!\u001b[39m no non-missing arguments to min; returning Inf”\n",
      "Warning message:\n",
      "“\u001b[1m\u001b[22mThere was 1 warning in `mutate()`.\n",
      "\u001b[1m\u001b[22m\u001b[36mℹ\u001b[39m In argument: `Value = sqrt(min(filtered_df$Value, na.rm = TRUE))`.\n",
      "Caused by warning in `min()`:\n",
      "\u001b[33m!\u001b[39m no non-missing arguments to min; returning Inf”\n",
      "Warning message:\n",
      "“\u001b[1m\u001b[22mThere was 1 warning in `mutate()`.\n",
      "\u001b[1m\u001b[22m\u001b[36mℹ\u001b[39m In argument: `Value = sqrt(min(filtered_df$Value, na.rm = TRUE))`.\n",
      "Caused by warning in `min()`:\n",
      "\u001b[33m!\u001b[39m no non-missing arguments to min; returning Inf”\n",
      "Warning message:\n",
      "“\u001b[1m\u001b[22mThere was 1 warning in `mutate()`.\n",
      "\u001b[1m\u001b[22m\u001b[36mℹ\u001b[39m In argument: `Value = sqrt(min(filtered_df$Value, na.rm = TRUE))`.\n",
      "Caused by warning in `min()`:\n",
      "\u001b[33m!\u001b[39m no non-missing arguments to min; returning Inf”\n",
      "Warning message:\n",
      "“\u001b[1m\u001b[22mThere was 1 warning in `mutate()`.\n",
      "\u001b[1m\u001b[22m\u001b[36mℹ\u001b[39m In argument: `Value = sqrt(min(filtered_df$Value, na.rm = TRUE))`.\n",
      "Caused by warning in `min()`:\n",
      "\u001b[33m!\u001b[39m no non-missing arguments to min; returning Inf”\n",
      "Warning message:\n",
      "“\u001b[1m\u001b[22mThere was 1 warning in `mutate()`.\n",
      "\u001b[1m\u001b[22m\u001b[36mℹ\u001b[39m In argument: `Value = sqrt(min(filtered_df$Value, na.rm = TRUE))`.\n",
      "Caused by warning in `min()`:\n",
      "\u001b[33m!\u001b[39m no non-missing arguments to min; returning Inf”\n",
      "Warning message:\n",
      "“\u001b[1m\u001b[22mThere was 1 warning in `mutate()`.\n",
      "\u001b[1m\u001b[22m\u001b[36mℹ\u001b[39m In argument: `Value = sqrt(min(filtered_df$Value, na.rm = TRUE))`.\n",
      "Caused by warning in `min()`:\n",
      "\u001b[33m!\u001b[39m no non-missing arguments to min; returning Inf”\n",
      "Warning message:\n",
      "“\u001b[1m\u001b[22mThere was 1 warning in `mutate()`.\n",
      "\u001b[1m\u001b[22m\u001b[36mℹ\u001b[39m In argument: `Value = sqrt(min(filtered_df$Value, na.rm = TRUE))`.\n",
      "Caused by warning in `min()`:\n",
      "\u001b[33m!\u001b[39m no non-missing arguments to min; returning Inf”\n",
      "Warning message:\n",
      "“\u001b[1m\u001b[22mThere was 1 warning in `mutate()`.\n",
      "\u001b[1m\u001b[22m\u001b[36mℹ\u001b[39m In argument: `Value = sqrt(min(filtered_df$Value, na.rm = TRUE))`.\n",
      "Caused by warning in `min()`:\n",
      "\u001b[33m!\u001b[39m no non-missing arguments to min; returning Inf”\n",
      "Warning message:\n",
      "“\u001b[1m\u001b[22mThere was 1 warning in `mutate()`.\n",
      "\u001b[1m\u001b[22m\u001b[36mℹ\u001b[39m In argument: `Value = sqrt(min(filtered_df$Value, na.rm = TRUE))`.\n",
      "Caused by warning in `min()`:\n",
      "\u001b[33m!\u001b[39m no non-missing arguments to min; returning Inf”\n"
     ]
    },
    {
     "data": {
      "text/html": [
       "<table class=\"dataframe\">\n",
       "<caption>A tibble: 6 × 9</caption>\n",
       "<thead>\n",
       "\t<tr><th scope=col>HAWC_ID</th><th scope=col>Metric</th><th scope=col>Sample</th><th scope=col>Study</th><th scope=col>Sample_Number</th><th scope=col>Class</th><th scope=col>DTXSID</th><th scope=col>Name</th><th scope=col>Value</th></tr>\n",
       "\t<tr><th scope=col>&lt;dbl&gt;</th><th scope=col>&lt;chr&gt;</th><th scope=col>&lt;chr&gt;</th><th scope=col>&lt;chr&gt;</th><th scope=col>&lt;dbl&gt;</th><th scope=col>&lt;chr&gt;</th><th scope=col>&lt;chr&gt;</th><th scope=col>&lt;chr&gt;</th><th scope=col>&lt;dbl&gt;</th></tr>\n",
       "</thead>\n",
       "<tbody>\n",
       "\t<tr><td>267105</td><td>Weight</td><td>WS</td><td>Danielsen et al. 2011</td><td>1</td><td>Metal</td><td>Cd</td><td>Cadmium  </td><td>29.400000</td></tr>\n",
       "\t<tr><td>267105</td><td>Weight</td><td>WS</td><td>Danielsen et al. 2011</td><td>2</td><td>Metal</td><td>Cd</td><td>Cadmium  </td><td> 5.422177</td></tr>\n",
       "\t<tr><td>267105</td><td>Weight</td><td>WS</td><td>Danielsen et al. 2011</td><td>1</td><td>Metal</td><td>Mn</td><td>Manganese</td><td>       NA</td></tr>\n",
       "\t<tr><td>267105</td><td>Weight</td><td>WS</td><td>Danielsen et al. 2011</td><td>2</td><td>Metal</td><td>Mn</td><td>Manganese</td><td>       NA</td></tr>\n",
       "\t<tr><td>271638</td><td>Weight</td><td>WS</td><td>Jalava et al. 2012   </td><td>1</td><td>Metal</td><td>Pb</td><td>Lead     </td><td>       NA</td></tr>\n",
       "\t<tr><td>271638</td><td>Weight</td><td>WS</td><td>Jalava et al. 2012   </td><td>2</td><td>Metal</td><td>Pb</td><td>Lead     </td><td>       NA</td></tr>\n",
       "</tbody>\n",
       "</table>\n"
      ],
      "text/latex": [
       "A tibble: 6 × 9\n",
       "\\begin{tabular}{lllllllll}\n",
       " HAWC\\_ID & Metric & Sample & Study & Sample\\_Number & Class & DTXSID & Name & Value\\\\\n",
       " <dbl> & <chr> & <chr> & <chr> & <dbl> & <chr> & <chr> & <chr> & <dbl>\\\\\n",
       "\\hline\n",
       "\t 267105 & Weight & WS & Danielsen et al. 2011 & 1 & Metal & Cd & Cadmium   & 29.400000\\\\\n",
       "\t 267105 & Weight & WS & Danielsen et al. 2011 & 2 & Metal & Cd & Cadmium   &  5.422177\\\\\n",
       "\t 267105 & Weight & WS & Danielsen et al. 2011 & 1 & Metal & Mn & Manganese &        NA\\\\\n",
       "\t 267105 & Weight & WS & Danielsen et al. 2011 & 2 & Metal & Mn & Manganese &        NA\\\\\n",
       "\t 271638 & Weight & WS & Jalava et al. 2012    & 1 & Metal & Pb & Lead      &        NA\\\\\n",
       "\t 271638 & Weight & WS & Jalava et al. 2012    & 2 & Metal & Pb & Lead      &        NA\\\\\n",
       "\\end{tabular}\n"
      ],
      "text/markdown": [
       "\n",
       "A tibble: 6 × 9\n",
       "\n",
       "| HAWC_ID &lt;dbl&gt; | Metric &lt;chr&gt; | Sample &lt;chr&gt; | Study &lt;chr&gt; | Sample_Number &lt;dbl&gt; | Class &lt;chr&gt; | DTXSID &lt;chr&gt; | Name &lt;chr&gt; | Value &lt;dbl&gt; |\n",
       "|---|---|---|---|---|---|---|---|---|\n",
       "| 267105 | Weight | WS | Danielsen et al. 2011 | 1 | Metal | Cd | Cadmium   | 29.400000 |\n",
       "| 267105 | Weight | WS | Danielsen et al. 2011 | 2 | Metal | Cd | Cadmium   |  5.422177 |\n",
       "| 267105 | Weight | WS | Danielsen et al. 2011 | 1 | Metal | Mn | Manganese |        NA |\n",
       "| 267105 | Weight | WS | Danielsen et al. 2011 | 2 | Metal | Mn | Manganese |        NA |\n",
       "| 271638 | Weight | WS | Jalava et al. 2012    | 1 | Metal | Pb | Lead      |        NA |\n",
       "| 271638 | Weight | WS | Jalava et al. 2012    | 2 | Metal | Pb | Lead      |        NA |\n",
       "\n"
      ],
      "text/plain": [
       "  HAWC_ID Metric Sample Study                 Sample_Number Class DTXSID\n",
       "1 267105  Weight WS     Danielsen et al. 2011 1             Metal Cd    \n",
       "2 267105  Weight WS     Danielsen et al. 2011 2             Metal Cd    \n",
       "3 267105  Weight WS     Danielsen et al. 2011 1             Metal Mn    \n",
       "4 267105  Weight WS     Danielsen et al. 2011 2             Metal Mn    \n",
       "5 271638  Weight WS     Jalava et al. 2012    1             Metal Pb    \n",
       "6 271638  Weight WS     Jalava et al. 2012    2             Metal Pb    \n",
       "  Name      Value    \n",
       "1 Cadmium   29.400000\n",
       "2 Cadmium    5.422177\n",
       "3 Manganese        NA\n",
       "4 Manganese        NA\n",
       "5 Lead             NA\n",
       "6 Lead             NA"
      ]
     },
     "metadata": {},
     "output_type": "display_data"
    }
   ],
   "source": [
    "square_root_imputation = function(mnar_df, preimputed_df){\n",
    "    # \"\"\"\n",
    "    # Imputing MNAR values based on the square root of the minimum concentration for each chemical \n",
    "    # within a study or metal.\n",
    "    \n",
    "    # :param: MNAR dataframe, preimputed dataframe\n",
    "    # :output: a dataframe with imputed values\n",
    "\n",
    "    # \"\"\"\n",
    "\n",
    "    id_df = mnar_df[is.na(mnar_df$Value),]\n",
    "    study_ids = unique(id_df$HAWC_ID)\n",
    "    \n",
    "    imputed_df = data.frame()\n",
    "    for (i in 1:length(id_df$HAWC_ID)){\n",
    "    \n",
    "        filtered_df = preimputed_df %>%\n",
    "            filter(HAWC_ID == id_df$HAWC_ID[i], DTXSID == id_df$DTXSID[i])\n",
    "    \n",
    "        na_df = filtered_df %>%\n",
    "            filter(is.na(Value)) %>%\n",
    "            mutate(Value = sqrt(min(filtered_df$Value, na.rm = TRUE)))\n",
    "    \n",
    "        # combining rows of data\n",
    "        combined_df = rbind(filtered_df %>%\n",
    "            filter(!is.na(Value)), na_df)\n",
    "    \n",
    "        imputed_df = rbind(imputed_df, combined_df) %>%\n",
    "                        unique()\n",
    "    }\n",
    "    return(imputed_df)    \n",
    "    \n",
    "}\n",
    "\n",
    "# calling fn\n",
    "imputed_vol_df = square_root_imputation(mnar_vol_df, preimputed_vol_df) %>%\n",
    "    mutate(Value = ifelse(Value == Inf, NA, Value))\n",
    "imputed_weight_df = square_root_imputation(mnar_weight_df, preimputed_weight_df) %>%\n",
    "    mutate(Value = ifelse(Value == Inf, NA, Value))\n",
    "    \n",
    "head(imputed_weight_df)"
   ]
  },
  {
   "cell_type": "code",
   "execution_count": 24,
   "id": "07854f04-04e7-47e4-8bf0-d5a235651018",
   "metadata": {
    "scrolled": true
   },
   "outputs": [
    {
     "name": "stderr",
     "output_type": "stream",
     "text": [
      "\u001b[1m\u001b[22mJoining with `by = join_by(Metric, Sample, Class, DTXSID)`\n",
      "\u001b[1m\u001b[22mJoining with `by = join_by(Metric, Sample, Class, DTXSID)`\n"
     ]
    },
    {
     "data": {
      "text/html": [
       "<table class=\"dataframe\">\n",
       "<caption>A tibble: 6 × 2</caption>\n",
       "<thead>\n",
       "\t<tr><th scope=col>DTXSID</th><th scope=col>Value</th></tr>\n",
       "\t<tr><th scope=col>&lt;chr&gt;</th><th scope=col>&lt;dbl&gt;</th></tr>\n",
       "</thead>\n",
       "<tbody>\n",
       "\t<tr><td>DTXSID0022432</td><td>0.24494897</td></tr>\n",
       "\t<tr><td>DTXSID0023878</td><td>0.06557439</td></tr>\n",
       "\t<tr><td>DTXSID0023907</td><td>0.25690465</td></tr>\n",
       "\t<tr><td>DTXSID2020139</td><td>0.09110434</td></tr>\n",
       "\t<tr><td>DTXSID3021774</td><td>0.40000000</td></tr>\n",
       "\t<tr><td>DTXSID3024104</td><td>0.14142136</td></tr>\n",
       "</tbody>\n",
       "</table>\n"
      ],
      "text/latex": [
       "A tibble: 6 × 2\n",
       "\\begin{tabular}{ll}\n",
       " DTXSID & Value\\\\\n",
       " <chr> & <dbl>\\\\\n",
       "\\hline\n",
       "\t DTXSID0022432 & 0.24494897\\\\\n",
       "\t DTXSID0023878 & 0.06557439\\\\\n",
       "\t DTXSID0023907 & 0.25690465\\\\\n",
       "\t DTXSID2020139 & 0.09110434\\\\\n",
       "\t DTXSID3021774 & 0.40000000\\\\\n",
       "\t DTXSID3024104 & 0.14142136\\\\\n",
       "\\end{tabular}\n"
      ],
      "text/markdown": [
       "\n",
       "A tibble: 6 × 2\n",
       "\n",
       "| DTXSID &lt;chr&gt; | Value &lt;dbl&gt; |\n",
       "|---|---|\n",
       "| DTXSID0022432 | 0.24494897 |\n",
       "| DTXSID0023878 | 0.06557439 |\n",
       "| DTXSID0023907 | 0.25690465 |\n",
       "| DTXSID2020139 | 0.09110434 |\n",
       "| DTXSID3021774 | 0.40000000 |\n",
       "| DTXSID3024104 | 0.14142136 |\n",
       "\n"
      ],
      "text/plain": [
       "  DTXSID        Value     \n",
       "1 DTXSID0022432 0.24494897\n",
       "2 DTXSID0023878 0.06557439\n",
       "3 DTXSID0023907 0.25690465\n",
       "4 DTXSID2020139 0.09110434\n",
       "5 DTXSID3021774 0.40000000\n",
       "6 DTXSID3024104 0.14142136"
      ]
     },
     "metadata": {},
     "output_type": "display_data"
    },
    {
     "data": {
      "text/html": [
       "<style>\n",
       ".list-inline {list-style: none; margin:0; padding: 0}\n",
       ".list-inline>li {display: inline-block}\n",
       ".list-inline>li:not(:last-child)::after {content: \"\\00b7\"; padding: 0 .5ex}\n",
       "</style>\n",
       "<ol class=list-inline><li>7</li><li>2</li></ol>\n"
      ],
      "text/latex": [
       "\\begin{enumerate*}\n",
       "\\item 7\n",
       "\\item 2\n",
       "\\end{enumerate*}\n"
      ],
      "text/markdown": [
       "1. 7\n",
       "2. 2\n",
       "\n",
       "\n"
      ],
      "text/plain": [
       "[1] 7 2"
      ]
     },
     "metadata": {},
     "output_type": "display_data"
    },
    {
     "data": {
      "text/html": [
       "<table class=\"dataframe\">\n",
       "<caption>A tibble: 6 × 2</caption>\n",
       "<thead>\n",
       "\t<tr><th scope=col>DTXSID</th><th scope=col>Value</th></tr>\n",
       "\t<tr><th scope=col>&lt;chr&gt;</th><th scope=col>&lt;dbl&gt;</th></tr>\n",
       "</thead>\n",
       "<tbody>\n",
       "\t<tr><td>Al           </td><td>1.31148770</td></tr>\n",
       "\t<tr><td>Ba           </td><td>1.00000000</td></tr>\n",
       "\t<tr><td>Co           </td><td>0.10000000</td></tr>\n",
       "\t<tr><td>Cr           </td><td>0.31622777</td></tr>\n",
       "\t<tr><td>DTXSID0023907</td><td>0.08660254</td></tr>\n",
       "\t<tr><td>DTXSID3021774</td><td>0.06033241</td></tr>\n",
       "</tbody>\n",
       "</table>\n"
      ],
      "text/latex": [
       "A tibble: 6 × 2\n",
       "\\begin{tabular}{ll}\n",
       " DTXSID & Value\\\\\n",
       " <chr> & <dbl>\\\\\n",
       "\\hline\n",
       "\t Al            & 1.31148770\\\\\n",
       "\t Ba            & 1.00000000\\\\\n",
       "\t Co            & 0.10000000\\\\\n",
       "\t Cr            & 0.31622777\\\\\n",
       "\t DTXSID0023907 & 0.08660254\\\\\n",
       "\t DTXSID3021774 & 0.06033241\\\\\n",
       "\\end{tabular}\n"
      ],
      "text/markdown": [
       "\n",
       "A tibble: 6 × 2\n",
       "\n",
       "| DTXSID &lt;chr&gt; | Value &lt;dbl&gt; |\n",
       "|---|---|\n",
       "| Al            | 1.31148770 |\n",
       "| Ba            | 1.00000000 |\n",
       "| Co            | 0.10000000 |\n",
       "| Cr            | 0.31622777 |\n",
       "| DTXSID0023907 | 0.08660254 |\n",
       "| DTXSID3021774 | 0.06033241 |\n",
       "\n"
      ],
      "text/plain": [
       "  DTXSID        Value     \n",
       "1 Al            1.31148770\n",
       "2 Ba            1.00000000\n",
       "3 Co            0.10000000\n",
       "4 Cr            0.31622777\n",
       "5 DTXSID0023907 0.08660254\n",
       "6 DTXSID3021774 0.06033241"
      ]
     },
     "metadata": {},
     "output_type": "display_data"
    },
    {
     "data": {
      "text/html": [
       "<style>\n",
       ".list-inline {list-style: none; margin:0; padding: 0}\n",
       ".list-inline>li {display: inline-block}\n",
       ".list-inline>li:not(:last-child)::after {content: \"\\00b7\"; padding: 0 .5ex}\n",
       "</style>\n",
       "<ol class=list-inline><li>14</li><li>2</li></ol>\n"
      ],
      "text/latex": [
       "\\begin{enumerate*}\n",
       "\\item 14\n",
       "\\item 2\n",
       "\\end{enumerate*}\n"
      ],
      "text/markdown": [
       "1. 14\n",
       "2. 2\n",
       "\n",
       "\n"
      ],
      "text/plain": [
       "[1] 14  2"
      ]
     },
     "metadata": {},
     "output_type": "display_data"
    }
   ],
   "source": [
    "# there are still a few variables that didn't have any values to do the square root imputation\n",
    "# their imputed values will be based off of distributions from other studies\n",
    "other_studies_vol_df = semi_join(preimputed_vol_df %>%\n",
    "                filter(!is.na(Value)), imputed_vol_df %>%\n",
    "                               filter(is.na(Value)) %>%\n",
    "    select(2,3,6,7)) %>%\n",
    "    group_by(DTXSID) %>%\n",
    "    summarize(Value = sqrt(min(Value)))\n",
    "\n",
    "other_studies_weight_df = semi_join(preimputed_weight_df %>%\n",
    "                filter(!is.na(Value)), imputed_weight_df %>%\n",
    "                               filter(is.na(Value)) %>%\n",
    "    select(2,3,6,7)) %>%\n",
    "    group_by(DTXSID) %>%\n",
    "    summarize(Value = sqrt(min(Value)))\n",
    "\n",
    "head(other_studies_vol_df)\n",
    "dim(other_studies_vol_df)\n",
    "head(other_studies_weight_df)\n",
    "dim(other_studies_weight_df)"
   ]
  },
  {
   "cell_type": "markdown",
   "id": "f1906206-a203-4e96-818c-ecfa72ec5e1a",
   "metadata": {},
   "source": [
    "7 (volume) and 14 (weight) samples were imputed based on values from other studies."
   ]
  },
  {
   "cell_type": "code",
   "execution_count": 25,
   "id": "5ccba263-d734-4cdd-a705-b1ae9d6b156f",
   "metadata": {},
   "outputs": [
    {
     "name": "stderr",
     "output_type": "stream",
     "text": [
      "\u001b[1m\u001b[22mJoining with `by = join_by(DTXSID)`\n",
      "\u001b[1m\u001b[22mJoining with `by = join_by(DTXSID)`\n"
     ]
    },
    {
     "data": {
      "text/html": [
       "<table class=\"dataframe\">\n",
       "<caption>A tibble: 6 × 9</caption>\n",
       "<thead>\n",
       "\t<tr><th scope=col>HAWC_ID</th><th scope=col>Metric</th><th scope=col>Sample</th><th scope=col>Study</th><th scope=col>Sample_Number</th><th scope=col>Class</th><th scope=col>DTXSID</th><th scope=col>Name</th><th scope=col>Value</th></tr>\n",
       "\t<tr><th scope=col>&lt;dbl&gt;</th><th scope=col>&lt;chr&gt;</th><th scope=col>&lt;chr&gt;</th><th scope=col>&lt;chr&gt;</th><th scope=col>&lt;dbl&gt;</th><th scope=col>&lt;chr&gt;</th><th scope=col>&lt;chr&gt;</th><th scope=col>&lt;chr&gt;</th><th scope=col>&lt;dbl&gt;</th></tr>\n",
       "</thead>\n",
       "<tbody>\n",
       "\t<tr><td>267105</td><td>Weight</td><td>WS</td><td>Danielsen et al. 2011</td><td>1</td><td>Metal</td><td>Cd</td><td>Cadmium</td><td>   29.400000</td></tr>\n",
       "\t<tr><td>267105</td><td>Weight</td><td>WS</td><td>Danielsen et al. 2011</td><td>2</td><td>Metal</td><td>Cd</td><td>Cadmium</td><td>    5.422177</td></tr>\n",
       "\t<tr><td>271638</td><td>Weight</td><td>WS</td><td>Jalava et al. 2012   </td><td>4</td><td>Metal</td><td>Si</td><td>Silicon</td><td>14700.000000</td></tr>\n",
       "\t<tr><td>271638</td><td>Weight</td><td>WS</td><td>Jalava et al. 2012   </td><td>1</td><td>Metal</td><td>Si</td><td>Silicon</td><td>  121.243557</td></tr>\n",
       "\t<tr><td>271638</td><td>Weight</td><td>WS</td><td>Jalava et al. 2012   </td><td>2</td><td>Metal</td><td>Si</td><td>Silicon</td><td>  121.243557</td></tr>\n",
       "\t<tr><td>271638</td><td>Weight</td><td>WS</td><td>Jalava et al. 2012   </td><td>3</td><td>Metal</td><td>Si</td><td>Silicon</td><td>  121.243557</td></tr>\n",
       "</tbody>\n",
       "</table>\n"
      ],
      "text/latex": [
       "A tibble: 6 × 9\n",
       "\\begin{tabular}{lllllllll}\n",
       " HAWC\\_ID & Metric & Sample & Study & Sample\\_Number & Class & DTXSID & Name & Value\\\\\n",
       " <dbl> & <chr> & <chr> & <chr> & <dbl> & <chr> & <chr> & <chr> & <dbl>\\\\\n",
       "\\hline\n",
       "\t 267105 & Weight & WS & Danielsen et al. 2011 & 1 & Metal & Cd & Cadmium &    29.400000\\\\\n",
       "\t 267105 & Weight & WS & Danielsen et al. 2011 & 2 & Metal & Cd & Cadmium &     5.422177\\\\\n",
       "\t 271638 & Weight & WS & Jalava et al. 2012    & 4 & Metal & Si & Silicon & 14700.000000\\\\\n",
       "\t 271638 & Weight & WS & Jalava et al. 2012    & 1 & Metal & Si & Silicon &   121.243557\\\\\n",
       "\t 271638 & Weight & WS & Jalava et al. 2012    & 2 & Metal & Si & Silicon &   121.243557\\\\\n",
       "\t 271638 & Weight & WS & Jalava et al. 2012    & 3 & Metal & Si & Silicon &   121.243557\\\\\n",
       "\\end{tabular}\n"
      ],
      "text/markdown": [
       "\n",
       "A tibble: 6 × 9\n",
       "\n",
       "| HAWC_ID &lt;dbl&gt; | Metric &lt;chr&gt; | Sample &lt;chr&gt; | Study &lt;chr&gt; | Sample_Number &lt;dbl&gt; | Class &lt;chr&gt; | DTXSID &lt;chr&gt; | Name &lt;chr&gt; | Value &lt;dbl&gt; |\n",
       "|---|---|---|---|---|---|---|---|---|\n",
       "| 267105 | Weight | WS | Danielsen et al. 2011 | 1 | Metal | Cd | Cadmium |    29.400000 |\n",
       "| 267105 | Weight | WS | Danielsen et al. 2011 | 2 | Metal | Cd | Cadmium |     5.422177 |\n",
       "| 271638 | Weight | WS | Jalava et al. 2012    | 4 | Metal | Si | Silicon | 14700.000000 |\n",
       "| 271638 | Weight | WS | Jalava et al. 2012    | 1 | Metal | Si | Silicon |   121.243557 |\n",
       "| 271638 | Weight | WS | Jalava et al. 2012    | 2 | Metal | Si | Silicon |   121.243557 |\n",
       "| 271638 | Weight | WS | Jalava et al. 2012    | 3 | Metal | Si | Silicon |   121.243557 |\n",
       "\n"
      ],
      "text/plain": [
       "  HAWC_ID Metric Sample Study                 Sample_Number Class DTXSID\n",
       "1 267105  Weight WS     Danielsen et al. 2011 1             Metal Cd    \n",
       "2 267105  Weight WS     Danielsen et al. 2011 2             Metal Cd    \n",
       "3 271638  Weight WS     Jalava et al. 2012    4             Metal Si    \n",
       "4 271638  Weight WS     Jalava et al. 2012    1             Metal Si    \n",
       "5 271638  Weight WS     Jalava et al. 2012    2             Metal Si    \n",
       "6 271638  Weight WS     Jalava et al. 2012    3             Metal Si    \n",
       "  Name    Value       \n",
       "1 Cadmium    29.400000\n",
       "2 Cadmium     5.422177\n",
       "3 Silicon 14700.000000\n",
       "4 Silicon   121.243557\n",
       "5 Silicon   121.243557\n",
       "6 Silicon   121.243557"
      ]
     },
     "metadata": {},
     "output_type": "display_data"
    }
   ],
   "source": [
    "# removing NAs from the imputed df \n",
    "removed_imputed_vol_df = imputed_vol_df %>%\n",
    "    filter(!is.na(Value))\n",
    "removed_imputed_weight_df = imputed_weight_df %>%\n",
    "    filter(!is.na(Value))\n",
    "\n",
    "# adding in the newly imputed values back in \n",
    "all_imputed_vol_df = left_join(imputed_vol_df %>%\n",
    "        filter(is.na(Value)) %>%\n",
    "        select(-Value), other_studies_vol_df)\n",
    "\n",
    "all_imputed_weight_df = left_join(imputed_weight_df %>%\n",
    "        filter(is.na(Value)) %>%\n",
    "        select(-Value), other_studies_weight_df)\n",
    "\n",
    "all_imputed_vol_df = rbind(removed_imputed_vol_df, all_imputed_vol_df)\n",
    "all_imputed_weight_df = rbind(removed_imputed_weight_df, all_imputed_weight_df)\n",
    "\n",
    "head(all_imputed_weight_df)"
   ]
  },
  {
   "cell_type": "code",
   "execution_count": 26,
   "id": "1e23e74f-00fc-48d5-a263-3df792097fdd",
   "metadata": {},
   "outputs": [
    {
     "name": "stderr",
     "output_type": "stream",
     "text": [
      "\u001b[1m\u001b[22mJoining with `by = join_by(HAWC_ID, Metric, Sample, Study, Sample_Number,\n",
      "Class, DTXSID, Name)`\n",
      "\u001b[1m\u001b[22mJoining with `by = join_by(HAWC_ID, Metric, Sample, Study, Sample_Number,\n",
      "Class, DTXSID, Name)`\n"
     ]
    },
    {
     "data": {
      "text/html": [
       "<table class=\"dataframe\">\n",
       "<caption>A tibble: 6 × 9</caption>\n",
       "<thead>\n",
       "\t<tr><th scope=col>HAWC_ID</th><th scope=col>Metric</th><th scope=col>Sample</th><th scope=col>Study</th><th scope=col>Sample_Number</th><th scope=col>Class</th><th scope=col>DTXSID</th><th scope=col>Name</th><th scope=col>Value</th></tr>\n",
       "\t<tr><th scope=col>&lt;dbl&gt;</th><th scope=col>&lt;chr&gt;</th><th scope=col>&lt;chr&gt;</th><th scope=col>&lt;chr&gt;</th><th scope=col>&lt;dbl&gt;</th><th scope=col>&lt;chr&gt;</th><th scope=col>&lt;chr&gt;</th><th scope=col>&lt;chr&gt;</th><th scope=col>&lt;dbl&gt;</th></tr>\n",
       "</thead>\n",
       "<tbody>\n",
       "\t<tr><td>267105</td><td>Weight</td><td>WS</td><td>Danielsen et al. 2011</td><td>1</td><td>Metal</td><td>Cd</td><td>Cadmium</td><td>   29.400000</td></tr>\n",
       "\t<tr><td>267105</td><td>Weight</td><td>WS</td><td>Danielsen et al. 2011</td><td>2</td><td>Metal</td><td>Cd</td><td>Cadmium</td><td>    5.422177</td></tr>\n",
       "\t<tr><td>271638</td><td>Weight</td><td>WS</td><td>Jalava et al. 2012   </td><td>4</td><td>Metal</td><td>Si</td><td>Silicon</td><td>14700.000000</td></tr>\n",
       "\t<tr><td>271638</td><td>Weight</td><td>WS</td><td>Jalava et al. 2012   </td><td>1</td><td>Metal</td><td>Si</td><td>Silicon</td><td>  121.243557</td></tr>\n",
       "\t<tr><td>271638</td><td>Weight</td><td>WS</td><td>Jalava et al. 2012   </td><td>2</td><td>Metal</td><td>Si</td><td>Silicon</td><td>  121.243557</td></tr>\n",
       "\t<tr><td>271638</td><td>Weight</td><td>WS</td><td>Jalava et al. 2012   </td><td>3</td><td>Metal</td><td>Si</td><td>Silicon</td><td>  121.243557</td></tr>\n",
       "</tbody>\n",
       "</table>\n"
      ],
      "text/latex": [
       "A tibble: 6 × 9\n",
       "\\begin{tabular}{lllllllll}\n",
       " HAWC\\_ID & Metric & Sample & Study & Sample\\_Number & Class & DTXSID & Name & Value\\\\\n",
       " <dbl> & <chr> & <chr> & <chr> & <dbl> & <chr> & <chr> & <chr> & <dbl>\\\\\n",
       "\\hline\n",
       "\t 267105 & Weight & WS & Danielsen et al. 2011 & 1 & Metal & Cd & Cadmium &    29.400000\\\\\n",
       "\t 267105 & Weight & WS & Danielsen et al. 2011 & 2 & Metal & Cd & Cadmium &     5.422177\\\\\n",
       "\t 271638 & Weight & WS & Jalava et al. 2012    & 4 & Metal & Si & Silicon & 14700.000000\\\\\n",
       "\t 271638 & Weight & WS & Jalava et al. 2012    & 1 & Metal & Si & Silicon &   121.243557\\\\\n",
       "\t 271638 & Weight & WS & Jalava et al. 2012    & 2 & Metal & Si & Silicon &   121.243557\\\\\n",
       "\t 271638 & Weight & WS & Jalava et al. 2012    & 3 & Metal & Si & Silicon &   121.243557\\\\\n",
       "\\end{tabular}\n"
      ],
      "text/markdown": [
       "\n",
       "A tibble: 6 × 9\n",
       "\n",
       "| HAWC_ID &lt;dbl&gt; | Metric &lt;chr&gt; | Sample &lt;chr&gt; | Study &lt;chr&gt; | Sample_Number &lt;dbl&gt; | Class &lt;chr&gt; | DTXSID &lt;chr&gt; | Name &lt;chr&gt; | Value &lt;dbl&gt; |\n",
       "|---|---|---|---|---|---|---|---|---|\n",
       "| 267105 | Weight | WS | Danielsen et al. 2011 | 1 | Metal | Cd | Cadmium |    29.400000 |\n",
       "| 267105 | Weight | WS | Danielsen et al. 2011 | 2 | Metal | Cd | Cadmium |     5.422177 |\n",
       "| 271638 | Weight | WS | Jalava et al. 2012    | 4 | Metal | Si | Silicon | 14700.000000 |\n",
       "| 271638 | Weight | WS | Jalava et al. 2012    | 1 | Metal | Si | Silicon |   121.243557 |\n",
       "| 271638 | Weight | WS | Jalava et al. 2012    | 2 | Metal | Si | Silicon |   121.243557 |\n",
       "| 271638 | Weight | WS | Jalava et al. 2012    | 3 | Metal | Si | Silicon |   121.243557 |\n",
       "\n"
      ],
      "text/plain": [
       "  HAWC_ID Metric Sample Study                 Sample_Number Class DTXSID\n",
       "1 267105  Weight WS     Danielsen et al. 2011 1             Metal Cd    \n",
       "2 267105  Weight WS     Danielsen et al. 2011 2             Metal Cd    \n",
       "3 271638  Weight WS     Jalava et al. 2012    4             Metal Si    \n",
       "4 271638  Weight WS     Jalava et al. 2012    1             Metal Si    \n",
       "5 271638  Weight WS     Jalava et al. 2012    2             Metal Si    \n",
       "6 271638  Weight WS     Jalava et al. 2012    3             Metal Si    \n",
       "  Name    Value       \n",
       "1 Cadmium    29.400000\n",
       "2 Cadmium     5.422177\n",
       "3 Silicon 14700.000000\n",
       "4 Silicon   121.243557\n",
       "5 Silicon   121.243557\n",
       "6 Silicon   121.243557"
      ]
     },
     "metadata": {},
     "output_type": "display_data"
    },
    {
     "data": {
      "text/html": [
       "<style>\n",
       ".list-inline {list-style: none; margin:0; padding: 0}\n",
       ".list-inline>li {display: inline-block}\n",
       ".list-inline>li:not(:last-child)::after {content: \"\\00b7\"; padding: 0 .5ex}\n",
       "</style>\n",
       "<ol class=list-inline><li>1049</li><li>9</li></ol>\n"
      ],
      "text/latex": [
       "\\begin{enumerate*}\n",
       "\\item 1049\n",
       "\\item 9\n",
       "\\end{enumerate*}\n"
      ],
      "text/markdown": [
       "1. 1049\n",
       "2. 9\n",
       "\n",
       "\n"
      ],
      "text/plain": [
       "[1] 1049    9"
      ]
     },
     "metadata": {},
     "output_type": "display_data"
    },
    {
     "data": {
      "text/html": [
       "<style>\n",
       ".list-inline {list-style: none; margin:0; padding: 0}\n",
       ".list-inline>li {display: inline-block}\n",
       ".list-inline>li:not(:last-child)::after {content: \"\\00b7\"; padding: 0 .5ex}\n",
       "</style>\n",
       "<ol class=list-inline><li>3194</li><li>9</li></ol>\n"
      ],
      "text/latex": [
       "\\begin{enumerate*}\n",
       "\\item 3194\n",
       "\\item 9\n",
       "\\end{enumerate*}\n"
      ],
      "text/markdown": [
       "1. 3194\n",
       "2. 9\n",
       "\n",
       "\n"
      ],
      "text/plain": [
       "[1] 3194    9"
      ]
     },
     "metadata": {},
     "output_type": "display_data"
    }
   ],
   "source": [
    "# creating 1 df\n",
    "mnar_imputed_vol_df = rbind(#imputed data\n",
    "                               all_imputed_vol_df,\n",
    "                               # adding in MAR data\n",
    "                               mar_vol_df,\n",
    "                               # adding back in non-imputed data\n",
    "                               anti_join(preimputed_vol_df, all_imputed_vol_df[,1:8]))\n",
    "mnar_imputed_weight_df = rbind(# imputed data\n",
    "                               all_imputed_weight_df,\n",
    "                               # adding in MAR data\n",
    "                               mar_weight_df,\n",
    "                               # adding back in non-imputed data\n",
    "                               anti_join(preimputed_weight_df, all_imputed_weight_df[,1:8]))\n",
    "\n",
    "head(mnar_imputed_weight_df)\n",
    "dim(mnar_imputed_vol_df)\n",
    "dim(mnar_imputed_weight_df)"
   ]
  },
  {
   "cell_type": "markdown",
   "id": "4a7e96ae-45f5-4800-8ca1-e46bf264ce17",
   "metadata": {},
   "source": [
    "# Filter #4: Double Checking MAR Records\n",
    "\n",
    "Making sure that when the data is split based on `Class` and transformed into a wide format, we have at least 20% of the records with numeric values for each metal or chemical."
   ]
  },
  {
   "cell_type": "code",
   "execution_count": 26,
   "id": "4c1a1bb0-1a58-4d0d-bd7d-31c8a1ba194f",
   "metadata": {},
   "outputs": [
    {
     "data": {
      "text/html": [
       "<table class=\"dataframe\">\n",
       "<caption>A tibble: 6 × 6</caption>\n",
       "<thead>\n",
       "\t<tr><th scope=col>HAWC_ID</th><th scope=col>Metric</th><th scope=col>Sample</th><th scope=col>Study</th><th scope=col>DTXSID</th><th scope=col>Avg_Value</th></tr>\n",
       "\t<tr><th scope=col>&lt;dbl&gt;</th><th scope=col>&lt;chr&gt;</th><th scope=col>&lt;chr&gt;</th><th scope=col>&lt;chr&gt;</th><th scope=col>&lt;chr&gt;</th><th scope=col>&lt;dbl&gt;</th></tr>\n",
       "</thead>\n",
       "<tbody>\n",
       "\t<tr><td> 993956</td><td>Volume</td><td>WS</td><td>Ihantola et al. 2022 </td><td>Li</td><td>1.794436</td></tr>\n",
       "\t<tr><td> 266980</td><td>Volume</td><td>WS</td><td>Stockfelt et al. 2012</td><td>Li</td><td>      NA</td></tr>\n",
       "\t<tr><td> 266987</td><td>Volume</td><td>WS</td><td>Seagrave 2005        </td><td>Li</td><td>      NA</td></tr>\n",
       "\t<tr><td> 452289</td><td>Volume</td><td>WS</td><td>Rabha 2018           </td><td>Li</td><td>      NA</td></tr>\n",
       "\t<tr><td>1263480</td><td>Volume</td><td>WS</td><td>Burnet et al. 1990   </td><td>Li</td><td>      NA</td></tr>\n",
       "\t<tr><td>1263484</td><td>Volume</td><td>WS</td><td>Leese et al. 1989    </td><td>Li</td><td>      NA</td></tr>\n",
       "</tbody>\n",
       "</table>\n"
      ],
      "text/latex": [
       "A tibble: 6 × 6\n",
       "\\begin{tabular}{llllll}\n",
       " HAWC\\_ID & Metric & Sample & Study & DTXSID & Avg\\_Value\\\\\n",
       " <dbl> & <chr> & <chr> & <chr> & <chr> & <dbl>\\\\\n",
       "\\hline\n",
       "\t  993956 & Volume & WS & Ihantola et al. 2022  & Li & 1.794436\\\\\n",
       "\t  266980 & Volume & WS & Stockfelt et al. 2012 & Li &       NA\\\\\n",
       "\t  266987 & Volume & WS & Seagrave 2005         & Li &       NA\\\\\n",
       "\t  452289 & Volume & WS & Rabha 2018            & Li &       NA\\\\\n",
       "\t 1263480 & Volume & WS & Burnet et al. 1990    & Li &       NA\\\\\n",
       "\t 1263484 & Volume & WS & Leese et al. 1989     & Li &       NA\\\\\n",
       "\\end{tabular}\n"
      ],
      "text/markdown": [
       "\n",
       "A tibble: 6 × 6\n",
       "\n",
       "| HAWC_ID &lt;dbl&gt; | Metric &lt;chr&gt; | Sample &lt;chr&gt; | Study &lt;chr&gt; | DTXSID &lt;chr&gt; | Avg_Value &lt;dbl&gt; |\n",
       "|---|---|---|---|---|---|\n",
       "|  993956 | Volume | WS | Ihantola et al. 2022  | Li | 1.794436 |\n",
       "|  266980 | Volume | WS | Stockfelt et al. 2012 | Li |       NA |\n",
       "|  266987 | Volume | WS | Seagrave 2005         | Li |       NA |\n",
       "|  452289 | Volume | WS | Rabha 2018            | Li |       NA |\n",
       "| 1263480 | Volume | WS | Burnet et al. 1990    | Li |       NA |\n",
       "| 1263484 | Volume | WS | Leese et al. 1989     | Li |       NA |\n",
       "\n"
      ],
      "text/plain": [
       "  HAWC_ID Metric Sample Study                 DTXSID Avg_Value\n",
       "1  993956 Volume WS     Ihantola et al. 2022  Li     1.794436 \n",
       "2  266980 Volume WS     Stockfelt et al. 2012 Li           NA \n",
       "3  266987 Volume WS     Seagrave 2005         Li           NA \n",
       "4  452289 Volume WS     Rabha 2018            Li           NA \n",
       "5 1263480 Volume WS     Burnet et al. 1990    Li           NA \n",
       "6 1263484 Volume WS     Leese et al. 1989     Li           NA "
      ]
     },
     "metadata": {},
     "output_type": "display_data"
    }
   ],
   "source": [
    "avg_vol_df = mnar_imputed_vol_df %>%\n",
    "    # averaging to get rid of replicates\n",
    "    group_by(HAWC_ID, DTXSID) %>%\n",
    "    mutate(Avg_Value = mean(as.numeric(Value))) %>%\n",
    "    ungroup() %>%\n",
    "    select(-c(\"Replicate\", \"Value\", \"Name\", \"Class\")) %>%\n",
    "    unique() \n",
    "\n",
    "head(avg_vol_df)"
   ]
  },
  {
   "cell_type": "code",
   "execution_count": 27,
   "id": "02847d8a-2e2b-4360-9511-8f34e5febb0b",
   "metadata": {},
   "outputs": [
    {
     "data": {
      "text/html": [
       "<table class=\"dataframe\">\n",
       "<caption>A tibble: 6 × 6</caption>\n",
       "<thead>\n",
       "\t<tr><th scope=col>HAWC_ID</th><th scope=col>Metric</th><th scope=col>Sample</th><th scope=col>Study</th><th scope=col>DTXSID</th><th scope=col>Avg_Value</th></tr>\n",
       "\t<tr><th scope=col>&lt;dbl&gt;</th><th scope=col>&lt;chr&gt;</th><th scope=col>&lt;chr&gt;</th><th scope=col>&lt;chr&gt;</th><th scope=col>&lt;chr&gt;</th><th scope=col>&lt;dbl&gt;</th></tr>\n",
       "</thead>\n",
       "<tbody>\n",
       "\t<tr><td> 271638</td><td>Weight</td><td>WS</td><td>Jalava et al. 2012   </td><td>Si</td><td> 2203.92305</td></tr>\n",
       "\t<tr><td> 299223</td><td>Weight</td><td>WS</td><td>Kasurinen et al. 2015</td><td>Ca</td><td>17284.47712</td></tr>\n",
       "\t<tr><td> 299223</td><td>Weight</td><td>WS</td><td>Kasurinen et al. 2015</td><td>Ni</td><td>   11.05409</td></tr>\n",
       "\t<tr><td>1040882</td><td>Weight</td><td>WS</td><td>Nordin et al. 2015   </td><td>Ca</td><td> 3602.19005</td></tr>\n",
       "\t<tr><td>1040882</td><td>Weight</td><td>WS</td><td>Nordin et al. 2015   </td><td>Fe</td><td>  603.11724</td></tr>\n",
       "\t<tr><td>1063054</td><td>Weight</td><td>WS</td><td>Corsini et al. 2013  </td><td>Cr</td><td>   23.16228</td></tr>\n",
       "</tbody>\n",
       "</table>\n"
      ],
      "text/latex": [
       "A tibble: 6 × 6\n",
       "\\begin{tabular}{llllll}\n",
       " HAWC\\_ID & Metric & Sample & Study & DTXSID & Avg\\_Value\\\\\n",
       " <dbl> & <chr> & <chr> & <chr> & <chr> & <dbl>\\\\\n",
       "\\hline\n",
       "\t  271638 & Weight & WS & Jalava et al. 2012    & Si &  2203.92305\\\\\n",
       "\t  299223 & Weight & WS & Kasurinen et al. 2015 & Ca & 17284.47712\\\\\n",
       "\t  299223 & Weight & WS & Kasurinen et al. 2015 & Ni &    11.05409\\\\\n",
       "\t 1040882 & Weight & WS & Nordin et al. 2015    & Ca &  3602.19005\\\\\n",
       "\t 1040882 & Weight & WS & Nordin et al. 2015    & Fe &   603.11724\\\\\n",
       "\t 1063054 & Weight & WS & Corsini et al. 2013   & Cr &    23.16228\\\\\n",
       "\\end{tabular}\n"
      ],
      "text/markdown": [
       "\n",
       "A tibble: 6 × 6\n",
       "\n",
       "| HAWC_ID &lt;dbl&gt; | Metric &lt;chr&gt; | Sample &lt;chr&gt; | Study &lt;chr&gt; | DTXSID &lt;chr&gt; | Avg_Value &lt;dbl&gt; |\n",
       "|---|---|---|---|---|---|\n",
       "|  271638 | Weight | WS | Jalava et al. 2012    | Si |  2203.92305 |\n",
       "|  299223 | Weight | WS | Kasurinen et al. 2015 | Ca | 17284.47712 |\n",
       "|  299223 | Weight | WS | Kasurinen et al. 2015 | Ni |    11.05409 |\n",
       "| 1040882 | Weight | WS | Nordin et al. 2015    | Ca |  3602.19005 |\n",
       "| 1040882 | Weight | WS | Nordin et al. 2015    | Fe |   603.11724 |\n",
       "| 1063054 | Weight | WS | Corsini et al. 2013   | Cr |    23.16228 |\n",
       "\n"
      ],
      "text/plain": [
       "  HAWC_ID Metric Sample Study                 DTXSID Avg_Value  \n",
       "1  271638 Weight WS     Jalava et al. 2012    Si      2203.92305\n",
       "2  299223 Weight WS     Kasurinen et al. 2015 Ca     17284.47712\n",
       "3  299223 Weight WS     Kasurinen et al. 2015 Ni        11.05409\n",
       "4 1040882 Weight WS     Nordin et al. 2015    Ca      3602.19005\n",
       "5 1040882 Weight WS     Nordin et al. 2015    Fe       603.11724\n",
       "6 1063054 Weight WS     Corsini et al. 2013   Cr        23.16228"
      ]
     },
     "metadata": {},
     "output_type": "display_data"
    }
   ],
   "source": [
    "avg_weight_df = mnar_imputed_weight_df %>%\n",
    "    # averaging to get rid of replicates\n",
    "    group_by(HAWC_ID, DTXSID) %>%\n",
    "    mutate(Avg_Value = mean(Value, na.rm = TRUE)) %>%\n",
    "    ungroup() %>%\n",
    "    select(-c(\"Replicate\", \"Value\", \"Name\", \"Class\")) %>%\n",
    "    unique() \n",
    "\n",
    "head(avg_weight_df)"
   ]
  },
  {
   "cell_type": "markdown",
   "id": "aedde76b-a5a7-4954-b473-2bd395b65e6a",
   "metadata": {},
   "source": [
    "Converting values to 0s and 1s to count number of experimental and NDs previously imputed. Chemicals/metals that don't have at least 50% of values present will be removed."
   ]
  },
  {
   "cell_type": "code",
   "execution_count": 28,
   "id": "5f1d9f14-5cc4-4415-a8a4-5126bc5151d2",
   "metadata": {},
   "outputs": [
    {
     "data": {
      "text/html": [
       "<table class=\"dataframe\">\n",
       "<caption>A tibble: 6 × 37</caption>\n",
       "<thead>\n",
       "\t<tr><th scope=col>SampleID</th><th scope=col>HAWC_ID</th><th scope=col>Metric</th><th scope=col>Sample</th><th scope=col>Study</th><th scope=col>Si</th><th scope=col>Ca</th><th scope=col>Ni</th><th scope=col>Fe</th><th scope=col>Cr</th><th scope=col>⋯</th><th scope=col>Mg</th><th scope=col>B</th><th scope=col>DTXSID4020878</th><th scope=col>DTXSID0047741</th><th scope=col>DTXSID4075455</th><th scope=col>DTXSID4075459</th><th scope=col>DTXSID2060383</th><th scope=col>DTXSID8074819</th><th scope=col>DTXSID4020161</th><th scope=col>DTXSID1025649</th></tr>\n",
       "\t<tr><th scope=col>&lt;chr&gt;</th><th scope=col>&lt;dbl&gt;</th><th scope=col>&lt;chr&gt;</th><th scope=col>&lt;chr&gt;</th><th scope=col>&lt;chr&gt;</th><th scope=col>&lt;dbl&gt;</th><th scope=col>&lt;dbl&gt;</th><th scope=col>&lt;dbl&gt;</th><th scope=col>&lt;dbl&gt;</th><th scope=col>&lt;dbl&gt;</th><th scope=col>⋯</th><th scope=col>&lt;dbl&gt;</th><th scope=col>&lt;dbl&gt;</th><th scope=col>&lt;dbl&gt;</th><th scope=col>&lt;dbl&gt;</th><th scope=col>&lt;dbl&gt;</th><th scope=col>&lt;dbl&gt;</th><th scope=col>&lt;dbl&gt;</th><th scope=col>&lt;dbl&gt;</th><th scope=col>&lt;dbl&gt;</th><th scope=col>&lt;dbl&gt;</th></tr>\n",
       "</thead>\n",
       "<tbody>\n",
       "\t<tr><td>271638_WS </td><td> 271638</td><td>Weight</td><td>WS</td><td>Jalava et al. 2012   </td><td>2203.923048</td><td> 2102.000</td><td>       NaN</td><td>        NaN</td><td>        NaN</td><td>⋯</td><td> 341.4285714</td><td> NA</td><td>NA</td><td>NA</td><td>NA</td><td>235.4286</td><td>NA</td><td>NA</td><td>NA</td><td>NA</td></tr>\n",
       "\t<tr><td>299223_WS </td><td> 299223</td><td>Weight</td><td>WS</td><td>Kasurinen et al. 2015</td><td>        NaN</td><td>17284.477</td><td>11.0540926</td><td>        NaN</td><td>        NaN</td><td>⋯</td><td>          NA</td><td> NA</td><td>NA</td><td>NA</td><td>NA</td><td>  0.4500</td><td>NA</td><td>NA</td><td>NA</td><td>NA</td></tr>\n",
       "\t<tr><td>1040882_WS</td><td>1040882</td><td>Weight</td><td>WS</td><td>Nordin et al. 2015   </td><td>        NaN</td><td> 3602.190</td><td> 0.1732051</td><td>603.1172428</td><td>129.0000000</td><td>⋯</td><td>1791.0000000</td><td>288</td><td>NA</td><td>NA</td><td>NA</td><td>      NA</td><td>NA</td><td>NA</td><td>NA</td><td>NA</td></tr>\n",
       "\t<tr><td>1063054_WS</td><td>1063054</td><td>Weight</td><td>WS</td><td>Corsini et al. 2013  </td><td>5675.000000</td><td> 4385.000</td><td>30.0000000</td><td>355.0000000</td><td> 23.1622777</td><td>⋯</td><td>          NA</td><td> NA</td><td>NA</td><td>NA</td><td>NA</td><td>      NA</td><td>NA</td><td>NA</td><td>NA</td><td>NA</td></tr>\n",
       "\t<tr><td>1098462_WS</td><td>1098462</td><td>Weight</td><td>WS</td><td>Niu et al. 2023      </td><td>   3.226667</td><td>    1.010</td><td> 0.0400000</td><td>  0.9933333</td><td>  0.1466667</td><td>⋯</td><td>   0.9533333</td><td> NA</td><td>NA</td><td>NA</td><td>NA</td><td>      NA</td><td>NA</td><td>NA</td><td>NA</td><td>NA</td></tr>\n",
       "\t<tr><td>271769_WS </td><td> 271769</td><td>Weight</td><td>WS</td><td>Uski et al. 2012     </td><td>        NaN</td><td> 2130.571</td><td>       NaN</td><td>        NaN</td><td>        NaN</td><td>⋯</td><td> 341.4285714</td><td> NA</td><td>NA</td><td>NA</td><td>NA</td><td>234.4857</td><td>NA</td><td>NA</td><td>NA</td><td>NA</td></tr>\n",
       "</tbody>\n",
       "</table>\n"
      ],
      "text/latex": [
       "A tibble: 6 × 37\n",
       "\\begin{tabular}{lllllllllllllllllllll}\n",
       " SampleID & HAWC\\_ID & Metric & Sample & Study & Si & Ca & Ni & Fe & Cr & ⋯ & Mg & B & DTXSID4020878 & DTXSID0047741 & DTXSID4075455 & DTXSID4075459 & DTXSID2060383 & DTXSID8074819 & DTXSID4020161 & DTXSID1025649\\\\\n",
       " <chr> & <dbl> & <chr> & <chr> & <chr> & <dbl> & <dbl> & <dbl> & <dbl> & <dbl> & ⋯ & <dbl> & <dbl> & <dbl> & <dbl> & <dbl> & <dbl> & <dbl> & <dbl> & <dbl> & <dbl>\\\\\n",
       "\\hline\n",
       "\t 271638\\_WS  &  271638 & Weight & WS & Jalava et al. 2012    & 2203.923048 &  2102.000 &        NaN &         NaN &         NaN & ⋯ &  341.4285714 &  NA & NA & NA & NA & 235.4286 & NA & NA & NA & NA\\\\\n",
       "\t 299223\\_WS  &  299223 & Weight & WS & Kasurinen et al. 2015 &         NaN & 17284.477 & 11.0540926 &         NaN &         NaN & ⋯ &           NA &  NA & NA & NA & NA &   0.4500 & NA & NA & NA & NA\\\\\n",
       "\t 1040882\\_WS & 1040882 & Weight & WS & Nordin et al. 2015    &         NaN &  3602.190 &  0.1732051 & 603.1172428 & 129.0000000 & ⋯ & 1791.0000000 & 288 & NA & NA & NA &       NA & NA & NA & NA & NA\\\\\n",
       "\t 1063054\\_WS & 1063054 & Weight & WS & Corsini et al. 2013   & 5675.000000 &  4385.000 & 30.0000000 & 355.0000000 &  23.1622777 & ⋯ &           NA &  NA & NA & NA & NA &       NA & NA & NA & NA & NA\\\\\n",
       "\t 1098462\\_WS & 1098462 & Weight & WS & Niu et al. 2023       &    3.226667 &     1.010 &  0.0400000 &   0.9933333 &   0.1466667 & ⋯ &    0.9533333 &  NA & NA & NA & NA &       NA & NA & NA & NA & NA\\\\\n",
       "\t 271769\\_WS  &  271769 & Weight & WS & Uski et al. 2012      &         NaN &  2130.571 &        NaN &         NaN &         NaN & ⋯ &  341.4285714 &  NA & NA & NA & NA & 234.4857 & NA & NA & NA & NA\\\\\n",
       "\\end{tabular}\n"
      ],
      "text/markdown": [
       "\n",
       "A tibble: 6 × 37\n",
       "\n",
       "| SampleID &lt;chr&gt; | HAWC_ID &lt;dbl&gt; | Metric &lt;chr&gt; | Sample &lt;chr&gt; | Study &lt;chr&gt; | Si &lt;dbl&gt; | Ca &lt;dbl&gt; | Ni &lt;dbl&gt; | Fe &lt;dbl&gt; | Cr &lt;dbl&gt; | ⋯ ⋯ | Mg &lt;dbl&gt; | B &lt;dbl&gt; | DTXSID4020878 &lt;dbl&gt; | DTXSID0047741 &lt;dbl&gt; | DTXSID4075455 &lt;dbl&gt; | DTXSID4075459 &lt;dbl&gt; | DTXSID2060383 &lt;dbl&gt; | DTXSID8074819 &lt;dbl&gt; | DTXSID4020161 &lt;dbl&gt; | DTXSID1025649 &lt;dbl&gt; |\n",
       "|---|---|---|---|---|---|---|---|---|---|---|---|---|---|---|---|---|---|---|---|---|\n",
       "| 271638_WS  |  271638 | Weight | WS | Jalava et al. 2012    | 2203.923048 |  2102.000 |        NaN |         NaN |         NaN | ⋯ |  341.4285714 |  NA | NA | NA | NA | 235.4286 | NA | NA | NA | NA |\n",
       "| 299223_WS  |  299223 | Weight | WS | Kasurinen et al. 2015 |         NaN | 17284.477 | 11.0540926 |         NaN |         NaN | ⋯ |           NA |  NA | NA | NA | NA |   0.4500 | NA | NA | NA | NA |\n",
       "| 1040882_WS | 1040882 | Weight | WS | Nordin et al. 2015    |         NaN |  3602.190 |  0.1732051 | 603.1172428 | 129.0000000 | ⋯ | 1791.0000000 | 288 | NA | NA | NA |       NA | NA | NA | NA | NA |\n",
       "| 1063054_WS | 1063054 | Weight | WS | Corsini et al. 2013   | 5675.000000 |  4385.000 | 30.0000000 | 355.0000000 |  23.1622777 | ⋯ |           NA |  NA | NA | NA | NA |       NA | NA | NA | NA | NA |\n",
       "| 1098462_WS | 1098462 | Weight | WS | Niu et al. 2023       |    3.226667 |     1.010 |  0.0400000 |   0.9933333 |   0.1466667 | ⋯ |    0.9533333 |  NA | NA | NA | NA |       NA | NA | NA | NA | NA |\n",
       "| 271769_WS  |  271769 | Weight | WS | Uski et al. 2012      |         NaN |  2130.571 |        NaN |         NaN |         NaN | ⋯ |  341.4285714 |  NA | NA | NA | NA | 234.4857 | NA | NA | NA | NA |\n",
       "\n"
      ],
      "text/plain": [
       "  SampleID   HAWC_ID Metric Sample Study                 Si          Ca       \n",
       "1 271638_WS   271638 Weight WS     Jalava et al. 2012    2203.923048  2102.000\n",
       "2 299223_WS   299223 Weight WS     Kasurinen et al. 2015         NaN 17284.477\n",
       "3 1040882_WS 1040882 Weight WS     Nordin et al. 2015            NaN  3602.190\n",
       "4 1063054_WS 1063054 Weight WS     Corsini et al. 2013   5675.000000  4385.000\n",
       "5 1098462_WS 1098462 Weight WS     Niu et al. 2023          3.226667     1.010\n",
       "6 271769_WS   271769 Weight WS     Uski et al. 2012              NaN  2130.571\n",
       "  Ni         Fe          Cr          ⋯ Mg           B   DTXSID4020878\n",
       "1        NaN         NaN         NaN ⋯  341.4285714  NA NA           \n",
       "2 11.0540926         NaN         NaN ⋯           NA  NA NA           \n",
       "3  0.1732051 603.1172428 129.0000000 ⋯ 1791.0000000 288 NA           \n",
       "4 30.0000000 355.0000000  23.1622777 ⋯           NA  NA NA           \n",
       "5  0.0400000   0.9933333   0.1466667 ⋯    0.9533333  NA NA           \n",
       "6        NaN         NaN         NaN ⋯  341.4285714  NA NA           \n",
       "  DTXSID0047741 DTXSID4075455 DTXSID4075459 DTXSID2060383 DTXSID8074819\n",
       "1 NA            NA            235.4286      NA            NA           \n",
       "2 NA            NA              0.4500      NA            NA           \n",
       "3 NA            NA                  NA      NA            NA           \n",
       "4 NA            NA                  NA      NA            NA           \n",
       "5 NA            NA                  NA      NA            NA           \n",
       "6 NA            NA            234.4857      NA            NA           \n",
       "  DTXSID4020161 DTXSID1025649\n",
       "1 NA            NA           \n",
       "2 NA            NA           \n",
       "3 NA            NA           \n",
       "4 NA            NA           \n",
       "5 NA            NA           \n",
       "6 NA            NA           "
      ]
     },
     "metadata": {},
     "output_type": "display_data"
    }
   ],
   "source": [
    "wider_vol_df = avg_vol_df %>%\n",
    "    # creating sample ids\n",
    "    unite(\"SampleID\", c(colnames(avg_vol_df)[c(1,3)]), remove = FALSE) %>%\n",
    "    pivot_wider(names_from = \"DTXSID\", values_from = \"Avg_Value\") \n",
    "\n",
    "wider_weight_df = avg_weight_df %>%\n",
    "    unite(\"SampleID\", c(colnames(avg_weight_df)[c(1,3)]), remove = FALSE) %>%\n",
    "    pivot_wider(names_from = \"DTXSID\", values_from = \"Avg_Value\")   \n",
    "\n",
    "head(wider_weight_df)"
   ]
  },
  {
   "cell_type": "code",
   "execution_count": 29,
   "id": "10baac7b-db6e-458a-8e5c-295a4a66772d",
   "metadata": {},
   "outputs": [
    {
     "data": {
      "text/html": [
       "<table class=\"dataframe\">\n",
       "<caption>A data.frame: 6 × 1</caption>\n",
       "<thead>\n",
       "\t<tr><th></th><th scope=col>Percent</th></tr>\n",
       "\t<tr><th></th><th scope=col>&lt;dbl&gt;</th></tr>\n",
       "</thead>\n",
       "<tbody>\n",
       "\t<tr><th scope=row>Rb</th><td>12.280702</td></tr>\n",
       "\t<tr><th scope=row>DTXSID5047740</th><td>15.789474</td></tr>\n",
       "\t<tr><th scope=row>DTXSID8052691</th><td>12.280702</td></tr>\n",
       "\t<tr><th scope=row>DTXSID6062591</th><td>14.035088</td></tr>\n",
       "\t<tr><th scope=row>DTXSID0025654</th><td> 7.017544</td></tr>\n",
       "\t<tr><th scope=row>DTXSID9059757</th><td>14.035088</td></tr>\n",
       "</tbody>\n",
       "</table>\n"
      ],
      "text/latex": [
       "A data.frame: 6 × 1\n",
       "\\begin{tabular}{r|l}\n",
       "  & Percent\\\\\n",
       "  & <dbl>\\\\\n",
       "\\hline\n",
       "\tRb & 12.280702\\\\\n",
       "\tDTXSID5047740 & 15.789474\\\\\n",
       "\tDTXSID8052691 & 12.280702\\\\\n",
       "\tDTXSID6062591 & 14.035088\\\\\n",
       "\tDTXSID0025654 &  7.017544\\\\\n",
       "\tDTXSID9059757 & 14.035088\\\\\n",
       "\\end{tabular}\n"
      ],
      "text/markdown": [
       "\n",
       "A data.frame: 6 × 1\n",
       "\n",
       "| <!--/--> | Percent &lt;dbl&gt; |\n",
       "|---|---|\n",
       "| Rb | 12.280702 |\n",
       "| DTXSID5047740 | 15.789474 |\n",
       "| DTXSID8052691 | 12.280702 |\n",
       "| DTXSID6062591 | 14.035088 |\n",
       "| DTXSID0025654 |  7.017544 |\n",
       "| DTXSID9059757 | 14.035088 |\n",
       "\n"
      ],
      "text/plain": [
       "              Percent  \n",
       "Rb            12.280702\n",
       "DTXSID5047740 15.789474\n",
       "DTXSID8052691 12.280702\n",
       "DTXSID6062591 14.035088\n",
       "DTXSID0025654  7.017544\n",
       "DTXSID9059757 14.035088"
      ]
     },
     "metadata": {},
     "output_type": "display_data"
    }
   ],
   "source": [
    "data_percentage = function(wider_dataset){\n",
    "    # \"\"\"\n",
    "    # Calculating the studies or metals/chemicals with less than or equal to 20% of experimental data.\n",
    "\n",
    "    # :param: wide dataframe\n",
    "    # :output: a list that contains a dataframe of metals/chemicals and a dataframe of studies\n",
    "\n",
    "    # \"\"\"\n",
    "    \n",
    "    # converting values to 0s and 1s\n",
    "    summed_df = wider_dataset %>%\n",
    "        mutate(across(7:ncol(wider_dataset), ~ifelse(is.na(.x), 0, 1)))\n",
    "\n",
    "    # identifying metals/chemicals w/ =< 20% of experimental data\n",
    "    var_percentage_df = data.frame(Percent = colSums(summed_df[,7:ncol(summed_df)])/nrow(summed_df) * 100) %>%\n",
    "        filter(Percent <= 20)\n",
    "    # identifying studies w/ =< 20% of experimental data\n",
    "    study_percentage_df = data.frame(HAWC_ID = wider_dataset$HAWC_ID,\n",
    "                                     Percent = rowSums(summed_df[,7:ncol(summed_df)])/ncol(summed_df) * 100) %>%\n",
    "        filter(Percent <= 20)\n",
    "\n",
    "    return(list(var_percentage_df, study_percentage_df))\n",
    "}\n",
    "\n",
    "# calling fn\n",
    "percentage_vol_df = data_percentage(wider_vol_df)\n",
    "percentage_weight_df = data_percentage(wider_weight_df)\n",
    "\n",
    "head(percentage_weight_df[[1]])"
   ]
  },
  {
   "cell_type": "code",
   "execution_count": 30,
   "id": "00132275-7af1-4352-8645-e62b034373c9",
   "metadata": {},
   "outputs": [
    {
     "data": {
      "text/html": [
       "<table class=\"dataframe\">\n",
       "<caption>A tibble: 6 × 21</caption>\n",
       "<thead>\n",
       "\t<tr><th scope=col>SampleID</th><th scope=col>HAWC_ID</th><th scope=col>Metric</th><th scope=col>Sample</th><th scope=col>Study</th><th scope=col>Si</th><th scope=col>Ca</th><th scope=col>Ni</th><th scope=col>Fe</th><th scope=col>Cr</th><th scope=col>⋯</th><th scope=col>DTXSID6024254</th><th scope=col>DTXSID3024104</th><th scope=col>Mn</th><th scope=col>Al</th><th scope=col>Co</th><th scope=col>Ti</th><th scope=col>Cu</th><th scope=col>Zn</th><th scope=col>K</th><th scope=col>Mg</th></tr>\n",
       "\t<tr><th scope=col>&lt;chr&gt;</th><th scope=col>&lt;dbl&gt;</th><th scope=col>&lt;chr&gt;</th><th scope=col>&lt;chr&gt;</th><th scope=col>&lt;chr&gt;</th><th scope=col>&lt;dbl&gt;</th><th scope=col>&lt;dbl&gt;</th><th scope=col>&lt;dbl&gt;</th><th scope=col>&lt;dbl&gt;</th><th scope=col>&lt;dbl&gt;</th><th scope=col>⋯</th><th scope=col>&lt;dbl&gt;</th><th scope=col>&lt;dbl&gt;</th><th scope=col>&lt;dbl&gt;</th><th scope=col>&lt;dbl&gt;</th><th scope=col>&lt;dbl&gt;</th><th scope=col>&lt;dbl&gt;</th><th scope=col>&lt;dbl&gt;</th><th scope=col>&lt;dbl&gt;</th><th scope=col>&lt;dbl&gt;</th><th scope=col>&lt;dbl&gt;</th></tr>\n",
       "</thead>\n",
       "<tbody>\n",
       "\t<tr><td>271638_WS </td><td> 271638</td><td>Weight</td><td>WS</td><td>Jalava et al. 2012   </td><td>2203.923048</td><td> 2102.000</td><td>       NaN</td><td>        NaN</td><td>        NaN</td><td>⋯</td><td>3.590800e+03</td><td>2137.0857143</td><td>422.2857143</td><td>    NA</td><td>  NaN</td><td>       NaN</td><td>    NA</td><td> 5202.857143</td><td>141557.1429</td><td> 341.4285714</td></tr>\n",
       "\t<tr><td>299223_WS </td><td> 299223</td><td>Weight</td><td>WS</td><td>Kasurinen et al. 2015</td><td>        NaN</td><td>17284.477</td><td>11.0540926</td><td>        NaN</td><td>        NaN</td><td>⋯</td><td>1.166667e+00</td><td>  64.5666667</td><td>        NaN</td><td>   NaN</td><td>  NaN</td><td>       NaN</td><td>    NA</td><td> 6503.333333</td><td>262000.0000</td><td>          NA</td></tr>\n",
       "\t<tr><td>1040882_WS</td><td>1040882</td><td>Weight</td><td>WS</td><td>Nordin et al. 2015   </td><td>        NaN</td><td> 3602.190</td><td> 0.1732051</td><td>603.1172428</td><td>129.0000000</td><td>⋯</td><td>          NA</td><td>          NA</td><td>  0.4582576</td><td>638.00</td><td>0.100</td><td>0.17320508</td><td>266.00</td><td> 4660.000000</td><td> 22500.0000</td><td>1791.0000000</td></tr>\n",
       "\t<tr><td>1063054_WS</td><td>1063054</td><td>Weight</td><td>WS</td><td>Corsini et al. 2013  </td><td>5675.000000</td><td> 4385.000</td><td>30.0000000</td><td>355.0000000</td><td> 23.1622777</td><td>⋯</td><td>          NA</td><td>          NA</td><td>945.0000000</td><td>685.00</td><td>  NaN</td><td>0.17320508</td><td>375.00</td><td>10380.000000</td><td>         NA</td><td>          NA</td></tr>\n",
       "\t<tr><td>1098462_WS</td><td>1098462</td><td>Weight</td><td>WS</td><td>Niu et al. 2023      </td><td>   3.226667</td><td>    1.010</td><td> 0.0400000</td><td>  0.9933333</td><td>  0.1466667</td><td>⋯</td><td>6.666667e-02</td><td>   0.2714214</td><td>  0.2700000</td><td>  2.61</td><td>0.015</td><td>0.03666667</td><td>  0.35</td><td>    2.076667</td><td>   168.3033</td><td>   0.9533333</td></tr>\n",
       "\t<tr><td>271769_WS </td><td> 271769</td><td>Weight</td><td>WS</td><td>Uski et al. 2012     </td><td>        NaN</td><td> 2130.571</td><td>       NaN</td><td>        NaN</td><td>        NaN</td><td>⋯</td><td>3.642000e+03</td><td>2137.5714286</td><td>422.2857143</td><td>   NaN</td><td>  NaN</td><td>       NaN</td><td>    NA</td><td> 5203.142857</td><td>141557.1429</td><td> 341.4285714</td></tr>\n",
       "</tbody>\n",
       "</table>\n"
      ],
      "text/latex": [
       "A tibble: 6 × 21\n",
       "\\begin{tabular}{lllllllllllllllllllll}\n",
       " SampleID & HAWC\\_ID & Metric & Sample & Study & Si & Ca & Ni & Fe & Cr & ⋯ & DTXSID6024254 & DTXSID3024104 & Mn & Al & Co & Ti & Cu & Zn & K & Mg\\\\\n",
       " <chr> & <dbl> & <chr> & <chr> & <chr> & <dbl> & <dbl> & <dbl> & <dbl> & <dbl> & ⋯ & <dbl> & <dbl> & <dbl> & <dbl> & <dbl> & <dbl> & <dbl> & <dbl> & <dbl> & <dbl>\\\\\n",
       "\\hline\n",
       "\t 271638\\_WS  &  271638 & Weight & WS & Jalava et al. 2012    & 2203.923048 &  2102.000 &        NaN &         NaN &         NaN & ⋯ & 3.590800e+03 & 2137.0857143 & 422.2857143 &     NA &   NaN &        NaN &     NA &  5202.857143 & 141557.1429 &  341.4285714\\\\\n",
       "\t 299223\\_WS  &  299223 & Weight & WS & Kasurinen et al. 2015 &         NaN & 17284.477 & 11.0540926 &         NaN &         NaN & ⋯ & 1.166667e+00 &   64.5666667 &         NaN &    NaN &   NaN &        NaN &     NA &  6503.333333 & 262000.0000 &           NA\\\\\n",
       "\t 1040882\\_WS & 1040882 & Weight & WS & Nordin et al. 2015    &         NaN &  3602.190 &  0.1732051 & 603.1172428 & 129.0000000 & ⋯ &           NA &           NA &   0.4582576 & 638.00 & 0.100 & 0.17320508 & 266.00 &  4660.000000 &  22500.0000 & 1791.0000000\\\\\n",
       "\t 1063054\\_WS & 1063054 & Weight & WS & Corsini et al. 2013   & 5675.000000 &  4385.000 & 30.0000000 & 355.0000000 &  23.1622777 & ⋯ &           NA &           NA & 945.0000000 & 685.00 &   NaN & 0.17320508 & 375.00 & 10380.000000 &          NA &           NA\\\\\n",
       "\t 1098462\\_WS & 1098462 & Weight & WS & Niu et al. 2023       &    3.226667 &     1.010 &  0.0400000 &   0.9933333 &   0.1466667 & ⋯ & 6.666667e-02 &    0.2714214 &   0.2700000 &   2.61 & 0.015 & 0.03666667 &   0.35 &     2.076667 &    168.3033 &    0.9533333\\\\\n",
       "\t 271769\\_WS  &  271769 & Weight & WS & Uski et al. 2012      &         NaN &  2130.571 &        NaN &         NaN &         NaN & ⋯ & 3.642000e+03 & 2137.5714286 & 422.2857143 &    NaN &   NaN &        NaN &     NA &  5203.142857 & 141557.1429 &  341.4285714\\\\\n",
       "\\end{tabular}\n"
      ],
      "text/markdown": [
       "\n",
       "A tibble: 6 × 21\n",
       "\n",
       "| SampleID &lt;chr&gt; | HAWC_ID &lt;dbl&gt; | Metric &lt;chr&gt; | Sample &lt;chr&gt; | Study &lt;chr&gt; | Si &lt;dbl&gt; | Ca &lt;dbl&gt; | Ni &lt;dbl&gt; | Fe &lt;dbl&gt; | Cr &lt;dbl&gt; | ⋯ ⋯ | DTXSID6024254 &lt;dbl&gt; | DTXSID3024104 &lt;dbl&gt; | Mn &lt;dbl&gt; | Al &lt;dbl&gt; | Co &lt;dbl&gt; | Ti &lt;dbl&gt; | Cu &lt;dbl&gt; | Zn &lt;dbl&gt; | K &lt;dbl&gt; | Mg &lt;dbl&gt; |\n",
       "|---|---|---|---|---|---|---|---|---|---|---|---|---|---|---|---|---|---|---|---|---|\n",
       "| 271638_WS  |  271638 | Weight | WS | Jalava et al. 2012    | 2203.923048 |  2102.000 |        NaN |         NaN |         NaN | ⋯ | 3.590800e+03 | 2137.0857143 | 422.2857143 |     NA |   NaN |        NaN |     NA |  5202.857143 | 141557.1429 |  341.4285714 |\n",
       "| 299223_WS  |  299223 | Weight | WS | Kasurinen et al. 2015 |         NaN | 17284.477 | 11.0540926 |         NaN |         NaN | ⋯ | 1.166667e+00 |   64.5666667 |         NaN |    NaN |   NaN |        NaN |     NA |  6503.333333 | 262000.0000 |           NA |\n",
       "| 1040882_WS | 1040882 | Weight | WS | Nordin et al. 2015    |         NaN |  3602.190 |  0.1732051 | 603.1172428 | 129.0000000 | ⋯ |           NA |           NA |   0.4582576 | 638.00 | 0.100 | 0.17320508 | 266.00 |  4660.000000 |  22500.0000 | 1791.0000000 |\n",
       "| 1063054_WS | 1063054 | Weight | WS | Corsini et al. 2013   | 5675.000000 |  4385.000 | 30.0000000 | 355.0000000 |  23.1622777 | ⋯ |           NA |           NA | 945.0000000 | 685.00 |   NaN | 0.17320508 | 375.00 | 10380.000000 |          NA |           NA |\n",
       "| 1098462_WS | 1098462 | Weight | WS | Niu et al. 2023       |    3.226667 |     1.010 |  0.0400000 |   0.9933333 |   0.1466667 | ⋯ | 6.666667e-02 |    0.2714214 |   0.2700000 |   2.61 | 0.015 | 0.03666667 |   0.35 |     2.076667 |    168.3033 |    0.9533333 |\n",
       "| 271769_WS  |  271769 | Weight | WS | Uski et al. 2012      |         NaN |  2130.571 |        NaN |         NaN |         NaN | ⋯ | 3.642000e+03 | 2137.5714286 | 422.2857143 |    NaN |   NaN |        NaN |     NA |  5203.142857 | 141557.1429 |  341.4285714 |\n",
       "\n"
      ],
      "text/plain": [
       "  SampleID   HAWC_ID Metric Sample Study                 Si          Ca       \n",
       "1 271638_WS   271638 Weight WS     Jalava et al. 2012    2203.923048  2102.000\n",
       "2 299223_WS   299223 Weight WS     Kasurinen et al. 2015         NaN 17284.477\n",
       "3 1040882_WS 1040882 Weight WS     Nordin et al. 2015            NaN  3602.190\n",
       "4 1063054_WS 1063054 Weight WS     Corsini et al. 2013   5675.000000  4385.000\n",
       "5 1098462_WS 1098462 Weight WS     Niu et al. 2023          3.226667     1.010\n",
       "6 271769_WS   271769 Weight WS     Uski et al. 2012              NaN  2130.571\n",
       "  Ni         Fe          Cr          ⋯ DTXSID6024254 DTXSID3024104 Mn         \n",
       "1        NaN         NaN         NaN ⋯ 3.590800e+03  2137.0857143  422.2857143\n",
       "2 11.0540926         NaN         NaN ⋯ 1.166667e+00    64.5666667          NaN\n",
       "3  0.1732051 603.1172428 129.0000000 ⋯           NA            NA    0.4582576\n",
       "4 30.0000000 355.0000000  23.1622777 ⋯           NA            NA  945.0000000\n",
       "5  0.0400000   0.9933333   0.1466667 ⋯ 6.666667e-02     0.2714214    0.2700000\n",
       "6        NaN         NaN         NaN ⋯ 3.642000e+03  2137.5714286  422.2857143\n",
       "  Al     Co    Ti         Cu     Zn           K           Mg          \n",
       "1     NA   NaN        NaN     NA  5202.857143 141557.1429  341.4285714\n",
       "2    NaN   NaN        NaN     NA  6503.333333 262000.0000           NA\n",
       "3 638.00 0.100 0.17320508 266.00  4660.000000  22500.0000 1791.0000000\n",
       "4 685.00   NaN 0.17320508 375.00 10380.000000          NA           NA\n",
       "5   2.61 0.015 0.03666667   0.35     2.076667    168.3033    0.9533333\n",
       "6    NaN   NaN        NaN     NA  5203.142857 141557.1429  341.4285714"
      ]
     },
     "metadata": {},
     "output_type": "display_data"
    }
   ],
   "source": [
    "# removing those metals/chemicals & studies from the OG df\n",
    "preimputed_vol_df = wider_vol_df[,colnames(wider_vol_df) %notin% rownames(percentage_vol_df[[1]])] %>%\n",
    "    select(-DTXSID8020913)\n",
    "preimputed_weight_df = wider_weight_df[,colnames(wider_weight_df) %notin% rownames(percentage_weight_df[[1]])]\n",
    "\n",
    "preimputed_vol_df = preimputed_vol_df %>% filter(HAWC_ID %notin% percentage_vol_df[[2]]$HAWC_ID) \n",
    "preimputed_weight_df = preimputed_weight_df %>% filter(HAWC_ID %notin% percentage_weight_df[[2]]$HAWC_ID)\n",
    "\n",
    "head(preimputed_weight_df)"
   ]
  },
  {
   "cell_type": "code",
   "execution_count": 31,
   "id": "f70ba746-a76c-43ee-a02f-2887f28886b9",
   "metadata": {},
   "outputs": [
    {
     "data": {
      "text/html": [
       "20"
      ],
      "text/latex": [
       "20"
      ],
      "text/markdown": [
       "20"
      ],
      "text/plain": [
       "[1] 20"
      ]
     },
     "metadata": {},
     "output_type": "display_data"
    },
    {
     "data": {
      "text/html": [
       "15"
      ],
      "text/latex": [
       "15"
      ],
      "text/markdown": [
       "15"
      ],
      "text/plain": [
       "[1] 15"
      ]
     },
     "metadata": {},
     "output_type": "display_data"
    }
   ],
   "source": [
    "# How many metals/chemicals are now left in the dataset?\n",
    "ncol(preimputed_vol_df) - 6\n",
    "ncol(preimputed_weight_df) - 6"
   ]
  },
  {
   "cell_type": "code",
   "execution_count": 32,
   "id": "de6f788a-5785-4a56-b8f2-40097a3516b1",
   "metadata": {},
   "outputs": [
    {
     "data": {
      "text/html": [
       "11"
      ],
      "text/latex": [
       "11"
      ],
      "text/markdown": [
       "11"
      ],
      "text/plain": [
       "[1] 11"
      ]
     },
     "metadata": {},
     "output_type": "display_data"
    },
    {
     "data": {
      "text/html": [
       "31"
      ],
      "text/latex": [
       "31"
      ],
      "text/markdown": [
       "31"
      ],
      "text/plain": [
       "[1] 31"
      ]
     },
     "metadata": {},
     "output_type": "display_data"
    }
   ],
   "source": [
    "# How many studies are left?\n",
    "nrow(preimputed_vol_df)  \n",
    "nrow(preimputed_weight_df) "
   ]
  },
  {
   "cell_type": "markdown",
   "id": "5f4d134a-b801-4a28-bc8a-086319521b88",
   "metadata": {},
   "source": [
    "ADD WORDS. \n",
    "\n",
    "# RF Imputation"
   ]
  },
  {
   "cell_type": "code",
   "execution_count": 33,
   "id": "f585ce82-69ed-4c15-9764-099830f74e75",
   "metadata": {
    "scrolled": true
   },
   "outputs": [
    {
     "name": "stderr",
     "output_type": "stream",
     "text": [
      "Warning message in randomForest.default(x = obsX, y = obsY, ntree = ntree, mtry = mtry, :\n",
      "“The response has five or fewer unique values.  Are you sure you want to do regression?”\n",
      "Warning message in randomForest.default(x = obsX, y = obsY, ntree = ntree, mtry = mtry, :\n",
      "“The response has five or fewer unique values.  Are you sure you want to do regression?”\n",
      "Warning message in randomForest.default(x = obsX, y = obsY, ntree = ntree, mtry = mtry, :\n",
      "“The response has five or fewer unique values.  Are you sure you want to do regression?”\n",
      "Warning message in randomForest.default(x = obsX, y = obsY, ntree = ntree, mtry = mtry, :\n",
      "“The response has five or fewer unique values.  Are you sure you want to do regression?”\n",
      "Warning message in randomForest.default(x = obsX, y = obsY, ntree = ntree, mtry = mtry, :\n",
      "“The response has five or fewer unique values.  Are you sure you want to do regression?”\n",
      "Warning message in randomForest.default(x = obsX, y = obsY, ntree = ntree, mtry = mtry, :\n",
      "“The response has five or fewer unique values.  Are you sure you want to do regression?”\n",
      "Warning message in randomForest.default(x = obsX, y = obsY, ntree = ntree, mtry = mtry, :\n",
      "“The response has five or fewer unique values.  Are you sure you want to do regression?”\n",
      "Warning message in randomForest.default(x = obsX, y = obsY, ntree = ntree, mtry = mtry, :\n",
      "“The response has five or fewer unique values.  Are you sure you want to do regression?”\n",
      "Warning message in randomForest.default(x = obsX, y = obsY, ntree = ntree, mtry = mtry, :\n",
      "“The response has five or fewer unique values.  Are you sure you want to do regression?”\n",
      "Warning message in randomForest.default(x = obsX, y = obsY, ntree = ntree, mtry = mtry, :\n",
      "“The response has five or fewer unique values.  Are you sure you want to do regression?”\n",
      "Warning message in randomForest.default(x = obsX, y = obsY, ntree = ntree, mtry = mtry, :\n",
      "“The response has five or fewer unique values.  Are you sure you want to do regression?”\n",
      "Warning message in randomForest.default(x = obsX, y = obsY, ntree = ntree, mtry = mtry, :\n",
      "“The response has five or fewer unique values.  Are you sure you want to do regression?”\n",
      "Warning message in randomForest.default(x = obsX, y = obsY, ntree = ntree, mtry = mtry, :\n",
      "“The response has five or fewer unique values.  Are you sure you want to do regression?”\n",
      "Warning message in randomForest.default(x = obsX, y = obsY, ntree = ntree, mtry = mtry, :\n",
      "“The response has five or fewer unique values.  Are you sure you want to do regression?”\n",
      "Warning message in randomForest.default(x = obsX, y = obsY, ntree = ntree, mtry = mtry, :\n",
      "“The response has five or fewer unique values.  Are you sure you want to do regression?”\n",
      "Warning message in randomForest.default(x = obsX, y = obsY, ntree = ntree, mtry = mtry, :\n",
      "“The response has five or fewer unique values.  Are you sure you want to do regression?”\n",
      "Warning message in randomForest.default(x = obsX, y = obsY, ntree = ntree, mtry = mtry, :\n",
      "“The response has five or fewer unique values.  Are you sure you want to do regression?”\n",
      "Warning message in randomForest.default(x = obsX, y = obsY, ntree = ntree, mtry = mtry, :\n",
      "“The response has five or fewer unique values.  Are you sure you want to do regression?”\n",
      "Warning message in randomForest.default(x = obsX, y = obsY, ntree = ntree, mtry = mtry, :\n",
      "“The response has five or fewer unique values.  Are you sure you want to do regression?”\n",
      "Warning message in randomForest.default(x = obsX, y = obsY, ntree = ntree, mtry = mtry, :\n",
      "“The response has five or fewer unique values.  Are you sure you want to do regression?”\n",
      "Warning message in randomForest.default(x = obsX, y = obsY, ntree = ntree, mtry = mtry, :\n",
      "“The response has five or fewer unique values.  Are you sure you want to do regression?”\n",
      "Warning message in randomForest.default(x = obsX, y = obsY, ntree = ntree, mtry = mtry, :\n",
      "“The response has five or fewer unique values.  Are you sure you want to do regression?”\n",
      "Warning message in randomForest.default(x = obsX, y = obsY, ntree = ntree, mtry = mtry, :\n",
      "“The response has five or fewer unique values.  Are you sure you want to do regression?”\n",
      "Warning message in randomForest.default(x = obsX, y = obsY, ntree = ntree, mtry = mtry, :\n",
      "“The response has five or fewer unique values.  Are you sure you want to do regression?”\n",
      "Warning message in randomForest.default(x = obsX, y = obsY, ntree = ntree, mtry = mtry, :\n",
      "“The response has five or fewer unique values.  Are you sure you want to do regression?”\n",
      "Warning message in randomForest.default(x = obsX, y = obsY, ntree = ntree, mtry = mtry, :\n",
      "“The response has five or fewer unique values.  Are you sure you want to do regression?”\n",
      "Warning message in randomForest.default(x = obsX, y = obsY, ntree = ntree, mtry = mtry, :\n",
      "“The response has five or fewer unique values.  Are you sure you want to do regression?”\n",
      "Warning message in randomForest.default(x = obsX, y = obsY, ntree = ntree, mtry = mtry, :\n",
      "“The response has five or fewer unique values.  Are you sure you want to do regression?”\n",
      "Warning message in randomForest.default(x = obsX, y = obsY, ntree = ntree, mtry = mtry, :\n",
      "“The response has five or fewer unique values.  Are you sure you want to do regression?”\n",
      "Warning message in randomForest.default(x = obsX, y = obsY, ntree = ntree, mtry = mtry, :\n",
      "“The response has five or fewer unique values.  Are you sure you want to do regression?”\n",
      "Warning message in randomForest.default(x = obsX, y = obsY, ntree = ntree, mtry = mtry, :\n",
      "“The response has five or fewer unique values.  Are you sure you want to do regression?”\n",
      "Warning message in randomForest.default(x = obsX, y = obsY, ntree = ntree, mtry = mtry, :\n",
      "“The response has five or fewer unique values.  Are you sure you want to do regression?”\n",
      "Warning message in randomForest.default(x = obsX, y = obsY, ntree = ntree, mtry = mtry, :\n",
      "“The response has five or fewer unique values.  Are you sure you want to do regression?”\n",
      "Warning message in randomForest.default(x = obsX, y = obsY, ntree = ntree, mtry = mtry, :\n",
      "“The response has five or fewer unique values.  Are you sure you want to do regression?”\n",
      "Warning message in randomForest.default(x = obsX, y = obsY, ntree = ntree, mtry = mtry, :\n",
      "“The response has five or fewer unique values.  Are you sure you want to do regression?”\n",
      "Warning message in randomForest.default(x = obsX, y = obsY, ntree = ntree, mtry = mtry, :\n",
      "“The response has five or fewer unique values.  Are you sure you want to do regression?”\n",
      "Warning message in randomForest.default(x = obsX, y = obsY, ntree = ntree, mtry = mtry, :\n",
      "“The response has five or fewer unique values.  Are you sure you want to do regression?”\n",
      "Warning message in randomForest.default(x = obsX, y = obsY, ntree = ntree, mtry = mtry, :\n",
      "“The response has five or fewer unique values.  Are you sure you want to do regression?”\n",
      "Warning message in randomForest.default(x = obsX, y = obsY, ntree = ntree, mtry = mtry, :\n",
      "“The response has five or fewer unique values.  Are you sure you want to do regression?”\n",
      "Warning message in randomForest.default(x = obsX, y = obsY, ntree = ntree, mtry = mtry, :\n",
      "“The response has five or fewer unique values.  Are you sure you want to do regression?”\n"
     ]
    },
    {
     "data": {
      "text/html": [
       "<table class=\"dataframe\">\n",
       "<caption>A tibble: 6 × 7</caption>\n",
       "<thead>\n",
       "\t<tr><th scope=col>SampleID</th><th scope=col>HAWC_ID</th><th scope=col>Metric</th><th scope=col>Sample</th><th scope=col>Study</th><th scope=col>DTXSID</th><th scope=col>Value</th></tr>\n",
       "\t<tr><th scope=col>&lt;chr&gt;</th><th scope=col>&lt;dbl&gt;</th><th scope=col>&lt;chr&gt;</th><th scope=col>&lt;chr&gt;</th><th scope=col>&lt;chr&gt;</th><th scope=col>&lt;chr&gt;</th><th scope=col>&lt;dbl&gt;</th></tr>\n",
       "</thead>\n",
       "<tbody>\n",
       "\t<tr><td>993956_WS</td><td>993956</td><td>Volume</td><td>WS</td><td>Ihantola et al. 2022</td><td>Li</td><td>    1.794436</td></tr>\n",
       "\t<tr><td>993956_WS</td><td>993956</td><td>Volume</td><td>WS</td><td>Ihantola et al. 2022</td><td>K </td><td>60000.000000</td></tr>\n",
       "\t<tr><td>993956_WS</td><td>993956</td><td>Volume</td><td>WS</td><td>Ihantola et al. 2022</td><td>Ca</td><td> 2800.000000</td></tr>\n",
       "\t<tr><td>993956_WS</td><td>993956</td><td>Volume</td><td>WS</td><td>Ihantola et al. 2022</td><td>Cd</td><td>   25.000000</td></tr>\n",
       "\t<tr><td>993956_WS</td><td>993956</td><td>Volume</td><td>WS</td><td>Ihantola et al. 2022</td><td>Fe</td><td> 1400.000000</td></tr>\n",
       "\t<tr><td>993956_WS</td><td>993956</td><td>Volume</td><td>WS</td><td>Ihantola et al. 2022</td><td>Mn</td><td>  280.000000</td></tr>\n",
       "</tbody>\n",
       "</table>\n"
      ],
      "text/latex": [
       "A tibble: 6 × 7\n",
       "\\begin{tabular}{lllllll}\n",
       " SampleID & HAWC\\_ID & Metric & Sample & Study & DTXSID & Value\\\\\n",
       " <chr> & <dbl> & <chr> & <chr> & <chr> & <chr> & <dbl>\\\\\n",
       "\\hline\n",
       "\t 993956\\_WS & 993956 & Volume & WS & Ihantola et al. 2022 & Li &     1.794436\\\\\n",
       "\t 993956\\_WS & 993956 & Volume & WS & Ihantola et al. 2022 & K  & 60000.000000\\\\\n",
       "\t 993956\\_WS & 993956 & Volume & WS & Ihantola et al. 2022 & Ca &  2800.000000\\\\\n",
       "\t 993956\\_WS & 993956 & Volume & WS & Ihantola et al. 2022 & Cd &    25.000000\\\\\n",
       "\t 993956\\_WS & 993956 & Volume & WS & Ihantola et al. 2022 & Fe &  1400.000000\\\\\n",
       "\t 993956\\_WS & 993956 & Volume & WS & Ihantola et al. 2022 & Mn &   280.000000\\\\\n",
       "\\end{tabular}\n"
      ],
      "text/markdown": [
       "\n",
       "A tibble: 6 × 7\n",
       "\n",
       "| SampleID &lt;chr&gt; | HAWC_ID &lt;dbl&gt; | Metric &lt;chr&gt; | Sample &lt;chr&gt; | Study &lt;chr&gt; | DTXSID &lt;chr&gt; | Value &lt;dbl&gt; |\n",
       "|---|---|---|---|---|---|---|\n",
       "| 993956_WS | 993956 | Volume | WS | Ihantola et al. 2022 | Li |     1.794436 |\n",
       "| 993956_WS | 993956 | Volume | WS | Ihantola et al. 2022 | K  | 60000.000000 |\n",
       "| 993956_WS | 993956 | Volume | WS | Ihantola et al. 2022 | Ca |  2800.000000 |\n",
       "| 993956_WS | 993956 | Volume | WS | Ihantola et al. 2022 | Cd |    25.000000 |\n",
       "| 993956_WS | 993956 | Volume | WS | Ihantola et al. 2022 | Fe |  1400.000000 |\n",
       "| 993956_WS | 993956 | Volume | WS | Ihantola et al. 2022 | Mn |   280.000000 |\n",
       "\n"
      ],
      "text/plain": [
       "  SampleID  HAWC_ID Metric Sample Study                DTXSID Value       \n",
       "1 993956_WS 993956  Volume WS     Ihantola et al. 2022 Li         1.794436\n",
       "2 993956_WS 993956  Volume WS     Ihantola et al. 2022 K      60000.000000\n",
       "3 993956_WS 993956  Volume WS     Ihantola et al. 2022 Ca      2800.000000\n",
       "4 993956_WS 993956  Volume WS     Ihantola et al. 2022 Cd        25.000000\n",
       "5 993956_WS 993956  Volume WS     Ihantola et al. 2022 Fe      1400.000000\n",
       "6 993956_WS 993956  Volume WS     Ihantola et al. 2022 Mn       280.000000"
      ]
     },
     "metadata": {},
     "output_type": "display_data"
    },
    {
     "data": {
      "text/html": [
       "<style>\n",
       ".list-inline {list-style: none; margin:0; padding: 0}\n",
       ".list-inline>li {display: inline-block}\n",
       ".list-inline>li:not(:last-child)::after {content: \"\\00b7\"; padding: 0 .5ex}\n",
       "</style>\n",
       "<ol class=list-inline><li>727</li><li>7</li></ol>\n"
      ],
      "text/latex": [
       "\\begin{enumerate*}\n",
       "\\item 727\n",
       "\\item 7\n",
       "\\end{enumerate*}\n"
      ],
      "text/markdown": [
       "1. 727\n",
       "2. 7\n",
       "\n",
       "\n"
      ],
      "text/plain": [
       "[1] 727   7"
      ]
     },
     "metadata": {},
     "output_type": "display_data"
    }
   ],
   "source": [
    "random_forest_imputation = function(dataset){\n",
    "    # \"\"\"\n",
    "    # Using random forest (RF) to generate MAR data.\n",
    "\n",
    "    # :param: wide dataframe\n",
    "    # :output: a longer dataframe \n",
    "\n",
    "    # \"\"\"\n",
    "    \n",
    "    preimputed_df = dataset[,6:ncol(dataset)]\n",
    "    \n",
    "    imputed_RF_object = missForest(as.matrix(preimputed_df))\n",
    "    imputed_RF_df = imputed_RF_object$ximp\n",
    "    imputed_final_df = data.frame(cbind(dataset[,1:5], imputed_RF_df)) %>%\n",
    "        pivot_longer(cols = 6:ncol(dataset), names_to = \"DTXSID\", values_to = \"Value\")\n",
    "    \n",
    "    return(imputed_final_df)\n",
    "}\n",
    "\n",
    "# calling fn\n",
    "rf_vol_imputed_df = random_forest_imputation(preimputed_vol_df) \n",
    "rf_weight_imputed_df = random_forest_imputation(preimputed_weight_df)\n",
    "\n",
    "rf_imputed_df = rbind(rf_vol_imputed_df, \n",
    "                      rf_weight_imputed_df) \n",
    "\n",
    "head(rf_imputed_df)\n",
    "dim(rf_imputed_df)"
   ]
  },
  {
   "cell_type": "code",
   "execution_count": 34,
   "id": "7db6faee-27f7-4daa-8c24-d447c9ec8e55",
   "metadata": {},
   "outputs": [
    {
     "name": "stderr",
     "output_type": "stream",
     "text": [
      "\u001b[1m\u001b[22mJoining with `by = join_by(DTXSID)`\n"
     ]
    },
    {
     "data": {
      "text/html": [
       "<table class=\"dataframe\">\n",
       "<caption>A tibble: 6 × 9</caption>\n",
       "<thead>\n",
       "\t<tr><th scope=col>SampleID</th><th scope=col>HAWC_ID</th><th scope=col>Study</th><th scope=col>Metric</th><th scope=col>Sample</th><th scope=col>Class</th><th scope=col>DTXSID</th><th scope=col>Name</th><th scope=col>Value</th></tr>\n",
       "\t<tr><th scope=col>&lt;chr&gt;</th><th scope=col>&lt;dbl&gt;</th><th scope=col>&lt;chr&gt;</th><th scope=col>&lt;chr&gt;</th><th scope=col>&lt;chr&gt;</th><th scope=col>&lt;chr&gt;</th><th scope=col>&lt;chr&gt;</th><th scope=col>&lt;chr&gt;</th><th scope=col>&lt;dbl&gt;</th></tr>\n",
       "</thead>\n",
       "<tbody>\n",
       "\t<tr><td>993956_WS</td><td>993956</td><td>Ihantola et al. 2022</td><td>Volume</td><td>WS</td><td>Metal</td><td>Li</td><td>Li</td><td>    1.794436</td></tr>\n",
       "\t<tr><td>993956_WS</td><td>993956</td><td>Ihantola et al. 2022</td><td>Volume</td><td>WS</td><td>Metal</td><td>K </td><td>K </td><td>60000.000000</td></tr>\n",
       "\t<tr><td>993956_WS</td><td>993956</td><td>Ihantola et al. 2022</td><td>Volume</td><td>WS</td><td>Metal</td><td>Ca</td><td>Ca</td><td> 2800.000000</td></tr>\n",
       "\t<tr><td>993956_WS</td><td>993956</td><td>Ihantola et al. 2022</td><td>Volume</td><td>WS</td><td>Metal</td><td>Cd</td><td>Cd</td><td>   25.000000</td></tr>\n",
       "\t<tr><td>993956_WS</td><td>993956</td><td>Ihantola et al. 2022</td><td>Volume</td><td>WS</td><td>Metal</td><td>Fe</td><td>Fe</td><td> 1400.000000</td></tr>\n",
       "\t<tr><td>993956_WS</td><td>993956</td><td>Ihantola et al. 2022</td><td>Volume</td><td>WS</td><td>Metal</td><td>Mn</td><td>Mn</td><td>  280.000000</td></tr>\n",
       "</tbody>\n",
       "</table>\n"
      ],
      "text/latex": [
       "A tibble: 6 × 9\n",
       "\\begin{tabular}{lllllllll}\n",
       " SampleID & HAWC\\_ID & Study & Metric & Sample & Class & DTXSID & Name & Value\\\\\n",
       " <chr> & <dbl> & <chr> & <chr> & <chr> & <chr> & <chr> & <chr> & <dbl>\\\\\n",
       "\\hline\n",
       "\t 993956\\_WS & 993956 & Ihantola et al. 2022 & Volume & WS & Metal & Li & Li &     1.794436\\\\\n",
       "\t 993956\\_WS & 993956 & Ihantola et al. 2022 & Volume & WS & Metal & K  & K  & 60000.000000\\\\\n",
       "\t 993956\\_WS & 993956 & Ihantola et al. 2022 & Volume & WS & Metal & Ca & Ca &  2800.000000\\\\\n",
       "\t 993956\\_WS & 993956 & Ihantola et al. 2022 & Volume & WS & Metal & Cd & Cd &    25.000000\\\\\n",
       "\t 993956\\_WS & 993956 & Ihantola et al. 2022 & Volume & WS & Metal & Fe & Fe &  1400.000000\\\\\n",
       "\t 993956\\_WS & 993956 & Ihantola et al. 2022 & Volume & WS & Metal & Mn & Mn &   280.000000\\\\\n",
       "\\end{tabular}\n"
      ],
      "text/markdown": [
       "\n",
       "A tibble: 6 × 9\n",
       "\n",
       "| SampleID &lt;chr&gt; | HAWC_ID &lt;dbl&gt; | Study &lt;chr&gt; | Metric &lt;chr&gt; | Sample &lt;chr&gt; | Class &lt;chr&gt; | DTXSID &lt;chr&gt; | Name &lt;chr&gt; | Value &lt;dbl&gt; |\n",
       "|---|---|---|---|---|---|---|---|---|\n",
       "| 993956_WS | 993956 | Ihantola et al. 2022 | Volume | WS | Metal | Li | Li |     1.794436 |\n",
       "| 993956_WS | 993956 | Ihantola et al. 2022 | Volume | WS | Metal | K  | K  | 60000.000000 |\n",
       "| 993956_WS | 993956 | Ihantola et al. 2022 | Volume | WS | Metal | Ca | Ca |  2800.000000 |\n",
       "| 993956_WS | 993956 | Ihantola et al. 2022 | Volume | WS | Metal | Cd | Cd |    25.000000 |\n",
       "| 993956_WS | 993956 | Ihantola et al. 2022 | Volume | WS | Metal | Fe | Fe |  1400.000000 |\n",
       "| 993956_WS | 993956 | Ihantola et al. 2022 | Volume | WS | Metal | Mn | Mn |   280.000000 |\n",
       "\n"
      ],
      "text/plain": [
       "  SampleID  HAWC_ID Study                Metric Sample Class DTXSID Name\n",
       "1 993956_WS 993956  Ihantola et al. 2022 Volume WS     Metal Li     Li  \n",
       "2 993956_WS 993956  Ihantola et al. 2022 Volume WS     Metal K      K   \n",
       "3 993956_WS 993956  Ihantola et al. 2022 Volume WS     Metal Ca     Ca  \n",
       "4 993956_WS 993956  Ihantola et al. 2022 Volume WS     Metal Cd     Cd  \n",
       "5 993956_WS 993956  Ihantola et al. 2022 Volume WS     Metal Fe     Fe  \n",
       "6 993956_WS 993956  Ihantola et al. 2022 Volume WS     Metal Mn     Mn  \n",
       "  Value       \n",
       "1     1.794436\n",
       "2 60000.000000\n",
       "3  2800.000000\n",
       "4    25.000000\n",
       "5  1400.000000\n",
       "6   280.000000"
      ]
     },
     "metadata": {},
     "output_type": "display_data"
    },
    {
     "data": {
      "text/html": [
       "<style>\n",
       ".list-inline {list-style: none; margin:0; padding: 0}\n",
       ".list-inline>li {display: inline-block}\n",
       ".list-inline>li:not(:last-child)::after {content: \"\\00b7\"; padding: 0 .5ex}\n",
       "</style>\n",
       "<ol class=list-inline><li>727</li><li>9</li></ol>\n"
      ],
      "text/latex": [
       "\\begin{enumerate*}\n",
       "\\item 727\n",
       "\\item 9\n",
       "\\end{enumerate*}\n"
      ],
      "text/markdown": [
       "1. 727\n",
       "2. 9\n",
       "\n",
       "\n"
      ],
      "text/plain": [
       "[1] 727   9"
      ]
     },
     "metadata": {},
     "output_type": "display_data"
    }
   ],
   "source": [
    "# adding back in name col\n",
    "final_df = left_join(rf_imputed_df, \n",
    "                      combined_df[,c(5,7:8)] %>%\n",
    "    # metals don't have a DTXSID, so making that col their name\n",
    "    mutate(DTXSID = ifelse(grepl(\"NA\", DTXSID), Name, DTXSID)) %>%\n",
    "    mutate(Name = ifelse(Name == 'Dibenz(ah)anthracene', 'Dibenzo(ah)anthracene', \n",
    "                    ifelse(Name == 'Benz(a)anthracene', 'Benzo(a)anthracene', \n",
    "                        ifelse(Name == 'o-Xylene', 'O-xylene', \n",
    "                            ifelse(Name == 'Propylbenzene (Benzene, propyl)', 'Propylbenzene', \n",
    "                                ifelse(Name == 'n-Hexane', 'Hexane', \n",
    "                                    ifelse(Name == 'Carbon tetrachloride (tetrachloromethane)', 'Carbon tetrachloride',\n",
    "                                        ifelse(Name == 'Trichloromethane (Chloroform)', 'Chloroform', Name)))))))) %>%\n",
    "    unique()) \n",
    "\n",
    "final_df = final_df[,c(1,2,5,3,4,8,6,9,7)]\n",
    "\n",
    "head(final_df)\n",
    "dim(final_df)"
   ]
  },
  {
   "cell_type": "code",
   "execution_count": 35,
   "id": "71aabfcd-d6a1-4a68-a845-1e890ab2bab7",
   "metadata": {},
   "outputs": [],
   "source": [
    "# exporting\n",
    "write.xlsx(final_df, paste0(Output,\"/\", \"Processed_Data_\", cur_date, \".xlsx\"), \n",
    "           rowNames = FALSE)"
   ]
  },
  {
   "cell_type": "code",
   "execution_count": null,
   "id": "b003cc96-3d86-4728-be5f-7420fdf4e0e6",
   "metadata": {},
   "outputs": [],
   "source": []
  }
 ],
 "metadata": {
  "kernelspec": {
   "display_name": "R",
   "language": "R",
   "name": "ir"
  },
  "language_info": {
   "codemirror_mode": "r",
   "file_extension": ".r",
   "mimetype": "text/x-r-source",
   "name": "R",
   "pygments_lexer": "r",
   "version": "4.4.3"
  }
 },
 "nbformat": 4,
 "nbformat_minor": 5
}
