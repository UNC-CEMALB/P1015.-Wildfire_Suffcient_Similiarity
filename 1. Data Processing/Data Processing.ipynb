{
 "cells": [
  {
   "cell_type": "code",
   "execution_count": 1,
   "id": "f739a63b-8766-4c73-a76e-a6b3a6525d80",
   "metadata": {},
   "outputs": [],
   "source": [
    ".libPaths(R.home('/opt/homebrew/Caskroom/miniforge/base/lib/R/library'))"
   ]
  },
  {
   "cell_type": "code",
   "execution_count": 2,
   "id": "dbfb736a-bc97-4a2f-96f6-553aa3c90c5b",
   "metadata": {},
   "outputs": [
    {
     "name": "stderr",
     "output_type": "stream",
     "text": [
      "── \u001b[1mAttaching core tidyverse packages\u001b[22m ──────────────────────── tidyverse 2.0.0 ──\n",
      "\u001b[32m✔\u001b[39m \u001b[34mdplyr    \u001b[39m 1.1.4     \u001b[32m✔\u001b[39m \u001b[34mreadr    \u001b[39m 2.1.5\n",
      "\u001b[32m✔\u001b[39m \u001b[34mforcats  \u001b[39m 1.0.0     \u001b[32m✔\u001b[39m \u001b[34mstringr  \u001b[39m 1.5.1\n",
      "\u001b[32m✔\u001b[39m \u001b[34mggplot2  \u001b[39m 3.5.2     \u001b[32m✔\u001b[39m \u001b[34mtibble   \u001b[39m 3.2.1\n",
      "\u001b[32m✔\u001b[39m \u001b[34mlubridate\u001b[39m 1.9.4     \u001b[32m✔\u001b[39m \u001b[34mtidyr    \u001b[39m 1.3.1\n",
      "\u001b[32m✔\u001b[39m \u001b[34mpurrr    \u001b[39m 1.0.4     \n",
      "── \u001b[1mConflicts\u001b[22m ────────────────────────────────────────── tidyverse_conflicts() ──\n",
      "\u001b[31m✖\u001b[39m \u001b[34mdplyr\u001b[39m::\u001b[32mfilter()\u001b[39m masks \u001b[34mstats\u001b[39m::filter()\n",
      "\u001b[31m✖\u001b[39m \u001b[34mdplyr\u001b[39m::\u001b[32mlag()\u001b[39m    masks \u001b[34mstats\u001b[39m::lag()\n",
      "\u001b[36mℹ\u001b[39m Use the conflicted package (\u001b[3m\u001b[34m<http://conflicted.r-lib.org/>\u001b[39m\u001b[23m) to force all conflicts to become errors\n",
      "Welcome! Want to learn more? See two factoextra-related books at https://goo.gl/ve3WBa\n",
      "\n"
     ]
    }
   ],
   "source": [
    "Output = '/Users/alexis/Library/CloudStorage/OneDrive-UniversityofNorthCarolinaatChapelHill/CEMALB_DataAnalysisPM/Projects/P1015. Fire Sufficient Similarity/P1015.3. Analyses/P1015.3.2. Data Processing/Output'\n",
    "cur_date = '050225'\n",
    "\n",
    "library(missForest)\n",
    "library(readxl)\n",
    "library(openxlsx)\n",
    "library(tidyverse)\n",
    "library(factoextra)\n",
    "\n",
    "# reading in files\n",
    "ws_df = data.frame(Sample = 'WS', read_excel(\"Input/Woodsmoke_Data_012825.xlsx\", sheet = 2)) %>%\n",
    "    select(-Sample_Number)\n",
    "wf_df = data.frame(Sample = 'WF', read_excel(\"Input/Wildfire_Data_012825.xlsx\", sheet = 2)) %>%\n",
    "    select(-Sample_Number)\n",
    "# control_df = data.frame(read_excel(\"Input/Control_Data_032825.xlsx\", sheet = 2))  %>%\n",
    "#     select(-Sample_Number)"
   ]
  },
  {
   "cell_type": "code",
   "execution_count": 3,
   "id": "73a7d5c4-8e2a-4ab5-b13b-046bc35d412e",
   "metadata": {},
   "outputs": [
    {
     "data": {
      "text/html": [
       "<table class=\"dataframe\">\n",
       "<caption>A data.frame: 6 × 9</caption>\n",
       "<thead>\n",
       "\t<tr><th></th><th scope=col>Sample</th><th scope=col>HAWC_ID</th><th scope=col>Study</th><th scope=col>Replicate</th><th scope=col>Class</th><th scope=col>Metric</th><th scope=col>DTXSID</th><th scope=col>Name</th><th scope=col>Value</th></tr>\n",
       "\t<tr><th></th><th scope=col>&lt;chr&gt;</th><th scope=col>&lt;dbl&gt;</th><th scope=col>&lt;chr&gt;</th><th scope=col>&lt;dbl&gt;</th><th scope=col>&lt;chr&gt;</th><th scope=col>&lt;chr&gt;</th><th scope=col>&lt;chr&gt;</th><th scope=col>&lt;chr&gt;</th><th scope=col>&lt;chr&gt;</th></tr>\n",
       "</thead>\n",
       "<tbody>\n",
       "\t<tr><th scope=row>1</th><td>WS</td><td> 821855</td><td>Erlandsson et al. 2020  </td><td> 1</td><td>PAH</td><td>Weight</td><td>DTXSID3074787</td><td>1-Methylanthracene</td><td>11.3              </td></tr>\n",
       "\t<tr><th scope=row>2</th><td>WS</td><td> 821855</td><td>Erlandsson et al. 2020  </td><td> 1</td><td>PAH</td><td>Weight</td><td>DTXSID3074787</td><td>1-Methylanthracene</td><td>2.2999999999999998</td></tr>\n",
       "\t<tr><th scope=row>3</th><td>WS</td><td>1257056</td><td>McCarrick et al. 2024   </td><td> 1</td><td>PAH</td><td>Weight</td><td>DTXSID3074787</td><td>1-Methylanthracene</td><td>1.66              </td></tr>\n",
       "\t<tr><th scope=row>4</th><td>WS</td><td> 267140</td><td>Alfheim and Ramdahl 1984</td><td> 1</td><td>PAH</td><td>Volume</td><td>DTXSID3074787</td><td>1-Methylanthracene</td><td>NA                </td></tr>\n",
       "\t<tr><th scope=row>5</th><td>WS</td><td>1263480</td><td>Burnet et al. 1990      </td><td> 1</td><td>PAH</td><td>Volume</td><td>DTXSID3074787</td><td>1-Methylanthracene</td><td>NA                </td></tr>\n",
       "\t<tr><th scope=row>6</th><td>WS</td><td>1263480</td><td>Burnet et al. 1990      </td><td>NA</td><td>PAH</td><td>Volume</td><td>DTXSID3074787</td><td>1-Methylanthracene</td><td>NA                </td></tr>\n",
       "</tbody>\n",
       "</table>\n"
      ],
      "text/latex": [
       "A data.frame: 6 × 9\n",
       "\\begin{tabular}{r|lllllllll}\n",
       "  & Sample & HAWC\\_ID & Study & Replicate & Class & Metric & DTXSID & Name & Value\\\\\n",
       "  & <chr> & <dbl> & <chr> & <dbl> & <chr> & <chr> & <chr> & <chr> & <chr>\\\\\n",
       "\\hline\n",
       "\t1 & WS &  821855 & Erlandsson et al. 2020   &  1 & PAH & Weight & DTXSID3074787 & 1-Methylanthracene & 11.3              \\\\\n",
       "\t2 & WS &  821855 & Erlandsson et al. 2020   &  1 & PAH & Weight & DTXSID3074787 & 1-Methylanthracene & 2.2999999999999998\\\\\n",
       "\t3 & WS & 1257056 & McCarrick et al. 2024    &  1 & PAH & Weight & DTXSID3074787 & 1-Methylanthracene & 1.66              \\\\\n",
       "\t4 & WS &  267140 & Alfheim and Ramdahl 1984 &  1 & PAH & Volume & DTXSID3074787 & 1-Methylanthracene & NA                \\\\\n",
       "\t5 & WS & 1263480 & Burnet et al. 1990       &  1 & PAH & Volume & DTXSID3074787 & 1-Methylanthracene & NA                \\\\\n",
       "\t6 & WS & 1263480 & Burnet et al. 1990       & NA & PAH & Volume & DTXSID3074787 & 1-Methylanthracene & NA                \\\\\n",
       "\\end{tabular}\n"
      ],
      "text/markdown": [
       "\n",
       "A data.frame: 6 × 9\n",
       "\n",
       "| <!--/--> | Sample &lt;chr&gt; | HAWC_ID &lt;dbl&gt; | Study &lt;chr&gt; | Replicate &lt;dbl&gt; | Class &lt;chr&gt; | Metric &lt;chr&gt; | DTXSID &lt;chr&gt; | Name &lt;chr&gt; | Value &lt;chr&gt; |\n",
       "|---|---|---|---|---|---|---|---|---|---|\n",
       "| 1 | WS |  821855 | Erlandsson et al. 2020   |  1 | PAH | Weight | DTXSID3074787 | 1-Methylanthracene | 11.3               |\n",
       "| 2 | WS |  821855 | Erlandsson et al. 2020   |  1 | PAH | Weight | DTXSID3074787 | 1-Methylanthracene | 2.2999999999999998 |\n",
       "| 3 | WS | 1257056 | McCarrick et al. 2024    |  1 | PAH | Weight | DTXSID3074787 | 1-Methylanthracene | 1.66               |\n",
       "| 4 | WS |  267140 | Alfheim and Ramdahl 1984 |  1 | PAH | Volume | DTXSID3074787 | 1-Methylanthracene | NA                 |\n",
       "| 5 | WS | 1263480 | Burnet et al. 1990       |  1 | PAH | Volume | DTXSID3074787 | 1-Methylanthracene | NA                 |\n",
       "| 6 | WS | 1263480 | Burnet et al. 1990       | NA | PAH | Volume | DTXSID3074787 | 1-Methylanthracene | NA                 |\n",
       "\n"
      ],
      "text/plain": [
       "  Sample HAWC_ID Study                    Replicate Class Metric DTXSID       \n",
       "1 WS      821855 Erlandsson et al. 2020    1        PAH   Weight DTXSID3074787\n",
       "2 WS      821855 Erlandsson et al. 2020    1        PAH   Weight DTXSID3074787\n",
       "3 WS     1257056 McCarrick et al. 2024     1        PAH   Weight DTXSID3074787\n",
       "4 WS      267140 Alfheim and Ramdahl 1984  1        PAH   Volume DTXSID3074787\n",
       "5 WS     1263480 Burnet et al. 1990        1        PAH   Volume DTXSID3074787\n",
       "6 WS     1263480 Burnet et al. 1990       NA        PAH   Volume DTXSID3074787\n",
       "  Name               Value             \n",
       "1 1-Methylanthracene 11.3              \n",
       "2 1-Methylanthracene 2.2999999999999998\n",
       "3 1-Methylanthracene 1.66              \n",
       "4 1-Methylanthracene NA                \n",
       "5 1-Methylanthracene NA                \n",
       "6 1-Methylanthracene NA                "
      ]
     },
     "metadata": {},
     "output_type": "display_data"
    },
    {
     "data": {
      "text/html": [
       "<table class=\"dataframe\">\n",
       "<caption>A data.frame: 6 × 9</caption>\n",
       "<thead>\n",
       "\t<tr><th></th><th scope=col>Sample</th><th scope=col>HAWC_ID</th><th scope=col>Study</th><th scope=col>Replicate</th><th scope=col>Class</th><th scope=col>Metric</th><th scope=col>DTXSID</th><th scope=col>Name</th><th scope=col>Value</th></tr>\n",
       "\t<tr><th></th><th scope=col>&lt;chr&gt;</th><th scope=col>&lt;dbl&gt;</th><th scope=col>&lt;chr&gt;</th><th scope=col>&lt;dbl&gt;</th><th scope=col>&lt;chr&gt;</th><th scope=col>&lt;chr&gt;</th><th scope=col>&lt;chr&gt;</th><th scope=col>&lt;chr&gt;</th><th scope=col>&lt;chr&gt;</th></tr>\n",
       "</thead>\n",
       "<tbody>\n",
       "\t<tr><th scope=row>1</th><td>WF</td><td>1289821</td><td>Liang et al. 2021   </td><td> 1</td><td>PAH</td><td>Volume</td><td>NA            </td><td>1-(10-methylanthracen-9-yl)ethanone</td><td>5 </td></tr>\n",
       "\t<tr><th scope=row>2</th><td>WF</td><td>1289821</td><td>Liang et al. 2021   </td><td> 1</td><td>PAH</td><td>Volume</td><td>DTXSID50176885</td><td>1-Acenaphthenone                   </td><td>1 </td></tr>\n",
       "\t<tr><th scope=row>3</th><td>WF</td><td>1289737</td><td>Campbell et al. 2024</td><td> 1</td><td>PAH</td><td>Weight</td><td>DTXSID1074759 </td><td>1-Methylchrysene                   </td><td>NA</td></tr>\n",
       "\t<tr><th scope=row>4</th><td>WF</td><td>1289739</td><td>Campos et al. 2019  </td><td> 1</td><td>PAH</td><td>Weight</td><td>DTXSID1074759 </td><td>1-Methylchrysene                   </td><td>NA</td></tr>\n",
       "\t<tr><th scope=row>5</th><td>WF</td><td>1289739</td><td>Campos et al. 2019  </td><td>NA</td><td>PAH</td><td>Weight</td><td>DTXSID1074759 </td><td>1-Methylchrysene                   </td><td>NA</td></tr>\n",
       "\t<tr><th scope=row>6</th><td>WF</td><td>1289739</td><td>Campos et al. 2019  </td><td>NA</td><td>PAH</td><td>Weight</td><td>DTXSID1074759 </td><td>1-Methylchrysene                   </td><td>NA</td></tr>\n",
       "</tbody>\n",
       "</table>\n"
      ],
      "text/latex": [
       "A data.frame: 6 × 9\n",
       "\\begin{tabular}{r|lllllllll}\n",
       "  & Sample & HAWC\\_ID & Study & Replicate & Class & Metric & DTXSID & Name & Value\\\\\n",
       "  & <chr> & <dbl> & <chr> & <dbl> & <chr> & <chr> & <chr> & <chr> & <chr>\\\\\n",
       "\\hline\n",
       "\t1 & WF & 1289821 & Liang et al. 2021    &  1 & PAH & Volume & NA             & 1-(10-methylanthracen-9-yl)ethanone & 5 \\\\\n",
       "\t2 & WF & 1289821 & Liang et al. 2021    &  1 & PAH & Volume & DTXSID50176885 & 1-Acenaphthenone                    & 1 \\\\\n",
       "\t3 & WF & 1289737 & Campbell et al. 2024 &  1 & PAH & Weight & DTXSID1074759  & 1-Methylchrysene                    & NA\\\\\n",
       "\t4 & WF & 1289739 & Campos et al. 2019   &  1 & PAH & Weight & DTXSID1074759  & 1-Methylchrysene                    & NA\\\\\n",
       "\t5 & WF & 1289739 & Campos et al. 2019   & NA & PAH & Weight & DTXSID1074759  & 1-Methylchrysene                    & NA\\\\\n",
       "\t6 & WF & 1289739 & Campos et al. 2019   & NA & PAH & Weight & DTXSID1074759  & 1-Methylchrysene                    & NA\\\\\n",
       "\\end{tabular}\n"
      ],
      "text/markdown": [
       "\n",
       "A data.frame: 6 × 9\n",
       "\n",
       "| <!--/--> | Sample &lt;chr&gt; | HAWC_ID &lt;dbl&gt; | Study &lt;chr&gt; | Replicate &lt;dbl&gt; | Class &lt;chr&gt; | Metric &lt;chr&gt; | DTXSID &lt;chr&gt; | Name &lt;chr&gt; | Value &lt;chr&gt; |\n",
       "|---|---|---|---|---|---|---|---|---|---|\n",
       "| 1 | WF | 1289821 | Liang et al. 2021    |  1 | PAH | Volume | NA             | 1-(10-methylanthracen-9-yl)ethanone | 5  |\n",
       "| 2 | WF | 1289821 | Liang et al. 2021    |  1 | PAH | Volume | DTXSID50176885 | 1-Acenaphthenone                    | 1  |\n",
       "| 3 | WF | 1289737 | Campbell et al. 2024 |  1 | PAH | Weight | DTXSID1074759  | 1-Methylchrysene                    | NA |\n",
       "| 4 | WF | 1289739 | Campos et al. 2019   |  1 | PAH | Weight | DTXSID1074759  | 1-Methylchrysene                    | NA |\n",
       "| 5 | WF | 1289739 | Campos et al. 2019   | NA | PAH | Weight | DTXSID1074759  | 1-Methylchrysene                    | NA |\n",
       "| 6 | WF | 1289739 | Campos et al. 2019   | NA | PAH | Weight | DTXSID1074759  | 1-Methylchrysene                    | NA |\n",
       "\n"
      ],
      "text/plain": [
       "  Sample HAWC_ID Study                Replicate Class Metric DTXSID        \n",
       "1 WF     1289821 Liang et al. 2021     1        PAH   Volume NA            \n",
       "2 WF     1289821 Liang et al. 2021     1        PAH   Volume DTXSID50176885\n",
       "3 WF     1289737 Campbell et al. 2024  1        PAH   Weight DTXSID1074759 \n",
       "4 WF     1289739 Campos et al. 2019    1        PAH   Weight DTXSID1074759 \n",
       "5 WF     1289739 Campos et al. 2019   NA        PAH   Weight DTXSID1074759 \n",
       "6 WF     1289739 Campos et al. 2019   NA        PAH   Weight DTXSID1074759 \n",
       "  Name                                Value\n",
       "1 1-(10-methylanthracen-9-yl)ethanone 5    \n",
       "2 1-Acenaphthenone                    1    \n",
       "3 1-Methylchrysene                    NA   \n",
       "4 1-Methylchrysene                    NA   \n",
       "5 1-Methylchrysene                    NA   \n",
       "6 1-Methylchrysene                    NA   "
      ]
     },
     "metadata": {},
     "output_type": "display_data"
    }
   ],
   "source": [
    "head(ws_df)\n",
    "head(wf_df)\n",
    "# head(control_df)"
   ]
  },
  {
   "cell_type": "code",
   "execution_count": 4,
   "id": "3d546e8e-5cdf-4386-b29b-2ac2938366f9",
   "metadata": {},
   "outputs": [
    {
     "data": {
      "text/html": [
       "<style>\n",
       ".list-inline {list-style: none; margin:0; padding: 0}\n",
       ".list-inline>li {display: inline-block}\n",
       ".list-inline>li:not(:last-child)::after {content: \"\\00b7\"; padding: 0 .5ex}\n",
       "</style>\n",
       "<ol class=list-inline><li>6607</li><li>9</li></ol>\n"
      ],
      "text/latex": [
       "\\begin{enumerate*}\n",
       "\\item 6607\n",
       "\\item 9\n",
       "\\end{enumerate*}\n"
      ],
      "text/markdown": [
       "1. 6607\n",
       "2. 9\n",
       "\n",
       "\n"
      ],
      "text/plain": [
       "[1] 6607    9"
      ]
     },
     "metadata": {},
     "output_type": "display_data"
    },
    {
     "data": {
      "text/html": [
       "<style>\n",
       ".list-inline {list-style: none; margin:0; padding: 0}\n",
       ".list-inline>li {display: inline-block}\n",
       ".list-inline>li:not(:last-child)::after {content: \"\\00b7\"; padding: 0 .5ex}\n",
       "</style>\n",
       "<ol class=list-inline><li>4340</li><li>9</li></ol>\n"
      ],
      "text/latex": [
       "\\begin{enumerate*}\n",
       "\\item 4340\n",
       "\\item 9\n",
       "\\end{enumerate*}\n"
      ],
      "text/markdown": [
       "1. 4340\n",
       "2. 9\n",
       "\n",
       "\n"
      ],
      "text/plain": [
       "[1] 4340    9"
      ]
     },
     "metadata": {},
     "output_type": "display_data"
    }
   ],
   "source": [
    "dim(ws_df)\n",
    "dim(wf_df)\n",
    "# dim(control_df)\n",
    "# control_df %>%\n",
    "#     group_by(Sample) %>%\n",
    "#     count()"
   ]
  },
  {
   "cell_type": "markdown",
   "id": "417a92fb-0524-4038-a5ea-08a56f02a955",
   "metadata": {},
   "source": [
    "Starting with 6607 WS records, 4340 WF records, and 1244 control (643 diesel and 601 TRAP) records. \n",
    "\n",
    "# Filter #1\n",
    "\n",
    "Removing duplicate records for instances that weren't measured at all (MAR). "
   ]
  },
  {
   "cell_type": "code",
   "execution_count": 5,
   "id": "9eefd1e4-96f4-48a6-933c-9486ab447115",
   "metadata": {
    "scrolled": true
   },
   "outputs": [],
   "source": [
    "`%notin%` <- Negate(`%in%`)\n",
    "\n",
    "ws_df = ws_df %>%\n",
    "    filter(Replicate %notin% NA)\n",
    "wf_df = wf_df %>%\n",
    "    filter(Replicate %notin% NA)\n",
    "# control_df = control_df %>%\n",
    "#     filter(Replicate %notin% NA)"
   ]
  },
  {
   "cell_type": "code",
   "execution_count": 6,
   "id": "d9ba0841-95c0-4dfc-a8de-480550341718",
   "metadata": {},
   "outputs": [
    {
     "data": {
      "text/html": [
       "<table class=\"dataframe\">\n",
       "<caption>A data.frame: 6 × 9</caption>\n",
       "<thead>\n",
       "\t<tr><th></th><th scope=col>Sample</th><th scope=col>HAWC_ID</th><th scope=col>Study</th><th scope=col>Replicate</th><th scope=col>Class</th><th scope=col>Metric</th><th scope=col>DTXSID</th><th scope=col>Name</th><th scope=col>Value</th></tr>\n",
       "\t<tr><th></th><th scope=col>&lt;chr&gt;</th><th scope=col>&lt;dbl&gt;</th><th scope=col>&lt;chr&gt;</th><th scope=col>&lt;dbl&gt;</th><th scope=col>&lt;chr&gt;</th><th scope=col>&lt;chr&gt;</th><th scope=col>&lt;chr&gt;</th><th scope=col>&lt;chr&gt;</th><th scope=col>&lt;chr&gt;</th></tr>\n",
       "</thead>\n",
       "<tbody>\n",
       "\t<tr><th scope=row>1</th><td>WS</td><td> 821855</td><td>Erlandsson et al. 2020  </td><td>1</td><td>PAH</td><td>Weight</td><td>DTXSID3074787</td><td>1-Methylanthracene</td><td>11.3              </td></tr>\n",
       "\t<tr><th scope=row>2</th><td>WS</td><td> 821855</td><td>Erlandsson et al. 2020  </td><td>1</td><td>PAH</td><td>Weight</td><td>DTXSID3074787</td><td>1-Methylanthracene</td><td>2.2999999999999998</td></tr>\n",
       "\t<tr><th scope=row>3</th><td>WS</td><td>1257056</td><td>McCarrick et al. 2024   </td><td>1</td><td>PAH</td><td>Weight</td><td>DTXSID3074787</td><td>1-Methylanthracene</td><td>1.66              </td></tr>\n",
       "\t<tr><th scope=row>4</th><td>WS</td><td> 267140</td><td>Alfheim and Ramdahl 1984</td><td>1</td><td>PAH</td><td>Volume</td><td>DTXSID3074787</td><td>1-Methylanthracene</td><td>NA                </td></tr>\n",
       "\t<tr><th scope=row>5</th><td>WS</td><td>1263480</td><td>Burnet et al. 1990      </td><td>1</td><td>PAH</td><td>Volume</td><td>DTXSID3074787</td><td>1-Methylanthracene</td><td>NA                </td></tr>\n",
       "\t<tr><th scope=row>6</th><td>WS</td><td> 267091</td><td>Forchhammer et al. 2012 </td><td>1</td><td>PAH</td><td>Volume</td><td>DTXSID3074787</td><td>1-Methylanthracene</td><td>NA                </td></tr>\n",
       "</tbody>\n",
       "</table>\n"
      ],
      "text/latex": [
       "A data.frame: 6 × 9\n",
       "\\begin{tabular}{r|lllllllll}\n",
       "  & Sample & HAWC\\_ID & Study & Replicate & Class & Metric & DTXSID & Name & Value\\\\\n",
       "  & <chr> & <dbl> & <chr> & <dbl> & <chr> & <chr> & <chr> & <chr> & <chr>\\\\\n",
       "\\hline\n",
       "\t1 & WS &  821855 & Erlandsson et al. 2020   & 1 & PAH & Weight & DTXSID3074787 & 1-Methylanthracene & 11.3              \\\\\n",
       "\t2 & WS &  821855 & Erlandsson et al. 2020   & 1 & PAH & Weight & DTXSID3074787 & 1-Methylanthracene & 2.2999999999999998\\\\\n",
       "\t3 & WS & 1257056 & McCarrick et al. 2024    & 1 & PAH & Weight & DTXSID3074787 & 1-Methylanthracene & 1.66              \\\\\n",
       "\t4 & WS &  267140 & Alfheim and Ramdahl 1984 & 1 & PAH & Volume & DTXSID3074787 & 1-Methylanthracene & NA                \\\\\n",
       "\t5 & WS & 1263480 & Burnet et al. 1990       & 1 & PAH & Volume & DTXSID3074787 & 1-Methylanthracene & NA                \\\\\n",
       "\t6 & WS &  267091 & Forchhammer et al. 2012  & 1 & PAH & Volume & DTXSID3074787 & 1-Methylanthracene & NA                \\\\\n",
       "\\end{tabular}\n"
      ],
      "text/markdown": [
       "\n",
       "A data.frame: 6 × 9\n",
       "\n",
       "| <!--/--> | Sample &lt;chr&gt; | HAWC_ID &lt;dbl&gt; | Study &lt;chr&gt; | Replicate &lt;dbl&gt; | Class &lt;chr&gt; | Metric &lt;chr&gt; | DTXSID &lt;chr&gt; | Name &lt;chr&gt; | Value &lt;chr&gt; |\n",
       "|---|---|---|---|---|---|---|---|---|---|\n",
       "| 1 | WS |  821855 | Erlandsson et al. 2020   | 1 | PAH | Weight | DTXSID3074787 | 1-Methylanthracene | 11.3               |\n",
       "| 2 | WS |  821855 | Erlandsson et al. 2020   | 1 | PAH | Weight | DTXSID3074787 | 1-Methylanthracene | 2.2999999999999998 |\n",
       "| 3 | WS | 1257056 | McCarrick et al. 2024    | 1 | PAH | Weight | DTXSID3074787 | 1-Methylanthracene | 1.66               |\n",
       "| 4 | WS |  267140 | Alfheim and Ramdahl 1984 | 1 | PAH | Volume | DTXSID3074787 | 1-Methylanthracene | NA                 |\n",
       "| 5 | WS | 1263480 | Burnet et al. 1990       | 1 | PAH | Volume | DTXSID3074787 | 1-Methylanthracene | NA                 |\n",
       "| 6 | WS |  267091 | Forchhammer et al. 2012  | 1 | PAH | Volume | DTXSID3074787 | 1-Methylanthracene | NA                 |\n",
       "\n"
      ],
      "text/plain": [
       "  Sample HAWC_ID Study                    Replicate Class Metric DTXSID       \n",
       "1 WS      821855 Erlandsson et al. 2020   1         PAH   Weight DTXSID3074787\n",
       "2 WS      821855 Erlandsson et al. 2020   1         PAH   Weight DTXSID3074787\n",
       "3 WS     1257056 McCarrick et al. 2024    1         PAH   Weight DTXSID3074787\n",
       "4 WS      267140 Alfheim and Ramdahl 1984 1         PAH   Volume DTXSID3074787\n",
       "5 WS     1263480 Burnet et al. 1990       1         PAH   Volume DTXSID3074787\n",
       "6 WS      267091 Forchhammer et al. 2012  1         PAH   Volume DTXSID3074787\n",
       "  Name               Value             \n",
       "1 1-Methylanthracene 11.3              \n",
       "2 1-Methylanthracene 2.2999999999999998\n",
       "3 1-Methylanthracene 1.66              \n",
       "4 1-Methylanthracene NA                \n",
       "5 1-Methylanthracene NA                \n",
       "6 1-Methylanthracene NA                "
      ]
     },
     "metadata": {},
     "output_type": "display_data"
    }
   ],
   "source": [
    "# combining dfs\n",
    "combined_df = rbind(ws_df, wf_df)#, control_df)\n",
    "head(combined_df)"
   ]
  },
  {
   "cell_type": "code",
   "execution_count": 7,
   "id": "6bcf9a9c-639c-46ca-9806-dcb9246095f1",
   "metadata": {},
   "outputs": [
    {
     "data": {
      "text/html": [
       "192"
      ],
      "text/latex": [
       "192"
      ],
      "text/markdown": [
       "192"
      ],
      "text/plain": [
       "[1] 192"
      ]
     },
     "metadata": {},
     "output_type": "display_data"
    },
    {
     "data": {
      "text/html": [
       "137"
      ],
      "text/latex": [
       "137"
      ],
      "text/markdown": [
       "137"
      ],
      "text/plain": [
       "[1] 137"
      ]
     },
     "metadata": {},
     "output_type": "display_data"
    },
    {
     "data": {
      "text/html": [
       "138"
      ],
      "text/latex": [
       "138"
      ],
      "text/markdown": [
       "138"
      ],
      "text/plain": [
       "[1] 138"
      ]
     },
     "metadata": {},
     "output_type": "display_data"
    }
   ],
   "source": [
    "length(unique(combined_df$Name))\n",
    "length(unique(ws_df$Name))\n",
    "length(unique(wf_df$Name))\n",
    "#length(unique(control_df$Name))"
   ]
  },
  {
   "attachments": {},
   "cell_type": "markdown",
   "id": "d12ab21b-9ebd-4e1f-8bb3-f9c23e764ea5",
   "metadata": {},
   "source": [
    "228 unique metals/chemicals total.\n",
    "\n",
    "# Filter #2: Chemical/Metal Background Filters\n",
    "\n",
    "Determining what variables have missing data for all variables delineated based on the dfs the data will be split into and analyzed. \n",
    "\n",
    "A variable (ie. `Name` which represents a chemical or metal) will be retained if >= 20% of its experimental data points were measurable values. In other words, chemicals or metals were excluded if they had NAs (not evaluated) or had non-detect values across >= 80% of the samples."
   ]
  },
  {
   "cell_type": "code",
   "execution_count": 8,
   "id": "59c471fe-1657-4356-8ed6-35a8b6244188",
   "metadata": {},
   "outputs": [
    {
     "data": {
      "text/html": [
       "<table class=\"dataframe\">\n",
       "<caption>A tibble: 6 × 4</caption>\n",
       "<thead>\n",
       "\t<tr><th scope=col>Metric</th><th scope=col>Sample</th><th scope=col>Name</th><th scope=col>Variable_Presence_Percentage</th></tr>\n",
       "\t<tr><th scope=col>&lt;chr&gt;</th><th scope=col>&lt;chr&gt;</th><th scope=col>&lt;chr&gt;</th><th scope=col>&lt;dbl&gt;</th></tr>\n",
       "</thead>\n",
       "<tbody>\n",
       "\t<tr><td>Volume</td><td>WF</td><td>1,2,4-Trimethylbenzene    </td><td>100</td></tr>\n",
       "\t<tr><td>Volume</td><td>WF</td><td>1,3,5-Trimethylbenzene    </td><td>100</td></tr>\n",
       "\t<tr><td>Volume</td><td>WF</td><td>1,3-Dihydroxynaphthalene  </td><td>100</td></tr>\n",
       "\t<tr><td>Volume</td><td>WF</td><td>1,4-Dichloro-2-butene, cis</td><td>100</td></tr>\n",
       "\t<tr><td>Volume</td><td>WF</td><td>1,4-Dichlorobenzene       </td><td>100</td></tr>\n",
       "\t<tr><td>Volume</td><td>WF</td><td>1,8-Dihydroxynaphthalene  </td><td>100</td></tr>\n",
       "</tbody>\n",
       "</table>\n"
      ],
      "text/latex": [
       "A tibble: 6 × 4\n",
       "\\begin{tabular}{llll}\n",
       " Metric & Sample & Name & Variable\\_Presence\\_Percentage\\\\\n",
       " <chr> & <chr> & <chr> & <dbl>\\\\\n",
       "\\hline\n",
       "\t Volume & WF & 1,2,4-Trimethylbenzene     & 100\\\\\n",
       "\t Volume & WF & 1,3,5-Trimethylbenzene     & 100\\\\\n",
       "\t Volume & WF & 1,3-Dihydroxynaphthalene   & 100\\\\\n",
       "\t Volume & WF & 1,4-Dichloro-2-butene, cis & 100\\\\\n",
       "\t Volume & WF & 1,4-Dichlorobenzene        & 100\\\\\n",
       "\t Volume & WF & 1,8-Dihydroxynaphthalene   & 100\\\\\n",
       "\\end{tabular}\n"
      ],
      "text/markdown": [
       "\n",
       "A tibble: 6 × 4\n",
       "\n",
       "| Metric &lt;chr&gt; | Sample &lt;chr&gt; | Name &lt;chr&gt; | Variable_Presence_Percentage &lt;dbl&gt; |\n",
       "|---|---|---|---|\n",
       "| Volume | WF | 1,2,4-Trimethylbenzene     | 100 |\n",
       "| Volume | WF | 1,3,5-Trimethylbenzene     | 100 |\n",
       "| Volume | WF | 1,3-Dihydroxynaphthalene   | 100 |\n",
       "| Volume | WF | 1,4-Dichloro-2-butene, cis | 100 |\n",
       "| Volume | WF | 1,4-Dichlorobenzene        | 100 |\n",
       "| Volume | WF | 1,8-Dihydroxynaphthalene   | 100 |\n",
       "\n"
      ],
      "text/plain": [
       "  Metric Sample Name                       Variable_Presence_Percentage\n",
       "1 Volume WF     1,2,4-Trimethylbenzene     100                         \n",
       "2 Volume WF     1,3,5-Trimethylbenzene     100                         \n",
       "3 Volume WF     1,3-Dihydroxynaphthalene   100                         \n",
       "4 Volume WF     1,4-Dichloro-2-butene, cis 100                         \n",
       "5 Volume WF     1,4-Dichlorobenzene        100                         \n",
       "6 Volume WF     1,8-Dihydroxynaphthalene   100                         "
      ]
     },
     "metadata": {},
     "output_type": "display_data"
    }
   ],
   "source": [
    "sample_type_presence_df = combined_df %>%\n",
    "    # if an experimental value is there count it as being \"present\"\n",
    "    mutate(count = ifelse(Value %notin% c('NA', 'ND'), 1, 0)) %>%\n",
    "    # determining which have at least 20% experimental values for each chemical/metal\n",
    "    group_by(Metric, Sample, Name) %>%\n",
    "    # calculating the percentage of experimental data points\n",
    "    reframe(Variable_Presence_Percentage = (sum(count)/n()) * 100) %>%\n",
    "    filter(Variable_Presence_Percentage >= 20) \n",
    "\n",
    "head(sample_type_presence_df)"
   ]
  },
  {
   "cell_type": "code",
   "execution_count": 9,
   "id": "e9e0b6d6-d46b-4f37-81e9-f71cbf5eaefd",
   "metadata": {},
   "outputs": [
    {
     "name": "stderr",
     "output_type": "stream",
     "text": [
      "\u001b[1m\u001b[22mJoining with `by = join_by(Metric, Sample, Name)`\n"
     ]
    },
    {
     "data": {
      "text/html": [
       "<table class=\"dataframe\">\n",
       "<caption>A tibble: 6 × 9</caption>\n",
       "<thead>\n",
       "\t<tr><th scope=col>Metric</th><th scope=col>Sample</th><th scope=col>Name</th><th scope=col>HAWC_ID</th><th scope=col>Study</th><th scope=col>Replicate</th><th scope=col>Class</th><th scope=col>DTXSID</th><th scope=col>Value</th></tr>\n",
       "\t<tr><th scope=col>&lt;chr&gt;</th><th scope=col>&lt;chr&gt;</th><th scope=col>&lt;chr&gt;</th><th scope=col>&lt;dbl&gt;</th><th scope=col>&lt;chr&gt;</th><th scope=col>&lt;dbl&gt;</th><th scope=col>&lt;chr&gt;</th><th scope=col>&lt;chr&gt;</th><th scope=col>&lt;chr&gt;</th></tr>\n",
       "</thead>\n",
       "<tbody>\n",
       "\t<tr><td>Volume</td><td>WF</td><td>1,2,4-Trimethylbenzene    </td><td>1289926</td><td>Wang et al. 2024       </td><td>1</td><td>VOC</td><td>DTXSID6021402 </td><td>730</td></tr>\n",
       "\t<tr><td>Volume</td><td>WF</td><td>1,2,4-Trimethylbenzene    </td><td>1306371</td><td>Ketcherside et al. 2024</td><td>1</td><td>VOC</td><td>DTXSID6021402 </td><td>130</td></tr>\n",
       "\t<tr><td>Volume</td><td>WF</td><td>1,3,5-Trimethylbenzene    </td><td>1289926</td><td>Wang et al. 2024       </td><td>1</td><td>VOC</td><td>DTXSID6026797 </td><td>330</td></tr>\n",
       "\t<tr><td>Volume</td><td>WF</td><td>1,3,5-Trimethylbenzene    </td><td>1306371</td><td>Ketcherside et al. 2024</td><td>1</td><td>VOC</td><td>DTXSID6026797 </td><td>110</td></tr>\n",
       "\t<tr><td>Volume</td><td>WF</td><td>1,3-Dihydroxynaphthalene  </td><td>1289821</td><td>Liang et al. 2021      </td><td>1</td><td>PAH</td><td>DTXSID40456587</td><td>6  </td></tr>\n",
       "\t<tr><td>Volume</td><td>WF</td><td>1,4-Dichloro-2-butene, cis</td><td>1289926</td><td>Wang et al. 2024       </td><td>1</td><td>VOC</td><td>DTXSID3027405 </td><td>230</td></tr>\n",
       "</tbody>\n",
       "</table>\n"
      ],
      "text/latex": [
       "A tibble: 6 × 9\n",
       "\\begin{tabular}{lllllllll}\n",
       " Metric & Sample & Name & HAWC\\_ID & Study & Replicate & Class & DTXSID & Value\\\\\n",
       " <chr> & <chr> & <chr> & <dbl> & <chr> & <dbl> & <chr> & <chr> & <chr>\\\\\n",
       "\\hline\n",
       "\t Volume & WF & 1,2,4-Trimethylbenzene     & 1289926 & Wang et al. 2024        & 1 & VOC & DTXSID6021402  & 730\\\\\n",
       "\t Volume & WF & 1,2,4-Trimethylbenzene     & 1306371 & Ketcherside et al. 2024 & 1 & VOC & DTXSID6021402  & 130\\\\\n",
       "\t Volume & WF & 1,3,5-Trimethylbenzene     & 1289926 & Wang et al. 2024        & 1 & VOC & DTXSID6026797  & 330\\\\\n",
       "\t Volume & WF & 1,3,5-Trimethylbenzene     & 1306371 & Ketcherside et al. 2024 & 1 & VOC & DTXSID6026797  & 110\\\\\n",
       "\t Volume & WF & 1,3-Dihydroxynaphthalene   & 1289821 & Liang et al. 2021       & 1 & PAH & DTXSID40456587 & 6  \\\\\n",
       "\t Volume & WF & 1,4-Dichloro-2-butene, cis & 1289926 & Wang et al. 2024        & 1 & VOC & DTXSID3027405  & 230\\\\\n",
       "\\end{tabular}\n"
      ],
      "text/markdown": [
       "\n",
       "A tibble: 6 × 9\n",
       "\n",
       "| Metric &lt;chr&gt; | Sample &lt;chr&gt; | Name &lt;chr&gt; | HAWC_ID &lt;dbl&gt; | Study &lt;chr&gt; | Replicate &lt;dbl&gt; | Class &lt;chr&gt; | DTXSID &lt;chr&gt; | Value &lt;chr&gt; |\n",
       "|---|---|---|---|---|---|---|---|---|\n",
       "| Volume | WF | 1,2,4-Trimethylbenzene     | 1289926 | Wang et al. 2024        | 1 | VOC | DTXSID6021402  | 730 |\n",
       "| Volume | WF | 1,2,4-Trimethylbenzene     | 1306371 | Ketcherside et al. 2024 | 1 | VOC | DTXSID6021402  | 130 |\n",
       "| Volume | WF | 1,3,5-Trimethylbenzene     | 1289926 | Wang et al. 2024        | 1 | VOC | DTXSID6026797  | 330 |\n",
       "| Volume | WF | 1,3,5-Trimethylbenzene     | 1306371 | Ketcherside et al. 2024 | 1 | VOC | DTXSID6026797  | 110 |\n",
       "| Volume | WF | 1,3-Dihydroxynaphthalene   | 1289821 | Liang et al. 2021       | 1 | PAH | DTXSID40456587 | 6   |\n",
       "| Volume | WF | 1,4-Dichloro-2-butene, cis | 1289926 | Wang et al. 2024        | 1 | VOC | DTXSID3027405  | 230 |\n",
       "\n"
      ],
      "text/plain": [
       "  Metric Sample Name                       HAWC_ID Study                  \n",
       "1 Volume WF     1,2,4-Trimethylbenzene     1289926 Wang et al. 2024       \n",
       "2 Volume WF     1,2,4-Trimethylbenzene     1306371 Ketcherside et al. 2024\n",
       "3 Volume WF     1,3,5-Trimethylbenzene     1289926 Wang et al. 2024       \n",
       "4 Volume WF     1,3,5-Trimethylbenzene     1306371 Ketcherside et al. 2024\n",
       "5 Volume WF     1,3-Dihydroxynaphthalene   1289821 Liang et al. 2021      \n",
       "6 Volume WF     1,4-Dichloro-2-butene, cis 1289926 Wang et al. 2024       \n",
       "  Replicate Class DTXSID         Value\n",
       "1 1         VOC   DTXSID6021402  730  \n",
       "2 1         VOC   DTXSID6021402  130  \n",
       "3 1         VOC   DTXSID6026797  330  \n",
       "4 1         VOC   DTXSID6026797  110  \n",
       "5 1         PAH   DTXSID40456587 6    \n",
       "6 1         VOC   DTXSID3027405  230  "
      ]
     },
     "metadata": {},
     "output_type": "display_data"
    }
   ],
   "source": [
    "# filtering the original df\n",
    "filter1_df = inner_join(sample_type_presence_df[,1:3], combined_df) %>%\n",
    "    # metals (and some chemicals) don't have a DTXSID, so making that col their name\n",
    "    mutate(DTXSID = ifelse(DTXSID != 'NA', DTXSID, Name)) \n",
    "\n",
    "head(filter1_df)"
   ]
  },
  {
   "cell_type": "code",
   "execution_count": 10,
   "id": "681aa152-2060-42cb-8f55-e4dd2ea81370",
   "metadata": {},
   "outputs": [
    {
     "data": {
      "text/html": [
       "<style>\n",
       ".list-inline {list-style: none; margin:0; padding: 0}\n",
       ".list-inline>li {display: inline-block}\n",
       ".list-inline>li:not(:last-child)::after {content: \"\\00b7\"; padding: 0 .5ex}\n",
       "</style>\n",
       "<ol class=list-inline><li>4829</li><li>9</li></ol>\n"
      ],
      "text/latex": [
       "\\begin{enumerate*}\n",
       "\\item 4829\n",
       "\\item 9\n",
       "\\end{enumerate*}\n"
      ],
      "text/markdown": [
       "1. 4829\n",
       "2. 9\n",
       "\n",
       "\n"
      ],
      "text/plain": [
       "[1] 4829    9"
      ]
     },
     "metadata": {},
     "output_type": "display_data"
    }
   ],
   "source": [
    "dim(filter1_df)"
   ]
  },
  {
   "cell_type": "markdown",
   "id": "744bb359-5b56-4821-8613-66bfaf0a2271",
   "metadata": {},
   "source": [
    "Started with 7796 records, 1786 were removed, leaving 6010. \n",
    "\n",
    "# Filter #3: Study Background Filter\n",
    "\n",
    "A study will be retained if >= 20% of its experimental data points were measurable values. In other words, chemicals were excluded if they were NAs (not evaluated) or had non-detect values across < 20% of the samples."
   ]
  },
  {
   "cell_type": "code",
   "execution_count": 11,
   "id": "24e392b1-550e-4cb4-a5a7-012731dc5b3f",
   "metadata": {},
   "outputs": [
    {
     "data": {
      "text/html": [
       "<table class=\"dataframe\">\n",
       "<caption>A tibble: 6 × 4</caption>\n",
       "<thead>\n",
       "\t<tr><th scope=col>Metric</th><th scope=col>Class</th><th scope=col>HAWC_ID</th><th scope=col>Study_Presence_Percentage</th></tr>\n",
       "\t<tr><th scope=col>&lt;chr&gt;</th><th scope=col>&lt;chr&gt;</th><th scope=col>&lt;dbl&gt;</th><th scope=col>&lt;dbl&gt;</th></tr>\n",
       "</thead>\n",
       "<tbody>\n",
       "\t<tr><td>Volume</td><td>Metal</td><td> 266980</td><td> 80.00000</td></tr>\n",
       "\t<tr><td>Volume</td><td>Metal</td><td> 266987</td><td> 81.81818</td></tr>\n",
       "\t<tr><td>Volume</td><td>Metal</td><td> 452289</td><td> 75.00000</td></tr>\n",
       "\t<tr><td>Volume</td><td>Metal</td><td> 885041</td><td>100.00000</td></tr>\n",
       "\t<tr><td>Volume</td><td>Metal</td><td> 993956</td><td> 92.00000</td></tr>\n",
       "\t<tr><td>Volume</td><td>Metal</td><td>1070627</td><td>100.00000</td></tr>\n",
       "</tbody>\n",
       "</table>\n"
      ],
      "text/latex": [
       "A tibble: 6 × 4\n",
       "\\begin{tabular}{llll}\n",
       " Metric & Class & HAWC\\_ID & Study\\_Presence\\_Percentage\\\\\n",
       " <chr> & <chr> & <dbl> & <dbl>\\\\\n",
       "\\hline\n",
       "\t Volume & Metal &  266980 &  80.00000\\\\\n",
       "\t Volume & Metal &  266987 &  81.81818\\\\\n",
       "\t Volume & Metal &  452289 &  75.00000\\\\\n",
       "\t Volume & Metal &  885041 & 100.00000\\\\\n",
       "\t Volume & Metal &  993956 &  92.00000\\\\\n",
       "\t Volume & Metal & 1070627 & 100.00000\\\\\n",
       "\\end{tabular}\n"
      ],
      "text/markdown": [
       "\n",
       "A tibble: 6 × 4\n",
       "\n",
       "| Metric &lt;chr&gt; | Class &lt;chr&gt; | HAWC_ID &lt;dbl&gt; | Study_Presence_Percentage &lt;dbl&gt; |\n",
       "|---|---|---|---|\n",
       "| Volume | Metal |  266980 |  80.00000 |\n",
       "| Volume | Metal |  266987 |  81.81818 |\n",
       "| Volume | Metal |  452289 |  75.00000 |\n",
       "| Volume | Metal |  885041 | 100.00000 |\n",
       "| Volume | Metal |  993956 |  92.00000 |\n",
       "| Volume | Metal | 1070627 | 100.00000 |\n",
       "\n"
      ],
      "text/plain": [
       "  Metric Class HAWC_ID Study_Presence_Percentage\n",
       "1 Volume Metal  266980  80.00000                \n",
       "2 Volume Metal  266987  81.81818                \n",
       "3 Volume Metal  452289  75.00000                \n",
       "4 Volume Metal  885041 100.00000                \n",
       "5 Volume Metal  993956  92.00000                \n",
       "6 Volume Metal 1070627 100.00000                "
      ]
     },
     "metadata": {},
     "output_type": "display_data"
    }
   ],
   "source": [
    "study_type_presence_df = filter1_df %>%\n",
    "    # if an experimental value is there count it as being \"present\"\n",
    "    mutate(count = ifelse(Value %notin% c('NA', 'ND'), 1, 0)) %>%\n",
    "    # determining which have at least 20% experimental values for each chemical/metal\n",
    "    group_by(Metric, Class, HAWC_ID) %>%\n",
    "    # calculating the percentage of experimental data points\n",
    "    reframe(Study_Presence_Percentage = (sum(count)/n()) * 100) %>%\n",
    "    filter(Study_Presence_Percentage >= 20) \n",
    "\n",
    "head(study_type_presence_df)"
   ]
  },
  {
   "cell_type": "code",
   "execution_count": 12,
   "id": "f0593ecb-fe86-49e3-ad96-51ef9d47d27c",
   "metadata": {},
   "outputs": [
    {
     "name": "stderr",
     "output_type": "stream",
     "text": [
      "\u001b[1m\u001b[22mJoining with `by = join_by(Metric, Class, HAWC_ID)`\n"
     ]
    },
    {
     "data": {
      "text/html": [
       "<table class=\"dataframe\">\n",
       "<caption>A tibble: 6 × 9</caption>\n",
       "<thead>\n",
       "\t<tr><th scope=col>Metric</th><th scope=col>Class</th><th scope=col>HAWC_ID</th><th scope=col>Sample</th><th scope=col>Name</th><th scope=col>Study</th><th scope=col>Replicate</th><th scope=col>DTXSID</th><th scope=col>Value</th></tr>\n",
       "\t<tr><th scope=col>&lt;chr&gt;</th><th scope=col>&lt;chr&gt;</th><th scope=col>&lt;dbl&gt;</th><th scope=col>&lt;chr&gt;</th><th scope=col>&lt;chr&gt;</th><th scope=col>&lt;chr&gt;</th><th scope=col>&lt;dbl&gt;</th><th scope=col>&lt;chr&gt;</th><th scope=col>&lt;chr&gt;</th></tr>\n",
       "</thead>\n",
       "<tbody>\n",
       "\t<tr><td>Volume</td><td>Metal</td><td>266980</td><td>WS</td><td>K </td><td>Stockfelt et al. 2012</td><td>1</td><td>K </td><td>9700</td></tr>\n",
       "\t<tr><td>Volume</td><td>Metal</td><td>266980</td><td>WS</td><td>K </td><td>Stockfelt et al. 2012</td><td>2</td><td>K </td><td>8800</td></tr>\n",
       "\t<tr><td>Volume</td><td>Metal</td><td>266980</td><td>WS</td><td>Li</td><td>Stockfelt et al. 2012</td><td>1</td><td>Li</td><td>NA  </td></tr>\n",
       "\t<tr><td>Volume</td><td>Metal</td><td>266980</td><td>WS</td><td>Pb</td><td>Stockfelt et al. 2012</td><td>1</td><td>Pb</td><td>170 </td></tr>\n",
       "\t<tr><td>Volume</td><td>Metal</td><td>266980</td><td>WS</td><td>Pb</td><td>Stockfelt et al. 2012</td><td>2</td><td>Pb</td><td>400 </td></tr>\n",
       "\t<tr><td>Volume</td><td>Metal</td><td>266980</td><td>WS</td><td>Rb</td><td>Stockfelt et al. 2012</td><td>1</td><td>Rb</td><td>73  </td></tr>\n",
       "</tbody>\n",
       "</table>\n"
      ],
      "text/latex": [
       "A tibble: 6 × 9\n",
       "\\begin{tabular}{lllllllll}\n",
       " Metric & Class & HAWC\\_ID & Sample & Name & Study & Replicate & DTXSID & Value\\\\\n",
       " <chr> & <chr> & <dbl> & <chr> & <chr> & <chr> & <dbl> & <chr> & <chr>\\\\\n",
       "\\hline\n",
       "\t Volume & Metal & 266980 & WS & K  & Stockfelt et al. 2012 & 1 & K  & 9700\\\\\n",
       "\t Volume & Metal & 266980 & WS & K  & Stockfelt et al. 2012 & 2 & K  & 8800\\\\\n",
       "\t Volume & Metal & 266980 & WS & Li & Stockfelt et al. 2012 & 1 & Li & NA  \\\\\n",
       "\t Volume & Metal & 266980 & WS & Pb & Stockfelt et al. 2012 & 1 & Pb & 170 \\\\\n",
       "\t Volume & Metal & 266980 & WS & Pb & Stockfelt et al. 2012 & 2 & Pb & 400 \\\\\n",
       "\t Volume & Metal & 266980 & WS & Rb & Stockfelt et al. 2012 & 1 & Rb & 73  \\\\\n",
       "\\end{tabular}\n"
      ],
      "text/markdown": [
       "\n",
       "A tibble: 6 × 9\n",
       "\n",
       "| Metric &lt;chr&gt; | Class &lt;chr&gt; | HAWC_ID &lt;dbl&gt; | Sample &lt;chr&gt; | Name &lt;chr&gt; | Study &lt;chr&gt; | Replicate &lt;dbl&gt; | DTXSID &lt;chr&gt; | Value &lt;chr&gt; |\n",
       "|---|---|---|---|---|---|---|---|---|\n",
       "| Volume | Metal | 266980 | WS | K  | Stockfelt et al. 2012 | 1 | K  | 9700 |\n",
       "| Volume | Metal | 266980 | WS | K  | Stockfelt et al. 2012 | 2 | K  | 8800 |\n",
       "| Volume | Metal | 266980 | WS | Li | Stockfelt et al. 2012 | 1 | Li | NA   |\n",
       "| Volume | Metal | 266980 | WS | Pb | Stockfelt et al. 2012 | 1 | Pb | 170  |\n",
       "| Volume | Metal | 266980 | WS | Pb | Stockfelt et al. 2012 | 2 | Pb | 400  |\n",
       "| Volume | Metal | 266980 | WS | Rb | Stockfelt et al. 2012 | 1 | Rb | 73   |\n",
       "\n"
      ],
      "text/plain": [
       "  Metric Class HAWC_ID Sample Name Study                 Replicate DTXSID Value\n",
       "1 Volume Metal 266980  WS     K    Stockfelt et al. 2012 1         K      9700 \n",
       "2 Volume Metal 266980  WS     K    Stockfelt et al. 2012 2         K      8800 \n",
       "3 Volume Metal 266980  WS     Li   Stockfelt et al. 2012 1         Li     NA   \n",
       "4 Volume Metal 266980  WS     Pb   Stockfelt et al. 2012 1         Pb     170  \n",
       "5 Volume Metal 266980  WS     Pb   Stockfelt et al. 2012 2         Pb     400  \n",
       "6 Volume Metal 266980  WS     Rb   Stockfelt et al. 2012 1         Rb     73   "
      ]
     },
     "metadata": {},
     "output_type": "display_data"
    }
   ],
   "source": [
    "filter2_df = inner_join(study_type_presence_df[,1:3], filter1_df)\n",
    "\n",
    "head(filter2_df)"
   ]
  },
  {
   "cell_type": "code",
   "execution_count": 13,
   "id": "b5090a5d-09e8-4f61-a732-6d338c340e90",
   "metadata": {},
   "outputs": [
    {
     "data": {
      "text/html": [
       "<style>\n",
       ".list-inline {list-style: none; margin:0; padding: 0}\n",
       ".list-inline>li {display: inline-block}\n",
       ".list-inline>li:not(:last-child)::after {content: \"\\00b7\"; padding: 0 .5ex}\n",
       "</style>\n",
       "<ol class=list-inline><li>4829</li><li>9</li></ol>\n"
      ],
      "text/latex": [
       "\\begin{enumerate*}\n",
       "\\item 4829\n",
       "\\item 9\n",
       "\\end{enumerate*}\n"
      ],
      "text/markdown": [
       "1. 4829\n",
       "2. 9\n",
       "\n",
       "\n"
      ],
      "text/plain": [
       "[1] 4829    9"
      ]
     },
     "metadata": {},
     "output_type": "display_data"
    },
    {
     "data": {
      "text/html": [
       "<style>\n",
       ".list-inline {list-style: none; margin:0; padding: 0}\n",
       ".list-inline>li {display: inline-block}\n",
       ".list-inline>li:not(:last-child)::after {content: \"\\00b7\"; padding: 0 .5ex}\n",
       "</style>\n",
       "<ol class=list-inline><li>4804</li><li>9</li></ol>\n"
      ],
      "text/latex": [
       "\\begin{enumerate*}\n",
       "\\item 4804\n",
       "\\item 9\n",
       "\\end{enumerate*}\n"
      ],
      "text/markdown": [
       "1. 4804\n",
       "2. 9\n",
       "\n",
       "\n"
      ],
      "text/plain": [
       "[1] 4804    9"
      ]
     },
     "metadata": {},
     "output_type": "display_data"
    }
   ],
   "source": [
    "dim(filter1_df)\n",
    "dim(filter2_df)"
   ]
  },
  {
   "cell_type": "markdown",
   "id": "f1a9197d-f07d-4082-97d0-4c15b3649530",
   "metadata": {},
   "source": [
    "299 more records were removed."
   ]
  },
  {
   "cell_type": "markdown",
   "id": "0ac78909-f866-4a63-a3fa-f9c8390f883a",
   "metadata": {},
   "source": [
    "# Filter #4: Chemical/Metal Background Filter\n",
    "\n",
    "In the intial filter, WS and WF samples were combined. However, this time variables (ie. metal or chemical) will be split based on their `Metric` (ie. volume or weight) and then retained if that variable is found in both woodsmoke and wildfire samples within volume or weight samples."
   ]
  },
  {
   "cell_type": "code",
   "execution_count": 14,
   "id": "89bb63c0-0315-45a6-b462-7a1517c9ca36",
   "metadata": {},
   "outputs": [],
   "source": [
    "split_filtered_df = filter2_df %>%\n",
    "    group_by(Sample, Metric) %>%\n",
    "    group_split\n",
    "\n",
    "split_ws_vol_df = split_filtered_df[[3]]\n",
    "split_ws_weight_df = split_filtered_df[[4]]\n",
    "split_wf_vol_df = split_filtered_df[[1]]\n",
    "split_wf_weight_df = split_filtered_df[[2]]"
   ]
  },
  {
   "cell_type": "code",
   "execution_count": 15,
   "id": "2cecba03-59a4-4e90-8f45-78ca4911fff8",
   "metadata": {},
   "outputs": [
    {
     "data": {
      "text/html": [
       "98"
      ],
      "text/latex": [
       "98"
      ],
      "text/markdown": [
       "98"
      ],
      "text/plain": [
       "[1] 98"
      ]
     },
     "metadata": {},
     "output_type": "display_data"
    },
    {
     "data": {
      "text/html": [
       "68"
      ],
      "text/latex": [
       "68"
      ],
      "text/markdown": [
       "68"
      ],
      "text/plain": [
       "[1] 68"
      ]
     },
     "metadata": {},
     "output_type": "display_data"
    },
    {
     "data": {
      "text/html": [
       "82"
      ],
      "text/latex": [
       "82"
      ],
      "text/markdown": [
       "82"
      ],
      "text/plain": [
       "[1] 82"
      ]
     },
     "metadata": {},
     "output_type": "display_data"
    },
    {
     "data": {
      "text/html": [
       "70"
      ],
      "text/latex": [
       "70"
      ],
      "text/markdown": [
       "70"
      ],
      "text/plain": [
       "[1] 70"
      ]
     },
     "metadata": {},
     "output_type": "display_data"
    }
   ],
   "source": [
    "# seeing how many unique variables are in each df and if they're consistent in each file\n",
    "length(unique(split_ws_vol_df$Name))\n",
    "length(unique(split_wf_vol_df$Name))\n",
    "length(unique(split_ws_weight_df$Name))\n",
    "length(unique(split_wf_weight_df$Name))"
   ]
  },
  {
   "cell_type": "code",
   "execution_count": 16,
   "id": "1268b1ed-2523-443e-8071-ee5512082aca",
   "metadata": {},
   "outputs": [
    {
     "data": {
      "text/html": [
       "33"
      ],
      "text/latex": [
       "33"
      ],
      "text/markdown": [
       "33"
      ],
      "text/plain": [
       "[1] 33"
      ]
     },
     "metadata": {},
     "output_type": "display_data"
    },
    {
     "data": {
      "text/html": [
       "33"
      ],
      "text/latex": [
       "33"
      ],
      "text/markdown": [
       "33"
      ],
      "text/plain": [
       "[1] 33"
      ]
     },
     "metadata": {},
     "output_type": "display_data"
    },
    {
     "data": {
      "text/html": [
       "31"
      ],
      "text/latex": [
       "31"
      ],
      "text/markdown": [
       "31"
      ],
      "text/plain": [
       "[1] 31"
      ]
     },
     "metadata": {},
     "output_type": "display_data"
    },
    {
     "data": {
      "text/html": [
       "31"
      ],
      "text/latex": [
       "31"
      ],
      "text/markdown": [
       "31"
      ],
      "text/plain": [
       "[1] 31"
      ]
     },
     "metadata": {},
     "output_type": "display_data"
    }
   ],
   "source": [
    "# they're not so first getting variables that are in weight or volume samples\n",
    "consistent_wf_vol_df = split_wf_vol_df %>%\n",
    "    filter(Name %in% unique(split_ws_vol_df$Name))\n",
    "consistent_ws_vol_df = split_ws_vol_df %>%\n",
    "    filter(Name %in% consistent_wf_vol_df$Name)\n",
    "consistent_wf_weight_df = split_wf_weight_df %>%\n",
    "    filter(Name %in% unique(split_ws_weight_df$Name))\n",
    "consistent_ws_weight_df = split_ws_weight_df %>%\n",
    "    filter(Name %in% consistent_wf_weight_df$Name)\n",
    "\n",
    "length(unique(consistent_wf_vol_df$Name))\n",
    "length(unique(consistent_ws_vol_df$Name))\n",
    "length(unique(consistent_wf_weight_df$Name))\n",
    "length(unique(consistent_ws_weight_df$Name))"
   ]
  },
  {
   "cell_type": "markdown",
   "id": "cd89d802-380e-4dda-aff6-099b3710daec",
   "metadata": {},
   "source": [
    "There were 98, 68, 94 and 70 woodsmoke weight, woodsmoke volume, wildfire weight, and wildfire volume samples, respectively. 33 variables were common between volume samples and 34 were common between weight records and will be retained."
   ]
  },
  {
   "cell_type": "code",
   "execution_count": 17,
   "id": "461a6731-b974-43f7-adf9-e4bce0e9bccf",
   "metadata": {},
   "outputs": [
    {
     "data": {
      "text/html": [
       "<table class=\"dataframe\">\n",
       "<caption>A tibble: 6 × 9</caption>\n",
       "<thead>\n",
       "\t<tr><th scope=col>Metric</th><th scope=col>Class</th><th scope=col>HAWC_ID</th><th scope=col>Sample</th><th scope=col>Name</th><th scope=col>Study</th><th scope=col>Replicate</th><th scope=col>DTXSID</th><th scope=col>Value</th></tr>\n",
       "\t<tr><th scope=col>&lt;chr&gt;</th><th scope=col>&lt;chr&gt;</th><th scope=col>&lt;dbl&gt;</th><th scope=col>&lt;chr&gt;</th><th scope=col>&lt;chr&gt;</th><th scope=col>&lt;chr&gt;</th><th scope=col>&lt;dbl&gt;</th><th scope=col>&lt;chr&gt;</th><th scope=col>&lt;chr&gt;</th></tr>\n",
       "</thead>\n",
       "<tbody>\n",
       "\t<tr><td>Volume</td><td>Metal</td><td>266980</td><td>WS</td><td>K </td><td>Stockfelt et al. 2012</td><td>1</td><td>K </td><td>9700 </td></tr>\n",
       "\t<tr><td>Volume</td><td>Metal</td><td>266980</td><td>WS</td><td>K </td><td>Stockfelt et al. 2012</td><td>2</td><td>K </td><td>8800 </td></tr>\n",
       "\t<tr><td>Volume</td><td>Metal</td><td>266980</td><td>WS</td><td>Li</td><td>Stockfelt et al. 2012</td><td>1</td><td>Li</td><td>NA   </td></tr>\n",
       "\t<tr><td>Volume</td><td>Metal</td><td>266980</td><td>WS</td><td>Rb</td><td>Stockfelt et al. 2012</td><td>1</td><td>Rb</td><td>73   </td></tr>\n",
       "\t<tr><td>Volume</td><td>Metal</td><td>266980</td><td>WS</td><td>Rb</td><td>Stockfelt et al. 2012</td><td>2</td><td>Rb</td><td>105  </td></tr>\n",
       "\t<tr><td>Volume</td><td>Metal</td><td>266987</td><td>WS</td><td>Ca</td><td>Seagrave 2005        </td><td>1</td><td>Ca</td><td>49200</td></tr>\n",
       "</tbody>\n",
       "</table>\n"
      ],
      "text/latex": [
       "A tibble: 6 × 9\n",
       "\\begin{tabular}{lllllllll}\n",
       " Metric & Class & HAWC\\_ID & Sample & Name & Study & Replicate & DTXSID & Value\\\\\n",
       " <chr> & <chr> & <dbl> & <chr> & <chr> & <chr> & <dbl> & <chr> & <chr>\\\\\n",
       "\\hline\n",
       "\t Volume & Metal & 266980 & WS & K  & Stockfelt et al. 2012 & 1 & K  & 9700 \\\\\n",
       "\t Volume & Metal & 266980 & WS & K  & Stockfelt et al. 2012 & 2 & K  & 8800 \\\\\n",
       "\t Volume & Metal & 266980 & WS & Li & Stockfelt et al. 2012 & 1 & Li & NA   \\\\\n",
       "\t Volume & Metal & 266980 & WS & Rb & Stockfelt et al. 2012 & 1 & Rb & 73   \\\\\n",
       "\t Volume & Metal & 266980 & WS & Rb & Stockfelt et al. 2012 & 2 & Rb & 105  \\\\\n",
       "\t Volume & Metal & 266987 & WS & Ca & Seagrave 2005         & 1 & Ca & 49200\\\\\n",
       "\\end{tabular}\n"
      ],
      "text/markdown": [
       "\n",
       "A tibble: 6 × 9\n",
       "\n",
       "| Metric &lt;chr&gt; | Class &lt;chr&gt; | HAWC_ID &lt;dbl&gt; | Sample &lt;chr&gt; | Name &lt;chr&gt; | Study &lt;chr&gt; | Replicate &lt;dbl&gt; | DTXSID &lt;chr&gt; | Value &lt;chr&gt; |\n",
       "|---|---|---|---|---|---|---|---|---|\n",
       "| Volume | Metal | 266980 | WS | K  | Stockfelt et al. 2012 | 1 | K  | 9700  |\n",
       "| Volume | Metal | 266980 | WS | K  | Stockfelt et al. 2012 | 2 | K  | 8800  |\n",
       "| Volume | Metal | 266980 | WS | Li | Stockfelt et al. 2012 | 1 | Li | NA    |\n",
       "| Volume | Metal | 266980 | WS | Rb | Stockfelt et al. 2012 | 1 | Rb | 73    |\n",
       "| Volume | Metal | 266980 | WS | Rb | Stockfelt et al. 2012 | 2 | Rb | 105   |\n",
       "| Volume | Metal | 266987 | WS | Ca | Seagrave 2005         | 1 | Ca | 49200 |\n",
       "\n"
      ],
      "text/plain": [
       "  Metric Class HAWC_ID Sample Name Study                 Replicate DTXSID Value\n",
       "1 Volume Metal 266980  WS     K    Stockfelt et al. 2012 1         K      9700 \n",
       "2 Volume Metal 266980  WS     K    Stockfelt et al. 2012 2         K      8800 \n",
       "3 Volume Metal 266980  WS     Li   Stockfelt et al. 2012 1         Li     NA   \n",
       "4 Volume Metal 266980  WS     Rb   Stockfelt et al. 2012 1         Rb     73   \n",
       "5 Volume Metal 266980  WS     Rb   Stockfelt et al. 2012 2         Rb     105  \n",
       "6 Volume Metal 266987  WS     Ca   Seagrave 2005         1         Ca     49200"
      ]
     },
     "metadata": {},
     "output_type": "display_data"
    }
   ],
   "source": [
    "# recombining data\n",
    "vol_df = rbind(consistent_ws_vol_df, consistent_wf_vol_df)\n",
    "weight_df = rbind(consistent_ws_weight_df, consistent_wf_weight_df)\n",
    "\n",
    "head(vol_df)"
   ]
  },
  {
   "cell_type": "markdown",
   "id": "12249f65-761e-4dbc-8231-8c455e6d3120",
   "metadata": {},
   "source": [
    "# Square Root Imputation\n",
    "\n",
    "Taking the square root of the min value to impute MNAR data."
   ]
  },
  {
   "cell_type": "code",
   "execution_count": 18,
   "id": "c4f84ca8-8863-4741-9959-12962607f18f",
   "metadata": {
    "scrolled": true
   },
   "outputs": [
    {
     "data": {
      "text/html": [
       "<table class=\"dataframe\">\n",
       "<caption>A tibble: 2 × 2</caption>\n",
       "<thead>\n",
       "\t<tr><th scope=col>Value</th><th scope=col>n()</th></tr>\n",
       "\t<tr><th scope=col>&lt;chr&gt;</th><th scope=col>&lt;int&gt;</th></tr>\n",
       "</thead>\n",
       "<tbody>\n",
       "\t<tr><td>NA</td><td>5</td></tr>\n",
       "\t<tr><td>ND</td><td>1</td></tr>\n",
       "</tbody>\n",
       "</table>\n"
      ],
      "text/latex": [
       "A tibble: 2 × 2\n",
       "\\begin{tabular}{ll}\n",
       " Value & n()\\\\\n",
       " <chr> & <int>\\\\\n",
       "\\hline\n",
       "\t NA & 5\\\\\n",
       "\t ND & 1\\\\\n",
       "\\end{tabular}\n"
      ],
      "text/markdown": [
       "\n",
       "A tibble: 2 × 2\n",
       "\n",
       "| Value &lt;chr&gt; | n() &lt;int&gt; |\n",
       "|---|---|\n",
       "| NA | 5 |\n",
       "| ND | 1 |\n",
       "\n"
      ],
      "text/plain": [
       "  Value n()\n",
       "1 NA    5  \n",
       "2 ND    1  "
      ]
     },
     "metadata": {},
     "output_type": "display_data"
    },
    {
     "data": {
      "text/html": [
       "<table class=\"dataframe\">\n",
       "<caption>A tibble: 2 × 2</caption>\n",
       "<thead>\n",
       "\t<tr><th scope=col>Value</th><th scope=col>n()</th></tr>\n",
       "\t<tr><th scope=col>&lt;chr&gt;</th><th scope=col>&lt;int&gt;</th></tr>\n",
       "</thead>\n",
       "<tbody>\n",
       "\t<tr><td>NA</td><td>226</td></tr>\n",
       "\t<tr><td>ND</td><td> 74</td></tr>\n",
       "</tbody>\n",
       "</table>\n"
      ],
      "text/latex": [
       "A tibble: 2 × 2\n",
       "\\begin{tabular}{ll}\n",
       " Value & n()\\\\\n",
       " <chr> & <int>\\\\\n",
       "\\hline\n",
       "\t NA & 226\\\\\n",
       "\t ND &  74\\\\\n",
       "\\end{tabular}\n"
      ],
      "text/markdown": [
       "\n",
       "A tibble: 2 × 2\n",
       "\n",
       "| Value &lt;chr&gt; | n() &lt;int&gt; |\n",
       "|---|---|\n",
       "| NA | 226 |\n",
       "| ND |  74 |\n",
       "\n"
      ],
      "text/plain": [
       "  Value n()\n",
       "1 NA    226\n",
       "2 ND     74"
      ]
     },
     "metadata": {},
     "output_type": "display_data"
    }
   ],
   "source": [
    "# first determining number of ND and NA values in each df\n",
    "vol_df %>%\n",
    "    filter(Value %in% c('NA', 'ND')) %>%\n",
    "    group_by(Value) %>%\n",
    "    summarize(n())\n",
    "\n",
    "weight_df %>%\n",
    "    filter(Value %in% c('NA', 'ND')) %>%\n",
    "    group_by(Value) %>%\n",
    "    summarize(n())"
   ]
  },
  {
   "cell_type": "code",
   "execution_count": 19,
   "id": "25feeaaa-7ace-4a97-8dc5-4d3b6f23af2c",
   "metadata": {},
   "outputs": [
    {
     "data": {
      "text/html": [
       "<style>\n",
       ".list-inline {list-style: none; margin:0; padding: 0}\n",
       ".list-inline>li {display: inline-block}\n",
       ".list-inline>li:not(:last-child)::after {content: \"\\00b7\"; padding: 0 .5ex}\n",
       "</style>\n",
       "<ol class=list-inline><li>750</li><li>9</li></ol>\n"
      ],
      "text/latex": [
       "\\begin{enumerate*}\n",
       "\\item 750\n",
       "\\item 9\n",
       "\\end{enumerate*}\n"
      ],
      "text/markdown": [
       "1. 750\n",
       "2. 9\n",
       "\n",
       "\n"
      ],
      "text/plain": [
       "[1] 750   9"
      ]
     },
     "metadata": {},
     "output_type": "display_data"
    },
    {
     "data": {
      "text/html": [
       "<style>\n",
       ".list-inline {list-style: none; margin:0; padding: 0}\n",
       ".list-inline>li {display: inline-block}\n",
       ".list-inline>li:not(:last-child)::after {content: \"\\00b7\"; padding: 0 .5ex}\n",
       "</style>\n",
       "<ol class=list-inline><li>1614</li><li>9</li></ol>\n"
      ],
      "text/latex": [
       "\\begin{enumerate*}\n",
       "\\item 1614\n",
       "\\item 9\n",
       "\\end{enumerate*}\n"
      ],
      "text/markdown": [
       "1. 1614\n",
       "2. 9\n",
       "\n",
       "\n"
      ],
      "text/plain": [
       "[1] 1614    9"
      ]
     },
     "metadata": {},
     "output_type": "display_data"
    }
   ],
   "source": [
    "dim(vol_df)\n",
    "dim(weight_df)"
   ]
  },
  {
   "cell_type": "code",
   "execution_count": 20,
   "id": "21e2dbe6-cac4-49c8-bd4f-d33282fad336",
   "metadata": {},
   "outputs": [
    {
     "name": "stderr",
     "output_type": "stream",
     "text": [
      "\u001b[1m\u001b[22mJoining with `by = join_by(Metric, Class, HAWC_ID, Sample, Name, Study,\n",
      "Replicate, DTXSID, Value)`\n",
      "\u001b[1m\u001b[22mJoining with `by = join_by(Metric, Class, HAWC_ID, Sample, Name, Study,\n",
      "Replicate, DTXSID, Value)`\n",
      "Warning message:\n",
      "“NAs introduced by coercion”\n",
      "Warning message:\n",
      "“NAs introduced by coercion”\n",
      "Warning message:\n",
      "“NAs introduced by coercion”\n",
      "Warning message:\n",
      "“NAs introduced by coercion”\n"
     ]
    },
    {
     "data": {
      "text/html": [
       "<table class=\"dataframe\">\n",
       "<caption>A tibble: 6 × 9</caption>\n",
       "<thead>\n",
       "\t<tr><th scope=col>HAWC_ID</th><th scope=col>Metric</th><th scope=col>Sample</th><th scope=col>Study</th><th scope=col>Replicate</th><th scope=col>Class</th><th scope=col>DTXSID</th><th scope=col>Name</th><th scope=col>Value</th></tr>\n",
       "\t<tr><th scope=col>&lt;dbl&gt;</th><th scope=col>&lt;chr&gt;</th><th scope=col>&lt;chr&gt;</th><th scope=col>&lt;chr&gt;</th><th scope=col>&lt;dbl&gt;</th><th scope=col>&lt;chr&gt;</th><th scope=col>&lt;chr&gt;</th><th scope=col>&lt;chr&gt;</th><th scope=col>&lt;dbl&gt;</th></tr>\n",
       "</thead>\n",
       "<tbody>\n",
       "\t<tr><td>267105</td><td>Weight</td><td>WS</td><td>Danielsen et al. 2011</td><td>1</td><td>Metal</td><td>Cr</td><td>Cr</td><td>  21.4</td></tr>\n",
       "\t<tr><td>267105</td><td>Weight</td><td>WS</td><td>Danielsen et al. 2011</td><td>2</td><td>Metal</td><td>Cr</td><td>Cr</td><td>  21.3</td></tr>\n",
       "\t<tr><td>267105</td><td>Weight</td><td>WS</td><td>Danielsen et al. 2011</td><td>1</td><td>Metal</td><td>Cu</td><td>Cu</td><td>  65.6</td></tr>\n",
       "\t<tr><td>267105</td><td>Weight</td><td>WS</td><td>Danielsen et al. 2011</td><td>2</td><td>Metal</td><td>Cu</td><td>Cu</td><td>  34.4</td></tr>\n",
       "\t<tr><td>267105</td><td>Weight</td><td>WS</td><td>Danielsen et al. 2011</td><td>1</td><td>Metal</td><td>Fe</td><td>Fe</td><td>1323.0</td></tr>\n",
       "\t<tr><td>267105</td><td>Weight</td><td>WS</td><td>Danielsen et al. 2011</td><td>2</td><td>Metal</td><td>Fe</td><td>Fe</td><td>1773.0</td></tr>\n",
       "</tbody>\n",
       "</table>\n"
      ],
      "text/latex": [
       "A tibble: 6 × 9\n",
       "\\begin{tabular}{lllllllll}\n",
       " HAWC\\_ID & Metric & Sample & Study & Replicate & Class & DTXSID & Name & Value\\\\\n",
       " <dbl> & <chr> & <chr> & <chr> & <dbl> & <chr> & <chr> & <chr> & <dbl>\\\\\n",
       "\\hline\n",
       "\t 267105 & Weight & WS & Danielsen et al. 2011 & 1 & Metal & Cr & Cr &   21.4\\\\\n",
       "\t 267105 & Weight & WS & Danielsen et al. 2011 & 2 & Metal & Cr & Cr &   21.3\\\\\n",
       "\t 267105 & Weight & WS & Danielsen et al. 2011 & 1 & Metal & Cu & Cu &   65.6\\\\\n",
       "\t 267105 & Weight & WS & Danielsen et al. 2011 & 2 & Metal & Cu & Cu &   34.4\\\\\n",
       "\t 267105 & Weight & WS & Danielsen et al. 2011 & 1 & Metal & Fe & Fe & 1323.0\\\\\n",
       "\t 267105 & Weight & WS & Danielsen et al. 2011 & 2 & Metal & Fe & Fe & 1773.0\\\\\n",
       "\\end{tabular}\n"
      ],
      "text/markdown": [
       "\n",
       "A tibble: 6 × 9\n",
       "\n",
       "| HAWC_ID &lt;dbl&gt; | Metric &lt;chr&gt; | Sample &lt;chr&gt; | Study &lt;chr&gt; | Replicate &lt;dbl&gt; | Class &lt;chr&gt; | DTXSID &lt;chr&gt; | Name &lt;chr&gt; | Value &lt;dbl&gt; |\n",
       "|---|---|---|---|---|---|---|---|---|\n",
       "| 267105 | Weight | WS | Danielsen et al. 2011 | 1 | Metal | Cr | Cr |   21.4 |\n",
       "| 267105 | Weight | WS | Danielsen et al. 2011 | 2 | Metal | Cr | Cr |   21.3 |\n",
       "| 267105 | Weight | WS | Danielsen et al. 2011 | 1 | Metal | Cu | Cu |   65.6 |\n",
       "| 267105 | Weight | WS | Danielsen et al. 2011 | 2 | Metal | Cu | Cu |   34.4 |\n",
       "| 267105 | Weight | WS | Danielsen et al. 2011 | 1 | Metal | Fe | Fe | 1323.0 |\n",
       "| 267105 | Weight | WS | Danielsen et al. 2011 | 2 | Metal | Fe | Fe | 1773.0 |\n",
       "\n"
      ],
      "text/plain": [
       "  HAWC_ID Metric Sample Study                 Replicate Class DTXSID Name\n",
       "1 267105  Weight WS     Danielsen et al. 2011 1         Metal Cr     Cr  \n",
       "2 267105  Weight WS     Danielsen et al. 2011 2         Metal Cr     Cr  \n",
       "3 267105  Weight WS     Danielsen et al. 2011 1         Metal Cu     Cu  \n",
       "4 267105  Weight WS     Danielsen et al. 2011 2         Metal Cu     Cu  \n",
       "5 267105  Weight WS     Danielsen et al. 2011 1         Metal Fe     Fe  \n",
       "6 267105  Weight WS     Danielsen et al. 2011 2         Metal Fe     Fe  \n",
       "  Value \n",
       "1   21.4\n",
       "2   21.3\n",
       "3   65.6\n",
       "4   34.4\n",
       "5 1323.0\n",
       "6 1773.0"
      ]
     },
     "metadata": {},
     "output_type": "display_data"
    }
   ],
   "source": [
    "# creating a df for MAR data\n",
    "mar_weight_df = weight_df %>%\n",
    "    filter(Value == 'NA')\n",
    "mar_vol_df = vol_df %>%\n",
    "    filter(Value == 'NA')\n",
    "\n",
    "preimputed_weight_df = anti_join(weight_df, mar_weight_df) \n",
    "preimputed_vol_df = anti_join(vol_df, mar_vol_df) \n",
    "\n",
    "preimputed_weight_df$Value = as.numeric(preimputed_weight_df$Value)\n",
    "preimputed_vol_df$Value = as.numeric(preimputed_vol_df$Value)\n",
    "mar_weight_df$Value = as.numeric(mar_weight_df$Value)\n",
    "mar_vol_df$Value = as.numeric(mar_vol_df$Value)\n",
    "\n",
    "# reordering cols\n",
    "preimputed_weight_df = preimputed_weight_df[,c(3,1,4,6,7,2,8,5,9)]\n",
    "preimputed_vol_df = preimputed_vol_df[,c(3,1,4,6,7,2,8,5,9)]\n",
    "\n",
    "head(preimputed_weight_df)"
   ]
  },
  {
   "cell_type": "code",
   "execution_count": 21,
   "id": "d661b972-2072-4dea-a918-94209634c3be",
   "metadata": {},
   "outputs": [
    {
     "data": {
      "text/html": [
       "<table class=\"dataframe\">\n",
       "<caption>A tibble: 6 × 9</caption>\n",
       "<thead>\n",
       "\t<tr><th scope=col>HAWC_ID</th><th scope=col>Metric</th><th scope=col>Sample</th><th scope=col>Study</th><th scope=col>Replicate</th><th scope=col>Class</th><th scope=col>DTXSID</th><th scope=col>Name</th><th scope=col>Value</th></tr>\n",
       "\t<tr><th scope=col>&lt;dbl&gt;</th><th scope=col>&lt;chr&gt;</th><th scope=col>&lt;chr&gt;</th><th scope=col>&lt;chr&gt;</th><th scope=col>&lt;dbl&gt;</th><th scope=col>&lt;chr&gt;</th><th scope=col>&lt;chr&gt;</th><th scope=col>&lt;chr&gt;</th><th scope=col>&lt;dbl&gt;</th></tr>\n",
       "</thead>\n",
       "<tbody>\n",
       "\t<tr><td>267105</td><td>Weight</td><td>WS</td><td>Danielsen et al. 2011</td><td>1</td><td>Metal</td><td>Mn</td><td>Mn</td><td>NA</td></tr>\n",
       "\t<tr><td>267105</td><td>Weight</td><td>WS</td><td>Danielsen et al. 2011</td><td>2</td><td>Metal</td><td>Mn</td><td>Mn</td><td>NA</td></tr>\n",
       "\t<tr><td>271638</td><td>Weight</td><td>WS</td><td>Jalava et al. 2012   </td><td>1</td><td>Metal</td><td>Si</td><td>Si</td><td>NA</td></tr>\n",
       "\t<tr><td>271638</td><td>Weight</td><td>WS</td><td>Jalava et al. 2012   </td><td>2</td><td>Metal</td><td>Si</td><td>Si</td><td>NA</td></tr>\n",
       "\t<tr><td>271638</td><td>Weight</td><td>WS</td><td>Jalava et al. 2012   </td><td>3</td><td>Metal</td><td>Si</td><td>Si</td><td>NA</td></tr>\n",
       "\t<tr><td>271638</td><td>Weight</td><td>WS</td><td>Jalava et al. 2012   </td><td>5</td><td>Metal</td><td>Si</td><td>Si</td><td>NA</td></tr>\n",
       "</tbody>\n",
       "</table>\n"
      ],
      "text/latex": [
       "A tibble: 6 × 9\n",
       "\\begin{tabular}{lllllllll}\n",
       " HAWC\\_ID & Metric & Sample & Study & Replicate & Class & DTXSID & Name & Value\\\\\n",
       " <dbl> & <chr> & <chr> & <chr> & <dbl> & <chr> & <chr> & <chr> & <dbl>\\\\\n",
       "\\hline\n",
       "\t 267105 & Weight & WS & Danielsen et al. 2011 & 1 & Metal & Mn & Mn & NA\\\\\n",
       "\t 267105 & Weight & WS & Danielsen et al. 2011 & 2 & Metal & Mn & Mn & NA\\\\\n",
       "\t 271638 & Weight & WS & Jalava et al. 2012    & 1 & Metal & Si & Si & NA\\\\\n",
       "\t 271638 & Weight & WS & Jalava et al. 2012    & 2 & Metal & Si & Si & NA\\\\\n",
       "\t 271638 & Weight & WS & Jalava et al. 2012    & 3 & Metal & Si & Si & NA\\\\\n",
       "\t 271638 & Weight & WS & Jalava et al. 2012    & 5 & Metal & Si & Si & NA\\\\\n",
       "\\end{tabular}\n"
      ],
      "text/markdown": [
       "\n",
       "A tibble: 6 × 9\n",
       "\n",
       "| HAWC_ID &lt;dbl&gt; | Metric &lt;chr&gt; | Sample &lt;chr&gt; | Study &lt;chr&gt; | Replicate &lt;dbl&gt; | Class &lt;chr&gt; | DTXSID &lt;chr&gt; | Name &lt;chr&gt; | Value &lt;dbl&gt; |\n",
       "|---|---|---|---|---|---|---|---|---|\n",
       "| 267105 | Weight | WS | Danielsen et al. 2011 | 1 | Metal | Mn | Mn | NA |\n",
       "| 267105 | Weight | WS | Danielsen et al. 2011 | 2 | Metal | Mn | Mn | NA |\n",
       "| 271638 | Weight | WS | Jalava et al. 2012    | 1 | Metal | Si | Si | NA |\n",
       "| 271638 | Weight | WS | Jalava et al. 2012    | 2 | Metal | Si | Si | NA |\n",
       "| 271638 | Weight | WS | Jalava et al. 2012    | 3 | Metal | Si | Si | NA |\n",
       "| 271638 | Weight | WS | Jalava et al. 2012    | 5 | Metal | Si | Si | NA |\n",
       "\n"
      ],
      "text/plain": [
       "  HAWC_ID Metric Sample Study                 Replicate Class DTXSID Name Value\n",
       "1 267105  Weight WS     Danielsen et al. 2011 1         Metal Mn     Mn   NA   \n",
       "2 267105  Weight WS     Danielsen et al. 2011 2         Metal Mn     Mn   NA   \n",
       "3 271638  Weight WS     Jalava et al. 2012    1         Metal Si     Si   NA   \n",
       "4 271638  Weight WS     Jalava et al. 2012    2         Metal Si     Si   NA   \n",
       "5 271638  Weight WS     Jalava et al. 2012    3         Metal Si     Si   NA   \n",
       "6 271638  Weight WS     Jalava et al. 2012    5         Metal Si     Si   NA   "
      ]
     },
     "metadata": {},
     "output_type": "display_data"
    }
   ],
   "source": [
    "# creating a df for MNAR data\n",
    "mnar_weight_df = preimputed_weight_df %>%\n",
    "    filter(is.na(Value))\n",
    "mnar_vol_df = preimputed_vol_df %>%\n",
    "    filter(is.na(Value))\n",
    "\n",
    "head(mnar_weight_df)"
   ]
  },
  {
   "cell_type": "code",
   "execution_count": 22,
   "id": "067dc934-b139-443d-82f5-5100ec735bc4",
   "metadata": {},
   "outputs": [
    {
     "name": "stderr",
     "output_type": "stream",
     "text": [
      "Warning message:\n",
      "“\u001b[1m\u001b[22mThere was 1 warning in `mutate()`.\n",
      "\u001b[1m\u001b[22m\u001b[36mℹ\u001b[39m In argument: `Value = sqrt(min(filtered_df$Value, na.rm = TRUE))`.\n",
      "Caused by warning in `min()`:\n",
      "\u001b[33m!\u001b[39m no non-missing arguments to min; returning Inf”\n",
      "Warning message:\n",
      "“\u001b[1m\u001b[22mThere was 1 warning in `mutate()`.\n",
      "\u001b[1m\u001b[22m\u001b[36mℹ\u001b[39m In argument: `Value = sqrt(min(filtered_df$Value, na.rm = TRUE))`.\n",
      "Caused by warning in `min()`:\n",
      "\u001b[33m!\u001b[39m no non-missing arguments to min; returning Inf”\n",
      "Warning message:\n",
      "“\u001b[1m\u001b[22mThere was 1 warning in `mutate()`.\n",
      "\u001b[1m\u001b[22m\u001b[36mℹ\u001b[39m In argument: `Value = sqrt(min(filtered_df$Value, na.rm = TRUE))`.\n",
      "Caused by warning in `min()`:\n",
      "\u001b[33m!\u001b[39m no non-missing arguments to min; returning Inf”\n",
      "Warning message:\n",
      "“\u001b[1m\u001b[22mThere was 1 warning in `mutate()`.\n",
      "\u001b[1m\u001b[22m\u001b[36mℹ\u001b[39m In argument: `Value = sqrt(min(filtered_df$Value, na.rm = TRUE))`.\n",
      "Caused by warning in `min()`:\n",
      "\u001b[33m!\u001b[39m no non-missing arguments to min; returning Inf”\n",
      "Warning message:\n",
      "“\u001b[1m\u001b[22mThere was 1 warning in `mutate()`.\n",
      "\u001b[1m\u001b[22m\u001b[36mℹ\u001b[39m In argument: `Value = sqrt(min(filtered_df$Value, na.rm = TRUE))`.\n",
      "Caused by warning in `min()`:\n",
      "\u001b[33m!\u001b[39m no non-missing arguments to min; returning Inf”\n",
      "Warning message:\n",
      "“\u001b[1m\u001b[22mThere was 1 warning in `mutate()`.\n",
      "\u001b[1m\u001b[22m\u001b[36mℹ\u001b[39m In argument: `Value = sqrt(min(filtered_df$Value, na.rm = TRUE))`.\n",
      "Caused by warning in `min()`:\n",
      "\u001b[33m!\u001b[39m no non-missing arguments to min; returning Inf”\n",
      "Warning message:\n",
      "“\u001b[1m\u001b[22mThere was 1 warning in `mutate()`.\n",
      "\u001b[1m\u001b[22m\u001b[36mℹ\u001b[39m In argument: `Value = sqrt(min(filtered_df$Value, na.rm = TRUE))`.\n",
      "Caused by warning in `min()`:\n",
      "\u001b[33m!\u001b[39m no non-missing arguments to min; returning Inf”\n",
      "Warning message:\n",
      "“\u001b[1m\u001b[22mThere was 1 warning in `mutate()`.\n",
      "\u001b[1m\u001b[22m\u001b[36mℹ\u001b[39m In argument: `Value = sqrt(min(filtered_df$Value, na.rm = TRUE))`.\n",
      "Caused by warning in `min()`:\n",
      "\u001b[33m!\u001b[39m no non-missing arguments to min; returning Inf”\n",
      "Warning message:\n",
      "“\u001b[1m\u001b[22mThere was 1 warning in `mutate()`.\n",
      "\u001b[1m\u001b[22m\u001b[36mℹ\u001b[39m In argument: `Value = sqrt(min(filtered_df$Value, na.rm = TRUE))`.\n",
      "Caused by warning in `min()`:\n",
      "\u001b[33m!\u001b[39m no non-missing arguments to min; returning Inf”\n",
      "Warning message:\n",
      "“\u001b[1m\u001b[22mThere was 1 warning in `mutate()`.\n",
      "\u001b[1m\u001b[22m\u001b[36mℹ\u001b[39m In argument: `Value = sqrt(min(filtered_df$Value, na.rm = TRUE))`.\n",
      "Caused by warning in `min()`:\n",
      "\u001b[33m!\u001b[39m no non-missing arguments to min; returning Inf”\n",
      "Warning message:\n",
      "“\u001b[1m\u001b[22mThere was 1 warning in `mutate()`.\n",
      "\u001b[1m\u001b[22m\u001b[36mℹ\u001b[39m In argument: `Value = sqrt(min(filtered_df$Value, na.rm = TRUE))`.\n",
      "Caused by warning in `min()`:\n",
      "\u001b[33m!\u001b[39m no non-missing arguments to min; returning Inf”\n",
      "Warning message:\n",
      "“\u001b[1m\u001b[22mThere was 1 warning in `mutate()`.\n",
      "\u001b[1m\u001b[22m\u001b[36mℹ\u001b[39m In argument: `Value = sqrt(min(filtered_df$Value, na.rm = TRUE))`.\n",
      "Caused by warning in `min()`:\n",
      "\u001b[33m!\u001b[39m no non-missing arguments to min; returning Inf”\n",
      "Warning message:\n",
      "“\u001b[1m\u001b[22mThere was 1 warning in `mutate()`.\n",
      "\u001b[1m\u001b[22m\u001b[36mℹ\u001b[39m In argument: `Value = sqrt(min(filtered_df$Value, na.rm = TRUE))`.\n",
      "Caused by warning in `min()`:\n",
      "\u001b[33m!\u001b[39m no non-missing arguments to min; returning Inf”\n",
      "Warning message:\n",
      "“\u001b[1m\u001b[22mThere was 1 warning in `mutate()`.\n",
      "\u001b[1m\u001b[22m\u001b[36mℹ\u001b[39m In argument: `Value = sqrt(min(filtered_df$Value, na.rm = TRUE))`.\n",
      "Caused by warning in `min()`:\n",
      "\u001b[33m!\u001b[39m no non-missing arguments to min; returning Inf”\n",
      "Warning message:\n",
      "“\u001b[1m\u001b[22mThere was 1 warning in `mutate()`.\n",
      "\u001b[1m\u001b[22m\u001b[36mℹ\u001b[39m In argument: `Value = sqrt(min(filtered_df$Value, na.rm = TRUE))`.\n",
      "Caused by warning in `min()`:\n",
      "\u001b[33m!\u001b[39m no non-missing arguments to min; returning Inf”\n",
      "Warning message:\n",
      "“\u001b[1m\u001b[22mThere was 1 warning in `mutate()`.\n",
      "\u001b[1m\u001b[22m\u001b[36mℹ\u001b[39m In argument: `Value = sqrt(min(filtered_df$Value, na.rm = TRUE))`.\n",
      "Caused by warning in `min()`:\n",
      "\u001b[33m!\u001b[39m no non-missing arguments to min; returning Inf”\n",
      "Warning message:\n",
      "“\u001b[1m\u001b[22mThere was 1 warning in `mutate()`.\n",
      "\u001b[1m\u001b[22m\u001b[36mℹ\u001b[39m In argument: `Value = sqrt(min(filtered_df$Value, na.rm = TRUE))`.\n",
      "Caused by warning in `min()`:\n",
      "\u001b[33m!\u001b[39m no non-missing arguments to min; returning Inf”\n",
      "Warning message:\n",
      "“\u001b[1m\u001b[22mThere was 1 warning in `mutate()`.\n",
      "\u001b[1m\u001b[22m\u001b[36mℹ\u001b[39m In argument: `Value = sqrt(min(filtered_df$Value, na.rm = TRUE))`.\n",
      "Caused by warning in `min()`:\n",
      "\u001b[33m!\u001b[39m no non-missing arguments to min; returning Inf”\n",
      "Warning message:\n",
      "“\u001b[1m\u001b[22mThere was 1 warning in `mutate()`.\n",
      "\u001b[1m\u001b[22m\u001b[36mℹ\u001b[39m In argument: `Value = sqrt(min(filtered_df$Value, na.rm = TRUE))`.\n",
      "Caused by warning in `min()`:\n",
      "\u001b[33m!\u001b[39m no non-missing arguments to min; returning Inf”\n",
      "Warning message:\n",
      "“\u001b[1m\u001b[22mThere was 1 warning in `mutate()`.\n",
      "\u001b[1m\u001b[22m\u001b[36mℹ\u001b[39m In argument: `Value = sqrt(min(filtered_df$Value, na.rm = TRUE))`.\n",
      "Caused by warning in `min()`:\n",
      "\u001b[33m!\u001b[39m no non-missing arguments to min; returning Inf”\n",
      "Warning message:\n",
      "“\u001b[1m\u001b[22mThere was 1 warning in `mutate()`.\n",
      "\u001b[1m\u001b[22m\u001b[36mℹ\u001b[39m In argument: `Value = sqrt(min(filtered_df$Value, na.rm = TRUE))`.\n",
      "Caused by warning in `min()`:\n",
      "\u001b[33m!\u001b[39m no non-missing arguments to min; returning Inf”\n",
      "Warning message:\n",
      "“\u001b[1m\u001b[22mThere was 1 warning in `mutate()`.\n",
      "\u001b[1m\u001b[22m\u001b[36mℹ\u001b[39m In argument: `Value = sqrt(min(filtered_df$Value, na.rm = TRUE))`.\n",
      "Caused by warning in `min()`:\n",
      "\u001b[33m!\u001b[39m no non-missing arguments to min; returning Inf”\n",
      "Warning message:\n",
      "“\u001b[1m\u001b[22mThere was 1 warning in `mutate()`.\n",
      "\u001b[1m\u001b[22m\u001b[36mℹ\u001b[39m In argument: `Value = sqrt(min(filtered_df$Value, na.rm = TRUE))`.\n",
      "Caused by warning in `min()`:\n",
      "\u001b[33m!\u001b[39m no non-missing arguments to min; returning Inf”\n",
      "Warning message:\n",
      "“\u001b[1m\u001b[22mThere was 1 warning in `mutate()`.\n",
      "\u001b[1m\u001b[22m\u001b[36mℹ\u001b[39m In argument: `Value = sqrt(min(filtered_df$Value, na.rm = TRUE))`.\n",
      "Caused by warning in `min()`:\n",
      "\u001b[33m!\u001b[39m no non-missing arguments to min; returning Inf”\n",
      "Warning message:\n",
      "“\u001b[1m\u001b[22mThere was 1 warning in `mutate()`.\n",
      "\u001b[1m\u001b[22m\u001b[36mℹ\u001b[39m In argument: `Value = sqrt(min(filtered_df$Value, na.rm = TRUE))`.\n",
      "Caused by warning in `min()`:\n",
      "\u001b[33m!\u001b[39m no non-missing arguments to min; returning Inf”\n",
      "Warning message:\n",
      "“\u001b[1m\u001b[22mThere was 1 warning in `mutate()`.\n",
      "\u001b[1m\u001b[22m\u001b[36mℹ\u001b[39m In argument: `Value = sqrt(min(filtered_df$Value, na.rm = TRUE))`.\n",
      "Caused by warning in `min()`:\n",
      "\u001b[33m!\u001b[39m no non-missing arguments to min; returning Inf”\n",
      "Warning message:\n",
      "“\u001b[1m\u001b[22mThere was 1 warning in `mutate()`.\n",
      "\u001b[1m\u001b[22m\u001b[36mℹ\u001b[39m In argument: `Value = sqrt(min(filtered_df$Value, na.rm = TRUE))`.\n",
      "Caused by warning in `min()`:\n",
      "\u001b[33m!\u001b[39m no non-missing arguments to min; returning Inf”\n",
      "Warning message:\n",
      "“\u001b[1m\u001b[22mThere was 1 warning in `mutate()`.\n",
      "\u001b[1m\u001b[22m\u001b[36mℹ\u001b[39m In argument: `Value = sqrt(min(filtered_df$Value, na.rm = TRUE))`.\n",
      "Caused by warning in `min()`:\n",
      "\u001b[33m!\u001b[39m no non-missing arguments to min; returning Inf”\n",
      "Warning message:\n",
      "“\u001b[1m\u001b[22mThere was 1 warning in `mutate()`.\n",
      "\u001b[1m\u001b[22m\u001b[36mℹ\u001b[39m In argument: `Value = sqrt(min(filtered_df$Value, na.rm = TRUE))`.\n",
      "Caused by warning in `min()`:\n",
      "\u001b[33m!\u001b[39m no non-missing arguments to min; returning Inf”\n",
      "Warning message:\n",
      "“\u001b[1m\u001b[22mThere was 1 warning in `mutate()`.\n",
      "\u001b[1m\u001b[22m\u001b[36mℹ\u001b[39m In argument: `Value = sqrt(min(filtered_df$Value, na.rm = TRUE))`.\n",
      "Caused by warning in `min()`:\n",
      "\u001b[33m!\u001b[39m no non-missing arguments to min; returning Inf”\n"
     ]
    },
    {
     "data": {
      "text/html": [
       "<table class=\"dataframe\">\n",
       "<caption>A tibble: 6 × 9</caption>\n",
       "<thead>\n",
       "\t<tr><th scope=col>HAWC_ID</th><th scope=col>Metric</th><th scope=col>Sample</th><th scope=col>Study</th><th scope=col>Replicate</th><th scope=col>Class</th><th scope=col>DTXSID</th><th scope=col>Name</th><th scope=col>Value</th></tr>\n",
       "\t<tr><th scope=col>&lt;dbl&gt;</th><th scope=col>&lt;chr&gt;</th><th scope=col>&lt;chr&gt;</th><th scope=col>&lt;chr&gt;</th><th scope=col>&lt;dbl&gt;</th><th scope=col>&lt;chr&gt;</th><th scope=col>&lt;chr&gt;</th><th scope=col>&lt;chr&gt;</th><th scope=col>&lt;dbl&gt;</th></tr>\n",
       "</thead>\n",
       "<tbody>\n",
       "\t<tr><td>267105</td><td>Weight</td><td>WS</td><td>Danielsen et al. 2011</td><td>1</td><td>Metal</td><td>Mn</td><td>Mn</td><td>        NA</td></tr>\n",
       "\t<tr><td>267105</td><td>Weight</td><td>WS</td><td>Danielsen et al. 2011</td><td>2</td><td>Metal</td><td>Mn</td><td>Mn</td><td>        NA</td></tr>\n",
       "\t<tr><td>271638</td><td>Weight</td><td>WS</td><td>Jalava et al. 2012   </td><td>4</td><td>Metal</td><td>Si</td><td>Si</td><td>14700.0000</td></tr>\n",
       "\t<tr><td>271638</td><td>Weight</td><td>WS</td><td>Jalava et al. 2012   </td><td>1</td><td>Metal</td><td>Si</td><td>Si</td><td>  121.2436</td></tr>\n",
       "\t<tr><td>271638</td><td>Weight</td><td>WS</td><td>Jalava et al. 2012   </td><td>2</td><td>Metal</td><td>Si</td><td>Si</td><td>  121.2436</td></tr>\n",
       "\t<tr><td>271638</td><td>Weight</td><td>WS</td><td>Jalava et al. 2012   </td><td>3</td><td>Metal</td><td>Si</td><td>Si</td><td>  121.2436</td></tr>\n",
       "</tbody>\n",
       "</table>\n"
      ],
      "text/latex": [
       "A tibble: 6 × 9\n",
       "\\begin{tabular}{lllllllll}\n",
       " HAWC\\_ID & Metric & Sample & Study & Replicate & Class & DTXSID & Name & Value\\\\\n",
       " <dbl> & <chr> & <chr> & <chr> & <dbl> & <chr> & <chr> & <chr> & <dbl>\\\\\n",
       "\\hline\n",
       "\t 267105 & Weight & WS & Danielsen et al. 2011 & 1 & Metal & Mn & Mn &         NA\\\\\n",
       "\t 267105 & Weight & WS & Danielsen et al. 2011 & 2 & Metal & Mn & Mn &         NA\\\\\n",
       "\t 271638 & Weight & WS & Jalava et al. 2012    & 4 & Metal & Si & Si & 14700.0000\\\\\n",
       "\t 271638 & Weight & WS & Jalava et al. 2012    & 1 & Metal & Si & Si &   121.2436\\\\\n",
       "\t 271638 & Weight & WS & Jalava et al. 2012    & 2 & Metal & Si & Si &   121.2436\\\\\n",
       "\t 271638 & Weight & WS & Jalava et al. 2012    & 3 & Metal & Si & Si &   121.2436\\\\\n",
       "\\end{tabular}\n"
      ],
      "text/markdown": [
       "\n",
       "A tibble: 6 × 9\n",
       "\n",
       "| HAWC_ID &lt;dbl&gt; | Metric &lt;chr&gt; | Sample &lt;chr&gt; | Study &lt;chr&gt; | Replicate &lt;dbl&gt; | Class &lt;chr&gt; | DTXSID &lt;chr&gt; | Name &lt;chr&gt; | Value &lt;dbl&gt; |\n",
       "|---|---|---|---|---|---|---|---|---|\n",
       "| 267105 | Weight | WS | Danielsen et al. 2011 | 1 | Metal | Mn | Mn |         NA |\n",
       "| 267105 | Weight | WS | Danielsen et al. 2011 | 2 | Metal | Mn | Mn |         NA |\n",
       "| 271638 | Weight | WS | Jalava et al. 2012    | 4 | Metal | Si | Si | 14700.0000 |\n",
       "| 271638 | Weight | WS | Jalava et al. 2012    | 1 | Metal | Si | Si |   121.2436 |\n",
       "| 271638 | Weight | WS | Jalava et al. 2012    | 2 | Metal | Si | Si |   121.2436 |\n",
       "| 271638 | Weight | WS | Jalava et al. 2012    | 3 | Metal | Si | Si |   121.2436 |\n",
       "\n"
      ],
      "text/plain": [
       "  HAWC_ID Metric Sample Study                 Replicate Class DTXSID Name\n",
       "1 267105  Weight WS     Danielsen et al. 2011 1         Metal Mn     Mn  \n",
       "2 267105  Weight WS     Danielsen et al. 2011 2         Metal Mn     Mn  \n",
       "3 271638  Weight WS     Jalava et al. 2012    4         Metal Si     Si  \n",
       "4 271638  Weight WS     Jalava et al. 2012    1         Metal Si     Si  \n",
       "5 271638  Weight WS     Jalava et al. 2012    2         Metal Si     Si  \n",
       "6 271638  Weight WS     Jalava et al. 2012    3         Metal Si     Si  \n",
       "  Value     \n",
       "1         NA\n",
       "2         NA\n",
       "3 14700.0000\n",
       "4   121.2436\n",
       "5   121.2436\n",
       "6   121.2436"
      ]
     },
     "metadata": {},
     "output_type": "display_data"
    }
   ],
   "source": [
    "square_root_imputation = function(mnar_df, preimputed_df){\n",
    "    # \"\"\"\n",
    "    # Imputing MNAR values based on the square root of the minimum concentration for each chemical \n",
    "    # within a study or metal.\n",
    "    \n",
    "    # :param: MNAR dataframe, preimputed dataframe\n",
    "    # :output: a dataframe with imputed values\n",
    "\n",
    "    # \"\"\"\n",
    "\n",
    "    id_df = mnar_df[is.na(mnar_df$Value),]\n",
    "    study_ids = unique(id_df$HAWC_ID)\n",
    "    \n",
    "    imputed_df = data.frame()\n",
    "    for (i in 1:length(id_df$HAWC_ID)){\n",
    "    \n",
    "        filtered_df = preimputed_df %>%\n",
    "            filter(HAWC_ID == id_df$HAWC_ID[i], DTXSID == id_df$DTXSID[i])\n",
    "    \n",
    "        na_df = filtered_df %>%\n",
    "            filter(is.na(Value)) %>%\n",
    "            mutate(Value = sqrt(min(filtered_df$Value, na.rm = TRUE)))\n",
    "    \n",
    "        # combining rows of data\n",
    "        combined_df = rbind(filtered_df %>%\n",
    "            filter(!is.na(Value)), na_df)\n",
    "    \n",
    "        imputed_df = rbind(imputed_df, combined_df) %>%\n",
    "                        unique()\n",
    "    }\n",
    "    return(imputed_df)    \n",
    "    \n",
    "}\n",
    "\n",
    "# calling fn\n",
    "imputed_vol_df = square_root_imputation(mnar_vol_df, preimputed_vol_df) %>%\n",
    "    mutate(Value = ifelse(Value == Inf, NA, Value))\n",
    "imputed_weight_df = square_root_imputation(mnar_weight_df, preimputed_weight_df) %>%\n",
    "    mutate(Value = ifelse(Value == Inf, NA, Value))\n",
    "    \n",
    "head(imputed_weight_df)"
   ]
  },
  {
   "cell_type": "code",
   "execution_count": 23,
   "id": "07854f04-04e7-47e4-8bf0-d5a235651018",
   "metadata": {
    "scrolled": true
   },
   "outputs": [
    {
     "name": "stderr",
     "output_type": "stream",
     "text": [
      "\u001b[1m\u001b[22mJoining with `by = join_by(Metric, Sample, Class, DTXSID)`\n",
      "\u001b[1m\u001b[22mJoining with `by = join_by(Metric, Sample, Class, DTXSID)`\n"
     ]
    },
    {
     "data": {
      "text/html": [
       "<table class=\"dataframe\">\n",
       "<caption>A tibble: 1 × 2</caption>\n",
       "<thead>\n",
       "\t<tr><th scope=col>DTXSID</th><th scope=col>Value</th></tr>\n",
       "\t<tr><th scope=col>&lt;chr&gt;</th><th scope=col>&lt;dbl&gt;</th></tr>\n",
       "</thead>\n",
       "<tbody>\n",
       "\t<tr><td>Li</td><td>1.794436</td></tr>\n",
       "</tbody>\n",
       "</table>\n"
      ],
      "text/latex": [
       "A tibble: 1 × 2\n",
       "\\begin{tabular}{ll}\n",
       " DTXSID & Value\\\\\n",
       " <chr> & <dbl>\\\\\n",
       "\\hline\n",
       "\t Li & 1.794436\\\\\n",
       "\\end{tabular}\n"
      ],
      "text/markdown": [
       "\n",
       "A tibble: 1 × 2\n",
       "\n",
       "| DTXSID &lt;chr&gt; | Value &lt;dbl&gt; |\n",
       "|---|---|\n",
       "| Li | 1.794436 |\n",
       "\n"
      ],
      "text/plain": [
       "  DTXSID Value   \n",
       "1 Li     1.794436"
      ]
     },
     "metadata": {},
     "output_type": "display_data"
    },
    {
     "data": {
      "text/html": [
       "<table class=\"dataframe\">\n",
       "<caption>A tibble: 6 × 2</caption>\n",
       "<thead>\n",
       "\t<tr><th scope=col>DTXSID</th><th scope=col>Value</th></tr>\n",
       "\t<tr><th scope=col>&lt;chr&gt;</th><th scope=col>&lt;dbl&gt;</th></tr>\n",
       "</thead>\n",
       "<tbody>\n",
       "\t<tr><td>Al           </td><td>1.31148770</td></tr>\n",
       "\t<tr><td>Ba           </td><td>1.00000000</td></tr>\n",
       "\t<tr><td>Co           </td><td>0.10000000</td></tr>\n",
       "\t<tr><td>Cr           </td><td>0.31622777</td></tr>\n",
       "\t<tr><td>DTXSID3021774</td><td>0.06033241</td></tr>\n",
       "\t<tr><td>DTXSID5047740</td><td>0.04582576</td></tr>\n",
       "</tbody>\n",
       "</table>\n"
      ],
      "text/latex": [
       "A tibble: 6 × 2\n",
       "\\begin{tabular}{ll}\n",
       " DTXSID & Value\\\\\n",
       " <chr> & <dbl>\\\\\n",
       "\\hline\n",
       "\t Al            & 1.31148770\\\\\n",
       "\t Ba            & 1.00000000\\\\\n",
       "\t Co            & 0.10000000\\\\\n",
       "\t Cr            & 0.31622777\\\\\n",
       "\t DTXSID3021774 & 0.06033241\\\\\n",
       "\t DTXSID5047740 & 0.04582576\\\\\n",
       "\\end{tabular}\n"
      ],
      "text/markdown": [
       "\n",
       "A tibble: 6 × 2\n",
       "\n",
       "| DTXSID &lt;chr&gt; | Value &lt;dbl&gt; |\n",
       "|---|---|\n",
       "| Al            | 1.31148770 |\n",
       "| Ba            | 1.00000000 |\n",
       "| Co            | 0.10000000 |\n",
       "| Cr            | 0.31622777 |\n",
       "| DTXSID3021774 | 0.06033241 |\n",
       "| DTXSID5047740 | 0.04582576 |\n",
       "\n"
      ],
      "text/plain": [
       "  DTXSID        Value     \n",
       "1 Al            1.31148770\n",
       "2 Ba            1.00000000\n",
       "3 Co            0.10000000\n",
       "4 Cr            0.31622777\n",
       "5 DTXSID3021774 0.06033241\n",
       "6 DTXSID5047740 0.04582576"
      ]
     },
     "metadata": {},
     "output_type": "display_data"
    }
   ],
   "source": [
    "# there are still a few variables that didn't have any values to do the square root imputation\n",
    "# their imputed values will be based off of distributions from other studies\n",
    "other_studies_vol_df = semi_join(preimputed_vol_df %>%\n",
    "                filter(!is.na(Value)), imputed_vol_df %>%\n",
    "                               filter(is.na(Value)) %>%\n",
    "    select(2,3,6,7)) %>%\n",
    "    group_by(DTXSID) %>%\n",
    "    summarize(Value = sqrt(min(Value)))\n",
    "\n",
    "other_studies_weight_df = semi_join(preimputed_weight_df %>%\n",
    "                filter(!is.na(Value)), imputed_weight_df %>%\n",
    "                               filter(is.na(Value)) %>%\n",
    "    select(2,3,6,7)) %>%\n",
    "    group_by(DTXSID) %>%\n",
    "    summarize(Value = sqrt(min(Value)))\n",
    "\n",
    "head(other_studies_vol_df)\n",
    "head(other_studies_weight_df)"
   ]
  },
  {
   "cell_type": "code",
   "execution_count": 24,
   "id": "5ccba263-d734-4cdd-a705-b1ae9d6b156f",
   "metadata": {},
   "outputs": [
    {
     "name": "stderr",
     "output_type": "stream",
     "text": [
      "\u001b[1m\u001b[22mJoining with `by = join_by(DTXSID)`\n",
      "\u001b[1m\u001b[22mJoining with `by = join_by(DTXSID)`\n"
     ]
    },
    {
     "data": {
      "text/html": [
       "<table class=\"dataframe\">\n",
       "<caption>A tibble: 6 × 9</caption>\n",
       "<thead>\n",
       "\t<tr><th scope=col>HAWC_ID</th><th scope=col>Metric</th><th scope=col>Sample</th><th scope=col>Study</th><th scope=col>Replicate</th><th scope=col>Class</th><th scope=col>DTXSID</th><th scope=col>Name</th><th scope=col>Value</th></tr>\n",
       "\t<tr><th scope=col>&lt;dbl&gt;</th><th scope=col>&lt;chr&gt;</th><th scope=col>&lt;chr&gt;</th><th scope=col>&lt;chr&gt;</th><th scope=col>&lt;dbl&gt;</th><th scope=col>&lt;chr&gt;</th><th scope=col>&lt;chr&gt;</th><th scope=col>&lt;chr&gt;</th><th scope=col>&lt;dbl&gt;</th></tr>\n",
       "</thead>\n",
       "<tbody>\n",
       "\t<tr><td>271638</td><td>Weight</td><td>WS</td><td>Jalava et al. 2012</td><td>4</td><td>Metal</td><td>Si</td><td>Si</td><td>14700.0000</td></tr>\n",
       "\t<tr><td>271638</td><td>Weight</td><td>WS</td><td>Jalava et al. 2012</td><td>1</td><td>Metal</td><td>Si</td><td>Si</td><td>  121.2436</td></tr>\n",
       "\t<tr><td>271638</td><td>Weight</td><td>WS</td><td>Jalava et al. 2012</td><td>2</td><td>Metal</td><td>Si</td><td>Si</td><td>  121.2436</td></tr>\n",
       "\t<tr><td>271638</td><td>Weight</td><td>WS</td><td>Jalava et al. 2012</td><td>3</td><td>Metal</td><td>Si</td><td>Si</td><td>  121.2436</td></tr>\n",
       "\t<tr><td>271638</td><td>Weight</td><td>WS</td><td>Jalava et al. 2012</td><td>5</td><td>Metal</td><td>Si</td><td>Si</td><td>  121.2436</td></tr>\n",
       "\t<tr><td>271638</td><td>Weight</td><td>WS</td><td>Jalava et al. 2012</td><td>6</td><td>Metal</td><td>Si</td><td>Si</td><td>  121.2436</td></tr>\n",
       "</tbody>\n",
       "</table>\n"
      ],
      "text/latex": [
       "A tibble: 6 × 9\n",
       "\\begin{tabular}{lllllllll}\n",
       " HAWC\\_ID & Metric & Sample & Study & Replicate & Class & DTXSID & Name & Value\\\\\n",
       " <dbl> & <chr> & <chr> & <chr> & <dbl> & <chr> & <chr> & <chr> & <dbl>\\\\\n",
       "\\hline\n",
       "\t 271638 & Weight & WS & Jalava et al. 2012 & 4 & Metal & Si & Si & 14700.0000\\\\\n",
       "\t 271638 & Weight & WS & Jalava et al. 2012 & 1 & Metal & Si & Si &   121.2436\\\\\n",
       "\t 271638 & Weight & WS & Jalava et al. 2012 & 2 & Metal & Si & Si &   121.2436\\\\\n",
       "\t 271638 & Weight & WS & Jalava et al. 2012 & 3 & Metal & Si & Si &   121.2436\\\\\n",
       "\t 271638 & Weight & WS & Jalava et al. 2012 & 5 & Metal & Si & Si &   121.2436\\\\\n",
       "\t 271638 & Weight & WS & Jalava et al. 2012 & 6 & Metal & Si & Si &   121.2436\\\\\n",
       "\\end{tabular}\n"
      ],
      "text/markdown": [
       "\n",
       "A tibble: 6 × 9\n",
       "\n",
       "| HAWC_ID &lt;dbl&gt; | Metric &lt;chr&gt; | Sample &lt;chr&gt; | Study &lt;chr&gt; | Replicate &lt;dbl&gt; | Class &lt;chr&gt; | DTXSID &lt;chr&gt; | Name &lt;chr&gt; | Value &lt;dbl&gt; |\n",
       "|---|---|---|---|---|---|---|---|---|\n",
       "| 271638 | Weight | WS | Jalava et al. 2012 | 4 | Metal | Si | Si | 14700.0000 |\n",
       "| 271638 | Weight | WS | Jalava et al. 2012 | 1 | Metal | Si | Si |   121.2436 |\n",
       "| 271638 | Weight | WS | Jalava et al. 2012 | 2 | Metal | Si | Si |   121.2436 |\n",
       "| 271638 | Weight | WS | Jalava et al. 2012 | 3 | Metal | Si | Si |   121.2436 |\n",
       "| 271638 | Weight | WS | Jalava et al. 2012 | 5 | Metal | Si | Si |   121.2436 |\n",
       "| 271638 | Weight | WS | Jalava et al. 2012 | 6 | Metal | Si | Si |   121.2436 |\n",
       "\n"
      ],
      "text/plain": [
       "  HAWC_ID Metric Sample Study              Replicate Class DTXSID Name\n",
       "1 271638  Weight WS     Jalava et al. 2012 4         Metal Si     Si  \n",
       "2 271638  Weight WS     Jalava et al. 2012 1         Metal Si     Si  \n",
       "3 271638  Weight WS     Jalava et al. 2012 2         Metal Si     Si  \n",
       "4 271638  Weight WS     Jalava et al. 2012 3         Metal Si     Si  \n",
       "5 271638  Weight WS     Jalava et al. 2012 5         Metal Si     Si  \n",
       "6 271638  Weight WS     Jalava et al. 2012 6         Metal Si     Si  \n",
       "  Value     \n",
       "1 14700.0000\n",
       "2   121.2436\n",
       "3   121.2436\n",
       "4   121.2436\n",
       "5   121.2436\n",
       "6   121.2436"
      ]
     },
     "metadata": {},
     "output_type": "display_data"
    }
   ],
   "source": [
    "# removing NAs from the imputed df \n",
    "removed_imputed_vol_df = imputed_vol_df %>%\n",
    "    filter(!is.na(Value))\n",
    "removed_imputed_weight_df = imputed_weight_df %>%\n",
    "    filter(!is.na(Value))\n",
    "\n",
    "# adding in the newly imputed values back in \n",
    "all_imputed_vol_df = left_join(imputed_vol_df %>%\n",
    "        filter(is.na(Value)) %>%\n",
    "        select(-Value), other_studies_vol_df)\n",
    "\n",
    "all_imputed_weight_df = left_join(imputed_weight_df %>%\n",
    "        filter(is.na(Value)) %>%\n",
    "        select(-Value), other_studies_weight_df)\n",
    "\n",
    "all_imputed_vol_df = rbind(removed_imputed_vol_df, all_imputed_vol_df)\n",
    "all_imputed_weight_df = rbind(removed_imputed_weight_df, all_imputed_weight_df)\n",
    "\n",
    "head(all_imputed_weight_df)"
   ]
  },
  {
   "cell_type": "code",
   "execution_count": 25,
   "id": "1e23e74f-00fc-48d5-a263-3df792097fdd",
   "metadata": {},
   "outputs": [
    {
     "name": "stderr",
     "output_type": "stream",
     "text": [
      "\u001b[1m\u001b[22mJoining with `by = join_by(HAWC_ID, Metric, Sample, Study, Replicate, Class,\n",
      "DTXSID, Name)`\n",
      "\u001b[1m\u001b[22mJoining with `by = join_by(HAWC_ID, Metric, Sample, Study, Replicate, Class,\n",
      "DTXSID, Name)`\n"
     ]
    },
    {
     "data": {
      "text/html": [
       "<table class=\"dataframe\">\n",
       "<caption>A tibble: 6 × 9</caption>\n",
       "<thead>\n",
       "\t<tr><th scope=col>HAWC_ID</th><th scope=col>Metric</th><th scope=col>Sample</th><th scope=col>Study</th><th scope=col>Replicate</th><th scope=col>Class</th><th scope=col>DTXSID</th><th scope=col>Name</th><th scope=col>Value</th></tr>\n",
       "\t<tr><th scope=col>&lt;dbl&gt;</th><th scope=col>&lt;chr&gt;</th><th scope=col>&lt;chr&gt;</th><th scope=col>&lt;chr&gt;</th><th scope=col>&lt;dbl&gt;</th><th scope=col>&lt;chr&gt;</th><th scope=col>&lt;chr&gt;</th><th scope=col>&lt;chr&gt;</th><th scope=col>&lt;dbl&gt;</th></tr>\n",
       "</thead>\n",
       "<tbody>\n",
       "\t<tr><td>271638</td><td>Weight</td><td>WS</td><td>Jalava et al. 2012</td><td>4</td><td>Metal</td><td>Si</td><td>Si</td><td>14700.0000</td></tr>\n",
       "\t<tr><td>271638</td><td>Weight</td><td>WS</td><td>Jalava et al. 2012</td><td>1</td><td>Metal</td><td>Si</td><td>Si</td><td>  121.2436</td></tr>\n",
       "\t<tr><td>271638</td><td>Weight</td><td>WS</td><td>Jalava et al. 2012</td><td>2</td><td>Metal</td><td>Si</td><td>Si</td><td>  121.2436</td></tr>\n",
       "\t<tr><td>271638</td><td>Weight</td><td>WS</td><td>Jalava et al. 2012</td><td>3</td><td>Metal</td><td>Si</td><td>Si</td><td>  121.2436</td></tr>\n",
       "\t<tr><td>271638</td><td>Weight</td><td>WS</td><td>Jalava et al. 2012</td><td>5</td><td>Metal</td><td>Si</td><td>Si</td><td>  121.2436</td></tr>\n",
       "\t<tr><td>271638</td><td>Weight</td><td>WS</td><td>Jalava et al. 2012</td><td>6</td><td>Metal</td><td>Si</td><td>Si</td><td>  121.2436</td></tr>\n",
       "</tbody>\n",
       "</table>\n"
      ],
      "text/latex": [
       "A tibble: 6 × 9\n",
       "\\begin{tabular}{lllllllll}\n",
       " HAWC\\_ID & Metric & Sample & Study & Replicate & Class & DTXSID & Name & Value\\\\\n",
       " <dbl> & <chr> & <chr> & <chr> & <dbl> & <chr> & <chr> & <chr> & <dbl>\\\\\n",
       "\\hline\n",
       "\t 271638 & Weight & WS & Jalava et al. 2012 & 4 & Metal & Si & Si & 14700.0000\\\\\n",
       "\t 271638 & Weight & WS & Jalava et al. 2012 & 1 & Metal & Si & Si &   121.2436\\\\\n",
       "\t 271638 & Weight & WS & Jalava et al. 2012 & 2 & Metal & Si & Si &   121.2436\\\\\n",
       "\t 271638 & Weight & WS & Jalava et al. 2012 & 3 & Metal & Si & Si &   121.2436\\\\\n",
       "\t 271638 & Weight & WS & Jalava et al. 2012 & 5 & Metal & Si & Si &   121.2436\\\\\n",
       "\t 271638 & Weight & WS & Jalava et al. 2012 & 6 & Metal & Si & Si &   121.2436\\\\\n",
       "\\end{tabular}\n"
      ],
      "text/markdown": [
       "\n",
       "A tibble: 6 × 9\n",
       "\n",
       "| HAWC_ID &lt;dbl&gt; | Metric &lt;chr&gt; | Sample &lt;chr&gt; | Study &lt;chr&gt; | Replicate &lt;dbl&gt; | Class &lt;chr&gt; | DTXSID &lt;chr&gt; | Name &lt;chr&gt; | Value &lt;dbl&gt; |\n",
       "|---|---|---|---|---|---|---|---|---|\n",
       "| 271638 | Weight | WS | Jalava et al. 2012 | 4 | Metal | Si | Si | 14700.0000 |\n",
       "| 271638 | Weight | WS | Jalava et al. 2012 | 1 | Metal | Si | Si |   121.2436 |\n",
       "| 271638 | Weight | WS | Jalava et al. 2012 | 2 | Metal | Si | Si |   121.2436 |\n",
       "| 271638 | Weight | WS | Jalava et al. 2012 | 3 | Metal | Si | Si |   121.2436 |\n",
       "| 271638 | Weight | WS | Jalava et al. 2012 | 5 | Metal | Si | Si |   121.2436 |\n",
       "| 271638 | Weight | WS | Jalava et al. 2012 | 6 | Metal | Si | Si |   121.2436 |\n",
       "\n"
      ],
      "text/plain": [
       "  HAWC_ID Metric Sample Study              Replicate Class DTXSID Name\n",
       "1 271638  Weight WS     Jalava et al. 2012 4         Metal Si     Si  \n",
       "2 271638  Weight WS     Jalava et al. 2012 1         Metal Si     Si  \n",
       "3 271638  Weight WS     Jalava et al. 2012 2         Metal Si     Si  \n",
       "4 271638  Weight WS     Jalava et al. 2012 3         Metal Si     Si  \n",
       "5 271638  Weight WS     Jalava et al. 2012 5         Metal Si     Si  \n",
       "6 271638  Weight WS     Jalava et al. 2012 6         Metal Si     Si  \n",
       "  Value     \n",
       "1 14700.0000\n",
       "2   121.2436\n",
       "3   121.2436\n",
       "4   121.2436\n",
       "5   121.2436\n",
       "6   121.2436"
      ]
     },
     "metadata": {},
     "output_type": "display_data"
    },
    {
     "data": {
      "text/html": [
       "<style>\n",
       ".list-inline {list-style: none; margin:0; padding: 0}\n",
       ".list-inline>li {display: inline-block}\n",
       ".list-inline>li:not(:last-child)::after {content: \"\\00b7\"; padding: 0 .5ex}\n",
       "</style>\n",
       "<ol class=list-inline><li>750</li><li>9</li></ol>\n"
      ],
      "text/latex": [
       "\\begin{enumerate*}\n",
       "\\item 750\n",
       "\\item 9\n",
       "\\end{enumerate*}\n"
      ],
      "text/markdown": [
       "1. 750\n",
       "2. 9\n",
       "\n",
       "\n"
      ],
      "text/plain": [
       "[1] 750   9"
      ]
     },
     "metadata": {},
     "output_type": "display_data"
    },
    {
     "data": {
      "text/html": [
       "<style>\n",
       ".list-inline {list-style: none; margin:0; padding: 0}\n",
       ".list-inline>li {display: inline-block}\n",
       ".list-inline>li:not(:last-child)::after {content: \"\\00b7\"; padding: 0 .5ex}\n",
       "</style>\n",
       "<ol class=list-inline><li>1614</li><li>9</li></ol>\n"
      ],
      "text/latex": [
       "\\begin{enumerate*}\n",
       "\\item 1614\n",
       "\\item 9\n",
       "\\end{enumerate*}\n"
      ],
      "text/markdown": [
       "1. 1614\n",
       "2. 9\n",
       "\n",
       "\n"
      ],
      "text/plain": [
       "[1] 1614    9"
      ]
     },
     "metadata": {},
     "output_type": "display_data"
    }
   ],
   "source": [
    "# creating 1 df\n",
    "mnar_imputed_vol_df = rbind(#imputed data\n",
    "                               all_imputed_vol_df,\n",
    "                               # adding in MAR data\n",
    "                               mar_vol_df,\n",
    "                               # adding back in non-imputed data\n",
    "                               anti_join(preimputed_vol_df, all_imputed_vol_df[,1:8]))\n",
    "mnar_imputed_weight_df = rbind(# imputed data\n",
    "                               all_imputed_weight_df,\n",
    "                               # adding in MAR data\n",
    "                               mar_weight_df,\n",
    "                               # adding back in non-imputed data\n",
    "                               anti_join(preimputed_weight_df, all_imputed_weight_df[,1:8]))\n",
    "\n",
    "head(mnar_imputed_weight_df)\n",
    "dim(mnar_imputed_vol_df)\n",
    "dim(mnar_imputed_weight_df)"
   ]
  },
  {
   "cell_type": "markdown",
   "id": "4a7e96ae-45f5-4800-8ca1-e46bf264ce17",
   "metadata": {},
   "source": [
    "# Filter #4: Double Checking MAR Records\n",
    "\n",
    "Making sure that when the data is split based on `Class` and transformed into a wide format, we have at least 20% of the records with numeric values for each metal or chemical."
   ]
  },
  {
   "cell_type": "code",
   "execution_count": 26,
   "id": "4c1a1bb0-1a58-4d0d-bd7d-31c8a1ba194f",
   "metadata": {},
   "outputs": [
    {
     "data": {
      "text/html": [
       "<table class=\"dataframe\">\n",
       "<caption>A tibble: 6 × 7</caption>\n",
       "<thead>\n",
       "\t<tr><th scope=col>HAWC_ID</th><th scope=col>Metric</th><th scope=col>Sample</th><th scope=col>Study</th><th scope=col>Class</th><th scope=col>DTXSID</th><th scope=col>Avg_Value</th></tr>\n",
       "\t<tr><th scope=col>&lt;dbl&gt;</th><th scope=col>&lt;chr&gt;</th><th scope=col>&lt;chr&gt;</th><th scope=col>&lt;chr&gt;</th><th scope=col>&lt;chr&gt;</th><th scope=col>&lt;chr&gt;</th><th scope=col>&lt;dbl&gt;</th></tr>\n",
       "</thead>\n",
       "<tbody>\n",
       "\t<tr><td> 993956</td><td>Volume</td><td>WS</td><td>Ihantola et al. 2022 </td><td>Metal</td><td>Li</td><td>1.794436</td></tr>\n",
       "\t<tr><td> 266980</td><td>Volume</td><td>WS</td><td>Stockfelt et al. 2012</td><td>Metal</td><td>Li</td><td>      NA</td></tr>\n",
       "\t<tr><td> 266987</td><td>Volume</td><td>WS</td><td>Seagrave 2005        </td><td>Metal</td><td>Li</td><td>      NA</td></tr>\n",
       "\t<tr><td> 452289</td><td>Volume</td><td>WS</td><td>Rabha 2018           </td><td>Metal</td><td>Li</td><td>      NA</td></tr>\n",
       "\t<tr><td>1263480</td><td>Volume</td><td>WS</td><td>Burnet et al. 1990   </td><td>Metal</td><td>Li</td><td>      NA</td></tr>\n",
       "\t<tr><td>1263484</td><td>Volume</td><td>WS</td><td>Leese et al. 1989    </td><td>Metal</td><td>Li</td><td>      NA</td></tr>\n",
       "</tbody>\n",
       "</table>\n"
      ],
      "text/latex": [
       "A tibble: 6 × 7\n",
       "\\begin{tabular}{lllllll}\n",
       " HAWC\\_ID & Metric & Sample & Study & Class & DTXSID & Avg\\_Value\\\\\n",
       " <dbl> & <chr> & <chr> & <chr> & <chr> & <chr> & <dbl>\\\\\n",
       "\\hline\n",
       "\t  993956 & Volume & WS & Ihantola et al. 2022  & Metal & Li & 1.794436\\\\\n",
       "\t  266980 & Volume & WS & Stockfelt et al. 2012 & Metal & Li &       NA\\\\\n",
       "\t  266987 & Volume & WS & Seagrave 2005         & Metal & Li &       NA\\\\\n",
       "\t  452289 & Volume & WS & Rabha 2018            & Metal & Li &       NA\\\\\n",
       "\t 1263480 & Volume & WS & Burnet et al. 1990    & Metal & Li &       NA\\\\\n",
       "\t 1263484 & Volume & WS & Leese et al. 1989     & Metal & Li &       NA\\\\\n",
       "\\end{tabular}\n"
      ],
      "text/markdown": [
       "\n",
       "A tibble: 6 × 7\n",
       "\n",
       "| HAWC_ID &lt;dbl&gt; | Metric &lt;chr&gt; | Sample &lt;chr&gt; | Study &lt;chr&gt; | Class &lt;chr&gt; | DTXSID &lt;chr&gt; | Avg_Value &lt;dbl&gt; |\n",
       "|---|---|---|---|---|---|---|\n",
       "|  993956 | Volume | WS | Ihantola et al. 2022  | Metal | Li | 1.794436 |\n",
       "|  266980 | Volume | WS | Stockfelt et al. 2012 | Metal | Li |       NA |\n",
       "|  266987 | Volume | WS | Seagrave 2005         | Metal | Li |       NA |\n",
       "|  452289 | Volume | WS | Rabha 2018            | Metal | Li |       NA |\n",
       "| 1263480 | Volume | WS | Burnet et al. 1990    | Metal | Li |       NA |\n",
       "| 1263484 | Volume | WS | Leese et al. 1989     | Metal | Li |       NA |\n",
       "\n"
      ],
      "text/plain": [
       "  HAWC_ID Metric Sample Study                 Class DTXSID Avg_Value\n",
       "1  993956 Volume WS     Ihantola et al. 2022  Metal Li     1.794436 \n",
       "2  266980 Volume WS     Stockfelt et al. 2012 Metal Li           NA \n",
       "3  266987 Volume WS     Seagrave 2005         Metal Li           NA \n",
       "4  452289 Volume WS     Rabha 2018            Metal Li           NA \n",
       "5 1263480 Volume WS     Burnet et al. 1990    Metal Li           NA \n",
       "6 1263484 Volume WS     Leese et al. 1989     Metal Li           NA "
      ]
     },
     "metadata": {},
     "output_type": "display_data"
    }
   ],
   "source": [
    "avg_vol_df = mnar_imputed_vol_df %>%\n",
    "    # averaging to get rid of replicates\n",
    "    group_by(HAWC_ID, DTXSID) %>%\n",
    "    mutate(Avg_Value = mean(as.numeric(Value))) %>%\n",
    "    ungroup() %>%\n",
    "    select(-c(\"Replicate\", \"Value\", \"Name\")) %>%\n",
    "    unique() \n",
    "\n",
    "head(avg_vol_df)"
   ]
  },
  {
   "cell_type": "code",
   "execution_count": 27,
   "id": "02847d8a-2e2b-4360-9511-8f34e5febb0b",
   "metadata": {},
   "outputs": [
    {
     "data": {
      "text/html": [
       "<table class=\"dataframe\">\n",
       "<caption>A tibble: 6 × 7</caption>\n",
       "<thead>\n",
       "\t<tr><th scope=col>HAWC_ID</th><th scope=col>Metric</th><th scope=col>Sample</th><th scope=col>Study</th><th scope=col>Class</th><th scope=col>DTXSID</th><th scope=col>Avg_Value</th></tr>\n",
       "\t<tr><th scope=col>&lt;dbl&gt;</th><th scope=col>&lt;chr&gt;</th><th scope=col>&lt;chr&gt;</th><th scope=col>&lt;chr&gt;</th><th scope=col>&lt;chr&gt;</th><th scope=col>&lt;chr&gt;</th><th scope=col>&lt;dbl&gt;</th></tr>\n",
       "</thead>\n",
       "<tbody>\n",
       "\t<tr><td> 271638</td><td>Weight</td><td>WS</td><td>Jalava et al. 2012   </td><td>Metal</td><td>Si</td><td> 2203.92305</td></tr>\n",
       "\t<tr><td> 299223</td><td>Weight</td><td>WS</td><td>Kasurinen et al. 2015</td><td>Metal</td><td>Ca</td><td>17284.47712</td></tr>\n",
       "\t<tr><td> 299223</td><td>Weight</td><td>WS</td><td>Kasurinen et al. 2015</td><td>Metal</td><td>Ni</td><td>   11.05409</td></tr>\n",
       "\t<tr><td>1040882</td><td>Weight</td><td>WS</td><td>Nordin et al. 2015   </td><td>Metal</td><td>Ca</td><td> 3602.19005</td></tr>\n",
       "\t<tr><td>1040882</td><td>Weight</td><td>WS</td><td>Nordin et al. 2015   </td><td>Metal</td><td>Fe</td><td>  603.11724</td></tr>\n",
       "\t<tr><td>1063054</td><td>Weight</td><td>WS</td><td>Corsini et al. 2013  </td><td>Metal</td><td>Cr</td><td>   23.16228</td></tr>\n",
       "</tbody>\n",
       "</table>\n"
      ],
      "text/latex": [
       "A tibble: 6 × 7\n",
       "\\begin{tabular}{lllllll}\n",
       " HAWC\\_ID & Metric & Sample & Study & Class & DTXSID & Avg\\_Value\\\\\n",
       " <dbl> & <chr> & <chr> & <chr> & <chr> & <chr> & <dbl>\\\\\n",
       "\\hline\n",
       "\t  271638 & Weight & WS & Jalava et al. 2012    & Metal & Si &  2203.92305\\\\\n",
       "\t  299223 & Weight & WS & Kasurinen et al. 2015 & Metal & Ca & 17284.47712\\\\\n",
       "\t  299223 & Weight & WS & Kasurinen et al. 2015 & Metal & Ni &    11.05409\\\\\n",
       "\t 1040882 & Weight & WS & Nordin et al. 2015    & Metal & Ca &  3602.19005\\\\\n",
       "\t 1040882 & Weight & WS & Nordin et al. 2015    & Metal & Fe &   603.11724\\\\\n",
       "\t 1063054 & Weight & WS & Corsini et al. 2013   & Metal & Cr &    23.16228\\\\\n",
       "\\end{tabular}\n"
      ],
      "text/markdown": [
       "\n",
       "A tibble: 6 × 7\n",
       "\n",
       "| HAWC_ID &lt;dbl&gt; | Metric &lt;chr&gt; | Sample &lt;chr&gt; | Study &lt;chr&gt; | Class &lt;chr&gt; | DTXSID &lt;chr&gt; | Avg_Value &lt;dbl&gt; |\n",
       "|---|---|---|---|---|---|---|\n",
       "|  271638 | Weight | WS | Jalava et al. 2012    | Metal | Si |  2203.92305 |\n",
       "|  299223 | Weight | WS | Kasurinen et al. 2015 | Metal | Ca | 17284.47712 |\n",
       "|  299223 | Weight | WS | Kasurinen et al. 2015 | Metal | Ni |    11.05409 |\n",
       "| 1040882 | Weight | WS | Nordin et al. 2015    | Metal | Ca |  3602.19005 |\n",
       "| 1040882 | Weight | WS | Nordin et al. 2015    | Metal | Fe |   603.11724 |\n",
       "| 1063054 | Weight | WS | Corsini et al. 2013   | Metal | Cr |    23.16228 |\n",
       "\n"
      ],
      "text/plain": [
       "  HAWC_ID Metric Sample Study                 Class DTXSID Avg_Value  \n",
       "1  271638 Weight WS     Jalava et al. 2012    Metal Si      2203.92305\n",
       "2  299223 Weight WS     Kasurinen et al. 2015 Metal Ca     17284.47712\n",
       "3  299223 Weight WS     Kasurinen et al. 2015 Metal Ni        11.05409\n",
       "4 1040882 Weight WS     Nordin et al. 2015    Metal Ca      3602.19005\n",
       "5 1040882 Weight WS     Nordin et al. 2015    Metal Fe       603.11724\n",
       "6 1063054 Weight WS     Corsini et al. 2013   Metal Cr        23.16228"
      ]
     },
     "metadata": {},
     "output_type": "display_data"
    }
   ],
   "source": [
    "avg_weight_df = mnar_imputed_weight_df %>%\n",
    "    # averaging to get rid of replicates\n",
    "    group_by(HAWC_ID, DTXSID) %>%\n",
    "    mutate(Avg_Value = mean(Value, na.rm = TRUE)) %>%\n",
    "    ungroup() %>%\n",
    "    select(-c(\"Replicate\", \"Value\", \"Name\")) %>%\n",
    "    unique() \n",
    "\n",
    "head(avg_weight_df)"
   ]
  },
  {
   "cell_type": "markdown",
   "id": "aedde76b-a5a7-4954-b473-2bd395b65e6a",
   "metadata": {},
   "source": [
    "Converting values to 0s and 1s to count number of experimental and NDs previously imputed. Chemicals/metals that don't have at least 50% of values present will be removed."
   ]
  },
  {
   "cell_type": "code",
   "execution_count": 28,
   "id": "5f1d9f14-5cc4-4415-a8a4-5126bc5151d2",
   "metadata": {},
   "outputs": [
    {
     "data": {
      "text/html": [
       "<table class=\"dataframe\">\n",
       "<caption>A tibble: 6 × 38</caption>\n",
       "<thead>\n",
       "\t<tr><th scope=col>SampleID</th><th scope=col>HAWC_ID</th><th scope=col>Metric</th><th scope=col>Sample</th><th scope=col>Study</th><th scope=col>Class</th><th scope=col>Si</th><th scope=col>Ca</th><th scope=col>Ni</th><th scope=col>Fe</th><th scope=col>⋯</th><th scope=col>Mg</th><th scope=col>B</th><th scope=col>DTXSID4020878</th><th scope=col>DTXSID0047741</th><th scope=col>DTXSID4075455</th><th scope=col>DTXSID4075459</th><th scope=col>DTXSID2060383</th><th scope=col>DTXSID8074819</th><th scope=col>DTXSID4020161</th><th scope=col>DTXSID1025649</th></tr>\n",
       "\t<tr><th scope=col>&lt;chr&gt;</th><th scope=col>&lt;dbl&gt;</th><th scope=col>&lt;chr&gt;</th><th scope=col>&lt;chr&gt;</th><th scope=col>&lt;chr&gt;</th><th scope=col>&lt;chr&gt;</th><th scope=col>&lt;dbl&gt;</th><th scope=col>&lt;dbl&gt;</th><th scope=col>&lt;dbl&gt;</th><th scope=col>&lt;dbl&gt;</th><th scope=col>⋯</th><th scope=col>&lt;dbl&gt;</th><th scope=col>&lt;dbl&gt;</th><th scope=col>&lt;dbl&gt;</th><th scope=col>&lt;dbl&gt;</th><th scope=col>&lt;dbl&gt;</th><th scope=col>&lt;dbl&gt;</th><th scope=col>&lt;dbl&gt;</th><th scope=col>&lt;dbl&gt;</th><th scope=col>&lt;dbl&gt;</th><th scope=col>&lt;dbl&gt;</th></tr>\n",
       "</thead>\n",
       "<tbody>\n",
       "\t<tr><td>271638_WS_Metal </td><td> 271638</td><td>Weight</td><td>WS</td><td>Jalava et al. 2012   </td><td>Metal</td><td>2203.923048</td><td> 2102.00</td><td>       NaN</td><td>        NaN</td><td>⋯</td><td> 341.4285714</td><td> NA</td><td>NA</td><td>NA</td><td>NA</td><td>      NA</td><td>NA</td><td>NA</td><td>NA</td><td>NA</td></tr>\n",
       "\t<tr><td>299223_WS_Metal </td><td> 299223</td><td>Weight</td><td>WS</td><td>Kasurinen et al. 2015</td><td>Metal</td><td>        NaN</td><td>17284.48</td><td>11.0540926</td><td>        NaN</td><td>⋯</td><td>          NA</td><td> NA</td><td>NA</td><td>NA</td><td>NA</td><td>      NA</td><td>NA</td><td>NA</td><td>NA</td><td>NA</td></tr>\n",
       "\t<tr><td>1040882_WS_Metal</td><td>1040882</td><td>Weight</td><td>WS</td><td>Nordin et al. 2015   </td><td>Metal</td><td>        NaN</td><td> 3602.19</td><td> 0.1732051</td><td>603.1172428</td><td>⋯</td><td>1791.0000000</td><td>288</td><td>NA</td><td>NA</td><td>NA</td><td>      NA</td><td>NA</td><td>NA</td><td>NA</td><td>NA</td></tr>\n",
       "\t<tr><td>1063054_WS_Metal</td><td>1063054</td><td>Weight</td><td>WS</td><td>Corsini et al. 2013  </td><td>Metal</td><td>5675.000000</td><td> 4385.00</td><td>30.0000000</td><td>355.0000000</td><td>⋯</td><td>          NA</td><td> NA</td><td>NA</td><td>NA</td><td>NA</td><td>      NA</td><td>NA</td><td>NA</td><td>NA</td><td>NA</td></tr>\n",
       "\t<tr><td>1098462_WS_Metal</td><td>1098462</td><td>Weight</td><td>WS</td><td>Niu et al. 2023      </td><td>Metal</td><td>   3.226667</td><td>    1.01</td><td> 0.0400000</td><td>  0.9933333</td><td>⋯</td><td>   0.9533333</td><td> NA</td><td>NA</td><td>NA</td><td>NA</td><td>      NA</td><td>NA</td><td>NA</td><td>NA</td><td>NA</td></tr>\n",
       "\t<tr><td>271638_WS_PAH   </td><td> 271638</td><td>Weight</td><td>WS</td><td>Jalava et al. 2012   </td><td>PAH  </td><td>         NA</td><td>      NA</td><td>        NA</td><td>         NA</td><td>⋯</td><td>          NA</td><td> NA</td><td>NA</td><td>NA</td><td>NA</td><td>235.4286</td><td>NA</td><td>NA</td><td>NA</td><td>NA</td></tr>\n",
       "</tbody>\n",
       "</table>\n"
      ],
      "text/latex": [
       "A tibble: 6 × 38\n",
       "\\begin{tabular}{lllllllllllllllllllll}\n",
       " SampleID & HAWC\\_ID & Metric & Sample & Study & Class & Si & Ca & Ni & Fe & ⋯ & Mg & B & DTXSID4020878 & DTXSID0047741 & DTXSID4075455 & DTXSID4075459 & DTXSID2060383 & DTXSID8074819 & DTXSID4020161 & DTXSID1025649\\\\\n",
       " <chr> & <dbl> & <chr> & <chr> & <chr> & <chr> & <dbl> & <dbl> & <dbl> & <dbl> & ⋯ & <dbl> & <dbl> & <dbl> & <dbl> & <dbl> & <dbl> & <dbl> & <dbl> & <dbl> & <dbl>\\\\\n",
       "\\hline\n",
       "\t 271638\\_WS\\_Metal  &  271638 & Weight & WS & Jalava et al. 2012    & Metal & 2203.923048 &  2102.00 &        NaN &         NaN & ⋯ &  341.4285714 &  NA & NA & NA & NA &       NA & NA & NA & NA & NA\\\\\n",
       "\t 299223\\_WS\\_Metal  &  299223 & Weight & WS & Kasurinen et al. 2015 & Metal &         NaN & 17284.48 & 11.0540926 &         NaN & ⋯ &           NA &  NA & NA & NA & NA &       NA & NA & NA & NA & NA\\\\\n",
       "\t 1040882\\_WS\\_Metal & 1040882 & Weight & WS & Nordin et al. 2015    & Metal &         NaN &  3602.19 &  0.1732051 & 603.1172428 & ⋯ & 1791.0000000 & 288 & NA & NA & NA &       NA & NA & NA & NA & NA\\\\\n",
       "\t 1063054\\_WS\\_Metal & 1063054 & Weight & WS & Corsini et al. 2013   & Metal & 5675.000000 &  4385.00 & 30.0000000 & 355.0000000 & ⋯ &           NA &  NA & NA & NA & NA &       NA & NA & NA & NA & NA\\\\\n",
       "\t 1098462\\_WS\\_Metal & 1098462 & Weight & WS & Niu et al. 2023       & Metal &    3.226667 &     1.01 &  0.0400000 &   0.9933333 & ⋯ &    0.9533333 &  NA & NA & NA & NA &       NA & NA & NA & NA & NA\\\\\n",
       "\t 271638\\_WS\\_PAH    &  271638 & Weight & WS & Jalava et al. 2012    & PAH   &          NA &       NA &         NA &          NA & ⋯ &           NA &  NA & NA & NA & NA & 235.4286 & NA & NA & NA & NA\\\\\n",
       "\\end{tabular}\n"
      ],
      "text/markdown": [
       "\n",
       "A tibble: 6 × 38\n",
       "\n",
       "| SampleID &lt;chr&gt; | HAWC_ID &lt;dbl&gt; | Metric &lt;chr&gt; | Sample &lt;chr&gt; | Study &lt;chr&gt; | Class &lt;chr&gt; | Si &lt;dbl&gt; | Ca &lt;dbl&gt; | Ni &lt;dbl&gt; | Fe &lt;dbl&gt; | ⋯ ⋯ | Mg &lt;dbl&gt; | B &lt;dbl&gt; | DTXSID4020878 &lt;dbl&gt; | DTXSID0047741 &lt;dbl&gt; | DTXSID4075455 &lt;dbl&gt; | DTXSID4075459 &lt;dbl&gt; | DTXSID2060383 &lt;dbl&gt; | DTXSID8074819 &lt;dbl&gt; | DTXSID4020161 &lt;dbl&gt; | DTXSID1025649 &lt;dbl&gt; |\n",
       "|---|---|---|---|---|---|---|---|---|---|---|---|---|---|---|---|---|---|---|---|---|\n",
       "| 271638_WS_Metal  |  271638 | Weight | WS | Jalava et al. 2012    | Metal | 2203.923048 |  2102.00 |        NaN |         NaN | ⋯ |  341.4285714 |  NA | NA | NA | NA |       NA | NA | NA | NA | NA |\n",
       "| 299223_WS_Metal  |  299223 | Weight | WS | Kasurinen et al. 2015 | Metal |         NaN | 17284.48 | 11.0540926 |         NaN | ⋯ |           NA |  NA | NA | NA | NA |       NA | NA | NA | NA | NA |\n",
       "| 1040882_WS_Metal | 1040882 | Weight | WS | Nordin et al. 2015    | Metal |         NaN |  3602.19 |  0.1732051 | 603.1172428 | ⋯ | 1791.0000000 | 288 | NA | NA | NA |       NA | NA | NA | NA | NA |\n",
       "| 1063054_WS_Metal | 1063054 | Weight | WS | Corsini et al. 2013   | Metal | 5675.000000 |  4385.00 | 30.0000000 | 355.0000000 | ⋯ |           NA |  NA | NA | NA | NA |       NA | NA | NA | NA | NA |\n",
       "| 1098462_WS_Metal | 1098462 | Weight | WS | Niu et al. 2023       | Metal |    3.226667 |     1.01 |  0.0400000 |   0.9933333 | ⋯ |    0.9533333 |  NA | NA | NA | NA |       NA | NA | NA | NA | NA |\n",
       "| 271638_WS_PAH    |  271638 | Weight | WS | Jalava et al. 2012    | PAH   |          NA |       NA |         NA |          NA | ⋯ |           NA |  NA | NA | NA | NA | 235.4286 | NA | NA | NA | NA |\n",
       "\n"
      ],
      "text/plain": [
       "  SampleID         HAWC_ID Metric Sample Study                 Class\n",
       "1 271638_WS_Metal   271638 Weight WS     Jalava et al. 2012    Metal\n",
       "2 299223_WS_Metal   299223 Weight WS     Kasurinen et al. 2015 Metal\n",
       "3 1040882_WS_Metal 1040882 Weight WS     Nordin et al. 2015    Metal\n",
       "4 1063054_WS_Metal 1063054 Weight WS     Corsini et al. 2013   Metal\n",
       "5 1098462_WS_Metal 1098462 Weight WS     Niu et al. 2023       Metal\n",
       "6 271638_WS_PAH     271638 Weight WS     Jalava et al. 2012    PAH  \n",
       "  Si          Ca       Ni         Fe          ⋯ Mg           B   DTXSID4020878\n",
       "1 2203.923048  2102.00        NaN         NaN ⋯  341.4285714  NA NA           \n",
       "2         NaN 17284.48 11.0540926         NaN ⋯           NA  NA NA           \n",
       "3         NaN  3602.19  0.1732051 603.1172428 ⋯ 1791.0000000 288 NA           \n",
       "4 5675.000000  4385.00 30.0000000 355.0000000 ⋯           NA  NA NA           \n",
       "5    3.226667     1.01  0.0400000   0.9933333 ⋯    0.9533333  NA NA           \n",
       "6          NA       NA         NA          NA ⋯           NA  NA NA           \n",
       "  DTXSID0047741 DTXSID4075455 DTXSID4075459 DTXSID2060383 DTXSID8074819\n",
       "1 NA            NA                  NA      NA            NA           \n",
       "2 NA            NA                  NA      NA            NA           \n",
       "3 NA            NA                  NA      NA            NA           \n",
       "4 NA            NA                  NA      NA            NA           \n",
       "5 NA            NA                  NA      NA            NA           \n",
       "6 NA            NA            235.4286      NA            NA           \n",
       "  DTXSID4020161 DTXSID1025649\n",
       "1 NA            NA           \n",
       "2 NA            NA           \n",
       "3 NA            NA           \n",
       "4 NA            NA           \n",
       "5 NA            NA           \n",
       "6 NA            NA           "
      ]
     },
     "metadata": {},
     "output_type": "display_data"
    }
   ],
   "source": [
    "wider_vol_df = avg_vol_df %>%\n",
    "    # creating sample ids\n",
    "    unite(\"SampleID\", c(colnames(avg_vol_df)[c(1,3,5)]), remove = FALSE) %>%\n",
    "    pivot_wider(names_from = \"DTXSID\", values_from = \"Avg_Value\") \n",
    "\n",
    "wider_weight_df = avg_weight_df %>%\n",
    "    unite(\"SampleID\", c(colnames(avg_weight_df)[c(1,3,5)]), remove = FALSE) %>%\n",
    "    pivot_wider(names_from = \"DTXSID\", values_from = \"Avg_Value\")   \n",
    "\n",
    "head(wider_weight_df)"
   ]
  },
  {
   "cell_type": "code",
   "execution_count": 29,
   "id": "10baac7b-db6e-458a-8e5c-295a4a66772d",
   "metadata": {},
   "outputs": [
    {
     "data": {
      "text/html": [
       "<table class=\"dataframe\">\n",
       "<caption>A data.frame: 6 × 1</caption>\n",
       "<thead>\n",
       "\t<tr><th></th><th scope=col>Percent</th></tr>\n",
       "\t<tr><th></th><th scope=col>&lt;dbl&gt;</th></tr>\n",
       "</thead>\n",
       "<tbody>\n",
       "\t<tr><th scope=row>Si</th><td>13.513514</td></tr>\n",
       "\t<tr><th scope=row>Rb</th><td> 9.459459</td></tr>\n",
       "\t<tr><th scope=row>DTXSID5047740</th><td>12.162162</td></tr>\n",
       "\t<tr><th scope=row>DTXSID8052691</th><td> 9.459459</td></tr>\n",
       "\t<tr><th scope=row>DTXSID6062591</th><td>10.810811</td></tr>\n",
       "\t<tr><th scope=row>DTXSID0025654</th><td> 5.405405</td></tr>\n",
       "</tbody>\n",
       "</table>\n"
      ],
      "text/latex": [
       "A data.frame: 6 × 1\n",
       "\\begin{tabular}{r|l}\n",
       "  & Percent\\\\\n",
       "  & <dbl>\\\\\n",
       "\\hline\n",
       "\tSi & 13.513514\\\\\n",
       "\tRb &  9.459459\\\\\n",
       "\tDTXSID5047740 & 12.162162\\\\\n",
       "\tDTXSID8052691 &  9.459459\\\\\n",
       "\tDTXSID6062591 & 10.810811\\\\\n",
       "\tDTXSID0025654 &  5.405405\\\\\n",
       "\\end{tabular}\n"
      ],
      "text/markdown": [
       "\n",
       "A data.frame: 6 × 1\n",
       "\n",
       "| <!--/--> | Percent &lt;dbl&gt; |\n",
       "|---|---|\n",
       "| Si | 13.513514 |\n",
       "| Rb |  9.459459 |\n",
       "| DTXSID5047740 | 12.162162 |\n",
       "| DTXSID8052691 |  9.459459 |\n",
       "| DTXSID6062591 | 10.810811 |\n",
       "| DTXSID0025654 |  5.405405 |\n",
       "\n"
      ],
      "text/plain": [
       "              Percent  \n",
       "Si            13.513514\n",
       "Rb             9.459459\n",
       "DTXSID5047740 12.162162\n",
       "DTXSID8052691  9.459459\n",
       "DTXSID6062591 10.810811\n",
       "DTXSID0025654  5.405405"
      ]
     },
     "metadata": {},
     "output_type": "display_data"
    }
   ],
   "source": [
    "data_percentage = function(wider_dataset){\n",
    "    # \"\"\"\n",
    "    # Calculating the studies or metals/chemicals with less than or equal to 20% of experimental data.\n",
    "\n",
    "    # :param: wide dataframe\n",
    "    # :output: a list that contains a dataframe of metals/chemicals and a dataframe of studies\n",
    "\n",
    "    # \"\"\"\n",
    "    \n",
    "    # converting values to 0s and 1s\n",
    "    summed_df = wider_dataset %>%\n",
    "        mutate(across(7:ncol(wider_dataset), ~ifelse(is.na(.x), 0, 1)))\n",
    "\n",
    "    # identifying metals/chemicals w/ =< 20% of experimental data\n",
    "    var_percentage_df = data.frame(Percent = colSums(summed_df[,7:ncol(summed_df)])/nrow(summed_df) * 100) %>%\n",
    "        filter(Percent <= 20)\n",
    "    # identifying studies w/ =< 20% of experimental data\n",
    "    study_percentage_df = data.frame(HAWC_ID = wider_dataset$HAWC_ID,\n",
    "                                     Percent = rowSums(summed_df[,7:ncol(summed_df)])/ncol(summed_df) * 100) %>%\n",
    "        filter(Percent <= 20)\n",
    "\n",
    "    return(list(var_percentage_df, study_percentage_df))\n",
    "}\n",
    "\n",
    "# calling fn\n",
    "percentage_vol_df = data_percentage(wider_vol_df)\n",
    "percentage_weight_df = data_percentage(wider_weight_df)\n",
    "\n",
    "head(percentage_weight_df[[1]])"
   ]
  },
  {
   "cell_type": "code",
   "execution_count": 30,
   "id": "00132275-7af1-4352-8645-e62b034373c9",
   "metadata": {},
   "outputs": [
    {
     "data": {
      "text/html": [
       "<table class=\"dataframe\">\n",
       "<caption>A tibble: 6 × 20</caption>\n",
       "<thead>\n",
       "\t<tr><th scope=col>SampleID</th><th scope=col>HAWC_ID</th><th scope=col>Metric</th><th scope=col>Sample</th><th scope=col>Study</th><th scope=col>Class</th><th scope=col>Ca</th><th scope=col>Ni</th><th scope=col>Fe</th><th scope=col>Cr</th><th scope=col>DTXSID3021774</th><th scope=col>DTXSID6024254</th><th scope=col>DTXSID3024104</th><th scope=col>Mn</th><th scope=col>Al</th><th scope=col>Co</th><th scope=col>Cu</th><th scope=col>Zn</th><th scope=col>K</th><th scope=col>Mg</th></tr>\n",
       "\t<tr><th scope=col>&lt;chr&gt;</th><th scope=col>&lt;dbl&gt;</th><th scope=col>&lt;chr&gt;</th><th scope=col>&lt;chr&gt;</th><th scope=col>&lt;chr&gt;</th><th scope=col>&lt;chr&gt;</th><th scope=col>&lt;dbl&gt;</th><th scope=col>&lt;dbl&gt;</th><th scope=col>&lt;dbl&gt;</th><th scope=col>&lt;dbl&gt;</th><th scope=col>&lt;dbl&gt;</th><th scope=col>&lt;dbl&gt;</th><th scope=col>&lt;dbl&gt;</th><th scope=col>&lt;dbl&gt;</th><th scope=col>&lt;dbl&gt;</th><th scope=col>&lt;dbl&gt;</th><th scope=col>&lt;dbl&gt;</th><th scope=col>&lt;dbl&gt;</th><th scope=col>&lt;dbl&gt;</th><th scope=col>&lt;dbl&gt;</th></tr>\n",
       "</thead>\n",
       "<tbody>\n",
       "\t<tr><td>1040882_WS_Metal</td><td>1040882</td><td>Weight</td><td>WS</td><td>Nordin et al. 2015    </td><td>Metal</td><td> 3602.19</td><td> 0.1732051</td><td>603.117243</td><td>129.0000000</td><td>         NA</td><td>      NA</td><td>      NA</td><td>  0.4582576</td><td>638.000000</td><td>0.1</td><td>266</td><td> 4660</td><td> 22500</td><td>1791</td></tr>\n",
       "\t<tr><td>1063054_WS_Metal</td><td>1063054</td><td>Weight</td><td>WS</td><td>Corsini et al. 2013   </td><td>Metal</td><td> 4385.00</td><td>30.0000000</td><td>355.000000</td><td> 23.1622777</td><td>         NA</td><td>      NA</td><td>      NA</td><td>945.0000000</td><td>685.000000</td><td>NaN</td><td>375</td><td>10380</td><td>    NA</td><td>  NA</td></tr>\n",
       "\t<tr><td>429188_WS_PAH   </td><td> 429188</td><td>Weight</td><td>WS</td><td>Kasurinen et al. 2018 </td><td>PAH  </td><td>      NA</td><td>        NA</td><td>        NA</td><td>         NA</td><td> 0.06033241</td><td>  96.950</td><td> 106.950</td><td>         NA</td><td>        NA</td><td> NA</td><td> NA</td><td>   NA</td><td>    NA</td><td>  NA</td></tr>\n",
       "\t<tr><td>821855_WS_PAH   </td><td> 821855</td><td>Weight</td><td>WS</td><td>Erlandsson et al. 2020</td><td>PAH  </td><td>      NA</td><td>        NA</td><td>        NA</td><td>         NA</td><td> 0.20811388</td><td>  35.450</td><td> 185.300</td><td>         NA</td><td>        NA</td><td> NA</td><td> NA</td><td>   NA</td><td>    NA</td><td>  NA</td></tr>\n",
       "\t<tr><td>1289807_WS_PAH  </td><td>1289807</td><td>Weight</td><td>WS</td><td>Lamberg et al. 2011   </td><td>PAH  </td><td>      NA</td><td>        NA</td><td>        NA</td><td>         NA</td><td>12.22773865</td><td>4746.983</td><td>3362.817</td><td>         NA</td><td>        NA</td><td> NA</td><td> NA</td><td>   NA</td><td>    NA</td><td>  NA</td></tr>\n",
       "\t<tr><td>822010_WS_Metal </td><td> 822010</td><td>Weight</td><td>WS</td><td>Farina et al. 2019    </td><td>Metal</td><td>70000.00</td><td> 0.1732051</td><td>  0.728011</td><td>  0.3162278</td><td>         NA</td><td>      NA</td><td>      NA</td><td>420.0000000</td><td>  1.311488</td><td>NaN</td><td> NA</td><td> 4000</td><td>195000</td><td>  NA</td></tr>\n",
       "</tbody>\n",
       "</table>\n"
      ],
      "text/latex": [
       "A tibble: 6 × 20\n",
       "\\begin{tabular}{llllllllllllllllllll}\n",
       " SampleID & HAWC\\_ID & Metric & Sample & Study & Class & Ca & Ni & Fe & Cr & DTXSID3021774 & DTXSID6024254 & DTXSID3024104 & Mn & Al & Co & Cu & Zn & K & Mg\\\\\n",
       " <chr> & <dbl> & <chr> & <chr> & <chr> & <chr> & <dbl> & <dbl> & <dbl> & <dbl> & <dbl> & <dbl> & <dbl> & <dbl> & <dbl> & <dbl> & <dbl> & <dbl> & <dbl> & <dbl>\\\\\n",
       "\\hline\n",
       "\t 1040882\\_WS\\_Metal & 1040882 & Weight & WS & Nordin et al. 2015     & Metal &  3602.19 &  0.1732051 & 603.117243 & 129.0000000 &          NA &       NA &       NA &   0.4582576 & 638.000000 & 0.1 & 266 &  4660 &  22500 & 1791\\\\\n",
       "\t 1063054\\_WS\\_Metal & 1063054 & Weight & WS & Corsini et al. 2013    & Metal &  4385.00 & 30.0000000 & 355.000000 &  23.1622777 &          NA &       NA &       NA & 945.0000000 & 685.000000 & NaN & 375 & 10380 &     NA &   NA\\\\\n",
       "\t 429188\\_WS\\_PAH    &  429188 & Weight & WS & Kasurinen et al. 2018  & PAH   &       NA &         NA &         NA &          NA &  0.06033241 &   96.950 &  106.950 &          NA &         NA &  NA &  NA &    NA &     NA &   NA\\\\\n",
       "\t 821855\\_WS\\_PAH    &  821855 & Weight & WS & Erlandsson et al. 2020 & PAH   &       NA &         NA &         NA &          NA &  0.20811388 &   35.450 &  185.300 &          NA &         NA &  NA &  NA &    NA &     NA &   NA\\\\\n",
       "\t 1289807\\_WS\\_PAH   & 1289807 & Weight & WS & Lamberg et al. 2011    & PAH   &       NA &         NA &         NA &          NA & 12.22773865 & 4746.983 & 3362.817 &          NA &         NA &  NA &  NA &    NA &     NA &   NA\\\\\n",
       "\t 822010\\_WS\\_Metal  &  822010 & Weight & WS & Farina et al. 2019     & Metal & 70000.00 &  0.1732051 &   0.728011 &   0.3162278 &          NA &       NA &       NA & 420.0000000 &   1.311488 & NaN &  NA &  4000 & 195000 &   NA\\\\\n",
       "\\end{tabular}\n"
      ],
      "text/markdown": [
       "\n",
       "A tibble: 6 × 20\n",
       "\n",
       "| SampleID &lt;chr&gt; | HAWC_ID &lt;dbl&gt; | Metric &lt;chr&gt; | Sample &lt;chr&gt; | Study &lt;chr&gt; | Class &lt;chr&gt; | Ca &lt;dbl&gt; | Ni &lt;dbl&gt; | Fe &lt;dbl&gt; | Cr &lt;dbl&gt; | DTXSID3021774 &lt;dbl&gt; | DTXSID6024254 &lt;dbl&gt; | DTXSID3024104 &lt;dbl&gt; | Mn &lt;dbl&gt; | Al &lt;dbl&gt; | Co &lt;dbl&gt; | Cu &lt;dbl&gt; | Zn &lt;dbl&gt; | K &lt;dbl&gt; | Mg &lt;dbl&gt; |\n",
       "|---|---|---|---|---|---|---|---|---|---|---|---|---|---|---|---|---|---|---|---|\n",
       "| 1040882_WS_Metal | 1040882 | Weight | WS | Nordin et al. 2015     | Metal |  3602.19 |  0.1732051 | 603.117243 | 129.0000000 |          NA |       NA |       NA |   0.4582576 | 638.000000 | 0.1 | 266 |  4660 |  22500 | 1791 |\n",
       "| 1063054_WS_Metal | 1063054 | Weight | WS | Corsini et al. 2013    | Metal |  4385.00 | 30.0000000 | 355.000000 |  23.1622777 |          NA |       NA |       NA | 945.0000000 | 685.000000 | NaN | 375 | 10380 |     NA |   NA |\n",
       "| 429188_WS_PAH    |  429188 | Weight | WS | Kasurinen et al. 2018  | PAH   |       NA |         NA |         NA |          NA |  0.06033241 |   96.950 |  106.950 |          NA |         NA |  NA |  NA |    NA |     NA |   NA |\n",
       "| 821855_WS_PAH    |  821855 | Weight | WS | Erlandsson et al. 2020 | PAH   |       NA |         NA |         NA |          NA |  0.20811388 |   35.450 |  185.300 |          NA |         NA |  NA |  NA |    NA |     NA |   NA |\n",
       "| 1289807_WS_PAH   | 1289807 | Weight | WS | Lamberg et al. 2011    | PAH   |       NA |         NA |         NA |          NA | 12.22773865 | 4746.983 | 3362.817 |          NA |         NA |  NA |  NA |    NA |     NA |   NA |\n",
       "| 822010_WS_Metal  |  822010 | Weight | WS | Farina et al. 2019     | Metal | 70000.00 |  0.1732051 |   0.728011 |   0.3162278 |          NA |       NA |       NA | 420.0000000 |   1.311488 | NaN |  NA |  4000 | 195000 |   NA |\n",
       "\n"
      ],
      "text/plain": [
       "  SampleID         HAWC_ID Metric Sample Study                  Class Ca      \n",
       "1 1040882_WS_Metal 1040882 Weight WS     Nordin et al. 2015     Metal  3602.19\n",
       "2 1063054_WS_Metal 1063054 Weight WS     Corsini et al. 2013    Metal  4385.00\n",
       "3 429188_WS_PAH     429188 Weight WS     Kasurinen et al. 2018  PAH         NA\n",
       "4 821855_WS_PAH     821855 Weight WS     Erlandsson et al. 2020 PAH         NA\n",
       "5 1289807_WS_PAH   1289807 Weight WS     Lamberg et al. 2011    PAH         NA\n",
       "6 822010_WS_Metal   822010 Weight WS     Farina et al. 2019     Metal 70000.00\n",
       "  Ni         Fe         Cr          DTXSID3021774 DTXSID6024254 DTXSID3024104\n",
       "1  0.1732051 603.117243 129.0000000          NA         NA            NA     \n",
       "2 30.0000000 355.000000  23.1622777          NA         NA            NA     \n",
       "3         NA         NA          NA  0.06033241     96.950       106.950     \n",
       "4         NA         NA          NA  0.20811388     35.450       185.300     \n",
       "5         NA         NA          NA 12.22773865   4746.983      3362.817     \n",
       "6  0.1732051   0.728011   0.3162278          NA         NA            NA     \n",
       "  Mn          Al         Co  Cu  Zn    K      Mg  \n",
       "1   0.4582576 638.000000 0.1 266  4660  22500 1791\n",
       "2 945.0000000 685.000000 NaN 375 10380     NA   NA\n",
       "3          NA         NA  NA  NA    NA     NA   NA\n",
       "4          NA         NA  NA  NA    NA     NA   NA\n",
       "5          NA         NA  NA  NA    NA     NA   NA\n",
       "6 420.0000000   1.311488 NaN  NA  4000 195000   NA"
      ]
     },
     "metadata": {},
     "output_type": "display_data"
    }
   ],
   "source": [
    "# removing those metals/chemicals & studies from the OG df\n",
    "preimputed_vol_df = wider_vol_df[,colnames(wider_vol_df) %notin% rownames(percentage_vol_df[[1]])] %>%\n",
    "    select(-DTXSID8020913)\n",
    "preimputed_weight_df = wider_weight_df[,colnames(wider_weight_df) %notin% rownames(percentage_weight_df[[1]])]\n",
    "\n",
    "preimputed_vol_df = preimputed_vol_df %>% filter(HAWC_ID %notin% percentage_vol_df[[2]]$HAWC_ID) \n",
    "preimputed_weight_df = preimputed_weight_df %>% filter(HAWC_ID %notin% percentage_weight_df[[2]]$HAWC_ID)\n",
    "\n",
    "head(preimputed_weight_df)"
   ]
  },
  {
   "cell_type": "code",
   "execution_count": 31,
   "id": "f70ba746-a76c-43ee-a02f-2887f28886b9",
   "metadata": {},
   "outputs": [
    {
     "data": {
      "text/html": [
       "9"
      ],
      "text/latex": [
       "9"
      ],
      "text/markdown": [
       "9"
      ],
      "text/plain": [
       "[1] 9"
      ]
     },
     "metadata": {},
     "output_type": "display_data"
    },
    {
     "data": {
      "text/html": [
       "14"
      ],
      "text/latex": [
       "14"
      ],
      "text/markdown": [
       "14"
      ],
      "text/plain": [
       "[1] 14"
      ]
     },
     "metadata": {},
     "output_type": "display_data"
    }
   ],
   "source": [
    "# How many metals/chemicals are now left in the dataset?\n",
    "ncol(preimputed_vol_df) - 6\n",
    "ncol(preimputed_weight_df) - 6"
   ]
  },
  {
   "cell_type": "code",
   "execution_count": 32,
   "id": "de6f788a-5785-4a56-b8f2-40097a3516b1",
   "metadata": {},
   "outputs": [
    {
     "data": {
      "text/html": [
       "6"
      ],
      "text/latex": [
       "6"
      ],
      "text/markdown": [
       "6"
      ],
      "text/plain": [
       "[1] 6"
      ]
     },
     "metadata": {},
     "output_type": "display_data"
    },
    {
     "data": {
      "text/html": [
       "24"
      ],
      "text/latex": [
       "24"
      ],
      "text/markdown": [
       "24"
      ],
      "text/plain": [
       "[1] 24"
      ]
     },
     "metadata": {},
     "output_type": "display_data"
    }
   ],
   "source": [
    "# How many studies are left?\n",
    "nrow(preimputed_vol_df)  \n",
    "nrow(preimputed_weight_df) "
   ]
  },
  {
   "cell_type": "markdown",
   "id": "5f4d134a-b801-4a28-bc8a-086319521b88",
   "metadata": {},
   "source": [
    "ADD WORDS. \n",
    "\n",
    "# RF Imputation"
   ]
  },
  {
   "cell_type": "code",
   "execution_count": 33,
   "id": "433c0ce8-016f-43a6-a1c3-eb6d90875b78",
   "metadata": {},
   "outputs": [
    {
     "data": {
      "text/html": [
       "<table class=\"dataframe\">\n",
       "<caption>A tibble: 6 × 15</caption>\n",
       "<thead>\n",
       "\t<tr><th scope=col>SampleID</th><th scope=col>HAWC_ID</th><th scope=col>Metric</th><th scope=col>Sample</th><th scope=col>Study</th><th scope=col>Class</th><th scope=col>K</th><th scope=col>Ca</th><th scope=col>Fe</th><th scope=col>Mn</th><th scope=col>Ni</th><th scope=col>DTXSID5023908</th><th scope=col>DTXSID8024153</th><th scope=col>DTXSID3023764</th><th scope=col>DTXSID3024289</th></tr>\n",
       "\t<tr><th scope=col>&lt;chr&gt;</th><th scope=col>&lt;dbl&gt;</th><th scope=col>&lt;chr&gt;</th><th scope=col>&lt;chr&gt;</th><th scope=col>&lt;chr&gt;</th><th scope=col>&lt;chr&gt;</th><th scope=col>&lt;dbl&gt;</th><th scope=col>&lt;dbl&gt;</th><th scope=col>&lt;dbl&gt;</th><th scope=col>&lt;dbl&gt;</th><th scope=col>&lt;dbl&gt;</th><th scope=col>&lt;dbl&gt;</th><th scope=col>&lt;dbl&gt;</th><th scope=col>&lt;dbl&gt;</th><th scope=col>&lt;dbl&gt;</th></tr>\n",
       "</thead>\n",
       "<tbody>\n",
       "\t<tr><td>885041_WS_Metal </td><td> 885041</td><td>Volume</td><td>WS</td><td>Ihantola et al. 2020   </td><td>Metal</td><td> 99550.00</td><td>  3710.00</td><td> 1088.50</td><td>  133.00</td><td>  25.7500</td><td>     NA</td><td>     NA</td><td>      NA</td><td>      NA</td></tr>\n",
       "\t<tr><td>885041_WS_PAH   </td><td> 885041</td><td>Volume</td><td>WS</td><td>Ihantola et al. 2020   </td><td>PAH  </td><td>       NA</td><td>       NA</td><td>      NA</td><td>      NA</td><td>       NA</td><td>4950.00</td><td>2250.00</td><td>10550.00</td><td>25500.00</td></tr>\n",
       "\t<tr><td>1070627_WF_Metal</td><td>1070627</td><td>Volume</td><td>WF</td><td>Siregar et al. 2022    </td><td>Metal</td><td>   786.75</td><td>   982.65</td><td>  771.00</td><td>   35.55</td><td>  52.2000</td><td>     NA</td><td>     NA</td><td>      NA</td><td>      NA</td></tr>\n",
       "\t<tr><td>1289884_WF_Metal</td><td>1289884</td><td>Volume</td><td>WF</td><td>Samsonova et al. 2012  </td><td>Metal</td><td>147241.38</td><td>210071.43</td><td>16122.31</td><td>13610.34</td><td> 107.7083</td><td>     NA</td><td>     NA</td><td>      NA</td><td>      NA</td></tr>\n",
       "\t<tr><td>1289885_WF_Metal</td><td>1289885</td><td>Volume</td><td>WF</td><td>Samsonov et al. 2005   </td><td>Metal</td><td>297833.33</td><td>325933.33</td><td>52216.67</td><td>27550.00</td><td>1600.0000</td><td>     NA</td><td>     NA</td><td>      NA</td><td>      NA</td></tr>\n",
       "\t<tr><td>1289895_WF_PAH  </td><td>1289895</td><td>Volume</td><td>WF</td><td>Silberstein et al. 2023</td><td>PAH  </td><td>       NA</td><td>       NA</td><td>      NA</td><td>      NA</td><td>       NA</td><td>   0.02</td><td>   0.02</td><td>    0.03</td><td>    0.01</td></tr>\n",
       "</tbody>\n",
       "</table>\n"
      ],
      "text/latex": [
       "A tibble: 6 × 15\n",
       "\\begin{tabular}{lllllllllllllll}\n",
       " SampleID & HAWC\\_ID & Metric & Sample & Study & Class & K & Ca & Fe & Mn & Ni & DTXSID5023908 & DTXSID8024153 & DTXSID3023764 & DTXSID3024289\\\\\n",
       " <chr> & <dbl> & <chr> & <chr> & <chr> & <chr> & <dbl> & <dbl> & <dbl> & <dbl> & <dbl> & <dbl> & <dbl> & <dbl> & <dbl>\\\\\n",
       "\\hline\n",
       "\t 885041\\_WS\\_Metal  &  885041 & Volume & WS & Ihantola et al. 2020    & Metal &  99550.00 &   3710.00 &  1088.50 &   133.00 &   25.7500 &      NA &      NA &       NA &       NA\\\\\n",
       "\t 885041\\_WS\\_PAH    &  885041 & Volume & WS & Ihantola et al. 2020    & PAH   &        NA &        NA &       NA &       NA &        NA & 4950.00 & 2250.00 & 10550.00 & 25500.00\\\\\n",
       "\t 1070627\\_WF\\_Metal & 1070627 & Volume & WF & Siregar et al. 2022     & Metal &    786.75 &    982.65 &   771.00 &    35.55 &   52.2000 &      NA &      NA &       NA &       NA\\\\\n",
       "\t 1289884\\_WF\\_Metal & 1289884 & Volume & WF & Samsonova et al. 2012   & Metal & 147241.38 & 210071.43 & 16122.31 & 13610.34 &  107.7083 &      NA &      NA &       NA &       NA\\\\\n",
       "\t 1289885\\_WF\\_Metal & 1289885 & Volume & WF & Samsonov et al. 2005    & Metal & 297833.33 & 325933.33 & 52216.67 & 27550.00 & 1600.0000 &      NA &      NA &       NA &       NA\\\\\n",
       "\t 1289895\\_WF\\_PAH   & 1289895 & Volume & WF & Silberstein et al. 2023 & PAH   &        NA &        NA &       NA &       NA &        NA &    0.02 &    0.02 &     0.03 &     0.01\\\\\n",
       "\\end{tabular}\n"
      ],
      "text/markdown": [
       "\n",
       "A tibble: 6 × 15\n",
       "\n",
       "| SampleID &lt;chr&gt; | HAWC_ID &lt;dbl&gt; | Metric &lt;chr&gt; | Sample &lt;chr&gt; | Study &lt;chr&gt; | Class &lt;chr&gt; | K &lt;dbl&gt; | Ca &lt;dbl&gt; | Fe &lt;dbl&gt; | Mn &lt;dbl&gt; | Ni &lt;dbl&gt; | DTXSID5023908 &lt;dbl&gt; | DTXSID8024153 &lt;dbl&gt; | DTXSID3023764 &lt;dbl&gt; | DTXSID3024289 &lt;dbl&gt; |\n",
       "|---|---|---|---|---|---|---|---|---|---|---|---|---|---|---|\n",
       "| 885041_WS_Metal  |  885041 | Volume | WS | Ihantola et al. 2020    | Metal |  99550.00 |   3710.00 |  1088.50 |   133.00 |   25.7500 |      NA |      NA |       NA |       NA |\n",
       "| 885041_WS_PAH    |  885041 | Volume | WS | Ihantola et al. 2020    | PAH   |        NA |        NA |       NA |       NA |        NA | 4950.00 | 2250.00 | 10550.00 | 25500.00 |\n",
       "| 1070627_WF_Metal | 1070627 | Volume | WF | Siregar et al. 2022     | Metal |    786.75 |    982.65 |   771.00 |    35.55 |   52.2000 |      NA |      NA |       NA |       NA |\n",
       "| 1289884_WF_Metal | 1289884 | Volume | WF | Samsonova et al. 2012   | Metal | 147241.38 | 210071.43 | 16122.31 | 13610.34 |  107.7083 |      NA |      NA |       NA |       NA |\n",
       "| 1289885_WF_Metal | 1289885 | Volume | WF | Samsonov et al. 2005    | Metal | 297833.33 | 325933.33 | 52216.67 | 27550.00 | 1600.0000 |      NA |      NA |       NA |       NA |\n",
       "| 1289895_WF_PAH   | 1289895 | Volume | WF | Silberstein et al. 2023 | PAH   |        NA |        NA |       NA |       NA |        NA |    0.02 |    0.02 |     0.03 |     0.01 |\n",
       "\n"
      ],
      "text/plain": [
       "  SampleID         HAWC_ID Metric Sample Study                   Class\n",
       "1 885041_WS_Metal   885041 Volume WS     Ihantola et al. 2020    Metal\n",
       "2 885041_WS_PAH     885041 Volume WS     Ihantola et al. 2020    PAH  \n",
       "3 1070627_WF_Metal 1070627 Volume WF     Siregar et al. 2022     Metal\n",
       "4 1289884_WF_Metal 1289884 Volume WF     Samsonova et al. 2012   Metal\n",
       "5 1289885_WF_Metal 1289885 Volume WF     Samsonov et al. 2005    Metal\n",
       "6 1289895_WF_PAH   1289895 Volume WF     Silberstein et al. 2023 PAH  \n",
       "  K         Ca        Fe       Mn       Ni        DTXSID5023908 DTXSID8024153\n",
       "1  99550.00   3710.00  1088.50   133.00   25.7500      NA            NA      \n",
       "2        NA        NA       NA       NA        NA 4950.00       2250.00      \n",
       "3    786.75    982.65   771.00    35.55   52.2000      NA            NA      \n",
       "4 147241.38 210071.43 16122.31 13610.34  107.7083      NA            NA      \n",
       "5 297833.33 325933.33 52216.67 27550.00 1600.0000      NA            NA      \n",
       "6        NA        NA       NA       NA        NA    0.02          0.02      \n",
       "  DTXSID3023764 DTXSID3024289\n",
       "1       NA            NA     \n",
       "2 10550.00      25500.00     \n",
       "3       NA            NA     \n",
       "4       NA            NA     \n",
       "5       NA            NA     \n",
       "6     0.03          0.01     "
      ]
     },
     "metadata": {},
     "output_type": "display_data"
    }
   ],
   "source": [
    "preimputed_vol_df"
   ]
  },
  {
   "cell_type": "code",
   "execution_count": 34,
   "id": "f585ce82-69ed-4c15-9764-099830f74e75",
   "metadata": {
    "scrolled": true
   },
   "outputs": [
    {
     "name": "stderr",
     "output_type": "stream",
     "text": [
      "Warning message in randomForest.default(x = obsX, y = obsY, ntree = ntree, mtry = mtry, :\n",
      "“The response has five or fewer unique values.  Are you sure you want to do regression?”\n",
      "Warning message in randomForest.default(x = obsX, y = obsY, ntree = ntree, mtry = mtry, :\n",
      "“The response has five or fewer unique values.  Are you sure you want to do regression?”\n",
      "Warning message in randomForest.default(x = obsX, y = obsY, ntree = ntree, mtry = mtry, :\n",
      "“The response has five or fewer unique values.  Are you sure you want to do regression?”\n",
      "Warning message in randomForest.default(x = obsX, y = obsY, ntree = ntree, mtry = mtry, :\n",
      "“The response has five or fewer unique values.  Are you sure you want to do regression?”\n",
      "Warning message in randomForest.default(x = obsX, y = obsY, ntree = ntree, mtry = mtry, :\n",
      "“The response has five or fewer unique values.  Are you sure you want to do regression?”\n",
      "Warning message in randomForest.default(x = obsX, y = obsY, ntree = ntree, mtry = mtry, :\n",
      "“The response has five or fewer unique values.  Are you sure you want to do regression?”\n",
      "Warning message in randomForest.default(x = obsX, y = obsY, ntree = ntree, mtry = mtry, :\n",
      "“The response has five or fewer unique values.  Are you sure you want to do regression?”\n",
      "Warning message in randomForest.default(x = obsX, y = obsY, ntree = ntree, mtry = mtry, :\n",
      "“The response has five or fewer unique values.  Are you sure you want to do regression?”\n",
      "Warning message in randomForest.default(x = obsX, y = obsY, ntree = ntree, mtry = mtry, :\n",
      "“The response has five or fewer unique values.  Are you sure you want to do regression?”\n",
      "Warning message in randomForest.default(x = obsX, y = obsY, ntree = ntree, mtry = mtry, :\n",
      "“The response has five or fewer unique values.  Are you sure you want to do regression?”\n",
      "Warning message in randomForest.default(x = obsX, y = obsY, ntree = ntree, mtry = mtry, :\n",
      "“The response has five or fewer unique values.  Are you sure you want to do regression?”\n",
      "Warning message in randomForest.default(x = obsX, y = obsY, ntree = ntree, mtry = mtry, :\n",
      "“The response has five or fewer unique values.  Are you sure you want to do regression?”\n",
      "Warning message in randomForest.default(x = obsX, y = obsY, ntree = ntree, mtry = mtry, :\n",
      "“The response has five or fewer unique values.  Are you sure you want to do regression?”\n",
      "Warning message in randomForest.default(x = obsX, y = obsY, ntree = ntree, mtry = mtry, :\n",
      "“The response has five or fewer unique values.  Are you sure you want to do regression?”\n",
      "Warning message in randomForest.default(x = obsX, y = obsY, ntree = ntree, mtry = mtry, :\n",
      "“The response has five or fewer unique values.  Are you sure you want to do regression?”\n",
      "Warning message in randomForest.default(x = obsX, y = obsY, ntree = ntree, mtry = mtry, :\n",
      "“The response has five or fewer unique values.  Are you sure you want to do regression?”\n",
      "Warning message in randomForest.default(x = obsX, y = obsY, ntree = ntree, mtry = mtry, :\n",
      "“The response has five or fewer unique values.  Are you sure you want to do regression?”\n",
      "Warning message in randomForest.default(x = obsX, y = obsY, ntree = ntree, mtry = mtry, :\n",
      "“The response has five or fewer unique values.  Are you sure you want to do regression?”\n",
      "Warning message in randomForest.default(x = obsX, y = obsY, ntree = ntree, mtry = mtry, :\n",
      "“The response has five or fewer unique values.  Are you sure you want to do regression?”\n",
      "Warning message in randomForest.default(x = obsX, y = obsY, ntree = ntree, mtry = mtry, :\n",
      "“The response has five or fewer unique values.  Are you sure you want to do regression?”\n",
      "Warning message in randomForest.default(x = obsX, y = obsY, ntree = ntree, mtry = mtry, :\n",
      "“The response has five or fewer unique values.  Are you sure you want to do regression?”\n",
      "Warning message in randomForest.default(x = obsX, y = obsY, ntree = ntree, mtry = mtry, :\n",
      "“The response has five or fewer unique values.  Are you sure you want to do regression?”\n",
      "Warning message in randomForest.default(x = obsX, y = obsY, ntree = ntree, mtry = mtry, :\n",
      "“The response has five or fewer unique values.  Are you sure you want to do regression?”\n",
      "Warning message in randomForest.default(x = obsX, y = obsY, ntree = ntree, mtry = mtry, :\n",
      "“The response has five or fewer unique values.  Are you sure you want to do regression?”\n",
      "Warning message in randomForest.default(x = obsX, y = obsY, ntree = ntree, mtry = mtry, :\n",
      "“The response has five or fewer unique values.  Are you sure you want to do regression?”\n",
      "Warning message in randomForest.default(x = obsX, y = obsY, ntree = ntree, mtry = mtry, :\n",
      "“The response has five or fewer unique values.  Are you sure you want to do regression?”\n",
      "Warning message in randomForest.default(x = obsX, y = obsY, ntree = ntree, mtry = mtry, :\n",
      "“The response has five or fewer unique values.  Are you sure you want to do regression?”\n",
      "Warning message in randomForest.default(x = obsX, y = obsY, ntree = ntree, mtry = mtry, :\n",
      "“The response has five or fewer unique values.  Are you sure you want to do regression?”\n",
      "Warning message in randomForest.default(x = obsX, y = obsY, ntree = ntree, mtry = mtry, :\n",
      "“The response has five or fewer unique values.  Are you sure you want to do regression?”\n",
      "Warning message in randomForest.default(x = obsX, y = obsY, ntree = ntree, mtry = mtry, :\n",
      "“The response has five or fewer unique values.  Are you sure you want to do regression?”\n",
      "Warning message in randomForest.default(x = obsX, y = obsY, ntree = ntree, mtry = mtry, :\n",
      "“The response has five or fewer unique values.  Are you sure you want to do regression?”\n",
      "Warning message in randomForest.default(x = obsX, y = obsY, ntree = ntree, mtry = mtry, :\n",
      "“The response has five or fewer unique values.  Are you sure you want to do regression?”\n",
      "Warning message in randomForest.default(x = obsX, y = obsY, ntree = ntree, mtry = mtry, :\n",
      "“The response has five or fewer unique values.  Are you sure you want to do regression?”\n",
      "Warning message in randomForest.default(x = obsX, y = obsY, ntree = ntree, mtry = mtry, :\n",
      "“The response has five or fewer unique values.  Are you sure you want to do regression?”\n",
      "Warning message in randomForest.default(x = obsX, y = obsY, ntree = ntree, mtry = mtry, :\n",
      "“The response has five or fewer unique values.  Are you sure you want to do regression?”\n",
      "Warning message in randomForest.default(x = obsX, y = obsY, ntree = ntree, mtry = mtry, :\n",
      "“The response has five or fewer unique values.  Are you sure you want to do regression?”\n",
      "Warning message in randomForest.default(x = obsX, y = obsY, ntree = ntree, mtry = mtry, :\n",
      "“The response has five or fewer unique values.  Are you sure you want to do regression?”\n",
      "Warning message in randomForest.default(x = obsX, y = obsY, ntree = ntree, mtry = mtry, :\n",
      "“The response has five or fewer unique values.  Are you sure you want to do regression?”\n",
      "Warning message in randomForest.default(x = obsX, y = obsY, ntree = ntree, mtry = mtry, :\n",
      "“The response has five or fewer unique values.  Are you sure you want to do regression?”\n"
     ]
    },
    {
     "data": {
      "text/html": [
       "<table class=\"dataframe\">\n",
       "<caption>A tibble: 6 × 8</caption>\n",
       "<thead>\n",
       "\t<tr><th scope=col>SampleID</th><th scope=col>HAWC_ID</th><th scope=col>Metric</th><th scope=col>Sample</th><th scope=col>Study</th><th scope=col>Class</th><th scope=col>DTXSID</th><th scope=col>Value</th></tr>\n",
       "\t<tr><th scope=col>&lt;chr&gt;</th><th scope=col>&lt;dbl&gt;</th><th scope=col>&lt;chr&gt;</th><th scope=col>&lt;chr&gt;</th><th scope=col>&lt;chr&gt;</th><th scope=col>&lt;chr&gt;</th><th scope=col>&lt;chr&gt;</th><th scope=col>&lt;dbl&gt;</th></tr>\n",
       "</thead>\n",
       "<tbody>\n",
       "\t<tr><td>885041_WS_Metal</td><td>885041</td><td>Volume</td><td>WS</td><td>Ihantola et al. 2020</td><td>Metal</td><td>K            </td><td>99550.000</td></tr>\n",
       "\t<tr><td>885041_WS_Metal</td><td>885041</td><td>Volume</td><td>WS</td><td>Ihantola et al. 2020</td><td>Metal</td><td>Ca           </td><td> 3710.000</td></tr>\n",
       "\t<tr><td>885041_WS_Metal</td><td>885041</td><td>Volume</td><td>WS</td><td>Ihantola et al. 2020</td><td>Metal</td><td>Fe           </td><td> 1088.500</td></tr>\n",
       "\t<tr><td>885041_WS_Metal</td><td>885041</td><td>Volume</td><td>WS</td><td>Ihantola et al. 2020</td><td>Metal</td><td>Mn           </td><td>  133.000</td></tr>\n",
       "\t<tr><td>885041_WS_Metal</td><td>885041</td><td>Volume</td><td>WS</td><td>Ihantola et al. 2020</td><td>Metal</td><td>Ni           </td><td>   25.750</td></tr>\n",
       "\t<tr><td>885041_WS_Metal</td><td>885041</td><td>Volume</td><td>WS</td><td>Ihantola et al. 2020</td><td>Metal</td><td>DTXSID5023908</td><td> 1658.263</td></tr>\n",
       "</tbody>\n",
       "</table>\n"
      ],
      "text/latex": [
       "A tibble: 6 × 8\n",
       "\\begin{tabular}{llllllll}\n",
       " SampleID & HAWC\\_ID & Metric & Sample & Study & Class & DTXSID & Value\\\\\n",
       " <chr> & <dbl> & <chr> & <chr> & <chr> & <chr> & <chr> & <dbl>\\\\\n",
       "\\hline\n",
       "\t 885041\\_WS\\_Metal & 885041 & Volume & WS & Ihantola et al. 2020 & Metal & K             & 99550.000\\\\\n",
       "\t 885041\\_WS\\_Metal & 885041 & Volume & WS & Ihantola et al. 2020 & Metal & Ca            &  3710.000\\\\\n",
       "\t 885041\\_WS\\_Metal & 885041 & Volume & WS & Ihantola et al. 2020 & Metal & Fe            &  1088.500\\\\\n",
       "\t 885041\\_WS\\_Metal & 885041 & Volume & WS & Ihantola et al. 2020 & Metal & Mn            &   133.000\\\\\n",
       "\t 885041\\_WS\\_Metal & 885041 & Volume & WS & Ihantola et al. 2020 & Metal & Ni            &    25.750\\\\\n",
       "\t 885041\\_WS\\_Metal & 885041 & Volume & WS & Ihantola et al. 2020 & Metal & DTXSID5023908 &  1658.263\\\\\n",
       "\\end{tabular}\n"
      ],
      "text/markdown": [
       "\n",
       "A tibble: 6 × 8\n",
       "\n",
       "| SampleID &lt;chr&gt; | HAWC_ID &lt;dbl&gt; | Metric &lt;chr&gt; | Sample &lt;chr&gt; | Study &lt;chr&gt; | Class &lt;chr&gt; | DTXSID &lt;chr&gt; | Value &lt;dbl&gt; |\n",
       "|---|---|---|---|---|---|---|---|\n",
       "| 885041_WS_Metal | 885041 | Volume | WS | Ihantola et al. 2020 | Metal | K             | 99550.000 |\n",
       "| 885041_WS_Metal | 885041 | Volume | WS | Ihantola et al. 2020 | Metal | Ca            |  3710.000 |\n",
       "| 885041_WS_Metal | 885041 | Volume | WS | Ihantola et al. 2020 | Metal | Fe            |  1088.500 |\n",
       "| 885041_WS_Metal | 885041 | Volume | WS | Ihantola et al. 2020 | Metal | Mn            |   133.000 |\n",
       "| 885041_WS_Metal | 885041 | Volume | WS | Ihantola et al. 2020 | Metal | Ni            |    25.750 |\n",
       "| 885041_WS_Metal | 885041 | Volume | WS | Ihantola et al. 2020 | Metal | DTXSID5023908 |  1658.263 |\n",
       "\n"
      ],
      "text/plain": [
       "  SampleID        HAWC_ID Metric Sample Study                Class\n",
       "1 885041_WS_Metal 885041  Volume WS     Ihantola et al. 2020 Metal\n",
       "2 885041_WS_Metal 885041  Volume WS     Ihantola et al. 2020 Metal\n",
       "3 885041_WS_Metal 885041  Volume WS     Ihantola et al. 2020 Metal\n",
       "4 885041_WS_Metal 885041  Volume WS     Ihantola et al. 2020 Metal\n",
       "5 885041_WS_Metal 885041  Volume WS     Ihantola et al. 2020 Metal\n",
       "6 885041_WS_Metal 885041  Volume WS     Ihantola et al. 2020 Metal\n",
       "  DTXSID        Value    \n",
       "1 K             99550.000\n",
       "2 Ca             3710.000\n",
       "3 Fe             1088.500\n",
       "4 Mn              133.000\n",
       "5 Ni               25.750\n",
       "6 DTXSID5023908  1658.263"
      ]
     },
     "metadata": {},
     "output_type": "display_data"
    },
    {
     "data": {
      "text/html": [
       "<style>\n",
       ".list-inline {list-style: none; margin:0; padding: 0}\n",
       ".list-inline>li {display: inline-block}\n",
       ".list-inline>li:not(:last-child)::after {content: \"\\00b7\"; padding: 0 .5ex}\n",
       "</style>\n",
       "<ol class=list-inline><li>390</li><li>8</li></ol>\n"
      ],
      "text/latex": [
       "\\begin{enumerate*}\n",
       "\\item 390\n",
       "\\item 8\n",
       "\\end{enumerate*}\n"
      ],
      "text/markdown": [
       "1. 390\n",
       "2. 8\n",
       "\n",
       "\n"
      ],
      "text/plain": [
       "[1] 390   8"
      ]
     },
     "metadata": {},
     "output_type": "display_data"
    }
   ],
   "source": [
    "random_forest_imputation = function(dataset){\n",
    "    # \"\"\"\n",
    "    # Using random forest (RF) to generate MAR data.\n",
    "\n",
    "    # :param: wide dataframe\n",
    "    # :output: a longer dataframe \n",
    "\n",
    "    # \"\"\"\n",
    "    \n",
    "    preimputed_df = dataset[,7:ncol(dataset)]\n",
    "    \n",
    "    imputed_RF_object = missForest(as.matrix(preimputed_df))\n",
    "    imputed_RF_df = imputed_RF_object$ximp\n",
    "    imputed_final_df = data.frame(cbind(dataset[,1:6], imputed_RF_df)) %>%\n",
    "        pivot_longer(cols = 7:ncol(dataset), names_to = \"DTXSID\", values_to = \"Value\")\n",
    "    \n",
    "    return(imputed_final_df)\n",
    "}\n",
    "\n",
    "# calling fn\n",
    "rf_vol_imputed_df = random_forest_imputation(preimputed_vol_df) \n",
    "rf_weight_imputed_df = random_forest_imputation(preimputed_weight_df)\n",
    "\n",
    "rf_imputed_df = rbind(rf_vol_imputed_df, \n",
    "                      rf_weight_imputed_df) \n",
    "\n",
    "head(rf_imputed_df)\n",
    "dim(rf_imputed_df)"
   ]
  },
  {
   "cell_type": "code",
   "execution_count": 35,
   "id": "7db6faee-27f7-4daa-8c24-d447c9ec8e55",
   "metadata": {},
   "outputs": [
    {
     "name": "stderr",
     "output_type": "stream",
     "text": [
      "\u001b[1m\u001b[22mJoining with `by = join_by(DTXSID)`\n"
     ]
    },
    {
     "data": {
      "text/html": [
       "<table class=\"dataframe\">\n",
       "<caption>A tibble: 6 × 8</caption>\n",
       "<thead>\n",
       "\t<tr><th scope=col>HAWC_ID</th><th scope=col>Metric</th><th scope=col>Sample</th><th scope=col>Study</th><th scope=col>Class</th><th scope=col>DTXSID</th><th scope=col>Name</th><th scope=col>Value</th></tr>\n",
       "\t<tr><th scope=col>&lt;dbl&gt;</th><th scope=col>&lt;chr&gt;</th><th scope=col>&lt;chr&gt;</th><th scope=col>&lt;chr&gt;</th><th scope=col>&lt;chr&gt;</th><th scope=col>&lt;chr&gt;</th><th scope=col>&lt;chr&gt;</th><th scope=col>&lt;dbl&gt;</th></tr>\n",
       "</thead>\n",
       "<tbody>\n",
       "\t<tr><td>885041</td><td>Volume</td><td>WS</td><td>Ihantola et al. 2020</td><td>Metal</td><td>K            </td><td>K                 </td><td>99550.000</td></tr>\n",
       "\t<tr><td>885041</td><td>Volume</td><td>WS</td><td>Ihantola et al. 2020</td><td>Metal</td><td>Ca           </td><td>Ca                </td><td> 3710.000</td></tr>\n",
       "\t<tr><td>885041</td><td>Volume</td><td>WS</td><td>Ihantola et al. 2020</td><td>Metal</td><td>Fe           </td><td>Fe                </td><td> 1088.500</td></tr>\n",
       "\t<tr><td>885041</td><td>Volume</td><td>WS</td><td>Ihantola et al. 2020</td><td>Metal</td><td>Mn           </td><td>Mn                </td><td>  133.000</td></tr>\n",
       "\t<tr><td>885041</td><td>Volume</td><td>WS</td><td>Ihantola et al. 2020</td><td>Metal</td><td>Ni           </td><td>Ni                </td><td>   25.750</td></tr>\n",
       "\t<tr><td>885041</td><td>Volume</td><td>WS</td><td>Ihantola et al. 2020</td><td>Metal</td><td>DTXSID5023908</td><td>Benzo(GHI)perylene</td><td> 1658.263</td></tr>\n",
       "</tbody>\n",
       "</table>\n"
      ],
      "text/latex": [
       "A tibble: 6 × 8\n",
       "\\begin{tabular}{llllllll}\n",
       " HAWC\\_ID & Metric & Sample & Study & Class & DTXSID & Name & Value\\\\\n",
       " <dbl> & <chr> & <chr> & <chr> & <chr> & <chr> & <chr> & <dbl>\\\\\n",
       "\\hline\n",
       "\t 885041 & Volume & WS & Ihantola et al. 2020 & Metal & K             & K                  & 99550.000\\\\\n",
       "\t 885041 & Volume & WS & Ihantola et al. 2020 & Metal & Ca            & Ca                 &  3710.000\\\\\n",
       "\t 885041 & Volume & WS & Ihantola et al. 2020 & Metal & Fe            & Fe                 &  1088.500\\\\\n",
       "\t 885041 & Volume & WS & Ihantola et al. 2020 & Metal & Mn            & Mn                 &   133.000\\\\\n",
       "\t 885041 & Volume & WS & Ihantola et al. 2020 & Metal & Ni            & Ni                 &    25.750\\\\\n",
       "\t 885041 & Volume & WS & Ihantola et al. 2020 & Metal & DTXSID5023908 & Benzo(GHI)perylene &  1658.263\\\\\n",
       "\\end{tabular}\n"
      ],
      "text/markdown": [
       "\n",
       "A tibble: 6 × 8\n",
       "\n",
       "| HAWC_ID &lt;dbl&gt; | Metric &lt;chr&gt; | Sample &lt;chr&gt; | Study &lt;chr&gt; | Class &lt;chr&gt; | DTXSID &lt;chr&gt; | Name &lt;chr&gt; | Value &lt;dbl&gt; |\n",
       "|---|---|---|---|---|---|---|---|\n",
       "| 885041 | Volume | WS | Ihantola et al. 2020 | Metal | K             | K                  | 99550.000 |\n",
       "| 885041 | Volume | WS | Ihantola et al. 2020 | Metal | Ca            | Ca                 |  3710.000 |\n",
       "| 885041 | Volume | WS | Ihantola et al. 2020 | Metal | Fe            | Fe                 |  1088.500 |\n",
       "| 885041 | Volume | WS | Ihantola et al. 2020 | Metal | Mn            | Mn                 |   133.000 |\n",
       "| 885041 | Volume | WS | Ihantola et al. 2020 | Metal | Ni            | Ni                 |    25.750 |\n",
       "| 885041 | Volume | WS | Ihantola et al. 2020 | Metal | DTXSID5023908 | Benzo(GHI)perylene |  1658.263 |\n",
       "\n"
      ],
      "text/plain": [
       "  HAWC_ID Metric Sample Study                Class DTXSID       \n",
       "1 885041  Volume WS     Ihantola et al. 2020 Metal K            \n",
       "2 885041  Volume WS     Ihantola et al. 2020 Metal Ca           \n",
       "3 885041  Volume WS     Ihantola et al. 2020 Metal Fe           \n",
       "4 885041  Volume WS     Ihantola et al. 2020 Metal Mn           \n",
       "5 885041  Volume WS     Ihantola et al. 2020 Metal Ni           \n",
       "6 885041  Volume WS     Ihantola et al. 2020 Metal DTXSID5023908\n",
       "  Name               Value    \n",
       "1 K                  99550.000\n",
       "2 Ca                  3710.000\n",
       "3 Fe                  1088.500\n",
       "4 Mn                   133.000\n",
       "5 Ni                    25.750\n",
       "6 Benzo(GHI)perylene  1658.263"
      ]
     },
     "metadata": {},
     "output_type": "display_data"
    },
    {
     "data": {
      "text/html": [
       "<style>\n",
       ".list-inline {list-style: none; margin:0; padding: 0}\n",
       ".list-inline>li {display: inline-block}\n",
       ".list-inline>li:not(:last-child)::after {content: \"\\00b7\"; padding: 0 .5ex}\n",
       "</style>\n",
       "<ol class=list-inline><li>390</li><li>8</li></ol>\n"
      ],
      "text/latex": [
       "\\begin{enumerate*}\n",
       "\\item 390\n",
       "\\item 8\n",
       "\\end{enumerate*}\n"
      ],
      "text/markdown": [
       "1. 390\n",
       "2. 8\n",
       "\n",
       "\n"
      ],
      "text/plain": [
       "[1] 390   8"
      ]
     },
     "metadata": {},
     "output_type": "display_data"
    }
   ],
   "source": [
    "# adding back in name col\n",
    "final_df = left_join(rf_imputed_df, \n",
    "                      combined_df[,c(7:8)] %>%\n",
    "    # metals don't have a DTXSID, so making that col their name\n",
    "    mutate(DTXSID = ifelse(grepl(\"NA\", DTXSID), Name, DTXSID)) %>%\n",
    "    mutate(Name = ifelse(Name == 'Dibenz(ah)anthracene', 'Dibenzo(ah)anthracene', \n",
    "                    ifelse(Name == 'Benz(a)anthracene', 'Benzo(a)anthracene', \n",
    "                        ifelse(Name == 'o-Xylene', 'O-xylene', \n",
    "                            ifelse(Name == 'Propylbenzene (Benzene, propyl)', 'Propylbenzene', \n",
    "                                ifelse(Name == 'n-Hexane', 'Hexane', \n",
    "                                    ifelse(Name == 'Carbon tetrachloride (tetrachloromethane)', 'Carbon tetrachloride',\n",
    "                                        ifelse(Name == 'Trichloromethane (Chloroform)', 'Chloroform', Name)))))))) %>%\n",
    "    unique()) \n",
    "\n",
    "final_df = final_df[,c(2:7,9,8)]\n",
    "\n",
    "head(final_df)\n",
    "dim(final_df)"
   ]
  },
  {
   "cell_type": "code",
   "execution_count": 36,
   "id": "71aabfcd-d6a1-4a68-a845-1e890ab2bab7",
   "metadata": {},
   "outputs": [],
   "source": [
    "# exporting\n",
    "write.xlsx(final_df, paste0(Output,\"/\", \"Processed_Data_\", cur_date, \".xlsx\"), \n",
    "           rowNames = FALSE)"
   ]
  },
  {
   "cell_type": "code",
   "execution_count": null,
   "id": "b003cc96-3d86-4728-be5f-7420fdf4e0e6",
   "metadata": {},
   "outputs": [],
   "source": []
  }
 ],
 "metadata": {
  "kernelspec": {
   "display_name": "R",
   "language": "R",
   "name": "ir"
  },
  "language_info": {
   "codemirror_mode": "r",
   "file_extension": ".r",
   "mimetype": "text/x-r-source",
   "name": "R",
   "pygments_lexer": "r",
   "version": "4.4.3"
  }
 },
 "nbformat": 4,
 "nbformat_minor": 5
}
