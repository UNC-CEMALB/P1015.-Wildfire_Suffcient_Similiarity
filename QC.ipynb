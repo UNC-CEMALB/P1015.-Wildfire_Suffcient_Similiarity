{
 "cells": [
  {
   "cell_type": "code",
   "execution_count": 9,
   "id": "b0a57f4a-dd4b-4d27-83e0-b77e254eee7b",
   "metadata": {},
   "outputs": [
    {
     "name": "stderr",
     "output_type": "stream",
     "text": [
      "\u001b[1m\u001b[22mNew names:\n",
      "\u001b[36m•\u001b[39m `` -> `...11`\n"
     ]
    }
   ],
   "source": [
    "setwd('/Users/alexis/Library/CloudStorage/OneDrive-UniversityofNorthCarolinaatChapelHill/CEMALB_DataAnalysisPM/Projects/P1015. Fire Sufficient Similarity/2. Original Data')\n",
    "\n",
    "library(readxl)\n",
    "library(tidyverse)\n",
    "\n",
    "ws_df = data.frame(read_excel(\"Woodsmoke_Data_011625.xlsx\", sheet = 2))[,c(1:6,8:10)] %>%\n",
    "    filter(Chemical_Class == 'PAH')\n",
    "wf_df = data.frame(read_excel(\"Wildfire_Data_011625.xlsx\", sheet = 2))"
   ]
  },
  {
   "cell_type": "code",
   "execution_count": 10,
   "id": "32fe0bbe-d7f5-4da9-9ec7-dd523c66d76e",
   "metadata": {},
   "outputs": [
    {
     "data": {
      "text/html": [
       "<table class=\"dataframe\">\n",
       "<caption>A data.frame: 6 × 9</caption>\n",
       "<thead>\n",
       "\t<tr><th></th><th scope=col>HAWC.ID</th><th scope=col>Study</th><th scope=col>Sample_Number</th><th scope=col>Chemical_Class</th><th scope=col>Metric</th><th scope=col>Units</th><th scope=col>DTXSID</th><th scope=col>Name</th><th scope=col>Value</th></tr>\n",
       "\t<tr><th></th><th scope=col>&lt;dbl&gt;</th><th scope=col>&lt;chr&gt;</th><th scope=col>&lt;dbl&gt;</th><th scope=col>&lt;chr&gt;</th><th scope=col>&lt;chr&gt;</th><th scope=col>&lt;chr&gt;</th><th scope=col>&lt;chr&gt;</th><th scope=col>&lt;chr&gt;</th><th scope=col>&lt;chr&gt;</th></tr>\n",
       "</thead>\n",
       "<tbody>\n",
       "\t<tr><th scope=row>1</th><td> 821855</td><td>Erlandsson et al. 2020 </td><td>1</td><td>PAH</td><td>Weight</td><td>mg/kg     </td><td>DTXSID3074787</td><td>1-Methylanthracene</td><td>11.3              </td></tr>\n",
       "\t<tr><th scope=row>2</th><td> 821855</td><td>Erlandsson et al. 2020 </td><td>1</td><td>PAH</td><td>Weight</td><td>mg/kg     </td><td>DTXSID3074787</td><td>1-Methylanthracene</td><td>2.2999999999999998</td></tr>\n",
       "\t<tr><th scope=row>3</th><td>1257056</td><td>McCarrick et al. 2024  </td><td>1</td><td>PAH</td><td>Weight</td><td>mg/kg     </td><td>DTXSID3074787</td><td>1-Methylanthracene</td><td>1.66              </td></tr>\n",
       "\t<tr><th scope=row>4</th><td> 267091</td><td>Forchhammer et al. 2012</td><td>1</td><td>PAH</td><td>Volume</td><td>ng/cubic m</td><td>DTXSID3074787</td><td>1-Methylanthracene</td><td>NA                </td></tr>\n",
       "\t<tr><th scope=row>5</th><td> 267091</td><td>Forchhammer et al. 2012</td><td>2</td><td>PAH</td><td>Volume</td><td>ng/cubic m</td><td>DTXSID3074787</td><td>1-Methylanthracene</td><td>NA                </td></tr>\n",
       "\t<tr><th scope=row>6</th><td> 885041</td><td>Ihantola et al. 2020   </td><td>1</td><td>PAH</td><td>Volume</td><td>ng/cubic m</td><td>DTXSID3074787</td><td>1-Methylanthracene</td><td>NA                </td></tr>\n",
       "</tbody>\n",
       "</table>\n"
      ],
      "text/latex": [
       "A data.frame: 6 × 9\n",
       "\\begin{tabular}{r|lllllllll}\n",
       "  & HAWC.ID & Study & Sample\\_Number & Chemical\\_Class & Metric & Units & DTXSID & Name & Value\\\\\n",
       "  & <dbl> & <chr> & <dbl> & <chr> & <chr> & <chr> & <chr> & <chr> & <chr>\\\\\n",
       "\\hline\n",
       "\t1 &  821855 & Erlandsson et al. 2020  & 1 & PAH & Weight & mg/kg      & DTXSID3074787 & 1-Methylanthracene & 11.3              \\\\\n",
       "\t2 &  821855 & Erlandsson et al. 2020  & 1 & PAH & Weight & mg/kg      & DTXSID3074787 & 1-Methylanthracene & 2.2999999999999998\\\\\n",
       "\t3 & 1257056 & McCarrick et al. 2024   & 1 & PAH & Weight & mg/kg      & DTXSID3074787 & 1-Methylanthracene & 1.66              \\\\\n",
       "\t4 &  267091 & Forchhammer et al. 2012 & 1 & PAH & Volume & ng/cubic m & DTXSID3074787 & 1-Methylanthracene & NA                \\\\\n",
       "\t5 &  267091 & Forchhammer et al. 2012 & 2 & PAH & Volume & ng/cubic m & DTXSID3074787 & 1-Methylanthracene & NA                \\\\\n",
       "\t6 &  885041 & Ihantola et al. 2020    & 1 & PAH & Volume & ng/cubic m & DTXSID3074787 & 1-Methylanthracene & NA                \\\\\n",
       "\\end{tabular}\n"
      ],
      "text/markdown": [
       "\n",
       "A data.frame: 6 × 9\n",
       "\n",
       "| <!--/--> | HAWC.ID &lt;dbl&gt; | Study &lt;chr&gt; | Sample_Number &lt;dbl&gt; | Chemical_Class &lt;chr&gt; | Metric &lt;chr&gt; | Units &lt;chr&gt; | DTXSID &lt;chr&gt; | Name &lt;chr&gt; | Value &lt;chr&gt; |\n",
       "|---|---|---|---|---|---|---|---|---|---|\n",
       "| 1 |  821855 | Erlandsson et al. 2020  | 1 | PAH | Weight | mg/kg      | DTXSID3074787 | 1-Methylanthracene | 11.3               |\n",
       "| 2 |  821855 | Erlandsson et al. 2020  | 1 | PAH | Weight | mg/kg      | DTXSID3074787 | 1-Methylanthracene | 2.2999999999999998 |\n",
       "| 3 | 1257056 | McCarrick et al. 2024   | 1 | PAH | Weight | mg/kg      | DTXSID3074787 | 1-Methylanthracene | 1.66               |\n",
       "| 4 |  267091 | Forchhammer et al. 2012 | 1 | PAH | Volume | ng/cubic m | DTXSID3074787 | 1-Methylanthracene | NA                 |\n",
       "| 5 |  267091 | Forchhammer et al. 2012 | 2 | PAH | Volume | ng/cubic m | DTXSID3074787 | 1-Methylanthracene | NA                 |\n",
       "| 6 |  885041 | Ihantola et al. 2020    | 1 | PAH | Volume | ng/cubic m | DTXSID3074787 | 1-Methylanthracene | NA                 |\n",
       "\n"
      ],
      "text/plain": [
       "  HAWC.ID Study                   Sample_Number Chemical_Class Metric\n",
       "1  821855 Erlandsson et al. 2020  1             PAH            Weight\n",
       "2  821855 Erlandsson et al. 2020  1             PAH            Weight\n",
       "3 1257056 McCarrick et al. 2024   1             PAH            Weight\n",
       "4  267091 Forchhammer et al. 2012 1             PAH            Volume\n",
       "5  267091 Forchhammer et al. 2012 2             PAH            Volume\n",
       "6  885041 Ihantola et al. 2020    1             PAH            Volume\n",
       "  Units      DTXSID        Name               Value             \n",
       "1 mg/kg      DTXSID3074787 1-Methylanthracene 11.3              \n",
       "2 mg/kg      DTXSID3074787 1-Methylanthracene 2.2999999999999998\n",
       "3 mg/kg      DTXSID3074787 1-Methylanthracene 1.66              \n",
       "4 ng/cubic m DTXSID3074787 1-Methylanthracene NA                \n",
       "5 ng/cubic m DTXSID3074787 1-Methylanthracene NA                \n",
       "6 ng/cubic m DTXSID3074787 1-Methylanthracene NA                "
      ]
     },
     "metadata": {},
     "output_type": "display_data"
    },
    {
     "data": {
      "text/html": [
       "<table class=\"dataframe\">\n",
       "<caption>A data.frame: 6 × 8</caption>\n",
       "<thead>\n",
       "\t<tr><th></th><th scope=col>HAWC.ID</th><th scope=col>Study</th><th scope=col>Sample_Number</th><th scope=col>Chemical_Class</th><th scope=col>Metric</th><th scope=col>Units</th><th scope=col>Name</th><th scope=col>Value</th></tr>\n",
       "\t<tr><th></th><th scope=col>&lt;dbl&gt;</th><th scope=col>&lt;chr&gt;</th><th scope=col>&lt;dbl&gt;</th><th scope=col>&lt;chr&gt;</th><th scope=col>&lt;chr&gt;</th><th scope=col>&lt;chr&gt;</th><th scope=col>&lt;chr&gt;</th><th scope=col>&lt;chr&gt;</th></tr>\n",
       "</thead>\n",
       "<tbody>\n",
       "\t<tr><th scope=row>1</th><td>1289737</td><td>Campbell et al. 2024</td><td>1</td><td>PAH</td><td>Weight</td><td>mg/kg</td><td>1-Methylchrysene       </td><td>NA</td></tr>\n",
       "\t<tr><th scope=row>2</th><td>1289737</td><td>Campbell et al. 2024</td><td>1</td><td>PAH</td><td>Weight</td><td>mg/kg</td><td>1-Methylnaphthalene    </td><td>NA</td></tr>\n",
       "\t<tr><th scope=row>3</th><td>1289737</td><td>Campbell et al. 2024</td><td>1</td><td>PAH</td><td>Weight</td><td>mg/kg</td><td>2,6-Dimethylnaphthalene</td><td>NA</td></tr>\n",
       "\t<tr><th scope=row>4</th><td>1289737</td><td>Campbell et al. 2024</td><td>1</td><td>PAH</td><td>Weight</td><td>mg/kg</td><td>2-Methylnaphthalene    </td><td>NA</td></tr>\n",
       "\t<tr><th scope=row>5</th><td>1289737</td><td>Campbell et al. 2024</td><td>1</td><td>PAH</td><td>Weight</td><td>mg/kg</td><td>9-Methylanthracene     </td><td>NA</td></tr>\n",
       "\t<tr><th scope=row>6</th><td>1289737</td><td>Campbell et al. 2024</td><td>1</td><td>PAH</td><td>Weight</td><td>mg/kg</td><td>Acenaphthylene         </td><td>NA</td></tr>\n",
       "</tbody>\n",
       "</table>\n"
      ],
      "text/latex": [
       "A data.frame: 6 × 8\n",
       "\\begin{tabular}{r|llllllll}\n",
       "  & HAWC.ID & Study & Sample\\_Number & Chemical\\_Class & Metric & Units & Name & Value\\\\\n",
       "  & <dbl> & <chr> & <dbl> & <chr> & <chr> & <chr> & <chr> & <chr>\\\\\n",
       "\\hline\n",
       "\t1 & 1289737 & Campbell et al. 2024 & 1 & PAH & Weight & mg/kg & 1-Methylchrysene        & NA\\\\\n",
       "\t2 & 1289737 & Campbell et al. 2024 & 1 & PAH & Weight & mg/kg & 1-Methylnaphthalene     & NA\\\\\n",
       "\t3 & 1289737 & Campbell et al. 2024 & 1 & PAH & Weight & mg/kg & 2,6-Dimethylnaphthalene & NA\\\\\n",
       "\t4 & 1289737 & Campbell et al. 2024 & 1 & PAH & Weight & mg/kg & 2-Methylnaphthalene     & NA\\\\\n",
       "\t5 & 1289737 & Campbell et al. 2024 & 1 & PAH & Weight & mg/kg & 9-Methylanthracene      & NA\\\\\n",
       "\t6 & 1289737 & Campbell et al. 2024 & 1 & PAH & Weight & mg/kg & Acenaphthylene          & NA\\\\\n",
       "\\end{tabular}\n"
      ],
      "text/markdown": [
       "\n",
       "A data.frame: 6 × 8\n",
       "\n",
       "| <!--/--> | HAWC.ID &lt;dbl&gt; | Study &lt;chr&gt; | Sample_Number &lt;dbl&gt; | Chemical_Class &lt;chr&gt; | Metric &lt;chr&gt; | Units &lt;chr&gt; | Name &lt;chr&gt; | Value &lt;chr&gt; |\n",
       "|---|---|---|---|---|---|---|---|---|\n",
       "| 1 | 1289737 | Campbell et al. 2024 | 1 | PAH | Weight | mg/kg | 1-Methylchrysene        | NA |\n",
       "| 2 | 1289737 | Campbell et al. 2024 | 1 | PAH | Weight | mg/kg | 1-Methylnaphthalene     | NA |\n",
       "| 3 | 1289737 | Campbell et al. 2024 | 1 | PAH | Weight | mg/kg | 2,6-Dimethylnaphthalene | NA |\n",
       "| 4 | 1289737 | Campbell et al. 2024 | 1 | PAH | Weight | mg/kg | 2-Methylnaphthalene     | NA |\n",
       "| 5 | 1289737 | Campbell et al. 2024 | 1 | PAH | Weight | mg/kg | 9-Methylanthracene      | NA |\n",
       "| 6 | 1289737 | Campbell et al. 2024 | 1 | PAH | Weight | mg/kg | Acenaphthylene          | NA |\n",
       "\n"
      ],
      "text/plain": [
       "  HAWC.ID Study                Sample_Number Chemical_Class Metric Units\n",
       "1 1289737 Campbell et al. 2024 1             PAH            Weight mg/kg\n",
       "2 1289737 Campbell et al. 2024 1             PAH            Weight mg/kg\n",
       "3 1289737 Campbell et al. 2024 1             PAH            Weight mg/kg\n",
       "4 1289737 Campbell et al. 2024 1             PAH            Weight mg/kg\n",
       "5 1289737 Campbell et al. 2024 1             PAH            Weight mg/kg\n",
       "6 1289737 Campbell et al. 2024 1             PAH            Weight mg/kg\n",
       "  Name                    Value\n",
       "1 1-Methylchrysene        NA   \n",
       "2 1-Methylnaphthalene     NA   \n",
       "3 2,6-Dimethylnaphthalene NA   \n",
       "4 2-Methylnaphthalene     NA   \n",
       "5 9-Methylanthracene      NA   \n",
       "6 Acenaphthylene          NA   "
      ]
     },
     "metadata": {},
     "output_type": "display_data"
    }
   ],
   "source": [
    "head(ws_df)\n",
    "head(wf_df)"
   ]
  },
  {
   "cell_type": "code",
   "execution_count": 11,
   "id": "a5ba2976-5851-442e-b0c8-82a047072010",
   "metadata": {},
   "outputs": [
    {
     "data": {
      "text/html": [
       "<style>\n",
       ".list-inline {list-style: none; margin:0; padding: 0}\n",
       ".list-inline>li {display: inline-block}\n",
       ".list-inline>li:not(:last-child)::after {content: \"\\00b7\"; padding: 0 .5ex}\n",
       "</style>\n",
       "<ol class=list-inline><li>4181</li><li>2</li></ol>\n"
      ],
      "text/latex": [
       "\\begin{enumerate*}\n",
       "\\item 4181\n",
       "\\item 2\n",
       "\\end{enumerate*}\n"
      ],
      "text/markdown": [
       "1. 4181\n",
       "2. 2\n",
       "\n",
       "\n"
      ],
      "text/plain": [
       "[1] 4181    2"
      ]
     },
     "metadata": {},
     "output_type": "display_data"
    },
    {
     "data": {
      "text/html": [
       "<style>\n",
       ".list-inline {list-style: none; margin:0; padding: 0}\n",
       ".list-inline>li {display: inline-block}\n",
       ".list-inline>li:not(:last-child)::after {content: \"\\00b7\"; padding: 0 .5ex}\n",
       "</style>\n",
       "<ol class=list-inline><li>1187</li><li>2</li></ol>\n"
      ],
      "text/latex": [
       "\\begin{enumerate*}\n",
       "\\item 1187\n",
       "\\item 2\n",
       "\\end{enumerate*}\n"
      ],
      "text/markdown": [
       "1. 1187\n",
       "2. 2\n",
       "\n",
       "\n"
      ],
      "text/plain": [
       "[1] 1187    2"
      ]
     },
     "metadata": {},
     "output_type": "display_data"
    },
    {
     "data": {
      "text/html": [
       "<table class=\"dataframe\">\n",
       "<caption>A data.frame: 6 × 2</caption>\n",
       "<thead>\n",
       "\t<tr><th></th><th scope=col>DTXSID</th><th scope=col>Name</th></tr>\n",
       "\t<tr><th></th><th scope=col>&lt;chr&gt;</th><th scope=col>&lt;chr&gt;</th></tr>\n",
       "</thead>\n",
       "<tbody>\n",
       "\t<tr><th scope=row>1</th><td>DTXSID3074787</td><td>1-Methylanthracene</td></tr>\n",
       "\t<tr><th scope=row>2</th><td>DTXSID3074787</td><td>1-Methylanthracene</td></tr>\n",
       "\t<tr><th scope=row>3</th><td>DTXSID3074787</td><td>1-Methylanthracene</td></tr>\n",
       "\t<tr><th scope=row>4</th><td>DTXSID3074787</td><td>1-Methylanthracene</td></tr>\n",
       "\t<tr><th scope=row>5</th><td>DTXSID3074787</td><td>1-Methylanthracene</td></tr>\n",
       "\t<tr><th scope=row>6</th><td>DTXSID3074787</td><td>1-Methylanthracene</td></tr>\n",
       "</tbody>\n",
       "</table>\n"
      ],
      "text/latex": [
       "A data.frame: 6 × 2\n",
       "\\begin{tabular}{r|ll}\n",
       "  & DTXSID & Name\\\\\n",
       "  & <chr> & <chr>\\\\\n",
       "\\hline\n",
       "\t1 & DTXSID3074787 & 1-Methylanthracene\\\\\n",
       "\t2 & DTXSID3074787 & 1-Methylanthracene\\\\\n",
       "\t3 & DTXSID3074787 & 1-Methylanthracene\\\\\n",
       "\t4 & DTXSID3074787 & 1-Methylanthracene\\\\\n",
       "\t5 & DTXSID3074787 & 1-Methylanthracene\\\\\n",
       "\t6 & DTXSID3074787 & 1-Methylanthracene\\\\\n",
       "\\end{tabular}\n"
      ],
      "text/markdown": [
       "\n",
       "A data.frame: 6 × 2\n",
       "\n",
       "| <!--/--> | DTXSID &lt;chr&gt; | Name &lt;chr&gt; |\n",
       "|---|---|---|\n",
       "| 1 | DTXSID3074787 | 1-Methylanthracene |\n",
       "| 2 | DTXSID3074787 | 1-Methylanthracene |\n",
       "| 3 | DTXSID3074787 | 1-Methylanthracene |\n",
       "| 4 | DTXSID3074787 | 1-Methylanthracene |\n",
       "| 5 | DTXSID3074787 | 1-Methylanthracene |\n",
       "| 6 | DTXSID3074787 | 1-Methylanthracene |\n",
       "\n"
      ],
      "text/plain": [
       "  DTXSID        Name              \n",
       "1 DTXSID3074787 1-Methylanthracene\n",
       "2 DTXSID3074787 1-Methylanthracene\n",
       "3 DTXSID3074787 1-Methylanthracene\n",
       "4 DTXSID3074787 1-Methylanthracene\n",
       "5 DTXSID3074787 1-Methylanthracene\n",
       "6 DTXSID3074787 1-Methylanthracene"
      ]
     },
     "metadata": {},
     "output_type": "display_data"
    },
    {
     "data": {
      "text/html": [
       "<table class=\"dataframe\">\n",
       "<caption>A data.frame: 6 × 2</caption>\n",
       "<thead>\n",
       "\t<tr><th></th><th scope=col>Name</th><th scope=col>Value</th></tr>\n",
       "\t<tr><th></th><th scope=col>&lt;chr&gt;</th><th scope=col>&lt;chr&gt;</th></tr>\n",
       "</thead>\n",
       "<tbody>\n",
       "\t<tr><th scope=row>1</th><td>1-Methylchrysene       </td><td>NA</td></tr>\n",
       "\t<tr><th scope=row>2</th><td>1-Methylnaphthalene    </td><td>NA</td></tr>\n",
       "\t<tr><th scope=row>3</th><td>2,6-Dimethylnaphthalene</td><td>NA</td></tr>\n",
       "\t<tr><th scope=row>4</th><td>2-Methylnaphthalene    </td><td>NA</td></tr>\n",
       "\t<tr><th scope=row>5</th><td>9-Methylanthracene     </td><td>NA</td></tr>\n",
       "\t<tr><th scope=row>6</th><td>Acenaphthylene         </td><td>NA</td></tr>\n",
       "</tbody>\n",
       "</table>\n"
      ],
      "text/latex": [
       "A data.frame: 6 × 2\n",
       "\\begin{tabular}{r|ll}\n",
       "  & Name & Value\\\\\n",
       "  & <chr> & <chr>\\\\\n",
       "\\hline\n",
       "\t1 & 1-Methylchrysene        & NA\\\\\n",
       "\t2 & 1-Methylnaphthalene     & NA\\\\\n",
       "\t3 & 2,6-Dimethylnaphthalene & NA\\\\\n",
       "\t4 & 2-Methylnaphthalene     & NA\\\\\n",
       "\t5 & 9-Methylanthracene      & NA\\\\\n",
       "\t6 & Acenaphthylene          & NA\\\\\n",
       "\\end{tabular}\n"
      ],
      "text/markdown": [
       "\n",
       "A data.frame: 6 × 2\n",
       "\n",
       "| <!--/--> | Name &lt;chr&gt; | Value &lt;chr&gt; |\n",
       "|---|---|---|\n",
       "| 1 | 1-Methylchrysene        | NA |\n",
       "| 2 | 1-Methylnaphthalene     | NA |\n",
       "| 3 | 2,6-Dimethylnaphthalene | NA |\n",
       "| 4 | 2-Methylnaphthalene     | NA |\n",
       "| 5 | 9-Methylanthracene      | NA |\n",
       "| 6 | Acenaphthylene          | NA |\n",
       "\n"
      ],
      "text/plain": [
       "  Name                    Value\n",
       "1 1-Methylchrysene        NA   \n",
       "2 1-Methylnaphthalene     NA   \n",
       "3 2,6-Dimethylnaphthalene NA   \n",
       "4 2-Methylnaphthalene     NA   \n",
       "5 9-Methylanthracene      NA   \n",
       "6 Acenaphthylene          NA   "
      ]
     },
     "metadata": {},
     "output_type": "display_data"
    }
   ],
   "source": [
    "dim(ws_df[,c(7,8)])\n",
    "dim(wf_df[,c(7:8)])\n",
    "head(ws_df[,c(7,8)])\n",
    "head(wf_df[,c(7:8)])"
   ]
  },
  {
   "cell_type": "code",
   "execution_count": 12,
   "id": "b06d353e-3ab5-47a8-b25c-3ecc2bdbc4fa",
   "metadata": {},
   "outputs": [
    {
     "data": {
      "text/html": [
       "71"
      ],
      "text/latex": [
       "71"
      ],
      "text/markdown": [
       "71"
      ],
      "text/plain": [
       "[1] 71"
      ]
     },
     "metadata": {},
     "output_type": "display_data"
    },
    {
     "data": {
      "text/html": [
       "71"
      ],
      "text/latex": [
       "71"
      ],
      "text/markdown": [
       "71"
      ],
      "text/plain": [
       "[1] 71"
      ]
     },
     "metadata": {},
     "output_type": "display_data"
    }
   ],
   "source": [
    "length(unique(ws_df$Name))\n",
    "length(unique(ws_df$DTXSID))\n",
    "\n",
    "# ws_df$Name[duplicated(ws_df$Name)]\n",
    "# ws_df$DTXSID[duplicated(ws_df$DTXSID)]"
   ]
  },
  {
   "cell_type": "code",
   "execution_count": 13,
   "id": "623b2f7f-df2b-4838-832f-869633f09498",
   "metadata": {},
   "outputs": [
    {
     "name": "stderr",
     "output_type": "stream",
     "text": [
      "\u001b[1m\u001b[22mJoining with `by = join_by(Name)`\n",
      "Warning message in left_join(wf_df[, c(7:8)], ws_df[, c(7, 8)]):\n",
      "“\u001b[1m\u001b[22mDetected an unexpected many-to-many relationship between `x` and `y`.\n",
      "\u001b[36mℹ\u001b[39m Row 1 of `x` matches multiple rows in `y`.\n",
      "\u001b[36mℹ\u001b[39m Row 28 of `y` matches multiple rows in `x`.\n",
      "\u001b[36mℹ\u001b[39m If a many-to-many relationship is expected, set `relationship =\n",
      "  \"many-to-many\"` to silence this warning.”\n"
     ]
    },
    {
     "data": {
      "text/html": [
       "<table class=\"dataframe\">\n",
       "<caption>A data.frame: 6 × 3</caption>\n",
       "<thead>\n",
       "\t<tr><th></th><th scope=col>Name</th><th scope=col>Value</th><th scope=col>DTXSID</th></tr>\n",
       "\t<tr><th></th><th scope=col>&lt;chr&gt;</th><th scope=col>&lt;chr&gt;</th><th scope=col>&lt;chr&gt;</th></tr>\n",
       "</thead>\n",
       "<tbody>\n",
       "\t<tr><th scope=row>1</th><td>1-Methylchrysene</td><td>NA</td><td>DTXSID1074759</td></tr>\n",
       "\t<tr><th scope=row>2</th><td>1-Methylchrysene</td><td>NA</td><td>DTXSID1074759</td></tr>\n",
       "\t<tr><th scope=row>3</th><td>1-Methylchrysene</td><td>NA</td><td>DTXSID1074759</td></tr>\n",
       "\t<tr><th scope=row>4</th><td>1-Methylchrysene</td><td>NA</td><td>DTXSID1074759</td></tr>\n",
       "\t<tr><th scope=row>5</th><td>1-Methylchrysene</td><td>NA</td><td>DTXSID1074759</td></tr>\n",
       "\t<tr><th scope=row>6</th><td>1-Methylchrysene</td><td>NA</td><td>DTXSID1074759</td></tr>\n",
       "</tbody>\n",
       "</table>\n"
      ],
      "text/latex": [
       "A data.frame: 6 × 3\n",
       "\\begin{tabular}{r|lll}\n",
       "  & Name & Value & DTXSID\\\\\n",
       "  & <chr> & <chr> & <chr>\\\\\n",
       "\\hline\n",
       "\t1 & 1-Methylchrysene & NA & DTXSID1074759\\\\\n",
       "\t2 & 1-Methylchrysene & NA & DTXSID1074759\\\\\n",
       "\t3 & 1-Methylchrysene & NA & DTXSID1074759\\\\\n",
       "\t4 & 1-Methylchrysene & NA & DTXSID1074759\\\\\n",
       "\t5 & 1-Methylchrysene & NA & DTXSID1074759\\\\\n",
       "\t6 & 1-Methylchrysene & NA & DTXSID1074759\\\\\n",
       "\\end{tabular}\n"
      ],
      "text/markdown": [
       "\n",
       "A data.frame: 6 × 3\n",
       "\n",
       "| <!--/--> | Name &lt;chr&gt; | Value &lt;chr&gt; | DTXSID &lt;chr&gt; |\n",
       "|---|---|---|---|\n",
       "| 1 | 1-Methylchrysene | NA | DTXSID1074759 |\n",
       "| 2 | 1-Methylchrysene | NA | DTXSID1074759 |\n",
       "| 3 | 1-Methylchrysene | NA | DTXSID1074759 |\n",
       "| 4 | 1-Methylchrysene | NA | DTXSID1074759 |\n",
       "| 5 | 1-Methylchrysene | NA | DTXSID1074759 |\n",
       "| 6 | 1-Methylchrysene | NA | DTXSID1074759 |\n",
       "\n"
      ],
      "text/plain": [
       "  Name             Value DTXSID       \n",
       "1 1-Methylchrysene NA    DTXSID1074759\n",
       "2 1-Methylchrysene NA    DTXSID1074759\n",
       "3 1-Methylchrysene NA    DTXSID1074759\n",
       "4 1-Methylchrysene NA    DTXSID1074759\n",
       "5 1-Methylchrysene NA    DTXSID1074759\n",
       "6 1-Methylchrysene NA    DTXSID1074759"
      ]
     },
     "metadata": {},
     "output_type": "display_data"
    }
   ],
   "source": [
    "a = left_join(wf_df[,c(7:8)], ws_df[,c(7,8)])\n",
    "head(a)"
   ]
  },
  {
   "cell_type": "code",
   "execution_count": 14,
   "id": "2f9f04ef-7d5c-4158-b1b0-f1f758f26c48",
   "metadata": {},
   "outputs": [
    {
     "data": {
      "text/html": [
       "<style>\n",
       ".list-inline {list-style: none; margin:0; padding: 0}\n",
       ".list-inline>li {display: inline-block}\n",
       ".list-inline>li:not(:last-child)::after {content: \"\\00b7\"; padding: 0 .5ex}\n",
       "</style>\n",
       "<ol class=list-inline><li>4181</li><li>2</li></ol>\n"
      ],
      "text/latex": [
       "\\begin{enumerate*}\n",
       "\\item 4181\n",
       "\\item 2\n",
       "\\end{enumerate*}\n"
      ],
      "text/markdown": [
       "1. 4181\n",
       "2. 2\n",
       "\n",
       "\n"
      ],
      "text/plain": [
       "[1] 4181    2"
      ]
     },
     "metadata": {},
     "output_type": "display_data"
    },
    {
     "data": {
      "text/html": [
       "<style>\n",
       ".list-inline {list-style: none; margin:0; padding: 0}\n",
       ".list-inline>li {display: inline-block}\n",
       ".list-inline>li:not(:last-child)::after {content: \"\\00b7\"; padding: 0 .5ex}\n",
       "</style>\n",
       "<ol class=list-inline><li>84799</li><li>3</li></ol>\n"
      ],
      "text/latex": [
       "\\begin{enumerate*}\n",
       "\\item 84799\n",
       "\\item 3\n",
       "\\end{enumerate*}\n"
      ],
      "text/markdown": [
       "1. 84799\n",
       "2. 3\n",
       "\n",
       "\n"
      ],
      "text/plain": [
       "[1] 84799     3"
      ]
     },
     "metadata": {},
     "output_type": "display_data"
    }
   ],
   "source": [
    "dim(ws_df[,c(7,8)])\n",
    "dim(a)"
   ]
  },
  {
   "cell_type": "markdown",
   "id": "f0073ad2-d2dd-497e-b201-4ff96b048358",
   "metadata": {},
   "source": [
    "## Check to ensure all chemical names were assigned exactly one DTXSID"
   ]
  },
  {
   "cell_type": "code",
   "execution_count": 32,
   "id": "7d0cb615-49cb-4a50-9dfb-99526433970c",
   "metadata": {},
   "outputs": [
    {
     "name": "stdout",
     "output_type": "stream",
     "text": [
      "[1] \"2-Phenylnaphthalene\"\n",
      "[1] \"DTXSID8060614\" \"DTXSID0025654\"\n"
     ]
    }
   ],
   "source": [
    "unique_name = unique(ws_df$Name)\n",
    "for (i in 1:length(unique_name)){\n",
    "    filtered_df = ws_df %>%\n",
    "        filter(Name == unique_name[i])\n",
    "    \n",
    "\n",
    "    if (length(unique(filtered_df$DTXSID)) > 1){\n",
    "        print(unique_name[i])\n",
    "        print(unique(filtered_df$DTXSID))\n",
    "\n",
    "    }\n",
    "}"
   ]
  },
  {
   "cell_type": "code",
   "execution_count": 33,
   "id": "b63afc9f-01d3-4a0a-8e78-52bdc80938cc",
   "metadata": {},
   "outputs": [
    {
     "data": {
      "text/html": [
       "<table class=\"dataframe\">\n",
       "<caption>A data.frame: 27 × 9</caption>\n",
       "<thead>\n",
       "\t<tr><th scope=col>HAWC.ID</th><th scope=col>Study</th><th scope=col>Sample_Number</th><th scope=col>Chemical_Class</th><th scope=col>Metric</th><th scope=col>Units</th><th scope=col>DTXSID</th><th scope=col>Name</th><th scope=col>Value</th></tr>\n",
       "\t<tr><th scope=col>&lt;dbl&gt;</th><th scope=col>&lt;chr&gt;</th><th scope=col>&lt;dbl&gt;</th><th scope=col>&lt;chr&gt;</th><th scope=col>&lt;chr&gt;</th><th scope=col>&lt;chr&gt;</th><th scope=col>&lt;chr&gt;</th><th scope=col>&lt;chr&gt;</th><th scope=col>&lt;chr&gt;</th></tr>\n",
       "</thead>\n",
       "<tbody>\n",
       "\t<tr><td> 821855</td><td>Erlandsson et al. 2020  </td><td>1</td><td>PAH</td><td>Weight</td><td>mg/kg     </td><td>DTXSID8060614</td><td>2-Phenylnaphthalene</td><td>11.6 </td></tr>\n",
       "\t<tr><td> 821855</td><td>Erlandsson et al. 2020  </td><td>2</td><td>PAH</td><td>Weight</td><td>mg/kg     </td><td>DTXSID8060614</td><td>2-Phenylnaphthalene</td><td>12.2 </td></tr>\n",
       "\t<tr><td>1257056</td><td>McCarrick et al. 2024   </td><td>1</td><td>PAH</td><td>Weight</td><td>mg/kg     </td><td>DTXSID0025654</td><td>2-Phenylnaphthalene</td><td>18.63</td></tr>\n",
       "\t<tr><td> 267091</td><td>Forchhammer et al. 2012 </td><td>1</td><td>PAH</td><td>Volume</td><td>ng/cubic m</td><td>DTXSID8060614</td><td>2-Phenylnaphthalene</td><td>NA   </td></tr>\n",
       "\t<tr><td> 267091</td><td>Forchhammer et al. 2012 </td><td>2</td><td>PAH</td><td>Volume</td><td>ng/cubic m</td><td>DTXSID8060614</td><td>2-Phenylnaphthalene</td><td>NA   </td></tr>\n",
       "\t<tr><td> 885041</td><td>Ihantola et al. 2020    </td><td>1</td><td>PAH</td><td>Volume</td><td>ng/cubic m</td><td>DTXSID8060614</td><td>2-Phenylnaphthalene</td><td>NA   </td></tr>\n",
       "\t<tr><td> 885041</td><td>Ihantola et al. 2020    </td><td>2</td><td>PAH</td><td>Volume</td><td>ng/cubic m</td><td>DTXSID8060614</td><td>2-Phenylnaphthalene</td><td>NA   </td></tr>\n",
       "\t<tr><td> 993956</td><td>Ihantola et al. 2022    </td><td>1</td><td>PAH</td><td>Volume</td><td>ng/cubic m</td><td>DTXSID8060614</td><td>2-Phenylnaphthalene</td><td>NA   </td></tr>\n",
       "\t<tr><td>1263484</td><td>Leese et al. 1989       </td><td>1</td><td>PAH</td><td>Volume</td><td>ng/cubic m</td><td>DTXSID8060614</td><td>2-Phenylnaphthalene</td><td>NA   </td></tr>\n",
       "\t<tr><td>1263484</td><td>Leese et al. 1989       </td><td>2</td><td>PAH</td><td>Volume</td><td>ng/cubic m</td><td>DTXSID8060614</td><td>2-Phenylnaphthalene</td><td>NA   </td></tr>\n",
       "\t<tr><td> 271703</td><td>Mumford 1989            </td><td>1</td><td>PAH</td><td>Volume</td><td>ng/cubic m</td><td>DTXSID8060614</td><td>2-Phenylnaphthalene</td><td>NA   </td></tr>\n",
       "\t<tr><td>1063102</td><td>Nielsen et al. 1992     </td><td>1</td><td>PAH</td><td>Volume</td><td>ng/cubic m</td><td>DTXSID8060614</td><td>2-Phenylnaphthalene</td><td>NA   </td></tr>\n",
       "\t<tr><td>1063102</td><td>Nielsen et al. 1992     </td><td>2</td><td>PAH</td><td>Volume</td><td>ng/cubic m</td><td>DTXSID8060614</td><td>2-Phenylnaphthalene</td><td>NA   </td></tr>\n",
       "\t<tr><td>1063102</td><td>Nielsen et al. 1992     </td><td>3</td><td>PAH</td><td>Volume</td><td>ng/cubic m</td><td>DTXSID8060614</td><td>2-Phenylnaphthalene</td><td>NA   </td></tr>\n",
       "\t<tr><td>1063102</td><td>Nielsen et al. 1992     </td><td>4</td><td>PAH</td><td>Volume</td><td>ng/cubic m</td><td>DTXSID8060614</td><td>2-Phenylnaphthalene</td><td>NA   </td></tr>\n",
       "\t<tr><td>1063102</td><td>Nielsen et al. 1992     </td><td>5</td><td>PAH</td><td>Volume</td><td>ng/cubic m</td><td>DTXSID8060614</td><td>2-Phenylnaphthalene</td><td>NA   </td></tr>\n",
       "\t<tr><td>1063102</td><td>Nielsen et al. 1992     </td><td>6</td><td>PAH</td><td>Volume</td><td>ng/cubic m</td><td>DTXSID8060614</td><td>2-Phenylnaphthalene</td><td>NA   </td></tr>\n",
       "\t<tr><td>1063102</td><td>Nielsen et al. 1992     </td><td>7</td><td>PAH</td><td>Volume</td><td>ng/cubic m</td><td>DTXSID8060614</td><td>2-Phenylnaphthalene</td><td>NA   </td></tr>\n",
       "\t<tr><td>1063102</td><td>Nielsen et al. 1992     </td><td>8</td><td>PAH</td><td>Volume</td><td>ng/cubic m</td><td>DTXSID8060614</td><td>2-Phenylnaphthalene</td><td>NA   </td></tr>\n",
       "\t<tr><td> 429445</td><td>Rajput 2010             </td><td>1</td><td>PAH</td><td>Volume</td><td>ng/cubic m</td><td>DTXSID8060614</td><td>2-Phenylnaphthalene</td><td>NA   </td></tr>\n",
       "\t<tr><td>1102875</td><td>Sada-Ovalle et al. 2018 </td><td>1</td><td>PAH</td><td>Volume</td><td>ng/cubic m</td><td>DTXSID8060614</td><td>2-Phenylnaphthalene</td><td>NA   </td></tr>\n",
       "\t<tr><td> 266980</td><td>Stockfelt et al. 2012   </td><td>1</td><td>PAH</td><td>Volume</td><td>ng/cubic m</td><td>DTXSID8060614</td><td>2-Phenylnaphthalene</td><td>NA   </td></tr>\n",
       "\t<tr><td> 266980</td><td>Stockfelt et al. 2012   </td><td>2</td><td>PAH</td><td>Volume</td><td>ng/cubic m</td><td>DTXSID8060614</td><td>2-Phenylnaphthalene</td><td>NA   </td></tr>\n",
       "\t<tr><td> 267140</td><td>Alfheim and Ramdahl 1984</td><td>1</td><td>PAH</td><td>Volume</td><td>ng/cubic m</td><td>DTXSID8060614</td><td>2-Phenylnaphthalene</td><td>NA   </td></tr>\n",
       "\t<tr><td>1263480</td><td>Burnet et al. 1990      </td><td>1</td><td>PAH</td><td>Volume</td><td>ng/cubic m</td><td>DTXSID8060614</td><td>2-Phenylnaphthalene</td><td>NA   </td></tr>\n",
       "\t<tr><td>1263480</td><td>Burnet et al. 1990      </td><td>2</td><td>PAH</td><td>Volume</td><td>ng/cubic m</td><td>DTXSID8060614</td><td>2-Phenylnaphthalene</td><td>NA   </td></tr>\n",
       "\t<tr><td>1263480</td><td>Burnet et al. 1990      </td><td>3</td><td>PAH</td><td>Volume</td><td>ng/cubic m</td><td>DTXSID8060614</td><td>2-Phenylnaphthalene</td><td>NA   </td></tr>\n",
       "</tbody>\n",
       "</table>\n"
      ],
      "text/latex": [
       "A data.frame: 27 × 9\n",
       "\\begin{tabular}{lllllllll}\n",
       " HAWC.ID & Study & Sample\\_Number & Chemical\\_Class & Metric & Units & DTXSID & Name & Value\\\\\n",
       " <dbl> & <chr> & <dbl> & <chr> & <chr> & <chr> & <chr> & <chr> & <chr>\\\\\n",
       "\\hline\n",
       "\t  821855 & Erlandsson et al. 2020   & 1 & PAH & Weight & mg/kg      & DTXSID8060614 & 2-Phenylnaphthalene & 11.6 \\\\\n",
       "\t  821855 & Erlandsson et al. 2020   & 2 & PAH & Weight & mg/kg      & DTXSID8060614 & 2-Phenylnaphthalene & 12.2 \\\\\n",
       "\t 1257056 & McCarrick et al. 2024    & 1 & PAH & Weight & mg/kg      & DTXSID0025654 & 2-Phenylnaphthalene & 18.63\\\\\n",
       "\t  267091 & Forchhammer et al. 2012  & 1 & PAH & Volume & ng/cubic m & DTXSID8060614 & 2-Phenylnaphthalene & NA   \\\\\n",
       "\t  267091 & Forchhammer et al. 2012  & 2 & PAH & Volume & ng/cubic m & DTXSID8060614 & 2-Phenylnaphthalene & NA   \\\\\n",
       "\t  885041 & Ihantola et al. 2020     & 1 & PAH & Volume & ng/cubic m & DTXSID8060614 & 2-Phenylnaphthalene & NA   \\\\\n",
       "\t  885041 & Ihantola et al. 2020     & 2 & PAH & Volume & ng/cubic m & DTXSID8060614 & 2-Phenylnaphthalene & NA   \\\\\n",
       "\t  993956 & Ihantola et al. 2022     & 1 & PAH & Volume & ng/cubic m & DTXSID8060614 & 2-Phenylnaphthalene & NA   \\\\\n",
       "\t 1263484 & Leese et al. 1989        & 1 & PAH & Volume & ng/cubic m & DTXSID8060614 & 2-Phenylnaphthalene & NA   \\\\\n",
       "\t 1263484 & Leese et al. 1989        & 2 & PAH & Volume & ng/cubic m & DTXSID8060614 & 2-Phenylnaphthalene & NA   \\\\\n",
       "\t  271703 & Mumford 1989             & 1 & PAH & Volume & ng/cubic m & DTXSID8060614 & 2-Phenylnaphthalene & NA   \\\\\n",
       "\t 1063102 & Nielsen et al. 1992      & 1 & PAH & Volume & ng/cubic m & DTXSID8060614 & 2-Phenylnaphthalene & NA   \\\\\n",
       "\t 1063102 & Nielsen et al. 1992      & 2 & PAH & Volume & ng/cubic m & DTXSID8060614 & 2-Phenylnaphthalene & NA   \\\\\n",
       "\t 1063102 & Nielsen et al. 1992      & 3 & PAH & Volume & ng/cubic m & DTXSID8060614 & 2-Phenylnaphthalene & NA   \\\\\n",
       "\t 1063102 & Nielsen et al. 1992      & 4 & PAH & Volume & ng/cubic m & DTXSID8060614 & 2-Phenylnaphthalene & NA   \\\\\n",
       "\t 1063102 & Nielsen et al. 1992      & 5 & PAH & Volume & ng/cubic m & DTXSID8060614 & 2-Phenylnaphthalene & NA   \\\\\n",
       "\t 1063102 & Nielsen et al. 1992      & 6 & PAH & Volume & ng/cubic m & DTXSID8060614 & 2-Phenylnaphthalene & NA   \\\\\n",
       "\t 1063102 & Nielsen et al. 1992      & 7 & PAH & Volume & ng/cubic m & DTXSID8060614 & 2-Phenylnaphthalene & NA   \\\\\n",
       "\t 1063102 & Nielsen et al. 1992      & 8 & PAH & Volume & ng/cubic m & DTXSID8060614 & 2-Phenylnaphthalene & NA   \\\\\n",
       "\t  429445 & Rajput 2010              & 1 & PAH & Volume & ng/cubic m & DTXSID8060614 & 2-Phenylnaphthalene & NA   \\\\\n",
       "\t 1102875 & Sada-Ovalle et al. 2018  & 1 & PAH & Volume & ng/cubic m & DTXSID8060614 & 2-Phenylnaphthalene & NA   \\\\\n",
       "\t  266980 & Stockfelt et al. 2012    & 1 & PAH & Volume & ng/cubic m & DTXSID8060614 & 2-Phenylnaphthalene & NA   \\\\\n",
       "\t  266980 & Stockfelt et al. 2012    & 2 & PAH & Volume & ng/cubic m & DTXSID8060614 & 2-Phenylnaphthalene & NA   \\\\\n",
       "\t  267140 & Alfheim and Ramdahl 1984 & 1 & PAH & Volume & ng/cubic m & DTXSID8060614 & 2-Phenylnaphthalene & NA   \\\\\n",
       "\t 1263480 & Burnet et al. 1990       & 1 & PAH & Volume & ng/cubic m & DTXSID8060614 & 2-Phenylnaphthalene & NA   \\\\\n",
       "\t 1263480 & Burnet et al. 1990       & 2 & PAH & Volume & ng/cubic m & DTXSID8060614 & 2-Phenylnaphthalene & NA   \\\\\n",
       "\t 1263480 & Burnet et al. 1990       & 3 & PAH & Volume & ng/cubic m & DTXSID8060614 & 2-Phenylnaphthalene & NA   \\\\\n",
       "\\end{tabular}\n"
      ],
      "text/markdown": [
       "\n",
       "A data.frame: 27 × 9\n",
       "\n",
       "| HAWC.ID &lt;dbl&gt; | Study &lt;chr&gt; | Sample_Number &lt;dbl&gt; | Chemical_Class &lt;chr&gt; | Metric &lt;chr&gt; | Units &lt;chr&gt; | DTXSID &lt;chr&gt; | Name &lt;chr&gt; | Value &lt;chr&gt; |\n",
       "|---|---|---|---|---|---|---|---|---|\n",
       "|  821855 | Erlandsson et al. 2020   | 1 | PAH | Weight | mg/kg      | DTXSID8060614 | 2-Phenylnaphthalene | 11.6  |\n",
       "|  821855 | Erlandsson et al. 2020   | 2 | PAH | Weight | mg/kg      | DTXSID8060614 | 2-Phenylnaphthalene | 12.2  |\n",
       "| 1257056 | McCarrick et al. 2024    | 1 | PAH | Weight | mg/kg      | DTXSID0025654 | 2-Phenylnaphthalene | 18.63 |\n",
       "|  267091 | Forchhammer et al. 2012  | 1 | PAH | Volume | ng/cubic m | DTXSID8060614 | 2-Phenylnaphthalene | NA    |\n",
       "|  267091 | Forchhammer et al. 2012  | 2 | PAH | Volume | ng/cubic m | DTXSID8060614 | 2-Phenylnaphthalene | NA    |\n",
       "|  885041 | Ihantola et al. 2020     | 1 | PAH | Volume | ng/cubic m | DTXSID8060614 | 2-Phenylnaphthalene | NA    |\n",
       "|  885041 | Ihantola et al. 2020     | 2 | PAH | Volume | ng/cubic m | DTXSID8060614 | 2-Phenylnaphthalene | NA    |\n",
       "|  993956 | Ihantola et al. 2022     | 1 | PAH | Volume | ng/cubic m | DTXSID8060614 | 2-Phenylnaphthalene | NA    |\n",
       "| 1263484 | Leese et al. 1989        | 1 | PAH | Volume | ng/cubic m | DTXSID8060614 | 2-Phenylnaphthalene | NA    |\n",
       "| 1263484 | Leese et al. 1989        | 2 | PAH | Volume | ng/cubic m | DTXSID8060614 | 2-Phenylnaphthalene | NA    |\n",
       "|  271703 | Mumford 1989             | 1 | PAH | Volume | ng/cubic m | DTXSID8060614 | 2-Phenylnaphthalene | NA    |\n",
       "| 1063102 | Nielsen et al. 1992      | 1 | PAH | Volume | ng/cubic m | DTXSID8060614 | 2-Phenylnaphthalene | NA    |\n",
       "| 1063102 | Nielsen et al. 1992      | 2 | PAH | Volume | ng/cubic m | DTXSID8060614 | 2-Phenylnaphthalene | NA    |\n",
       "| 1063102 | Nielsen et al. 1992      | 3 | PAH | Volume | ng/cubic m | DTXSID8060614 | 2-Phenylnaphthalene | NA    |\n",
       "| 1063102 | Nielsen et al. 1992      | 4 | PAH | Volume | ng/cubic m | DTXSID8060614 | 2-Phenylnaphthalene | NA    |\n",
       "| 1063102 | Nielsen et al. 1992      | 5 | PAH | Volume | ng/cubic m | DTXSID8060614 | 2-Phenylnaphthalene | NA    |\n",
       "| 1063102 | Nielsen et al. 1992      | 6 | PAH | Volume | ng/cubic m | DTXSID8060614 | 2-Phenylnaphthalene | NA    |\n",
       "| 1063102 | Nielsen et al. 1992      | 7 | PAH | Volume | ng/cubic m | DTXSID8060614 | 2-Phenylnaphthalene | NA    |\n",
       "| 1063102 | Nielsen et al. 1992      | 8 | PAH | Volume | ng/cubic m | DTXSID8060614 | 2-Phenylnaphthalene | NA    |\n",
       "|  429445 | Rajput 2010              | 1 | PAH | Volume | ng/cubic m | DTXSID8060614 | 2-Phenylnaphthalene | NA    |\n",
       "| 1102875 | Sada-Ovalle et al. 2018  | 1 | PAH | Volume | ng/cubic m | DTXSID8060614 | 2-Phenylnaphthalene | NA    |\n",
       "|  266980 | Stockfelt et al. 2012    | 1 | PAH | Volume | ng/cubic m | DTXSID8060614 | 2-Phenylnaphthalene | NA    |\n",
       "|  266980 | Stockfelt et al. 2012    | 2 | PAH | Volume | ng/cubic m | DTXSID8060614 | 2-Phenylnaphthalene | NA    |\n",
       "|  267140 | Alfheim and Ramdahl 1984 | 1 | PAH | Volume | ng/cubic m | DTXSID8060614 | 2-Phenylnaphthalene | NA    |\n",
       "| 1263480 | Burnet et al. 1990       | 1 | PAH | Volume | ng/cubic m | DTXSID8060614 | 2-Phenylnaphthalene | NA    |\n",
       "| 1263480 | Burnet et al. 1990       | 2 | PAH | Volume | ng/cubic m | DTXSID8060614 | 2-Phenylnaphthalene | NA    |\n",
       "| 1263480 | Burnet et al. 1990       | 3 | PAH | Volume | ng/cubic m | DTXSID8060614 | 2-Phenylnaphthalene | NA    |\n",
       "\n"
      ],
      "text/plain": [
       "   HAWC.ID Study                    Sample_Number Chemical_Class Metric\n",
       "1   821855 Erlandsson et al. 2020   1             PAH            Weight\n",
       "2   821855 Erlandsson et al. 2020   2             PAH            Weight\n",
       "3  1257056 McCarrick et al. 2024    1             PAH            Weight\n",
       "4   267091 Forchhammer et al. 2012  1             PAH            Volume\n",
       "5   267091 Forchhammer et al. 2012  2             PAH            Volume\n",
       "6   885041 Ihantola et al. 2020     1             PAH            Volume\n",
       "7   885041 Ihantola et al. 2020     2             PAH            Volume\n",
       "8   993956 Ihantola et al. 2022     1             PAH            Volume\n",
       "9  1263484 Leese et al. 1989        1             PAH            Volume\n",
       "10 1263484 Leese et al. 1989        2             PAH            Volume\n",
       "11  271703 Mumford 1989             1             PAH            Volume\n",
       "12 1063102 Nielsen et al. 1992      1             PAH            Volume\n",
       "13 1063102 Nielsen et al. 1992      2             PAH            Volume\n",
       "14 1063102 Nielsen et al. 1992      3             PAH            Volume\n",
       "15 1063102 Nielsen et al. 1992      4             PAH            Volume\n",
       "16 1063102 Nielsen et al. 1992      5             PAH            Volume\n",
       "17 1063102 Nielsen et al. 1992      6             PAH            Volume\n",
       "18 1063102 Nielsen et al. 1992      7             PAH            Volume\n",
       "19 1063102 Nielsen et al. 1992      8             PAH            Volume\n",
       "20  429445 Rajput 2010              1             PAH            Volume\n",
       "21 1102875 Sada-Ovalle et al. 2018  1             PAH            Volume\n",
       "22  266980 Stockfelt et al. 2012    1             PAH            Volume\n",
       "23  266980 Stockfelt et al. 2012    2             PAH            Volume\n",
       "24  267140 Alfheim and Ramdahl 1984 1             PAH            Volume\n",
       "25 1263480 Burnet et al. 1990       1             PAH            Volume\n",
       "26 1263480 Burnet et al. 1990       2             PAH            Volume\n",
       "27 1263480 Burnet et al. 1990       3             PAH            Volume\n",
       "   Units      DTXSID        Name                Value\n",
       "1  mg/kg      DTXSID8060614 2-Phenylnaphthalene 11.6 \n",
       "2  mg/kg      DTXSID8060614 2-Phenylnaphthalene 12.2 \n",
       "3  mg/kg      DTXSID0025654 2-Phenylnaphthalene 18.63\n",
       "4  ng/cubic m DTXSID8060614 2-Phenylnaphthalene NA   \n",
       "5  ng/cubic m DTXSID8060614 2-Phenylnaphthalene NA   \n",
       "6  ng/cubic m DTXSID8060614 2-Phenylnaphthalene NA   \n",
       "7  ng/cubic m DTXSID8060614 2-Phenylnaphthalene NA   \n",
       "8  ng/cubic m DTXSID8060614 2-Phenylnaphthalene NA   \n",
       "9  ng/cubic m DTXSID8060614 2-Phenylnaphthalene NA   \n",
       "10 ng/cubic m DTXSID8060614 2-Phenylnaphthalene NA   \n",
       "11 ng/cubic m DTXSID8060614 2-Phenylnaphthalene NA   \n",
       "12 ng/cubic m DTXSID8060614 2-Phenylnaphthalene NA   \n",
       "13 ng/cubic m DTXSID8060614 2-Phenylnaphthalene NA   \n",
       "14 ng/cubic m DTXSID8060614 2-Phenylnaphthalene NA   \n",
       "15 ng/cubic m DTXSID8060614 2-Phenylnaphthalene NA   \n",
       "16 ng/cubic m DTXSID8060614 2-Phenylnaphthalene NA   \n",
       "17 ng/cubic m DTXSID8060614 2-Phenylnaphthalene NA   \n",
       "18 ng/cubic m DTXSID8060614 2-Phenylnaphthalene NA   \n",
       "19 ng/cubic m DTXSID8060614 2-Phenylnaphthalene NA   \n",
       "20 ng/cubic m DTXSID8060614 2-Phenylnaphthalene NA   \n",
       "21 ng/cubic m DTXSID8060614 2-Phenylnaphthalene NA   \n",
       "22 ng/cubic m DTXSID8060614 2-Phenylnaphthalene NA   \n",
       "23 ng/cubic m DTXSID8060614 2-Phenylnaphthalene NA   \n",
       "24 ng/cubic m DTXSID8060614 2-Phenylnaphthalene NA   \n",
       "25 ng/cubic m DTXSID8060614 2-Phenylnaphthalene NA   \n",
       "26 ng/cubic m DTXSID8060614 2-Phenylnaphthalene NA   \n",
       "27 ng/cubic m DTXSID8060614 2-Phenylnaphthalene NA   "
      ]
     },
     "metadata": {},
     "output_type": "display_data"
    }
   ],
   "source": [
    "ws_df %>%\n",
    "    filter(Name == \"2-Phenylnaphthalene\" & DTXSID)"
   ]
  },
  {
   "cell_type": "code",
   "execution_count": null,
   "id": "e35ef62a-88c5-487c-a53e-c1fa611f2f48",
   "metadata": {},
   "outputs": [],
   "source": []
  }
 ],
 "metadata": {
  "kernelspec": {
   "display_name": "R",
   "language": "R",
   "name": "ir"
  },
  "language_info": {
   "codemirror_mode": "r",
   "file_extension": ".r",
   "mimetype": "text/x-r-source",
   "name": "R",
   "pygments_lexer": "r",
   "version": "4.3.1"
  }
 },
 "nbformat": 4,
 "nbformat_minor": 5
}
